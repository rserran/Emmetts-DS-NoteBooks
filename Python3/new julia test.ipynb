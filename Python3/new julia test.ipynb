{
 "cells": [
  {
   "cell_type": "code",
   "execution_count": 7,
   "metadata": {},
   "outputs": [],
   "source": [
    "import julia\n",
    "from julia import Pkg"
   ]
  },
  {
   "cell_type": "code",
   "execution_count": 66,
   "metadata": {},
   "outputs": [],
   "source": [
    "import random as rand"
   ]
  },
  {
   "cell_type": "code",
   "execution_count": 8,
   "metadata": {},
   "outputs": [],
   "source": [
    "julia.install()"
   ]
  },
  {
   "cell_type": "code",
   "execution_count": 12,
   "metadata": {},
   "outputs": [],
   "source": [
    "class Environment:\n",
    "    envname = \"env\"\n",
    "    jl = julia.Julia()\n",
    "    pacman = Pkg\n",
    "    def __init__(self,envname):\n",
    "        \"\"\"The initialization Function loads a virtual environment.\"\"\"\n",
    "        print(\"Loading Package Manager\")\n",
    "        self.pacman = Pkg\n",
    "        print(\"Pkg loaded\")\n",
    "        if envname != \"Global\":\n",
    "            self.envname = envname\n",
    "            self.pacman.activate(envname)\n",
    "            print(\"Activated Package Environment: \" + envname)\n",
    "            print(\"Environment available at: /\" + envname)\n",
    "    def add(self, pack):\n",
    "        \"\"\"Adds a package\"\"\"\n",
    "        self.pacman.add(pack)\n",
    "    def using(self,packagename):\n",
    "        \"\"\"Imports and returns a package\"\"\"\n",
    "        impstring = \"from julia import \" + str(packagename)\n",
    "        exec(impstring)\n",
    "        grabstring = str(packagename)\n",
    "        w = eval(grabstring)\n",
    "        return(w)\n",
    "    def switch(self,envname):\n",
    "        \"\"\"Allows you to quickly switch environments\"\"\"\n",
    "        self.pacman.activate(envname)\n",
    "        print(\"Environment created at /\" + envname)\n",
    "    def list(self):\n",
    "        \"\"\"Lists the current packages inside of this environment\"\"\"\n",
    "        return(Pkg.installed())\n",
    "    def remove(self,packagename):\n",
    "        \"\"\"Removes a given package from the environment.\"\"\"\n",
    "        self.pacman.rm(packagename)\n",
    "        print(\"Package \" + packagename + \" Has been successfully removed.\")\n",
    "    def build(self,packagename):\n",
    "        self.pacman.build(packagename)\n",
    "    def update(self):\n",
    "        self.pacman.update()\n",
    "    def instantiate(self):\n",
    "        self.pacman.instantiate()\n",
    "    def test(self,packagename):\n",
    "        self.pacman.test(packagename)\n",
    "    def resolve(self):\n",
    "        self.pacman.resolve()\n",
    "    def include(self,filepath):\n",
    "        self.jl.include(filepath)\n",
    "        print(\"You will now be able to add your file with Environment.add()\")"
   ]
  },
  {
   "cell_type": "code",
   "execution_count": 29,
   "metadata": {},
   "outputs": [
    {
     "name": "stdout",
     "output_type": "stream",
     "text": [
      "Loading Package Manager\n",
      "Pkg loaded\n",
      "Activated Package Environment: JuliaTest\n",
      "Environment available at: /JuliaTest\n"
     ]
    }
   ],
   "source": [
    "newenv = Environment(\"JuliaTest\")"
   ]
  },
  {
   "cell_type": "code",
   "execution_count": 30,
   "metadata": {},
   "outputs": [],
   "source": [
    "newenv.pacman.develop(path = \"./SimpleReg\")"
   ]
  },
  {
   "cell_type": "code",
   "execution_count": 53,
   "metadata": {},
   "outputs": [],
   "source": [
    "def mult(x : list, y : list):\n",
    "    return([i * w for (i, w) in zip(x, y)])"
   ]
  },
  {
   "cell_type": "code",
   "execution_count": 56,
   "metadata": {},
   "outputs": [],
   "source": [
    "def linreg(x : list, y : list):\n",
    "    sx = sum(x)\n",
    "    sy = sum(y)\n",
    "    xy = mult(x, y)\n",
    "    sxy = sum(xy)\n",
    "    x2 = mult(x, x)\n",
    "    sx2 = sum(x2)\n",
    "    n = len(x)\n",
    "    a = (((sy) * (sx2)) - ((sx * (sxy)))) / ((n * (sx2))-(sx^2))\n",
    "    b = ((n*(sxy)) - (sx * sy)) / ((n * (sx2)) - (sx ^ 2))\n",
    "    return([a + (b * i) for i in x])"
   ]
  },
  {
   "cell_type": "code",
   "execution_count": 58,
   "metadata": {},
   "outputs": [],
   "source": [
    "x = [5, 10]\n",
    "y = [5, 10]"
   ]
  },
  {
   "cell_type": "code",
   "execution_count": 52,
   "metadata": {},
   "outputs": [
    {
     "data": {
      "text/plain": [
       "[25, 100]"
      ]
     },
     "execution_count": 52,
     "metadata": {},
     "output_type": "execute_result"
    }
   ],
   "source": [
    "[i * w for (i, w) in zip(x, y)]"
   ]
  },
  {
   "cell_type": "code",
   "execution_count": 61,
   "metadata": {},
   "outputs": [],
   "source": [
    "sreg = newenv.using(\"SimpleReg\")"
   ]
  },
  {
   "cell_type": "code",
   "execution_count": 64,
   "metadata": {},
   "outputs": [
    {
     "data": {
      "text/plain": [
       "[0.5274261603375527, 1.0548523206751055]"
      ]
     },
     "execution_count": 64,
     "metadata": {},
     "output_type": "execute_result"
    }
   ],
   "source": [
    "linreg(x, y)"
   ]
  },
  {
   "cell_type": "code",
   "execution_count": 63,
   "metadata": {},
   "outputs": [
    {
     "data": {
      "text/plain": [
       "array([ 5., 10.])"
      ]
     },
     "execution_count": 63,
     "metadata": {},
     "output_type": "execute_result"
    }
   ],
   "source": [
    "sreg.linreg(x, y)"
   ]
  },
  {
   "cell_type": "code",
   "execution_count": 71,
   "metadata": {},
   "outputs": [],
   "source": [
    "x = [rand.randint(1, 100) for _ in range(1, 70000)]"
   ]
  },
  {
   "cell_type": "code",
   "execution_count": 72,
   "metadata": {},
   "outputs": [],
   "source": [
    "y = [rand.randint(1, 100) for _ in range(1, 70000)]"
   ]
  },
  {
   "cell_type": "code",
   "execution_count": 73,
   "metadata": {},
   "outputs": [
    {
     "name": "stdout",
     "output_type": "stream",
     "text": [
      "18.4 ms ± 720 µs per loop (mean ± std. dev. of 7 runs, 100 loops each)\n"
     ]
    }
   ],
   "source": [
    "%timeit linreg(x, y)"
   ]
  },
  {
   "cell_type": "code",
   "execution_count": 74,
   "metadata": {},
   "outputs": [
    {
     "name": "stdout",
     "output_type": "stream",
     "text": [
      "86.3 ms ± 3.66 ms per loop (mean ± std. dev. of 7 runs, 10 loops each)\n"
     ]
    }
   ],
   "source": [
    "%timeit sreg.linreg(x, y)"
   ]
  },
  {
   "cell_type": "code",
   "execution_count": null,
   "metadata": {},
   "outputs": [],
   "source": []
  }
 ],
 "metadata": {
  "kernelspec": {
   "display_name": "Python 3",
   "language": "python",
   "name": "python3"
  },
  "language_info": {
   "codemirror_mode": {
    "name": "ipython",
    "version": 3
   },
   "file_extension": ".py",
   "mimetype": "text/x-python",
   "name": "python",
   "nbconvert_exporter": "python",
   "pygments_lexer": "ipython3",
   "version": "3.9.13"
  }
 },
 "nbformat": 4,
 "nbformat_minor": 4
}
