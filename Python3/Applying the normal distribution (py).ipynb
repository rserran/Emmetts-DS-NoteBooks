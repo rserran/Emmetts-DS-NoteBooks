{
 "cells": [
  {
   "cell_type": "code",
   "execution_count": 2,
   "id": "76682ff5",
   "metadata": {},
   "outputs": [],
   "source": [
    "import math as mt"
   ]
  },
  {
   "cell_type": "code",
   "execution_count": 7,
   "id": "2203dde2",
   "metadata": {},
   "outputs": [],
   "source": [
    "def mean(x : int):\n",
    "    return(sum(x) / len(x))"
   ]
  },
  {
   "cell_type": "code",
   "execution_count": 8,
   "id": "65b2c45f",
   "metadata": {},
   "outputs": [],
   "source": [
    "def std(arr : list):\n",
    "    m = mean(arr)\n",
    "    arr2 = [(i-m) ** 2 for i in arr]\n",
    "    m = mean(arr2)\n",
    "    m = mt.sqrt(m)\n",
    "    return(m)"
   ]
  },
  {
   "cell_type": "code",
   "execution_count": 9,
   "id": "36c66ef5",
   "metadata": {},
   "outputs": [
    {
     "data": {
      "text/plain": [
       "2.5"
      ]
     },
     "execution_count": 9,
     "metadata": {},
     "output_type": "execute_result"
    }
   ],
   "source": [
    "std([5, 10])"
   ]
  },
  {
   "cell_type": "code",
   "execution_count": 10,
   "id": "7395fcd7",
   "metadata": {},
   "outputs": [],
   "source": [
    "def norm(x : list):\n",
    "    mu = mean(x)\n",
    "    sigma = std(x)\n",
    "    return([(xbar - mu) / sigma for xbar in x])"
   ]
  },
  {
   "cell_type": "code",
   "execution_count": 12,
   "id": "e1272f35",
   "metadata": {},
   "outputs": [
    {
     "data": {
      "text/plain": [
       "[-1.224744871391589, 0.0, 1.224744871391589]"
      ]
     },
     "execution_count": 12,
     "metadata": {},
     "output_type": "execute_result"
    }
   ],
   "source": [
    "norm([5, 10, 15])"
   ]
  },
  {
   "cell_type": "code",
   "execution_count": 18,
   "id": "bc5b4c55",
   "metadata": {},
   "outputs": [],
   "source": [
    "mu = mean([5, 10, 15])"
   ]
  },
  {
   "cell_type": "code",
   "execution_count": 19,
   "id": "4cb10947",
   "metadata": {},
   "outputs": [],
   "source": [
    "sigma = std([5, 10, 15])"
   ]
  },
  {
   "cell_type": "code",
   "execution_count": 20,
   "id": "c69e5a0c",
   "metadata": {},
   "outputs": [
    {
     "data": {
      "text/plain": [
       "2.449489742783178"
      ]
     },
     "execution_count": 20,
     "metadata": {},
     "output_type": "execute_result"
    }
   ],
   "source": [
    "(20 - mu) / sigma"
   ]
  },
  {
   "cell_type": "code",
   "execution_count": 42,
   "id": "444072a0",
   "metadata": {},
   "outputs": [],
   "source": [
    "def drop_outls(vec : list):\n",
    "    mu = mean(vec)\n",
    "    normed = norm(vec)\n",
    "    mask = [x <= -2 or x >= 2 for x in normed]\n",
    "    ret = []\n",
    "    for e in range(1, len(mask)):\n",
    "        if mask[e] == False:\n",
    "            ret.append(vec[e])\n",
    "        else:\n",
    "            ret.append(mu)\n",
    "    return(ret)"
   ]
  },
  {
   "cell_type": "code",
   "execution_count": 44,
   "id": "a56c6f6e",
   "metadata": {},
   "outputs": [
    {
     "name": "stdout",
     "output_type": "stream",
     "text": [
      "[False, False, False, False, False, False, False, False, False, False, True]\n"
     ]
    },
    {
     "data": {
      "text/plain": [
       "[10, 15, 20, 25, 30, 35, 40, 45, 50, 43.18181818181818]"
      ]
     },
     "execution_count": 44,
     "metadata": {},
     "output_type": "execute_result"
    }
   ],
   "source": [
    "drop_outls([5, 10, 15, 20, 25, 30, 35, 40, 45, 50, 200])"
   ]
  },
  {
   "cell_type": "code",
   "execution_count": 17,
   "id": "a0bf4467",
   "metadata": {},
   "outputs": [],
   "source": [
    "x = [1, 2, 3, 4, 5]\n",
    "normedx = norm(x)"
   ]
  },
  {
   "cell_type": "code",
   "execution_count": 21,
   "id": "63c178bf",
   "metadata": {},
   "outputs": [
    {
     "data": {
      "text/plain": [
       "True"
      ]
     },
     "execution_count": 21,
     "metadata": {},
     "output_type": "execute_result"
    }
   ],
   "source": [
    "2 == 2"
   ]
  },
  {
   "cell_type": "code",
   "execution_count": null,
   "id": "d8469c70",
   "metadata": {},
   "outputs": [],
   "source": []
  }
 ],
 "metadata": {
  "kernelspec": {
   "display_name": "Python 3 (ipykernel)",
   "language": "python",
   "name": "python3"
  },
  "language_info": {
   "codemirror_mode": {
    "name": "ipython",
    "version": 3
   },
   "file_extension": ".py",
   "mimetype": "text/x-python",
   "name": "python",
   "nbconvert_exporter": "python",
   "pygments_lexer": "ipython3",
   "version": "3.10.6"
  }
 },
 "nbformat": 4,
 "nbformat_minor": 5
}
