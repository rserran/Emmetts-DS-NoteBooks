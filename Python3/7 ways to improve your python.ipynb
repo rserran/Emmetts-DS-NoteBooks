{
 "cells": [
  {
   "cell_type": "code",
   "execution_count": 1,
   "id": "75ab9f51-5ef9-45bf-b438-a09b03200d7c",
   "metadata": {},
   "outputs": [],
   "source": [
    "class Car:\n",
    "    def __init__(self, name, color : str):\n",
    "        self.name = name\n",
    "        self.color = color\n",
    "    def honk(self):\n",
    "        print(self.name + \" has just honked at us in their \" + self.color + \" car\")"
   ]
  },
  {
   "cell_type": "code",
   "execution_count": 2,
   "id": "a732d8ac-1166-4b7d-87fb-d67a6d04b315",
   "metadata": {},
   "outputs": [],
   "source": [
    "mycar = Car(\"the mystery machine\", \"green, flower-covered\")"
   ]
  },
  {
   "cell_type": "code",
   "execution_count": 3,
   "id": "75d3b7de-241e-4f10-8f62-368f3f3304fe",
   "metadata": {},
   "outputs": [
    {
     "name": "stdout",
     "output_type": "stream",
     "text": [
      "the mystery machine has just honked at us in their green, flower-covered car\n"
     ]
    }
   ],
   "source": [
    "mycar.honk()"
   ]
  },
  {
   "cell_type": "code",
   "execution_count": 4,
   "id": "c1862a1b-44c1-461c-809e-e831aa43b0e9",
   "metadata": {},
   "outputs": [],
   "source": [
    "class Truck(Car):\n",
    "    def honk(self):\n",
    "        print(self.name + \" has just honked at us in their \" + self.color + \" truck\")"
   ]
  },
  {
   "cell_type": "code",
   "execution_count": 5,
   "id": "d264c7d9-3664-4d91-9dd9-a01253802017",
   "metadata": {},
   "outputs": [],
   "source": [
    "mytruck = Truck(\"my large truck\", \"red\")"
   ]
  },
  {
   "cell_type": "code",
   "execution_count": 6,
   "id": "b7100eca-a8ff-4a73-afb6-0fe8a425c66d",
   "metadata": {},
   "outputs": [
    {
     "name": "stdout",
     "output_type": "stream",
     "text": [
      "my large truck has just honked at us in their red truck\n"
     ]
    }
   ],
   "source": [
    "mytruck.honk()"
   ]
  },
  {
   "cell_type": "code",
   "execution_count": 7,
   "id": "83e809e0-604a-40f3-b400-f0291e7b88bd",
   "metadata": {},
   "outputs": [],
   "source": [
    "class Sedan(Car):\n",
    "    pass"
   ]
  },
  {
   "cell_type": "code",
   "execution_count": 8,
   "id": "d8de9f31-0271-4c4a-923e-d54cd0cb8ab5",
   "metadata": {},
   "outputs": [],
   "source": [
    "mysedan = Sedan(\"kid-mobile\", \"blue\")"
   ]
  },
  {
   "cell_type": "code",
   "execution_count": 9,
   "id": "87865b4f-10b4-497f-ad8d-b7233863f085",
   "metadata": {},
   "outputs": [
    {
     "name": "stdout",
     "output_type": "stream",
     "text": [
      "kid-mobile has just honked at us in their blue car\n"
     ]
    }
   ],
   "source": [
    "mysedan.honk()"
   ]
  },
  {
   "cell_type": "code",
   "execution_count": 10,
   "id": "d2a19473-a5dd-4329-bc23-2b087ebafa37",
   "metadata": {},
   "outputs": [],
   "source": [
    "values = []\n",
    "for x in range(1, 30):\n",
    "    values.append(x ** 2)"
   ]
  },
  {
   "cell_type": "code",
   "execution_count": 11,
   "id": "47820d73-52b5-4cbc-b022-97482268f93f",
   "metadata": {},
   "outputs": [
    {
     "data": {
      "text/plain": [
       "[1,\n",
       " 4,\n",
       " 9,\n",
       " 16,\n",
       " 25,\n",
       " 36,\n",
       " 49,\n",
       " 64,\n",
       " 81,\n",
       " 100,\n",
       " 121,\n",
       " 144,\n",
       " 169,\n",
       " 196,\n",
       " 225,\n",
       " 256,\n",
       " 289,\n",
       " 324,\n",
       " 361,\n",
       " 400,\n",
       " 441,\n",
       " 484,\n",
       " 529,\n",
       " 576,\n",
       " 625,\n",
       " 676,\n",
       " 729,\n",
       " 784,\n",
       " 841]"
      ]
     },
     "execution_count": 11,
     "metadata": {},
     "output_type": "execute_result"
    }
   ],
   "source": [
    "values"
   ]
  },
  {
   "cell_type": "code",
   "execution_count": 28,
   "id": "a6b24743-a481-4629-a737-a9136f467116",
   "metadata": {},
   "outputs": [],
   "source": [
    "values = [x ** 2 for x in range(1, 30)]"
   ]
  },
  {
   "cell_type": "code",
   "execution_count": 29,
   "id": "697875ef-dd08-4204-b0b8-5f16b1a535ac",
   "metadata": {},
   "outputs": [
    {
     "data": {
      "text/plain": [
       "[1,\n",
       " 4,\n",
       " 9,\n",
       " 16,\n",
       " 25,\n",
       " 36,\n",
       " 49,\n",
       " 64,\n",
       " 81,\n",
       " 100,\n",
       " 121,\n",
       " 144,\n",
       " 169,\n",
       " 196,\n",
       " 225,\n",
       " 256,\n",
       " 289,\n",
       " 324,\n",
       " 361,\n",
       " 400,\n",
       " 441,\n",
       " 484,\n",
       " 529,\n",
       " 576,\n",
       " 625,\n",
       " 676,\n",
       " 729,\n",
       " 784,\n",
       " 841]"
      ]
     },
     "execution_count": 29,
     "metadata": {},
     "output_type": "execute_result"
    }
   ],
   "source": [
    "values"
   ]
  },
  {
   "cell_type": "code",
   "execution_count": 38,
   "id": "adefd7e3-6c3f-458a-bd24-5e67d63170cd",
   "metadata": {},
   "outputs": [],
   "source": [
    "f = lambda x: x + 5"
   ]
  },
  {
   "cell_type": "code",
   "execution_count": 39,
   "id": "a197b1cf-a6e9-4326-96b9-694ba4286164",
   "metadata": {},
   "outputs": [
    {
     "data": {
      "text/plain": [
       "10"
      ]
     },
     "execution_count": 39,
     "metadata": {},
     "output_type": "execute_result"
    }
   ],
   "source": [
    "f(5)"
   ]
  },
  {
   "cell_type": "code",
   "execution_count": null,
   "id": "291251ba-2489-4f58-963a-3b8704d56905",
   "metadata": {},
   "outputs": [],
   "source": [
    "f = lambda x: x ** 2"
   ]
  },
  {
   "cell_type": "code",
   "execution_count": 40,
   "id": "d281274b-ccec-4ac6-b9da-4b34d3e40043",
   "metadata": {},
   "outputs": [],
   "source": [
    "m = map(f, values)"
   ]
  },
  {
   "cell_type": "code",
   "execution_count": 41,
   "id": "00cc84a4-daf2-4eb4-bcba-9437758836bd",
   "metadata": {},
   "outputs": [
    {
     "data": {
      "text/plain": [
       "<map at 0x7fd2e1bc92a0>"
      ]
     },
     "execution_count": 41,
     "metadata": {},
     "output_type": "execute_result"
    }
   ],
   "source": [
    "m"
   ]
  },
  {
   "cell_type": "code",
   "execution_count": 44,
   "id": "410054c5-5485-4f48-98cb-f8073d45c0a1",
   "metadata": {},
   "outputs": [],
   "source": [
    "squared = list(m)"
   ]
  },
  {
   "cell_type": "code",
   "execution_count": 46,
   "id": "8cca54d8-5ab2-46c8-8a7b-9317176f6fdb",
   "metadata": {},
   "outputs": [
    {
     "data": {
      "text/plain": [
       "[6,\n",
       " 9,\n",
       " 14,\n",
       " 21,\n",
       " 30,\n",
       " 41,\n",
       " 54,\n",
       " 69,\n",
       " 86,\n",
       " 105,\n",
       " 126,\n",
       " 149,\n",
       " 174,\n",
       " 201,\n",
       " 230,\n",
       " 261,\n",
       " 294,\n",
       " 329,\n",
       " 366,\n",
       " 405,\n",
       " 446,\n",
       " 489,\n",
       " 534,\n",
       " 581,\n",
       " 630,\n",
       " 681,\n",
       " 734,\n",
       " 789,\n",
       " 846]"
      ]
     },
     "execution_count": 46,
     "metadata": {},
     "output_type": "execute_result"
    }
   ],
   "source": [
    "squared"
   ]
  },
  {
   "cell_type": "code",
   "execution_count": 48,
   "id": "965c703a-fe09-4942-bb86-6d427ee3a25d",
   "metadata": {},
   "outputs": [],
   "source": [
    "def quiz_user():\n",
    "    correct = []\n",
    "    print(\"what is your name\")\n",
    "    x = input()\n",
    "    print(\"hi \" + x)\n",
    "    print(\"what is 2 + 2\")\n",
    "    answer = input()\n",
    "    if answer == \"4\":\n",
    "        print(\"correct\")\n",
    "        correct.append(True)\n",
    "    else:\n",
    "        print(\"wrong.\")\n",
    "        correct.append(False)\n",
    "    print(\"what color is the sky?\")\n",
    "    answer = input()\n",
    "    if answer == \"blue\":\n",
    "        print(\"correct\")\n",
    "        correct.append(True)\n",
    "    else:\n",
    "        print(\"wrong.\")\n",
    "        correct.append(False)\n",
    "    return(correct)\n",
    "    "
   ]
  },
  {
   "cell_type": "code",
   "execution_count": 49,
   "id": "bc5fc046-ba18-4102-ae22-f612dd5a0306",
   "metadata": {},
   "outputs": [
    {
     "name": "stdin",
     "output_type": "stream",
     "text": [
      " emmac\n"
     ]
    }
   ],
   "source": [
    "quiz_user()"
   ]
  },
  {
   "cell_type": "code",
   "execution_count": 50,
   "id": "acae61a1-8971-4515-af35-eb5ae1a700dd",
   "metadata": {},
   "outputs": [],
   "source": [
    "def ask_name():\n",
    "    print(\"what is your name\")\n",
    "    x = input()\n",
    "    print(\"hi \" + x)\n",
    "    return(x)\n",
    "\n",
    "def question1():\n",
    "    print(\"what is 2 + 2\")\n",
    "    answer = input()\n",
    "    if answer == \"4\":\n",
    "        print(\"correct\")\n",
    "        return(True)\n",
    "    else:\n",
    "        print(\"wrong.\")\n",
    "        return(False)\n",
    "        \n",
    "def question2():\n",
    "    print(\"what color is the sky?\")\n",
    "    answer = input()\n",
    "    if answer == \"blue\":\n",
    "        print(\"correct\")\n",
    "        return(True)\n",
    "    else:\n",
    "        print(\"wrong.\")\n",
    "        return(False)\n",
    "\n",
    "def quiz_user():\n",
    "    correct = []\n",
    "    ask_name()\n",
    "    correct = [f() for f in (question1, question2)]\n",
    "    return(correct)"
   ]
  },
  {
   "cell_type": "code",
   "execution_count": 51,
   "id": "62fd4da0-8487-4eaf-9bf5-cdd89d39d20e",
   "metadata": {},
   "outputs": [
    {
     "name": "stdout",
     "output_type": "stream",
     "text": [
      "what is your name\n"
     ]
    },
    {
     "name": "stdin",
     "output_type": "stream",
     "text": [
      " emma\n"
     ]
    },
    {
     "name": "stdout",
     "output_type": "stream",
     "text": [
      "hi emma\n",
      "what is 2 + 2\n"
     ]
    },
    {
     "name": "stdin",
     "output_type": "stream",
     "text": [
      " 4\n"
     ]
    },
    {
     "name": "stdout",
     "output_type": "stream",
     "text": [
      "correct\n",
      "what color is the sky?\n"
     ]
    },
    {
     "name": "stdin",
     "output_type": "stream",
     "text": [
      " blue\n"
     ]
    },
    {
     "name": "stdout",
     "output_type": "stream",
     "text": [
      "correct\n"
     ]
    },
    {
     "data": {
      "text/plain": [
       "[True, True]"
      ]
     },
     "execution_count": 51,
     "metadata": {},
     "output_type": "execute_result"
    }
   ],
   "source": [
    "quiz_user()"
   ]
  },
  {
   "cell_type": "code",
   "execution_count": 52,
   "id": "8260ae9d-4207-4211-bb10-e26565b3914b",
   "metadata": {},
   "outputs": [],
   "source": [
    "del squared"
   ]
  },
  {
   "cell_type": "code",
   "execution_count": 55,
   "id": "ba4aeb10-073b-4857-9b8d-ae07a188f371",
   "metadata": {},
   "outputs": [],
   "source": [
    "mydata = [None, None, 55, 22, 33, 44, None, 2, None, 73, 22, None, None, None, 36, \"stop here please\", 23]"
   ]
  },
  {
   "cell_type": "code",
   "execution_count": 56,
   "id": "c1227133-4056-416a-a349-4ab71edeaa9f",
   "metadata": {},
   "outputs": [],
   "source": [
    "newvalues = []\n",
    "for x in mydata:\n",
    "    if x == None:\n",
    "        continue\n",
    "    elif x == \"stop here please\":\n",
    "        break\n",
    "    newvalues.append(x)\n",
    "    "
   ]
  },
  {
   "cell_type": "code",
   "execution_count": 57,
   "id": "abb5d692-d8ff-44db-b7bd-28529d6c001e",
   "metadata": {},
   "outputs": [
    {
     "data": {
      "text/plain": [
       "[55, 22, 33, 44, 2, 73, 22, 36]"
      ]
     },
     "execution_count": 57,
     "metadata": {},
     "output_type": "execute_result"
    }
   ],
   "source": [
    "newvalues"
   ]
  },
  {
   "cell_type": "code",
   "execution_count": 72,
   "id": "bf6b16ec-2888-4c6e-9545-f8cfad549614",
   "metadata": {},
   "outputs": [],
   "source": [
    "class Pump:\n",
    "    def __init__(self):\n",
    "        self.pumping = False\n",
    "\n",
    "def activate_lights():\n",
    "    print(\"the lights are on\")\n",
    "\n",
    "\n",
    "mainvalve = Pump()\n",
    "\n",
    "def turn_on_pump():\n",
    "    mainvalve.pumping = True\n",
    "\n",
    "def turn_switch(has_power: bool):\n",
    "    if not has_power:\n",
    "        print(\"there is no power\")\n",
    "        return\n",
    "    activate_lights()\n",
    "    turn_on_pump()\n",
    "    if mainvalve.pumping == False:\n",
    "        print(\"error turning on the pump\")\n",
    "        return\n",
    "        print(\"the pump is on!\")"
   ]
  },
  {
   "cell_type": "code",
   "execution_count": 73,
   "id": "209c1f33-1f6b-4c98-93e9-a372d1fee197",
   "metadata": {},
   "outputs": [
    {
     "name": "stdout",
     "output_type": "stream",
     "text": [
      "the lights are on\n"
     ]
    }
   ],
   "source": [
    "turn_switch(True)"
   ]
  },
  {
   "cell_type": "code",
   "execution_count": null,
   "id": "eacae2ca-3925-4980-9348-79f045cb773e",
   "metadata": {},
   "outputs": [],
   "source": []
  }
 ],
 "metadata": {
  "kernelspec": {
   "display_name": "Python 3 (ipykernel)",
   "language": "python",
   "name": "python3"
  },
  "language_info": {
   "codemirror_mode": {
    "name": "ipython",
    "version": 3
   },
   "file_extension": ".py",
   "mimetype": "text/x-python",
   "name": "python",
   "nbconvert_exporter": "python",
   "pygments_lexer": "ipython3",
   "version": "3.12.2"
  }
 },
 "nbformat": 4,
 "nbformat_minor": 5
}
