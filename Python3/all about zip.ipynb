{
 "cells": [
  {
   "cell_type": "code",
   "execution_count": 3,
   "metadata": {},
   "outputs": [],
   "source": [
    "x = [5, 10, 15]\n",
    "y = [5, 10, 15, 20]\n",
    "zipper = zip(x, y)"
   ]
  },
  {
   "cell_type": "code",
   "execution_count": 4,
   "metadata": {},
   "outputs": [
    {
     "data": {
      "text/plain": [
       "zip"
      ]
     },
     "execution_count": 4,
     "metadata": {},
     "output_type": "execute_result"
    }
   ],
   "source": [
    "type(zipper)"
   ]
  },
  {
   "cell_type": "code",
   "execution_count": 5,
   "metadata": {},
   "outputs": [
    {
     "name": "stdout",
     "output_type": "stream",
     "text": [
      "5 5\n",
      "10 10\n",
      "15 15\n"
     ]
    },
    {
     "data": {
      "text/plain": [
       "[None, None, None]"
      ]
     },
     "execution_count": 5,
     "metadata": {},
     "output_type": "execute_result"
    }
   ],
   "source": [
    "[print(i, c) for i, c in zipper]"
   ]
  },
  {
   "cell_type": "code",
   "execution_count": 6,
   "metadata": {},
   "outputs": [
    {
     "name": "stdout",
     "output_type": "stream",
     "text": [
      "5 \n",
      "\n",
      "5\n",
      "10 \n",
      "\n",
      "10\n",
      "15 \n",
      "\n",
      "15\n"
     ]
    }
   ],
   "source": [
    "for i, c in zip(x, y):\n",
    "    print(i, \"\\n\")\n",
    "    print(c)"
   ]
  },
  {
   "cell_type": "code",
   "execution_count": 10,
   "metadata": {},
   "outputs": [
    {
     "name": "stdout",
     "output_type": "stream",
     "text": [
      "I:\n",
      "5\n",
      "\n",
      "\n",
      "C:\n",
      "5\n",
      "\n",
      "\n",
      "I:\n",
      "10\n",
      "\n",
      "\n",
      "C:\n",
      "10\n",
      "\n",
      "\n",
      "I:\n",
      "15\n",
      "\n",
      "\n",
      "C:\n",
      "15\n",
      "\n",
      "\n",
      "3\n",
      "4\n"
     ]
    }
   ],
   "source": []
  },
  {
   "cell_type": "code",
   "execution_count": 12,
   "metadata": {},
   "outputs": [
    {
     "name": "stdout",
     "output_type": "stream",
     "text": [
      "I:\n",
      "5\n",
      "\n",
      "\n",
      "C:\n",
      "5\n",
      "\n",
      "\n",
      "I:\n",
      "10\n",
      "\n",
      "\n",
      "C:\n",
      "10\n",
      "\n",
      "\n",
      "I:\n",
      "15\n",
      "\n",
      "\n",
      "C:\n",
      "15\n",
      "\n",
      "\n",
      "I:\n",
      "None\n",
      "\n",
      "\n",
      "C:\n",
      "20\n",
      "\n",
      "\n",
      "3\n",
      "4\n"
     ]
    }
   ],
   "source": [
    "from itertools import zip_longest\n",
    "for i, c in zip_longest(x, y):\n",
    "    print(\"I:\")\n",
    "    print(i)\n",
    "    print(\"\\n\")\n",
    "    print(\"C:\")\n",
    "    print(c)\n",
    "    print(\"\\n\")\n",
    "print(len(x))\n",
    "print(len(y))"
   ]
  },
  {
   "cell_type": "code",
   "execution_count": null,
   "metadata": {},
   "outputs": [],
   "source": []
  }
 ],
 "metadata": {
  "kernelspec": {
   "display_name": "Python 3",
   "language": "python",
   "name": "python3"
  },
  "language_info": {
   "codemirror_mode": {
    "name": "ipython",
    "version": 3
   },
   "file_extension": ".py",
   "mimetype": "text/x-python",
   "name": "python",
   "nbconvert_exporter": "python",
   "pygments_lexer": "ipython3",
   "version": "3.8.6"
  }
 },
 "nbformat": 4,
 "nbformat_minor": 4
}
