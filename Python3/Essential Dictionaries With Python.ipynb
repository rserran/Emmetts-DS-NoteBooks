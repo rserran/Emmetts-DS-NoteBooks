{
 "cells": [
  {
   "cell_type": "code",
   "execution_count": 51,
   "metadata": {},
   "outputs": [],
   "source": [
    "cities: dict = {\n",
    "    \"Detroit\": 3619342323,\n",
    "    \"Las Vegas\": 99870,\n",
    "    \"Las Angeles\": 9525067,\n",
    "    \"Boulder\": 17098246,\n",
    "    \"Atlanta\": 2780400,\n",
    "    \"Paducah\": 752612,\n",
    "    \"Tampa\": 9596961,\n",
    "}"
   ]
  },
  {
   "cell_type": "code",
   "execution_count": 52,
   "metadata": {},
   "outputs": [],
   "source": [
    "citysorted = dict(sorted(cities.items(), key = lambda kv: kv[1], reverse=False))"
   ]
  },
  {
   "cell_type": "code",
   "execution_count": 53,
   "metadata": {},
   "outputs": [
    {
     "data": {
      "text/plain": [
       "{'Las Vegas': 99870,\n",
       " 'Paducah': 752612,\n",
       " 'Atlanta': 2780400,\n",
       " 'Las Angeles': 9525067,\n",
       " 'Tampa': 9596961,\n",
       " 'Boulder': 17098246,\n",
       " 'Detroit': 3619342323}"
      ]
     },
     "execution_count": 53,
     "metadata": {},
     "output_type": "execute_result"
    }
   ],
   "source": [
    "citysorted"
   ]
  },
  {
   "cell_type": "code",
   "execution_count": 54,
   "metadata": {},
   "outputs": [],
   "source": [
    "citysorted = dict(sorted(cities.items(), key = lambda kv: kv[0], reverse=False))"
   ]
  },
  {
   "cell_type": "code",
   "execution_count": 55,
   "metadata": {},
   "outputs": [
    {
     "data": {
      "text/plain": [
       "{'Atlanta': 2780400,\n",
       " 'Boulder': 17098246,\n",
       " 'Detroit': 3619342323,\n",
       " 'Las Angeles': 9525067,\n",
       " 'Las Vegas': 99870,\n",
       " 'Paducah': 752612,\n",
       " 'Tampa': 9596961}"
      ]
     },
     "execution_count": 55,
     "metadata": {},
     "output_type": "execute_result"
    }
   ],
   "source": [
    "citysorted"
   ]
  },
  {
   "cell_type": "code",
   "execution_count": 56,
   "metadata": {},
   "outputs": [],
   "source": [
    "def merge_dicts(one: dict, two: dict):\n",
    "    newdict = one.copy()\n",
    "    newdict.update(two)\n",
    "    return(newdict)"
   ]
  },
  {
   "cell_type": "code",
   "execution_count": 57,
   "metadata": {},
   "outputs": [],
   "source": [
    "additional_cities: dict = {\n",
    "    \"Dover\": 8323,\n",
    "    \"Colorado Springs\": 4990,\n",
    "    \"Seattle\": 95067,\n",
    "}"
   ]
  },
  {
   "cell_type": "code",
   "execution_count": 58,
   "metadata": {},
   "outputs": [],
   "source": [
    "allcities = merge_dicts(additional_cities, cities)"
   ]
  },
  {
   "cell_type": "code",
   "execution_count": 59,
   "metadata": {},
   "outputs": [
    {
     "data": {
      "text/plain": [
       "{'Dover': 8323,\n",
       " 'Colorado Springs': 4990,\n",
       " 'Seattle': 95067,\n",
       " 'Detroit': 3619342323,\n",
       " 'Las Vegas': 99870,\n",
       " 'Las Angeles': 9525067,\n",
       " 'Boulder': 17098246,\n",
       " 'Atlanta': 2780400,\n",
       " 'Paducah': 752612,\n",
       " 'Tampa': 9596961}"
      ]
     },
     "execution_count": 59,
     "metadata": {},
     "output_type": "execute_result"
    }
   ],
   "source": [
    "allcities"
   ]
  },
  {
   "cell_type": "code",
   "execution_count": 65,
   "metadata": {},
   "outputs": [
    {
     "data": {
      "text/plain": [
       "78000"
      ]
     },
     "execution_count": 65,
     "metadata": {},
     "output_type": "execute_result"
    }
   ],
   "source": [
    "allcities.setdefault(\"Unknown\", sum(allcities.values()) / len(allcities.values()))"
   ]
  },
  {
   "cell_type": "code",
   "execution_count": 66,
   "metadata": {},
   "outputs": [
    {
     "data": {
      "text/plain": [
       "{'Dover': 8323,\n",
       " 'Colorado Springs': 4990,\n",
       " 'Seattle': 95067,\n",
       " 'Detroit': 3619342323,\n",
       " 'Las Vegas': 99870,\n",
       " 'Las Angeles': 9525067,\n",
       " 'Boulder': 17098246,\n",
       " 'Atlanta': 2780400,\n",
       " 'Paducah': 752612,\n",
       " 'Tampa': 9596961,\n",
       " 365930385.9: None,\n",
       " 'San Jose': 78000}"
      ]
     },
     "execution_count": 66,
     "metadata": {},
     "output_type": "execute_result"
    }
   ],
   "source": [
    "allcities"
   ]
  },
  {
   "cell_type": "code",
   "execution_count": 106,
   "metadata": {},
   "outputs": [],
   "source": [
    "import csv"
   ]
  },
  {
   "cell_type": "code",
   "execution_count": 109,
   "metadata": {},
   "outputs": [],
   "source": [
    "reader = csv.DictReader(open(\"spreader.csv\", \"r\"))"
   ]
  },
  {
   "cell_type": "code",
   "execution_count": 110,
   "metadata": {},
   "outputs": [
    {
     "name": "stdout",
     "output_type": "stream",
     "text": [
      "{'hello': 'how', 'medium': 'is'}\n",
      "{'hello': 'everyone', 'medium': 'doing?'}\n"
     ]
    }
   ],
   "source": [
    "for row in reader:\n",
    "    print(row)"
   ]
  },
  {
   "cell_type": "code",
   "execution_count": 111,
   "metadata": {},
   "outputs": [],
   "source": [
    "z = dict()"
   ]
  },
  {
   "cell_type": "code",
   "execution_count": 112,
   "metadata": {},
   "outputs": [],
   "source": [
    "for row in reader:\n",
    "    z[row[\"Code\"]] = row"
   ]
  }
 ],
 "metadata": {
  "kernelspec": {
   "display_name": "Python 3",
   "language": "python",
   "name": "python3"
  },
  "language_info": {
   "codemirror_mode": {
    "name": "ipython",
    "version": 3
   },
   "file_extension": ".py",
   "mimetype": "text/x-python",
   "name": "python",
   "nbconvert_exporter": "python",
   "pygments_lexer": "ipython3",
   "version": "3.8.6"
  }
 },
 "nbformat": 4,
 "nbformat_minor": 4
}
