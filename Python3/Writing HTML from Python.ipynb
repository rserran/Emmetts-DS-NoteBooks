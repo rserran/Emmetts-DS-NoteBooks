{
 "cells": [
  {
   "cell_type": "code",
   "execution_count": 14,
   "metadata": {},
   "outputs": [],
   "source": [
    "from IPython.display import display, HTML"
   ]
  },
  {
   "cell_type": "code",
   "execution_count": 16,
   "metadata": {},
   "outputs": [
    {
     "data": {
      "text/html": [
       "<h1>Header</h1>"
      ],
      "text/plain": [
       "<IPython.core.display.HTML object>"
      ]
     },
     "metadata": {},
     "output_type": "display_data"
    }
   ],
   "source": [
    "display(HTML(\"<h1>Header</h1>\"))"
   ]
  },
  {
   "cell_type": "code",
   "execution_count": 122,
   "metadata": {},
   "outputs": [],
   "source": [
    "def show_dict(lookup : dict, count : int = 5):\n",
    "    thead = \"<thead><tr>\"\n",
    "    tbody = \"<tbody>\"\n",
    "    for name in lookup.keys():\n",
    "        thead = thead + \"<th>\" + str(name) + \"</th>\"\n",
    "    thead = thead + \"</tr></thead>\"\n",
    "    cols = [lookup[name] for name in lookup.keys()]\n",
    "    for i in range(0, len(cols[0])):\n",
    "        obs = [row[i] for row in cols]\n",
    "        tbody = tbody + \"<tr>\"\n",
    "        for observ in obs:\n",
    "            tbody = tbody + \"<td>\" + str(observ) + \"</td>\"\n",
    "        tbody = tbody + \"</tr>\"\n",
    "    tbody = tbody + \"</tbody>\"\n",
    "    composition = str(thead + tbody)\n",
    "    display(HTML(composition))"
   ]
  },
  {
   "cell_type": "code",
   "execution_count": 123,
   "metadata": {},
   "outputs": [],
   "source": [
    "lookup = dict({\"A\": [5, 10, 15, 20], \"B\": [5, 10, 15, 20]})"
   ]
  },
  {
   "cell_type": "code",
   "execution_count": 124,
   "metadata": {},
   "outputs": [
    {
     "data": {
      "text/plain": [
       "dict_keys(['A', 'B'])"
      ]
     },
     "execution_count": 124,
     "metadata": {},
     "output_type": "execute_result"
    }
   ],
   "source": [
    "lookup.keys()"
   ]
  },
  {
   "cell_type": "code",
   "execution_count": 125,
   "metadata": {},
   "outputs": [
    {
     "data": {
      "text/plain": [
       "dict_values([[5, 10, 15, 20], [5, 10, 15, 20]])"
      ]
     },
     "execution_count": 125,
     "metadata": {},
     "output_type": "execute_result"
    }
   ],
   "source": [
    "lookup.values()"
   ]
  },
  {
   "cell_type": "code",
   "execution_count": 126,
   "metadata": {},
   "outputs": [
    {
     "data": {
      "text/html": [
       "<thead><tr><th>A</th><th>B</th></tr></thead><tbody><tr><td>5</td><td>5</td></tr><tr><td>10</td><td>10</td></tr><tr><td>15</td><td>15</td></tr><tr><td>20</td><td>20</td></tr></tbody>"
      ],
      "text/plain": [
       "<IPython.core.display.HTML object>"
      ]
     },
     "metadata": {},
     "output_type": "display_data"
    }
   ],
   "source": [
    "show_dict(lookup)"
   ]
  },
  {
   "cell_type": "code",
   "execution_count": null,
   "metadata": {},
   "outputs": [],
   "source": []
  },
  {
   "cell_type": "code",
   "execution_count": null,
   "metadata": {},
   "outputs": [],
   "source": []
  }
 ],
 "metadata": {
  "kernelspec": {
   "display_name": "Python 3",
   "language": "python",
   "name": "python3"
  },
  "language_info": {
   "codemirror_mode": {
    "name": "ipython",
    "version": 3
   },
   "file_extension": ".py",
   "mimetype": "text/x-python",
   "name": "python",
   "nbconvert_exporter": "python",
   "pygments_lexer": "ipython3",
   "version": "3.8.6"
  }
 },
 "nbformat": 4,
 "nbformat_minor": 4
}
