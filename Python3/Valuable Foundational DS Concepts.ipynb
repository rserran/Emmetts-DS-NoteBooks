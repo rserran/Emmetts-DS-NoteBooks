{
 "cells": [
  {
   "cell_type": "code",
   "execution_count": 1,
   "id": "7006322e-f9fc-4a93-ade6-b9df6ae9f060",
   "metadata": {},
   "outputs": [],
   "source": [
    "import pandas as pd"
   ]
  },
  {
   "cell_type": "code",
   "execution_count": 3,
   "id": "89764a78-f52a-45cd-b4de-6e957e567015",
   "metadata": {},
   "outputs": [],
   "source": [
    "df = pd.read_csv(\"brace_data.csv\")"
   ]
  },
  {
   "cell_type": "code",
   "execution_count": 4,
   "id": "7cf1051e-0682-4f3d-8f63-72bcc3da1ea7",
   "metadata": {},
   "outputs": [
    {
     "data": {
      "text/html": [
       "<div>\n",
       "<style scoped>\n",
       "    .dataframe tbody tr th:only-of-type {\n",
       "        vertical-align: middle;\n",
       "    }\n",
       "\n",
       "    .dataframe tbody tr th {\n",
       "        vertical-align: top;\n",
       "    }\n",
       "\n",
       "    .dataframe thead th {\n",
       "        text-align: right;\n",
       "    }\n",
       "</style>\n",
       "<table border=\"1\" class=\"dataframe\">\n",
       "  <thead>\n",
       "    <tr style=\"text-align: right;\">\n",
       "      <th></th>\n",
       "      <th>name</th>\n",
       "      <th>age</th>\n",
       "      <th>rating</th>\n",
       "      <th>uses</th>\n",
       "    </tr>\n",
       "  </thead>\n",
       "  <tbody>\n",
       "    <tr>\n",
       "      <th>0</th>\n",
       "      <td>clara</td>\n",
       "      <td>36</td>\n",
       "      <td>2</td>\n",
       "      <td>5</td>\n",
       "    </tr>\n",
       "    <tr>\n",
       "      <th>1</th>\n",
       "      <td>beatrice</td>\n",
       "      <td>57</td>\n",
       "      <td>8</td>\n",
       "      <td>25</td>\n",
       "    </tr>\n",
       "    <tr>\n",
       "      <th>2</th>\n",
       "      <td>jean</td>\n",
       "      <td>22</td>\n",
       "      <td>4</td>\n",
       "      <td>35</td>\n",
       "    </tr>\n",
       "    <tr>\n",
       "      <th>3</th>\n",
       "      <td>tommy</td>\n",
       "      <td>63</td>\n",
       "      <td>9</td>\n",
       "      <td>122</td>\n",
       "    </tr>\n",
       "    <tr>\n",
       "      <th>4</th>\n",
       "      <td>clark</td>\n",
       "      <td>72</td>\n",
       "      <td>8</td>\n",
       "      <td>75</td>\n",
       "    </tr>\n",
       "  </tbody>\n",
       "</table>\n",
       "</div>"
      ],
      "text/plain": [
       "       name  age  rating  uses\n",
       "0     clara   36       2     5\n",
       "1  beatrice   57       8    25\n",
       "2      jean   22       4    35\n",
       "3     tommy   63       9   122\n",
       "4     clark   72       8    75"
      ]
     },
     "execution_count": 4,
     "metadata": {},
     "output_type": "execute_result"
    }
   ],
   "source": [
    "df.head()"
   ]
  },
  {
   "cell_type": "code",
   "execution_count": 9,
   "id": "303047b8-50f8-40dc-a861-d358ae0eb4f9",
   "metadata": {},
   "outputs": [],
   "source": [
    "df = pd.DataFrame({\"doors\": [7, 12, 8, 13, 4], \n",
    "                  \"windows\": [10, 4, 9, 12, 11], \n",
    "                  \"bathrooms\": [1, 2, 3, 2, 1], \n",
    "                   \"studies\": [1, 0, 3, 2, 0],\n",
    "                   \"bedrooms\": [2, 4, 3, 7, 2], \n",
    "                   \"residents\": [5, 3, 16, 8, 1]})"
   ]
  },
  {
   "cell_type": "code",
   "execution_count": 25,
   "id": "450873d0-251b-43fb-9435-26baf819834a",
   "metadata": {},
   "outputs": [],
   "source": [
    "df[\"rooms\"] = [sum([row[\"bathrooms\"], row[\"studies\"], row[\"bedrooms\"]]) for index, row in df.iterrows()]"
   ]
  },
  {
   "cell_type": "code",
   "execution_count": 27,
   "id": "13065f08-1a75-4f4b-9e4c-a738ca71d429",
   "metadata": {},
   "outputs": [
    {
     "data": {
      "text/html": [
       "<div>\n",
       "<style scoped>\n",
       "    .dataframe tbody tr th:only-of-type {\n",
       "        vertical-align: middle;\n",
       "    }\n",
       "\n",
       "    .dataframe tbody tr th {\n",
       "        vertical-align: top;\n",
       "    }\n",
       "\n",
       "    .dataframe thead th {\n",
       "        text-align: right;\n",
       "    }\n",
       "</style>\n",
       "<table border=\"1\" class=\"dataframe\">\n",
       "  <thead>\n",
       "    <tr style=\"text-align: right;\">\n",
       "      <th></th>\n",
       "      <th>doors</th>\n",
       "      <th>windows</th>\n",
       "      <th>bathrooms</th>\n",
       "      <th>studies</th>\n",
       "      <th>bedrooms</th>\n",
       "      <th>residents</th>\n",
       "      <th>rooms</th>\n",
       "    </tr>\n",
       "  </thead>\n",
       "  <tbody>\n",
       "    <tr>\n",
       "      <th>0</th>\n",
       "      <td>7</td>\n",
       "      <td>10</td>\n",
       "      <td>1</td>\n",
       "      <td>1</td>\n",
       "      <td>2</td>\n",
       "      <td>5</td>\n",
       "      <td>4</td>\n",
       "    </tr>\n",
       "    <tr>\n",
       "      <th>1</th>\n",
       "      <td>12</td>\n",
       "      <td>4</td>\n",
       "      <td>2</td>\n",
       "      <td>0</td>\n",
       "      <td>4</td>\n",
       "      <td>3</td>\n",
       "      <td>6</td>\n",
       "    </tr>\n",
       "    <tr>\n",
       "      <th>2</th>\n",
       "      <td>8</td>\n",
       "      <td>9</td>\n",
       "      <td>3</td>\n",
       "      <td>3</td>\n",
       "      <td>3</td>\n",
       "      <td>16</td>\n",
       "      <td>9</td>\n",
       "    </tr>\n",
       "    <tr>\n",
       "      <th>3</th>\n",
       "      <td>13</td>\n",
       "      <td>12</td>\n",
       "      <td>2</td>\n",
       "      <td>2</td>\n",
       "      <td>7</td>\n",
       "      <td>8</td>\n",
       "      <td>11</td>\n",
       "    </tr>\n",
       "    <tr>\n",
       "      <th>4</th>\n",
       "      <td>4</td>\n",
       "      <td>11</td>\n",
       "      <td>1</td>\n",
       "      <td>0</td>\n",
       "      <td>2</td>\n",
       "      <td>1</td>\n",
       "      <td>3</td>\n",
       "    </tr>\n",
       "  </tbody>\n",
       "</table>\n",
       "</div>"
      ],
      "text/plain": [
       "   doors  windows  bathrooms  studies  bedrooms  residents  rooms\n",
       "0      7       10          1        1         2          5      4\n",
       "1     12        4          2        0         4          3      6\n",
       "2      8        9          3        3         3         16      9\n",
       "3     13       12          2        2         7          8     11\n",
       "4      4       11          1        0         2          1      3"
      ]
     },
     "execution_count": 27,
     "metadata": {},
     "output_type": "execute_result"
    }
   ],
   "source": [
    "df.head()"
   ]
  },
  {
   "cell_type": "code",
   "execution_count": 30,
   "id": "44852120-6de7-4c31-b6ad-a712eb3eb751",
   "metadata": {},
   "outputs": [],
   "source": [
    "import numpy as np\n",
    "μ = np.mean(df[\"rooms\"])\n",
    "σ = np.std(df[\"rooms\"])\n",
    "normalized_rooms = [(μ - x) / σ for x in df[\"rooms\"]]"
   ]
  },
  {
   "cell_type": "code",
   "execution_count": 31,
   "id": "beba0fd8-5297-4323-90d4-95b20e59d92f",
   "metadata": {
    "scrolled": true
   },
   "outputs": [
    {
     "data": {
      "text/plain": [
       "[0.8647471368090609,\n",
       " 0.19955703157132165,\n",
       " -0.7982281262852873,\n",
       " -1.4634182315230264,\n",
       " 1.1973421894279306]"
      ]
     },
     "execution_count": 31,
     "metadata": {},
     "output_type": "execute_result"
    }
   ],
   "source": [
    "normalized_rooms"
   ]
  },
  {
   "cell_type": "code",
   "execution_count": 45,
   "id": "88e15516-527b-495e-b5ca-12a82b2d90fe",
   "metadata": {},
   "outputs": [],
   "source": [
    "def add_eight(x : int):\n",
    "    x += 8\n",
    "    return(x)\n",
    "\n",
    "newmap = map(add_eight, [10, 20, 30])"
   ]
  },
  {
   "cell_type": "code",
   "execution_count": 46,
   "id": "b21ab5a7-f845-4b38-a950-8043fd5b644e",
   "metadata": {},
   "outputs": [
    {
     "data": {
      "text/plain": [
       "[18, 28, 38]"
      ]
     },
     "execution_count": 46,
     "metadata": {},
     "output_type": "execute_result"
    }
   ],
   "source": [
    "list(newmap)"
   ]
  },
  {
   "cell_type": "code",
   "execution_count": 47,
   "id": "eb037123-d793-4ec3-8d59-b80bb7a09afd",
   "metadata": {},
   "outputs": [],
   "source": [
    "newmap = map(lambda x: (μ - x) / σ, df[\"rooms\"])"
   ]
  },
  {
   "cell_type": "code",
   "execution_count": 48,
   "id": "33755523-3fbc-4e0f-84a6-6a80542fbcc9",
   "metadata": {},
   "outputs": [
    {
     "data": {
      "text/plain": [
       "[0.8647471368090609,\n",
       " 0.19955703157132165,\n",
       " -0.7982281262852873,\n",
       " -1.4634182315230264,\n",
       " 1.1973421894279306]"
      ]
     },
     "execution_count": 48,
     "metadata": {},
     "output_type": "execute_result"
    }
   ],
   "source": [
    "list(newmap)"
   ]
  },
  {
   "cell_type": "code",
   "execution_count": 49,
   "id": "3c9f7d89-2ecb-4f69-9bae-8b71a817371b",
   "metadata": {},
   "outputs": [],
   "source": [
    "large_houses = df[df[\"rooms\"] > 5]"
   ]
  },
  {
   "cell_type": "code",
   "execution_count": 50,
   "id": "67cb1558-ee21-437b-ac7b-e428802d2391",
   "metadata": {},
   "outputs": [
    {
     "data": {
      "text/html": [
       "<div>\n",
       "<style scoped>\n",
       "    .dataframe tbody tr th:only-of-type {\n",
       "        vertical-align: middle;\n",
       "    }\n",
       "\n",
       "    .dataframe tbody tr th {\n",
       "        vertical-align: top;\n",
       "    }\n",
       "\n",
       "    .dataframe thead th {\n",
       "        text-align: right;\n",
       "    }\n",
       "</style>\n",
       "<table border=\"1\" class=\"dataframe\">\n",
       "  <thead>\n",
       "    <tr style=\"text-align: right;\">\n",
       "      <th></th>\n",
       "      <th>doors</th>\n",
       "      <th>windows</th>\n",
       "      <th>bathrooms</th>\n",
       "      <th>studies</th>\n",
       "      <th>bedrooms</th>\n",
       "      <th>residents</th>\n",
       "      <th>rooms</th>\n",
       "    </tr>\n",
       "  </thead>\n",
       "  <tbody>\n",
       "    <tr>\n",
       "      <th>1</th>\n",
       "      <td>12</td>\n",
       "      <td>4</td>\n",
       "      <td>2</td>\n",
       "      <td>0</td>\n",
       "      <td>4</td>\n",
       "      <td>3</td>\n",
       "      <td>6</td>\n",
       "    </tr>\n",
       "    <tr>\n",
       "      <th>2</th>\n",
       "      <td>8</td>\n",
       "      <td>9</td>\n",
       "      <td>3</td>\n",
       "      <td>3</td>\n",
       "      <td>3</td>\n",
       "      <td>16</td>\n",
       "      <td>9</td>\n",
       "    </tr>\n",
       "    <tr>\n",
       "      <th>3</th>\n",
       "      <td>13</td>\n",
       "      <td>12</td>\n",
       "      <td>2</td>\n",
       "      <td>2</td>\n",
       "      <td>7</td>\n",
       "      <td>8</td>\n",
       "      <td>11</td>\n",
       "    </tr>\n",
       "  </tbody>\n",
       "</table>\n",
       "</div>"
      ],
      "text/plain": [
       "   doors  windows  bathrooms  studies  bedrooms  residents  rooms\n",
       "1     12        4          2        0         4          3      6\n",
       "2      8        9          3        3         3         16      9\n",
       "3     13       12          2        2         7          8     11"
      ]
     },
     "execution_count": 50,
     "metadata": {},
     "output_type": "execute_result"
    }
   ],
   "source": [
    "large_houses.head()"
   ]
  },
  {
   "cell_type": "code",
   "execution_count": null,
   "id": "747bb3a7-3b4c-4274-9c8d-cd2e1944da78",
   "metadata": {},
   "outputs": [],
   "source": []
  }
 ],
 "metadata": {
  "kernelspec": {
   "display_name": "Python 3 (ipykernel)",
   "language": "python",
   "name": "python3"
  },
  "language_info": {
   "codemirror_mode": {
    "name": "ipython",
    "version": 3
   },
   "file_extension": ".py",
   "mimetype": "text/x-python",
   "name": "python",
   "nbconvert_exporter": "python",
   "pygments_lexer": "ipython3",
   "version": "3.12.2"
  }
 },
 "nbformat": 4,
 "nbformat_minor": 5
}
