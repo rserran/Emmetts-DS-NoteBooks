{
 "cells": [
  {
   "cell_type": "code",
   "execution_count": 1,
   "metadata": {},
   "outputs": [
    {
     "data": {
      "text/plain": [
       "27"
      ]
     },
     "execution_count": 1,
     "metadata": {},
     "output_type": "execute_result"
    }
   ],
   "source": [
    "abs(5 - 32)"
   ]
  },
  {
   "cell_type": "code",
   "execution_count": 2,
   "metadata": {},
   "outputs": [
    {
     "data": {
      "text/plain": [
       "True"
      ]
     },
     "execution_count": 2,
     "metadata": {},
     "output_type": "execute_result"
    }
   ],
   "source": [
    "any([True, False, True])"
   ]
  },
  {
   "cell_type": "code",
   "execution_count": 3,
   "metadata": {},
   "outputs": [
    {
     "data": {
      "text/plain": [
       "False"
      ]
     },
     "execution_count": 3,
     "metadata": {},
     "output_type": "execute_result"
    }
   ],
   "source": [
    "any([False, False])"
   ]
  },
  {
   "cell_type": "code",
   "execution_count": 4,
   "metadata": {},
   "outputs": [
    {
     "data": {
      "text/plain": [
       "False"
      ]
     },
     "execution_count": 4,
     "metadata": {},
     "output_type": "execute_result"
    }
   ],
   "source": [
    "any([])"
   ]
  },
  {
   "cell_type": "code",
   "execution_count": 23,
   "metadata": {},
   "outputs": [],
   "source": [
    "def check_list(lst : list):\n",
    "    if any(lst):\n",
    "        print(\"there is now a value\")"
   ]
  },
  {
   "cell_type": "code",
   "execution_count": 24,
   "metadata": {},
   "outputs": [
    {
     "data": {
      "text/plain": [
       "0"
      ]
     },
     "execution_count": 24,
     "metadata": {},
     "output_type": "execute_result"
    }
   ],
   "source": [
    "len([])"
   ]
  },
  {
   "cell_type": "code",
   "execution_count": 25,
   "metadata": {},
   "outputs": [],
   "source": [
    "import random"
   ]
  },
  {
   "cell_type": "code",
   "execution_count": 26,
   "metadata": {},
   "outputs": [],
   "source": [
    "lst = list([random.randrange(1, 20) for i in range(1, 10000)])"
   ]
  },
  {
   "cell_type": "code",
   "execution_count": 27,
   "metadata": {},
   "outputs": [
    {
     "data": {
      "text/plain": [
       "[2,\n",
       " 2,\n",
       " 17,\n",
       " 2,\n",
       " 9,\n",
       " 13,\n",
       " 16,\n",
       " 3,\n",
       " 8,\n",
       " 6,\n",
       " 16,\n",
       " 6,\n",
       " 1,\n",
       " 10,\n",
       " 17,\n",
       " 4,\n",
       " 18,\n",
       " 16,\n",
       " 2,\n",
       " 9,\n",
       " 11,\n",
       " 6,\n",
       " 18,\n",
       " 16,\n",
       " 1,\n",
       " 12,\n",
       " 3,\n",
       " 10,\n",
       " 4,\n",
       " 15,\n",
       " 12,\n",
       " 18,\n",
       " 13,\n",
       " 19,\n",
       " 2,\n",
       " 7,\n",
       " 19,\n",
       " 19,\n",
       " 16,\n",
       " 11,\n",
       " 3,\n",
       " 7,\n",
       " 10,\n",
       " 4,\n",
       " 9,\n",
       " 7,\n",
       " 8,\n",
       " 11,\n",
       " 10,\n",
       " 14,\n",
       " 15,\n",
       " 1,\n",
       " 14,\n",
       " 15,\n",
       " 10,\n",
       " 5,\n",
       " 17,\n",
       " 2,\n",
       " 7,\n",
       " 1,\n",
       " 18,\n",
       " 3,\n",
       " 9,\n",
       " 10,\n",
       " 17,\n",
       " 13,\n",
       " 2,\n",
       " 6,\n",
       " 16,\n",
       " 4,\n",
       " 1,\n",
       " 1,\n",
       " 8,\n",
       " 18,\n",
       " 6,\n",
       " 17,\n",
       " 5,\n",
       " 3,\n",
       " 5,\n",
       " 8,\n",
       " 19,\n",
       " 6,\n",
       " 18,\n",
       " 19,\n",
       " 15,\n",
       " 6,\n",
       " 18,\n",
       " 13,\n",
       " 12,\n",
       " 18,\n",
       " 19,\n",
       " 12,\n",
       " 4,\n",
       " 1,\n",
       " 16,\n",
       " 14,\n",
       " 10,\n",
       " 10,\n",
       " 5,\n",
       " 14,\n",
       " 11,\n",
       " 18,\n",
       " 14,\n",
       " 1,\n",
       " 7,\n",
       " 12,\n",
       " 13,\n",
       " 2,\n",
       " 17,\n",
       " 10,\n",
       " 3,\n",
       " 5,\n",
       " 15,\n",
       " 1,\n",
       " 18,\n",
       " 12,\n",
       " 11,\n",
       " 6,\n",
       " 7,\n",
       " 6,\n",
       " 4,\n",
       " 17,\n",
       " 8,\n",
       " 16,\n",
       " 6,\n",
       " 7,\n",
       " 7,\n",
       " 19,\n",
       " 16,\n",
       " 9,\n",
       " 7,\n",
       " 10,\n",
       " 10,\n",
       " 3,\n",
       " 19,\n",
       " 9,\n",
       " 7,\n",
       " 12,\n",
       " 12,\n",
       " 12,\n",
       " 14,\n",
       " 5,\n",
       " 16,\n",
       " 15,\n",
       " 18,\n",
       " 8,\n",
       " 4,\n",
       " 3,\n",
       " 2,\n",
       " 7,\n",
       " 9,\n",
       " 1,\n",
       " 10,\n",
       " 1,\n",
       " 1,\n",
       " 15,\n",
       " 4,\n",
       " 16,\n",
       " 16,\n",
       " 16,\n",
       " 9,\n",
       " 10,\n",
       " 4,\n",
       " 6,\n",
       " 16,\n",
       " 12,\n",
       " 15,\n",
       " 11,\n",
       " 9,\n",
       " 12,\n",
       " 15,\n",
       " 1,\n",
       " 11,\n",
       " 10,\n",
       " 11,\n",
       " 6,\n",
       " 18,\n",
       " 19,\n",
       " 9,\n",
       " 4,\n",
       " 12,\n",
       " 2,\n",
       " 17,\n",
       " 15,\n",
       " 15,\n",
       " 5,\n",
       " 18,\n",
       " 11,\n",
       " 10,\n",
       " 8,\n",
       " 2,\n",
       " 10,\n",
       " 2,\n",
       " 11,\n",
       " 9,\n",
       " 7,\n",
       " 8,\n",
       " 16,\n",
       " 14,\n",
       " 19,\n",
       " 15,\n",
       " 9,\n",
       " 7,\n",
       " 4,\n",
       " 8,\n",
       " 12,\n",
       " 19,\n",
       " 10,\n",
       " 1,\n",
       " 12,\n",
       " 18,\n",
       " 11,\n",
       " 5,\n",
       " 17,\n",
       " 3,\n",
       " 14,\n",
       " 11,\n",
       " 19,\n",
       " 9,\n",
       " 4,\n",
       " 13,\n",
       " 9,\n",
       " 11,\n",
       " 16,\n",
       " 19,\n",
       " 12,\n",
       " 13,\n",
       " 17,\n",
       " 1,\n",
       " 8,\n",
       " 7,\n",
       " 8,\n",
       " 8,\n",
       " 3,\n",
       " 16,\n",
       " 8,\n",
       " 11,\n",
       " 5,\n",
       " 1,\n",
       " 9,\n",
       " 13,\n",
       " 12,\n",
       " 9,\n",
       " 11,\n",
       " 14,\n",
       " 19,\n",
       " 13,\n",
       " 7,\n",
       " 4,\n",
       " 12,\n",
       " 14,\n",
       " 3,\n",
       " 13,\n",
       " 13,\n",
       " 19,\n",
       " 13,\n",
       " 18,\n",
       " 18,\n",
       " 16,\n",
       " 8,\n",
       " 4,\n",
       " 5,\n",
       " 13,\n",
       " 1,\n",
       " 1,\n",
       " 11,\n",
       " 5,\n",
       " 6,\n",
       " 10,\n",
       " 4,\n",
       " 8,\n",
       " 4,\n",
       " 1,\n",
       " 14,\n",
       " 15,\n",
       " 7,\n",
       " 2,\n",
       " 13,\n",
       " 15,\n",
       " 3,\n",
       " 1,\n",
       " 10,\n",
       " 19,\n",
       " 7,\n",
       " 9,\n",
       " 3,\n",
       " 19,\n",
       " 7,\n",
       " 19,\n",
       " 15,\n",
       " 9,\n",
       " 17,\n",
       " 9,\n",
       " 10,\n",
       " 14,\n",
       " 11,\n",
       " 18,\n",
       " 15,\n",
       " 11,\n",
       " 18,\n",
       " 8,\n",
       " 2,\n",
       " 19,\n",
       " 5,\n",
       " 7,\n",
       " 14,\n",
       " 15,\n",
       " 13,\n",
       " 17,\n",
       " 9,\n",
       " 8,\n",
       " 3,\n",
       " 7,\n",
       " 16,\n",
       " 9,\n",
       " 5,\n",
       " 1,\n",
       " 7,\n",
       " 7,\n",
       " 1,\n",
       " 4,\n",
       " 14,\n",
       " 6,\n",
       " 10,\n",
       " 1,\n",
       " 1,\n",
       " 8,\n",
       " 19,\n",
       " 13,\n",
       " 9,\n",
       " 6,\n",
       " 16,\n",
       " 4,\n",
       " 17,\n",
       " 2,\n",
       " 15,\n",
       " 10,\n",
       " 10,\n",
       " 5,\n",
       " 9,\n",
       " 11,\n",
       " 5,\n",
       " 4,\n",
       " 2,\n",
       " 18,\n",
       " 4,\n",
       " 7,\n",
       " 18,\n",
       " 10,\n",
       " 1,\n",
       " 9,\n",
       " 4,\n",
       " 11,\n",
       " 8,\n",
       " 11,\n",
       " 7,\n",
       " 12,\n",
       " 18,\n",
       " 12,\n",
       " 8,\n",
       " 13,\n",
       " 1,\n",
       " 5,\n",
       " 10,\n",
       " 9,\n",
       " 4,\n",
       " 3,\n",
       " 9,\n",
       " 6,\n",
       " 5,\n",
       " 5,\n",
       " 19,\n",
       " 3,\n",
       " 7,\n",
       " 14,\n",
       " 4,\n",
       " 7,\n",
       " 16,\n",
       " 6,\n",
       " 2,\n",
       " 5,\n",
       " 11,\n",
       " 10,\n",
       " 12,\n",
       " 18,\n",
       " 8,\n",
       " 10,\n",
       " 13,\n",
       " 7,\n",
       " 14,\n",
       " 1,\n",
       " 17,\n",
       " 4,\n",
       " 13,\n",
       " 4,\n",
       " 15,\n",
       " 5,\n",
       " 17,\n",
       " 12,\n",
       " 6,\n",
       " 10,\n",
       " 14,\n",
       " 4,\n",
       " 14,\n",
       " 19,\n",
       " 14,\n",
       " 14,\n",
       " 4,\n",
       " 6,\n",
       " 16,\n",
       " 2,\n",
       " 16,\n",
       " 19,\n",
       " 14,\n",
       " 4,\n",
       " 1,\n",
       " 14,\n",
       " 16,\n",
       " 2,\n",
       " 8,\n",
       " 7,\n",
       " 5,\n",
       " 19,\n",
       " 19,\n",
       " 9,\n",
       " 2,\n",
       " 9,\n",
       " 8,\n",
       " 6,\n",
       " 16,\n",
       " 9,\n",
       " 9,\n",
       " 9,\n",
       " 6,\n",
       " 17,\n",
       " 10,\n",
       " 11,\n",
       " 11,\n",
       " 3,\n",
       " 15,\n",
       " 9,\n",
       " 15,\n",
       " 18,\n",
       " 12,\n",
       " 3,\n",
       " 3,\n",
       " 12,\n",
       " 17,\n",
       " 7,\n",
       " 3,\n",
       " 14,\n",
       " 6,\n",
       " 18,\n",
       " 6,\n",
       " 5,\n",
       " 1,\n",
       " 13,\n",
       " 14,\n",
       " 1,\n",
       " 12,\n",
       " 8,\n",
       " 4,\n",
       " 15,\n",
       " 18,\n",
       " 2,\n",
       " 19,\n",
       " 19,\n",
       " 14,\n",
       " 1,\n",
       " 11,\n",
       " 1,\n",
       " 18,\n",
       " 9,\n",
       " 14,\n",
       " 7,\n",
       " 10,\n",
       " 1,\n",
       " 13,\n",
       " 6,\n",
       " 2,\n",
       " 6,\n",
       " 8,\n",
       " 19,\n",
       " 17,\n",
       " 9,\n",
       " 11,\n",
       " 12,\n",
       " 1,\n",
       " 13,\n",
       " 1,\n",
       " 4,\n",
       " 9,\n",
       " 2,\n",
       " 16,\n",
       " 11,\n",
       " 13,\n",
       " 17,\n",
       " 16,\n",
       " 9,\n",
       " 11,\n",
       " 15,\n",
       " 3,\n",
       " 2,\n",
       " 19,\n",
       " 8,\n",
       " 6,\n",
       " 6,\n",
       " 16,\n",
       " 12,\n",
       " 5,\n",
       " 15,\n",
       " 14,\n",
       " 3,\n",
       " 3,\n",
       " 8,\n",
       " 16,\n",
       " 2,\n",
       " 13,\n",
       " 14,\n",
       " 9,\n",
       " 7,\n",
       " 10,\n",
       " 18,\n",
       " 12,\n",
       " 10,\n",
       " 2,\n",
       " 2,\n",
       " 10,\n",
       " 18,\n",
       " 17,\n",
       " 19,\n",
       " 18,\n",
       " 18,\n",
       " 19,\n",
       " 8,\n",
       " 7,\n",
       " 12,\n",
       " 19,\n",
       " 3,\n",
       " 15,\n",
       " 3,\n",
       " 18,\n",
       " 8,\n",
       " 11,\n",
       " 10,\n",
       " 6,\n",
       " 7,\n",
       " 12,\n",
       " 6,\n",
       " 5,\n",
       " 12,\n",
       " 14,\n",
       " 5,\n",
       " 8,\n",
       " 6,\n",
       " 1,\n",
       " 16,\n",
       " 14,\n",
       " 5,\n",
       " 14,\n",
       " 12,\n",
       " 14,\n",
       " 12,\n",
       " 12,\n",
       " 1,\n",
       " 9,\n",
       " 8,\n",
       " 6,\n",
       " 7,\n",
       " 6,\n",
       " 11,\n",
       " 11,\n",
       " 4,\n",
       " 2,\n",
       " 4,\n",
       " 16,\n",
       " 6,\n",
       " 16,\n",
       " 14,\n",
       " 15,\n",
       " 7,\n",
       " 18,\n",
       " 1,\n",
       " 1,\n",
       " 17,\n",
       " 6,\n",
       " 16,\n",
       " 2,\n",
       " 8,\n",
       " 8,\n",
       " 12,\n",
       " 9,\n",
       " 13,\n",
       " 7,\n",
       " 13,\n",
       " 14,\n",
       " 12,\n",
       " 3,\n",
       " 3,\n",
       " 8,\n",
       " 2,\n",
       " 2,\n",
       " 2,\n",
       " 19,\n",
       " 19,\n",
       " 1,\n",
       " 19,\n",
       " 15,\n",
       " 3,\n",
       " 19,\n",
       " 13,\n",
       " 8,\n",
       " 5,\n",
       " 7,\n",
       " 2,\n",
       " 9,\n",
       " 14,\n",
       " 16,\n",
       " 2,\n",
       " 10,\n",
       " 19,\n",
       " 5,\n",
       " 4,\n",
       " 10,\n",
       " 5,\n",
       " 8,\n",
       " 16,\n",
       " 1,\n",
       " 6,\n",
       " 18,\n",
       " 15,\n",
       " 17,\n",
       " 18,\n",
       " 5,\n",
       " 6,\n",
       " 13,\n",
       " 18,\n",
       " 3,\n",
       " 8,\n",
       " 18,\n",
       " 17,\n",
       " 7,\n",
       " 16,\n",
       " 17,\n",
       " 19,\n",
       " 6,\n",
       " 15,\n",
       " 13,\n",
       " 4,\n",
       " 2,\n",
       " 4,\n",
       " 16,\n",
       " 8,\n",
       " 10,\n",
       " 2,\n",
       " 19,\n",
       " 6,\n",
       " 4,\n",
       " 14,\n",
       " 12,\n",
       " 14,\n",
       " 10,\n",
       " 7,\n",
       " 6,\n",
       " 8,\n",
       " 13,\n",
       " 4,\n",
       " 11,\n",
       " 17,\n",
       " 2,\n",
       " 4,\n",
       " 1,\n",
       " 9,\n",
       " 7,\n",
       " 10,\n",
       " 15,\n",
       " 10,\n",
       " 8,\n",
       " 11,\n",
       " 11,\n",
       " 4,\n",
       " 16,\n",
       " 10,\n",
       " 4,\n",
       " 8,\n",
       " 17,\n",
       " 15,\n",
       " 4,\n",
       " 9,\n",
       " 1,\n",
       " 9,\n",
       " 5,\n",
       " 2,\n",
       " 19,\n",
       " 11,\n",
       " 19,\n",
       " 4,\n",
       " 4,\n",
       " 12,\n",
       " 12,\n",
       " 4,\n",
       " 19,\n",
       " 15,\n",
       " 7,\n",
       " 4,\n",
       " 4,\n",
       " 7,\n",
       " 13,\n",
       " 2,\n",
       " 7,\n",
       " 9,\n",
       " 12,\n",
       " 18,\n",
       " 16,\n",
       " 19,\n",
       " 10,\n",
       " 19,\n",
       " 4,\n",
       " 9,\n",
       " 19,\n",
       " 18,\n",
       " 4,\n",
       " 16,\n",
       " 1,\n",
       " 1,\n",
       " 19,\n",
       " 5,\n",
       " 19,\n",
       " 12,\n",
       " 10,\n",
       " 2,\n",
       " 19,\n",
       " 1,\n",
       " 4,\n",
       " 14,\n",
       " 15,\n",
       " 15,\n",
       " 4,\n",
       " 17,\n",
       " 5,\n",
       " 9,\n",
       " 17,\n",
       " 5,\n",
       " 5,\n",
       " 16,\n",
       " 16,\n",
       " 15,\n",
       " 13,\n",
       " 8,\n",
       " 1,\n",
       " 9,\n",
       " 14,\n",
       " 3,\n",
       " 10,\n",
       " 12,\n",
       " 7,\n",
       " 4,\n",
       " 15,\n",
       " 13,\n",
       " 2,\n",
       " 13,\n",
       " 14,\n",
       " 2,\n",
       " 3,\n",
       " 11,\n",
       " 8,\n",
       " 6,\n",
       " 3,\n",
       " 14,\n",
       " 17,\n",
       " 19,\n",
       " 16,\n",
       " 16,\n",
       " 11,\n",
       " 8,\n",
       " 11,\n",
       " 6,\n",
       " 15,\n",
       " 16,\n",
       " 9,\n",
       " 15,\n",
       " 17,\n",
       " 19,\n",
       " 7,\n",
       " 4,\n",
       " 3,\n",
       " 1,\n",
       " 12,\n",
       " 14,\n",
       " 12,\n",
       " 2,\n",
       " 19,\n",
       " 10,\n",
       " 3,\n",
       " 5,\n",
       " 3,\n",
       " 13,\n",
       " 13,\n",
       " 8,\n",
       " 13,\n",
       " 19,\n",
       " 1,\n",
       " 10,\n",
       " 15,\n",
       " 5,\n",
       " 5,\n",
       " 2,\n",
       " 9,\n",
       " 4,\n",
       " 9,\n",
       " 13,\n",
       " 14,\n",
       " 9,\n",
       " 15,\n",
       " 2,\n",
       " 3,\n",
       " 14,\n",
       " 12,\n",
       " 7,\n",
       " 7,\n",
       " 19,\n",
       " 7,\n",
       " 17,\n",
       " 11,\n",
       " 17,\n",
       " 3,\n",
       " 4,\n",
       " 9,\n",
       " 8,\n",
       " 7,\n",
       " 15,\n",
       " 13,\n",
       " 6,\n",
       " 19,\n",
       " 18,\n",
       " 3,\n",
       " 17,\n",
       " 1,\n",
       " 8,\n",
       " 5,\n",
       " 9,\n",
       " 2,\n",
       " 1,\n",
       " 11,\n",
       " 6,\n",
       " 14,\n",
       " 10,\n",
       " 17,\n",
       " 7,\n",
       " 6,\n",
       " 18,\n",
       " 10,\n",
       " 1,\n",
       " 4,\n",
       " 16,\n",
       " 11,\n",
       " 15,\n",
       " 5,\n",
       " 14,\n",
       " 18,\n",
       " 4,\n",
       " 5,\n",
       " 11,\n",
       " 3,\n",
       " 6,\n",
       " 10,\n",
       " 13,\n",
       " 4,\n",
       " 2,\n",
       " 5,\n",
       " 12,\n",
       " 10,\n",
       " 17,\n",
       " 10,\n",
       " 6,\n",
       " 15,\n",
       " 7,\n",
       " 8,\n",
       " 16,\n",
       " 1,\n",
       " 4,\n",
       " 9,\n",
       " 8,\n",
       " 8,\n",
       " 10,\n",
       " 1,\n",
       " 12,\n",
       " 1,\n",
       " 1,\n",
       " 15,\n",
       " 5,\n",
       " 14,\n",
       " 10,\n",
       " 1,\n",
       " 13,\n",
       " 9,\n",
       " 18,\n",
       " 15,\n",
       " 19,\n",
       " 9,\n",
       " 10,\n",
       " 11,\n",
       " 5,\n",
       " 19,\n",
       " 2,\n",
       " 9,\n",
       " 3,\n",
       " 6,\n",
       " 3,\n",
       " 11,\n",
       " 3,\n",
       " 14,\n",
       " 10,\n",
       " 4,\n",
       " 1,\n",
       " 12,\n",
       " 16,\n",
       " 3,\n",
       " 13,\n",
       " 15,\n",
       " 12,\n",
       " 4,\n",
       " 17,\n",
       " 1,\n",
       " 19,\n",
       " 4,\n",
       " 18,\n",
       " 12,\n",
       " 18,\n",
       " 17,\n",
       " 11,\n",
       " 6,\n",
       " 5,\n",
       " 4,\n",
       " 1,\n",
       " 7,\n",
       " 3,\n",
       " 19,\n",
       " 7,\n",
       " 9,\n",
       " 12,\n",
       " 3,\n",
       " 8,\n",
       " 11,\n",
       " 16,\n",
       " 14,\n",
       " 9,\n",
       " 1,\n",
       " 17,\n",
       " 1,\n",
       " 17,\n",
       " 16,\n",
       " 3,\n",
       " 6,\n",
       " 12,\n",
       " 6,\n",
       " 6,\n",
       " 18,\n",
       " 12,\n",
       " 10,\n",
       " 16,\n",
       " 17,\n",
       " 5,\n",
       " 16,\n",
       " 9,\n",
       " 17,\n",
       " 16,\n",
       " 2,\n",
       " 11,\n",
       " 18,\n",
       " 19,\n",
       " 7,\n",
       " 9,\n",
       " 3,\n",
       " 9,\n",
       " 16,\n",
       " 9,\n",
       " 5,\n",
       " 17,\n",
       " 6,\n",
       " 3,\n",
       " 10,\n",
       " 15,\n",
       " 17,\n",
       " 10,\n",
       " 6,\n",
       " 17,\n",
       " 12,\n",
       " 10,\n",
       " 15,\n",
       " 8,\n",
       " 9,\n",
       " 10,\n",
       " 1,\n",
       " 17,\n",
       " 11,\n",
       " 10,\n",
       " 16,\n",
       " 10,\n",
       " 7,\n",
       " ...]"
      ]
     },
     "execution_count": 27,
     "metadata": {},
     "output_type": "execute_result"
    }
   ],
   "source": [
    "lst"
   ]
  },
  {
   "cell_type": "code",
   "execution_count": 3,
   "metadata": {},
   "outputs": [],
   "source": [
    "z = ascii(\"hello\")"
   ]
  },
  {
   "cell_type": "code",
   "execution_count": 12,
   "metadata": {},
   "outputs": [
    {
     "data": {
      "text/plain": [
       "'0b110010'"
      ]
     },
     "execution_count": 12,
     "metadata": {},
     "output_type": "execute_result"
    }
   ],
   "source": [
    "bin(50)"
   ]
  },
  {
   "cell_type": "code",
   "execution_count": 13,
   "metadata": {},
   "outputs": [
    {
     "data": {
      "text/plain": [
       "False"
      ]
     },
     "execution_count": 13,
     "metadata": {},
     "output_type": "execute_result"
    }
   ],
   "source": [
    "callable(5)"
   ]
  },
  {
   "cell_type": "code",
   "execution_count": 19,
   "metadata": {},
   "outputs": [
    {
     "name": "stdout",
     "output_type": "stream",
     "text": [
      "b'bytes'\n"
     ]
    }
   ],
   "source": [
    "byte_message = bytes(\"bytes\", 'utf-8')\n",
    "print(byte_message)"
   ]
  },
  {
   "cell_type": "code",
   "execution_count": 24,
   "metadata": {},
   "outputs": [],
   "source": [
    "code = 'sum([5, 10, 15])'\n",
    "codeObject = compile(code, 'sumstring', 'exec')\n",
    "\n",
    "exec(codeObject)"
   ]
  },
  {
   "cell_type": "code",
   "execution_count": 25,
   "metadata": {},
   "outputs": [
    {
     "data": {
      "text/plain": [
       "code"
      ]
     },
     "execution_count": 25,
     "metadata": {},
     "output_type": "execute_result"
    }
   ],
   "source": [
    "type(codeObject)"
   ]
  },
  {
   "cell_type": "code",
   "execution_count": 26,
   "metadata": {},
   "outputs": [
    {
     "name": "stdout",
     "output_type": "stream",
     "text": [
      "0 \n",
      " 5\n",
      "1 \n",
      " 10\n",
      "2 \n",
      " 15\n"
     ]
    }
   ],
   "source": [
    "for index, val in enumerate([5, 10, 15]):\n",
    "    print(index, \"\\n\", val)"
   ]
  },
  {
   "cell_type": "code",
   "execution_count": 27,
   "metadata": {},
   "outputs": [
    {
     "name": "stdout",
     "output_type": "stream",
     "text": [
      "12\n"
     ]
    }
   ],
   "source": [
    "class Adder:\n",
    "\n",
    "  def add_numbers(num1, num2):\n",
    "    return num1 + num2\n",
    "\n",
    "Adder.add_numbers = staticmethod(Adder.add_numbers)\n",
    "\n",
    "tot = Adder.add_numbers(5, 7)\n",
    "print(tot)"
   ]
  },
  {
   "cell_type": "code",
   "execution_count": 13,
   "metadata": {},
   "outputs": [],
   "source": [
    "def filter_func(x):\n",
    "    if x < 5:\n",
    "        return(False)\n",
    "    else:\n",
    "        return(True)"
   ]
  },
  {
   "cell_type": "code",
   "execution_count": 20,
   "metadata": {},
   "outputs": [],
   "source": [
    "d = [1, 3, 5, 7, 9, 11]"
   ]
  },
  {
   "cell_type": "code",
   "execution_count": 21,
   "metadata": {},
   "outputs": [],
   "source": [
    "z = filter(filter_func, d)"
   ]
  },
  {
   "cell_type": "code",
   "execution_count": 22,
   "metadata": {},
   "outputs": [
    {
     "data": {
      "text/plain": [
       "<filter at 0x7fb785183070>"
      ]
     },
     "execution_count": 22,
     "metadata": {},
     "output_type": "execute_result"
    }
   ],
   "source": [
    "z"
   ]
  },
  {
   "cell_type": "code",
   "execution_count": 23,
   "metadata": {},
   "outputs": [
    {
     "name": "stdout",
     "output_type": "stream",
     "text": [
      "[5, 7, 9, 11]\n"
     ]
    }
   ],
   "source": [
    "vals = [w for w in z]\n",
    "print(vals)"
   ]
  },
  {
   "cell_type": "code",
   "execution_count": 27,
   "metadata": {},
   "outputs": [],
   "source": [
    "x = .5"
   ]
  },
  {
   "cell_type": "code",
   "execution_count": null,
   "metadata": {},
   "outputs": [],
   "source": [
    "fifty_percent = format(x, '%')"
   ]
  },
  {
   "cell_type": "code",
   "execution_count": 30,
   "metadata": {},
   "outputs": [
    {
     "name": "stdout",
     "output_type": "stream",
     "text": [
      "<class 'str'>\n",
      "50.000000%\n"
     ]
    }
   ],
   "source": [
    "print(type(fifty_percent))\n",
    "print(fifty_percent)"
   ]
  },
  {
   "cell_type": "code",
   "execution_count": 37,
   "metadata": {},
   "outputs": [],
   "source": [
    "class Adder:\n",
    "    numbers_added = 0\n",
    "    def add_numbers(num1, num2):\n",
    "        self.numbers_added += 1\n",
    "        return num1 + num2"
   ]
  },
  {
   "cell_type": "code",
   "execution_count": 38,
   "metadata": {},
   "outputs": [],
   "source": [
    "ouradder = Adder()"
   ]
  },
  {
   "cell_type": "code",
   "execution_count": 39,
   "metadata": {},
   "outputs": [],
   "source": [
    "added = getattr(ouradder, \"numbers_added\")"
   ]
  },
  {
   "cell_type": "code",
   "execution_count": 40,
   "metadata": {},
   "outputs": [
    {
     "name": "stdout",
     "output_type": "stream",
     "text": [
      "0\n"
     ]
    }
   ],
   "source": [
    "print(added)"
   ]
  },
  {
   "cell_type": "code",
   "execution_count": 41,
   "metadata": {},
   "outputs": [],
   "source": [
    "class Player:\n",
    "    hp = 1"
   ]
  },
  {
   "cell_type": "code",
   "execution_count": 42,
   "metadata": {},
   "outputs": [],
   "source": [
    "class Bush:\n",
    "    def __init__(self, size):\n",
    "        self.size = size"
   ]
  },
  {
   "cell_type": "code",
   "execution_count": 44,
   "metadata": {},
   "outputs": [],
   "source": [
    "def check_hp(x):\n",
    "    print(x.hp)"
   ]
  },
  {
   "cell_type": "code",
   "execution_count": 46,
   "metadata": {},
   "outputs": [
    {
     "name": "stdout",
     "output_type": "stream",
     "text": [
      "1\n"
     ]
    }
   ],
   "source": [
    "check_hp(Player())"
   ]
  },
  {
   "cell_type": "code",
   "execution_count": 47,
   "metadata": {},
   "outputs": [
    {
     "ename": "AttributeError",
     "evalue": "'Bush' object has no attribute 'hp'",
     "output_type": "error",
     "traceback": [
      "\u001b[0;31m---------------------------------------------------------------------------\u001b[0m",
      "\u001b[0;31mAttributeError\u001b[0m                            Traceback (most recent call last)",
      "\u001b[0;32m<ipython-input-47-db55f11fe25f>\u001b[0m in \u001b[0;36m<module>\u001b[0;34m\u001b[0m\n\u001b[0;32m----> 1\u001b[0;31m \u001b[0mcheck_hp\u001b[0m\u001b[0;34m(\u001b[0m\u001b[0mBush\u001b[0m\u001b[0;34m(\u001b[0m\u001b[0;36m5\u001b[0m\u001b[0;34m)\u001b[0m\u001b[0;34m)\u001b[0m\u001b[0;34m\u001b[0m\u001b[0;34m\u001b[0m\u001b[0m\n\u001b[0m",
      "\u001b[0;32m<ipython-input-44-a0cd3e88111f>\u001b[0m in \u001b[0;36mcheck_hp\u001b[0;34m(x)\u001b[0m\n\u001b[1;32m      1\u001b[0m \u001b[0;32mdef\u001b[0m \u001b[0mcheck_hp\u001b[0m\u001b[0;34m(\u001b[0m\u001b[0mx\u001b[0m\u001b[0;34m)\u001b[0m\u001b[0;34m:\u001b[0m\u001b[0;34m\u001b[0m\u001b[0;34m\u001b[0m\u001b[0m\n\u001b[0;32m----> 2\u001b[0;31m     \u001b[0mprint\u001b[0m\u001b[0;34m(\u001b[0m\u001b[0mx\u001b[0m\u001b[0;34m.\u001b[0m\u001b[0mhp\u001b[0m\u001b[0;34m)\u001b[0m\u001b[0;34m\u001b[0m\u001b[0;34m\u001b[0m\u001b[0m\n\u001b[0m",
      "\u001b[0;31mAttributeError\u001b[0m: 'Bush' object has no attribute 'hp'"
     ]
    }
   ],
   "source": [
    "check_hp(Bush(5))"
   ]
  },
  {
   "cell_type": "code",
   "execution_count": 49,
   "metadata": {},
   "outputs": [],
   "source": [
    "def check_hp(x):\n",
    "    hp = getattr(x, \"hp\", 0)\n",
    "    print(hp)"
   ]
  },
  {
   "cell_type": "code",
   "execution_count": 50,
   "metadata": {},
   "outputs": [
    {
     "name": "stdout",
     "output_type": "stream",
     "text": [
      "0\n"
     ]
    }
   ],
   "source": [
    "check_hp(Bush(5))"
   ]
  },
  {
   "cell_type": "code",
   "execution_count": 51,
   "metadata": {},
   "outputs": [
    {
     "name": "stdout",
     "output_type": "stream",
     "text": [
      "{'__name__': '__main__', '__doc__': 'Automatically created module for IPython interactive environment', '__package__': None, '__loader__': None, '__spec__': None, '__builtin__': <module 'builtins' (built-in)>, '__builtins__': <module 'builtins' (built-in)>, '_ih': ['', 'mask = [0, 1, 0, 1]\\nd = [5, 10, 15, 20]', 'd[mask]', 'filter(d, mask)', 'z = filter(d, mask)', 'z', 'mask = [False, True, False, True]\\nd = [5, 10, 15, 20]', 'z = filter(d, mask)', 'z', 'def filter_func(x):\\n    if x < 5:\\n        return(False)\\n    else:\\n        return(True)', 'd = [1, 3, 5, 7, 9, 11]', 'z = filter(filter_func, d)', 'z', 'def filter_func(x):\\n    if x < 5:\\n        return(False)\\n    else:\\n        return(True)', 'd = [1, 3, 5, 7, 9, 11]', 'z = filter(filter_func, d)', 'z', 'for x in z:\\n    print(x)', 'vals = [w for w in z]', 'vals = [w for w in z]\\nprint(vals)', 'd = [1, 3, 5, 7, 9, 11]', 'z = filter(filter_func, d)', 'z', 'vals = [w for w in z]\\nprint(vals)', 'x = 20.22', \"money = format(x, '$')\", \"money = format(x, '%')\", 'x = .5', \"money = format(x, '%')\", \"fifty_percent = format(x, '%')\\nprint(type(fifty_percent))\\nprint(fifty_percent)\\nprint(fifty_percent + .1)\", \"fifty_percent = format(x, '%')\\nprint(type(fifty_percent))\\nprint(fifty_percent)\", 'class Adder:\\n\\n  def add_numbers(num1, num2):\\n    return num1 + num2', 'class Adder:\\n    numbers_added = 0\\n  def add_numbers(num1, num2):\\n    return num1 + num2', 'class Adder:\\n    numbers_added = 0\\n  def add_numbers(num1, num2):\\n    return num1 + num2', 'class Adder:\\n    numbers_added = 0\\n    def add_numbers(num1, num2):\\n        return num1 + num2', 'class Adder:\\n    numbers_added = 0\\n    def add_numbers(num1, num2):\\n        self.numbers_added += 1\\n        return num1 + num2', 'ouradder = Adder()', 'added = getattr(ouradder, \"numbers_added\")', 'print(added)', 'class Player:\\n    hp = 1', 'class Bush:\\n    def __init__(self, size):\\n        self.size = size', 'def hit(obj):\\n    obj.health -= 1', 'def check_hp(x):\\n    print(x.hp)', 'check_hp(Player(5))', 'check_hp(Player())', 'check_hp(Bush(5))', 'def check_hp(x):\\n    hp = getattr(x, \"hp\", 0)', 'def check_hp(x):\\n    hp = getattr(x, \"hp\", 0)\\n    print(hp)', 'check_hp(Bush(5))', 'x = globals()\\nprint(x)'], '_oh': {3: <filter object at 0x7fb78518e880>, 5: <filter object at 0x7fb787a03d60>, 8: <filter object at 0x7fb7851835e0>, 12: <filter object at 0x7fb785183a90>, 16: <filter object at 0x7fb7851834f0>, 22: <filter object at 0x7fb785183070>}, '_dh': ['/home/emmac/dev/nbs'], 'In': ['', 'mask = [0, 1, 0, 1]\\nd = [5, 10, 15, 20]', 'd[mask]', 'filter(d, mask)', 'z = filter(d, mask)', 'z', 'mask = [False, True, False, True]\\nd = [5, 10, 15, 20]', 'z = filter(d, mask)', 'z', 'def filter_func(x):\\n    if x < 5:\\n        return(False)\\n    else:\\n        return(True)', 'd = [1, 3, 5, 7, 9, 11]', 'z = filter(filter_func, d)', 'z', 'def filter_func(x):\\n    if x < 5:\\n        return(False)\\n    else:\\n        return(True)', 'd = [1, 3, 5, 7, 9, 11]', 'z = filter(filter_func, d)', 'z', 'for x in z:\\n    print(x)', 'vals = [w for w in z]', 'vals = [w for w in z]\\nprint(vals)', 'd = [1, 3, 5, 7, 9, 11]', 'z = filter(filter_func, d)', 'z', 'vals = [w for w in z]\\nprint(vals)', 'x = 20.22', \"money = format(x, '$')\", \"money = format(x, '%')\", 'x = .5', \"money = format(x, '%')\", \"fifty_percent = format(x, '%')\\nprint(type(fifty_percent))\\nprint(fifty_percent)\\nprint(fifty_percent + .1)\", \"fifty_percent = format(x, '%')\\nprint(type(fifty_percent))\\nprint(fifty_percent)\", 'class Adder:\\n\\n  def add_numbers(num1, num2):\\n    return num1 + num2', 'class Adder:\\n    numbers_added = 0\\n  def add_numbers(num1, num2):\\n    return num1 + num2', 'class Adder:\\n    numbers_added = 0\\n  def add_numbers(num1, num2):\\n    return num1 + num2', 'class Adder:\\n    numbers_added = 0\\n    def add_numbers(num1, num2):\\n        return num1 + num2', 'class Adder:\\n    numbers_added = 0\\n    def add_numbers(num1, num2):\\n        self.numbers_added += 1\\n        return num1 + num2', 'ouradder = Adder()', 'added = getattr(ouradder, \"numbers_added\")', 'print(added)', 'class Player:\\n    hp = 1', 'class Bush:\\n    def __init__(self, size):\\n        self.size = size', 'def hit(obj):\\n    obj.health -= 1', 'def check_hp(x):\\n    print(x.hp)', 'check_hp(Player(5))', 'check_hp(Player())', 'check_hp(Bush(5))', 'def check_hp(x):\\n    hp = getattr(x, \"hp\", 0)', 'def check_hp(x):\\n    hp = getattr(x, \"hp\", 0)\\n    print(hp)', 'check_hp(Bush(5))', 'x = globals()\\nprint(x)'], 'Out': {3: <filter object at 0x7fb78518e880>, 5: <filter object at 0x7fb787a03d60>, 8: <filter object at 0x7fb7851835e0>, 12: <filter object at 0x7fb785183a90>, 16: <filter object at 0x7fb7851834f0>, 22: <filter object at 0x7fb785183070>}, 'get_ipython': <bound method InteractiveShell.get_ipython of <ipykernel.zmqshell.ZMQInteractiveShell object at 0x7fb788a5b760>>, 'exit': <IPython.core.autocall.ZMQExitAutocall object at 0x7fb788a2bdf0>, 'quit': <IPython.core.autocall.ZMQExitAutocall object at 0x7fb788a2bdf0>, '_': <filter object at 0x7fb785183070>, '__': <filter object at 0x7fb7851834f0>, '___': <filter object at 0x7fb785183a90>, '_i': 'check_hp(Bush(5))', '_ii': 'def check_hp(x):\\n    hp = getattr(x, \"hp\", 0)\\n    print(hp)', '_iii': 'def check_hp(x):\\n    hp = getattr(x, \"hp\", 0)', '_i1': 'mask = [0, 1, 0, 1]\\nd = [5, 10, 15, 20]', 'mask': [False, True, False, True], 'd': [1, 3, 5, 7, 9, 11], '_i2': 'd[mask]', '_i3': 'filter(d, mask)', '_3': <filter object at 0x7fb78518e880>, '_i4': 'z = filter(d, mask)', 'z': <filter object at 0x7fb785183070>, '_i5': 'z', '_5': <filter object at 0x7fb787a03d60>, '_i6': 'mask = [False, True, False, True]\\nd = [5, 10, 15, 20]', '_i7': 'z = filter(d, mask)', '_i8': 'z', '_8': <filter object at 0x7fb7851835e0>, '_i9': 'def filter_func(x):\\n    if x < 5:\\n        return(False)\\n    else:\\n        return(True)', 'filter_func': <function filter_func at 0x7fb78492a9d0>, '_i10': 'd = [1, 3, 5, 7, 9, 11]', '_i11': 'z = filter(filter_func, d)', '_i12': 'z', '_12': <filter object at 0x7fb785183a90>, '_i13': 'def filter_func(x):\\n    if x < 5:\\n        return(False)\\n    else:\\n        return(True)', '_i14': 'd = [1, 3, 5, 7, 9, 11]', '_i15': 'z = filter(filter_func, d)', '_i16': 'z', '_16': <filter object at 0x7fb7851834f0>, '_i17': 'for x in z:\\n    print(x)', 'x': {...}, '_i18': 'vals = [w for w in z]', 'vals': [5, 7, 9, 11], '_i19': 'vals = [w for w in z]\\nprint(vals)', '_i20': 'd = [1, 3, 5, 7, 9, 11]', '_i21': 'z = filter(filter_func, d)', '_i22': 'z', '_22': <filter object at 0x7fb785183070>, '_i23': 'vals = [w for w in z]\\nprint(vals)', '_i24': 'x = 20.22', '_i25': \"money = format(x, '$')\", '_i26': \"money = format(x, '%')\", 'money': '50.000000%', '_i27': 'x = .5', '_i28': \"money = format(x, '%')\", '_i29': \"fifty_percent = format(x, '%')\\nprint(type(fifty_percent))\\nprint(fifty_percent)\\nprint(fifty_percent + .1)\", 'fifty_percent': '50.000000%', '_i30': \"fifty_percent = format(x, '%')\\nprint(type(fifty_percent))\\nprint(fifty_percent)\", '_i31': 'class Adder:\\n\\n  def add_numbers(num1, num2):\\n    return num1 + num2', 'Adder': <class '__main__.Adder'>, '_i32': 'class Adder:\\n    numbers_added = 0\\n  def add_numbers(num1, num2):\\n    return num1 + num2', '_i34': 'class Adder:\\n    numbers_added = 0\\n  def add_numbers(num1, num2):\\n    return num1 + num2', '_i36': 'class Adder:\\n    numbers_added = 0\\n    def add_numbers(num1, num2):\\n        return num1 + num2', '_i37': 'class Adder:\\n    numbers_added = 0\\n    def add_numbers(num1, num2):\\n        self.numbers_added += 1\\n        return num1 + num2', '_i38': 'ouradder = Adder()', 'ouradder': <__main__.Adder object at 0x7fb7848c8d00>, '_i39': 'added = getattr(ouradder, \"numbers_added\")', 'added': 0, '_i40': 'print(added)', '_i41': 'class Player:\\n    hp = 1', 'Player': <class '__main__.Player'>, '_i42': 'class Bush:\\n    def __init__(self, size):\\n        self.size = size', 'Bush': <class '__main__.Bush'>, '_i43': 'def hit(obj):\\n    obj.health -= 1', 'hit': <function hit at 0x7fb78492aa60>, '_i44': 'def check_hp(x):\\n    print(x.hp)', 'check_hp': <function check_hp at 0x7fb78492ac10>, '_i45': 'check_hp(Player(5))', '_i46': 'check_hp(Player())', '_i47': 'check_hp(Bush(5))', '_i48': 'def check_hp(x):\\n    hp = getattr(x, \"hp\", 0)', '_i49': 'def check_hp(x):\\n    hp = getattr(x, \"hp\", 0)\\n    print(hp)', '_i50': 'check_hp(Bush(5))', '_i51': 'x = globals()\\nprint(x)'}\n"
     ]
    }
   ],
   "source": [
    "x = globals()\n",
    "print(x)"
   ]
  },
  {
   "cell_type": "code",
   "execution_count": 53,
   "metadata": {},
   "outputs": [
    {
     "name": "stdout",
     "output_type": "stream",
     "text": [
      "spaghetti\n",
      "onions\n",
      "celery\n"
     ]
    }
   ],
   "source": [
    "mylist = iter([\"spaghetti\", \"onions\", \"celery\"])\n",
    "x = next(mylist)\n",
    "print(x)\n",
    "x = next(mylist)\n",
    "print(x)\n",
    "x = next(mylist)\n",
    "print(x)"
   ]
  },
  {
   "cell_type": "code",
   "execution_count": 54,
   "metadata": {},
   "outputs": [],
   "source": [
    "mylist = reversed([\"spaghetti\", \"onions\", \"celery\"])"
   ]
  },
  {
   "cell_type": "code",
   "execution_count": 55,
   "metadata": {},
   "outputs": [
    {
     "name": "stdout",
     "output_type": "stream",
     "text": [
      "celery\n",
      "onions\n",
      "spaghetti\n"
     ]
    }
   ],
   "source": [
    "x = next(mylist)\n",
    "print(x)\n",
    "x = next(mylist)\n",
    "print(x)\n",
    "x = next(mylist)\n",
    "print(x)"
   ]
  },
  {
   "cell_type": "code",
   "execution_count": 56,
   "metadata": {},
   "outputs": [
    {
     "name": "stdout",
     "output_type": "stream",
     "text": [
      "('b', 'e', 'h')\n"
     ]
    }
   ],
   "source": [
    "# Every third letter\n",
    "a = (\"a\", \"b\", \"c\", \"d\", \"e\", \"f\", \"g\", \"h\")\n",
    "x = slice(1, len(a), 3)\n",
    "print(a[x])"
   ]
  },
  {
   "cell_type": "code",
   "execution_count": null,
   "metadata": {},
   "outputs": [],
   "source": []
  }
 ],
 "metadata": {
  "kernelspec": {
   "display_name": "Python 3",
   "language": "python",
   "name": "python3"
  },
  "language_info": {
   "codemirror_mode": {
    "name": "ipython",
    "version": 3
   },
   "file_extension": ".py",
   "mimetype": "text/x-python",
   "name": "python",
   "nbconvert_exporter": "python",
   "pygments_lexer": "ipython3",
   "version": "3.9.9"
  }
 },
 "nbformat": 4,
 "nbformat_minor": 4
}
