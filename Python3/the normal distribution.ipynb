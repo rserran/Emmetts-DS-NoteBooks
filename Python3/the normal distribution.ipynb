{
 "cells": [
  {
   "cell_type": "code",
   "execution_count": 9,
   "id": "161078c8",
   "metadata": {},
   "outputs": [],
   "source": [
    "import numpy as np"
   ]
  },
  {
   "cell_type": "code",
   "execution_count": 10,
   "id": "7d9ff75c",
   "metadata": {},
   "outputs": [],
   "source": [
    "from numpy.random import normal"
   ]
  },
  {
   "cell_type": "code",
   "execution_count": 11,
   "id": "10cfaeb7",
   "metadata": {},
   "outputs": [
    {
     "data": {
      "text/plain": [
       "22.649809899329345"
      ]
     },
     "execution_count": 11,
     "metadata": {},
     "output_type": "execute_result"
    }
   ],
   "source": [
    "normal(20, 10)"
   ]
  },
  {
   "cell_type": "code",
   "execution_count": 12,
   "id": "fcd6319e",
   "metadata": {},
   "outputs": [],
   "source": [
    "from sklearn.preprocessing import StandardScaler"
   ]
  },
  {
   "cell_type": "code",
   "execution_count": 13,
   "id": "6948dc35",
   "metadata": {},
   "outputs": [],
   "source": [
    "scaler = StandardScaler()"
   ]
  },
  {
   "cell_type": "code",
   "execution_count": 14,
   "id": "54d967ae",
   "metadata": {},
   "outputs": [
    {
     "data": {
      "text/plain": [
       "array([[-1.22474487],\n",
       "       [ 0.        ],\n",
       "       [ 1.22474487]])"
      ]
     },
     "execution_count": 14,
     "metadata": {},
     "output_type": "execute_result"
    }
   ],
   "source": [
    "scaler.fit_transform(np.array([10, 20, 30]).reshape(-1, 1))"
   ]
  },
  {
   "cell_type": "code",
   "execution_count": 29,
   "id": "e689ad01",
   "metadata": {},
   "outputs": [],
   "source": [
    "mean = lambda x: sum(x) / len(x)"
   ]
  },
  {
   "cell_type": "code",
   "execution_count": 30,
   "id": "32be7397",
   "metadata": {},
   "outputs": [],
   "source": [
    "def std(array):\n",
    "    m = mean(array)\n",
    "    nm = [(i-m) ** 2 for i in array]\n",
    "    m = mean(nm)\n",
    "    m = sqrt(m)\n",
    "    return(m)"
   ]
  },
  {
   "cell_type": "code",
   "execution_count": 32,
   "id": "06f25ae5",
   "metadata": {},
   "outputs": [],
   "source": [
    "import statistics"
   ]
  },
  {
   "cell_type": "code",
   "execution_count": 34,
   "id": "e3336bc6",
   "metadata": {},
   "outputs": [
    {
     "data": {
      "text/plain": [
       "10.0"
      ]
     },
     "execution_count": 34,
     "metadata": {},
     "output_type": "execute_result"
    }
   ],
   "source": [
    "statistics.stdev([10, 20, 30])"
   ]
  },
  {
   "cell_type": "code",
   "execution_count": 41,
   "id": "2fd7f79e",
   "metadata": {},
   "outputs": [],
   "source": [
    "def normalize(vec):\n",
    "    mu = mean(vec)\n",
    "    sigma = statistics.stdev(vec)\n",
    "    return([(mu - x) / sigma for x in vec])"
   ]
  },
  {
   "cell_type": "code",
   "execution_count": 42,
   "id": "2c74ec65",
   "metadata": {},
   "outputs": [
    {
     "data": {
      "text/plain": [
       "[1.0, 0.0, -1.0]"
      ]
     },
     "execution_count": 42,
     "metadata": {},
     "output_type": "execute_result"
    }
   ],
   "source": [
    "normalize([10, 20, 30])"
   ]
  },
  {
   "cell_type": "code",
   "execution_count": null,
   "id": "0bd77ac0",
   "metadata": {},
   "outputs": [],
   "source": []
  }
 ],
 "metadata": {
  "kernelspec": {
   "display_name": "Python 3 (ipykernel)",
   "language": "python",
   "name": "python3"
  },
  "language_info": {
   "codemirror_mode": {
    "name": "ipython",
    "version": 3
   },
   "file_extension": ".py",
   "mimetype": "text/x-python",
   "name": "python",
   "nbconvert_exporter": "python",
   "pygments_lexer": "ipython3",
   "version": "3.11.7"
  }
 },
 "nbformat": 4,
 "nbformat_minor": 5
}
