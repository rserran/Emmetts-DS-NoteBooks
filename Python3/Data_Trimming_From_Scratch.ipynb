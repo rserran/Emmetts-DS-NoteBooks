{
  "nbformat": 4,
  "nbformat_minor": 0,
  "metadata": {
    "colab": {
      "provenance": []
    },
    "kernelspec": {
      "name": "python3",
      "display_name": "Python 3"
    },
    "language_info": {
      "name": "python"
    }
  },
  "cells": [
    {
      "cell_type": "code",
      "execution_count": 1,
      "metadata": {
        "id": "r-IxvhN7rpp5"
      },
      "outputs": [],
      "source": [
        "from math import sqrt\n",
        "import pandas as pd"
      ]
    },
    {
      "cell_type": "code",
      "source": [
        "colors = [\"brown\", \"black\", \"gray\", \"black\", \"black\", \"green\",\n",
        "\"green\", \"brown\", \"red\", \"black\", \"brown\", \"white\", \"brown\", \"black\", \"green\",\n",
        "\"black\", \"black\", \"green\"]\n",
        "lengths = [8, 5, 2, 2, 24, 5, 1, 2, 125, 2, 4, 5, 34, 6, 7, 5, 16, 92]"
      ],
      "metadata": {
        "id": "JTBeOjaXr-eC"
      },
      "execution_count": 51,
      "outputs": []
    },
    {
      "cell_type": "code",
      "source": [
        "df = pd.DataFrame({\n",
        "\"length\": lengths,\n",
        "\"color\": colors})"
      ],
      "metadata": {
        "id": "ETbho7Z9rx47"
      },
      "execution_count": 52,
      "outputs": []
    },
    {
      "cell_type": "code",
      "source": [
        "def mean(vec : list):\n",
        "    return(sum(vec) / len(vec))"
      ],
      "metadata": {
        "id": "sALezb_zryc0"
      },
      "execution_count": 53,
      "outputs": []
    },
    {
      "cell_type": "code",
      "source": [
        "def variance(vec : list):\n",
        "    mu = mean(vec)\n",
        "    return(sum(pow(x-mu,2) for x in vec) / len(vec))"
      ],
      "metadata": {
        "id": "aSzZmVResXWm"
      },
      "execution_count": 54,
      "outputs": []
    },
    {
      "cell_type": "code",
      "source": [
        "def std(vec : list):\n",
        "    return(sqrt(variance(vec)))"
      ],
      "metadata": {
        "id": "_Wr2UK84sYy0"
      },
      "execution_count": 55,
      "outputs": []
    },
    {
      "cell_type": "code",
      "source": [
        "def z_normalize(vec : list):\n",
        "    mu = mean(vec)\n",
        "    sigma = std(vec)\n",
        "    return([(mu - xbar) / sigma for xbar in vec])"
      ],
      "metadata": {
        "id": "YW3ACgMjsa3a"
      },
      "execution_count": 56,
      "outputs": []
    },
    {
      "cell_type": "code",
      "source": [
        "def z_trim(vec : list, fill = None, limit = 2.0):\n",
        "    mu = mean(vec)\n",
        "    sigma = std(vec)\n",
        "    normed = z_normalize(vec)\n",
        "    offset = 0\n",
        "    for e, i in enumerate(normed):\n",
        "        if i > limit or i < -limit:\n",
        "            if fill == None:\n",
        "              del vec[e - offset]\n",
        "              offset += 1\n",
        "            else:\n",
        "              vec[e - offset] = fill\n",
        "    return(vec)"
      ],
      "metadata": {
        "id": "j6-L36_HsdA_"
      },
      "execution_count": 57,
      "outputs": []
    },
    {
      "cell_type": "code",
      "source": [
        "z_trim([5, 10, 15, 20, 25, 90], 5)"
      ],
      "metadata": {
        "colab": {
          "base_uri": "https://localhost:8080/"
        },
        "id": "Jsv_IyW9sfpv",
        "outputId": "7defe034-87ae-4b3c-bbdc-6d73fb693667"
      },
      "execution_count": 58,
      "outputs": [
        {
          "output_type": "execute_result",
          "data": {
            "text/plain": [
              "[5, 10, 15, 20, 25, 5]"
            ]
          },
          "metadata": {},
          "execution_count": 58
        }
      ]
    },
    {
      "cell_type": "code",
      "source": [
        "z_normalize([5, 10, 15])"
      ],
      "metadata": {
        "colab": {
          "base_uri": "https://localhost:8080/"
        },
        "id": "8AAXz-qFssCd",
        "outputId": "34b39e64-75d9-406b-a527-50f897bffd3f"
      },
      "execution_count": 59,
      "outputs": [
        {
          "output_type": "execute_result",
          "data": {
            "text/plain": [
              "[1.224744871391589, 0.0, -1.224744871391589]"
            ]
          },
          "metadata": {},
          "execution_count": 59
        }
      ]
    },
    {
      "cell_type": "code",
      "source": [
        "import matplotlib as mpl\n",
        "import matplotlib.pyplot as plt"
      ],
      "metadata": {
        "id": "0he65McGt_ZW"
      },
      "execution_count": 82,
      "outputs": []
    },
    {
      "cell_type": "code",
      "source": [
        "mpl.rcParams['axes.prop_cycle'] = mpl.cycler(color=['r', 'g', 'b', 'y'])"
      ],
      "metadata": {
        "id": "bp_MtNL4wAdM"
      },
      "execution_count": 83,
      "outputs": []
    },
    {
      "cell_type": "code",
      "source": [
        "plt.hist(df[\"length\"])"
      ],
      "metadata": {
        "colab": {
          "base_uri": "https://localhost:8080/",
          "height": 499
        },
        "id": "T9ZCRbgpuYjR",
        "outputId": "403e839c-4295-4548-a61f-e27f3b853e49"
      },
      "execution_count": 84,
      "outputs": [
        {
          "output_type": "execute_result",
          "data": {
            "text/plain": [
              "(array([13.,  2.,  1.,  0.,  0.,  0.,  0.,  1.,  0.,  1.]),\n",
              " array([  1. ,  13.4,  25.8,  38.2,  50.6,  63. ,  75.4,  87.8, 100.2,\n",
              "        112.6, 125. ]),\n",
              " <BarContainer object of 10 artists>)"
            ]
          },
          "metadata": {},
          "execution_count": 84
        },
        {
          "output_type": "display_data",
          "data": {
            "text/plain": [
              "<Figure size 640x480 with 1 Axes>"
            ],
            "image/png": "[encoded data removed]"
          },
          "metadata": {}
        }
      ]
    },
    {
      "cell_type": "code",
      "source": [
        "trimmed_vec = z_trim(lenvec, fill = mean(lenvec))"
      ],
      "metadata": {
        "id": "-DEvOaYEtid-"
      },
      "execution_count": 85,
      "outputs": []
    },
    {
      "cell_type": "code",
      "source": [
        "plt.hist(trimmed_vec)"
      ],
      "metadata": {
        "colab": {
          "base_uri": "https://localhost:8080/",
          "height": 482
        },
        "id": "9i3modstuy4_",
        "outputId": "0e1fb704-843b-4ae9-b31d-bb88c3cf0c59"
      },
      "execution_count": 86,
      "outputs": [
        {
          "output_type": "execute_result",
          "data": {
            "text/plain": [
              "(array([1., 4., 0., 0., 1., 4., 1., 2., 1., 2.]),\n",
              " array([1. , 1.7, 2.4, 3.1, 3.8, 4.5, 5.2, 5.9, 6.6, 7.3, 8. ]),\n",
              " <BarContainer object of 10 artists>)"
            ]
          },
          "metadata": {},
          "execution_count": 86
        },
        {
          "output_type": "display_data",
          "data": {
            "text/plain": [
              "<Figure size 640x480 with 1 Axes>"
            ],
            "image/png": "[encoded data removed]"
          },
          "metadata": {}
        }
      ]
    },
    {
      "cell_type": "code",
      "source": [],
      "metadata": {
        "id": "DC5iTkr2vqrq"
      },
      "execution_count": null,
      "outputs": []
    }
  ]
}