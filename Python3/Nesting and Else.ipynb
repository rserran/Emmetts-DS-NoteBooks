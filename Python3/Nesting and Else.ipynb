{
 "cells": [
  {
   "cell_type": "markdown",
   "metadata": {},
   "source": [
    "# Nesting\n",
    "In order to understand the problems with else blocks, we need to first understand nesting. In a lot of ways, we can think of nesting as layers to a given block of code. The important thing to remember about nesting is that it is a loop in itself, whether that loop is repeating or not. Anything that is nested is likely to have its own scope, meaning that values declared in its scope will not be global. Furthermore, a simple method is a layer of nesting directly below the global scope. In the example of a module, we can have a layer of nesting coming down from global to the module, then the method within the module, then an iterative loop within that method. Let's take a look at an iterative loop to demonstrate this further."
   ]
  },
  {
   "cell_type": "code",
   "execution_count": 3,
   "metadata": {},
   "outputs": [
    {
     "name": "stdout",
     "output_type": "stream",
     "text": [
      "5\n",
      "5\n",
      "5\n",
      "5\n"
     ]
    }
   ],
   "source": [
    "for iteration in range(1, 5):\n",
    "    z = 5\n",
    "    print(z)"
   ]
  },
  {
   "cell_type": "code",
   "execution_count": 5,
   "metadata": {},
   "outputs": [
    {
     "name": "stdout",
     "output_type": "stream",
     "text": [
      "iteration\n",
      "iteration\n",
      "iteration\n",
      "iteration\n",
      "5\n",
      "iteration\n",
      "iteration\n",
      "iteration\n",
      "iteration\n",
      "5\n",
      "iteration\n",
      "iteration\n",
      "iteration\n",
      "iteration\n",
      "5\n",
      "iteration\n",
      "iteration\n",
      "iteration\n",
      "iteration\n",
      "5\n"
     ]
    }
   ],
   "source": [
    "for iteration in range(1, 5):\n",
    "    z = 5\n",
    "    for i in range(1, z):\n",
    "        print(\"iteration\")\n",
    "    print(z)"
   ]
  },
  {
   "cell_type": "markdown",
   "metadata": {},
   "source": [
    "# Else\n",
    "Now that we understand nesting, the significant problem of else when it comes to readability quickly becomes pretty obvious. The else key-word relies heavily on the code that is written before it. We cannot use an else block without first writing an if block. The following code, for example, is not valid syntax:"
   ]
  },
  {
   "cell_type": "code",
   "execution_count": 6,
   "metadata": {},
   "outputs": [
    {
     "ename": "SyntaxError",
     "evalue": "invalid syntax (<ipython-input-6-b02a17042a90>, line 1)",
     "output_type": "error",
     "traceback": [
      "\u001b[0;36m  File \u001b[0;32m\"<ipython-input-6-b02a17042a90>\"\u001b[0;36m, line \u001b[0;32m1\u001b[0m\n\u001b[0;31m    else:\u001b[0m\n\u001b[0m    ^\u001b[0m\n\u001b[0;31mSyntaxError\u001b[0m\u001b[0;31m:\u001b[0m invalid syntax\n"
     ]
    }
   ],
   "source": [
    "else:\n",
    "    print(\"hi\")"
   ]
  },
  {
   "cell_type": "code",
   "execution_count": 7,
   "metadata": {},
   "outputs": [],
   "source": [
    "def else_test(x):\n",
    "    if x == 5:\n",
    "        print(\"five\")\n",
    "    elif x == 4:\n",
    "        print(\"four\")\n",
    "    elif x == 3:\n",
    "        print(\"three\")\n",
    "    elif x == 2:\n",
    "        print(\"two\")\n",
    "    else:\n",
    "        print(\"one\")"
   ]
  },
  {
   "cell_type": "code",
   "execution_count": 9,
   "metadata": {},
   "outputs": [],
   "source": [
    "def else_test(x):\n",
    "    if x == 5:\n",
    "        print(\"five\")\n",
    "    if x == 4:\n",
    "        print(\"four\")\n",
    "    if x == 3:\n",
    "        print(\"three\")\n",
    "    if x == 2:\n",
    "        print(\"two\")\n",
    "    if x == 1:\n",
    "        print(\"one\")"
   ]
  },
  {
   "cell_type": "code",
   "execution_count": null,
   "metadata": {},
   "outputs": [],
   "source": []
  }
 ],
 "metadata": {
  "kernelspec": {
   "display_name": "Python 3",
   "language": "python",
   "name": "python3"
  },
  "language_info": {
   "codemirror_mode": {
    "name": "ipython",
    "version": 3
   },
   "file_extension": ".py",
   "mimetype": "text/x-python",
   "name": "python",
   "nbconvert_exporter": "python",
   "pygments_lexer": "ipython3",
   "version": "3.8.6"
  }
 },
 "nbformat": 4,
 "nbformat_minor": 4
}
