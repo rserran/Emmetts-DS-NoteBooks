{
 "cells": [
  {
   "cell_type": "markdown",
   "metadata": {},
   "source": [
    "# Indexable Types"
   ]
  },
  {
   "cell_type": "code",
   "execution_count": 13,
   "metadata": {},
   "outputs": [],
   "source": [
    "class Winners:\n",
    "    def __init__(self, first, second, third):\n",
    "        self.first, self.second = first, second\n",
    "        self.third = third\n",
    "        self.index = dict({1 : self.first, 2 : self.second, \n",
    "                     3 : self.third})\n",
    "    def __getitem__(self, x):\n",
    "        try:\n",
    "            return(self.index[x])\n",
    "        except KeyError:\n",
    "            print(\"\"\"KeyError!\\n Only keys 1-3 are stored in this class!\"\"\")"
   ]
  },
  {
   "cell_type": "code",
   "execution_count": 14,
   "metadata": {},
   "outputs": [],
   "source": [
    "race_winners = Winners(\"Nancy\", \"Bobby\", \"Reagan\")"
   ]
  },
  {
   "cell_type": "code",
   "execution_count": 15,
   "metadata": {},
   "outputs": [
    {
     "name": "stdout",
     "output_type": "stream",
     "text": [
      "KeyError!\n",
      " Only keys 1-3 are stored in this class!\n"
     ]
    }
   ],
   "source": [
    "race_winners[4]"
   ]
  },
  {
   "cell_type": "code",
   "execution_count": 18,
   "metadata": {},
   "outputs": [
    {
     "name": "stdout",
     "output_type": "stream",
     "text": [
      "Nancy\n",
      "Bobby\n",
      "Reagan\n"
     ]
    }
   ],
   "source": [
    "print(race_winners[1])\n",
    "print(race_winners[2])\n",
    "print(race_winners[3])"
   ]
  },
  {
   "cell_type": "code",
   "execution_count": 19,
   "metadata": {},
   "outputs": [],
   "source": [
    "dct = dict({\"A\" : [5, 10, 15], \"B\" : [5, 10, 15]})"
   ]
  },
  {
   "cell_type": "code",
   "execution_count": 20,
   "metadata": {},
   "outputs": [],
   "source": [
    "lst = dct[\"A\"]"
   ]
  },
  {
   "cell_type": "code",
   "execution_count": 22,
   "metadata": {},
   "outputs": [
    {
     "data": {
      "text/plain": [
       "10"
      ]
     },
     "execution_count": 22,
     "metadata": {},
     "output_type": "execute_result"
    }
   ],
   "source": [
    "lst[1]"
   ]
  },
  {
   "cell_type": "code",
   "execution_count": 23,
   "metadata": {},
   "outputs": [
    {
     "data": {
      "text/plain": [
       "'e'"
      ]
     },
     "execution_count": 23,
     "metadata": {},
     "output_type": "execute_result"
    }
   ],
   "source": [
    "\"Hello\"[1]"
   ]
  },
  {
   "cell_type": "markdown",
   "metadata": {},
   "source": [
    "# Setting Indexes"
   ]
  },
  {
   "cell_type": "code",
   "execution_count": null,
   "metadata": {},
   "outputs": [],
   "source": [
    "class Winners:\n",
    "    def __init__(self, first, second, third):\n",
    "        self.first, self.second = first, second\n",
    "        self.third = third\n",
    "        self.index = dict({1 : self.first, 2 : self.second, \n",
    "                     3 : self.third})\n",
    "    def __getitem__(self, x):\n",
    "        try:\n",
    "            return(self.index[x])\n",
    "        except KeyError:\n",
    "            print(\"\"\"KeyError!\\n Only keys 1-3 are stored in this class!\"\"\")"
   ]
  },
  {
   "cell_type": "code",
   "execution_count": 37,
   "metadata": {},
   "outputs": [],
   "source": [
    "class Winners:\n",
    "    def __init__(self, first, second, third):\n",
    "        self.first, self.second = first, second\n",
    "        self.third = third\n",
    "        self.index = dict({1 : self.first, 2 : self.second, \n",
    "                     3 : self.third})\n",
    "    def __getitem__(self, x):\n",
    "        try:\n",
    "            return(self.index[x])\n",
    "        except KeyError:\n",
    "            print(\"\"\"KeyError!\\n Only keys 1-3 are stored in this class!\"\"\")\n",
    "    def __setitem__(self, x, y):\n",
    "        self.index[x] = y"
   ]
  },
  {
   "cell_type": "code",
   "execution_count": 38,
   "metadata": {},
   "outputs": [],
   "source": [
    "race_winners = Winners(\"Nancy\", \"Bobby\", \"Reagan\")"
   ]
  },
  {
   "cell_type": "code",
   "execution_count": 39,
   "metadata": {},
   "outputs": [
    {
     "name": "stdout",
     "output_type": "stream",
     "text": [
      "dict_values(['Nancy', 'Bobby', 'Reagan'])\n"
     ]
    }
   ],
   "source": [
    "print(race_winners.index.values())"
   ]
  },
  {
   "cell_type": "code",
   "execution_count": 40,
   "metadata": {},
   "outputs": [],
   "source": [
    "race_winners[2] = \"John\""
   ]
  },
  {
   "cell_type": "code",
   "execution_count": 41,
   "metadata": {},
   "outputs": [
    {
     "name": "stdout",
     "output_type": "stream",
     "text": [
      "dict_values(['Nancy', 'John', 'Reagan'])\n"
     ]
    }
   ],
   "source": [
    "print(race_winners.index.values())"
   ]
  },
  {
   "cell_type": "code",
   "execution_count": 46,
   "metadata": {},
   "outputs": [],
   "source": [
    "z = [5, 10]\n",
    "z[1] = 1\n",
    "d = dict({\"h\" : 5, \"z\" : 6})\n",
    "d[\"z\"] = 5\n",
    "assert d[\"z\"] == d[\"h\"]\n",
    "assert z[1] < z[0]"
   ]
  },
  {
   "cell_type": "markdown",
   "metadata": {},
   "source": [
    "# Useful methods"
   ]
  },
  {
   "cell_type": "code",
   "execution_count": 72,
   "metadata": {},
   "outputs": [],
   "source": [
    "lst = [5, 1, 6, 4, 5, 7, 3, \n",
    "      5, 4, 3, 1, 2, 3, 4,]"
   ]
  },
  {
   "cell_type": "code",
   "execution_count": 73,
   "metadata": {},
   "outputs": [],
   "source": [
    "lst.insert(5, 3)"
   ]
  },
  {
   "cell_type": "code",
   "execution_count": 74,
   "metadata": {},
   "outputs": [],
   "source": [
    "lst.append(5)"
   ]
  },
  {
   "cell_type": "code",
   "execution_count": 75,
   "metadata": {},
   "outputs": [],
   "source": [
    "lst2 = []\n",
    "for z in lst:\n",
    "    lst2.append(z * 3 + 2) "
   ]
  },
  {
   "cell_type": "code",
   "execution_count": 76,
   "metadata": {},
   "outputs": [
    {
     "name": "stdout",
     "output_type": "stream",
     "text": [
      "[17, 5, 20, 14, 17, 11, 23, 11, 17, 14, 11, 5, 8, 11, 14, 17]\n"
     ]
    }
   ],
   "source": [
    "print(lst2)"
   ]
  },
  {
   "cell_type": "code",
   "execution_count": 77,
   "metadata": {},
   "outputs": [],
   "source": [
    "lst.remove(1)"
   ]
  },
  {
   "cell_type": "code",
   "execution_count": 78,
   "metadata": {},
   "outputs": [
    {
     "name": "stdout",
     "output_type": "stream",
     "text": [
      "[5, 6, 4, 5, 3, 7, 3, 5, 4, 3, 1, 2, 3, 4, 5]\n"
     ]
    }
   ],
   "source": [
    "print(lst)"
   ]
  },
  {
   "cell_type": "code",
   "execution_count": 61,
   "metadata": {},
   "outputs": [],
   "source": [
    "lst.extend([101, 503])"
   ]
  },
  {
   "cell_type": "code",
   "execution_count": 62,
   "metadata": {},
   "outputs": [
    {
     "data": {
      "text/plain": [
       "4"
      ]
     },
     "execution_count": 62,
     "metadata": {},
     "output_type": "execute_result"
    }
   ],
   "source": [
    "lst.count(5)"
   ]
  },
  {
   "cell_type": "code",
   "execution_count": 64,
   "metadata": {},
   "outputs": [
    {
     "name": "stdout",
     "output_type": "stream",
     "text": [
      "5\n"
     ]
    }
   ],
   "source": [
    "digit_n = {}\n",
    "for x in set(lst):\n",
    "    cnt = lst.count(x)\n",
    "    digit_n[cnt] = x\n",
    "mode = digit_n[max(digit_n.keys())]\n",
    "print(mode)"
   ]
  },
  {
   "cell_type": "code",
   "execution_count": 65,
   "metadata": {},
   "outputs": [],
   "source": [
    "lst.sort()"
   ]
  },
  {
   "cell_type": "code",
   "execution_count": 71,
   "metadata": {},
   "outputs": [
    {
     "name": "stdout",
     "output_type": "stream",
     "text": [
      "7\n",
      "5\n"
     ]
    }
   ],
   "source": [
    "medianindex = int(len(lst) / 2)\n",
    "print(medianindex)\n",
    "print(lst[medianindex])"
   ]
  },
  {
   "cell_type": "code",
   "execution_count": null,
   "metadata": {},
   "outputs": [],
   "source": []
  }
 ],
 "metadata": {
  "kernelspec": {
   "display_name": "Python 3",
   "language": "python",
   "name": "python3"
  },
  "language_info": {
   "codemirror_mode": {
    "name": "ipython",
    "version": 3
   },
   "file_extension": ".py",
   "mimetype": "text/x-python",
   "name": "python",
   "nbconvert_exporter": "python",
   "pygments_lexer": "ipython3",
   "version": "3.8.10"
  }
 },
 "nbformat": 4,
 "nbformat_minor": 4
}
