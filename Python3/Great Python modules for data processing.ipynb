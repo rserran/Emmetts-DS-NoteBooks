{
 "cells": [
  {
   "cell_type": "code",
   "execution_count": 1,
   "metadata": {},
   "outputs": [
    {
     "name": "stdout",
     "output_type": "stream",
     "text": [
      "Requirement already satisfied: numerizer in /home/emmett/.local/lib/python3.8/site-packages (0.2.0)\r\n"
     ]
    }
   ],
   "source": [
    "!pip install numerizer"
   ]
  },
  {
   "cell_type": "code",
   "execution_count": 2,
   "metadata": {},
   "outputs": [],
   "source": [
    "from numerizer import numerize"
   ]
  },
  {
   "cell_type": "code",
   "execution_count": 3,
   "metadata": {},
   "outputs": [
    {
     "name": "stdout",
     "output_type": "stream",
     "text": [
      "1 2 3\n",
      "105\n",
      "20 point 1\n",
      "6.6\n",
      "1/4\n",
      "1000000000000000\n"
     ]
    }
   ],
   "source": [
    "print(numerize('one two three'))\n",
    "print(numerize('One Hundred and five'))\n",
    "print(numerize('twenty point one'))\n",
    "print(numerize('six and three fifths'))\n",
    "print(numerize('one quarter'))\n",
    "print(numerize('one million billion'))"
   ]
  },
  {
   "cell_type": "code",
   "execution_count": 4,
   "metadata": {},
   "outputs": [
    {
     "name": "stdout",
     "output_type": "stream",
     "text": [
      "Requirement already satisfied: faker in /home/emmett/.local/lib/python3.8/site-packages (7.0.1)\r\n",
      "Requirement already satisfied: text-unidecode==1.3 in /home/emmett/.local/lib/python3.8/site-packages (from faker) (1.3)\r\n",
      "Requirement already satisfied: python-dateutil>=2.4 in /usr/lib/python3/dist-packages (from faker) (2.8.1)\r\n"
     ]
    }
   ],
   "source": [
    "!pip install faker"
   ]
  },
  {
   "cell_type": "code",
   "execution_count": 5,
   "metadata": {},
   "outputs": [],
   "source": [
    "from faker import Faker\n",
    "import pandas as pd"
   ]
  },
  {
   "cell_type": "code",
   "execution_count": 6,
   "metadata": {},
   "outputs": [],
   "source": [
    "fake = Faker()"
   ]
  },
  {
   "cell_type": "code",
   "execution_count": 7,
   "metadata": {},
   "outputs": [],
   "source": [
    "df = pd.DataFrame({\"Name\" : [fake.name() for x in range(1, 200)],\n",
    "                   \"Website\" : [fake.url() for x in range(1, 200)]\n",
    "                  })"
   ]
  },
  {
   "cell_type": "code",
   "execution_count": 8,
   "metadata": {},
   "outputs": [
    {
     "data": {
      "text/html": [
       "<div>\n",
       "<style scoped>\n",
       "    .dataframe tbody tr th:only-of-type {\n",
       "        vertical-align: middle;\n",
       "    }\n",
       "\n",
       "    .dataframe tbody tr th {\n",
       "        vertical-align: top;\n",
       "    }\n",
       "\n",
       "    .dataframe thead th {\n",
       "        text-align: right;\n",
       "    }\n",
       "</style>\n",
       "<table border=\"1\" class=\"dataframe\">\n",
       "  <thead>\n",
       "    <tr style=\"text-align: right;\">\n",
       "      <th></th>\n",
       "      <th>Name</th>\n",
       "      <th>Website</th>\n",
       "    </tr>\n",
       "  </thead>\n",
       "  <tbody>\n",
       "    <tr>\n",
       "      <th>0</th>\n",
       "      <td>Rickey Watkins</td>\n",
       "      <td>https://duran-moore.com/</td>\n",
       "    </tr>\n",
       "    <tr>\n",
       "      <th>1</th>\n",
       "      <td>Douglas Anderson</td>\n",
       "      <td>http://www.garcia.com/</td>\n",
       "    </tr>\n",
       "    <tr>\n",
       "      <th>2</th>\n",
       "      <td>Jesse Nelson</td>\n",
       "      <td>http://www.aguilar.com/</td>\n",
       "    </tr>\n",
       "    <tr>\n",
       "      <th>3</th>\n",
       "      <td>Kayla Long</td>\n",
       "      <td>https://cox-santana.com/</td>\n",
       "    </tr>\n",
       "    <tr>\n",
       "      <th>4</th>\n",
       "      <td>Jeffrey Johnson</td>\n",
       "      <td>https://www.briggs.com/</td>\n",
       "    </tr>\n",
       "    <tr>\n",
       "      <th>5</th>\n",
       "      <td>Alyssa White</td>\n",
       "      <td>http://munoz.com/</td>\n",
       "    </tr>\n",
       "    <tr>\n",
       "      <th>6</th>\n",
       "      <td>John Hall</td>\n",
       "      <td>http://garcia-knight.com/</td>\n",
       "    </tr>\n",
       "    <tr>\n",
       "      <th>7</th>\n",
       "      <td>Denise Flores</td>\n",
       "      <td>http://www.dillon-matthews.net/</td>\n",
       "    </tr>\n",
       "    <tr>\n",
       "      <th>8</th>\n",
       "      <td>Cheryl Joseph</td>\n",
       "      <td>https://daugherty.com/</td>\n",
       "    </tr>\n",
       "    <tr>\n",
       "      <th>9</th>\n",
       "      <td>Patricia Floyd</td>\n",
       "      <td>https://odonnell.com/</td>\n",
       "    </tr>\n",
       "    <tr>\n",
       "      <th>10</th>\n",
       "      <td>Angela Short</td>\n",
       "      <td>http://chandler-howell.com/</td>\n",
       "    </tr>\n",
       "    <tr>\n",
       "      <th>11</th>\n",
       "      <td>Thomas Johnson</td>\n",
       "      <td>http://hall-vasquez.net/</td>\n",
       "    </tr>\n",
       "    <tr>\n",
       "      <th>12</th>\n",
       "      <td>Bradley Bush</td>\n",
       "      <td>http://www.fleming.com/</td>\n",
       "    </tr>\n",
       "    <tr>\n",
       "      <th>13</th>\n",
       "      <td>Jeffrey Larson</td>\n",
       "      <td>http://butler.net/</td>\n",
       "    </tr>\n",
       "    <tr>\n",
       "      <th>14</th>\n",
       "      <td>Monique Parker</td>\n",
       "      <td>http://scott-david.com/</td>\n",
       "    </tr>\n",
       "    <tr>\n",
       "      <th>15</th>\n",
       "      <td>Richard Cardenas</td>\n",
       "      <td>https://cooper-reese.com/</td>\n",
       "    </tr>\n",
       "    <tr>\n",
       "      <th>16</th>\n",
       "      <td>Samuel Thomas</td>\n",
       "      <td>https://www.mcdonald.com/</td>\n",
       "    </tr>\n",
       "    <tr>\n",
       "      <th>17</th>\n",
       "      <td>Erik Taylor</td>\n",
       "      <td>http://pierce.biz/</td>\n",
       "    </tr>\n",
       "    <tr>\n",
       "      <th>18</th>\n",
       "      <td>Alexander Boone</td>\n",
       "      <td>https://hernandez-mendez.com/</td>\n",
       "    </tr>\n",
       "    <tr>\n",
       "      <th>19</th>\n",
       "      <td>Hunter Harris</td>\n",
       "      <td>http://www.moody.com/</td>\n",
       "    </tr>\n",
       "  </tbody>\n",
       "</table>\n",
       "</div>"
      ],
      "text/plain": [
       "                Name                          Website\n",
       "0     Rickey Watkins         https://duran-moore.com/\n",
       "1   Douglas Anderson           http://www.garcia.com/\n",
       "2       Jesse Nelson          http://www.aguilar.com/\n",
       "3         Kayla Long         https://cox-santana.com/\n",
       "4    Jeffrey Johnson          https://www.briggs.com/\n",
       "5       Alyssa White                http://munoz.com/\n",
       "6          John Hall        http://garcia-knight.com/\n",
       "7      Denise Flores  http://www.dillon-matthews.net/\n",
       "8      Cheryl Joseph           https://daugherty.com/\n",
       "9     Patricia Floyd            https://odonnell.com/\n",
       "10      Angela Short      http://chandler-howell.com/\n",
       "11    Thomas Johnson         http://hall-vasquez.net/\n",
       "12      Bradley Bush          http://www.fleming.com/\n",
       "13    Jeffrey Larson               http://butler.net/\n",
       "14    Monique Parker          http://scott-david.com/\n",
       "15  Richard Cardenas        https://cooper-reese.com/\n",
       "16     Samuel Thomas        https://www.mcdonald.com/\n",
       "17       Erik Taylor               http://pierce.biz/\n",
       "18   Alexander Boone    https://hernandez-mendez.com/\n",
       "19     Hunter Harris            http://www.moody.com/"
      ]
     },
     "execution_count": 8,
     "metadata": {},
     "output_type": "execute_result"
    }
   ],
   "source": [
    "df.head(20)"
   ]
  },
  {
   "cell_type": "code",
   "execution_count": 9,
   "metadata": {},
   "outputs": [
    {
     "name": "stdout",
     "output_type": "stream",
     "text": [
      "Requirement already satisfied: missingno in /home/emmett/.local/lib/python3.8/site-packages (0.4.2)\n",
      "Requirement already satisfied: numpy in /usr/local/lib/python3.8/dist-packages (from missingno) (1.20.2)\n",
      "Requirement already satisfied: seaborn in /home/emmett/.local/lib/python3.8/site-packages (from missingno) (0.11.1)\n",
      "Requirement already satisfied: scipy in /home/emmett/.local/lib/python3.8/site-packages (from missingno) (1.6.2)\n",
      "Requirement already satisfied: matplotlib in /home/emmett/.local/lib/python3.8/site-packages (from missingno) (3.4.1)\n",
      "Requirement already satisfied: pandas>=0.23 in /usr/local/lib/python3.8/dist-packages (from seaborn->missingno) (1.2.3)\n",
      "Requirement already satisfied: pillow>=6.2.0 in /home/emmett/.local/lib/python3.8/site-packages (from matplotlib->missingno) (8.2.0)\n",
      "Requirement already satisfied: cycler>=0.10 in /home/emmett/.local/lib/python3.8/site-packages (from matplotlib->missingno) (0.10.0)\n",
      "Requirement already satisfied: python-dateutil>=2.7 in /usr/lib/python3/dist-packages (from matplotlib->missingno) (2.8.1)\n",
      "Requirement already satisfied: pyparsing>=2.2.1 in /usr/lib/python3/dist-packages (from matplotlib->missingno) (2.4.7)\n",
      "Requirement already satisfied: kiwisolver>=1.0.1 in /home/emmett/.local/lib/python3.8/site-packages (from matplotlib->missingno) (1.3.1)\n",
      "Requirement already satisfied: pytz>=2017.3 in /usr/lib/python3/dist-packages (from pandas>=0.23->seaborn->missingno) (2020.1)\n",
      "Requirement already satisfied: six in /usr/lib/python3/dist-packages (from cycler>=0.10->matplotlib->missingno) (1.15.0)\n"
     ]
    }
   ],
   "source": [
    "!pip install missingno"
   ]
  },
  {
   "cell_type": "code",
   "execution_count": 10,
   "metadata": {},
   "outputs": [],
   "source": [
    "import missingno as mi\n",
    "import numpy as np"
   ]
  },
  {
   "cell_type": "code",
   "execution_count": 11,
   "metadata": {},
   "outputs": [],
   "source": [
    "df = pd.DataFrame({\"A\" : [5, np.NaN, 10, np.NaN], \n",
    "                  \"B\" : [\"eight\", \"seven\", \"two\", \"three\"]})"
   ]
  },
  {
   "cell_type": "code",
   "execution_count": 12,
   "metadata": {},
   "outputs": [
    {
     "data": {
      "image/png": "[encoded data removed]",
      "text/plain": [
       "<Figure size 720x360 with 2 Axes>"
      ]
     },
     "metadata": {
      "needs_background": "light"
     },
     "output_type": "display_data"
    }
   ],
   "source": [
    "mi.matrix(df, figsize = (10,5));"
   ]
  },
  {
   "cell_type": "code",
   "execution_count": 13,
   "metadata": {},
   "outputs": [
    {
     "name": "stdout",
     "output_type": "stream",
     "text": [
      "Requirement already satisfied: emot in /home/emmett/.local/lib/python3.8/site-packages (2.1)\r\n"
     ]
    }
   ],
   "source": [
    "!pip install emot"
   ]
  },
  {
   "cell_type": "code",
   "execution_count": 14,
   "metadata": {},
   "outputs": [],
   "source": [
    "import re\n",
    "from emot.emo_unicode import UNICODE_EMO, EMOTICONS\n",
    "def convert_emoticons(text):\n",
    "    for emot in EMOTICONS:\n",
    "        text = re.sub(u'('+emot+')', \"_\".join(EMOTICONS[emot].replace(\",\",\"\").split()), text)\n",
    "    return text"
   ]
  },
  {
   "cell_type": "code",
   "execution_count": 15,
   "metadata": {},
   "outputs": [
    {
     "data": {
      "text/plain": [
       "'Hi Happy_face_smiley, how are you? Tongue_sticking_out_cheeky_playful_or_blowing_a_raspberry'"
      ]
     },
     "execution_count": 15,
     "metadata": {},
     "output_type": "execute_result"
    }
   ],
   "source": [
    "convert_emoticons(\"Hi :3, how are you? :P\")"
   ]
  },
  {
   "cell_type": "code",
   "execution_count": 16,
   "metadata": {},
   "outputs": [
    {
     "name": "stdout",
     "output_type": "stream",
     "text": [
      "Requirement already satisfied: pillow in /home/emmett/.local/lib/python3.8/site-packages (8.2.0)\r\n"
     ]
    }
   ],
   "source": [
    "!pip install pillow"
   ]
  },
  {
   "cell_type": "code",
   "execution_count": 18,
   "metadata": {},
   "outputs": [],
   "source": [
    "import PIL as pil"
   ]
  },
  {
   "cell_type": "code",
   "execution_count": 19,
   "metadata": {},
   "outputs": [],
   "source": [
    "im = pil.Image.open(\"logo.png\")"
   ]
  },
  {
   "cell_type": "code",
   "execution_count": 20,
   "metadata": {},
   "outputs": [],
   "source": [
    "im.show()"
   ]
  },
  {
   "cell_type": "code",
   "execution_count": 27,
   "metadata": {},
   "outputs": [
    {
     "data": {
      "image/png": "[encoded data removed]",
      "text/plain": [
       "<PIL.Image.Image image mode=RGBA size=120x120 at 0x7F181CA46CD0>"
      ]
     },
     "execution_count": 27,
     "metadata": {},
     "output_type": "execute_result"
    }
   ],
   "source": [
    "im.rotate(80)"
   ]
  },
  {
   "cell_type": "code",
   "execution_count": 28,
   "metadata": {},
   "outputs": [
    {
     "name": "stdout",
     "output_type": "stream",
     "text": [
      "Collecting arrow\n",
      "  Downloading arrow-1.0.3-py3-none-any.whl (54 kB)\n",
      "\u001b[K     |████████████████████████████████| 54 kB 808 kB/s eta 0:00:01\n",
      "\u001b[?25hRequirement already satisfied: python-dateutil>=2.7.0 in /usr/lib/python3/dist-packages (from arrow) (2.8.1)\n",
      "Installing collected packages: arrow\n",
      "Successfully installed arrow-1.0.3\n"
     ]
    }
   ],
   "source": [
    "!pip install arrow"
   ]
  },
  {
   "cell_type": "code",
   "execution_count": 29,
   "metadata": {},
   "outputs": [],
   "source": [
    "import arrow"
   ]
  },
  {
   "cell_type": "code",
   "execution_count": 31,
   "metadata": {},
   "outputs": [],
   "source": [
    "utc = arrow.utcnow()"
   ]
  },
  {
   "cell_type": "code",
   "execution_count": 32,
   "metadata": {},
   "outputs": [],
   "source": [
    "local = utc.to('US/Eastern')"
   ]
  },
  {
   "cell_type": "code",
   "execution_count": 33,
   "metadata": {},
   "outputs": [
    {
     "data": {
      "text/plain": [
       "'19 seconds ago'"
      ]
     },
     "execution_count": 33,
     "metadata": {},
     "output_type": "execute_result"
    }
   ],
   "source": [
    "local.humanize()"
   ]
  },
  {
   "cell_type": "code",
   "execution_count": 34,
   "metadata": {},
   "outputs": [
    {
     "data": {
      "text/plain": [
       "'il y a 34 secondes'"
      ]
     },
     "execution_count": 34,
     "metadata": {},
     "output_type": "execute_result"
    }
   ],
   "source": [
    "local.humanize(locale='fr')"
   ]
  },
  {
   "cell_type": "code",
   "execution_count": null,
   "metadata": {},
   "outputs": [],
   "source": []
  }
 ],
 "metadata": {
  "kernelspec": {
   "display_name": "Python 3",
   "language": "python",
   "name": "python3"
  },
  "language_info": {
   "codemirror_mode": {
    "name": "ipython",
    "version": 3
   },
   "file_extension": ".py",
   "mimetype": "text/x-python",
   "name": "python",
   "nbconvert_exporter": "python",
   "pygments_lexer": "ipython3",
   "version": "3.8.6"
  }
 },
 "nbformat": 4,
 "nbformat_minor": 4
}
