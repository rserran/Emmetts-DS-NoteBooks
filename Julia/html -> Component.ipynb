{
 "cells": [
  {
   "cell_type": "code",
   "execution_count": 1,
   "metadata": {},
   "outputs": [],
   "source": [
    "using Toolips"
   ]
  },
  {
   "cell_type": "code",
   "execution_count": 2,
   "metadata": {},
   "outputs": [
    {
     "data": {
      "text/plain": [
       "makefrom_string (generic function with 2 methods)"
      ]
     },
     "execution_count": 2,
     "metadata": {},
     "output_type": "execute_result"
    }
   ],
   "source": [
    "function makefrom_string(s::AbstractString, ogtag::String = \"p\")\n",
    "    comps = []\n",
    "    start = findall(\"<$ogtag\", s)\n",
    "    stop = findall(\"</$ogtag>\", s)\n",
    "    println(s)\n",
    "    println(start, stop)\n",
    "    for count in 1:length(stop)\n",
    "        range = start[count][1]:stop[count][1]\n",
    "        name_start = findall(\"id=\", s[range])[1][2] + 1\n",
    "        name_end = findnext(\" \", s[range], name_start)[2] - 1\n",
    "        tag = s[range[1] + 1:findnext(\" \", s, r[1])]\n",
    "        push!(comps, s[name_start:name_end] => tag)\n",
    "    end\n",
    " #   [comps = cc[Component(c[1], c[2])] for c in comps]\n",
    "end"
   ]
  },
  {
   "cell_type": "code",
   "execution_count": 3,
   "metadata": {},
   "outputs": [
    {
     "data": {
      "text/plain": [
       "cfromstring (generic function with 1 method)"
      ]
     },
     "execution_count": 3,
     "metadata": {},
     "output_type": "execute_result"
    }
   ],
   "source": [
    "function cfromstring(c::Component, s::String)\n",
    "    name = c.name\n",
    "    tag = c.tag\n",
    "    tagrange = findall(\"<$tag id=\\\"$name\\\"\", s)[1]\n",
    "    tagend = findnext(\">\", s, tagrange[2])[1] + 1\n",
    "    unsplit_props = s[tagrange[2]:tagend]\n",
    "    ps = split(unsplit_props, \" \")\n",
    "    pairs = Vector{Pair{Any, Any}}()\n",
    "    for p in 1:length(ps)\n",
    "        if ps[p] == \"=\"\n",
    "            ps[p] = replace(ps[p], \" \" => \"\")\n",
    "            push!(pairs, string(ps[p - 1]) => replace(string(join([ps[p + 1]])),\n",
    "             \"\\\"\" => \"\"))\n",
    "        end\n",
    "    end\n",
    "    props = Dict(pairs)\n",
    "    props[\"children\"] = Vector()\n",
    "    props[\"text\"] = \"\"\n",
    "    c = Component(name, tag, props)\n",
    "    endtag = findnext(\"</$tag>\", s, tagrange[2])\n",
    "    if ~(contains(s[tagend:endtag[1]], \"<$tag\"))\n",
    "        if ~(contains(s[tagend:endtag[1] - 1], \"<\"))\n",
    "            c[\"text\"] = s[tagend:endtag[1] - 1]\n",
    "        else\n",
    "            comps = makefrom_string(s[tagrange[2] + 2:endtag[1] - 2])\n",
    "            [push!(c, comp) for comp in comps]\n",
    "        end\n",
    "    else\n",
    "        n_tags = findall(\"<$tag\", s[tagrange[2]:length(s)])\n",
    "        tag_ends = findall(\"</$tag>\", s[tagrange[2]:length(s)])\n",
    "        pos = 1\n",
    "        for i in 1:length(tag_ends)\n",
    "            if i in 1:length(n_tags)\n",
    "                if n_tags[i][1] > tag_ends[i][1]\n",
    "                    pos = i\n",
    "                end\n",
    "            else\n",
    "                pos = i\n",
    "            end\n",
    "        end\n",
    "        endtag = tag_ends[pos]\n",
    "        comps = makefrom_string(s[tagend:length])\n",
    "        [push!(c, comp) for comp in comps]\n",
    "    end\n",
    "    return(c)\n",
    "end"
   ]
  },
  {
   "cell_type": "code",
   "execution_count": 4,
   "metadata": {},
   "outputs": [],
   "source": [
    "using EzXML"
   ]
  },
  {
   "cell_type": "code",
   "execution_count": 5,
   "metadata": {},
   "outputs": [
    {
     "data": {
      "text/plain": [
       "\"<div id=\\\"example\\\" width = \\\"250\\\" align=\\\"center\\\">\\n\\n<p id=\\\"steve2\\\" place=\\\"south\\\">Hey</p>\\n\\n</div>\\n\""
      ]
     },
     "execution_count": 5,
     "metadata": {},
     "output_type": "execute_result"
    }
   ],
   "source": [
    "s = \"\"\"\n",
    "<div id=\"example\" width = \"250\" align=\"center\">\n",
    "\n",
    "<p id=\"steve2\" place=\"south\">Hey</p>\n",
    "\n",
    "</div>\n",
    "\"\"\""
   ]
  },
  {
   "cell_type": "code",
   "execution_count": 83,
   "metadata": {},
   "outputs": [
    {
     "data": {
      "text/plain": [
       "htmlcomponent (generic function with 1 method)"
      ]
     },
     "execution_count": 83,
     "metadata": {},
     "output_type": "execute_result"
    }
   ],
   "source": [
    "function htmlcomponent(s::String)\n",
    "    doc = parsehtml(s)\n",
    "    ro = root(doc)\n",
    "    rn = firstnode(ro)\n",
    "    children = Vector{Servable}()\n",
    "    for n in eachelement(ro)\n",
    "        if haselement(n)\n",
    "            for node in eachelement(n)\n",
    "                child = htmlcomponent(string(node))\n",
    "                push!(children, child)\n",
    "            end\n",
    "        end\n",
    "        comp = createcomp(n)\n",
    "        comp[:children] = children\n",
    "        push!(children, comp)\n",
    "    end\n",
    "    properties = Dict()\n",
    "    for property in eachattribute(ro)\n",
    "        sc = replace(string(property), \"\\\"\" => \"\")\n",
    "        sc = replace(sc, \" \" => \"\")\n",
    "        scspl = split(sc, \"=\")\n",
    "        proppair = string(scspl[1]) => string(scspl[2])\n",
    "        push!(properties, proppair)\n",
    "    end\n",
    "    c = Component(\"main\", string(ro.name), properties)\n",
    "    c[:children] = children\n",
    "    c\n",
    "end"
   ]
  },
  {
   "cell_type": "code",
   "execution_count": 84,
   "metadata": {},
   "outputs": [
    {
     "data": {
      "text/plain": [
       "createcomp (generic function with 1 method)"
      ]
     },
     "execution_count": 84,
     "metadata": {},
     "output_type": "execute_result"
    }
   ],
   "source": [
    "function createcomp(element)\n",
    "    properties = Dict()\n",
    "    for property in eachattribute(element)\n",
    "        sc = replace(string(property), \"\\\"\" => \"\")\n",
    "        sc = replace(sc, \" \" => \"\")\n",
    "        scspl = split(sc, \"=\")\n",
    "        proppair = string(scspl[1]) => string(scspl[2])\n",
    "        push!(properties, proppair)\n",
    "    end\n",
    "    children = Dict()\n",
    "        tag = string(element.name)\n",
    "        properties[:text] = string(element.content)\n",
    "        name = \"undefined $tag\"\n",
    "        if \"id\" in keys(properties)\n",
    "            name = properties[\"id\"]\n",
    "        end\n",
    "    Component(name, tag, properties)\n",
    "end"
   ]
  },
  {
   "cell_type": "code",
   "execution_count": null,
   "metadata": {},
   "outputs": [],
   "source": [
    "x = htmlcomponent(s)"
   ]
  },
  {
   "cell_type": "code",
   "execution_count": null,
   "metadata": {},
   "outputs": [],
   "source": [
    "x[:children][1].name"
   ]
  },
  {
   "cell_type": "code",
   "execution_count": null,
   "metadata": {},
   "outputs": [],
   "source": [
    "x[:children, 1]"
   ]
  },
  {
   "cell_type": "code",
   "execution_count": null,
   "metadata": {},
   "outputs": [],
   "source": [
    "typeof(x)"
   ]
  },
  {
   "cell_type": "code",
   "execution_count": null,
   "metadata": {},
   "outputs": [],
   "source": [
    "function children(x)\n",
    "    prnt = \"##### children \\n\"\n",
    "    for c in x[:children]\n",
    "        prnt = prnt * \"|-- \" * string(c) * \" \\n \"\n",
    "        for subc in c[:children]\n",
    "            prnt = prnt * \"   |---- \" * string(subc) * \" \\n \"\n",
    "        end\n",
    "    end\n",
    "    prnt\n",
    "end"
   ]
  },
  {
   "cell_type": "code",
   "execution_count": null,
   "metadata": {},
   "outputs": [],
   "source": [
    "import Base: string"
   ]
  },
  {
   "cell_type": "code",
   "execution_count": 74,
   "metadata": {},
   "outputs": [
    {
     "data": {
      "text/plain": [
       "string (generic function with 25 methods)"
      ]
     },
     "execution_count": 74,
     "metadata": {},
     "output_type": "execute_result"
    }
   ],
   "source": [
    "function string(c::Component)\n",
    "    base = c.name\n",
    "    properties = \": \"\n",
    "    for pair in c.properties\n",
    "        key, val = pair[1], pair[2]\n",
    "        if ~(key == :children)\n",
    "            properties = properties * \"  $key = $val  \"\n",
    "        end\n",
    "    end\n",
    "    base * properties\n",
    "end"
   ]
  },
  {
   "cell_type": "code",
   "execution_count": 75,
   "metadata": {},
   "outputs": [
    {
     "data": {
      "text/plain": [
       "\"main: \""
      ]
     },
     "execution_count": 75,
     "metadata": {},
     "output_type": "execute_result"
    }
   ],
   "source": [
    "string(x)"
   ]
  },
  {
   "cell_type": "code",
   "execution_count": 76,
   "metadata": {},
   "outputs": [
    {
     "data": {
      "text/plain": [
       "show (generic function with 1 method)"
      ]
     },
     "execution_count": 76,
     "metadata": {},
     "output_type": "execute_result"
    }
   ],
   "source": [
    "function show(x::Component)\n",
    "    prnt = children(x)\n",
    "    header = \"### \" * string(x) * \"\\n\"\n",
    "    display(\"text/markdown\", header * prnt)\n",
    "end"
   ]
  },
  {
   "cell_type": "code",
   "execution_count": 78,
   "metadata": {},
   "outputs": [
    {
     "data": {
      "text/markdown": [
       "### main: \n",
       "##### children \n",
       "|-- steve2:   place = south    id = steve2    text = Hey   \n",
       "    |---- steve2:   place = south    id = steve2    text = Hey   \n",
       " "
      ]
     },
     "metadata": {},
     "output_type": "display_data"
    }
   ],
   "source": [
    "show(x[:children][1])"
   ]
  },
  {
   "cell_type": "code",
   "execution_count": 65,
   "metadata": {},
   "outputs": [
    {
     "name": "stderr",
     "output_type": "stream",
     "text": [
      "WARNING: import of Base.show into Main conflicts with an existing identifier; ignored.\n"
     ]
    }
   ],
   "source": [
    "import Base: show, display\n",
    "import Toolips: SpoofConnection"
   ]
  },
  {
   "cell_type": "code",
   "execution_count": 20,
   "metadata": {},
   "outputs": [
    {
     "data": {
      "text/plain": [
       "show (generic function with 1 method)"
      ]
     },
     "execution_count": 20,
     "metadata": {},
     "output_type": "execute_result"
    }
   ],
   "source": [
    "function show(c::Component)\n",
    "    md = show_str(c)\n",
    "    display(\"text/markdown\", md)\n",
    "end"
   ]
  },
  {
   "cell_type": "code",
   "execution_count": 21,
   "metadata": {},
   "outputs": [
    {
     "data": {
      "text/plain": [
       "show_str (generic function with 1 method)"
      ]
     },
     "execution_count": 21,
     "metadata": {},
     "output_type": "execute_result"
    }
   ],
   "source": [
    "function show_str(c::Component)\n",
    "    name = c.name\n",
    "    props = \"\"\n",
    "    for prop in c.properties\n",
    "        if ~(prop[1] == :children)\n",
    "            props = props * string(string(prop[1]) *  \" = \" * string(prop[2]) * \"\\n\")\n",
    "        end\n",
    "    end\n",
    "    md = \"\"\"### $name\n",
    "    $props \\n\n",
    "        \\n\"\"\"\n",
    "end"
   ]
  },
  {
   "cell_type": "code",
   "execution_count": 30,
   "metadata": {},
   "outputs": [
    {
     "data": {
      "text/plain": [
       "display (generic function with 31 methods)"
      ]
     },
     "execution_count": 30,
     "metadata": {},
     "output_type": "execute_result"
    }
   ],
   "source": [
    "display(c::Servable) = show(c)"
   ]
  },
  {
   "cell_type": "code",
   "execution_count": 31,
   "metadata": {},
   "outputs": [
    {
     "data": {
      "text/plain": [
       "Component(\"main\", Toolips.var\"#f#1\"{String, String, Dict{Any, Any}, Vector{Servable}}(\"main\", \"html\", Dict{Any, Any}(:children => Servable[Component(\"main\", Toolips.var\"#f#1\"{String, String, Dict{Any, Any}, Vector{Servable}}(\"main\", \"html\", Dict{Any, Any}(:children => Servable[Component(\"steve2\", Toolips.var\"#f#1\"{String, String, Dict{Any, Any}, Vector{Servable}}(\"steve2\", \"p\", Dict{Any, Any}(\"place\" => \"south\", :children => Servable[#= circular reference @-4 =#], \"id\" => \"steve2\", :text => \"Hey\"), Servable[]), Dict{Any, Any}(\"place\" => \"south\", :children => Servable[#= circular reference @-3 =#], \"id\" => \"steve2\", :text => \"Hey\"), Servable[], \"p\")]), Servable[]), Dict{Any, Any}(:children => Servable[Component(\"steve2\", Toolips.var\"#f#1\"{String, String, Dict{Any, Any}, Vector{Servable}}(\"steve2\", \"p\", Dict{Any, Any}(\"place\" => \"south\", :children => Servable[#= circular reference @-4 =#], \"id\" => \"steve2\", :text => \"Hey\"), Servable[]), Dict{Any, Any}(\"place\" => \"south\", :children => Servable[#= circular reference @-3 =#], \"id\" => \"steve2\", :text => \"Hey\"), Servable[], \"p\")]), Servable[], \"html\"), Component(\"example\", Toolips.var\"#f#1\"{String, String, Dict{Any, Any}, Vector{Servable}}(\"example\", \"div\", Dict{Any, Any}(:children => Servable[#= circular reference @-4 =#], \"id\" => \"example\", :text => \"\\n\\nHey\\n\\n\", \"width\" => \"250\", \"align\" => \"center\"), Servable[]), Dict{Any, Any}(:children => Servable[#= circular reference @-3 =#], \"id\" => \"example\", :text => \"\\n\\nHey\\n\\n\", \"width\" => \"250\", \"align\" => \"center\"), Servable[], \"div\")]), Servable[]), Dict{Any, Any}(:children => Servable[Component(\"main\", Toolips.var\"#f#1\"{String, String, Dict{Any, Any}, Vector{Servable}}(\"main\", \"html\", Dict{Any, Any}(:children => Servable[Component(\"steve2\", Toolips.var\"#f#1\"{String, String, Dict{Any, Any}, Vector{Servable}}(\"steve2\", \"p\", Dict{Any, Any}(\"place\" => \"south\", :children => Servable[#= circular reference @-4 =#], \"id\" => \"steve2\", :text => \"Hey\"), Servable[]), Dict{Any, Any}(\"place\" => \"south\", :children => Servable[#= circular reference @-3 =#], \"id\" => \"steve2\", :text => \"Hey\"), Servable[], \"p\")]), Servable[]), Dict{Any, Any}(:children => Servable[Component(\"steve2\", Toolips.var\"#f#1\"{String, String, Dict{Any, Any}, Vector{Servable}}(\"steve2\", \"p\", Dict{Any, Any}(\"place\" => \"south\", :children => Servable[#= circular reference @-4 =#], \"id\" => \"steve2\", :text => \"Hey\"), Servable[]), Dict{Any, Any}(\"place\" => \"south\", :children => Servable[#= circular reference @-3 =#], \"id\" => \"steve2\", :text => \"Hey\"), Servable[], \"p\")]), Servable[], \"html\"), Component(\"example\", Toolips.var\"#f#1\"{String, String, Dict{Any, Any}, Vector{Servable}}(\"example\", \"div\", Dict{Any, Any}(:children => Servable[#= circular reference @-4 =#], \"id\" => \"example\", :text => \"\\n\\nHey\\n\\n\", \"width\" => \"250\", \"align\" => \"center\"), Servable[]), Dict{Any, Any}(:children => Servable[#= circular reference @-3 =#], \"id\" => \"example\", :text => \"\\n\\nHey\\n\\n\", \"width\" => \"250\", \"align\" => \"center\"), Servable[], \"div\")]), Servable[], \"html\")"
      ]
     },
     "execution_count": 31,
     "metadata": {},
     "output_type": "execute_result"
    }
   ],
   "source": [
    "x"
   ]
  },
  {
   "cell_type": "code",
   "execution_count": null,
   "metadata": {},
   "outputs": [],
   "source": []
  }
 ],
 "metadata": {
  "kernelspec": {
   "display_name": "Julia 1.7.2",
   "language": "julia",
   "name": "julia-1.7"
  },
  "language_info": {
   "file_extension": ".jl",
   "mimetype": "application/julia",
   "name": "julia",
   "version": "1.7.2"
  }
 },
 "nbformat": 4,
 "nbformat_minor": 4
}
