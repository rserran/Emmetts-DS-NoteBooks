{
 "cells": [
  {
   "cell_type": "code",
   "execution_count": 1,
   "metadata": {},
   "outputs": [
    {
     "name": "stderr",
     "output_type": "stream",
     "text": [
      "\u001b[32m\u001b[1m  Activating\u001b[22m\u001b[39m project at `~/dev/nbs/PrrtyEnv`\n",
      "\u001b[32m\u001b[1m    Updating\u001b[22m\u001b[39m registry at `~/.julia/registries/General.toml`\n",
      "\u001b[32m\u001b[1m   Resolving\u001b[22m\u001b[39m package versions...\n",
      "\u001b[32m\u001b[1m  No Changes\u001b[22m\u001b[39m to `~/dev/nbs/PrrtyEnv/Project.toml`\n",
      "\u001b[32m\u001b[1m  No Changes\u001b[22m\u001b[39m to `~/dev/nbs/PrrtyEnv/Manifest.toml`\n",
      "\u001b[32m\u001b[1m    Updating\u001b[22m\u001b[39m git-repo `https://github.com/ChifiSource/ToolipsSVG.jl`\n",
      "\u001b[32m\u001b[1m   Resolving\u001b[22m\u001b[39m package versions...\n",
      "\u001b[32m\u001b[1m  No Changes\u001b[22m\u001b[39m to `~/dev/nbs/PrrtyEnv/Project.toml`\n",
      "\u001b[32m\u001b[1m  No Changes\u001b[22m\u001b[39m to `~/dev/nbs/PrrtyEnv/Manifest.toml`\n"
     ]
    }
   ],
   "source": [
    "using Pkg; Pkg.activate(\"PrrtyEnv\")\n",
    "Pkg.add(\"Toolips\"); Pkg.add(url = \"https://github.com/ChifiSource/ToolipsSVG.jl\", rev = \"unstable\")"
   ]
  },
  {
   "cell_type": "code",
   "execution_count": 2,
   "metadata": {},
   "outputs": [
    {
     "name": "stdout",
     "output_type": "stream",
     "text": [
      "\u001b[32m\u001b[1m      Status\u001b[22m\u001b[39m `~/dev/nbs/PrrtyEnv/Project.toml`\n",
      " \u001b[90m [a47e2ad8] \u001b[39mToolips v0.2.3\n",
      " \u001b[90m [8ae86ec9] \u001b[39mToolipsSVG v0.1.0 `https://github.com/ChifiSource/ToolipsSVG.jl#unstable`\n",
      " \u001b[90m [2fe55384] \u001b[39mToolipsSession v0.3.0\n"
     ]
    }
   ],
   "source": [
    "Pkg.status()"
   ]
  },
  {
   "cell_type": "code",
   "execution_count": 3,
   "metadata": {},
   "outputs": [
    {
     "name": "stderr",
     "output_type": "stream",
     "text": [
      "\u001b[32m\u001b[1m   Resolving\u001b[22m\u001b[39m package versions...\n",
      "\u001b[32m\u001b[1m  No Changes\u001b[22m\u001b[39m to `~/dev/nbs/PrrtyEnv/Project.toml`\n",
      "\u001b[32m\u001b[1m  No Changes\u001b[22m\u001b[39m to `~/dev/nbs/PrrtyEnv/Manifest.toml`\n"
     ]
    }
   ],
   "source": [
    "Pkg.add(\"ToolipsSession\")"
   ]
  },
  {
   "cell_type": "code",
   "execution_count": 4,
   "metadata": {},
   "outputs": [],
   "source": [
    "using Toolips"
   ]
  },
  {
   "cell_type": "code",
   "execution_count": 5,
   "metadata": {},
   "outputs": [],
   "source": [
    "using ToolipsSession"
   ]
  },
  {
   "cell_type": "code",
   "execution_count": 6,
   "metadata": {},
   "outputs": [],
   "source": [
    "using ToolipsSVG"
   ]
  },
  {
   "cell_type": "code",
   "execution_count": 7,
   "metadata": {},
   "outputs": [],
   "source": [
    "using Random"
   ]
  },
  {
   "cell_type": "code",
   "execution_count": 8,
   "metadata": {},
   "outputs": [],
   "source": [
    "abstract type AbstractContext <: Toolips.Modifier end"
   ]
  },
  {
   "cell_type": "code",
   "execution_count": 9,
   "metadata": {},
   "outputs": [],
   "source": [
    "mutable struct Context <: AbstractContext\n",
    "    window::Component{:svg}\n",
    "    uuid::String\n",
    "    layers::Dict{String, UnitRange{Int64}}\n",
    "    dim::Pair{Int64, Int64}\n",
    "    margin::Pair{Int64, Int64}\n",
    "    Context(wind::Component{:svg}, margin::Pair{Int64, Int64}) = begin\n",
    "        new(wind, randstring(), Dict{String, UnitRange{Int64}}(), wind[:width] => wind[:height], \n",
    "            margin)::Context\n",
    "    end\n",
    "    Context(width::Int64 = 1280, height::Int64 = 720,\n",
    "        margin::Pair{Int64, Int64} = 0 => 0) = begin\n",
    "        window::Component{:svg} = svg(\"window\", width = width,\n",
    "        height = height)\n",
    "        Context(window, margin)::Context\n",
    "    end\n",
    "end"
   ]
  },
  {
   "cell_type": "code",
   "execution_count": 10,
   "metadata": {},
   "outputs": [
    {
     "data": {
      "text/plain": [
       "Context(, \"cS2N4Tg7\", Dict{String, UnitRange{Int64}}(), 500 => 500, 0 => 0)"
      ]
     },
     "execution_count": 10,
     "metadata": {},
     "output_type": "execute_result"
    },
    {
     "name": "stdout",
     "output_type": "stream",
     "text": [
      "window (svg)\n",
      "\n",
      "children = Servable[]\n",
      "height = 500\n",
      "width = 500\n",
      "\n",
      "children \n",
      "\n"
     ]
    }
   ],
   "source": [
    "c = Context(500, 500)"
   ]
  },
  {
   "cell_type": "code",
   "execution_count": 11,
   "metadata": {},
   "outputs": [
    {
     "data": {
      "text/plain": [
       "draw! (generic function with 2 methods)"
      ]
     },
     "execution_count": 11,
     "metadata": {},
     "output_type": "execute_result"
    }
   ],
   "source": [
    "function draw!(c::AbstractContext, comps::Vector{<:Servable}, id::String = randstring())\n",
    "    current_len::Int64 = length(c.window[:children])\n",
    "    comp_len::Int64 = length(comps)\n",
    "    c.window[:children] = Vector{Servable}(vcat(c.window[:children], comps))\n",
    "    push!(c.layers, id => current_len + 1:current_len + comp_len)\n",
    "end"
   ]
  },
  {
   "cell_type": "code",
   "execution_count": 12,
   "metadata": {},
   "outputs": [
    {
     "data": {
      "text/plain": [
       "line! (generic function with 1 method)"
      ]
     },
     "execution_count": 12,
     "metadata": {},
     "output_type": "execute_result"
    }
   ],
   "source": [
    "function line!(con::AbstractContext, x::Vector{<:Number}, y::Vector{<:Number},\n",
    "        styles::Pair{String, <:Any} ...)\n",
    "    if length(styles) == 0\n",
    "        styles = (\"fill\" => \"none\", \"stroke\" => \"black\", \"stroke-width\" => \"4\")\n",
    "    end\n",
    "    if length(x) != length(y)\n",
    "        throw(DimensionMismatch(\"x and y, of lengths $(length(x)) and $(length(y)) are not equal!\"))\n",
    "    end\n",
    "    xmax::Number, ymax::Number = maximum(x), maximum(y)\n",
    "    percvec_x = map(n::Number -> n / xmax, x)\n",
    "    percvec_y = map(n::Number -> n / ymax, y)\n",
    "    line_data = join(Tuple(begin\n",
    "                    scaled_x::Int64 = round(con.dim[1] * xper)  + con.margin[1]\n",
    "                    scaled_y::Int64 = round(con.dim[2] * yper)  + con.margin[2]\n",
    "                    \"$(scaled_x)&#32;$(scaled_y),\"\n",
    "                end for (xper, yper) in zip(percvec_x, percvec_y)))\n",
    "    line_comp = ToolipsSVG.polyline(\"newline\", points = line_data)\n",
    "    style!(line_comp, styles ...)\n",
    "    draw!(con, [line_comp])\n",
    "end"
   ]
  },
  {
   "cell_type": "code",
   "execution_count": 13,
   "metadata": {},
   "outputs": [
    {
     "data": {
      "text/plain": [
       "Dict{String, UnitRange{Int64}} with 1 entry:\n",
       "  \"rn50g0UT\" => 1:1"
      ]
     },
     "execution_count": 13,
     "metadata": {},
     "output_type": "execute_result"
    }
   ],
   "source": [
    "line!(c, [25, 22, 15], [15, 34, 55])"
   ]
  },
  {
   "cell_type": "code",
   "execution_count": 14,
   "metadata": {},
   "outputs": [
    {
     "data": {
      "text/html": [
       "\"<svg id=window height=500 width=500><polyline id=newline style='fill: none;stroke: black;stroke-width: 4;' points=500&#32;136,440&#32;309,300&#32;500,></polyline></svg>\""
      ],
      "text/plain": []
     },
     "metadata": {},
     "output_type": "display_data"
    },
    {
     "name": "stdout",
     "output_type": "stream",
     "text": [
      "newline (polyline)\n",
      "\n",
      "children = Servable[]\n",
      "style = 'fill: none;stroke: black;stroke-width: 4;'\n",
      "points = 500&#32;136,440&#32;309,300&#32;500,\n",
      "\n",
      "children \n",
      "\n",
      "window (svg)\n",
      "\n",
      "children = Servable[]\n",
      "height = 500\n",
      "width = 500\n",
      "\n",
      "children \n",
      "|-- newline:   style = 'fill: none;stroke: black;stroke-width: 4;'    points = 500&#32;136,440&#32;309,300&#32;500,   \n",
      " \n"
     ]
    }
   ],
   "source": [
    "display(c.window)"
   ]
  },
  {
   "cell_type": "code",
   "execution_count": 15,
   "metadata": {},
   "outputs": [
    {
     "data": {
      "text/plain": [
       "Dict{String, UnitRange{Int64}} with 2 entries:\n",
       "  \"fWd1IFtR\" => 2:2\n",
       "  \"rn50g0UT\" => 1:1"
      ]
     },
     "execution_count": 15,
     "metadata": {},
     "output_type": "execute_result"
    }
   ],
   "source": [
    "line!(c, [35, 92, 22], [125, 92, 27], \"stroke-width\" => \"5\", \"fill\" => \"none\", \"stroke\" => \"blue\")"
   ]
  },
  {
   "cell_type": "code",
   "execution_count": 16,
   "metadata": {},
   "outputs": [
    {
     "data": {
      "text/html": [
       "\"<svg id=window height=500 width=500><polyline id=newline style='fill: none;stroke: black;stroke-width: 4;' points=500&#32;136,440&#32;309,300&#32;500,></polyline><polyline id=newline style='stroke-width: 5;fill: none;stroke: blue;' points=190&#32;500,500&#32;368,120&#32;108,></polyline></svg>\""
      ],
      "text/plain": []
     },
     "metadata": {},
     "output_type": "display_data"
    },
    {
     "name": "stdout",
     "output_type": "stream",
     "text": [
      "newline (polyline)\n",
      "\n",
      "children = Servable[]\n",
      "style = 'fill: none;stroke: black;stroke-width: 4;'\n",
      "points = 500&#32;136,440&#32;309,300&#32;500,\n",
      "\n",
      "children \n",
      "\n",
      "newline (polyline)\n",
      "\n",
      "children = Servable[]\n",
      "style = 'stroke-width: 5;fill: none;stroke: blue;'\n",
      "points = 190&#32;500,500&#32;368,120&#32;108,\n",
      "\n",
      "children \n",
      "\n",
      "window (svg)\n",
      "\n",
      "children = Servable[, ]\n",
      "height = 500\n",
      "width = 500\n",
      "\n",
      "children \n",
      "|-- newline:   style = 'fill: none;stroke: black;stroke-width: 4;'    points = 500&#32;136,440&#32;309,300&#32;500,   \n",
      " |-- newline:   style = 'stroke-width: 5;fill: none;stroke: blue;'    points = 190&#32;500,500&#32;368,120&#32;108,   \n",
      " \n"
     ]
    }
   ],
   "source": [
    "display(c.window)"
   ]
  },
  {
   "cell_type": "code",
   "execution_count": 17,
   "metadata": {},
   "outputs": [
    {
     "data": {
      "text/plain": [
       "Dict{String, UnitRange{Int64}} with 2 entries:\n",
       "  \"fWd1IFtR\" => 2:2\n",
       "  \"rn50g0UT\" => 1:1"
      ]
     },
     "execution_count": 17,
     "metadata": {},
     "output_type": "execute_result"
    }
   ],
   "source": [
    "c.layers"
   ]
  },
  {
   "cell_type": "code",
   "execution_count": 18,
   "metadata": {},
   "outputs": [
    {
     "data": {
      "text/html": [
       "\"<polyline id=newline style='fill: none;stroke: black;stroke-width: 4;' points=500&#32;136,440&#32;309,300&#32;500,></polyline>\""
      ],
      "text/plain": []
     },
     "execution_count": 18,
     "metadata": {},
     "output_type": "execute_result"
    },
    {
     "name": "stdout",
     "output_type": "stream",
     "text": [
      "newline (polyline)\n",
      "\n",
      "children = Servable[]\n",
      "style = 'fill: none;stroke: black;stroke-width: 4;'\n",
      "points = 500&#32;136,440&#32;309,300&#32;500,\n",
      "\n",
      "children \n",
      "\n"
     ]
    }
   ],
   "source": [
    "c.window[:children][1]"
   ]
  },
  {
   "cell_type": "code",
   "execution_count": 19,
   "metadata": {},
   "outputs": [
    {
     "data": {
      "text/plain": [
       "Dict{String, UnitRange{Int64}} with 3 entries:\n",
       "  \"fWd1IFtR\" => 2:2\n",
       "  \"rn50g0UT\" => 1:1\n",
       "  \"g1s4Pr6T\" => 3:3"
      ]
     },
     "execution_count": 19,
     "metadata": {},
     "output_type": "execute_result"
    }
   ],
   "source": [
    "line!(c, [5, 1, 2], [7, 34, 5], \"stroke\" => \"red\", \"stroke-width\" => \"10\", \"fill\" => \"none\")"
   ]
  },
  {
   "cell_type": "code",
   "execution_count": 20,
   "metadata": {},
   "outputs": [
    {
     "data": {
      "text/html": [
       "\"<svg id=window height=500 width=500><polyline id=newline style='fill: none;stroke: black;stroke-width: 4;' points=500&#32;136,440&#32;309,300&#32;500,></polyline><polyline id=newline style='stroke-width: 5;fill: none;stroke: blue;' points=190&#32;500,500&#32;368,120&#32;108,></polyline><polyline id=newline style='stroke: red;stroke-width: 10;fill: none;' points=500&#32;103,100&#32;500,200&#32;74,></polyline></svg>\""
      ],
      "text/plain": []
     },
     "metadata": {},
     "output_type": "display_data"
    },
    {
     "name": "stdout",
     "output_type": "stream",
     "text": [
      "newline (polyline)\n",
      "\n",
      "children = Servable[]\n",
      "style = 'fill: none;stroke: black;stroke-width: 4;'\n",
      "points = 500&#32;136,440&#32;309,300&#32;500,\n",
      "\n",
      "children \n",
      "\n",
      "newline (polyline)\n",
      "\n",
      "children = Servable[]\n",
      "style = 'stroke-width: 5;fill: none;stroke: blue;'\n",
      "points = 190&#32;500,500&#32;368,120&#32;108,\n",
      "\n",
      "children \n",
      "\n",
      "newline (polyline)\n",
      "\n",
      "children = Servable[]\n",
      "style = 'stroke: red;stroke-width: 10;fill: none;'\n",
      "points = 500&#32;103,100&#32;500,200&#32;74,\n",
      "\n",
      "children \n",
      "\n",
      "window (svg)\n",
      "\n",
      "children = Servable[, , ]\n",
      "height = 500\n",
      "width = 500\n",
      "\n",
      "children \n",
      "|-- newline:   style = 'fill: none;stroke: black;stroke-width: 4;'    points = 500&#32;136,440&#32;309,300&#32;500,   \n",
      " |-- newline:   style = 'stroke-width: 5;fill: none;stroke: blue;'    points = 190&#32;500,500&#32;368,120&#32;108,   \n",
      " |-- newline:   style = 'stroke: red;stroke-width: 10;fill: none;'    points = 500&#32;103,100&#32;500,200&#32;74,   \n",
      " \n"
     ]
    }
   ],
   "source": [
    "display(c.window)"
   ]
  },
  {
   "cell_type": "code",
   "execution_count": 21,
   "metadata": {},
   "outputs": [
    {
     "data": {
      "text/plain": [
       "g (generic function with 1 method)"
      ]
     },
     "execution_count": 21,
     "metadata": {},
     "output_type": "execute_result"
    }
   ],
   "source": [
    "g(name::String, styles::Pair{String, String} ...; args ...) = begin\n",
    "    comp::Component{:g} = Component(name, \"g\", args ...)\n",
    "    if length(styles) != 0\n",
    "        style!(comp, styles ...)\n",
    "    end\n",
    "    comp::Component{:g}\n",
    "end"
   ]
  },
  {
   "cell_type": "code",
   "execution_count": 22,
   "metadata": {},
   "outputs": [],
   "source": [
    "mutable struct Group <: AbstractContext\n",
    "    window::Component{:g}\n",
    "    uuid::String\n",
    "    layers::Dict{String, UnitRange{Int64}}\n",
    "    dim::Pair{Int64, Int64}\n",
    "    margin::Pair{Int64, Int64}\n",
    "    Group(name::String = randstring(), width::Int64 = 1280, height::Int64 = 720,\n",
    "        margin::Pair{Int64, Int64} = 0 => 0) = begin\n",
    "        window::Component{:g} = g(\"$name\", width = width, height = height)\n",
    "        new(window, name, Dict{String, UnitRange{Int64}}(), width => height, margin)\n",
    "    end\n",
    "end"
   ]
  },
  {
   "cell_type": "code",
   "execution_count": 23,
   "metadata": {},
   "outputs": [
    {
     "data": {
      "text/plain": [
       "group! (generic function with 4 methods)"
      ]
     },
     "execution_count": 23,
     "metadata": {},
     "output_type": "execute_result"
    }
   ],
   "source": [
    "function group!(f::Function, c::Context, name::String, w::Int64 = c.dim[1], \n",
    "    h::Int64 = c.dim[2], margin::Pair{Int64, Int64} = c.margin)\n",
    "    gr = Group(name, w, h, margin)\n",
    "    f(gr)\n",
    "    draw!(c, [gr.window], name)\n",
    "end"
   ]
  },
  {
   "cell_type": "code",
   "execution_count": 24,
   "metadata": {},
   "outputs": [
    {
     "data": {
      "text/plain": [
       "Dict{String, UnitRange{Int64}} with 4 entries:\n",
       "  \"fWd1IFtR\"  => 2:2\n",
       "  \"rn50g0UT\"  => 1:1\n",
       "  \"g1s4Pr6T\"  => 3:3\n",
       "  \"exampline\" => 4:4"
      ]
     },
     "execution_count": 24,
     "metadata": {},
     "output_type": "execute_result"
    }
   ],
   "source": [
    "group!(c, \"exampline\", 50, 50, 10 => 10) do g::Group\n",
    "    line!(g, [5, 10, 11], [9, 4, 3], \"stroke\" => \"green\", \"stroke-width\" => \"10\", \"fill\" => \"none\")\n",
    "end"
   ]
  },
  {
   "cell_type": "code",
   "execution_count": 25,
   "metadata": {},
   "outputs": [
    {
     "data": {
      "text/html": [
       "\"<svg id=window height=500 width=500><polyline id=newline style='fill: none;stroke: black;stroke-width: 4;' points=500&#32;136,440&#32;309,300&#32;500,></polyline><polyline id=newline style='stroke-width: 5;fill: none;stroke: blue;' points=190&#32;500,500&#32;368,120&#32;108,></polyline><polyline id=newline style='stroke: red;stroke-width: 10;fill: none;' points=500&#32;103,100&#32;500,200&#32;74,></polyline><g id=exampline height=50 width=50><polyline id=newline style='stroke: green;stroke-width: 10;fill: none;' points=33&#32;60,55&#32;32,60&#32;27,></polyline></g></svg>\""
      ],
      "text/plain": []
     },
     "metadata": {},
     "output_type": "display_data"
    },
    {
     "name": "stdout",
     "output_type": "stream",
     "text": [
      "newline (polyline)\n",
      "\n",
      "children = Servable[]\n",
      "style = 'fill: none;stroke: black;stroke-width: 4;'\n",
      "points = 500&#32;136,440&#32;309,300&#32;500,\n",
      "\n",
      "children \n",
      "\n",
      "newline (polyline)\n",
      "\n",
      "children = Servable[]\n",
      "style = 'stroke-width: 5;fill: none;stroke: blue;'\n",
      "points = 190&#32;500,500&#32;368,120&#32;108,\n",
      "\n",
      "children \n",
      "\n",
      "newline (polyline)\n",
      "\n",
      "children = Servable[]\n",
      "style = 'stroke: red;stroke-width: 10;fill: none;'\n",
      "points = 500&#32;103,100&#32;500,200&#32;74,\n",
      "\n",
      "children \n",
      "\n",
      "newline (polyline)\n",
      "\n",
      "children = Servable[]\n",
      "style = 'stroke: green;stroke-width: 10;fill: none;'\n",
      "points = 33&#32;60,55&#32;32,60&#32;27,\n",
      "\n",
      "children \n",
      "\n",
      "exampline (g)\n",
      "\n",
      "children = Servable[]\n",
      "height = 50\n",
      "width = 50\n",
      "\n",
      "children \n",
      "|-- newline:   style = 'stroke: green;stroke-width: 10;fill: none;'    points = 33&#32;60,55&#32;32,60&#32;27,   \n",
      " \n",
      "window (svg)\n",
      "\n",
      "children = Servable[, , , ]\n",
      "height = 500\n",
      "width = 500\n",
      "\n",
      "children \n",
      "|-- newline:   style = 'fill: none;stroke: black;stroke-width: 4;'    points = 500&#32;136,440&#32;309,300&#32;500,   \n",
      " |-- newline:   style = 'stroke-width: 5;fill: none;stroke: blue;'    points = 190&#32;500,500&#32;368,120&#32;108,   \n",
      " |-- newline:   style = 'stroke: red;stroke-width: 10;fill: none;'    points = 500&#32;103,100&#32;500,200&#32;74,   \n",
      " |-- exampline:   height = 50    width = 50   \n",
      "    |---- newline:   style = 'stroke: green;stroke-width: 10;fill: none;'    points = 33&#32;60,55&#32;32,60&#32;27,   \n",
      " \n"
     ]
    }
   ],
   "source": [
    "display(c.window)"
   ]
  },
  {
   "cell_type": "code",
   "execution_count": null,
   "metadata": {},
   "outputs": [],
   "source": []
  },
  {
   "cell_type": "code",
   "execution_count": null,
   "metadata": {},
   "outputs": [],
   "source": []
  }
 ],
 "metadata": {
  "kernelspec": {
   "display_name": "Julia 1.7.2",
   "language": "julia",
   "name": "julia-1.7"
  },
  "language_info": {
   "file_extension": ".jl",
   "mimetype": "application/julia",
   "name": "julia",
   "version": "1.7.2"
  }
 },
 "nbformat": 4,
 "nbformat_minor": 4
}
