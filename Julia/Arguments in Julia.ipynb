{
 "cells": [
  {
   "cell_type": "code",
   "execution_count": 1,
   "metadata": {},
   "outputs": [
    {
     "data": {
      "text/plain": [
       "(5, 10, 15, 20)"
      ]
     },
     "execution_count": 1,
     "metadata": {},
     "output_type": "execute_result"
    }
   ],
   "source": [
    "tupe = (5, 10, 15, 20)"
   ]
  },
  {
   "cell_type": "code",
   "execution_count": 2,
   "metadata": {},
   "outputs": [
    {
     "data": {
      "text/plain": [
       "NTuple{4, Int64}"
      ]
     },
     "execution_count": 2,
     "metadata": {},
     "output_type": "execute_result"
    }
   ],
   "source": [
    "typeof(tupe)"
   ]
  },
  {
   "cell_type": "code",
   "execution_count": 3,
   "metadata": {},
   "outputs": [
    {
     "data": {
      "text/plain": [
       "('h', 'e', 'l', 'l', 'o')"
      ]
     },
     "execution_count": 3,
     "metadata": {},
     "output_type": "execute_result"
    }
   ],
   "source": [
    "t = Tuple([5, 10, 15])\n",
    "t = Tuple(\"hello\")"
   ]
  },
  {
   "cell_type": "code",
   "execution_count": 4,
   "metadata": {},
   "outputs": [
    {
     "data": {
      "text/plain": [
       "add (generic function with 1 method)"
      ]
     },
     "execution_count": 4,
     "metadata": {},
     "output_type": "execute_result"
    }
   ],
   "source": [
    "add(x, y) = x + y"
   ]
  },
  {
   "cell_type": "code",
   "execution_count": 5,
   "metadata": {},
   "outputs": [
    {
     "data": {
      "text/plain": [
       "(5, 8)"
      ]
     },
     "execution_count": 5,
     "metadata": {},
     "output_type": "execute_result"
    }
   ],
   "source": [
    "t = (5::Int64, 8::Int64)"
   ]
  },
  {
   "cell_type": "code",
   "execution_count": 6,
   "metadata": {},
   "outputs": [
    {
     "data": {
      "text/plain": [
       "add2 (generic function with 1 method)"
      ]
     },
     "execution_count": 6,
     "metadata": {},
     "output_type": "execute_result"
    }
   ],
   "source": [
    "add2(x::Number, y::Number) = x + y"
   ]
  },
  {
   "cell_type": "code",
   "execution_count": 7,
   "metadata": {},
   "outputs": [
    {
     "data": {
      "text/plain": [
       "15"
      ]
     },
     "execution_count": 7,
     "metadata": {},
     "output_type": "execute_result"
    }
   ],
   "source": [
    "add2(5, 10)"
   ]
  },
  {
   "cell_type": "code",
   "execution_count": 8,
   "metadata": {},
   "outputs": [
    {
     "ename": "LoadError",
     "evalue": "MethodError: no method matching add2(::String, ::Int64)\n\u001b[0mClosest candidates are:\n\u001b[0m  add2(\u001b[91m::Number\u001b[39m, ::Number) at In[6]:1",
     "output_type": "error",
     "traceback": [
      "MethodError: no method matching add2(::String, ::Int64)\n\u001b[0mClosest candidates are:\n\u001b[0m  add2(\u001b[91m::Number\u001b[39m, ::Number) at In[6]:1",
      "",
      "Stacktrace:",
      " [1] top-level scope",
      "   @ In[8]:1",
      " [2] eval",
      "   @ ./boot.jl:373 [inlined]",
      " [3] include_string(mapexpr::typeof(REPL.softscope), mod::Module, code::String, filename::String)",
      "   @ Base ./loading.jl:1196"
     ]
    }
   ],
   "source": [
    "add2(\"hello\", 20)"
   ]
  },
  {
   "cell_type": "code",
   "execution_count": 9,
   "metadata": {},
   "outputs": [
    {
     "data": {
      "text/plain": [
       "hello (generic function with 1 method)"
      ]
     },
     "execution_count": 9,
     "metadata": {},
     "output_type": "execute_result"
    }
   ],
   "source": [
    "function hello(x::Int64)\n",
    "    x + 5\n",
    "end"
   ]
  },
  {
   "cell_type": "code",
   "execution_count": 10,
   "metadata": {},
   "outputs": [
    {
     "data": {
      "text/plain": [
       "15"
      ]
     },
     "execution_count": 10,
     "metadata": {},
     "output_type": "execute_result"
    }
   ],
   "source": [
    "hello(10)"
   ]
  },
  {
   "cell_type": "code",
   "execution_count": 11,
   "metadata": {},
   "outputs": [
    {
     "data": {
      "text/plain": [
       "multme (generic function with 2 methods)"
      ]
     },
     "execution_count": 11,
     "metadata": {},
     "output_type": "execute_result"
    }
   ],
   "source": [
    "function multme(x::Int64, y::Int64 = 5)\n",
    "    x * y\n",
    "end"
   ]
  },
  {
   "cell_type": "code",
   "execution_count": 12,
   "metadata": {},
   "outputs": [
    {
     "data": {
      "text/plain": [
       "25"
      ]
     },
     "execution_count": 12,
     "metadata": {},
     "output_type": "execute_result"
    }
   ],
   "source": [
    "multme(5)"
   ]
  },
  {
   "cell_type": "code",
   "execution_count": 13,
   "metadata": {},
   "outputs": [
    {
     "data": {
      "text/plain": [
       "10"
      ]
     },
     "execution_count": 13,
     "metadata": {},
     "output_type": "execute_result"
    }
   ],
   "source": [
    "multme(5, 2)"
   ]
  },
  {
   "cell_type": "code",
   "execution_count": 14,
   "metadata": {},
   "outputs": [
    {
     "data": {
      "text/plain": [
       "multme (generic function with 2 methods)"
      ]
     },
     "execution_count": 14,
     "metadata": {},
     "output_type": "execute_result"
    }
   ],
   "source": [
    "function multme(x::Int64, y::Int64 = 5; print::Bool = false)\n",
    "    if print\n",
    "        println(\"hello world!\")\n",
    "    end\n",
    "    x * y\n",
    "end"
   ]
  },
  {
   "cell_type": "code",
   "execution_count": 15,
   "metadata": {},
   "outputs": [
    {
     "name": "stdout",
     "output_type": "stream",
     "text": [
      "hello world!\n"
     ]
    },
    {
     "data": {
      "text/plain": [
       "25"
      ]
     },
     "execution_count": 15,
     "metadata": {},
     "output_type": "execute_result"
    }
   ],
   "source": [
    "multme(5, print = true)"
   ]
  },
  {
   "cell_type": "code",
   "execution_count": 16,
   "metadata": {},
   "outputs": [
    {
     "data": {
      "text/plain": [
       "multme (generic function with 3 methods)"
      ]
     },
     "execution_count": 16,
     "metadata": {},
     "output_type": "execute_result"
    }
   ],
   "source": [
    "function multme(x::Int64 ...)\n",
    "    [println(t) for t in x]\n",
    "end"
   ]
  },
  {
   "cell_type": "code",
   "execution_count": 17,
   "metadata": {},
   "outputs": [
    {
     "name": "stdout",
     "output_type": "stream",
     "text": [
      "5\n",
      "10\n",
      "15\n",
      "20\n"
     ]
    },
    {
     "data": {
      "text/plain": [
       "4-element Vector{Nothing}:\n",
       " nothing\n",
       " nothing\n",
       " nothing\n",
       " nothing"
      ]
     },
     "execution_count": 17,
     "metadata": {},
     "output_type": "execute_result"
    }
   ],
   "source": [
    "multme(5, 10, 15, 20)"
   ]
  },
  {
   "cell_type": "code",
   "execution_count": 18,
   "metadata": {},
   "outputs": [
    {
     "data": {
      "text/plain": [
       "provide_me_kwargs (generic function with 1 method)"
      ]
     },
     "execution_count": 18,
     "metadata": {},
     "output_type": "execute_result"
    }
   ],
   "source": [
    "function provide_me_kwargs(z::Int64 ; x ...)\n",
    "    [println(y) for y in x]\n",
    "end"
   ]
  },
  {
   "cell_type": "code",
   "execution_count": 19,
   "metadata": {},
   "outputs": [
    {
     "name": "stdout",
     "output_type": "stream",
     "text": [
      ":hi => 5\n",
      ":z => 2\n"
     ]
    },
    {
     "data": {
      "text/plain": [
       "2-element Vector{Nothing}:\n",
       " nothing\n",
       " nothing"
      ]
     },
     "execution_count": 19,
     "metadata": {},
     "output_type": "execute_result"
    }
   ],
   "source": [
    "provide_me_kwargs(5, hi = 5, z = 2)"
   ]
  },
  {
   "cell_type": "code",
   "execution_count": 20,
   "metadata": {},
   "outputs": [
    {
     "data": {
      "text/plain": [
       "@h (macro with 1 method)"
      ]
     },
     "execution_count": 20,
     "metadata": {},
     "output_type": "execute_result"
    }
   ],
   "source": [
    "macro h(x::Expr)\n",
    "    println(__module__)\n",
    "end"
   ]
  },
  {
   "cell_type": "code",
   "execution_count": 21,
   "metadata": {},
   "outputs": [
    {
     "name": "stdout",
     "output_type": "stream",
     "text": [
      "Main\n"
     ]
    }
   ],
   "source": [
    "@h 5 + 5"
   ]
  },
  {
   "cell_type": "code",
   "execution_count": 22,
   "metadata": {},
   "outputs": [
    {
     "data": {
      "text/plain": [
       "@perc_str (macro with 1 method)"
      ]
     },
     "execution_count": 22,
     "metadata": {},
     "output_type": "execute_result"
    }
   ],
   "source": [
    "macro perc_str(x::String)\n",
    "    \"%$x\"\n",
    "end"
   ]
  },
  {
   "cell_type": "code",
   "execution_count": 23,
   "metadata": {},
   "outputs": [
    {
     "data": {
      "text/plain": [
       "\"%100\""
      ]
     },
     "execution_count": 23,
     "metadata": {},
     "output_type": "execute_result"
    }
   ],
   "source": [
    "perc\"100\""
   ]
  },
  {
   "cell_type": "code",
   "execution_count": 24,
   "metadata": {},
   "outputs": [
    {
     "data": {
      "text/plain": [
       "message (generic function with 1 method)"
      ]
     },
     "execution_count": 24,
     "metadata": {},
     "output_type": "execute_result"
    }
   ],
   "source": [
    "function message(f::Function, n::Int64)\n",
    "    f(\"why did this happen\", n)\n",
    "end"
   ]
  },
  {
   "cell_type": "code",
   "execution_count": 25,
   "metadata": {},
   "outputs": [
    {
     "name": "stdout",
     "output_type": "stream",
     "text": [
      "why did this happen\n",
      "why did this happen\n",
      "why did this happen\n",
      "why did this happen\n",
      "why did this happen\n"
     ]
    }
   ],
   "source": [
    "message(5) do m::String, n::Int64\n",
    "    for i in 1:n\n",
    "        println(m)\n",
    "    end\n",
    "end"
   ]
  },
  {
   "cell_type": "code",
   "execution_count": 26,
   "metadata": {},
   "outputs": [
    {
     "name": "stdout",
     "output_type": "stream",
     "text": [
      "1 => 5\n",
      "2 => 10\n",
      "3 => 15\n"
     ]
    }
   ],
   "source": [
    "for (n::Int64, value::Int64) in enumerate([5, 10, 15])\n",
    "    println(n => value)\n",
    "end"
   ]
  },
  {
   "cell_type": "code",
   "execution_count": 27,
   "metadata": {},
   "outputs": [
    {
     "data": {
      "text/plain": [
       "timeme (generic function with 1 method)"
      ]
     },
     "execution_count": 27,
     "metadata": {},
     "output_type": "execute_result"
    }
   ],
   "source": [
    "function timeme(x::Array)\n",
    "    pairs::Vector{Pair{Int64, Float64}} = Vector{Pair{Int64, Float64}}()\n",
    "    for (n::Int64, value::Float64) in enumerate(x)\n",
    "        push!(pairs, n => value)\n",
    "    end\n",
    "    pairs\n",
    "end"
   ]
  },
  {
   "cell_type": "code",
   "execution_count": 32,
   "metadata": {},
   "outputs": [
    {
     "data": {
      "text/plain": [
       "timemeslow (generic function with 1 method)"
      ]
     },
     "execution_count": 32,
     "metadata": {},
     "output_type": "execute_result"
    }
   ],
   "source": [
    "function timemeslow(x::Array)\n",
    "    pairs = Vector{Pair{Int64, Float64}}()\n",
    "    for (n, value) in enumerate(x)\n",
    "        push!(pairs, n => value)\n",
    "    end\n",
    "    pairs\n",
    "end"
   ]
  },
  {
   "cell_type": "code",
   "execution_count": 36,
   "metadata": {},
   "outputs": [
    {
     "data": {
      "text/plain": [
       "5000000-element Vector{Float64}:\n",
       " -0.11292592291489183\n",
       " -1.0816861460038278\n",
       " -1.0174440918807972\n",
       "  0.004781423426056994\n",
       "  0.3230830799275542\n",
       " -0.3729853075685511\n",
       " -0.7611702377857709\n",
       " -0.4494591848617976\n",
       " -0.23766413336522682\n",
       " -0.5691108122527131\n",
       "  1.0969094815446148\n",
       "  0.0903056537651658\n",
       " -1.5145704463938192\n",
       "  ⋮\n",
       " -0.7968935945958725\n",
       "  0.3912898241188296\n",
       "  0.5066606093147002\n",
       " -0.451250290838388\n",
       " -0.7606892270342248\n",
       "  1.8502113271677987\n",
       "  0.5197256936641884\n",
       " -1.3058841201946072\n",
       " -1.446267532476391\n",
       " -0.2998716416608162\n",
       "  0.44172293617308195\n",
       "  0.7949540574315005"
      ]
     },
     "execution_count": 36,
     "metadata": {},
     "output_type": "execute_result"
    }
   ],
   "source": [
    "x = randn(5000000)"
   ]
  },
  {
   "cell_type": "code",
   "execution_count": 40,
   "metadata": {},
   "outputs": [
    {
     "name": "stdout",
     "output_type": "stream",
     "text": [
      "  0.132723 seconds (17 allocations: 147.431 MiB)\n"
     ]
    },
    {
     "data": {
      "text/plain": [
       "5000000-element Vector{Pair{Int64, Float64}}:\n",
       "       1 => -1.2839585559116065\n",
       "       2 => -1.6218342192254198\n",
       "       3 => 1.530546659708345\n",
       "       4 => -1.2156446537181644\n",
       "       5 => -0.3317134000475932\n",
       "       6 => -0.06977623041562597\n",
       "       7 => 0.018761503590231588\n",
       "       8 => -1.0137536727245835\n",
       "       9 => 0.3525030050507704\n",
       "      10 => 0.055389449358803765\n",
       "      11 => -0.009431131069756836\n",
       "      12 => -0.7484926570322918\n",
       "      13 => 0.34539387162159063\n",
       "         ⋮\n",
       " 4999989 => -1.0383811667250065\n",
       " 4999990 => -0.4919362068302679\n",
       " 4999991 => 1.8180813389563513\n",
       " 4999992 => 0.5131680980739209\n",
       " 4999993 => -0.5662399857168827\n",
       " 4999994 => -0.012222772649578887\n",
       " 4999995 => 0.12061994696025746\n",
       " 4999996 => -1.9423772669555195\n",
       " 4999997 => -0.3128472101667456\n",
       " 4999998 => 0.33524245708261174\n",
       " 4999999 => -1.1324640925939273\n",
       " 5000000 => 0.5650241550728261"
      ]
     },
     "execution_count": 40,
     "metadata": {},
     "output_type": "execute_result"
    }
   ],
   "source": [
    "@time timeme(x)"
   ]
  },
  {
   "cell_type": "code",
   "execution_count": 41,
   "metadata": {},
   "outputs": [
    {
     "data": {
      "text/plain": [
       "5000000-element Vector{Float64}:\n",
       " -0.6850587811409408\n",
       " -0.23135483053909264\n",
       "  0.45767942319910654\n",
       " -0.07201031679237133\n",
       "  0.9967870513932224\n",
       "  2.4913662875595373\n",
       "  0.07429914150414639\n",
       " -0.4058847312863937\n",
       " -0.3570864419252744\n",
       "  0.8316411988601025\n",
       "  0.4620515685112294\n",
       " -0.44322713992398177\n",
       "  0.44124259679997485\n",
       "  ⋮\n",
       "  2.843698649094255\n",
       "  0.3595292365103876\n",
       "  0.5042901246716502\n",
       " -0.33438877107783327\n",
       " -1.0363539611801953\n",
       " -0.6698479927406705\n",
       " -0.29200393019345705\n",
       "  1.035711522445343\n",
       " -1.089636634699467\n",
       "  0.08409356370494142\n",
       "  0.9939857380561316\n",
       " -1.749146199425306"
      ]
     },
     "execution_count": 41,
     "metadata": {},
     "output_type": "execute_result"
    }
   ],
   "source": [
    "x = randn(5000000)"
   ]
  },
  {
   "cell_type": "code",
   "execution_count": 42,
   "metadata": {},
   "outputs": [
    {
     "name": "stdout",
     "output_type": "stream",
     "text": [
      "  0.135097 seconds (17 allocations: 147.431 MiB)\n"
     ]
    },
    {
     "data": {
      "text/plain": [
       "5000000-element Vector{Pair{Int64, Float64}}:\n",
       "       1 => -0.6850587811409408\n",
       "       2 => -0.23135483053909264\n",
       "       3 => 0.45767942319910654\n",
       "       4 => -0.07201031679237133\n",
       "       5 => 0.9967870513932224\n",
       "       6 => 2.4913662875595373\n",
       "       7 => 0.07429914150414639\n",
       "       8 => -0.4058847312863937\n",
       "       9 => -0.3570864419252744\n",
       "      10 => 0.8316411988601025\n",
       "      11 => 0.4620515685112294\n",
       "      12 => -0.44322713992398177\n",
       "      13 => 0.44124259679997485\n",
       "         ⋮\n",
       " 4999989 => 2.843698649094255\n",
       " 4999990 => 0.3595292365103876\n",
       " 4999991 => 0.5042901246716502\n",
       " 4999992 => -0.33438877107783327\n",
       " 4999993 => -1.0363539611801953\n",
       " 4999994 => -0.6698479927406705\n",
       " 4999995 => -0.29200393019345705\n",
       " 4999996 => 1.035711522445343\n",
       " 4999997 => -1.089636634699467\n",
       " 4999998 => 0.08409356370494142\n",
       " 4999999 => 0.9939857380561316\n",
       " 5000000 => -1.749146199425306"
      ]
     },
     "execution_count": 42,
     "metadata": {},
     "output_type": "execute_result"
    }
   ],
   "source": [
    "@time timemeslow(x)"
   ]
  },
  {
   "cell_type": "code",
   "execution_count": null,
   "metadata": {},
   "outputs": [],
   "source": []
  }
 ],
 "metadata": {
  "kernelspec": {
   "display_name": "Julia 1.7.2",
   "language": "julia",
   "name": "julia-1.7"
  },
  "language_info": {
   "file_extension": ".jl",
   "mimetype": "application/julia",
   "name": "julia",
   "version": "1.7.2"
  }
 },
 "nbformat": 4,
 "nbformat_minor": 4
}
