{
 "cells": [
  {
   "cell_type": "code",
   "execution_count": 1,
   "metadata": {},
   "outputs": [],
   "source": [
    "using BenchmarkTools\n",
    "using Toolips\n",
    "import Toolips: Servable"
   ]
  },
  {
   "cell_type": "code",
   "execution_count": 2,
   "metadata": {},
   "outputs": [
    {
     "data": {
      "text/plain": [
       "5000000-element Vector{Float64}:\n",
       "  0.3028214813194328\n",
       " -0.6406856414740036\n",
       "  0.37567026121315383\n",
       " -1.306667466010529\n",
       " -1.3515658953532619\n",
       " -0.8932962087339964\n",
       " -0.5579377052144839\n",
       " -1.2802173095768625\n",
       " -0.7518462896222774\n",
       " -0.6144617146420858\n",
       " -0.7020172790857037\n",
       "  0.22902193072519197\n",
       " -1.1184258865483834\n",
       "  ⋮\n",
       " -0.9899061383999157\n",
       "  0.8285568311879566\n",
       "  0.09014210794662895\n",
       "  0.803958750495224\n",
       " -1.5237111996222354\n",
       " -0.08429663687397657\n",
       " -1.7688131401246363\n",
       "  1.2380762015991265\n",
       "  0.28010143591982467\n",
       " -0.0009658808971613181\n",
       " -0.9114763062049261\n",
       "  1.4077113996461899"
      ]
     },
     "execution_count": 2,
     "metadata": {},
     "output_type": "execute_result"
    }
   ],
   "source": [
    "array1 = randn(5000000)"
   ]
  },
  {
   "cell_type": "code",
   "execution_count": 3,
   "metadata": {},
   "outputs": [
    {
     "data": {
      "text/plain": [
       "5000000-element Vector{Float64}:\n",
       " -0.15501021909831258\n",
       "  0.16015521154595067\n",
       " -0.036894323002093485\n",
       " -0.2982883002576884\n",
       " -0.578197613308495\n",
       " -1.1255212221724917\n",
       " -0.8592697057602037\n",
       "  0.8628370353093671\n",
       "  0.4840755848909098\n",
       " -1.7114552542043349\n",
       "  0.01498929866919589\n",
       " -1.207963506538803\n",
       "  0.4793573465536746\n",
       "  ⋮\n",
       "  0.4815983943613352\n",
       " -0.19359073873197968\n",
       "  0.01155584515947341\n",
       " -0.00789443476316558\n",
       " -0.12363635363165142\n",
       "  1.3516727216658824\n",
       " -0.12096753354534479\n",
       "  1.2375216445343145\n",
       "  0.6973113033529268\n",
       "  0.6537929653457899\n",
       "  0.684176181228929\n",
       " -0.6422508281413861"
      ]
     },
     "execution_count": 3,
     "metadata": {},
     "output_type": "execute_result"
    }
   ],
   "source": [
    "array2 = randn(5000000)"
   ]
  },
  {
   "cell_type": "code",
   "execution_count": 4,
   "metadata": {},
   "outputs": [
    {
     "name": "stdout",
     "output_type": "stream",
     "text": [
      "  1.555896 seconds (55.09 M allocations: 1.272 GiB, 4.93% gc time, 3.31% compilation time)\n"
     ]
    }
   ],
   "source": [
    "@time for (x, y) in zip(array1, array2)\n",
    "    h = x + y\n",
    "    z = x * y + 1 - y \n",
    "end"
   ]
  },
  {
   "cell_type": "code",
   "execution_count": 5,
   "metadata": {},
   "outputs": [
    {
     "data": {
      "text/plain": [
       "5000000-element Vector{Any}:\n",
       " -0.301957254400207\n",
       " -1.0341460612272377\n",
       " -0.7354748178879962\n",
       " -1.4657561492389488\n",
       " -0.5082030271559973\n",
       "  0.5254596490330098\n",
       " -0.04718290987825147\n",
       "  0.3900251195487402\n",
       "  0.8755230443223966\n",
       "  2.2659340007355886\n",
       "  2.8462037724142393\n",
       "  1.8066812562601768\n",
       "  0.7783559117093087\n",
       "  ⋮\n",
       "  0.5739803390424101\n",
       "  0.025565150173589637\n",
       "  0.04734603883112123\n",
       "  0.5639452567624796\n",
       "  2.1589925482144805\n",
       " -0.30146253798542433\n",
       "  0.23519272636667057\n",
       " -0.7300254304840552\n",
       "  0.24335712839775298\n",
       "  0.6319759112895573\n",
       "  1.0840864405000907\n",
       " -1.3416429433483332"
      ]
     },
     "execution_count": 5,
     "metadata": {},
     "output_type": "execute_result"
    }
   ],
   "source": [
    "array1 = Vector{Any}(randn(5000000))\n",
    "array2 = Vector{Any}(randn(5000000))"
   ]
  },
  {
   "cell_type": "code",
   "execution_count": 6,
   "metadata": {},
   "outputs": [
    {
     "name": "stdout",
     "output_type": "stream",
     "text": [
      "  3.372833 seconds (65.01 M allocations: 1.565 GiB, 22.82% gc time, 0.90% compilation time)\n"
     ]
    }
   ],
   "source": [
    "@time for (x, y) in zip(array1, array2)\n",
    "    h = x + y\n",
    "    z = x * y + 1 - y \n",
    "end"
   ]
  },
  {
   "cell_type": "code",
   "execution_count": 7,
   "metadata": {},
   "outputs": [
    {
     "name": "stdout",
     "output_type": "stream",
     "text": [
      "  3.458481 seconds (45.00 M allocations: 1.267 GiB, 4.71% gc time)\n"
     ]
    }
   ],
   "source": [
    "@time for (x::Float64, y::Float64) in zip(array1, array2)\n",
    "    h = x + y\n",
    "    z = x * y + 1 - y \n",
    "end"
   ]
  },
  {
   "cell_type": "code",
   "execution_count": 8,
   "metadata": {},
   "outputs": [
    {
     "data": {
      "text/plain": [
       "BenchmarkTools.Trial: 37 samples with 1 evaluation.\n",
       " Range \u001b[90m(\u001b[39m\u001b[36m\u001b[1mmin\u001b[22m\u001b[39m … \u001b[35mmax\u001b[39m\u001b[90m):  \u001b[39m\u001b[36m\u001b[1m122.002 ms\u001b[22m\u001b[39m … \u001b[35m142.639 ms\u001b[39m  \u001b[90m┊\u001b[39m GC \u001b[90m(\u001b[39mmin … max\u001b[90m): \u001b[39m6.03% … 18.50%\n",
       " Time  \u001b[90m(\u001b[39m\u001b[34m\u001b[1mmedian\u001b[22m\u001b[39m\u001b[90m):     \u001b[39m\u001b[34m\u001b[1m136.099 ms               \u001b[22m\u001b[39m\u001b[90m┊\u001b[39m GC \u001b[90m(\u001b[39mmedian\u001b[90m):    \u001b[39m5.41%\n",
       " Time  \u001b[90m(\u001b[39m\u001b[32m\u001b[1mmean\u001b[22m\u001b[39m ± \u001b[32mσ\u001b[39m\u001b[90m):   \u001b[39m\u001b[32m\u001b[1m135.962 ms\u001b[22m\u001b[39m ± \u001b[32m  5.246 ms\u001b[39m  \u001b[90m┊\u001b[39m GC \u001b[90m(\u001b[39mmean ± σ\u001b[90m):  \u001b[39m8.55% ±  8.45%\n",
       "\n",
       "  \u001b[39m \u001b[39m \u001b[39m \u001b[39m \u001b[39m \u001b[39m \u001b[39m \u001b[39m \u001b[39m \u001b[39m \u001b[39m \u001b[39m \u001b[39m \u001b[39m \u001b[39m \u001b[39m \u001b[39m \u001b[39m \u001b[39m \u001b[39m \u001b[39m \u001b[39m \u001b[39m \u001b[39m \u001b[39m \u001b[39m \u001b[39m \u001b[39m \u001b[39m \u001b[39m▁\u001b[39m \u001b[39m▄\u001b[39m \u001b[39m▁\u001b[39m▄\u001b[39m \u001b[39m \u001b[39m \u001b[39m \u001b[34m \u001b[39m\u001b[39m \u001b[32m \u001b[39m\u001b[39m \u001b[39m \u001b[39m \u001b[39m \u001b[39m \u001b[39m \u001b[39m▁\u001b[39m \u001b[39m \u001b[39m \u001b[39m \u001b[39m▄\u001b[39m \u001b[39m \u001b[39m▁\u001b[39m \u001b[39m█\u001b[39m \u001b[39m▁\u001b[39m \u001b[39m \n",
       "  \u001b[39m▆\u001b[39m▁\u001b[39m▁\u001b[39m▁\u001b[39m▁\u001b[39m▆\u001b[39m▁\u001b[39m▁\u001b[39m▁\u001b[39m▁\u001b[39m▁\u001b[39m▁\u001b[39m▁\u001b[39m▁\u001b[39m▁\u001b[39m▁\u001b[39m▁\u001b[39m▁\u001b[39m▁\u001b[39m▆\u001b[39m▁\u001b[39m▆\u001b[39m▁\u001b[39m▁\u001b[39m▁\u001b[39m▁\u001b[39m▁\u001b[39m▆\u001b[39m▆\u001b[39m█\u001b[39m▁\u001b[39m█\u001b[39m▆\u001b[39m█\u001b[39m█\u001b[39m▁\u001b[39m▁\u001b[39m▁\u001b[39m▆\u001b[34m▁\u001b[39m\u001b[39m▁\u001b[32m▆\u001b[39m\u001b[39m▁\u001b[39m▁\u001b[39m▁\u001b[39m▁\u001b[39m▁\u001b[39m▆\u001b[39m█\u001b[39m▆\u001b[39m▆\u001b[39m▁\u001b[39m▁\u001b[39m█\u001b[39m▁\u001b[39m▆\u001b[39m█\u001b[39m▆\u001b[39m█\u001b[39m▁\u001b[39m█\u001b[39m \u001b[39m▁\n",
       "  122 ms\u001b[90m           Histogram: frequency by time\u001b[39m          143 ms \u001b[0m\u001b[1m<\u001b[22m\n",
       "\n",
       " Memory estimate\u001b[90m: \u001b[39m\u001b[33m114.44 MiB\u001b[39m, allocs estimate\u001b[90m: \u001b[39m\u001b[33m5000005\u001b[39m."
      ]
     },
     "execution_count": 8,
     "metadata": {},
     "output_type": "execute_result"
    }
   ],
   "source": [
    "@benchmark y = [i * 5 for i in array1]"
   ]
  },
  {
   "cell_type": "code",
   "execution_count": 9,
   "metadata": {},
   "outputs": [
    {
     "data": {
      "text/plain": [
       "BenchmarkTools.Trial: 4 samples with 1 evaluation.\n",
       " Range \u001b[90m(\u001b[39m\u001b[36m\u001b[1mmin\u001b[22m\u001b[39m … \u001b[35mmax\u001b[39m\u001b[90m):  \u001b[39m\u001b[36m\u001b[1m1.275 s\u001b[22m\u001b[39m … \u001b[35m   3.411 s\u001b[39m  \u001b[90m┊\u001b[39m GC \u001b[90m(\u001b[39mmin … max\u001b[90m): \u001b[39m 0.00% … 53.39%\n",
       " Time  \u001b[90m(\u001b[39m\u001b[34m\u001b[1mmedian\u001b[22m\u001b[39m\u001b[90m):     \u001b[39m\u001b[34m\u001b[1m1.682 s               \u001b[22m\u001b[39m\u001b[90m┊\u001b[39m GC \u001b[90m(\u001b[39mmedian\u001b[90m):    \u001b[39m17.51%\n",
       " Time  \u001b[90m(\u001b[39m\u001b[32m\u001b[1mmean\u001b[22m\u001b[39m ± \u001b[32mσ\u001b[39m\u001b[90m):   \u001b[39m\u001b[32m\u001b[1m2.012 s\u001b[22m\u001b[39m ± \u001b[32m979.606 ms\u001b[39m  \u001b[90m┊\u001b[39m GC \u001b[90m(\u001b[39mmean ± σ\u001b[90m):  \u001b[39m29.94% ± 25.90%\n",
       "\n",
       "  \u001b[39m█\u001b[39m \u001b[39m \u001b[34m█\u001b[39m\u001b[39m \u001b[39m \u001b[39m \u001b[39m \u001b[39m \u001b[39m \u001b[39m \u001b[39m \u001b[39m \u001b[39m \u001b[39m \u001b[39m \u001b[39m \u001b[39m \u001b[39m█\u001b[39m \u001b[32m \u001b[39m\u001b[39m \u001b[39m \u001b[39m \u001b[39m \u001b[39m \u001b[39m \u001b[39m \u001b[39m \u001b[39m \u001b[39m \u001b[39m \u001b[39m \u001b[39m \u001b[39m \u001b[39m \u001b[39m \u001b[39m \u001b[39m \u001b[39m \u001b[39m \u001b[39m \u001b[39m \u001b[39m \u001b[39m \u001b[39m \u001b[39m \u001b[39m \u001b[39m \u001b[39m \u001b[39m \u001b[39m \u001b[39m \u001b[39m \u001b[39m \u001b[39m \u001b[39m \u001b[39m█\u001b[39m \u001b[39m \n",
       "  \u001b[39m█\u001b[39m▁\u001b[39m▁\u001b[34m█\u001b[39m\u001b[39m▁\u001b[39m▁\u001b[39m▁\u001b[39m▁\u001b[39m▁\u001b[39m▁\u001b[39m▁\u001b[39m▁\u001b[39m▁\u001b[39m▁\u001b[39m▁\u001b[39m▁\u001b[39m▁\u001b[39m▁\u001b[39m█\u001b[39m▁\u001b[32m▁\u001b[39m\u001b[39m▁\u001b[39m▁\u001b[39m▁\u001b[39m▁\u001b[39m▁\u001b[39m▁\u001b[39m▁\u001b[39m▁\u001b[39m▁\u001b[39m▁\u001b[39m▁\u001b[39m▁\u001b[39m▁\u001b[39m▁\u001b[39m▁\u001b[39m▁\u001b[39m▁\u001b[39m▁\u001b[39m▁\u001b[39m▁\u001b[39m▁\u001b[39m▁\u001b[39m▁\u001b[39m▁\u001b[39m▁\u001b[39m▁\u001b[39m▁\u001b[39m▁\u001b[39m▁\u001b[39m▁\u001b[39m▁\u001b[39m▁\u001b[39m▁\u001b[39m▁\u001b[39m▁\u001b[39m▁\u001b[39m█\u001b[39m \u001b[39m▁\n",
       "  1.27 s\u001b[90m         Histogram: frequency by time\u001b[39m         3.41 s \u001b[0m\u001b[1m<\u001b[22m\n",
       "\n",
       " Memory estimate\u001b[90m: \u001b[39m\u001b[33m457.75 MiB\u001b[39m, allocs estimate\u001b[90m: \u001b[39m\u001b[33m24998980\u001b[39m."
      ]
     },
     "execution_count": 9,
     "metadata": {},
     "output_type": "execute_result"
    }
   ],
   "source": [
    "new = []\n",
    "@benchmark for x in array1\n",
    "    push!(new, x * 5)\n",
    "end"
   ]
  },
  {
   "cell_type": "code",
   "execution_count": 10,
   "metadata": {},
   "outputs": [
    {
     "data": {
      "text/plain": [
       "\"<h1 id=Hello  align=center>world</h1><div id=hello ></div><div id=hello ></div><div></div>\""
      ]
     },
     "execution_count": 10,
     "metadata": {},
     "output_type": "execute_result"
    }
   ],
   "source": [
    "compdata = \"<h1 id=Hello  align=center>world</h1><div id=hello ></div><div id=hello ></div><div></div>\""
   ]
  },
  {
   "cell_type": "code",
   "execution_count": 11,
   "metadata": {},
   "outputs": [
    {
     "data": {
      "text/plain": [
       "compparser (generic function with 1 method)"
      ]
     },
     "execution_count": 11,
     "metadata": {},
     "output_type": "execute_result"
    }
   ],
   "source": [
    "function compparser(s::String)\n",
    "    tagpos::Vector{UnitRange{Int64}} = [f[1]:e[1] for (f, e) in zip(findall(\"<\", s), findall(\">\", s))]\n",
    "    comps = Vector{Servable}()\n",
    "    for tag in tagpos\n",
    "       if contains(s[tag], \"/\") || ~(contains(s[tag], \" id=\"))\n",
    "            continue\n",
    "        end\n",
    "        tagr::UnitRange = findnext(\" \", s, tag[1])\n",
    "        nametag = s[minimum(tag) + 1:maximum(tagr) - 1]\n",
    "        tagtext::String = \"\"\n",
    "        try\n",
    "            textr::UnitRange = maximum(tag) + 1:minimum(findnext(\"</$nametag\", s, tag[1])[1]) - 1\n",
    "            tagtext = s[textr]\n",
    "        catch\n",
    "            tagtext = \"\"\n",
    "        end\n",
    "        propvec = split(s[maximum(tagr) + 1:maximum(tag) - 1], \" \")\n",
    "        properties = Dict()\n",
    "        for segment in propvec\n",
    "            ppair = split(segment, \"=\")\n",
    "            if length(ppair) != 2\n",
    "                continue\n",
    "            end\n",
    "            push!(properties, string(ppair[1]) => string(ppair[2]))\n",
    "        end\n",
    "        name::String = properties[\"id\"]\n",
    "        delete!(properties, \"id\")\n",
    "        properties[\"text\"] = tagtext\n",
    "        push!(comps, Component(name, string(name), properties))\n",
    "    end\n",
    "    return(comps)::Vector{Servable}\n",
    "end"
   ]
  },
  {
   "cell_type": "code",
   "execution_count": 12,
   "metadata": {},
   "outputs": [
    {
     "data": {
      "text/plain": [
       "compparsernoa (generic function with 1 method)"
      ]
     },
     "execution_count": 12,
     "metadata": {},
     "output_type": "execute_result"
    }
   ],
   "source": [
    "function compparsernoa(s::String)\n",
    "    tagpos = [f[1]:e[1] for (f, e) in zip(findall(\"<\", s), findall(\">\", s))]\n",
    "    comps = Vector{Servable}()\n",
    "    for tag in tagpos\n",
    "       if contains(s[tag], \"/\") || ~(contains(s[tag], \" id=\"))\n",
    "            continue\n",
    "        end\n",
    "        tagr = findnext(\" \", s, tag[1])\n",
    "        nametag = s[minimum(tag) + 1:maximum(tagr) - 1]\n",
    "        tagtext = \"\"\n",
    "        try\n",
    "            textr = maximum(tag) + 1:minimum(findnext(\"</$nametag\", s, tag[1])[1]) - 1\n",
    "            tagtext = s[textr]\n",
    "        catch\n",
    "            tagtext = \"\"\n",
    "        end\n",
    "        propvec = split(s[maximum(tagr) + 1:maximum(tag) - 1], \" \")\n",
    "        properties = Dict()\n",
    "        for segment in propvec\n",
    "            ppair = split(segment, \"=\")\n",
    "            if length(ppair) != 2\n",
    "                continue\n",
    "            end\n",
    "            push!(properties, string(ppair[1]) => string(ppair[2]))\n",
    "        end\n",
    "        name = properties[\"id\"]\n",
    "        delete!(properties, \"id\")\n",
    "        properties[\"text\"] = tagtext\n",
    "        push!(comps, Component(name, string(name), properties))\n",
    "    end\n",
    "    return(comps)\n",
    "end"
   ]
  },
  {
   "cell_type": "code",
   "execution_count": 13,
   "metadata": {},
   "outputs": [
    {
     "data": {
      "text/plain": [
       "BenchmarkTools.Trial: 10000 samples with 6 evaluations.\n",
       " Range \u001b[90m(\u001b[39m\u001b[36m\u001b[1mmin\u001b[22m\u001b[39m … \u001b[35mmax\u001b[39m\u001b[90m):  \u001b[39m\u001b[36m\u001b[1m5.815 μs\u001b[22m\u001b[39m … \u001b[35m36.543 μs\u001b[39m  \u001b[90m┊\u001b[39m GC \u001b[90m(\u001b[39mmin … max\u001b[90m): \u001b[39m0.00% … 0.00%\n",
       " Time  \u001b[90m(\u001b[39m\u001b[34m\u001b[1mmedian\u001b[22m\u001b[39m\u001b[90m):     \u001b[39m\u001b[34m\u001b[1m8.593 μs              \u001b[22m\u001b[39m\u001b[90m┊\u001b[39m GC \u001b[90m(\u001b[39mmedian\u001b[90m):    \u001b[39m0.00%\n",
       " Time  \u001b[90m(\u001b[39m\u001b[32m\u001b[1mmean\u001b[22m\u001b[39m ± \u001b[32mσ\u001b[39m\u001b[90m):   \u001b[39m\u001b[32m\u001b[1m9.911 μs\u001b[22m\u001b[39m ± \u001b[32m 3.454 μs\u001b[39m  \u001b[90m┊\u001b[39m GC \u001b[90m(\u001b[39mmean ± σ\u001b[90m):  \u001b[39m0.00% ± 0.00%\n",
       "\n",
       "  \u001b[39m \u001b[39m \u001b[39m \u001b[39m \u001b[39m \u001b[39m \u001b[39m \u001b[39m▅\u001b[39m█\u001b[34m▇\u001b[39m\u001b[39m▂\u001b[39m \u001b[39m \u001b[39m \u001b[32m \u001b[39m\u001b[39m \u001b[39m \u001b[39m \u001b[39m \u001b[39m \u001b[39m \u001b[39m \u001b[39m \u001b[39m \u001b[39m \u001b[39m \u001b[39m \u001b[39m \u001b[39m \u001b[39m \u001b[39m \u001b[39m \u001b[39m \u001b[39m \u001b[39m \u001b[39m \u001b[39m \u001b[39m \u001b[39m \u001b[39m \u001b[39m \u001b[39m \u001b[39m \u001b[39m \u001b[39m \u001b[39m \u001b[39m \u001b[39m \u001b[39m \u001b[39m \u001b[39m \u001b[39m \u001b[39m \u001b[39m \u001b[39m \u001b[39m \u001b[39m \u001b[39m \u001b[39m \u001b[39m \n",
       "  \u001b[39m▁\u001b[39m▁\u001b[39m▂\u001b[39m▃\u001b[39m▄\u001b[39m▆\u001b[39m█\u001b[39m█\u001b[39m█\u001b[34m█\u001b[39m\u001b[39m█\u001b[39m▅\u001b[39m▃\u001b[39m▂\u001b[32m▂\u001b[39m\u001b[39m▂\u001b[39m▂\u001b[39m▂\u001b[39m▂\u001b[39m▂\u001b[39m▂\u001b[39m▂\u001b[39m▂\u001b[39m▂\u001b[39m▂\u001b[39m▂\u001b[39m▂\u001b[39m▂\u001b[39m▂\u001b[39m▂\u001b[39m▂\u001b[39m▂\u001b[39m▂\u001b[39m▂\u001b[39m▂\u001b[39m▂\u001b[39m▁\u001b[39m▁\u001b[39m▁\u001b[39m▁\u001b[39m▁\u001b[39m▁\u001b[39m▁\u001b[39m▁\u001b[39m▁\u001b[39m▁\u001b[39m▁\u001b[39m▁\u001b[39m▁\u001b[39m▁\u001b[39m▁\u001b[39m▁\u001b[39m▁\u001b[39m▁\u001b[39m▁\u001b[39m▁\u001b[39m▁\u001b[39m▁\u001b[39m \u001b[39m▂\n",
       "  5.81 μs\u001b[90m        Histogram: frequency by time\u001b[39m        23.1 μs \u001b[0m\u001b[1m<\u001b[22m\n",
       "\n",
       " Memory estimate\u001b[90m: \u001b[39m\u001b[33m7.89 KiB\u001b[39m, allocs estimate\u001b[90m: \u001b[39m\u001b[33m110\u001b[39m."
      ]
     },
     "execution_count": 13,
     "metadata": {},
     "output_type": "execute_result"
    }
   ],
   "source": [
    "@benchmark x = compparsernoa(compdata)"
   ]
  },
  {
   "cell_type": "code",
   "execution_count": 14,
   "metadata": {},
   "outputs": [
    {
     "data": {
      "text/plain": [
       "BenchmarkTools.Trial: 10000 samples with 6 evaluations.\n",
       " Range \u001b[90m(\u001b[39m\u001b[36m\u001b[1mmin\u001b[22m\u001b[39m … \u001b[35mmax\u001b[39m\u001b[90m):  \u001b[39m\u001b[36m\u001b[1m5.856 μs\u001b[22m\u001b[39m … \u001b[35m35.833 μs\u001b[39m  \u001b[90m┊\u001b[39m GC \u001b[90m(\u001b[39mmin … max\u001b[90m): \u001b[39m0.00% … 0.00%\n",
       " Time  \u001b[90m(\u001b[39m\u001b[34m\u001b[1mmedian\u001b[22m\u001b[39m\u001b[90m):     \u001b[39m\u001b[34m\u001b[1m8.260 μs              \u001b[22m\u001b[39m\u001b[90m┊\u001b[39m GC \u001b[90m(\u001b[39mmedian\u001b[90m):    \u001b[39m0.00%\n",
       " Time  \u001b[90m(\u001b[39m\u001b[32m\u001b[1mmean\u001b[22m\u001b[39m ± \u001b[32mσ\u001b[39m\u001b[90m):   \u001b[39m\u001b[32m\u001b[1m9.115 μs\u001b[22m\u001b[39m ± \u001b[32m 2.923 μs\u001b[39m  \u001b[90m┊\u001b[39m GC \u001b[90m(\u001b[39mmean ± σ\u001b[90m):  \u001b[39m0.00% ± 0.00%\n",
       "\n",
       "  \u001b[39m \u001b[39m▂\u001b[39m▄\u001b[39m▅\u001b[39m▅\u001b[39m▆\u001b[39m▆\u001b[39m▇\u001b[39m█\u001b[34m█\u001b[39m\u001b[39m▇\u001b[39m▆\u001b[39m▅\u001b[32m▄\u001b[39m\u001b[39m▂\u001b[39m▂\u001b[39m▁\u001b[39m▂\u001b[39m▂\u001b[39m▂\u001b[39m▂\u001b[39m▁\u001b[39m▂\u001b[39m▁\u001b[39m▁\u001b[39m▁\u001b[39m▁\u001b[39m▁\u001b[39m▁\u001b[39m▁\u001b[39m▁\u001b[39m▁\u001b[39m \u001b[39m▁\u001b[39m \u001b[39m▁\u001b[39m▁\u001b[39m \u001b[39m \u001b[39m \u001b[39m \u001b[39m \u001b[39m \u001b[39m \u001b[39m \u001b[39m \u001b[39m \u001b[39m \u001b[39m \u001b[39m \u001b[39m \u001b[39m \u001b[39m \u001b[39m \u001b[39m \u001b[39m \u001b[39m \u001b[39m \u001b[39m \u001b[39m▃\n",
       "  \u001b[39m█\u001b[39m█\u001b[39m█\u001b[39m█\u001b[39m█\u001b[39m█\u001b[39m█\u001b[39m█\u001b[39m█\u001b[34m█\u001b[39m\u001b[39m█\u001b[39m█\u001b[39m█\u001b[32m█\u001b[39m\u001b[39m█\u001b[39m█\u001b[39m█\u001b[39m█\u001b[39m█\u001b[39m█\u001b[39m█\u001b[39m█\u001b[39m█\u001b[39m█\u001b[39m█\u001b[39m█\u001b[39m█\u001b[39m█\u001b[39m█\u001b[39m█\u001b[39m█\u001b[39m█\u001b[39m█\u001b[39m█\u001b[39m█\u001b[39m█\u001b[39m█\u001b[39m█\u001b[39m█\u001b[39m█\u001b[39m▇\u001b[39m█\u001b[39m▇\u001b[39m█\u001b[39m█\u001b[39m█\u001b[39m▇\u001b[39m▇\u001b[39m▆\u001b[39m█\u001b[39m▇\u001b[39m▇\u001b[39m▇\u001b[39m▆\u001b[39m█\u001b[39m▇\u001b[39m▇\u001b[39m▆\u001b[39m \u001b[39m█\n",
       "  5.86 μs\u001b[90m      \u001b[39m\u001b[90mHistogram: \u001b[39m\u001b[90m\u001b[1mlog(\u001b[22m\u001b[39m\u001b[90mfrequency\u001b[39m\u001b[90m\u001b[1m)\u001b[22m\u001b[39m\u001b[90m by time\u001b[39m     20.8 μs \u001b[0m\u001b[1m<\u001b[22m\n",
       "\n",
       " Memory estimate\u001b[90m: \u001b[39m\u001b[33m7.89 KiB\u001b[39m, allocs estimate\u001b[90m: \u001b[39m\u001b[33m110\u001b[39m."
      ]
     },
     "execution_count": 14,
     "metadata": {},
     "output_type": "execute_result"
    }
   ],
   "source": [
    "@benchmark x = compparser(compdata)"
   ]
  },
  {
   "cell_type": "code",
   "execution_count": null,
   "metadata": {},
   "outputs": [],
   "source": []
  }
 ],
 "metadata": {
  "kernelspec": {
   "display_name": "Julia 1.7.2",
   "language": "julia",
   "name": "julia-1.7"
  },
  "language_info": {
   "file_extension": ".jl",
   "mimetype": "application/julia",
   "name": "julia",
   "version": "1.7.2"
  }
 },
 "nbformat": 4,
 "nbformat_minor": 4
}
