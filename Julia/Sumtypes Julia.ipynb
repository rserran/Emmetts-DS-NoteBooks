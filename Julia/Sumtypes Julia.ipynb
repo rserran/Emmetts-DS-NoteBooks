{
 "cells": [
  {
   "cell_type": "markdown",
   "metadata": {},
   "source": [
    "# SumTypes.jl\n",
    "The Julia programming language has a lot of really cool modules inside of its package ecosystem that can dramatically alter the language's syntax. This is primarily due to macros, but in some case introspection can also lead to some pretty amazing results. \\\n",
    "One example of such a package is SumTypes.jl, a Julian implementation of sum types. This module is able to manipulate the syntax of the Julia language to provide sum types, also called discriminated or disjoint unions. \\\n",
    "# what are sumtypes?\n",
    "Sum types are a type system where types are labeled with the types that they come from. In that sense, the name sumtypes makes a lot of sense. The types are summed up one in a row. Imagine a planet with a bunch of moons, where all of the moons share a relationship of being a moon of that planet. Furthering down the scope, the moons have revolving debri, that is considered revolving around the moon. This is the idea of"
   ]
  },
  {
   "cell_type": "code",
   "execution_count": 1,
   "metadata": {},
   "outputs": [],
   "source": [
    "using SumTypes"
   ]
  },
  {
   "cell_type": "code",
   "execution_count": 2,
   "metadata": {},
   "outputs": [],
   "source": [
    "@sum_type Vegetable{A, B} begin\n",
    "    Cucumber{A}(::A)\n",
    "    Pepper{B}(::B)\n",
    "    Onion{B}(::B)\n",
    "end"
   ]
  },
  {
   "cell_type": "code",
   "execution_count": 4,
   "metadata": {},
   "outputs": [
    {
     "data": {
      "text/plain": [
       "Vegetable{Symbol, Uninit}(Cucumber{Symbol}(:green))"
      ]
     },
     "execution_count": 4,
     "metadata": {},
     "output_type": "execute_result"
    }
   ],
   "source": [
    "inmy_salad = Cucumber(:green)"
   ]
  },
  {
   "cell_type": "code",
   "execution_count": 5,
   "metadata": {},
   "outputs": [
    {
     "data": {
      "text/plain": [
       "\"cucmber\""
      ]
     },
     "execution_count": 5,
     "metadata": {},
     "output_type": "execute_result"
    }
   ],
   "source": [
    "@cases inmy_salad begin\n",
    "           Cucumber() => \"cucmber\"\n",
    "           Pepper() => \"pepper\"\n",
    "        Onion() => \"Onion\"\n",
    "       end"
   ]
  },
  {
   "cell_type": "code",
   "execution_count": null,
   "metadata": {},
   "outputs": [],
   "source": []
  }
 ],
 "metadata": {
  "kernelspec": {
   "display_name": "Julia 1.7.2",
   "language": "julia",
   "name": "julia-1.7"
  },
  "language_info": {
   "file_extension": ".jl",
   "mimetype": "application/julia",
   "name": "julia",
   "version": "1.7.2"
  }
 },
 "nbformat": 4,
 "nbformat_minor": 4
}
