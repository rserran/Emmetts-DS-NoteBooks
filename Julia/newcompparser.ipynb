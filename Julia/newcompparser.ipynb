{
 "cells": [
  {
   "cell_type": "code",
   "execution_count": 3,
   "metadata": {},
   "outputs": [],
   "source": [
    "using Toolips"
   ]
  },
  {
   "cell_type": "code",
   "execution_count": 4,
   "metadata": {},
   "outputs": [
    {
     "data": {
      "text/plain": [
       "3-element Vector{Servable}:\n",
       " Component(\"Hello\", Toolips.var\"#f#1\"{String, String, Dict{Any, Any}, Vector{Servable}}(\"Hello\", \"h1\", Dict{Any, Any}(:children => Servable[], :text => \"world\", :align => \"center\"), Servable[]), Dict{Any, Any}(:children => Servable[], :text => \"world\", :align => \"center\"), Servable[], \"h1\")\n",
       " Component(\"hello\", Toolips.var\"#f#1\"{String, String, Dict{Any, Any}, Vector{Servable}}(\"hello\", \"div\", Dict{Any, Any}(:children => Servable[]), Servable[]), Dict{Any, Any}(:children => Servable[]), Servable[], \"div\")\n",
       " Component(\"\", Toolips.var\"#f#1\"{String, String, Dict{Any, Any}, Vector{Servable}}(\"\", \"div\", Dict{Any, Any}(:children => Servable[]), Servable[]), Dict{Any, Any}(:children => Servable[]), Servable[], \"div\")"
      ]
     },
     "execution_count": 4,
     "metadata": {},
     "output_type": "execute_result"
    }
   ],
   "source": [
    "comps = components(h(\"Hello\", 1, text = \"world\", align = \"center\"), divider(\"hello\"), divider())"
   ]
  },
  {
   "cell_type": "code",
   "execution_count": 5,
   "metadata": {},
   "outputs": [],
   "source": [
    "sc = Toolips.SpoofConnection()\n",
    "write!(sc, comps)"
   ]
  },
  {
   "cell_type": "code",
   "execution_count": 109,
   "metadata": {},
   "outputs": [
    {
     "data": {
      "text/plain": [
       "\"<h1 id=Hello  align=center>world</h1><div id=hello ></div><div id=hello ></div><div></div>\""
      ]
     },
     "execution_count": 109,
     "metadata": {},
     "output_type": "execute_result"
    }
   ],
   "source": [
    "compdata = \"<h1 id=Hello  align=center>world</h1><div id=hello ></div><div id=hello ></div><div></div>"
   ]
  },
  {
   "cell_type": "code",
   "execution_count": 155,
   "metadata": {},
   "outputs": [
    {
     "data": {
      "text/plain": [
       "compparser (generic function with 1 method)"
      ]
     },
     "execution_count": 155,
     "metadata": {},
     "output_type": "execute_result"
    }
   ],
   "source": [
    "function compparser(s::String)\n",
    "    tagpos::Vector{UnitRange{Int64}} = [f[1]:e[1] for (f, e) in zip(findall(\"<\", s), findall(\">\", s))]\n",
    "    comps = Vector{Servable}()\n",
    "    for tag::UnitRange in tagpos\n",
    "       if contains(s[tag], \"/\") || ~(contains(s[tag], \" id=\"))\n",
    "            continue\n",
    "        end\n",
    "        tagr::UnitRange = findnext(\" \", s, tag[1])\n",
    "        nametag::String = s[minimum(tagr):maximum(tagr)]\n",
    "        textr::UnitRange = maximum(tag) + 1:findnext(\"<\", s, maximum(tag))[1] - 1\n",
    "        tagtext::String = s[textr]\n",
    "        propvec = split(s[maximum(tagr) + 1:maximum(tag) - 1], \" \")\n",
    "        properties = Dict()\n",
    "        for segment in propvec\n",
    "            ppair = split(segment, \"=\")\n",
    "            if length(ppair) != 2\n",
    "                continue\n",
    "            end\n",
    "            push!(properties, string(ppair[1]) => string(ppair[2]))\n",
    "        end\n",
    "        name::String = properties[\"id\"]\n",
    "        delete!(properties, \"id\")\n",
    "        properties[\"text\"] = tagtext\n",
    "        push!(comps, Component(name, string(name), properties))\n",
    "    end\n",
    "    return(comps)::Vector{Servable}\n",
    "end"
   ]
  },
  {
   "cell_type": "code",
   "execution_count": 156,
   "metadata": {},
   "outputs": [
    {
     "data": {
      "text/plain": [
       "\">world</h1><div i\""
      ]
     },
     "execution_count": 156,
     "metadata": {},
     "output_type": "execute_result"
    }
   ],
   "source": [
    "compdata[27:43]"
   ]
  },
  {
   "cell_type": "code",
   "execution_count": 157,
   "metadata": {},
   "outputs": [
    {
     "data": {
      "text/plain": [
       "3-element Vector{Servable}:\n",
       " Component(\"Hello\", Toolips.var\"#f#1\"{String, String, Dict{Any, Any}, Vector{Servable}}(\"Hello\", \"Hello\", Dict{Any, Any}(:children => Servable[], \"text\" => \"world\", \"align\" => \"center\"), Servable[]), Dict{Any, Any}(:children => Servable[], \"text\" => \"world\", \"align\" => \"center\"), Servable[], \"Hello\")\n",
       " Component(\"hello\", Toolips.var\"#f#1\"{String, String, Dict{Any, Any}, Vector{Servable}}(\"hello\", \"hello\", Dict{Any, Any}(:children => Servable[], \"text\" => \"\"), Servable[]), Dict{Any, Any}(:children => Servable[], \"text\" => \"\"), Servable[], \"hello\")\n",
       " Component(\"hello\", Toolips.var\"#f#1\"{String, String, Dict{Any, Any}, Vector{Servable}}(\"hello\", \"hello\", Dict{Any, Any}(:children => Servable[], \"text\" => \"\"), Servable[]), Dict{Any, Any}(:children => Servable[], \"text\" => \"\"), Servable[], \"hello\")"
      ]
     },
     "execution_count": 157,
     "metadata": {},
     "output_type": "execute_result"
    }
   ],
   "source": [
    "x = compparser(compdata)"
   ]
  },
  {
   "cell_type": "code",
   "execution_count": 144,
   "metadata": {},
   "outputs": [
    {
     "data": {
      "text/plain": [
       "Dict{Any, Any} with 3 entries:\n",
       "  :children => Servable[]\n",
       "  \"text\"    => \"world\"\n",
       "  \"align\"   => \"center\""
      ]
     },
     "execution_count": 144,
     "metadata": {},
     "output_type": "execute_result"
    }
   ],
   "source": [
    "x[1].properties"
   ]
  },
  {
   "cell_type": "code",
   "execution_count": 129,
   "metadata": {},
   "outputs": [
    {
     "data": {
      "text/plain": [
       "Component(\"hello\", Toolips.var\"#f#1\"{String, String, Dict{Any, Any}, Vector{Servable}}(\"hello\", \"hello\", Dict{Any, Any}(:children => Servable[], \"text\" => \"\"), Servable[]), Dict{Any, Any}(:children => Servable[], \"text\" => \"\"), Servable[], \"hello\")"
      ]
     },
     "execution_count": 129,
     "metadata": {},
     "output_type": "execute_result"
    }
   ],
   "source": [
    "x[2]"
   ]
  },
  {
   "cell_type": "code",
   "execution_count": 130,
   "metadata": {},
   "outputs": [
    {
     "data": {
      "text/plain": [
       "\"hello\""
      ]
     },
     "execution_count": 130,
     "metadata": {},
     "output_type": "execute_result"
    }
   ],
   "source": [
    "x[3].name"
   ]
  },
  {
   "cell_type": "code",
   "execution_count": null,
   "metadata": {},
   "outputs": [],
   "source": []
  }
 ],
 "metadata": {
  "kernelspec": {
   "display_name": "Julia 1.7.2",
   "language": "julia",
   "name": "julia-1.7"
  },
  "language_info": {
   "file_extension": ".jl",
   "mimetype": "application/julia",
   "name": "julia",
   "version": "1.7.2"
  }
 },
 "nbformat": 4,
 "nbformat_minor": 4
}
