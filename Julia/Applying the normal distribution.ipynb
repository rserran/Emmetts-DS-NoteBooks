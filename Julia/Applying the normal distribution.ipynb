{
 "cells": [
  {
   "cell_type": "code",
   "execution_count": 5,
   "id": "8787139d",
   "metadata": {},
   "outputs": [
    {
     "data": {
      "text/plain": [
       "mean (generic function with 2 methods)"
      ]
     },
     "execution_count": 5,
     "metadata": {},
     "output_type": "execute_result"
    }
   ],
   "source": [
    "mean(x::Vector{<:Number}) = sum(x) / length(x)"
   ]
  },
  {
   "cell_type": "code",
   "execution_count": 6,
   "id": "41c5403b",
   "metadata": {},
   "outputs": [
    {
     "data": {
      "text/plain": [
       "std (generic function with 2 methods)"
      ]
     },
     "execution_count": 6,
     "metadata": {},
     "output_type": "execute_result"
    }
   ],
   "source": [
    "function std(array3::Vector{<:Number})\n",
    "    m = mean(array3)\n",
    "    [i = (i-m) ^ 2 for i in array3]\n",
    "    m = mean(array3)\n",
    "    try\n",
    "        m = sqrt(m)\n",
    "    catch\n",
    "        m = sqrt(Complex(m))\n",
    "    end\n",
    "    return(m)\n",
    "end"
   ]
  },
  {
   "cell_type": "code",
   "execution_count": 4,
   "id": "e2dfeedc",
   "metadata": {},
   "outputs": [
    {
     "data": {
      "text/plain": [
       "2.7386127875258306"
      ]
     },
     "execution_count": 4,
     "metadata": {},
     "output_type": "execute_result"
    }
   ],
   "source": [
    "std([5, 10])"
   ]
  },
  {
   "cell_type": "code",
   "execution_count": 8,
   "id": "a76fb204",
   "metadata": {},
   "outputs": [
    {
     "data": {
      "text/plain": [
       "norm (generic function with 1 method)"
      ]
     },
     "execution_count": 8,
     "metadata": {},
     "output_type": "execute_result"
    }
   ],
   "source": [
    "function norm(x::Vector{<:Number})\n",
    "    mu::Number = mean(x)\n",
    "    sigma::Number = std(x)\n",
    "    [(xbar - mu) / sigma for xbar in x]::Vector{<:Number}\n",
    "end"
   ]
  },
  {
   "cell_type": "code",
   "execution_count": 10,
   "id": "204aeabc",
   "metadata": {},
   "outputs": [
    {
     "data": {
      "text/plain": [
       "10.0"
      ]
     },
     "execution_count": 10,
     "metadata": {},
     "output_type": "execute_result"
    }
   ],
   "source": [
    "mu = mean([5, 10, 15])"
   ]
  },
  {
   "cell_type": "code",
   "execution_count": 11,
   "id": "bc281d02",
   "metadata": {},
   "outputs": [
    {
     "data": {
      "text/plain": [
       "3.1622776601683795"
      ]
     },
     "execution_count": 11,
     "metadata": {},
     "output_type": "execute_result"
    }
   ],
   "source": [
    "sigma = std([5, 10, 15])"
   ]
  },
  {
   "cell_type": "code",
   "execution_count": 16,
   "id": "7fc85153",
   "metadata": {},
   "outputs": [
    {
     "data": {
      "text/plain": [
       "3.162277660168379"
      ]
     },
     "execution_count": 16,
     "metadata": {},
     "output_type": "execute_result"
    }
   ],
   "source": [
    "(20 - mu) / sigma"
   ]
  },
  {
   "cell_type": "code",
   "execution_count": 13,
   "id": "4b77db7c",
   "metadata": {},
   "outputs": [
    {
     "data": {
      "text/plain": [
       "3.1622776601683795"
      ]
     },
     "execution_count": 13,
     "metadata": {},
     "output_type": "execute_result"
    }
   ],
   "source": [
    "std([5, 10, 15])"
   ]
  },
  {
   "cell_type": "code",
   "execution_count": 17,
   "id": "63d78cb5",
   "metadata": {},
   "outputs": [
    {
     "data": {
      "text/plain": [
       "6-element Vector{Int64}:\n",
       "  5\n",
       " 10\n",
       " 15\n",
       " 20\n",
       " 25\n",
       " 30"
      ]
     },
     "execution_count": 17,
     "metadata": {},
     "output_type": "execute_result"
    }
   ],
   "source": [
    "pop = [5, 10, 15, 20, 25, 30]"
   ]
  },
  {
   "cell_type": "code",
   "execution_count": 18,
   "id": "d9742c37",
   "metadata": {},
   "outputs": [
    {
     "data": {
      "text/plain": [
       "4.183300132670378"
      ]
     },
     "execution_count": 18,
     "metadata": {},
     "output_type": "execute_result"
    }
   ],
   "source": [
    "mu = mean(pop)\n",
    "sigma = std(pop)"
   ]
  },
  {
   "cell_type": "code",
   "execution_count": 21,
   "id": "4bf478f7",
   "metadata": {},
   "outputs": [
    {
     "data": {
      "text/plain": [
       "20.0"
      ]
     },
     "execution_count": 21,
     "metadata": {},
     "output_type": "execute_result"
    }
   ],
   "source": [
    "xbar = mean(pop[3:5])"
   ]
  },
  {
   "cell_type": "code",
   "execution_count": 22,
   "id": "2a9ece02",
   "metadata": {},
   "outputs": [
    {
     "data": {
      "text/plain": [
       "0.5976143046671968"
      ]
     },
     "execution_count": 22,
     "metadata": {},
     "output_type": "execute_result"
    }
   ],
   "source": [
    "(xbar - mu) / sigma"
   ]
  },
  {
   "cell_type": "code",
   "execution_count": 23,
   "id": "59d9d62e",
   "metadata": {},
   "outputs": [
    {
     "data": {
      "text/plain": [
       "37.666666666666664"
      ]
     },
     "execution_count": 23,
     "metadata": {},
     "output_type": "execute_result"
    }
   ],
   "source": [
    "xbar = mean([50, 25, 38])"
   ]
  },
  {
   "cell_type": "code",
   "execution_count": 24,
   "id": "ea309512",
   "metadata": {},
   "outputs": [
    {
     "data": {
      "text/plain": [
       "4.820755390982054"
      ]
     },
     "execution_count": 24,
     "metadata": {},
     "output_type": "execute_result"
    }
   ],
   "source": [
    "(xbar - mu) / sigma"
   ]
  },
  {
   "cell_type": "code",
   "execution_count": 32,
   "id": "6553a956",
   "metadata": {},
   "outputs": [
    {
     "data": {
      "text/plain": [
       "drop_outls (generic function with 1 method)"
      ]
     },
     "execution_count": 32,
     "metadata": {},
     "output_type": "execute_result"
    }
   ],
   "source": [
    "function drop_outls(vec::Vector{<:Number})\n",
    "    normed = norm(vec)\n",
    "    mask = [~(x <= -2 || x >= 2) for x in normed]\n",
    "    normed[mask]\n",
    "end"
   ]
  },
  {
   "cell_type": "code",
   "execution_count": 34,
   "id": "22cdc22d",
   "metadata": {},
   "outputs": [
    {
     "data": {
      "text/plain": [
       "2-element Vector{Float64}:\n",
       " -1.0112997936948631\n",
       "  0.337099931231621"
      ]
     },
     "execution_count": 34,
     "metadata": {},
     "output_type": "execute_result"
    }
   ],
   "source": [
    "drop_outls([5, 10, 15, 25])"
   ]
  },
  {
   "cell_type": "code",
   "execution_count": 36,
   "id": "a537741c",
   "metadata": {},
   "outputs": [
    {
     "data": {
      "text/plain": [
       "5-element Vector{Float64}:\n",
       " -1.1547005383792517\n",
       " -0.5773502691896258\n",
       "  0.0\n",
       "  0.5773502691896258\n",
       "  1.1547005383792517"
      ]
     },
     "execution_count": 36,
     "metadata": {},
     "output_type": "execute_result"
    }
   ],
   "source": [
    "x = [1, 2, 3, 4, 5]\n",
    "normedx = norm(x)"
   ]
  },
  {
   "cell_type": "code",
   "execution_count": null,
   "id": "03cc5273",
   "metadata": {},
   "outputs": [],
   "source": []
  }
 ],
 "metadata": {
  "kernelspec": {
   "display_name": "Julia 1.9.0",
   "language": "julia",
   "name": "julia-1.9"
  },
  "language_info": {
   "file_extension": ".jl",
   "mimetype": "application/julia",
   "name": "julia",
   "version": "1.9.0"
  }
 },
 "nbformat": 4,
 "nbformat_minor": 5
}
