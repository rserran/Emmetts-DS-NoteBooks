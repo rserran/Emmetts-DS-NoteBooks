{
 "cells": [
  {
   "cell_type": "markdown",
   "metadata": {},
   "source": [
    "# Indexing In Julia"
   ]
  },
  {
   "cell_type": "code",
   "execution_count": 1,
   "metadata": {},
   "outputs": [
    {
     "data": {
      "text/plain": [
       "5-element Vector{Int64}:\n",
       " 1\n",
       " 2\n",
       " 3\n",
       " 4\n",
       " 5"
      ]
     },
     "execution_count": 1,
     "metadata": {},
     "output_type": "execute_result"
    }
   ],
   "source": [
    "array = [1, 2, 3, 4, 5]"
   ]
  },
  {
   "cell_type": "code",
   "execution_count": 2,
   "metadata": {},
   "outputs": [
    {
     "data": {
      "text/plain": [
       "1"
      ]
     },
     "execution_count": 2,
     "metadata": {},
     "output_type": "execute_result"
    }
   ],
   "source": [
    "array[1]"
   ]
  },
  {
   "cell_type": "code",
   "execution_count": 3,
   "metadata": {},
   "outputs": [
    {
     "data": {
      "text/plain": [
       "5-element Vector{Int64}:\n",
       " 1\n",
       " 2\n",
       " 3\n",
       " 4\n",
       " 5"
      ]
     },
     "execution_count": 3,
     "metadata": {},
     "output_type": "execute_result"
    }
   ],
   "source": [
    "array[1:5]"
   ]
  },
  {
   "cell_type": "code",
   "execution_count": 4,
   "metadata": {},
   "outputs": [
    {
     "name": "stdout",
     "output_type": "stream",
     "text": [
      "search: \u001b[0m\u001b[1mg\u001b[22m\u001b[0m\u001b[1me\u001b[22m\u001b[0m\u001b[1mt\u001b[22m\u001b[0m\u001b[1mi\u001b[22m\u001b[0m\u001b[1mn\u001b[22m\u001b[0m\u001b[1md\u001b[22m\u001b[0m\u001b[1me\u001b[22m\u001b[0m\u001b[1mx\u001b[22m\n",
      "\n"
     ]
    },
    {
     "data": {
      "text/latex": [
       "\\begin{verbatim}\n",
       "getindex(type[, elements...])\n",
       "\\end{verbatim}\n",
       "Construct a 1-d array of the specified type. This is usually called with the syntax \\texttt{Type[]}. Element values can be specified using \\texttt{Type[a,b,c,...]}.\n",
       "\n",
       "\\section{Examples}\n",
       "\\begin{verbatim}\n",
       "julia> Int8[1, 2, 3]\n",
       "3-element Vector{Int8}:\n",
       " 1\n",
       " 2\n",
       " 3\n",
       "\n",
       "julia> getindex(Int8, 1, 2, 3)\n",
       "3-element Vector{Int8}:\n",
       " 1\n",
       " 2\n",
       " 3\n",
       "\\end{verbatim}\n",
       "\\rule{\\textwidth}{1pt}\n",
       "\\begin{verbatim}\n",
       "getindex(collection, key...)\n",
       "\\end{verbatim}\n",
       "Retrieve the value(s) stored at the given key or index within a collection. The syntax \\texttt{a[i,j,...]} is converted by the compiler to \\texttt{getindex(a, i, j, ...)}.\n",
       "\n",
       "See also \\href{@ref}{\\texttt{get}}, \\href{@ref}{\\texttt{keys}}, \\href{@ref}{\\texttt{eachindex}}.\n",
       "\n",
       "\\section{Examples}\n",
       "\\begin{verbatim}\n",
       "julia> A = Dict(\"a\" => 1, \"b\" => 2)\n",
       "Dict{String, Int64} with 2 entries:\n",
       "  \"b\" => 2\n",
       "  \"a\" => 1\n",
       "\n",
       "julia> getindex(A, \"a\")\n",
       "1\n",
       "\\end{verbatim}\n",
       "\\rule{\\textwidth}{1pt}\n",
       "\\begin{verbatim}\n",
       "getindex(A, inds...)\n",
       "\\end{verbatim}\n",
       "Return a subset of array \\texttt{A} as specified by \\texttt{inds}, where each \\texttt{ind} may be, for example, an \\texttt{Int}, an \\href{@ref}{\\texttt{AbstractRange}}, or a \\href{@ref}{\\texttt{Vector}}. See the manual section on \\href{@ref man-array-indexing}{array indexing} for details.\n",
       "\n",
       "\\section{Examples}\n",
       "\\begin{verbatim}\n",
       "julia> A = [1 2; 3 4]\n",
       "2×2 Matrix{Int64}:\n",
       " 1  2\n",
       " 3  4\n",
       "\n",
       "julia> getindex(A, 1)\n",
       "1\n",
       "\n",
       "julia> getindex(A, [2, 1])\n",
       "2-element Vector{Int64}:\n",
       " 3\n",
       " 1\n",
       "\n",
       "julia> getindex(A, 2:4)\n",
       "3-element Vector{Int64}:\n",
       " 3\n",
       " 2\n",
       " 4\n",
       "\\end{verbatim}\n",
       "\\rule{\\textwidth}{1pt}\n",
       "\\begin{verbatim}\n",
       "getindex(tree::GitTree, target::AbstractString) -> GitObject\n",
       "\\end{verbatim}\n",
       "Look up \\texttt{target} path in the \\texttt{tree}, returning a \\href{@ref}{\\texttt{GitObject}} (a \\href{@ref}{\\texttt{GitBlob}} in the case of a file, or another \\href{@ref}{\\texttt{GitTree}} if looking up a directory).\n",
       "\n",
       "\\section{Examples}\n",
       "\\begin{verbatim}\n",
       "tree = LibGit2.GitTree(repo, \"HEAD^{tree}\")\n",
       "readme = tree[\"README.md\"]\n",
       "subtree = tree[\"test\"]\n",
       "runtests = subtree[\"runtests.jl\"]\n",
       "\\end{verbatim}\n"
      ],
      "text/markdown": [
       "```\n",
       "getindex(type[, elements...])\n",
       "```\n",
       "\n",
       "Construct a 1-d array of the specified type. This is usually called with the syntax `Type[]`. Element values can be specified using `Type[a,b,c,...]`.\n",
       "\n",
       "# Examples\n",
       "\n",
       "```jldoctest\n",
       "julia> Int8[1, 2, 3]\n",
       "3-element Vector{Int8}:\n",
       " 1\n",
       " 2\n",
       " 3\n",
       "\n",
       "julia> getindex(Int8, 1, 2, 3)\n",
       "3-element Vector{Int8}:\n",
       " 1\n",
       " 2\n",
       " 3\n",
       "```\n",
       "\n",
       "---\n",
       "\n",
       "```\n",
       "getindex(collection, key...)\n",
       "```\n",
       "\n",
       "Retrieve the value(s) stored at the given key or index within a collection. The syntax `a[i,j,...]` is converted by the compiler to `getindex(a, i, j, ...)`.\n",
       "\n",
       "See also [`get`](@ref), [`keys`](@ref), [`eachindex`](@ref).\n",
       "\n",
       "# Examples\n",
       "\n",
       "```jldoctest\n",
       "julia> A = Dict(\"a\" => 1, \"b\" => 2)\n",
       "Dict{String, Int64} with 2 entries:\n",
       "  \"b\" => 2\n",
       "  \"a\" => 1\n",
       "\n",
       "julia> getindex(A, \"a\")\n",
       "1\n",
       "```\n",
       "\n",
       "---\n",
       "\n",
       "```\n",
       "getindex(A, inds...)\n",
       "```\n",
       "\n",
       "Return a subset of array `A` as specified by `inds`, where each `ind` may be, for example, an `Int`, an [`AbstractRange`](@ref), or a [`Vector`](@ref). See the manual section on [array indexing](@ref man-array-indexing) for details.\n",
       "\n",
       "# Examples\n",
       "\n",
       "```jldoctest\n",
       "julia> A = [1 2; 3 4]\n",
       "2×2 Matrix{Int64}:\n",
       " 1  2\n",
       " 3  4\n",
       "\n",
       "julia> getindex(A, 1)\n",
       "1\n",
       "\n",
       "julia> getindex(A, [2, 1])\n",
       "2-element Vector{Int64}:\n",
       " 3\n",
       " 1\n",
       "\n",
       "julia> getindex(A, 2:4)\n",
       "3-element Vector{Int64}:\n",
       " 3\n",
       " 2\n",
       " 4\n",
       "```\n",
       "\n",
       "---\n",
       "\n",
       "```\n",
       "getindex(tree::GitTree, target::AbstractString) -> GitObject\n",
       "```\n",
       "\n",
       "Look up `target` path in the `tree`, returning a [`GitObject`](@ref) (a [`GitBlob`](@ref) in the case of a file, or another [`GitTree`](@ref) if looking up a directory).\n",
       "\n",
       "# Examples\n",
       "\n",
       "```julia\n",
       "tree = LibGit2.GitTree(repo, \"HEAD^{tree}\")\n",
       "readme = tree[\"README.md\"]\n",
       "subtree = tree[\"test\"]\n",
       "runtests = subtree[\"runtests.jl\"]\n",
       "```\n"
      ],
      "text/plain": [
       "\u001b[36m  getindex(type[, elements...])\u001b[39m\n",
       "\n",
       "  Construct a 1-d array of the specified type. This is usually called with the\n",
       "  syntax \u001b[36mType[]\u001b[39m. Element values can be specified using \u001b[36mType[a,b,c,...]\u001b[39m.\n",
       "\n",
       "\u001b[1m  Examples\u001b[22m\n",
       "\u001b[1m  ≡≡≡≡≡≡≡≡≡≡\u001b[22m\n",
       "\n",
       "\u001b[36m  julia> Int8[1, 2, 3]\u001b[39m\n",
       "\u001b[36m  3-element Vector{Int8}:\u001b[39m\n",
       "\u001b[36m   1\u001b[39m\n",
       "\u001b[36m   2\u001b[39m\n",
       "\u001b[36m   3\u001b[39m\n",
       "\u001b[36m  \u001b[39m\n",
       "\u001b[36m  julia> getindex(Int8, 1, 2, 3)\u001b[39m\n",
       "\u001b[36m  3-element Vector{Int8}:\u001b[39m\n",
       "\u001b[36m   1\u001b[39m\n",
       "\u001b[36m   2\u001b[39m\n",
       "\u001b[36m   3\u001b[39m\n",
       "\n",
       "  ────────────────────────────────────────────────────────────────────────────\n",
       "\n",
       "\u001b[36m  getindex(collection, key...)\u001b[39m\n",
       "\n",
       "  Retrieve the value(s) stored at the given key or index within a collection.\n",
       "  The syntax \u001b[36ma[i,j,...]\u001b[39m is converted by the compiler to \u001b[36mgetindex(a, i, j,\n",
       "  ...)\u001b[39m.\n",
       "\n",
       "  See also \u001b[36mget\u001b[39m, \u001b[36mkeys\u001b[39m, \u001b[36meachindex\u001b[39m.\n",
       "\n",
       "\u001b[1m  Examples\u001b[22m\n",
       "\u001b[1m  ≡≡≡≡≡≡≡≡≡≡\u001b[22m\n",
       "\n",
       "\u001b[36m  julia> A = Dict(\"a\" => 1, \"b\" => 2)\u001b[39m\n",
       "\u001b[36m  Dict{String, Int64} with 2 entries:\u001b[39m\n",
       "\u001b[36m    \"b\" => 2\u001b[39m\n",
       "\u001b[36m    \"a\" => 1\u001b[39m\n",
       "\u001b[36m  \u001b[39m\n",
       "\u001b[36m  julia> getindex(A, \"a\")\u001b[39m\n",
       "\u001b[36m  1\u001b[39m\n",
       "\n",
       "  ────────────────────────────────────────────────────────────────────────────\n",
       "\n",
       "\u001b[36m  getindex(A, inds...)\u001b[39m\n",
       "\n",
       "  Return a subset of array \u001b[36mA\u001b[39m as specified by \u001b[36minds\u001b[39m, where each \u001b[36mind\u001b[39m may be, for\n",
       "  example, an \u001b[36mInt\u001b[39m, an \u001b[36mAbstractRange\u001b[39m, or a \u001b[36mVector\u001b[39m. See the manual section on\n",
       "  array indexing for details.\n",
       "\n",
       "\u001b[1m  Examples\u001b[22m\n",
       "\u001b[1m  ≡≡≡≡≡≡≡≡≡≡\u001b[22m\n",
       "\n",
       "\u001b[36m  julia> A = [1 2; 3 4]\u001b[39m\n",
       "\u001b[36m  2×2 Matrix{Int64}:\u001b[39m\n",
       "\u001b[36m   1  2\u001b[39m\n",
       "\u001b[36m   3  4\u001b[39m\n",
       "\u001b[36m  \u001b[39m\n",
       "\u001b[36m  julia> getindex(A, 1)\u001b[39m\n",
       "\u001b[36m  1\u001b[39m\n",
       "\u001b[36m  \u001b[39m\n",
       "\u001b[36m  julia> getindex(A, [2, 1])\u001b[39m\n",
       "\u001b[36m  2-element Vector{Int64}:\u001b[39m\n",
       "\u001b[36m   3\u001b[39m\n",
       "\u001b[36m   1\u001b[39m\n",
       "\u001b[36m  \u001b[39m\n",
       "\u001b[36m  julia> getindex(A, 2:4)\u001b[39m\n",
       "\u001b[36m  3-element Vector{Int64}:\u001b[39m\n",
       "\u001b[36m   3\u001b[39m\n",
       "\u001b[36m   2\u001b[39m\n",
       "\u001b[36m   4\u001b[39m\n",
       "\n",
       "  ────────────────────────────────────────────────────────────────────────────\n",
       "\n",
       "\u001b[36m  getindex(tree::GitTree, target::AbstractString) -> GitObject\u001b[39m\n",
       "\n",
       "  Look up \u001b[36mtarget\u001b[39m path in the \u001b[36mtree\u001b[39m, returning a \u001b[36mGitObject\u001b[39m (a \u001b[36mGitBlob\u001b[39m in the\n",
       "  case of a file, or another \u001b[36mGitTree\u001b[39m if looking up a directory).\n",
       "\n",
       "\u001b[1m  Examples\u001b[22m\n",
       "\u001b[1m  ≡≡≡≡≡≡≡≡≡≡\u001b[22m\n",
       "\n",
       "\u001b[36m  tree = LibGit2.GitTree(repo, \"HEAD^{tree}\")\u001b[39m\n",
       "\u001b[36m  readme = tree[\"README.md\"]\u001b[39m\n",
       "\u001b[36m  subtree = tree[\"test\"]\u001b[39m\n",
       "\u001b[36m  runtests = subtree[\"runtests.jl\"]\u001b[39m"
      ]
     },
     "execution_count": 4,
     "metadata": {},
     "output_type": "execute_result"
    }
   ],
   "source": [
    "?(getindex)"
   ]
  },
  {
   "cell_type": "code",
   "execution_count": 5,
   "metadata": {},
   "outputs": [],
   "source": [
    "import Base: getindex, setindex!"
   ]
  },
  {
   "cell_type": "code",
   "execution_count": 6,
   "metadata": {},
   "outputs": [],
   "source": [
    "mutable struct NotACollection\n",
    "    x::Int64\n",
    "end"
   ]
  },
  {
   "cell_type": "code",
   "execution_count": 7,
   "metadata": {},
   "outputs": [
    {
     "data": {
      "text/plain": [
       "getindex (generic function with 220 methods)"
      ]
     },
     "execution_count": 7,
     "metadata": {},
     "output_type": "execute_result"
    }
   ],
   "source": [
    "getindex(notcol::NotACollection, y::Int64) = notcol.x"
   ]
  },
  {
   "cell_type": "code",
   "execution_count": 8,
   "metadata": {},
   "outputs": [
    {
     "data": {
      "text/plain": [
       "NotACollection(5)"
      ]
     },
     "execution_count": 8,
     "metadata": {},
     "output_type": "execute_result"
    }
   ],
   "source": [
    "notacol = NotACollection(5)"
   ]
  },
  {
   "cell_type": "code",
   "execution_count": 9,
   "metadata": {},
   "outputs": [
    {
     "data": {
      "text/plain": [
       "5"
      ]
     },
     "execution_count": 9,
     "metadata": {},
     "output_type": "execute_result"
    }
   ],
   "source": [
    "notacol[1]"
   ]
  },
  {
   "cell_type": "code",
   "execution_count": 10,
   "metadata": {},
   "outputs": [
    {
     "data": {
      "text/plain": [
       "setindex! (generic function with 90 methods)"
      ]
     },
     "execution_count": 10,
     "metadata": {},
     "output_type": "execute_result"
    }
   ],
   "source": [
    "setindex!(notcol::NotACollection, y::Int64, val::Int64) = notcol.x = y"
   ]
  },
  {
   "cell_type": "code",
   "execution_count": 11,
   "metadata": {},
   "outputs": [
    {
     "data": {
      "text/plain": [
       "10"
      ]
     },
     "execution_count": 11,
     "metadata": {},
     "output_type": "execute_result"
    }
   ],
   "source": [
    "notacol[1] = 10"
   ]
  },
  {
   "cell_type": "code",
   "execution_count": 12,
   "metadata": {},
   "outputs": [
    {
     "name": "stdout",
     "output_type": "stream",
     "text": [
      "10\n"
     ]
    }
   ],
   "source": [
    "println(notacol[1])"
   ]
  },
  {
   "cell_type": "markdown",
   "metadata": {},
   "source": [
    "# Useful Methods"
   ]
  },
  {
   "cell_type": "code",
   "execution_count": 13,
   "metadata": {},
   "outputs": [
    {
     "data": {
      "text/plain": [
       "4-element Vector{Int64}:\n",
       " 54\n",
       " 33\n",
       " 22\n",
       " 13"
      ]
     },
     "execution_count": 13,
     "metadata": {},
     "output_type": "execute_result"
    }
   ],
   "source": [
    "nums = [54, 33, 22, 13]"
   ]
  },
  {
   "cell_type": "code",
   "execution_count": 14,
   "metadata": {},
   "outputs": [
    {
     "data": {
      "text/plain": [
       "(4,)"
      ]
     },
     "execution_count": 14,
     "metadata": {},
     "output_type": "execute_result"
    }
   ],
   "source": [
    "size(nums)"
   ]
  },
  {
   "cell_type": "code",
   "execution_count": 15,
   "metadata": {},
   "outputs": [
    {
     "name": "stdout",
     "output_type": "stream",
     "text": [
      "Tuple{Int64}\n"
     ]
    }
   ],
   "source": [
    "println(typeof(size(nums)))"
   ]
  },
  {
   "cell_type": "code",
   "execution_count": 16,
   "metadata": {},
   "outputs": [
    {
     "name": "stdout",
     "output_type": "stream",
     "text": [
      "4\n"
     ]
    }
   ],
   "source": [
    "println(size(nums)[1])"
   ]
  },
  {
   "cell_type": "code",
   "execution_count": 17,
   "metadata": {},
   "outputs": [
    {
     "data": {
      "text/plain": [
       "5-element Vector{Int64}:\n",
       " 54\n",
       " 33\n",
       " 22\n",
       " 13\n",
       "  5"
      ]
     },
     "execution_count": 17,
     "metadata": {},
     "output_type": "execute_result"
    }
   ],
   "source": [
    "push!(nums, 5)"
   ]
  },
  {
   "cell_type": "code",
   "execution_count": 18,
   "metadata": {},
   "outputs": [
    {
     "data": {
      "text/plain": [
       "6-element Vector{Int64}:\n",
       " 54\n",
       " 33\n",
       " 22\n",
       " 13\n",
       "  5\n",
       "  5"
      ]
     },
     "execution_count": 18,
     "metadata": {},
     "output_type": "execute_result"
    }
   ],
   "source": [
    "append!(nums, 5)"
   ]
  },
  {
   "cell_type": "code",
   "execution_count": 19,
   "metadata": {},
   "outputs": [
    {
     "data": {
      "text/plain": [
       "7-element Vector{Any}:\n",
       " 54\n",
       " 33\n",
       " 22\n",
       " 13\n",
       "  5\n",
       "  5\n",
       "  5.5"
      ]
     },
     "execution_count": 19,
     "metadata": {},
     "output_type": "execute_result"
    }
   ],
   "source": [
    "nums = Array{Any}(nums)\n",
    "append!(nums, 5.5)"
   ]
  },
  {
   "cell_type": "code",
   "execution_count": 20,
   "metadata": {},
   "outputs": [
    {
     "data": {
      "text/plain": [
       "2-element Vector{Any}:\n",
       " 5\n",
       " 5"
      ]
     },
     "execution_count": 20,
     "metadata": {},
     "output_type": "execute_result"
    }
   ],
   "source": [
    "filter((x) -> x == 5, nums)"
   ]
  },
  {
   "cell_type": "code",
   "execution_count": 21,
   "metadata": {},
   "outputs": [
    {
     "data": {
      "text/plain": [
       "5:10"
      ]
     },
     "execution_count": 21,
     "metadata": {},
     "output_type": "execute_result"
    }
   ],
   "source": [
    "r = 5:10"
   ]
  },
  {
   "cell_type": "code",
   "execution_count": 22,
   "metadata": {},
   "outputs": [
    {
     "data": {
      "text/plain": [
       "6-element Vector{Int64}:\n",
       "  5\n",
       "  6\n",
       "  7\n",
       "  8\n",
       "  9\n",
       " 10"
      ]
     },
     "execution_count": 22,
     "metadata": {},
     "output_type": "execute_result"
    }
   ],
   "source": [
    "collect(r)"
   ]
  },
  {
   "cell_type": "code",
   "execution_count": 23,
   "metadata": {},
   "outputs": [
    {
     "name": "stdout",
     "output_type": "stream",
     "text": [
      "search: \u001b[0m\u001b[1mf\u001b[22m\u001b[0m\u001b[1mi\u001b[22m\u001b[0m\u001b[1mn\u001b[22m\u001b[0m\u001b[1md\u001b[22m\u001b[0m\u001b[1ma\u001b[22m\u001b[0m\u001b[1ml\u001b[22m\u001b[0m\u001b[1ml\u001b[22m \u001b[0m\u001b[1mf\u001b[22m\u001b[0m\u001b[1mi\u001b[22m\u001b[0m\u001b[1mn\u001b[22m\u001b[0m\u001b[1md\u001b[22mm\u001b[0m\u001b[1ma\u001b[22mx! \u001b[0m\u001b[1mf\u001b[22m\u001b[0m\u001b[1mi\u001b[22m\u001b[0m\u001b[1mn\u001b[22m\u001b[0m\u001b[1md\u001b[22mm\u001b[0m\u001b[1ma\u001b[22mx \u001b[0m\u001b[1mf\u001b[22m\u001b[0m\u001b[1mi\u001b[22m\u001b[0m\u001b[1mn\u001b[22m\u001b[0m\u001b[1md\u001b[22ml\u001b[0m\u001b[1ma\u001b[22mst\n",
      "\n"
     ]
    },
    {
     "data": {
      "text/latex": [
       "\\begin{verbatim}\n",
       "findall(f::Function, A)\n",
       "\\end{verbatim}\n",
       "Return a vector \\texttt{I} of the indices or keys of \\texttt{A} where \\texttt{f(A[I])} returns \\texttt{true}. If there are no such elements of \\texttt{A}, return an empty array.\n",
       "\n",
       "Indices or keys are of the same type as those returned by \\href{@ref}{\\texttt{keys(A)}} and \\href{@ref}{\\texttt{pairs(A)}}.\n",
       "\n",
       "\\section{Examples}\n",
       "\\begin{verbatim}\n",
       "julia> x = [1, 3, 4]\n",
       "3-element Vector{Int64}:\n",
       " 1\n",
       " 3\n",
       " 4\n",
       "\n",
       "julia> findall(isodd, x)\n",
       "2-element Vector{Int64}:\n",
       " 1\n",
       " 2\n",
       "\n",
       "julia> A = [1 2 0; 3 4 0]\n",
       "2×3 Matrix{Int64}:\n",
       " 1  2  0\n",
       " 3  4  0\n",
       "julia> findall(isodd, A)\n",
       "2-element Vector{CartesianIndex{2}}:\n",
       " CartesianIndex(1, 1)\n",
       " CartesianIndex(2, 1)\n",
       "\n",
       "julia> findall(!iszero, A)\n",
       "4-element Vector{CartesianIndex{2}}:\n",
       " CartesianIndex(1, 1)\n",
       " CartesianIndex(2, 1)\n",
       " CartesianIndex(1, 2)\n",
       " CartesianIndex(2, 2)\n",
       "\n",
       "julia> d = Dict(:A => 10, :B => -1, :C => 0)\n",
       "Dict{Symbol, Int64} with 3 entries:\n",
       "  :A => 10\n",
       "  :B => -1\n",
       "  :C => 0\n",
       "\n",
       "julia> findall(x -> x >= 0, d)\n",
       "2-element Vector{Symbol}:\n",
       " :A\n",
       " :C\n",
       "\n",
       "\\end{verbatim}\n",
       "\\rule{\\textwidth}{1pt}\n",
       "\\begin{verbatim}\n",
       "findall(A)\n",
       "\\end{verbatim}\n",
       "Return a vector \\texttt{I} of the \\texttt{true} indices or keys of \\texttt{A}. If there are no such elements of \\texttt{A}, return an empty array. To search for other kinds of values, pass a predicate as the first argument.\n",
       "\n",
       "Indices or keys are of the same type as those returned by \\href{@ref}{\\texttt{keys(A)}} and \\href{@ref}{\\texttt{pairs(A)}}.\n",
       "\n",
       "See also: \\href{@ref}{\\texttt{findfirst}}, \\href{@ref}{\\texttt{searchsorted}}.\n",
       "\n",
       "\\section{Examples}\n",
       "\\begin{verbatim}\n",
       "julia> A = [true, false, false, true]\n",
       "4-element Vector{Bool}:\n",
       " 1\n",
       " 0\n",
       " 0\n",
       " 1\n",
       "\n",
       "julia> findall(A)\n",
       "2-element Vector{Int64}:\n",
       " 1\n",
       " 4\n",
       "\n",
       "julia> A = [true false; false true]\n",
       "2×2 Matrix{Bool}:\n",
       " 1  0\n",
       " 0  1\n",
       "\n",
       "julia> findall(A)\n",
       "2-element Vector{CartesianIndex{2}}:\n",
       " CartesianIndex(1, 1)\n",
       " CartesianIndex(2, 2)\n",
       "\n",
       "julia> findall(falses(3))\n",
       "Int64[]\n",
       "\\end{verbatim}\n",
       "\\rule{\\textwidth}{1pt}\n",
       "\\begin{verbatim}\n",
       "findall(\n",
       "    pattern::Union{AbstractString,AbstractPattern},\n",
       "    string::AbstractString;\n",
       "    overlap::Bool = false,\n",
       ")\n",
       "\\end{verbatim}\n",
       "Return a \\texttt{Vector\\{UnitRange\\{Int\\}\\}} of all the matches for \\texttt{pattern} in \\texttt{string}. Each element of the returned vector is a range of indices where the matching sequence is found, like the return value of \\href{@ref}{\\texttt{findnext}}.\n",
       "\n",
       "If \\texttt{overlap=true}, the matching sequences are allowed to overlap indices in the original string, otherwise they must be from disjoint character ranges.\n",
       "\n",
       "\\section{Examples}\n",
       "\\begin{verbatim}\n",
       "julia> findall(\"a\", \"apple\")\n",
       "1-element Vector{UnitRange{Int64}}:\n",
       " 1:1\n",
       "\n",
       "julia> findall(\"nana\", \"banana\")\n",
       "1-element Vector{UnitRange{Int64}}:\n",
       " 3:6\n",
       "\n",
       "julia> findall(\"a\", \"banana\")\n",
       "3-element Vector{UnitRange{Int64}}:\n",
       " 2:2\n",
       " 4:4\n",
       " 6:6\n",
       "\\end{verbatim}\n",
       "\\begin{quote}\n",
       "\\textbf{compat}\n",
       "\n",
       "Julia 1.3\n",
       "\n",
       "This method requires at least Julia 1.3.\n",
       "\n",
       "\\end{quote}\n",
       "\\rule{\\textwidth}{1pt}\n",
       "\\begin{verbatim}\n",
       "findall(c::AbstractChar, s::AbstractString)\n",
       "\\end{verbatim}\n",
       "Return a vector \\texttt{I} of the indices of \\texttt{s} where \\texttt{s[i] == c}. If there are no such elements in \\texttt{s}, return an empty array.\n",
       "\n",
       "\\section{Examples}\n",
       "\\begin{verbatim}\n",
       "julia> findall('a', \"batman\")\n",
       "2-element Vector{Int64}:\n",
       " 2\n",
       " 5\n",
       "\\end{verbatim}\n",
       "\\begin{quote}\n",
       "\\textbf{compat}\n",
       "\n",
       "Julia 1.7\n",
       "\n",
       "This method requires at least Julia 1.7.\n",
       "\n",
       "\\end{quote}\n"
      ],
      "text/markdown": [
       "```\n",
       "findall(f::Function, A)\n",
       "```\n",
       "\n",
       "Return a vector `I` of the indices or keys of `A` where `f(A[I])` returns `true`. If there are no such elements of `A`, return an empty array.\n",
       "\n",
       "Indices or keys are of the same type as those returned by [`keys(A)`](@ref) and [`pairs(A)`](@ref).\n",
       "\n",
       "# Examples\n",
       "\n",
       "```jldoctest\n",
       "julia> x = [1, 3, 4]\n",
       "3-element Vector{Int64}:\n",
       " 1\n",
       " 3\n",
       " 4\n",
       "\n",
       "julia> findall(isodd, x)\n",
       "2-element Vector{Int64}:\n",
       " 1\n",
       " 2\n",
       "\n",
       "julia> A = [1 2 0; 3 4 0]\n",
       "2×3 Matrix{Int64}:\n",
       " 1  2  0\n",
       " 3  4  0\n",
       "julia> findall(isodd, A)\n",
       "2-element Vector{CartesianIndex{2}}:\n",
       " CartesianIndex(1, 1)\n",
       " CartesianIndex(2, 1)\n",
       "\n",
       "julia> findall(!iszero, A)\n",
       "4-element Vector{CartesianIndex{2}}:\n",
       " CartesianIndex(1, 1)\n",
       " CartesianIndex(2, 1)\n",
       " CartesianIndex(1, 2)\n",
       " CartesianIndex(2, 2)\n",
       "\n",
       "julia> d = Dict(:A => 10, :B => -1, :C => 0)\n",
       "Dict{Symbol, Int64} with 3 entries:\n",
       "  :A => 10\n",
       "  :B => -1\n",
       "  :C => 0\n",
       "\n",
       "julia> findall(x -> x >= 0, d)\n",
       "2-element Vector{Symbol}:\n",
       " :A\n",
       " :C\n",
       "\n",
       "```\n",
       "\n",
       "---\n",
       "\n",
       "```\n",
       "findall(A)\n",
       "```\n",
       "\n",
       "Return a vector `I` of the `true` indices or keys of `A`. If there are no such elements of `A`, return an empty array. To search for other kinds of values, pass a predicate as the first argument.\n",
       "\n",
       "Indices or keys are of the same type as those returned by [`keys(A)`](@ref) and [`pairs(A)`](@ref).\n",
       "\n",
       "See also: [`findfirst`](@ref), [`searchsorted`](@ref).\n",
       "\n",
       "# Examples\n",
       "\n",
       "```jldoctest\n",
       "julia> A = [true, false, false, true]\n",
       "4-element Vector{Bool}:\n",
       " 1\n",
       " 0\n",
       " 0\n",
       " 1\n",
       "\n",
       "julia> findall(A)\n",
       "2-element Vector{Int64}:\n",
       " 1\n",
       " 4\n",
       "\n",
       "julia> A = [true false; false true]\n",
       "2×2 Matrix{Bool}:\n",
       " 1  0\n",
       " 0  1\n",
       "\n",
       "julia> findall(A)\n",
       "2-element Vector{CartesianIndex{2}}:\n",
       " CartesianIndex(1, 1)\n",
       " CartesianIndex(2, 2)\n",
       "\n",
       "julia> findall(falses(3))\n",
       "Int64[]\n",
       "```\n",
       "\n",
       "---\n",
       "\n",
       "```\n",
       "findall(\n",
       "    pattern::Union{AbstractString,AbstractPattern},\n",
       "    string::AbstractString;\n",
       "    overlap::Bool = false,\n",
       ")\n",
       "```\n",
       "\n",
       "Return a `Vector{UnitRange{Int}}` of all the matches for `pattern` in `string`. Each element of the returned vector is a range of indices where the matching sequence is found, like the return value of [`findnext`](@ref).\n",
       "\n",
       "If `overlap=true`, the matching sequences are allowed to overlap indices in the original string, otherwise they must be from disjoint character ranges.\n",
       "\n",
       "# Examples\n",
       "\n",
       "```jldoctest\n",
       "julia> findall(\"a\", \"apple\")\n",
       "1-element Vector{UnitRange{Int64}}:\n",
       " 1:1\n",
       "\n",
       "julia> findall(\"nana\", \"banana\")\n",
       "1-element Vector{UnitRange{Int64}}:\n",
       " 3:6\n",
       "\n",
       "julia> findall(\"a\", \"banana\")\n",
       "3-element Vector{UnitRange{Int64}}:\n",
       " 2:2\n",
       " 4:4\n",
       " 6:6\n",
       "```\n",
       "\n",
       "!!! compat \"Julia 1.3\"\n",
       "    This method requires at least Julia 1.3.\n",
       "\n",
       "\n",
       "---\n",
       "\n",
       "```\n",
       "findall(c::AbstractChar, s::AbstractString)\n",
       "```\n",
       "\n",
       "Return a vector `I` of the indices of `s` where `s[i] == c`. If there are no such elements in `s`, return an empty array.\n",
       "\n",
       "# Examples\n",
       "\n",
       "```jldoctest\n",
       "julia> findall('a', \"batman\")\n",
       "2-element Vector{Int64}:\n",
       " 2\n",
       " 5\n",
       "```\n",
       "\n",
       "!!! compat \"Julia 1.7\"\n",
       "    This method requires at least Julia 1.7.\n",
       "\n"
      ],
      "text/plain": [
       "\u001b[36m  findall(f::Function, A)\u001b[39m\n",
       "\n",
       "  Return a vector \u001b[36mI\u001b[39m of the indices or keys of \u001b[36mA\u001b[39m where \u001b[36mf(A[I])\u001b[39m returns \u001b[36mtrue\u001b[39m. If\n",
       "  there are no such elements of \u001b[36mA\u001b[39m, return an empty array.\n",
       "\n",
       "  Indices or keys are of the same type as those returned by \u001b[36mkeys(A)\u001b[39m and\n",
       "  \u001b[36mpairs(A)\u001b[39m.\n",
       "\n",
       "\u001b[1m  Examples\u001b[22m\n",
       "\u001b[1m  ≡≡≡≡≡≡≡≡≡≡\u001b[22m\n",
       "\n",
       "\u001b[36m  julia> x = [1, 3, 4]\u001b[39m\n",
       "\u001b[36m  3-element Vector{Int64}:\u001b[39m\n",
       "\u001b[36m   1\u001b[39m\n",
       "\u001b[36m   3\u001b[39m\n",
       "\u001b[36m   4\u001b[39m\n",
       "\u001b[36m  \u001b[39m\n",
       "\u001b[36m  julia> findall(isodd, x)\u001b[39m\n",
       "\u001b[36m  2-element Vector{Int64}:\u001b[39m\n",
       "\u001b[36m   1\u001b[39m\n",
       "\u001b[36m   2\u001b[39m\n",
       "\u001b[36m  \u001b[39m\n",
       "\u001b[36m  julia> A = [1 2 0; 3 4 0]\u001b[39m\n",
       "\u001b[36m  2×3 Matrix{Int64}:\u001b[39m\n",
       "\u001b[36m   1  2  0\u001b[39m\n",
       "\u001b[36m   3  4  0\u001b[39m\n",
       "\u001b[36m  julia> findall(isodd, A)\u001b[39m\n",
       "\u001b[36m  2-element Vector{CartesianIndex{2}}:\u001b[39m\n",
       "\u001b[36m   CartesianIndex(1, 1)\u001b[39m\n",
       "\u001b[36m   CartesianIndex(2, 1)\u001b[39m\n",
       "\u001b[36m  \u001b[39m\n",
       "\u001b[36m  julia> findall(!iszero, A)\u001b[39m\n",
       "\u001b[36m  4-element Vector{CartesianIndex{2}}:\u001b[39m\n",
       "\u001b[36m   CartesianIndex(1, 1)\u001b[39m\n",
       "\u001b[36m   CartesianIndex(2, 1)\u001b[39m\n",
       "\u001b[36m   CartesianIndex(1, 2)\u001b[39m\n",
       "\u001b[36m   CartesianIndex(2, 2)\u001b[39m\n",
       "\u001b[36m  \u001b[39m\n",
       "\u001b[36m  julia> d = Dict(:A => 10, :B => -1, :C => 0)\u001b[39m\n",
       "\u001b[36m  Dict{Symbol, Int64} with 3 entries:\u001b[39m\n",
       "\u001b[36m    :A => 10\u001b[39m\n",
       "\u001b[36m    :B => -1\u001b[39m\n",
       "\u001b[36m    :C => 0\u001b[39m\n",
       "\u001b[36m  \u001b[39m\n",
       "\u001b[36m  julia> findall(x -> x >= 0, d)\u001b[39m\n",
       "\u001b[36m  2-element Vector{Symbol}:\u001b[39m\n",
       "\u001b[36m   :A\u001b[39m\n",
       "\u001b[36m   :C\u001b[39m\n",
       "\u001b[36m  \u001b[39m\n",
       "\n",
       "  ────────────────────────────────────────────────────────────────────────────\n",
       "\n",
       "\u001b[36m  findall(A)\u001b[39m\n",
       "\n",
       "  Return a vector \u001b[36mI\u001b[39m of the \u001b[36mtrue\u001b[39m indices or keys of \u001b[36mA\u001b[39m. If there are no such\n",
       "  elements of \u001b[36mA\u001b[39m, return an empty array. To search for other kinds of values,\n",
       "  pass a predicate as the first argument.\n",
       "\n",
       "  Indices or keys are of the same type as those returned by \u001b[36mkeys(A)\u001b[39m and\n",
       "  \u001b[36mpairs(A)\u001b[39m.\n",
       "\n",
       "  See also: \u001b[36mfindfirst\u001b[39m, \u001b[36msearchsorted\u001b[39m.\n",
       "\n",
       "\u001b[1m  Examples\u001b[22m\n",
       "\u001b[1m  ≡≡≡≡≡≡≡≡≡≡\u001b[22m\n",
       "\n",
       "\u001b[36m  julia> A = [true, false, false, true]\u001b[39m\n",
       "\u001b[36m  4-element Vector{Bool}:\u001b[39m\n",
       "\u001b[36m   1\u001b[39m\n",
       "\u001b[36m   0\u001b[39m\n",
       "\u001b[36m   0\u001b[39m\n",
       "\u001b[36m   1\u001b[39m\n",
       "\u001b[36m  \u001b[39m\n",
       "\u001b[36m  julia> findall(A)\u001b[39m\n",
       "\u001b[36m  2-element Vector{Int64}:\u001b[39m\n",
       "\u001b[36m   1\u001b[39m\n",
       "\u001b[36m   4\u001b[39m\n",
       "\u001b[36m  \u001b[39m\n",
       "\u001b[36m  julia> A = [true false; false true]\u001b[39m\n",
       "\u001b[36m  2×2 Matrix{Bool}:\u001b[39m\n",
       "\u001b[36m   1  0\u001b[39m\n",
       "\u001b[36m   0  1\u001b[39m\n",
       "\u001b[36m  \u001b[39m\n",
       "\u001b[36m  julia> findall(A)\u001b[39m\n",
       "\u001b[36m  2-element Vector{CartesianIndex{2}}:\u001b[39m\n",
       "\u001b[36m   CartesianIndex(1, 1)\u001b[39m\n",
       "\u001b[36m   CartesianIndex(2, 2)\u001b[39m\n",
       "\u001b[36m  \u001b[39m\n",
       "\u001b[36m  julia> findall(falses(3))\u001b[39m\n",
       "\u001b[36m  Int64[]\u001b[39m\n",
       "\n",
       "  ────────────────────────────────────────────────────────────────────────────\n",
       "\n",
       "\u001b[36m  findall(\u001b[39m\n",
       "\u001b[36m      pattern::Union{AbstractString,AbstractPattern},\u001b[39m\n",
       "\u001b[36m      string::AbstractString;\u001b[39m\n",
       "\u001b[36m      overlap::Bool = false,\u001b[39m\n",
       "\u001b[36m  )\u001b[39m\n",
       "\n",
       "  Return a \u001b[36mVector{UnitRange{Int}}\u001b[39m of all the matches for \u001b[36mpattern\u001b[39m in \u001b[36mstring\u001b[39m.\n",
       "  Each element of the returned vector is a range of indices where the matching\n",
       "  sequence is found, like the return value of \u001b[36mfindnext\u001b[39m.\n",
       "\n",
       "  If \u001b[36moverlap=true\u001b[39m, the matching sequences are allowed to overlap indices in\n",
       "  the original string, otherwise they must be from disjoint character ranges.\n",
       "\n",
       "\u001b[1m  Examples\u001b[22m\n",
       "\u001b[1m  ≡≡≡≡≡≡≡≡≡≡\u001b[22m\n",
       "\n",
       "\u001b[36m  julia> findall(\"a\", \"apple\")\u001b[39m\n",
       "\u001b[36m  1-element Vector{UnitRange{Int64}}:\u001b[39m\n",
       "\u001b[36m   1:1\u001b[39m\n",
       "\u001b[36m  \u001b[39m\n",
       "\u001b[36m  julia> findall(\"nana\", \"banana\")\u001b[39m\n",
       "\u001b[36m  1-element Vector{UnitRange{Int64}}:\u001b[39m\n",
       "\u001b[36m   3:6\u001b[39m\n",
       "\u001b[36m  \u001b[39m\n",
       "\u001b[36m  julia> findall(\"a\", \"banana\")\u001b[39m\n",
       "\u001b[36m  3-element Vector{UnitRange{Int64}}:\u001b[39m\n",
       "\u001b[36m   2:2\u001b[39m\n",
       "\u001b[36m   4:4\u001b[39m\n",
       "\u001b[36m   6:6\u001b[39m\n",
       "\n",
       "\u001b[39m\u001b[1m  │ \u001b[22m\u001b[39m\u001b[1mJulia 1.3\u001b[22m\n",
       "\u001b[39m\u001b[1m  │\u001b[22m\n",
       "\u001b[39m\u001b[1m  │\u001b[22m  This method requires at least Julia 1.3.\n",
       "\n",
       "  ────────────────────────────────────────────────────────────────────────────\n",
       "\n",
       "\u001b[36m  findall(c::AbstractChar, s::AbstractString)\u001b[39m\n",
       "\n",
       "  Return a vector \u001b[36mI\u001b[39m of the indices of \u001b[36ms\u001b[39m where \u001b[36ms[i] == c\u001b[39m. If there are no such\n",
       "  elements in \u001b[36ms\u001b[39m, return an empty array.\n",
       "\n",
       "\u001b[1m  Examples\u001b[22m\n",
       "\u001b[1m  ≡≡≡≡≡≡≡≡≡≡\u001b[22m\n",
       "\n",
       "\u001b[36m  julia> findall('a', \"batman\")\u001b[39m\n",
       "\u001b[36m  2-element Vector{Int64}:\u001b[39m\n",
       "\u001b[36m   2\u001b[39m\n",
       "\u001b[36m   5\u001b[39m\n",
       "\n",
       "\u001b[39m\u001b[1m  │ \u001b[22m\u001b[39m\u001b[1mJulia 1.7\u001b[22m\n",
       "\u001b[39m\u001b[1m  │\u001b[22m\n",
       "\u001b[39m\u001b[1m  │\u001b[22m  This method requires at least Julia 1.7."
      ]
     },
     "execution_count": 23,
     "metadata": {},
     "output_type": "execute_result"
    }
   ],
   "source": [
    "?(findall)"
   ]
  },
  {
   "cell_type": "code",
   "execution_count": 24,
   "metadata": {},
   "outputs": [
    {
     "data": {
      "text/plain": [
       "2-element Vector{Int64}:\n",
       " 5\n",
       " 6"
      ]
     },
     "execution_count": 24,
     "metadata": {},
     "output_type": "execute_result"
    }
   ],
   "source": [
    "z = findall(x -> x == 5, nums)"
   ]
  },
  {
   "cell_type": "code",
   "execution_count": 25,
   "metadata": {},
   "outputs": [
    {
     "data": {
      "text/plain": [
       "2-element Vector{Int64}:\n",
       " 5\n",
       " 5"
      ]
     },
     "execution_count": 25,
     "metadata": {},
     "output_type": "execute_result"
    }
   ],
   "source": [
    "array = [nums[x] for x in z]"
   ]
  },
  {
   "cell_type": "code",
   "execution_count": null,
   "metadata": {},
   "outputs": [],
   "source": []
  },
  {
   "cell_type": "code",
   "execution_count": 26,
   "metadata": {},
   "outputs": [],
   "source": [
    "while length(nums) > 1\n",
    "    deleteat!(nums, 1)\n",
    "end"
   ]
  },
  {
   "cell_type": "code",
   "execution_count": 27,
   "metadata": {},
   "outputs": [
    {
     "name": "stdout",
     "output_type": "stream",
     "text": [
      "Any[5.5]\n"
     ]
    }
   ],
   "source": [
    "println(nums)"
   ]
  },
  {
   "cell_type": "code",
   "execution_count": null,
   "metadata": {},
   "outputs": [],
   "source": []
  },
  {
   "cell_type": "code",
   "execution_count": null,
   "metadata": {},
   "outputs": [],
   "source": []
  }
 ],
 "metadata": {
  "kernelspec": {
   "display_name": "Julia 1.6.3",
   "language": "julia",
   "name": "julia-1.6"
  },
  "language_info": {
   "file_extension": ".jl",
   "mimetype": "application/julia",
   "name": "julia",
   "version": "1.7.1"
  }
 },
 "nbformat": 4,
 "nbformat_minor": 4
}
