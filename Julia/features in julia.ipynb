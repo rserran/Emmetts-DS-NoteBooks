{
 "cells": [
  {
   "cell_type": "code",
   "execution_count": 2,
   "id": "68da3114-3505-4baf-8463-ab5dce0e4b02",
   "metadata": {},
   "outputs": [
    {
     "data": {
      "text/plain": [
       "Matrix{Int64}\u001b[90m (alias for \u001b[39m\u001b[90mArray{Int64, 2}\u001b[39m\u001b[90m)\u001b[39m"
      ]
     },
     "execution_count": 2,
     "metadata": {},
     "output_type": "execute_result"
    }
   ],
   "source": [
    "typeof([1 2; 3 4])"
   ]
  },
  {
   "cell_type": "code",
   "execution_count": 3,
   "id": "3ae2445c-e0de-4bee-a61c-42cdf3f1b878",
   "metadata": {},
   "outputs": [
    {
     "data": {
      "text/plain": [
       "Vector{Int64}\u001b[90m (alias for \u001b[39m\u001b[90mArray{Int64, 1}\u001b[39m\u001b[90m)\u001b[39m"
      ]
     },
     "execution_count": 3,
     "metadata": {},
     "output_type": "execute_result"
    }
   ],
   "source": [
    "typeof([1, 2, 3])"
   ]
  },
  {
   "cell_type": "code",
   "execution_count": null,
   "id": "19c98f4b-d562-4b7b-80ad-5efcfd794ebc",
   "metadata": {},
   "outputs": [],
   "source": [
    "Vector{Number}([5.5, 5])"
   ]
  },
  {
   "cell_type": "code",
   "execution_count": 4,
   "id": "d908dbf1-31eb-46bc-8821-a49a0d54c539",
   "metadata": {},
   "outputs": [
    {
     "data": {
      "text/plain": [
       "2-element Vector{Float64}:\n",
       " 5.5\n",
       " 5.0"
      ]
     },
     "execution_count": 4,
     "metadata": {},
     "output_type": "execute_result"
    }
   ],
   "source": [
    "[5.5, 5]"
   ]
  },
  {
   "cell_type": "code",
   "execution_count": 5,
   "id": "0142dec7-598d-45ef-ba12-236f669d7c6a",
   "metadata": {},
   "outputs": [
    {
     "data": {
      "text/plain": [
       "2-element Vector{Any}:\n",
       " 5\n",
       "  \"six\""
      ]
     },
     "execution_count": 5,
     "metadata": {},
     "output_type": "execute_result"
    }
   ],
   "source": [
    "[5, \"six\"]"
   ]
  },
  {
   "cell_type": "code",
   "execution_count": 6,
   "id": "6090c5db-10fa-452e-b005-e657df0bdc1a",
   "metadata": {},
   "outputs": [
    {
     "data": {
      "text/plain": [
       "1"
      ]
     },
     "execution_count": 6,
     "metadata": {},
     "output_type": "execute_result"
    }
   ],
   "source": [
    "myvec = [1, 2, 3, 4]\n",
    "\n",
    "myvec[1]\n",
    "1"
   ]
  },
  {
   "cell_type": "code",
   "execution_count": 8,
   "id": "1736feb9-f01d-4fbb-b0d7-3db0aebaf39b",
   "metadata": {},
   "outputs": [
    {
     "data": {
      "text/plain": [
       "3-element Vector{Int64}:\n",
       " 1\n",
       " 2\n",
       " 3"
      ]
     },
     "execution_count": 8,
     "metadata": {},
     "output_type": "execute_result"
    }
   ],
   "source": [
    "myvec[1:3]"
   ]
  },
  {
   "cell_type": "code",
   "execution_count": 9,
   "id": "ebf1e368-e47b-4e42-954d-898d72d96ca1",
   "metadata": {},
   "outputs": [
    {
     "data": {
      "text/plain": [
       "2×2 Matrix{Int64}:\n",
       " 1  2\n",
       " 3  4"
      ]
     },
     "execution_count": 9,
     "metadata": {},
     "output_type": "execute_result"
    }
   ],
   "source": [
    "mvec = [1 2; 3 4]"
   ]
  },
  {
   "cell_type": "code",
   "execution_count": 10,
   "id": "4f0e5017-69ab-4001-8f9c-0a303afe6365",
   "metadata": {},
   "outputs": [
    {
     "data": {
      "text/plain": [
       "1"
      ]
     },
     "execution_count": 10,
     "metadata": {},
     "output_type": "execute_result"
    }
   ],
   "source": [
    "mvec[1, 1]"
   ]
  },
  {
   "cell_type": "code",
   "execution_count": 11,
   "id": "dcca8b32-d09e-43bc-b144-b06f6273e0a5",
   "metadata": {},
   "outputs": [
    {
     "data": {
      "text/plain": [
       "2×1 Matrix{Int64}:\n",
       " 1\n",
       " 3"
      ]
     },
     "execution_count": 11,
     "metadata": {},
     "output_type": "execute_result"
    }
   ],
   "source": [
    "mvec[1:2, 1:1]"
   ]
  },
  {
   "cell_type": "code",
   "execution_count": 12,
   "id": "0e9322aa-15e7-4e9e-933c-8d5b27cbdbaa",
   "metadata": {},
   "outputs": [],
   "source": [
    "import Base: getindex"
   ]
  },
  {
   "cell_type": "code",
   "execution_count": 13,
   "id": "dc64c55f-461e-46e3-802a-636517abbf90",
   "metadata": {},
   "outputs": [
    {
     "data": {
      "text/plain": [
       "getindex (generic function with 227 methods)"
      ]
     },
     "execution_count": 13,
     "metadata": {},
     "output_type": "execute_result"
    }
   ],
   "source": [
    "getindex(vs::Vector{String}, i::String) = begin\n",
    "    pos = findfirst(n -> n == i, vs)\n",
    "    vs[pos]\n",
    "end"
   ]
  },
  {
   "cell_type": "code",
   "execution_count": 14,
   "id": "11b7bec0-8b1d-49a1-999c-aeea222d9be3",
   "metadata": {},
   "outputs": [
    {
     "data": {
      "text/plain": [
       "3-element Vector{String}:\n",
       " \"emmy\"\n",
       " \"hank\"\n",
       " \"jon\""
      ]
     },
     "execution_count": 14,
     "metadata": {},
     "output_type": "execute_result"
    }
   ],
   "source": [
    "myvec = [\"emmy\", \"hank\", \"jon\"]"
   ]
  },
  {
   "cell_type": "code",
   "execution_count": 15,
   "id": "551a9466-477d-430d-a1dd-1a979a13081b",
   "metadata": {},
   "outputs": [
    {
     "data": {
      "text/plain": [
       "\"emmy\""
      ]
     },
     "execution_count": 15,
     "metadata": {},
     "output_type": "execute_result"
    }
   ],
   "source": [
    "myvec[\"emmy\"]"
   ]
  },
  {
   "cell_type": "code",
   "execution_count": 16,
   "id": "27d6eb01-72cc-4555-8b38-6d57de5a3832",
   "metadata": {},
   "outputs": [],
   "source": [
    "for x in myvec\n",
    "   x = x * \" is their name\"\n",
    "end"
   ]
  },
  {
   "cell_type": "code",
   "execution_count": 19,
   "id": "c7719188-278d-44e3-9393-a68be2d1ea88",
   "metadata": {},
   "outputs": [
    {
     "data": {
      "text/plain": [
       "3-element Vector{String}:\n",
       " \"emmy\"\n",
       " \"hank\"\n",
       " \"jon\""
      ]
     },
     "execution_count": 19,
     "metadata": {},
     "output_type": "execute_result"
    }
   ],
   "source": [
    "map(myvec) do s::String\n",
    "   splts::Vector{SubString} = split(s, \" \")\n",
    "   s = string(splts[1])\n",
    "end"
   ]
  },
  {
   "cell_type": "code",
   "execution_count": 21,
   "id": "e4e50c39-7747-4d25-9984-ab259ae046f6",
   "metadata": {},
   "outputs": [
    {
     "data": {
      "text/plain": [
       "3-element Vector{String}:\n",
       " \"emmyis their name\"\n",
       " \"hankis their name\"\n",
       " \"jonis their name\""
      ]
     },
     "execution_count": 21,
     "metadata": {},
     "output_type": "execute_result"
    }
   ],
   "source": [
    "myvec = [s * \"is their name\" for s in myvec]"
   ]
  },
  {
   "cell_type": "code",
   "execution_count": 22,
   "id": "4d3ba9ab-ffc5-4aac-a242-da223d395af8",
   "metadata": {},
   "outputs": [
    {
     "data": {
      "text/plain": [
       "3-element Vector{String}:\n",
       " \"11\"\n",
       " \"22\"\n",
       " \"33\""
      ]
     },
     "execution_count": 22,
     "metadata": {},
     "output_type": "execute_result"
    }
   ],
   "source": [
    "for (e, x) in enumerate([1, 2, 3])\n",
    "\n",
    "end\n",
    "\n",
    "x = [\"$f$s\" for (f, s) in zip([1, 2, 3], [1, 2, 3])]"
   ]
  },
  {
   "cell_type": "code",
   "execution_count": 23,
   "id": "cd58e484-91b5-4925-8125-235e6934e448",
   "metadata": {},
   "outputs": [
    {
     "name": "stderr",
     "output_type": "stream",
     "text": [
      "\u001b[36m\u001b[1m[ \u001b[22m\u001b[39m\u001b[36m\u001b[1mInfo: \u001b[22m\u001b[39mPrecompiling Statistics [10745b16-79ce-11e8-11f9-7d13ad32a3b2]\n"
     ]
    },
    {
     "data": {
      "text/plain": [
       "4-element Vector{Float64}:\n",
       "  1.161895003862225\n",
       "  0.3872983346207417\n",
       " -0.3872983346207417\n",
       " -1.161895003862225"
      ]
     },
     "execution_count": 23,
     "metadata": {},
     "output_type": "execute_result"
    }
   ],
   "source": [
    "using Statistics\n",
    "x = [5, 10, 15, 20]\n",
    "mu = mean(x)\n",
    "sigma = std(x)\n",
    "\n",
    "x_scaled = [(mu - xbar) / sigma for xbar in x]"
   ]
  },
  {
   "cell_type": "code",
   "execution_count": 24,
   "id": "e83c2390-6e7b-45b3-9bbb-c604f2f3c15d",
   "metadata": {},
   "outputs": [
    {
     "data": {
      "text/plain": [
       "6-element Vector{Int64}:\n",
       "  5\n",
       " 10\n",
       " 15\n",
       " 20\n",
       " 25\n",
       " 30"
      ]
     },
     "execution_count": 24,
     "metadata": {},
     "output_type": "execute_result"
    }
   ],
   "source": [
    "push!(x, 25, 30)"
   ]
  },
  {
   "cell_type": "code",
   "execution_count": 25,
   "id": "c74f8610-6c10-420a-8a94-1bc7830d7249",
   "metadata": {},
   "outputs": [
    {
     "ename": "LoadError",
     "evalue": "MethodError: \u001b[0mCannot `convert` an object of type \u001b[92mVector{Int64}\u001b[39m\u001b[0m to an object of type \u001b[91mInt64\u001b[39m\n\n\u001b[0mClosest candidates are:\n\u001b[0m  convert(::Type{T}, \u001b[91m::T\u001b[39m) where T<:Number\n\u001b[0m\u001b[90m   @\u001b[39m \u001b[90mBase\u001b[39m \u001b[90m\u001b[4mnumber.jl:6\u001b[24m\u001b[39m\n\u001b[0m  convert(::Type{T}, \u001b[91m::Number\u001b[39m) where T<:Number\n\u001b[0m\u001b[90m   @\u001b[39m \u001b[90mBase\u001b[39m \u001b[90m\u001b[4mnumber.jl:7\u001b[24m\u001b[39m\n\u001b[0m  convert(::Type{T}, \u001b[91m::Base.TwicePrecision\u001b[39m) where T<:Number\n\u001b[0m\u001b[90m   @\u001b[39m \u001b[90mBase\u001b[39m \u001b[90m\u001b[4mtwiceprecision.jl:273\u001b[24m\u001b[39m\n\u001b[0m  ...\n",
     "output_type": "error",
     "traceback": [
      "MethodError: \u001b[0mCannot `convert` an object of type \u001b[92mVector{Int64}\u001b[39m\u001b[0m to an object of type \u001b[91mInt64\u001b[39m\n\n\u001b[0mClosest candidates are:\n\u001b[0m  convert(::Type{T}, \u001b[91m::T\u001b[39m) where T<:Number\n\u001b[0m\u001b[90m   @\u001b[39m \u001b[90mBase\u001b[39m \u001b[90m\u001b[4mnumber.jl:6\u001b[24m\u001b[39m\n\u001b[0m  convert(::Type{T}, \u001b[91m::Number\u001b[39m) where T<:Number\n\u001b[0m\u001b[90m   @\u001b[39m \u001b[90mBase\u001b[39m \u001b[90m\u001b[4mnumber.jl:7\u001b[24m\u001b[39m\n\u001b[0m  convert(::Type{T}, \u001b[91m::Base.TwicePrecision\u001b[39m) where T<:Number\n\u001b[0m\u001b[90m   @\u001b[39m \u001b[90mBase\u001b[39m \u001b[90m\u001b[4mtwiceprecision.jl:273\u001b[24m\u001b[39m\n\u001b[0m  ...\n",
      "",
      "Stacktrace:",
      " [1] push!(a::Vector{Int64}, item::Vector{Int64})",
      "   @ Base ./array.jl:1060",
      " [2] top-level scope",
      "   @ In[25]:1"
     ]
    }
   ],
   "source": [
    "push!(x, [35, 40])"
   ]
  },
  {
   "cell_type": "code",
   "execution_count": 26,
   "id": "d6508497-47bb-4f9f-b9f9-f49812d34d7f",
   "metadata": {},
   "outputs": [
    {
     "data": {
      "text/plain": [
       "8-element Vector{Int64}:\n",
       "  5\n",
       " 10\n",
       " 15\n",
       " 20\n",
       " 25\n",
       " 30\n",
       " 25\n",
       " 30"
      ]
     },
     "execution_count": 26,
     "metadata": {},
     "output_type": "execute_result"
    }
   ],
   "source": [
    "append!(x, [35, 40])"
   ]
  },
  {
   "cell_type": "code",
   "execution_count": 28,
   "id": "a5d6c11d-3ab5-4210-878c-b4d093096ac5",
   "metadata": {},
   "outputs": [
    {
     "data": {
      "text/plain": [
       "7-element Vector{Int64}:\n",
       "  5\n",
       " 15\n",
       " 20\n",
       " 25\n",
       " 30\n",
       " 25\n",
       " 30"
      ]
     },
     "execution_count": 28,
     "metadata": {},
     "output_type": "execute_result"
    }
   ],
   "source": [
    "deleteat!(x, 2)"
   ]
  },
  {
   "cell_type": "code",
   "execution_count": 29,
   "id": "ed46defe-e69b-42f7-9d91-c9cdf2bd0d75",
   "metadata": {},
   "outputs": [
    {
     "data": {
      "text/plain": [
       "4-element Vector{Int64}:\n",
       "  5\n",
       " 10\n",
       " 50\n",
       " 60"
      ]
     },
     "execution_count": 29,
     "metadata": {},
     "output_type": "execute_result"
    }
   ],
   "source": [
    "vcat([5, 10], [50, 60])"
   ]
  },
  {
   "cell_type": "code",
   "execution_count": 41,
   "id": "f2b055fd-4525-4d29-8657-3d296f589d2c",
   "metadata": {},
   "outputs": [
    {
     "data": {
      "text/plain": [
       "4-element Vector{Int64}:\n",
       " 5\n",
       " 8\n",
       " 7\n",
       " 3"
      ]
     },
     "execution_count": 41,
     "metadata": {},
     "output_type": "execute_result"
    }
   ],
   "source": [
    "mat = hcat([1, 2, 3], [4, 5, 6], [7, 8, 9], [10, 11, 12])\n",
    "vector = [5, 8, 7, 3]"
   ]
  },
  {
   "cell_type": "code",
   "execution_count": 42,
   "id": "953f1854-501b-42ba-b500-fb34a1a4684e",
   "metadata": {},
   "outputs": [
    {
     "data": {
      "text/plain": [
       "(3, 4)"
      ]
     },
     "execution_count": 42,
     "metadata": {},
     "output_type": "execute_result"
    }
   ],
   "source": [
    "size(mat)"
   ]
  },
  {
   "cell_type": "code",
   "execution_count": 43,
   "id": "a4b47e21-ea8e-4e76-bd1e-519c3873e756",
   "metadata": {},
   "outputs": [
    {
     "data": {
      "text/plain": [
       "(4,)"
      ]
     },
     "execution_count": 43,
     "metadata": {},
     "output_type": "execute_result"
    }
   ],
   "source": [
    "size(vector)"
   ]
  },
  {
   "cell_type": "code",
   "execution_count": 44,
   "id": "57808527-f580-4018-abe6-74cd9e6a3682",
   "metadata": {},
   "outputs": [
    {
     "data": {
      "text/plain": [
       "1×4 Matrix{Int64}:\n",
       " 5  8  7  3"
      ]
     },
     "execution_count": 44,
     "metadata": {},
     "output_type": "execute_result"
    }
   ],
   "source": [
    "reshape(vector, (1, 4))"
   ]
  },
  {
   "cell_type": "code",
   "execution_count": 47,
   "id": "0f3d2783-1566-4b33-af63-1bf638d6dde6",
   "metadata": {},
   "outputs": [
    {
     "data": {
      "text/plain": [
       "3×4 Matrix{Int64}:\n",
       " 1  4  7  10\n",
       " 2  5  8  11\n",
       " 3  6  9  12"
      ]
     },
     "execution_count": 47,
     "metadata": {},
     "output_type": "execute_result"
    }
   ],
   "source": [
    "mat"
   ]
  },
  {
   "cell_type": "code",
   "execution_count": 46,
   "id": "27711d92-861f-4e91-a12c-13fca45f2dc4",
   "metadata": {},
   "outputs": [
    {
     "data": {
      "text/plain": [
       "4×3 Matrix{Int64}:\n",
       " 1  5   9\n",
       " 2  6  10\n",
       " 3  7  11\n",
       " 4  8  12"
      ]
     },
     "execution_count": 46,
     "metadata": {},
     "output_type": "execute_result"
    }
   ],
   "source": [
    "reshape(mat, (4, 3))"
   ]
  },
  {
   "cell_type": "code",
   "execution_count": 51,
   "id": "9297e621-911d-4d91-b3f1-c4a786373118",
   "metadata": {},
   "outputs": [
    {
     "data": {
      "text/plain": [
       "CartesianIndex(2, 2)"
      ]
     },
     "execution_count": 51,
     "metadata": {},
     "output_type": "execute_result"
    }
   ],
   "source": [
    "findfirst(x -> x == 5, mat)"
   ]
  },
  {
   "cell_type": "code",
   "execution_count": 54,
   "id": "d21cad55-700c-4a6d-a21f-4607865e8d2c",
   "metadata": {},
   "outputs": [
    {
     "data": {
      "text/plain": [
       "1-element Vector{Int64}:\n",
       " 8"
      ]
     },
     "execution_count": 54,
     "metadata": {},
     "output_type": "execute_result"
    }
   ],
   "source": [
    "filter(x -> x > 7, vector)"
   ]
  },
  {
   "cell_type": "code",
   "execution_count": 55,
   "id": "011fecdf-5d48-43ba-bb25-f8fc96527bf7",
   "metadata": {},
   "outputs": [
    {
     "name": "stdout",
     "output_type": "stream",
     "text": [
      "len: 12 sum: 78\n"
     ]
    }
   ],
   "source": [
    "println(\"len: \", length(mat), \" sum: \", sum(mat))"
   ]
  },
  {
   "cell_type": "code",
   "execution_count": 56,
   "id": "0fd50acc-721d-4447-b6f2-b0bfebd5503d",
   "metadata": {},
   "outputs": [
    {
     "data": {
      "text/plain": [
       "2×2 Matrix{Int64}:\n",
       " 5  10\n",
       " 8  24"
      ]
     },
     "execution_count": 56,
     "metadata": {},
     "output_type": "execute_result"
    }
   ],
   "source": [
    "[1 5; 2 8] .* [5 2; 4 3]"
   ]
  },
  {
   "cell_type": "code",
   "execution_count": 57,
   "id": "66dbd154-0b03-4952-93fe-83542817df79",
   "metadata": {},
   "outputs": [
    {
     "data": {
      "text/plain": [
       "sample (generic function with 1 method)"
      ]
     },
     "execution_count": 57,
     "metadata": {},
     "output_type": "execute_result"
    }
   ],
   "source": [
    "function sample(x)\n",
    "    @info x\n",
    "end"
   ]
  },
  {
   "cell_type": "code",
   "execution_count": 60,
   "id": "f4fa5386-ae1f-4f9e-ad62-826e4d03e501",
   "metadata": {},
   "outputs": [
    {
     "name": "stderr",
     "output_type": "stream",
     "text": [
      "\u001b[36m\u001b[1m[ \u001b[22m\u001b[39m\u001b[36m\u001b[1mInfo: \u001b[22m\u001b[39m1\n",
      "\u001b[36m\u001b[1m[ \u001b[22m\u001b[39m\u001b[36m\u001b[1mInfo: \u001b[22m\u001b[39m2\n",
      "\u001b[36m\u001b[1m[ \u001b[22m\u001b[39m\u001b[36m\u001b[1mInfo: \u001b[22m\u001b[39m3\n",
      "\u001b[36m\u001b[1m[ \u001b[22m\u001b[39m\u001b[36m\u001b[1mInfo: \u001b[22m\u001b[39m4\n",
      "\u001b[36m\u001b[1m[ \u001b[22m\u001b[39m\u001b[36m\u001b[1mInfo: \u001b[22m\u001b[39m5\n",
      "\u001b[36m\u001b[1m[ \u001b[22m\u001b[39m\u001b[36m\u001b[1mInfo: \u001b[22m\u001b[39m6\n",
      "\u001b[36m\u001b[1m[ \u001b[22m\u001b[39m\u001b[36m\u001b[1mInfo: \u001b[22m\u001b[39m7\n",
      "\u001b[36m\u001b[1m[ \u001b[22m\u001b[39m\u001b[36m\u001b[1mInfo: \u001b[22m\u001b[39m8\n",
      "\u001b[36m\u001b[1m[ \u001b[22m\u001b[39m\u001b[36m\u001b[1mInfo: \u001b[22m\u001b[39m9\n",
      "\u001b[36m\u001b[1m[ \u001b[22m\u001b[39m\u001b[36m\u001b[1mInfo: \u001b[22m\u001b[39m10\n",
      "\u001b[36m\u001b[1m[ \u001b[22m\u001b[39m\u001b[36m\u001b[1mInfo: \u001b[22m\u001b[39m11\n",
      "\u001b[36m\u001b[1m[ \u001b[22m\u001b[39m\u001b[36m\u001b[1mInfo: \u001b[22m\u001b[39m12\n"
     ]
    },
    {
     "data": {
      "text/plain": [
       "3×4 Matrix{Nothing}:\n",
       " nothing  nothing  nothing  nothing\n",
       " nothing  nothing  nothing  nothing\n",
       " nothing  nothing  nothing  nothing"
      ]
     },
     "execution_count": 60,
     "metadata": {},
     "output_type": "execute_result"
    }
   ],
   "source": [
    "sample.(mat)"
   ]
  },
  {
   "cell_type": "code",
   "execution_count": 61,
   "id": "afdf5388-c918-469d-ba0a-6f0a37aef72e",
   "metadata": {},
   "outputs": [
    {
     "data": {
      "text/plain": [
       "4×3 transpose(::Matrix{Int64}) with eltype Int64:\n",
       "  1   2   3\n",
       "  4   5   6\n",
       "  7   8   9\n",
       " 10  11  12"
      ]
     },
     "execution_count": 61,
     "metadata": {},
     "output_type": "execute_result"
    }
   ],
   "source": [
    "transpose(mat)"
   ]
  },
  {
   "cell_type": "code",
   "execution_count": 62,
   "id": "12f24f2c-9a40-4a7b-909f-48af7bae2808",
   "metadata": {},
   "outputs": [],
   "source": [
    "using LinearAlgebra"
   ]
  },
  {
   "cell_type": "markdown",
   "id": "dc243d11-450c-4872-aeef-e7f02359a6c0",
   "metadata": {},
   "source": [
    "#### DataFrames"
   ]
  },
  {
   "cell_type": "code",
   "execution_count": 66,
   "id": "cc2c0bf4-7ff4-4cc2-b6f6-741bc46606e3",
   "metadata": {},
   "outputs": [],
   "source": [
    "using DataFrames"
   ]
  },
  {
   "cell_type": "code",
   "execution_count": 67,
   "id": "ede1afac-8175-4b11-8ba5-eab93f231357",
   "metadata": {},
   "outputs": [
    {
     "data": {
      "text/html": [
       "<div><div style = \"float: left;\"><span>3×2 DataFrame</span></div><div style = \"clear: both;\"></div></div><div class = \"data-frame\" style = \"overflow-x: scroll;\"><table class = \"data-frame\" style = \"margin-bottom: 6px;\"><thead><tr class = \"header\"><th class = \"rowNumber\" style = \"font-weight: bold; text-align: right;\">Row</th><th style = \"text-align: left;\">x</th><th style = \"text-align: left;\">b</th></tr><tr class = \"subheader headerLastRow\"><th class = \"rowNumber\" style = \"font-weight: bold; text-align: right;\"></th><th title = \"Int64\" style = \"text-align: left;\">Int64</th><th title = \"Float64\" style = \"text-align: left;\">Float64</th></tr></thead><tbody><tr><td class = \"rowNumber\" style = \"font-weight: bold; text-align: right;\">1</td><td style = \"text-align: right;\">1</td><td style = \"text-align: right;\">20.2</td></tr><tr><td class = \"rowNumber\" style = \"font-weight: bold; text-align: right;\">2</td><td style = \"text-align: right;\">2</td><td style = \"text-align: right;\">30.5</td></tr><tr><td class = \"rowNumber\" style = \"font-weight: bold; text-align: right;\">3</td><td style = \"text-align: right;\">3</td><td style = \"text-align: right;\">30.0</td></tr></tbody></table></div>"
      ],
      "text/latex": [
       "\\begin{tabular}{r|cc}\n",
       "\t& x & b\\\\\n",
       "\t\\hline\n",
       "\t& Int64 & Float64\\\\\n",
       "\t\\hline\n",
       "\t1 & 1 & 20.2 \\\\\n",
       "\t2 & 2 & 30.5 \\\\\n",
       "\t3 & 3 & 30.0 \\\\\n",
       "\\end{tabular}\n"
      ],
      "text/plain": [
       "\u001b[1m3×2 DataFrame\u001b[0m\n",
       "\u001b[1m Row \u001b[0m│\u001b[1m x     \u001b[0m\u001b[1m b       \u001b[0m\n",
       "     │\u001b[90m Int64 \u001b[0m\u001b[90m Float64 \u001b[0m\n",
       "─────┼────────────────\n",
       "   1 │     1     20.2\n",
       "   2 │     2     30.5\n",
       "   3 │     3     30.0"
      ]
     },
     "execution_count": 67,
     "metadata": {},
     "output_type": "execute_result"
    }
   ],
   "source": [
    "df = DataFrame(:x => [1, 2, 3], :b => [20.2, 30.5, 30.0])"
   ]
  },
  {
   "cell_type": "code",
   "execution_count": 68,
   "id": "78c4cc2a-79ce-4912-a526-8c6f759f7e60",
   "metadata": {},
   "outputs": [
    {
     "data": {
      "text/html": [
       "<div><div style = \"float: left;\"><span>1×2 DataFrame</span></div><div style = \"clear: both;\"></div></div><div class = \"data-frame\" style = \"overflow-x: scroll;\"><table class = \"data-frame\" style = \"margin-bottom: 6px;\"><thead><tr class = \"header\"><th class = \"rowNumber\" style = \"font-weight: bold; text-align: right;\">Row</th><th style = \"text-align: left;\">x</th><th style = \"text-align: left;\">b</th></tr><tr class = \"subheader headerLastRow\"><th class = \"rowNumber\" style = \"font-weight: bold; text-align: right;\"></th><th title = \"Int64\" style = \"text-align: left;\">Int64</th><th title = \"Float64\" style = \"text-align: left;\">Float64</th></tr></thead><tbody><tr><td class = \"rowNumber\" style = \"font-weight: bold; text-align: right;\">1</td><td style = \"text-align: right;\">2</td><td style = \"text-align: right;\">30.5</td></tr></tbody></table></div>"
      ],
      "text/latex": [
       "\\begin{tabular}{r|cc}\n",
       "\t& x & b\\\\\n",
       "\t\\hline\n",
       "\t& Int64 & Float64\\\\\n",
       "\t\\hline\n",
       "\t1 & 2 & 30.5 \\\\\n",
       "\\end{tabular}\n"
      ],
      "text/plain": [
       "\u001b[1m1×2 DataFrame\u001b[0m\n",
       "\u001b[1m Row \u001b[0m│\u001b[1m x     \u001b[0m\u001b[1m b       \u001b[0m\n",
       "     │\u001b[90m Int64 \u001b[0m\u001b[90m Float64 \u001b[0m\n",
       "─────┼────────────────\n",
       "   1 │     2     30.5"
      ]
     },
     "execution_count": 68,
     "metadata": {},
     "output_type": "execute_result"
    }
   ],
   "source": [
    "filtered_copy = filter(r::DataFrameRow -> r[:x] == 2, df)"
   ]
  },
  {
   "cell_type": "code",
   "execution_count": 69,
   "id": "9b68097c-6d8f-463c-85d7-588778fec8a2",
   "metadata": {},
   "outputs": [
    {
     "data": {
      "text/plain": [
       "1"
      ]
     },
     "execution_count": 69,
     "metadata": {},
     "output_type": "execute_result"
    }
   ],
   "source": [
    "df[1, 1]"
   ]
  },
  {
   "cell_type": "code",
   "execution_count": 70,
   "id": "b7047762-3112-4827-8253-bf8cefd2f29b",
   "metadata": {},
   "outputs": [
    {
     "data": {
      "text/plain": [
       "3-element Vector{Int64}:\n",
       " 1\n",
       " 2\n",
       " 3"
      ]
     },
     "execution_count": 70,
     "metadata": {},
     "output_type": "execute_result"
    }
   ],
   "source": [
    "df[!, 1]"
   ]
  },
  {
   "cell_type": "code",
   "execution_count": 71,
   "id": "b399eaf9-56cd-4171-a3c2-c13159b202e1",
   "metadata": {},
   "outputs": [
    {
     "data": {
      "text/plain": [
       "3-element Vector{Int64}:\n",
       " 1\n",
       " 2\n",
       " 3"
      ]
     },
     "execution_count": 71,
     "metadata": {},
     "output_type": "execute_result"
    }
   ],
   "source": [
    "df[!, :x]"
   ]
  },
  {
   "cell_type": "code",
   "execution_count": 75,
   "id": "a9ed316b-87ec-4092-984a-0854eb4e910b",
   "metadata": {},
   "outputs": [
    {
     "data": {
      "text/html": [
       "<div><div style = \"float: left;\"><span>3×1 DataFrame</span></div><div style = \"clear: both;\"></div></div><div class = \"data-frame\" style = \"overflow-x: scroll;\"><table class = \"data-frame\" style = \"margin-bottom: 6px;\"><thead><tr class = \"header\"><th class = \"rowNumber\" style = \"font-weight: bold; text-align: right;\">Row</th><th style = \"text-align: left;\">b</th></tr><tr class = \"subheader headerLastRow\"><th class = \"rowNumber\" style = \"font-weight: bold; text-align: right;\"></th><th title = \"Float64\" style = \"text-align: left;\">Float64</th></tr></thead><tbody><tr><td class = \"rowNumber\" style = \"font-weight: bold; text-align: right;\">1</td><td style = \"text-align: right;\">20.2</td></tr><tr><td class = \"rowNumber\" style = \"font-weight: bold; text-align: right;\">2</td><td style = \"text-align: right;\">30.5</td></tr><tr><td class = \"rowNumber\" style = \"font-weight: bold; text-align: right;\">3</td><td style = \"text-align: right;\">30.0</td></tr></tbody></table></div>"
      ],
      "text/latex": [
       "\\begin{tabular}{r|c}\n",
       "\t& b\\\\\n",
       "\t\\hline\n",
       "\t& Float64\\\\\n",
       "\t\\hline\n",
       "\t1 & 20.2 \\\\\n",
       "\t2 & 30.5 \\\\\n",
       "\t3 & 30.0 \\\\\n",
       "\\end{tabular}\n"
      ],
      "text/plain": [
       "\u001b[1m3×1 DataFrame\u001b[0m\n",
       "\u001b[1m Row \u001b[0m│\u001b[1m b       \u001b[0m\n",
       "     │\u001b[90m Float64 \u001b[0m\n",
       "─────┼─────────\n",
       "   1 │    20.2\n",
       "   2 │    30.5\n",
       "   3 │    30.0"
      ]
     },
     "execution_count": 75,
     "metadata": {},
     "output_type": "execute_result"
    }
   ],
   "source": [
    "df[:, Not(:x)]"
   ]
  },
  {
   "cell_type": "code",
   "execution_count": 80,
   "id": "5697c8ab-7181-443f-a343-e61fa30dc4b5",
   "metadata": {},
   "outputs": [
    {
     "data": {
      "text/html": [
       "<div><div style = \"float: left;\"><span>3×2 DataFrame</span></div><div style = \"clear: both;\"></div></div><div class = \"data-frame\" style = \"overflow-x: scroll;\"><table class = \"data-frame\" style = \"margin-bottom: 6px;\"><thead><tr class = \"header\"><th class = \"rowNumber\" style = \"font-weight: bold; text-align: right;\">Row</th><th style = \"text-align: left;\">a</th><th style = \"text-align: left;\">x</th></tr><tr class = \"subheader headerLastRow\"><th class = \"rowNumber\" style = \"font-weight: bold; text-align: right;\"></th><th title = \"Int64\" style = \"text-align: left;\">Int64</th><th title = \"Int64\" style = \"text-align: left;\">Int64</th></tr></thead><tbody><tr><td class = \"rowNumber\" style = \"font-weight: bold; text-align: right;\">1</td><td style = \"text-align: right;\">1</td><td style = \"text-align: right;\">5</td></tr><tr><td class = \"rowNumber\" style = \"font-weight: bold; text-align: right;\">2</td><td style = \"text-align: right;\">2</td><td style = \"text-align: right;\">4</td></tr><tr><td class = \"rowNumber\" style = \"font-weight: bold; text-align: right;\">3</td><td style = \"text-align: right;\">3</td><td style = \"text-align: right;\">3</td></tr></tbody></table></div>"
      ],
      "text/latex": [
       "\\begin{tabular}{r|cc}\n",
       "\t& a & x\\\\\n",
       "\t\\hline\n",
       "\t& Int64 & Int64\\\\\n",
       "\t\\hline\n",
       "\t1 & 1 & 5 \\\\\n",
       "\t2 & 2 & 4 \\\\\n",
       "\t3 & 3 & 3 \\\\\n",
       "\\end{tabular}\n"
      ],
      "text/plain": [
       "\u001b[1m3×2 DataFrame\u001b[0m\n",
       "\u001b[1m Row \u001b[0m│\u001b[1m a     \u001b[0m\u001b[1m x     \u001b[0m\n",
       "     │\u001b[90m Int64 \u001b[0m\u001b[90m Int64 \u001b[0m\n",
       "─────┼──────────────\n",
       "   1 │     1      5\n",
       "   2 │     2      4\n",
       "   3 │     3      3"
      ]
     },
     "execution_count": 80,
     "metadata": {},
     "output_type": "execute_result"
    }
   ],
   "source": [
    "df2 = DataFrame(:a => df[!, :x], :x => [5, 4, 3])"
   ]
  },
  {
   "cell_type": "code",
   "execution_count": 81,
   "id": "52ccddcf-f470-40c3-9f8f-60611e878480",
   "metadata": {},
   "outputs": [
    {
     "data": {
      "text/html": [
       "<div><div style = \"float: left;\"><span>1×3 DataFrame</span></div><div style = \"clear: both;\"></div></div><div class = \"data-frame\" style = \"overflow-x: scroll;\"><table class = \"data-frame\" style = \"margin-bottom: 6px;\"><thead><tr class = \"header\"><th class = \"rowNumber\" style = \"font-weight: bold; text-align: right;\">Row</th><th style = \"text-align: left;\">a</th><th style = \"text-align: left;\">x</th><th style = \"text-align: left;\">b</th></tr><tr class = \"subheader headerLastRow\"><th class = \"rowNumber\" style = \"font-weight: bold; text-align: right;\"></th><th title = \"Int64\" style = \"text-align: left;\">Int64</th><th title = \"Int64\" style = \"text-align: left;\">Int64</th><th title = \"Float64\" style = \"text-align: left;\">Float64</th></tr></thead><tbody><tr><td class = \"rowNumber\" style = \"font-weight: bold; text-align: right;\">1</td><td style = \"text-align: right;\">3</td><td style = \"text-align: right;\">3</td><td style = \"text-align: right;\">30.0</td></tr></tbody></table></div>"
      ],
      "text/latex": [
       "\\begin{tabular}{r|ccc}\n",
       "\t& a & x & b\\\\\n",
       "\t\\hline\n",
       "\t& Int64 & Int64 & Float64\\\\\n",
       "\t\\hline\n",
       "\t1 & 3 & 3 & 30.0 \\\\\n",
       "\\end{tabular}\n"
      ],
      "text/plain": [
       "\u001b[1m1×3 DataFrame\u001b[0m\n",
       "\u001b[1m Row \u001b[0m│\u001b[1m a     \u001b[0m\u001b[1m x     \u001b[0m\u001b[1m b       \u001b[0m\n",
       "     │\u001b[90m Int64 \u001b[0m\u001b[90m Int64 \u001b[0m\u001b[90m Float64 \u001b[0m\n",
       "─────┼───────────────────────\n",
       "   1 │     3      3     30.0"
      ]
     },
     "execution_count": 81,
     "metadata": {},
     "output_type": "execute_result"
    }
   ],
   "source": [
    "innerjoin(df2, df, on = :x)"
   ]
  },
  {
   "cell_type": "code",
   "execution_count": 82,
   "id": "c6f77c41-f8ed-43c6-9e5f-a60858f9b243",
   "metadata": {},
   "outputs": [
    {
     "name": "stdout",
     "output_type": "stream",
     "text": [
      "\u001b[1m3×2 DataFrame\u001b[0m\n",
      "\u001b[1m Row \u001b[0m│\u001b[1m x     \u001b[0m\u001b[1m b       \u001b[0m\n",
      "     │\u001b[90m Int64 \u001b[0m\u001b[90m Float64 \u001b[0m\n",
      "─────┼────────────────\n",
      "   1 │     1     20.2\n",
      "   2 │     2     30.5\n",
      "   3 │     3     30.0"
     ]
    }
   ],
   "source": [
    "show(df, allcols = true)"
   ]
  },
  {
   "cell_type": "code",
   "execution_count": null,
   "id": "da006ac8-a699-4f13-a791-d17f8c6c5ef4",
   "metadata": {},
   "outputs": [],
   "source": []
  }
 ],
 "metadata": {
  "kernelspec": {
   "display_name": "Julia 1.9.2",
   "language": "julia",
   "name": "julia-1.9"
  },
  "language_info": {
   "file_extension": ".jl",
   "mimetype": "application/julia",
   "name": "julia",
   "version": "1.9.2"
  }
 },
 "nbformat": 4,
 "nbformat_minor": 5
}
