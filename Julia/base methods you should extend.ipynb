{
 "cells": [
  {
   "cell_type": "code",
   "execution_count": 1,
   "metadata": {},
   "outputs": [],
   "source": [
    "import Base: getindex, setindex!, display, show, vect, iterate, +, (:)\n",
    "import Base: push!"
   ]
  },
  {
   "cell_type": "code",
   "execution_count": 2,
   "metadata": {},
   "outputs": [],
   "source": [
    "mutable struct Person\n",
    "    name::String\n",
    "    age::Int64\n",
    "    class::Symbol\n",
    "end"
   ]
  },
  {
   "cell_type": "markdown",
   "metadata": {},
   "source": [
    "### getindex"
   ]
  },
  {
   "cell_type": "code",
   "execution_count": 3,
   "metadata": {},
   "outputs": [
    {
     "data": {
      "text/plain": [
       "10"
      ]
     },
     "execution_count": 3,
     "metadata": {},
     "output_type": "execute_result"
    }
   ],
   "source": [
    "getindex([5, 10], 2)"
   ]
  },
  {
   "cell_type": "code",
   "execution_count": 4,
   "metadata": {},
   "outputs": [
    {
     "data": {
      "text/plain": [
       "10"
      ]
     },
     "execution_count": 4,
     "metadata": {},
     "output_type": "execute_result"
    }
   ],
   "source": [
    "[5, 10][2]"
   ]
  },
  {
   "cell_type": "code",
   "execution_count": 5,
   "metadata": {},
   "outputs": [
    {
     "data": {
      "text/plain": [
       "Vector{Person} (alias for Array{Person, 1})"
      ]
     },
     "execution_count": 5,
     "metadata": {},
     "output_type": "execute_result"
    }
   ],
   "source": [
    "typeof([Person(\"emmy\", 22, :history)])"
   ]
  },
  {
   "cell_type": "code",
   "execution_count": 6,
   "metadata": {},
   "outputs": [
    {
     "data": {
      "text/plain": [
       "getindex (generic function with 220 methods)"
      ]
     },
     "execution_count": 6,
     "metadata": {},
     "output_type": "execute_result"
    }
   ],
   "source": [
    "getindex(v::Vector{Person}, name::String) = v[findall(person -> person.name == name, v)[1]]"
   ]
  },
  {
   "cell_type": "code",
   "execution_count": 7,
   "metadata": {},
   "outputs": [
    {
     "data": {
      "text/plain": [
       "2-element Vector{Person}:\n",
       " Person(\"emmy\", 22, :history)\n",
       " Person(\"john\", 25, :math)"
      ]
     },
     "execution_count": 7,
     "metadata": {},
     "output_type": "execute_result"
    }
   ],
   "source": [
    "people = [Person(\"emmy\", 22, :history), Person(\"john\", 25, :math)]"
   ]
  },
  {
   "cell_type": "code",
   "execution_count": 8,
   "metadata": {},
   "outputs": [
    {
     "data": {
      "text/plain": [
       "Person(\"emmy\", 22, :history)"
      ]
     },
     "execution_count": 8,
     "metadata": {},
     "output_type": "execute_result"
    }
   ],
   "source": [
    "people[\"emmy\"]"
   ]
  },
  {
   "cell_type": "code",
   "execution_count": 9,
   "metadata": {},
   "outputs": [
    {
     "data": {
      "text/plain": [
       "getindex (generic function with 221 methods)"
      ]
     },
     "execution_count": 9,
     "metadata": {},
     "output_type": "execute_result"
    }
   ],
   "source": [
    "function getindex(v::Vector{Person}, class::Symbol)\n",
    "    pos::Vector{Int64} = findall(person -> person.class == class, v)\n",
    "    [v[p] for p in pos]::Vector{Person}\n",
    "end"
   ]
  },
  {
   "cell_type": "code",
   "execution_count": 10,
   "metadata": {},
   "outputs": [
    {
     "data": {
      "text/plain": [
       "1-element Vector{Person}:\n",
       " Person(\"emmy\", 22, :history)"
      ]
     },
     "execution_count": 10,
     "metadata": {},
     "output_type": "execute_result"
    }
   ],
   "source": [
    "people[:history]"
   ]
  },
  {
   "cell_type": "markdown",
   "metadata": {},
   "source": [
    "### setindex!"
   ]
  },
  {
   "cell_type": "code",
   "execution_count": 11,
   "metadata": {},
   "outputs": [
    {
     "data": {
      "text/plain": [
       "setindex! (generic function with 90 methods)"
      ]
     },
     "execution_count": 11,
     "metadata": {},
     "output_type": "execute_result"
    }
   ],
   "source": [
    "setindex!(v::Vector{Person}, class::Symbol, name::String) = v[name].class = class"
   ]
  },
  {
   "cell_type": "code",
   "execution_count": 12,
   "metadata": {},
   "outputs": [
    {
     "data": {
      "text/plain": [
       ":math"
      ]
     },
     "execution_count": 12,
     "metadata": {},
     "output_type": "execute_result"
    }
   ],
   "source": [
    "people[\"emmy\"] = :math"
   ]
  },
  {
   "cell_type": "code",
   "execution_count": 13,
   "metadata": {},
   "outputs": [
    {
     "data": {
      "text/plain": [
       "2-element Vector{Person}:\n",
       " Person(\"emmy\", 22, :math)\n",
       " Person(\"john\", 25, :math)"
      ]
     },
     "execution_count": 13,
     "metadata": {},
     "output_type": "execute_result"
    }
   ],
   "source": [
    "people[:math]"
   ]
  },
  {
   "cell_type": "code",
   "execution_count": 14,
   "metadata": {},
   "outputs": [
    {
     "data": {
      "text/plain": [
       "Person[]"
      ]
     },
     "execution_count": 14,
     "metadata": {},
     "output_type": "execute_result"
    }
   ],
   "source": [
    "people[:history]"
   ]
  },
  {
   "cell_type": "markdown",
   "metadata": {},
   "source": [
    "### vect"
   ]
  },
  {
   "cell_type": "code",
   "execution_count": 15,
   "metadata": {},
   "outputs": [
    {
     "data": {
      "text/plain": [
       "vect (generic function with 4 methods)"
      ]
     },
     "execution_count": 15,
     "metadata": {},
     "output_type": "execute_result"
    }
   ],
   "source": [
    "function vect(p::Person ...)\n",
    "    names::Vector{String} = [person.name for person in p]\n",
    "    if length(Set(names))!= length(names) throw(ArgumentError(\"names not unique\")) end\n",
    "    Vector{Person}([person for person in p])\n",
    "end"
   ]
  },
  {
   "cell_type": "code",
   "execution_count": 16,
   "metadata": {},
   "outputs": [
    {
     "data": {
      "text/plain": [
       "2-element Vector{Person}:\n",
       " Person(\"emmy\", 22, :history)\n",
       " Person(\"john\", 25, :math)"
      ]
     },
     "execution_count": 16,
     "metadata": {},
     "output_type": "execute_result"
    }
   ],
   "source": [
    "people = [Person(\"emmy\", 22, :history), Person(\"john\", 25, :math)]"
   ]
  },
  {
   "cell_type": "code",
   "execution_count": 17,
   "metadata": {},
   "outputs": [
    {
     "ename": "LoadError",
     "evalue": "ArgumentError: names not unique",
     "output_type": "error",
     "traceback": [
      "ArgumentError: names not unique",
      "",
      "Stacktrace:",
      " [1] vect(::Person, ::Vararg{Person})",
      "   @ Main ./In[15]:3",
      " [2] top-level scope",
      "   @ In[17]:1",
      " [3] eval",
      "   @ ./boot.jl:373 [inlined]",
      " [4] include_string(mapexpr::typeof(REPL.softscope), mod::Module, code::String, filename::String)",
      "   @ Base ./loading.jl:1196"
     ]
    }
   ],
   "source": [
    "people = [Person(\"emmy\", 22, :history), Person(\"emmy\", 25, :math)]"
   ]
  },
  {
   "cell_type": "markdown",
   "metadata": {},
   "source": [
    "### display"
   ]
  },
  {
   "cell_type": "code",
   "execution_count": 18,
   "metadata": {},
   "outputs": [
    {
     "data": {
      "text/plain": [
       "display (generic function with 31 methods)"
      ]
     },
     "execution_count": 18,
     "metadata": {},
     "output_type": "execute_result"
    }
   ],
   "source": [
    "function display(p::Person)\n",
    "    display(\"text/markdown\", \"\"\"### $(p.name)\n",
    "        This person is in $(p.class) class, and is $(p.age) years old.\"\"\")\n",
    "end"
   ]
  },
  {
   "cell_type": "code",
   "execution_count": 19,
   "metadata": {},
   "outputs": [
    {
     "data": {
      "text/markdown": [
       "### emmy\n",
       "This person is in history class, and is 22 years old."
      ]
     },
     "metadata": {},
     "output_type": "display_data"
    }
   ],
   "source": [
    "display(people[\"emmy\"])"
   ]
  },
  {
   "cell_type": "code",
   "execution_count": 20,
   "metadata": {},
   "outputs": [
    {
     "data": {
      "text/plain": [
       "show (generic function with 273 methods)"
      ]
     },
     "execution_count": 20,
     "metadata": {},
     "output_type": "execute_result"
    }
   ],
   "source": [
    "show(io::IO, p::Person) = display(p)"
   ]
  },
  {
   "cell_type": "code",
   "execution_count": 21,
   "metadata": {},
   "outputs": [
    {
     "data": {
      "text/markdown": [
       "### emmy\n",
       "This person is in history class, and is 22 years old."
      ]
     },
     "metadata": {},
     "output_type": "display_data"
    },
    {
     "data": {
      "text/plain": []
     },
     "execution_count": 21,
     "metadata": {},
     "output_type": "execute_result"
    }
   ],
   "source": [
    "people[\"emmy\"]"
   ]
  },
  {
   "cell_type": "code",
   "execution_count": 22,
   "metadata": {},
   "outputs": [],
   "source": [
    "show(io::IO, p::Vector{Person}) = [display(person) for person in p]; return"
   ]
  },
  {
   "cell_type": "code",
   "execution_count": 23,
   "metadata": {},
   "outputs": [
    {
     "data": {
      "text/markdown": [
       "### emmy\n",
       "This person is in history class, and is 22 years old."
      ]
     },
     "metadata": {},
     "output_type": "display_data"
    },
    {
     "data": {
      "text/markdown": [
       "### john\n",
       "This person is in math class, and is 25 years old."
      ]
     },
     "metadata": {},
     "output_type": "display_data"
    },
    {
     "data": {
      "text/plain": [
       "2-element Vector{Nothing}:\n",
       " nothing\n",
       " nothing"
      ]
     },
     "execution_count": 23,
     "metadata": {},
     "output_type": "execute_result"
    }
   ],
   "source": [
    "show(people)"
   ]
  },
  {
   "cell_type": "markdown",
   "metadata": {},
   "source": [
    "### iterate"
   ]
  },
  {
   "cell_type": "code",
   "execution_count": 24,
   "metadata": {},
   "outputs": [
    {
     "name": "stdout",
     "output_type": "stream",
     "text": [
      "search: \u001b[0m\u001b[1mi\u001b[22m\u001b[0m\u001b[1mt\u001b[22m\u001b[0m\u001b[1me\u001b[22m\u001b[0m\u001b[1mr\u001b[22m\u001b[0m\u001b[1ma\u001b[22m\u001b[0m\u001b[1mt\u001b[22m\u001b[0m\u001b[1me\u001b[22m \u001b[0m\u001b[1mI\u001b[22mn\u001b[0m\u001b[1mt\u001b[22m\u001b[0m\u001b[1me\u001b[22m\u001b[0m\u001b[1mr\u001b[22m\u001b[0m\u001b[1ma\u001b[22mc\u001b[0m\u001b[1mt\u001b[22miv\u001b[0m\u001b[1me\u001b[22mUtils \u001b[0m\u001b[1mi\u001b[22msin\u001b[0m\u001b[1mt\u001b[22m\u001b[0m\u001b[1me\u001b[22m\u001b[0m\u001b[1mr\u001b[22m\u001b[0m\u001b[1ma\u001b[22mc\u001b[0m\u001b[1mt\u001b[22miv\u001b[0m\u001b[1me\u001b[22m \u001b[0m\u001b[1mI\u001b[22m\u001b[0m\u001b[1mt\u001b[22m\u001b[0m\u001b[1me\u001b[22m\u001b[0m\u001b[1mr\u001b[22m\u001b[0m\u001b[1ma\u001b[22m\u001b[0m\u001b[1mt\u001b[22mors\n",
      "\n"
     ]
    },
    {
     "data": {
      "text/latex": [
       "\\begin{verbatim}\n",
       "iterate(iter [, state]) -> Union{Nothing, Tuple{Any, Any}}\n",
       "\\end{verbatim}\n",
       "Advance the iterator to obtain the next element. If no elements remain, \\texttt{nothing} should be returned. Otherwise, a 2-tuple of the next element and the new iteration state should be returned.\n",
       "\n",
       "\\rule{\\textwidth}{1pt}\n",
       "\\begin{verbatim}\n",
       "iterate(s::AbstractString, i::Integer) -> Union{Tuple{<:AbstractChar, Int}, Nothing}\n",
       "\\end{verbatim}\n",
       "Return a tuple of the character in \\texttt{s} at index \\texttt{i} with the index of the start of the following character in \\texttt{s}. This is the key method that allows strings to be iterated, yielding a sequences of characters. If \\texttt{i} is out of bounds in \\texttt{s} then a bounds error is raised. The \\texttt{iterate} function, as part of the iteration protocol may assume that \\texttt{i} is the start of a character in \\texttt{s}.\n",
       "\n",
       "See also \\href{@ref}{\\texttt{getindex}}, \\href{@ref}{\\texttt{checkbounds}}.\n",
       "\n"
      ],
      "text/markdown": [
       "```\n",
       "iterate(iter [, state]) -> Union{Nothing, Tuple{Any, Any}}\n",
       "```\n",
       "\n",
       "Advance the iterator to obtain the next element. If no elements remain, `nothing` should be returned. Otherwise, a 2-tuple of the next element and the new iteration state should be returned.\n",
       "\n",
       "---\n",
       "\n",
       "```\n",
       "iterate(s::AbstractString, i::Integer) -> Union{Tuple{<:AbstractChar, Int}, Nothing}\n",
       "```\n",
       "\n",
       "Return a tuple of the character in `s` at index `i` with the index of the start of the following character in `s`. This is the key method that allows strings to be iterated, yielding a sequences of characters. If `i` is out of bounds in `s` then a bounds error is raised. The `iterate` function, as part of the iteration protocol may assume that `i` is the start of a character in `s`.\n",
       "\n",
       "See also [`getindex`](@ref), [`checkbounds`](@ref).\n"
      ],
      "text/plain": [
       "\u001b[36m  iterate(iter [, state]) -> Union{Nothing, Tuple{Any, Any}}\u001b[39m\n",
       "\n",
       "  Advance the iterator to obtain the next element. If no elements remain,\n",
       "  \u001b[36mnothing\u001b[39m should be returned. Otherwise, a 2-tuple of the next element and the\n",
       "  new iteration state should be returned.\n",
       "\n",
       "  ────────────────────────────────────────────────────────────────────────────\n",
       "\n",
       "\u001b[36m  iterate(s::AbstractString, i::Integer) -> Union{Tuple{<:AbstractChar, Int}, Nothing}\u001b[39m\n",
       "\n",
       "  Return a tuple of the character in \u001b[36ms\u001b[39m at index \u001b[36mi\u001b[39m with the index of the start\n",
       "  of the following character in \u001b[36ms\u001b[39m. This is the key method that allows strings\n",
       "  to be iterated, yielding a sequences of characters. If \u001b[36mi\u001b[39m is out of bounds in\n",
       "  \u001b[36ms\u001b[39m then a bounds error is raised. The \u001b[36miterate\u001b[39m function, as part of the\n",
       "  iteration protocol may assume that \u001b[36mi\u001b[39m is the start of a character in \u001b[36ms\u001b[39m.\n",
       "\n",
       "  See also \u001b[36mgetindex\u001b[39m, \u001b[36mcheckbounds\u001b[39m."
      ]
     },
     "execution_count": 24,
     "metadata": {},
     "output_type": "execute_result"
    }
   ],
   "source": [
    "?(iterate)"
   ]
  },
  {
   "cell_type": "code",
   "execution_count": 25,
   "metadata": {},
   "outputs": [
    {
     "data": {
      "text/plain": [
       "iterate (generic function with 231 methods)"
      ]
     },
     "execution_count": 25,
     "metadata": {},
     "output_type": "execute_result"
    }
   ],
   "source": [
    "function iterate(x::Vector{Person}, state::Int64)\n",
    "    if state > length(x)\n",
    "        nothing\n",
    "    else\n",
    "        x[state].name, state + 1\n",
    "    end\n",
    "end"
   ]
  },
  {
   "cell_type": "code",
   "execution_count": 26,
   "metadata": {},
   "outputs": [
    {
     "name": "stdout",
     "output_type": "stream",
     "text": [
      "emmy\n",
      "john\n"
     ]
    }
   ],
   "source": [
    "for p in people\n",
    "    println(p)\n",
    "end"
   ]
  },
  {
   "cell_type": "code",
   "execution_count": 27,
   "metadata": {},
   "outputs": [
    {
     "data": {
      "text/markdown": [
       "### emmy\n",
       "This person is in history class, and is 22 years old."
      ]
     },
     "metadata": {},
     "output_type": "display_data"
    },
    {
     "data": {
      "text/markdown": [
       "### john\n",
       "This person is in math class, and is 25 years old."
      ]
     },
     "metadata": {},
     "output_type": "display_data"
    },
    {
     "data": {
      "text/markdown": [
       "### emmy\n",
       "This person is in history class, and is 22 years old."
      ]
     },
     "metadata": {},
     "output_type": "display_data"
    },
    {
     "data": {
      "text/markdown": [
       "### emmy\n",
       "This person is in history class, and is 22 years old."
      ]
     },
     "metadata": {},
     "output_type": "display_data"
    },
    {
     "data": {
      "text/markdown": [
       "### john\n",
       "This person is in math class, and is 25 years old."
      ]
     },
     "metadata": {},
     "output_type": "display_data"
    },
    {
     "data": {
      "text/markdown": [
       "### john\n",
       "This person is in math class, and is 25 years old."
      ]
     },
     "metadata": {},
     "output_type": "display_data"
    },
    {
     "data": {
      "text/plain": [
       "2-element Vector{Person}:\n",
       " \n",
       " "
      ]
     },
     "execution_count": 27,
     "metadata": {},
     "output_type": "execute_result"
    }
   ],
   "source": [
    "people"
   ]
  },
  {
   "cell_type": "markdown",
   "metadata": {},
   "source": [
    "### push!"
   ]
  },
  {
   "cell_type": "code",
   "execution_count": 28,
   "metadata": {},
   "outputs": [
    {
     "data": {
      "text/plain": [
       "push! (generic function with 26 methods)"
      ]
     },
     "execution_count": 28,
     "metadata": {},
     "output_type": "execute_result"
    }
   ],
   "source": [
    "function push!(v::Vector{Person}, p::Person)\n",
    "    names::Vector{String} = [person for person in v]\n",
    "    push!(names, p.name)\n",
    "    if length(Set(names))!= length(names) throw(ArgumentError(\"names not unique\")) end\n",
    "    append!(v, p)\n",
    "end"
   ]
  },
  {
   "cell_type": "code",
   "execution_count": 29,
   "metadata": {},
   "outputs": [
    {
     "ename": "LoadError",
     "evalue": "ArgumentError: names not unique",
     "output_type": "error",
     "traceback": [
      "ArgumentError: names not unique",
      "",
      "Stacktrace:",
      " [1] push!(v::Vector{Person}, p::Person)",
      "   @ Main ./In[28]:4",
      " [2] top-level scope",
      "   @ In[29]:1",
      " [3] eval",
      "   @ ./boot.jl:373 [inlined]",
      " [4] include_string(mapexpr::typeof(REPL.softscope), mod::Module, code::String, filename::String)",
      "   @ Base ./loading.jl:1196"
     ]
    }
   ],
   "source": [
    "push!(people, Person(\"emmy\", 22, :math))"
   ]
  },
  {
   "cell_type": "markdown",
   "metadata": {},
   "source": [
    "### +"
   ]
  },
  {
   "cell_type": "code",
   "execution_count": 31,
   "metadata": {},
   "outputs": [
    {
     "data": {
      "text/plain": [
       "+ (generic function with 209 methods)"
      ]
     },
     "execution_count": 31,
     "metadata": {},
     "output_type": "execute_result"
    }
   ],
   "source": [
    "+(p1::Person, p2::Person) = p1.age + p2.age"
   ]
  },
  {
   "cell_type": "code",
   "execution_count": 32,
   "metadata": {},
   "outputs": [
    {
     "data": {
      "text/plain": [
       "47"
      ]
     },
     "execution_count": 32,
     "metadata": {},
     "output_type": "execute_result"
    }
   ],
   "source": [
    "people[1] + people[2]"
   ]
  },
  {
   "cell_type": "code",
   "execution_count": null,
   "metadata": {},
   "outputs": [],
   "source": []
  }
 ],
 "metadata": {
  "kernelspec": {
   "display_name": "Julia 1.7.2",
   "language": "julia",
   "name": "julia-1.7"
  },
  "language_info": {
   "file_extension": ".jl",
   "mimetype": "application/julia",
   "name": "julia",
   "version": "1.7.2"
  }
 },
 "nbformat": 4,
 "nbformat_minor": 4
}
