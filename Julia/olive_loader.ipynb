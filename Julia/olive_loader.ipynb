{
 "cells": [
  {
   "cell_type": "code",
   "execution_count": 1,
   "metadata": {},
   "outputs": [],
   "source": [
    "using Toolips"
   ]
  },
  {
   "cell_type": "code",
   "execution_count": 2,
   "metadata": {},
   "outputs": [
    {
     "ename": "ErrorException",
     "evalue": "type Animation has no field tag",
     "output_type": "error",
     "traceback": [
      "type Animation has no field tag",
      "",
      "Stacktrace:",
      "  [1] getproperty",
      "    @ ./Base.jl:42 [inlined]",
      "  [2] show(io::IOContext{IOBuffer}, c::Animation)",
      "    @ Toolips ~/.julia/packages/Toolips/OwyUY/src/interface/Components.jl:1267",
      "  [3] show(io::IOContext{IOBuffer}, #unused#::MIME{Symbol(\"text/plain\")}, x::Animation)",
      "    @ Base.Multimedia ./multimedia.jl:47",
      "  [4] limitstringmime(mime::MIME{Symbol(\"text/plain\")}, x::Animation)",
      "    @ IJulia ~/.julia/packages/IJulia/AQu2H/src/inline.jl:43",
      "  [5] display_mimestring(m::MIME{Symbol(\"text/plain\")}, x::Animation)",
      "    @ IJulia ~/.julia/packages/IJulia/AQu2H/src/display.jl:71",
      "  [6] display_dict(x::Animation)",
      "    @ IJulia ~/.julia/packages/IJulia/AQu2H/src/display.jl:102",
      "  [7] #invokelatest#2",
      "    @ ./essentials.jl:716 [inlined]",
      "  [8] invokelatest",
      "    @ ./essentials.jl:714 [inlined]",
      "  [9] execute_request(socket::ZMQ.Socket, msg::IJulia.Msg)",
      "    @ IJulia ~/.julia/packages/IJulia/AQu2H/src/execute_request.jl:112",
      " [10] #invokelatest#2",
      "    @ ./essentials.jl:716 [inlined]",
      " [11] invokelatest",
      "    @ ./essentials.jl:714 [inlined]",
      " [12] eventloop(socket::ZMQ.Socket)",
      "    @ IJulia ~/.julia/packages/IJulia/AQu2H/src/eventloop.jl:8",
      " [13] (::IJulia.var\"#15#18\")()",
      "    @ IJulia ./task.jl:423"
     ]
    }
   ],
   "source": [
    "load = Animation(\"loadme\", delay = 0.0, length = 1.0, iterations = 0)"
   ]
  },
  {
   "cell_type": "code",
   "execution_count": 3,
   "metadata": {},
   "outputs": [
    {
     "name": "stdout",
     "output_type": "stream",
     "text": [
      "search: \u001b[0m\u001b[1mA\u001b[22m\u001b[0m\u001b[1mn\u001b[22m\u001b[0m\u001b[1mi\u001b[22m\u001b[0m\u001b[1mm\u001b[22m\u001b[0m\u001b[1ma\u001b[22m\u001b[0m\u001b[1mt\u001b[22m\u001b[0m\u001b[1mi\u001b[22m\u001b[0m\u001b[1mo\u001b[22m\u001b[0m\u001b[1mn\u001b[22m\n",
      "\n"
     ]
    },
    {
     "data": {
      "text/latex": [
       "\\subsubsection{Animation}\n",
       "\\begin{itemize}\n",
       "\\item name::String\n",
       "\n",
       "\n",
       "\\item properties::Dict\n",
       "\n",
       "\n",
       "\\item f::Function\n",
       "\n",
       "\n",
       "\\item delay::Float64\n",
       "\n",
       "\n",
       "\\item length::Float64\n",
       "\n",
       "\n",
       "\\item iterations::Integer\n",
       "\n",
       "\\end{itemize}\n",
       "An animation can be used to animate Styles with the animate! method. Animating is done by indexing by either percentage, or symbols, such as from and to.\n",
       "\n",
       "\\subparagraph{example}\n",
       "\\begin{verbatim}\n",
       "anim = Animation(\"myanim\")\n",
       "anim[:from] = \"opacity\" => \"0%\"\n",
       "anim[:to] = \"opacity\" => \"100%\"\n",
       "style = Style(\"example\")\n",
       "animate!(style, anim)\n",
       "\\end{verbatim}\n",
       "\\rule{\\textwidth}{1pt}\n",
       "\\subparagraph{field info}\n",
       "\\begin{itemize}\n",
       "\\item name::String - The name of the animation.\n",
       "\n",
       "\n",
       "\\item properties::Dict - The properties that have been pushed so far.\n",
       "\n",
       "\n",
       "\\item f::Function - The function called when writing to a Connection.\n",
       "\n",
       "\n",
       "\\item delay::Float64 - The delay before the animation begins.\n",
       "\n",
       "\n",
       "\\item length::Float64 - The amount of time the animation should play.\n",
       "\n",
       "\n",
       "\\item iterations::Integer - The number of times the animation should repeat. When\n",
       "\n",
       "\\end{itemize}\n",
       "\\subsection{set to 0 the animation will loop indefinitely.}\n",
       "\\subparagraph{constructors}\n",
       "Animation(name::String = \"animation\", delay::Float64 = 0.0,         length::Float64 = 5.2, iterations::Integer = 1)\n",
       "\n"
      ],
      "text/markdown": [
       "### Animation\n",
       "\n",
       "  * name::String\n",
       "  * properties::Dict\n",
       "  * f::Function\n",
       "  * delay::Float64\n",
       "  * length::Float64\n",
       "  * iterations::Integer\n",
       "\n",
       "An animation can be used to animate Styles with the animate! method. Animating is done by indexing by either percentage, or symbols, such as from and to.\n",
       "\n",
       "##### example\n",
       "\n",
       "```\n",
       "anim = Animation(\"myanim\")\n",
       "anim[:from] = \"opacity\" => \"0%\"\n",
       "anim[:to] = \"opacity\" => \"100%\"\n",
       "style = Style(\"example\")\n",
       "animate!(style, anim)\n",
       "```\n",
       "\n",
       "---\n",
       "\n",
       "##### field info\n",
       "\n",
       "  * name::String - The name of the animation.\n",
       "  * properties::Dict - The properties that have been pushed so far.\n",
       "  * f::Function - The function called when writing to a Connection.\n",
       "  * delay::Float64 - The delay before the animation begins.\n",
       "  * length::Float64 - The amount of time the animation should play.\n",
       "  * iterations::Integer - The number of times the animation should repeat. When\n",
       "\n",
       "## set to 0 the animation will loop indefinitely.\n",
       "\n",
       "##### constructors\n",
       "\n",
       "Animation(name::String = \"animation\", delay::Float64 = 0.0,         length::Float64 = 5.2, iterations::Integer = 1)\n"
      ],
      "text/plain": [
       "\u001b[1m  Animation\u001b[22m\n",
       "\u001b[1m  –––––––––––\u001b[22m\n",
       "\n",
       "    •  name::String\n",
       "\n",
       "    •  properties::Dict\n",
       "\n",
       "    •  f::Function\n",
       "\n",
       "    •  delay::Float64\n",
       "\n",
       "    •  length::Float64\n",
       "\n",
       "    •  iterations::Integer\n",
       "\n",
       "  An animation can be used to animate Styles with the animate! method.\n",
       "  Animating is done by indexing by either percentage, or symbols, such as from\n",
       "  and to.\n",
       "\n",
       "\u001b[1m  example\u001b[22m\n",
       "\u001b[1m  ⋅⋅⋅⋅⋅⋅⋅⋅⋅\u001b[22m\n",
       "\n",
       "\u001b[36m  anim = Animation(\"myanim\")\u001b[39m\n",
       "\u001b[36m  anim[:from] = \"opacity\" => \"0%\"\u001b[39m\n",
       "\u001b[36m  anim[:to] = \"opacity\" => \"100%\"\u001b[39m\n",
       "\u001b[36m  style = Style(\"example\")\u001b[39m\n",
       "\u001b[36m  animate!(style, anim)\u001b[39m\n",
       "\n",
       "  ────────────────────────────────────────────────────────────────────────────\n",
       "\n",
       "\u001b[1m  field info\u001b[22m\n",
       "\u001b[1m  ⋅⋅⋅⋅⋅⋅⋅⋅⋅⋅⋅⋅\u001b[22m\n",
       "\n",
       "    •  name::String - The name of the animation.\n",
       "\n",
       "    •  properties::Dict - The properties that have been pushed so far.\n",
       "\n",
       "    •  f::Function - The function called when writing to a Connection.\n",
       "\n",
       "    •  delay::Float64 - The delay before the animation begins.\n",
       "\n",
       "    •  length::Float64 - The amount of time the animation should play.\n",
       "\n",
       "    •  iterations::Integer - The number of times the animation should\n",
       "       repeat. When\n",
       "\n",
       "\u001b[1m  set to 0 the animation will loop indefinitely.\u001b[22m\n",
       "\u001b[1m  ================================================\u001b[22m\n",
       "\n",
       "\u001b[1m  constructors\u001b[22m\n",
       "\u001b[1m  ⋅⋅⋅⋅⋅⋅⋅⋅⋅⋅⋅⋅⋅⋅\u001b[22m\n",
       "\n",
       "  Animation(name::String = \"animation\", delay::Float64 = 0.0, length::Float64\n",
       "  = 5.2, iterations::Integer = 1)"
      ]
     },
     "execution_count": 3,
     "metadata": {},
     "output_type": "execute_result"
    }
   ],
   "source": [
    "?Animation"
   ]
  },
  {
   "cell_type": "code",
   "execution_count": 4,
   "metadata": {},
   "outputs": [
    {
     "ename": "ErrorException",
     "evalue": "type Animation has no field tag",
     "output_type": "error",
     "traceback": [
      "type Animation has no field tag",
      "",
      "Stacktrace:",
      "  [1] getproperty",
      "    @ ./Base.jl:42 [inlined]",
      "  [2] show(io::IOContext{IOBuffer}, c::Animation)",
      "    @ Toolips ~/.julia/packages/Toolips/OwyUY/src/interface/Components.jl:1267",
      "  [3] sprint(f::Function, args::Animation; context::IOContext{IOBuffer}, sizehint::Int64)",
      "    @ Base ./strings/io.jl:112",
      "  [4] alignment(io::IOContext{IOBuffer}, x::Animation)",
      "    @ Base ./show.jl:2730",
      "  [5] alignment(io::IOContext{IOBuffer}, X::AbstractVecOrMat, rows::Vector{Int64}, cols::Vector{Int64}, cols_if_complete::Int64, cols_otherwise::Int64, sep::Int64)",
      "    @ Base ./arrayshow.jl:68",
      "  [6] _print_matrix(io::IOContext{IOBuffer}, X::AbstractVecOrMat, pre::String, sep::String, post::String, hdots::String, vdots::String, ddots::String, hmod::Int64, vmod::Int64, rowsA::UnitRange{Int64}, colsA::UnitRange{Int64})",
      "    @ Base ./arrayshow.jl:204",
      "  [7] print_matrix(io::IOContext{IOBuffer}, X::Vector{Servable}, pre::String, sep::String, post::String, hdots::String, vdots::String, ddots::String, hmod::Int64, vmod::Int64) (repeats 2 times)",
      "    @ Base ./arrayshow.jl:169",
      "  [8] print_array",
      "    @ ./arrayshow.jl:355 [inlined]",
      "  [9] show(io::IOContext{IOBuffer}, #unused#::MIME{Symbol(\"text/plain\")}, X::Vector{Servable})",
      "    @ Base ./arrayshow.jl:396",
      " [10] limitstringmime(mime::MIME{Symbol(\"text/plain\")}, x::Vector{Servable})",
      "    @ IJulia ~/.julia/packages/IJulia/AQu2H/src/inline.jl:43",
      " [11] display_mimestring",
      "    @ ~/.julia/packages/IJulia/AQu2H/src/display.jl:71 [inlined]",
      " [12] display_dict(x::Vector{Servable})",
      "    @ IJulia ~/.julia/packages/IJulia/AQu2H/src/display.jl:102",
      " [13] #invokelatest#2",
      "    @ ./essentials.jl:716 [inlined]",
      " [14] invokelatest",
      "    @ ./essentials.jl:714 [inlined]",
      " [15] execute_request(socket::ZMQ.Socket, msg::IJulia.Msg)",
      "    @ IJulia ~/.julia/packages/IJulia/AQu2H/src/execute_request.jl:112",
      " [16] #invokelatest#2",
      "    @ ./essentials.jl:716 [inlined]",
      " [17] invokelatest",
      "    @ ./essentials.jl:714 [inlined]",
      " [18] eventloop(socket::ZMQ.Socket)",
      "    @ IJulia ~/.julia/packages/IJulia/AQu2H/src/eventloop.jl:8",
      " [19] (::IJulia.var\"#15#18\")()",
      "    @ IJulia ./task.jl:423"
     ]
    }
   ],
   "source": [
    "load[:to] = \"transform\" => \"rotate(360deg)\"\n",
    "mys = Style(\"img.loadbar\")\n",
    "animate!(mys, load)"
   ]
  },
  {
   "cell_type": "code",
   "execution_count": 5,
   "metadata": {},
   "outputs": [
    {
     "data": {
      "text/plain": []
     },
     "execution_count": 5,
     "metadata": {},
     "output_type": "execute_result"
    },
    {
     "name": "stdout",
     "output_type": "stream",
     "text": [
      "#### Toolips.SpoofConnection\n",
      "routes\n",
      "\n",
      "extensions\n",
      "\n"
     ]
    }
   ],
   "source": [
    "mycon = Toolips.SpoofConnection()"
   ]
  },
  {
   "cell_type": "code",
   "execution_count": 6,
   "metadata": {},
   "outputs": [],
   "source": [
    "write!(mycon, mys)"
   ]
  },
  {
   "cell_type": "code",
   "execution_count": 7,
   "metadata": {},
   "outputs": [
    {
     "data": {
      "text/plain": [
       "\"<style id=img.loadbar>img.loadbar { animation-name: loadme; animation-duration: 1.0s; animation-iteration-count: infinite; }</style><style id=loadme> @keyframes loadme {to {transform: rotate(360deg); }}</style>\""
      ]
     },
     "execution_count": 7,
     "metadata": {},
     "output_type": "execute_result"
    }
   ],
   "source": [
    "mycon.http.text"
   ]
  },
  {
   "cell_type": "code",
   "execution_count": 8,
   "metadata": {},
   "outputs": [
    {
     "data": {
      "text/plain": [
       "olive_loadicon (generic function with 1 method)"
      ]
     },
     "execution_count": 8,
     "metadata": {},
     "output_type": "execute_result"
    }
   ],
   "source": [
    "function olive_loadicon()\n",
    "    iconb64 = \"\"\"data:image/png;base64,iVBORw0KGgoAAAANSUhEUgAAAEAAAABACAYAAACqaXHeAAAMS0lEQVR4Xu1af2xVVx0/575Xyq8QWcuMi3GSqRsaZWMDW6bESqKZCduEtqyIkOgMGUzFBZYsLvpk4iJjhEzHUmwZZayNOJwMR4HBIDEOnP/rZlzmlDDd2HRkW3+8d+/x++N8zzn3vZb32tcOEnqT9t1377nnnO/n+/l+vt9z7tPqMj/0ZW6/mgBgggGXOQITIXCZE2BCBD+QEDjRtrVe1ajrIpX5lDHxtVrpa7RWtcg+rQ38T9ATAyZSr2RM/HIS6b/l+/pfaurJnRtvho4bAGCWPvHN7QvAsmWRUnPQSH8YBdfgFrbCq3APL+BHxIAovKfUX3Sc7F+45/4XxwuIMQcgp3LRzW0zF0ZZ1RopM1uCjAdKwE4yjA4PAHyJ2OiMbcctuK0x5tXI6F8f6Ro8Bf2HSFaNy5gBgL58fuWjjdrEK0xkrsaZoVMVUdw62nqWrtuLBAIYT/Zb7/tJCVhsc6T1a4nJdzc+njsFbTySVcAwJgAcuuWR2tor9AYT6QbnWTHWjiAMEM8yCAY0AD+tgQQAfydgPE62DYQOtjfq9BX/fmPrJ3t/MVCF7YFjqujlWNv2Dytdcx94+hoxjkAgC5nWOGkPgDeMdMCKINIlSgAQogKD48HAhnxN2AOPvVKI4k0LO3NvVzH96tLgcy3tHzM1hZ9E2tSnJ+EN8UZKCwuK2GQBiMgyeM4LoJ+cLtYOaEpsMW/GBbOpcXfuH6MFYdQhcHhl+0d0kt8aqWhGSGM3EZggG4NaIFQXVvA1DgHOAKwBMbX39Kf0yAcA5bxPF1g7QCDP1xi9cd6u3NnRgDAqAA5945EZGTPpITDiKjc/oXI4CwsCGVsUBs6YIAQyCgEItQ0AgOdSmcPphAdTJ+ZsPKA3NjyZOz9SEEYMAKa5hrYr79daz2fvyoEeR08FWQpuojcjoXUJCF4EMQR0AICwh8YIM0kglGE2SUzy4oKOTQ+MOwCH79ixQkdRGw/E3vLURE8XpWliAbaB62CIN8wWQzqG4kemHafon3GFkoioLZI86p4dyBSju+Z15J4aCQgjYsCJtvb6vNKPGp1M9YP42CQC0KRDFrDRw4UBZQGsA1ICyNT3qo+iKiOKrtBg1CZIse/rQuHueY8/+GalIIwIgMNt7fcC9b/InadLWxnQlbjkcXu1RAskE4QhgIawCEod4NMng+TGoFAyTi1SNUai/nBj5wNbxhyAY1//ZV1+yqROGIyrVXuEsRoKGCu/nzRpARrhwsCGQAZCwFaBAgA+J8LHlaIHnAoha/pQtQVkBeiw/86bdj5c0UKqYgb0tnWs1sY0OyMtJdMVnp+cM8CBwDSOwMtMb5gnshjTGyAgAih1gPO+LY9TYhtUj+yHdFUMBdVTN3Ru7qqEBRUBsK9lX2Z65p090OEMT3U7KKm3HOkqjtcCKGz2oFAAw4nCNu7hPiIhKZCuI0voYQkJzARSHwwdethaQDJGnX/n79nVTSdzhXIgVATAs60di2AGG8meIPalnqdBApHynYpA+nDQUOz48IDVH2UBBkaYQepPfSIY3sNhBgkNC5KCYwNU1Ztv7Nh8ekwA+P3yzvUwucXSGc7JWCBKjHWh4db0du0P3qR8iEteNNYufzMIErKE/8jTQnun8sXrA4tPYF1KFGEOwILjN+zcvH1sAGjd1QkAXJnqzBUngTpTA7v8TaUtvobeJhYBCzL0PH7CH5XAyBI8t7me1NaeB/2myGZTIPVOoRiGhz5zffvP7qoaAIj/KdOid/cN21FAUTJOJgGG+ALJs4FAsJQn4y0A6P0MsIHEkTIFHv45b3hwL839kin+d+D1lqbdu/svBEJZDeht6bwW9ui2lkNSipKwHQsdekc2RZgBFAKQ/jK6oGrgU6uCyiIwmBKLVoROZ0o8XHZGyLQNcx/b8nJVABxo7WyKdOYe3wkbFf6/EDt4Zec3PBgUrPQSlc0MAgB5MB7qSxA8DhEGiVKk2x+8gAkhAw2rE4opQZ4k267fueVEVQA8s7zrFjBiLXfCAwx3MDA0crBIClpTKuMQqIHPbGZA1Wb74DMPxuepb6cBJYPIuLCnDCHiv/kZFdNZx2bH5371896qADjY0tUM29Wri80PoUify+RgokOCJeAYYsDMqf8BFhTSK8GygVme/tTCJF1z27dccHFUdqgQgAqH9c1ElB01/HAY7YWkVv2vb5YqFCah72kn8MKH5xi3ExUM1d9fAxd0rTs6vzoAnmnedRvI851+YjBJqDJS34vnVWSFvAWgacKjVAmYjCrEk9RgPA3+JtF3kwBnKI7ZiHAlMWLwaSi947tH51cZAnfsXWxMsj6VYksMDL1hb4IhZICLDzaKVvxgbBxnMfEBCLVgPJwnoArwjElI/mxgw/ei52Xo8myBseJk2/ePN1QnggdanoBXWcamwXBzKmUdG0vEIKULtFISGdV5cB2NhHMAIUmyqmDA+7jAjAEM/BTgAAjJ+GJ0yI7hGCHA0Kh5vWHtifnVpUEohKbXqsGe9IA+VlPR4Br5CsWVLaCkdA5IocdpowyMjE0NRBTGP5wndhVA3zEG/KLYdR2ADOVucBRXRVq9MfheS+5kU3WFEI5woHnvY+DWj9JoxRKQQmYIw5EMYDzTAjyPFAcvo9cNGAzZn+KevgML/CsRAIj4Xx4ISTa+9gT4jDqz9rnG6kthHP/p5r3rI6UXF+32WdOL12K+iLXlDC5MbGECuoBix6UQhUICDEBmoC5Q4UugSAL1eiCMoEVxGdG1YXZ87bGGsVkM/a65ZyGs/u7zzi4twsN45bBIxzAZKxpAKQ89i9kAjcVNJgiB2LLErh+pG8ceV0/SSbE+pEOEmjy47ujCF1IEHeJLucRLj+S+lMvOrftEFxTwbkOE5jZE3qZtDolTVwewugulOedbAGwI4FcURupXwCImWLBtOIRrT+PSTIll5+uOnFnVqlr9jsowSFQEAD7722Xdq2FDFLbEhqvv2Ouc5yV2+ZxrP05tribAnE+hwBrAAEA7uM5jcJgw0H5diX2k94TkmdBCs++uIzc/Uc77eL9iALqXdNdPro064JnUpqhPf+B5twpB7/o45gl7AJLQSAoBBoiMdsIn+0Jul3DINGuXWT4s4P18nM9+++7jn39rTAHAzvYv7b4XXorQtnhqG0RELvC838ELCxu/2KX7MTOAvYxCiP1afB2A/icTnPU4i4RHUVicBO8/XInxI2IANoaaYBb8hqddm0xNWOWVFCzkYbSKX4rx+tTndGEE6YLNAAwCG+hZkA4F3wbPsGjyZjIT9fu6f/K6NSdvqmhLfMQA4AP7l/Yshx9CrBRPlCyOredc3LtZh96Hi67ocfvDZE8SqD7rAWuAC6MAKBfBdhIAV9d3eheN36sxnAy+HP3M0jk/hH2rBcVUJFpTLS/rJaFqkffJML6GdQEbaY21AKQWQkFFWCKA9DQyzPz5bO/zPx3pb4gqFkFPNqX2fGXPtMnTJ2+DrOBej0uZy9ZYBQ8WMqk3eAIAxTyuHTB1irftdooTQzZQhJLAdZOxvzIw5uyU+EP3rDo6971wnpWcjwoA7Ljn1p6rMtnMQ9poqg3kHfBQ3uf71lgrHpLaWAOgzgz6YDEMp8ZriDA1Sp8A3HkIlQ1rjix6vRKDi9uMGgAC4faej2d19kcQDrO4KOE6gL1qrQ4qQh/H4DlxI63+fNXolB7rBxGYIKWyAY4t5+LB7I/XHPvCP0djvO9ptE/DcweXHKzvzw7kwDtXMz0lA1hAQu/L5C1YXOpKnk+VF25tkJqaCCeOA78dTPr0pjUnmypW/KHMrIoB0mH7koNTZ2bzPwDvN6SpKwVO0e6OFUqiOr0PC8pnAoyZlALU5V26d/pd1bf1e71fu/g/kwtQ1T23/aYximpWwCtqYINshDDRnHAFqc0ZaJXfp1SbNYq0QKvoNei7+1vPfvkU9FmSgUdD5DFhQDgwpsk5t362MdaZ5VpHs9lIe0iBJCkQfe9CQPYMuG0qRQLdYcNg378O//GFkaa5cqCMOQDhgE/e/vSCjMoui5X5tOUzsSHFDieCzBR3YCpN1F9h3bh/1aGv/qmcIaO9P64AyKS6QSjh/Dp4YzBbRZn6ODF18LvfOhDAOtQAIPPbsAQ+B6/g3oKECKKmX+1T/S+tObikKoGrBJQPBIBKJnKx2kwAcLGQv1TGnWDApeKJizWPCQZcLOQvlXEvewb8H3Q/FIx7ey30AAAAAElFTkSuQmCC\"\"\"\n",
    "    myimg = img(\"olive-loader\", src = iconb64)\n",
    "    style!(myimg, mys)\n",
    "    myimg\n",
    "end"
   ]
  },
  {
   "cell_type": "code",
   "execution_count": 9,
   "metadata": {},
   "outputs": [],
   "source": [
    "import Base: show, display\n",
    "display(io::IO, m::MIME\"text/html\", s::Servable) = show(io, m, s)\n",
    "\n",
    "show(io::IO, m::MIME\"text/html\", s::Servable) = begin\n",
    "    sc = Toolips.SpoofConnection()\n",
    "    write!(sc, s)\n",
    "    show(io, m(), sc.http.text)\n",
    "end\n",
    "\n",
    "\n",
    "show(m::MIME\"text/html\", s::Component{:img}) = begin\n",
    "    sc = Toolips.SpoofConnection()\n",
    "    write!(sc, s)\n",
    "    show(m, sc.http.text)\n",
    "end"
   ]
  },
  {
   "cell_type": "code",
   "execution_count": 10,
   "metadata": {},
   "outputs": [
    {
     "data": {
      "text/plain": []
     },
     "execution_count": 10,
     "metadata": {},
     "output_type": "execute_result"
    },
    {
     "name": "stdout",
     "output_type": "stream",
     "text": [
      "olive-loader (img)\n",
      "src = data:image/png;base64,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 = Servable[]class = loadbar\n",
      "children \n",
      "\n"
     ]
    }
   ],
   "source": [
    "olive_loadicon()"
   ]
  },
  {
   "cell_type": "code",
   "execution_count": 11,
   "metadata": {},
   "outputs": [
    {
     "data": {
      "text/html": [
       "<img id=olive-loader src=data:image/png;base64,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 class=loadbar></img><style id=img.loadbar>img.loadbar { animation-name: loadme; animation-duration: 1.0s; animation-iteration-count: infinite; }</style><style id=loadme> @keyframes loadme {to {transform: rotate(360deg); }}</style>"
      ]
     },
     "metadata": {},
     "output_type": "display_data"
    }
   ],
   "source": [
    "display(\"text/html\", olive_loadicon())"
   ]
  },
  {
   "cell_type": "code",
   "execution_count": null,
   "metadata": {},
   "outputs": [],
   "source": []
  },
  {
   "cell_type": "code",
   "execution_count": null,
   "metadata": {},
   "outputs": [],
   "source": []
  },
  {
   "cell_type": "code",
   "execution_count": null,
   "metadata": {},
   "outputs": [],
   "source": []
  },
  {
   "cell_type": "code",
   "execution_count": null,
   "metadata": {},
   "outputs": [],
   "source": []
  }
 ],
 "metadata": {
  "kernelspec": {
   "display_name": "Julia 1.7.2",
   "language": "julia",
   "name": "julia-1.7"
  },
  "language_info": {
   "file_extension": ".jl",
   "mimetype": "application/julia",
   "name": "julia",
   "version": "1.7.2"
  }
 },
 "nbformat": 4,
 "nbformat_minor": 4
}
