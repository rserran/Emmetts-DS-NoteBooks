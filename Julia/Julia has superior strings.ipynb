{
 "cells": [
  {
   "cell_type": "code",
   "execution_count": 2,
   "metadata": {},
   "outputs": [
    {
     "data": {
      "text/plain": [
       "\"Hello\""
      ]
     },
     "execution_count": 2,
     "metadata": {},
     "output_type": "execute_result"
    }
   ],
   "source": [
    "str = \"Hello\""
   ]
  },
  {
   "cell_type": "code",
   "execution_count": 3,
   "metadata": {},
   "outputs": [
    {
     "data": {
      "text/plain": [
       "\"I'm\\nA mult-line string\""
      ]
     },
     "execution_count": 3,
     "metadata": {},
     "output_type": "execute_result"
    }
   ],
   "source": [
    "mlstr = \"\"\"I'm\n",
    "A mult-line string\"\"\""
   ]
  },
  {
   "cell_type": "code",
   "execution_count": 4,
   "metadata": {},
   "outputs": [
    {
     "data": {
      "text/plain": [
       "\"I think x = 5\""
      ]
     },
     "execution_count": 4,
     "metadata": {},
     "output_type": "execute_result"
    }
   ],
   "source": [
    "x = 5\n",
    "\"I think x = $x\""
   ]
  },
  {
   "cell_type": "code",
   "execution_count": 5,
   "metadata": {},
   "outputs": [
    {
     "data": {
      "text/plain": [
       "@px_str (macro with 1 method)"
      ]
     },
     "execution_count": 5,
     "metadata": {},
     "output_type": "execute_result"
    }
   ],
   "source": [
    "macro px_str(s::String)\n",
    "    \"\"\"$s px\"\"\"\n",
    "end"
   ]
  },
  {
   "cell_type": "code",
   "execution_count": 6,
   "metadata": {},
   "outputs": [
    {
     "data": {
      "text/plain": [
       "\"55 px\""
      ]
     },
     "execution_count": 6,
     "metadata": {},
     "output_type": "execute_result"
    }
   ],
   "source": [
    "px\"55\""
   ]
  },
  {
   "cell_type": "code",
   "execution_count": 10,
   "metadata": {},
   "outputs": [
    {
     "data": {
      "text/plain": [
       "2-element Vector{String}:\n",
       " \"hello \"\n",
       " \"world!\""
      ]
     },
     "execution_count": 10,
     "metadata": {},
     "output_type": "execute_result"
    }
   ],
   "source": [
    "vcat(\"hello \", \"world!\")"
   ]
  },
  {
   "cell_type": "code",
   "execution_count": 12,
   "metadata": {},
   "outputs": [
    {
     "data": {
      "text/plain": [
       "\"hello world!\""
      ]
     },
     "execution_count": 12,
     "metadata": {},
     "output_type": "execute_result"
    }
   ],
   "source": [
    "join([\"hello \", \"world!\"])"
   ]
  },
  {
   "cell_type": "code",
   "execution_count": 23,
   "metadata": {},
   "outputs": [
    {
     "data": {
      "text/plain": [
       "\"hworld!eworld!lworld!lworld!oworld! \""
      ]
     },
     "execution_count": 23,
     "metadata": {},
     "output_type": "execute_result"
    }
   ],
   "source": [
    "join(\"hello \", \"world!\")"
   ]
  },
  {
   "cell_type": "code",
   "execution_count": 15,
   "metadata": {},
   "outputs": [
    {
     "data": {
      "text/plain": [
       "\"hello world!\""
      ]
     },
     "execution_count": 15,
     "metadata": {},
     "output_type": "execute_result"
    }
   ],
   "source": [
    "\"hello \" * \"world!\""
   ]
  },
  {
   "cell_type": "code",
   "execution_count": 16,
   "metadata": {},
   "outputs": [
    {
     "data": {
      "text/plain": [
       "true"
      ]
     },
     "execution_count": 16,
     "metadata": {},
     "output_type": "execute_result"
    }
   ],
   "source": [
    "contains(\"hello\", \"h\")"
   ]
  },
  {
   "cell_type": "code",
   "execution_count": 17,
   "metadata": {},
   "outputs": [
    {
     "data": {
      "text/plain": [
       "3-element Vector{SubString{String}}:\n",
       " \"x\"\n",
       " \"x\"\n",
       " \"x\""
      ]
     },
     "execution_count": 17,
     "metadata": {},
     "output_type": "execute_result"
    }
   ],
   "source": [
    "split(\"xyxyx\", \"y\")"
   ]
  },
  {
   "cell_type": "code",
   "execution_count": 19,
   "metadata": {},
   "outputs": [
    {
     "data": {
      "text/plain": [
       "\"hewwo\""
      ]
     },
     "execution_count": 19,
     "metadata": {},
     "output_type": "execute_result"
    }
   ],
   "source": [
    "replace(\"hello\", \"l\" => \"w\")"
   ]
  },
  {
   "cell_type": "code",
   "execution_count": 20,
   "metadata": {},
   "outputs": [
    {
     "data": {
      "text/plain": [
       "3:3"
      ]
     },
     "execution_count": 20,
     "metadata": {},
     "output_type": "execute_result"
    }
   ],
   "source": [
    "findnext(\"[\", \"[][]\", 2)"
   ]
  },
  {
   "cell_type": "code",
   "execution_count": 22,
   "metadata": {},
   "outputs": [
    {
     "data": {
      "text/plain": [
       "2-element Vector{UnitRange{Int64}}:\n",
       " 1:1\n",
       " 8:8"
      ]
     },
     "execution_count": 22,
     "metadata": {},
     "output_type": "execute_result"
    }
   ],
   "source": [
    "findall(\"h\", \"hello, how are you? I am well, and you? I am well, as well.\")"
   ]
  },
  {
   "cell_type": "code",
   "execution_count": 7,
   "metadata": {},
   "outputs": [
    {
     "data": {
      "text/html": [
       "# 20 methods for generic function <b>string</b>:<ul><li> string() in Base at <a href=\"https://github.com/JuliaLang/julia/tree/bf534986350a991e4a1b29126de0342ffd76205e/base/strings/basic.jl#L221\" target=\"_blank\">strings/basic.jl:221</a></li> <li> string(x::<b>T</b>)<i> where T<:Union{Float16, Float32, Float64}</i> in Base.Ryu at <a href=\"https://github.com/JuliaLang/julia/tree/bf534986350a991e4a1b29126de0342ffd76205e/base/ryu/Ryu.jl#L121\" target=\"_blank\">ryu/Ryu.jl:121</a></li> <li> string(f::<b>Printf.Spec{T}</b>; <i>modifier</i>)<i> where T</i> in Printf at <a href=\"file:///buildworker/worker/package_linux64/build/usr/share/julia/stdlib/v1.7/Printf/src/Printf.jl\" target=\"_blank\">/opt/julia-1.6.3/julia-1.6.3/share/julia/stdlib/v1.7/Printf/src/Printf.jl:36</a></li> <li> string(t::<b>Dates.Time</b>) in Dates at <a href=\"file:///buildworker/worker/package_linux64/build/usr/share/julia/stdlib/v1.7/Dates/src/io.jl\" target=\"_blank\">/opt/julia-1.6.3/julia-1.6.3/share/julia/stdlib/v1.7/Dates/src/io.jl:44</a></li> <li> string(id::<b>LibGit2.GitShortHash</b>) in LibGit2 at <a href=\"file:///buildworker/worker/package_linux64/build/usr/share/julia/stdlib/v1.7/LibGit2/src/oid.jl\" target=\"_blank\">/opt/julia-1.6.3/julia-1.6.3/share/julia/stdlib/v1.7/LibGit2/src/oid.jl:181</a></li> <li> string(b::<b>BigFloat</b>) in Base.MPFR at <a href=\"https://github.com/JuliaLang/julia/tree/bf534986350a991e4a1b29126de0342ffd76205e/base/mpfr.jl#L1013\" target=\"_blank\">mpfr.jl:1013</a></li> <li> string(x::<b>Dates.CompoundPeriod</b>) in Dates at <a href=\"file:///buildworker/worker/package_linux64/build/usr/share/julia/stdlib/v1.7/Dates/src/periods.jl\" target=\"_blank\">/opt/julia-1.6.3/julia-1.6.3/share/julia/stdlib/v1.7/Dates/src/periods.jl:347</a></li> <li> string(b::<b>Bool</b>) in Base at <a href=\"https://github.com/JuliaLang/julia/tree/bf534986350a991e4a1b29126de0342ffd76205e/base/intfuncs.jl#L790\" target=\"_blank\">intfuncs.jl:790</a></li> <li> string(a::<b>SubString{String}</b>) in Base at <a href=\"https://github.com/JuliaLang/julia/tree/bf534986350a991e4a1b29126de0342ffd76205e/base/strings/substring.jl#L178\" target=\"_blank\">strings/substring.jl:178</a></li> <li> string(mode::<b>Pkg.GitTools.GitMode</b>) in Pkg.GitTools at <a href=\"file:///buildworker/worker/package_linux64/build/usr/share/julia/stdlib/v1.7/Pkg/src/GitTools.jl\" target=\"_blank\">/opt/julia-1.6.3/julia-1.6.3/share/julia/stdlib/v1.7/Pkg/src/GitTools.jl:183</a></li> <li> string(n::<b>BigInt</b>; <i>base, pad</i>) in Base.GMP at <a href=\"https://github.com/JuliaLang/julia/tree/bf534986350a991e4a1b29126de0342ffd76205e/base/gmp.jl#L685\" target=\"_blank\">gmp.jl:685</a></li> <li> string(n::<b>Integer</b>; <i>base, pad</i>) in Base at <a href=\"https://github.com/JuliaLang/julia/tree/bf534986350a991e4a1b29126de0342ffd76205e/base/intfuncs.jl#L771\" target=\"_blank\">intfuncs.jl:771</a></li> <li> string(f::<b>Random.DSFMT.GF2X</b>) in Random.DSFMT at <a href=\"file:///buildworker/worker/package_linux64/build/usr/share/julia/stdlib/v1.7/Random/src/DSFMT.jl\" target=\"_blank\">/opt/julia-1.6.3/julia-1.6.3/share/julia/stdlib/v1.7/Random/src/DSFMT.jl:108</a></li> <li> string(hash::<b>Base.SHA1</b>) in Base at <a href=\"https://github.com/JuliaLang/julia/tree/bf534986350a991e4a1b29126de0342ffd76205e/base/loading.jl#L106\" target=\"_blank\">loading.jl:106</a></li> <li> string(u::<b>Base.UUID</b>) in Base at <a href=\"https://github.com/JuliaLang/julia/tree/bf534986350a991e4a1b29126de0342ffd76205e/base/uuid.jl#L91\" target=\"_blank\">uuid.jl:91</a></li> <li> string(a::<b>Symbol</b>) in Base at <a href=\"https://github.com/JuliaLang/julia/tree/bf534986350a991e4a1b29126de0342ffd76205e/base/strings/io.jl#L187\" target=\"_blank\">strings/io.jl:187</a></li> <li> string(a::<b>String</b>) in Base at <a href=\"https://github.com/JuliaLang/julia/tree/bf534986350a991e4a1b29126de0342ffd76205e/base/strings/substring.jl#L177\" target=\"_blank\">strings/substring.jl:177</a></li> <li> string(a::<b>Union{Char, SubString{String}, String}...</b>) in Base at <a href=\"https://github.com/JuliaLang/julia/tree/bf534986350a991e4a1b29126de0342ffd76205e/base/strings/substring.jl#L208\" target=\"_blank\">strings/substring.jl:208</a></li> <li> string(s::<b>AbstractString</b>) in Base at <a href=\"https://github.com/JuliaLang/julia/tree/bf534986350a991e4a1b29126de0342ffd76205e/base/strings/basic.jl#L222\" target=\"_blank\">strings/basic.jl:222</a></li> <li> string(xs...) in Base at <a href=\"https://github.com/JuliaLang/julia/tree/bf534986350a991e4a1b29126de0342ffd76205e/base/strings/io.jl#L185\" target=\"_blank\">strings/io.jl:185</a></li> </ul>"
      ],
      "text/plain": [
       "# 20 methods for generic function \"string\":\n",
       "[1] string() in Base at strings/basic.jl:221\n",
       "[2] string(x::T) where T<:Union{Float16, Float32, Float64} in Base.Ryu at ryu/Ryu.jl:121\n",
       "[3] string(f::Printf.Spec{T}; modifier) where T in Printf at /opt/julia-1.6.3/julia-1.6.3/share/julia/stdlib/v1.7/Printf/src/Printf.jl:36\n",
       "[4] string(t::Dates.Time) in Dates at /opt/julia-1.6.3/julia-1.6.3/share/julia/stdlib/v1.7/Dates/src/io.jl:44\n",
       "[5] string(id::LibGit2.GitShortHash) in LibGit2 at /opt/julia-1.6.3/julia-1.6.3/share/julia/stdlib/v1.7/LibGit2/src/oid.jl:181\n",
       "[6] string(b::BigFloat) in Base.MPFR at mpfr.jl:1013\n",
       "[7] string(x::Dates.CompoundPeriod) in Dates at /opt/julia-1.6.3/julia-1.6.3/share/julia/stdlib/v1.7/Dates/src/periods.jl:347\n",
       "[8] string(b::Bool) in Base at intfuncs.jl:790\n",
       "[9] string(a::SubString{String}) in Base at strings/substring.jl:178\n",
       "[10] string(mode::Pkg.GitTools.GitMode) in Pkg.GitTools at /opt/julia-1.6.3/julia-1.6.3/share/julia/stdlib/v1.7/Pkg/src/GitTools.jl:183\n",
       "[11] string(n::BigInt; base, pad) in Base.GMP at gmp.jl:685\n",
       "[12] string(n::Integer; base, pad) in Base at intfuncs.jl:771\n",
       "[13] string(f::Random.DSFMT.GF2X) in Random.DSFMT at /opt/julia-1.6.3/julia-1.6.3/share/julia/stdlib/v1.7/Random/src/DSFMT.jl:108\n",
       "[14] string(hash::Base.SHA1) in Base at loading.jl:106\n",
       "[15] string(u::Base.UUID) in Base at uuid.jl:91\n",
       "[16] string(a::Symbol) in Base at strings/io.jl:187\n",
       "[17] string(a::String) in Base at strings/substring.jl:177\n",
       "[18] string(a::Union{Char, SubString{String}, String}...) in Base at strings/substring.jl:208\n",
       "[19] string(s::AbstractString) in Base at strings/basic.jl:222\n",
       "[20] string(xs...) in Base at strings/io.jl:185"
      ]
     },
     "execution_count": 7,
     "metadata": {},
     "output_type": "execute_result"
    }
   ],
   "source": [
    "methods(string)"
   ]
  },
  {
   "cell_type": "code",
   "execution_count": null,
   "metadata": {},
   "outputs": [],
   "source": []
  },
  {
   "cell_type": "code",
   "execution_count": 61,
   "metadata": {},
   "outputs": [
    {
     "name": "stdout",
     "output_type": "stream",
     "text": [
      "h\n",
      "e\n",
      "l\n",
      "l\n",
      "o\n"
     ]
    }
   ],
   "source": [
    "for char in \"hello\"\n",
    "    println(char)\n",
    "end"
   ]
  },
  {
   "cell_type": "code",
   "execution_count": 24,
   "metadata": {},
   "outputs": [
    {
     "data": {
      "text/plain": [
       "\"{\\n    A : 5, \\n    B : [5, 10, 15]\\n}\""
      ]
     },
     "execution_count": 24,
     "metadata": {},
     "output_type": "execute_result"
    }
   ],
   "source": [
    "example_input = \"\"\"{\n",
    "    A : 5, \n",
    "    B : [5, 10, 15]\n",
    "}\"\"\""
   ]
  },
  {
   "cell_type": "code",
   "execution_count": 57,
   "metadata": {},
   "outputs": [
    {
     "data": {
      "text/plain": [
       "json_todct (generic function with 1 method)"
      ]
     },
     "execution_count": 57,
     "metadata": {},
     "output_type": "execute_result"
    }
   ],
   "source": [
    "function json_todct(s::String)\n",
    "    s = replace(s, \"\\n\" => \"\")\n",
    "    s = replace(s, \" \" => \"\")\n",
    "    s = replace(s, \"}\" => \"\")\n",
    "    s = replace(s, \"{\" => \"\")\n",
    "    empty::Vector = []\n",
    "    dct::Dict = Dict()\n",
    "    for pair in split(s, \",\")\n",
    "        if contains(pair, \"[\")\n",
    "            push!(empty, pair)\n",
    "        elseif contains(pair, \"]\")\n",
    "            p = replace(pair, \"]\" => \"\")\n",
    "            push!(empty, p)\n",
    "            key = Symbol(split(empty[1], \":\")[1])\n",
    "            empty[1] = split(empty[1], \":\")[2]\n",
    "            empty[1] = replace(empty[1], \"[\" => \"\")\n",
    "            val = [parse(Int64, e) for e in empty]\n",
    "            push!(dct, key => val)\n",
    "        elseif length(empty) > 0\n",
    "            push!(empty, pair)\n",
    "        elseif length(empty) == 0\n",
    "            keyval = split(pair, \":\")\n",
    "            push!(dct, Symbol(keyval[1]) => parse(Int64, keyval[2]))\n",
    "        end\n",
    "    end\n",
    "    dct\n",
    "end"
   ]
  },
  {
   "cell_type": "code",
   "execution_count": 58,
   "metadata": {},
   "outputs": [
    {
     "data": {
      "text/plain": [
       "Dict{Any, Any} with 2 entries:\n",
       "  :A => 5\n",
       "  :B => [5, 10, 15]"
      ]
     },
     "execution_count": 58,
     "metadata": {},
     "output_type": "execute_result"
    }
   ],
   "source": [
    "json_todct(example_input)"
   ]
  },
  {
   "cell_type": "code",
   "execution_count": 59,
   "metadata": {},
   "outputs": [
    {
     "data": {
      "text/plain": [
       "'e': ASCII/Unicode U+0065 (category Ll: Letter, lowercase)"
      ]
     },
     "execution_count": 59,
     "metadata": {},
     "output_type": "execute_result"
    }
   ],
   "source": [
    "\"hello\"[2]"
   ]
  },
  {
   "cell_type": "code",
   "execution_count": 60,
   "metadata": {},
   "outputs": [
    {
     "data": {
      "text/plain": [
       "\"el\""
      ]
     },
     "execution_count": 60,
     "metadata": {},
     "output_type": "execute_result"
    }
   ],
   "source": [
    "\"hello\"[2:3]"
   ]
  },
  {
   "cell_type": "code",
   "execution_count": null,
   "metadata": {},
   "outputs": [],
   "source": []
  }
 ],
 "metadata": {
  "kernelspec": {
   "display_name": "Julia 1.7.2",
   "language": "julia",
   "name": "julia-1.7"
  },
  "language_info": {
   "file_extension": ".jl",
   "mimetype": "application/julia",
   "name": "julia",
   "version": "1.7.2"
  }
 },
 "nbformat": 4,
 "nbformat_minor": 4
}
