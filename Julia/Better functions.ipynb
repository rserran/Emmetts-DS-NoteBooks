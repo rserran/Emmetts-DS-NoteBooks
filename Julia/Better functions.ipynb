{
 "cells": [
  {
   "cell_type": "code",
   "execution_count": null,
   "metadata": {},
   "outputs": [],
   "source": [
    "function r2(x,y)\n",
    "    n = length(x)\n",
    "    xy = x .* y\n",
    "    sx = sum(x)\n",
    "    sy = sum(y)\n",
    "    sxy = sum(xy)\n",
    "    x2 = x .^ 2\n",
    "    y2 = y .^ 2\n",
    "    sx2 = sum(x2)\n",
    "    sy2 = sum(y2)\n",
    "    ((n*sxy) - (sx * sy)) / (sqrt((((n*sx2)-(sx^2)) * ((n*sy2)-(sy^2))))) ^ 2\n",
    "end"
   ]
  },
  {
   "cell_type": "code",
   "execution_count": 1,
   "metadata": {},
   "outputs": [
    {
     "ename": "LoadError",
     "evalue": "UndefVarError: y not defined",
     "output_type": "error",
     "traceback": [
      "UndefVarError: y not defined",
      "",
      "Stacktrace:",
      " [1] top-level scope",
      "   @ In[1]:1",
      " [2] eval",
      "   @ ./boot.jl:373 [inlined]",
      " [3] include_string(mapexpr::typeof(REPL.softscope), mod::Module, code::String, filename::String)",
      "   @ Base ./loading.jl:1196"
     ]
    }
   ],
   "source": [
    "    if n != length(y)\n",
    "        throw(ArgumentError(\"The array shape does not match!\"))\n",
    "    end"
   ]
  },
  {
   "cell_type": "code",
   "execution_count": 3,
   "metadata": {},
   "outputs": [
    {
     "data": {
      "text/plain": [
       "r (generic function with 1 method)"
      ]
     },
     "execution_count": 3,
     "metadata": {},
     "output_type": "execute_result"
    }
   ],
   "source": [
    "function r(x::Array, y::Array)\n",
    "    n = length(x)\n",
    "    xy = x .* y\n",
    "    sx = sum(x)\n",
    "    sy = sum(y)\n",
    "    sxy = sum(xy)\n",
    "    x2 = x .^ 2\n",
    "    y2 = y .^ 2\n",
    "    sx2 = sum(x2)\n",
    "    sy2 = sum(y2)\n",
    "    ((n*sxy) - (sx * sy)) / (sqrt((((n*sx2)-(sx^2)) * ((n*sy2)-(sy^2)))))\n",
    "end"
   ]
  },
  {
   "cell_type": "code",
   "execution_count": 2,
   "metadata": {},
   "outputs": [
    {
     "data": {
      "text/plain": [
       "r2 (generic function with 1 method)"
      ]
     },
     "execution_count": 2,
     "metadata": {},
     "output_type": "execute_result"
    }
   ],
   "source": [
    "r2(x::Array, y::Array) = r(x, y) ^ 2"
   ]
  },
  {
   "cell_type": "code",
   "execution_count": null,
   "metadata": {},
   "outputs": [],
   "source": [
    "function r(x::Array, y::Array)\n",
    "    n , xy = length(x), x .* y\n",
    "    sx,sy, sxy = sum(x), sum(y), sum(xy)\n",
    "    x2, y2 = x .^ 2, y .^ 2\n",
    "    sx2, sy2 = sum(x2), sum(y2) \n",
    "    ((n*sxy) - (sx * sy)) / (sqrt((((n*sx2)-(sx^2)) * ((n*sy2)-(sy^2)))))\n",
    "end"
   ]
  }
 ],
 "metadata": {
  "kernelspec": {
   "display_name": "Julia 1.6.3",
   "language": "julia",
   "name": "julia-1.6"
  },
  "language_info": {
   "file_extension": ".jl",
   "mimetype": "application/julia",
   "name": "julia",
   "version": "1.7.1"
  }
 },
 "nbformat": 4,
 "nbformat_minor": 4
}
