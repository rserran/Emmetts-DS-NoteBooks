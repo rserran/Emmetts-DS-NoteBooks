{
 "cells": [
  {
   "cell_type": "code",
   "execution_count": 1,
   "id": "0db5a4c0",
   "metadata": {},
   "outputs": [
    {
     "name": "stderr",
     "output_type": "stream",
     "text": [
      "\u001b[36m\u001b[1m[ \u001b[22m\u001b[39m\u001b[36m\u001b[1mInfo: \u001b[22m\u001b[39mPrecompiling Gattino [f0fb3ee5-f608-41f3-a42d-dac276373afc]\n"
     ]
    },
    {
     "data": {
      "text/html": [
       "<div><div style = \"float: left;\"><span>20×4 DataFrame</span></div><div style = \"clear: both;\"></div></div><div class = \"data-frame\" style = \"overflow-x: scroll;\"><table class = \"data-frame\" style = \"margin-bottom: 6px;\"><thead><tr class = \"header\"><th class = \"rowNumber\" style = \"font-weight: bold; text-align: right;\">Row</th><th style = \"text-align: left;\">petal</th><th style = \"text-align: left;\">age</th><th style = \"text-align: left;\">petal_count</th><th style = \"text-align: left;\">stem</th></tr><tr class = \"subheader headerLastRow\"><th class = \"rowNumber\" style = \"font-weight: bold; text-align: right;\"></th><th title = \"Float64\" style = \"text-align: left;\">Float64</th><th title = \"Float64\" style = \"text-align: left;\">Float64</th><th title = \"Float64\" style = \"text-align: left;\">Float64</th><th title = \"Float64\" style = \"text-align: left;\">Float64</th></tr></thead><tbody><tr><td class = \"rowNumber\" style = \"font-weight: bold; text-align: right;\">1</td><td style = \"text-align: right;\">0.21737</td><td style = \"text-align: right;\">-2.33314</td><td style = \"text-align: right;\">0.958765</td><td style = \"text-align: right;\">0.176968</td></tr><tr><td class = \"rowNumber\" style = \"font-weight: bold; text-align: right;\">2</td><td style = \"text-align: right;\">-2.68126</td><td style = \"text-align: right;\">0.0339573</td><td style = \"text-align: right;\">0.662621</td><td style = \"text-align: right;\">0.874082</td></tr><tr><td class = \"rowNumber\" style = \"font-weight: bold; text-align: right;\">3</td><td style = \"text-align: right;\">0.120269</td><td style = \"text-align: right;\">0.237032</td><td style = \"text-align: right;\">0.567466</td><td style = \"text-align: right;\">-0.757848</td></tr><tr><td class = \"rowNumber\" style = \"font-weight: bold; text-align: right;\">4</td><td style = \"text-align: right;\">1.80188</td><td style = \"text-align: right;\">-0.849717</td><td style = \"text-align: right;\">-2.66363</td><td style = \"text-align: right;\">0.311951</td></tr><tr><td class = \"rowNumber\" style = \"font-weight: bold; text-align: right;\">5</td><td style = \"text-align: right;\">-0.971417</td><td style = \"text-align: right;\">0.331501</td><td style = \"text-align: right;\">-0.371556</td><td style = \"text-align: right;\">1.68966</td></tr><tr><td class = \"rowNumber\" style = \"font-weight: bold; text-align: right;\">6</td><td style = \"text-align: right;\">-0.330288</td><td style = \"text-align: right;\">0.970172</td><td style = \"text-align: right;\">-1.13092</td><td style = \"text-align: right;\">-1.23563</td></tr><tr><td class = \"rowNumber\" style = \"font-weight: bold; text-align: right;\">7</td><td style = \"text-align: right;\">1.17387</td><td style = \"text-align: right;\">-0.42993</td><td style = \"text-align: right;\">-0.737351</td><td style = \"text-align: right;\">-0.415078</td></tr><tr><td class = \"rowNumber\" style = \"font-weight: bold; text-align: right;\">8</td><td style = \"text-align: right;\">-2.10368</td><td style = \"text-align: right;\">-0.108324</td><td style = \"text-align: right;\">-1.72835</td><td style = \"text-align: right;\">-0.1189</td></tr><tr><td class = \"rowNumber\" style = \"font-weight: bold; text-align: right;\">9</td><td style = \"text-align: right;\">-0.263264</td><td style = \"text-align: right;\">-2.55568</td><td style = \"text-align: right;\">-0.478376</td><td style = \"text-align: right;\">1.46814</td></tr><tr><td class = \"rowNumber\" style = \"font-weight: bold; text-align: right;\">10</td><td style = \"text-align: right;\">0.960648</td><td style = \"text-align: right;\">-0.050765</td><td style = \"text-align: right;\">1.17524</td><td style = \"text-align: right;\">0.315218</td></tr><tr><td class = \"rowNumber\" style = \"font-weight: bold; text-align: right;\">11</td><td style = \"text-align: right;\">-1.31969</td><td style = \"text-align: right;\">1.49897</td><td style = \"text-align: right;\">-0.391924</td><td style = \"text-align: right;\">-1.18762</td></tr><tr><td class = \"rowNumber\" style = \"font-weight: bold; text-align: right;\">12</td><td style = \"text-align: right;\">0.218067</td><td style = \"text-align: right;\">0.0807973</td><td style = \"text-align: right;\">-0.905891</td><td style = \"text-align: right;\">1.39298</td></tr><tr><td class = \"rowNumber\" style = \"font-weight: bold; text-align: right;\">13</td><td style = \"text-align: right;\">-0.420942</td><td style = \"text-align: right;\">0.752357</td><td style = \"text-align: right;\">1.91841</td><td style = \"text-align: right;\">-0.987328</td></tr><tr><td class = \"rowNumber\" style = \"font-weight: bold; text-align: right;\">14</td><td style = \"text-align: right;\">0.40084</td><td style = \"text-align: right;\">1.45317</td><td style = \"text-align: right;\">0.207449</td><td style = \"text-align: right;\">-0.189448</td></tr><tr><td class = \"rowNumber\" style = \"font-weight: bold; text-align: right;\">15</td><td style = \"text-align: right;\">0.0328708</td><td style = \"text-align: right;\">0.838804</td><td style = \"text-align: right;\">0.194779</td><td style = \"text-align: right;\">1.30539</td></tr><tr><td class = \"rowNumber\" style = \"font-weight: bold; text-align: right;\">16</td><td style = \"text-align: right;\">0.403022</td><td style = \"text-align: right;\">-0.345982</td><td style = \"text-align: right;\">-0.157013</td><td style = \"text-align: right;\">-0.286193</td></tr><tr><td class = \"rowNumber\" style = \"font-weight: bold; text-align: right;\">17</td><td style = \"text-align: right;\">0.0741845</td><td style = \"text-align: right;\">0.0504081</td><td style = \"text-align: right;\">-0.272236</td><td style = \"text-align: right;\">0.14199</td></tr><tr><td class = \"rowNumber\" style = \"font-weight: bold; text-align: right;\">18</td><td style = \"text-align: right;\">0.188804</td><td style = \"text-align: right;\">0.853217</td><td style = \"text-align: right;\">1.42072</td><td style = \"text-align: right;\">0.290749</td></tr><tr><td class = \"rowNumber\" style = \"font-weight: bold; text-align: right;\">19</td><td style = \"text-align: right;\">-0.480789</td><td style = \"text-align: right;\">1.09162</td><td style = \"text-align: right;\">0.231601</td><td style = \"text-align: right;\">0.917429</td></tr><tr><td class = \"rowNumber\" style = \"font-weight: bold; text-align: right;\">20</td><td style = \"text-align: right;\">0.349262</td><td style = \"text-align: right;\">-0.278074</td><td style = \"text-align: right;\">0.556806</td><td style = \"text-align: right;\">-1.33948</td></tr></tbody></table></div>"
      ],
      "text/latex": [
       "\\begin{tabular}{r|cccc}\n",
       "\t& petal & age & petal\\_count & stem\\\\\n",
       "\t\\hline\n",
       "\t& Float64 & Float64 & Float64 & Float64\\\\\n",
       "\t\\hline\n",
       "\t1 & 0.21737 & -2.33314 & 0.958765 & 0.176968 \\\\\n",
       "\t2 & -2.68126 & 0.0339573 & 0.662621 & 0.874082 \\\\\n",
       "\t3 & 0.120269 & 0.237032 & 0.567466 & -0.757848 \\\\\n",
       "\t4 & 1.80188 & -0.849717 & -2.66363 & 0.311951 \\\\\n",
       "\t5 & -0.971417 & 0.331501 & -0.371556 & 1.68966 \\\\\n",
       "\t6 & -0.330288 & 0.970172 & -1.13092 & -1.23563 \\\\\n",
       "\t7 & 1.17387 & -0.42993 & -0.737351 & -0.415078 \\\\\n",
       "\t8 & -2.10368 & -0.108324 & -1.72835 & -0.1189 \\\\\n",
       "\t9 & -0.263264 & -2.55568 & -0.478376 & 1.46814 \\\\\n",
       "\t10 & 0.960648 & -0.050765 & 1.17524 & 0.315218 \\\\\n",
       "\t11 & -1.31969 & 1.49897 & -0.391924 & -1.18762 \\\\\n",
       "\t12 & 0.218067 & 0.0807973 & -0.905891 & 1.39298 \\\\\n",
       "\t13 & -0.420942 & 0.752357 & 1.91841 & -0.987328 \\\\\n",
       "\t14 & 0.40084 & 1.45317 & 0.207449 & -0.189448 \\\\\n",
       "\t15 & 0.0328708 & 0.838804 & 0.194779 & 1.30539 \\\\\n",
       "\t16 & 0.403022 & -0.345982 & -0.157013 & -0.286193 \\\\\n",
       "\t17 & 0.0741845 & 0.0504081 & -0.272236 & 0.14199 \\\\\n",
       "\t18 & 0.188804 & 0.853217 & 1.42072 & 0.290749 \\\\\n",
       "\t19 & -0.480789 & 1.09162 & 0.231601 & 0.917429 \\\\\n",
       "\t20 & 0.349262 & -0.278074 & 0.556806 & -1.33948 \\\\\n",
       "\\end{tabular}\n"
      ],
      "text/plain": [
       "\u001b[1m20×4 DataFrame\u001b[0m\n",
       "\u001b[1m Row \u001b[0m│\u001b[1m petal      \u001b[0m\u001b[1m age        \u001b[0m\u001b[1m petal_count \u001b[0m\u001b[1m stem      \u001b[0m\n",
       "     │\u001b[90m Float64    \u001b[0m\u001b[90m Float64    \u001b[0m\u001b[90m Float64     \u001b[0m\u001b[90m Float64   \u001b[0m\n",
       "─────┼────────────────────────────────────────────────\n",
       "   1 │  0.21737    -2.33314       0.958765   0.176968\n",
       "   2 │ -2.68126     0.0339573     0.662621   0.874082\n",
       "   3 │  0.120269    0.237032      0.567466  -0.757848\n",
       "   4 │  1.80188    -0.849717     -2.66363    0.311951\n",
       "   5 │ -0.971417    0.331501     -0.371556   1.68966\n",
       "   6 │ -0.330288    0.970172     -1.13092   -1.23563\n",
       "   7 │  1.17387    -0.42993      -0.737351  -0.415078\n",
       "   8 │ -2.10368    -0.108324     -1.72835   -0.1189\n",
       "   9 │ -0.263264   -2.55568      -0.478376   1.46814\n",
       "  10 │  0.960648   -0.050765      1.17524    0.315218\n",
       "  11 │ -1.31969     1.49897      -0.391924  -1.18762\n",
       "  12 │  0.218067    0.0807973    -0.905891   1.39298\n",
       "  13 │ -0.420942    0.752357      1.91841   -0.987328\n",
       "  14 │  0.40084     1.45317       0.207449  -0.189448\n",
       "  15 │  0.0328708   0.838804      0.194779   1.30539\n",
       "  16 │  0.403022   -0.345982     -0.157013  -0.286193\n",
       "  17 │  0.0741845   0.0504081    -0.272236   0.14199\n",
       "  18 │  0.188804    0.853217      1.42072    0.290749\n",
       "  19 │ -0.480789    1.09162       0.231601   0.917429\n",
       "  20 │  0.349262   -0.278074      0.556806  -1.33948"
      ]
     },
     "execution_count": 1,
     "metadata": {},
     "output_type": "execute_result"
    }
   ],
   "source": [
    "using DataFrames\n",
    "using Gattino\n",
    "\n",
    "df = DataFrame(\"petal\" => randn(20), \"age\" => randn(20), \"petal_count\" => randn(20), \"stem\" => randn(20))"
   ]
  },
  {
   "cell_type": "code",
   "execution_count": 2,
   "id": "f4467089",
   "metadata": {},
   "outputs": [
    {
     "data": {
      "text/html": [
       "\"<svg id=window height=500 width=500><text id=j9qJSueA y=40 style='fill: black;font-size: 15pt;' x=175>flowers</text><g id=title height=500 width=500></g><g id=axes height=375 width=375><line id=RIYA4KD6 y1=435 x2=435 style='fill: none;stroke: black;stroke-width: 4;' y2=435 x1=60></line><line id=7RY6hCRa y1=60 x2=60 style='fill: none;stroke: black;stroke-width: 4;' y2=435 x1=60></line></g><g id=grid height=375 width=375><line id=KXyQ7JOJ y1=60 x2=61 style='fill: none;stroke: lightblue;stroke-width: 1;opacity: 80%;' y2=435 x1=61></line><line id=LJsLeCE0 y1=61 x2=435 style='fill: none;stroke: lightblue;stroke-width: 1;opacity: 80%;' y2=61 x1=60></line><line id=8nOrZGEZ y1=60 x2=155 style='fill: none;stroke: lightblue;stroke-width: 1;opacity: 80%;' y2=435 x1=155></line><line id=9FVOoIar y1=155 x2=435 style='fill: none;stroke: lightblue;stroke-width: 1;opacity: 80%;' y2=155 x1=60></line><line id=wb7rubk4 y1=60 x2=249 style='fill: none;stroke: lightblue;stroke-width: 1;opacity: 80%;' y2=435 x1=249></line><line id=ROsibPGe y1=249 x2=435 style='fill: none;stroke: lightblue;stroke-width: 1;opacity: 80%;' y2=249 x1=60></line><line id=o3mbOHms y1=60 x2=343 style='fill: none;stroke: lightblue;stroke-width: 1;opacity: 80%;' y2=435 x1=343></line><line id=mi5Kk9B2 y1=343 x2=435 style='fill: none;stroke: lightblue;stroke-width: 1;opacity: 80%;' y2=343 x1=60></line></g><g id=age height=375 width=375><circle id=RN70GjRr cx=302 style='fill: #00B3E6;' r=5 cy=414></circle><circle id=56CSKMzR cx=60 style='fill: #00B3E6;' r=5 cy=196></circle><circle id=dLVwqJvO cx=294 style='fill: #00B3E6;' r=5 cy=177></circle><circle id=SjdSUXHf cx=434 style='fill: #00B3E6;' r=5 cy=278></circle><circle id=pOpupCfr cx=203 style='fill: #00B3E6;' r=5 cy=169></circle><circle id=plPW4ena cx=256 style='fill: #00B3E6;' r=5 cy=110></circle><circle id=eTEp1JH8 cx=382 style='fill: #00B3E6;' r=5 cy=239></circle><circle id=UaVtSWZB cx=108 style='fill: #00B3E6;' r=5 cy=209></circle><circle id=NzCmwkRs cx=262 style='fill: #00B3E6;' r=5 cy=435></circle><circle id=9fwb5XuP cx=364 style='fill: #00B3E6;' r=5 cy=204></circle><circle id=ODtD5qRs cx=174 style='fill: #00B3E6;' r=5 cy=61></circle><circle id=WcMbIYQT cx=302 style='fill: #00B3E6;' r=5 cy=192></circle><circle id=eAYosyFo cx=249 style='fill: #00B3E6;' r=5 cy=130></circle><circle id=oTV5tJIn cx=317 style='fill: #00B3E6;' r=5 cy=65></circle><circle id=WlAHxdlU cx=286 style='fill: #00B3E6;' r=5 cy=122></circle><circle id=QQfSLSUd cx=317 style='fill: #00B3E6;' r=5 cy=231></circle><circle id=QJhiAx5I cx=290 style='fill: #00B3E6;' r=5 cy=195></circle><circle id=DDOnyQS8 cx=299 style='fill: #00B3E6;' r=5 cy=121></circle><circle id=rnJZtXER cx=244 style='fill: #00B3E6;' r=5 cy=99></circle><circle id=uuDnkJli cx=313 style='fill: #00B3E6;' r=5 cy=225></circle></g><g id=petal_count height=375 width=375><circle id=petal_count-preview cx=382 style='fill: #00B3E6;' r=5 cy=362></circle><circle id=raZ4KE3k cx=60 style='fill: #00B3E6;' r=5 cy=164></circle><circle id=E1BIMIc2 cx=294 style='fill: #00B3E6;' r=5 cy=171></circle><circle id=m3uChwzP cx=434 style='fill: #00B3E6;' r=5 cy=435></circle><circle id=EJnGJj2O cx=203 style='fill: #00B3E6;' r=5 cy=248></circle><circle id=ntfGuMmg cx=256 style='fill: #00B3E6;' r=5 cy=310></circle><circle id=DazEtUch cx=382 style='fill: #00B3E6;' r=5 cy=278></circle><circle id=vvIS6LlY cx=108 style='fill: #00B3E6;' r=5 cy=359></circle><circle id=5Xa92me5 cx=262 style='fill: #00B3E6;' r=5 cy=257></circle><circle id=nNLXndjW cx=364 style='fill: #00B3E6;' r=5 cy=122></circle><circle id=FjsYwOLn cx=174 style='fill: #00B3E6;' r=5 cy=250></circle><circle id=2ZUqMl8e cx=302 style='fill: #00B3E6;' r=5 cy=292></circle><circle id=jGDPfvBZ cx=249 style='fill: #00B3E6;' r=5 cy=61></circle><circle id=LrsxqpAl cx=317 style='fill: #00B3E6;' r=5 cy=201></circle><circle id=SNn2R46T cx=286 style='fill: #00B3E6;' r=5 cy=202></circle><circle id=h7v0KBYT cx=317 style='fill: #00B3E6;' r=5 cy=230></circle><circle id=BFNvRLg5 cx=290 style='fill: #00B3E6;' r=5 cy=240></circle><circle id=Wskq1Dvd cx=299 style='fill: #00B3E6;' r=5 cy=102></circle><circle id=b0ywBsp2 cx=244 style='fill: #00B3E6;' r=5 cy=199></circle><circle id=BIJ7lc9m cx=313 style='fill: #00B3E6;' r=5 cy=172></circle></g><g id=stem height=375 width=375><circle id=stem-preview cx=382 style='fill: #FF99E6;' r=5 cy=374></circle><circle id=pe5R41wF cx=60 style='fill: #FF99E6;' r=5 cy=162></circle><circle id=OaURtHVR cx=294 style='fill: #FF99E6;' r=5 cy=363></circle><circle id=XbjtaTzP cx=434 style='fill: #FF99E6;' r=5 cy=231></circle><circle id=0KyP8Co9 cx=203 style='fill: #FF99E6;' r=5 cy=61></circle><circle id=zksdSHHe cx=256 style='fill: #FF99E6;' r=5 cy=422></circle><circle id=30jxCR7X cx=382 style='fill: #FF99E6;' r=5 cy=321></circle><circle id=ufxFcGde cx=108 style='fill: #FF99E6;' r=5 cy=284></circle><circle id=xqWaARYb cx=262 style='fill: #FF99E6;' r=5 cy=88></circle><circle id=23KeFrQr cx=364 style='fill: #FF99E6;' r=5 cy=231></circle><circle id=ZpzgdD7u cx=174 style='fill: #FF99E6;' r=5 cy=416></circle><circle id=Mey4PRUh cx=302 style='fill: #FF99E6;' r=5 cy=98></circle><circle id=hCewqNfa cx=249 style='fill: #FF99E6;' r=5 cy=392></circle><circle id=d7qRwndV cx=317 style='fill: #FF99E6;' r=5 cy=293></circle><circle id=Q2jYFOfF cx=286 style='fill: #FF99E6;' r=5 cy=108></circle><circle id=jz6KScYd cx=317 style='fill: #FF99E6;' r=5 cy=305></circle><circle id=AeKBS5iC cx=290 style='fill: #FF99E6;' r=5 cy=252></circle><circle id=OzzOnrF6 cx=299 style='fill: #FF99E6;' r=5 cy=234></circle><circle id=TkrrjHGF cx=244 style='fill: #FF99E6;' r=5 cy=156></circle><circle id=mQquD0qw cx=313 style='fill: #FF99E6;' r=5 cy=435></circle></g><g id=labels height=375 width=375><text id=axIqKZBv y=425 style='fill: black;font-size: 10pt;' x=57>-2.681</text><text id=TOmIN3GE y=57 style='fill: black;font-size: 10pt;' x=60>1.4989</text><text id=Mshvq1ly y=425 style='fill: black;font-size: 10pt;' x=151>-1.560</text><text id=F1AT9CvL y=151 style='fill: black;font-size: 10pt;' x=60>0.4853</text><text id=bdwDKh2Z y=425 style='fill: black;font-size: 10pt;' x=245>-0.439</text><text id=heaEnOay y=245 style='fill: black;font-size: 10pt;' x=60>-0.528</text><text id=nwA9Y6ij y=425 style='fill: black;font-size: 10pt;' x=339>0.6810</text><text id=CrzlGTOG y=339 style='fill: black;font-size: 10pt;' x=60>-1.542</text><text id=LgQZnkZB y=425 style='fill: black;font-size: 10pt;' x=433>1.8018</text><text id=nRWRP3dn y=433 style='fill: black;font-size: 10pt;' x=60>-2.555</text></g><g id=axislabels height=375 width=375><text id=CYnQVeHT y=405 style='stroke: darkgray;font-size: 12pt;' x=248>petal</text><text id=zgiR8p8r y=248 style='stroke: darkgray;font-size: 12pt;' x=0>age</text></g><g id=legend><rect id=legendbg width=100 y=350 height=40 style='stroke: darkgray;fill: white;stroke-width: 2px;' x=370></rect><circle id=petal_count-preview cx=382 style='fill: #00B3E6;' r=5 cy=362></circle><text id=petal_count-label y=363.8 style='stroke: darkgray;font-size: 9pt;' x=394>petal_count</text><circle id=stem-preview cx=382 style='fill: #FF99E6;' r=5 cy=374></circle><text id=stem-label y=377.6 style='stroke: darkgray;font-size: 9pt;' x=394>stem</text></g></svg>\""
      ]
     },
     "metadata": {},
     "output_type": "display_data"
    },
    {
     "data": {
      "text/html": [
       "\"<svg id=window height=500 width=500><text id=j9qJSueA y=40 style='fill: black;font-size: 15pt;' x=175>flowers</text><g id=title height=500 width=500></g><g id=axes height=375 width=375><line id=RIYA4KD6 y1=435 x2=435 style='fill: none;stroke: black;stroke-width: 4;' y2=435 x1=60></line><line id=7RY6hCRa y1=60 x2=60 style='fill: none;stroke: black;stroke-width: 4;' y2=435 x1=60></line></g><g id=grid height=375 width=375><line id=KXyQ7JOJ y1=60 x2=61 style='fill: none;stroke: lightblue;stroke-width: 1;opacity: 80%;' y2=435 x1=61></line><line id=LJsLeCE0 y1=61 x2=435 style='fill: none;stroke: lightblue;stroke-width: 1;opacity: 80%;' y2=61 x1=60></line><line id=8nOrZGEZ y1=60 x2=155 style='fill: none;stroke: lightblue;stroke-width: 1;opacity: 80%;' y2=435 x1=155></line><line id=9FVOoIar y1=155 x2=435 style='fill: none;stroke: lightblue;stroke-width: 1;opacity: 80%;' y2=155 x1=60></line><line id=wb7rubk4 y1=60 x2=249 style='fill: none;stroke: lightblue;stroke-width: 1;opacity: 80%;' y2=435 x1=249></line><line id=ROsibPGe y1=249 x2=435 style='fill: none;stroke: lightblue;stroke-width: 1;opacity: 80%;' y2=249 x1=60></line><line id=o3mbOHms y1=60 x2=343 style='fill: none;stroke: lightblue;stroke-width: 1;opacity: 80%;' y2=435 x1=343></line><line id=mi5Kk9B2 y1=343 x2=435 style='fill: none;stroke: lightblue;stroke-width: 1;opacity: 80%;' y2=343 x1=60></line></g><g id=age height=375 width=375><circle id=RN70GjRr cx=302 style='fill: #00B3E6;' r=5 cy=414></circle><circle id=56CSKMzR cx=60 style='fill: #00B3E6;' r=5 cy=196></circle><circle id=dLVwqJvO cx=294 style='fill: #00B3E6;' r=5 cy=177></circle><circle id=SjdSUXHf cx=434 style='fill: #00B3E6;' r=5 cy=278></circle><circle id=pOpupCfr cx=203 style='fill: #00B3E6;' r=5 cy=169></circle><circle id=plPW4ena cx=256 style='fill: #00B3E6;' r=5 cy=110></circle><circle id=eTEp1JH8 cx=382 style='fill: #00B3E6;' r=5 cy=239></circle><circle id=UaVtSWZB cx=108 style='fill: #00B3E6;' r=5 cy=209></circle><circle id=NzCmwkRs cx=262 style='fill: #00B3E6;' r=5 cy=435></circle><circle id=9fwb5XuP cx=364 style='fill: #00B3E6;' r=5 cy=204></circle><circle id=ODtD5qRs cx=174 style='fill: #00B3E6;' r=5 cy=61></circle><circle id=WcMbIYQT cx=302 style='fill: #00B3E6;' r=5 cy=192></circle><circle id=eAYosyFo cx=249 style='fill: #00B3E6;' r=5 cy=130></circle><circle id=oTV5tJIn cx=317 style='fill: #00B3E6;' r=5 cy=65></circle><circle id=WlAHxdlU cx=286 style='fill: #00B3E6;' r=5 cy=122></circle><circle id=QQfSLSUd cx=317 style='fill: #00B3E6;' r=5 cy=231></circle><circle id=QJhiAx5I cx=290 style='fill: #00B3E6;' r=5 cy=195></circle><circle id=DDOnyQS8 cx=299 style='fill: #00B3E6;' r=5 cy=121></circle><circle id=rnJZtXER cx=244 style='fill: #00B3E6;' r=5 cy=99></circle><circle id=uuDnkJli cx=313 style='fill: #00B3E6;' r=5 cy=225></circle></g><g id=petal_count height=375 width=375><circle id=petal_count-preview cx=382 style='fill: #00B3E6;' r=5 cy=362></circle><circle id=raZ4KE3k cx=60 style='fill: #00B3E6;' r=5 cy=164></circle><circle id=E1BIMIc2 cx=294 style='fill: #00B3E6;' r=5 cy=171></circle><circle id=m3uChwzP cx=434 style='fill: #00B3E6;' r=5 cy=435></circle><circle id=EJnGJj2O cx=203 style='fill: #00B3E6;' r=5 cy=248></circle><circle id=ntfGuMmg cx=256 style='fill: #00B3E6;' r=5 cy=310></circle><circle id=DazEtUch cx=382 style='fill: #00B3E6;' r=5 cy=278></circle><circle id=vvIS6LlY cx=108 style='fill: #00B3E6;' r=5 cy=359></circle><circle id=5Xa92me5 cx=262 style='fill: #00B3E6;' r=5 cy=257></circle><circle id=nNLXndjW cx=364 style='fill: #00B3E6;' r=5 cy=122></circle><circle id=FjsYwOLn cx=174 style='fill: #00B3E6;' r=5 cy=250></circle><circle id=2ZUqMl8e cx=302 style='fill: #00B3E6;' r=5 cy=292></circle><circle id=jGDPfvBZ cx=249 style='fill: #00B3E6;' r=5 cy=61></circle><circle id=LrsxqpAl cx=317 style='fill: #00B3E6;' r=5 cy=201></circle><circle id=SNn2R46T cx=286 style='fill: #00B3E6;' r=5 cy=202></circle><circle id=h7v0KBYT cx=317 style='fill: #00B3E6;' r=5 cy=230></circle><circle id=BFNvRLg5 cx=290 style='fill: #00B3E6;' r=5 cy=240></circle><circle id=Wskq1Dvd cx=299 style='fill: #00B3E6;' r=5 cy=102></circle><circle id=b0ywBsp2 cx=244 style='fill: #00B3E6;' r=5 cy=199></circle><circle id=BIJ7lc9m cx=313 style='fill: #00B3E6;' r=5 cy=172></circle></g><g id=stem height=375 width=375><circle id=stem-preview cx=382 style='fill: #FF99E6;' r=5 cy=374></circle><circle id=pe5R41wF cx=60 style='fill: #FF99E6;' r=5 cy=162></circle><circle id=OaURtHVR cx=294 style='fill: #FF99E6;' r=5 cy=363></circle><circle id=XbjtaTzP cx=434 style='fill: #FF99E6;' r=5 cy=231></circle><circle id=0KyP8Co9 cx=203 style='fill: #FF99E6;' r=5 cy=61></circle><circle id=zksdSHHe cx=256 style='fill: #FF99E6;' r=5 cy=422></circle><circle id=30jxCR7X cx=382 style='fill: #FF99E6;' r=5 cy=321></circle><circle id=ufxFcGde cx=108 style='fill: #FF99E6;' r=5 cy=284></circle><circle id=xqWaARYb cx=262 style='fill: #FF99E6;' r=5 cy=88></circle><circle id=23KeFrQr cx=364 style='fill: #FF99E6;' r=5 cy=231></circle><circle id=ZpzgdD7u cx=174 style='fill: #FF99E6;' r=5 cy=416></circle><circle id=Mey4PRUh cx=302 style='fill: #FF99E6;' r=5 cy=98></circle><circle id=hCewqNfa cx=249 style='fill: #FF99E6;' r=5 cy=392></circle><circle id=d7qRwndV cx=317 style='fill: #FF99E6;' r=5 cy=293></circle><circle id=Q2jYFOfF cx=286 style='fill: #FF99E6;' r=5 cy=108></circle><circle id=jz6KScYd cx=317 style='fill: #FF99E6;' r=5 cy=305></circle><circle id=AeKBS5iC cx=290 style='fill: #FF99E6;' r=5 cy=252></circle><circle id=OzzOnrF6 cx=299 style='fill: #FF99E6;' r=5 cy=234></circle><circle id=TkrrjHGF cx=244 style='fill: #FF99E6;' r=5 cy=156></circle><circle id=mQquD0qw cx=313 style='fill: #FF99E6;' r=5 cy=435></circle></g><g id=labels height=375 width=375><text id=axIqKZBv y=425 style='fill: black;font-size: 10pt;' x=57>-2.681</text><text id=TOmIN3GE y=57 style='fill: black;font-size: 10pt;' x=60>1.4989</text><text id=Mshvq1ly y=425 style='fill: black;font-size: 10pt;' x=151>-1.560</text><text id=F1AT9CvL y=151 style='fill: black;font-size: 10pt;' x=60>0.4853</text><text id=bdwDKh2Z y=425 style='fill: black;font-size: 10pt;' x=245>-0.439</text><text id=heaEnOay y=245 style='fill: black;font-size: 10pt;' x=60>-0.528</text><text id=nwA9Y6ij y=425 style='fill: black;font-size: 10pt;' x=339>0.6810</text><text id=CrzlGTOG y=339 style='fill: black;font-size: 10pt;' x=60>-1.542</text><text id=LgQZnkZB y=425 style='fill: black;font-size: 10pt;' x=433>1.8018</text><text id=nRWRP3dn y=433 style='fill: black;font-size: 10pt;' x=60>-2.555</text></g><g id=axislabels height=375 width=375><text id=CYnQVeHT y=405 style='stroke: darkgray;font-size: 12pt;' x=248>petal</text><text id=zgiR8p8r y=248 style='stroke: darkgray;font-size: 12pt;' x=0>age</text></g><g id=legend><rect id=legendbg width=100 y=350 height=40 style='stroke: darkgray;fill: white;stroke-width: 2px;' x=370></rect><circle id=petal_count-preview cx=382 style='fill: #00B3E6;' r=5 cy=362></circle><text id=petal_count-label y=363.8 style='stroke: darkgray;font-size: 9pt;' x=394>petal_count</text><circle id=stem-preview cx=382 style='fill: #FF99E6;' r=5 cy=374></circle><text id=stem-label y=377.6 style='stroke: darkgray;font-size: 9pt;' x=394>stem</text></g></svg>\""
      ],
      "text/plain": []
     },
     "execution_count": 2,
     "metadata": {},
     "output_type": "execute_result"
    }
   ],
   "source": [
    "figure1 = scatter(df, \"petal\", \"age\", \n",
    "title = \"flowers\", xlabel = \"petal\", ylabel = \"age\")"
   ]
  },
  {
   "cell_type": "code",
   "execution_count": 3,
   "id": "8f691eeb",
   "metadata": {},
   "outputs": [
    {
     "data": {
      "text/html": [
       "\"<svg id=window height=250 width=250><g id=axes height=250 width=250><line id=CTCJfmdZ y1=250 x2=250 style='fill: none;stroke: black;stroke-width: 4;' y2=250 x1=0></line><line id=NC7lfEmx y1=0 x2=0 style='fill: none;stroke: black;stroke-width: 4;' y2=250 x1=0></line></g><g id=grid height=250 width=250><line id=QSq4HnEt y1=0 x2=1 style='fill: none;stroke: lightblue;stroke-width: 1;opacity: 80%;' y2=250 x1=1></line><line id=TRwKoYwT y1=1 x2=250 style='fill: none;stroke: lightblue;stroke-width: 1;opacity: 80%;' y2=1 x1=0></line><line id=xzoyZ5MS y1=0 x2=63 style='fill: none;stroke: lightblue;stroke-width: 1;opacity: 80%;' y2=250 x1=63></line><line id=UFiAOmPM y1=63 x2=250 style='fill: none;stroke: lightblue;stroke-width: 1;opacity: 80%;' y2=63 x1=0></line><line id=FeoDCZeb y1=0 x2=125 style='fill: none;stroke: lightblue;stroke-width: 1;opacity: 80%;' y2=250 x1=125></line><line id=56kSGulB y1=125 x2=250 style='fill: none;stroke: lightblue;stroke-width: 1;opacity: 80%;' y2=125 x1=0></line><line id=RVWWAeGJ y1=0 x2=187 style='fill: none;stroke: lightblue;stroke-width: 1;opacity: 80%;' y2=250 x1=187></line><line id=vxnrZAks y1=187 x2=250 style='fill: none;stroke: lightblue;stroke-width: 1;opacity: 80%;' y2=187 x1=0></line><line id=6hKJpDEV y1=0 x2=249 style='fill: none;stroke: lightblue;stroke-width: 1;opacity: 80%;' y2=250 x1=249></line><line id=87j3i1Hd y1=249 x2=250 style='fill: none;stroke: lightblue;stroke-width: 1;opacity: 80%;' y2=249 x1=0></line></g><g id=points height=250 width=250><circle id=rmogxlj1 cx=197 style='fill: #FF6633;' r=5 cy=125></circle><circle id=WNM1IENw cx=181 style='fill: #FF6633;' r=5 cy=68></circle><circle id=eMS6JW6a cx=176 style='fill: #FF6633;' r=5 cy=202></circle><circle id=URIiYbgk cx=0 style='fill: #FF6633;' r=5 cy=114></circle><circle id=fbcDVFOP cx=125 style='fill: #FF6633;' r=5 cy=1></circle><circle id=GXeYuVPX cx=83 style='fill: #FF6633;' r=5 cy=241></circle><circle id=hMALxtS6 cx=105 style='fill: #FF6633;' r=5 cy=174></circle><circle id=5S7IgoiT cx=51 style='fill: #FF6633;' r=5 cy=150></circle><circle id=r8B0WOxd cx=119 style='fill: #FF6633;' r=5 cy=19></circle><circle id=nyu11opC cx=209 style='fill: #FF6633;' r=5 cy=114></circle><circle id=tqTV2rMu cx=123 style='fill: #FF6633;' r=5 cy=238></circle><circle id=ClkzZ5Je cx=96 style='fill: #FF6633;' r=5 cy=25></circle><circle id=Ch26Xfok cx=249 style='fill: #FF6633;' r=5 cy=221></circle><circle id=HrbawTIn cx=156 style='fill: #FF6633;' r=5 cy=155></circle><circle id=Phn7kjFV cx=155 style='fill: #FF6633;' r=5 cy=33></circle><circle id=A5kWFpBO cx=136 style='fill: #FF6633;' r=5 cy=163></circle><circle id=Bk7nOBc1 cx=130 style='fill: #FF6633;' r=5 cy=128></circle><circle id=IJikfbyV cx=222 style='fill: #FF6633;' r=5 cy=116></circle><circle id=l5zyUJWv cx=157 style='fill: #FF6633;' r=5 cy=64></circle><circle id=3yKwFAST cx=175 style='fill: #FF6633;' r=5 cy=250></circle></g><g id=labels height=250 width=250><text id=YIgCGZ42 y=240 style='fill: black;font-size: 10pt;' x=-3>-2.663</text><text id=OgxXK2W8 y=-1 style='fill: black;font-size: 10pt;' x=0>1.6896</text><text id=YQMazdWe y=240 style='fill: black;font-size: 10pt;' x=59>-1.518</text><text id=EF5u613N y=61 style='fill: black;font-size: 10pt;' x=0>0.9323</text><text id=3U0deiUZ y=240 style='fill: black;font-size: 10pt;' x=121>-0.372</text><text id=27KvGq0g y=123 style='fill: black;font-size: 10pt;' x=0>0.1750</text><text id=FFs6y6Q3 y=240 style='fill: black;font-size: 10pt;' x=183>0.7728</text><text id=Fyd2nRTu y=185 style='fill: black;font-size: 10pt;' x=0>-0.582</text><text id=F2jSSxRx y=240 style='fill: black;font-size: 10pt;' x=245>1.9184</text><text id=qiqJUzJU y=247 style='fill: black;font-size: 10pt;' x=0>-1.339</text></g><g id=legend><rect id=legendbg width=50 y=175 height=0 style='stroke: darkgray;fill: white;stroke-width: 2px;' x=185></rect></g></svg>\""
      ]
     },
     "metadata": {},
     "output_type": "display_data"
    },
    {
     "data": {
      "text/html": [
       "\"<svg id=window height=250 width=250><g id=axes height=250 width=250><line id=CTCJfmdZ y1=250 x2=250 style='fill: none;stroke: black;stroke-width: 4;' y2=250 x1=0></line><line id=NC7lfEmx y1=0 x2=0 style='fill: none;stroke: black;stroke-width: 4;' y2=250 x1=0></line></g><g id=grid height=250 width=250><line id=QSq4HnEt y1=0 x2=1 style='fill: none;stroke: lightblue;stroke-width: 1;opacity: 80%;' y2=250 x1=1></line><line id=TRwKoYwT y1=1 x2=250 style='fill: none;stroke: lightblue;stroke-width: 1;opacity: 80%;' y2=1 x1=0></line><line id=xzoyZ5MS y1=0 x2=63 style='fill: none;stroke: lightblue;stroke-width: 1;opacity: 80%;' y2=250 x1=63></line><line id=UFiAOmPM y1=63 x2=250 style='fill: none;stroke: lightblue;stroke-width: 1;opacity: 80%;' y2=63 x1=0></line><line id=FeoDCZeb y1=0 x2=125 style='fill: none;stroke: lightblue;stroke-width: 1;opacity: 80%;' y2=250 x1=125></line><line id=56kSGulB y1=125 x2=250 style='fill: none;stroke: lightblue;stroke-width: 1;opacity: 80%;' y2=125 x1=0></line><line id=RVWWAeGJ y1=0 x2=187 style='fill: none;stroke: lightblue;stroke-width: 1;opacity: 80%;' y2=250 x1=187></line><line id=vxnrZAks y1=187 x2=250 style='fill: none;stroke: lightblue;stroke-width: 1;opacity: 80%;' y2=187 x1=0></line><line id=6hKJpDEV y1=0 x2=249 style='fill: none;stroke: lightblue;stroke-width: 1;opacity: 80%;' y2=250 x1=249></line><line id=87j3i1Hd y1=249 x2=250 style='fill: none;stroke: lightblue;stroke-width: 1;opacity: 80%;' y2=249 x1=0></line></g><g id=points height=250 width=250><circle id=rmogxlj1 cx=197 style='fill: #FF6633;' r=5 cy=125></circle><circle id=WNM1IENw cx=181 style='fill: #FF6633;' r=5 cy=68></circle><circle id=eMS6JW6a cx=176 style='fill: #FF6633;' r=5 cy=202></circle><circle id=URIiYbgk cx=0 style='fill: #FF6633;' r=5 cy=114></circle><circle id=fbcDVFOP cx=125 style='fill: #FF6633;' r=5 cy=1></circle><circle id=GXeYuVPX cx=83 style='fill: #FF6633;' r=5 cy=241></circle><circle id=hMALxtS6 cx=105 style='fill: #FF6633;' r=5 cy=174></circle><circle id=5S7IgoiT cx=51 style='fill: #FF6633;' r=5 cy=150></circle><circle id=r8B0WOxd cx=119 style='fill: #FF6633;' r=5 cy=19></circle><circle id=nyu11opC cx=209 style='fill: #FF6633;' r=5 cy=114></circle><circle id=tqTV2rMu cx=123 style='fill: #FF6633;' r=5 cy=238></circle><circle id=ClkzZ5Je cx=96 style='fill: #FF6633;' r=5 cy=25></circle><circle id=Ch26Xfok cx=249 style='fill: #FF6633;' r=5 cy=221></circle><circle id=HrbawTIn cx=156 style='fill: #FF6633;' r=5 cy=155></circle><circle id=Phn7kjFV cx=155 style='fill: #FF6633;' r=5 cy=33></circle><circle id=A5kWFpBO cx=136 style='fill: #FF6633;' r=5 cy=163></circle><circle id=Bk7nOBc1 cx=130 style='fill: #FF6633;' r=5 cy=128></circle><circle id=IJikfbyV cx=222 style='fill: #FF6633;' r=5 cy=116></circle><circle id=l5zyUJWv cx=157 style='fill: #FF6633;' r=5 cy=64></circle><circle id=3yKwFAST cx=175 style='fill: #FF6633;' r=5 cy=250></circle></g><g id=labels height=250 width=250><text id=YIgCGZ42 y=240 style='fill: black;font-size: 10pt;' x=-3>-2.663</text><text id=OgxXK2W8 y=-1 style='fill: black;font-size: 10pt;' x=0>1.6896</text><text id=YQMazdWe y=240 style='fill: black;font-size: 10pt;' x=59>-1.518</text><text id=EF5u613N y=61 style='fill: black;font-size: 10pt;' x=0>0.9323</text><text id=3U0deiUZ y=240 style='fill: black;font-size: 10pt;' x=121>-0.372</text><text id=27KvGq0g y=123 style='fill: black;font-size: 10pt;' x=0>0.1750</text><text id=FFs6y6Q3 y=240 style='fill: black;font-size: 10pt;' x=183>0.7728</text><text id=Fyd2nRTu y=185 style='fill: black;font-size: 10pt;' x=0>-0.582</text><text id=F2jSSxRx y=240 style='fill: black;font-size: 10pt;' x=245>1.9184</text><text id=qiqJUzJU y=247 style='fill: black;font-size: 10pt;' x=0>-1.339</text></g><g id=legend><rect id=legendbg width=50 y=175 height=0 style='stroke: darkgray;fill: white;stroke-width: 2px;' x=185></rect></g></svg>\""
      ],
      "text/plain": []
     },
     "execution_count": 3,
     "metadata": {},
     "output_type": "execute_result"
    }
   ],
   "source": [
    "figure2 = context(250, 250) do con::Context\n",
    "   Gattino.scatter_plot!(con, df[!, \"petal_count\"], df[!, \"stem\"]) \n",
    "end"
   ]
  },
  {
   "cell_type": "code",
   "execution_count": 4,
   "id": "82ee1074",
   "metadata": {},
   "outputs": [
    {
     "data": {
      "text/html": [
       "\"<svg id=window height=500 width=500><g id=axes height=500 width=500><line id=j6jzeMiy y1=500 x2=500 style='fill: none;stroke: black;stroke-width: 4;' y2=500 x1=0></line><line id=aKfZvTxl y1=0 x2=0 style='fill: none;stroke: black;stroke-width: 4;' y2=500 x1=0></line></g><g id=grid height=500 width=500><line id=DLrYGwNx y1=0 x2=1 style='fill: none;stroke: lightblue;stroke-width: 1;opacity: 80%;' y2=500 x1=1></line><line id=w56AH0UP y1=1 x2=500 style='fill: none;stroke: lightblue;stroke-width: 1;opacity: 80%;' y2=1 x1=0></line><line id=jcGEfVru y1=0 x2=84 style='fill: none;stroke: lightblue;stroke-width: 1;opacity: 80%;' y2=500 x1=84></line><line id=GNRhCzu7 y1=84 x2=500 style='fill: none;stroke: lightblue;stroke-width: 1;opacity: 80%;' y2=84 x1=0></line><line id=4q3wdGYS y1=0 x2=167 style='fill: none;stroke: lightblue;stroke-width: 1;opacity: 80%;' y2=500 x1=167></line><line id=9UENESD9 y1=167 x2=500 style='fill: none;stroke: lightblue;stroke-width: 1;opacity: 80%;' y2=167 x1=0></line><line id=ixvN7YXs y1=0 x2=250 style='fill: none;stroke: lightblue;stroke-width: 1;opacity: 80%;' y2=500 x1=250></line><line id=68Eq351J y1=250 x2=500 style='fill: none;stroke: lightblue;stroke-width: 1;opacity: 80%;' y2=250 x1=0></line><line id=KOM08CcA y1=0 x2=333 style='fill: none;stroke: lightblue;stroke-width: 1;opacity: 80%;' y2=500 x1=333></line><line id=kNWkCbv7 y1=333 x2=500 style='fill: none;stroke: lightblue;stroke-width: 1;opacity: 80%;' y2=333 x1=0></line><line id=EtMvzoOP y1=0 x2=416 style='fill: none;stroke: lightblue;stroke-width: 1;opacity: 80%;' y2=500 x1=416></line><line id=roDKjAex y1=416 x2=500 style='fill: none;stroke: lightblue;stroke-width: 1;opacity: 80%;' y2=416 x1=0></line><line id=UfuLelS3 y1=0 x2=499 style='fill: none;stroke: lightblue;stroke-width: 1;opacity: 80%;' y2=500 x1=499></line><line id=T0p0eLmX y1=499 x2=500 style='fill: none;stroke: lightblue;stroke-width: 1;opacity: 80%;' y2=499 x1=0></line></g><g id=age height=500 width=500><circle id=6Kk0buCk cx=250 style='fill: orange;' r=5 cy=473></circle><circle id=7agbVkqe cx=365 style='fill: orange;' r=5 cy=181></circle><circle id=deygie7G cx=96 style='fill: orange;' r=5 cy=156></circle><circle id=m9wim5LF cx=272 style='fill: orange;' r=5 cy=290></circle><circle id=Wg1a86kh cx=499 style='fill: orange;' r=5 cy=145></circle><circle id=1TcMnKqr cx=17 style='fill: orange;' r=5 cy=66></circle><circle id=eMy2SvMu cx=152 style='fill: orange;' r=5 cy=238></circle><circle id=E5ML9BaE cx=201 style='fill: orange;' r=5 cy=199></circle><circle id=GcbmWLJf cx=463 style='fill: orange;' r=5 cy=500></circle><circle id=ztVlM4cy cx=273 style='fill: orange;' r=5 cy=192></circle><circle id=n9z3aOpf cx=25 style='fill: orange;' r=5 cy=1></circle><circle id=SpF4bm03 cx=450 style='fill: orange;' r=5 cy=176></circle><circle id=AoAg2qE4 cx=58 style='fill: orange;' r=5 cy=93></circle><circle id=k5uUW8f7 cx=189 style='fill: orange;' r=5 cy=7></circle><circle id=qVL0B0hK cx=436 style='fill: orange;' r=5 cy=82></circle><circle id=MdYjpu6h cx=174 style='fill: orange;' r=5 cy=228></circle><circle id=tRSRsoWm cx=244 style='fill: orange;' r=5 cy=179></circle><circle id=AoHHEPV8 cx=269 style='fill: orange;' r=5 cy=80></circle><circle id=IwjYBekU cx=372 style='fill: orange;' r=5 cy=51></circle><circle id=nYwcJpsj cx=0 style='fill: orange;' r=5 cy=220></circle></g><g id=petal height=500 width=500><circle id=2Da1hssL cx=250 style='fill: lightblue;' r=5 cy=177></circle><circle id=HjEgsNHZ cx=365 style='fill: lightblue;' r=5 cy=500></circle><circle id=MAVuYMDm cx=96 style='fill: lightblue;' r=5 cy=188></circle><circle id=gIdO1qIO cx=272 style='fill: lightblue;' r=5 cy=1></circle><circle id=IaLZoyfA cx=499 style='fill: lightblue;' r=5 cy=310></circle><circle id=K9HfYaJF cx=17 style='fill: lightblue;' r=5 cy=238></circle><circle id=57F5VJNk cx=152 style='fill: lightblue;' r=5 cy=71></circle><circle id=Zj7GzUOr cx=201 style='fill: lightblue;' r=5 cy=436></circle><circle id=UmmyhbiF cx=463 style='fill: lightblue;' r=5 cy=231></circle><circle id=mRsaqNde cx=273 style='fill: lightblue;' r=5 cy=95></circle><circle id=RoAR49zb cx=25 style='fill: lightblue;' r=5 cy=348></circle><circle id=iaqNAXsg cx=450 style='fill: lightblue;' r=5 cy=177></circle><circle id=SNHRedyv cx=58 style='fill: lightblue;' r=5 cy=248></circle><circle id=ZGvESBpg cx=189 style='fill: lightblue;' r=5 cy=157></circle><circle id=6Z6CLiNc cx=436 style='fill: lightblue;' r=5 cy=198></circle><circle id=ENwb6rdS cx=174 style='fill: lightblue;' r=5 cy=157></circle><circle id=veAamOFr cx=244 style='fill: lightblue;' r=5 cy=193></circle><circle id=CZxBSIzx cx=269 style='fill: lightblue;' r=5 cy=181></circle><circle id=KvX3sIef cx=372 style='fill: lightblue;' r=5 cy=255></circle><circle id=Emo5oB1R cx=0 style='fill: lightblue;' r=5 cy=163></circle></g></svg>\""
      ]
     },
     "metadata": {},
     "output_type": "display_data"
    },
    {
     "data": {
      "text/html": [
       "\"<svg id=window height=500 width=500><g id=axes height=500 width=500><line id=j6jzeMiy y1=500 x2=500 style='fill: none;stroke: black;stroke-width: 4;' y2=500 x1=0></line><line id=aKfZvTxl y1=0 x2=0 style='fill: none;stroke: black;stroke-width: 4;' y2=500 x1=0></line></g><g id=grid height=500 width=500><line id=DLrYGwNx y1=0 x2=1 style='fill: none;stroke: lightblue;stroke-width: 1;opacity: 80%;' y2=500 x1=1></line><line id=w56AH0UP y1=1 x2=500 style='fill: none;stroke: lightblue;stroke-width: 1;opacity: 80%;' y2=1 x1=0></line><line id=jcGEfVru y1=0 x2=84 style='fill: none;stroke: lightblue;stroke-width: 1;opacity: 80%;' y2=500 x1=84></line><line id=GNRhCzu7 y1=84 x2=500 style='fill: none;stroke: lightblue;stroke-width: 1;opacity: 80%;' y2=84 x1=0></line><line id=4q3wdGYS y1=0 x2=167 style='fill: none;stroke: lightblue;stroke-width: 1;opacity: 80%;' y2=500 x1=167></line><line id=9UENESD9 y1=167 x2=500 style='fill: none;stroke: lightblue;stroke-width: 1;opacity: 80%;' y2=167 x1=0></line><line id=ixvN7YXs y1=0 x2=250 style='fill: none;stroke: lightblue;stroke-width: 1;opacity: 80%;' y2=500 x1=250></line><line id=68Eq351J y1=250 x2=500 style='fill: none;stroke: lightblue;stroke-width: 1;opacity: 80%;' y2=250 x1=0></line><line id=KOM08CcA y1=0 x2=333 style='fill: none;stroke: lightblue;stroke-width: 1;opacity: 80%;' y2=500 x1=333></line><line id=kNWkCbv7 y1=333 x2=500 style='fill: none;stroke: lightblue;stroke-width: 1;opacity: 80%;' y2=333 x1=0></line><line id=EtMvzoOP y1=0 x2=416 style='fill: none;stroke: lightblue;stroke-width: 1;opacity: 80%;' y2=500 x1=416></line><line id=roDKjAex y1=416 x2=500 style='fill: none;stroke: lightblue;stroke-width: 1;opacity: 80%;' y2=416 x1=0></line><line id=UfuLelS3 y1=0 x2=499 style='fill: none;stroke: lightblue;stroke-width: 1;opacity: 80%;' y2=500 x1=499></line><line id=T0p0eLmX y1=499 x2=500 style='fill: none;stroke: lightblue;stroke-width: 1;opacity: 80%;' y2=499 x1=0></line></g><g id=age height=500 width=500><circle id=6Kk0buCk cx=250 style='fill: orange;' r=5 cy=473></circle><circle id=7agbVkqe cx=365 style='fill: orange;' r=5 cy=181></circle><circle id=deygie7G cx=96 style='fill: orange;' r=5 cy=156></circle><circle id=m9wim5LF cx=272 style='fill: orange;' r=5 cy=290></circle><circle id=Wg1a86kh cx=499 style='fill: orange;' r=5 cy=145></circle><circle id=1TcMnKqr cx=17 style='fill: orange;' r=5 cy=66></circle><circle id=eMy2SvMu cx=152 style='fill: orange;' r=5 cy=238></circle><circle id=E5ML9BaE cx=201 style='fill: orange;' r=5 cy=199></circle><circle id=GcbmWLJf cx=463 style='fill: orange;' r=5 cy=500></circle><circle id=ztVlM4cy cx=273 style='fill: orange;' r=5 cy=192></circle><circle id=n9z3aOpf cx=25 style='fill: orange;' r=5 cy=1></circle><circle id=SpF4bm03 cx=450 style='fill: orange;' r=5 cy=176></circle><circle id=AoAg2qE4 cx=58 style='fill: orange;' r=5 cy=93></circle><circle id=k5uUW8f7 cx=189 style='fill: orange;' r=5 cy=7></circle><circle id=qVL0B0hK cx=436 style='fill: orange;' r=5 cy=82></circle><circle id=MdYjpu6h cx=174 style='fill: orange;' r=5 cy=228></circle><circle id=tRSRsoWm cx=244 style='fill: orange;' r=5 cy=179></circle><circle id=AoHHEPV8 cx=269 style='fill: orange;' r=5 cy=80></circle><circle id=IwjYBekU cx=372 style='fill: orange;' r=5 cy=51></circle><circle id=nYwcJpsj cx=0 style='fill: orange;' r=5 cy=220></circle></g><g id=petal height=500 width=500><circle id=2Da1hssL cx=250 style='fill: lightblue;' r=5 cy=177></circle><circle id=HjEgsNHZ cx=365 style='fill: lightblue;' r=5 cy=500></circle><circle id=MAVuYMDm cx=96 style='fill: lightblue;' r=5 cy=188></circle><circle id=gIdO1qIO cx=272 style='fill: lightblue;' r=5 cy=1></circle><circle id=IaLZoyfA cx=499 style='fill: lightblue;' r=5 cy=310></circle><circle id=K9HfYaJF cx=17 style='fill: lightblue;' r=5 cy=238></circle><circle id=57F5VJNk cx=152 style='fill: lightblue;' r=5 cy=71></circle><circle id=Zj7GzUOr cx=201 style='fill: lightblue;' r=5 cy=436></circle><circle id=UmmyhbiF cx=463 style='fill: lightblue;' r=5 cy=231></circle><circle id=mRsaqNde cx=273 style='fill: lightblue;' r=5 cy=95></circle><circle id=RoAR49zb cx=25 style='fill: lightblue;' r=5 cy=348></circle><circle id=iaqNAXsg cx=450 style='fill: lightblue;' r=5 cy=177></circle><circle id=SNHRedyv cx=58 style='fill: lightblue;' r=5 cy=248></circle><circle id=ZGvESBpg cx=189 style='fill: lightblue;' r=5 cy=157></circle><circle id=6Z6CLiNc cx=436 style='fill: lightblue;' r=5 cy=198></circle><circle id=ENwb6rdS cx=174 style='fill: lightblue;' r=5 cy=157></circle><circle id=veAamOFr cx=244 style='fill: lightblue;' r=5 cy=193></circle><circle id=CZxBSIzx cx=269 style='fill: lightblue;' r=5 cy=181></circle><circle id=KvX3sIef cx=372 style='fill: lightblue;' r=5 cy=255></circle><circle id=Emo5oB1R cx=0 style='fill: lightblue;' r=5 cy=163></circle></g></svg>\""
      ],
      "text/plain": []
     },
     "execution_count": 4,
     "metadata": {},
     "output_type": "execute_result"
    }
   ],
   "source": [
    "figure3 = context(500, 500) do con::Context\n",
    "    group(con) do plotgroup::Group\n",
    "        group!(plotgroup, \"axes\") do g::Group\n",
    "            Gattino.axes!(g)\n",
    "        end\n",
    "        group!(plotgroup, \"grid\") do g::Group\n",
    "            Gattino.grid!(g, 6)\n",
    "        end\n",
    "        group!(plotgroup, \"age\") do g::Group\n",
    "            Gattino.points!(g, df[!, \"stem\"], df[!, \"age\"], \"fill\" => \"orange\")\n",
    "        end\n",
    "        group!(plotgroup, \"petal\") do g::Group\n",
    "            Gattino.points!(g, df[!, \"stem\"], df[!, \"petal\"], \"fill\" => \"lightblue\")\n",
    "        end\n",
    "    end\n",
    "end"
   ]
  },
  {
   "cell_type": "code",
   "execution_count": 5,
   "id": "625b5f97",
   "metadata": {},
   "outputs": [
    {
     "data": {
      "text/plain": [
       "4-element Vector{Pair{Int64, String}}:\n",
       " 1 => \"axes\"\n",
       " 2 => \"grid\"\n",
       " 3 => \"age\"\n",
       " 4 => \"petal\""
      ]
     },
     "execution_count": 5,
     "metadata": {},
     "output_type": "execute_result"
    }
   ],
   "source": [
    "layers(figure3)"
   ]
  },
  {
   "cell_type": "code",
   "execution_count": 6,
   "id": "328076f3",
   "metadata": {},
   "outputs": [],
   "source": [
    "style!(figure3, \"axes\", \"stroke\" => \"orange\")"
   ]
  },
  {
   "cell_type": "code",
   "execution_count": 7,
   "id": "bca85455",
   "metadata": {},
   "outputs": [],
   "source": [
    "open_layer!(figure3, \"petal\") do ec\n",
    "    style!(ec, df[!, \"petal_count\"], \"stroke-width\" => 5)\n",
    "    style!(ec, \"stroke\" => \"green\")\n",
    "end"
   ]
  },
  {
   "cell_type": "code",
   "execution_count": 8,
   "id": "4c1ffa70",
   "metadata": {},
   "outputs": [],
   "source": [
    "group!(figure3, \"annotation\") do g::Group\n",
    "    Gattino.text!(g, 100, 100, \"hello !\", \"stroke\" => \"darkblue\")\n",
    "end"
   ]
  },
  {
   "cell_type": "code",
   "execution_count": 9,
   "id": "fee08bd0",
   "metadata": {},
   "outputs": [
    {
     "data": {
      "text/plain": [
       "10-element Vector{Pair{Int64, String}}:\n",
       "  1 => \"j9qJSueA\"\n",
       "  2 => \"title\"\n",
       "  3 => \"axes\"\n",
       "  4 => \"grid\"\n",
       "  5 => \"age\"\n",
       "  6 => \"petal_count\"\n",
       "  7 => \"stem\"\n",
       "  8 => \"labels\"\n",
       "  9 => \"axislabels\"\n",
       " 10 => \"legend\""
      ]
     },
     "execution_count": 9,
     "metadata": {},
     "output_type": "execute_result"
    }
   ],
   "source": [
    "layers(figure1)"
   ]
  },
  {
   "cell_type": "code",
   "execution_count": 10,
   "id": "f15d5997",
   "metadata": {},
   "outputs": [
    {
     "data": {
      "text/plain": [
       "([0.5388265766021577, -1.2228025640379523, 0.451215134033976, 2.1921327059888442, 0.1910924041623354, 1.0299360287436505, 1.200589125974724, -0.589271222972252, 1.0951375392755152, -0.6935366846301898, 0.5102925763883772, -0.012355370796033785, -0.23893759018386676, 0.5150585483637093, -0.9839007032344697, 0.1208508347985274, 2.229629712626705, -0.01600169878807265, -0.11356441727187606, -2.4635065613273017], [1.7703366076442286, -2.0593318220160977, 0.5452310001171969, -2.0216615672348057, -0.4638441389945684, 1.5845438471108468, 0.11331623178655835, 0.6647025054160699, -0.24855677152819133, -0.4757274867095032, -0.7966902946960511, 0.20083394514555375, -0.7818878292073965, -0.527467205935074, 0.8250173320255993, -1.8277821790820272, 0.15495845251732848, 2.1896050531686417, 0.2024469910047206, -1.6946460970088875])"
      ]
     },
     "execution_count": 10,
     "metadata": {},
     "output_type": "execute_result"
    }
   ],
   "source": [
    "seed_count, stem_count = randn(20), randn(20)"
   ]
  },
  {
   "cell_type": "code",
   "execution_count": 11,
   "id": "c3456158",
   "metadata": {},
   "outputs": [
    {
     "data": {
      "text/plain": [
       "(60, 60)"
      ]
     },
     "execution_count": 11,
     "metadata": {},
     "output_type": "execute_result"
    }
   ],
   "source": [
    "w, h = Int64(round(figure1.dim[1] * .75)), Int64(round(figure1.dim[2] * .75))\n",
    "ml, mt = Int64(round(figure1.dim[1] * .12)) + figure1.margin[1], Int64(figure1.dim[2] * .12) + figure1.margin[2]"
   ]
  },
  {
   "cell_type": "code",
   "execution_count": 12,
   "id": "c01e17c6",
   "metadata": {},
   "outputs": [],
   "source": [
    "group(figure1, w, h, ml => mt) do plotgroup::Group\n",
    "    group!(plotgroup, \"seed_count\") do g::Group\n",
    "        Gattino.points!(g, df[!, \"petal\"], seed_count, \"fill\" => \"brown\")\n",
    "    end\n",
    "end"
   ]
  },
  {
   "cell_type": "code",
   "execution_count": 13,
   "id": "9b090414",
   "metadata": {},
   "outputs": [
    {
     "data": {
      "text/plain": [
       "11-element Vector{Pair{Int64, String}}:\n",
       "  1 => \"j9qJSueA\"\n",
       "  2 => \"title\"\n",
       "  3 => \"axes\"\n",
       "  4 => \"grid\"\n",
       "  5 => \"age\"\n",
       "  6 => \"petal_count\"\n",
       "  7 => \"stem\"\n",
       "  8 => \"labels\"\n",
       "  9 => \"axislabels\"\n",
       " 10 => \"legend\"\n",
       " 11 => \"seed_count\""
      ]
     },
     "execution_count": 13,
     "metadata": {},
     "output_type": "execute_result"
    }
   ],
   "source": [
    "layers(figure1)"
   ]
  },
  {
   "cell_type": "code",
   "execution_count": 14,
   "id": "bddeeeeb",
   "metadata": {},
   "outputs": [
    {
     "data": {
      "text/plain": [
       "11-element Vector{Pair{Int64, String}}:\n",
       "  1 => \"j9qJSueA\"\n",
       "  2 => \"title\"\n",
       "  3 => \"axes\"\n",
       "  4 => \"grid\"\n",
       "  5 => \"age\"\n",
       "  6 => \"petal_count\"\n",
       "  7 => \"stem\"\n",
       "  8 => \"seed_count\"\n",
       "  9 => \"labels\"\n",
       " 10 => \"axislabels\"\n",
       " 11 => \"legend\""
      ]
     },
     "execution_count": 14,
     "metadata": {},
     "output_type": "execute_result"
    }
   ],
   "source": [
    "move_layer!(figure1, \"seed_count\", 8)"
   ]
  },
  {
   "cell_type": "code",
   "execution_count": 15,
   "id": "3da49b96",
   "metadata": {},
   "outputs": [],
   "source": [
    "Gattino.append_legend!(figure1, \"seed_count\")"
   ]
  },
  {
   "cell_type": "code",
   "execution_count": 16,
   "id": "f0d73998",
   "metadata": {},
   "outputs": [],
   "source": [
    "open_layer!(figure1, \"stem\") do ec\n",
    "    set!(ec, :r, stem_count, max = 10)\n",
    "end"
   ]
  },
  {
   "cell_type": "code",
   "execution_count": 17,
   "id": "f45c7a39",
   "metadata": {},
   "outputs": [
    {
     "data": {
      "text/plain": [
       "\"'fill: #FF99E6;'\""
      ]
     },
     "execution_count": 17,
     "metadata": {},
     "output_type": "execute_result"
    }
   ],
   "source": [
    "color = replace(split(figure1[\"stem\"][:children][1][\"style\"], \" \")[2], \";\" => \"\", \"'\" => \"\")\n",
    "\n",
    "rcirc = Gattino.circle(\"stem_count\", r = 2)\n",
    "style!(rcirc, \"fill\" => color)\n",
    "rcirc2 = Gattino.circle(\"stem_count\", r = 4)\n",
    "style!(rcirc2, \"fill\" => color)"
   ]
  },
  {
   "cell_type": "code",
   "execution_count": 18,
   "id": "7e143cf5",
   "metadata": {},
   "outputs": [
    {
     "data": {
      "text/plain": [
       "2-element Vector{Vector{Toolips.Servable}}:\n",
       " [Toolips.Component{:circle}(\"stem_count\", Dict{Any, Any}(:children => Toolips.Servable[], \"style\" => \"'fill: #FF99E6;'\", :r => 2), Toolips.Servable[], \"circle\"), Toolips.Component{:circle}(\"stem_count\", Dict{Any, Any}(:children => Toolips.Servable[], \"style\" => \"'fill: #FF99E6;'\", :r => 4), Toolips.Servable[], \"circle\")]\n",
       " [Toolips.Component{:circle}(\"stem_count\", Dict{Any, Any}(:children => Toolips.Servable[], \"style\" => \"'fill: #FF99E6;'\", :r => 2), Toolips.Servable[], \"circle\"), Toolips.Component{:circle}(\"stem_count\", Dict{Any, Any}(:children => Toolips.Servable[], \"style\" => \"'fill: #FF99E6;'\", :r => 4), Toolips.Servable[], \"circle\")]"
      ]
     },
     "execution_count": 18,
     "metadata": {},
     "output_type": "execute_result"
    }
   ],
   "source": [
    "circgroup = Gattino.ToolipsSVG.g(\"stem_count\")\n",
    "push!(circgroup, rcirc, rcirc2)"
   ]
  },
  {
   "cell_type": "code",
   "execution_count": 19,
   "id": "a8e7b958",
   "metadata": {},
   "outputs": [],
   "source": [
    "Gattino.append_legend!(figure1, \"stem_count\", circgroup)"
   ]
  },
  {
   "cell_type": "code",
   "execution_count": 20,
   "id": "60d3318c",
   "metadata": {},
   "outputs": [
    {
     "data": {
      "text/html": [
       "\"<div id=jNb><svg id=window height=250 style='display: inline-block;' width=250><g id=axes height=250 width=250><line id=CTCJfmdZ y1=250 x2=250 style='fill: none;stroke: black;stroke-width: 4;' y2=250 x1=0></line><line id=NC7lfEmx y1=0 x2=0 style='fill: none;stroke: black;stroke-width: 4;' y2=250 x1=0></line></g><g id=grid height=250 width=250><line id=QSq4HnEt y1=0 x2=1 style='fill: none;stroke: lightblue;stroke-width: 1;opacity: 80%;' y2=250 x1=1></line><line id=TRwKoYwT y1=1 x2=250 style='fill: none;stroke: lightblue;stroke-width: 1;opacity: 80%;' y2=1 x1=0></line><line id=xzoyZ5MS y1=0 x2=63 style='fill: none;stroke: lightblue;stroke-width: 1;opacity: 80%;' y2=250 x1=63></line><line id=UFiAOmPM y1=63 x2=250 style='fill: none;stroke: lightblue;stroke-width: 1;opacity: 80%;' y2=63 x1=0></line><line id=FeoDCZeb y1=0 x2=125 style='fill: none;stroke: lightblue;stroke-width: 1;opacity: 80%;' y2=250 x1=125></line><line id=56kSGulB y1=125 x2=250 style='fill: none;stroke: lightblue;stroke-width: 1;opacity: 80%;' y2=125 x1=0></line><line id=RVWWAeGJ y1=0 x2=187 style='fill: none;stroke: lightblue;stroke-width: 1;opacity: 80%;' y2=250 x1=187></line><line id=vxnrZAks y1=187 x2=250 style='fill: none;stroke: lightblue;stroke-width: 1;opacity: 80%;' y2=187 x1=0></line><line id=6hKJpDEV y1=0 x2=249 style='fill: none;stroke: lightblue;stroke-width: 1;opacity: 80%;' y2=250 x1=249></line><line id=87j3i1Hd y1=249 x2=250 style='fill: none;stroke: lightblue;stroke-width: 1;opacity: 80%;' y2=249 x1=0></line></g><g id=points height=250 width=250><circle id=rmogxlj1 cx=197 style='fill: #FF6633;' r=5 cy=125></circle><circle id=WNM1IENw cx=181 style='fill: #FF6633;' r=5 cy=68></circle><circle id=eMS6JW6a cx=176 style='fill: #FF6633;' r=5 cy=202></circle><circle id=URIiYbgk cx=0 style='fill: #FF6633;' r=5 cy=114></circle><circle id=fbcDVFOP cx=125 style='fill: #FF6633;' r=5 cy=1></circle><circle id=GXeYuVPX cx=83 style='fill: #FF6633;' r=5 cy=241></circle><circle id=hMALxtS6 cx=105 style='fill: #FF6633;' r=5 cy=174></circle><circle id=5S7IgoiT cx=51 style='fill: #FF6633;' r=5 cy=150></circle><circle id=r8B0WOxd cx=119 style='fill: #FF6633;' r=5 cy=19></circle><circle id=nyu11opC cx=209 style='fill: #FF6633;' r=5 cy=114></circle><circle id=tqTV2rMu cx=123 style='fill: #FF6633;' r=5 cy=238></circle><circle id=ClkzZ5Je cx=96 style='fill: #FF6633;' r=5 cy=25></circle><circle id=Ch26Xfok cx=249 style='fill: #FF6633;' r=5 cy=221></circle><circle id=HrbawTIn cx=156 style='fill: #FF6633;' r=5 cy=155></circle><circle id=Phn7kjFV cx=155 style='fill: #FF6633;' r=5 cy=33></circle><circle id=A5kWFpBO cx=136 style='fill: #FF6633;' r=5 cy=163></circle><circle id=Bk7nOBc1 cx=130 style='fill: #FF6633;' r=5 cy=128></circle><circle id=IJikfbyV cx=222 style='fill: #FF6633;' r=5 cy=116></circle><circle id=l5zyUJWv cx=157 style='fill: #FF6633;' r=5 cy=64></circle><circle id=3yKwFAST cx=175 style='fill: #FF6633;' r=5 cy=250></circle></g><g id=labels height=250 width=250><text id=YIgCGZ42 y=240 style='fill: black;font-size: 10pt;' x=-3>-2.663</text><text id=OgxXK2W8 y=-1 style='fill: black;font-size: 10pt;' x=0>1.6896</text><text id=YQMazdWe y=240 style='fill: black;font-size: 10pt;' x=59>-1.518</text><text id=EF5u613N y=61 style='fill: black;font-size: 10pt;' x=0>0.9323</text><text id=3U0deiUZ y=240 style='fill: black;font-size: 10pt;' x=121>-0.372</text><text id=27KvGq0g y=123 style='fill: black;font-size: 10pt;' x=0>0.1750</text><text id=FFs6y6Q3 y=240 style='fill: black;font-size: 10pt;' x=183>0.7728</text><text id=Fyd2nRTu y=185 style='fill: black;font-size: 10pt;' x=0>-0.582</text><text id=F2jSSxRx y=240 style='fill: black;font-size: 10pt;' x=245>1.9184</text><text id=qiqJUzJU y=247 style='fill: black;font-size: 10pt;' x=0>-1.339</text></g><g id=legend><rect id=legendbg width=50 y=175 height=0 style='stroke: darkgray;fill: white;stroke-width: 2px;' x=185></rect></g></svg><svg id=window height=500 style='display: inline-block;' width=500><g id=axes height=500 width=500><line id=j6jzeMiy y1=500 x2=500 style='fill: none;stroke: black;stroke-width: 4;stroke: orange;' y2=500 x1=0></line><line id=aKfZvTxl y1=0 x2=0 style='fill: none;stroke: black;stroke-width: 4;stroke: orange;' y2=500 x1=0></line></g><g id=grid height=500 width=500><line id=DLrYGwNx y1=0 x2=1 style='fill: none;stroke: lightblue;stroke-width: 1;opacity: 80%;' y2=500 x1=1></line><line id=w56AH0UP y1=1 x2=500 style='fill: none;stroke: lightblue;stroke-width: 1;opacity: 80%;' y2=1 x1=0></line><line id=jcGEfVru y1=0 x2=84 style='fill: none;stroke: lightblue;stroke-width: 1;opacity: 80%;' y2=500 x1=84></line><line id=GNRhCzu7 y1=84 x2=500 style='fill: none;stroke: lightblue;stroke-width: 1;opacity: 80%;' y2=84 x1=0></line><line id=4q3wdGYS y1=0 x2=167 style='fill: none;stroke: lightblue;stroke-width: 1;opacity: 80%;' y2=500 x1=167></line><line id=9UENESD9 y1=167 x2=500 style='fill: none;stroke: lightblue;stroke-width: 1;opacity: 80%;' y2=167 x1=0></line><line id=ixvN7YXs y1=0 x2=250 style='fill: none;stroke: lightblue;stroke-width: 1;opacity: 80%;' y2=500 x1=250></line><line id=68Eq351J y1=250 x2=500 style='fill: none;stroke: lightblue;stroke-width: 1;opacity: 80%;' y2=250 x1=0></line><line id=KOM08CcA y1=0 x2=333 style='fill: none;stroke: lightblue;stroke-width: 1;opacity: 80%;' y2=500 x1=333></line><line id=kNWkCbv7 y1=333 x2=500 style='fill: none;stroke: lightblue;stroke-width: 1;opacity: 80%;' y2=333 x1=0></line><line id=EtMvzoOP y1=0 x2=416 style='fill: none;stroke: lightblue;stroke-width: 1;opacity: 80%;' y2=500 x1=416></line><line id=roDKjAex y1=416 x2=500 style='fill: none;stroke: lightblue;stroke-width: 1;opacity: 80%;' y2=416 x1=0></line><line id=UfuLelS3 y1=0 x2=499 style='fill: none;stroke: lightblue;stroke-width: 1;opacity: 80%;' y2=500 x1=499></line><line id=T0p0eLmX y1=499 x2=500 style='fill: none;stroke: lightblue;stroke-width: 1;opacity: 80%;' y2=499 x1=0></line></g><g id=age height=500 width=500><circle id=6Kk0buCk cx=250 style='fill: orange;' r=5 cy=473></circle><circle id=7agbVkqe cx=365 style='fill: orange;' r=5 cy=181></circle><circle id=deygie7G cx=96 style='fill: orange;' r=5 cy=156></circle><circle id=m9wim5LF cx=272 style='fill: orange;' r=5 cy=290></circle><circle id=Wg1a86kh cx=499 style='fill: orange;' r=5 cy=145></circle><circle id=1TcMnKqr cx=17 style='fill: orange;' r=5 cy=66></circle><circle id=eMy2SvMu cx=152 style='fill: orange;' r=5 cy=238></circle><circle id=E5ML9BaE cx=201 style='fill: orange;' r=5 cy=199></circle><circle id=GcbmWLJf cx=463 style='fill: orange;' r=5 cy=500></circle><circle id=ztVlM4cy cx=273 style='fill: orange;' r=5 cy=192></circle><circle id=n9z3aOpf cx=25 style='fill: orange;' r=5 cy=1></circle><circle id=SpF4bm03 cx=450 style='fill: orange;' r=5 cy=176></circle><circle id=AoAg2qE4 cx=58 style='fill: orange;' r=5 cy=93></circle><circle id=k5uUW8f7 cx=189 style='fill: orange;' r=5 cy=7></circle><circle id=qVL0B0hK cx=436 style='fill: orange;' r=5 cy=82></circle><circle id=MdYjpu6h cx=174 style='fill: orange;' r=5 cy=228></circle><circle id=tRSRsoWm cx=244 style='fill: orange;' r=5 cy=179></circle><circle id=AoHHEPV8 cx=269 style='fill: orange;' r=5 cy=80></circle><circle id=IwjYBekU cx=372 style='fill: orange;' r=5 cy=51></circle><circle id=nYwcJpsj cx=0 style='fill: orange;' r=5 cy=220></circle></g><g id=petal height=500 width=500><circle id=2Da1hssL cx=250 style='fill: lightblue;stroke-width: 2;stroke: green;' r=5 cy=177></circle><circle id=HjEgsNHZ cx=365 style='fill: lightblue;stroke-width: 2;stroke: green;' r=5 cy=500></circle><circle id=MAVuYMDm cx=96 style='fill: lightblue;stroke-width: 1;stroke: green;' r=5 cy=188></circle><circle id=gIdO1qIO cx=272 style='fill: lightblue;stroke-width: -7;stroke: green;' r=5 cy=1></circle><circle id=IaLZoyfA cx=499 style='fill: lightblue;stroke-width: -1;stroke: green;' r=5 cy=310></circle><circle id=K9HfYaJF cx=17 style='fill: lightblue;stroke-width: -3;stroke: green;' r=5 cy=238></circle><circle id=57F5VJNk cx=152 style='fill: lightblue;stroke-width: -2;stroke: green;' r=5 cy=71></circle><circle id=Zj7GzUOr cx=201 style='fill: lightblue;stroke-width: -5;stroke: green;' r=5 cy=436></circle><circle id=UmmyhbiF cx=463 style='fill: lightblue;stroke-width: -1;stroke: green;' r=5 cy=231></circle><circle id=mRsaqNde cx=273 style='fill: lightblue;stroke-width: 3;stroke: green;' r=5 cy=95></circle><circle id=RoAR49zb cx=25 style='fill: lightblue;stroke-width: -1;stroke: green;' r=5 cy=348></circle><circle id=iaqNAXsg cx=450 style='fill: lightblue;stroke-width: -2;stroke: green;' r=5 cy=177></circle><circle id=SNHRedyv cx=58 style='fill: lightblue;stroke-width: 5;stroke: green;' r=5 cy=248></circle><circle id=ZGvESBpg cx=189 style='fill: lightblue;stroke-width: 1;stroke: green;' r=5 cy=157></circle><circle id=6Z6CLiNc cx=436 style='fill: lightblue;stroke-width: 1;stroke: green;' r=5 cy=198></circle><circle id=ENwb6rdS cx=174 style='fill: lightblue;stroke-width: 0;stroke: green;' r=5 cy=157></circle><circle id=veAamOFr cx=244 style='fill: lightblue;stroke-width: -1;stroke: green;' r=5 cy=193></circle><circle id=CZxBSIzx cx=269 style='fill: lightblue;stroke-width: 4;stroke: green;' r=5 cy=181></circle><circle id=KvX3sIef cx=372 style='fill: lightblue;stroke-width: 1;stroke: green;' r=5 cy=255></circle><circle id=Emo5oB1R cx=0 style='fill: lightblue;stroke-width: 1;stroke: green;' r=5 cy=163></circle></g><g id=annotation height=500 width=500><text id=7MEcnMRI y=100 style='stroke: darkblue;' x=100>hello !</text></g></svg></div>\""
      ],
      "text/plain": [
       "Toolips.Component{:div}(\"jNb\", Dict{Any, Any}(:children => Toolips.Servable[Toolips.Component{:svg}(\"window\", Dict{Any, Any}(:children => Toolips.Servable[Toolips.Component{:g}(\"axes\", Dict{Any, Any}(:children => Toolips.Servable[Toolips.Component{:line}(\"CTCJfmdZ\", Dict{Any, Any}(:children => Toolips.Servable[], :y1 => 250, :x2 => 250, \"style\" => \"'fill: none;stroke: black;stroke-width: 4;'\", :y2 => 250, :x1 => 0), Toolips.Servable[], \"line\"), Toolips.Component{:line}(\"NC7lfEmx\", Dict{Any, Any}(:children => Toolips.Servable[], :y1 => 0, :x2 => 0, \"style\" => \"'fill: none;stroke: black;stroke-width: 4;'\", :y2 => 250, :x1 => 0), Toolips.Servable[], \"line\")], :height => 250, :width => 250), Toolips.Servable[], \"g\"), Toolips.Component{:g}(\"grid\", Dict{Any, Any}(:children => Toolips.Servable[Toolips.Component{:line}(\"QSq4HnEt\", Dict{Any, Any}(:children => Toolips.Servable[], :y1 => 0, :x2 => 1, \"style\" => \"'fill: none;stroke: lightblue;stroke-width: 1;opacity: 80%;'\", :y2 => 250, :x1 => 1), Toolips.Servable[], \"line\"), Toolips.Component{:line}(\"TRwKoYwT\", Dict{Any, Any}(:children => Toolips.Servable[], :y1 => 1, :x2 => 250, \"style\" => \"'fill: none;stroke: lightblue;stroke-width: 1;opacity: 80%;'\", :y2 => 1, :x1 => 0), Toolips.Servable[], \"line\"), Toolips.Component{:line}(\"xzoyZ5MS\", Dict{Any, Any}(:children => Toolips.Servable[], :y1 => 0, :x2 => 63, \"style\" => \"'fill: none;stroke: lightblue;stroke-width: 1;opacity: 80%;'\", :y2 => 250, :x1 => 63), Toolips.Servable[], \"line\"), Toolips.Component{:line}(\"UFiAOmPM\", Dict{Any, Any}(:children => Toolips.Servable[], :y1 => 63, :x2 => 250, \"style\" => \"'fill: none;stroke: lightblue;stroke-width: 1;opacity: 80%;'\", :y2 => 63, :x1 => 0), Toolips.Servable[], \"line\"), Toolips.Component{:line}(\"FeoDCZeb\", Dict{Any, Any}(:children => Toolips.Servable[], :y1 => 0, :x2 => 125, \"style\" => \"'fill: none;stroke: lightblue;stroke-width: 1;opacity: 80%;'\", :y2 => 250, :x1 => 125), Toolips.Servable[], \"line\"), Toolips.Component{:line}(\"56kSGulB\", Dict{Any, Any}(:children => Toolips.Servable[], :y1 => 125, :x2 => 250, \"style\" => \"'fill: none;stroke: lightblue;stroke-width: 1;opacity: 80%;'\", :y2 => 125, :x1 => 0), Toolips.Servable[], \"line\"), Toolips.Component{:line}(\"RVWWAeGJ\", Dict{Any, Any}(:children => Toolips.Servable[], :y1 => 0, :x2 => 187, \"style\" => \"'fill: none;stroke: lightblue;stroke-width: 1;opacity: 80%;'\", :y2 => 250, :x1 => 187), Toolips.Servable[], \"line\"), Toolips.Component{:line}(\"vxnrZAks\", Dict{Any, Any}(:children => Toolips.Servable[], :y1 => 187, :x2 => 250, \"style\" => \"'fill: none;stroke: lightblue;stroke-width: 1;opacity: 80%;'\", :y2 => 187, :x1 => 0), Toolips.Servable[], \"line\"), Toolips.Component{:line}(\"6hKJpDEV\", Dict{Any, Any}(:children => Toolips.Servable[], :y1 => 0, :x2 => 249, \"style\" => \"'fill: none;stroke: lightblue;stroke-width: 1;opacity: 80%;'\", :y2 => 250, :x1 => 249), Toolips.Servable[], \"line\"), Toolips.Component{:line}(\"87j3i1Hd\", Dict{Any, Any}(:children => Toolips.Servable[], :y1 => 249, :x2 => 250, \"style\" => \"'fill: none;stroke: lightblue;stroke-width: 1;opacity: 80%;'\", :y2 => 249, :x1 => 0), Toolips.Servable[], \"line\")], :height => 250, :width => 250), Toolips.Servable[], \"g\"), Toolips.Component{:g}(\"points\", Dict{Any, Any}(:children => Toolips.Servable[Toolips.Component{:circle}(\"rmogxlj1\", Dict{Any, Any}(:children => Toolips.Servable[], :cx => 197, \"style\" => \"'fill: #FF6633;'\", :r => 5, :cy => 125), Toolips.Servable[], \"circle\"), Toolips.Component{:circle}(\"WNM1IENw\", Dict{Any, Any}(:children => Toolips.Servable[], :cx => 181, \"style\" => \"'fill: #FF6633;'\", :r => 5, :cy => 68), Toolips.Servable[], \"circle\"), Toolips.Component{:circle}(\"eMS6JW6a\", Dict{Any, Any}(:children => Toolips.Servable[], :cx => 176, \"style\" => \"'fill: #FF6633;'\", :r => 5, :cy => 202), Toolips.Servable[], \"circle\"), Toolips.Component{:circle}(\"URIiYbgk\", Dict{Any, Any}(:children => Toolips.Servable[], :cx => 0, \"style\" => \"'fill: #FF6633;'\", :r => 5, :cy => 114), Toolips.Servable[], \"circle\"), Toolips.Component{:circle}(\"fbcDVFOP\", Dict{Any, Any}(:children => Toolips.Servable[], :cx => 125, \"style\" => \"'fill: #FF6633;'\", :r => 5, :cy => 1), Toolips.Servable[], \"circle\"), Toolips.Component{:circle}(\"GXeYuVPX\", Dict{Any, Any}(:children => Toolips.Servable[], :cx => 83, \"style\" => \"'fill: #FF6633;'\", :r => 5, :cy => 241), Toolips.Servable[], \"circle\"), Toolips.Component{:circle}(\"hMALxtS6\", Dict{Any, Any}(:children => Toolips.Servable[], :cx => 105, \"style\" => \"'fill: #FF6633;'\", :r => 5, :cy => 174), Toolips.Servable[], \"circle\"), Toolips.Component{:circle}(\"5S7IgoiT\", Dict{Any, Any}(:children => Toolips.Servable[], :cx => 51, \"style\" => \"'fill: #FF6633;'\", :r => 5, :cy => 150), Toolips.Servable[], \"circle\"), Toolips.Component{:circle}(\"r8B0WOxd\", Dict{Any, Any}(:children => Toolips.Servable[], :cx => 119, \"style\" => \"'fill: #FF6633;'\", :r => 5, :cy => 19), Toolips.Servable[], \"circle\"), Toolips.Component{:circle}(\"nyu11opC\", Dict{Any, Any}(:children => Toolips.Servable[], :cx => 209, \"style\" => \"'fill: #FF6633;'\", :r => 5, :cy => 114), Toolips.Servable[], \"circle\"), Toolips.Component{:circle}(\"tqTV2rMu\", Dict{Any, Any}(:children => Toolips.Servable[], :cx => 123, \"style\" => \"'fill: #FF6633;'\", :r => 5, :cy => 238), Toolips.Servable[], \"circle\"), Toolips.Component{:circle}(\"ClkzZ5Je\", Dict{Any, Any}(:children => Toolips.Servable[], :cx => 96, \"style\" => \"'fill: #FF6633;'\", :r => 5, :cy => 25), Toolips.Servable[], \"circle\"), Toolips.Component{:circle}(\"Ch26Xfok\", Dict{Any, Any}(:children => Toolips.Servable[], :cx => 249, \"style\" => \"'fill: #FF6633;'\", :r => 5, :cy => 221), Toolips.Servable[], \"circle\"), Toolips.Component{:circle}(\"HrbawTIn\", Dict{Any, Any}(:children => Toolips.Servable[], :cx => 156, \"style\" => \"'fill: #FF6633;'\", :r => 5, :cy => 155), Toolips.Servable[], \"circle\"), Toolips.Component{:circle}(\"Phn7kjFV\", Dict{Any, Any}(:children => Toolips.Servable[], :cx => 155, \"style\" => \"'fill: #FF6633;'\", :r => 5, :cy => 33), Toolips.Servable[], \"circle\"), Toolips.Component{:circle}(\"A5kWFpBO\", Dict{Any, Any}(:children => Toolips.Servable[], :cx => 136, \"style\" => \"'fill: #FF6633;'\", :r => 5, :cy => 163), Toolips.Servable[], \"circle\"), Toolips.Component{:circle}(\"Bk7nOBc1\", Dict{Any, Any}(:children => Toolips.Servable[], :cx => 130, \"style\" => \"'fill: #FF6633;'\", :r => 5, :cy => 128), Toolips.Servable[], \"circle\"), Toolips.Component{:circle}(\"IJikfbyV\", Dict{Any, Any}(:children => Toolips.Servable[], :cx => 222, \"style\" => \"'fill: #FF6633;'\", :r => 5, :cy => 116), Toolips.Servable[], \"circle\"), Toolips.Component{:circle}(\"l5zyUJWv\", Dict{Any, Any}(:children => Toolips.Servable[], :cx => 157, \"style\" => \"'fill: #FF6633;'\", :r => 5, :cy => 64), Toolips.Servable[], \"circle\"), Toolips.Component{:circle}(\"3yKwFAST\", Dict{Any, Any}(:children => Toolips.Servable[], :cx => 175, \"style\" => \"'fill: #FF6633;'\", :r => 5, :cy => 250), Toolips.Servable[], \"circle\")], :height => 250, :width => 250), Toolips.Servable[], \"g\"), Toolips.Component{:g}(\"labels\", Dict{Any, Any}(:children => Toolips.Servable[Toolips.Component{:text}(\"YIgCGZ42\", Dict{Any, Any}(:children => Toolips.Servable[], :y => 240, \"style\" => \"'fill: black;font-size: 10pt;'\", :text => \"-2.663\", :x => -3), Toolips.Servable[], \"text\"), Toolips.Component{:text}(\"OgxXK2W8\", Dict{Any, Any}(:children => Toolips.Servable[], :y => -1, \"style\" => \"'fill: black;font-size: 10pt;'\", :text => \"1.6896\", :x => 0), Toolips.Servable[], \"text\"), Toolips.Component{:text}(\"YQMazdWe\", Dict{Any, Any}(:children => Toolips.Servable[], :y => 240, \"style\" => \"'fill: black;font-size: 10pt;'\", :text => \"-1.518\", :x => 59), Toolips.Servable[], \"text\"), Toolips.Component{:text}(\"EF5u613N\", Dict{Any, Any}(:children => Toolips.Servable[], :y => 61, \"style\" => \"'fill: black;font-size: 10pt;'\", :text => \"0.9323\", :x => 0), Toolips.Servable[], \"text\"), Toolips.Component{:text}(\"3U0deiUZ\", Dict{Any, Any}(:children => Toolips.Servable[], :y => 240, \"style\" => \"'fill: black;font-size: 10pt;'\", :text => \"-0.372\", :x => 121), Toolips.Servable[], \"text\"), Toolips.Component{:text}(\"27KvGq0g\", Dict{Any, Any}(:children => Toolips.Servable[], :y => 123, \"style\" => \"'fill: black;font-size: 10pt;'\", :text => \"0.1750\", :x => 0), Toolips.Servable[], \"text\"), Toolips.Component{:text}(\"FFs6y6Q3\", Dict{Any, Any}(:children => Toolips.Servable[], :y => 240, \"style\" => \"'fill: black;font-size: 10pt;'\", :text => \"0.7728\", :x => 183), Toolips.Servable[], \"text\"), Toolips.Component{:text}(\"Fyd2nRTu\", Dict{Any, Any}(:children => Toolips.Servable[], :y => 185, \"style\" => \"'fill: black;font-size: 10pt;'\", :text => \"-0.582\", :x => 0), Toolips.Servable[], \"text\"), Toolips.Component{:text}(\"F2jSSxRx\", Dict{Any, Any}(:children => Toolips.Servable[], :y => 240, \"style\" => \"'fill: black;font-size: 10pt;'\", :text => \"1.9184\", :x => 245), Toolips.Servable[], \"text\"), Toolips.Component{:text}(\"qiqJUzJU\", Dict{Any, Any}(:children => Toolips.Servable[], :y => 247, \"style\" => \"'fill: black;font-size: 10pt;'\", :text => \"-1.339\", :x => 0), Toolips.Servable[], \"text\")], :height => 250, :width => 250), Toolips.Servable[], \"g\"), Toolips.Component{:g}(\"legend\", Dict{Any, Any}(:children => Toolips.Servable[Toolips.Component{:rect}(\"legendbg\", Dict{Any, Any}(:width => 50, :children => Toolips.Servable[], :y => 175, :height => 0, \"style\" => \"'stroke: darkgray;fill: white;stroke-width: 2px;'\", :x => 185), Toolips.Servable[], \"rect\")]), Toolips.Servable[], \"g\")], :height => 250, \"style\" => \"'display: inline-block;'\", :width => 250), Toolips.Servable[], \"svg\"), Toolips.Component{:svg}(\"window\", Dict{Any, Any}(:children => Toolips.Servable[Toolips.Component{:g}(\"axes\", Dict{Any, Any}(:children => Toolips.Servable[Toolips.Component{:line}(\"j6jzeMiy\", Dict{Any, Any}(:children => Toolips.Servable[], :y1 => 500, :x2 => 500, \"style\" => \"'fill: none;stroke: black;stroke-width: 4;stroke: orange;'\", :y2 => 500, :x1 => 0), Toolips.Servable[], \"line\"), Toolips.Component{:line}(\"aKfZvTxl\", Dict{Any, Any}(:children => Toolips.Servable[], :y1 => 0, :x2 => 0, \"style\" => \"'fill: none;stroke: black;stroke-width: 4;stroke: orange;'\", :y2 => 500, :x1 => 0), Toolips.Servable[], \"line\")], :height => 500, :width => 500), Toolips.Servable[], \"g\"), Toolips.Component{:g}(\"grid\", Dict{Any, Any}(:children => Toolips.Servable[Toolips.Component{:line}(\"DLrYGwNx\", Dict{Any, Any}(:children => Toolips.Servable[], :y1 => 0, :x2 => 1, \"style\" => \"'fill: none;stroke: lightblue;stroke-width: 1;opacity: 80%;'\", :y2 => 500, :x1 => 1), Toolips.Servable[], \"line\"), Toolips.Component{:line}(\"w56AH0UP\", Dict{Any, Any}(:children => Toolips.Servable[], :y1 => 1, :x2 => 500, \"style\" => \"'fill: none;stroke: lightblue;stroke-width: 1;opacity: 80%;'\", :y2 => 1, :x1 => 0), Toolips.Servable[], \"line\"), Toolips.Component{:line}(\"jcGEfVru\", Dict{Any, Any}(:children => Toolips.Servable[], :y1 => 0, :x2 => 84, \"style\" => \"'fill: none;stroke: lightblue;stroke-width: 1;opacity: 80%;'\", :y2 => 500, :x1 => 84), Toolips.Servable[], \"line\"), Toolips.Component{:line}(\"GNRhCzu7\", Dict{Any, Any}(:children => Toolips.Servable[], :y1 => 84, :x2 => 500, \"style\" => \"'fill: none;stroke: lightblue;stroke-width: 1;opacity: 80%;'\", :y2 => 84, :x1 => 0), Toolips.Servable[], \"line\"), Toolips.Component{:line}(\"4q3wdGYS\", Dict{Any, Any}(:children => Toolips.Servable[], :y1 => 0, :x2 => 167, \"style\" => \"'fill: none;stroke: lightblue;stroke-width: 1;opacity: 80%;'\", :y2 => 500, :x1 => 167), Toolips.Servable[], \"line\"), Toolips.Component{:line}(\"9UENESD9\", Dict{Any, Any}(:children => Toolips.Servable[], :y1 => 167, :x2 => 500, \"style\" => \"'fill: none;stroke: lightblue;stroke-width: 1;opacity: 80%;'\", :y2 => 167, :x1 => 0), Toolips.Servable[], \"line\"), Toolips.Component{:line}(\"ixvN7YXs\", Dict{Any, Any}(:children => Toolips.Servable[], :y1 => 0, :x2 => 250, \"style\" => \"'fill: none;stroke: lightblue;stroke-width: 1;opacity: 80%;'\", :y2 => 500, :x1 => 250), Toolips.Servable[], \"line\"), Toolips.Component{:line}(\"68Eq351J\", Dict{Any, Any}(:children => Toolips.Servable[], :y1 => 250, :x2 => 500, \"style\" => \"'fill: none;stroke: lightblue;stroke-width: 1;opacity: 80%;'\", :y2 => 250, :x1 => 0), Toolips.Servable[], \"line\"), Toolips.Component{:line}(\"KOM08CcA\", Dict{Any, Any}(:children => Toolips.Servable[], :y1 => 0, :x2 => 333, \"style\" => \"'fill: none;stroke: lightblue;stroke-width: 1;opacity: 80%;'\", :y2 => 500, :x1 => 333), Toolips.Servable[], \"line\"), Toolips.Component{:line}(\"kNWkCbv7\", Dict{Any, Any}(:children => Toolips.Servable[], :y1 => 333, :x2 => 500, \"style\" => \"'fill: none;stroke: lightblue;stroke-width: 1;opacity: 80%;'\", :y2 => 333, :x1 => 0), Toolips.Servable[], \"line\"), Toolips.Component{:line}(\"EtMvzoOP\", Dict{Any, Any}(:children => Toolips.Servable[], :y1 => 0, :x2 => 416, \"style\" => \"'fill: none;stroke: lightblue;stroke-width: 1;opacity: 80%;'\", :y2 => 500, :x1 => 416), Toolips.Servable[], \"line\"), Toolips.Component{:line}(\"roDKjAex\", Dict{Any, Any}(:children => Toolips.Servable[], :y1 => 416, :x2 => 500, \"style\" => \"'fill: none;stroke: lightblue;stroke-width: 1;opacity: 80%;'\", :y2 => 416, :x1 => 0), Toolips.Servable[], \"line\"), Toolips.Component{:line}(\"UfuLelS3\", Dict{Any, Any}(:children => Toolips.Servable[], :y1 => 0, :x2 => 499, \"style\" => \"'fill: none;stroke: lightblue;stroke-width: 1;opacity: 80%;'\", :y2 => 500, :x1 => 499), Toolips.Servable[], \"line\"), Toolips.Component{:line}(\"T0p0eLmX\", Dict{Any, Any}(:children => Toolips.Servable[], :y1 => 499, :x2 => 500, \"style\" => \"'fill: none;stroke: lightblue;stroke-width: 1;opacity: 80%;'\", :y2 => 499, :x1 => 0), Toolips.Servable[], \"line\")], :height => 500, :width => 500), Toolips.Servable[], \"g\"), Toolips.Component{:g}(\"age\", Dict{Any, Any}(:children => Toolips.Servable[Toolips.Component{:circle}(\"6Kk0buCk\", Dict{Any, Any}(:children => Toolips.Servable[], :cx => 250, \"style\" => \"'fill: orange;'\", :r => 5, :cy => 473), Toolips.Servable[], \"circle\"), Toolips.Component{:circle}(\"7agbVkqe\", Dict{Any, Any}(:children => Toolips.Servable[], :cx => 365, \"style\" => \"'fill: orange;'\", :r => 5, :cy => 181), Toolips.Servable[], \"circle\"), Toolips.Component{:circle}(\"deygie7G\", Dict{Any, Any}(:children => Toolips.Servable[], :cx => 96, \"style\" => \"'fill: orange;'\", :r => 5, :cy => 156), Toolips.Servable[], \"circle\"), Toolips.Component{:circle}(\"m9wim5LF\", Dict{Any, Any}(:children => Toolips.Servable[], :cx => 272, \"style\" => \"'fill: orange;'\", :r => 5, :cy => 290), Toolips.Servable[], \"circle\"), Toolips.Component{:circle}(\"Wg1a86kh\", Dict{Any, Any}(:children => Toolips.Servable[], :cx => 499, \"style\" => \"'fill: orange;'\", :r => 5, :cy => 145), Toolips.Servable[], \"circle\"), Toolips.Component{:circle}(\"1TcMnKqr\", Dict{Any, Any}(:children => Toolips.Servable[], :cx => 17, \"style\" => \"'fill: orange;'\", :r => 5, :cy => 66), Toolips.Servable[], \"circle\"), Toolips.Component{:circle}(\"eMy2SvMu\", Dict{Any, Any}(:children => Toolips.Servable[], :cx => 152, \"style\" => \"'fill: orange;'\", :r => 5, :cy => 238), Toolips.Servable[], \"circle\"), Toolips.Component{:circle}(\"E5ML9BaE\", Dict{Any, Any}(:children => Toolips.Servable[], :cx => 201, \"style\" => \"'fill: orange;'\", :r => 5, :cy => 199), Toolips.Servable[], \"circle\"), Toolips.Component{:circle}(\"GcbmWLJf\", Dict{Any, Any}(:children => Toolips.Servable[], :cx => 463, \"style\" => \"'fill: orange;'\", :r => 5, :cy => 500), Toolips.Servable[], \"circle\"), Toolips.Component{:circle}(\"ztVlM4cy\", Dict{Any, Any}(:children => Toolips.Servable[], :cx => 273, \"style\" => \"'fill: orange;'\", :r => 5, :cy => 192), Toolips.Servable[], \"circle\"), Toolips.Component{:circle}(\"n9z3aOpf\", Dict{Any, Any}(:children => Toolips.Servable[], :cx => 25, \"style\" => \"'fill: orange;'\", :r => 5, :cy => 1), Toolips.Servable[], \"circle\"), Toolips.Component{:circle}(\"SpF4bm03\", Dict{Any, Any}(:children => Toolips.Servable[], :cx => 450, \"style\" => \"'fill: orange;'\", :r => 5, :cy => 176), Toolips.Servable[], \"circle\"), Toolips.Component{:circle}(\"AoAg2qE4\", Dict{Any, Any}(:children => Toolips.Servable[], :cx => 58, \"style\" => \"'fill: orange;'\", :r => 5, :cy => 93), Toolips.Servable[], \"circle\"), Toolips.Component{:circle}(\"k5uUW8f7\", Dict{Any, Any}(:children => Toolips.Servable[], :cx => 189, \"style\" => \"'fill: orange;'\", :r => 5, :cy => 7), Toolips.Servable[], \"circle\"), Toolips.Component{:circle}(\"qVL0B0hK\", Dict{Any, Any}(:children => Toolips.Servable[], :cx => 436, \"style\" => \"'fill: orange;'\", :r => 5, :cy => 82), Toolips.Servable[], \"circle\"), Toolips.Component{:circle}(\"MdYjpu6h\", Dict{Any, Any}(:children => Toolips.Servable[], :cx => 174, \"style\" => \"'fill: orange;'\", :r => 5, :cy => 228), Toolips.Servable[], \"circle\"), Toolips.Component{:circle}(\"tRSRsoWm\", Dict{Any, Any}(:children => Toolips.Servable[], :cx => 244, \"style\" => \"'fill: orange;'\", :r => 5, :cy => 179), Toolips.Servable[], \"circle\"), Toolips.Component{:circle}(\"AoHHEPV8\", Dict{Any, Any}(:children => Toolips.Servable[], :cx => 269, \"style\" => \"'fill: orange;'\", :r => 5, :cy => 80), Toolips.Servable[], \"circle\"), Toolips.Component{:circle}(\"IwjYBekU\", Dict{Any, Any}(:children => Toolips.Servable[], :cx => 372, \"style\" => \"'fill: orange;'\", :r => 5, :cy => 51), Toolips.Servable[], \"circle\"), Toolips.Component{:circle}(\"nYwcJpsj\", Dict{Any, Any}(:children => Toolips.Servable[], :cx => 0, \"style\" => \"'fill: orange;'\", :r => 5, :cy => 220), Toolips.Servable[], \"circle\")], :height => 500, :width => 500), Toolips.Servable[], \"g\"), Toolips.Component{:g}(\"petal\", Dict{Any, Any}(:children => Toolips.Servable[Toolips.Component{:circle}(\"2Da1hssL\", Dict{Any, Any}(:children => Toolips.Servable[], :cx => 250, \"style\" => \"'fill: lightblue;stroke-width: 2;stroke: green;'\", :r => 5, :cy => 177), Toolips.Servable[], \"circle\"), Toolips.Component{:circle}(\"HjEgsNHZ\", Dict{Any, Any}(:children => Toolips.Servable[], :cx => 365, \"style\" => \"'fill: lightblue;stroke-width: 2;stroke: green;'\", :r => 5, :cy => 500), Toolips.Servable[], \"circle\"), Toolips.Component{:circle}(\"MAVuYMDm\", Dict{Any, Any}(:children => Toolips.Servable[], :cx => 96, \"style\" => \"'fill: lightblue;stroke-width: 1;stroke: green;'\", :r => 5, :cy => 188), Toolips.Servable[], \"circle\"), Toolips.Component{:circle}(\"gIdO1qIO\", Dict{Any, Any}(:children => Toolips.Servable[], :cx => 272, \"style\" => \"'fill: lightblue;stroke-width: -7;stroke: green;'\", :r => 5, :cy => 1), Toolips.Servable[], \"circle\"), Toolips.Component{:circle}(\"IaLZoyfA\", Dict{Any, Any}(:children => Toolips.Servable[], :cx => 499, \"style\" => \"'fill: lightblue;stroke-width: -1;stroke: green;'\", :r => 5, :cy => 310), Toolips.Servable[], \"circle\"), Toolips.Component{:circle}(\"K9HfYaJF\", Dict{Any, Any}(:children => Toolips.Servable[], :cx => 17, \"style\" => \"'fill: lightblue;stroke-width: -3;stroke: green;'\", :r => 5, :cy => 238), Toolips.Servable[], \"circle\"), Toolips.Component{:circle}(\"57F5VJNk\", Dict{Any, Any}(:children => Toolips.Servable[], :cx => 152, \"style\" => \"'fill: lightblue;stroke-width: -2;stroke: green;'\", :r => 5, :cy => 71), Toolips.Servable[], \"circle\"), Toolips.Component{:circle}(\"Zj7GzUOr\", Dict{Any, Any}(:children => Toolips.Servable[], :cx => 201, \"style\" => \"'fill: lightblue;stroke-width: -5;stroke: green;'\", :r => 5, :cy => 436), Toolips.Servable[], \"circle\"), Toolips.Component{:circle}(\"UmmyhbiF\", Dict{Any, Any}(:children => Toolips.Servable[], :cx => 463, \"style\" => \"'fill: lightblue;stroke-width: -1;stroke: green;'\", :r => 5, :cy => 231), Toolips.Servable[], \"circle\"), Toolips.Component{:circle}(\"mRsaqNde\", Dict{Any, Any}(:children => Toolips.Servable[], :cx => 273, \"style\" => \"'fill: lightblue;stroke-width: 3;stroke: green;'\", :r => 5, :cy => 95), Toolips.Servable[], \"circle\"), Toolips.Component{:circle}(\"RoAR49zb\", Dict{Any, Any}(:children => Toolips.Servable[], :cx => 25, \"style\" => \"'fill: lightblue;stroke-width: -1;stroke: green;'\", :r => 5, :cy => 348), Toolips.Servable[], \"circle\"), Toolips.Component{:circle}(\"iaqNAXsg\", Dict{Any, Any}(:children => Toolips.Servable[], :cx => 450, \"style\" => \"'fill: lightblue;stroke-width: -2;stroke: green;'\", :r => 5, :cy => 177), Toolips.Servable[], \"circle\"), Toolips.Component{:circle}(\"SNHRedyv\", Dict{Any, Any}(:children => Toolips.Servable[], :cx => 58, \"style\" => \"'fill: lightblue;stroke-width: 5;stroke: green;'\", :r => 5, :cy => 248), Toolips.Servable[], \"circle\"), Toolips.Component{:circle}(\"ZGvESBpg\", Dict{Any, Any}(:children => Toolips.Servable[], :cx => 189, \"style\" => \"'fill: lightblue;stroke-width: 1;stroke: green;'\", :r => 5, :cy => 157), Toolips.Servable[], \"circle\"), Toolips.Component{:circle}(\"6Z6CLiNc\", Dict{Any, Any}(:children => Toolips.Servable[], :cx => 436, \"style\" => \"'fill: lightblue;stroke-width: 1;stroke: green;'\", :r => 5, :cy => 198), Toolips.Servable[], \"circle\"), Toolips.Component{:circle}(\"ENwb6rdS\", Dict{Any, Any}(:children => Toolips.Servable[], :cx => 174, \"style\" => \"'fill: lightblue;stroke-width: 0;stroke: green;'\", :r => 5, :cy => 157), Toolips.Servable[], \"circle\"), Toolips.Component{:circle}(\"veAamOFr\", Dict{Any, Any}(:children => Toolips.Servable[], :cx => 244, \"style\" => \"'fill: lightblue;stroke-width: -1;stroke: green;'\", :r => 5, :cy => 193), Toolips.Servable[], \"circle\"), Toolips.Component{:circle}(\"CZxBSIzx\", Dict{Any, Any}(:children => Toolips.Servable[], :cx => 269, \"style\" => \"'fill: lightblue;stroke-width: 4;stroke: green;'\", :r => 5, :cy => 181), Toolips.Servable[], \"circle\"), Toolips.Component{:circle}(\"KvX3sIef\", Dict{Any, Any}(:children => Toolips.Servable[], :cx => 372, \"style\" => \"'fill: lightblue;stroke-width: 1;stroke: green;'\", :r => 5, :cy => 255), Toolips.Servable[], \"circle\"), Toolips.Component{:circle}(\"Emo5oB1R\", Dict{Any, Any}(:children => Toolips.Servable[], :cx => 0, \"style\" => \"'fill: lightblue;stroke-width: 1;stroke: green;'\", :r => 5, :cy => 163), Toolips.Servable[], \"circle\")], :height => 500, :width => 500), Toolips.Servable[], \"g\"), Toolips.Component{:g}(\"annotation\", Dict{Any, Any}(:children => Toolips.Servable[Toolips.Component{:text}(\"7MEcnMRI\", Dict{Any, Any}(:children => Toolips.Servable[], :y => 100, \"style\" => \"'stroke: darkblue;'\", :text => \"hello !\", :x => 100), Toolips.Servable[], \"text\")], :height => 500, :width => 500), Toolips.Servable[], \"g\")], :height => 500, \"style\" => \"'display: inline-block;'\", :width => 500), Toolips.Servable[], \"svg\")]), Toolips.Servable[], \"div\")"
      ]
     },
     "execution_count": 20,
     "metadata": {},
     "output_type": "execute_result"
    }
   ],
   "source": [
    "figs = hcat(figure2, figure3)"
   ]
  },
  {
   "cell_type": "code",
   "execution_count": 21,
   "id": "cd7e8311",
   "metadata": {},
   "outputs": [
    {
     "data": {
      "text/html": [
       "\"<div id=new><svg id=window height=200 style='display: inline-block;' width=200><g id=points height=200 width=200><circle id=VzpwUko3 cx=0 style='fill: blue;' r=5 cy=200></circle><circle id=NUj6V5bp cx=100 style='fill: blue;' r=5 cy=100></circle><circle id=Wzzn7B7m cx=199 style='fill: blue;' r=5 cy=1></circle></g></svg><svg id=window height=200 style='display: inline-block;' width=200><g id=points height=200 width=200><circle id=bJcXdcSs cx=0 style='fill: orange;stroke: lightblue;stroke-width: 0;' r=5 cy=200></circle><circle id=cL4FuIru cx=100 style='fill: orange;stroke: lightblue;stroke-width: 0;' r=5 cy=100></circle><circle id=9ZRoCPux cx=199 style='fill: orange;stroke: lightblue;stroke-width: 0;' r=5 cy=1></circle></g></svg></div>\""
      ],
      "text/plain": [
       "Toolips.Component{:div}(\"new\", Dict{Any, Any}(:children => Toolips.Servable[Toolips.Component{:svg}(\"window\", Dict{Any, Any}(:children => Toolips.Servable[Toolips.Component{:g}(\"points\", Dict{Any, Any}(:children => Toolips.Servable[Toolips.Component{:circle}(\"VzpwUko3\", Dict{Any, Any}(:children => Toolips.Servable[], :cx => 0, \"style\" => \"'fill: blue;'\", :r => 5, :cy => 200), Toolips.Servable[], \"circle\"), Toolips.Component{:circle}(\"NUj6V5bp\", Dict{Any, Any}(:children => Toolips.Servable[], :cx => 100, \"style\" => \"'fill: blue;'\", :r => 5, :cy => 100), Toolips.Servable[], \"circle\"), Toolips.Component{:circle}(\"Wzzn7B7m\", Dict{Any, Any}(:children => Toolips.Servable[], :cx => 199, \"style\" => \"'fill: blue;'\", :r => 5, :cy => 1), Toolips.Servable[], \"circle\")], :height => 200, :width => 200), Toolips.Servable[], \"g\")], :height => 200, \"style\" => \"'display: inline-block;'\", :width => 200), Toolips.Servable[], \"svg\"), Toolips.Component{:svg}(\"window\", Dict{Any, Any}(:children => Toolips.Servable[Toolips.Component{:g}(\"points\", Dict{Any, Any}(:children => Toolips.Servable[Toolips.Component{:circle}(\"bJcXdcSs\", Dict{Any, Any}(:children => Toolips.Servable[], :cx => 0, \"style\" => \"'fill: orange;stroke: lightblue;stroke-width: 0;'\", :r => 5, :cy => 200), Toolips.Servable[], \"circle\"), Toolips.Component{:circle}(\"cL4FuIru\", Dict{Any, Any}(:children => Toolips.Servable[], :cx => 100, \"style\" => \"'fill: orange;stroke: lightblue;stroke-width: 0;'\", :r => 5, :cy => 100), Toolips.Servable[], \"circle\"), Toolips.Component{:circle}(\"9ZRoCPux\", Dict{Any, Any}(:children => Toolips.Servable[], :cx => 199, \"style\" => \"'fill: orange;stroke: lightblue;stroke-width: 0;'\", :r => 5, :cy => 1), Toolips.Servable[], \"circle\")], :height => 200, :width => 200), Toolips.Servable[], \"g\")], :height => 200, \"style\" => \"'display: inline-block;'\", :width => 200), Toolips.Servable[], \"svg\")]), Toolips.Servable[], \"div\")"
      ]
     },
     "execution_count": 21,
     "metadata": {},
     "output_type": "execute_result"
    }
   ],
   "source": [
    "plt = context(200, 200) do con::Context\n",
    "    group!(con, \"points\") do g::Group\n",
    "        Gattino.points!(g, [5, 10, 15], [5, 10, 15])\n",
    "    end\n",
    "end\n",
    "plt2 = context(200, 200) do con::Context\n",
    "    group!(con, \"points\") do g::Group\n",
    "        Gattino.points!(g, [5, 10, 15], [5, 10, 15], \"fill\" => \"blue\")\n",
    "    end\n",
    "end\n",
    "n = compose(\"new\", plt2, plt)"
   ]
  },
  {
   "cell_type": "code",
   "execution_count": 22,
   "id": "39748627",
   "metadata": {},
   "outputs": [
    {
     "data": {
      "text/html": [
       "\"<svg id=window height=500 width=500></svg>\""
      ]
     },
     "metadata": {},
     "output_type": "display_data"
    },
    {
     "data": {
      "text/html": [
       "\"<svg id=window height=500 width=500></svg>\""
      ],
      "text/plain": []
     },
     "execution_count": 22,
     "metadata": {},
     "output_type": "execute_result"
    }
   ],
   "source": [
    "gridboxes = context(500, 500) do con::Context\n",
    "   \n",
    "end"
   ]
  },
  {
   "cell_type": "code",
   "execution_count": 23,
   "id": "b7c26255",
   "metadata": {},
   "outputs": [
    {
     "data": {
      "text/html": [
       "\"<svg id=window height=500 width=500><line id=JuyNXqlF y1=0 x2=1 style='fill: none;stroke: lightblue;stroke-width: 1;opacity: 80%;' y2=250 x1=1></line><line id=scJCIn16 y1=1 x2=250 style='fill: none;stroke: lightblue;stroke-width: 1;opacity: 80%;' y2=1 x1=0></line><line id=IWSebC9l y1=0 x2=43 style='fill: none;stroke: lightblue;stroke-width: 1;opacity: 80%;' y2=250 x1=43></line><line id=F41CRw2D y1=43 x2=250 style='fill: none;stroke: lightblue;stroke-width: 1;opacity: 80%;' y2=43 x1=0></line><line id=foHDN679 y1=0 x2=85 style='fill: none;stroke: lightblue;stroke-width: 1;opacity: 80%;' y2=250 x1=85></line><line id=OmF6sLkG y1=85 x2=250 style='fill: none;stroke: lightblue;stroke-width: 1;opacity: 80%;' y2=85 x1=0></line><line id=02fKjT3k y1=0 x2=127 style='fill: none;stroke: lightblue;stroke-width: 1;opacity: 80%;' y2=250 x1=127></line><line id=ApghoZz2 y1=127 x2=250 style='fill: none;stroke: lightblue;stroke-width: 1;opacity: 80%;' y2=127 x1=0></line><line id=kypj3fwf y1=0 x2=169 style='fill: none;stroke: lightblue;stroke-width: 1;opacity: 80%;' y2=250 x1=169></line><line id=Z1ec1YWi y1=169 x2=250 style='fill: none;stroke: lightblue;stroke-width: 1;opacity: 80%;' y2=169 x1=0></line><line id=ClYLh7KJ y1=0 x2=211 style='fill: none;stroke: lightblue;stroke-width: 1;opacity: 80%;' y2=250 x1=211></line><line id=lPP5Mqlk y1=211 x2=250 style='fill: none;stroke: lightblue;stroke-width: 1;opacity: 80%;' y2=211 x1=0></line></svg>\""
      ]
     },
     "metadata": {},
     "output_type": "display_data"
    },
    {
     "data": {
      "text/html": [
       "\"<svg id=window height=500 width=500><line id=JuyNXqlF y1=0 x2=1 style='fill: none;stroke: lightblue;stroke-width: 1;opacity: 80%;' y2=250 x1=1></line><line id=scJCIn16 y1=1 x2=250 style='fill: none;stroke: lightblue;stroke-width: 1;opacity: 80%;' y2=1 x1=0></line><line id=IWSebC9l y1=0 x2=43 style='fill: none;stroke: lightblue;stroke-width: 1;opacity: 80%;' y2=250 x1=43></line><line id=F41CRw2D y1=43 x2=250 style='fill: none;stroke: lightblue;stroke-width: 1;opacity: 80%;' y2=43 x1=0></line><line id=foHDN679 y1=0 x2=85 style='fill: none;stroke: lightblue;stroke-width: 1;opacity: 80%;' y2=250 x1=85></line><line id=OmF6sLkG y1=85 x2=250 style='fill: none;stroke: lightblue;stroke-width: 1;opacity: 80%;' y2=85 x1=0></line><line id=02fKjT3k y1=0 x2=127 style='fill: none;stroke: lightblue;stroke-width: 1;opacity: 80%;' y2=250 x1=127></line><line id=ApghoZz2 y1=127 x2=250 style='fill: none;stroke: lightblue;stroke-width: 1;opacity: 80%;' y2=127 x1=0></line><line id=kypj3fwf y1=0 x2=169 style='fill: none;stroke: lightblue;stroke-width: 1;opacity: 80%;' y2=250 x1=169></line><line id=Z1ec1YWi y1=169 x2=250 style='fill: none;stroke: lightblue;stroke-width: 1;opacity: 80%;' y2=169 x1=0></line><line id=ClYLh7KJ y1=0 x2=211 style='fill: none;stroke: lightblue;stroke-width: 1;opacity: 80%;' y2=250 x1=211></line><line id=lPP5Mqlk y1=211 x2=250 style='fill: none;stroke: lightblue;stroke-width: 1;opacity: 80%;' y2=211 x1=0></line></svg>\""
      ],
      "text/plain": []
     },
     "execution_count": 23,
     "metadata": {},
     "output_type": "execute_result"
    }
   ],
   "source": [
    "gridboxes = context(500, 500) do con::Context\n",
    "    group(con, 250, 250) do g::Group\n",
    "        Gattino.grid!(g, 6)\n",
    "    end\n",
    "end"
   ]
  },
  {
   "cell_type": "code",
   "execution_count": 24,
   "id": "69f1318b",
   "metadata": {},
   "outputs": [
    {
     "data": {
      "text/html": [
       "\"<svg id=window height=500 width=500><line id=hKGCtg2T y1=0 x2=1 style='stroke: darkred;' y2=250 x1=1></line><line id=QMSgvsoo y1=1 x2=250 style='stroke: darkred;' y2=1 x1=0></line><line id=GEuqzhan y1=0 x2=43 style='stroke: darkred;' y2=250 x1=43></line><line id=JeLzkicd y1=43 x2=250 style='stroke: darkred;' y2=43 x1=0></line><line id=v672xo0S y1=0 x2=85 style='stroke: darkred;' y2=250 x1=85></line><line id=XFAxZrAW y1=85 x2=250 style='stroke: darkred;' y2=85 x1=0></line><line id=m0BLOyxV y1=0 x2=127 style='stroke: darkred;' y2=250 x1=127></line><line id=qyqvcdG9 y1=127 x2=250 style='stroke: darkred;' y2=127 x1=0></line><line id=jTdPfv1j y1=0 x2=169 style='stroke: darkred;' y2=250 x1=169></line><line id=zgTmlHaP y1=169 x2=250 style='stroke: darkred;' y2=169 x1=0></line><line id=DFsvTm8N y1=0 x2=211 style='stroke: darkred;' y2=250 x1=211></line><line id=ujcwSYXm y1=211 x2=250 style='stroke: darkred;' y2=211 x1=0></line><line id=Bosd6cpt y1=0 x2=251 style='stroke: darkgreen;' y2=250 x1=251></line><line id=sS4SSTak y1=1 x2=500 style='stroke: darkgreen;' y2=1 x1=250></line><line id=aOLcuOFR y1=0 x2=293 style='stroke: darkgreen;' y2=250 x1=293></line><line id=L6nL5G08 y1=43 x2=500 style='stroke: darkgreen;' y2=43 x1=250></line><line id=ZKc46Hiu y1=0 x2=335 style='stroke: darkgreen;' y2=250 x1=335></line><line id=OUcTSmCw y1=85 x2=500 style='stroke: darkgreen;' y2=85 x1=250></line><line id=ra9uEjYN y1=0 x2=377 style='stroke: darkgreen;' y2=250 x1=377></line><line id=B0z6lWO5 y1=127 x2=500 style='stroke: darkgreen;' y2=127 x1=250></line><line id=wKCLIWHy y1=0 x2=419 style='stroke: darkgreen;' y2=250 x1=419></line><line id=0AaEU5l9 y1=169 x2=500 style='stroke: darkgreen;' y2=169 x1=250></line><line id=R4H6PgJd y1=0 x2=461 style='stroke: darkgreen;' y2=250 x1=461></line><line id=T4NlHU8U y1=211 x2=500 style='stroke: darkgreen;' y2=211 x1=250></line><line id=kiEQ3vA9 y1=250 x2=1 style='stroke: purple;' y2=500 x1=1></line><line id=1CMy0vpe y1=251 x2=250 style='stroke: purple;' y2=251 x1=0></line><line id=3q0WzACF y1=250 x2=43 style='stroke: purple;' y2=500 x1=43></line><line id=JJJuAtdk y1=293 x2=250 style='stroke: purple;' y2=293 x1=0></line><line id=CfkUhu6H y1=250 x2=85 style='stroke: purple;' y2=500 x1=85></line><line id=rOwMmSUp y1=335 x2=250 style='stroke: purple;' y2=335 x1=0></line><line id=XZBFrsRd y1=250 x2=127 style='stroke: purple;' y2=500 x1=127></line><line id=UwAk390Q y1=377 x2=250 style='stroke: purple;' y2=377 x1=0></line><line id=vEWP8roz y1=250 x2=169 style='stroke: purple;' y2=500 x1=169></line><line id=Eq3i9Ya7 y1=419 x2=250 style='stroke: purple;' y2=419 x1=0></line><line id=RVyvGByi y1=250 x2=211 style='stroke: purple;' y2=500 x1=211></line><line id=pkhH0UT9 y1=461 x2=250 style='stroke: purple;' y2=461 x1=0></line><line id=aQQfqskg y1=250 x2=251 style='stroke: darkblue;' y2=500 x1=251></line><line id=L61Diclt y1=251 x2=500 style='stroke: darkblue;' y2=251 x1=250></line><line id=rnom8PJw y1=250 x2=293 style='stroke: darkblue;' y2=500 x1=293></line><line id=vthn25sj y1=293 x2=500 style='stroke: darkblue;' y2=293 x1=250></line><line id=VXsqyyVo y1=250 x2=335 style='stroke: darkblue;' y2=500 x1=335></line><line id=8fnZdU2D y1=335 x2=500 style='stroke: darkblue;' y2=335 x1=250></line><line id=cefF26Mn y1=250 x2=377 style='stroke: darkblue;' y2=500 x1=377></line><line id=1XFEMP2W y1=377 x2=500 style='stroke: darkblue;' y2=377 x1=250></line><line id=ocD2TTpQ y1=250 x2=419 style='stroke: darkblue;' y2=500 x1=419></line><line id=1m2iyo9x y1=419 x2=500 style='stroke: darkblue;' y2=419 x1=250></line><line id=gUPoyPwT y1=250 x2=461 style='stroke: darkblue;' y2=500 x1=461></line><line id=7aT5f29K y1=461 x2=500 style='stroke: darkblue;' y2=461 x1=250></line></svg>\""
      ]
     },
     "metadata": {},
     "output_type": "display_data"
    },
    {
     "data": {
      "text/html": [
       "\"<svg id=window height=500 width=500><line id=hKGCtg2T y1=0 x2=1 style='stroke: darkred;' y2=250 x1=1></line><line id=QMSgvsoo y1=1 x2=250 style='stroke: darkred;' y2=1 x1=0></line><line id=GEuqzhan y1=0 x2=43 style='stroke: darkred;' y2=250 x1=43></line><line id=JeLzkicd y1=43 x2=250 style='stroke: darkred;' y2=43 x1=0></line><line id=v672xo0S y1=0 x2=85 style='stroke: darkred;' y2=250 x1=85></line><line id=XFAxZrAW y1=85 x2=250 style='stroke: darkred;' y2=85 x1=0></line><line id=m0BLOyxV y1=0 x2=127 style='stroke: darkred;' y2=250 x1=127></line><line id=qyqvcdG9 y1=127 x2=250 style='stroke: darkred;' y2=127 x1=0></line><line id=jTdPfv1j y1=0 x2=169 style='stroke: darkred;' y2=250 x1=169></line><line id=zgTmlHaP y1=169 x2=250 style='stroke: darkred;' y2=169 x1=0></line><line id=DFsvTm8N y1=0 x2=211 style='stroke: darkred;' y2=250 x1=211></line><line id=ujcwSYXm y1=211 x2=250 style='stroke: darkred;' y2=211 x1=0></line><line id=Bosd6cpt y1=0 x2=251 style='stroke: darkgreen;' y2=250 x1=251></line><line id=sS4SSTak y1=1 x2=500 style='stroke: darkgreen;' y2=1 x1=250></line><line id=aOLcuOFR y1=0 x2=293 style='stroke: darkgreen;' y2=250 x1=293></line><line id=L6nL5G08 y1=43 x2=500 style='stroke: darkgreen;' y2=43 x1=250></line><line id=ZKc46Hiu y1=0 x2=335 style='stroke: darkgreen;' y2=250 x1=335></line><line id=OUcTSmCw y1=85 x2=500 style='stroke: darkgreen;' y2=85 x1=250></line><line id=ra9uEjYN y1=0 x2=377 style='stroke: darkgreen;' y2=250 x1=377></line><line id=B0z6lWO5 y1=127 x2=500 style='stroke: darkgreen;' y2=127 x1=250></line><line id=wKCLIWHy y1=0 x2=419 style='stroke: darkgreen;' y2=250 x1=419></line><line id=0AaEU5l9 y1=169 x2=500 style='stroke: darkgreen;' y2=169 x1=250></line><line id=R4H6PgJd y1=0 x2=461 style='stroke: darkgreen;' y2=250 x1=461></line><line id=T4NlHU8U y1=211 x2=500 style='stroke: darkgreen;' y2=211 x1=250></line><line id=kiEQ3vA9 y1=250 x2=1 style='stroke: purple;' y2=500 x1=1></line><line id=1CMy0vpe y1=251 x2=250 style='stroke: purple;' y2=251 x1=0></line><line id=3q0WzACF y1=250 x2=43 style='stroke: purple;' y2=500 x1=43></line><line id=JJJuAtdk y1=293 x2=250 style='stroke: purple;' y2=293 x1=0></line><line id=CfkUhu6H y1=250 x2=85 style='stroke: purple;' y2=500 x1=85></line><line id=rOwMmSUp y1=335 x2=250 style='stroke: purple;' y2=335 x1=0></line><line id=XZBFrsRd y1=250 x2=127 style='stroke: purple;' y2=500 x1=127></line><line id=UwAk390Q y1=377 x2=250 style='stroke: purple;' y2=377 x1=0></line><line id=vEWP8roz y1=250 x2=169 style='stroke: purple;' y2=500 x1=169></line><line id=Eq3i9Ya7 y1=419 x2=250 style='stroke: purple;' y2=419 x1=0></line><line id=RVyvGByi y1=250 x2=211 style='stroke: purple;' y2=500 x1=211></line><line id=pkhH0UT9 y1=461 x2=250 style='stroke: purple;' y2=461 x1=0></line><line id=aQQfqskg y1=250 x2=251 style='stroke: darkblue;' y2=500 x1=251></line><line id=L61Diclt y1=251 x2=500 style='stroke: darkblue;' y2=251 x1=250></line><line id=rnom8PJw y1=250 x2=293 style='stroke: darkblue;' y2=500 x1=293></line><line id=vthn25sj y1=293 x2=500 style='stroke: darkblue;' y2=293 x1=250></line><line id=VXsqyyVo y1=250 x2=335 style='stroke: darkblue;' y2=500 x1=335></line><line id=8fnZdU2D y1=335 x2=500 style='stroke: darkblue;' y2=335 x1=250></line><line id=cefF26Mn y1=250 x2=377 style='stroke: darkblue;' y2=500 x1=377></line><line id=1XFEMP2W y1=377 x2=500 style='stroke: darkblue;' y2=377 x1=250></line><line id=ocD2TTpQ y1=250 x2=419 style='stroke: darkblue;' y2=500 x1=419></line><line id=1m2iyo9x y1=419 x2=500 style='stroke: darkblue;' y2=419 x1=250></line><line id=gUPoyPwT y1=250 x2=461 style='stroke: darkblue;' y2=500 x1=461></line><line id=7aT5f29K y1=461 x2=500 style='stroke: darkblue;' y2=461 x1=250></line></svg>\""
      ],
      "text/plain": []
     },
     "execution_count": 24,
     "metadata": {},
     "output_type": "execute_result"
    }
   ],
   "source": [
    "gridboxes = context(500, 500) do con::Context\n",
    "    group(con, 250, 250) do g::Group\n",
    "        Gattino.grid!(g, 6, \"stroke\" => \"darkred\")\n",
    "    end\n",
    "    group(con, 250, 250, 250 => 0) do g::Group\n",
    "        Gattino.grid!(g, 6, \"stroke\" => \"darkgreen\")\n",
    "    end\n",
    "    group(con, 250, 250, 0 => 250) do g::Group\n",
    "        Gattino.grid!(g, 6, \"stroke\" => \"purple\")\n",
    "    end\n",
    "    group(con, 250, 250, 250 => 250) do g::Group\n",
    "        Gattino.grid!(g, 6, \"stroke\" => \"darkblue\")\n",
    "    end\n",
    "end"
   ]
  },
  {
   "cell_type": "code",
   "execution_count": 25,
   "id": "0ace12ef",
   "metadata": {},
   "outputs": [
    {
     "data": {
      "text/plain": [
       "5-element Vector{Pair{Int64, String}}:\n",
       " 1 => \"axes\"\n",
       " 2 => \"grid\"\n",
       " 3 => \"age\"\n",
       " 4 => \"petal\"\n",
       " 5 => \"annotation\""
      ]
     },
     "execution_count": 25,
     "metadata": {},
     "output_type": "execute_result"
    }
   ],
   "source": [
    "layers(figure3)"
   ]
  },
  {
   "cell_type": "code",
   "execution_count": 26,
   "id": "23063704",
   "metadata": {},
   "outputs": [
    {
     "data": {
      "text/plain": [
       "20-element Vector{Toolips.Component{:star}}:\n",
       " Toolips.Component{:star}(\"6Kk0buCk\", Dict{Any, Any}(:np => 5, \"points\" => \"'260.0 478.0,257.42705098312484 479.76335575687744,256.54508497187476 482.75528258147574,254.07294901687516 480.8531695488855,250.95491502812527 480.93892626146237,252.0 478.0,250.95491502812527 475.06107373853763,254.07294901687516 475.14683045111457,256.54508497187476 473.24471741852426,257.42705098312484 476.23664424312256,260.0 478.0'\", :ir => 3, :children => Toolips.Servable[], :y => 478, :angle => 0.6283185307179586, :r => 5, :x => 255), Toolips.Servable[], \"polygon\")\n",
       " Toolips.Component{:star}(\"7agbVkqe\", Dict{Any, Any}(:np => 5, \"points\" => \"'375.0 186.0,372.42705098312484 187.76335575687742,371.54508497187476 190.75528258147577,369.07294901687516 188.85316954888546,365.95491502812524 188.93892626146237,367.0 186.0,365.95491502812524 183.06107373853763,369.07294901687516 183.14683045111454,371.54508497187476 181.24471741852423,372.42705098312484 184.23664424312258,375.0 186.0'\", :ir => 3, :children => Toolips.Servable[], :y => 186, :angle => 0.6283185307179586, :r => 5, :x => 370), Toolips.Servable[], \"polygon\")\n",
       " Toolips.Component{:star}(\"deygie7G\", Dict{Any, Any}(:np => 5, \"points\" => \"'106.0 161.0,103.42705098312484 162.76335575687742,102.54508497187474 165.75528258147577,100.07294901687516 163.85316954888546,96.95491502812527 163.93892626146237,98.0 161.0,96.95491502812526 158.06107373853763,100.07294901687516 158.14683045111454,102.54508497187473 156.24471741852423,103.42705098312484 159.23664424312258,106.0 161.0'\", :ir => 3, :children => Toolips.Servable[], :y => 161, :angle => 0.6283185307179586, :r => 5, :x => 101), Toolips.Servable[], \"polygon\")\n",
       " Toolips.Component{:star}(\"m9wim5LF\", Dict{Any, Any}(:np => 5, \"points\" => \"'282.0 295.0,279.42705098312484 296.76335575687744,278.54508497187476 299.75528258147574,276.07294901687516 297.8531695488855,272.95491502812524 297.93892626146237,274.0 295.0,272.95491502812524 292.06107373853763,276.07294901687516 292.14683045111457,278.54508497187476 290.24471741852426,279.42705098312484 293.23664424312256,282.0 295.0'\", :ir => 3, :children => Toolips.Servable[], :y => 295, :angle => 0.6283185307179586, :r => 5, :x => 277), Toolips.Servable[], \"polygon\")\n",
       " Toolips.Component{:star}(\"Wg1a86kh\", Dict{Any, Any}(:np => 5, \"points\" => \"'509.0 150.0,506.42705098312484 151.76335575687742,505.54508497187476 154.75528258147577,503.07294901687516 152.85316954888546,499.95491502812524 152.93892626146237,501.0 150.0,499.95491502812524 147.06107373853763,503.07294901687516 147.14683045111454,505.54508497187476 145.24471741852423,506.42705098312484 148.23664424312258,509.0 150.0'\", :ir => 3, :children => Toolips.Servable[], :y => 150, :angle => 0.6283185307179586, :r => 5, :x => 504), Toolips.Servable[], \"polygon\")\n",
       " Toolips.Component{:star}(\"1TcMnKqr\", Dict{Any, Any}(:np => 5, \"points\" => \"'27.0 71.0,24.427050983124843 72.76335575687742,23.545084971874736 75.75528258147577,21.072949016875157 73.85316954888546,17.954915028125264 73.93892626146237,19.0 71.0,17.954915028125264 68.06107373853763,21.072949016875157 68.14683045111454,23.545084971874736 66.24471741852423,24.427050983124843 69.23664424312258,27.0 71.0'\", :ir => 3, :children => Toolips.Servable[], :y => 71, :angle => 0.6283185307179586, :r => 5, :x => 22), Toolips.Servable[], \"polygon\")\n",
       " Toolips.Component{:star}(\"eMy2SvMu\", Dict{Any, Any}(:np => 5, \"points\" => \"'162.0 243.0,159.42705098312484 244.76335575687742,158.54508497187473 247.75528258147577,156.07294901687516 245.85316954888546,152.95491502812527 245.93892626146237,154.0 243.0,152.95491502812527 240.06107373853763,156.07294901687516 240.14683045111454,158.54508497187473 238.24471741852423,159.42705098312484 241.23664424312258,162.0 243.0'\", :ir => 3, :children => Toolips.Servable[], :y => 243, :angle => 0.6283185307179586, :r => 5, :x => 157), Toolips.Servable[], \"polygon\")\n",
       " Toolips.Component{:star}(\"E5ML9BaE\", Dict{Any, Any}(:np => 5, \"points\" => \"'211.0 204.0,208.42705098312484 205.76335575687742,207.54508497187473 208.75528258147577,205.07294901687516 206.85316954888546,201.95491502812527 206.93892626146237,203.0 204.0,201.95491502812527 201.06107373853763,205.07294901687516 201.14683045111454,207.54508497187473 199.24471741852423,208.42705098312484 202.23664424312258,211.0 204.0'\", :ir => 3, :children => Toolips.Servable[], :y => 204, :angle => 0.6283185307179586, :r => 5, :x => 206), Toolips.Servable[], \"polygon\")\n",
       " Toolips.Component{:star}(\"GcbmWLJf\", Dict{Any, Any}(:np => 5, \"points\" => \"'473.0 505.0,470.42705098312484 506.76335575687744,469.54508497187476 509.75528258147574,467.07294901687516 507.8531695488855,463.95491502812524 507.93892626146237,465.0 505.0,463.95491502812524 502.06107373853763,467.07294901687516 502.14683045111457,469.54508497187476 500.24471741852426,470.42705098312484 503.23664424312256,473.0 505.0'\", :ir => 3, :children => Toolips.Servable[], :y => 505, :angle => 0.6283185307179586, :r => 5, :x => 468), Toolips.Servable[], \"polygon\")\n",
       " Toolips.Component{:star}(\"ztVlM4cy\", Dict{Any, Any}(:np => 5, \"points\" => \"'283.0 197.0,280.42705098312484 198.76335575687742,279.54508497187476 201.75528258147577,277.07294901687516 199.85316954888546,273.95491502812524 199.93892626146237,275.0 197.0,273.95491502812524 194.06107373853763,277.07294901687516 194.14683045111454,279.54508497187476 192.24471741852423,280.42705098312484 195.23664424312258,283.0 197.0'\", :ir => 3, :children => Toolips.Servable[], :y => 197, :angle => 0.6283185307179586, :r => 5, :x => 278), Toolips.Servable[], \"polygon\")\n",
       " Toolips.Component{:star}(\"n9z3aOpf\", Dict{Any, Any}(:np => 5, \"points\" => \"'35.0 6.0,32.42705098312484 7.763355756877419,31.545084971874736 10.755282581475768,29.072949016875157 8.853169548885461,25.954915028125264 8.938926261462367,27.0 6.0,25.954915028125264 3.061073738537635,29.072949016875157 3.1468304511145395,31.545084971874736 1.2447174185242318,32.42705098312484 4.23664424312258,35.0 5.999999999999999'\", :ir => 3, :children => Toolips.Servable[], :y => 6, :angle => 0.6283185307179586, :r => 5, :x => 30), Toolips.Servable[], \"polygon\")\n",
       " Toolips.Component{:star}(\"SpF4bm03\", Dict{Any, Any}(:np => 5, \"points\" => \"'460.0 181.0,457.42705098312484 182.76335575687742,456.54508497187476 185.75528258147577,454.07294901687516 183.85316954888546,450.95491502812524 183.93892626146237,452.0 181.0,450.95491502812524 178.06107373853763,454.07294901687516 178.14683045111454,456.54508497187476 176.24471741852423,457.42705098312484 179.23664424312258,460.0 181.0'\", :ir => 3, :children => Toolips.Servable[], :y => 181, :angle => 0.6283185307179586, :r => 5, :x => 455), Toolips.Servable[], \"polygon\")\n",
       " Toolips.Component{:star}(\"AoAg2qE4\", Dict{Any, Any}(:np => 5, \"points\" => \"'68.0 98.0,65.42705098312484 99.76335575687742,64.54508497187474 102.75528258147577,62.07294901687516 100.85316954888546,58.954915028125264 100.93892626146237,60.0 98.0,58.954915028125264 95.06107373853763,62.07294901687516 95.14683045111454,64.54508497187473 93.24471741852423,65.42705098312484 96.23664424312258,68.0 98.0'\", :ir => 3, :children => Toolips.Servable[], :y => 98, :angle => 0.6283185307179586, :r => 5, :x => 63), Toolips.Servable[], \"polygon\")\n",
       " Toolips.Component{:star}(\"k5uUW8f7\", Dict{Any, Any}(:np => 5, \"points\" => \"'199.0 12.0,196.42705098312484 13.76335575687742,195.54508497187473 16.755282581475768,193.07294901687516 14.853169548885461,189.95491502812527 14.938926261462367,191.0 12.0,189.95491502812527 9.061073738537635,193.07294901687516 9.146830451114539,195.54508497187473 7.244717418524232,196.42705098312484 10.23664424312258,199.0 11.999999999999998'\", :ir => 3, :children => Toolips.Servable[], :y => 12, :angle => 0.6283185307179586, :r => 5, :x => 194), Toolips.Servable[], \"polygon\")\n",
       " Toolips.Component{:star}(\"qVL0B0hK\", Dict{Any, Any}(:np => 5, \"points\" => \"'446.0 87.0,443.42705098312484 88.76335575687742,442.54508497187476 91.75528258147577,440.07294901687516 89.85316954888546,436.95491502812524 89.93892626146237,438.0 87.0,436.95491502812524 84.06107373853763,440.07294901687516 84.14683045111454,442.54508497187476 82.24471741852423,443.42705098312484 85.23664424312258,446.0 87.0'\", :ir => 3, :children => Toolips.Servable[], :y => 87, :angle => 0.6283185307179586, :r => 5, :x => 441), Toolips.Servable[], \"polygon\")\n",
       " Toolips.Component{:star}(\"MdYjpu6h\", Dict{Any, Any}(:np => 5, \"points\" => \"'184.0 233.0,181.42705098312484 234.76335575687742,180.54508497187473 237.75528258147577,178.07294901687516 235.85316954888546,174.95491502812527 235.93892626146237,176.0 233.0,174.95491502812527 230.06107373853763,178.07294901687516 230.14683045111454,180.54508497187473 228.24471741852423,181.42705098312484 231.23664424312258,184.0 233.0'\", :ir => 3, :children => Toolips.Servable[], :y => 233, :angle => 0.6283185307179586, :r => 5, :x => 179), Toolips.Servable[], \"polygon\")\n",
       " Toolips.Component{:star}(\"tRSRsoWm\", Dict{Any, Any}(:np => 5, \"points\" => \"'254.0 184.0,251.42705098312484 185.76335575687742,250.54508497187473 188.75528258147577,248.07294901687516 186.85316954888546,244.95491502812527 186.93892626146237,246.0 184.0,244.95491502812527 181.06107373853763,248.07294901687516 181.14683045111454,250.54508497187473 179.24471741852423,251.42705098312484 182.23664424312258,254.0 184.0'\", :ir => 3, :children => Toolips.Servable[], :y => 184, :angle => 0.6283185307179586, :r => 5, :x => 249), Toolips.Servable[], \"polygon\")\n",
       " Toolips.Component{:star}(\"AoHHEPV8\", Dict{Any, Any}(:np => 5, \"points\" => \"'279.0 85.0,276.42705098312484 86.76335575687742,275.54508497187476 89.75528258147577,273.07294901687516 87.85316954888546,269.95491502812524 87.93892626146237,271.0 85.0,269.95491502812524 82.06107373853763,273.07294901687516 82.14683045111454,275.54508497187476 80.24471741852423,276.42705098312484 83.23664424312258,279.0 85.0'\", :ir => 3, :children => Toolips.Servable[], :y => 85, :angle => 0.6283185307179586, :r => 5, :x => 274), Toolips.Servable[], \"polygon\")\n",
       " Toolips.Component{:star}(\"IwjYBekU\", Dict{Any, Any}(:np => 5, \"points\" => \"'382.0 56.0,379.42705098312484 57.76335575687742,378.54508497187476 60.75528258147577,376.07294901687516 58.85316954888546,372.95491502812524 58.93892626146236,374.0 56.0,372.95491502812524 53.06107373853764,376.07294901687516 53.14683045111454,378.54508497187476 51.24471741852423,379.42705098312484 54.23664424312258,382.0 56.0'\", :ir => 3, :children => Toolips.Servable[], :y => 56, :angle => 0.6283185307179586, :r => 5, :x => 377), Toolips.Servable[], \"polygon\")\n",
       " Toolips.Component{:star}(\"nYwcJpsj\", Dict{Any, Any}(:np => 5, \"points\" => \"'10.0 225.0,7.427050983124842 226.76335575687742,6.545084971874737 229.75528258147577,4.072949016875158 227.85316954888546,0.9549150281252636 227.93892626146237,2.0 225.0,0.9549150281252627 222.06107373853763,4.072949016875158 222.14683045111454,6.545084971874736 220.24471741852423,7.4270509831248415 223.23664424312258,10.0 225.0'\", :ir => 3, :children => Toolips.Servable[], :y => 225, :angle => 0.6283185307179586, :r => 5, :x => 5), Toolips.Servable[], \"polygon\")"
      ]
     },
     "execution_count": 26,
     "metadata": {},
     "output_type": "execute_result"
    }
   ],
   "source": [
    "reshape(figure3, \"age\", :star)"
   ]
  },
  {
   "cell_type": "code",
   "execution_count": 27,
   "id": "2e542f6b",
   "metadata": {},
   "outputs": [],
   "source": [
    "style!(figure3, \"age\", \"fill\" => \"orange\", \"stroke\" => \"black\", \"stroke-width\" => 2px)"
   ]
  },
  {
   "cell_type": "code",
   "execution_count": 28,
   "id": "01842435",
   "metadata": {},
   "outputs": [],
   "source": [
    "Gattino.legend!(figure3, [\"age\"])\n",
    "\n",
    "circpreview = Gattino.circle(\"radiusprev\", r = 3)\n",
    "style!(circpreview, \"stroke\" => \"darkgreen\", \"stroke-width\" => 2px, \"fill\" => \"white\")\n",
    "\n",
    "Gattino.append_legend!(figure3, \"petal count\", circpreview)"
   ]
  },
  {
   "cell_type": "code",
   "execution_count": 29,
   "id": "5e6608f9",
   "metadata": {},
   "outputs": [
    {
     "data": {
      "text/html": [
       "\"<style id=fadein> @keyframes fadein {}</style>\""
      ],
      "text/plain": [
       "Animation(\"fadein\", Dict{Any, Any}(), Toolips.Servable[], Toolips.var\"#f#122\"{String}(\"fadein\", Core.Box(Dict{Any, Any}())), 0.0, 1.1, 1)"
      ]
     },
     "execution_count": 29,
     "metadata": {},
     "output_type": "execute_result"
    }
   ],
   "source": [
    "myanim = Animation(\"fadein\", iterations = 1, length = 1.1)"
   ]
  },
  {
   "cell_type": "code",
   "execution_count": 30,
   "id": "debd21f3",
   "metadata": {},
   "outputs": [
    {
     "data": {
      "text/plain": [
       "2-element Vector{Toolips.Servable}:\n",
       " Toolips.Style(\".fadein-style\", Dict{Any, Any}(\"animation-name\" => \"fadein\", \"animation-duration\" => \"1.1s\", \"animation-iteration-count\" => \"1\"), Toolips.Servable[Animation(\"fadein\", Dict{Any, Any}(), Toolips.Servable[], Toolips.var\"#f#122\"{String}(\"fadein\", Core.Box(Dict{Any, Any}())), 0.0, 1.1, 1)])\n",
       " Animation(\"fadein\", Dict{Any, Any}(), Toolips.Servable[], Toolips.var\"#f#122\"{String}(\"fadein\", Core.Box(Dict{Any, Any}())), 0.0, 1.1, 1)"
      ]
     },
     "execution_count": 30,
     "metadata": {},
     "output_type": "execute_result"
    }
   ],
   "source": [
    "Gattino.animate!(figure3, \"age\", myanim)"
   ]
  },
  {
   "cell_type": "code",
   "execution_count": 31,
   "id": "32f89f06",
   "metadata": {},
   "outputs": [
    {
     "name": "stdout",
     "output_type": "stream",
     "text": [
      "\n"
     ]
    },
    {
     "name": "stderr",
     "output_type": "stream",
     "text": [
      "WARNING: using Toolips.h in module Main conflicts with an existing identifier.\n",
      "\u001b[36m\u001b[1m[ \u001b[22m\u001b[39m\u001b[36m\u001b[1mInfo: \u001b[22m\u001b[39mListening on: 127.0.0.1:8000, thread id: 1\n"
     ]
    }
   ],
   "source": [
    "using Gattino.Toolips\n",
    "\n",
    "main = route(\"/\") do c::Connection\n",
    "    bod = body(\"mainbody\", align = \"center\")\n",
    "    visheader = Toolips.h(\"heading\", 2, text = \"my gattino visualization\")\n",
    "    style!(visheader, \"color\" => \"purple\")\n",
    "    push!(bod, visheader, figure1.window)\n",
    "    write!(c, bod)\n",
    "end\n",
    "\n",
    "ws = WebServer(routes = [main])\n",
    "\n",
    "ws.start()"
   ]
  },
  {
   "cell_type": "code",
   "execution_count": 32,
   "id": "a1ba6cee",
   "metadata": {},
   "outputs": [
    {
     "name": "stderr",
     "output_type": "stream",
     "text": [
      "\u001b[36m\u001b[1m[ \u001b[22m\u001b[39m\u001b[36m\u001b[1mInfo: \u001b[22m\u001b[39mPrecompiling GattinoInteractive [4120b9a3-2441-4f88-b64c-abd29fac8134]\n"
     ]
    }
   ],
   "source": [
    "using GattinoInteractive"
   ]
  },
  {
   "cell_type": "code",
   "execution_count": 33,
   "id": "aa032ba0",
   "metadata": {},
   "outputs": [
    {
     "data": {
      "text/html": [
       "\"<svg id=window height=250 style='display: inline-block;' width=250><g id=axes height=250 width=250><line id=CTCJfmdZ y1=250 x2=250 style='fill: none;stroke: black;stroke-width: 4;' y2=250 x1=0></line><line id=NC7lfEmx y1=0 x2=0 style='fill: none;stroke: black;stroke-width: 4;' y2=250 x1=0></line></g><g id=grid height=250 width=250><line id=QSq4HnEt y1=0 x2=1 style='fill: none;stroke: lightblue;stroke-width: 1;opacity: 80%;' y2=250 x1=1></line><line id=TRwKoYwT y1=1 x2=250 style='fill: none;stroke: lightblue;stroke-width: 1;opacity: 80%;' y2=1 x1=0></line><line id=xzoyZ5MS y1=0 x2=63 style='fill: none;stroke: lightblue;stroke-width: 1;opacity: 80%;' y2=250 x1=63></line><line id=UFiAOmPM y1=63 x2=250 style='fill: none;stroke: lightblue;stroke-width: 1;opacity: 80%;' y2=63 x1=0></line><line id=FeoDCZeb y1=0 x2=125 style='fill: none;stroke: lightblue;stroke-width: 1;opacity: 80%;' y2=250 x1=125></line><line id=56kSGulB y1=125 x2=250 style='fill: none;stroke: lightblue;stroke-width: 1;opacity: 80%;' y2=125 x1=0></line><line id=RVWWAeGJ y1=0 x2=187 style='fill: none;stroke: lightblue;stroke-width: 1;opacity: 80%;' y2=250 x1=187></line><line id=vxnrZAks y1=187 x2=250 style='fill: none;stroke: lightblue;stroke-width: 1;opacity: 80%;' y2=187 x1=0></line><line id=6hKJpDEV y1=0 x2=249 style='fill: none;stroke: lightblue;stroke-width: 1;opacity: 80%;' y2=250 x1=249></line><line id=87j3i1Hd y1=249 x2=250 style='fill: none;stroke: lightblue;stroke-width: 1;opacity: 80%;' y2=249 x1=0></line></g><g id=points height=250 width=250><circle id=rmogxlj1 cx=197 style='fill: #FF6633;' r=5 cy=125></circle><circle id=WNM1IENw cx=181 style='fill: #FF6633;' r=5 cy=68></circle><circle id=eMS6JW6a cx=176 style='fill: #FF6633;' r=5 cy=202></circle><circle id=URIiYbgk cx=0 style='fill: #FF6633;' r=5 cy=114></circle><circle id=fbcDVFOP cx=125 style='fill: #FF6633;' r=5 cy=1></circle><circle id=GXeYuVPX cx=83 style='fill: #FF6633;' r=5 cy=241></circle><circle id=hMALxtS6 cx=105 style='fill: #FF6633;' r=5 cy=174></circle><circle id=5S7IgoiT cx=51 style='fill: #FF6633;' r=5 cy=150></circle><circle id=r8B0WOxd cx=119 style='fill: #FF6633;' r=5 cy=19></circle><circle id=nyu11opC cx=209 style='fill: #FF6633;' r=5 cy=114></circle><circle id=tqTV2rMu cx=123 style='fill: #FF6633;' r=5 cy=238></circle><circle id=ClkzZ5Je cx=96 style='fill: #FF6633;' r=5 cy=25></circle><circle id=Ch26Xfok cx=249 style='fill: #FF6633;' r=5 cy=221></circle><circle id=HrbawTIn cx=156 style='fill: #FF6633;' r=5 cy=155></circle><circle id=Phn7kjFV cx=155 style='fill: #FF6633;' r=5 cy=33></circle><circle id=A5kWFpBO cx=136 style='fill: #FF6633;' r=5 cy=163></circle><circle id=Bk7nOBc1 cx=130 style='fill: #FF6633;' r=5 cy=128></circle><circle id=IJikfbyV cx=222 style='fill: #FF6633;' r=5 cy=116></circle><circle id=l5zyUJWv cx=157 style='fill: #FF6633;' r=5 cy=64></circle><circle id=3yKwFAST cx=175 style='fill: #FF6633;' r=5 cy=250></circle></g><g id=labels height=250 width=250><text id=YIgCGZ42 y=240 style='fill: black;font-size: 10pt;' x=-3>-2.663</text><text id=OgxXK2W8 y=-1 style='fill: black;font-size: 10pt;' x=0>1.6896</text><text id=YQMazdWe y=240 style='fill: black;font-size: 10pt;' x=59>-1.518</text><text id=EF5u613N y=61 style='fill: black;font-size: 10pt;' x=0>0.9323</text><text id=3U0deiUZ y=240 style='fill: black;font-size: 10pt;' x=121>-0.372</text><text id=27KvGq0g y=123 style='fill: black;font-size: 10pt;' x=0>0.1750</text><text id=FFs6y6Q3 y=240 style='fill: black;font-size: 10pt;' x=183>0.7728</text><text id=Fyd2nRTu y=185 style='fill: black;font-size: 10pt;' x=0>-0.582</text><text id=F2jSSxRx y=240 style='fill: black;font-size: 10pt;' x=245>1.9184</text><text id=qiqJUzJU y=247 style='fill: black;font-size: 10pt;' x=0>-1.339</text></g><g id=legend><rect id=legendbg width=50 y=175 height=0 style='stroke: darkgray;fill: white;stroke-width: 2px;' x=185></rect></g></svg>\""
      ]
     },
     "metadata": {},
     "output_type": "display_data"
    },
    {
     "data": {
      "text/html": [
       "\"<svg id=window height=250 style='display: inline-block;' width=250><g id=axes height=250 width=250><line id=CTCJfmdZ y1=250 x2=250 style='fill: none;stroke: black;stroke-width: 4;' y2=250 x1=0></line><line id=NC7lfEmx y1=0 x2=0 style='fill: none;stroke: black;stroke-width: 4;' y2=250 x1=0></line></g><g id=grid height=250 width=250><line id=QSq4HnEt y1=0 x2=1 style='fill: none;stroke: lightblue;stroke-width: 1;opacity: 80%;' y2=250 x1=1></line><line id=TRwKoYwT y1=1 x2=250 style='fill: none;stroke: lightblue;stroke-width: 1;opacity: 80%;' y2=1 x1=0></line><line id=xzoyZ5MS y1=0 x2=63 style='fill: none;stroke: lightblue;stroke-width: 1;opacity: 80%;' y2=250 x1=63></line><line id=UFiAOmPM y1=63 x2=250 style='fill: none;stroke: lightblue;stroke-width: 1;opacity: 80%;' y2=63 x1=0></line><line id=FeoDCZeb y1=0 x2=125 style='fill: none;stroke: lightblue;stroke-width: 1;opacity: 80%;' y2=250 x1=125></line><line id=56kSGulB y1=125 x2=250 style='fill: none;stroke: lightblue;stroke-width: 1;opacity: 80%;' y2=125 x1=0></line><line id=RVWWAeGJ y1=0 x2=187 style='fill: none;stroke: lightblue;stroke-width: 1;opacity: 80%;' y2=250 x1=187></line><line id=vxnrZAks y1=187 x2=250 style='fill: none;stroke: lightblue;stroke-width: 1;opacity: 80%;' y2=187 x1=0></line><line id=6hKJpDEV y1=0 x2=249 style='fill: none;stroke: lightblue;stroke-width: 1;opacity: 80%;' y2=250 x1=249></line><line id=87j3i1Hd y1=249 x2=250 style='fill: none;stroke: lightblue;stroke-width: 1;opacity: 80%;' y2=249 x1=0></line></g><g id=points height=250 width=250><circle id=rmogxlj1 cx=197 style='fill: #FF6633;' r=5 cy=125></circle><circle id=WNM1IENw cx=181 style='fill: #FF6633;' r=5 cy=68></circle><circle id=eMS6JW6a cx=176 style='fill: #FF6633;' r=5 cy=202></circle><circle id=URIiYbgk cx=0 style='fill: #FF6633;' r=5 cy=114></circle><circle id=fbcDVFOP cx=125 style='fill: #FF6633;' r=5 cy=1></circle><circle id=GXeYuVPX cx=83 style='fill: #FF6633;' r=5 cy=241></circle><circle id=hMALxtS6 cx=105 style='fill: #FF6633;' r=5 cy=174></circle><circle id=5S7IgoiT cx=51 style='fill: #FF6633;' r=5 cy=150></circle><circle id=r8B0WOxd cx=119 style='fill: #FF6633;' r=5 cy=19></circle><circle id=nyu11opC cx=209 style='fill: #FF6633;' r=5 cy=114></circle><circle id=tqTV2rMu cx=123 style='fill: #FF6633;' r=5 cy=238></circle><circle id=ClkzZ5Je cx=96 style='fill: #FF6633;' r=5 cy=25></circle><circle id=Ch26Xfok cx=249 style='fill: #FF6633;' r=5 cy=221></circle><circle id=HrbawTIn cx=156 style='fill: #FF6633;' r=5 cy=155></circle><circle id=Phn7kjFV cx=155 style='fill: #FF6633;' r=5 cy=33></circle><circle id=A5kWFpBO cx=136 style='fill: #FF6633;' r=5 cy=163></circle><circle id=Bk7nOBc1 cx=130 style='fill: #FF6633;' r=5 cy=128></circle><circle id=IJikfbyV cx=222 style='fill: #FF6633;' r=5 cy=116></circle><circle id=l5zyUJWv cx=157 style='fill: #FF6633;' r=5 cy=64></circle><circle id=3yKwFAST cx=175 style='fill: #FF6633;' r=5 cy=250></circle></g><g id=labels height=250 width=250><text id=YIgCGZ42 y=240 style='fill: black;font-size: 10pt;' x=-3>-2.663</text><text id=OgxXK2W8 y=-1 style='fill: black;font-size: 10pt;' x=0>1.6896</text><text id=YQMazdWe y=240 style='fill: black;font-size: 10pt;' x=59>-1.518</text><text id=EF5u613N y=61 style='fill: black;font-size: 10pt;' x=0>0.9323</text><text id=3U0deiUZ y=240 style='fill: black;font-size: 10pt;' x=121>-0.372</text><text id=27KvGq0g y=123 style='fill: black;font-size: 10pt;' x=0>0.1750</text><text id=FFs6y6Q3 y=240 style='fill: black;font-size: 10pt;' x=183>0.7728</text><text id=Fyd2nRTu y=185 style='fill: black;font-size: 10pt;' x=0>-0.582</text><text id=F2jSSxRx y=240 style='fill: black;font-size: 10pt;' x=245>1.9184</text><text id=qiqJUzJU y=247 style='fill: black;font-size: 10pt;' x=0>-1.339</text></g><g id=legend><rect id=legendbg width=50 y=175 height=0 style='stroke: darkgray;fill: white;stroke-width: 2px;' x=185></rect></g></svg>\""
      ],
      "text/plain": []
     },
     "execution_count": 33,
     "metadata": {},
     "output_type": "execute_result"
    }
   ],
   "source": [
    "figure2"
   ]
  },
  {
   "cell_type": "code",
   "execution_count": 47,
   "id": "f7a2f79e",
   "metadata": {},
   "outputs": [],
   "source": [
    "newvis = scatter(randn(20), randn(20))\n",
    "style!(newvis, \"points\", \"transition\" => 10seconds)\n",
    "newcontrols = controls(500, 500) do con::Controls\n",
    "    changebutt = button(\"changebutt\", text = \"change\")\n",
    "    bind!(newvis, changebutt) do pm::PlotModifier{Context}\n",
    "        GattinoInteractive.style_layer!(pm, \"points\", \"opacity\" => 0percent)\n",
    "    end\n",
    "    push!(con.window, changebutt)\n",
    "end\n",
    "nothing"
   ]
  },
  {
   "cell_type": "code",
   "execution_count": 48,
   "id": "4fa4451f",
   "metadata": {},
   "outputs": [
    {
     "data": {
      "text/html": [
       "\"<div id=eqj><svg id=window height=500 style='display: inline-block;' width=500><g id=axes height=500 width=500><line id=Es06FqV9 y1=500 x2=500 style='fill: none;stroke: black;stroke-width: 4;' y2=500 x1=0></line><line id=tWS4KVy3 y1=0 x2=0 style='fill: none;stroke: black;stroke-width: 4;' y2=500 x1=0></line></g><g id=grid height=500 width=500><line id=Kf4qTNsS y1=0 x2=1 style='fill: none;stroke: lightblue;stroke-width: 1;opacity: 80%;' y2=500 x1=1></line><line id=8nww8yKZ y1=1 x2=500 style='fill: none;stroke: lightblue;stroke-width: 1;opacity: 80%;' y2=1 x1=0></line><line id=b9EZGNKs y1=0 x2=126 style='fill: none;stroke: lightblue;stroke-width: 1;opacity: 80%;' y2=500 x1=126></line><line id=tqhDmq6A y1=126 x2=500 style='fill: none;stroke: lightblue;stroke-width: 1;opacity: 80%;' y2=126 x1=0></line><line id=N4x22Mj8 y1=0 x2=251 style='fill: none;stroke: lightblue;stroke-width: 1;opacity: 80%;' y2=500 x1=251></line><line id=uZ2LagW9 y1=251 x2=500 style='fill: none;stroke: lightblue;stroke-width: 1;opacity: 80%;' y2=251 x1=0></line><line id=GwgjRKoE y1=0 x2=376 style='fill: none;stroke: lightblue;stroke-width: 1;opacity: 80%;' y2=500 x1=376></line><line id=ogfQfhNR y1=376 x2=500 style='fill: none;stroke: lightblue;stroke-width: 1;opacity: 80%;' y2=376 x1=0></line></g><g id=points height=500 width=500><circle id=39eTlQS1 cx=227 style='fill: #FF6633;transition: 10s;' r=5 cy=232></circle><circle id=IHY8EmAV cx=201 style='fill: #FF6633;transition: 10s;' r=5 cy=222></circle><circle id=UQlRO9Of cx=209 style='fill: #FF6633;transition: 10s;' r=5 cy=385></circle><circle id=J6vaCVYV cx=312 style='fill: #FF6633;transition: 10s;' r=5 cy=500></circle><circle id=OmBH5ZoZ cx=208 style='fill: #FF6633;transition: 10s;' r=5 cy=124></circle><circle id=kHdJ1UdE cx=168 style='fill: #FF6633;transition: 10s;' r=5 cy=421></circle><circle id=ZoSy1WYP cx=330 style='fill: #FF6633;transition: 10s;' r=5 cy=408></circle><circle id=HtZ5eEME cx=192 style='fill: #FF6633;transition: 10s;' r=5 cy=284></circle><circle id=kkXu4Am9 cx=35 style='fill: #FF6633;transition: 10s;' r=5 cy=185></circle><circle id=4KzEX8fI cx=357 style='fill: #FF6633;transition: 10s;' r=5 cy=33></circle><circle id=HOfntB44 cx=409 style='fill: #FF6633;transition: 10s;' r=5 cy=268></circle><circle id=6IiP9yTh cx=257 style='fill: #FF6633;transition: 10s;' r=5 cy=16></circle><circle id=rESLtXwA cx=0 style='fill: #FF6633;transition: 10s;' r=5 cy=262></circle><circle id=0dMRheYv cx=81 style='fill: #FF6633;transition: 10s;' r=5 cy=116></circle><circle id=7iu6BUxU cx=127 style='fill: #FF6633;transition: 10s;' r=5 cy=198></circle><circle id=e4p5UwKv cx=96 style='fill: #FF6633;transition: 10s;' r=5 cy=393></circle><circle id=YWKKjENM cx=165 style='fill: #FF6633;transition: 10s;' r=5 cy=1></circle><circle id=nPpHa9Rv cx=144 style='fill: #FF6633;transition: 10s;' r=5 cy=148></circle><circle id=ApfWda3o cx=499 style='fill: #FF6633;transition: 10s;' r=5 cy=5></circle><circle id=c7lDpFSN cx=318 style='fill: #FF6633;transition: 10s;' r=5 cy=279></circle></g><g id=labels height=500 width=500><text id=lohFqQe8 y=490 style='fill: black;font-size: 10pt;' x=-2>-1.538</text><text id=jawMQPCf y=-2 style='fill: black;font-size: 10pt;' x=0>1.8614</text><text id=rRRQDnXO y=490 style='fill: black;font-size: 10pt;' x=123>-0.582</text><text id=kER4CmGn y=123 style='fill: black;font-size: 10pt;' x=0>0.9246</text><text id=YU92Yor8 y=490 style='fill: black;font-size: 10pt;' x=248>0.3729</text><text id=0qYhJz4I y=248 style='fill: black;font-size: 10pt;' x=0>-0.012</text><text id=wAP5yzE9 y=490 style='fill: black;font-size: 10pt;' x=373>1.3285</text><text id=oy9FOja4 y=373 style='fill: black;font-size: 10pt;' x=0>-0.949</text><text id=ff4LwTNU y=490 style='fill: black;font-size: 10pt;' x=498>2.2840</text><text id=QXWLmUiY y=498 style='fill: black;font-size: 10pt;' x=0>-1.885</text></g><g id=legend><rect id=legendbg width=100 y=350 height=0 style='stroke: darkgray;fill: white;stroke-width: 2px;' x=370></rect></g></svg><div id=9wim3dIz style='width: 500;height: 500;margin-left: 0;margin-right: 0;padding: 0px;vertical-align: top;display: inline-block;' height=500 width=500><button id=changebutt onclick=changebuttclick(event);>change</button><script id=changebuttclick>function changebuttclick(event){var new_element = document.getElementById('39eTlQS1');new_element.style['opacity'] = '0%';var new_element = document.getElementById('IHY8EmAV');new_element.style['opacity'] = '0%';var new_element = document.getElementById('UQlRO9Of');new_element.style['opacity'] = '0%';var new_element = document.getElementById('J6vaCVYV');new_element.style['opacity'] = '0%';var new_element = document.getElementById('OmBH5ZoZ');new_element.style['opacity'] = '0%';var new_element = document.getElementById('kHdJ1UdE');new_element.style['opacity'] = '0%';var new_element = document.getElementById('ZoSy1WYP');new_element.style['opacity'] = '0%';var new_element = document.getElementById('HtZ5eEME');new_element.style['opacity'] = '0%';var new_element = document.getElementById('kkXu4Am9');new_element.style['opacity'] = '0%';var new_element = document.getElementById('4KzEX8fI');new_element.style['opacity'] = '0%';var new_element = document.getElementById('HOfntB44');new_element.style['opacity'] = '0%';var new_element = document.getElementById('6IiP9yTh');new_element.style['opacity'] = '0%';var new_element = document.getElementById('rESLtXwA');new_element.style['opacity'] = '0%';var new_element = document.getElementById('0dMRheYv');new_element.style['opacity'] = '0%';var new_element = document.getElementById('7iu6BUxU');new_element.style['opacity'] = '0%';var new_element = document.getElementById('e4p5UwKv');new_element.style['opacity'] = '0%';var new_element = document.getElementById('YWKKjENM');new_element.style['opacity'] = '0%';var new_element = document.getElementById('nPpHa9Rv');new_element.style['opacity'] = '0%';var new_element = document.getElementById('ApfWda3o');new_element.style['opacity'] = '0%';var new_element = document.getElementById('c7lDpFSN');new_element.style['opacity'] = '0%';}</script></div></div>\""
      ],
      "text/plain": [
       "Component{:div}(\"eqj\", Dict{Any, Any}(:children => Servable[Component{:svg}(\"window\", Dict{Any, Any}(:children => Servable[Component{:g}(\"axes\", Dict{Any, Any}(:children => Servable[Component{:line}(\"Es06FqV9\", Dict{Any, Any}(:children => Servable[], :y1 => 500, :x2 => 500, \"style\" => \"'fill: none;stroke: black;stroke-width: 4;'\", :y2 => 500, :x1 => 0), Servable[], \"line\"), Component{:line}(\"tWS4KVy3\", Dict{Any, Any}(:children => Servable[], :y1 => 0, :x2 => 0, \"style\" => \"'fill: none;stroke: black;stroke-width: 4;'\", :y2 => 500, :x1 => 0), Servable[], \"line\")], :height => 500, :width => 500), Servable[], \"g\"), Component{:g}(\"grid\", Dict{Any, Any}(:children => Servable[Component{:line}(\"Kf4qTNsS\", Dict{Any, Any}(:children => Servable[], :y1 => 0, :x2 => 1, \"style\" => \"'fill: none;stroke: lightblue;stroke-width: 1;opacity: 80%;'\", :y2 => 500, :x1 => 1), Servable[], \"line\"), Component{:line}(\"8nww8yKZ\", Dict{Any, Any}(:children => Servable[], :y1 => 1, :x2 => 500, \"style\" => \"'fill: none;stroke: lightblue;stroke-width: 1;opacity: 80%;'\", :y2 => 1, :x1 => 0), Servable[], \"line\"), Component{:line}(\"b9EZGNKs\", Dict{Any, Any}(:children => Servable[], :y1 => 0, :x2 => 126, \"style\" => \"'fill: none;stroke: lightblue;stroke-width: 1;opacity: 80%;'\", :y2 => 500, :x1 => 126), Servable[], \"line\"), Component{:line}(\"tqhDmq6A\", Dict{Any, Any}(:children => Servable[], :y1 => 126, :x2 => 500, \"style\" => \"'fill: none;stroke: lightblue;stroke-width: 1;opacity: 80%;'\", :y2 => 126, :x1 => 0), Servable[], \"line\"), Component{:line}(\"N4x22Mj8\", Dict{Any, Any}(:children => Servable[], :y1 => 0, :x2 => 251, \"style\" => \"'fill: none;stroke: lightblue;stroke-width: 1;opacity: 80%;'\", :y2 => 500, :x1 => 251), Servable[], \"line\"), Component{:line}(\"uZ2LagW9\", Dict{Any, Any}(:children => Servable[], :y1 => 251, :x2 => 500, \"style\" => \"'fill: none;stroke: lightblue;stroke-width: 1;opacity: 80%;'\", :y2 => 251, :x1 => 0), Servable[], \"line\"), Component{:line}(\"GwgjRKoE\", Dict{Any, Any}(:children => Servable[], :y1 => 0, :x2 => 376, \"style\" => \"'fill: none;stroke: lightblue;stroke-width: 1;opacity: 80%;'\", :y2 => 500, :x1 => 376), Servable[], \"line\"), Component{:line}(\"ogfQfhNR\", Dict{Any, Any}(:children => Servable[], :y1 => 376, :x2 => 500, \"style\" => \"'fill: none;stroke: lightblue;stroke-width: 1;opacity: 80%;'\", :y2 => 376, :x1 => 0), Servable[], \"line\")], :height => 500, :width => 500), Servable[], \"g\"), Component{:g}(\"points\", Dict{Any, Any}(:children => Servable[Component{:circle}(\"39eTlQS1\", Dict{Any, Any}(:children => Servable[], :cx => 227, \"style\" => \"'fill: #FF6633;transition: 10s;'\", :r => 5, :cy => 232), Servable[], \"circle\"), Component{:circle}(\"IHY8EmAV\", Dict{Any, Any}(:children => Servable[], :cx => 201, \"style\" => \"'fill: #FF6633;transition: 10s;'\", :r => 5, :cy => 222), Servable[], \"circle\"), Component{:circle}(\"UQlRO9Of\", Dict{Any, Any}(:children => Servable[], :cx => 209, \"style\" => \"'fill: #FF6633;transition: 10s;'\", :r => 5, :cy => 385), Servable[], \"circle\"), Component{:circle}(\"J6vaCVYV\", Dict{Any, Any}(:children => Servable[], :cx => 312, \"style\" => \"'fill: #FF6633;transition: 10s;'\", :r => 5, :cy => 500), Servable[], \"circle\"), Component{:circle}(\"OmBH5ZoZ\", Dict{Any, Any}(:children => Servable[], :cx => 208, \"style\" => \"'fill: #FF6633;transition: 10s;'\", :r => 5, :cy => 124), Servable[], \"circle\"), Component{:circle}(\"kHdJ1UdE\", Dict{Any, Any}(:children => Servable[], :cx => 168, \"style\" => \"'fill: #FF6633;transition: 10s;'\", :r => 5, :cy => 421), Servable[], \"circle\"), Component{:circle}(\"ZoSy1WYP\", Dict{Any, Any}(:children => Servable[], :cx => 330, \"style\" => \"'fill: #FF6633;transition: 10s;'\", :r => 5, :cy => 408), Servable[], \"circle\"), Component{:circle}(\"HtZ5eEME\", Dict{Any, Any}(:children => Servable[], :cx => 192, \"style\" => \"'fill: #FF6633;transition: 10s;'\", :r => 5, :cy => 284), Servable[], \"circle\"), Component{:circle}(\"kkXu4Am9\", Dict{Any, Any}(:children => Servable[], :cx => 35, \"style\" => \"'fill: #FF6633;transition: 10s;'\", :r => 5, :cy => 185), Servable[], \"circle\"), Component{:circle}(\"4KzEX8fI\", Dict{Any, Any}(:children => Servable[], :cx => 357, \"style\" => \"'fill: #FF6633;transition: 10s;'\", :r => 5, :cy => 33), Servable[], \"circle\"), Component{:circle}(\"HOfntB44\", Dict{Any, Any}(:children => Servable[], :cx => 409, \"style\" => \"'fill: #FF6633;transition: 10s;'\", :r => 5, :cy => 268), Servable[], \"circle\"), Component{:circle}(\"6IiP9yTh\", Dict{Any, Any}(:children => Servable[], :cx => 257, \"style\" => \"'fill: #FF6633;transition: 10s;'\", :r => 5, :cy => 16), Servable[], \"circle\"), Component{:circle}(\"rESLtXwA\", Dict{Any, Any}(:children => Servable[], :cx => 0, \"style\" => \"'fill: #FF6633;transition: 10s;'\", :r => 5, :cy => 262), Servable[], \"circle\"), Component{:circle}(\"0dMRheYv\", Dict{Any, Any}(:children => Servable[], :cx => 81, \"style\" => \"'fill: #FF6633;transition: 10s;'\", :r => 5, :cy => 116), Servable[], \"circle\"), Component{:circle}(\"7iu6BUxU\", Dict{Any, Any}(:children => Servable[], :cx => 127, \"style\" => \"'fill: #FF6633;transition: 10s;'\", :r => 5, :cy => 198), Servable[], \"circle\"), Component{:circle}(\"e4p5UwKv\", Dict{Any, Any}(:children => Servable[], :cx => 96, \"style\" => \"'fill: #FF6633;transition: 10s;'\", :r => 5, :cy => 393), Servable[], \"circle\"), Component{:circle}(\"YWKKjENM\", Dict{Any, Any}(:children => Servable[], :cx => 165, \"style\" => \"'fill: #FF6633;transition: 10s;'\", :r => 5, :cy => 1), Servable[], \"circle\"), Component{:circle}(\"nPpHa9Rv\", Dict{Any, Any}(:children => Servable[], :cx => 144, \"style\" => \"'fill: #FF6633;transition: 10s;'\", :r => 5, :cy => 148), Servable[], \"circle\"), Component{:circle}(\"ApfWda3o\", Dict{Any, Any}(:children => Servable[], :cx => 499, \"style\" => \"'fill: #FF6633;transition: 10s;'\", :r => 5, :cy => 5), Servable[], \"circle\"), Component{:circle}(\"c7lDpFSN\", Dict{Any, Any}(:children => Servable[], :cx => 318, \"style\" => \"'fill: #FF6633;transition: 10s;'\", :r => 5, :cy => 279), Servable[], \"circle\")], :height => 500, :width => 500), Servable[], \"g\"), Component{:g}(\"labels\", Dict{Any, Any}(:children => Servable[Component{:text}(\"lohFqQe8\", Dict{Any, Any}(:children => Servable[], :y => 490, \"style\" => \"'fill: black;font-size: 10pt;'\", :text => \"-1.538\", :x => -2), Servable[], \"text\"), Component{:text}(\"jawMQPCf\", Dict{Any, Any}(:children => Servable[], :y => -2, \"style\" => \"'fill: black;font-size: 10pt;'\", :text => \"1.8614\", :x => 0), Servable[], \"text\"), Component{:text}(\"rRRQDnXO\", Dict{Any, Any}(:children => Servable[], :y => 490, \"style\" => \"'fill: black;font-size: 10pt;'\", :text => \"-0.582\", :x => 123), Servable[], \"text\"), Component{:text}(\"kER4CmGn\", Dict{Any, Any}(:children => Servable[], :y => 123, \"style\" => \"'fill: black;font-size: 10pt;'\", :text => \"0.9246\", :x => 0), Servable[], \"text\"), Component{:text}(\"YU92Yor8\", Dict{Any, Any}(:children => Servable[], :y => 490, \"style\" => \"'fill: black;font-size: 10pt;'\", :text => \"0.3729\", :x => 248), Servable[], \"text\"), Component{:text}(\"0qYhJz4I\", Dict{Any, Any}(:children => Servable[], :y => 248, \"style\" => \"'fill: black;font-size: 10pt;'\", :text => \"-0.012\", :x => 0), Servable[], \"text\"), Component{:text}(\"wAP5yzE9\", Dict{Any, Any}(:children => Servable[], :y => 490, \"style\" => \"'fill: black;font-size: 10pt;'\", :text => \"1.3285\", :x => 373), Servable[], \"text\"), Component{:text}(\"oy9FOja4\", Dict{Any, Any}(:children => Servable[], :y => 373, \"style\" => \"'fill: black;font-size: 10pt;'\", :text => \"-0.949\", :x => 0), Servable[], \"text\"), Component{:text}(\"ff4LwTNU\", Dict{Any, Any}(:children => Servable[], :y => 490, \"style\" => \"'fill: black;font-size: 10pt;'\", :text => \"2.2840\", :x => 498), Servable[], \"text\"), Component{:text}(\"QXWLmUiY\", Dict{Any, Any}(:children => Servable[], :y => 498, \"style\" => \"'fill: black;font-size: 10pt;'\", :text => \"-1.885\", :x => 0), Servable[], \"text\")], :height => 500, :width => 500), Servable[], \"g\"), Component{:g}(\"legend\", Dict{Any, Any}(:children => Servable[Component{:rect}(\"legendbg\", Dict{Any, Any}(:width => 100, :children => Servable[], :y => 350, :height => 0, \"style\" => \"'stroke: darkgray;fill: white;stroke-width: 2px;'\", :x => 370), Servable[], \"rect\")]), Servable[], \"g\")], :height => 500, \"style\" => \"'display: inline-block;'\", :width => 500), Servable[], \"svg\"), Component{:div}(\"9wim3dIz\", Dict{Any, Any}(:children => Servable[Component{:button}(\"changebutt\", Dict{Any, Any}(\"onclick\" => \"changebuttclick(event);\", :children => Servable[], :text => \"change\"), Servable[Component{:script}(\"changebuttclick\", Dict{Any, Any}(:children => Servable[], :text => \"function changebuttclick(event){var new_element = document.getElementById('39eTlQS1');new_element.style['opacity'] = '0%';var new_element = document.getElementById('IHY8EmAV');new_element.style['opacity'] = '0%';var new_element = document.getElementById('UQlRO9Of');new_element.style['opacity'] = '0%';var new_element = document.getElementById('J6vaCVYV');new_element.style['opacity'] = '0%';var new_element = document.getElementById('OmBH5ZoZ');new_element.style['opacity'] = '0%';var new_element = document.getElementById('kHdJ1UdE');new_element.style['opacity'] = '0%';var new_element = document.getElementById('ZoSy1WYP');new_element.style['opacity'] = '0%';var new_element = document.getElementById('HtZ5eEME');new_element.style['opacity'] = '0%';var new_element = document.getElementById('kkXu4Am9');new_element.style['opacity'] = '0%';var new_element = document.getElementById('4KzEX8fI');new_element.style['opacity'] = '0%';var new_element = document.getElementById('HOfntB44');new_element.style['opacity'] = '0%';var new_element = document.getElementById('6IiP9yTh');new_element.style['opacity'] = '0%';var new_element = document.getElementById('rESLtXwA');new_element.style['opacity'] = '0%';var new_element = document.getElementById('0dMRheYv');new_element.style['opacity'] = '0%';var new_element = document.getElementById('7iu6BUxU');new_element.style['opacity'] = '0%';var new_element = document.getElementById('e4p5UwKv');new_element.style['opacity'] = '0%';var new_element = document.getElementById('YWKKjENM');new_element.style['opacity'] = '0%';var new_element = document.getElementById('nPpHa9Rv');new_element.style['opacity'] = '0%';var new_element = document.getElementById('ApfWda3o');new_element.style['opacity'] = '0%';var new_element = document.getElementById('c7lDpFSN');new_element.style['opacity'] = '0%';}\"), Servable[], \"script\")], \"button\")], \"style\" => \"'width: 500;height: 500;margin-left: 0;margin-right: 0;padding: 0px;vertical-align: top;display: inline-block;'\", :height => 500, :width => 500), Servable[], \"div\")]), Servable[], \"div\")"
      ]
     },
     "execution_count": 48,
     "metadata": {},
     "output_type": "execute_result"
    }
   ],
   "source": [
    "hcat(newvis, newcontrols)"
   ]
  },
  {
   "cell_type": "code",
   "execution_count": 50,
   "id": "6ed7886b",
   "metadata": {},
   "outputs": [
    {
     "data": {
      "text/plain": [
       "Dict{Symbol, Vector} with 6 entries:\n",
       "  :color    => [\"orange\", \"red\", \"white\", \"orange\", \"red\", \"pink\"]\n",
       "  :n_petals => [4, 9, 4, 12, 8, 4]\n",
       "  :petal    => [10, 4, 7, 9, 5, 7]\n",
       "  :name     => [\"daisy\", \"rose\", \"lilac\", \"poppy\", \"cherry\"]\n",
       "  :score    => [4, 2, 6, 8, 10, 3]\n",
       "  :stem     => [20, 14, 16, 6, 9, 5]"
      ]
     },
     "execution_count": 50,
     "metadata": {},
     "output_type": "execute_result"
    }
   ],
   "source": [
    "flowers = Dict(:color => [\"orange\", \"red\", \"white\", \"orange\", \"red\", \"pink\"], \n",
    "               :petal => [10, 4, 7, 9, 5, 7], :stem => [20, 14, 16, 6, 9, 5], \n",
    "               :score => [4, 2, 6, 8, 10, 3], :n_petals => [4, 9, 4, 12, 8, 4], \n",
    "               :name => [\"daisy\", \"rose\", \"lilac\", \"poppy\", \"cherry\"])"
   ]
  },
  {
   "cell_type": "code",
   "execution_count": 51,
   "id": "9efea578",
   "metadata": {},
   "outputs": [
    {
     "data": {
      "text/html": [
       "\"<div id=flowervis><svg id=window height=500 style='border-top-left-radius: 8px;border-bottom-left-radius: 8px;border: 2px solid black;border-right: 1px solid gray;display: inline-block;' width=500><g id=axes height=500 width=500><line id=wfyFlSNS y1=500 x2=500 style='fill: none;stroke: black;stroke-width: 4;' y2=500 x1=0></line><line id=iCh8t5cL y1=0 x2=0 style='fill: none;stroke: black;stroke-width: 4;' y2=500 x1=0></line></g><g id=grid height=500 width=500><line id=5lcBqQp8 y1=0 x2=1 style='fill: none;stroke: lightblue;stroke-width: 1;opacity: 80%;' y2=500 x1=1></line><line id=yitdtiKa y1=1 x2=500 style='fill: none;stroke: lightblue;stroke-width: 1;opacity: 80%;' y2=1 x1=0></line><line id=Zpqw2kFM y1=0 x2=126 style='fill: none;stroke: lightblue;stroke-width: 1;opacity: 80%;' y2=500 x1=126></line><line id=KFF2Vsos y1=126 x2=500 style='fill: none;stroke: lightblue;stroke-width: 1;opacity: 80%;' y2=126 x1=0></line><line id=SOlN8S3u y1=0 x2=251 style='fill: none;stroke: lightblue;stroke-width: 1;opacity: 80%;' y2=500 x1=251></line><line id=MJIecE0A y1=251 x2=500 style='fill: none;stroke: lightblue;stroke-width: 1;opacity: 80%;' y2=251 x1=0></line><line id=E8a9qzih y1=0 x2=376 style='fill: none;stroke: lightblue;stroke-width: 1;opacity: 80%;' y2=500 x1=376></line><line id=Rj1OygbB y1=376 x2=500 style='fill: none;stroke: lightblue;stroke-width: 1;opacity: 80%;' y2=376 x1=0></line></g><g id=points height=500 width=500><circle id=56LT9oEE cx=125 style='fill: #FF6633;fill: orange;transition: 1s;' r=10 cy=500></circle><circle id=YuBZquHN cx=0 style='fill: #FF6633;fill: red;transition: 1s;' r=4 cy=188></circle><circle id=nyRnwSBH cx=250 style='fill: #FF6633;fill: white;transition: 1s;' r=7 cy=500></circle><circle id=OUnTZ5Mw cx=374 style='fill: #FF6633;fill: orange;transition: 1s;' r=9 cy=1></circle><circle id=wM5Oqv70 cx=499 style='fill: #FF6633;fill: red;transition: 1s;' r=5 cy=250></circle><circle id=dN4dtCxn cx=62 style='fill: #FF6633;fill: pink;transition: 1s;' r=7 cy=500></circle></g><g id=labels height=500 width=500><text id=0ao7TtO7 y=490 style='fill: black;font-size: 10pt;' x=2>2</text><text id=Fi11MjgZ y=4 style='fill: black;font-size: 10pt;' x=0>12</text><text id=p8koWhaO y=490 style='fill: black;font-size: 10pt;' x=127>4.0</text><text id=Dx5nWJ5f y=129 style='fill: black;font-size: 10pt;' x=0>10.0</text><text id=OpPbyPPB y=490 style='fill: black;font-size: 10pt;' x=252>6.0</text><text id=JC52IHzQ y=254 style='fill: black;font-size: 10pt;' x=0>8.0</text><text id=tWQWNuIW y=490 style='fill: black;font-size: 10pt;' x=377>8.0</text><text id=7P8jJ6jE y=379 style='fill: black;font-size: 10pt;' x=0>6.0</text></g><g id=legend><rect id=legendbg width=100 y=350 height=0 style='stroke: darkgray;fill: white;stroke-width: 2px;' x=370></rect></g></svg><div id=rzvQHZP3 style='width: 500;height: 500;margin-left: 0;margin-right: 0;padding: 0px;vertical-align: top;border-top-left-radius: 0px;border-bottom-left-radius: 0px;border: 2px solid black;border-left: none;padding: 20px;display: inline-block;' height=500 width=500><h2 id=selectcat style='color: purple;margin-bottom: 8px;'>show feature</h2><select id=featb style='height: 5%;color: gray;font-size: 13pt;margin-left: 30px;' oninput=featbinput(event);><option id=n_petals>n_petals</option><option id=stem>stem</option><option id=petal>petal</option></select><script id=featbinput>function featbinput(event){document.getElementById('featb').setAttribute('value',document.getElementById('featb').value);if (String(document.getElementById('featb').value) == 'stem'){document.getElementById('56LT9oEE').setAttribute('cx','200.0');document.getElementById('YuBZquHN').setAttribute('cx','100.0');document.getElementById('nyRnwSBH').setAttribute('cx','300.0');document.getElementById('OUnTZ5Mw').setAttribute('cx','400.0');document.getElementById('wM5Oqv70').setAttribute('cx','500.0');document.getElementById('dN4dtCxn').setAttribute('cx','150.0');document.getElementById('56LT9oEE').setAttribute('cy','0.0');document.getElementById('YuBZquHN').setAttribute('cy','150.0');document.getElementById('nyRnwSBH').setAttribute('cy','100.0');document.getElementById('OUnTZ5Mw').setAttribute('cy','350.0');document.getElementById('wM5Oqv70').setAttribute('cy','275.0');document.getElementById('dN4dtCxn').setAttribute('cy','375.0');}if (String(document.getElementById('featb').value) == 'petal'){document.getElementById('56LT9oEE').setAttribute('cx','200.0');document.getElementById('YuBZquHN').setAttribute('cx','100.0');document.getElementById('nyRnwSBH').setAttribute('cx','300.0');document.getElementById('OUnTZ5Mw').setAttribute('cx','400.0');document.getElementById('wM5Oqv70').setAttribute('cx','500.0');document.getElementById('dN4dtCxn').setAttribute('cx','150.0');document.getElementById('56LT9oEE').setAttribute('cy','0.0');document.getElementById('YuBZquHN').setAttribute('cy','300.0');document.getElementById('nyRnwSBH').setAttribute('cy','150.0');document.getElementById('OUnTZ5Mw').setAttribute('cy','50.0');document.getElementById('wM5Oqv70').setAttribute('cy','250.0');document.getElementById('dN4dtCxn').setAttribute('cy','150.0');}if (String(document.getElementById('featb').value) == 'n_petals'){document.getElementById('56LT9oEE').setAttribute('cx','200.0');document.getElementById('YuBZquHN').setAttribute('cx','100.0');document.getElementById('nyRnwSBH').setAttribute('cx','300.0');document.getElementById('OUnTZ5Mw').setAttribute('cx','400.0');document.getElementById('wM5Oqv70').setAttribute('cx','500.0');document.getElementById('dN4dtCxn').setAttribute('cx','150.0');document.getElementById('56LT9oEE').setAttribute('cy','333.33333333333337');document.getElementById('YuBZquHN').setAttribute('cy','125.0');document.getElementById('nyRnwSBH').setAttribute('cy','333.33333333333337');document.getElementById('OUnTZ5Mw').setAttribute('cy','0.0');document.getElementById('wM5Oqv70').setAttribute('cy','166.66666666666669');document.getElementById('dN4dtCxn').setAttribute('cy','333.33333333333337');}}</script></div></div>\""
      ],
      "text/plain": [
       "Component{:div}(\"flowervis\", Dict{Any, Any}(:children => Servable[Component{:svg}(\"window\", Dict{Any, Any}(:children => Servable[Component{:g}(\"axes\", Dict{Any, Any}(:children => Servable[Component{:line}(\"wfyFlSNS\", Dict{Any, Any}(:children => Servable[], :y1 => 500, :x2 => 500, \"style\" => \"'fill: none;stroke: black;stroke-width: 4;'\", :y2 => 500, :x1 => 0), Servable[], \"line\"), Component{:line}(\"iCh8t5cL\", Dict{Any, Any}(:children => Servable[], :y1 => 0, :x2 => 0, \"style\" => \"'fill: none;stroke: black;stroke-width: 4;'\", :y2 => 500, :x1 => 0), Servable[], \"line\")], :height => 500, :width => 500), Servable[], \"g\"), Component{:g}(\"grid\", Dict{Any, Any}(:children => Servable[Component{:line}(\"5lcBqQp8\", Dict{Any, Any}(:children => Servable[], :y1 => 0, :x2 => 1, \"style\" => \"'fill: none;stroke: lightblue;stroke-width: 1;opacity: 80%;'\", :y2 => 500, :x1 => 1), Servable[], \"line\"), Component{:line}(\"yitdtiKa\", Dict{Any, Any}(:children => Servable[], :y1 => 1, :x2 => 500, \"style\" => \"'fill: none;stroke: lightblue;stroke-width: 1;opacity: 80%;'\", :y2 => 1, :x1 => 0), Servable[], \"line\"), Component{:line}(\"Zpqw2kFM\", Dict{Any, Any}(:children => Servable[], :y1 => 0, :x2 => 126, \"style\" => \"'fill: none;stroke: lightblue;stroke-width: 1;opacity: 80%;'\", :y2 => 500, :x1 => 126), Servable[], \"line\"), Component{:line}(\"KFF2Vsos\", Dict{Any, Any}(:children => Servable[], :y1 => 126, :x2 => 500, \"style\" => \"'fill: none;stroke: lightblue;stroke-width: 1;opacity: 80%;'\", :y2 => 126, :x1 => 0), Servable[], \"line\"), Component{:line}(\"SOlN8S3u\", Dict{Any, Any}(:children => Servable[], :y1 => 0, :x2 => 251, \"style\" => \"'fill: none;stroke: lightblue;stroke-width: 1;opacity: 80%;'\", :y2 => 500, :x1 => 251), Servable[], \"line\"), Component{:line}(\"MJIecE0A\", Dict{Any, Any}(:children => Servable[], :y1 => 251, :x2 => 500, \"style\" => \"'fill: none;stroke: lightblue;stroke-width: 1;opacity: 80%;'\", :y2 => 251, :x1 => 0), Servable[], \"line\"), Component{:line}(\"E8a9qzih\", Dict{Any, Any}(:children => Servable[], :y1 => 0, :x2 => 376, \"style\" => \"'fill: none;stroke: lightblue;stroke-width: 1;opacity: 80%;'\", :y2 => 500, :x1 => 376), Servable[], \"line\"), Component{:line}(\"Rj1OygbB\", Dict{Any, Any}(:children => Servable[], :y1 => 376, :x2 => 500, \"style\" => \"'fill: none;stroke: lightblue;stroke-width: 1;opacity: 80%;'\", :y2 => 376, :x1 => 0), Servable[], \"line\")], :height => 500, :width => 500), Servable[], \"g\"), Component{:g}(\"points\", Dict{Any, Any}(:children => Servable[Component{:circle}(\"56LT9oEE\", Dict{Any, Any}(:children => Servable[], :cx => 125, \"style\" => \"'fill: #FF6633;fill: orange;transition: 1s;'\", :r => 10, :cy => 500), Servable[], \"circle\"), Component{:circle}(\"YuBZquHN\", Dict{Any, Any}(:children => Servable[], :cx => 0, \"style\" => \"'fill: #FF6633;fill: red;transition: 1s;'\", :r => 4, :cy => 188), Servable[], \"circle\"), Component{:circle}(\"nyRnwSBH\", Dict{Any, Any}(:children => Servable[], :cx => 250, \"style\" => \"'fill: #FF6633;fill: white;transition: 1s;'\", :r => 7, :cy => 500), Servable[], \"circle\"), Component{:circle}(\"OUnTZ5Mw\", Dict{Any, Any}(:children => Servable[], :cx => 374, \"style\" => \"'fill: #FF6633;fill: orange;transition: 1s;'\", :r => 9, :cy => 1), Servable[], \"circle\"), Component{:circle}(\"wM5Oqv70\", Dict{Any, Any}(:children => Servable[], :cx => 499, \"style\" => \"'fill: #FF6633;fill: red;transition: 1s;'\", :r => 5, :cy => 250), Servable[], \"circle\"), Component{:circle}(\"dN4dtCxn\", Dict{Any, Any}(:children => Servable[], :cx => 62, \"style\" => \"'fill: #FF6633;fill: pink;transition: 1s;'\", :r => 7, :cy => 500), Servable[], \"circle\")], :height => 500, :width => 500), Servable[], \"g\"), Component{:g}(\"labels\", Dict{Any, Any}(:children => Servable[Component{:text}(\"0ao7TtO7\", Dict{Any, Any}(:children => Servable[], :y => 490, \"style\" => \"'fill: black;font-size: 10pt;'\", :text => \"2\", :x => 2), Servable[], \"text\"), Component{:text}(\"Fi11MjgZ\", Dict{Any, Any}(:children => Servable[], :y => 4, \"style\" => \"'fill: black;font-size: 10pt;'\", :text => \"12\", :x => 0), Servable[], \"text\"), Component{:text}(\"p8koWhaO\", Dict{Any, Any}(:children => Servable[], :y => 490, \"style\" => \"'fill: black;font-size: 10pt;'\", :text => \"4.0\", :x => 127), Servable[], \"text\"), Component{:text}(\"Dx5nWJ5f\", Dict{Any, Any}(:children => Servable[], :y => 129, \"style\" => \"'fill: black;font-size: 10pt;'\", :text => \"10.0\", :x => 0), Servable[], \"text\"), Component{:text}(\"OpPbyPPB\", Dict{Any, Any}(:children => Servable[], :y => 490, \"style\" => \"'fill: black;font-size: 10pt;'\", :text => \"6.0\", :x => 252), Servable[], \"text\"), Component{:text}(\"JC52IHzQ\", Dict{Any, Any}(:children => Servable[], :y => 254, \"style\" => \"'fill: black;font-size: 10pt;'\", :text => \"8.0\", :x => 0), Servable[], \"text\"), Component{:text}(\"tWQWNuIW\", Dict{Any, Any}(:children => Servable[], :y => 490, \"style\" => \"'fill: black;font-size: 10pt;'\", :text => \"8.0\", :x => 377), Servable[], \"text\"), Component{:text}(\"7P8jJ6jE\", Dict{Any, Any}(:children => Servable[], :y => 379, \"style\" => \"'fill: black;font-size: 10pt;'\", :text => \"6.0\", :x => 0), Servable[], \"text\")], :height => 500, :width => 500), Servable[], \"g\"), Component{:g}(\"legend\", Dict{Any, Any}(:children => Servable[Component{:rect}(\"legendbg\", Dict{Any, Any}(:width => 100, :children => Servable[], :y => 350, :height => 0, \"style\" => \"'stroke: darkgray;fill: white;stroke-width: 2px;'\", :x => 370), Servable[], \"rect\")]), Servable[], \"g\")], :height => 500, \"style\" => \"'border-top-left-radius: 8px;border-bottom-left-radius: 8px;border: 2px solid black;border-right: 1px solid gray;display: inline-block;'\", :width => 500), Servable[], \"svg\"), Component{:div}(\"rzvQHZP3\", Dict{Any, Any}(:children => Servable[Component{:h2}(\"selectcat\", Dict{Any, Any}(:children => Servable[], \"style\" => \"'color: purple;margin-bottom: 8px;'\", :text => \"show feature\"), Servable[], \"h2\"), Component{:select}(\"featb\", Dict{Any, Any}(:children => Servable[Component{:option}(\"n_petals\", Dict{Any, Any}(:children => Servable[], :text => \"n_petals\"), Servable[], \"option\"), Component{:option}(\"stem\", Dict{Any, Any}(:children => Servable[], :text => \"stem\"), Servable[], \"option\"), Component{:option}(\"petal\", Dict{Any, Any}(:children => Servable[], :text => \"petal\"), Servable[], \"option\")], \"style\" => \"'height: 5%;color: gray;font-size: 13pt;margin-left: 30px;'\", \"oninput\" => \"featbinput(event);\"), Servable[Component{:script}(\"featbinput\", Dict{Any, Any}(:children => Servable[], :text => \"function featbinput(event){document.getElementById('featb').setAttribute('value',document.getElementById('featb').value);if (String(document.getElementById('featb').value) == 'stem'){document.getElementById('56LT9oEE').setAttribute('cx','200.0');document.getElementById('YuBZquHN').setAttribute('cx','100.0');document.getElementById('nyRnwSBH').setAttribute('cx','300.0');document.getElementById('OUnTZ5Mw').setAttribute('cx','400.0');document.getElementById('wM5Oqv70').setAttribute('cx','500.0');document.getElementById('dN4dtCxn').setAttribute('cx','150.0');document.getElementById('56LT9oEE').setAttribute('cy','0.0');document.getElementById('YuBZquHN').setAttribute('cy','150.0');document.getElementById('nyRnwSBH').setAttribute('cy','100.0');document.getElementById('OUnTZ5Mw').setAttribute('cy','350.0');document.getElementById('wM5Oqv70').setAttribute('cy','275.0');document.getElementById('dN4dtCxn').setAttribute('cy','375.0');}if (String(document.getElementById('featb').value) == 'petal'){document.getElementById('56LT9oEE').setAttribute('cx','200.0');document.getElementById('YuBZquHN').setAttribute('cx','100.0');document.getElementById('nyRnwSBH').setAttribute('cx','300.0');document.getElementById('OUnTZ5Mw').setAttribute('cx','400.0');document.getElementById('wM5Oqv70').setAttribute('cx','500.0');document.getElementById('dN4dtCxn').setAttribute('cx','150.0');document.getElementById('56LT9oEE').setAttribute('cy','0.0');document.getElementById('YuBZquHN').setAttribute('cy','300.0');document.getElementById('nyRnwSBH').setAttribute('cy','150.0');document.getElementById('OUnTZ5Mw').setAttribute('cy','50.0');document.getElementById('wM5Oqv70').setAttribute('cy','250.0');document.getElementById('dN4dtCxn').setAttribute('cy','150.0');}if (String(document.getElementById('featb').value) == 'n_petals'){document.getElementById('56LT9oEE').setAttribute('cx','200.0');document.getElementById('YuBZquHN').setAttribute('cx','100.0');document.getElementById('nyRnwSBH').setAttribute('cx','300.0');document.getElementById('OUnTZ5Mw').setAttribute('cx','400.0');document.getElementById('wM5Oqv70').setAttribute('cx','500.0');document.getElementById('dN4dtCxn').setAttribute('cx','150.0');document.getElementById('56LT9oEE').setAttribute('cy','333.33333333333337');document.getElementById('YuBZquHN').setAttribute('cy','125.0');document.getElementById('nyRnwSBH').setAttribute('cy','333.33333333333337');document.getElementById('OUnTZ5Mw').setAttribute('cy','0.0');document.getElementById('wM5Oqv70').setAttribute('cy','166.66666666666669');document.getElementById('dN4dtCxn').setAttribute('cy','333.33333333333337');}}\"), Servable[], \"script\")], \"select\")], \"style\" => \"'width: 500;height: 500;margin-left: 0;margin-right: 0;padding: 0px;vertical-align: top;border-top-left-radius: 0px;border-bottom-left-radius: 0px;border: 2px solid black;border-left: none;padding: 20px;display: inline-block;'\", :height => 500, :width => 500), Servable[], \"div\")]), Servable[], \"div\")"
      ]
     },
     "execution_count": 51,
     "metadata": {},
     "output_type": "execute_result"
    }
   ],
   "source": [
    "plt = context(500, 500) do con::Context\n",
    "    Gattino.scatter_plot!(con, flowers[:score], flowers[:n_petals])\n",
    "    open_layer!(con, \"points\") do ecomp\n",
    "        set!(ecomp, :r, flowers[:petal])\n",
    "        style!(ecomp, \"fill\", flowers[:color])\n",
    "        style!(ecomp[2], \"transition\" => 1seconds)\n",
    "    end\n",
    "    style!(con, \"border-top-left-radius\" => 8px, \"border-bottom-left-radius\" => 8px,\n",
    "    \"border\" => \"2px solid black\", \"border-right\" => \"1px solid gray\")\n",
    "end\n",
    "ctrls = controls(500, 500) do ct::Controls\n",
    "    fetsel = Gattino.h(\"selectcat\", 2, text = \"show feature\")\n",
    "    style!(fetsel, \"color\" => \"purple\", \"margin-bottom\" => 8px)\n",
    "    push!(ct, fetsel)\n",
    "    opts = options(\"n_petals\", \"stem\", \"petal\")\n",
    "    selectfeatbox = selection_box(\"featb\", opts)\n",
    "    style!(selectfeatbox, \"height\" => 5percent, \"color\" => \"gray\", \"font-size\" => 13pt, \"margin-left\" => 30px)\n",
    "    bind!(plt, selectfeatbox) do gm::PlotModifier\n",
    "         value_is!(gm, selectfeatbox, \"stem\") do gm2::PlotModifier\n",
    "             Gattino.points!(gm2, \"points\", flowers[:score], flowers[:stem])\n",
    "         end\n",
    "         value_is!(gm, selectfeatbox, \"petal\") do gm2::PlotModifier\n",
    "             Gattino.points!(gm2, \"points\", flowers[:score], flowers[:petal])\n",
    "         end\n",
    "         value_is!(gm, selectfeatbox, \"n_petals\") do gm2::PlotModifier\n",
    "             Gattino.points!(gm2, \"points\", flowers[:score], flowers[:n_petals])\n",
    "         end\n",
    "    end\n",
    "    push!(ct, selectfeatbox)\n",
    "    style!(ct, \"border-top-left-radius\" => 0px, \"border-bottom-left-radius\" => 0px, \"border\" => \"2px solid black\", \"border-left\" => \"none\",\n",
    "    \"padding\" => 20px)\n",
    "end\n",
    "compose(\"flowervis\", plt, ctrls)"
   ]
  },
  {
   "cell_type": "code",
   "execution_count": 36,
   "id": "efffb8c4",
   "metadata": {},
   "outputs": [
    {
     "name": "stderr",
     "output_type": "stream",
     "text": [
      "\u001b[36m\u001b[1m[ \u001b[22m\u001b[39m\u001b[36m\u001b[1mInfo: \u001b[22m\u001b[39mPrecompiling Gattino3D [a217f6c4-9a08-4218-8fae-34c5d6be422b]\n"
     ]
    }
   ],
   "source": [
    "using Gattino3D"
   ]
  },
  {
   "cell_type": "code",
   "execution_count": 37,
   "id": "7716b6c0",
   "metadata": {},
   "outputs": [
    {
     "data": {
      "text/html": [
       "\"<svg id=window height=500 width=500><line id=BwPSNRP5 y1=500 x2=500 style='fill: none;stroke: black;stroke-width: 4;' y2=500 x1=0></line><line id=pxen8tZN y1=0 x2=0 style='fill: none;stroke: black;stroke-width: 4;' y2=500 x1=0></line><line id=qqG6nmKf y1=500 x2=190 style='fill: none;stroke: black;stroke-width: 4;' y2=310 x1=0></line><line id=BHALSKWQ y1=0 x2=1 style='fill: none;stroke: lightblue;stroke-width: 1;opacity: 80%;' y2=500 x1=1></line><line id=WAx6aeGL y1=1 x2=500 style='fill: none;stroke: lightblue;stroke-width: 1;opacity: 80%;' y2=1 x1=0></line><line id=2uu7dQHG y1=499 x2=501 style='fill: none;stroke: lightblue;stroke-width: 1;opacity: 80%;' y2=499 x1=1></line><line id=bUBI1F4x y1=0 x2=84 style='fill: none;stroke: lightblue;stroke-width: 1;opacity: 80%;' y2=500 x1=84></line><line id=6dhkA53Q y1=84 x2=500 style='fill: none;stroke: lightblue;stroke-width: 1;opacity: 80%;' y2=84 x1=0></line><line id=tIEoakt2 y1=468 x2=532 style='fill: none;stroke: lightblue;stroke-width: 1;opacity: 80%;' y2=468 x1=32></line><line id=6Rb4OCJz y1=0 x2=167 style='fill: none;stroke: lightblue;stroke-width: 1;opacity: 80%;' y2=500 x1=167></line><line id=pxmwGiSz y1=167 x2=500 style='fill: none;stroke: lightblue;stroke-width: 1;opacity: 80%;' y2=167 x1=0></line><line id=VUbDv23b y1=436 x2=564 style='fill: none;stroke: lightblue;stroke-width: 1;opacity: 80%;' y2=436 x1=64></line><line id=EaLf5JSH y1=0 x2=250 style='fill: none;stroke: lightblue;stroke-width: 1;opacity: 80%;' y2=500 x1=250></line><line id=4WySISnh y1=250 x2=500 style='fill: none;stroke: lightblue;stroke-width: 1;opacity: 80%;' y2=250 x1=0></line><line id=A2Dvhap6 y1=405 x2=595 style='fill: none;stroke: lightblue;stroke-width: 1;opacity: 80%;' y2=405 x1=95></line><line id=bouyPDFW y1=0 x2=333 style='fill: none;stroke: lightblue;stroke-width: 1;opacity: 80%;' y2=500 x1=333></line><line id=dH7PVIHj y1=333 x2=500 style='fill: none;stroke: lightblue;stroke-width: 1;opacity: 80%;' y2=333 x1=0></line><line id=5PAZEhvt y1=373 x2=627 style='fill: none;stroke: lightblue;stroke-width: 1;opacity: 80%;' y2=373 x1=127></line><line id=8En8zxC1 y1=0 x2=416 style='fill: none;stroke: lightblue;stroke-width: 1;opacity: 80%;' y2=500 x1=416></line><line id=fCLpaXRB y1=416 x2=500 style='fill: none;stroke: lightblue;stroke-width: 1;opacity: 80%;' y2=416 x1=0></line><line id=L3LkAVBw y1=342 x2=658 style='fill: none;stroke: lightblue;stroke-width: 1;opacity: 80%;' y2=342 x1=158></line><line id=r2cbumnU y1=0 x2=499 style='fill: none;stroke: lightblue;stroke-width: 1;opacity: 80%;' y2=500 x1=499></line><line id=bP48wr5K y1=499 x2=500 style='fill: none;stroke: lightblue;stroke-width: 1;opacity: 80%;' y2=499 x1=0></line><line id=vRZirEoP y1=311 x2=689 style='fill: none;stroke: lightblue;stroke-width: 1;opacity: 80%;' y2=311 x1=189></line><circle id=KYBqXiXH cx=69.0 style='fill: orange;stroke: lightblue;stroke-width: 0;' r=18.0 cy=431.0></circle><circle id=q2jgh522 cx=345.0 style='fill: orange;stroke: lightblue;stroke-width: 0;' r=10.0 cy=155.0></circle><circle id=grXxq5uB cx=690.0 style='fill: orange;stroke: lightblue;stroke-width: 0;' r=0.0 cy=-190.0></circle><circle id=JxToBCNC cx=107.0 style='fill: blue;' r=14.0 cy=393.0></circle><circle id=KzKvhlvk cx=119.0 style='fill: blue;' r=18.0 cy=431.0></circle><circle id=nmQkqShE cx=207.0 style='fill: blue;' r=14.0 cy=393.0></circle><circle id=wHsWd5rF cx=219.0 style='fill: blue;' r=18.0 cy=431.0></circle><circle id=cuXjCd4E cx=364.0 style='fill: blue;' r=8.0 cy=336.0></circle><circle id=1s9CIvon cx=319.0 style='fill: blue;' r=18.0 cy=431.0></circle><circle id=vfRlx6iY cx=407.0 style='fill: blue;' r=14.0 cy=393.0></circle><circle id=4e2VhWgn cx=419.0 style='fill: blue;' r=18.0 cy=431.0></circle><circle id=6Nnsw5L1 cx=488.0 style='fill: blue;' r=16.0 cy=412.0></circle><circle id=kooB2WxQ cx=690.0 style='fill: blue;' r=0.0 cy=-190.0></circle><polyline id=newline style='stroke: green;fill: none;stroke-width: 10px;' points=0&#32;150,69&#32;131,100&#32;150,169&#32;131,200&#32;150,269&#32;131,300&#32;150,369&#32;131,400&#32;150,640&#32;-40,></polyline></svg>\""
      ]
     },
     "metadata": {},
     "output_type": "display_data"
    },
    {
     "data": {
      "text/html": [
       "\"<svg id=window height=500 width=500><line id=BwPSNRP5 y1=500 x2=500 style='fill: none;stroke: black;stroke-width: 4;' y2=500 x1=0></line><line id=pxen8tZN y1=0 x2=0 style='fill: none;stroke: black;stroke-width: 4;' y2=500 x1=0></line><line id=qqG6nmKf y1=500 x2=190 style='fill: none;stroke: black;stroke-width: 4;' y2=310 x1=0></line><line id=BHALSKWQ y1=0 x2=1 style='fill: none;stroke: lightblue;stroke-width: 1;opacity: 80%;' y2=500 x1=1></line><line id=WAx6aeGL y1=1 x2=500 style='fill: none;stroke: lightblue;stroke-width: 1;opacity: 80%;' y2=1 x1=0></line><line id=2uu7dQHG y1=499 x2=501 style='fill: none;stroke: lightblue;stroke-width: 1;opacity: 80%;' y2=499 x1=1></line><line id=bUBI1F4x y1=0 x2=84 style='fill: none;stroke: lightblue;stroke-width: 1;opacity: 80%;' y2=500 x1=84></line><line id=6dhkA53Q y1=84 x2=500 style='fill: none;stroke: lightblue;stroke-width: 1;opacity: 80%;' y2=84 x1=0></line><line id=tIEoakt2 y1=468 x2=532 style='fill: none;stroke: lightblue;stroke-width: 1;opacity: 80%;' y2=468 x1=32></line><line id=6Rb4OCJz y1=0 x2=167 style='fill: none;stroke: lightblue;stroke-width: 1;opacity: 80%;' y2=500 x1=167></line><line id=pxmwGiSz y1=167 x2=500 style='fill: none;stroke: lightblue;stroke-width: 1;opacity: 80%;' y2=167 x1=0></line><line id=VUbDv23b y1=436 x2=564 style='fill: none;stroke: lightblue;stroke-width: 1;opacity: 80%;' y2=436 x1=64></line><line id=EaLf5JSH y1=0 x2=250 style='fill: none;stroke: lightblue;stroke-width: 1;opacity: 80%;' y2=500 x1=250></line><line id=4WySISnh y1=250 x2=500 style='fill: none;stroke: lightblue;stroke-width: 1;opacity: 80%;' y2=250 x1=0></line><line id=A2Dvhap6 y1=405 x2=595 style='fill: none;stroke: lightblue;stroke-width: 1;opacity: 80%;' y2=405 x1=95></line><line id=bouyPDFW y1=0 x2=333 style='fill: none;stroke: lightblue;stroke-width: 1;opacity: 80%;' y2=500 x1=333></line><line id=dH7PVIHj y1=333 x2=500 style='fill: none;stroke: lightblue;stroke-width: 1;opacity: 80%;' y2=333 x1=0></line><line id=5PAZEhvt y1=373 x2=627 style='fill: none;stroke: lightblue;stroke-width: 1;opacity: 80%;' y2=373 x1=127></line><line id=8En8zxC1 y1=0 x2=416 style='fill: none;stroke: lightblue;stroke-width: 1;opacity: 80%;' y2=500 x1=416></line><line id=fCLpaXRB y1=416 x2=500 style='fill: none;stroke: lightblue;stroke-width: 1;opacity: 80%;' y2=416 x1=0></line><line id=L3LkAVBw y1=342 x2=658 style='fill: none;stroke: lightblue;stroke-width: 1;opacity: 80%;' y2=342 x1=158></line><line id=r2cbumnU y1=0 x2=499 style='fill: none;stroke: lightblue;stroke-width: 1;opacity: 80%;' y2=500 x1=499></line><line id=bP48wr5K y1=499 x2=500 style='fill: none;stroke: lightblue;stroke-width: 1;opacity: 80%;' y2=499 x1=0></line><line id=vRZirEoP y1=311 x2=689 style='fill: none;stroke: lightblue;stroke-width: 1;opacity: 80%;' y2=311 x1=189></line><circle id=KYBqXiXH cx=69.0 style='fill: orange;stroke: lightblue;stroke-width: 0;' r=18.0 cy=431.0></circle><circle id=q2jgh522 cx=345.0 style='fill: orange;stroke: lightblue;stroke-width: 0;' r=10.0 cy=155.0></circle><circle id=grXxq5uB cx=690.0 style='fill: orange;stroke: lightblue;stroke-width: 0;' r=0.0 cy=-190.0></circle><circle id=JxToBCNC cx=107.0 style='fill: blue;' r=14.0 cy=393.0></circle><circle id=KzKvhlvk cx=119.0 style='fill: blue;' r=18.0 cy=431.0></circle><circle id=nmQkqShE cx=207.0 style='fill: blue;' r=14.0 cy=393.0></circle><circle id=wHsWd5rF cx=219.0 style='fill: blue;' r=18.0 cy=431.0></circle><circle id=cuXjCd4E cx=364.0 style='fill: blue;' r=8.0 cy=336.0></circle><circle id=1s9CIvon cx=319.0 style='fill: blue;' r=18.0 cy=431.0></circle><circle id=vfRlx6iY cx=407.0 style='fill: blue;' r=14.0 cy=393.0></circle><circle id=4e2VhWgn cx=419.0 style='fill: blue;' r=18.0 cy=431.0></circle><circle id=6Nnsw5L1 cx=488.0 style='fill: blue;' r=16.0 cy=412.0></circle><circle id=kooB2WxQ cx=690.0 style='fill: blue;' r=0.0 cy=-190.0></circle><polyline id=newline style='stroke: green;fill: none;stroke-width: 10px;' points=0&#32;150,69&#32;131,100&#32;150,169&#32;131,200&#32;150,269&#32;131,300&#32;150,369&#32;131,400&#32;150,640&#32;-40,></polyline></svg>\""
      ],
      "text/plain": []
     },
     "execution_count": 37,
     "metadata": {},
     "output_type": "execute_result"
    }
   ],
   "source": [
    "mycon = Gattino3D.context(500, 500, 200) do con\n",
    "    Gattino3D.axes!(con)\n",
    "    Gattino3D.grid!(con, 6)\n",
    "    Gattino3D.points!(con, [1, 5, 10], [1, 5, 10], [1, 5, 10])\n",
    "    Gattino3D.points!(con, Vector(1:10), [1, 1, 1, 1, 1, 1, 1, 1, 1, 10], [3, 1, 3, 1, 6, 1, 3, 1, 2, 10], \n",
    "    \"fill\" => \"blue\")\n",
    "    Gattino3D.line!(con, [0, 1, 2, 3, 4, 5, 6, 7, 8, 9, 10], [7, 7, 7, 7, 7, 7, 7, 7, 7, 7, 10], [0, 1, 0, 1, 0, 1, 0, 1, 0, 10], \"stroke\" => \"green\", \"fill\" => \"none\", \n",
    "\"stroke-width\" => 10px)\n",
    "end"
   ]
  },
  {
   "cell_type": "code",
   "execution_count": null,
   "id": "7961eed8",
   "metadata": {},
   "outputs": [],
   "source": []
  },
  {
   "cell_type": "code",
   "execution_count": null,
   "id": "8a6537b3",
   "metadata": {},
   "outputs": [],
   "source": []
  }
 ],
 "metadata": {
  "kernelspec": {
   "display_name": "Julia 1.9.2",
   "language": "julia",
   "name": "julia-1.9"
  },
  "language_info": {
   "file_extension": ".jl",
   "mimetype": "application/julia",
   "name": "julia",
   "version": "1.9.2"
  }
 },
 "nbformat": 4,
 "nbformat_minor": 5
}
