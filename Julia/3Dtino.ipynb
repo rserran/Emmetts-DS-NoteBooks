{
 "cells": [
  {
   "cell_type": "code",
   "execution_count": 13,
   "id": "c94b4acc",
   "metadata": {},
   "outputs": [
    {
     "name": "stderr",
     "output_type": "stream",
     "text": [
      "\u001b[32m\u001b[1m   Resolving\u001b[22m\u001b[39m package versions...\n",
      "\u001b[32m\u001b[1m  No Changes\u001b[22m\u001b[39m to `~/.julia/environments/v1.9/Project.toml`\n",
      "\u001b[32m\u001b[1m  No Changes\u001b[22m\u001b[39m to `~/.julia/environments/v1.9/Manifest.toml`\n",
      "\u001b[32m\u001b[1m   Resolving\u001b[22m\u001b[39m package versions...\n",
      "\u001b[32m\u001b[1m  No Changes\u001b[22m\u001b[39m to `~/.julia/environments/v1.9/Project.toml`\n",
      "\u001b[32m\u001b[1m  No Changes\u001b[22m\u001b[39m to `~/.julia/environments/v1.9/Manifest.toml`\n"
     ]
    }
   ],
   "source": [
    "using Pkg; Pkg.develop(path = \"./Gattino.jl\")\n",
    "using Pkg; Pkg.develop(path = \"./Gattino3D\")"
   ]
  },
  {
   "cell_type": "code",
   "execution_count": 14,
   "id": "9e26d0e6",
   "metadata": {},
   "outputs": [],
   "source": [
    "using Revise"
   ]
  },
  {
   "cell_type": "code",
   "execution_count": 15,
   "id": "1c1ca5ce",
   "metadata": {},
   "outputs": [],
   "source": [
    "using Gattino\n",
    "using Gattino3D"
   ]
  },
  {
   "cell_type": "code",
   "execution_count": 16,
   "id": "6b67b5ee",
   "metadata": {},
   "outputs": [
    {
     "data": {
      "text/html": [
       "\"<svg id=window height=500 width=500><line id=X0y75DuZ y1=500 x2=500 style='fill: none;stroke: black;stroke-width: 4;' y2=500 x1=0></line><line id=iG8qPEHX y1=0 x2=0 style='fill: none;stroke: black;stroke-width: 4;' y2=500 x1=0></line><line id=tqoh0Q0j y1=500 x2=190 style='fill: none;stroke: black;stroke-width: 4;' y2=310 x1=0></line><line id=pigHwgRR y1=0 x2=1 style='fill: none;stroke: lightblue;stroke-width: 1;opacity: 80%;' y2=500 x1=1></line><line id=0L75hoxY y1=1 x2=500 style='fill: none;stroke: lightblue;stroke-width: 1;opacity: 80%;' y2=1 x1=0></line><line id=nyhShrlQ y1=499 x2=501 style='fill: none;stroke: lightblue;stroke-width: 1;opacity: 80%;' y2=499 x1=1></line><line id=cxiG88Kg y1=0 x2=84 style='fill: none;stroke: lightblue;stroke-width: 1;opacity: 80%;' y2=500 x1=84></line><line id=hpx8dw8a y1=84 x2=500 style='fill: none;stroke: lightblue;stroke-width: 1;opacity: 80%;' y2=84 x1=0></line><line id=pV3jiHT7 y1=468 x2=532 style='fill: none;stroke: lightblue;stroke-width: 1;opacity: 80%;' y2=468 x1=32></line><line id=0IrI1sHZ y1=0 x2=167 style='fill: none;stroke: lightblue;stroke-width: 1;opacity: 80%;' y2=500 x1=167></line><line id=LG6qb0MJ y1=167 x2=500 style='fill: none;stroke: lightblue;stroke-width: 1;opacity: 80%;' y2=167 x1=0></line><line id=rS0gcl7U y1=436 x2=564 style='fill: none;stroke: lightblue;stroke-width: 1;opacity: 80%;' y2=436 x1=64></line><line id=zsK4gvUC y1=0 x2=250 style='fill: none;stroke: lightblue;stroke-width: 1;opacity: 80%;' y2=500 x1=250></line><line id=NB1DKmR1 y1=250 x2=500 style='fill: none;stroke: lightblue;stroke-width: 1;opacity: 80%;' y2=250 x1=0></line><line id=KXecZPep y1=405 x2=595 style='fill: none;stroke: lightblue;stroke-width: 1;opacity: 80%;' y2=405 x1=95></line><line id=CkHAAi9m y1=0 x2=333 style='fill: none;stroke: lightblue;stroke-width: 1;opacity: 80%;' y2=500 x1=333></line><line id=O6lHI4La y1=333 x2=500 style='fill: none;stroke: lightblue;stroke-width: 1;opacity: 80%;' y2=333 x1=0></line><line id=EDOWhjjq y1=373 x2=627 style='fill: none;stroke: lightblue;stroke-width: 1;opacity: 80%;' y2=373 x1=127></line><line id=bNParsBI y1=0 x2=416 style='fill: none;stroke: lightblue;stroke-width: 1;opacity: 80%;' y2=500 x1=416></line><line id=tsg6lCtg y1=416 x2=500 style='fill: none;stroke: lightblue;stroke-width: 1;opacity: 80%;' y2=416 x1=0></line><line id=rLR4eneA y1=342 x2=658 style='fill: none;stroke: lightblue;stroke-width: 1;opacity: 80%;' y2=342 x1=158></line><line id=MOMJN3za y1=0 x2=499 style='fill: none;stroke: lightblue;stroke-width: 1;opacity: 80%;' y2=500 x1=499></line><line id=hUVrAgDR y1=499 x2=500 style='fill: none;stroke: lightblue;stroke-width: 1;opacity: 80%;' y2=499 x1=0></line><line id=F0e5AXKr y1=311 x2=689 style='fill: none;stroke: lightblue;stroke-width: 1;opacity: 80%;' y2=311 x1=189></line><circle id=BqrppSnO cx=69.0 style='fill: orange;stroke: lightblue;stroke-width: 0;' r=18.0 cy=431.0></circle><circle id=4d5bKwb7 cx=345.0 style='fill: orange;stroke: lightblue;stroke-width: 0;' r=10.0 cy=155.0></circle><circle id=qz45ej4e cx=690.0 style='fill: orange;stroke: lightblue;stroke-width: 0;' r=0.0 cy=-190.0></circle><circle id=wMaMQkB7 cx=107.0 style='fill: blue;' r=14.0 cy=393.0></circle><circle id=yxpyhu66 cx=119.0 style='fill: blue;' r=18.0 cy=431.0></circle><circle id=XSv7zd78 cx=207.0 style='fill: blue;' r=14.0 cy=393.0></circle><circle id=9f2vRc8V cx=219.0 style='fill: blue;' r=18.0 cy=431.0></circle><circle id=SV8xAyz9 cx=364.0 style='fill: blue;' r=8.0 cy=336.0></circle><circle id=6M8waM3D cx=319.0 style='fill: blue;' r=18.0 cy=431.0></circle><circle id=ILsCDDRh cx=407.0 style='fill: blue;' r=14.0 cy=393.0></circle><circle id=RAlFw7hm cx=419.0 style='fill: blue;' r=18.0 cy=431.0></circle><circle id=jHwvMWRb cx=488.0 style='fill: blue;' r=16.0 cy=412.0></circle><circle id=zloUyy1Q cx=690.0 style='fill: blue;' r=0.0 cy=-190.0></circle><polyline id=newline style='stroke: green;fill: none;stroke-width: 10px;' points=0&#32;400,69&#32;381,100&#32;400,169&#32;381,200&#32;400,269&#32;331,300&#32;400,369&#32;381,400&#32;400,640&#32;160,></polyline></svg>\""
      ]
     },
     "metadata": {},
     "output_type": "display_data"
    },
    {
     "data": {
      "text/html": [
       "\"<svg id=window height=500 width=500><line id=X0y75DuZ y1=500 x2=500 style='fill: none;stroke: black;stroke-width: 4;' y2=500 x1=0></line><line id=iG8qPEHX y1=0 x2=0 style='fill: none;stroke: black;stroke-width: 4;' y2=500 x1=0></line><line id=tqoh0Q0j y1=500 x2=190 style='fill: none;stroke: black;stroke-width: 4;' y2=310 x1=0></line><line id=pigHwgRR y1=0 x2=1 style='fill: none;stroke: lightblue;stroke-width: 1;opacity: 80%;' y2=500 x1=1></line><line id=0L75hoxY y1=1 x2=500 style='fill: none;stroke: lightblue;stroke-width: 1;opacity: 80%;' y2=1 x1=0></line><line id=nyhShrlQ y1=499 x2=501 style='fill: none;stroke: lightblue;stroke-width: 1;opacity: 80%;' y2=499 x1=1></line><line id=cxiG88Kg y1=0 x2=84 style='fill: none;stroke: lightblue;stroke-width: 1;opacity: 80%;' y2=500 x1=84></line><line id=hpx8dw8a y1=84 x2=500 style='fill: none;stroke: lightblue;stroke-width: 1;opacity: 80%;' y2=84 x1=0></line><line id=pV3jiHT7 y1=468 x2=532 style='fill: none;stroke: lightblue;stroke-width: 1;opacity: 80%;' y2=468 x1=32></line><line id=0IrI1sHZ y1=0 x2=167 style='fill: none;stroke: lightblue;stroke-width: 1;opacity: 80%;' y2=500 x1=167></line><line id=LG6qb0MJ y1=167 x2=500 style='fill: none;stroke: lightblue;stroke-width: 1;opacity: 80%;' y2=167 x1=0></line><line id=rS0gcl7U y1=436 x2=564 style='fill: none;stroke: lightblue;stroke-width: 1;opacity: 80%;' y2=436 x1=64></line><line id=zsK4gvUC y1=0 x2=250 style='fill: none;stroke: lightblue;stroke-width: 1;opacity: 80%;' y2=500 x1=250></line><line id=NB1DKmR1 y1=250 x2=500 style='fill: none;stroke: lightblue;stroke-width: 1;opacity: 80%;' y2=250 x1=0></line><line id=KXecZPep y1=405 x2=595 style='fill: none;stroke: lightblue;stroke-width: 1;opacity: 80%;' y2=405 x1=95></line><line id=CkHAAi9m y1=0 x2=333 style='fill: none;stroke: lightblue;stroke-width: 1;opacity: 80%;' y2=500 x1=333></line><line id=O6lHI4La y1=333 x2=500 style='fill: none;stroke: lightblue;stroke-width: 1;opacity: 80%;' y2=333 x1=0></line><line id=EDOWhjjq y1=373 x2=627 style='fill: none;stroke: lightblue;stroke-width: 1;opacity: 80%;' y2=373 x1=127></line><line id=bNParsBI y1=0 x2=416 style='fill: none;stroke: lightblue;stroke-width: 1;opacity: 80%;' y2=500 x1=416></line><line id=tsg6lCtg y1=416 x2=500 style='fill: none;stroke: lightblue;stroke-width: 1;opacity: 80%;' y2=416 x1=0></line><line id=rLR4eneA y1=342 x2=658 style='fill: none;stroke: lightblue;stroke-width: 1;opacity: 80%;' y2=342 x1=158></line><line id=MOMJN3za y1=0 x2=499 style='fill: none;stroke: lightblue;stroke-width: 1;opacity: 80%;' y2=500 x1=499></line><line id=hUVrAgDR y1=499 x2=500 style='fill: none;stroke: lightblue;stroke-width: 1;opacity: 80%;' y2=499 x1=0></line><line id=F0e5AXKr y1=311 x2=689 style='fill: none;stroke: lightblue;stroke-width: 1;opacity: 80%;' y2=311 x1=189></line><circle id=BqrppSnO cx=69.0 style='fill: orange;stroke: lightblue;stroke-width: 0;' r=18.0 cy=431.0></circle><circle id=4d5bKwb7 cx=345.0 style='fill: orange;stroke: lightblue;stroke-width: 0;' r=10.0 cy=155.0></circle><circle id=qz45ej4e cx=690.0 style='fill: orange;stroke: lightblue;stroke-width: 0;' r=0.0 cy=-190.0></circle><circle id=wMaMQkB7 cx=107.0 style='fill: blue;' r=14.0 cy=393.0></circle><circle id=yxpyhu66 cx=119.0 style='fill: blue;' r=18.0 cy=431.0></circle><circle id=XSv7zd78 cx=207.0 style='fill: blue;' r=14.0 cy=393.0></circle><circle id=9f2vRc8V cx=219.0 style='fill: blue;' r=18.0 cy=431.0></circle><circle id=SV8xAyz9 cx=364.0 style='fill: blue;' r=8.0 cy=336.0></circle><circle id=6M8waM3D cx=319.0 style='fill: blue;' r=18.0 cy=431.0></circle><circle id=ILsCDDRh cx=407.0 style='fill: blue;' r=14.0 cy=393.0></circle><circle id=RAlFw7hm cx=419.0 style='fill: blue;' r=18.0 cy=431.0></circle><circle id=jHwvMWRb cx=488.0 style='fill: blue;' r=16.0 cy=412.0></circle><circle id=zloUyy1Q cx=690.0 style='fill: blue;' r=0.0 cy=-190.0></circle><polyline id=newline style='stroke: green;fill: none;stroke-width: 10px;' points=0&#32;400,69&#32;381,100&#32;400,169&#32;381,200&#32;400,269&#32;331,300&#32;400,369&#32;381,400&#32;400,640&#32;160,></polyline></svg>\""
      ],
      "text/plain": []
     },
     "execution_count": 16,
     "metadata": {},
     "output_type": "execute_result"
    }
   ],
   "source": [
    "mycon = Gattino3D.context(500, 500, 200) do con\n",
    "    Gattino3D.axes!(con)\n",
    "    Gattino3D.grid!(con, 6)\n",
    "    Gattino3D.points!(con, [1, 5, 10], [1, 5, 10], [1, 5, 10])\n",
    "    Gattino3D.points!(con, Vector(1:10), [1, 1, 1, 1, 1, 1, 1, 1, 1, 10], [3, 1, 3, 1, 6, 1, 3, 1, 2, 10], \n",
    "    \"fill\" => \"blue\")\n",
    "    Gattino3D.line!(con, [0, 1, 2, 3, 4, 5, 6, 7, 8, 9, 10], [2, 2, 2, 2, 2, 3, 2, 2, 2, 3, 10], [0, 1, 0, 1, 0, 1, 0, 1, 0, 10], \"stroke\" => \"green\", \"fill\" => \"none\", \n",
    "\"stroke-width\" => 10px)\n",
    "end"
   ]
  },
  {
   "cell_type": "code",
   "execution_count": 17,
   "id": "af1409b1",
   "metadata": {},
   "outputs": [
    {
     "data": {
      "text/html": [
       "\"<svg id=window height=500 width=500><line id=X0y75DuZ y1=500 x2=500 style='fill: none;stroke: black;stroke-width: 4;' y2=500 x1=0></line><line id=iG8qPEHX y1=0 x2=0 style='fill: none;stroke: black;stroke-width: 4;' y2=500 x1=0></line><line id=tqoh0Q0j y1=500 x2=190 style='fill: none;stroke: black;stroke-width: 4;' y2=310 x1=0></line><line id=pigHwgRR y1=0 x2=1 style='fill: none;stroke: lightblue;stroke-width: 1;opacity: 80%;' y2=500 x1=1></line><line id=0L75hoxY y1=1 x2=500 style='fill: none;stroke: lightblue;stroke-width: 1;opacity: 80%;' y2=1 x1=0></line><line id=nyhShrlQ y1=499 x2=501 style='fill: none;stroke: lightblue;stroke-width: 1;opacity: 80%;' y2=499 x1=1></line><line id=cxiG88Kg y1=0 x2=84 style='fill: none;stroke: lightblue;stroke-width: 1;opacity: 80%;' y2=500 x1=84></line><line id=hpx8dw8a y1=84 x2=500 style='fill: none;stroke: lightblue;stroke-width: 1;opacity: 80%;' y2=84 x1=0></line><line id=pV3jiHT7 y1=468 x2=532 style='fill: none;stroke: lightblue;stroke-width: 1;opacity: 80%;' y2=468 x1=32></line><line id=0IrI1sHZ y1=0 x2=167 style='fill: none;stroke: lightblue;stroke-width: 1;opacity: 80%;' y2=500 x1=167></line><line id=LG6qb0MJ y1=167 x2=500 style='fill: none;stroke: lightblue;stroke-width: 1;opacity: 80%;' y2=167 x1=0></line><line id=rS0gcl7U y1=436 x2=564 style='fill: none;stroke: lightblue;stroke-width: 1;opacity: 80%;' y2=436 x1=64></line><line id=zsK4gvUC y1=0 x2=250 style='fill: none;stroke: lightblue;stroke-width: 1;opacity: 80%;' y2=500 x1=250></line><line id=NB1DKmR1 y1=250 x2=500 style='fill: none;stroke: lightblue;stroke-width: 1;opacity: 80%;' y2=250 x1=0></line><line id=KXecZPep y1=405 x2=595 style='fill: none;stroke: lightblue;stroke-width: 1;opacity: 80%;' y2=405 x1=95></line><line id=CkHAAi9m y1=0 x2=333 style='fill: none;stroke: lightblue;stroke-width: 1;opacity: 80%;' y2=500 x1=333></line><line id=O6lHI4La y1=333 x2=500 style='fill: none;stroke: lightblue;stroke-width: 1;opacity: 80%;' y2=333 x1=0></line><line id=EDOWhjjq y1=373 x2=627 style='fill: none;stroke: lightblue;stroke-width: 1;opacity: 80%;' y2=373 x1=127></line><line id=bNParsBI y1=0 x2=416 style='fill: none;stroke: lightblue;stroke-width: 1;opacity: 80%;' y2=500 x1=416></line><line id=tsg6lCtg y1=416 x2=500 style='fill: none;stroke: lightblue;stroke-width: 1;opacity: 80%;' y2=416 x1=0></line><line id=rLR4eneA y1=342 x2=658 style='fill: none;stroke: lightblue;stroke-width: 1;opacity: 80%;' y2=342 x1=158></line><line id=MOMJN3za y1=0 x2=499 style='fill: none;stroke: lightblue;stroke-width: 1;opacity: 80%;' y2=500 x1=499></line><line id=hUVrAgDR y1=499 x2=500 style='fill: none;stroke: lightblue;stroke-width: 1;opacity: 80%;' y2=499 x1=0></line><line id=F0e5AXKr y1=311 x2=689 style='fill: none;stroke: lightblue;stroke-width: 1;opacity: 80%;' y2=311 x1=189></line><circle id=BqrppSnO cx=69.0 style='fill: orange;stroke: lightblue;stroke-width: 0;' r=18.0 cy=431.0></circle><circle id=4d5bKwb7 cx=345.0 style='fill: orange;stroke: lightblue;stroke-width: 0;' r=10.0 cy=155.0></circle><circle id=qz45ej4e cx=690.0 style='fill: orange;stroke: lightblue;stroke-width: 0;' r=0.0 cy=-190.0></circle><circle id=wMaMQkB7 cx=107.0 style='fill: blue;' r=14.0 cy=393.0></circle><circle id=yxpyhu66 cx=119.0 style='fill: blue;' r=18.0 cy=431.0></circle><circle id=XSv7zd78 cx=207.0 style='fill: blue;' r=14.0 cy=393.0></circle><circle id=9f2vRc8V cx=219.0 style='fill: blue;' r=18.0 cy=431.0></circle><circle id=SV8xAyz9 cx=364.0 style='fill: blue;' r=8.0 cy=336.0></circle><circle id=6M8waM3D cx=319.0 style='fill: blue;' r=18.0 cy=431.0></circle><circle id=ILsCDDRh cx=407.0 style='fill: blue;' r=14.0 cy=393.0></circle><circle id=RAlFw7hm cx=419.0 style='fill: blue;' r=18.0 cy=431.0></circle><circle id=jHwvMWRb cx=488.0 style='fill: blue;' r=16.0 cy=412.0></circle><circle id=zloUyy1Q cx=690.0 style='fill: blue;' r=0.0 cy=-190.0></circle><polyline id=newline style='stroke: green;fill: none;stroke-width: 10px;' points=0&#32;400,69&#32;381,100&#32;400,169&#32;381,200&#32;400,269&#32;331,300&#32;400,369&#32;381,400&#32;400,640&#32;160,></polyline></svg>\""
      ]
     },
     "metadata": {},
     "output_type": "display_data"
    }
   ],
   "source": [
    "show(mycon)"
   ]
  },
  {
   "cell_type": "code",
   "execution_count": 18,
   "id": "63119e21",
   "metadata": {},
   "outputs": [
    {
     "data": {
      "text/plain": [
       "0"
      ]
     },
     "execution_count": 18,
     "metadata": {},
     "output_type": "execute_result"
    }
   ],
   "source": [
    "using IJulia: clear_output\n",
    "clear_output()"
   ]
  },
  {
   "cell_type": "code",
   "execution_count": 19,
   "id": "c27bedf4",
   "metadata": {},
   "outputs": [
    {
     "data": {
      "text/html": [
       "\"<svg id=window height=500 width=500><line id=X0y75DuZ y1=500 x2=500 style='fill: none;stroke: black;stroke-width: 4;' y2=500 x1=0></line><line id=iG8qPEHX y1=0 x2=0 style='fill: none;stroke: black;stroke-width: 4;' y2=500 x1=0></line><line id=tqoh0Q0j y1=500 x2=190 style='fill: none;stroke: black;stroke-width: 4;' y2=310 x1=0></line><line id=pigHwgRR y1=0 x2=1 style='fill: none;stroke: lightblue;stroke-width: 1;opacity: 80%;' y2=500 x1=1></line><line id=0L75hoxY y1=1 x2=500 style='fill: none;stroke: lightblue;stroke-width: 1;opacity: 80%;' y2=1 x1=0></line><line id=nyhShrlQ y1=499 x2=501 style='fill: none;stroke: lightblue;stroke-width: 1;opacity: 80%;' y2=499 x1=1></line><line id=cxiG88Kg y1=0 x2=84 style='fill: none;stroke: lightblue;stroke-width: 1;opacity: 80%;' y2=500 x1=84></line><line id=hpx8dw8a y1=84 x2=500 style='fill: none;stroke: lightblue;stroke-width: 1;opacity: 80%;' y2=84 x1=0></line><line id=pV3jiHT7 y1=468 x2=532 style='fill: none;stroke: lightblue;stroke-width: 1;opacity: 80%;' y2=468 x1=32></line><line id=0IrI1sHZ y1=0 x2=167 style='fill: none;stroke: lightblue;stroke-width: 1;opacity: 80%;' y2=500 x1=167></line><line id=LG6qb0MJ y1=167 x2=500 style='fill: none;stroke: lightblue;stroke-width: 1;opacity: 80%;' y2=167 x1=0></line><line id=rS0gcl7U y1=436 x2=564 style='fill: none;stroke: lightblue;stroke-width: 1;opacity: 80%;' y2=436 x1=64></line><line id=zsK4gvUC y1=0 x2=250 style='fill: none;stroke: lightblue;stroke-width: 1;opacity: 80%;' y2=500 x1=250></line><line id=NB1DKmR1 y1=250 x2=500 style='fill: none;stroke: lightblue;stroke-width: 1;opacity: 80%;' y2=250 x1=0></line><line id=KXecZPep y1=405 x2=595 style='fill: none;stroke: lightblue;stroke-width: 1;opacity: 80%;' y2=405 x1=95></line><line id=CkHAAi9m y1=0 x2=333 style='fill: none;stroke: lightblue;stroke-width: 1;opacity: 80%;' y2=500 x1=333></line><line id=O6lHI4La y1=333 x2=500 style='fill: none;stroke: lightblue;stroke-width: 1;opacity: 80%;' y2=333 x1=0></line><line id=EDOWhjjq y1=373 x2=627 style='fill: none;stroke: lightblue;stroke-width: 1;opacity: 80%;' y2=373 x1=127></line><line id=bNParsBI y1=0 x2=416 style='fill: none;stroke: lightblue;stroke-width: 1;opacity: 80%;' y2=500 x1=416></line><line id=tsg6lCtg y1=416 x2=500 style='fill: none;stroke: lightblue;stroke-width: 1;opacity: 80%;' y2=416 x1=0></line><line id=rLR4eneA y1=342 x2=658 style='fill: none;stroke: lightblue;stroke-width: 1;opacity: 80%;' y2=342 x1=158></line><line id=MOMJN3za y1=0 x2=499 style='fill: none;stroke: lightblue;stroke-width: 1;opacity: 80%;' y2=500 x1=499></line><line id=hUVrAgDR y1=499 x2=500 style='fill: none;stroke: lightblue;stroke-width: 1;opacity: 80%;' y2=499 x1=0></line><line id=F0e5AXKr y1=311 x2=689 style='fill: none;stroke: lightblue;stroke-width: 1;opacity: 80%;' y2=311 x1=189></line><circle id=BqrppSnO cx=69.0 style='fill: orange;stroke: lightblue;stroke-width: 0;' r=18.0 cy=431.0></circle><circle id=4d5bKwb7 cx=345.0 style='fill: orange;stroke: lightblue;stroke-width: 0;' r=10.0 cy=155.0></circle><circle id=qz45ej4e cx=690.0 style='fill: orange;stroke: lightblue;stroke-width: 0;' r=0.0 cy=-190.0></circle><circle id=wMaMQkB7 cx=107.0 style='fill: blue;' r=14.0 cy=393.0></circle><circle id=yxpyhu66 cx=119.0 style='fill: blue;' r=18.0 cy=431.0></circle><circle id=XSv7zd78 cx=207.0 style='fill: blue;' r=14.0 cy=393.0></circle><circle id=9f2vRc8V cx=219.0 style='fill: blue;' r=18.0 cy=431.0></circle><circle id=SV8xAyz9 cx=364.0 style='fill: blue;' r=8.0 cy=336.0></circle><circle id=6M8waM3D cx=319.0 style='fill: blue;' r=18.0 cy=431.0></circle><circle id=ILsCDDRh cx=407.0 style='fill: blue;' r=14.0 cy=393.0></circle><circle id=RAlFw7hm cx=419.0 style='fill: blue;' r=18.0 cy=431.0></circle><circle id=jHwvMWRb cx=488.0 style='fill: blue;' r=16.0 cy=412.0></circle><circle id=zloUyy1Q cx=690.0 style='fill: blue;' r=0.0 cy=-190.0></circle><polyline id=newline style='stroke: green;fill: none;stroke-width: 10px;' points=0&#32;400,69&#32;381,100&#32;400,169&#32;381,200&#32;400,269&#32;331,300&#32;400,369&#32;381,400&#32;400,640&#32;160,></polyline><circle id=NR3r18Uu cx=690.0 style='fill: purple;' r=0.0 cy=-190.0></circle><circle id=W8Qioh5W cx=690.0 style='fill: purple;' r=0.0 cy=-190.0></circle><circle id=XAZDnOsG cx=690.0 style='fill: purple;' r=0.0 cy=-190.0></circle><circle id=NdqIynO6 cx=690.0 style='fill: purple;' r=0.0 cy=-190.0></circle><circle id=yimdELHF cx=690.0 style='fill: purple;' r=0.0 cy=-190.0></circle><circle id=Y62lNlar cx=690.0 style='fill: purple;' r=0.0 cy=-190.0></circle><circle id=xC8iPwPi cx=690.0 style='fill: purple;' r=0.0 cy=-190.0></circle><circle id=7NxTT3cp cx=690.0 style='fill: purple;' r=0.0 cy=-190.0></circle><circle id=Ki36PsDa cx=690.0 style='fill: purple;' r=0.0 cy=-190.0></circle><circle id=1C92QrQO cx=690.0 style='fill: purple;' r=0.0 cy=-190.0></circle><circle id=ibBg4hDU cx=690.0 style='fill: purple;' r=0.0 cy=-190.0></circle><circle id=7FPBh3G2 cx=690.0 style='fill: purple;' r=0.0 cy=-190.0></circle><circle id=EePYRV4s cx=690.0 style='fill: purple;' r=0.0 cy=-190.0></circle><circle id=xm1bDVqq cx=690.0 style='fill: purple;' r=0.0 cy=-190.0></circle><circle id=kOXucVNR cx=690.0 style='fill: purple;' r=0.0 cy=-190.0></circle><circle id=LlNRGxZv cx=690.0 style='fill: purple;' r=0.0 cy=-190.0></circle><circle id=zi1dJ2OR cx=356.66666666666663 style='fill: purple;' r=0.0 cy=143.33333333333337></circle></svg>\""
      ]
     },
     "metadata": {},
     "output_type": "display_data"
    }
   ],
   "source": [
    "current_point = 0\n",
    "while true\n",
    "    Gattino3D.points!(mycon, [15, 5], [15, 5], [15, current_point], \"fill\" => \"purple\")\n",
    "    clear_output()\n",
    "    show(mycon)\n",
    "    sleep(1)\n",
    "    current_point += 1\n",
    "    mycon.window[:children] = mycon.window[:children][1:length(mycon.window[:children]) - 1]\n",
    "    if current_point == 16\n",
    "        break\n",
    "    end\n",
    "end"
   ]
  },
  {
   "cell_type": "code",
   "execution_count": 20,
   "id": "247d8242",
   "metadata": {},
   "outputs": [
    {
     "data": {
      "text/plain": [
       "54-element Vector{Pair{Int64, String}}:\n",
       "  1 => \"X0y75DuZ\"\n",
       "  2 => \"iG8qPEHX\"\n",
       "  3 => \"tqoh0Q0j\"\n",
       "  4 => \"pigHwgRR\"\n",
       "  5 => \"0L75hoxY\"\n",
       "  6 => \"nyhShrlQ\"\n",
       "  7 => \"cxiG88Kg\"\n",
       "  8 => \"hpx8dw8a\"\n",
       "  9 => \"pV3jiHT7\"\n",
       " 10 => \"0IrI1sHZ\"\n",
       " 11 => \"LG6qb0MJ\"\n",
       " 12 => \"rS0gcl7U\"\n",
       " 13 => \"zsK4gvUC\"\n",
       "    ⋮\n",
       " 43 => \"yimdELHF\"\n",
       " 44 => \"Y62lNlar\"\n",
       " 45 => \"xC8iPwPi\"\n",
       " 46 => \"7NxTT3cp\"\n",
       " 47 => \"Ki36PsDa\"\n",
       " 48 => \"1C92QrQO\"\n",
       " 49 => \"ibBg4hDU\"\n",
       " 50 => \"7FPBh3G2\"\n",
       " 51 => \"EePYRV4s\"\n",
       " 52 => \"xm1bDVqq\"\n",
       " 53 => \"kOXucVNR\"\n",
       " 54 => \"LlNRGxZv\""
      ]
     },
     "execution_count": 20,
     "metadata": {},
     "output_type": "execute_result"
    }
   ],
   "source": [
    "layers(mycon)"
   ]
  },
  {
   "cell_type": "code",
   "execution_count": 21,
   "id": "f75e1c0d",
   "metadata": {},
   "outputs": [
    {
     "data": {
      "text/html": [
       "\"<svg id=window height=100 width=100><line id=7FxAuRmo y1=100 x2=100 style='fill: none;stroke: black;stroke-width: 4;' y2=100 x1=0></line><line id=ibsMgn6C y1=0 x2=0 style='fill: none;stroke: black;stroke-width: 4;' y2=100 x1=0></line></svg>\""
      ]
     },
     "metadata": {},
     "output_type": "display_data"
    },
    {
     "data": {
      "text/html": [
       "\"<svg id=window height=100 width=100><line id=7FxAuRmo y1=100 x2=100 style='fill: none;stroke: black;stroke-width: 4;' y2=100 x1=0></line><line id=ibsMgn6C y1=0 x2=0 style='fill: none;stroke: black;stroke-width: 4;' y2=100 x1=0></line></svg>\""
      ],
      "text/plain": []
     },
     "execution_count": 21,
     "metadata": {},
     "output_type": "execute_result"
    }
   ],
   "source": [
    "mycon = context(100, 100, 0 => 0) do con\n",
    "    Gattino.axes!(con)\n",
    "end"
   ]
  },
  {
   "cell_type": "code",
   "execution_count": 22,
   "id": "ac837303",
   "metadata": {},
   "outputs": [],
   "source": [
    "group(mycon) do g::Group\n",
    "    origin = (0, g.dim[2])\n",
    "    depth = 40\n",
    "    angle = 20\n",
    "    pointz = .5\n",
    "    otherangle = 180 - 90 - angle\n",
    "    xside = Int64(round(sin(angle) * (depth * pointz) / sin(90)))\n",
    "    Gattino.line!(g, origin[1] => origin[2], origin[1] + xside => origin[2] - xside)\n",
    "end"
   ]
  },
  {
   "cell_type": "code",
   "execution_count": 23,
   "id": "a42f4b6f",
   "metadata": {},
   "outputs": [
    {
     "data": {
      "text/html": [
       "\"<svg id=window height=100 width=100><line id=7FxAuRmo y1=100 x2=100 style='fill: none;stroke: black;stroke-width: 4;' y2=100 x1=0></line><line id=ibsMgn6C y1=0 x2=0 style='fill: none;stroke: black;stroke-width: 4;' y2=100 x1=0></line><line id=wVxuLjeL y1=100 x2=20 style='fill: none;stroke: black;stroke-width: 4;' y2=80 x1=0></line></svg>\""
      ]
     },
     "metadata": {},
     "output_type": "display_data"
    },
    {
     "data": {
      "text/html": [
       "\"<svg id=window height=100 width=100><line id=7FxAuRmo y1=100 x2=100 style='fill: none;stroke: black;stroke-width: 4;' y2=100 x1=0></line><line id=ibsMgn6C y1=0 x2=0 style='fill: none;stroke: black;stroke-width: 4;' y2=100 x1=0></line><line id=wVxuLjeL y1=100 x2=20 style='fill: none;stroke: black;stroke-width: 4;' y2=80 x1=0></line></svg>\""
      ],
      "text/plain": []
     },
     "execution_count": 23,
     "metadata": {},
     "output_type": "execute_result"
    }
   ],
   "source": [
    "mycon"
   ]
  },
  {
   "cell_type": "code",
   "execution_count": null,
   "id": "fbf85006",
   "metadata": {},
   "outputs": [],
   "source": []
  }
 ],
 "metadata": {
  "kernelspec": {
   "display_name": "Julia 1.9.2",
   "language": "julia",
   "name": "julia-1.9"
  },
  "language_info": {
   "file_extension": ".jl",
   "mimetype": "application/julia",
   "name": "julia",
   "version": "1.9.2"
  }
 },
 "nbformat": 4,
 "nbformat_minor": 5
}
