{
 "cells": [
  {
   "cell_type": "code",
   "execution_count": 1,
   "id": "a15d7f6a",
   "metadata": {},
   "outputs": [
    {
     "data": {
      "text/plain": [
       "true"
      ]
     },
     "execution_count": 1,
     "metadata": {},
     "output_type": "execute_result"
    }
   ],
   "source": [
    "Vector{Int64} == Array{Int64, 1}"
   ]
  },
  {
   "cell_type": "code",
   "execution_count": 4,
   "id": "b1328d55",
   "metadata": {},
   "outputs": [
    {
     "ename": "LoadError",
     "evalue": "UndefVarError: `myvec` not defined",
     "output_type": "error",
     "traceback": [
      "UndefVarError: `myvec` not defined",
      "",
      "Stacktrace:",
      " [1] top-level scope",
      "   @ In[4]:5"
     ]
    }
   ],
   "source": [
    "function shownames(myvec::Names)\n",
    "     [println(n.value) for n in myvec]; nothing\n",
    "end\n",
    "\n",
    "shownames(myvec)"
   ]
  },
  {
   "cell_type": "code",
   "execution_count": 6,
   "id": "dc1f33b0",
   "metadata": {},
   "outputs": [],
   "source": [
    "abstract type Identifier end"
   ]
  },
  {
   "cell_type": "code",
   "execution_count": 7,
   "id": "300998ff",
   "metadata": {},
   "outputs": [],
   "source": [
    "abstract type NameIdentifier <: Identifier end"
   ]
  },
  {
   "cell_type": "code",
   "execution_count": 8,
   "id": "28f83c6e",
   "metadata": {},
   "outputs": [
    {
     "ename": "LoadError",
     "evalue": "invalid redefinition of constant Name",
     "output_type": "error",
     "traceback": [
      "invalid redefinition of constant Name",
      "",
      "Stacktrace:",
      " [1] top-level scope",
      "   @ In[8]:1"
     ]
    }
   ],
   "source": [
    "mutable struct Name <: NameIdentifier\n",
    "    value::String\n",
    "end"
   ]
  },
  {
   "cell_type": "code",
   "execution_count": 3,
   "id": "65669d7d",
   "metadata": {},
   "outputs": [
    {
     "data": {
      "text/plain": [
       "Vector{Name}\u001b[90m (alias for \u001b[39m\u001b[90mArray{Name, 1}\u001b[39m\u001b[90m)\u001b[39m"
      ]
     },
     "execution_count": 3,
     "metadata": {},
     "output_type": "execute_result"
    }
   ],
   "source": [
    "Names = Vector{Name}"
   ]
  },
  {
   "cell_type": "code",
   "execution_count": 5,
   "id": "da6504eb",
   "metadata": {},
   "outputs": [
    {
     "data": {
      "text/plain": [
       "2-element Vector{Name}:\n",
       " Name(\"emmy\")\n",
       " Name(\"hank\")"
      ]
     },
     "execution_count": 5,
     "metadata": {},
     "output_type": "execute_result"
    }
   ],
   "source": [
    "myvec = [Name(\"emmy\"), Name(\"hank\")]"
   ]
  },
  {
   "cell_type": "code",
   "execution_count": 9,
   "id": "ce1104de",
   "metadata": {},
   "outputs": [],
   "source": [
    "mutable struct UserInfo{N <: Identifier}\n",
    "           n::N\n",
    "           url::String\n",
    "       end"
   ]
  },
  {
   "cell_type": "code",
   "execution_count": 10,
   "id": "7a374c68",
   "metadata": {},
   "outputs": [
    {
     "data": {
      "text/plain": [
       "NamedUser\u001b[90m (alias for \u001b[39m\u001b[90mUserInfo{T} where T<:NameIdentifier\u001b[39m\u001b[90m)\u001b[39m"
      ]
     },
     "execution_count": 10,
     "metadata": {},
     "output_type": "execute_result"
    }
   ],
   "source": [
    "const NamedUser{T} = UserInfo{T} where T <: NameIdentifier"
   ]
  },
  {
   "cell_type": "code",
   "execution_count": 11,
   "id": "fc99915a",
   "metadata": {},
   "outputs": [
    {
     "ename": "LoadError",
     "evalue": "TypeError: in UserInfo, in T, expected T<:NameIdentifier, got Type{Name}",
     "output_type": "error",
     "traceback": [
      "TypeError: in UserInfo, in T, expected T<:NameIdentifier, got Type{Name}",
      "",
      "Stacktrace:",
      " [1] top-level scope",
      "   @ In[11]:1"
     ]
    }
   ],
   "source": [
    "NamedUser{Name}(Name(\"emma\"), \"https://github.com/emmaccode\")"
   ]
  },
  {
   "cell_type": "code",
   "execution_count": 12,
   "id": "e13680cd",
   "metadata": {},
   "outputs": [
    {
     "data": {
      "text/plain": [
       "WebMeasure{:mm}()"
      ]
     },
     "execution_count": 12,
     "metadata": {},
     "output_type": "execute_result"
    }
   ],
   "source": [
    "mutable struct WebMeasure{format} end\n",
    "import Base: *\n",
    "*(i::Any, p::WebMeasure{<:Any}) = \"$(i)$(typeof(p).parameters[1])\"\n",
    "\n",
    "const pt = WebMeasure{:pt}()\n",
    "WebMeasure{:pt}()\n",
    "\n",
    "const mm = WebMeasure{:mm}()\n",
    "WebMeasure{:mm}()"
   ]
  },
  {
   "cell_type": "code",
   "execution_count": 13,
   "id": "e7ccc09a",
   "metadata": {},
   "outputs": [
    {
     "data": {
      "text/plain": [
       "\"55mm\""
      ]
     },
     "execution_count": 13,
     "metadata": {},
     "output_type": "execute_result"
    }
   ],
   "source": [
    "x = 55mm"
   ]
  },
  {
   "cell_type": "code",
   "execution_count": 14,
   "id": "1cd46bf6",
   "metadata": {},
   "outputs": [
    {
     "data": {
      "text/plain": [
       "\"25pt\""
      ]
     },
     "execution_count": 14,
     "metadata": {},
     "output_type": "execute_result"
    }
   ],
   "source": [
    "y = 25pt"
   ]
  },
  {
   "cell_type": "code",
   "execution_count": 15,
   "id": "414c7b01",
   "metadata": {},
   "outputs": [
    {
     "data": {
      "text/plain": [
       "@example (macro with 1 method)"
      ]
     },
     "execution_count": 15,
     "metadata": {},
     "output_type": "execute_result"
    }
   ],
   "source": [
    "macro example(e::Expr)\n",
    "           println(e.head); println(e.args)\n",
    "       end"
   ]
  },
  {
   "cell_type": "code",
   "execution_count": 16,
   "id": "3979508f",
   "metadata": {},
   "outputs": [
    {
     "name": "stdout",
     "output_type": "stream",
     "text": [
      "+=\n",
      "Any[:x, 5]\n"
     ]
    }
   ],
   "source": [
    "@example x += 5"
   ]
  },
  {
   "cell_type": "code",
   "execution_count": 31,
   "id": "4de4a85a",
   "metadata": {},
   "outputs": [
    {
     "data": {
      "text/plain": [
       "@css_str (macro with 1 method)"
      ]
     },
     "execution_count": 31,
     "metadata": {},
     "output_type": "execute_result"
    }
   ],
   "source": [
    "macro css_str(x::String)\n",
    "     kvalues::Vector{SubString} = split(x, \";\")\n",
    "     Dict{Symbol, String}(begin\n",
    "          splt = split(kval, \":\")\n",
    "          Symbol(splt[1]) => string(splt[2])\n",
    "end for kval in kvalues)::Dict{Symbol, String}\n",
    "end"
   ]
  },
  {
   "cell_type": "code",
   "execution_count": 32,
   "id": "27d5fb3c",
   "metadata": {},
   "outputs": [
    {
     "data": {
      "text/plain": [
       "Dict{Symbol, String} with 3 entries:\n",
       "  :color                  => \"red\"\n",
       "  Symbol(\"border-radius\") => \"5px\"\n",
       "  :width                  => \"500px\""
      ]
     },
     "execution_count": 32,
     "metadata": {},
     "output_type": "execute_result"
    }
   ],
   "source": [
    "css\"border-radius:5px;color:red;width:500px\""
   ]
  },
  {
   "cell_type": "code",
   "execution_count": null,
   "id": "b7053e59",
   "metadata": {},
   "outputs": [],
   "source": []
  }
 ],
 "metadata": {
  "kernelspec": {
   "display_name": "Julia 1.9.2",
   "language": "julia",
   "name": "julia-1.9"
  },
  "language_info": {
   "file_extension": ".jl",
   "mimetype": "application/julia",
   "name": "julia",
   "version": "1.9.2"
  }
 },
 "nbformat": 4,
 "nbformat_minor": 5
}
