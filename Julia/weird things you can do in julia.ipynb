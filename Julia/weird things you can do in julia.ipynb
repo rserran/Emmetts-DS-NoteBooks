{
 "cells": [
  {
   "cell_type": "code",
   "execution_count": 2,
   "id": "c19a862d",
   "metadata": {},
   "outputs": [
    {
     "data": {
      "text/plain": [
       "length (generic function with 90 methods)"
      ]
     },
     "execution_count": 2,
     "metadata": {},
     "output_type": "execute_result"
    }
   ],
   "source": [
    "import Base: length\n",
    "\n",
    "mutable struct MyRange{T <: Real} \n",
    "    x::T \n",
    "    y::T \n",
    "end\n",
    "\n",
    "length(mr::MyRange) = length(mr.x:mr.y)"
   ]
  },
  {
   "cell_type": "code",
   "execution_count": 3,
   "id": "7fcb4ee7",
   "metadata": {},
   "outputs": [],
   "source": [
    "import Base: (:)"
   ]
  },
  {
   "cell_type": "code",
   "execution_count": 7,
   "id": "1122058f",
   "metadata": {},
   "outputs": [
    {
     "data": {
      "text/plain": [
       "(::Colon) (generic function with 17 methods)"
      ]
     },
     "execution_count": 7,
     "metadata": {},
     "output_type": "execute_result"
    }
   ],
   "source": [
    "(:)(x::String, n::Number) = begin [println(x) for i in 1:n]; nothing end"
   ]
  },
  {
   "cell_type": "code",
   "execution_count": 8,
   "id": "bcda655c",
   "metadata": {},
   "outputs": [
    {
     "name": "stdout",
     "output_type": "stream",
     "text": [
      "hello\n",
      "hello\n",
      "hello\n",
      "hello\n",
      "hello\n"
     ]
    }
   ],
   "source": [
    "\"hello\":5"
   ]
  },
  {
   "cell_type": "code",
   "execution_count": 43,
   "id": "c2360297",
   "metadata": {},
   "outputs": [
    {
     "data": {
      "text/plain": [
       "(::Colon) (generic function with 21 methods)"
      ]
     },
     "execution_count": 43,
     "metadata": {},
     "output_type": "execute_result"
    }
   ],
   "source": [
    "(:)(vec::Vector{<:Any}, f::Function) = [f(x) for x in vec]"
   ]
  },
  {
   "cell_type": "code",
   "execution_count": 46,
   "id": "21dbcf97",
   "metadata": {},
   "outputs": [
    {
     "data": {
      "text/plain": [
       "1-element Vector{Int64}:\n",
       " 10"
      ]
     },
     "execution_count": 46,
     "metadata": {},
     "output_type": "execute_result"
    }
   ],
   "source": [
    "[5]:x -> x += 5"
   ]
  },
  {
   "cell_type": "code",
   "execution_count": 47,
   "id": "08d6fd22",
   "metadata": {},
   "outputs": [
    {
     "data": {
      "text/plain": [
       "2-element Vector{String}:\n",
       " \"hello\"\n",
       " \"hi\""
      ]
     },
     "execution_count": 47,
     "metadata": {},
     "output_type": "execute_result"
    }
   ],
   "source": [
    "x = [\"hello\", \"hi\"]"
   ]
  },
  {
   "cell_type": "code",
   "execution_count": 55,
   "id": "e165c40e",
   "metadata": {},
   "outputs": [
    {
     "data": {
      "text/plain": [
       "getindex (generic function with 228 methods)"
      ]
     },
     "execution_count": 55,
     "metadata": {},
     "output_type": "execute_result"
    }
   ],
   "source": [
    "import Base: getindex\n",
    "getindex(vec::Vector{<:Any}, f::Function) = begin\n",
    "    vec[findfirst(f, vec)]\n",
    "end"
   ]
  },
  {
   "cell_type": "code",
   "execution_count": 57,
   "id": "b30ce62f",
   "metadata": {},
   "outputs": [
    {
     "data": {
      "text/plain": [
       "\"hi\""
      ]
     },
     "execution_count": 57,
     "metadata": {},
     "output_type": "execute_result"
    }
   ],
   "source": [
    "x[s -> s == \"hi\"]"
   ]
  },
  {
   "cell_type": "code",
   "execution_count": 58,
   "id": "8dae3595",
   "metadata": {},
   "outputs": [
    {
     "data": {
      "text/plain": [
       "2-element Vector{Int64}:\n",
       " 1\n",
       " 2"
      ]
     },
     "execution_count": 58,
     "metadata": {},
     "output_type": "execute_result"
    }
   ],
   "source": [
    "vec = [1, 2]"
   ]
  },
  {
   "cell_type": "code",
   "execution_count": 59,
   "id": "bd7a1459",
   "metadata": {},
   "outputs": [],
   "source": [
    "abstract type ModelType end\n",
    "\n",
    "abstract type Categorical <: ModelType end\n",
    "\n",
    "abstract type Classifier <: Categorical end\n",
    "\n",
    "abstract type Continuous <: ModelType end\n",
    "\n",
    "abstract type AbstractModel end\n",
    "\n",
    "mutable struct Model{T <: Any} <: AbstractModel\n",
    "    data::Dict{String, Any}\n",
    "    Model{T}() where {T <: ModelType} = new{T}(Dict{String, Any}())\n",
    "end"
   ]
  },
  {
   "cell_type": "code",
   "execution_count": 78,
   "id": "b6e9e3eb",
   "metadata": {},
   "outputs": [
    {
     "data": {
      "text/plain": [
       "example (generic function with 1 method)"
      ]
     },
     "execution_count": 78,
     "metadata": {},
     "output_type": "execute_result"
    }
   ],
   "source": [
    "function example()\n",
    "x = 5\n",
    "y = 2\n",
    "()->(x;y)\n",
    "end"
   ]
  },
  {
   "cell_type": "code",
   "execution_count": 79,
   "id": "9321b367",
   "metadata": {},
   "outputs": [
    {
     "data": {
      "text/plain": [
       "#111 (generic function with 1 method)"
      ]
     },
     "execution_count": 79,
     "metadata": {},
     "output_type": "execute_result"
    }
   ],
   "source": [
    "stuff = example()"
   ]
  },
  {
   "cell_type": "code",
   "execution_count": 80,
   "id": "2ff28974",
   "metadata": {},
   "outputs": [
    {
     "data": {
      "text/plain": [
       "5"
      ]
     },
     "execution_count": 80,
     "metadata": {},
     "output_type": "execute_result"
    }
   ],
   "source": [
    "stuff.x"
   ]
  },
  {
   "cell_type": "code",
   "execution_count": 81,
   "id": "ebefb6ec",
   "metadata": {},
   "outputs": [
    {
     "data": {
      "text/plain": [
       "2"
      ]
     },
     "execution_count": 81,
     "metadata": {},
     "output_type": "execute_result"
    }
   ],
   "source": [
    "stuff.y"
   ]
  },
  {
   "cell_type": "code",
   "execution_count": 82,
   "id": "6642d619",
   "metadata": {},
   "outputs": [
    {
     "name": "stdout",
     "output_type": "stream",
     "text": [
      "it's in\n"
     ]
    }
   ],
   "source": [
    "x = [5, 10, 15]\n",
    "\n",
    "if 5 in x\n",
    "    println(\"it's in\")\n",
    "end"
   ]
  },
  {
   "cell_type": "code",
   "execution_count": 83,
   "id": "8f1fde1b",
   "metadata": {},
   "outputs": [],
   "source": [
    "mutable struct Example\n",
    "    id::String\n",
    "end"
   ]
  },
  {
   "cell_type": "code",
   "execution_count": 84,
   "id": "f7d457ca",
   "metadata": {},
   "outputs": [
    {
     "data": {
      "text/plain": [
       "3-element Vector{Example}:\n",
       " Example(\"1\")\n",
       " Example(\"2\")\n",
       " Example(\"3\")"
      ]
     },
     "execution_count": 84,
     "metadata": {},
     "output_type": "execute_result"
    }
   ],
   "source": [
    "vec = [Example(\"1\"), Example(\"2\"), Example(\"3\")]"
   ]
  },
  {
   "cell_type": "code",
   "execution_count": 85,
   "id": "401d06c8",
   "metadata": {},
   "outputs": [
    {
     "name": "stdout",
     "output_type": "stream",
     "text": [
      "3 is in the Vector!\n"
     ]
    }
   ],
   "source": [
    "found = findfirst(example::Example -> example.id == \"3\", vec)\n",
    "if ~(isnothing(found))\n",
    "    println(\"3 is in the Vector!\")\n",
    "end"
   ]
  },
  {
   "cell_type": "code",
   "execution_count": 86,
   "id": "93bcbe48",
   "metadata": {},
   "outputs": [
    {
     "data": {
      "text/plain": [
       "in (generic function with 37 methods)"
      ]
     },
     "execution_count": 86,
     "metadata": {},
     "output_type": "execute_result"
    }
   ],
   "source": [
    "import Base: in\n",
    "\n",
    "in(id::String, exvec::Vector{Example}) = begin\n",
    "    ~(isnothing(findfirst(e -> e.id == id, exvec)))\n",
    "end"
   ]
  },
  {
   "cell_type": "code",
   "execution_count": 87,
   "id": "c4da8860",
   "metadata": {},
   "outputs": [
    {
     "data": {
      "text/plain": [
       "true"
      ]
     },
     "execution_count": 87,
     "metadata": {},
     "output_type": "execute_result"
    }
   ],
   "source": [
    "\"3\" in vec"
   ]
  },
  {
   "cell_type": "code",
   "execution_count": 88,
   "id": "8c553136",
   "metadata": {},
   "outputs": [
    {
     "data": {
      "text/plain": [
       "Main.Examp"
      ]
     },
     "execution_count": 88,
     "metadata": {},
     "output_type": "execute_result"
    }
   ],
   "source": [
    "baremodule Examp\n",
    "\n",
    "end"
   ]
  },
  {
   "cell_type": "code",
   "execution_count": 89,
   "id": "c012de97",
   "metadata": {},
   "outputs": [
    {
     "ename": "LoadError",
     "evalue": "UndefVarError: `Vector` not defined",
     "output_type": "error",
     "traceback": [
      "UndefVarError: `Vector` not defined",
      "",
      "Stacktrace:",
      " [1] top-level scope",
      "   @ In[89]:1"
     ]
    }
   ],
   "source": [
    "Examp.Vector"
   ]
  },
  {
   "cell_type": "code",
   "execution_count": 90,
   "id": "eaaa23be",
   "metadata": {},
   "outputs": [
    {
     "data": {
      "text/plain": [
       "Main.Normal"
      ]
     },
     "execution_count": 90,
     "metadata": {},
     "output_type": "execute_result"
    }
   ],
   "source": [
    "module Normal\n",
    "\n",
    "end"
   ]
  },
  {
   "cell_type": "code",
   "execution_count": 91,
   "id": "eb7c86e0",
   "metadata": {},
   "outputs": [
    {
     "data": {
      "text/plain": [
       "Vector\u001b[90m (alias for \u001b[39m\u001b[90mArray{T, 1} where T\u001b[39m\u001b[90m)\u001b[39m"
      ]
     },
     "execution_count": 91,
     "metadata": {},
     "output_type": "execute_result"
    }
   ],
   "source": [
    "Normal.Vector"
   ]
  },
  {
   "cell_type": "code",
   "execution_count": 92,
   "id": "873a7622",
   "metadata": {},
   "outputs": [],
   "source": [
    "using Markdown"
   ]
  },
  {
   "cell_type": "code",
   "execution_count": 93,
   "id": "8103cf03",
   "metadata": {},
   "outputs": [
    {
     "data": {
      "text/latex": [
       "\\section{hello world!}\n"
      ],
      "text/markdown": [
       "# hello world!\n"
      ],
      "text/plain": [
       "\u001b[1m  hello world!\u001b[22m\n",
       "\u001b[1m  ≡≡≡≡≡≡≡≡≡≡≡≡≡≡\u001b[22m"
      ]
     },
     "execution_count": 93,
     "metadata": {},
     "output_type": "execute_result"
    }
   ],
   "source": [
    "md\"# hello world!\""
   ]
  },
  {
   "cell_type": "code",
   "execution_count": 96,
   "id": "05a788d7",
   "metadata": {},
   "outputs": [
    {
     "data": {
      "text/plain": [
       "@hello_str (macro with 1 method)"
      ]
     },
     "execution_count": 96,
     "metadata": {},
     "output_type": "execute_result"
    }
   ],
   "source": [
    "macro hello_str(s::String)\n",
    "    println(\"hello $s !\")\n",
    "end"
   ]
  },
  {
   "cell_type": "code",
   "execution_count": 97,
   "id": "e39308c1",
   "metadata": {},
   "outputs": [
    {
     "name": "stdout",
     "output_type": "stream",
     "text": [
      "hello world !\n"
     ]
    }
   ],
   "source": [
    "hello\"world\""
   ]
  },
  {
   "cell_type": "code",
   "execution_count": null,
   "id": "fb14a8c4",
   "metadata": {},
   "outputs": [],
   "source": []
  }
 ],
 "metadata": {
  "kernelspec": {
   "display_name": "Julia 1.9.2",
   "language": "julia",
   "name": "julia-1.9"
  },
  "language_info": {
   "file_extension": ".jl",
   "mimetype": "application/julia",
   "name": "julia",
   "version": "1.9.2"
  }
 },
 "nbformat": 4,
 "nbformat_minor": 5
}
