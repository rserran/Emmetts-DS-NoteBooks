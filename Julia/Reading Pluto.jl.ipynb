{
 "cells": [
  {
   "cell_type": "code",
   "execution_count": 1,
   "metadata": {},
   "outputs": [],
   "source": [
    "using UUIDs, TOML, Markdown\n",
    "\n",
    "abstract type AbstractCell end\n",
    "mutable struct InputCell <: AbstractCell\n",
    "    ID::UUID\n",
    "    Text::Any\n",
    "end\n",
    "\n",
    "mutable struct OutputCell <: AbstractCell\n",
    "    ID::UUID\n",
    "    output::Any\n",
    "end\n",
    "\n",
    "mutable struct Cell <: AbstractCell\n",
    "    input::InputCell\n",
    "    output::OutputCell\n",
    "    hidden::Bool\n",
    "    lang::Symbol\n",
    "    env::UUID\n",
    "end"
   ]
  },
  {
   "cell_type": "code",
   "execution_count": 2,
   "metadata": {},
   "outputs": [
    {
     "data": {
      "text/plain": [
       "\"weird.jl\""
      ]
     },
     "execution_count": 2,
     "metadata": {},
     "output_type": "execute_result"
    }
   ],
   "source": [
    "uri = \"weird.jl\""
   ]
  },
  {
   "cell_type": "code",
   "execution_count": 3,
   "metadata": {},
   "outputs": [
    {
     "data": {
      "text/plain": [
       "197-element Vector{String}:\n",
       " \"### A Pluto.jl notebook ###\"\n",
       " \"# v0.17.3\"\n",
       " \"\"\n",
       " \"using Markdown\"\n",
       " \"using InteractiveUtils\"\n",
       " \"\"\n",
       " \"# This Pluto notebook uses @bind for interactivity. When running this notebook outside of Pluto, the following 'mock version' of @bind gives bound variables a default value (instead of an error).\"\n",
       " \"macro bind(def, element)\"\n",
       " \"    quote\"\n",
       " \"        local iv = try Base.loaded_modules[Base.PkgId(Base.UUID(\\\"6e696c72-6542-2067-7265-42206c756150\\\"), \\\"AbstractPlutoDingetjes\\\")].Bonds.initial_value catch; b -> missing; end\"\n",
       " \"        local el = \\$(esc(element))\"\n",
       " \"        global \\$(esc(def)) = Core.applicable(Base.get, el) ? Base.get(el) : iv(el)\"\n",
       " \"        el\"\n",
       " ⋮\n",
       " \"# ╟─9d3af596-9554-11ea-21bd-bf427c91c424\"\n",
       " \"# ╟─3150bf1a-9555-11ea-306f-0fd4d9229a51\"\n",
       " \"# ╠═f2c79746-9554-11ea-39ca-298fd09248ad\"\n",
       " \"# ╟─0b094cea-9556-11ea-268e-0d270fd04d56\"\n",
       " \"# ╠═1908f9f2-9557-11ea-2abd-dd52f8d776f4\"\n",
       " \"# ╟─784b1774-9557-11ea-315e-d1ea277ce0fd\"\n",
       " \"# ╟─5edadcd2-9554-11ea-1714-b5b7692c4797\"\n",
       " \"# ╟─4634c856-9553-11ea-008d-3539195970ea\"\n",
       " \"# ╟─4d0ebb46-9553-11ea-3431-2d203f594815\"\n",
       " \"# ╟─d736e096-9553-11ea-3ba5-277afde1afe7\"\n",
       " \"# ╟─7366f1b6-954c-11ea-3f68-b12444c902c3\"\n",
       " \"# ╟─1deaaf36-9554-11ea-3dae-85851f73dbc6\""
      ]
     },
     "execution_count": 3,
     "metadata": {},
     "output_type": "execute_result"
    }
   ],
   "source": [
    "input = readlines(uri)"
   ]
  },
  {
   "cell_type": "code",
   "execution_count": 4,
   "metadata": {},
   "outputs": [
    {
     "name": "stdout",
     "output_type": "stream",
     "text": [
      "cat = \"Ks*;lj\"\n",
      "\n",
      "# ╔═╡ aeb3a6bc-9540-11ea-0b8f-6d37412bfe68\n"
     ]
    }
   ],
   "source": [
    "# The threshhold for the pluto info is on [30]\n",
    "#    But is this every pluto file? If so, loop can begin on line [30] ;)\n",
    "println(input[29])\n",
    "println(input[30])\n",
    "println(input[31])"
   ]
  },
  {
   "cell_type": "code",
   "execution_count": 5,
   "metadata": {},
   "outputs": [
    {
     "data": {
      "text/plain": [
       "showsome (generic function with 1 method)"
      ]
     },
     "execution_count": 5,
     "metadata": {},
     "output_type": "execute_result"
    }
   ],
   "source": [
    "function showsome(x::UnitRange, uri::String)\n",
    "    f = readlines(uri)\n",
    "    for i in x\n",
    "       println(f[i]) \n",
    "    end\n",
    "end"
   ]
  },
  {
   "cell_type": "code",
   "execution_count": 6,
   "metadata": {},
   "outputs": [
    {
     "name": "stdout",
     "output_type": "stream",
     "text": [
      "Pluto is a programming environment for _Julia_, designed to be **interactive** and **helpful**. \n",
      "\n",
      "In this introduction, we will go through the basics of using Pluto. To make it interesting, this notebook does something special: it **changes while you work on it**. Computer magic ✨\"\n",
      "\n",
      "# ╔═╡ 4d88b926-9543-11ea-293a-1379b1b5ae64\n",
      "md\"## Cats\n",
      "Let's say you're like my grandma, and you have a lot of cats. Our story will be about them.\"\n",
      "\n",
      "# ╔═╡ 3e8e381e-953f-11ea-3d3e-71d0fea52560\n",
      "cat = \"Ks*;lj\"\n",
      "\n",
      "# ╔═╡ aeb3a6bc-9540-11ea-0b8f-6d37412bfe68\n",
      "if cat == \"Ks*;lj\"\n",
      "\tmd\"Oh no! Someone messed with my pretty introduction. Change the code above to give our cat a proper name!\"\n",
      "else\n",
      "\tHTML(\"\"\"<p><b>Well done, your cat is called $cat now.</b> This text gets updated every time you change the name. To see how the magic works, click on the <img src=\"https://cdn.jsdelivr.net/gh/ionic-team/ionicons@5.5.1/src/svg/eye-outline.svg\" style=\"width: 1em; height: 1em; margin-bottom: -.2em;\"> to the left of this text.</p>\"\"\")\n",
      "end\n",
      "\n",
      "# ╔═╡ 611c28fa-9542-11ea-1751-fbdedcfb7690\n",
      "html\"\"\"<p>To edit any code, just click on it. When you're done programming, press the <img src=\"https://cdn.jsdelivr.net/gh/ionic-team/ionicons@5.5.1/src/svg/caret-forward-circle-outline.svg\" style=\"width: 1em; height: 1em; margin-bottom: -.2em;\"> in the lower-right corner of a cell to run the code. You can also use `Shift+Enter` if you are in a hurry.</p>\"\"\"\n",
      "\n",
      "# ╔═╡ 6f7eecec-9543-11ea-1284-dd52fce3ecca\n",
      "md\"I feel like our cat needs a friend. Let's call them $(friend).\"\n",
      "\n",
      "# ╔═╡ a1a20314-9543-11ea-17de-0b658da18992\n",
      "if !@isdefined friend\n",
      "\tmd\"Uh oh, what is this? I forgot to add a cell defining our friend. Can you do it for me?\"\n",
      "else\n",
      "\tmd\"**Well done!** $cat and $friend are both happy with your performance.\"\n",
      "end\n",
      "\n"
     ]
    }
   ],
   "source": [
    "showsome(20:50, uri)"
   ]
  },
  {
   "cell_type": "code",
   "execution_count": 7,
   "metadata": {},
   "outputs": [
    {
     "name": "stdout",
     "output_type": "stream",
     "text": [
      "# ╟─f112b662-9543-11ea-3dcb-2906a99b2188\n",
      "# ╟─e0642f42-9545-11ea-14ee-fde52cb54ccc\n",
      "# ╠═3653b1ac-9546-11ea-2a44-ddd3054636fe\n",
      "# ╟─19ff8d36-9547-11ea-0e08-e5cdd8338673\n",
      "# ╠═a4a60262-9547-11ea-3a81-5bf7f9ee5d16\n",
      "# ╟─270ac49e-9549-11ea-3ffd-71ddaee9f134\n",
      "# ╟─e11e1660-9549-11ea-22f6-8bb53dc045fe\n",
      "# ╠═745a4584-954a-11ea-028e-59011f268ec6\n",
      "# ╟─55ad7422-954e-11ea-0a33-a3b03febb56e\n",
      "# ╠═eac62fea-954e-11ea-2768-39ce6f4059ab\n",
      "# ╟─f27f90c2-954f-11ea-3f93-17acb2ce4280\n",
      "# ╟─6c8e2108-9550-11ea-014d-235770ed4771\n",
      "# ╠═9e89fc9a-9550-11ea-14b4-7f0e96225ec0\n",
      "# ╟─bdd5d268-9550-11ea-1046-31efedc36872\n",
      "# ╟─36cd006a-9551-11ea-3c0c-df8b7f2843c1\n",
      "# ╟─fb4e471c-9551-11ea-1ab5-41bbd5de76b8\n",
      "# ╟─9d3af596-9554-11ea-21bd-bf427c91c424\n",
      "# ╟─3150bf1a-9555-11ea-306f-0fd4d9229a51\n",
      "# ╠═f2c79746-9554-11ea-39ca-298fd09248ad\n",
      "# ╟─0b094cea-9556-11ea-268e-0d270fd04d56\n",
      "# ╠═1908f9f2-9557-11ea-2abd-dd52f8d776f4\n",
      "# ╟─784b1774-9557-11ea-315e-d1ea277ce0fd\n",
      "# ╟─5edadcd2-9554-11ea-1714-b5b7692c4797\n",
      "# ╟─4634c856-9553-11ea-008d-3539195970ea\n",
      "# ╟─4d0ebb46-9553-11ea-3431-2d203f594815\n",
      "# ╟─d736e096-9553-11ea-3ba5-277afde1afe7\n",
      "# ╟─7366f1b6-954c-11ea-3f68-b12444c902c3\n",
      "# ╟─1deaaf36-9554-11ea-3dae-85851f73dbc6\n"
     ]
    }
   ],
   "source": [
    "showsome(170:197, uri)"
   ]
  },
  {
   "cell_type": "code",
   "execution_count": 8,
   "metadata": {},
   "outputs": [],
   "source": [
    "# It looks like these UUID-based cell formats continue through the whole length of the file.\n",
    "#    This will make this relatively straightforward :)"
   ]
  },
  {
   "cell_type": "code",
   "execution_count": 9,
   "metadata": {},
   "outputs": [
    {
     "data": {
      "text/plain": [
       "read_plto (generic function with 1 method)"
      ]
     },
     "execution_count": 9,
     "metadata": {},
     "output_type": "execute_result"
    }
   ],
   "source": [
    "function read_plto(uri::String)\n",
    "    cells = Dict()\n",
    "    celluuids = []\n",
    "    for line in readlines(uri)\n",
    "        if occursin('╟', line)\n",
    "            println(line)\n",
    "        end\n",
    "    end\n",
    "end"
   ]
  },
  {
   "cell_type": "code",
   "execution_count": 10,
   "metadata": {},
   "outputs": [
    {
     "name": "stdout",
     "output_type": "stream",
     "text": [
      "# ╟─b129ba7c-953a-11ea-3379-17adae34924c\n",
      "# ╟─4d88b926-9543-11ea-293a-1379b1b5ae64\n",
      "# ╟─aeb3a6bc-9540-11ea-0b8f-6d37412bfe68\n",
      "# ╟─611c28fa-9542-11ea-1751-fbdedcfb7690\n",
      "# ╟─a1a20314-9543-11ea-17de-0b658da18992\n",
      "# ╟─f112b662-9543-11ea-3dcb-2906a99b2188\n",
      "# ╟─e0642f42-9545-11ea-14ee-fde52cb54ccc\n",
      "# ╟─19ff8d36-9547-11ea-0e08-e5cdd8338673\n",
      "# ╟─270ac49e-9549-11ea-3ffd-71ddaee9f134\n",
      "# ╟─e11e1660-9549-11ea-22f6-8bb53dc045fe\n",
      "# ╟─55ad7422-954e-11ea-0a33-a3b03febb56e\n",
      "# ╟─f27f90c2-954f-11ea-3f93-17acb2ce4280\n",
      "# ╟─6c8e2108-9550-11ea-014d-235770ed4771\n",
      "# ╟─bdd5d268-9550-11ea-1046-31efedc36872\n",
      "# ╟─36cd006a-9551-11ea-3c0c-df8b7f2843c1\n",
      "# ╟─fb4e471c-9551-11ea-1ab5-41bbd5de76b8\n",
      "# ╟─9d3af596-9554-11ea-21bd-bf427c91c424\n",
      "# ╟─3150bf1a-9555-11ea-306f-0fd4d9229a51\n",
      "# ╟─0b094cea-9556-11ea-268e-0d270fd04d56\n",
      "# ╟─784b1774-9557-11ea-315e-d1ea277ce0fd\n",
      "# ╟─5edadcd2-9554-11ea-1714-b5b7692c4797\n",
      "# ╟─4634c856-9553-11ea-008d-3539195970ea\n",
      "# ╟─4d0ebb46-9553-11ea-3431-2d203f594815\n",
      "# ╟─d736e096-9553-11ea-3ba5-277afde1afe7\n",
      "# ╟─7366f1b6-954c-11ea-3f68-b12444c902c3\n",
      "# ╟─1deaaf36-9554-11ea-3dae-85851f73dbc6\n"
     ]
    }
   ],
   "source": [
    "read_plto(uri)"
   ]
  },
  {
   "cell_type": "code",
   "execution_count": 11,
   "metadata": {},
   "outputs": [
    {
     "data": {
      "text/plain": [
       "read_plto (generic function with 1 method)"
      ]
     },
     "execution_count": 11,
     "metadata": {},
     "output_type": "execute_result"
    }
   ],
   "source": [
    "function read_plto(uri::String)\n",
    "    # We need file lines for each cell UUID\n",
    "    cellpos = Dict()\n",
    "    first = 0\n",
    "    ccount = 0\n",
    "    for (count, line) in enumerate(readlines(uri))\n",
    "        if occursin('╟', line)\n",
    "            ccount += 1\n",
    "            if first == 0\n",
    "                first = count\n",
    "            else\n",
    "                push!(cellpos, ccount => first:count)\n",
    "            end   \n",
    "        end\n",
    "    end\n",
    "    return(cellpos)\n",
    "end"
   ]
  },
  {
   "cell_type": "code",
   "execution_count": 12,
   "metadata": {},
   "outputs": [
    {
     "data": {
      "text/plain": [
       "Dict{Any, Any} with 25 entries:\n",
       "  5  => 163:169\n",
       "  16 => 163:185\n",
       "  20 => 163:191\n",
       "  12 => 163:180\n",
       "  24 => 163:195\n",
       "  8  => 163:173\n",
       "  17 => 163:186\n",
       "  23 => 163:194\n",
       "  19 => 163:189\n",
       "  22 => 163:193\n",
       "  6  => 163:170\n",
       "  11 => 163:178\n",
       "  9  => 163:175\n",
       "  14 => 163:183\n",
       "  3  => 163:166\n",
       "  7  => 163:171\n",
       "  25 => 163:196\n",
       "  4  => 163:167\n",
       "  13 => 163:181\n",
       "  15 => 163:184\n",
       "  2  => 163:164\n",
       "  10 => 163:176\n",
       "  18 => 163:187\n",
       "  21 => 163:192\n",
       "  26 => 163:197"
      ]
     },
     "execution_count": 12,
     "metadata": {},
     "output_type": "execute_result"
    }
   ],
   "source": [
    "cellpos = read_plto(uri)"
   ]
  },
  {
   "cell_type": "code",
   "execution_count": 13,
   "metadata": {},
   "outputs": [
    {
     "name": "stdout",
     "output_type": "stream",
     "text": [
      "Dict{Any, Any}(5 => 163:169, 16 => 163:185, 20 => 163:191, 12 => 163:180, 24 => 163:195, 8 => 163:173, 17 => 163:186, 23 => 163:194, 19 => 163:189, 22 => 163:193, 6 => 163:170, 11 => 163:178, 9 => 163:175, 14 => 163:183, 3 => 163:166, 7 => 163:171, 25 => 163:196, 4 => 163:167, 13 => 163:181, 15 => 163:184, 2 => 163:164, 10 => 163:176, 18 => 163:187, 21 => 163:192, 26 => 163:197)"
     ]
    }
   ],
   "source": [
    "show(cellpos)"
   ]
  },
  {
   "cell_type": "code",
   "execution_count": 14,
   "metadata": {},
   "outputs": [
    {
     "data": {
      "text/plain": [
       "163:164"
      ]
     },
     "execution_count": 14,
     "metadata": {},
     "output_type": "execute_result"
    }
   ],
   "source": [
    "cellpos[2]"
   ]
  },
  {
   "cell_type": "code",
   "execution_count": 15,
   "metadata": {},
   "outputs": [
    {
     "data": {
      "text/plain": [
       "read_plto (generic function with 1 method)"
      ]
     },
     "execution_count": 15,
     "metadata": {},
     "output_type": "execute_result"
    }
   ],
   "source": [
    "function read_plto(uri::String)\n",
    "    # We need file lines for each cell UUID\n",
    "    cellpos = Dict()\n",
    "    first = 0\n",
    "    ccount = 0\n",
    "    for (count, line) in enumerate(readlines(uri))\n",
    "        if occursin(\"# ╔═╡\", line)\n",
    "            if first == 0\n",
    "                first = count\n",
    "            else\n",
    "                ccount += 1\n",
    "                push!(cellpos, ccount => first:count)\n",
    "                println(ccount => first:count)\n",
    "            end   \n",
    "        end\n",
    "    end\n",
    "    return(cellpos)\n",
    "end"
   ]
  },
  {
   "cell_type": "code",
   "execution_count": 16,
   "metadata": {},
   "outputs": [
    {
     "name": "stdout",
     "output_type": "stream",
     "text": [
      "1 => 17:24\n",
      "2 => 17:28\n",
      "3 => 17:31\n",
      "4 => 17:38\n",
      "5 => 17:41\n",
      "6 => 17:44\n",
      "7 => 17:51\n",
      "8 => 17:54\n",
      "9 => 17:58\n",
      "10 => 17:61\n",
      "11 => 17:64\n",
      "12 => 17:69\n",
      "13 => 17:72\n",
      "14 => 17:79\n",
      "15 => 17:82\n",
      "16 => 17:86\n",
      "17 => 17:89\n",
      "18 => 17:96\n",
      "19 => 17:99\n",
      "20 => 17:104\n",
      "21 => 17:108\n",
      "22 => 17:111\n",
      "23 => 17:114\n",
      "24 => 17:117\n",
      "25 => 17:121\n",
      "26 => 17:128\n",
      "27 => 17:131\n",
      "28 => 17:134\n",
      "29 => 17:137\n",
      "30 => 17:140\n",
      "31 => 17:148\n",
      "32 => 17:151\n",
      "33 => 17:154\n",
      "34 => 17:157\n",
      "35 => 17:162\n"
     ]
    },
    {
     "data": {
      "text/plain": [
       "Dict{Any, Any} with 35 entries:\n",
       "  5  => 17:41\n",
       "  16 => 17:86\n",
       "  20 => 17:104\n",
       "  35 => 17:162\n",
       "  12 => 17:69\n",
       "  24 => 17:117\n",
       "  28 => 17:134\n",
       "  8  => 17:54\n",
       "  17 => 17:89\n",
       "  30 => 17:140\n",
       "  1  => 17:24\n",
       "  19 => 17:99\n",
       "  22 => 17:111\n",
       "  23 => 17:114\n",
       "  6  => 17:44\n",
       "  32 => 17:151\n",
       "  11 => 17:64\n",
       "  9  => 17:58\n",
       "  31 => 17:148\n",
       "  14 => 17:79\n",
       "  3  => 17:31\n",
       "  29 => 17:137\n",
       "  7  => 17:51\n",
       "  25 => 17:121\n",
       "  33 => 17:154\n",
       "  ⋮  => ⋮"
      ]
     },
     "execution_count": 16,
     "metadata": {},
     "output_type": "execute_result"
    }
   ],
   "source": [
    "cellpos = read_plto(uri)"
   ]
  },
  {
   "cell_type": "code",
   "execution_count": 17,
   "metadata": {},
   "outputs": [
    {
     "name": "stdout",
     "output_type": "stream",
     "text": [
      "# ╔═╡ b129ba7c-953a-11ea-3379-17adae34924c\n",
      "md\"# _Welcome to Pluto!_\n",
      "\n",
      "Pluto is a programming environment for _Julia_, designed to be **interactive** and **helpful**. \n",
      "\n",
      "In this introduction, we will go through the basics of using Pluto. To make it interesting, this notebook does something special: it **changes while you work on it**. Computer magic ✨\"\n",
      "\n",
      "# ╔═╡ 4d88b926-9543-11ea-293a-1379b1b5ae64\n"
     ]
    }
   ],
   "source": [
    "showsome(17:24, uri)"
   ]
  },
  {
   "cell_type": "code",
   "execution_count": 18,
   "metadata": {},
   "outputs": [
    {
     "name": "stdout",
     "output_type": "stream",
     "text": [
      "\n",
      "_~ Fons van der Plas & Nicholas Bochenski_\"\n"
     ]
    }
   ],
   "source": [
    "showsome(159:160, uri)"
   ]
  },
  {
   "cell_type": "code",
   "execution_count": 19,
   "metadata": {},
   "outputs": [
    {
     "data": {
      "text/plain": [
       "plto_cell_lines (generic function with 1 method)"
      ]
     },
     "execution_count": 19,
     "metadata": {},
     "output_type": "execute_result"
    }
   ],
   "source": [
    "function plto_cell_lines(uri::String)\n",
    "    # We need file lines for each cell UUID\n",
    "    cellpos = Dict()\n",
    "    first = 0\n",
    "    ccount = 0\n",
    "    for (count, line) in enumerate(readlines(uri))\n",
    "        if occursin(\"# ╔═╡\", line)\n",
    "            if first == 0\n",
    "                first = count\n",
    "            else\n",
    "                ccount += 1\n",
    "                push!(cellpos, ccount => first:count - 1)\n",
    "                first = count\n",
    "            end   \n",
    "        end\n",
    "    end\n",
    "    return(cellpos)\n",
    "end"
   ]
  },
  {
   "cell_type": "code",
   "execution_count": 20,
   "metadata": {},
   "outputs": [
    {
     "data": {
      "text/plain": [
       "Dict{Any, Any} with 35 entries:\n",
       "  5  => 38:40\n",
       "  16 => 82:85\n",
       "  20 => 99:103\n",
       "  35 => 157:161\n",
       "  12 => 64:68\n",
       "  24 => 114:116\n",
       "  28 => 131:133\n",
       "  8  => 51:53\n",
       "  17 => 86:88\n",
       "  30 => 137:139\n",
       "  1  => 17:23\n",
       "  19 => 96:98\n",
       "  22 => 108:110\n",
       "  23 => 111:113\n",
       "  6  => 41:43\n",
       "  32 => 148:150\n",
       "  11 => 61:63\n",
       "  9  => 54:57\n",
       "  31 => 140:147\n",
       "  14 => 72:78\n",
       "  3  => 28:30\n",
       "  29 => 134:136\n",
       "  7  => 44:50\n",
       "  25 => 117:120\n",
       "  33 => 151:153\n",
       "  ⋮  => ⋮"
      ]
     },
     "execution_count": 20,
     "metadata": {},
     "output_type": "execute_result"
    }
   ],
   "source": [
    "cellpos = plto_cell_lines(uri)"
   ]
  },
  {
   "cell_type": "code",
   "execution_count": 21,
   "metadata": {},
   "outputs": [
    {
     "data": {
      "text/plain": [
       "17:23"
      ]
     },
     "execution_count": 21,
     "metadata": {},
     "output_type": "execute_result"
    }
   ],
   "source": [
    "cellpos[1]"
   ]
  },
  {
   "cell_type": "code",
   "execution_count": 22,
   "metadata": {},
   "outputs": [
    {
     "name": "stdout",
     "output_type": "stream",
     "text": [
      "# ╔═╡ b129ba7c-953a-11ea-3379-17adae34924c\n",
      "md\"# _Welcome to Pluto!_\n",
      "\n",
      "Pluto is a programming environment for _Julia_, designed to be **interactive** and **helpful**. \n",
      "\n",
      "In this introduction, we will go through the basics of using Pluto. To make it interesting, this notebook does something special: it **changes while you work on it**. Computer magic ✨\"\n",
      "\n"
     ]
    }
   ],
   "source": [
    "showsome(cellpos[1], uri)"
   ]
  },
  {
   "cell_type": "code",
   "execution_count": 23,
   "metadata": {},
   "outputs": [
    {
     "name": "stdout",
     "output_type": "stream",
     "text": [
      "# ╔═╡ 4d88b926-9543-11ea-293a-1379b1b5ae64\n",
      "md\"## Cats\n",
      "Let's say you're like my grandma, and you have a lot of cats. Our story will be about them.\"\n",
      "\n"
     ]
    }
   ],
   "source": [
    "showsome(cellpos[2], uri)"
   ]
  },
  {
   "cell_type": "code",
   "execution_count": 24,
   "metadata": {},
   "outputs": [
    {
     "name": "stdout",
     "output_type": "stream",
     "text": [
      "# ╔═╡ 3e8e381e-953f-11ea-3d3e-71d0fea52560\n",
      "cat = \"Ks*;lj\"\n",
      "\n"
     ]
    }
   ],
   "source": [
    "showsome(cellpos[3], uri)"
   ]
  },
  {
   "cell_type": "code",
   "execution_count": 25,
   "metadata": {},
   "outputs": [
    {
     "name": "stdout",
     "output_type": "stream",
     "text": [
      "# ╔═╡ aeb3a6bc-9540-11ea-0b8f-6d37412bfe68\n",
      "if cat == \"Ks*;lj\"\n",
      "\tmd\"Oh no! Someone messed with my pretty introduction. Change the code above to give our cat a proper name!\"\n",
      "else\n",
      "\tHTML(\"\"\"<p><b>Well done, your cat is called $cat now.</b> This text gets updated every time you change the name. To see how the magic works, click on the <img src=\"https://cdn.jsdelivr.net/gh/ionic-team/ionicons@5.5.1/src/svg/eye-outline.svg\" style=\"width: 1em; height: 1em; margin-bottom: -.2em;\"> to the left of this text.</p>\"\"\")\n",
      "end\n",
      "\n"
     ]
    }
   ],
   "source": [
    "showsome(cellpos[4], uri)"
   ]
  },
  {
   "cell_type": "code",
   "execution_count": 26,
   "metadata": {},
   "outputs": [
    {
     "data": {
      "text/plain": [
       "17:23"
      ]
     },
     "execution_count": 26,
     "metadata": {},
     "output_type": "execute_result"
    }
   ],
   "source": [
    "z = cellpos[1]"
   ]
  },
  {
   "cell_type": "code",
   "execution_count": 27,
   "metadata": {},
   "outputs": [
    {
     "data": {
      "text/plain": [
       "23"
      ]
     },
     "execution_count": 27,
     "metadata": {},
     "output_type": "execute_result"
    }
   ],
   "source": [
    "z[end]"
   ]
  },
  {
   "cell_type": "code",
   "execution_count": 28,
   "metadata": {},
   "outputs": [
    {
     "data": {
      "text/plain": [
       "UUID(\"00d6ed50-5ccd-11ec-18cd-dda4c1c92d1c\")"
      ]
     },
     "execution_count": 28,
     "metadata": {},
     "output_type": "execute_result"
    }
   ],
   "source": [
    "UUIDs.uuid1()"
   ]
  },
  {
   "cell_type": "code",
   "execution_count": 29,
   "metadata": {},
   "outputs": [
    {
     "data": {
      "text/plain": [
       "plto_cell_lines (generic function with 1 method)"
      ]
     },
     "execution_count": 29,
     "metadata": {},
     "output_type": "execute_result"
    }
   ],
   "source": [
    "function plto_cell_lines(uri::String)\n",
    "    # We need file lines for each cell UUID\n",
    "    cellpos = Dict()\n",
    "    first = 0\n",
    "    ccount = 0\n",
    "    for (count, line) in enumerate(readlines(uri))\n",
    "        if occursin(\"# ╔═╡\", line)\n",
    "            if first == 0\n",
    "                first = count\n",
    "            else\n",
    "                ccount += 1\n",
    "                push!(cellpos, ccount => first:count - 1)\n",
    "                first = count\n",
    "            end   \n",
    "        end\n",
    "    end\n",
    "    return(cellpos)\n",
    "end"
   ]
  },
  {
   "cell_type": "code",
   "execution_count": 42,
   "metadata": {},
   "outputs": [
    {
     "data": {
      "text/plain": [
       "read_plto (generic function with 1 method)"
      ]
     },
     "execution_count": 42,
     "metadata": {},
     "output_type": "execute_result"
    }
   ],
   "source": [
    "function read_plto(uri::String)\n",
    "    cellpos = plto_cell_lines(uri)\n",
    "    cells = []\n",
    "    x = readlines(uri)\n",
    "    for cell in values(cellpos)\n",
    "        unprocessed_uuid = x[cell[1]]\n",
    "        text_data = x[cell[2:end]]\n",
    "        identifier = process_uuid(unprocessed_uuid)\n",
    "        inp = InputCell(identifier, text_data)\n",
    "        out = OutputCell(UUIDs.uuid1(), \"\")\n",
    "        cl = Cell(inp, out, false, :JL, UUIDs.uuid1())\n",
    "        push!(cells, cl)\n",
    "    end\n",
    "    return(cells)\n",
    "end"
   ]
  },
  {
   "cell_type": "code",
   "execution_count": 43,
   "metadata": {},
   "outputs": [
    {
     "data": {
      "text/plain": [
       "process_uuid (generic function with 1 method)"
      ]
     },
     "execution_count": 43,
     "metadata": {},
     "output_type": "execute_result"
    }
   ],
   "source": [
    "function process_uuid(text::String)\n",
    "    dims = split(text, ' ')\n",
    "    uuid = UUID(dims[3])\n",
    "    return(uuid)\n",
    "end"
   ]
  },
  {
   "cell_type": "code",
   "execution_count": 44,
   "metadata": {},
   "outputs": [
    {
     "data": {
      "text/plain": [
       "35-element Vector{Any}:\n",
       " Cell(InputCell(UUID(\"611c28fa-9542-11ea-1751-fbdedcfb7690\"), [\"html\\\"\\\"\\\"<p>To edit any code, just click on it. When you're done programming, press the <img src=\\\"https://cdn.jsdelivr.net/gh/ionic-team/ionicons@5.5.1/src/svg/caret-forward-circle-outline.svg\\\" style=\\\"width: 1em; height: 1em; margin-bottom: -.2em;\\\"> in the lower-right corner of a cell to run the code. You can also use `Shift+Enter` if you are in a hurry.</p>\\\"\\\"\\\"\", \"\"]), OutputCell(UUID(\"50a48338-5ccd-11ec-0742-a12015b1b435\"), \"\"), false, :JL, UUID(\"50a48342-5ccd-11ec-00b2-21deb9111918\"))\n",
       " Cell(InputCell(UUID(\"6c8e2108-9550-11ea-014d-235770ed4771\"), [\"md\\\"## Saving cats and notebooks\", \"Alright, we have a neighborhood full of well-fed cats. But oh no, here comes...\\\"\", \"\"]), OutputCell(UUID(\"50a48356-5ccd-11ec-205f-1b4c1f7e9e93\"), \"\"), false, :JL, UUID(\"50a48356-5ccd-11ec-0a73-e3a3b550a28c\"))\n",
       " Cell(InputCell(UUID(\"fb4e471c-9551-11ea-1ab5-41bbd5de76b8\"), [\"md\\\"\\\"\\\"\", \"Speaking of saving, this notebook is autosaved whenever you change something. The default location for new notebooks is \\$(joinpath(first(DEPOT_PATH), \\\"pluto_notebooks\\\")), you can find it using your file explorer. To change the name or the directory of a notebook, scroll to the top - you enter the notebook's path next to the Pluto logo.\", \"\\\"\\\"\\\"\", \"\"]), OutputCell(UUID(\"50a48360-5ccd-11ec-3bcf-3f85d7b9bf61\"), \"\"), false, :JL, UUID(\"50a48360-5ccd-11ec-2798-8567fed4a83c\"))\n",
       " Cell(InputCell(UUID(\"1deaaf36-9554-11ea-3dae-85851f73dbc6\"), [\"md\\\"**Have fun using Pluto!**\", \"\", \"_~ Fons van der Plas & Nicholas Bochenski_\\\"\", \"\"]), OutputCell(UUID(\"50a4836a-5ccd-11ec-2149-531a8b66afde\"), \"\"), false, :JL, UUID(\"50a48374-5ccd-11ec-301e-87e7444913df\"))\n",
       " Cell(InputCell(UUID(\"270ac49e-9549-11ea-3ffd-71ddaee9f134\"), [\"md\\\"But what does `confusing_function` do? If you ever need help, click on 📚 **Live docs** in the lower right, and then place your cursor on the code you need help with. \", \"\", \"If you don't see it, then your screen is too small! Maybe you need to zoom out?\\\"\", \"\"]), OutputCell(UUID(\"50a48374-5ccd-11ec-2a35-63d186eacc1c\"), \"\"), false, :JL, UUID(\"50a4837c-5ccd-11ec-21e8-053c9e1b12da\"))\n",
       " Cell(InputCell(UUID(\"0b094cea-9556-11ea-268e-0d270fd04d56\"), [\"md\\\"The power level is \\$power_level, but we should do more than just say it - let's equip our cats with \\$power_level emoji!\\\"\", \"\"]), OutputCell(UUID(\"50a4837c-5ccd-11ec-32d0-b71af8c0a275\"), \"\"), false, :JL, UUID(\"50a48388-5ccd-11ec-0387-ff0e483a730f\"))\n",
       " Cell(InputCell(UUID(\"4634c856-9553-11ea-008d-3539195970ea\"), [\"md\\\"## Final notes\\\"\", \"\"]), OutputCell(UUID(\"50a48388-5ccd-11ec-1fa2-7b4bfb43f245\"), \"\"), false, :JL, UUID(\"50a48392-5ccd-11ec-19c5-258f78d9875d\"))\n",
       " Cell(InputCell(UUID(\"f112b662-9543-11ea-3dcb-2906a99b2188\"), [\"html\\\"\\\"\\\"<p>A cell is a container for code & output. To add one, click on the <img src=\\\"https://cdn.jsdelivr.net/gh/ionic-team/ionicons@5.5.1/src/svg/add-outline.svg\\\" style=\\\"width: 1em; height: 1em; margin-bottom: -.2em;\\\"> above or below another cell. You can do it wherever you like. After you're done writing code in your cell, remember to run it!</p>\\\"\\\"\\\"\", \"\"]), OutputCell(UUID(\"50a48392-5ccd-11ec-031f-694c1e47c122\"), \"\"), false, :JL, UUID(\"50a4839c-5ccd-11ec-1898-c10451f5efe8\"))\n",
       " Cell(InputCell(UUID(\"9e89fc9a-9550-11ea-14b4-7f0e96225ec0\"), [\"scary_dog = \\\"Piesio\\\"\", \"\"]), OutputCell(UUID(\"50a4839c-5ccd-11ec-184f-0b11bd377fac\"), \"\"), false, :JL, UUID(\"50a4839c-5ccd-11ec-01e1-ff61be42c9c2\"))\n",
       " Cell(InputCell(UUID(\"d736e096-9553-11ea-3ba5-277afde1afe7\"), [\"md\\\"Also, if you were wondering where `confusing_function` came from, here you go! Remember that you, too, can place code wherever you like.\\\"\", \"\"]), OutputCell(UUID(\"50a483b0-5ccd-11ec-3e18-ad030c4a6fcf\"), \"\"), false, :JL, UUID(\"50a483b0-5ccd-11ec-1166-3d943efd05b7\"))\n",
       " Cell(InputCell(UUID(\"b129ba7c-953a-11ea-3379-17adae34924c\"), [\"md\\\"# _Welcome to Pluto!_\", \"\", \"Pluto is a programming environment for _Julia_, designed to be **interactive** and **helpful**. \", \"\", \"In this introduction, we will go through the basics of using Pluto. To make it interesting, this notebook does something special: it **changes while you work on it**. Computer magic ✨\\\"\", \"\"]), OutputCell(UUID(\"50a483ba-5ccd-11ec-0c55-fd8667eacf9a\"), \"\"), false, :JL, UUID(\"50a483ba-5ccd-11ec-1c73-4b0f9ec067c5\"))\n",
       " Cell(InputCell(UUID(\"36cd006a-9551-11ea-3c0c-df8b7f2843c1\"), [\"HTML(\\\"\\\"\\\"<p>To delete a cell like the one defining \\$scary_dog, click on the <img src=\\\"https://cdn.jsdelivr.net/gh/ionic-team/ionicons@5.5.1/src/svg/close-circle-outline.svg\\\" style=\\\"width: 1em; height: 1em; margin-bottom: -.2em;\\\"> on the right of its code.</p>\\\"\\\"\\\")\", \"\"]), OutputCell(UUID(\"50a483c4-5ccd-11ec-02c6-b568ebc773f4\"), \"\"), false, :JL, UUID(\"50a483c4-5ccd-11ec-26e3-059aa248b245\"))\n",
       " Cell(InputCell(UUID(\"3150bf1a-9555-11ea-306f-0fd4d9229a51\"), [\"md\\\"Remember learning HTML in junior high? Now you can use it for something! Pluto lets you `@bind` variables to HTML elements. As always, every time you change something, Pluto knows what to update!\\\"\", \"\"]), OutputCell(UUID(\"50a483ce-5ccd-11ec-3e3a-cb01f4475e85\"), \"\"), false, :JL, UUID(\"50a483ce-5ccd-11ec-37e8-fb7e5014aa01\"))\n",
       " ⋮\n",
       " Cell(InputCell(UUID(\"1908f9f2-9557-11ea-2abd-dd52f8d776f4\"), [\"power_emoji = \\\"⚡\\\"\", \"power = repeat(power_emoji, power_level)\", \"\"]), OutputCell(UUID(\"50a48432-5ccd-11ec-3690-ef8bae868cb5\"), \"\"), false, :JL, UUID(\"50a48432-5ccd-11ec-0261-17919c68914e\"))\n",
       " Cell(InputCell(UUID(\"e11e1660-9549-11ea-22f6-8bb53dc045fe\"), [\"md\\\"Now we know to prepare \\$(length(consumption)) cans. Let's stock up!\\\"\", \"\"]), OutputCell(UUID(\"50a4843c-5ccd-11ec-114e-99bc84aa0793\"), \"\"), false, :JL, UUID(\"50a4843c-5ccd-11ec-2181-27ac335039f2\"))\n",
       " Cell(InputCell(UUID(\"f27f90c2-954f-11ea-3f93-17acb2ce4280\"), [\"md\\\"We have \\$(length(cans_in_stock)) cans of cat food, and our cats need \\$(length(consumption)). Try adding another cat to the neighborhood to see what changes!\\\"\", \"\"]), OutputCell(UUID(\"50a48446-5ccd-11ec-0a41-75b36af0929d\"), \"\"), false, :JL, UUID(\"50a48446-5ccd-11ec-2dea-15be90af5a4d\"))\n",
       " Cell(InputCell(UUID(\"aeb3a6bc-9540-11ea-0b8f-6d37412bfe68\"), [\"if cat == \\\"Ks*;lj\\\"\", \"\\tmd\\\"Oh no! Someone messed with my pretty introduction. Change the code above to give our cat a proper name!\\\"\", \"else\", \"\\tHTML(\\\"\\\"\\\"<p><b>Well done, your cat is called \\$cat now.</b> This text gets updated every time you change the name. To see how the magic works, click on the <img src=\\\"https://cdn.jsdelivr.net/gh/ionic-team/ionicons@5.5.1/src/svg/eye-outline.svg\\\" style=\\\"width: 1em; height: 1em; margin-bottom: -.2em;\\\"> to the left of this text.</p>\\\"\\\"\\\")\", \"end\", \"\"]), OutputCell(UUID(\"50a48452-5ccd-11ec-0fd9-b928cea071f6\"), \"\"), false, :JL, UUID(\"50a48452-5ccd-11ec-151c-d7a375872056\"))\n",
       " Cell(InputCell(UUID(\"745a4584-954a-11ea-028e-59011f268ec6\"), [\"cans_in_stock = \\\"🥫🥫🥫🥫\\\"\", \"\"]), OutputCell(UUID(\"50a4845a-5ccd-11ec-036b-7181ba323069\"), \"\"), false, :JL, UUID(\"50a4845a-5ccd-11ec-3372-edf2da99a684\"))\n",
       " Cell(InputCell(UUID(\"eac62fea-954e-11ea-2768-39ce6f4059ab\"), [\"# cans_in_stock = \\\"🥫🥫🥫🥫🥫\\\"\", \"\"]), OutputCell(UUID(\"50a48464-5ccd-11ec-18b4-096c00bf61f5\"), \"\"), false, :JL, UUID(\"50a48464-5ccd-11ec-3a61-d73cd70f6156\"))\n",
       " Cell(InputCell(UUID(\"4d88b926-9543-11ea-293a-1379b1b5ae64\"), [\"md\\\"## Cats\", \"Let's say you're like my grandma, and you have a lot of cats. Our story will be about them.\\\"\", \"\"]), OutputCell(UUID(\"50a4846e-5ccd-11ec-2ad4-eb8a0b16252f\"), \"\"), false, :JL, UUID(\"50a4846e-5ccd-11ec-2dab-436391a47c9f\"))\n",
       " Cell(InputCell(UUID(\"3653b1ac-9546-11ea-2a44-ddd3054636fe\"), [\"neighbors = [cat, friend, \\\"Smerfetka\\\", \\\"Latte\\\"]\", \"\"]), OutputCell(UUID(\"50a48478-5ccd-11ec-18f0-07ef4b2e6582\"), \"\"), false, :JL, UUID(\"50a48478-5ccd-11ec-1974-950a693ab3d6\"))\n",
       " Cell(InputCell(UUID(\"bdd5d268-9550-11ea-1046-31efedc36872\"), [\"if @isdefined scary_dog\", \"\\tmd\\\" \\$scary_dog is terrorizing the neighborhood! We must do something about it!\\\"\", \"else\", \"\\tmd\\\"You saved the neighborhood! Referencing `scary_dog` leads to an `UndefVarError`, as if it never even existed.\\\"\", \"end\", \"\"]), OutputCell(UUID(\"50a48480-5ccd-11ec-1ada-65f181c27d11\"), \"\"), false, :JL, UUID(\"50a48480-5ccd-11ec-105d-efe8b1dfdf2a\"))\n",
       " Cell(InputCell(UUID(\"9d3af596-9554-11ea-21bd-bf427c91c424\"), [\"md\\\"## ⚡ Pluto power ⚡\", \"Oof, that dog situation was intense. Let's give our cats superpowers to make sure it never happens again!\\\"\", \"\"]), OutputCell(UUID(\"50a4848c-5ccd-11ec-13dd-cf390d6dadc7\"), \"\"), false, :JL, UUID(\"50a4848c-5ccd-11ec-0fbf-a77f8c628165\"))\n",
       " Cell(InputCell(UUID(\"784b1774-9557-11ea-315e-d1ea277ce0fd\"), [\"if !@isdefined power\", \"\\tmd\\\"Uh oh! Pluto doesn't support multiple expressions per cell. This is a conscious choice - this restriction helps you write less buggy code once you get used to it. To fix the code, you can either split the above cell, or wrap it in a `begin ... end` block. Both work.\\\"\", \"else\", \"\\tmd\\\"**Well done!** Your cats have powers now.\\\"\", \"end\", \"\"]), OutputCell(UUID(\"50a48496-5ccd-11ec-0570-5b0b421bf1ac\"), \"\"), false, :JL, UUID(\"50a48496-5ccd-11ec-1725-5bb0fa22d1aa\"))\n",
       " Cell(InputCell(UUID(\"5edadcd2-9554-11ea-1714-b5b7692c4797\"), [\"html\\\"\\\"\\\"<p>We're almost done! It's time to share your amazing story. Scroll to the top of the notebook, and click on <img src=\\\"https://cdn.jsdelivr.net/gh/ionic-team/ionicons@5.5.1/src/svg/shapes-outline.svg\\\" style=\\\"width: 1em; height: 1em; margin-bottom: -.2em;\\\"> to see the export options - or you can always share this notebook's save file. (The file is pure Julia, by the way, and it's runnable! You'll learn more about this in the advanced introduction.)</p>\\\"\\\"\\\"\", \"\"]), OutputCell(UUID(\"50a484a0-5ccd-11ec-3130-2d2e8f07e867\"), \"\"), false, :JL, UUID(\"50a484a0-5ccd-11ec-1b91-03f2b23a0707\"))"
      ]
     },
     "execution_count": 44,
     "metadata": {},
     "output_type": "execute_result"
    }
   ],
   "source": [
    "read_plto(\"weird.jl\")"
   ]
  },
  {
   "cell_type": "code",
   "execution_count": null,
   "metadata": {},
   "outputs": [],
   "source": []
  },
  {
   "cell_type": "code",
   "execution_count": null,
   "metadata": {},
   "outputs": [],
   "source": []
  }
 ],
 "metadata": {
  "kernelspec": {
   "display_name": "Julia 1.6.3",
   "language": "julia",
   "name": "julia-1.6"
  },
  "language_info": {
   "file_extension": ".jl",
   "mimetype": "application/julia",
   "name": "julia",
   "version": "1.6.3"
  }
 },
 "nbformat": 4,
 "nbformat_minor": 4
}
