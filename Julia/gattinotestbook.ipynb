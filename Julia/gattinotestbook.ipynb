{
 "cells": [
  {
   "cell_type": "code",
   "execution_count": 1,
   "id": "f52bfb3c",
   "metadata": {},
   "outputs": [
    {
     "name": "stderr",
     "output_type": "stream",
     "text": [
      "\u001b[32m\u001b[1m   Resolving\u001b[22m\u001b[39m package versions...\n",
      "\u001b[32m\u001b[1m  No Changes\u001b[22m\u001b[39m to `~/.julia/environments/v1.9/Project.toml`\n",
      "\u001b[32m\u001b[1m  No Changes\u001b[22m\u001b[39m to `~/.julia/environments/v1.9/Manifest.toml`\n"
     ]
    }
   ],
   "source": [
    "using Pkg; Pkg.develop(path = \"./Gattino.jl\")"
   ]
  },
  {
   "cell_type": "code",
   "execution_count": 2,
   "id": "0d7a91ce",
   "metadata": {},
   "outputs": [],
   "source": [
    "using Revise"
   ]
  },
  {
   "cell_type": "code",
   "execution_count": 3,
   "id": "eb1ebf73",
   "metadata": {},
   "outputs": [
    {
     "name": "stderr",
     "output_type": "stream",
     "text": [
      "\u001b[36m\u001b[1m[ \u001b[22m\u001b[39m\u001b[36m\u001b[1mInfo: \u001b[22m\u001b[39mPrecompiling Gattino [f0fb3ee5-f608-41f3-a42d-dac276373afc]\n"
     ]
    }
   ],
   "source": [
    "using Gattino"
   ]
  },
  {
   "cell_type": "code",
   "execution_count": 4,
   "id": "17a4cc15",
   "metadata": {},
   "outputs": [
    {
     "data": {
      "text/html": [
       "\"<svg id=window height=500 width=500><g id=axes height=500 width=500><line id=A2UsLK7Y y1=500 x2=500 style='fill: none;stroke: black;stroke-width: 4;' y2=500 x1=0></line><line id=Pvu7pohj y1=0 x2=0 style='fill: none;stroke: black;stroke-width: 4;' y2=500 x1=0></line></g><g id=grid height=500 width=500><line id=Bg1gZrS2 y1=0 x2=1 style='fill: none;stroke: lightblue;stroke-width: 1;opacity: 80%;' y2=500 x1=1></line><line id=CBFYtoR5 y1=1 x2=500 style='fill: none;stroke: lightblue;stroke-width: 1;opacity: 80%;' y2=1 x1=0></line><line id=FvSUpSV8 y1=0 x2=126 style='fill: none;stroke: lightblue;stroke-width: 1;opacity: 80%;' y2=500 x1=126></line><line id=CYRosrVF y1=126 x2=500 style='fill: none;stroke: lightblue;stroke-width: 1;opacity: 80%;' y2=126 x1=0></line><line id=pbu6t87i y1=0 x2=251 style='fill: none;stroke: lightblue;stroke-width: 1;opacity: 80%;' y2=500 x1=251></line><line id=iwRW9yOh y1=251 x2=500 style='fill: none;stroke: lightblue;stroke-width: 1;opacity: 80%;' y2=251 x1=0></line><line id=ZRIZzBHj y1=0 x2=376 style='fill: none;stroke: lightblue;stroke-width: 1;opacity: 80%;' y2=500 x1=376></line><line id=AaMRog66 y1=376 x2=500 style='fill: none;stroke: lightblue;stroke-width: 1;opacity: 80%;' y2=376 x1=0></line></g><g id=bars height=500 width=500><rect id=TP556zdN width=125 y=45 height=455 style='fill: none;stroke: black;stroke-width: 4;fill: lightblue;' x=0></rect><rect id=9Jwpx6Ex width=125 y=364 height=136 style='fill: none;stroke: black;stroke-width: 4;fill: lightblue;' x=125></rect><rect id=xPt0lAJR width=125 y=91 height=409 style='fill: none;stroke: black;stroke-width: 4;fill: lightblue;' x=250></rect><rect id=8ywsVbfa width=125 y=0 height=500 style='fill: none;stroke: black;stroke-width: 4;fill: lightblue;' x=375></rect></g><g id=labels height=500 width=500><text id=5wnPWtXn y=490 style='fill: black;font-size: 10pt;fill: white;font-size: 16pt;' x=63>emmy</text><text id=RsOoL79d y=-61 style='fill: black;font-size: 10pt;fill: white;font-size: 16pt;' x=0>11</text><text id=8XSkNZ8P y=490 style='fill: black;font-size: 10pt;fill: white;font-size: 16pt;' x=188>bobby</text><text id=6DAti6pE y=64 style='fill: black;font-size: 10pt;fill: white;font-size: 16pt;' x=0>8.0</text><text id=hCp3mcxP y=490 style='fill: black;font-size: 10pt;fill: white;font-size: 16pt;' x=313>hank</text><text id=LLJrlKOt y=189 style='fill: black;font-size: 10pt;fill: white;font-size: 16pt;' x=0>5.0</text><text id=m1AghPvi y=490 style='fill: black;font-size: 10pt;fill: white;font-size: 16pt;' x=438>henry</text><text id=n4DCllE3 y=314 style='fill: black;font-size: 10pt;fill: white;font-size: 16pt;' x=0>2.0</text></g></svg>\""
      ]
     },
     "metadata": {},
     "output_type": "display_data"
    },
    {
     "data": {
      "text/html": [
       "\"<svg id=window height=500 width=500><g id=axes height=500 width=500><line id=A2UsLK7Y y1=500 x2=500 style='fill: none;stroke: black;stroke-width: 4;' y2=500 x1=0></line><line id=Pvu7pohj y1=0 x2=0 style='fill: none;stroke: black;stroke-width: 4;' y2=500 x1=0></line></g><g id=grid height=500 width=500><line id=Bg1gZrS2 y1=0 x2=1 style='fill: none;stroke: lightblue;stroke-width: 1;opacity: 80%;' y2=500 x1=1></line><line id=CBFYtoR5 y1=1 x2=500 style='fill: none;stroke: lightblue;stroke-width: 1;opacity: 80%;' y2=1 x1=0></line><line id=FvSUpSV8 y1=0 x2=126 style='fill: none;stroke: lightblue;stroke-width: 1;opacity: 80%;' y2=500 x1=126></line><line id=CYRosrVF y1=126 x2=500 style='fill: none;stroke: lightblue;stroke-width: 1;opacity: 80%;' y2=126 x1=0></line><line id=pbu6t87i y1=0 x2=251 style='fill: none;stroke: lightblue;stroke-width: 1;opacity: 80%;' y2=500 x1=251></line><line id=iwRW9yOh y1=251 x2=500 style='fill: none;stroke: lightblue;stroke-width: 1;opacity: 80%;' y2=251 x1=0></line><line id=ZRIZzBHj y1=0 x2=376 style='fill: none;stroke: lightblue;stroke-width: 1;opacity: 80%;' y2=500 x1=376></line><line id=AaMRog66 y1=376 x2=500 style='fill: none;stroke: lightblue;stroke-width: 1;opacity: 80%;' y2=376 x1=0></line></g><g id=bars height=500 width=500><rect id=TP556zdN width=125 y=45 height=455 style='fill: none;stroke: black;stroke-width: 4;fill: lightblue;' x=0></rect><rect id=9Jwpx6Ex width=125 y=364 height=136 style='fill: none;stroke: black;stroke-width: 4;fill: lightblue;' x=125></rect><rect id=xPt0lAJR width=125 y=91 height=409 style='fill: none;stroke: black;stroke-width: 4;fill: lightblue;' x=250></rect><rect id=8ywsVbfa width=125 y=0 height=500 style='fill: none;stroke: black;stroke-width: 4;fill: lightblue;' x=375></rect></g><g id=labels height=500 width=500><text id=5wnPWtXn y=490 style='fill: black;font-size: 10pt;fill: white;font-size: 16pt;' x=63>emmy</text><text id=RsOoL79d y=-61 style='fill: black;font-size: 10pt;fill: white;font-size: 16pt;' x=0>11</text><text id=8XSkNZ8P y=490 style='fill: black;font-size: 10pt;fill: white;font-size: 16pt;' x=188>bobby</text><text id=6DAti6pE y=64 style='fill: black;font-size: 10pt;fill: white;font-size: 16pt;' x=0>8.0</text><text id=hCp3mcxP y=490 style='fill: black;font-size: 10pt;fill: white;font-size: 16pt;' x=313>hank</text><text id=LLJrlKOt y=189 style='fill: black;font-size: 10pt;fill: white;font-size: 16pt;' x=0>5.0</text><text id=m1AghPvi y=490 style='fill: black;font-size: 10pt;fill: white;font-size: 16pt;' x=438>henry</text><text id=n4DCllE3 y=314 style='fill: black;font-size: 10pt;fill: white;font-size: 16pt;' x=0>2.0</text></g></svg>\""
      ],
      "text/plain": []
     },
     "execution_count": 4,
     "metadata": {},
     "output_type": "execute_result"
    }
   ],
   "source": [
    "myhist = Gattino.hist([\"emmy\", \"bobby\", \"hank\", \"henry\"], [10, 3, 9, 11])\n",
    "style!(myhist, \"bars\", \"fill\" => \"lightblue\")\n",
    "style!(myhist, \"labels\", \"fill\" => \"white\",\"font-size\" => 16pt)\n",
    "myhist"
   ]
  },
  {
   "cell_type": "code",
   "execution_count": null,
   "id": "86aa5eea",
   "metadata": {},
   "outputs": [],
   "source": []
  },
  {
   "cell_type": "code",
   "execution_count": 5,
   "id": "1eac6198",
   "metadata": {},
   "outputs": [
    {
     "data": {
      "text/html": [
       "\"<svg id=window height=500 width=500><text id=QueVL7C5 y=40 style='fill: black;font-size: 15pt;' x=175>testvis</text><g id=title height=500 width=500></g><g id=axislabels height=500 width=500></g><g id=axes height=375 width=375><line id=OsUzpiAl y1=435 x2=435 style='fill: none;stroke: black;stroke-width: 4;' y2=435 x1=60></line><line id=zdGVEkgx y1=60 x2=60 style='fill: none;stroke: black;stroke-width: 4;' y2=435 x1=60></line></g><g id=grid height=375 width=375><line id=12GbKQZJ y1=60 x2=61 style='fill: none;stroke: lightblue;stroke-width: 1;opacity: 80%;' y2=435 x1=61></line><line id=VeHJCauA y1=61 x2=435 style='fill: none;stroke: lightblue;stroke-width: 1;opacity: 80%;' y2=61 x1=60></line><line id=xb5jT1Sm y1=60 x2=186 style='fill: none;stroke: lightblue;stroke-width: 1;opacity: 80%;' y2=435 x1=186></line><line id=PJ795h14 y1=186 x2=435 style='fill: none;stroke: lightblue;stroke-width: 1;opacity: 80%;' y2=186 x1=60></line><line id=gMt9FCM4 y1=60 x2=311 style='fill: none;stroke: lightblue;stroke-width: 1;opacity: 80%;' y2=435 x1=311></line><line id=6jnau0Z7 y1=311 x2=435 style='fill: none;stroke: lightblue;stroke-width: 1;opacity: 80%;' y2=311 x1=60></line></g><g id=line height=375 width=375><polyline id=newline style='fill: none;stroke: black;stroke-width: 4;' points=185&#32;310,310&#32;185,435&#32;60,></polyline></g><g id=labels height=375 width=375><text id=RCeeNa2P y=425 style='fill: black;font-size: 10pt;' x=123>test</text><text id=FLpLrkOX y=-1 style='fill: black;font-size: 10pt;' x=60>3</text><text id=k42lK6Rv y=425 style='fill: black;font-size: 10pt;' x=248>test2</text><text id=cEv2YY90 y=124 style='fill: black;font-size: 10pt;' x=60>2.0</text><text id=Gz0gHUUx y=425 style='fill: black;font-size: 10pt;' x=373>test3</text><text id=w0W2xoIM y=249 style='fill: black;font-size: 10pt;' x=60>1.0</text></g></svg>\""
      ]
     },
     "metadata": {},
     "output_type": "display_data"
    },
    {
     "data": {
      "text/html": [
       "\"<svg id=window height=500 width=500><text id=QueVL7C5 y=40 style='fill: black;font-size: 15pt;' x=175>testvis</text><g id=title height=500 width=500></g><g id=axislabels height=500 width=500></g><g id=axes height=375 width=375><line id=OsUzpiAl y1=435 x2=435 style='fill: none;stroke: black;stroke-width: 4;' y2=435 x1=60></line><line id=zdGVEkgx y1=60 x2=60 style='fill: none;stroke: black;stroke-width: 4;' y2=435 x1=60></line></g><g id=grid height=375 width=375><line id=12GbKQZJ y1=60 x2=61 style='fill: none;stroke: lightblue;stroke-width: 1;opacity: 80%;' y2=435 x1=61></line><line id=VeHJCauA y1=61 x2=435 style='fill: none;stroke: lightblue;stroke-width: 1;opacity: 80%;' y2=61 x1=60></line><line id=xb5jT1Sm y1=60 x2=186 style='fill: none;stroke: lightblue;stroke-width: 1;opacity: 80%;' y2=435 x1=186></line><line id=PJ795h14 y1=186 x2=435 style='fill: none;stroke: lightblue;stroke-width: 1;opacity: 80%;' y2=186 x1=60></line><line id=gMt9FCM4 y1=60 x2=311 style='fill: none;stroke: lightblue;stroke-width: 1;opacity: 80%;' y2=435 x1=311></line><line id=6jnau0Z7 y1=311 x2=435 style='fill: none;stroke: lightblue;stroke-width: 1;opacity: 80%;' y2=311 x1=60></line></g><g id=line height=375 width=375><polyline id=newline style='fill: none;stroke: black;stroke-width: 4;' points=185&#32;310,310&#32;185,435&#32;60,></polyline></g><g id=labels height=375 width=375><text id=RCeeNa2P y=425 style='fill: black;font-size: 10pt;' x=123>test</text><text id=FLpLrkOX y=-1 style='fill: black;font-size: 10pt;' x=60>3</text><text id=k42lK6Rv y=425 style='fill: black;font-size: 10pt;' x=248>test2</text><text id=cEv2YY90 y=124 style='fill: black;font-size: 10pt;' x=60>2.0</text><text id=Gz0gHUUx y=425 style='fill: black;font-size: 10pt;' x=373>test3</text><text id=w0W2xoIM y=249 style='fill: black;font-size: 10pt;' x=60>1.0</text></g></svg>\""
      ],
      "text/plain": []
     },
     "execution_count": 5,
     "metadata": {},
     "output_type": "execute_result"
    }
   ],
   "source": [
    "Gattino.line([\"test\", \"test2\", \"test3\"], [1, 2, 3], title = \"testvis\")"
   ]
  },
  {
   "cell_type": "code",
   "execution_count": 6,
   "id": "93a15541",
   "metadata": {},
   "outputs": [
    {
     "data": {
      "text/plain": [
       "5-element Vector{Int64}:\n",
       "  5\n",
       " 10\n",
       "  3\n",
       " 11\n",
       " 14"
      ]
     },
     "execution_count": 6,
     "metadata": {},
     "output_type": "execute_result"
    }
   ],
   "source": [
    "x = [\"red\", \"green\", \"blue\", \"orange\", \"pink\"]\n",
    "y = [5, 10, 3, 11, 14]"
   ]
  },
  {
   "cell_type": "code",
   "execution_count": 13,
   "id": "fa0cdcb8",
   "metadata": {},
   "outputs": [
    {
     "data": {
      "text/html": [
       "\"<svg id=window height=500 width=500><g id=axes height=250 width=250><line id=9xQgxGCg y1=251 x2=251 style='fill: none;stroke: black;stroke-width: 4;' y2=251 x1=1></line><line id=6z3tlP9v y1=1 x2=1 style='fill: none;stroke: black;stroke-width: 4;' y2=251 x1=1></line></g><g id=grid height=250 width=250><line id=FHrk8t7J y1=1 x2=2 style='fill: none;stroke: lightblue;stroke-width: 1;opacity: 80%;' y2=251 x1=2></line><line id=PyulC4mG y1=2 x2=251 style='fill: none;stroke: lightblue;stroke-width: 1;opacity: 80%;' y2=2 x1=1></line><line id=aD1qVkdg y1=1 x2=64 style='fill: none;stroke: lightblue;stroke-width: 1;opacity: 80%;' y2=251 x1=64></line><line id=sB6jEIy4 y1=64 x2=251 style='fill: none;stroke: lightblue;stroke-width: 1;opacity: 80%;' y2=64 x1=1></line><line id=gYxcG7oj y1=1 x2=126 style='fill: none;stroke: lightblue;stroke-width: 1;opacity: 80%;' y2=251 x1=126></line><line id=e7QdGcsI y1=126 x2=251 style='fill: none;stroke: lightblue;stroke-width: 1;opacity: 80%;' y2=126 x1=1></line><line id=AirGkFSU y1=1 x2=188 style='fill: none;stroke: lightblue;stroke-width: 1;opacity: 80%;' y2=251 x1=188></line><line id=wBAAwXNT y1=188 x2=251 style='fill: none;stroke: lightblue;stroke-width: 1;opacity: 80%;' y2=188 x1=1></line><line id=7yMIbxx2 y1=1 x2=250 style='fill: none;stroke: lightblue;stroke-width: 1;opacity: 80%;' y2=251 x1=250></line><line id=ClG4ue6w y1=250 x2=251 style='fill: none;stroke: lightblue;stroke-width: 1;opacity: 80%;' y2=250 x1=1></line></g><g id=bars height=250 width=250><rect id=iDD4HZJM width=50 y=162 height=90 style='stroke-width: 0px;fill: red;' x=1></rect><rect id=hfGiOhTN width=50 y=72 height=180 style='stroke-width: 0px;fill: green;' x=51></rect><rect id=vNE25GYU width=50 y=197 height=55 style='stroke-width: 0px;fill: blue;' x=101></rect><rect id=ayIew6It width=50 y=55 height=197 style='stroke-width: 0px;fill: orange;' x=151></rect><rect id=ICRwNyxt width=50 y=1 height=251 style='stroke-width: 0px;fill: pink;' x=201></rect></g><g id=labels height=250 width=250><text id=cTnfUiRw y=241 style='fill: black;font-size: 10pt;' x=32>red</text><text id=60bYJSVm y=-29 style='fill: black;font-size: 10pt;' x=1>14</text><text id=npg0VAVO y=241 style='fill: black;font-size: 10pt;' x=94>green</text><text id=SV7RYcsC y=33 style='fill: black;font-size: 10pt;' x=1>10.0</text><text id=k9N75ZWK y=241 style='fill: black;font-size: 10pt;' x=156>blue</text><text id=a7EEe2Tc y=95 style='fill: black;font-size: 10pt;' x=1>6.0</text><text id=WwKWNeU9 y=241 style='fill: black;font-size: 10pt;' x=218>orange</text><text id=DuUUKg18 y=157 style='fill: black;font-size: 10pt;' x=1>2.0</text></g><g id=grid2 height=250 width=250><line id=NPtHWeUf y1=0 x2=251 style='stroke: pink;' y2=250 x1=251></line><line id=QQf7Tons y1=1 x2=500 style='stroke: pink;' y2=1 x1=250></line><line id=HopICScF y1=0 x2=313 style='stroke: pink;' y2=250 x1=313></line><line id=dqGA2WXm y1=63 x2=500 style='stroke: pink;' y2=63 x1=250></line><line id=IHvRGbBM y1=0 x2=375 style='stroke: pink;' y2=250 x1=375></line><line id=oT53KvDH y1=125 x2=500 style='stroke: pink;' y2=125 x1=250></line><line id=aJ9I3aJJ y1=0 x2=437 style='stroke: pink;' y2=250 x1=437></line><line id=IKu5UqlI y1=187 x2=500 style='stroke: pink;' y2=187 x1=250></line><line id=dSqHZuxN y1=0 x2=499 style='stroke: pink;' y2=250 x1=499></line><line id=cU3iLJ41 y1=249 x2=500 style='stroke: pink;' y2=249 x1=250></line></g><g id=line height=250 width=250><polyline id=newline style='fill: none;stroke: black;stroke-width: 4;' points=300&#32;161,350&#32;71,400&#32;196,450&#32;54,500&#32;0,></polyline></g><g id=meanline height=250 width=250></g><g id=labels height=250 width=250><text id=Ip9ijHKy y=240 style='fill: black;font-size: 10pt;' x=281>red</text><text id=tlm9wom8 y=-30 style='fill: black;font-size: 10pt;' x=250>14</text><text id=E3AlCT67 y=240 style='fill: black;font-size: 10pt;' x=343>green</text><text id=5g07EB2U y=32 style='fill: black;font-size: 10pt;' x=250>10.0</text><text id=e7ESBAcs y=240 style='fill: black;font-size: 10pt;' x=405>blue</text><text id=DC6DAXUN y=94 style='fill: black;font-size: 10pt;' x=250>6.0</text><text id=l0WxqZWH y=240 style='fill: black;font-size: 10pt;' x=467>orange</text><text id=KYOClQbP y=156 style='fill: black;font-size: 10pt;' x=250>2.0</text></g><g id=grid3 height=250 width=500><line id=mO51LdiT y1=250 x2=1 style='fill: none;stroke: lightblue;stroke-width: 1;opacity: 80%;' y2=500 x1=1></line><line id=7zqATmnH y1=251 x2=500 style='fill: none;stroke: lightblue;stroke-width: 1;opacity: 80%;' y2=251 x1=0></line><line id=x1RAFrQx y1=250 x2=126 style='fill: none;stroke: lightblue;stroke-width: 1;opacity: 80%;' y2=500 x1=126></line><line id=ohNE8uIW y1=313 x2=500 style='fill: none;stroke: lightblue;stroke-width: 1;opacity: 80%;' y2=313 x1=0></line><line id=Gy6Esija y1=250 x2=251 style='fill: none;stroke: lightblue;stroke-width: 1;opacity: 80%;' y2=500 x1=251></line><line id=ZuRQqA3L y1=375 x2=500 style='fill: none;stroke: lightblue;stroke-width: 1;opacity: 80%;' y2=375 x1=0></line><line id=ynT9fWjw y1=250 x2=376 style='fill: none;stroke: lightblue;stroke-width: 1;opacity: 80%;' y2=500 x1=376></line><line id=ikAeKcLh y1=437 x2=500 style='fill: none;stroke: lightblue;stroke-width: 1;opacity: 80%;' y2=437 x1=0></line></g><g id=labels height=250 width=500><text id=CNRXxSVb y=490 style='fill: black;font-size: 10pt;' x=1>0</text><text id=hDCj2eHb y=251 style='fill: black;font-size: 10pt;' x=0>5</text><text id=N5CJSXVo y=490 style='fill: black;font-size: 10pt;' x=126>1.0</text><text id=VtnYWPPn y=313 style='fill: black;font-size: 10pt;' x=0>4.0</text><text id=piYPhCG6 y=490 style='fill: black;font-size: 10pt;' x=251>2.0</text><text id=JHYfBywL y=375 style='fill: black;font-size: 10pt;' x=0>3.0</text><text id=b24iBuwC y=490 style='fill: black;font-size: 10pt;' x=376>3.0</text><text id=deMl5cRM y=437 style='fill: black;font-size: 10pt;' x=0>2.0</text></g><g id=points height=250 width=500><circle id=wBK8TE2s cx=100.0 style='fill: blue;' r=5 cy=450.0></circle><circle id=7evjTq5A cx=200.0 style='fill: blue;' r=5 cy=400.0></circle><circle id=Bi6rnj1W cx=300.0 style='fill: blue;' r=5 cy=350.0></circle><circle id=uXCBFUyr cx=400.0 style='fill: blue;' r=5 cy=300.0></circle><circle id=9jZRKUkY cx=500.0 style='fill: blue;' r=5 cy=250.0></circle></g></svg>\""
      ]
     },
     "metadata": {},
     "output_type": "display_data"
    },
    {
     "data": {
      "text/html": [
       "\"<svg id=window height=500 width=500><g id=axes height=250 width=250><line id=9xQgxGCg y1=251 x2=251 style='fill: none;stroke: black;stroke-width: 4;' y2=251 x1=1></line><line id=6z3tlP9v y1=1 x2=1 style='fill: none;stroke: black;stroke-width: 4;' y2=251 x1=1></line></g><g id=grid height=250 width=250><line id=FHrk8t7J y1=1 x2=2 style='fill: none;stroke: lightblue;stroke-width: 1;opacity: 80%;' y2=251 x1=2></line><line id=PyulC4mG y1=2 x2=251 style='fill: none;stroke: lightblue;stroke-width: 1;opacity: 80%;' y2=2 x1=1></line><line id=aD1qVkdg y1=1 x2=64 style='fill: none;stroke: lightblue;stroke-width: 1;opacity: 80%;' y2=251 x1=64></line><line id=sB6jEIy4 y1=64 x2=251 style='fill: none;stroke: lightblue;stroke-width: 1;opacity: 80%;' y2=64 x1=1></line><line id=gYxcG7oj y1=1 x2=126 style='fill: none;stroke: lightblue;stroke-width: 1;opacity: 80%;' y2=251 x1=126></line><line id=e7QdGcsI y1=126 x2=251 style='fill: none;stroke: lightblue;stroke-width: 1;opacity: 80%;' y2=126 x1=1></line><line id=AirGkFSU y1=1 x2=188 style='fill: none;stroke: lightblue;stroke-width: 1;opacity: 80%;' y2=251 x1=188></line><line id=wBAAwXNT y1=188 x2=251 style='fill: none;stroke: lightblue;stroke-width: 1;opacity: 80%;' y2=188 x1=1></line><line id=7yMIbxx2 y1=1 x2=250 style='fill: none;stroke: lightblue;stroke-width: 1;opacity: 80%;' y2=251 x1=250></line><line id=ClG4ue6w y1=250 x2=251 style='fill: none;stroke: lightblue;stroke-width: 1;opacity: 80%;' y2=250 x1=1></line></g><g id=bars height=250 width=250><rect id=iDD4HZJM width=50 y=162 height=90 style='stroke-width: 0px;fill: red;' x=1></rect><rect id=hfGiOhTN width=50 y=72 height=180 style='stroke-width: 0px;fill: green;' x=51></rect><rect id=vNE25GYU width=50 y=197 height=55 style='stroke-width: 0px;fill: blue;' x=101></rect><rect id=ayIew6It width=50 y=55 height=197 style='stroke-width: 0px;fill: orange;' x=151></rect><rect id=ICRwNyxt width=50 y=1 height=251 style='stroke-width: 0px;fill: pink;' x=201></rect></g><g id=labels height=250 width=250><text id=cTnfUiRw y=241 style='fill: black;font-size: 10pt;' x=32>red</text><text id=60bYJSVm y=-29 style='fill: black;font-size: 10pt;' x=1>14</text><text id=npg0VAVO y=241 style='fill: black;font-size: 10pt;' x=94>green</text><text id=SV7RYcsC y=33 style='fill: black;font-size: 10pt;' x=1>10.0</text><text id=k9N75ZWK y=241 style='fill: black;font-size: 10pt;' x=156>blue</text><text id=a7EEe2Tc y=95 style='fill: black;font-size: 10pt;' x=1>6.0</text><text id=WwKWNeU9 y=241 style='fill: black;font-size: 10pt;' x=218>orange</text><text id=DuUUKg18 y=157 style='fill: black;font-size: 10pt;' x=1>2.0</text></g><g id=grid2 height=250 width=250><line id=NPtHWeUf y1=0 x2=251 style='stroke: pink;' y2=250 x1=251></line><line id=QQf7Tons y1=1 x2=500 style='stroke: pink;' y2=1 x1=250></line><line id=HopICScF y1=0 x2=313 style='stroke: pink;' y2=250 x1=313></line><line id=dqGA2WXm y1=63 x2=500 style='stroke: pink;' y2=63 x1=250></line><line id=IHvRGbBM y1=0 x2=375 style='stroke: pink;' y2=250 x1=375></line><line id=oT53KvDH y1=125 x2=500 style='stroke: pink;' y2=125 x1=250></line><line id=aJ9I3aJJ y1=0 x2=437 style='stroke: pink;' y2=250 x1=437></line><line id=IKu5UqlI y1=187 x2=500 style='stroke: pink;' y2=187 x1=250></line><line id=dSqHZuxN y1=0 x2=499 style='stroke: pink;' y2=250 x1=499></line><line id=cU3iLJ41 y1=249 x2=500 style='stroke: pink;' y2=249 x1=250></line></g><g id=line height=250 width=250><polyline id=newline style='fill: none;stroke: black;stroke-width: 4;' points=300&#32;161,350&#32;71,400&#32;196,450&#32;54,500&#32;0,></polyline></g><g id=meanline height=250 width=250></g><g id=labels height=250 width=250><text id=Ip9ijHKy y=240 style='fill: black;font-size: 10pt;' x=281>red</text><text id=tlm9wom8 y=-30 style='fill: black;font-size: 10pt;' x=250>14</text><text id=E3AlCT67 y=240 style='fill: black;font-size: 10pt;' x=343>green</text><text id=5g07EB2U y=32 style='fill: black;font-size: 10pt;' x=250>10.0</text><text id=e7ESBAcs y=240 style='fill: black;font-size: 10pt;' x=405>blue</text><text id=DC6DAXUN y=94 style='fill: black;font-size: 10pt;' x=250>6.0</text><text id=l0WxqZWH y=240 style='fill: black;font-size: 10pt;' x=467>orange</text><text id=KYOClQbP y=156 style='fill: black;font-size: 10pt;' x=250>2.0</text></g><g id=grid3 height=250 width=500><line id=mO51LdiT y1=250 x2=1 style='fill: none;stroke: lightblue;stroke-width: 1;opacity: 80%;' y2=500 x1=1></line><line id=7zqATmnH y1=251 x2=500 style='fill: none;stroke: lightblue;stroke-width: 1;opacity: 80%;' y2=251 x1=0></line><line id=x1RAFrQx y1=250 x2=126 style='fill: none;stroke: lightblue;stroke-width: 1;opacity: 80%;' y2=500 x1=126></line><line id=ohNE8uIW y1=313 x2=500 style='fill: none;stroke: lightblue;stroke-width: 1;opacity: 80%;' y2=313 x1=0></line><line id=Gy6Esija y1=250 x2=251 style='fill: none;stroke: lightblue;stroke-width: 1;opacity: 80%;' y2=500 x1=251></line><line id=ZuRQqA3L y1=375 x2=500 style='fill: none;stroke: lightblue;stroke-width: 1;opacity: 80%;' y2=375 x1=0></line><line id=ynT9fWjw y1=250 x2=376 style='fill: none;stroke: lightblue;stroke-width: 1;opacity: 80%;' y2=500 x1=376></line><line id=ikAeKcLh y1=437 x2=500 style='fill: none;stroke: lightblue;stroke-width: 1;opacity: 80%;' y2=437 x1=0></line></g><g id=labels height=250 width=500><text id=CNRXxSVb y=490 style='fill: black;font-size: 10pt;' x=1>0</text><text id=hDCj2eHb y=251 style='fill: black;font-size: 10pt;' x=0>5</text><text id=N5CJSXVo y=490 style='fill: black;font-size: 10pt;' x=126>1.0</text><text id=VtnYWPPn y=313 style='fill: black;font-size: 10pt;' x=0>4.0</text><text id=piYPhCG6 y=490 style='fill: black;font-size: 10pt;' x=251>2.0</text><text id=JHYfBywL y=375 style='fill: black;font-size: 10pt;' x=0>3.0</text><text id=b24iBuwC y=490 style='fill: black;font-size: 10pt;' x=376>3.0</text><text id=deMl5cRM y=437 style='fill: black;font-size: 10pt;' x=0>2.0</text></g><g id=points height=250 width=500><circle id=wBK8TE2s cx=100.0 style='fill: blue;' r=5 cy=450.0></circle><circle id=7evjTq5A cx=200.0 style='fill: blue;' r=5 cy=400.0></circle><circle id=Bi6rnj1W cx=300.0 style='fill: blue;' r=5 cy=350.0></circle><circle id=uXCBFUyr cx=400.0 style='fill: blue;' r=5 cy=300.0></circle><circle id=9jZRKUkY cx=500.0 style='fill: blue;' r=5 cy=250.0></circle></g></svg>\""
      ],
      "text/plain": []
     },
     "execution_count": 13,
     "metadata": {},
     "output_type": "execute_result"
    }
   ],
   "source": [
    "mycon = context(500, 500) do con::Context\n",
    "    group(con, 250, 250) do firstvis::Group\n",
    "        group!(firstvis, \"axes\") do g::Group\n",
    "            Gattino.axes!(g)\n",
    "        end\n",
    "        group!(firstvis, \"grid\") do g::Group\n",
    "            Gattino.grid!(g, 4)\n",
    "        end\n",
    "        group!(firstvis, \"bars\") do g::Group\n",
    "            Gattino.bars!(g, x, y, \"stroke-width\" => 0px)\n",
    "            [style!(comp, \"fill\" => color) for (comp, color) in zip(g.window[:children], x)]\n",
    "        end\n",
    "        group!(firstvis, \"labels\") do g::Group\n",
    "            Gattino.gridlabels!(g, x, y, 4)\n",
    "        end\n",
    "    end\n",
    "    group(con, 250, 250, 250 => 0) do secondvis::Group\n",
    "        group!(secondvis, \"grid2\") do g::Group\n",
    "            Gattino.grid!(g, 4, \"stroke\" => \"pink\")\n",
    "        end\n",
    "        group!(secondvis, \"line\") do g::Group\n",
    "            Gattino.line!(g, x, y)\n",
    "        end\n",
    "        group!(secondvis, \"meanline\") do g::Group\n",
    "            \n",
    "        end\n",
    "        group!(secondvis, \"labels\") do g::Group\n",
    "            Gattino.gridlabels!(g, x, y, 4)\n",
    "        end\n",
    "    end\n",
    "    group(con, 500, 250, 0 => 250) do bottomvis::Group\n",
    "        group!(bottomvis, \"grid3\") do g::Group\n",
    "           Gattino.grid!(g, 4)\n",
    "        end\n",
    "\n",
    "        group!(bottomvis, \"labels\") do g::Group\n",
    "            Gattino.gridlabels!(g, [1, 2, 3, 4, 5], [1, 2, 3, 4, 5])\n",
    "        end\n",
    "        group!(bottomvis, \"points\") do g::Group\n",
    "           Gattino.points!(g, [1, 2, 3, 4, 5], [1, 2, 3, 4, 5], \"fill\" => \"blue\") \n",
    "        end\n",
    "    end\n",
    "end"
   ]
  },
  {
   "cell_type": "code",
   "execution_count": 8,
   "id": "daea0919",
   "metadata": {},
   "outputs": [
    {
     "data": {
      "text/plain": [
       "11-element Vector{Pair{Int64, String}}:\n",
       "  1 => \"axes\"\n",
       "  2 => \"grid\"\n",
       "  3 => \"bars\"\n",
       "  4 => \"labels\"\n",
       "  5 => \"grid2\"\n",
       "  6 => \"line\"\n",
       "  7 => \"meanline\"\n",
       "  8 => \"labels\"\n",
       "  9 => \"grid3\"\n",
       " 10 => \"labels\"\n",
       " 11 => \"points\""
      ]
     },
     "execution_count": 8,
     "metadata": {},
     "output_type": "execute_result"
    }
   ],
   "source": [
    "layers(mycon)"
   ]
  },
  {
   "cell_type": "code",
   "execution_count": 9,
   "id": "6276d032",
   "metadata": {},
   "outputs": [
    {
     "data": {
      "text/plain": [
       "Dict{Any, Any} with 5 entries:\n",
       "  :children => Servable[]\n",
       "  :cx       => \"18.51851851851852\"\n",
       "  \"style\"   => \"'fill: blue;'\"\n",
       "  :r        => \"5\"\n",
       "  :cy       => \"291.66666666666663\""
      ]
     },
     "execution_count": 9,
     "metadata": {},
     "output_type": "execute_result"
    }
   ],
   "source": [
    "mycon[\"points\"][:children][1].properties"
   ]
  },
  {
   "cell_type": "code",
   "execution_count": 10,
   "id": "bcaccb74",
   "metadata": {},
   "outputs": [
    {
     "ename": "LoadError",
     "evalue": "UndefVarError: `randstring` not defined",
     "output_type": "error",
     "traceback": [
      "UndefVarError: `randstring` not defined",
      "",
      "Stacktrace:",
      " [1] top-level scope",
      "   @ In[10]:1"
     ]
    }
   ],
   "source": [
    "        c = circle(randstring(), cx = string(18.5),\n",
    "                cy = -208, r = \"5\")"
   ]
  },
  {
   "cell_type": "code",
   "execution_count": 11,
   "id": "68c8e120",
   "metadata": {},
   "outputs": [],
   "source": [
    "Gattino.points!(mycon, [5, 10, 15], [5, 10, 15])"
   ]
  },
  {
   "cell_type": "code",
   "execution_count": 12,
   "id": "d0f6483b",
   "metadata": {},
   "outputs": [
    {
     "data": {
      "text/html": [
       "\"<svg id=window height=500 width=500><g id=axes height=250 width=250><line id=wHFC1Ubl y1=251 x2=251 style='fill: none;stroke: black;stroke-width: 4;' y2=251 x1=1></line><line id=sMY0fEff y1=1 x2=1 style='fill: none;stroke: black;stroke-width: 4;' y2=251 x1=1></line></g><g id=grid height=250 width=250><line id=IHplu6v5 y1=1 x2=2 style='fill: none;stroke: lightblue;stroke-width: 1;opacity: 80%;' y2=251 x1=2></line><line id=c5cOn8zn y1=2 x2=251 style='fill: none;stroke: lightblue;stroke-width: 1;opacity: 80%;' y2=2 x1=1></line><line id=PHnzG17p y1=1 x2=64 style='fill: none;stroke: lightblue;stroke-width: 1;opacity: 80%;' y2=251 x1=64></line><line id=kyAwXLlb y1=64 x2=251 style='fill: none;stroke: lightblue;stroke-width: 1;opacity: 80%;' y2=64 x1=1></line><line id=9eKQcwHh y1=1 x2=126 style='fill: none;stroke: lightblue;stroke-width: 1;opacity: 80%;' y2=251 x1=126></line><line id=DqcIBiaR y1=126 x2=251 style='fill: none;stroke: lightblue;stroke-width: 1;opacity: 80%;' y2=126 x1=1></line><line id=wAwb9nh3 y1=1 x2=188 style='fill: none;stroke: lightblue;stroke-width: 1;opacity: 80%;' y2=251 x1=188></line><line id=pNlQ8El1 y1=188 x2=251 style='fill: none;stroke: lightblue;stroke-width: 1;opacity: 80%;' y2=188 x1=1></line><line id=TJWjQ3rV y1=1 x2=250 style='fill: none;stroke: lightblue;stroke-width: 1;opacity: 80%;' y2=251 x1=250></line><line id=JFbxM4gn y1=250 x2=251 style='fill: none;stroke: lightblue;stroke-width: 1;opacity: 80%;' y2=250 x1=1></line></g><g id=bars height=250 width=250><rect id=09jIoEtd width=50 y=162 height=90 style='stroke-width: 0px;fill: red;' x=1></rect><rect id=zoQBtqir width=50 y=72 height=180 style='stroke-width: 0px;fill: green;' x=51></rect><rect id=pJD4LOIq width=50 y=197 height=55 style='stroke-width: 0px;fill: blue;' x=101></rect><rect id=6eFWspTo width=50 y=55 height=197 style='stroke-width: 0px;fill: orange;' x=151></rect><rect id=yeW0wsA5 width=50 y=1 height=251 style='stroke-width: 0px;fill: pink;' x=201></rect></g><g id=labels height=250 width=250><text id=lKzUKib5 y=241 style='fill: black;font-size: 10pt;' x=32>red</text><text id=YsO9o96P y=-29 style='fill: black;font-size: 10pt;' x=1>14</text><text id=G26gOA84 y=241 style='fill: black;font-size: 10pt;' x=94>green</text><text id=c0nwadvF y=33 style='fill: black;font-size: 10pt;' x=1>10.0</text><text id=8rVSFvjz y=241 style='fill: black;font-size: 10pt;' x=156>blue</text><text id=5EWh2eP9 y=95 style='fill: black;font-size: 10pt;' x=1>6.0</text><text id=kwcdxtQi y=241 style='fill: black;font-size: 10pt;' x=218>orange</text><text id=JJCBmuY9 y=157 style='fill: black;font-size: 10pt;' x=1>2.0</text></g><g id=grid2 height=250 width=250><line id=y3ta2fNA y1=0 x2=251 style='stroke: pink;' y2=250 x1=251></line><line id=9m0SFp16 y1=1 x2=500 style='stroke: pink;' y2=1 x1=250></line><line id=ffPluRVf y1=0 x2=313 style='stroke: pink;' y2=250 x1=313></line><line id=w8toeczI y1=63 x2=500 style='stroke: pink;' y2=63 x1=250></line><line id=nAbQNGqd y1=0 x2=375 style='stroke: pink;' y2=250 x1=375></line><line id=NvL4Tm6X y1=125 x2=500 style='stroke: pink;' y2=125 x1=250></line><line id=8ArkW3QW y1=0 x2=437 style='stroke: pink;' y2=250 x1=437></line><line id=kucrxarK y1=187 x2=500 style='stroke: pink;' y2=187 x1=250></line><line id=aE9eOqw7 y1=0 x2=499 style='stroke: pink;' y2=250 x1=499></line><line id=geN2S7Hr y1=249 x2=500 style='stroke: pink;' y2=249 x1=250></line></g><g id=line height=250 width=250><polyline id=newline style='fill: none;stroke: black;stroke-width: 4;' points=300&#32;161,350&#32;71,400&#32;196,450&#32;54,500&#32;0,></polyline></g><g id=meanline height=250 width=250></g><g id=labels height=250 width=250><text id=CPdVBnap y=240 style='fill: black;font-size: 10pt;' x=281>red</text><text id=omYodd2m y=-30 style='fill: black;font-size: 10pt;' x=250>14</text><text id=wUXiwnxv y=240 style='fill: black;font-size: 10pt;' x=343>green</text><text id=WbYINvBn y=32 style='fill: black;font-size: 10pt;' x=250>10.0</text><text id=VFRgs9e6 y=240 style='fill: black;font-size: 10pt;' x=405>blue</text><text id=ifumtA8f y=94 style='fill: black;font-size: 10pt;' x=250>6.0</text><text id=TdiouLOK y=240 style='fill: black;font-size: 10pt;' x=467>orange</text><text id=TMzHVGID y=156 style='fill: black;font-size: 10pt;' x=250>2.0</text></g><g id=grid3 height=250 width=500><line id=tTxF63v0 y1=250 x2=1 style='fill: none;stroke: lightblue;stroke-width: 1;opacity: 80%;' y2=500 x1=1></line><line id=AJX3ZY0A y1=251 x2=500 style='fill: none;stroke: lightblue;stroke-width: 1;opacity: 80%;' y2=251 x1=0></line><line id=hF1fGPQ2 y1=250 x2=126 style='fill: none;stroke: lightblue;stroke-width: 1;opacity: 80%;' y2=500 x1=126></line><line id=YMJRALGN y1=313 x2=500 style='fill: none;stroke: lightblue;stroke-width: 1;opacity: 80%;' y2=313 x1=0></line><line id=8ID2MY1p y1=250 x2=251 style='fill: none;stroke: lightblue;stroke-width: 1;opacity: 80%;' y2=500 x1=251></line><line id=uIZCEGnm y1=375 x2=500 style='fill: none;stroke: lightblue;stroke-width: 1;opacity: 80%;' y2=375 x1=0></line><line id=VqBCSYjj y1=250 x2=376 style='fill: none;stroke: lightblue;stroke-width: 1;opacity: 80%;' y2=500 x1=376></line><line id=j2IIJI0T y1=437 x2=500 style='fill: none;stroke: lightblue;stroke-width: 1;opacity: 80%;' y2=437 x1=0></line></g><g id=labels height=250 width=500><text id=tBN1ZrfG y=490 style='fill: black;font-size: 10pt;' x=1>0</text><text id=28xwUOCq y=251 style='fill: black;font-size: 10pt;' x=0>54</text><text id=ex2sTKFV y=490 style='fill: black;font-size: 10pt;' x=126>14.0</text><text id=vMXquTkb y=313 style='fill: black;font-size: 10pt;' x=0>40.0</text><text id=gDIfrfgj y=490 style='fill: black;font-size: 10pt;' x=251>28.0</text><text id=XMJH59OD y=375 style='fill: black;font-size: 10pt;' x=0>26.0</text><text id=uAKuFrVz y=490 style='fill: black;font-size: 10pt;' x=376>42.0</text><text id=a3CoKzLi y=437 style='fill: black;font-size: 10pt;' x=0>12.0</text></g><g id=points height=250 width=500><circle id=pBNNDmoQ cx=18.51851851851852 style='fill: blue;' r=5 cy=291.66666666666663></circle><circle id=JyiuEinr cx=27.777777777777775 style='fill: blue;' r=5 cy=291.66666666666663></circle><circle id=UiCIPN3e cx=500.0 style='fill: blue;' r=5 cy=375.0></circle><circle id=GRp9RnMv cx=18.51851851851852 style='fill: blue;' r=5 cy=333.33333333333337></circle><circle id=NXUK3YC3 cx=314.81481481481484 style='fill: blue;' r=5 cy=291.66666666666663></circle><circle id=PmX5b552 cx=37.03703703703704 style='fill: blue;' r=5 cy=250.0></circle></g><circle id=TuOrQKEE cx=167.66666666666666 style='fill: orange;stroke: lightblue;stroke-width: 0;' r=5 cy=334.33333333333337></circle><circle id=bvxw6xMw cx=334.3333333333333 style='fill: orange;stroke: lightblue;stroke-width: 0;' r=5 cy=167.66666666666669></circle><circle id=2tFheuzB cx=501.0 style='fill: orange;stroke: lightblue;stroke-width: 0;' r=5 cy=1.0></circle></svg>\""
      ]
     },
     "metadata": {},
     "output_type": "display_data"
    },
    {
     "data": {
      "text/html": [
       "\"<svg id=window height=500 width=500><g id=axes height=250 width=250><line id=wHFC1Ubl y1=251 x2=251 style='fill: none;stroke: black;stroke-width: 4;' y2=251 x1=1></line><line id=sMY0fEff y1=1 x2=1 style='fill: none;stroke: black;stroke-width: 4;' y2=251 x1=1></line></g><g id=grid height=250 width=250><line id=IHplu6v5 y1=1 x2=2 style='fill: none;stroke: lightblue;stroke-width: 1;opacity: 80%;' y2=251 x1=2></line><line id=c5cOn8zn y1=2 x2=251 style='fill: none;stroke: lightblue;stroke-width: 1;opacity: 80%;' y2=2 x1=1></line><line id=PHnzG17p y1=1 x2=64 style='fill: none;stroke: lightblue;stroke-width: 1;opacity: 80%;' y2=251 x1=64></line><line id=kyAwXLlb y1=64 x2=251 style='fill: none;stroke: lightblue;stroke-width: 1;opacity: 80%;' y2=64 x1=1></line><line id=9eKQcwHh y1=1 x2=126 style='fill: none;stroke: lightblue;stroke-width: 1;opacity: 80%;' y2=251 x1=126></line><line id=DqcIBiaR y1=126 x2=251 style='fill: none;stroke: lightblue;stroke-width: 1;opacity: 80%;' y2=126 x1=1></line><line id=wAwb9nh3 y1=1 x2=188 style='fill: none;stroke: lightblue;stroke-width: 1;opacity: 80%;' y2=251 x1=188></line><line id=pNlQ8El1 y1=188 x2=251 style='fill: none;stroke: lightblue;stroke-width: 1;opacity: 80%;' y2=188 x1=1></line><line id=TJWjQ3rV y1=1 x2=250 style='fill: none;stroke: lightblue;stroke-width: 1;opacity: 80%;' y2=251 x1=250></line><line id=JFbxM4gn y1=250 x2=251 style='fill: none;stroke: lightblue;stroke-width: 1;opacity: 80%;' y2=250 x1=1></line></g><g id=bars height=250 width=250><rect id=09jIoEtd width=50 y=162 height=90 style='stroke-width: 0px;fill: red;' x=1></rect><rect id=zoQBtqir width=50 y=72 height=180 style='stroke-width: 0px;fill: green;' x=51></rect><rect id=pJD4LOIq width=50 y=197 height=55 style='stroke-width: 0px;fill: blue;' x=101></rect><rect id=6eFWspTo width=50 y=55 height=197 style='stroke-width: 0px;fill: orange;' x=151></rect><rect id=yeW0wsA5 width=50 y=1 height=251 style='stroke-width: 0px;fill: pink;' x=201></rect></g><g id=labels height=250 width=250><text id=lKzUKib5 y=241 style='fill: black;font-size: 10pt;' x=32>red</text><text id=YsO9o96P y=-29 style='fill: black;font-size: 10pt;' x=1>14</text><text id=G26gOA84 y=241 style='fill: black;font-size: 10pt;' x=94>green</text><text id=c0nwadvF y=33 style='fill: black;font-size: 10pt;' x=1>10.0</text><text id=8rVSFvjz y=241 style='fill: black;font-size: 10pt;' x=156>blue</text><text id=5EWh2eP9 y=95 style='fill: black;font-size: 10pt;' x=1>6.0</text><text id=kwcdxtQi y=241 style='fill: black;font-size: 10pt;' x=218>orange</text><text id=JJCBmuY9 y=157 style='fill: black;font-size: 10pt;' x=1>2.0</text></g><g id=grid2 height=250 width=250><line id=y3ta2fNA y1=0 x2=251 style='stroke: pink;' y2=250 x1=251></line><line id=9m0SFp16 y1=1 x2=500 style='stroke: pink;' y2=1 x1=250></line><line id=ffPluRVf y1=0 x2=313 style='stroke: pink;' y2=250 x1=313></line><line id=w8toeczI y1=63 x2=500 style='stroke: pink;' y2=63 x1=250></line><line id=nAbQNGqd y1=0 x2=375 style='stroke: pink;' y2=250 x1=375></line><line id=NvL4Tm6X y1=125 x2=500 style='stroke: pink;' y2=125 x1=250></line><line id=8ArkW3QW y1=0 x2=437 style='stroke: pink;' y2=250 x1=437></line><line id=kucrxarK y1=187 x2=500 style='stroke: pink;' y2=187 x1=250></line><line id=aE9eOqw7 y1=0 x2=499 style='stroke: pink;' y2=250 x1=499></line><line id=geN2S7Hr y1=249 x2=500 style='stroke: pink;' y2=249 x1=250></line></g><g id=line height=250 width=250><polyline id=newline style='fill: none;stroke: black;stroke-width: 4;' points=300&#32;161,350&#32;71,400&#32;196,450&#32;54,500&#32;0,></polyline></g><g id=meanline height=250 width=250></g><g id=labels height=250 width=250><text id=CPdVBnap y=240 style='fill: black;font-size: 10pt;' x=281>red</text><text id=omYodd2m y=-30 style='fill: black;font-size: 10pt;' x=250>14</text><text id=wUXiwnxv y=240 style='fill: black;font-size: 10pt;' x=343>green</text><text id=WbYINvBn y=32 style='fill: black;font-size: 10pt;' x=250>10.0</text><text id=VFRgs9e6 y=240 style='fill: black;font-size: 10pt;' x=405>blue</text><text id=ifumtA8f y=94 style='fill: black;font-size: 10pt;' x=250>6.0</text><text id=TdiouLOK y=240 style='fill: black;font-size: 10pt;' x=467>orange</text><text id=TMzHVGID y=156 style='fill: black;font-size: 10pt;' x=250>2.0</text></g><g id=grid3 height=250 width=500><line id=tTxF63v0 y1=250 x2=1 style='fill: none;stroke: lightblue;stroke-width: 1;opacity: 80%;' y2=500 x1=1></line><line id=AJX3ZY0A y1=251 x2=500 style='fill: none;stroke: lightblue;stroke-width: 1;opacity: 80%;' y2=251 x1=0></line><line id=hF1fGPQ2 y1=250 x2=126 style='fill: none;stroke: lightblue;stroke-width: 1;opacity: 80%;' y2=500 x1=126></line><line id=YMJRALGN y1=313 x2=500 style='fill: none;stroke: lightblue;stroke-width: 1;opacity: 80%;' y2=313 x1=0></line><line id=8ID2MY1p y1=250 x2=251 style='fill: none;stroke: lightblue;stroke-width: 1;opacity: 80%;' y2=500 x1=251></line><line id=uIZCEGnm y1=375 x2=500 style='fill: none;stroke: lightblue;stroke-width: 1;opacity: 80%;' y2=375 x1=0></line><line id=VqBCSYjj y1=250 x2=376 style='fill: none;stroke: lightblue;stroke-width: 1;opacity: 80%;' y2=500 x1=376></line><line id=j2IIJI0T y1=437 x2=500 style='fill: none;stroke: lightblue;stroke-width: 1;opacity: 80%;' y2=437 x1=0></line></g><g id=labels height=250 width=500><text id=tBN1ZrfG y=490 style='fill: black;font-size: 10pt;' x=1>0</text><text id=28xwUOCq y=251 style='fill: black;font-size: 10pt;' x=0>54</text><text id=ex2sTKFV y=490 style='fill: black;font-size: 10pt;' x=126>14.0</text><text id=vMXquTkb y=313 style='fill: black;font-size: 10pt;' x=0>40.0</text><text id=gDIfrfgj y=490 style='fill: black;font-size: 10pt;' x=251>28.0</text><text id=XMJH59OD y=375 style='fill: black;font-size: 10pt;' x=0>26.0</text><text id=uAKuFrVz y=490 style='fill: black;font-size: 10pt;' x=376>42.0</text><text id=a3CoKzLi y=437 style='fill: black;font-size: 10pt;' x=0>12.0</text></g><g id=points height=250 width=500><circle id=pBNNDmoQ cx=18.51851851851852 style='fill: blue;' r=5 cy=291.66666666666663></circle><circle id=JyiuEinr cx=27.777777777777775 style='fill: blue;' r=5 cy=291.66666666666663></circle><circle id=UiCIPN3e cx=500.0 style='fill: blue;' r=5 cy=375.0></circle><circle id=GRp9RnMv cx=18.51851851851852 style='fill: blue;' r=5 cy=333.33333333333337></circle><circle id=NXUK3YC3 cx=314.81481481481484 style='fill: blue;' r=5 cy=291.66666666666663></circle><circle id=PmX5b552 cx=37.03703703703704 style='fill: blue;' r=5 cy=250.0></circle></g><circle id=TuOrQKEE cx=167.66666666666666 style='fill: orange;stroke: lightblue;stroke-width: 0;' r=5 cy=334.33333333333337></circle><circle id=bvxw6xMw cx=334.3333333333333 style='fill: orange;stroke: lightblue;stroke-width: 0;' r=5 cy=167.66666666666669></circle><circle id=2tFheuzB cx=501.0 style='fill: orange;stroke: lightblue;stroke-width: 0;' r=5 cy=1.0></circle></svg>\""
      ],
      "text/plain": []
     },
     "execution_count": 12,
     "metadata": {},
     "output_type": "execute_result"
    }
   ],
   "source": [
    "mycon"
   ]
  },
  {
   "cell_type": "code",
   "execution_count": null,
   "id": "7b1a1f0b",
   "metadata": {},
   "outputs": [],
   "source": []
  }
 ],
 "metadata": {
  "kernelspec": {
   "display_name": "Julia 1.9.2",
   "language": "julia",
   "name": "julia-1.9"
  },
  "language_info": {
   "file_extension": ".jl",
   "mimetype": "application/julia",
   "name": "julia",
   "version": "1.9.2"
  }
 },
 "nbformat": 4,
 "nbformat_minor": 5
}
