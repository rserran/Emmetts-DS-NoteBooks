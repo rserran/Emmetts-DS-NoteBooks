{
 "cells": [
  {
   "cell_type": "code",
   "execution_count": 33,
   "metadata": {},
   "outputs": [
    {
     "data": {
      "text/html": [
       "<table class=\"data-frame\"><thead><tr><th></th><th>A</th><th>B</th></tr><tr><th></th><th>Int64</th><th>String</th></tr></thead><tbody><p>4 rows × 2 columns</p><tr><th>1</th><td>5</td><td>single</td></tr><tr><th>2</th><td>6</td><td>married</td></tr><tr><th>3</th><td>7</td><td>single</td></tr><tr><th>4</th><td>8</td><td>married</td></tr></tbody></table>"
      ],
      "text/latex": [
       "\\begin{tabular}{r|cc}\n",
       "\t& A & B\\\\\n",
       "\t\\hline\n",
       "\t& Int64 & String\\\\\n",
       "\t\\hline\n",
       "\t1 & 5 & single \\\\\n",
       "\t2 & 6 & married \\\\\n",
       "\t3 & 7 & single \\\\\n",
       "\t4 & 8 & married \\\\\n",
       "\\end{tabular}\n"
      ],
      "text/plain": [
       "\u001b[1m4×2 DataFrame\u001b[0m\n",
       "\u001b[1m Row \u001b[0m│\u001b[1m A     \u001b[0m\u001b[1m B       \u001b[0m\n",
       "\u001b[1m     \u001b[0m│\u001b[90m Int64 \u001b[0m\u001b[90m String  \u001b[0m\n",
       "─────┼────────────────\n",
       "   1 │     5  single\n",
       "   2 │     6  married\n",
       "   3 │     7  single\n",
       "   4 │     8  married"
      ]
     },
     "execution_count": 33,
     "metadata": {},
     "output_type": "execute_result"
    }
   ],
   "source": [
    "using DataFrames\n",
    "df = DataFrame(:A => [5, 6, 7, 8], :B => [\"single\", \"married\", \"single\", \"married\"])"
   ]
  },
  {
   "cell_type": "code",
   "execution_count": 34,
   "metadata": {},
   "outputs": [
    {
     "data": {
      "text/html": [
       "<table class=\"data-frame\"><thead><tr><th></th><th>A</th><th>B</th></tr><tr><th></th><th>Int64</th><th>String</th></tr></thead><tbody><p>2 rows × 2 columns</p><tr><th>1</th><td>6</td><td>married</td></tr><tr><th>2</th><td>8</td><td>married</td></tr></tbody></table>"
      ],
      "text/latex": [
       "\\begin{tabular}{r|cc}\n",
       "\t& A & B\\\\\n",
       "\t\\hline\n",
       "\t& Int64 & String\\\\\n",
       "\t\\hline\n",
       "\t1 & 6 & married \\\\\n",
       "\t2 & 8 & married \\\\\n",
       "\\end{tabular}\n"
      ],
      "text/plain": [
       "\u001b[1m2×2 DataFrame\u001b[0m\n",
       "\u001b[1m Row \u001b[0m│\u001b[1m A     \u001b[0m\u001b[1m B       \u001b[0m\n",
       "\u001b[1m     \u001b[0m│\u001b[90m Int64 \u001b[0m\u001b[90m String  \u001b[0m\n",
       "─────┼────────────────\n",
       "   1 │     6  married\n",
       "   2 │     8  married"
      ]
     },
     "execution_count": 34,
     "metadata": {},
     "output_type": "execute_result"
    }
   ],
   "source": [
    "married = filter(row -> row[:B] == \"married\", df)"
   ]
  },
  {
   "cell_type": "code",
   "execution_count": 38,
   "metadata": {},
   "outputs": [
    {
     "ename": "LoadError",
     "evalue": "MethodError: objects of type BitVector are not callable\nUse square brackets [] for indexing an Array.",
     "output_type": "error",
     "traceback": [
      "MethodError: objects of type BitVector are not callable\nUse square brackets [] for indexing an Array.",
      "",
      "Stacktrace:",
      "  [1] (::DataFrames.var\"#89#90\"{BitVector})(x::DataFrameRow{DataFrame, DataFrames.Index})",
      "    @ DataFrames ~/.julia/packages/DataFrames/3mEXm/src/abstractdataframe/abstractdataframe.jl:1024",
      "  [2] _broadcast_getindex_evalf",
      "    @ ./broadcast.jl:670 [inlined]",
      "  [3] _broadcast_getindex",
      "    @ ./broadcast.jl:643 [inlined]",
      "  [4] getindex",
      "    @ ./broadcast.jl:597 [inlined]",
      "  [5] copy",
      "    @ ./broadcast.jl:899 [inlined]",
      "  [6] materialize",
      "    @ ./broadcast.jl:860 [inlined]",
      "  [7] _filter_helper(f::BitVector, cols::DataFrames.DataFrameRows{DataFrame})",
      "    @ DataFrames ~/.julia/packages/DataFrames/3mEXm/src/abstractdataframe/abstractdataframe.jl:1024",
      "  [8] #filter#78",
      "    @ ~/.julia/packages/DataFrames/3mEXm/src/abstractdataframe/abstractdataframe.jl:997 [inlined]",
      "  [9] filter(f::BitVector, df::DataFrame)",
      "    @ DataFrames ~/.julia/packages/DataFrames/3mEXm/src/abstractdataframe/abstractdataframe.jl:997",
      " [10] top-level scope",
      "    @ In[38]:1",
      " [11] eval",
      "    @ ./boot.jl:373 [inlined]",
      " [12] include_string(mapexpr::typeof(REPL.softscope), mod::Module, code::String, filename::String)",
      "    @ Base ./loading.jl:1196"
     ]
    }
   ],
   "source": [
    "single = filter(df[!, :B] .== \"single\", df)"
   ]
  },
  {
   "cell_type": "code",
   "execution_count": 39,
   "metadata": {},
   "outputs": [],
   "source": [
    "import Base: getindex"
   ]
  },
  {
   "cell_type": "code",
   "execution_count": 41,
   "metadata": {},
   "outputs": [
    {
     "data": {
      "text/plain": [
       "getindex (generic function with 325 methods)"
      ]
     },
     "execution_count": 41,
     "metadata": {},
     "output_type": "execute_result"
    }
   ],
   "source": [
    "function getindex(df::DataFrame, bv::BitArray)\n",
    "    points::Vector{Int64} = findall(x -> x == 0, bv)\n",
    "    dfcopy::DataFrame = copy(df)\n",
    "    delete!(dfcopy, points)\n",
    "    dfcopy::DataFrame\n",
    "end"
   ]
  },
  {
   "cell_type": "code",
   "execution_count": 44,
   "metadata": {},
   "outputs": [
    {
     "data": {
      "text/html": [
       "<table class=\"data-frame\"><thead><tr><th></th><th>A</th><th>B</th></tr><tr><th></th><th>Int64</th><th>String</th></tr></thead><tbody><p>2 rows × 2 columns</p><tr><th>1</th><td>6</td><td>married</td></tr><tr><th>2</th><td>8</td><td>married</td></tr></tbody></table>"
      ],
      "text/latex": [
       "\\begin{tabular}{r|cc}\n",
       "\t& A & B\\\\\n",
       "\t\\hline\n",
       "\t& Int64 & String\\\\\n",
       "\t\\hline\n",
       "\t1 & 6 & married \\\\\n",
       "\t2 & 8 & married \\\\\n",
       "\\end{tabular}\n"
      ],
      "text/plain": [
       "\u001b[1m2×2 DataFrame\u001b[0m\n",
       "\u001b[1m Row \u001b[0m│\u001b[1m A     \u001b[0m\u001b[1m B       \u001b[0m\n",
       "\u001b[1m     \u001b[0m│\u001b[90m Int64 \u001b[0m\u001b[90m String  \u001b[0m\n",
       "─────┼────────────────\n",
       "   1 │     6  married\n",
       "   2 │     8  married"
      ]
     },
     "execution_count": 44,
     "metadata": {},
     "output_type": "execute_result"
    }
   ],
   "source": [
    "df[df[!, :B] .== \"married\"]"
   ]
  },
  {
   "cell_type": "code",
   "execution_count": null,
   "metadata": {},
   "outputs": [],
   "source": []
  }
 ],
 "metadata": {
  "kernelspec": {
   "display_name": "Julia 1.7.2",
   "language": "julia",
   "name": "julia-1.7"
  },
  "language_info": {
   "file_extension": ".jl",
   "mimetype": "application/julia",
   "name": "julia",
   "version": "1.7.2"
  }
 },
 "nbformat": 4,
 "nbformat_minor": 4
}
