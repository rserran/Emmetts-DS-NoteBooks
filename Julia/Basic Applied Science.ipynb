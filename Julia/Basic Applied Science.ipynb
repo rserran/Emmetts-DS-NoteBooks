{
 "cells": [
  {
   "cell_type": "code",
   "execution_count": 15,
   "id": "708d0835",
   "metadata": {},
   "outputs": [
    {
     "name": "stderr",
     "output_type": "stream",
     "text": [
      "\u001b[32m\u001b[1m  Activating\u001b[22m\u001b[39m project at `~/dev/nbs/ds`\n",
      "\u001b[32m\u001b[1m   Resolving\u001b[22m\u001b[39m package versions...\n",
      "\u001b[32m\u001b[1m  No Changes\u001b[22m\u001b[39m to `~/dev/nbs/ds/Project.toml`\n",
      "\u001b[32m\u001b[1m  No Changes\u001b[22m\u001b[39m to `~/dev/nbs/ds/Manifest.toml`\n",
      "\u001b[32m\u001b[1m   Resolving\u001b[22m\u001b[39m package versions...\n",
      "\u001b[32m\u001b[1m  No Changes\u001b[22m\u001b[39m to `~/dev/nbs/ds/Project.toml`\n",
      "\u001b[32m\u001b[1m  No Changes\u001b[22m\u001b[39m to `~/dev/nbs/ds/Manifest.toml`\n",
      "\u001b[32m\u001b[1m   Resolving\u001b[22m\u001b[39m package versions...\n",
      "\u001b[32m\u001b[1m  No Changes\u001b[22m\u001b[39m to `~/dev/nbs/ds/Project.toml`\n",
      "\u001b[32m\u001b[1m  No Changes\u001b[22m\u001b[39m to `~/dev/nbs/ds/Manifest.toml`\n",
      "\u001b[32m\u001b[1m   Resolving\u001b[22m\u001b[39m package versions...\n",
      "\u001b[32m\u001b[1m   Installed\u001b[22m\u001b[39m PDMats ────────────────── v0.11.17\n",
      "\u001b[32m\u001b[1m   Installed\u001b[22m\u001b[39m Calculus ──────────────── v0.5.1\n",
      "\u001b[32m\u001b[1m   Installed\u001b[22m\u001b[39m IrrationalConstants ───── v0.2.2\n",
      "\u001b[32m\u001b[1m   Installed\u001b[22m\u001b[39m DualNumbers ───────────── v0.6.8\n",
      "\u001b[32m\u001b[1m   Installed\u001b[22m\u001b[39m HypergeometricFunctions ─ v0.3.16\n",
      "\u001b[32m\u001b[1m   Installed\u001b[22m\u001b[39m Rmath ─────────────────── v0.7.1\n",
      "\u001b[32m\u001b[1m   Installed\u001b[22m\u001b[39m StatsFuns ─────────────── v1.3.0\n",
      "\u001b[32m\u001b[1m   Installed\u001b[22m\u001b[39m Setfield ──────────────── v1.1.1\n",
      "\u001b[32m\u001b[1m   Installed\u001b[22m\u001b[39m StaticArraysCore ──────── v1.4.0\n",
      "\u001b[32m\u001b[1m   Installed\u001b[22m\u001b[39m NaNMath ───────────────── v1.0.2\n",
      "\u001b[32m\u001b[1m   Installed\u001b[22m\u001b[39m SpecialFunctions ──────── v2.2.0\n",
      "\u001b[32m\u001b[1m   Installed\u001b[22m\u001b[39m ConstructionBase ──────── v1.5.2\n",
      "\u001b[32m\u001b[1m   Installed\u001b[22m\u001b[39m Roots ─────────────────── v2.0.17\n",
      "\u001b[32m\u001b[1m   Installed\u001b[22m\u001b[39m HypothesisTests ───────── v0.11.0\n",
      "\u001b[32m\u001b[1m   Installed\u001b[22m\u001b[39m ChainRulesCore ────────── v1.16.0\n",
      "\u001b[32m\u001b[1m   Installed\u001b[22m\u001b[39m Rmath_jll ─────────────── v0.4.0+0\n",
      "\u001b[32m\u001b[1m   Installed\u001b[22m\u001b[39m Combinatorics ─────────── v1.0.2\n",
      "\u001b[32m\u001b[1m   Installed\u001b[22m\u001b[39m FillArrays ────────────── v1.1.0\n",
      "\u001b[32m\u001b[1m   Installed\u001b[22m\u001b[39m OpenSpecFun_jll ───────── v0.5.5+0\n",
      "\u001b[32m\u001b[1m   Installed\u001b[22m\u001b[39m StatsAPI ──────────────── v1.6.0\n",
      "\u001b[32m\u001b[1m   Installed\u001b[22m\u001b[39m QuadGK ────────────────── v2.8.2\n",
      "\u001b[32m\u001b[1m   Installed\u001b[22m\u001b[39m LogExpFunctions ───────── v0.3.24\n",
      "\u001b[32m\u001b[1m   Installed\u001b[22m\u001b[39m Distributions ─────────── v0.25.95\n",
      "\u001b[32m\u001b[1m   Installed\u001b[22m\u001b[39m CommonSolve ───────────── v0.2.3\n",
      "\u001b[32m\u001b[1m   Installed\u001b[22m\u001b[39m DocStringExtensions ───── v0.9.3\n",
      "\u001b[32m\u001b[1m   Installed\u001b[22m\u001b[39m StatsBase ─────────────── v0.34.0\n",
      "\u001b[32m\u001b[1m    Updating\u001b[22m\u001b[39m `~/dev/nbs/ds/Project.toml`\n",
      "  \u001b[90m[09f84164] \u001b[39m\u001b[92m+ HypothesisTests v0.11.0\u001b[39m\n",
      "\u001b[32m\u001b[1m    Updating\u001b[22m\u001b[39m `~/dev/nbs/ds/Manifest.toml`\n",
      "  \u001b[90m[49dc2e85] \u001b[39m\u001b[92m+ Calculus v0.5.1\u001b[39m\n",
      "  \u001b[90m[d360d2e6] \u001b[39m\u001b[92m+ ChainRulesCore v1.16.0\u001b[39m\n",
      "  \u001b[90m[861a8166] \u001b[39m\u001b[92m+ Combinatorics v1.0.2\u001b[39m\n",
      "  \u001b[90m[38540f10] \u001b[39m\u001b[92m+ CommonSolve v0.2.3\u001b[39m\n",
      "  \u001b[90m[187b0558] \u001b[39m\u001b[92m+ ConstructionBase v1.5.2\u001b[39m\n",
      "  \u001b[90m[31c24e10] \u001b[39m\u001b[92m+ Distributions v0.25.95\u001b[39m\n",
      "  \u001b[90m[ffbed154] \u001b[39m\u001b[92m+ DocStringExtensions v0.9.3\u001b[39m\n",
      "  \u001b[90m[fa6b7ba4] \u001b[39m\u001b[92m+ DualNumbers v0.6.8\u001b[39m\n",
      "  \u001b[90m[1a297f60] \u001b[39m\u001b[92m+ FillArrays v1.1.0\u001b[39m\n",
      "  \u001b[90m[34004b35] \u001b[39m\u001b[92m+ HypergeometricFunctions v0.3.16\u001b[39m\n",
      "  \u001b[90m[09f84164] \u001b[39m\u001b[92m+ HypothesisTests v0.11.0\u001b[39m\n",
      "  \u001b[90m[92d709cd] \u001b[39m\u001b[92m+ IrrationalConstants v0.2.2\u001b[39m\n",
      "  \u001b[90m[692b3bcd] \u001b[39m\u001b[92m+ JLLWrappers v1.4.1\u001b[39m\n",
      "  \u001b[90m[2ab3a3ac] \u001b[39m\u001b[92m+ LogExpFunctions v0.3.24\u001b[39m\n",
      "  \u001b[90m[1914dd2f] \u001b[39m\u001b[92m+ MacroTools v0.5.10\u001b[39m\n",
      "  \u001b[90m[77ba4419] \u001b[39m\u001b[92m+ NaNMath v1.0.2\u001b[39m\n",
      "  \u001b[90m[90014a1f] \u001b[39m\u001b[92m+ PDMats v0.11.17\u001b[39m\n",
      "  \u001b[90m[1fd47b50] \u001b[39m\u001b[92m+ QuadGK v2.8.2\u001b[39m\n",
      "  \u001b[90m[79098fc4] \u001b[39m\u001b[92m+ Rmath v0.7.1\u001b[39m\n",
      "  \u001b[90m[f2b01f46] \u001b[39m\u001b[92m+ Roots v2.0.17\u001b[39m\n",
      "  \u001b[90m[efcf1570] \u001b[39m\u001b[92m+ Setfield v1.1.1\u001b[39m\n",
      "  \u001b[90m[276daf66] \u001b[39m\u001b[92m+ SpecialFunctions v2.2.0\u001b[39m\n",
      "  \u001b[90m[1e83bf80] \u001b[39m\u001b[92m+ StaticArraysCore v1.4.0\u001b[39m\n",
      "  \u001b[90m[82ae8749] \u001b[39m\u001b[92m+ StatsAPI v1.6.0\u001b[39m\n",
      "  \u001b[90m[2913bbd2] \u001b[39m\u001b[92m+ StatsBase v0.34.0\u001b[39m\n",
      "  \u001b[90m[4c63d2b9] \u001b[39m\u001b[92m+ StatsFuns v1.3.0\u001b[39m\n",
      "  \u001b[90m[efe28fd5] \u001b[39m\u001b[92m+ OpenSpecFun_jll v0.5.5+0\u001b[39m\n",
      "  \u001b[90m[f50d1b31] \u001b[39m\u001b[92m+ Rmath_jll v0.4.0+0\u001b[39m\n",
      "  \u001b[90m[4607b0f0] \u001b[39m\u001b[92m+ SuiteSparse\u001b[39m\n",
      "  \u001b[90m[05823500] \u001b[39m\u001b[92m+ OpenLibm_jll v0.8.1+0\u001b[39m\n",
      "\u001b[32m\u001b[1mPrecompiling\u001b[22m\u001b[39m project...\n",
      "\u001b[32m  ✓ \u001b[39m\u001b[90mCommonSolve\u001b[39m\n",
      "\u001b[32m  ✓ \u001b[39m\u001b[90mDocStringExtensions\u001b[39m\n",
      "\u001b[32m  ✓ \u001b[39m\u001b[90mCalculus\u001b[39m\n",
      "\u001b[32m  ✓ \u001b[39m\u001b[90mCombinatorics\u001b[39m\n",
      "\u001b[32m  ✓ \u001b[39m\u001b[90mConstructionBase\u001b[39m\n",
      "\u001b[32m  ✓ \u001b[39m\u001b[90mStatsAPI\u001b[39m\n",
      "\u001b[32m  ✓ \u001b[39m\u001b[90mIrrationalConstants\u001b[39m\n",
      "\u001b[32m  ✓ \u001b[39m\u001b[90mStaticArraysCore\u001b[39m\n",
      "\u001b[32m  ✓ \u001b[39m\u001b[90mNaNMath\u001b[39m\n",
      "\u001b[32m  ✓ \u001b[39m\u001b[90mPDMats\u001b[39m\n",
      "\u001b[32m  ✓ \u001b[39m\u001b[90mRmath_jll\u001b[39m\n",
      "\u001b[32m  ✓ \u001b[39m\u001b[90mFillArrays\u001b[39m\n",
      "\u001b[32m  ✓ \u001b[39m\u001b[90mQuadGK\u001b[39m\n",
      "\u001b[32m  ✓ \u001b[39m\u001b[90mChainRulesCore\u001b[39m\n",
      "\u001b[32m  ✓ \u001b[39m\u001b[90mOpenSpecFun_jll\u001b[39m\n",
      "\u001b[32m  ✓ \u001b[39m\u001b[90mLogExpFunctions\u001b[39m\n",
      "\u001b[32m  ✓ \u001b[39m\u001b[90mRmath\u001b[39m\n",
      "\u001b[32m  ✓ \u001b[39m\u001b[90mSetfield\u001b[39m\n",
      "\u001b[32m  ✓ \u001b[39m\u001b[90mLogExpFunctions → LogExpFunctionsChainRulesCoreExt\u001b[39m\n",
      "\u001b[32m  ✓ \u001b[39m\u001b[90mStatsBase\u001b[39m\n",
      "\u001b[32m  ✓ \u001b[39m\u001b[90mSpecialFunctions\u001b[39m\n",
      "\u001b[32m  ✓ \u001b[39m\u001b[90mDualNumbers\u001b[39m\n",
      "\u001b[32m  ✓ \u001b[39m\u001b[90mRoots\u001b[39m\n",
      "\u001b[32m  ✓ \u001b[39m\u001b[90mSpecialFunctions → SpecialFunctionsChainRulesCoreExt\u001b[39m\n",
      "\u001b[32m  ✓ \u001b[39m\u001b[90mHypergeometricFunctions\u001b[39m\n",
      "\u001b[32m  ✓ \u001b[39m\u001b[90mStatsFuns\u001b[39m\n",
      "\u001b[32m  ✓ \u001b[39m\u001b[90mStatsFuns → StatsFunsChainRulesCoreExt\u001b[39m\n",
      "\u001b[32m  ✓ \u001b[39m\u001b[90mDistributions\u001b[39m\n",
      "\u001b[32m  ✓ \u001b[39m\u001b[90mDistributions → DistributionsChainRulesCoreExt\u001b[39m\n",
      "\u001b[32m  ✓ \u001b[39mHypothesisTests\n",
      "  30 dependencies successfully precompiled in 34 seconds. 41 already precompiled.\n"
     ]
    }
   ],
   "source": [
    "using Pkg; Pkg.activate(\"ds\")\n",
    "Pkg.add(\"DataFrames\")\n",
    "Pkg.add(\"CSV\")\n",
    "Pkg.add(\"Statistics\")\n",
    "Pkg.add(\"HypothesisTests\")"
   ]
  },
  {
   "cell_type": "code",
   "execution_count": 16,
   "id": "a7f7b9d9",
   "metadata": {},
   "outputs": [],
   "source": [
    "using DataFrames\n",
    "using HypothesisTests\n",
    "using Statistics"
   ]
  },
  {
   "cell_type": "code",
   "execution_count": 3,
   "id": "187d6445",
   "metadata": {
    "scrolled": true
   },
   "outputs": [
    {
     "data": {
      "text/html": [
       "<div><div style = \"float: left;\"><span>31×4 DataFrame</span></div><div style = \"float: right;\"><span style = \"font-style: italic;\">6 rows omitted</span></div><div style = \"clear: both;\"></div></div><div class = \"data-frame\" style = \"overflow-x: scroll;\"><table class = \"data-frame\" style = \"margin-bottom: 6px;\"><thead><tr class = \"header\"><th class = \"rowNumber\" style = \"font-weight: bold; text-align: right;\">Row</th><th style = \"text-align: left;\">Index</th><th style = \"text-align: left;\">Girth (in)</th><th style = \"text-align: left;\">Height (ft)</th><th style = \"text-align: left;\">Volume(ft^3)</th></tr><tr class = \"subheader headerLastRow\"><th class = \"rowNumber\" style = \"font-weight: bold; text-align: right;\"></th><th title = \"Int64\" style = \"text-align: left;\">Int64</th><th title = \"Float64\" style = \"text-align: left;\">Float64</th><th title = \"Int64\" style = \"text-align: left;\">Int64</th><th title = \"Float64\" style = \"text-align: left;\">Float64</th></tr></thead><tbody><tr><td class = \"rowNumber\" style = \"font-weight: bold; text-align: right;\">1</td><td style = \"text-align: right;\">1</td><td style = \"text-align: right;\">8.3</td><td style = \"text-align: right;\">70</td><td style = \"text-align: right;\">10.3</td></tr><tr><td class = \"rowNumber\" style = \"font-weight: bold; text-align: right;\">2</td><td style = \"text-align: right;\">2</td><td style = \"text-align: right;\">8.6</td><td style = \"text-align: right;\">65</td><td style = \"text-align: right;\">10.3</td></tr><tr><td class = \"rowNumber\" style = \"font-weight: bold; text-align: right;\">3</td><td style = \"text-align: right;\">3</td><td style = \"text-align: right;\">8.8</td><td style = \"text-align: right;\">63</td><td style = \"text-align: right;\">10.2</td></tr><tr><td class = \"rowNumber\" style = \"font-weight: bold; text-align: right;\">4</td><td style = \"text-align: right;\">4</td><td style = \"text-align: right;\">10.5</td><td style = \"text-align: right;\">72</td><td style = \"text-align: right;\">16.4</td></tr><tr><td class = \"rowNumber\" style = \"font-weight: bold; text-align: right;\">5</td><td style = \"text-align: right;\">5</td><td style = \"text-align: right;\">10.7</td><td style = \"text-align: right;\">81</td><td style = \"text-align: right;\">18.8</td></tr><tr><td class = \"rowNumber\" style = \"font-weight: bold; text-align: right;\">6</td><td style = \"text-align: right;\">6</td><td style = \"text-align: right;\">10.8</td><td style = \"text-align: right;\">83</td><td style = \"text-align: right;\">19.7</td></tr><tr><td class = \"rowNumber\" style = \"font-weight: bold; text-align: right;\">7</td><td style = \"text-align: right;\">7</td><td style = \"text-align: right;\">11.0</td><td style = \"text-align: right;\">66</td><td style = \"text-align: right;\">15.6</td></tr><tr><td class = \"rowNumber\" style = \"font-weight: bold; text-align: right;\">8</td><td style = \"text-align: right;\">8</td><td style = \"text-align: right;\">11.0</td><td style = \"text-align: right;\">75</td><td style = \"text-align: right;\">18.2</td></tr><tr><td class = \"rowNumber\" style = \"font-weight: bold; text-align: right;\">9</td><td style = \"text-align: right;\">9</td><td style = \"text-align: right;\">11.1</td><td style = \"text-align: right;\">80</td><td style = \"text-align: right;\">22.6</td></tr><tr><td class = \"rowNumber\" style = \"font-weight: bold; text-align: right;\">10</td><td style = \"text-align: right;\">10</td><td style = \"text-align: right;\">11.2</td><td style = \"text-align: right;\">75</td><td style = \"text-align: right;\">19.9</td></tr><tr><td class = \"rowNumber\" style = \"font-weight: bold; text-align: right;\">11</td><td style = \"text-align: right;\">11</td><td style = \"text-align: right;\">11.3</td><td style = \"text-align: right;\">79</td><td style = \"text-align: right;\">24.2</td></tr><tr><td class = \"rowNumber\" style = \"font-weight: bold; text-align: right;\">12</td><td style = \"text-align: right;\">12</td><td style = \"text-align: right;\">11.4</td><td style = \"text-align: right;\">76</td><td style = \"text-align: right;\">21.0</td></tr><tr><td class = \"rowNumber\" style = \"font-weight: bold; text-align: right;\">13</td><td style = \"text-align: right;\">13</td><td style = \"text-align: right;\">11.4</td><td style = \"text-align: right;\">76</td><td style = \"text-align: right;\">21.4</td></tr><tr><td style = \"text-align: right;\">&vellip;</td><td style = \"text-align: right;\">&vellip;</td><td style = \"text-align: right;\">&vellip;</td><td style = \"text-align: right;\">&vellip;</td><td style = \"text-align: right;\">&vellip;</td></tr><tr><td class = \"rowNumber\" style = \"font-weight: bold; text-align: right;\">20</td><td style = \"text-align: right;\">20</td><td style = \"text-align: right;\">13.8</td><td style = \"text-align: right;\">64</td><td style = \"text-align: right;\">24.9</td></tr><tr><td class = \"rowNumber\" style = \"font-weight: bold; text-align: right;\">21</td><td style = \"text-align: right;\">21</td><td style = \"text-align: right;\">14.0</td><td style = \"text-align: right;\">78</td><td style = \"text-align: right;\">34.5</td></tr><tr><td class = \"rowNumber\" style = \"font-weight: bold; text-align: right;\">22</td><td style = \"text-align: right;\">22</td><td style = \"text-align: right;\">14.2</td><td style = \"text-align: right;\">80</td><td style = \"text-align: right;\">31.7</td></tr><tr><td class = \"rowNumber\" style = \"font-weight: bold; text-align: right;\">23</td><td style = \"text-align: right;\">23</td><td style = \"text-align: right;\">14.5</td><td style = \"text-align: right;\">74</td><td style = \"text-align: right;\">36.3</td></tr><tr><td class = \"rowNumber\" style = \"font-weight: bold; text-align: right;\">24</td><td style = \"text-align: right;\">24</td><td style = \"text-align: right;\">16.0</td><td style = \"text-align: right;\">72</td><td style = \"text-align: right;\">38.3</td></tr><tr><td class = \"rowNumber\" style = \"font-weight: bold; text-align: right;\">25</td><td style = \"text-align: right;\">25</td><td style = \"text-align: right;\">16.3</td><td style = \"text-align: right;\">77</td><td style = \"text-align: right;\">42.6</td></tr><tr><td class = \"rowNumber\" style = \"font-weight: bold; text-align: right;\">26</td><td style = \"text-align: right;\">26</td><td style = \"text-align: right;\">17.3</td><td style = \"text-align: right;\">81</td><td style = \"text-align: right;\">55.4</td></tr><tr><td class = \"rowNumber\" style = \"font-weight: bold; text-align: right;\">27</td><td style = \"text-align: right;\">27</td><td style = \"text-align: right;\">17.5</td><td style = \"text-align: right;\">82</td><td style = \"text-align: right;\">55.7</td></tr><tr><td class = \"rowNumber\" style = \"font-weight: bold; text-align: right;\">28</td><td style = \"text-align: right;\">28</td><td style = \"text-align: right;\">17.9</td><td style = \"text-align: right;\">80</td><td style = \"text-align: right;\">58.3</td></tr><tr><td class = \"rowNumber\" style = \"font-weight: bold; text-align: right;\">29</td><td style = \"text-align: right;\">29</td><td style = \"text-align: right;\">18.0</td><td style = \"text-align: right;\">80</td><td style = \"text-align: right;\">51.5</td></tr><tr><td class = \"rowNumber\" style = \"font-weight: bold; text-align: right;\">30</td><td style = \"text-align: right;\">30</td><td style = \"text-align: right;\">18.0</td><td style = \"text-align: right;\">80</td><td style = \"text-align: right;\">51.0</td></tr><tr><td class = \"rowNumber\" style = \"font-weight: bold; text-align: right;\">31</td><td style = \"text-align: right;\">31</td><td style = \"text-align: right;\">20.6</td><td style = \"text-align: right;\">87</td><td style = \"text-align: right;\">77.0</td></tr></tbody></table></div>"
      ],
      "text/latex": [
       "\\begin{tabular}{r|cccc}\n",
       "\t& Index & Girth (in) & Height (ft) & Volume(ft\\^3)\\\\\n",
       "\t\\hline\n",
       "\t& Int64 & Float64 & Int64 & Float64\\\\\n",
       "\t\\hline\n",
       "\t1 & 1 & 8.3 & 70 & 10.3 \\\\\n",
       "\t2 & 2 & 8.6 & 65 & 10.3 \\\\\n",
       "\t3 & 3 & 8.8 & 63 & 10.2 \\\\\n",
       "\t4 & 4 & 10.5 & 72 & 16.4 \\\\\n",
       "\t5 & 5 & 10.7 & 81 & 18.8 \\\\\n",
       "\t6 & 6 & 10.8 & 83 & 19.7 \\\\\n",
       "\t7 & 7 & 11.0 & 66 & 15.6 \\\\\n",
       "\t8 & 8 & 11.0 & 75 & 18.2 \\\\\n",
       "\t9 & 9 & 11.1 & 80 & 22.6 \\\\\n",
       "\t10 & 10 & 11.2 & 75 & 19.9 \\\\\n",
       "\t11 & 11 & 11.3 & 79 & 24.2 \\\\\n",
       "\t12 & 12 & 11.4 & 76 & 21.0 \\\\\n",
       "\t13 & 13 & 11.4 & 76 & 21.4 \\\\\n",
       "\t14 & 14 & 11.7 & 69 & 21.3 \\\\\n",
       "\t15 & 15 & 12.0 & 75 & 19.1 \\\\\n",
       "\t16 & 16 & 12.9 & 74 & 22.2 \\\\\n",
       "\t17 & 17 & 12.9 & 85 & 33.8 \\\\\n",
       "\t18 & 18 & 13.3 & 86 & 27.4 \\\\\n",
       "\t19 & 19 & 13.7 & 71 & 25.7 \\\\\n",
       "\t20 & 20 & 13.8 & 64 & 24.9 \\\\\n",
       "\t21 & 21 & 14.0 & 78 & 34.5 \\\\\n",
       "\t22 & 22 & 14.2 & 80 & 31.7 \\\\\n",
       "\t23 & 23 & 14.5 & 74 & 36.3 \\\\\n",
       "\t24 & 24 & 16.0 & 72 & 38.3 \\\\\n",
       "\t25 & 25 & 16.3 & 77 & 42.6 \\\\\n",
       "\t26 & 26 & 17.3 & 81 & 55.4 \\\\\n",
       "\t27 & 27 & 17.5 & 82 & 55.7 \\\\\n",
       "\t28 & 28 & 17.9 & 80 & 58.3 \\\\\n",
       "\t29 & 29 & 18.0 & 80 & 51.5 \\\\\n",
       "\t30 & 30 & 18.0 & 80 & 51.0 \\\\\n",
       "\t$\\dots$ & $\\dots$ & $\\dots$ & $\\dots$ & $\\dots$ \\\\\n",
       "\\end{tabular}\n"
      ],
      "text/plain": [
       "\u001b[1m31×4 DataFrame\u001b[0m\n",
       "\u001b[1m Row \u001b[0m│\u001b[1m Index \u001b[0m\u001b[1m Girth (in) \u001b[0m\u001b[1m Height (ft) \u001b[0m\u001b[1m Volume(ft^3) \u001b[0m\n",
       "     │\u001b[90m Int64 \u001b[0m\u001b[90m Float64    \u001b[0m\u001b[90m Int64       \u001b[0m\u001b[90m Float64      \u001b[0m\n",
       "─────┼──────────────────────────────────────────────\n",
       "   1 │     1         8.3           70          10.3\n",
       "   2 │     2         8.6           65          10.3\n",
       "   3 │     3         8.8           63          10.2\n",
       "   4 │     4        10.5           72          16.4\n",
       "   5 │     5        10.7           81          18.8\n",
       "   6 │     6        10.8           83          19.7\n",
       "   7 │     7        11.0           66          15.6\n",
       "   8 │     8        11.0           75          18.2\n",
       "   9 │     9        11.1           80          22.6\n",
       "  10 │    10        11.2           75          19.9\n",
       "  11 │    11        11.3           79          24.2\n",
       "  ⋮  │   ⋮        ⋮            ⋮            ⋮\n",
       "  22 │    22        14.2           80          31.7\n",
       "  23 │    23        14.5           74          36.3\n",
       "  24 │    24        16.0           72          38.3\n",
       "  25 │    25        16.3           77          42.6\n",
       "  26 │    26        17.3           81          55.4\n",
       "  27 │    27        17.5           82          55.7\n",
       "  28 │    28        17.9           80          58.3\n",
       "  29 │    29        18.0           80          51.5\n",
       "  30 │    30        18.0           80          51.0\n",
       "  31 │    31        20.6           87          77.0\n",
       "\u001b[36m                                     10 rows omitted\u001b[0m"
      ]
     },
     "execution_count": 3,
     "metadata": {},
     "output_type": "execute_result"
    }
   ],
   "source": [
    "using CSV; df = CSV.read(\"../data/trees.csv\", DataFrame)"
   ]
  },
  {
   "cell_type": "code",
   "execution_count": 4,
   "id": "bb44a69f",
   "metadata": {},
   "outputs": [
    {
     "data": {
      "text/plain": [
       "(31, 4)"
      ]
     },
     "execution_count": 4,
     "metadata": {},
     "output_type": "execute_result"
    }
   ],
   "source": [
    "size(df)"
   ]
  },
  {
   "cell_type": "code",
   "execution_count": 5,
   "id": "bac68ec5",
   "metadata": {},
   "outputs": [
    {
     "data": {
      "text/plain": [
       "(31, 4)"
      ]
     },
     "execution_count": 5,
     "metadata": {},
     "output_type": "execute_result"
    }
   ],
   "source": [
    "size(dropmissing!(copy(df)))"
   ]
  },
  {
   "cell_type": "code",
   "execution_count": 6,
   "id": "76a9aa50",
   "metadata": {},
   "outputs": [
    {
     "name": "stdout",
     "output_type": "stream",
     "text": [
      "31\n",
      "31\n"
     ]
    }
   ],
   "source": [
    "println(length(Set(df[!, :Index])))\n",
    "println(length(df[!, :Index]))"
   ]
  },
  {
   "cell_type": "code",
   "execution_count": 7,
   "id": "2d796e10",
   "metadata": {},
   "outputs": [
    {
     "data": {
      "text/plain": [
       "76.0"
      ]
     },
     "execution_count": 7,
     "metadata": {},
     "output_type": "execute_result"
    }
   ],
   "source": [
    "hmu = mean(df[!, Symbol(\"Height (ft)\")])"
   ]
  },
  {
   "cell_type": "code",
   "execution_count": 8,
   "id": "e681d027",
   "metadata": {},
   "outputs": [
    {
     "data": {
      "text/plain": [
       "31-element Vector{String}:\n",
       " \"shorter\"\n",
       " \"shorter\"\n",
       " \"shorter\"\n",
       " \"shorter\"\n",
       " \"taller\"\n",
       " \"taller\"\n",
       " \"shorter\"\n",
       " \"shorter\"\n",
       " \"taller\"\n",
       " \"shorter\"\n",
       " \"taller\"\n",
       " \"average\"\n",
       " \"average\"\n",
       " ⋮\n",
       " \"shorter\"\n",
       " \"taller\"\n",
       " \"taller\"\n",
       " \"shorter\"\n",
       " \"shorter\"\n",
       " \"taller\"\n",
       " \"taller\"\n",
       " \"taller\"\n",
       " \"taller\"\n",
       " \"taller\"\n",
       " \"taller\"\n",
       " \"taller\""
      ]
     },
     "execution_count": 8,
     "metadata": {},
     "output_type": "execute_result"
    }
   ],
   "source": [
    "df[!, Symbol(\"Height Class\")] = [begin\n",
    "        if x > hmu\n",
    "            \"taller\"\n",
    "        elseif x < hmu\n",
    "            \"shorter\"\n",
    "        else\n",
    "            \"average\"\n",
    "        end\n",
    "        end for x in df[!, Symbol(\"Height (ft)\")]\n",
    "     ]"
   ]
  },
  {
   "cell_type": "code",
   "execution_count": 9,
   "id": "6dc94140",
   "metadata": {},
   "outputs": [
    {
     "name": "stdout",
     "output_type": "stream",
     "text": [
      "\u001b[1m31×5 DataFrame\u001b[0m\n",
      "\u001b[1m Row \u001b[0m│\u001b[1m Index \u001b[0m\u001b[1m Girth (in) \u001b[0m\u001b[1m Height (ft) \u001b[0m\u001b[1m Volume(ft^3) \u001b[0m\u001b[1m Height Class \u001b[0m\n",
      "     │\u001b[90m Int64 \u001b[0m\u001b[90m Float64    \u001b[0m\u001b[90m Int64       \u001b[0m\u001b[90m Float64      \u001b[0m\u001b[90m String       \u001b[0m\n",
      "─────┼────────────────────────────────────────────────────────────\n",
      "   1 │     1         8.3           70          10.3  shorter\n",
      "   2 │     2         8.6           65          10.3  shorter\n",
      "   3 │     3         8.8           63          10.2  shorter\n",
      "   4 │     4        10.5           72          16.4  shorter\n",
      "   5 │     5        10.7           81          18.8  taller\n",
      "   6 │     6        10.8           83          19.7  taller\n",
      "   7 │     7        11.0           66          15.6  shorter\n",
      "   8 │     8        11.0           75          18.2  shorter\n",
      "   9 │     9        11.1           80          22.6  taller\n",
      "  10 │    10        11.2           75          19.9  shorter\n",
      "  11 │    11        11.3           79          24.2  taller\n",
      "  ⋮  │   ⋮        ⋮            ⋮            ⋮             ⋮\n",
      "  22 │    22        14.2           80          31.7  taller\n",
      "  23 │    23        14.5           74          36.3  shorter\n",
      "  24 │    24        16.0           72          38.3  shorter\n",
      "  25 │    25        16.3           77          42.6  taller\n",
      "  26 │    26        17.3           81          55.4  taller\n",
      "  27 │    27        17.5           82          55.7  taller\n",
      "  28 │    28        17.9           80          58.3  taller\n",
      "  29 │    29        18.0           80          51.5  taller\n",
      "  30 │    30        18.0           80          51.0  taller\n",
      "  31 │    31        20.6           87          77.0  taller\n",
      "\u001b[36m                                                   10 rows omitted\u001b[0m"
     ]
    }
   ],
   "source": [
    "show(df)"
   ]
  },
  {
   "cell_type": "code",
   "execution_count": 10,
   "id": "31e0c78d",
   "metadata": {
    "scrolled": true
   },
   "outputs": [
    {
     "data": {
      "text/html": [
       "<div><div style = \"float: left;\"><span>31×5 DataFrame</span></div><div style = \"float: right;\"><span style = \"font-style: italic;\">6 rows omitted</span></div><div style = \"clear: both;\"></div></div><div class = \"data-frame\" style = \"overflow-x: scroll;\"><table class = \"data-frame\" style = \"margin-bottom: 6px;\"><thead><tr class = \"header\"><th class = \"rowNumber\" style = \"font-weight: bold; text-align: right;\">Row</th><th style = \"text-align: left;\">Index</th><th style = \"text-align: left;\">Girth (in)</th><th style = \"text-align: left;\">Height (ft)</th><th style = \"text-align: left;\">Volume(ft^3)</th><th style = \"text-align: left;\">Height Class</th></tr><tr class = \"subheader headerLastRow\"><th class = \"rowNumber\" style = \"font-weight: bold; text-align: right;\"></th><th title = \"Int64\" style = \"text-align: left;\">Int64</th><th title = \"Float64\" style = \"text-align: left;\">Float64</th><th title = \"Int64\" style = \"text-align: left;\">Int64</th><th title = \"Float64\" style = \"text-align: left;\">Float64</th><th title = \"String\" style = \"text-align: left;\">String</th></tr></thead><tbody><tr><td class = \"rowNumber\" style = \"font-weight: bold; text-align: right;\">1</td><td style = \"text-align: right;\">1</td><td style = \"text-align: right;\">8.3</td><td style = \"text-align: right;\">70</td><td style = \"text-align: right;\">10.3</td><td style = \"text-align: left;\">shorter</td></tr><tr><td class = \"rowNumber\" style = \"font-weight: bold; text-align: right;\">2</td><td style = \"text-align: right;\">2</td><td style = \"text-align: right;\">8.6</td><td style = \"text-align: right;\">65</td><td style = \"text-align: right;\">10.3</td><td style = \"text-align: left;\">shorter</td></tr><tr><td class = \"rowNumber\" style = \"font-weight: bold; text-align: right;\">3</td><td style = \"text-align: right;\">3</td><td style = \"text-align: right;\">8.8</td><td style = \"text-align: right;\">63</td><td style = \"text-align: right;\">10.2</td><td style = \"text-align: left;\">shorter</td></tr><tr><td class = \"rowNumber\" style = \"font-weight: bold; text-align: right;\">4</td><td style = \"text-align: right;\">4</td><td style = \"text-align: right;\">10.5</td><td style = \"text-align: right;\">72</td><td style = \"text-align: right;\">16.4</td><td style = \"text-align: left;\">shorter</td></tr><tr><td class = \"rowNumber\" style = \"font-weight: bold; text-align: right;\">5</td><td style = \"text-align: right;\">5</td><td style = \"text-align: right;\">10.7</td><td style = \"text-align: right;\">81</td><td style = \"text-align: right;\">18.8</td><td style = \"text-align: left;\">taller</td></tr><tr><td class = \"rowNumber\" style = \"font-weight: bold; text-align: right;\">6</td><td style = \"text-align: right;\">6</td><td style = \"text-align: right;\">10.8</td><td style = \"text-align: right;\">83</td><td style = \"text-align: right;\">19.7</td><td style = \"text-align: left;\">taller</td></tr><tr><td class = \"rowNumber\" style = \"font-weight: bold; text-align: right;\">7</td><td style = \"text-align: right;\">7</td><td style = \"text-align: right;\">11.0</td><td style = \"text-align: right;\">66</td><td style = \"text-align: right;\">15.6</td><td style = \"text-align: left;\">shorter</td></tr><tr><td class = \"rowNumber\" style = \"font-weight: bold; text-align: right;\">8</td><td style = \"text-align: right;\">8</td><td style = \"text-align: right;\">11.0</td><td style = \"text-align: right;\">75</td><td style = \"text-align: right;\">18.2</td><td style = \"text-align: left;\">shorter</td></tr><tr><td class = \"rowNumber\" style = \"font-weight: bold; text-align: right;\">9</td><td style = \"text-align: right;\">9</td><td style = \"text-align: right;\">11.1</td><td style = \"text-align: right;\">80</td><td style = \"text-align: right;\">22.6</td><td style = \"text-align: left;\">taller</td></tr><tr><td class = \"rowNumber\" style = \"font-weight: bold; text-align: right;\">10</td><td style = \"text-align: right;\">10</td><td style = \"text-align: right;\">11.2</td><td style = \"text-align: right;\">75</td><td style = \"text-align: right;\">19.9</td><td style = \"text-align: left;\">shorter</td></tr><tr><td class = \"rowNumber\" style = \"font-weight: bold; text-align: right;\">11</td><td style = \"text-align: right;\">11</td><td style = \"text-align: right;\">11.3</td><td style = \"text-align: right;\">79</td><td style = \"text-align: right;\">24.2</td><td style = \"text-align: left;\">taller</td></tr><tr><td class = \"rowNumber\" style = \"font-weight: bold; text-align: right;\">12</td><td style = \"text-align: right;\">12</td><td style = \"text-align: right;\">11.4</td><td style = \"text-align: right;\">76</td><td style = \"text-align: right;\">21.0</td><td style = \"text-align: left;\">average</td></tr><tr><td class = \"rowNumber\" style = \"font-weight: bold; text-align: right;\">13</td><td style = \"text-align: right;\">13</td><td style = \"text-align: right;\">11.4</td><td style = \"text-align: right;\">76</td><td style = \"text-align: right;\">21.4</td><td style = \"text-align: left;\">average</td></tr><tr><td style = \"text-align: right;\">&vellip;</td><td style = \"text-align: right;\">&vellip;</td><td style = \"text-align: right;\">&vellip;</td><td style = \"text-align: right;\">&vellip;</td><td style = \"text-align: right;\">&vellip;</td><td style = \"text-align: right;\">&vellip;</td></tr><tr><td class = \"rowNumber\" style = \"font-weight: bold; text-align: right;\">20</td><td style = \"text-align: right;\">20</td><td style = \"text-align: right;\">13.8</td><td style = \"text-align: right;\">64</td><td style = \"text-align: right;\">24.9</td><td style = \"text-align: left;\">shorter</td></tr><tr><td class = \"rowNumber\" style = \"font-weight: bold; text-align: right;\">21</td><td style = \"text-align: right;\">21</td><td style = \"text-align: right;\">14.0</td><td style = \"text-align: right;\">78</td><td style = \"text-align: right;\">34.5</td><td style = \"text-align: left;\">taller</td></tr><tr><td class = \"rowNumber\" style = \"font-weight: bold; text-align: right;\">22</td><td style = \"text-align: right;\">22</td><td style = \"text-align: right;\">14.2</td><td style = \"text-align: right;\">80</td><td style = \"text-align: right;\">31.7</td><td style = \"text-align: left;\">taller</td></tr><tr><td class = \"rowNumber\" style = \"font-weight: bold; text-align: right;\">23</td><td style = \"text-align: right;\">23</td><td style = \"text-align: right;\">14.5</td><td style = \"text-align: right;\">74</td><td style = \"text-align: right;\">36.3</td><td style = \"text-align: left;\">shorter</td></tr><tr><td class = \"rowNumber\" style = \"font-weight: bold; text-align: right;\">24</td><td style = \"text-align: right;\">24</td><td style = \"text-align: right;\">16.0</td><td style = \"text-align: right;\">72</td><td style = \"text-align: right;\">38.3</td><td style = \"text-align: left;\">shorter</td></tr><tr><td class = \"rowNumber\" style = \"font-weight: bold; text-align: right;\">25</td><td style = \"text-align: right;\">25</td><td style = \"text-align: right;\">16.3</td><td style = \"text-align: right;\">77</td><td style = \"text-align: right;\">42.6</td><td style = \"text-align: left;\">taller</td></tr><tr><td class = \"rowNumber\" style = \"font-weight: bold; text-align: right;\">26</td><td style = \"text-align: right;\">26</td><td style = \"text-align: right;\">17.3</td><td style = \"text-align: right;\">81</td><td style = \"text-align: right;\">55.4</td><td style = \"text-align: left;\">taller</td></tr><tr><td class = \"rowNumber\" style = \"font-weight: bold; text-align: right;\">27</td><td style = \"text-align: right;\">27</td><td style = \"text-align: right;\">17.5</td><td style = \"text-align: right;\">82</td><td style = \"text-align: right;\">55.7</td><td style = \"text-align: left;\">taller</td></tr><tr><td class = \"rowNumber\" style = \"font-weight: bold; text-align: right;\">28</td><td style = \"text-align: right;\">28</td><td style = \"text-align: right;\">17.9</td><td style = \"text-align: right;\">80</td><td style = \"text-align: right;\">58.3</td><td style = \"text-align: left;\">taller</td></tr><tr><td class = \"rowNumber\" style = \"font-weight: bold; text-align: right;\">29</td><td style = \"text-align: right;\">29</td><td style = \"text-align: right;\">18.0</td><td style = \"text-align: right;\">80</td><td style = \"text-align: right;\">51.5</td><td style = \"text-align: left;\">taller</td></tr><tr><td class = \"rowNumber\" style = \"font-weight: bold; text-align: right;\">30</td><td style = \"text-align: right;\">30</td><td style = \"text-align: right;\">18.0</td><td style = \"text-align: right;\">80</td><td style = \"text-align: right;\">51.0</td><td style = \"text-align: left;\">taller</td></tr><tr><td class = \"rowNumber\" style = \"font-weight: bold; text-align: right;\">31</td><td style = \"text-align: right;\">31</td><td style = \"text-align: right;\">20.6</td><td style = \"text-align: right;\">87</td><td style = \"text-align: right;\">77.0</td><td style = \"text-align: left;\">taller</td></tr></tbody></table></div>"
      ],
      "text/latex": [
       "\\begin{tabular}{r|ccccc}\n",
       "\t& Index & Girth (in) & Height (ft) & Volume(ft\\^3) & Height Class\\\\\n",
       "\t\\hline\n",
       "\t& Int64 & Float64 & Int64 & Float64 & String\\\\\n",
       "\t\\hline\n",
       "\t1 & 1 & 8.3 & 70 & 10.3 & shorter \\\\\n",
       "\t2 & 2 & 8.6 & 65 & 10.3 & shorter \\\\\n",
       "\t3 & 3 & 8.8 & 63 & 10.2 & shorter \\\\\n",
       "\t4 & 4 & 10.5 & 72 & 16.4 & shorter \\\\\n",
       "\t5 & 5 & 10.7 & 81 & 18.8 & taller \\\\\n",
       "\t6 & 6 & 10.8 & 83 & 19.7 & taller \\\\\n",
       "\t7 & 7 & 11.0 & 66 & 15.6 & shorter \\\\\n",
       "\t8 & 8 & 11.0 & 75 & 18.2 & shorter \\\\\n",
       "\t9 & 9 & 11.1 & 80 & 22.6 & taller \\\\\n",
       "\t10 & 10 & 11.2 & 75 & 19.9 & shorter \\\\\n",
       "\t11 & 11 & 11.3 & 79 & 24.2 & taller \\\\\n",
       "\t12 & 12 & 11.4 & 76 & 21.0 & average \\\\\n",
       "\t13 & 13 & 11.4 & 76 & 21.4 & average \\\\\n",
       "\t14 & 14 & 11.7 & 69 & 21.3 & shorter \\\\\n",
       "\t15 & 15 & 12.0 & 75 & 19.1 & shorter \\\\\n",
       "\t16 & 16 & 12.9 & 74 & 22.2 & shorter \\\\\n",
       "\t17 & 17 & 12.9 & 85 & 33.8 & taller \\\\\n",
       "\t18 & 18 & 13.3 & 86 & 27.4 & taller \\\\\n",
       "\t19 & 19 & 13.7 & 71 & 25.7 & shorter \\\\\n",
       "\t20 & 20 & 13.8 & 64 & 24.9 & shorter \\\\\n",
       "\t21 & 21 & 14.0 & 78 & 34.5 & taller \\\\\n",
       "\t22 & 22 & 14.2 & 80 & 31.7 & taller \\\\\n",
       "\t23 & 23 & 14.5 & 74 & 36.3 & shorter \\\\\n",
       "\t24 & 24 & 16.0 & 72 & 38.3 & shorter \\\\\n",
       "\t25 & 25 & 16.3 & 77 & 42.6 & taller \\\\\n",
       "\t26 & 26 & 17.3 & 81 & 55.4 & taller \\\\\n",
       "\t27 & 27 & 17.5 & 82 & 55.7 & taller \\\\\n",
       "\t28 & 28 & 17.9 & 80 & 58.3 & taller \\\\\n",
       "\t29 & 29 & 18.0 & 80 & 51.5 & taller \\\\\n",
       "\t30 & 30 & 18.0 & 80 & 51.0 & taller \\\\\n",
       "\t$\\dots$ & $\\dots$ & $\\dots$ & $\\dots$ & $\\dots$ & $\\dots$ \\\\\n",
       "\\end{tabular}\n"
      ],
      "text/plain": [
       "\u001b[1m31×5 DataFrame\u001b[0m\n",
       "\u001b[1m Row \u001b[0m│\u001b[1m Index \u001b[0m\u001b[1m Girth (in) \u001b[0m\u001b[1m Height (ft) \u001b[0m\u001b[1m Volume(ft^3) \u001b[0m\u001b[1m Height Class \u001b[0m\n",
       "     │\u001b[90m Int64 \u001b[0m\u001b[90m Float64    \u001b[0m\u001b[90m Int64       \u001b[0m\u001b[90m Float64      \u001b[0m\u001b[90m String       \u001b[0m\n",
       "─────┼────────────────────────────────────────────────────────────\n",
       "   1 │     1         8.3           70          10.3  shorter\n",
       "   2 │     2         8.6           65          10.3  shorter\n",
       "   3 │     3         8.8           63          10.2  shorter\n",
       "   4 │     4        10.5           72          16.4  shorter\n",
       "   5 │     5        10.7           81          18.8  taller\n",
       "   6 │     6        10.8           83          19.7  taller\n",
       "   7 │     7        11.0           66          15.6  shorter\n",
       "   8 │     8        11.0           75          18.2  shorter\n",
       "   9 │     9        11.1           80          22.6  taller\n",
       "  10 │    10        11.2           75          19.9  shorter\n",
       "  11 │    11        11.3           79          24.2  taller\n",
       "  ⋮  │   ⋮        ⋮            ⋮            ⋮             ⋮\n",
       "  22 │    22        14.2           80          31.7  taller\n",
       "  23 │    23        14.5           74          36.3  shorter\n",
       "  24 │    24        16.0           72          38.3  shorter\n",
       "  25 │    25        16.3           77          42.6  taller\n",
       "  26 │    26        17.3           81          55.4  taller\n",
       "  27 │    27        17.5           82          55.7  taller\n",
       "  28 │    28        17.9           80          58.3  taller\n",
       "  29 │    29        18.0           80          51.5  taller\n",
       "  30 │    30        18.0           80          51.0  taller\n",
       "  31 │    31        20.6           87          77.0  taller\n",
       "\u001b[36m                                                   10 rows omitted\u001b[0m"
      ]
     },
     "execution_count": 10,
     "metadata": {},
     "output_type": "execute_result"
    }
   ],
   "source": [
    "df"
   ]
  },
  {
   "cell_type": "code",
   "execution_count": 11,
   "id": "01894ab3",
   "metadata": {},
   "outputs": [
    {
     "data": {
      "text/plain": [
       "31-element Vector{Bool}:\n",
       " 0\n",
       " 0\n",
       " 0\n",
       " 0\n",
       " 1\n",
       " 1\n",
       " 0\n",
       " 0\n",
       " 1\n",
       " 0\n",
       " 1\n",
       " 0\n",
       " 0\n",
       " ⋮\n",
       " 0\n",
       " 1\n",
       " 1\n",
       " 0\n",
       " 0\n",
       " 1\n",
       " 1\n",
       " 1\n",
       " 1\n",
       " 1\n",
       " 1\n",
       " 1"
      ]
     },
     "execution_count": 11,
     "metadata": {},
     "output_type": "execute_result"
    }
   ],
   "source": [
    "mask = [x == \"taller\" for x in df[!, Symbol(\"Height Class\")]]"
   ]
  },
  {
   "cell_type": "code",
   "execution_count": 12,
   "id": "6c301d80",
   "metadata": {},
   "outputs": [],
   "source": [
    "import Base: getindex"
   ]
  },
  {
   "cell_type": "code",
   "execution_count": 13,
   "id": "98974061",
   "metadata": {},
   "outputs": [
    {
     "data": {
      "text/plain": [
       "getindex (generic function with 363 methods)"
      ]
     },
     "execution_count": 13,
     "metadata": {},
     "output_type": "execute_result"
    }
   ],
   "source": [
    "function getindex(df::DataFrame, bv::Vector{Bool})\n",
    "    points::Vector{Int64} = findall(x -> x == 0, bv)\n",
    "    dfcopy::DataFrame = copy(df)\n",
    "    delete!(dfcopy, points)\n",
    "    dfcopy::DataFrame\n",
    "end"
   ]
  },
  {
   "cell_type": "code",
   "execution_count": 14,
   "id": "dcd52a8a",
   "metadata": {},
   "outputs": [
    {
     "data": {
      "text/html": [
       "<div><div style = \"float: left;\"><span>15×5 DataFrame</span></div><div style = \"clear: both;\"></div></div><div class = \"data-frame\" style = \"overflow-x: scroll;\"><table class = \"data-frame\" style = \"margin-bottom: 6px;\"><thead><tr class = \"header\"><th class = \"rowNumber\" style = \"font-weight: bold; text-align: right;\">Row</th><th style = \"text-align: left;\">Index</th><th style = \"text-align: left;\">Girth (in)</th><th style = \"text-align: left;\">Height (ft)</th><th style = \"text-align: left;\">Volume(ft^3)</th><th style = \"text-align: left;\">Height Class</th></tr><tr class = \"subheader headerLastRow\"><th class = \"rowNumber\" style = \"font-weight: bold; text-align: right;\"></th><th title = \"Int64\" style = \"text-align: left;\">Int64</th><th title = \"Float64\" style = \"text-align: left;\">Float64</th><th title = \"Int64\" style = \"text-align: left;\">Int64</th><th title = \"Float64\" style = \"text-align: left;\">Float64</th><th title = \"String\" style = \"text-align: left;\">String</th></tr></thead><tbody><tr><td class = \"rowNumber\" style = \"font-weight: bold; text-align: right;\">1</td><td style = \"text-align: right;\">5</td><td style = \"text-align: right;\">10.7</td><td style = \"text-align: right;\">81</td><td style = \"text-align: right;\">18.8</td><td style = \"text-align: left;\">taller</td></tr><tr><td class = \"rowNumber\" style = \"font-weight: bold; text-align: right;\">2</td><td style = \"text-align: right;\">6</td><td style = \"text-align: right;\">10.8</td><td style = \"text-align: right;\">83</td><td style = \"text-align: right;\">19.7</td><td style = \"text-align: left;\">taller</td></tr><tr><td class = \"rowNumber\" style = \"font-weight: bold; text-align: right;\">3</td><td style = \"text-align: right;\">9</td><td style = \"text-align: right;\">11.1</td><td style = \"text-align: right;\">80</td><td style = \"text-align: right;\">22.6</td><td style = \"text-align: left;\">taller</td></tr><tr><td class = \"rowNumber\" style = \"font-weight: bold; text-align: right;\">4</td><td style = \"text-align: right;\">11</td><td style = \"text-align: right;\">11.3</td><td style = \"text-align: right;\">79</td><td style = \"text-align: right;\">24.2</td><td style = \"text-align: left;\">taller</td></tr><tr><td class = \"rowNumber\" style = \"font-weight: bold; text-align: right;\">5</td><td style = \"text-align: right;\">17</td><td style = \"text-align: right;\">12.9</td><td style = \"text-align: right;\">85</td><td style = \"text-align: right;\">33.8</td><td style = \"text-align: left;\">taller</td></tr><tr><td class = \"rowNumber\" style = \"font-weight: bold; text-align: right;\">6</td><td style = \"text-align: right;\">18</td><td style = \"text-align: right;\">13.3</td><td style = \"text-align: right;\">86</td><td style = \"text-align: right;\">27.4</td><td style = \"text-align: left;\">taller</td></tr><tr><td class = \"rowNumber\" style = \"font-weight: bold; text-align: right;\">7</td><td style = \"text-align: right;\">21</td><td style = \"text-align: right;\">14.0</td><td style = \"text-align: right;\">78</td><td style = \"text-align: right;\">34.5</td><td style = \"text-align: left;\">taller</td></tr><tr><td class = \"rowNumber\" style = \"font-weight: bold; text-align: right;\">8</td><td style = \"text-align: right;\">22</td><td style = \"text-align: right;\">14.2</td><td style = \"text-align: right;\">80</td><td style = \"text-align: right;\">31.7</td><td style = \"text-align: left;\">taller</td></tr><tr><td class = \"rowNumber\" style = \"font-weight: bold; text-align: right;\">9</td><td style = \"text-align: right;\">25</td><td style = \"text-align: right;\">16.3</td><td style = \"text-align: right;\">77</td><td style = \"text-align: right;\">42.6</td><td style = \"text-align: left;\">taller</td></tr><tr><td class = \"rowNumber\" style = \"font-weight: bold; text-align: right;\">10</td><td style = \"text-align: right;\">26</td><td style = \"text-align: right;\">17.3</td><td style = \"text-align: right;\">81</td><td style = \"text-align: right;\">55.4</td><td style = \"text-align: left;\">taller</td></tr><tr><td class = \"rowNumber\" style = \"font-weight: bold; text-align: right;\">11</td><td style = \"text-align: right;\">27</td><td style = \"text-align: right;\">17.5</td><td style = \"text-align: right;\">82</td><td style = \"text-align: right;\">55.7</td><td style = \"text-align: left;\">taller</td></tr><tr><td class = \"rowNumber\" style = \"font-weight: bold; text-align: right;\">12</td><td style = \"text-align: right;\">28</td><td style = \"text-align: right;\">17.9</td><td style = \"text-align: right;\">80</td><td style = \"text-align: right;\">58.3</td><td style = \"text-align: left;\">taller</td></tr><tr><td class = \"rowNumber\" style = \"font-weight: bold; text-align: right;\">13</td><td style = \"text-align: right;\">29</td><td style = \"text-align: right;\">18.0</td><td style = \"text-align: right;\">80</td><td style = \"text-align: right;\">51.5</td><td style = \"text-align: left;\">taller</td></tr><tr><td class = \"rowNumber\" style = \"font-weight: bold; text-align: right;\">14</td><td style = \"text-align: right;\">30</td><td style = \"text-align: right;\">18.0</td><td style = \"text-align: right;\">80</td><td style = \"text-align: right;\">51.0</td><td style = \"text-align: left;\">taller</td></tr><tr><td class = \"rowNumber\" style = \"font-weight: bold; text-align: right;\">15</td><td style = \"text-align: right;\">31</td><td style = \"text-align: right;\">20.6</td><td style = \"text-align: right;\">87</td><td style = \"text-align: right;\">77.0</td><td style = \"text-align: left;\">taller</td></tr></tbody></table></div>"
      ],
      "text/latex": [
       "\\begin{tabular}{r|ccccc}\n",
       "\t& Index & Girth (in) & Height (ft) & Volume(ft\\^3) & Height Class\\\\\n",
       "\t\\hline\n",
       "\t& Int64 & Float64 & Int64 & Float64 & String\\\\\n",
       "\t\\hline\n",
       "\t1 & 5 & 10.7 & 81 & 18.8 & taller \\\\\n",
       "\t2 & 6 & 10.8 & 83 & 19.7 & taller \\\\\n",
       "\t3 & 9 & 11.1 & 80 & 22.6 & taller \\\\\n",
       "\t4 & 11 & 11.3 & 79 & 24.2 & taller \\\\\n",
       "\t5 & 17 & 12.9 & 85 & 33.8 & taller \\\\\n",
       "\t6 & 18 & 13.3 & 86 & 27.4 & taller \\\\\n",
       "\t7 & 21 & 14.0 & 78 & 34.5 & taller \\\\\n",
       "\t8 & 22 & 14.2 & 80 & 31.7 & taller \\\\\n",
       "\t9 & 25 & 16.3 & 77 & 42.6 & taller \\\\\n",
       "\t10 & 26 & 17.3 & 81 & 55.4 & taller \\\\\n",
       "\t11 & 27 & 17.5 & 82 & 55.7 & taller \\\\\n",
       "\t12 & 28 & 17.9 & 80 & 58.3 & taller \\\\\n",
       "\t13 & 29 & 18.0 & 80 & 51.5 & taller \\\\\n",
       "\t14 & 30 & 18.0 & 80 & 51.0 & taller \\\\\n",
       "\t15 & 31 & 20.6 & 87 & 77.0 & taller \\\\\n",
       "\\end{tabular}\n"
      ],
      "text/plain": [
       "\u001b[1m15×5 DataFrame\u001b[0m\n",
       "\u001b[1m Row \u001b[0m│\u001b[1m Index \u001b[0m\u001b[1m Girth (in) \u001b[0m\u001b[1m Height (ft) \u001b[0m\u001b[1m Volume(ft^3) \u001b[0m\u001b[1m Height Class \u001b[0m\n",
       "     │\u001b[90m Int64 \u001b[0m\u001b[90m Float64    \u001b[0m\u001b[90m Int64       \u001b[0m\u001b[90m Float64      \u001b[0m\u001b[90m String       \u001b[0m\n",
       "─────┼────────────────────────────────────────────────────────────\n",
       "   1 │     5        10.7           81          18.8  taller\n",
       "   2 │     6        10.8           83          19.7  taller\n",
       "   3 │     9        11.1           80          22.6  taller\n",
       "   4 │    11        11.3           79          24.2  taller\n",
       "   5 │    17        12.9           85          33.8  taller\n",
       "   6 │    18        13.3           86          27.4  taller\n",
       "   7 │    21        14.0           78          34.5  taller\n",
       "   8 │    22        14.2           80          31.7  taller\n",
       "   9 │    25        16.3           77          42.6  taller\n",
       "  10 │    26        17.3           81          55.4  taller\n",
       "  11 │    27        17.5           82          55.7  taller\n",
       "  12 │    28        17.9           80          58.3  taller\n",
       "  13 │    29        18.0           80          51.5  taller\n",
       "  14 │    30        18.0           80          51.0  taller\n",
       "  15 │    31        20.6           87          77.0  taller"
      ]
     },
     "execution_count": 14,
     "metadata": {},
     "output_type": "execute_result"
    }
   ],
   "source": [
    "tallerdf = df[mask]"
   ]
  },
  {
   "cell_type": "code",
   "execution_count": 19,
   "id": "78a15fd5",
   "metadata": {},
   "outputs": [
    {
     "data": {
      "text/plain": [
       "31-element Vector{Float64}:\n",
       "  8.3\n",
       "  8.6\n",
       "  8.8\n",
       " 10.5\n",
       " 10.7\n",
       " 10.8\n",
       " 11.0\n",
       " 11.0\n",
       " 11.1\n",
       " 11.2\n",
       " 11.3\n",
       " 11.4\n",
       " 11.4\n",
       "  ⋮\n",
       " 13.8\n",
       " 14.0\n",
       " 14.2\n",
       " 14.5\n",
       " 16.0\n",
       " 16.3\n",
       " 17.3\n",
       " 17.5\n",
       " 17.9\n",
       " 18.0\n",
       " 18.0\n",
       " 20.6"
      ]
     },
     "execution_count": 19,
     "metadata": {},
     "output_type": "execute_result"
    }
   ],
   "source": [
    "grow_pop = df[!, Symbol(\"Girth (in)\")]"
   ]
  },
  {
   "cell_type": "code",
   "execution_count": 21,
   "id": "c25ccd70",
   "metadata": {},
   "outputs": [
    {
     "data": {
      "text/plain": [
       "15-element Vector{Float64}:\n",
       " 10.7\n",
       " 10.8\n",
       " 11.1\n",
       " 11.3\n",
       " 12.9\n",
       " 13.3\n",
       " 14.0\n",
       " 14.2\n",
       " 16.3\n",
       " 17.3\n",
       " 17.5\n",
       " 17.9\n",
       " 18.0\n",
       " 18.0\n",
       " 20.6"
      ]
     },
     "execution_count": 21,
     "metadata": {},
     "output_type": "execute_result"
    }
   ],
   "source": [
    "grow_samp = tallerdf[!, Symbol(\"Girth (in)\")]"
   ]
  },
  {
   "cell_type": "code",
   "execution_count": 24,
   "id": "c43ab9a8",
   "metadata": {},
   "outputs": [
    {
     "data": {
      "text/plain": [
       "15-element Vector{Float64}:\n",
       " 11.2\n",
       " 12.9\n",
       " 11.0\n",
       " 14.0\n",
       " 14.2\n",
       " 11.4\n",
       "  8.3\n",
       " 18.0\n",
       " 13.7\n",
       " 17.9\n",
       " 20.6\n",
       " 11.4\n",
       " 11.4\n",
       " 16.0\n",
       " 13.3"
      ]
     },
     "execution_count": 24,
     "metadata": {},
     "output_type": "execute_result"
    }
   ],
   "source": [
    "samples = [begin\n",
    "        n = rand(1:length(grow))\n",
    "        grow_pop[n] \n",
    "    end for n in 1:length(grow_samp) ]"
   ]
  },
  {
   "cell_type": "code",
   "execution_count": 26,
   "id": "c60a9958",
   "metadata": {},
   "outputs": [
    {
     "data": {
      "text/plain": [
       "One sample t-test\n",
       "-----------------\n",
       "Population details:\n",
       "    parameter of interest:   Mean\n",
       "    value under h_0:         0\n",
       "    point estimate:          -1.24\n",
       "    95% confidence interval: (-3.338, 0.8581)\n",
       "\n",
       "Test summary:\n",
       "    outcome with 95% confidence: fail to reject h_0\n",
       "    two-sided p-value:           0.2256\n",
       "\n",
       "Details:\n",
       "    number of observations:   15\n",
       "    t-statistic:              -1.2675959523435136\n",
       "    degrees of freedom:       14\n",
       "    empirical standard error: 0.9782296935450965\n"
      ]
     },
     "execution_count": 26,
     "metadata": {},
     "output_type": "execute_result"
    }
   ],
   "source": [
    "OneSampleTTest(samples, grow_samp)"
   ]
  },
  {
   "cell_type": "code",
   "execution_count": null,
   "id": "67fae33f",
   "metadata": {},
   "outputs": [],
   "source": []
  },
  {
   "cell_type": "code",
   "execution_count": null,
   "id": "50d80ee6",
   "metadata": {},
   "outputs": [],
   "source": []
  }
 ],
 "metadata": {
  "kernelspec": {
   "display_name": "Julia 1.9.0",
   "language": "julia",
   "name": "julia-1.9"
  },
  "language_info": {
   "file_extension": ".jl",
   "mimetype": "application/julia",
   "name": "julia",
   "version": "1.9.0"
  }
 },
 "nbformat": 4,
 "nbformat_minor": 5
}
