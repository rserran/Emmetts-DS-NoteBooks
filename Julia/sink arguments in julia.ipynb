{
 "cells": [
  {
   "cell_type": "code",
   "execution_count": 1,
   "id": "e57b0893-85a9-4513-8b4a-e08fc1044e86",
   "metadata": {},
   "outputs": [],
   "source": [
    "using DataFrames"
   ]
  },
  {
   "cell_type": "code",
   "execution_count": 4,
   "id": "8f7c036d-3a00-41ba-95fd-77dec1516c15",
   "metadata": {},
   "outputs": [
    {
     "name": "stderr",
     "output_type": "stream",
     "text": [
      "\u001b[36m\u001b[1m[ \u001b[22m\u001b[39m\u001b[36m\u001b[1mInfo: \u001b[22m\u001b[39mPrecompiling CSV [336ed68f-0bac-5ca0-87d4-7b16caf5d00b]\n"
     ]
    }
   ],
   "source": [
    "using CSV"
   ]
  },
  {
   "cell_type": "code",
   "execution_count": 5,
   "id": "c06aa682-de83-41fa-ac83-908278db4622",
   "metadata": {},
   "outputs": [
    {
     "ename": "LoadError",
     "evalue": "ArgumentError: provide a valid sink argument, like `using DataFrames; CSV.read(source, DataFrame)`",
     "output_type": "error",
     "traceback": [
      "ArgumentError: provide a valid sink argument, like `using DataFrames; CSV.read(source, DataFrame)`",
      "",
      "Stacktrace:",
      " [1] read(source::String, sink::Nothing; copycols::Bool, kwargs::Base.Pairs{Symbol, Union{}, Tuple{}, NamedTuple{(), Tuple{}}})",
      "   @ CSV ~/.julia/packages/CSV/tmZyn/src/CSV.jl:115",
      " [2] read(source::String, sink::Nothing)",
      "   @ CSV ~/.julia/packages/CSV/tmZyn/src/CSV.jl:113",
      " [3] read(source::String)",
      "   @ CSV ~/.julia/packages/CSV/tmZyn/src/CSV.jl:113",
      " [4] top-level scope",
      "   @ In[5]:1"
     ]
    }
   ],
   "source": [
    "df = CSV.read(\"../Downloads/cars.csv\")"
   ]
  },
  {
   "cell_type": "code",
   "execution_count": 6,
   "id": "dff1fba9-d56c-4236-b269-163e2622d2c2",
   "metadata": {},
   "outputs": [
    {
     "data": {
      "text/plain": [
       "to_data_column (generic function with 1 method)"
      ]
     },
     "execution_count": 6,
     "metadata": {},
     "output_type": "execute_result"
    }
   ],
   "source": [
    "function to_data_column(data::Matrix)\n",
    "    join((begin\n",
    "        join((val for val in row), \" \")\n",
    "    end for row in eachrow(data)), \"\\n\")::String\n",
    "end"
   ]
  },
  {
   "cell_type": "code",
   "execution_count": 7,
   "id": "093333be-9d4f-46a0-b7cd-b40a3a964a86",
   "metadata": {},
   "outputs": [
    {
     "data": {
      "text/plain": [
       "2×3 Matrix{Int64}:\n",
       " 5  10  15\n",
       " 1   2   3"
      ]
     },
     "execution_count": 7,
     "metadata": {},
     "output_type": "execute_result"
    }
   ],
   "source": [
    "mat = [5 10 15; 1 2 3]"
   ]
  },
  {
   "cell_type": "code",
   "execution_count": 9,
   "id": "addf3e31-9e09-4122-ba12-a30979de85d0",
   "metadata": {},
   "outputs": [
    {
     "name": "stdout",
     "output_type": "stream",
     "text": [
      "5 10 15\n",
      "1 2 3"
     ]
    }
   ],
   "source": [
    "print(to_data_column(mat))"
   ]
  },
  {
   "cell_type": "code",
   "execution_count": 52,
   "id": "4a8e784b-5dd5-496d-8678-a741f7023451",
   "metadata": {},
   "outputs": [
    {
     "name": "stderr",
     "output_type": "stream",
     "text": [
      "WARNING: replacing module DataColumns.\n"
     ]
    },
    {
     "data": {
      "text/plain": [
       "Main.DataColumns"
      ]
     },
     "execution_count": 52,
     "metadata": {},
     "output_type": "execute_result"
    }
   ],
   "source": [
    "module DataColumns\n",
    "\n",
    "\n",
    "function read(path::String, T::Type{<:AbstractArray})\n",
    "    hcat([begin\n",
    "            [parse(Int64, ob) for ob in split(row, \" \")]\n",
    "    end for row in readlines(path)] ...)\n",
    "end\n",
    "\n",
    "function read(path::String, T::Type{<:Any})\n",
    "    mat::Matrix = read(path, Matrix)\n",
    "    pairs::Vector{Pair} = [Symbol(e) => col for (e, col) in enumerate(eachcol(mat))]\n",
    "    T(pairs ...)::T\n",
    "end\n",
    "\n",
    "read(path::String) = read(path, Matrix)\n",
    "end"
   ]
  },
  {
   "cell_type": "code",
   "execution_count": 53,
   "id": "811bca03-25b8-4a6a-8d8d-f947fd804cfe",
   "metadata": {},
   "outputs": [],
   "source": [
    "touch(\"example.dc\")\n",
    "\n",
    "open(\"example.dc\", \"w\") do o::IOStream\n",
    "    print(o, to_data_column(mat))\n",
    "end"
   ]
  },
  {
   "cell_type": "code",
   "execution_count": 54,
   "id": "72832f28-abb8-4be1-bf85-b74fc7f27551",
   "metadata": {},
   "outputs": [],
   "source": [
    "using Main.DataColumns"
   ]
  },
  {
   "cell_type": "code",
   "execution_count": 55,
   "id": "a6af21b4-85d3-4c96-9b5d-f70b0cb4d9af",
   "metadata": {},
   "outputs": [
    {
     "data": {
      "text/plain": [
       "3×2 Matrix{Int64}:\n",
       "  5  1\n",
       " 10  2\n",
       " 15  3"
      ]
     },
     "execution_count": 55,
     "metadata": {},
     "output_type": "execute_result"
    }
   ],
   "source": [
    "DataColumns.read(\"example.dc\")"
   ]
  },
  {
   "cell_type": "code",
   "execution_count": 56,
   "id": "56f22688-95f2-48d2-96d5-adee983b82fa",
   "metadata": {},
   "outputs": [
    {
     "data": {
      "text/plain": [
       "Dict{Symbol, SubArray{Int64, 1, Matrix{Int64}, Tuple{Base.Slice{Base.OneTo{Int64}}, Int64}, true}} with 2 entries:\n",
       "  Symbol(\"1\") => [5, 10, 15]\n",
       "  Symbol(\"2\") => [1, 2, 3]"
      ]
     },
     "execution_count": 56,
     "metadata": {},
     "output_type": "execute_result"
    }
   ],
   "source": [
    "DataColumns.read(\"example.dc\", Dict)"
   ]
  },
  {
   "cell_type": "code",
   "execution_count": 59,
   "id": "0986929a-174a-49a7-bf9c-a9ceb8868ce6",
   "metadata": {},
   "outputs": [
    {
     "data": {
      "text/html": [
       "<div><div style = \"float: left;\"><span>3×2 DataFrame</span></div><div style = \"clear: both;\"></div></div><div class = \"data-frame\" style = \"overflow-x: scroll;\"><table class = \"data-frame\" style = \"margin-bottom: 6px;\"><thead><tr class = \"header\"><th class = \"rowNumber\" style = \"font-weight: bold; text-align: right;\">Row</th><th style = \"text-align: left;\">1</th><th style = \"text-align: left;\">2</th></tr><tr class = \"subheader headerLastRow\"><th class = \"rowNumber\" style = \"font-weight: bold; text-align: right;\"></th><th title = \"Int64\" style = \"text-align: left;\">Int64</th><th title = \"Int64\" style = \"text-align: left;\">Int64</th></tr></thead><tbody><tr><td class = \"rowNumber\" style = \"font-weight: bold; text-align: right;\">1</td><td style = \"text-align: right;\">5</td><td style = \"text-align: right;\">1</td></tr><tr><td class = \"rowNumber\" style = \"font-weight: bold; text-align: right;\">2</td><td style = \"text-align: right;\">10</td><td style = \"text-align: right;\">2</td></tr><tr><td class = \"rowNumber\" style = \"font-weight: bold; text-align: right;\">3</td><td style = \"text-align: right;\">15</td><td style = \"text-align: right;\">3</td></tr></tbody></table></div>"
      ],
      "text/latex": [
       "\\begin{tabular}{r|cc}\n",
       "\t& 1 & 2\\\\\n",
       "\t\\hline\n",
       "\t& Int64 & Int64\\\\\n",
       "\t\\hline\n",
       "\t1 & 5 & 1 \\\\\n",
       "\t2 & 10 & 2 \\\\\n",
       "\t3 & 15 & 3 \\\\\n",
       "\\end{tabular}\n"
      ],
      "text/plain": [
       "\u001b[1m3×2 DataFrame\u001b[0m\n",
       "\u001b[1m Row \u001b[0m│\u001b[1m 1     \u001b[0m\u001b[1m 2     \u001b[0m\n",
       "     │\u001b[90m Int64 \u001b[0m\u001b[90m Int64 \u001b[0m\n",
       "─────┼──────────────\n",
       "   1 │     5      1\n",
       "   2 │    10      2\n",
       "   3 │    15      3"
      ]
     },
     "execution_count": 59,
     "metadata": {},
     "output_type": "execute_result"
    }
   ],
   "source": [
    "df = DataColumns.read(\"example.dc\", DataFrame)"
   ]
  },
  {
   "cell_type": "code",
   "execution_count": 60,
   "id": "299adac8-a9c7-4034-9f0e-658e44036b2b",
   "metadata": {},
   "outputs": [
    {
     "data": {
      "text/plain": [
       "to_data_column (generic function with 2 methods)"
      ]
     },
     "execution_count": 60,
     "metadata": {},
     "output_type": "execute_result"
    }
   ],
   "source": [
    "function to_data_column(data::Any)\n",
    "    join((begin\n",
    "        join((val for val in row), \" \")\n",
    "    end for row in eachrow(data)), \"\\n\")::String\n",
    "end"
   ]
  },
  {
   "cell_type": "code",
   "execution_count": 62,
   "id": "c5ac7384-47b0-43b8-aee3-e45187e315da",
   "metadata": {},
   "outputs": [
    {
     "name": "stdout",
     "output_type": "stream",
     "text": [
      "5 1\n",
      "10 2\n",
      "15 3"
     ]
    }
   ],
   "source": [
    "print(to_data_column(df))"
   ]
  },
  {
   "cell_type": "code",
   "execution_count": null,
   "id": "746cf942-8cf0-4d74-8b92-446f2a96f217",
   "metadata": {},
   "outputs": [],
   "source": []
  }
 ],
 "metadata": {
  "kernelspec": {
   "display_name": "Julia 1.9.2",
   "language": "julia",
   "name": "julia-1.9"
  },
  "language_info": {
   "file_extension": ".jl",
   "mimetype": "application/julia",
   "name": "julia",
   "version": "1.9.2"
  }
 },
 "nbformat": 4,
 "nbformat_minor": 5
}
