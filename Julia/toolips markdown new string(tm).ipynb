{
 "cells": [
  {
   "cell_type": "code",
   "execution_count": 8,
   "id": "b5468562",
   "metadata": {},
   "outputs": [],
   "source": [
    "using Revise\n",
    "using Toolips"
   ]
  },
  {
   "cell_type": "code",
   "execution_count": 41,
   "id": "8c9f22e4",
   "metadata": {},
   "outputs": [],
   "source": [
    "import Base: string"
   ]
  },
  {
   "cell_type": "code",
   "execution_count": 42,
   "id": "b9215c18",
   "metadata": {},
   "outputs": [
    {
     "name": "stderr",
     "output_type": "stream",
     "text": [
      "\u001b[32m\u001b[1m   Resolving\u001b[22m\u001b[39m package versions...\n",
      "\u001b[32m\u001b[1m  No Changes\u001b[22m\u001b[39m to `~/.julia/environments/v1.9/Project.toml`\n",
      "\u001b[32m\u001b[1m  No Changes\u001b[22m\u001b[39m to `~/.julia/environments/v1.9/Manifest.toml`\n"
     ]
    }
   ],
   "source": [
    "using Pkg; Pkg.develop(path = \"../packages/toolips/ToolipsMarkdown.jl\")"
   ]
  },
  {
   "cell_type": "code",
   "execution_count": 113,
   "id": "83d68d9f",
   "metadata": {},
   "outputs": [],
   "source": [
    "using ToolipsMarkdown"
   ]
  },
  {
   "cell_type": "code",
   "execution_count": 126,
   "id": "1d42d65b",
   "metadata": {},
   "outputs": [
    {
     "data": {
      "text/plain": [
       "ToolipsMarkdown.TextStyleModifier(\"function example(x::Any)\\n    \\nend\", Dict{UnitRange{Int64}, Symbol}(), Dict{Symbol, Vector{Pair{String, String}}}())"
      ]
     },
     "execution_count": 126,
     "metadata": {},
     "output_type": "execute_result"
    }
   ],
   "source": [
    "tm = ToolipsMarkdown.TextStyleModifier(\"\"\"\n",
    "function example(x::Any)\n",
    "    \n",
    "end\"\"\")"
   ]
  },
  {
   "cell_type": "code",
   "execution_count": 127,
   "id": "aaba684b",
   "metadata": {},
   "outputs": [
    {
     "data": {
      "text/plain": [
       "Dict{Symbol, Vector{Pair{String, String}}} with 21 entries:\n",
       "  :begin       => [\"color\"=>\"#fc038c\"]\n",
       "  :default     => [\"color\"=>\"#3D3D3D\"]\n",
       "  :for         => [\"color\"=>\"#fc038c\"]\n",
       "  :exit        => [\"color\"=>\"teal\"]\n",
       "  :multistring => [\"color\"=>\"darkgreen\"]\n",
       "  :mutable     => [\"color\"=>\"teal\"]\n",
       "  :struct      => [\"color\"=>\"#fc038c\"]\n",
       "  :func        => [\"color\"=>\"#fc038c\"]\n",
       "  :module      => [\"color\"=>\"red\"]\n",
       "  :string      => [\"color\"=>\"green\"]\n",
       "  :in          => [\"color\"=>\"teal\"]\n",
       "  :abstract    => [\"color\"=>\"teal\"]\n",
       "  :char        => [\"color\"=>\"#8b0000\"]\n",
       "  :end         => [\"color\"=>\"#b81870\"]\n",
       "  :import      => [\"color\"=>\"#fc038c\"]\n",
       "  :op          => [\"color\"=>\"darkblue\"]\n",
       "  :type        => [\"color\"=>\"#D67229\"]\n",
       "  :funcn       => [\"color\"=>\"blue\"]\n",
       "  :number      => [\"color\"=>\"#8b0000\"]\n",
       "  :if          => [\"color\"=>\"#fc038c\"]\n",
       "  :using       => [\"color\"=>\"teal\"]"
      ]
     },
     "execution_count": 127,
     "metadata": {},
     "output_type": "execute_result"
    }
   ],
   "source": [
    "ToolipsMarkdown.julia_block!(tm)"
   ]
  },
  {
   "cell_type": "code",
   "execution_count": 128,
   "id": "448768ac",
   "metadata": {},
   "outputs": [
    {
     "data": {
      "text/html": [
       "<a id=modiftxt style='color: #fc038c;'>function</a><a id=modiftxt style='color: #3D3D3D;'>&nbsp;</a><a id=modiftxt style='color: blue;'>example</a><a id=modiftxt style='color: #3D3D3D;'>(x</a><a id=modiftxt style='color: #D67229;'>::Any</a><a id=modiftxt style='color: #3D3D3D;'>)<br>&nbsp;&nbsp;&nbsp;&nbsp;</a><a id=modiftxt style='color: #b81870;'>\n",
       "end</a>"
      ]
     },
     "metadata": {},
     "output_type": "display_data"
    }
   ],
   "source": [
    "display(\"text/html\", string(tm))"
   ]
  },
  {
   "cell_type": "code",
   "execution_count": 129,
   "id": "f3927895",
   "metadata": {},
   "outputs": [
    {
     "data": {
      "text/plain": [
       "Dict{UnitRange{Int64}, Symbol} with 4 entries:\n",
       "  10:16 => :funcn\n",
       "  30:33 => :end\n",
       "  1:8   => :func\n",
       "  19:23 => :type"
      ]
     },
     "execution_count": 129,
     "metadata": {},
     "output_type": "execute_result"
    }
   ],
   "source": [
    "tm.marks"
   ]
  },
  {
   "cell_type": "code",
   "execution_count": 130,
   "id": "b28f922d",
   "metadata": {},
   "outputs": [
    {
     "data": {
      "text/plain": [
       "4-element Vector{String}:\n",
       " \"example\"\n",
       " \"\\nend\"\n",
       " \"function\"\n",
       " \"::Any\""
      ]
     },
     "execution_count": 130,
     "metadata": {},
     "output_type": "execute_result"
    }
   ],
   "source": [
    "[tm.raw[mark] for mark in keys(tm.marks)]"
   ]
  },
  {
   "cell_type": "code",
   "execution_count": null,
   "id": "c7c9e58f",
   "metadata": {},
   "outputs": [],
   "source": []
  },
  {
   "cell_type": "code",
   "execution_count": 107,
   "id": "65480f9c",
   "metadata": {},
   "outputs": [
    {
     "data": {
      "text/plain": [
       "\"function example(x::Any)\""
      ]
     },
     "execution_count": 107,
     "metadata": {},
     "output_type": "execute_result"
    }
   ],
   "source": [
    "tm.raw"
   ]
  },
  {
   "cell_type": "code",
   "execution_count": 98,
   "id": "16bfda48",
   "metadata": {},
   "outputs": [
    {
     "name": "stdout",
     "output_type": "stream",
     "text": [
      ":funcn => \"example\"\n",
      ":func => \"function\"\n",
      ":type => \"::Any\"\n"
     ]
    }
   ],
   "source": [
    "for mark in tm.marks\n",
    "    println(mark[2] => tm.raw[mark[1]])\n",
    "end"
   ]
  },
  {
   "cell_type": "code",
   "execution_count": 80,
   "id": "4055ec03",
   "metadata": {},
   "outputs": [
    {
     "data": {
      "text/plain": [
       "bstring (generic function with 1 method)"
      ]
     },
     "execution_count": 80,
     "metadata": {},
     "output_type": "execute_result"
    }
   ],
   "source": [
    "function bstring(tm::ToolipsMarkdown.TextStyleModifier)\n",
    "    prev = 1\n",
    "    finales = Vector{Servable}()\n",
    "    sortedmarks = sort(tm.marks)\n",
    "    [begin\n",
    "        if length(mark) > 1\n",
    "            if minimum(mark) - prev > 1\n",
    "                txt = a(\"modiftxt\", text = replace(tm.raw[prev:minimum(mark) - 1], \" \"  => \"\\\\u00A0\",\n",
    "                \"\\n\"  =>  \"<br>\", \"</br>\" => \"<br>\", \"\\\\\" => \"&bsol;\"))\n",
    "                style!(txt, tm.styles[:default] ...)\n",
    "                push!(finales, txt)\n",
    "            end\n",
    "            txt = a(\"modiftxt\", text = replace(tm.raw[mark], \" \"  => \"\\\\u00A0\",\n",
    "        \"\\n\"  =>  \"<br>\", \"</br>\" => \"<br>\", \"\\\\\" => \"&bsol;\"))\n",
    "            if mname in keys(tm.styles)\n",
    "                style!(txt, tm.styles[mname] ...)   \n",
    "            else\n",
    "                style!(txt, tm.styles[:default] ...)\n",
    "            end\n",
    "            push!(finales, txt)\n",
    "            prev = maximum(mark) + 1\n",
    "        end\n",
    "    end for (mark, mname) in sortedmarks]\n",
    "    println(maximum(sortedmarks)[1][2])\n",
    "    println(length(tm.raw))\n",
    "    if maximum(sortedmarks)[2] != length(tm.raw)\n",
    "        txt = a(\"modiftxt\", text = replace(tm.raw[maximum(maximum(sortedmarks)[1]) + 1:length(tm.raw)], \n",
    "            \" \"  => \"&\",\n",
    "            \"\\n\"  =>  \"<br>\", \"</br>\" => \"<br>\", \"\\\\\" => \"&bsol;\"))\n",
    "        style!(txt, tm.styles[:default] ...)\n",
    "        push!(finales, txt)\n",
    "    end\n",
    "    sc = Toolips.SpoofConnection()\n",
    "    write!(sc, finales)\n",
    "    sc.http.text::String\n",
    "end"
   ]
  },
  {
   "cell_type": "code",
   "execution_count": 81,
   "id": "a1be6c94",
   "metadata": {},
   "outputs": [
    {
     "name": "stdout",
     "output_type": "stream",
     "text": [
      "20\n",
      "24\n"
     ]
    },
    {
     "data": {
      "text/html": [
       "<a id=modiftxt style='color: #fc038c;'>function</a><a id=modiftxt style='color: blue;'>example</a><a id=modiftxt style='color: #3D3D3D;'>(x</a><a id=modiftxt style='color: #D67229;'>::Any</a><a id=modiftxt style='color: #3D3D3D;'>)</a>"
      ]
     },
     "metadata": {},
     "output_type": "display_data"
    }
   ],
   "source": [
    "display(\"text/html\", bstring(tm))"
   ]
  },
  {
   "cell_type": "code",
   "execution_count": 79,
   "id": "8e67a998",
   "metadata": {},
   "outputs": [
    {
     "data": {
      "text/plain": [
       "Dict{UnitRange{Int64}, Symbol} with 3 entries:\n",
       "  10:16 => :funcn\n",
       "  1:8   => :func\n",
       "  19:23 => :type"
      ]
     },
     "execution_count": 79,
     "metadata": {},
     "output_type": "execute_result"
    }
   ],
   "source": [
    "tm.marks"
   ]
  },
  {
   "cell_type": "code",
   "execution_count": 89,
   "id": "04b46e55",
   "metadata": {},
   "outputs": [
    {
     "data": {
      "text/plain": [
       "KeySet for a OrderedCollections.OrderedDict{UnitRange{Int64}, Symbol} with 3 entries. Keys:\n",
       "  1:8\n",
       "  10:16\n",
       "  19:23"
      ]
     },
     "execution_count": 89,
     "metadata": {},
     "output_type": "execute_result"
    }
   ],
   "source": [
    "ks = keys(sort(tm.marks))"
   ]
  },
  {
   "cell_type": "code",
   "execution_count": 90,
   "id": "05aac9a5",
   "metadata": {},
   "outputs": [
    {
     "data": {
      "text/plain": [
       "19:23"
      ]
     },
     "execution_count": 90,
     "metadata": {},
     "output_type": "execute_result"
    }
   ],
   "source": [
    "maximum(ks)"
   ]
  },
  {
   "cell_type": "code",
   "execution_count": 84,
   "id": "7bee0e8c",
   "metadata": {},
   "outputs": [
    {
     "ename": "LoadError",
     "evalue": "MethodError: no method matching sort(::Base.KeySet{UnitRange{Int64}, Dict{UnitRange{Int64}, Symbol}})\n\n\u001b[0mClosest candidates are:\n\u001b[0m  sort(\u001b[91m::AbstractUnitRange\u001b[39m)\n\u001b[0m\u001b[90m   @\u001b[39m \u001b[90mBase\u001b[39m \u001b[90m\u001b[4mrange.jl:1384\u001b[24m\u001b[39m\n\u001b[0m  sort(\u001b[91m::AbstractRange\u001b[39m)\n\u001b[0m\u001b[90m   @\u001b[39m \u001b[90mBase\u001b[39m \u001b[90m\u001b[4mrange.jl:1387\u001b[24m\u001b[39m\n\u001b[0m  sort(\u001b[91m::AbstractVector\u001b[39m; kws...)\n\u001b[0m\u001b[90m   @\u001b[39m \u001b[90mBase\u001b[39m \u001b[90m\u001b[4msort.jl:1400\u001b[24m\u001b[39m\n\u001b[0m  ...\n",
     "output_type": "error",
     "traceback": [
      "MethodError: no method matching sort(::Base.KeySet{UnitRange{Int64}, Dict{UnitRange{Int64}, Symbol}})\n\n\u001b[0mClosest candidates are:\n\u001b[0m  sort(\u001b[91m::AbstractUnitRange\u001b[39m)\n\u001b[0m\u001b[90m   @\u001b[39m \u001b[90mBase\u001b[39m \u001b[90m\u001b[4mrange.jl:1384\u001b[24m\u001b[39m\n\u001b[0m  sort(\u001b[91m::AbstractRange\u001b[39m)\n\u001b[0m\u001b[90m   @\u001b[39m \u001b[90mBase\u001b[39m \u001b[90m\u001b[4mrange.jl:1387\u001b[24m\u001b[39m\n\u001b[0m  sort(\u001b[91m::AbstractVector\u001b[39m; kws...)\n\u001b[0m\u001b[90m   @\u001b[39m \u001b[90mBase\u001b[39m \u001b[90m\u001b[4msort.jl:1400\u001b[24m\u001b[39m\n\u001b[0m  ...\n",
      "",
      "Stacktrace:",
      " [1] top-level scope",
      "   @ In[84]:1"
     ]
    }
   ],
   "source": [
    "maximum(maximum()))"
   ]
  },
  {
   "cell_type": "code",
   "execution_count": 82,
   "id": "a294ca83",
   "metadata": {},
   "outputs": [
    {
     "data": {
      "text/plain": [
       "OrderedCollections.OrderedDict{UnitRange{Int64}, Symbol} with 3 entries:\n",
       "  1:8   => :func\n",
       "  10:16 => :funcn\n",
       "  19:23 => :type"
      ]
     },
     "execution_count": 82,
     "metadata": {},
     "output_type": "execute_result"
    }
   ],
   "source": [
    "sorted = sort(tm.marks)"
   ]
  },
  {
   "cell_type": "code",
   "execution_count": 91,
   "id": "ce509df1",
   "metadata": {},
   "outputs": [
    {
     "ename": "LoadError",
     "evalue": "BoundsError: attempt to access Pair{UnitRange{Int64}, Symbol} at index [3]",
     "output_type": "error",
     "traceback": [
      "BoundsError: attempt to access Pair{UnitRange{Int64}, Symbol} at index [3]",
      "",
      "Stacktrace:",
      " [1] indexed_iterate(p::Pair{UnitRange{Int64}, Symbol}, i::Int64, state::Int64)",
      "   @ Base ./pair.jl:42",
      " [2] (::var\"#49#50\")(::Pair{UnitRange{Int64}, Symbol})",
      "   @ Main ./none:0",
      " [3] iterate",
      "   @ ./generator.jl:47 [inlined]",
      " [4] collect(itr::Base.Generator{OrderedCollections.OrderedDict{UnitRange{Int64}, Symbol}, var\"#49#50\"})",
      "   @ Base ./array.jl:782",
      " [5] top-level scope",
      "   @ In[91]:1"
     ]
    }
   ],
   "source": [
    "[println(mark) for (e, mark, nname) in sort(tm.marks)]"
   ]
  },
  {
   "cell_type": "code",
   "execution_count": null,
   "id": "e62d0c69",
   "metadata": {},
   "outputs": [],
   "source": []
  }
 ],
 "metadata": {
  "kernelspec": {
   "display_name": "Julia 1.9.2",
   "language": "julia",
   "name": "julia-1.9"
  },
  "language_info": {
   "file_extension": ".jl",
   "mimetype": "application/julia",
   "name": "julia",
   "version": "1.9.2"
  }
 },
 "nbformat": 4,
 "nbformat_minor": 5
}
