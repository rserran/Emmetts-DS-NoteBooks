{
 "cells": [
  {
   "cell_type": "code",
   "execution_count": 1,
   "metadata": {},
   "outputs": [
    {
     "data": {
      "text/plain": [
       "5"
      ]
     },
     "execution_count": 1,
     "metadata": {},
     "output_type": "execute_result"
    }
   ],
   "source": [
    "x = 5"
   ]
  },
  {
   "cell_type": "code",
   "execution_count": 2,
   "metadata": {},
   "outputs": [
    {
     "data": {
      "text/plain": [
       "5"
      ]
     },
     "execution_count": 2,
     "metadata": {},
     "output_type": "execute_result"
    }
   ],
   "source": [
    "Main.x"
   ]
  },
  {
   "cell_type": "code",
   "execution_count": 3,
   "metadata": {},
   "outputs": [
    {
     "data": {
      "text/plain": [
       "5"
      ]
     },
     "execution_count": 3,
     "metadata": {},
     "output_type": "execute_result"
    }
   ],
   "source": [
    "getfield(Main, :x)"
   ]
  },
  {
   "cell_type": "code",
   "execution_count": 4,
   "metadata": {},
   "outputs": [
    {
     "data": {
      "text/plain": [
       ":(println(\"Hello World!\"))"
      ]
     },
     "execution_count": 4,
     "metadata": {},
     "output_type": "execute_result"
    }
   ],
   "source": [
    "helloworld = Base.Meta.parse(\"println(\\\"Hello World!\\\")\")"
   ]
  },
  {
   "cell_type": "code",
   "execution_count": 5,
   "metadata": {},
   "outputs": [
    {
     "name": "stdout",
     "output_type": "stream",
     "text": [
      "Expr\n"
     ]
    }
   ],
   "source": [
    "println(typeof(helloworld))"
   ]
  },
  {
   "cell_type": "code",
   "execution_count": 6,
   "metadata": {},
   "outputs": [
    {
     "name": "stdout",
     "output_type": "stream",
     "text": [
      "Hello World!\n"
     ]
    }
   ],
   "source": [
    "eval(helloworld)"
   ]
  },
  {
   "cell_type": "code",
   "execution_count": 7,
   "metadata": {},
   "outputs": [
    {
     "data": {
      "text/plain": [
       "(:head, :args)"
      ]
     },
     "execution_count": 7,
     "metadata": {},
     "output_type": "execute_result"
    }
   ],
   "source": [
    "fieldnames(Expr)"
   ]
  },
  {
   "cell_type": "code",
   "execution_count": 8,
   "metadata": {},
   "outputs": [
    {
     "name": "stdout",
     "output_type": "stream",
     "text": [
      "call\n",
      "Any[:println, \"Hello World!\"]\n"
     ]
    }
   ],
   "source": [
    "for field in fieldnames(Expr)\n",
    "    println(getfield(helloworld, field))\n",
    "end"
   ]
  },
  {
   "cell_type": "code",
   "execution_count": 9,
   "metadata": {},
   "outputs": [
    {
     "data": {
      "text/plain": [
       "@howmany (macro with 1 method)"
      ]
     },
     "execution_count": 9,
     "metadata": {},
     "output_type": "execute_result"
    }
   ],
   "source": [
    "macro howmany(exp::Expr)\n",
    "    statement = exp.args[1]\n",
    "    howmany(string(exp))\n",
    "end"
   ]
  },
  {
   "cell_type": "code",
   "execution_count": 10,
   "metadata": {},
   "outputs": [
    {
     "data": {
      "text/plain": [
       "howmany (generic function with 1 method)"
      ]
     },
     "execution_count": 10,
     "metadata": {},
     "output_type": "execute_result"
    }
   ],
   "source": [
    "function howmany(exp::String)\n",
    "    d = split(exp, ' ')\n",
    "    value = d[4]\n",
    "    n = eval(Base.Meta.parse(\"length(\" * value * \")\"))\n",
    "    println(\"COUNT: \" * string(n))\n",
    "end"
   ]
  },
  {
   "cell_type": "code",
   "execution_count": 11,
   "metadata": {},
   "outputs": [
    {
     "name": "stdout",
     "output_type": "stream",
     "text": [
      "COUNT: 2\n"
     ]
    }
   ],
   "source": [
    "@howmany for field in fieldnames(Expr)\n",
    "    \n",
    "end"
   ]
  },
  {
   "cell_type": "code",
   "execution_count": 28,
   "metadata": {},
   "outputs": [
    {
     "data": {
      "text/plain": [
       "@each"
      ]
     },
     "execution_count": 28,
     "metadata": {},
     "output_type": "execute_result"
    }
   ],
   "source": [
    "\"\"\"\n",
    "## @each exp::Expr -> ::Bool\n",
    "Determines whether each element of an iterable meets a certain condition. Returns a boolean, true if all of the elements meet a condition, false if otherwise.\n",
    "Used in conditional contexts.\n",
    "### example\n",
    "```\n",
    "x = [5, 10, 15, 20]\n",
    "if @each x % 5 == 0\n",
    "   println(\"They are!\")\n",
    "end\n",
    "They are!\n",
    "if @each x > 25\n",
    "    println(\"They are!\")\n",
    "end\n",
    "if @each x < 25\n",
    "    println(\"They are!\")\n",
    "end\n",
    "They are!\n",
    "```\n",
    "\"\"\"\n",
    "macro each(exp::Expr)\n",
    "    x = exp.args[2]\n",
    "    xname = \"\"\n",
    "    if contains(string(x), '[')\n",
    "        xname = eval(x)\n",
    "    else\n",
    "        xname = getfield(__module__, Symbol(x))\n",
    "    end\n",
    "    if length(exp.args) == 2\n",
    "        for value in xname\n",
    "            state = eval(Meta.parse(string(exp.args[1], \"(\", value, \")\")))\n",
    "            if state != true\n",
    "                return(false)\n",
    "            end\n",
    "        end\n",
    "    end\n",
    "\n",
    "    for value in xname\n",
    "        state = eval(Meta.parse(string(value,\" \", exp.args[1], \" \", exp.args[3])))\n",
    "        if state != true\n",
    "            return(false)\n",
    "        end\n",
    "    end\n",
    "    return(true)\n",
    "end"
   ]
  },
  {
   "cell_type": "code",
   "execution_count": null,
   "metadata": {},
   "outputs": [],
   "source": []
  }
 ],
 "metadata": {
  "kernelspec": {
   "display_name": "Julia 1.6.3",
   "language": "julia",
   "name": "julia-1.6"
  },
  "language_info": {
   "file_extension": ".jl",
   "mimetype": "application/julia",
   "name": "julia",
   "version": "1.7.1"
  }
 },
 "nbformat": 4,
 "nbformat_minor": 4
}
