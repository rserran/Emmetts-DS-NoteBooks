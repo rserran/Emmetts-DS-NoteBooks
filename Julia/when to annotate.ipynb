{
 "cells": [
  {
   "cell_type": "markdown",
   "metadata": {},
   "source": [
    "# Annotations Overview"
   ]
  },
  {
   "cell_type": "code",
   "execution_count": 1,
   "metadata": {},
   "outputs": [
    {
     "data": {
      "text/plain": [
       "example (generic function with 1 method)"
      ]
     },
     "execution_count": 1,
     "metadata": {},
     "output_type": "execute_result"
    }
   ],
   "source": [
    "function example(x::Int64)\n",
    "    \n",
    "end"
   ]
  },
  {
   "cell_type": "code",
   "execution_count": 2,
   "metadata": {},
   "outputs": [
    {
     "data": {
      "text/plain": [
       "mean_and_inc (generic function with 1 method)"
      ]
     },
     "execution_count": 2,
     "metadata": {},
     "output_type": "execute_result"
    }
   ],
   "source": [
    "function mean_and_inc(x::Array)\n",
    "    newarray::Array{Int64} = x .+ 1\n",
    "    mean::Float64 = sum(x) / length(x)\n",
    "    return(mean::Float64, newarray::Array{Int64})\n",
    "end"
   ]
  },
  {
   "cell_type": "markdown",
   "metadata": {},
   "source": [
    "# Annotate everything?\n",
    "How does Julia react when we annotate everything? Is this something important to consider and likely do whenever we go about writing some code in Julia? Today I wanted to compare a relatively complex model with and without these annotations."
   ]
  },
  {
   "cell_type": "code",
   "execution_count": 3,
   "metadata": {},
   "outputs": [
    {
     "data": {
      "text/plain": [
       "LinearRegression"
      ]
     },
     "execution_count": 3,
     "metadata": {},
     "output_type": "execute_result"
    }
   ],
   "source": [
    "\"\"\"\n",
    "      Linear Regression is a well-known linear function used for predicting\n",
    "      continuous features with a mostly linear or semi-linear slope.\\n\n",
    "      --------------------\\n\n",
    "      ==PARAMETERS==\\n\n",
    "     [y] <- Fill with your trainY values. Should be an array of shape (0,1) or (1,0)\\n\n",
    "     [x] <- Fill in with your trainX values. Should be an array of shape (0,1) or (1,0)\\n\n",
    "     --------------------\\n\n",
    "     ==Functions==\\n\n",
    "     predict(xt) <- Returns a prediction from the model based on the xtrain value passed (xt)\n",
    "       \"\"\"\n",
    "mutable struct LinearRegression{A<:AbstractFloat, B<:AbstractFloat, P<:Function}\n",
    "    a::A\n",
    "    b::B\n",
    "    predict::P\n",
    "    function LinearRegression(x::Array,y::Array)\n",
    "        # a = ((∑y)(∑x^2)-(∑x)(∑xy)) / (n(∑x^2) - (∑x)^2)\n",
    "        # b = (x(∑xy) - (∑x)(∑y)) / n(∑x^2) - (∑x)^2\n",
    "        if length(x) != length(y)\n",
    "            throw(ArgumentError(\"The array shape does not match!\"))\n",
    "        end\n",
    "        Σx::Float64 = sum(x)\n",
    "        Σy::Float64 = sum(y)\n",
    "        xy::Array = x .* y\n",
    "        Σxy::Float64 = sum(xy)\n",
    "        x2::Array{Float64} = x .^ 2\n",
    "        Σx2::Float64 = sum(x2)\n",
    "        n::Int64 = length(x)\n",
    "        # Calculate a\n",
    "        a::Float64 = (((Σy) * (Σx2)) - ((Σx * (Σxy)))) / ((n * (Σx2))-(Σx^2))\n",
    "        b::Float64 = ((n*(Σxy)) - (Σx * Σy)) / ((n * (Σx2)) - (Σx ^ 2))\n",
    "        predict(xt::Array) = (xt = [i = a + (b * i) for i in xt]::Array)\n",
    "        return new{Float64, Float64, Function}(a::Float64, b::Float64, predict::Function)\n",
    "    end\n",
    "end"
   ]
  },
  {
   "cell_type": "code",
   "execution_count": 4,
   "metadata": {},
   "outputs": [
    {
     "data": {
      "text/plain": [
       "LinearRegressionNA"
      ]
     },
     "execution_count": 4,
     "metadata": {},
     "output_type": "execute_result"
    }
   ],
   "source": [
    "\"\"\"\n",
    "      Linear Regression is a well-known linear function used for predicting\n",
    "      continuous features with a mostly linear or semi-linear slope.\\n\n",
    "      --------------------\\n\n",
    "      ==PARAMETERS==\\n\n",
    "     [y] <- Fill with your trainY values. Should be an array of shape (0,1) or (1,0)\\n\n",
    "     [x] <- Fill in with your trainX values. Should be an array of shape (0,1) or (1,0)\\n\n",
    "     --------------------\\n\n",
    "     ==Functions==\\n\n",
    "     predict(xt) <- Returns a prediction from the model based on the xtrain value passed (xt)\n",
    "       \"\"\"\n",
    "mutable struct LinearRegressionNA\n",
    "    a\n",
    "    b\n",
    "    predict\n",
    "    function LinearRegressionNA(x, y)\n",
    "        # a = ((∑y)(∑x^2)-(∑x)(∑xy)) / (n(∑x^2) - (∑x)^2)\n",
    "        # b = (x(∑xy) - (∑x)(∑y)) / n(∑x^2) - (∑x)^2\n",
    "        if length(x) != length(y)\n",
    "            throw(ArgumentError(\"The array shape does not match!\"))\n",
    "        end\n",
    "        Σx = sum(x)\n",
    "        Σy = sum(y)\n",
    "        xy = x .* y\n",
    "        Σxy = sum(xy)\n",
    "        x2 = x .^ 2\n",
    "        Σx2 = sum(x2)\n",
    "        n = length(x)\n",
    "        # Calculate a\n",
    "        a = (((Σy) * (Σx2)) - ((Σx * (Σxy)))) / ((n * (Σx2))-(Σx^2))\n",
    "        b = ((n*(Σxy)) - (Σx * Σy)) / ((n * (Σx2)) - (Σx ^ 2))\n",
    "        predict(xt) = (xt = [i = a + (b * i) for i in xt])\n",
    "        return new(a, b, predict)\n",
    "    end\n",
    "end"
   ]
  },
  {
   "cell_type": "code",
   "execution_count": 5,
   "metadata": {},
   "outputs": [],
   "source": [
    "mutable struct LinearRegressionNVA{A<:AbstractFloat, B<:AbstractFloat, P<:Function}\n",
    "    a::A\n",
    "    b::B\n",
    "    predict::P\n",
    "    function LinearRegressionNVA(x::Array, y::Array)\n",
    "        # a = ((∑y)(∑x^2)-(∑x)(∑xy)) / (n(∑x^2) - (∑x)^2)\n",
    "        # b = (x(∑xy) - (∑x)(∑y)) / n(∑x^2) - (∑x)^2\n",
    "        if length(x) != length(y)\n",
    "            throw(ArgumentError(\"The array shape does not match!\"))\n",
    "        end\n",
    "        Σx = sum(x)\n",
    "        Σy = sum(y)\n",
    "        xy = x .* y\n",
    "        Σxy = sum(xy)\n",
    "        x2 = x .^ 2\n",
    "        Σx2 = sum(x2)\n",
    "        n = length(x)\n",
    "        # Calculate a\n",
    "        a = (((Σy) * (Σx2)) - ((Σx * (Σxy)))) / ((n * (Σx2))-(Σx^2))\n",
    "        b = ((n*(Σxy)) - (Σx * Σy)) / ((n * (Σx2)) - (Σx ^ 2))\n",
    "        predict(xt::Array) = (xt = [i = a + (b * i) for i in xt])\n",
    "        return new{Float64, Float64, Function}(a::Float64, b::Float64, predict::Function)\n",
    "    end\n",
    "end"
   ]
  },
  {
   "cell_type": "code",
   "execution_count": 6,
   "metadata": {},
   "outputs": [],
   "source": [
    "mutable struct LinearRegressionRA{A<:AbstractFloat, B<:AbstractFloat, P<:Function}\n",
    "    a::A\n",
    "    b::B\n",
    "    predict::P\n",
    "    function LinearRegressionRA(x::Array,y::Array)\n",
    "        # a = ((∑y)(∑x^2)-(∑x)(∑xy)) / (n(∑x^2) - (∑x)^2)\n",
    "        # b = (x(∑xy) - (∑x)(∑y)) / n(∑x^2) - (∑x)^2\n",
    "        if length(x) != length(y)\n",
    "            throw(ArgumentError(\"The array shape does not match!\"))\n",
    "        end\n",
    "        Σx::Float64 = sum(x)\n",
    "        Σy::Float64 = sum(y)\n",
    "        xy::Array = x .* y\n",
    "        Σxy::Float64 = sum(xy)\n",
    "        x2::Array{Float64} = x .^ 2\n",
    "        Σx2::Float64 = sum(x2)\n",
    "        n::Int64 = length(x)\n",
    "        # Calculate a\n",
    "        a::Float64 = (((Σy) * (Σx2)) - ((Σx * (Σxy)))) / ((n * (Σx2))-(Σx^2))\n",
    "        b::Float64 = ((n*(Σxy)) - (Σx * Σy)) / ((n * (Σx2)) - (Σx ^ 2))\n",
    "        predict(xt::Array) = (xt = [i = a + (b * i) for i in xt]::Array)\n",
    "        return new{Float64, Float64, Function}(a, b, predict)\n",
    "    end\n",
    "end"
   ]
  },
  {
   "cell_type": "code",
   "execution_count": 7,
   "metadata": {},
   "outputs": [],
   "source": [
    "mutable struct LinearRegressionNFA\n",
    "    a\n",
    "    b\n",
    "    predict\n",
    "    function LinearRegressionNFA(x::Array, y::Array)\n",
    "        # a = ((∑y)(∑x^2)-(∑x)(∑xy)) / (n(∑x^2) - (∑x)^2)\n",
    "        # b = (x(∑xy) - (∑x)(∑y)) / n(∑x^2) - (∑x)^2\n",
    "        if length(x) != length(y)\n",
    "            throw(ArgumentError(\"The array shape does not match!\"))\n",
    "        end\n",
    "        Σx = sum(x)\n",
    "        Σy = sum(y)\n",
    "        xy = x .* y\n",
    "        Σxy = sum(xy)\n",
    "        x2 = x .^ 2\n",
    "        Σx2 = sum(x2)\n",
    "        n = length(x)\n",
    "        # Calculate a\n",
    "        a = (((Σy) * (Σx2)) - ((Σx * (Σxy)))) / ((n * (Σx2))-(Σx^2))\n",
    "        b = ((n*(Σxy)) - (Σx * Σy)) / ((n * (Σx2)) - (Σx ^ 2))\n",
    "        predict(xt::Array) = (xt = [i = a + (b * i) for i in xt])\n",
    "        return new(a::Float64, b::Float64, predict::Function)\n",
    "    end\n",
    "end"
   ]
  },
  {
   "cell_type": "code",
   "execution_count": 8,
   "metadata": {},
   "outputs": [
    {
     "data": {
      "text/plain": [
       "50000000-element Vector{Float64}:\n",
       "  0.6633069614939759\n",
       "  0.4156659206954698\n",
       " -0.5659964657209032\n",
       " -1.0471406687176998\n",
       "  0.4501469257757367\n",
       " -1.0287395908363681\n",
       " -0.820501930364141\n",
       " -1.611218950404726\n",
       " -0.2903289821813945\n",
       " -0.7574910986473768\n",
       "  0.13498916130150704\n",
       " -0.5206425203421942\n",
       " -1.369309926937457\n",
       "  ⋮\n",
       "  2.297516681377142\n",
       " -1.272848724044494\n",
       " -0.6807819724661306\n",
       "  0.6459817289243162\n",
       " -0.3778089842895379\n",
       " -0.9753492610293001\n",
       " -1.0915261285587894\n",
       " -0.7164055598978412\n",
       "  0.9766895032823073\n",
       "  0.46841190861493803\n",
       " -1.5664692671850065\n",
       " -0.4079230116067243"
      ]
     },
     "execution_count": 8,
     "metadata": {},
     "output_type": "execute_result"
    }
   ],
   "source": [
    "x = randn(50000000)"
   ]
  },
  {
   "cell_type": "code",
   "execution_count": 9,
   "metadata": {},
   "outputs": [
    {
     "data": {
      "text/plain": [
       "50000000-element Vector{Float64}:\n",
       "  0.46387035230452794\n",
       " -0.5900015563804207\n",
       "  0.5069795191843152\n",
       "  2.042457737142603\n",
       "  0.6915274813749784\n",
       "  0.30943280943515056\n",
       " -0.4475394220711997\n",
       "  0.7471308042653596\n",
       " -1.2542272050132308\n",
       "  0.37519485475058717\n",
       " -2.2044430561461166\n",
       "  0.6226436747338088\n",
       " -1.121236156550528\n",
       "  ⋮\n",
       "  0.0749669386972949\n",
       "  0.25947834583697127\n",
       " -0.23740712196497574\n",
       "  1.419040518385935\n",
       " -0.5357882807001885\n",
       "  0.20458262501709573\n",
       " -0.45869344471370177\n",
       "  0.6051138154255613\n",
       "  0.9116256326934371\n",
       "  0.9845269389129089\n",
       " -0.9707227199076656\n",
       "  0.8280097428680043"
      ]
     },
     "execution_count": 9,
     "metadata": {},
     "output_type": "execute_result"
    }
   ],
   "source": [
    "y = randn(50000000)"
   ]
  },
  {
   "cell_type": "markdown",
   "metadata": {},
   "source": [
    "### Due to precompilation, these cells need to be re-ordered, with the annotation currently tested at the top."
   ]
  },
  {
   "cell_type": "code",
   "execution_count": 10,
   "metadata": {},
   "outputs": [
    {
     "name": "stdout",
     "output_type": "stream",
     "text": [
      "  1.004386 seconds (514.88 k allocations: 1.144 GiB, 14.45% gc time, 19.73% compilation time)\n"
     ]
    },
    {
     "data": {
      "text/plain": [
       "50000000-element Vector{Float64}:\n",
       " -0.00011134813461067394\n",
       " -0.00015301699680844052\n",
       " -0.00010964364859167011\n",
       " -4.8932636423583957e-5\n",
       " -0.00010234683809503484\n",
       " -0.00011745441435772198\n",
       " -0.00014738421070416145\n",
       " -0.00010014834776602669\n",
       " -0.0001792797017852147\n",
       " -0.00011485426003013244\n",
       " -0.0002168501247490422\n",
       " -0.00010507042321286016\n",
       " -0.00017402139133376352\n",
       "  ⋮\n",
       " -0.0001267249205523944\n",
       " -0.00011942955539970429\n",
       " -0.0001390758254210278\n",
       " -7.358182383052553e-5\n",
       " -0.0001508734673197117\n",
       " -0.00012160006797076693\n",
       " -0.00014782522770880022\n",
       " -0.00010576353333928252\n",
       " -9.364441471540783e-5\n",
       " -9.076198236488916e-5\n",
       " -0.00016807026615555306\n",
       " -9.695048916522143e-5"
      ]
     },
     "execution_count": 10,
     "metadata": {},
     "output_type": "execute_result"
    }
   ],
   "source": [
    "@time LinearRegressionNFA(x, y).predict(y)"
   ]
  },
  {
   "cell_type": "code",
   "execution_count": 11,
   "metadata": {},
   "outputs": [
    {
     "name": "stdout",
     "output_type": "stream",
     "text": [
      "  0.819315 seconds (93.98 k allocations: 1.122 GiB, 6.94% gc time, 15.14% compilation time)\n"
     ]
    },
    {
     "data": {
      "text/plain": [
       "50000000-element Vector{Float64}:\n",
       " -0.00011134813461067394\n",
       " -0.00015301699680844052\n",
       " -0.00010964364859167011\n",
       " -4.8932636423583957e-5\n",
       " -0.00010234683809503484\n",
       " -0.00011745441435772198\n",
       " -0.00014738421070416145\n",
       " -0.00010014834776602669\n",
       " -0.0001792797017852147\n",
       " -0.00011485426003013244\n",
       " -0.0002168501247490422\n",
       " -0.00010507042321286016\n",
       " -0.00017402139133376352\n",
       "  ⋮\n",
       " -0.0001267249205523944\n",
       " -0.00011942955539970429\n",
       " -0.0001390758254210278\n",
       " -7.358182383052553e-5\n",
       " -0.0001508734673197117\n",
       " -0.00012160006797076693\n",
       " -0.00014782522770880022\n",
       " -0.00010576353333928252\n",
       " -9.364441471540783e-5\n",
       " -9.076198236488916e-5\n",
       " -0.00016807026615555306\n",
       " -9.695048916522143e-5"
      ]
     },
     "execution_count": 11,
     "metadata": {},
     "output_type": "execute_result"
    }
   ],
   "source": [
    "@time LinearRegressionRA(x, y).predict(y)"
   ]
  },
  {
   "cell_type": "code",
   "execution_count": 12,
   "metadata": {},
   "outputs": [
    {
     "name": "stdout",
     "output_type": "stream",
     "text": [
      "  0.850578 seconds (89.39 k allocations: 1.122 GiB, 6.44% gc time, 13.51% compilation time)\n"
     ]
    },
    {
     "data": {
      "text/plain": [
       "50000000-element Vector{Float64}:\n",
       " -0.00011134813461067394\n",
       " -0.00015301699680844052\n",
       " -0.00010964364859167011\n",
       " -4.8932636423583957e-5\n",
       " -0.00010234683809503484\n",
       " -0.00011745441435772198\n",
       " -0.00014738421070416145\n",
       " -0.00010014834776602669\n",
       " -0.0001792797017852147\n",
       " -0.00011485426003013244\n",
       " -0.0002168501247490422\n",
       " -0.00010507042321286016\n",
       " -0.00017402139133376352\n",
       "  ⋮\n",
       " -0.0001267249205523944\n",
       " -0.00011942955539970429\n",
       " -0.0001390758254210278\n",
       " -7.358182383052553e-5\n",
       " -0.0001508734673197117\n",
       " -0.00012160006797076693\n",
       " -0.00014782522770880022\n",
       " -0.00010576353333928252\n",
       " -9.364441471540783e-5\n",
       " -9.076198236488916e-5\n",
       " -0.00016807026615555306\n",
       " -9.695048916522143e-5"
      ]
     },
     "execution_count": 12,
     "metadata": {},
     "output_type": "execute_result"
    }
   ],
   "source": [
    "@time LinearRegressionNVA(x, y).predict(y)"
   ]
  },
  {
   "cell_type": "code",
   "execution_count": 13,
   "metadata": {},
   "outputs": [
    {
     "name": "stdout",
     "output_type": "stream",
     "text": [
      "  0.835412 seconds (92.70 k allocations: 1.122 GiB, 6.86% gc time, 12.77% compilation time)\n"
     ]
    },
    {
     "data": {
      "text/plain": [
       "50000000-element Vector{Float64}:\n",
       " -0.00011134813461067394\n",
       " -0.00015301699680844052\n",
       " -0.00010964364859167011\n",
       " -4.8932636423583957e-5\n",
       " -0.00010234683809503484\n",
       " -0.00011745441435772198\n",
       " -0.00014738421070416145\n",
       " -0.00010014834776602669\n",
       " -0.0001792797017852147\n",
       " -0.00011485426003013244\n",
       " -0.0002168501247490422\n",
       " -0.00010507042321286016\n",
       " -0.00017402139133376352\n",
       "  ⋮\n",
       " -0.0001267249205523944\n",
       " -0.00011942955539970429\n",
       " -0.0001390758254210278\n",
       " -7.358182383052553e-5\n",
       " -0.0001508734673197117\n",
       " -0.00012160006797076693\n",
       " -0.00014782522770880022\n",
       " -0.00010576353333928252\n",
       " -9.364441471540783e-5\n",
       " -9.076198236488916e-5\n",
       " -0.00016807026615555306\n",
       " -9.695048916522143e-5"
      ]
     },
     "execution_count": 13,
     "metadata": {},
     "output_type": "execute_result"
    }
   ],
   "source": [
    "@time LinearRegression(x, y).predict(y)"
   ]
  },
  {
   "cell_type": "code",
   "execution_count": 14,
   "metadata": {},
   "outputs": [
    {
     "name": "stdout",
     "output_type": "stream",
     "text": [
      "  0.812969 seconds (88.03 k allocations: 1.122 GiB, 8.19% gc time, 13.09% compilation time)\n"
     ]
    },
    {
     "data": {
      "text/plain": [
       "50000000-element Vector{Float64}:\n",
       " -0.00011134813461067394\n",
       " -0.00015301699680844052\n",
       " -0.00010964364859167011\n",
       " -4.8932636423583957e-5\n",
       " -0.00010234683809503484\n",
       " -0.00011745441435772198\n",
       " -0.00014738421070416145\n",
       " -0.00010014834776602669\n",
       " -0.0001792797017852147\n",
       " -0.00011485426003013244\n",
       " -0.0002168501247490422\n",
       " -0.00010507042321286016\n",
       " -0.00017402139133376352\n",
       "  ⋮\n",
       " -0.0001267249205523944\n",
       " -0.00011942955539970429\n",
       " -0.0001390758254210278\n",
       " -7.358182383052553e-5\n",
       " -0.0001508734673197117\n",
       " -0.00012160006797076693\n",
       " -0.00014782522770880022\n",
       " -0.00010576353333928252\n",
       " -9.364441471540783e-5\n",
       " -9.076198236488916e-5\n",
       " -0.00016807026615555306\n",
       " -9.695048916522143e-5"
      ]
     },
     "execution_count": 14,
     "metadata": {},
     "output_type": "execute_result"
    }
   ],
   "source": [
    "@time LinearRegressionNA(x, y).predict(y)"
   ]
  },
  {
   "cell_type": "code",
   "execution_count": 15,
   "metadata": {},
   "outputs": [
    {
     "data": {
      "text/plain": [
       "4-element Vector{Float64}:\n",
       " 0.98257\n",
       " 1.006735\n",
       " 1.012081\n",
       " 0.962322"
      ]
     },
     "execution_count": 15,
     "metadata": {},
     "output_type": "execute_result"
    }
   ],
   "source": [
    "no_annot = [0.982570, 1.006735, 1.012081, 0.962322]"
   ]
  },
  {
   "cell_type": "code",
   "execution_count": 16,
   "metadata": {},
   "outputs": [
    {
     "data": {
      "text/plain": [
       "0.990927"
      ]
     },
     "execution_count": 16,
     "metadata": {},
     "output_type": "execute_result"
    }
   ],
   "source": [
    "sum(no_annot) / length(no_annot)"
   ]
  },
  {
   "cell_type": "code",
   "execution_count": 17,
   "metadata": {},
   "outputs": [
    {
     "data": {
      "text/plain": [
       "4-element Vector{Float64}:\n",
       " 0.980571\n",
       " 0.915812\n",
       " 0.938984\n",
       " 0.913891"
      ]
     },
     "execution_count": 17,
     "metadata": {},
     "output_type": "execute_result"
    }
   ],
   "source": [
    "f_annot = [0.980571, 0.915812, 0.938984, 0.913891]"
   ]
  },
  {
   "cell_type": "code",
   "execution_count": 18,
   "metadata": {},
   "outputs": [
    {
     "data": {
      "text/plain": [
       "0.9373144999999999"
      ]
     },
     "execution_count": 18,
     "metadata": {},
     "output_type": "execute_result"
    }
   ],
   "source": [
    "sum(f_annot) / length(f_annot)"
   ]
  },
  {
   "cell_type": "code",
   "execution_count": 19,
   "metadata": {},
   "outputs": [
    {
     "data": {
      "text/plain": [
       "4-element Vector{Float64}:\n",
       " 0.936667\n",
       " 0.955871\n",
       " 0.954231\n",
       " 0.955191"
      ]
     },
     "execution_count": 19,
     "metadata": {},
     "output_type": "execute_result"
    }
   ],
   "source": [
    "e_annot = [0.936667, 0.955871, 0.954231, 0.955191]"
   ]
  },
  {
   "cell_type": "code",
   "execution_count": 20,
   "metadata": {},
   "outputs": [
    {
     "data": {
      "text/plain": [
       "0.9504900000000001"
      ]
     },
     "execution_count": 20,
     "metadata": {},
     "output_type": "execute_result"
    }
   ],
   "source": [
    "sum(e_annot) / length(e_annot)"
   ]
  },
  {
   "cell_type": "code",
   "execution_count": 21,
   "metadata": {},
   "outputs": [
    {
     "data": {
      "text/plain": [
       "4-element Vector{Float64}:\n",
       " 0.993342\n",
       " 0.96902\n",
       " 0.958454\n",
       " 0.965281"
      ]
     },
     "execution_count": 21,
     "metadata": {},
     "output_type": "execute_result"
    }
   ],
   "source": [
    "r_annot = [0.993342, 0.969020, 0.958454, 0.965281]"
   ]
  },
  {
   "cell_type": "code",
   "execution_count": 22,
   "metadata": {},
   "outputs": [
    {
     "data": {
      "text/plain": [
       "0.97152425"
      ]
     },
     "execution_count": 22,
     "metadata": {},
     "output_type": "execute_result"
    }
   ],
   "source": [
    "sum(r_annot) / length(r_annot)"
   ]
  },
  {
   "cell_type": "code",
   "execution_count": 23,
   "metadata": {},
   "outputs": [
    {
     "data": {
      "text/plain": [
       "4-element Vector{Float64}:\n",
       " 1.047707\n",
       " 0.903389\n",
       " 0.898407\n",
       " 0.946624"
      ]
     },
     "execution_count": 23,
     "metadata": {},
     "output_type": "execute_result"
    }
   ],
   "source": [
    "fa_annot = [1.047707, 0.903389, 0.898407, 0.946624]"
   ]
  },
  {
   "cell_type": "code",
   "execution_count": 24,
   "metadata": {},
   "outputs": [
    {
     "data": {
      "text/plain": [
       "0.94903175"
      ]
     },
     "execution_count": 24,
     "metadata": {},
     "output_type": "execute_result"
    }
   ],
   "source": [
    "sum(fa_annot) / length(fa_annot)"
   ]
  },
  {
   "cell_type": "code",
   "execution_count": 37,
   "metadata": {},
   "outputs": [],
   "source": [
    "using UnicodePlots, DataFrames"
   ]
  },
  {
   "cell_type": "code",
   "execution_count": 26,
   "metadata": {},
   "outputs": [
    {
     "data": {
      "text/html": [
       "<div class=\"data-frame\"><p>1 rows × 5 columns</p><table class=\"data-frame\"><thead><tr><th></th><th>all_annotations</th><th>no_annotations</th><th>no_varannotations</th><th>no_returnannotations</th><th>no_fieldannotations</th></tr><tr><th></th><th title=\"Float64\">Float64</th><th title=\"Float64\">Float64</th><th title=\"Float64\">Float64</th><th title=\"Float64\">Float64</th><th title=\"Float64\">Float64</th></tr></thead><tbody><tr><th>1</th><td>0.937314</td><td>0.990927</td><td>0.95049</td><td>0.971524</td><td>0.949032</td></tr></tbody></table></div>"
      ],
      "text/latex": [
       "\\begin{tabular}{r|ccccc}\n",
       "\t& all\\_annotations & no\\_annotations & no\\_varannotations & no\\_returnannotations & no\\_fieldannotations\\\\\n",
       "\t\\hline\n",
       "\t& Float64 & Float64 & Float64 & Float64 & Float64\\\\\n",
       "\t\\hline\n",
       "\t1 & 0.937314 & 0.990927 & 0.95049 & 0.971524 & 0.949032 \\\\\n",
       "\\end{tabular}\n"
      ],
      "text/plain": [
       "\u001b[1m1×5 DataFrame\u001b[0m\n",
       "\u001b[1m Row \u001b[0m│\u001b[1m all_annotations \u001b[0m\u001b[1m no_annotations \u001b[0m\u001b[1m no_varannotations \u001b[0m\u001b[1m no_returnannotation\u001b[0m ⋯\n",
       "\u001b[1m     \u001b[0m│\u001b[90m Float64         \u001b[0m\u001b[90m Float64        \u001b[0m\u001b[90m Float64           \u001b[0m\u001b[90m Float64            \u001b[0m ⋯\n",
       "─────┼──────────────────────────────────────────────────────────────────────────\n",
       "   1 │        0.937314        0.990927            0.95049              0.97152 ⋯\n",
       "\u001b[36m                                                               2 columns omitted\u001b[0m"
      ]
     },
     "execution_count": 26,
     "metadata": {},
     "output_type": "execute_result"
    }
   ],
   "source": [
    "averages = DataFrame(:all_annotations => [sum(f_annot) / length(f_annot)],\n",
    "    :no_annotations => [sum(no_annot) / length(no_annot)],\n",
    "    :no_varannotations => [sum(e_annot) / length(e_annot)],\n",
    "    :no_returnannotations => [sum(r_annot) / length(r_annot)],\n",
    "    :no_fieldannotations => [sum(fa_annot) / length(fa_annot)]\n",
    ")"
   ]
  },
  {
   "cell_type": "code",
   "execution_count": 28,
   "metadata": {},
   "outputs": [
    {
     "data": {
      "text/html": [
       "<div class=\"data-frame\"><p>4 rows × 5 columns</p><table class=\"data-frame\"><thead><tr><th></th><th>all_annotations</th><th>no_annotations</th><th>no_varannotations</th><th>no_returnannotations</th><th>no_fieldannotations</th></tr><tr><th></th><th title=\"Float64\">Float64</th><th title=\"Float64\">Float64</th><th title=\"Float64\">Float64</th><th title=\"Float64\">Float64</th><th title=\"Float64\">Float64</th></tr></thead><tbody><tr><th>1</th><td>0.980571</td><td>0.98257</td><td>0.936667</td><td>0.993342</td><td>1.04771</td></tr><tr><th>2</th><td>0.915812</td><td>1.00673</td><td>0.955871</td><td>0.96902</td><td>0.903389</td></tr><tr><th>3</th><td>0.938984</td><td>1.01208</td><td>0.954231</td><td>0.958454</td><td>0.898407</td></tr><tr><th>4</th><td>0.913891</td><td>0.962322</td><td>0.955191</td><td>0.965281</td><td>0.946624</td></tr></tbody></table></div>"
      ],
      "text/latex": [
       "\\begin{tabular}{r|ccccc}\n",
       "\t& all\\_annotations & no\\_annotations & no\\_varannotations & no\\_returnannotations & no\\_fieldannotations\\\\\n",
       "\t\\hline\n",
       "\t& Float64 & Float64 & Float64 & Float64 & Float64\\\\\n",
       "\t\\hline\n",
       "\t1 & 0.980571 & 0.98257 & 0.936667 & 0.993342 & 1.04771 \\\\\n",
       "\t2 & 0.915812 & 1.00673 & 0.955871 & 0.96902 & 0.903389 \\\\\n",
       "\t3 & 0.938984 & 1.01208 & 0.954231 & 0.958454 & 0.898407 \\\\\n",
       "\t4 & 0.913891 & 0.962322 & 0.955191 & 0.965281 & 0.946624 \\\\\n",
       "\\end{tabular}\n"
      ],
      "text/plain": [
       "\u001b[1m4×5 DataFrame\u001b[0m\n",
       "\u001b[1m Row \u001b[0m│\u001b[1m all_annotations \u001b[0m\u001b[1m no_annotations \u001b[0m\u001b[1m no_varannotations \u001b[0m\u001b[1m no_returnannotation\u001b[0m ⋯\n",
       "\u001b[1m     \u001b[0m│\u001b[90m Float64         \u001b[0m\u001b[90m Float64        \u001b[0m\u001b[90m Float64           \u001b[0m\u001b[90m Float64            \u001b[0m ⋯\n",
       "─────┼──────────────────────────────────────────────────────────────────────────\n",
       "   1 │        0.980571        0.98257            0.936667              0.99334 ⋯\n",
       "   2 │        0.915812        1.00673            0.955871              0.96902\n",
       "   3 │        0.938984        1.01208            0.954231              0.95845\n",
       "   4 │        0.913891        0.962322           0.955191              0.96528\n",
       "\u001b[36m                                                               2 columns omitted\u001b[0m"
      ]
     },
     "execution_count": 28,
     "metadata": {},
     "output_type": "execute_result"
    }
   ],
   "source": [
    "values = DataFrame(:all_annotations => f_annot,\n",
    "    :no_annotations => no_annot,\n",
    "    :no_varannotations => e_annot,\n",
    "    :no_returnannotations => r_annot,\n",
    "    :no_fieldannotations => fa_annot\n",
    ")"
   ]
  },
  {
   "cell_type": "code",
   "execution_count": 38,
   "metadata": {},
   "outputs": [
    {
     "data": {
      "text/plain": [
       "                \u001b[1mFrequency of different times with all annotations\u001b[0m \n",
       "                \u001b[38;5;8m┌                                        ┐\u001b[0m \n",
       "   [0.9 , 0.95) \u001b[38;5;8m┤\u001b[0m\u001b[38;5;2m█████████████████████████████████████\u001b[0m\u001b[38;5;2m \u001b[0m 3\u001b[38;5;8m \u001b[0m \u001b[38;5;8m\u001b[0m\n",
       "   [0.95, 1.0 ) \u001b[38;5;8m┤\u001b[0m\u001b[38;5;2m████████████\u001b[0m\u001b[38;5;2m▍\u001b[0m 1                         \u001b[38;5;8m \u001b[0m \u001b[38;5;8m\u001b[0m\n",
       "                \u001b[38;5;8m└                                        ┘\u001b[0m \n",
       "                                 Frequency                 "
      ]
     },
     "execution_count": 38,
     "metadata": {},
     "output_type": "execute_result"
    }
   ],
   "source": [
    "histogram(values[!, :all_annotations], title = \"Frequency of different times with all annotations\")"
   ]
  },
  {
   "cell_type": "code",
   "execution_count": 39,
   "metadata": {},
   "outputs": [
    {
     "data": {
      "text/plain": [
       "                \u001b[1mFrequency of different times with no field annotations\u001b[0m \n",
       "                \u001b[38;5;8m┌                                        ┐\u001b[0m \n",
       "   [0.85, 0.9 ) \u001b[38;5;8m┤\u001b[0m\u001b[38;5;2m██████████████████\u001b[0m\u001b[38;5;2m▌\u001b[0m 1                   \u001b[38;5;8m \u001b[0m \u001b[38;5;8m\u001b[0m\n",
       "   [0.9 , 0.95) \u001b[38;5;8m┤\u001b[0m\u001b[38;5;2m█████████████████████████████████████\u001b[0m\u001b[38;5;2m \u001b[0m 2\u001b[38;5;8m \u001b[0m \u001b[38;5;8m\u001b[0m\n",
       "   [0.95, 1.0 ) \u001b[38;5;8m┤\u001b[0m\u001b[38;5;2m\u001b[0m\u001b[38;5;2m \u001b[0m 0                                     \u001b[38;5;8m \u001b[0m \u001b[38;5;8m\u001b[0m\n",
       "   [1.0 , 1.05) \u001b[38;5;8m┤\u001b[0m\u001b[38;5;2m██████████████████\u001b[0m\u001b[38;5;2m▌\u001b[0m 1                   \u001b[38;5;8m \u001b[0m \u001b[38;5;8m\u001b[0m\n",
       "                \u001b[38;5;8m└                                        ┘\u001b[0m \n",
       "                                 Frequency                 "
      ]
     },
     "execution_count": 39,
     "metadata": {},
     "output_type": "execute_result"
    }
   ],
   "source": [
    "histogram(values[!, :no_fieldannotations], title = \"Frequency of different times with no field annotations\")"
   ]
  },
  {
   "cell_type": "code",
   "execution_count": 40,
   "metadata": {},
   "outputs": [
    {
     "data": {
      "text/plain": [
       "                \u001b[1mFrequency of different times with no annotations\u001b[0m \n",
       "                \u001b[38;5;8m┌                                        ┐\u001b[0m \n",
       "   [0.96, 0.98) \u001b[38;5;8m┤\u001b[0m\u001b[38;5;2m██████████████████\u001b[0m\u001b[38;5;2m▌\u001b[0m 1                   \u001b[38;5;8m \u001b[0m \u001b[38;5;8m\u001b[0m\n",
       "   [0.98, 1.0 ) \u001b[38;5;8m┤\u001b[0m\u001b[38;5;2m██████████████████\u001b[0m\u001b[38;5;2m▌\u001b[0m 1                   \u001b[38;5;8m \u001b[0m \u001b[38;5;8m\u001b[0m\n",
       "   [1.0 , 1.02) \u001b[38;5;8m┤\u001b[0m\u001b[38;5;2m█████████████████████████████████████\u001b[0m\u001b[38;5;2m \u001b[0m 2\u001b[38;5;8m \u001b[0m \u001b[38;5;8m\u001b[0m\n",
       "                \u001b[38;5;8m└                                        ┘\u001b[0m \n",
       "                                 Frequency                 "
      ]
     },
     "execution_count": 40,
     "metadata": {},
     "output_type": "execute_result"
    }
   ],
   "source": [
    "histogram(values[!, :no_annotations], title = \"Frequency of different times with no annotations\")"
   ]
  },
  {
   "cell_type": "code",
   "execution_count": 32,
   "metadata": {},
   "outputs": [],
   "source": [
    "using UnicodePlots"
   ]
  },
  {
   "cell_type": "code",
   "execution_count": 33,
   "metadata": {},
   "outputs": [
    {
     "data": {
      "text/plain": [
       "route_from_dir (generic function with 1 method)"
      ]
     },
     "execution_count": 33,
     "metadata": {},
     "output_type": "execute_result"
    }
   ],
   "source": [
    "function route_from_dir(dir)\n",
    "    dirs = readdir(dir)\n",
    "    routes = []\n",
    "    for directory in dirs\n",
    "        if isfile(\"$dir/\" * directory)\n",
    "            push!(routes, \"$dir/$directory\")\n",
    "        else\n",
    "            if ~(directory in routes)\n",
    "                newread = dir * \"/$directory\"\n",
    "                newrs = route_from_dir(newread)\n",
    "                [push!(routes, r) for r in newrs]\n",
    "            end\n",
    "        end\n",
    "    end\n",
    "    routes\n",
    "end"
   ]
  },
  {
   "cell_type": "code",
   "execution_count": 34,
   "metadata": {},
   "outputs": [
    {
     "data": {
      "text/plain": [
       "route_from_dira (generic function with 1 method)"
      ]
     },
     "execution_count": 34,
     "metadata": {},
     "output_type": "execute_result"
    }
   ],
   "source": [
    "function route_from_dira(dir::String)\n",
    "    dirs::Vector{String} = readdir(dir)\n",
    "    routes::Vector{String} = []\n",
    "    for directory in dirs\n",
    "        if isfile(\"$dir/\" * directory)\n",
    "            push!(routes, \"$dir/$directory\")\n",
    "        else\n",
    "            if ~(directory in routes)\n",
    "                newread::String = dir * \"/$directory\"\n",
    "                newrs::Vector{String} = route_from_dir(newread)\n",
    "                [push!(routes, r) for r in newrs]\n",
    "            end\n",
    "        end\n",
    "    end\n",
    "    routes::Vector{String}\n",
    "end"
   ]
  },
  {
   "cell_type": "code",
   "execution_count": 35,
   "metadata": {},
   "outputs": [
    {
     "name": "stdout",
     "output_type": "stream",
     "text": [
      "  0.021062 seconds (8.58 k allocations: 799.109 KiB)\n"
     ]
    },
    {
     "data": {
      "text/plain": [
       "1130-element Vector{String}:\n",
       " \"./.ipynb_checkpoints/10 Julia array methods-checkpoint.ipynb\"\n",
       " \"./.ipynb_checkpoints/15 Python Decorator-checkpoint.ipynb\"\n",
       " \"./.ipynb_checkpoints/7 Of My Favorite Pandas Tricks-checkpoint.ipynb\"\n",
       " \"./.ipynb_checkpoints/Algebraic Arrays-checkpoint.ipynb\"\n",
       " \"./.ipynb_checkpoints/All about constructors-checkpoint.ipynb\"\n",
       " \"./.ipynb_checkpoints/Analyzing Features-checkpoint.ipynb\"\n",
       " \"./.ipynb_checkpoints/Beauty of method errors-checkpoint.ipynb\"\n",
       " \"./.ipynb_checkpoints/Better functions-checkpoint.ipynb\"\n",
       " \"./.ipynb_checkpoints/Bring a model back with data-checkpoint.ipynb\"\n",
       " \"./.ipynb_checkpoints/Comprehensive Julia Tutorial 15-checkpoint.ipynb\"\n",
       " \"./.ipynb_checkpoints/Different paradigms of Julia-checkpoint.ipynb\"\n",
       " \"./.ipynb_checkpoints/Functions as types in Julia-checkpoint.ipynb\"\n",
       " \"./.ipynb_checkpoints/Julia Indexing-checkpoint.ipynb\"\n",
       " ⋮\n",
       " \"./oddframes testing.ipynb\"\n",
       " \"./pycall basic examples.ipynb\"\n",
       " \"./pycallcomparison.ipynb\"\n",
       " \"./python_recursionisslow.ipynb\"\n",
       " \"./random.ipynb\"\n",
       " \"./recursion_isslow.ipynb\"\n",
       " \"./replprnt.jl\"\n",
       " \"./runtime introspection.ipynb\"\n",
       " \"./ulli-styletl.ipynb\"\n",
       " \"./weird.jl\"\n",
       " \"./when to annotate.ipynb\"\n",
       " \"./zoom_x86_64.rpm\""
      ]
     },
     "execution_count": 35,
     "metadata": {},
     "output_type": "execute_result"
    }
   ],
   "source": [
    "@time route_from_dira(\".\")"
   ]
  },
  {
   "cell_type": "code",
   "execution_count": 36,
   "metadata": {},
   "outputs": [
    {
     "name": "stdout",
     "output_type": "stream",
     "text": [
      "  0.005813 seconds (8.24 k allocations: 785.062 KiB)\n"
     ]
    },
    {
     "data": {
      "text/plain": [
       "1130-element Vector{Any}:\n",
       " \"./.ipynb_checkpoints/10 Julia array methods-checkpoint.ipynb\"\n",
       " \"./.ipynb_checkpoints/15 Python Decorator-checkpoint.ipynb\"\n",
       " \"./.ipynb_checkpoints/7 Of My Favorite Pandas Tricks-checkpoint.ipynb\"\n",
       " \"./.ipynb_checkpoints/Algebraic Arrays-checkpoint.ipynb\"\n",
       " \"./.ipynb_checkpoints/All about constructors-checkpoint.ipynb\"\n",
       " \"./.ipynb_checkpoints/Analyzing Features-checkpoint.ipynb\"\n",
       " \"./.ipynb_checkpoints/Beauty of method errors-checkpoint.ipynb\"\n",
       " \"./.ipynb_checkpoints/Better functions-checkpoint.ipynb\"\n",
       " \"./.ipynb_checkpoints/Bring a model back with data-checkpoint.ipynb\"\n",
       " \"./.ipynb_checkpoints/Comprehensive Julia Tutorial 15-checkpoint.ipynb\"\n",
       " \"./.ipynb_checkpoints/Different paradigms of Julia-checkpoint.ipynb\"\n",
       " \"./.ipynb_checkpoints/Functions as types in Julia-checkpoint.ipynb\"\n",
       " \"./.ipynb_checkpoints/Julia Indexing-checkpoint.ipynb\"\n",
       " ⋮\n",
       " \"./oddframes testing.ipynb\"\n",
       " \"./pycall basic examples.ipynb\"\n",
       " \"./pycallcomparison.ipynb\"\n",
       " \"./python_recursionisslow.ipynb\"\n",
       " \"./random.ipynb\"\n",
       " \"./recursion_isslow.ipynb\"\n",
       " \"./replprnt.jl\"\n",
       " \"./runtime introspection.ipynb\"\n",
       " \"./ulli-styletl.ipynb\"\n",
       " \"./weird.jl\"\n",
       " \"./when to annotate.ipynb\"\n",
       " \"./zoom_x86_64.rpm\""
      ]
     },
     "execution_count": 36,
     "metadata": {},
     "output_type": "execute_result"
    }
   ],
   "source": [
    "@time route_from_dir(\".\")"
   ]
  },
  {
   "cell_type": "code",
   "execution_count": null,
   "metadata": {},
   "outputs": [],
   "source": []
  }
 ],
 "metadata": {
  "kernelspec": {
   "display_name": "Julia 1.6.3",
   "language": "julia",
   "name": "julia-1.6"
  },
  "language_info": {
   "file_extension": ".jl",
   "mimetype": "application/julia",
   "name": "julia",
   "version": "1.7.2"
  }
 },
 "nbformat": 4,
 "nbformat_minor": 4
}
