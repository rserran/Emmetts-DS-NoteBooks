{
 "cells": [
  {
   "cell_type": "code",
   "execution_count": 1,
   "metadata": {},
   "outputs": [
    {
     "name": "stderr",
     "output_type": "stream",
     "text": [
      "\u001b[32m\u001b[1m  Activating\u001b[22m\u001b[39m project at `~/dev/nbs/PrrtyEnv`\n"
     ]
    }
   ],
   "source": [
    "using Pkg; Pkg.activate(\"PrrtyEnv\")"
   ]
  },
  {
   "cell_type": "code",
   "execution_count": 2,
   "metadata": {},
   "outputs": [
    {
     "name": "stdout",
     "output_type": "stream",
     "text": [
      "\u001b[32m\u001b[1m      Status\u001b[22m\u001b[39m `~/dev/nbs/PrrtyEnv/Project.toml`\n",
      " \u001b[90m [a47e2ad8] \u001b[39mToolips v0.2.4 `https://github.com/ChifiSource/Toolips.jl.git#Unstable`\n",
      " \u001b[90m [8ae86ec9] \u001b[39mToolipsSVG v0.1.0 `https://github.com/ChifiSource/ToolipsSVG.jl#unstable`\n",
      " \u001b[90m [2fe55384] \u001b[39mToolipsSession v0.3.0\n"
     ]
    }
   ],
   "source": [
    "Pkg.status()"
   ]
  },
  {
   "cell_type": "code",
   "execution_count": 3,
   "metadata": {},
   "outputs": [],
   "source": [
    "using Toolips"
   ]
  },
  {
   "cell_type": "code",
   "execution_count": 4,
   "metadata": {},
   "outputs": [],
   "source": [
    "using ToolipsSession"
   ]
  },
  {
   "cell_type": "code",
   "execution_count": 5,
   "metadata": {},
   "outputs": [],
   "source": [
    "using ToolipsSVG"
   ]
  },
  {
   "cell_type": "code",
   "execution_count": 6,
   "metadata": {},
   "outputs": [],
   "source": [
    "using Random"
   ]
  },
  {
   "cell_type": "code",
   "execution_count": 65,
   "metadata": {},
   "outputs": [],
   "source": [
    "import Base: show"
   ]
  },
  {
   "cell_type": "code",
   "execution_count": 7,
   "metadata": {},
   "outputs": [],
   "source": [
    "abstract type AbstractContext <: Toolips.Modifier end"
   ]
  },
  {
   "cell_type": "code",
   "execution_count": 66,
   "metadata": {},
   "outputs": [
    {
     "data": {
      "text/plain": [
       "show (generic function with 400 methods)"
      ]
     },
     "execution_count": 66,
     "metadata": {},
     "output_type": "execute_result"
    }
   ],
   "source": [
    "function show(io::IO, con::AbstractContext)\n",
    "    display(MIME\"text/html\"(), con.window)\n",
    "end"
   ]
  },
  {
   "cell_type": "code",
   "execution_count": 67,
   "metadata": {},
   "outputs": [],
   "source": [
    "mutable struct Context <: AbstractContext\n",
    "    window::Component{:svg}\n",
    "    uuid::String\n",
    "    layers::Dict{String, UnitRange{Int64}}\n",
    "    dim::Pair{Int64, Int64}\n",
    "    margin::Pair{Int64, Int64}\n",
    "    Context(wind::Component{:svg}, margin::Pair{Int64, Int64}) = begin\n",
    "        new(wind, randstring(), Dict{String, UnitRange{Int64}}(), wind[:width] => wind[:height], \n",
    "            margin)::Context\n",
    "    end\n",
    "    Context(width::Int64 = 1280, height::Int64 = 720,\n",
    "        margin::Pair{Int64, Int64} = 0 => 0) = begin\n",
    "        window::Component{:svg} = svg(\"window\", width = width,\n",
    "        height = height)\n",
    "        Context(window, margin)::Context\n",
    "    end\n",
    "end"
   ]
  },
  {
   "cell_type": "code",
   "execution_count": 68,
   "metadata": {
    "scrolled": true
   },
   "outputs": [
    {
     "data": {
      "text/html": [
       "\"<svg id=window height=500 width=500></svg>\""
      ]
     },
     "metadata": {},
     "output_type": "display_data"
    },
    {
     "data": {
      "text/plain": []
     },
     "execution_count": 68,
     "metadata": {},
     "output_type": "execute_result"
    }
   ],
   "source": [
    "c = Context(500, 500)"
   ]
  },
  {
   "cell_type": "code",
   "execution_count": 69,
   "metadata": {},
   "outputs": [
    {
     "data": {
      "text/plain": [
       "draw! (generic function with 2 methods)"
      ]
     },
     "execution_count": 69,
     "metadata": {},
     "output_type": "execute_result"
    }
   ],
   "source": [
    "function draw!(c::AbstractContext, comps::Vector{<:Servable}, id::String = randstring())\n",
    "    current_len::Int64 = length(c.window[:children])\n",
    "    comp_len::Int64 = length(comps)\n",
    "    c.window[:children] = Vector{Servable}(vcat(c.window[:children], comps))\n",
    "    push!(c.layers, id => current_len + 1:current_len + comp_len)\n",
    "end"
   ]
  },
  {
   "cell_type": "code",
   "execution_count": 70,
   "metadata": {},
   "outputs": [
    {
     "data": {
      "text/plain": [
       "line! (generic function with 2 methods)"
      ]
     },
     "execution_count": 70,
     "metadata": {},
     "output_type": "execute_result"
    }
   ],
   "source": [
    "function line!(con::AbstractContext, x::Vector{<:Number}, y::Vector{<:Number},\n",
    "        styles::Pair{String, <:Any} ...)\n",
    "    if length(styles) == 0\n",
    "        styles = (\"fill\" => \"none\", \"stroke\" => \"black\", \"stroke-width\" => \"4\")\n",
    "    end\n",
    "    if length(x) != length(y)\n",
    "        throw(DimensionMismatch(\"x and y, of lengths $(length(x)) and $(length(y)) are not equal!\"))\n",
    "    end\n",
    "    xmax::Number, ymax::Number = maximum(x), maximum(y)\n",
    "    percvec_x = map(n::Number -> n / xmax, x)\n",
    "    percvec_y = map(n::Number -> n / ymax, y)\n",
    "    line_data = join(Tuple(begin\n",
    "                    scaled_x::Int64 = round(con.dim[1] * xper)  + con.margin[1]\n",
    "                    scaled_y::Int64 = con.dim[2] - round(con.dim[2] * yper)  + con.margin[2]\n",
    "                    \"$(scaled_x)&#32;$(scaled_y),\"\n",
    "                end for (xper, yper) in zip(percvec_x, percvec_y)))\n",
    "    line_comp = ToolipsSVG.polyline(\"newline\", points = line_data)\n",
    "    style!(line_comp, styles ...)\n",
    "    draw!(con, [line_comp])\n",
    "end"
   ]
  },
  {
   "cell_type": "code",
   "execution_count": 71,
   "metadata": {},
   "outputs": [
    {
     "data": {
      "text/plain": [
       "Dict{String, UnitRange{Int64}} with 1 entry:\n",
       "  \"MPMC9228\" => 1:1"
      ]
     },
     "execution_count": 71,
     "metadata": {},
     "output_type": "execute_result"
    }
   ],
   "source": [
    "line!(c, [25, 22, 15], [15, 34, 55])"
   ]
  },
  {
   "cell_type": "code",
   "execution_count": 72,
   "metadata": {},
   "outputs": [
    {
     "data": {
      "text/html": [
       "\"<svg id=window height=500 width=500><polyline id=newline style='fill: none;stroke: black;stroke-width: 4;' points=500&#32;364,440&#32;191,300&#32;0,></polyline></svg>\""
      ],
      "text/plain": [
       "Component{:svg}(\"window\", Toolips.var\"#f#80\"{String, String, Dict{Any, Any}, Vector{Servable}}(\"window\", \"svg\", Dict{Any, Any}(:children => Servable[Component{:polyline}(\"newline\", Toolips.var\"#f#80\"{String, String, Dict{Any, Any}, Vector{Servable}}(\"newline\", \"polyline\", Dict{Any, Any}(:children => Servable[], \"style\" => \"'fill: none;stroke: black;stroke-width: 4;'\", :points => \"500&#32;364,440&#32;191,300&#32;0,\"), Servable[]), Dict{Any, Any}(:children => Servable[], \"style\" => \"'fill: none;stroke: black;stroke-width: 4;'\", :points => \"500&#32;364,440&#32;191,300&#32;0,\"), Servable[], \"polyline\")], :height => 500, :width => 500), Servable[]), Dict{Any, Any}(:children => Servable[Component{:polyline}(\"newline\", Toolips.var\"#f#80\"{String, String, Dict{Any, Any}, Vector{Servable}}(\"newline\", \"polyline\", Dict{Any, Any}(:children => Servable[], \"style\" => \"'fill: none;stroke: black;stroke-width: 4;'\", :points => \"500&#32;364,440&#32;191,300&#32;0,\"), Servable[]), Dict{Any, Any}(:children => Servable[], \"style\" => \"'fill: none;stroke: black;stroke-width: 4;'\", :points => \"500&#32;364,440&#32;191,300&#32;0,\"), Servable[], \"polyline\")], :height => 500, :width => 500), Servable[], \"svg\")"
      ]
     },
     "metadata": {},
     "output_type": "display_data"
    }
   ],
   "source": [
    "display(c.window)"
   ]
  },
  {
   "cell_type": "code",
   "execution_count": 73,
   "metadata": {},
   "outputs": [
    {
     "data": {
      "text/plain": [
       "Dict{String, UnitRange{Int64}} with 2 entries:\n",
       "  \"IwiieGKM\" => 2:2\n",
       "  \"MPMC9228\" => 1:1"
      ]
     },
     "execution_count": 73,
     "metadata": {},
     "output_type": "execute_result"
    }
   ],
   "source": [
    "line!(c, [35, 92, 22], [125, 92, 27], \"stroke-width\" => \"5\", \"fill\" => \"none\", \"stroke\" => \"blue\")"
   ]
  },
  {
   "cell_type": "code",
   "execution_count": 74,
   "metadata": {},
   "outputs": [
    {
     "data": {
      "text/html": [
       "\"<svg id=window height=500 width=500><polyline id=newline style='fill: none;stroke: black;stroke-width: 4;' points=500&#32;364,440&#32;191,300&#32;0,></polyline><polyline id=newline style='stroke-width: 5;fill: none;stroke: blue;' points=190&#32;0,500&#32;132,120&#32;392,></polyline></svg>\""
      ],
      "text/plain": [
       "Component{:svg}(\"window\", Toolips.var\"#f#80\"{String, String, Dict{Any, Any}, Vector{Servable}}(\"window\", \"svg\", Dict{Any, Any}(:children => Servable[Component{:polyline}(\"newline\", Toolips.var\"#f#80\"{String, String, Dict{Any, Any}, Vector{Servable}}(\"newline\", \"polyline\", Dict{Any, Any}(:children => Servable[], \"style\" => \"'fill: none;stroke: black;stroke-width: 4;'\", :points => \"500&#32;364,440&#32;191,300&#32;0,\"), Servable[]), Dict{Any, Any}(:children => Servable[], \"style\" => \"'fill: none;stroke: black;stroke-width: 4;'\", :points => \"500&#32;364,440&#32;191,300&#32;0,\"), Servable[], \"polyline\"), Component{:polyline}(\"newline\", Toolips.var\"#f#80\"{String, String, Dict{Any, Any}, Vector{Servable}}(\"newline\", \"polyline\", Dict{Any, Any}(:children => Servable[], \"style\" => \"'stroke-width: 5;fill: none;stroke: blue;'\", :points => \"190&#32;0,500&#32;132,120&#32;392,\"), Servable[]), Dict{Any, Any}(:children => Servable[], \"style\" => \"'stroke-width: 5;fill: none;stroke: blue;'\", :points => \"190&#32;0,500&#32;132,120&#32;392,\"), Servable[], \"polyline\")], :height => 500, :width => 500), Servable[]), Dict{Any, Any}(:children => Servable[Component{:polyline}(\"newline\", Toolips.var\"#f#80\"{String, String, Dict{Any, Any}, Vector{Servable}}(\"newline\", \"polyline\", Dict{Any, Any}(:children => Servable[], \"style\" => \"'fill: none;stroke: black;stroke-width: 4;'\", :points => \"500&#32;364,440&#32;191,300&#32;0,\"), Servable[]), Dict{Any, Any}(:children => Servable[], \"style\" => \"'fill: none;stroke: black;stroke-width: 4;'\", :points => \"500&#32;364,440&#32;191,300&#32;0,\"), Servable[], \"polyline\"), Component{:polyline}(\"newline\", Toolips.var\"#f#80\"{String, String, Dict{Any, Any}, Vector{Servable}}(\"newline\", \"polyline\", Dict{Any, Any}(:children => Servable[], \"style\" => \"'stroke-width: 5;fill: none;stroke: blue;'\", :points => \"190&#32;0,500&#32;132,120&#32;392,\"), Servable[]), Dict{Any, Any}(:children => Servable[], \"style\" => \"'stroke-width: 5;fill: none;stroke: blue;'\", :points => \"190&#32;0,500&#32;132,120&#32;392,\"), Servable[], \"polyline\")], :height => 500, :width => 500), Servable[], \"svg\")"
      ]
     },
     "metadata": {},
     "output_type": "display_data"
    }
   ],
   "source": [
    "display(c.window)"
   ]
  },
  {
   "cell_type": "code",
   "execution_count": 75,
   "metadata": {},
   "outputs": [
    {
     "data": {
      "text/plain": [
       "Dict{String, UnitRange{Int64}} with 2 entries:\n",
       "  \"IwiieGKM\" => 2:2\n",
       "  \"MPMC9228\" => 1:1"
      ]
     },
     "execution_count": 75,
     "metadata": {},
     "output_type": "execute_result"
    }
   ],
   "source": [
    "c.layers"
   ]
  },
  {
   "cell_type": "code",
   "execution_count": 76,
   "metadata": {},
   "outputs": [
    {
     "data": {
      "text/html": [
       "\"<polyline id=newline style='fill: none;stroke: black;stroke-width: 4;' points=500&#32;364,440&#32;191,300&#32;0,></polyline>\""
      ],
      "text/plain": [
       "Component{:polyline}(\"newline\", Toolips.var\"#f#80\"{String, String, Dict{Any, Any}, Vector{Servable}}(\"newline\", \"polyline\", Dict{Any, Any}(:children => Servable[], \"style\" => \"'fill: none;stroke: black;stroke-width: 4;'\", :points => \"500&#32;364,440&#32;191,300&#32;0,\"), Servable[]), Dict{Any, Any}(:children => Servable[], \"style\" => \"'fill: none;stroke: black;stroke-width: 4;'\", :points => \"500&#32;364,440&#32;191,300&#32;0,\"), Servable[], \"polyline\")"
      ]
     },
     "execution_count": 76,
     "metadata": {},
     "output_type": "execute_result"
    }
   ],
   "source": [
    "c.window[:children][1]"
   ]
  },
  {
   "cell_type": "code",
   "execution_count": 77,
   "metadata": {},
   "outputs": [
    {
     "data": {
      "text/plain": [
       "Dict{String, UnitRange{Int64}} with 3 entries:\n",
       "  \"fbAp3CjI\" => 3:3\n",
       "  \"IwiieGKM\" => 2:2\n",
       "  \"MPMC9228\" => 1:1"
      ]
     },
     "execution_count": 77,
     "metadata": {},
     "output_type": "execute_result"
    }
   ],
   "source": [
    "line!(c, [5, 1, 2], [7, 34, 5], \"stroke\" => \"red\", \"stroke-width\" => \"10\", \"fill\" => \"none\")"
   ]
  },
  {
   "cell_type": "code",
   "execution_count": 78,
   "metadata": {},
   "outputs": [
    {
     "data": {
      "text/html": [
       "\"<svg id=window height=500 width=500><polyline id=newline style='fill: none;stroke: black;stroke-width: 4;' points=500&#32;364,440&#32;191,300&#32;0,></polyline><polyline id=newline style='stroke-width: 5;fill: none;stroke: blue;' points=190&#32;0,500&#32;132,120&#32;392,></polyline><polyline id=newline style='stroke: red;stroke-width: 10;fill: none;' points=500&#32;397,100&#32;0,200&#32;426,></polyline></svg>\""
      ],
      "text/plain": [
       "Component{:svg}(\"window\", Toolips.var\"#f#80\"{String, String, Dict{Any, Any}, Vector{Servable}}(\"window\", \"svg\", Dict{Any, Any}(:children => Servable[Component{:polyline}(\"newline\", Toolips.var\"#f#80\"{String, String, Dict{Any, Any}, Vector{Servable}}(\"newline\", \"polyline\", Dict{Any, Any}(:children => Servable[], \"style\" => \"'fill: none;stroke: black;stroke-width: 4;'\", :points => \"500&#32;364,440&#32;191,300&#32;0,\"), Servable[]), Dict{Any, Any}(:children => Servable[], \"style\" => \"'fill: none;stroke: black;stroke-width: 4;'\", :points => \"500&#32;364,440&#32;191,300&#32;0,\"), Servable[], \"polyline\"), Component{:polyline}(\"newline\", Toolips.var\"#f#80\"{String, String, Dict{Any, Any}, Vector{Servable}}(\"newline\", \"polyline\", Dict{Any, Any}(:children => Servable[], \"style\" => \"'stroke-width: 5;fill: none;stroke: blue;'\", :points => \"190&#32;0,500&#32;132,120&#32;392,\"), Servable[]), Dict{Any, Any}(:children => Servable[], \"style\" => \"'stroke-width: 5;fill: none;stroke: blue;'\", :points => \"190&#32;0,500&#32;132,120&#32;392,\"), Servable[], \"polyline\"), Component{:polyline}(\"newline\", Toolips.var\"#f#80\"{String, String, Dict{Any, Any}, Vector{Servable}}(\"newline\", \"polyline\", Dict{Any, Any}(:children => Servable[], \"style\" => \"'stroke: red;stroke-width: 10;fill: none;'\", :points => \"500&#32;397,100&#32;0,200&#32;426,\"), Servable[]), Dict{Any, Any}(:children => Servable[], \"style\" => \"'stroke: red;stroke-width: 10;fill: none;'\", :points => \"500&#32;397,100&#32;0,200&#32;426,\"), Servable[], \"polyline\")], :height => 500, :width => 500), Servable[]), Dict{Any, Any}(:children => Servable[Component{:polyline}(\"newline\", Toolips.var\"#f#80\"{String, String, Dict{Any, Any}, Vector{Servable}}(\"newline\", \"polyline\", Dict{Any, Any}(:children => Servable[], \"style\" => \"'fill: none;stroke: black;stroke-width: 4;'\", :points => \"500&#32;364,440&#32;191,300&#32;0,\"), Servable[]), Dict{Any, Any}(:children => Servable[], \"style\" => \"'fill: none;stroke: black;stroke-width: 4;'\", :points => \"500&#32;364,440&#32;191,300&#32;0,\"), Servable[], \"polyline\"), Component{:polyline}(\"newline\", Toolips.var\"#f#80\"{String, String, Dict{Any, Any}, Vector{Servable}}(\"newline\", \"polyline\", Dict{Any, Any}(:children => Servable[], \"style\" => \"'stroke-width: 5;fill: none;stroke: blue;'\", :points => \"190&#32;0,500&#32;132,120&#32;392,\"), Servable[]), Dict{Any, Any}(:children => Servable[], \"style\" => \"'stroke-width: 5;fill: none;stroke: blue;'\", :points => \"190&#32;0,500&#32;132,120&#32;392,\"), Servable[], \"polyline\"), Component{:polyline}(\"newline\", Toolips.var\"#f#80\"{String, String, Dict{Any, Any}, Vector{Servable}}(\"newline\", \"polyline\", Dict{Any, Any}(:children => Servable[], \"style\" => \"'stroke: red;stroke-width: 10;fill: none;'\", :points => \"500&#32;397,100&#32;0,200&#32;426,\"), Servable[]), Dict{Any, Any}(:children => Servable[], \"style\" => \"'stroke: red;stroke-width: 10;fill: none;'\", :points => \"500&#32;397,100&#32;0,200&#32;426,\"), Servable[], \"polyline\")], :height => 500, :width => 500), Servable[], \"svg\")"
      ]
     },
     "metadata": {},
     "output_type": "display_data"
    }
   ],
   "source": [
    "display(c.window)"
   ]
  },
  {
   "cell_type": "code",
   "execution_count": 79,
   "metadata": {},
   "outputs": [
    {
     "data": {
      "text/plain": [
       "g (generic function with 1 method)"
      ]
     },
     "execution_count": 79,
     "metadata": {},
     "output_type": "execute_result"
    }
   ],
   "source": [
    "g(name::String, styles::Pair{String, String} ...; args ...) = begin\n",
    "    comp::Component{:g} = Component(name, \"g\", args ...)\n",
    "    if length(styles) != 0\n",
    "        style!(comp, styles ...)\n",
    "    end\n",
    "    comp::Component{:g}\n",
    "end"
   ]
  },
  {
   "cell_type": "code",
   "execution_count": 80,
   "metadata": {},
   "outputs": [],
   "source": [
    "mutable struct Group <: AbstractContext\n",
    "    window::Component{:g}\n",
    "    uuid::String\n",
    "    layers::Dict{String, UnitRange{Int64}}\n",
    "    dim::Pair{Int64, Int64}\n",
    "    margin::Pair{Int64, Int64}\n",
    "    Group(name::String = randstring(), width::Int64 = 1280, height::Int64 = 720,\n",
    "        margin::Pair{Int64, Int64} = 0 => 0) = begin\n",
    "        window::Component{:g} = g(\"$name\", width = width, height = height)\n",
    "        new(window, name, Dict{String, UnitRange{Int64}}(), width => height, margin)\n",
    "    end\n",
    "end"
   ]
  },
  {
   "cell_type": "code",
   "execution_count": 81,
   "metadata": {},
   "outputs": [
    {
     "data": {
      "text/plain": [
       "group! (generic function with 4 methods)"
      ]
     },
     "execution_count": 81,
     "metadata": {},
     "output_type": "execute_result"
    }
   ],
   "source": [
    "function group!(f::Function, c::Context, name::String, w::Int64 = c.dim[1], \n",
    "    h::Int64 = c.dim[2], margin::Pair{Int64, Int64} = c.margin)\n",
    "    gr = Group(name, w, h, margin)\n",
    "    f(gr)\n",
    "    draw!(c, [gr.window], name)\n",
    "end"
   ]
  },
  {
   "cell_type": "code",
   "execution_count": 82,
   "metadata": {},
   "outputs": [
    {
     "data": {
      "text/plain": [
       "Dict{String, UnitRange{Int64}} with 4 entries:\n",
       "  \"fbAp3CjI\"  => 3:3\n",
       "  \"IwiieGKM\"  => 2:2\n",
       "  \"exampline\" => 4:4\n",
       "  \"MPMC9228\"  => 1:1"
      ]
     },
     "execution_count": 82,
     "metadata": {},
     "output_type": "execute_result"
    }
   ],
   "source": [
    "group!(c, \"exampline\", 50, 50, 10 => 10) do g::Group\n",
    "    line!(g, [5, 10, 11], [9, 4, 3], \"stroke\" => \"green\", \"stroke-width\" => \"10\", \"fill\" => \"none\")\n",
    "end"
   ]
  },
  {
   "cell_type": "code",
   "execution_count": 83,
   "metadata": {},
   "outputs": [
    {
     "data": {
      "text/html": [
       "\"<svg id=window height=500 width=500><polyline id=newline style='fill: none;stroke: black;stroke-width: 4;' points=500&#32;364,440&#32;191,300&#32;0,></polyline><polyline id=newline style='stroke-width: 5;fill: none;stroke: blue;' points=190&#32;0,500&#32;132,120&#32;392,></polyline><polyline id=newline style='stroke: red;stroke-width: 10;fill: none;' points=500&#32;397,100&#32;0,200&#32;426,></polyline><g id=exampline height=50 width=50><polyline id=newline style='stroke: green;stroke-width: 10;fill: none;' points=33&#32;10,55&#32;38,60&#32;43,></polyline></g></svg>\""
      ],
      "text/plain": [
       "Component{:svg}(\"window\", Toolips.var\"#f#80\"{String, String, Dict{Any, Any}, Vector{Servable}}(\"window\", \"svg\", Dict{Any, Any}(:children => Servable[Component{:polyline}(\"newline\", Toolips.var\"#f#80\"{String, String, Dict{Any, Any}, Vector{Servable}}(\"newline\", \"polyline\", Dict{Any, Any}(:children => Servable[], \"style\" => \"'fill: none;stroke: black;stroke-width: 4;'\", :points => \"500&#32;364,440&#32;191,300&#32;0,\"), Servable[]), Dict{Any, Any}(:children => Servable[], \"style\" => \"'fill: none;stroke: black;stroke-width: 4;'\", :points => \"500&#32;364,440&#32;191,300&#32;0,\"), Servable[], \"polyline\"), Component{:polyline}(\"newline\", Toolips.var\"#f#80\"{String, String, Dict{Any, Any}, Vector{Servable}}(\"newline\", \"polyline\", Dict{Any, Any}(:children => Servable[], \"style\" => \"'stroke-width: 5;fill: none;stroke: blue;'\", :points => \"190&#32;0,500&#32;132,120&#32;392,\"), Servable[]), Dict{Any, Any}(:children => Servable[], \"style\" => \"'stroke-width: 5;fill: none;stroke: blue;'\", :points => \"190&#32;0,500&#32;132,120&#32;392,\"), Servable[], \"polyline\"), Component{:polyline}(\"newline\", Toolips.var\"#f#80\"{String, String, Dict{Any, Any}, Vector{Servable}}(\"newline\", \"polyline\", Dict{Any, Any}(:children => Servable[], \"style\" => \"'stroke: red;stroke-width: 10;fill: none;'\", :points => \"500&#32;397,100&#32;0,200&#32;426,\"), Servable[]), Dict{Any, Any}(:children => Servable[], \"style\" => \"'stroke: red;stroke-width: 10;fill: none;'\", :points => \"500&#32;397,100&#32;0,200&#32;426,\"), Servable[], \"polyline\"), Component{:g}(\"exampline\", Toolips.var\"#f#80\"{String, String, Dict{Any, Any}, Vector{Servable}}(\"exampline\", \"g\", Dict{Any, Any}(:children => Servable[Component{:polyline}(\"newline\", Toolips.var\"#f#80\"{String, String, Dict{Any, Any}, Vector{Servable}}(\"newline\", \"polyline\", Dict{Any, Any}(:children => Servable[], \"style\" => \"'stroke: green;stroke-width: 10;fill: none;'\", :points => \"33&#32;10,55&#32;38,60&#32;43,\"), Servable[]), Dict{Any, Any}(:children => Servable[], \"style\" => \"'stroke: green;stroke-width: 10;fill: none;'\", :points => \"33&#32;10,55&#32;38,60&#32;43,\"), Servable[], \"polyline\")], :height => 50, :width => 50), Servable[]), Dict{Any, Any}(:children => Servable[Component{:polyline}(\"newline\", Toolips.var\"#f#80\"{String, String, Dict{Any, Any}, Vector{Servable}}(\"newline\", \"polyline\", Dict{Any, Any}(:children => Servable[], \"style\" => \"'stroke: green;stroke-width: 10;fill: none;'\", :points => \"33&#32;10,55&#32;38,60&#32;43,\"), Servable[]), Dict{Any, Any}(:children => Servable[], \"style\" => \"'stroke: green;stroke-width: 10;fill: none;'\", :points => \"33&#32;10,55&#32;38,60&#32;43,\"), Servable[], \"polyline\")], :height => 50, :width => 50), Servable[], \"g\")], :height => 500, :width => 500), Servable[]), Dict{Any, Any}(:children => Servable[Component{:polyline}(\"newline\", Toolips.var\"#f#80\"{String, String, Dict{Any, Any}, Vector{Servable}}(\"newline\", \"polyline\", Dict{Any, Any}(:children => Servable[], \"style\" => \"'fill: none;stroke: black;stroke-width: 4;'\", :points => \"500&#32;364,440&#32;191,300&#32;0,\"), Servable[]), Dict{Any, Any}(:children => Servable[], \"style\" => \"'fill: none;stroke: black;stroke-width: 4;'\", :points => \"500&#32;364,440&#32;191,300&#32;0,\"), Servable[], \"polyline\"), Component{:polyline}(\"newline\", Toolips.var\"#f#80\"{String, String, Dict{Any, Any}, Vector{Servable}}(\"newline\", \"polyline\", Dict{Any, Any}(:children => Servable[], \"style\" => \"'stroke-width: 5;fill: none;stroke: blue;'\", :points => \"190&#32;0,500&#32;132,120&#32;392,\"), Servable[]), Dict{Any, Any}(:children => Servable[], \"style\" => \"'stroke-width: 5;fill: none;stroke: blue;'\", :points => \"190&#32;0,500&#32;132,120&#32;392,\"), Servable[], \"polyline\"), Component{:polyline}(\"newline\", Toolips.var\"#f#80\"{String, String, Dict{Any, Any}, Vector{Servable}}(\"newline\", \"polyline\", Dict{Any, Any}(:children => Servable[], \"style\" => \"'stroke: red;stroke-width: 10;fill: none;'\", :points => \"500&#32;397,100&#32;0,200&#32;426,\"), Servable[]), Dict{Any, Any}(:children => Servable[], \"style\" => \"'stroke: red;stroke-width: 10;fill: none;'\", :points => \"500&#32;397,100&#32;0,200&#32;426,\"), Servable[], \"polyline\"), Component{:g}(\"exampline\", Toolips.var\"#f#80\"{String, String, Dict{Any, Any}, Vector{Servable}}(\"exampline\", \"g\", Dict{Any, Any}(:children => Servable[Component{:polyline}(\"newline\", Toolips.var\"#f#80\"{String, String, Dict{Any, Any}, Vector{Servable}}(\"newline\", \"polyline\", Dict{Any, Any}(:children => Servable[], \"style\" => \"'stroke: green;stroke-width: 10;fill: none;'\", :points => \"33&#32;10,55&#32;38,60&#32;43,\"), Servable[]), Dict{Any, Any}(:children => Servable[], \"style\" => \"'stroke: green;stroke-width: 10;fill: none;'\", :points => \"33&#32;10,55&#32;38,60&#32;43,\"), Servable[], \"polyline\")], :height => 50, :width => 50), Servable[]), Dict{Any, Any}(:children => Servable[Component{:polyline}(\"newline\", Toolips.var\"#f#80\"{String, String, Dict{Any, Any}, Vector{Servable}}(\"newline\", \"polyline\", Dict{Any, Any}(:children => Servable[], \"style\" => \"'stroke: green;stroke-width: 10;fill: none;'\", :points => \"33&#32;10,55&#32;38,60&#32;43,\"), Servable[]), Dict{Any, Any}(:children => Servable[], \"style\" => \"'stroke: green;stroke-width: 10;fill: none;'\", :points => \"33&#32;10,55&#32;38,60&#32;43,\"), Servable[], \"polyline\")], :height => 50, :width => 50), Servable[], \"g\")], :height => 500, :width => 500), Servable[], \"svg\")"
      ]
     },
     "metadata": {},
     "output_type": "display_data"
    }
   ],
   "source": [
    "display(c.window)"
   ]
  },
  {
   "cell_type": "code",
   "execution_count": 84,
   "metadata": {},
   "outputs": [
    {
     "data": {
      "text/plain": [
       "line! (generic function with 2 methods)"
      ]
     },
     "execution_count": 84,
     "metadata": {},
     "output_type": "execute_result"
    }
   ],
   "source": [
    "function line!(con::AbstractContext, first::Pair{<:Number, <:Number},\n",
    "    second::Pair{<:Number, <:Number}, styles::Pair{String, <:Any} ...)\n",
    "    if length(styles) == 0\n",
    "        styles = (\"fill\" => \"none\", \"stroke\" => \"black\", \"stroke-width\" => \"4\")\n",
    "    end\n",
    "    ln = ToolipsSVG.line(randstring(), x1 = first[1], y1 = first[2],\n",
    "    x2 = second[1], y2 = second[2])\n",
    "    style!(ln, styles ...)\n",
    "    draw!(con, [ln])\n",
    "end"
   ]
  },
  {
   "cell_type": "code",
   "execution_count": 85,
   "metadata": {},
   "outputs": [
    {
     "data": {
      "text/plain": [
       "Dict{String, UnitRange{Int64}} with 5 entries:\n",
       "  \"fbAp3CjI\"  => 3:3\n",
       "  \"IwiieGKM\"  => 2:2\n",
       "  \"exampline\" => 4:4\n",
       "  \"YdLplePe\"  => 5:5\n",
       "  \"MPMC9228\"  => 1:1"
      ]
     },
     "execution_count": 85,
     "metadata": {},
     "output_type": "execute_result"
    }
   ],
   "source": [
    "line!(c, 5 => 5, 200 => 200)"
   ]
  },
  {
   "cell_type": "code",
   "execution_count": 86,
   "metadata": {},
   "outputs": [
    {
     "data": {
      "text/html": [
       "\"<svg id=window height=500 width=500><polyline id=newline style='fill: none;stroke: black;stroke-width: 4;' points=500&#32;364,440&#32;191,300&#32;0,></polyline><polyline id=newline style='stroke-width: 5;fill: none;stroke: blue;' points=190&#32;0,500&#32;132,120&#32;392,></polyline><polyline id=newline style='stroke: red;stroke-width: 10;fill: none;' points=500&#32;397,100&#32;0,200&#32;426,></polyline><g id=exampline height=50 width=50><polyline id=newline style='stroke: green;stroke-width: 10;fill: none;' points=33&#32;10,55&#32;38,60&#32;43,></polyline></g><line id=a8B8PaJN y1=5 x2=200 style='fill: none;stroke: black;stroke-width: 4;' y2=200 x1=5></line></svg>\""
      ],
      "text/plain": [
       "Component{:svg}(\"window\", Toolips.var\"#f#80\"{String, String, Dict{Any, Any}, Vector{Servable}}(\"window\", \"svg\", Dict{Any, Any}(:children => Servable[Component{:polyline}(\"newline\", Toolips.var\"#f#80\"{String, String, Dict{Any, Any}, Vector{Servable}}(\"newline\", \"polyline\", Dict{Any, Any}(:children => Servable[], \"style\" => \"'fill: none;stroke: black;stroke-width: 4;'\", :points => \"500&#32;364,440&#32;191,300&#32;0,\"), Servable[]), Dict{Any, Any}(:children => Servable[], \"style\" => \"'fill: none;stroke: black;stroke-width: 4;'\", :points => \"500&#32;364,440&#32;191,300&#32;0,\"), Servable[], \"polyline\"), Component{:polyline}(\"newline\", Toolips.var\"#f#80\"{String, String, Dict{Any, Any}, Vector{Servable}}(\"newline\", \"polyline\", Dict{Any, Any}(:children => Servable[], \"style\" => \"'stroke-width: 5;fill: none;stroke: blue;'\", :points => \"190&#32;0,500&#32;132,120&#32;392,\"), Servable[]), Dict{Any, Any}(:children => Servable[], \"style\" => \"'stroke-width: 5;fill: none;stroke: blue;'\", :points => \"190&#32;0,500&#32;132,120&#32;392,\"), Servable[], \"polyline\"), Component{:polyline}(\"newline\", Toolips.var\"#f#80\"{String, String, Dict{Any, Any}, Vector{Servable}}(\"newline\", \"polyline\", Dict{Any, Any}(:children => Servable[], \"style\" => \"'stroke: red;stroke-width: 10;fill: none;'\", :points => \"500&#32;397,100&#32;0,200&#32;426,\"), Servable[]), Dict{Any, Any}(:children => Servable[], \"style\" => \"'stroke: red;stroke-width: 10;fill: none;'\", :points => \"500&#32;397,100&#32;0,200&#32;426,\"), Servable[], \"polyline\"), Component{:g}(\"exampline\", Toolips.var\"#f#80\"{String, String, Dict{Any, Any}, Vector{Servable}}(\"exampline\", \"g\", Dict{Any, Any}(:children => Servable[Component{:polyline}(\"newline\", Toolips.var\"#f#80\"{String, String, Dict{Any, Any}, Vector{Servable}}(\"newline\", \"polyline\", Dict{Any, Any}(:children => Servable[], \"style\" => \"'stroke: green;stroke-width: 10;fill: none;'\", :points => \"33&#32;10,55&#32;38,60&#32;43,\"), Servable[]), Dict{Any, Any}(:children => Servable[], \"style\" => \"'stroke: green;stroke-width: 10;fill: none;'\", :points => \"33&#32;10,55&#32;38,60&#32;43,\"), Servable[], \"polyline\")], :height => 50, :width => 50), Servable[]), Dict{Any, Any}(:children => Servable[Component{:polyline}(\"newline\", Toolips.var\"#f#80\"{String, String, Dict{Any, Any}, Vector{Servable}}(\"newline\", \"polyline\", Dict{Any, Any}(:children => Servable[], \"style\" => \"'stroke: green;stroke-width: 10;fill: none;'\", :points => \"33&#32;10,55&#32;38,60&#32;43,\"), Servable[]), Dict{Any, Any}(:children => Servable[], \"style\" => \"'stroke: green;stroke-width: 10;fill: none;'\", :points => \"33&#32;10,55&#32;38,60&#32;43,\"), Servable[], \"polyline\")], :height => 50, :width => 50), Servable[], \"g\"), Component{:line}(\"a8B8PaJN\", Toolips.var\"#f#80\"{String, String, Dict{Any, Any}, Vector{Servable}}(\"a8B8PaJN\", \"line\", Dict{Any, Any}(:children => Servable[], :y1 => 5, :x2 => 200, \"style\" => \"'fill: none;stroke: black;stroke-width: 4;'\", :y2 => 200, :x1 => 5), Servable[]), Dict{Any, Any}(:children => Servable[], :y1 => 5, :x2 => 200, \"style\" => \"'fill: none;stroke: black;stroke-width: 4;'\", :y2 => 200, :x1 => 5), Servable[], \"line\")], :height => 500, :width => 500), Servable[]), Dict{Any, Any}(:children => Servable[Component{:polyline}(\"newline\", Toolips.var\"#f#80\"{String, String, Dict{Any, Any}, Vector{Servable}}(\"newline\", \"polyline\", Dict{Any, Any}(:children => Servable[], \"style\" => \"'fill: none;stroke: black;stroke-width: 4;'\", :points => \"500&#32;364,440&#32;191,300&#32;0,\"), Servable[]), Dict{Any, Any}(:children => Servable[], \"style\" => \"'fill: none;stroke: black;stroke-width: 4;'\", :points => \"500&#32;364,440&#32;191,300&#32;0,\"), Servable[], \"polyline\"), Component{:polyline}(\"newline\", Toolips.var\"#f#80\"{String, String, Dict{Any, Any}, Vector{Servable}}(\"newline\", \"polyline\", Dict{Any, Any}(:children => Servable[], \"style\" => \"'stroke-width: 5;fill: none;stroke: blue;'\", :points => \"190&#32;0,500&#32;132,120&#32;392,\"), Servable[]), Dict{Any, Any}(:children => Servable[], \"style\" => \"'stroke-width: 5;fill: none;stroke: blue;'\", :points => \"190&#32;0,500&#32;132,120&#32;392,\"), Servable[], \"polyline\"), Component{:polyline}(\"newline\", Toolips.var\"#f#80\"{String, String, Dict{Any, Any}, Vector{Servable}}(\"newline\", \"polyline\", Dict{Any, Any}(:children => Servable[], \"style\" => \"'stroke: red;stroke-width: 10;fill: none;'\", :points => \"500&#32;397,100&#32;0,200&#32;426,\"), Servable[]), Dict{Any, Any}(:children => Servable[], \"style\" => \"'stroke: red;stroke-width: 10;fill: none;'\", :points => \"500&#32;397,100&#32;0,200&#32;426,\"), Servable[], \"polyline\"), Component{:g}(\"exampline\", Toolips.var\"#f#80\"{String, String, Dict{Any, Any}, Vector{Servable}}(\"exampline\", \"g\", Dict{Any, Any}(:children => Servable[Component{:polyline}(\"newline\", Toolips.var\"#f#80\"{String, String, Dict{Any, Any}, Vector{Servable}}(\"newline\", \"polyline\", Dict{Any, Any}(:children => Servable[], \"style\" => \"'stroke: green;stroke-width: 10;fill: none;'\", :points => \"33&#32;10,55&#32;38,60&#32;43,\"), Servable[]), Dict{Any, Any}(:children => Servable[], \"style\" => \"'stroke: green;stroke-width: 10;fill: none;'\", :points => \"33&#32;10,55&#32;38,60&#32;43,\"), Servable[], \"polyline\")], :height => 50, :width => 50), Servable[]), Dict{Any, Any}(:children => Servable[Component{:polyline}(\"newline\", Toolips.var\"#f#80\"{String, String, Dict{Any, Any}, Vector{Servable}}(\"newline\", \"polyline\", Dict{Any, Any}(:children => Servable[], \"style\" => \"'stroke: green;stroke-width: 10;fill: none;'\", :points => \"33&#32;10,55&#32;38,60&#32;43,\"), Servable[]), Dict{Any, Any}(:children => Servable[], \"style\" => \"'stroke: green;stroke-width: 10;fill: none;'\", :points => \"33&#32;10,55&#32;38,60&#32;43,\"), Servable[], \"polyline\")], :height => 50, :width => 50), Servable[], \"g\"), Component{:line}(\"a8B8PaJN\", Toolips.var\"#f#80\"{String, String, Dict{Any, Any}, Vector{Servable}}(\"a8B8PaJN\", \"line\", Dict{Any, Any}(:children => Servable[], :y1 => 5, :x2 => 200, \"style\" => \"'fill: none;stroke: black;stroke-width: 4;'\", :y2 => 200, :x1 => 5), Servable[]), Dict{Any, Any}(:children => Servable[], :y1 => 5, :x2 => 200, \"style\" => \"'fill: none;stroke: black;stroke-width: 4;'\", :y2 => 200, :x1 => 5), Servable[], \"line\")], :height => 500, :width => 500), Servable[], \"svg\")"
      ]
     },
     "execution_count": 86,
     "metadata": {},
     "output_type": "execute_result"
    }
   ],
   "source": [
    "c.window"
   ]
  },
  {
   "cell_type": "code",
   "execution_count": 87,
   "metadata": {},
   "outputs": [
    {
     "data": {
      "text/html": [
       "\"<svg id=window height=720 width=1280></svg>\""
      ]
     },
     "metadata": {},
     "output_type": "display_data"
    },
    {
     "data": {
      "text/plain": []
     },
     "execution_count": 87,
     "metadata": {},
     "output_type": "execute_result"
    }
   ],
   "source": [
    "c = Context()"
   ]
  },
  {
   "cell_type": "code",
   "execution_count": 88,
   "metadata": {},
   "outputs": [
    {
     "data": {
      "text/plain": [
       "Dict{String, UnitRange{Int64}} with 1 entry:\n",
       "  \"rlKg2mg8\" => 1:1"
      ]
     },
     "execution_count": 88,
     "metadata": {},
     "output_type": "execute_result"
    }
   ],
   "source": [
    "line!(c, 5 => 5, 200 => 200)"
   ]
  },
  {
   "cell_type": "code",
   "execution_count": 89,
   "metadata": {},
   "outputs": [
    {
     "data": {
      "text/html": [
       "\"<svg id=window height=720 width=1280><line id=Vs2yaubu y1=5 x2=200 style='fill: none;stroke: black;stroke-width: 4;' y2=200 x1=5></line></svg>\""
      ],
      "text/plain": [
       "Component{:svg}(\"window\", Toolips.var\"#f#80\"{String, String, Dict{Any, Any}, Vector{Servable}}(\"window\", \"svg\", Dict{Any, Any}(:children => Servable[Component{:line}(\"Vs2yaubu\", Toolips.var\"#f#80\"{String, String, Dict{Any, Any}, Vector{Servable}}(\"Vs2yaubu\", \"line\", Dict{Any, Any}(:children => Servable[], :y1 => 5, :x2 => 200, \"style\" => \"'fill: none;stroke: black;stroke-width: 4;'\", :y2 => 200, :x1 => 5), Servable[]), Dict{Any, Any}(:children => Servable[], :y1 => 5, :x2 => 200, \"style\" => \"'fill: none;stroke: black;stroke-width: 4;'\", :y2 => 200, :x1 => 5), Servable[], \"line\")], :height => 720, :width => 1280), Servable[]), Dict{Any, Any}(:children => Servable[Component{:line}(\"Vs2yaubu\", Toolips.var\"#f#80\"{String, String, Dict{Any, Any}, Vector{Servable}}(\"Vs2yaubu\", \"line\", Dict{Any, Any}(:children => Servable[], :y1 => 5, :x2 => 200, \"style\" => \"'fill: none;stroke: black;stroke-width: 4;'\", :y2 => 200, :x1 => 5), Servable[]), Dict{Any, Any}(:children => Servable[], :y1 => 5, :x2 => 200, \"style\" => \"'fill: none;stroke: black;stroke-width: 4;'\", :y2 => 200, :x1 => 5), Servable[], \"line\")], :height => 720, :width => 1280), Servable[], \"svg\")"
      ]
     },
     "metadata": {},
     "output_type": "display_data"
    }
   ],
   "source": [
    "display(c.window)"
   ]
  },
  {
   "cell_type": "code",
   "execution_count": 90,
   "metadata": {},
   "outputs": [
    {
     "data": {
      "text/html": [
       "\"<svg id=window height=500 width=500></svg>\""
      ]
     },
     "metadata": {},
     "output_type": "display_data"
    },
    {
     "data": {
      "text/plain": []
     },
     "execution_count": 90,
     "metadata": {},
     "output_type": "execute_result"
    }
   ],
   "source": [
    "plt = Context(500, 500)"
   ]
  },
  {
   "cell_type": "code",
   "execution_count": 91,
   "metadata": {},
   "outputs": [
    {
     "data": {
      "text/plain": [
       "axes! (generic function with 1 method)"
      ]
     },
     "execution_count": 91,
     "metadata": {},
     "output_type": "execute_result"
    }
   ],
   "source": [
    "function axes!(con::AbstractContext, styles::Pair{String, <:Any} ...)\n",
    "    if length(styles) == 0\n",
    "        styles = (\"fill\" => \"none\", \"stroke\" => \"black\", \"stroke-width\" => \"4\")\n",
    "    end\n",
    "    line!(con, con.margin[1] => con.dim[2] + con.margin[2], con.dim[1] + con.margin[1] => con.dim[2] + con.margin[2], styles ...)\n",
    "    line!(con, con.margin[1] => con.margin[2], con.margin[1] => con.dim[2] + con.margin[2], styles ...)\n",
    "end"
   ]
  },
  {
   "cell_type": "code",
   "execution_count": 92,
   "metadata": {},
   "outputs": [
    {
     "data": {
      "text/html": [
       "\"<svg id=window height=500 width=500></svg>\""
      ],
      "text/plain": [
       "Component{:svg}(\"window\", Toolips.var\"#f#80\"{String, String, Dict{Any, Any}, Vector{Servable}}(\"window\", \"svg\", Dict{Any, Any}(:children => Servable[], :height => 500, :width => 500), Servable[]), Dict{Any, Any}(:children => Servable[], :height => 500, :width => 500), Servable[], \"svg\")"
      ]
     },
     "metadata": {},
     "output_type": "display_data"
    }
   ],
   "source": [
    "display(plt.window)"
   ]
  },
  {
   "cell_type": "code",
   "execution_count": 93,
   "metadata": {},
   "outputs": [
    {
     "data": {
      "text/plain": [
       "Servable[]"
      ]
     },
     "execution_count": 93,
     "metadata": {},
     "output_type": "execute_result"
    }
   ],
   "source": [
    "plt.window[:children]"
   ]
  },
  {
   "cell_type": "code",
   "execution_count": 94,
   "metadata": {},
   "outputs": [
    {
     "data": {
      "text/plain": [
       "grid! (generic function with 2 methods)"
      ]
     },
     "execution_count": 94,
     "metadata": {},
     "output_type": "execute_result"
    }
   ],
   "source": [
    "function grid!(con::AbstractContext, n::Int64 = 4, styles::Pair{String, <:Any} ...)\n",
    "    if length(styles) == 0\n",
    "        styles = (\"fill\" => \"none\", \"stroke\" => \"lightblue\", \"stroke-width\" => \"1\", \"opacity\" => 80percent)\n",
    "    end\n",
    "    mx = con.margin[1]\n",
    "    my = con.margin[2]\n",
    "    division_amountx::Int64 = round((con.dim[1]) / n)\n",
    "    division_amounty::Int64 = round((con.dim[2]) / n)\n",
    "    [begin\n",
    "        line!(con, xcoord + mx => 0 + my, xcoord + mx => con.dim[2] + my, styles ...)\n",
    "        line!(con, 0 + mx => ycoord + my, con.dim[1] + mx => ycoord + my, styles ...)\n",
    "    end for (xcoord, ycoord) in zip(\n",
    "    range(1, con.dim[1],\n",
    "    step = division_amountx), range(1, con.dim[2], step = division_amounty))]\n",
    "end"
   ]
  },
  {
   "cell_type": "code",
   "execution_count": 95,
   "metadata": {},
   "outputs": [
    {
     "data": {
      "text/plain": [
       "Dict{String, UnitRange{Int64}} with 2 entries:\n",
       "  \"HxkQtfRE\" => 2:2\n",
       "  \"fibB9A8W\" => 1:1"
      ]
     },
     "execution_count": 95,
     "metadata": {},
     "output_type": "execute_result"
    }
   ],
   "source": [
    "axes!(plt)"
   ]
  },
  {
   "cell_type": "code",
   "execution_count": 96,
   "metadata": {},
   "outputs": [
    {
     "data": {
      "text/plain": [
       "4-element Vector{Dict{String, UnitRange{Int64}}}:\n",
       " Dict(\"bMujq95v\" => 4:4, \"HxkQtfRE\" => 2:2, \"EIGEaIJm\" => 8:8, \"i99NM3v0\" => 7:7, \"fSnAuD38\" => 6:6, \"HqUnMVYq\" => 5:5, \"Gg13Wumd\" => 10:10, \"gy8GXxO0\" => 9:9, \"fibB9A8W\" => 1:1, \"vOCJ646A\" => 3:3…)\n",
       " Dict(\"bMujq95v\" => 4:4, \"HxkQtfRE\" => 2:2, \"EIGEaIJm\" => 8:8, \"i99NM3v0\" => 7:7, \"fSnAuD38\" => 6:6, \"HqUnMVYq\" => 5:5, \"Gg13Wumd\" => 10:10, \"gy8GXxO0\" => 9:9, \"fibB9A8W\" => 1:1, \"vOCJ646A\" => 3:3…)\n",
       " Dict(\"bMujq95v\" => 4:4, \"HxkQtfRE\" => 2:2, \"EIGEaIJm\" => 8:8, \"i99NM3v0\" => 7:7, \"fSnAuD38\" => 6:6, \"HqUnMVYq\" => 5:5, \"Gg13Wumd\" => 10:10, \"gy8GXxO0\" => 9:9, \"fibB9A8W\" => 1:1, \"vOCJ646A\" => 3:3…)\n",
       " Dict(\"bMujq95v\" => 4:4, \"HxkQtfRE\" => 2:2, \"EIGEaIJm\" => 8:8, \"i99NM3v0\" => 7:7, \"fSnAuD38\" => 6:6, \"HqUnMVYq\" => 5:5, \"Gg13Wumd\" => 10:10, \"gy8GXxO0\" => 9:9, \"fibB9A8W\" => 1:1, \"vOCJ646A\" => 3:3…)"
      ]
     },
     "execution_count": 96,
     "metadata": {},
     "output_type": "execute_result"
    }
   ],
   "source": [
    "grid!(plt, 4)"
   ]
  },
  {
   "cell_type": "code",
   "execution_count": 97,
   "metadata": {},
   "outputs": [
    {
     "data": {
      "text/html": [
       "\"<svg id=window height=500 width=500><line id=7OVOiwNc y1=500 x2=500 style='fill: none;stroke: black;stroke-width: 4;' y2=500 x1=0></line><line id=0RkK1Amg y1=0 x2=0 style='fill: none;stroke: black;stroke-width: 4;' y2=500 x1=0></line><line id=aMQzsHot y1=0 x2=1 style='fill: none;stroke: lightblue;stroke-width: 1;opacity: 80%;' y2=500 x1=1></line><line id=lZjxXlri y1=1 x2=500 style='fill: none;stroke: lightblue;stroke-width: 1;opacity: 80%;' y2=1 x1=0></line><line id=rXhTexZU y1=0 x2=126 style='fill: none;stroke: lightblue;stroke-width: 1;opacity: 80%;' y2=500 x1=126></line><line id=ZfD79c1A y1=126 x2=500 style='fill: none;stroke: lightblue;stroke-width: 1;opacity: 80%;' y2=126 x1=0></line><line id=SVkAgy0B y1=0 x2=251 style='fill: none;stroke: lightblue;stroke-width: 1;opacity: 80%;' y2=500 x1=251></line><line id=LnCzd0dZ y1=251 x2=500 style='fill: none;stroke: lightblue;stroke-width: 1;opacity: 80%;' y2=251 x1=0></line><line id=OgYwvBif y1=0 x2=376 style='fill: none;stroke: lightblue;stroke-width: 1;opacity: 80%;' y2=500 x1=376></line><line id=CsBgasMN y1=376 x2=500 style='fill: none;stroke: lightblue;stroke-width: 1;opacity: 80%;' y2=376 x1=0></line></svg>\""
      ],
      "text/plain": [
       "Component{:svg}(\"window\", Toolips.var\"#f#80\"{String, String, Dict{Any, Any}, Vector{Servable}}(\"window\", \"svg\", Dict{Any, Any}(:children => Servable[Component{:line}(\"7OVOiwNc\", Toolips.var\"#f#80\"{String, String, Dict{Any, Any}, Vector{Servable}}(\"7OVOiwNc\", \"line\", Dict{Any, Any}(:children => Servable[], :y1 => 500, :x2 => 500, \"style\" => \"'fill: none;stroke: black;stroke-width: 4;'\", :y2 => 500, :x1 => 0), Servable[]), Dict{Any, Any}(:children => Servable[], :y1 => 500, :x2 => 500, \"style\" => \"'fill: none;stroke: black;stroke-width: 4;'\", :y2 => 500, :x1 => 0), Servable[], \"line\"), Component{:line}(\"0RkK1Amg\", Toolips.var\"#f#80\"{String, String, Dict{Any, Any}, Vector{Servable}}(\"0RkK1Amg\", \"line\", Dict{Any, Any}(:children => Servable[], :y1 => 0, :x2 => 0, \"style\" => \"'fill: none;stroke: black;stroke-width: 4;'\", :y2 => 500, :x1 => 0), Servable[]), Dict{Any, Any}(:children => Servable[], :y1 => 0, :x2 => 0, \"style\" => \"'fill: none;stroke: black;stroke-width: 4;'\", :y2 => 500, :x1 => 0), Servable[], \"line\"), Component{:line}(\"aMQzsHot\", Toolips.var\"#f#80\"{String, String, Dict{Any, Any}, Vector{Servable}}(\"aMQzsHot\", \"line\", Dict{Any, Any}(:children => Servable[], :y1 => 0, :x2 => 1, \"style\" => \"'fill: none;stroke: lightblue;stroke-width: 1;opacity: 80%;'\", :y2 => 500, :x1 => 1), Servable[]), Dict{Any, Any}(:children => Servable[], :y1 => 0, :x2 => 1, \"style\" => \"'fill: none;stroke: lightblue;stroke-width: 1;opacity: 80%;'\", :y2 => 500, :x1 => 1), Servable[], \"line\"), Component{:line}(\"lZjxXlri\", Toolips.var\"#f#80\"{String, String, Dict{Any, Any}, Vector{Servable}}(\"lZjxXlri\", \"line\", Dict{Any, Any}(:children => Servable[], :y1 => 1, :x2 => 500, \"style\" => \"'fill: none;stroke: lightblue;stroke-width: 1;opacity: 80%;'\", :y2 => 1, :x1 => 0), Servable[]), Dict{Any, Any}(:children => Servable[], :y1 => 1, :x2 => 500, \"style\" => \"'fill: none;stroke: lightblue;stroke-width: 1;opacity: 80%;'\", :y2 => 1, :x1 => 0), Servable[], \"line\"), Component{:line}(\"rXhTexZU\", Toolips.var\"#f#80\"{String, String, Dict{Any, Any}, Vector{Servable}}(\"rXhTexZU\", \"line\", Dict{Any, Any}(:children => Servable[], :y1 => 0, :x2 => 126, \"style\" => \"'fill: none;stroke: lightblue;stroke-width: 1;opacity: 80%;'\", :y2 => 500, :x1 => 126), Servable[]), Dict{Any, Any}(:children => Servable[], :y1 => 0, :x2 => 126, \"style\" => \"'fill: none;stroke: lightblue;stroke-width: 1;opacity: 80%;'\", :y2 => 500, :x1 => 126), Servable[], \"line\"), Component{:line}(\"ZfD79c1A\", Toolips.var\"#f#80\"{String, String, Dict{Any, Any}, Vector{Servable}}(\"ZfD79c1A\", \"line\", Dict{Any, Any}(:children => Servable[], :y1 => 126, :x2 => 500, \"style\" => \"'fill: none;stroke: lightblue;stroke-width: 1;opacity: 80%;'\", :y2 => 126, :x1 => 0), Servable[]), Dict{Any, Any}(:children => Servable[], :y1 => 126, :x2 => 500, \"style\" => \"'fill: none;stroke: lightblue;stroke-width: 1;opacity: 80%;'\", :y2 => 126, :x1 => 0), Servable[], \"line\"), Component{:line}(\"SVkAgy0B\", Toolips.var\"#f#80\"{String, String, Dict{Any, Any}, Vector{Servable}}(\"SVkAgy0B\", \"line\", Dict{Any, Any}(:children => Servable[], :y1 => 0, :x2 => 251, \"style\" => \"'fill: none;stroke: lightblue;stroke-width: 1;opacity: 80%;'\", :y2 => 500, :x1 => 251), Servable[]), Dict{Any, Any}(:children => Servable[], :y1 => 0, :x2 => 251, \"style\" => \"'fill: none;stroke: lightblue;stroke-width: 1;opacity: 80%;'\", :y2 => 500, :x1 => 251), Servable[], \"line\"), Component{:line}(\"LnCzd0dZ\", Toolips.var\"#f#80\"{String, String, Dict{Any, Any}, Vector{Servable}}(\"LnCzd0dZ\", \"line\", Dict{Any, Any}(:children => Servable[], :y1 => 251, :x2 => 500, \"style\" => \"'fill: none;stroke: lightblue;stroke-width: 1;opacity: 80%;'\", :y2 => 251, :x1 => 0), Servable[]), Dict{Any, Any}(:children => Servable[], :y1 => 251, :x2 => 500, \"style\" => \"'fill: none;stroke: lightblue;stroke-width: 1;opacity: 80%;'\", :y2 => 251, :x1 => 0), Servable[], \"line\"), Component{:line}(\"OgYwvBif\", Toolips.var\"#f#80\"{String, String, Dict{Any, Any}, Vector{Servable}}(\"OgYwvBif\", \"line\", Dict{Any, Any}(:children => Servable[], :y1 => 0, :x2 => 376, \"style\" => \"'fill: none;stroke: lightblue;stroke-width: 1;opacity: 80%;'\", :y2 => 500, :x1 => 376), Servable[]), Dict{Any, Any}(:children => Servable[], :y1 => 0, :x2 => 376, \"style\" => \"'fill: none;stroke: lightblue;stroke-width: 1;opacity: 80%;'\", :y2 => 500, :x1 => 376), Servable[], \"line\"), Component{:line}(\"CsBgasMN\", Toolips.var\"#f#80\"{String, String, Dict{Any, Any}, Vector{Servable}}(\"CsBgasMN\", \"line\", Dict{Any, Any}(:children => Servable[], :y1 => 376, :x2 => 500, \"style\" => \"'fill: none;stroke: lightblue;stroke-width: 1;opacity: 80%;'\", :y2 => 376, :x1 => 0), Servable[]), Dict{Any, Any}(:children => Servable[], :y1 => 376, :x2 => 500, \"style\" => \"'fill: none;stroke: lightblue;stroke-width: 1;opacity: 80%;'\", :y2 => 376, :x1 => 0), Servable[], \"line\")], :height => 500, :width => 500), Servable[]), Dict{Any, Any}(:children => Servable[Component{:line}(\"7OVOiwNc\", Toolips.var\"#f#80\"{String, String, Dict{Any, Any}, Vector{Servable}}(\"7OVOiwNc\", \"line\", Dict{Any, Any}(:children => Servable[], :y1 => 500, :x2 => 500, \"style\" => \"'fill: none;stroke: black;stroke-width: 4;'\", :y2 => 500, :x1 => 0), Servable[]), Dict{Any, Any}(:children => Servable[], :y1 => 500, :x2 => 500, \"style\" => \"'fill: none;stroke: black;stroke-width: 4;'\", :y2 => 500, :x1 => 0), Servable[], \"line\"), Component{:line}(\"0RkK1Amg\", Toolips.var\"#f#80\"{String, String, Dict{Any, Any}, Vector{Servable}}(\"0RkK1Amg\", \"line\", Dict{Any, Any}(:children => Servable[], :y1 => 0, :x2 => 0, \"style\" => \"'fill: none;stroke: black;stroke-width: 4;'\", :y2 => 500, :x1 => 0), Servable[]), Dict{Any, Any}(:children => Servable[], :y1 => 0, :x2 => 0, \"style\" => \"'fill: none;stroke: black;stroke-width: 4;'\", :y2 => 500, :x1 => 0), Servable[], \"line\"), Component{:line}(\"aMQzsHot\", Toolips.var\"#f#80\"{String, String, Dict{Any, Any}, Vector{Servable}}(\"aMQzsHot\", \"line\", Dict{Any, Any}(:children => Servable[], :y1 => 0, :x2 => 1, \"style\" => \"'fill: none;stroke: lightblue;stroke-width: 1;opacity: 80%;'\", :y2 => 500, :x1 => 1), Servable[]), Dict{Any, Any}(:children => Servable[], :y1 => 0, :x2 => 1, \"style\" => \"'fill: none;stroke: lightblue;stroke-width: 1;opacity: 80%;'\", :y2 => 500, :x1 => 1), Servable[], \"line\"), Component{:line}(\"lZjxXlri\", Toolips.var\"#f#80\"{String, String, Dict{Any, Any}, Vector{Servable}}(\"lZjxXlri\", \"line\", Dict{Any, Any}(:children => Servable[], :y1 => 1, :x2 => 500, \"style\" => \"'fill: none;stroke: lightblue;stroke-width: 1;opacity: 80%;'\", :y2 => 1, :x1 => 0), Servable[]), Dict{Any, Any}(:children => Servable[], :y1 => 1, :x2 => 500, \"style\" => \"'fill: none;stroke: lightblue;stroke-width: 1;opacity: 80%;'\", :y2 => 1, :x1 => 0), Servable[], \"line\"), Component{:line}(\"rXhTexZU\", Toolips.var\"#f#80\"{String, String, Dict{Any, Any}, Vector{Servable}}(\"rXhTexZU\", \"line\", Dict{Any, Any}(:children => Servable[], :y1 => 0, :x2 => 126, \"style\" => \"'fill: none;stroke: lightblue;stroke-width: 1;opacity: 80%;'\", :y2 => 500, :x1 => 126), Servable[]), Dict{Any, Any}(:children => Servable[], :y1 => 0, :x2 => 126, \"style\" => \"'fill: none;stroke: lightblue;stroke-width: 1;opacity: 80%;'\", :y2 => 500, :x1 => 126), Servable[], \"line\"), Component{:line}(\"ZfD79c1A\", Toolips.var\"#f#80\"{String, String, Dict{Any, Any}, Vector{Servable}}(\"ZfD79c1A\", \"line\", Dict{Any, Any}(:children => Servable[], :y1 => 126, :x2 => 500, \"style\" => \"'fill: none;stroke: lightblue;stroke-width: 1;opacity: 80%;'\", :y2 => 126, :x1 => 0), Servable[]), Dict{Any, Any}(:children => Servable[], :y1 => 126, :x2 => 500, \"style\" => \"'fill: none;stroke: lightblue;stroke-width: 1;opacity: 80%;'\", :y2 => 126, :x1 => 0), Servable[], \"line\"), Component{:line}(\"SVkAgy0B\", Toolips.var\"#f#80\"{String, String, Dict{Any, Any}, Vector{Servable}}(\"SVkAgy0B\", \"line\", Dict{Any, Any}(:children => Servable[], :y1 => 0, :x2 => 251, \"style\" => \"'fill: none;stroke: lightblue;stroke-width: 1;opacity: 80%;'\", :y2 => 500, :x1 => 251), Servable[]), Dict{Any, Any}(:children => Servable[], :y1 => 0, :x2 => 251, \"style\" => \"'fill: none;stroke: lightblue;stroke-width: 1;opacity: 80%;'\", :y2 => 500, :x1 => 251), Servable[], \"line\"), Component{:line}(\"LnCzd0dZ\", Toolips.var\"#f#80\"{String, String, Dict{Any, Any}, Vector{Servable}}(\"LnCzd0dZ\", \"line\", Dict{Any, Any}(:children => Servable[], :y1 => 251, :x2 => 500, \"style\" => \"'fill: none;stroke: lightblue;stroke-width: 1;opacity: 80%;'\", :y2 => 251, :x1 => 0), Servable[]), Dict{Any, Any}(:children => Servable[], :y1 => 251, :x2 => 500, \"style\" => \"'fill: none;stroke: lightblue;stroke-width: 1;opacity: 80%;'\", :y2 => 251, :x1 => 0), Servable[], \"line\"), Component{:line}(\"OgYwvBif\", Toolips.var\"#f#80\"{String, String, Dict{Any, Any}, Vector{Servable}}(\"OgYwvBif\", \"line\", Dict{Any, Any}(:children => Servable[], :y1 => 0, :x2 => 376, \"style\" => \"'fill: none;stroke: lightblue;stroke-width: 1;opacity: 80%;'\", :y2 => 500, :x1 => 376), Servable[]), Dict{Any, Any}(:children => Servable[], :y1 => 0, :x2 => 376, \"style\" => \"'fill: none;stroke: lightblue;stroke-width: 1;opacity: 80%;'\", :y2 => 500, :x1 => 376), Servable[], \"line\"), Component{:line}(\"CsBgasMN\", Toolips.var\"#f#80\"{String, String, Dict{Any, Any}, Vector{Servable}}(\"CsBgasMN\", \"line\", Dict{Any, Any}(:children => Servable[], :y1 => 376, :x2 => 500, \"style\" => \"'fill: none;stroke: lightblue;stroke-width: 1;opacity: 80%;'\", :y2 => 376, :x1 => 0), Servable[]), Dict{Any, Any}(:children => Servable[], :y1 => 376, :x2 => 500, \"style\" => \"'fill: none;stroke: lightblue;stroke-width: 1;opacity: 80%;'\", :y2 => 376, :x1 => 0), Servable[], \"line\")], :height => 500, :width => 500), Servable[], \"svg\")"
      ]
     },
     "metadata": {},
     "output_type": "display_data"
    }
   ],
   "source": [
    "display(plt.window)"
   ]
  },
  {
   "cell_type": "code",
   "execution_count": 98,
   "metadata": {},
   "outputs": [
    {
     "data": {
      "text/plain": [
       "Dict{String, UnitRange{Int64}} with 12 entries:\n",
       "  \"HxkQtfRE\" => 2:2\n",
       "  \"fSnAuD38\" => 6:6\n",
       "  \"gy8GXxO0\" => 9:9\n",
       "  \"bMujq95v\" => 4:4\n",
       "  \"i99NM3v0\" => 7:7\n",
       "  \"HqUnMVYq\" => 5:5\n",
       "  \"FwGeNiHv\" => 12:12\n",
       "  \"EIGEaIJm\" => 8:8\n",
       "  \"a3YKqq5L\" => 11:11\n",
       "  \"Gg13Wumd\" => 10:10\n",
       "  \"fibB9A8W\" => 1:1\n",
       "  \"vOCJ646A\" => 3:3"
      ]
     },
     "execution_count": 98,
     "metadata": {},
     "output_type": "execute_result"
    }
   ],
   "source": [
    "axes!(plt)"
   ]
  },
  {
   "cell_type": "code",
   "execution_count": 99,
   "metadata": {},
   "outputs": [
    {
     "data": {
      "text/html": [
       "\"<svg id=window height=500 width=500><line id=7OVOiwNc y1=500 x2=500 style='fill: none;stroke: black;stroke-width: 4;' y2=500 x1=0></line><line id=0RkK1Amg y1=0 x2=0 style='fill: none;stroke: black;stroke-width: 4;' y2=500 x1=0></line><line id=aMQzsHot y1=0 x2=1 style='fill: none;stroke: lightblue;stroke-width: 1;opacity: 80%;' y2=500 x1=1></line><line id=lZjxXlri y1=1 x2=500 style='fill: none;stroke: lightblue;stroke-width: 1;opacity: 80%;' y2=1 x1=0></line><line id=rXhTexZU y1=0 x2=126 style='fill: none;stroke: lightblue;stroke-width: 1;opacity: 80%;' y2=500 x1=126></line><line id=ZfD79c1A y1=126 x2=500 style='fill: none;stroke: lightblue;stroke-width: 1;opacity: 80%;' y2=126 x1=0></line><line id=SVkAgy0B y1=0 x2=251 style='fill: none;stroke: lightblue;stroke-width: 1;opacity: 80%;' y2=500 x1=251></line><line id=LnCzd0dZ y1=251 x2=500 style='fill: none;stroke: lightblue;stroke-width: 1;opacity: 80%;' y2=251 x1=0></line><line id=OgYwvBif y1=0 x2=376 style='fill: none;stroke: lightblue;stroke-width: 1;opacity: 80%;' y2=500 x1=376></line><line id=CsBgasMN y1=376 x2=500 style='fill: none;stroke: lightblue;stroke-width: 1;opacity: 80%;' y2=376 x1=0></line><line id=FvvtzGlP y1=500 x2=500 style='fill: none;stroke: black;stroke-width: 4;' y2=500 x1=0></line><line id=rtZQkwqj y1=0 x2=0 style='fill: none;stroke: black;stroke-width: 4;' y2=500 x1=0></line></svg>\""
      ],
      "text/plain": [
       "Component{:svg}(\"window\", Toolips.var\"#f#80\"{String, String, Dict{Any, Any}, Vector{Servable}}(\"window\", \"svg\", Dict{Any, Any}(:children => Servable[Component{:line}(\"7OVOiwNc\", Toolips.var\"#f#80\"{String, String, Dict{Any, Any}, Vector{Servable}}(\"7OVOiwNc\", \"line\", Dict{Any, Any}(:children => Servable[], :y1 => 500, :x2 => 500, \"style\" => \"'fill: none;stroke: black;stroke-width: 4;'\", :y2 => 500, :x1 => 0), Servable[]), Dict{Any, Any}(:children => Servable[], :y1 => 500, :x2 => 500, \"style\" => \"'fill: none;stroke: black;stroke-width: 4;'\", :y2 => 500, :x1 => 0), Servable[], \"line\"), Component{:line}(\"0RkK1Amg\", Toolips.var\"#f#80\"{String, String, Dict{Any, Any}, Vector{Servable}}(\"0RkK1Amg\", \"line\", Dict{Any, Any}(:children => Servable[], :y1 => 0, :x2 => 0, \"style\" => \"'fill: none;stroke: black;stroke-width: 4;'\", :y2 => 500, :x1 => 0), Servable[]), Dict{Any, Any}(:children => Servable[], :y1 => 0, :x2 => 0, \"style\" => \"'fill: none;stroke: black;stroke-width: 4;'\", :y2 => 500, :x1 => 0), Servable[], \"line\"), Component{:line}(\"aMQzsHot\", Toolips.var\"#f#80\"{String, String, Dict{Any, Any}, Vector{Servable}}(\"aMQzsHot\", \"line\", Dict{Any, Any}(:children => Servable[], :y1 => 0, :x2 => 1, \"style\" => \"'fill: none;stroke: lightblue;stroke-width: 1;opacity: 80%;'\", :y2 => 500, :x1 => 1), Servable[]), Dict{Any, Any}(:children => Servable[], :y1 => 0, :x2 => 1, \"style\" => \"'fill: none;stroke: lightblue;stroke-width: 1;opacity: 80%;'\", :y2 => 500, :x1 => 1), Servable[], \"line\"), Component{:line}(\"lZjxXlri\", Toolips.var\"#f#80\"{String, String, Dict{Any, Any}, Vector{Servable}}(\"lZjxXlri\", \"line\", Dict{Any, Any}(:children => Servable[], :y1 => 1, :x2 => 500, \"style\" => \"'fill: none;stroke: lightblue;stroke-width: 1;opacity: 80%;'\", :y2 => 1, :x1 => 0), Servable[]), Dict{Any, Any}(:children => Servable[], :y1 => 1, :x2 => 500, \"style\" => \"'fill: none;stroke: lightblue;stroke-width: 1;opacity: 80%;'\", :y2 => 1, :x1 => 0), Servable[], \"line\"), Component{:line}(\"rXhTexZU\", Toolips.var\"#f#80\"{String, String, Dict{Any, Any}, Vector{Servable}}(\"rXhTexZU\", \"line\", Dict{Any, Any}(:children => Servable[], :y1 => 0, :x2 => 126, \"style\" => \"'fill: none;stroke: lightblue;stroke-width: 1;opacity: 80%;'\", :y2 => 500, :x1 => 126), Servable[]), Dict{Any, Any}(:children => Servable[], :y1 => 0, :x2 => 126, \"style\" => \"'fill: none;stroke: lightblue;stroke-width: 1;opacity: 80%;'\", :y2 => 500, :x1 => 126), Servable[], \"line\"), Component{:line}(\"ZfD79c1A\", Toolips.var\"#f#80\"{String, String, Dict{Any, Any}, Vector{Servable}}(\"ZfD79c1A\", \"line\", Dict{Any, Any}(:children => Servable[], :y1 => 126, :x2 => 500, \"style\" => \"'fill: none;stroke: lightblue;stroke-width: 1;opacity: 80%;'\", :y2 => 126, :x1 => 0), Servable[]), Dict{Any, Any}(:children => Servable[], :y1 => 126, :x2 => 500, \"style\" => \"'fill: none;stroke: lightblue;stroke-width: 1;opacity: 80%;'\", :y2 => 126, :x1 => 0), Servable[], \"line\"), Component{:line}(\"SVkAgy0B\", Toolips.var\"#f#80\"{String, String, Dict{Any, Any}, Vector{Servable}}(\"SVkAgy0B\", \"line\", Dict{Any, Any}(:children => Servable[], :y1 => 0, :x2 => 251, \"style\" => \"'fill: none;stroke: lightblue;stroke-width: 1;opacity: 80%;'\", :y2 => 500, :x1 => 251), Servable[]), Dict{Any, Any}(:children => Servable[], :y1 => 0, :x2 => 251, \"style\" => \"'fill: none;stroke: lightblue;stroke-width: 1;opacity: 80%;'\", :y2 => 500, :x1 => 251), Servable[], \"line\"), Component{:line}(\"LnCzd0dZ\", Toolips.var\"#f#80\"{String, String, Dict{Any, Any}, Vector{Servable}}(\"LnCzd0dZ\", \"line\", Dict{Any, Any}(:children => Servable[], :y1 => 251, :x2 => 500, \"style\" => \"'fill: none;stroke: lightblue;stroke-width: 1;opacity: 80%;'\", :y2 => 251, :x1 => 0), Servable[]), Dict{Any, Any}(:children => Servable[], :y1 => 251, :x2 => 500, \"style\" => \"'fill: none;stroke: lightblue;stroke-width: 1;opacity: 80%;'\", :y2 => 251, :x1 => 0), Servable[], \"line\"), Component{:line}(\"OgYwvBif\", Toolips.var\"#f#80\"{String, String, Dict{Any, Any}, Vector{Servable}}(\"OgYwvBif\", \"line\", Dict{Any, Any}(:children => Servable[], :y1 => 0, :x2 => 376, \"style\" => \"'fill: none;stroke: lightblue;stroke-width: 1;opacity: 80%;'\", :y2 => 500, :x1 => 376), Servable[]), Dict{Any, Any}(:children => Servable[], :y1 => 0, :x2 => 376, \"style\" => \"'fill: none;stroke: lightblue;stroke-width: 1;opacity: 80%;'\", :y2 => 500, :x1 => 376), Servable[], \"line\"), Component{:line}(\"CsBgasMN\", Toolips.var\"#f#80\"{String, String, Dict{Any, Any}, Vector{Servable}}(\"CsBgasMN\", \"line\", Dict{Any, Any}(:children => Servable[], :y1 => 376, :x2 => 500, \"style\" => \"'fill: none;stroke: lightblue;stroke-width: 1;opacity: 80%;'\", :y2 => 376, :x1 => 0), Servable[]), Dict{Any, Any}(:children => Servable[], :y1 => 376, :x2 => 500, \"style\" => \"'fill: none;stroke: lightblue;stroke-width: 1;opacity: 80%;'\", :y2 => 376, :x1 => 0), Servable[], \"line\"), Component{:line}(\"FvvtzGlP\", Toolips.var\"#f#80\"{String, String, Dict{Any, Any}, Vector{Servable}}(\"FvvtzGlP\", \"line\", Dict{Any, Any}(:children => Servable[], :y1 => 500, :x2 => 500, \"style\" => \"'fill: none;stroke: black;stroke-width: 4;'\", :y2 => 500, :x1 => 0), Servable[]), Dict{Any, Any}(:children => Servable[], :y1 => 500, :x2 => 500, \"style\" => \"'fill: none;stroke: black;stroke-width: 4;'\", :y2 => 500, :x1 => 0), Servable[], \"line\"), Component{:line}(\"rtZQkwqj\", Toolips.var\"#f#80\"{String, String, Dict{Any, Any}, Vector{Servable}}(\"rtZQkwqj\", \"line\", Dict{Any, Any}(:children => Servable[], :y1 => 0, :x2 => 0, \"style\" => \"'fill: none;stroke: black;stroke-width: 4;'\", :y2 => 500, :x1 => 0), Servable[]), Dict{Any, Any}(:children => Servable[], :y1 => 0, :x2 => 0, \"style\" => \"'fill: none;stroke: black;stroke-width: 4;'\", :y2 => 500, :x1 => 0), Servable[], \"line\")], :height => 500, :width => 500), Servable[]), Dict{Any, Any}(:children => Servable[Component{:line}(\"7OVOiwNc\", Toolips.var\"#f#80\"{String, String, Dict{Any, Any}, Vector{Servable}}(\"7OVOiwNc\", \"line\", Dict{Any, Any}(:children => Servable[], :y1 => 500, :x2 => 500, \"style\" => \"'fill: none;stroke: black;stroke-width: 4;'\", :y2 => 500, :x1 => 0), Servable[]), Dict{Any, Any}(:children => Servable[], :y1 => 500, :x2 => 500, \"style\" => \"'fill: none;stroke: black;stroke-width: 4;'\", :y2 => 500, :x1 => 0), Servable[], \"line\"), Component{:line}(\"0RkK1Amg\", Toolips.var\"#f#80\"{String, String, Dict{Any, Any}, Vector{Servable}}(\"0RkK1Amg\", \"line\", Dict{Any, Any}(:children => Servable[], :y1 => 0, :x2 => 0, \"style\" => \"'fill: none;stroke: black;stroke-width: 4;'\", :y2 => 500, :x1 => 0), Servable[]), Dict{Any, Any}(:children => Servable[], :y1 => 0, :x2 => 0, \"style\" => \"'fill: none;stroke: black;stroke-width: 4;'\", :y2 => 500, :x1 => 0), Servable[], \"line\"), Component{:line}(\"aMQzsHot\", Toolips.var\"#f#80\"{String, String, Dict{Any, Any}, Vector{Servable}}(\"aMQzsHot\", \"line\", Dict{Any, Any}(:children => Servable[], :y1 => 0, :x2 => 1, \"style\" => \"'fill: none;stroke: lightblue;stroke-width: 1;opacity: 80%;'\", :y2 => 500, :x1 => 1), Servable[]), Dict{Any, Any}(:children => Servable[], :y1 => 0, :x2 => 1, \"style\" => \"'fill: none;stroke: lightblue;stroke-width: 1;opacity: 80%;'\", :y2 => 500, :x1 => 1), Servable[], \"line\"), Component{:line}(\"lZjxXlri\", Toolips.var\"#f#80\"{String, String, Dict{Any, Any}, Vector{Servable}}(\"lZjxXlri\", \"line\", Dict{Any, Any}(:children => Servable[], :y1 => 1, :x2 => 500, \"style\" => \"'fill: none;stroke: lightblue;stroke-width: 1;opacity: 80%;'\", :y2 => 1, :x1 => 0), Servable[]), Dict{Any, Any}(:children => Servable[], :y1 => 1, :x2 => 500, \"style\" => \"'fill: none;stroke: lightblue;stroke-width: 1;opacity: 80%;'\", :y2 => 1, :x1 => 0), Servable[], \"line\"), Component{:line}(\"rXhTexZU\", Toolips.var\"#f#80\"{String, String, Dict{Any, Any}, Vector{Servable}}(\"rXhTexZU\", \"line\", Dict{Any, Any}(:children => Servable[], :y1 => 0, :x2 => 126, \"style\" => \"'fill: none;stroke: lightblue;stroke-width: 1;opacity: 80%;'\", :y2 => 500, :x1 => 126), Servable[]), Dict{Any, Any}(:children => Servable[], :y1 => 0, :x2 => 126, \"style\" => \"'fill: none;stroke: lightblue;stroke-width: 1;opacity: 80%;'\", :y2 => 500, :x1 => 126), Servable[], \"line\"), Component{:line}(\"ZfD79c1A\", Toolips.var\"#f#80\"{String, String, Dict{Any, Any}, Vector{Servable}}(\"ZfD79c1A\", \"line\", Dict{Any, Any}(:children => Servable[], :y1 => 126, :x2 => 500, \"style\" => \"'fill: none;stroke: lightblue;stroke-width: 1;opacity: 80%;'\", :y2 => 126, :x1 => 0), Servable[]), Dict{Any, Any}(:children => Servable[], :y1 => 126, :x2 => 500, \"style\" => \"'fill: none;stroke: lightblue;stroke-width: 1;opacity: 80%;'\", :y2 => 126, :x1 => 0), Servable[], \"line\"), Component{:line}(\"SVkAgy0B\", Toolips.var\"#f#80\"{String, String, Dict{Any, Any}, Vector{Servable}}(\"SVkAgy0B\", \"line\", Dict{Any, Any}(:children => Servable[], :y1 => 0, :x2 => 251, \"style\" => \"'fill: none;stroke: lightblue;stroke-width: 1;opacity: 80%;'\", :y2 => 500, :x1 => 251), Servable[]), Dict{Any, Any}(:children => Servable[], :y1 => 0, :x2 => 251, \"style\" => \"'fill: none;stroke: lightblue;stroke-width: 1;opacity: 80%;'\", :y2 => 500, :x1 => 251), Servable[], \"line\"), Component{:line}(\"LnCzd0dZ\", Toolips.var\"#f#80\"{String, String, Dict{Any, Any}, Vector{Servable}}(\"LnCzd0dZ\", \"line\", Dict{Any, Any}(:children => Servable[], :y1 => 251, :x2 => 500, \"style\" => \"'fill: none;stroke: lightblue;stroke-width: 1;opacity: 80%;'\", :y2 => 251, :x1 => 0), Servable[]), Dict{Any, Any}(:children => Servable[], :y1 => 251, :x2 => 500, \"style\" => \"'fill: none;stroke: lightblue;stroke-width: 1;opacity: 80%;'\", :y2 => 251, :x1 => 0), Servable[], \"line\"), Component{:line}(\"OgYwvBif\", Toolips.var\"#f#80\"{String, String, Dict{Any, Any}, Vector{Servable}}(\"OgYwvBif\", \"line\", Dict{Any, Any}(:children => Servable[], :y1 => 0, :x2 => 376, \"style\" => \"'fill: none;stroke: lightblue;stroke-width: 1;opacity: 80%;'\", :y2 => 500, :x1 => 376), Servable[]), Dict{Any, Any}(:children => Servable[], :y1 => 0, :x2 => 376, \"style\" => \"'fill: none;stroke: lightblue;stroke-width: 1;opacity: 80%;'\", :y2 => 500, :x1 => 376), Servable[], \"line\"), Component{:line}(\"CsBgasMN\", Toolips.var\"#f#80\"{String, String, Dict{Any, Any}, Vector{Servable}}(\"CsBgasMN\", \"line\", Dict{Any, Any}(:children => Servable[], :y1 => 376, :x2 => 500, \"style\" => \"'fill: none;stroke: lightblue;stroke-width: 1;opacity: 80%;'\", :y2 => 376, :x1 => 0), Servable[]), Dict{Any, Any}(:children => Servable[], :y1 => 376, :x2 => 500, \"style\" => \"'fill: none;stroke: lightblue;stroke-width: 1;opacity: 80%;'\", :y2 => 376, :x1 => 0), Servable[], \"line\"), Component{:line}(\"FvvtzGlP\", Toolips.var\"#f#80\"{String, String, Dict{Any, Any}, Vector{Servable}}(\"FvvtzGlP\", \"line\", Dict{Any, Any}(:children => Servable[], :y1 => 500, :x2 => 500, \"style\" => \"'fill: none;stroke: black;stroke-width: 4;'\", :y2 => 500, :x1 => 0), Servable[]), Dict{Any, Any}(:children => Servable[], :y1 => 500, :x2 => 500, \"style\" => \"'fill: none;stroke: black;stroke-width: 4;'\", :y2 => 500, :x1 => 0), Servable[], \"line\"), Component{:line}(\"rtZQkwqj\", Toolips.var\"#f#80\"{String, String, Dict{Any, Any}, Vector{Servable}}(\"rtZQkwqj\", \"line\", Dict{Any, Any}(:children => Servable[], :y1 => 0, :x2 => 0, \"style\" => \"'fill: none;stroke: black;stroke-width: 4;'\", :y2 => 500, :x1 => 0), Servable[]), Dict{Any, Any}(:children => Servable[], :y1 => 0, :x2 => 0, \"style\" => \"'fill: none;stroke: black;stroke-width: 4;'\", :y2 => 500, :x1 => 0), Servable[], \"line\")], :height => 500, :width => 500), Servable[], \"svg\")"
      ]
     },
     "metadata": {},
     "output_type": "display_data"
    }
   ],
   "source": [
    "display(plt.window)"
   ]
  },
  {
   "cell_type": "code",
   "execution_count": 100,
   "metadata": {},
   "outputs": [
    {
     "data": {
      "text/plain": [
       "points! (generic function with 1 method)"
      ]
     },
     "execution_count": 100,
     "metadata": {},
     "output_type": "execute_result"
    }
   ],
   "source": [
    "function points!(con::AbstractContext, x::Vector{<:Number}, y::Vector{<:Number},\n",
    "     styles::Pair{String, <:Any} ...)\n",
    "    if length(styles) == 0\n",
    "        styles = (\"fill\" => \"orange\", \"stroke\" => \"lightblue\", \"stroke-width\" => \"0\")\n",
    "    end\n",
    "    xmax::Number, ymax::Number = maximum(x), maximum(y)\n",
    "     percvec_x = map(n::Number -> n / xmax, x)\n",
    "     percvec_y = map(n::Number -> n / ymax, y)\n",
    "    [begin\n",
    "        c = circle(randstring(), cx = string(pointx * con.dim[1] + con.margin[1]), \n",
    "                cy = string(con.dim[2] - (pointy * con.dim[2] + con.margin[2])), r = \"5\")\n",
    "            style!(c, styles ...)\n",
    "            draw!(con, [c])\n",
    "        end for (pointx, pointy) in zip(percvec_x, percvec_y)]\n",
    "end"
   ]
  },
  {
   "cell_type": "code",
   "execution_count": 101,
   "metadata": {},
   "outputs": [
    {
     "data": {
      "text/plain": [
       "4-element Vector{Dict{String, UnitRange{Int64}}}:\n",
       " Dict(\"HxkQtfRE\" => 2:2, \"fSnAuD38\" => 6:6, \"7fAlIdgT\" => 14:14, \"gy8GXxO0\" => 9:9, \"7vXwcXe4\" => 16:16, \"bMujq95v\" => 4:4, \"Fym6Erp2\" => 13:13, \"i99NM3v0\" => 7:7, \"2jovjUdm\" => 15:15, \"HqUnMVYq\" => 5:5…)\n",
       " Dict(\"HxkQtfRE\" => 2:2, \"fSnAuD38\" => 6:6, \"7fAlIdgT\" => 14:14, \"gy8GXxO0\" => 9:9, \"7vXwcXe4\" => 16:16, \"bMujq95v\" => 4:4, \"Fym6Erp2\" => 13:13, \"i99NM3v0\" => 7:7, \"2jovjUdm\" => 15:15, \"HqUnMVYq\" => 5:5…)\n",
       " Dict(\"HxkQtfRE\" => 2:2, \"fSnAuD38\" => 6:6, \"7fAlIdgT\" => 14:14, \"gy8GXxO0\" => 9:9, \"7vXwcXe4\" => 16:16, \"bMujq95v\" => 4:4, \"Fym6Erp2\" => 13:13, \"i99NM3v0\" => 7:7, \"2jovjUdm\" => 15:15, \"HqUnMVYq\" => 5:5…)\n",
       " Dict(\"HxkQtfRE\" => 2:2, \"fSnAuD38\" => 6:6, \"7fAlIdgT\" => 14:14, \"gy8GXxO0\" => 9:9, \"7vXwcXe4\" => 16:16, \"bMujq95v\" => 4:4, \"Fym6Erp2\" => 13:13, \"i99NM3v0\" => 7:7, \"2jovjUdm\" => 15:15, \"HqUnMVYq\" => 5:5…)"
      ]
     },
     "execution_count": 101,
     "metadata": {},
     "output_type": "execute_result"
    }
   ],
   "source": [
    "points!(plt, [5, 10, 15, 20], [11, 18, 15, 12])"
   ]
  },
  {
   "cell_type": "code",
   "execution_count": 102,
   "metadata": {},
   "outputs": [
    {
     "data": {
      "text/plain": [
       "16-element Vector{Servable}:\n",
       " Component{:line}(\"7OVOiwNc\", Toolips.var\"#f#80\"{String, String, Dict{Any, Any}, Vector{Servable}}(\"7OVOiwNc\", \"line\", Dict{Any, Any}(:children => Servable[], :y1 => 500, :x2 => 500, \"style\" => \"'fill: none;stroke: black;stroke-width: 4;'\", :y2 => 500, :x1 => 0), Servable[]), Dict{Any, Any}(:children => Servable[], :y1 => 500, :x2 => 500, \"style\" => \"'fill: none;stroke: black;stroke-width: 4;'\", :y2 => 500, :x1 => 0), Servable[], \"line\")\n",
       " Component{:line}(\"0RkK1Amg\", Toolips.var\"#f#80\"{String, String, Dict{Any, Any}, Vector{Servable}}(\"0RkK1Amg\", \"line\", Dict{Any, Any}(:children => Servable[], :y1 => 0, :x2 => 0, \"style\" => \"'fill: none;stroke: black;stroke-width: 4;'\", :y2 => 500, :x1 => 0), Servable[]), Dict{Any, Any}(:children => Servable[], :y1 => 0, :x2 => 0, \"style\" => \"'fill: none;stroke: black;stroke-width: 4;'\", :y2 => 500, :x1 => 0), Servable[], \"line\")\n",
       " Component{:line}(\"aMQzsHot\", Toolips.var\"#f#80\"{String, String, Dict{Any, Any}, Vector{Servable}}(\"aMQzsHot\", \"line\", Dict{Any, Any}(:children => Servable[], :y1 => 0, :x2 => 1, \"style\" => \"'fill: none;stroke: lightblue;stroke-width: 1;opacity: 80%;'\", :y2 => 500, :x1 => 1), Servable[]), Dict{Any, Any}(:children => Servable[], :y1 => 0, :x2 => 1, \"style\" => \"'fill: none;stroke: lightblue;stroke-width: 1;opacity: 80%;'\", :y2 => 500, :x1 => 1), Servable[], \"line\")\n",
       " Component{:line}(\"lZjxXlri\", Toolips.var\"#f#80\"{String, String, Dict{Any, Any}, Vector{Servable}}(\"lZjxXlri\", \"line\", Dict{Any, Any}(:children => Servable[], :y1 => 1, :x2 => 500, \"style\" => \"'fill: none;stroke: lightblue;stroke-width: 1;opacity: 80%;'\", :y2 => 1, :x1 => 0), Servable[]), Dict{Any, Any}(:children => Servable[], :y1 => 1, :x2 => 500, \"style\" => \"'fill: none;stroke: lightblue;stroke-width: 1;opacity: 80%;'\", :y2 => 1, :x1 => 0), Servable[], \"line\")\n",
       " Component{:line}(\"rXhTexZU\", Toolips.var\"#f#80\"{String, String, Dict{Any, Any}, Vector{Servable}}(\"rXhTexZU\", \"line\", Dict{Any, Any}(:children => Servable[], :y1 => 0, :x2 => 126, \"style\" => \"'fill: none;stroke: lightblue;stroke-width: 1;opacity: 80%;'\", :y2 => 500, :x1 => 126), Servable[]), Dict{Any, Any}(:children => Servable[], :y1 => 0, :x2 => 126, \"style\" => \"'fill: none;stroke: lightblue;stroke-width: 1;opacity: 80%;'\", :y2 => 500, :x1 => 126), Servable[], \"line\")\n",
       " Component{:line}(\"ZfD79c1A\", Toolips.var\"#f#80\"{String, String, Dict{Any, Any}, Vector{Servable}}(\"ZfD79c1A\", \"line\", Dict{Any, Any}(:children => Servable[], :y1 => 126, :x2 => 500, \"style\" => \"'fill: none;stroke: lightblue;stroke-width: 1;opacity: 80%;'\", :y2 => 126, :x1 => 0), Servable[]), Dict{Any, Any}(:children => Servable[], :y1 => 126, :x2 => 500, \"style\" => \"'fill: none;stroke: lightblue;stroke-width: 1;opacity: 80%;'\", :y2 => 126, :x1 => 0), Servable[], \"line\")\n",
       " Component{:line}(\"SVkAgy0B\", Toolips.var\"#f#80\"{String, String, Dict{Any, Any}, Vector{Servable}}(\"SVkAgy0B\", \"line\", Dict{Any, Any}(:children => Servable[], :y1 => 0, :x2 => 251, \"style\" => \"'fill: none;stroke: lightblue;stroke-width: 1;opacity: 80%;'\", :y2 => 500, :x1 => 251), Servable[]), Dict{Any, Any}(:children => Servable[], :y1 => 0, :x2 => 251, \"style\" => \"'fill: none;stroke: lightblue;stroke-width: 1;opacity: 80%;'\", :y2 => 500, :x1 => 251), Servable[], \"line\")\n",
       " Component{:line}(\"LnCzd0dZ\", Toolips.var\"#f#80\"{String, String, Dict{Any, Any}, Vector{Servable}}(\"LnCzd0dZ\", \"line\", Dict{Any, Any}(:children => Servable[], :y1 => 251, :x2 => 500, \"style\" => \"'fill: none;stroke: lightblue;stroke-width: 1;opacity: 80%;'\", :y2 => 251, :x1 => 0), Servable[]), Dict{Any, Any}(:children => Servable[], :y1 => 251, :x2 => 500, \"style\" => \"'fill: none;stroke: lightblue;stroke-width: 1;opacity: 80%;'\", :y2 => 251, :x1 => 0), Servable[], \"line\")\n",
       " Component{:line}(\"OgYwvBif\", Toolips.var\"#f#80\"{String, String, Dict{Any, Any}, Vector{Servable}}(\"OgYwvBif\", \"line\", Dict{Any, Any}(:children => Servable[], :y1 => 0, :x2 => 376, \"style\" => \"'fill: none;stroke: lightblue;stroke-width: 1;opacity: 80%;'\", :y2 => 500, :x1 => 376), Servable[]), Dict{Any, Any}(:children => Servable[], :y1 => 0, :x2 => 376, \"style\" => \"'fill: none;stroke: lightblue;stroke-width: 1;opacity: 80%;'\", :y2 => 500, :x1 => 376), Servable[], \"line\")\n",
       " Component{:line}(\"CsBgasMN\", Toolips.var\"#f#80\"{String, String, Dict{Any, Any}, Vector{Servable}}(\"CsBgasMN\", \"line\", Dict{Any, Any}(:children => Servable[], :y1 => 376, :x2 => 500, \"style\" => \"'fill: none;stroke: lightblue;stroke-width: 1;opacity: 80%;'\", :y2 => 376, :x1 => 0), Servable[]), Dict{Any, Any}(:children => Servable[], :y1 => 376, :x2 => 500, \"style\" => \"'fill: none;stroke: lightblue;stroke-width: 1;opacity: 80%;'\", :y2 => 376, :x1 => 0), Servable[], \"line\")\n",
       " Component{:line}(\"FvvtzGlP\", Toolips.var\"#f#80\"{String, String, Dict{Any, Any}, Vector{Servable}}(\"FvvtzGlP\", \"line\", Dict{Any, Any}(:children => Servable[], :y1 => 500, :x2 => 500, \"style\" => \"'fill: none;stroke: black;stroke-width: 4;'\", :y2 => 500, :x1 => 0), Servable[]), Dict{Any, Any}(:children => Servable[], :y1 => 500, :x2 => 500, \"style\" => \"'fill: none;stroke: black;stroke-width: 4;'\", :y2 => 500, :x1 => 0), Servable[], \"line\")\n",
       " Component{:line}(\"rtZQkwqj\", Toolips.var\"#f#80\"{String, String, Dict{Any, Any}, Vector{Servable}}(\"rtZQkwqj\", \"line\", Dict{Any, Any}(:children => Servable[], :y1 => 0, :x2 => 0, \"style\" => \"'fill: none;stroke: black;stroke-width: 4;'\", :y2 => 500, :x1 => 0), Servable[]), Dict{Any, Any}(:children => Servable[], :y1 => 0, :x2 => 0, \"style\" => \"'fill: none;stroke: black;stroke-width: 4;'\", :y2 => 500, :x1 => 0), Servable[], \"line\")\n",
       " Component{:circle}(\"qXUoIalc\", Toolips.var\"#f#80\"{String, String, Dict{Any, Any}, Vector{Servable}}(\"qXUoIalc\", \"circle\", Dict{Any, Any}(:children => Servable[], :cx => \"125.0\", \"style\" => \"'fill: orange;stroke: lightblue;stroke-width: 0;'\", :r => \"5\", :cy => \"194.4444444444444\"), Servable[]), Dict{Any, Any}(:children => Servable[], :cx => \"125.0\", \"style\" => \"'fill: orange;stroke: lightblue;stroke-width: 0;'\", :r => \"5\", :cy => \"194.4444444444444\"), Servable[], \"circle\")\n",
       " Component{:circle}(\"DWk39gH9\", Toolips.var\"#f#80\"{String, String, Dict{Any, Any}, Vector{Servable}}(\"DWk39gH9\", \"circle\", Dict{Any, Any}(:children => Servable[], :cx => \"250.0\", \"style\" => \"'fill: orange;stroke: lightblue;stroke-width: 0;'\", :r => \"5\", :cy => \"0.0\"), Servable[]), Dict{Any, Any}(:children => Servable[], :cx => \"250.0\", \"style\" => \"'fill: orange;stroke: lightblue;stroke-width: 0;'\", :r => \"5\", :cy => \"0.0\"), Servable[], \"circle\")\n",
       " Component{:circle}(\"iAKLVT0p\", Toolips.var\"#f#80\"{String, String, Dict{Any, Any}, Vector{Servable}}(\"iAKLVT0p\", \"circle\", Dict{Any, Any}(:children => Servable[], :cx => \"375.0\", \"style\" => \"'fill: orange;stroke: lightblue;stroke-width: 0;'\", :r => \"5\", :cy => \"83.33333333333331\"), Servable[]), Dict{Any, Any}(:children => Servable[], :cx => \"375.0\", \"style\" => \"'fill: orange;stroke: lightblue;stroke-width: 0;'\", :r => \"5\", :cy => \"83.33333333333331\"), Servable[], \"circle\")\n",
       " Component{:circle}(\"ZRKAYkVD\", Toolips.var\"#f#80\"{String, String, Dict{Any, Any}, Vector{Servable}}(\"ZRKAYkVD\", \"circle\", Dict{Any, Any}(:children => Servable[], :cx => \"500.0\", \"style\" => \"'fill: orange;stroke: lightblue;stroke-width: 0;'\", :r => \"5\", :cy => \"166.66666666666669\"), Servable[]), Dict{Any, Any}(:children => Servable[], :cx => \"500.0\", \"style\" => \"'fill: orange;stroke: lightblue;stroke-width: 0;'\", :r => \"5\", :cy => \"166.66666666666669\"), Servable[], \"circle\")"
      ]
     },
     "execution_count": 102,
     "metadata": {},
     "output_type": "execute_result"
    }
   ],
   "source": [
    "plt.window[:children]"
   ]
  },
  {
   "cell_type": "code",
   "execution_count": 103,
   "metadata": {},
   "outputs": [
    {
     "data": {
      "text/html": [
       "\"<svg id=window height=500 width=500><line id=7OVOiwNc y1=500 x2=500 style='fill: none;stroke: black;stroke-width: 4;' y2=500 x1=0></line><line id=0RkK1Amg y1=0 x2=0 style='fill: none;stroke: black;stroke-width: 4;' y2=500 x1=0></line><line id=aMQzsHot y1=0 x2=1 style='fill: none;stroke: lightblue;stroke-width: 1;opacity: 80%;' y2=500 x1=1></line><line id=lZjxXlri y1=1 x2=500 style='fill: none;stroke: lightblue;stroke-width: 1;opacity: 80%;' y2=1 x1=0></line><line id=rXhTexZU y1=0 x2=126 style='fill: none;stroke: lightblue;stroke-width: 1;opacity: 80%;' y2=500 x1=126></line><line id=ZfD79c1A y1=126 x2=500 style='fill: none;stroke: lightblue;stroke-width: 1;opacity: 80%;' y2=126 x1=0></line><line id=SVkAgy0B y1=0 x2=251 style='fill: none;stroke: lightblue;stroke-width: 1;opacity: 80%;' y2=500 x1=251></line><line id=LnCzd0dZ y1=251 x2=500 style='fill: none;stroke: lightblue;stroke-width: 1;opacity: 80%;' y2=251 x1=0></line><line id=OgYwvBif y1=0 x2=376 style='fill: none;stroke: lightblue;stroke-width: 1;opacity: 80%;' y2=500 x1=376></line><line id=CsBgasMN y1=376 x2=500 style='fill: none;stroke: lightblue;stroke-width: 1;opacity: 80%;' y2=376 x1=0></line><line id=FvvtzGlP y1=500 x2=500 style='fill: none;stroke: black;stroke-width: 4;' y2=500 x1=0></line><line id=rtZQkwqj y1=0 x2=0 style='fill: none;stroke: black;stroke-width: 4;' y2=500 x1=0></line><circle id=qXUoIalc cx=125.0 style='fill: orange;stroke: lightblue;stroke-width: 0;' r=5 cy=194.4444444444444></circle><circle id=DWk39gH9 cx=250.0 style='fill: orange;stroke: lightblue;stroke-width: 0;' r=5 cy=0.0></circle><circle id=iAKLVT0p cx=375.0 style='fill: orange;stroke: lightblue;stroke-width: 0;' r=5 cy=83.33333333333331></circle><circle id=ZRKAYkVD cx=500.0 style='fill: orange;stroke: lightblue;stroke-width: 0;' r=5 cy=166.66666666666669></circle></svg>\""
      ]
     },
     "metadata": {},
     "output_type": "display_data"
    }
   ],
   "source": [
    "display(MIME\"text/html\"(), plt.window)"
   ]
  },
  {
   "cell_type": "code",
   "execution_count": 115,
   "metadata": {},
   "outputs": [
    {
     "data": {
      "text/html": [
       "\"<svg id=window height=150 width=300></svg>\""
      ]
     },
     "metadata": {},
     "output_type": "display_data"
    },
    {
     "data": {
      "text/plain": []
     },
     "execution_count": 115,
     "metadata": {},
     "output_type": "execute_result"
    }
   ],
   "source": [
    "plt = Context(300, 150)"
   ]
  },
  {
   "cell_type": "code",
   "execution_count": 116,
   "metadata": {},
   "outputs": [
    {
     "data": {
      "text/plain": [
       "Dict{String, UnitRange{Int64}} with 1 entry:\n",
       "  \"plot1\" => 1:1"
      ]
     },
     "execution_count": 116,
     "metadata": {},
     "output_type": "execute_result"
    }
   ],
   "source": [
    "group!(plt, \"plot1\", 150, 150) do g::Group\n",
    "    axes!(g)\n",
    "    grid!(g)\n",
    "    points!(g, [5, 10, 15], [5, 10, 15])\n",
    "end"
   ]
  },
  {
   "cell_type": "code",
   "execution_count": 117,
   "metadata": {},
   "outputs": [
    {
     "data": {
      "text/plain": [
       "Dict{String, UnitRange{Int64}} with 2 entries:\n",
       "  \"plot2\" => 2:2\n",
       "  \"plot1\" => 1:1"
      ]
     },
     "execution_count": 117,
     "metadata": {},
     "output_type": "execute_result"
    }
   ],
   "source": [
    "group!(plt, \"plot2\", 150, 150, 150 => 0) do g::Group\n",
    "    axes!(g)\n",
    "    grid!(g)\n",
    "    points!(g, [1, 2, 3, 4, 5], [1, 2, 3, 4, 5])\n",
    "end"
   ]
  },
  {
   "cell_type": "code",
   "execution_count": 118,
   "metadata": {},
   "outputs": [
    {
     "data": {
      "text/plain": [
       "180.0"
      ]
     },
     "execution_count": 118,
     "metadata": {},
     "output_type": "execute_result"
    }
   ],
   "source": [
    "150 * 0.2 + 150"
   ]
  },
  {
   "cell_type": "code",
   "execution_count": 119,
   "metadata": {},
   "outputs": [
    {
     "data": {
      "text/plain": [
       "Dict{String, UnitRange{Int64}} with 3 entries:\n",
       "  \"plot2\"    => 2:2\n",
       "  \"Iqolo33w\" => 3:3\n",
       "  \"plot1\"    => 1:1"
      ]
     },
     "execution_count": 119,
     "metadata": {},
     "output_type": "execute_result"
    }
   ],
   "source": [
    "draw!(plt, [circle(\"newdot\", cx = \"180\", cy = \"150\", r = 5, style = \"fill: blue;\")])"
   ]
  },
  {
   "cell_type": "code",
   "execution_count": 120,
   "metadata": {},
   "outputs": [
    {
     "data": {
      "text/plain": [
       "15-element Vector{Union{Nothing, String}}:\n",
       " nothing\n",
       " nothing\n",
       " nothing\n",
       " nothing\n",
       " nothing\n",
       " nothing\n",
       " nothing\n",
       " nothing\n",
       " nothing\n",
       " nothing\n",
       " \"'fill: orange;stroke: lightblue;stroke-width: 0;fill: green;'\"\n",
       " \"'fill: orange;stroke: lightblue;stroke-width: 0;fill: green;'\"\n",
       " \"'fill: orange;stroke: lightblue;stroke-width: 0;fill: green;'\"\n",
       " \"'fill: orange;stroke: lightblue;stroke-width: 0;fill: green;'\"\n",
       " \"'fill: orange;stroke: lightblue;stroke-width: 0;fill: green;'\""
      ]
     },
     "execution_count": 120,
     "metadata": {},
     "output_type": "execute_result"
    }
   ],
   "source": [
    "[begin\n",
    "        if typeof(comp) == Component{:circle}\n",
    "            style!(comp, \"fill\" => \"green\")\n",
    "        end\n",
    "        end for comp in plt.window[:children][\"plot2\"][:children]]"
   ]
  },
  {
   "cell_type": "code",
   "execution_count": 121,
   "metadata": {},
   "outputs": [
    {
     "data": {
      "text/html": [
       "\"<svg id=window height=150 width=300><g id=plot1 height=150 width=150><line id=9HUGLCpy y1=150 x2=150 style='fill: none;stroke: black;stroke-width: 4;' y2=150 x1=0></line><line id=q9LR0Yy3 y1=0 x2=0 style='fill: none;stroke: black;stroke-width: 4;' y2=150 x1=0></line><line id=VSaKLAUn y1=0 x2=1 style='fill: none;stroke: lightblue;stroke-width: 1;opacity: 80%;' y2=150 x1=1></line><line id=BdOEJ82q y1=1 x2=150 style='fill: none;stroke: lightblue;stroke-width: 1;opacity: 80%;' y2=1 x1=0></line><line id=8rioppB7 y1=0 x2=39 style='fill: none;stroke: lightblue;stroke-width: 1;opacity: 80%;' y2=150 x1=39></line><line id=DTgh4aPJ y1=39 x2=150 style='fill: none;stroke: lightblue;stroke-width: 1;opacity: 80%;' y2=39 x1=0></line><line id=Uim19j2e y1=0 x2=77 style='fill: none;stroke: lightblue;stroke-width: 1;opacity: 80%;' y2=150 x1=77></line><line id=w2BFlIEO y1=77 x2=150 style='fill: none;stroke: lightblue;stroke-width: 1;opacity: 80%;' y2=77 x1=0></line><line id=vdLaFfmW y1=0 x2=115 style='fill: none;stroke: lightblue;stroke-width: 1;opacity: 80%;' y2=150 x1=115></line><line id=mo0itJGA y1=115 x2=150 style='fill: none;stroke: lightblue;stroke-width: 1;opacity: 80%;' y2=115 x1=0></line><circle id=o4SFekxO cx=50.0 style='fill: orange;stroke: lightblue;stroke-width: 0;' r=5 cy=100.0></circle><circle id=OEsvJZrF cx=100.0 style='fill: orange;stroke: lightblue;stroke-width: 0;' r=5 cy=50.0></circle><circle id=vl9nCz3w cx=150.0 style='fill: orange;stroke: lightblue;stroke-width: 0;' r=5 cy=0.0></circle></g><g id=plot2 height=150 width=150><line id=K5bpWZYN y1=150 x2=300 style='fill: none;stroke: black;stroke-width: 4;' y2=150 x1=150></line><line id=YXbT4f88 y1=0 x2=150 style='fill: none;stroke: black;stroke-width: 4;' y2=150 x1=150></line><line id=2lkpa3dn y1=0 x2=151 style='fill: none;stroke: lightblue;stroke-width: 1;opacity: 80%;' y2=150 x1=151></line><line id=sj9SZ5UE y1=1 x2=300 style='fill: none;stroke: lightblue;stroke-width: 1;opacity: 80%;' y2=1 x1=150></line><line id=MN7eaBu1 y1=0 x2=189 style='fill: none;stroke: lightblue;stroke-width: 1;opacity: 80%;' y2=150 x1=189></line><line id=oTRdnUS2 y1=39 x2=300 style='fill: none;stroke: lightblue;stroke-width: 1;opacity: 80%;' y2=39 x1=150></line><line id=oZgqo4PM y1=0 x2=227 style='fill: none;stroke: lightblue;stroke-width: 1;opacity: 80%;' y2=150 x1=227></line><line id=t809gDMF y1=77 x2=300 style='fill: none;stroke: lightblue;stroke-width: 1;opacity: 80%;' y2=77 x1=150></line><line id=NH7stddh y1=0 x2=265 style='fill: none;stroke: lightblue;stroke-width: 1;opacity: 80%;' y2=150 x1=265></line><line id=hChmkAAZ y1=115 x2=300 style='fill: none;stroke: lightblue;stroke-width: 1;opacity: 80%;' y2=115 x1=150></line><circle id=rxOZbiCb cx=180.0 style='fill: orange;stroke: lightblue;stroke-width: 0;fill: green;' r=5 cy=120.0></circle><circle id=orslI0f6 cx=210.0 style='fill: orange;stroke: lightblue;stroke-width: 0;fill: green;' r=5 cy=90.0></circle><circle id=zxb5yN7K cx=240.0 style='fill: orange;stroke: lightblue;stroke-width: 0;fill: green;' r=5 cy=60.0></circle><circle id=ErgaGQEc cx=270.0 style='fill: orange;stroke: lightblue;stroke-width: 0;fill: green;' r=5 cy=30.0></circle><circle id=ZrQNP68U cx=300.0 style='fill: orange;stroke: lightblue;stroke-width: 0;fill: green;' r=5 cy=0.0></circle></g><circle id=newdot cx=180 r=5 cy=150 style=fill: blue;></circle></svg>\""
      ]
     },
     "metadata": {},
     "output_type": "display_data"
    },
    {
     "data": {
      "text/plain": []
     },
     "execution_count": 121,
     "metadata": {},
     "output_type": "execute_result"
    }
   ],
   "source": [
    "plt"
   ]
  },
  {
   "cell_type": "code",
   "execution_count": 223,
   "metadata": {},
   "outputs": [
    {
     "data": {
      "text/html": [
       "\"<svg id=window height=1000 width=1000></svg>\""
      ]
     },
     "metadata": {},
     "output_type": "display_data"
    },
    {
     "data": {
      "text/plain": []
     },
     "execution_count": 223,
     "metadata": {},
     "output_type": "execute_result"
    }
   ],
   "source": [
    "plt = Context(1000, 1000)"
   ]
  },
  {
   "cell_type": "code",
   "execution_count": 224,
   "metadata": {},
   "outputs": [
    {
     "data": {
      "text/plain": [
       "Dict{String, UnitRange{Int64}} with 1 entry:\n",
       "  \"plot1\" => 1:1"
      ]
     },
     "execution_count": 224,
     "metadata": {},
     "output_type": "execute_result"
    }
   ],
   "source": [
    "group!(plt, \"plot1\", 250, 250, 0 => 0) do g::Group\n",
    "    axes!(g)\n",
    "    grid!(g)\n",
    "    points!(g, [1, 2, 3, 4, 5], [1, 2, 3, 4, 5])\n",
    "end"
   ]
  },
  {
   "cell_type": "code",
   "execution_count": 225,
   "metadata": {},
   "outputs": [
    {
     "data": {
      "text/plain": [
       "20-element Vector{Int64}:\n",
       "  8756515198734733908\n",
       "  5552913652340305408\n",
       " -2296363320956252238\n",
       " -8085230528685720930\n",
       "  -510127811789791427\n",
       " -1763326441531812658\n",
       " -6937049881964103599\n",
       " -9132796490692849850\n",
       "  7640557413243577025\n",
       "  9042323375107442220\n",
       " -8743906054383956149\n",
       "  4652252010203461709\n",
       "  3292616569911320436\n",
       "  6616560541218034828\n",
       "   770128642232099563\n",
       "  8628864664357170033\n",
       " -1524726608842385779\n",
       " -4888026436581932357\n",
       " -6278151399093138420\n",
       " -8374615368252636099"
      ]
     },
     "execution_count": 225,
     "metadata": {},
     "output_type": "execute_result"
    }
   ],
   "source": [
    "rand(Int, 20)"
   ]
  },
  {
   "cell_type": "code",
   "execution_count": 226,
   "metadata": {},
   "outputs": [
    {
     "data": {
      "text/plain": [
       "Dict{String, UnitRange{Int64}} with 2 entries:\n",
       "  \"plot2\" => 2:2\n",
       "  \"plot1\" => 1:1"
      ]
     },
     "execution_count": 226,
     "metadata": {},
     "output_type": "execute_result"
    }
   ],
   "source": [
    "group!(plt, \"plot2\", 250, 250, 250 => 0) do g::Group\n",
    "    axes!(g)\n",
    "    grid!(g)\n",
    "    points!(g, [230, 250, 90, 71, 82, 1], [230, 55, 3, 22, 43, 1], \"fill\" => \"magenta\")\n",
    "end"
   ]
  },
  {
   "cell_type": "code",
   "execution_count": 227,
   "metadata": {},
   "outputs": [
    {
     "data": {
      "text/plain": [
       "Dict{String, UnitRange{Int64}} with 3 entries:\n",
       "  \"plot3\" => 3:3\n",
       "  \"plot2\" => 2:2\n",
       "  \"plot1\" => 1:1"
      ]
     },
     "execution_count": 227,
     "metadata": {},
     "output_type": "execute_result"
    }
   ],
   "source": [
    "group!(plt, \"plot3\", 250, 250, 0 => 250) do g::Group\n",
    "    axes!(g)\n",
    "    grid!(g)\n",
    "    line!(g, [10, 12, 15, 60], [5, 12, 22, 55])\n",
    "end"
   ]
  },
  {
   "cell_type": "code",
   "execution_count": 228,
   "metadata": {},
   "outputs": [
    {
     "data": {
      "text/plain": [
       "Dict{String, UnitRange{Int64}} with 4 entries:\n",
       "  \"plot3\" => 3:3\n",
       "  \"plot2\" => 2:2\n",
       "  \"plot1\" => 1:1\n",
       "  \"plot4\" => 4:4"
      ]
     },
     "execution_count": 228,
     "metadata": {},
     "output_type": "execute_result"
    }
   ],
   "source": [
    "group!(plt, \"plot4\", 250, 250, 250 => 250) do g::Group\n",
    "    axes!(g)\n",
    "    grid!(g, 4, \"stroke\" => \"green\", \"opacity\" => 50percent, \"stroke-width\" => 1px)\n",
    "    line!(g, [3, 8, 10, 16, 25, 30], [5, 20, 2, 30, 24, 15], \"stroke\" => \"red\", \"stroke-width\" => 2px, \n",
    "    \"fill\" => \"none\")\n",
    "end"
   ]
  },
  {
   "cell_type": "code",
   "execution_count": 231,
   "metadata": {},
   "outputs": [
    {
     "data": {
      "text/plain": [
       "Dict{String, UnitRange{Int64}} with 4 entries:\n",
       "  \"plot3\" => 3:3\n",
       "  \"plot2\" => 2:2\n",
       "  \"plot1\" => 1:1\n",
       "  \"plot4\" => 4:4"
      ]
     },
     "execution_count": 231,
     "metadata": {},
     "output_type": "execute_result"
    }
   ],
   "source": [
    "plt.layers"
   ]
  },
  {
   "cell_type": "code",
   "execution_count": 229,
   "metadata": {},
   "outputs": [
    {
     "data": {
      "text/html": [
       "\"<svg id=window height=1000 width=1000><g id=plot1 height=250 width=250><line id=Vy0d2UMM y1=250 x2=250 style='fill: none;stroke: black;stroke-width: 4;' y2=250 x1=0></line><line id=NW5wek3L y1=0 x2=0 style='fill: none;stroke: black;stroke-width: 4;' y2=250 x1=0></line><line id=EYMYJevI y1=0 x2=1 style='fill: none;stroke: lightblue;stroke-width: 1;opacity: 80%;' y2=250 x1=1></line><line id=s5WaT3cZ y1=1 x2=250 style='fill: none;stroke: lightblue;stroke-width: 1;opacity: 80%;' y2=1 x1=0></line><line id=iQmVjDjF y1=0 x2=63 style='fill: none;stroke: lightblue;stroke-width: 1;opacity: 80%;' y2=250 x1=63></line><line id=nZ3cSVx1 y1=63 x2=250 style='fill: none;stroke: lightblue;stroke-width: 1;opacity: 80%;' y2=63 x1=0></line><line id=iMz9PBDR y1=0 x2=125 style='fill: none;stroke: lightblue;stroke-width: 1;opacity: 80%;' y2=250 x1=125></line><line id=tpGIamUi y1=125 x2=250 style='fill: none;stroke: lightblue;stroke-width: 1;opacity: 80%;' y2=125 x1=0></line><line id=0TjnWUie y1=0 x2=187 style='fill: none;stroke: lightblue;stroke-width: 1;opacity: 80%;' y2=250 x1=187></line><line id=pFgU27EE y1=187 x2=250 style='fill: none;stroke: lightblue;stroke-width: 1;opacity: 80%;' y2=187 x1=0></line><line id=69hmOsHj y1=0 x2=249 style='fill: none;stroke: lightblue;stroke-width: 1;opacity: 80%;' y2=250 x1=249></line><line id=q6tmag6Q y1=249 x2=250 style='fill: none;stroke: lightblue;stroke-width: 1;opacity: 80%;' y2=249 x1=0></line><circle id=U5EXFFpc cx=50.0 style='fill: orange;stroke: lightblue;stroke-width: 0;' r=5 cy=200.0></circle><circle id=gET8dUKJ cx=100.0 style='fill: orange;stroke: lightblue;stroke-width: 0;' r=5 cy=150.0></circle><circle id=U4tOPnxl cx=150.0 style='fill: orange;stroke: lightblue;stroke-width: 0;' r=5 cy=100.0></circle><circle id=H1Y6rq62 cx=200.0 style='fill: orange;stroke: lightblue;stroke-width: 0;' r=5 cy=50.0></circle><circle id=amBU7sWv cx=250.0 style='fill: orange;stroke: lightblue;stroke-width: 0;' r=5 cy=0.0></circle></g><g id=plot2 height=250 width=250><line id=Rbe50Yga y1=250 x2=500 style='fill: none;stroke: black;stroke-width: 4;' y2=250 x1=250></line><line id=Bzqj0B8Z y1=0 x2=250 style='fill: none;stroke: black;stroke-width: 4;' y2=250 x1=250></line><line id=JAjmDQnS y1=0 x2=251 style='fill: none;stroke: lightblue;stroke-width: 1;opacity: 80%;' y2=250 x1=251></line><line id=IX2AnhKo y1=1 x2=500 style='fill: none;stroke: lightblue;stroke-width: 1;opacity: 80%;' y2=1 x1=250></line><line id=WaSF4qkd y1=0 x2=313 style='fill: none;stroke: lightblue;stroke-width: 1;opacity: 80%;' y2=250 x1=313></line><line id=3vL8tz2l y1=63 x2=500 style='fill: none;stroke: lightblue;stroke-width: 1;opacity: 80%;' y2=63 x1=250></line><line id=KqbwvqHJ y1=0 x2=375 style='fill: none;stroke: lightblue;stroke-width: 1;opacity: 80%;' y2=250 x1=375></line><line id=70TAt1vE y1=125 x2=500 style='fill: none;stroke: lightblue;stroke-width: 1;opacity: 80%;' y2=125 x1=250></line><line id=dmGGPW33 y1=0 x2=437 style='fill: none;stroke: lightblue;stroke-width: 1;opacity: 80%;' y2=250 x1=437></line><line id=Uv50rv4K y1=187 x2=500 style='fill: none;stroke: lightblue;stroke-width: 1;opacity: 80%;' y2=187 x1=250></line><line id=30JsAFkQ y1=0 x2=499 style='fill: none;stroke: lightblue;stroke-width: 1;opacity: 80%;' y2=250 x1=499></line><line id=AqOYU9cO y1=249 x2=500 style='fill: none;stroke: lightblue;stroke-width: 1;opacity: 80%;' y2=249 x1=250></line><circle id=WNPTDtMf cx=480.0 style='fill: magenta;' r=5 cy=0.0></circle><circle id=pnKrDnNG cx=500.0 style='fill: magenta;' r=5 cy=190.2173913043478></circle><circle id=6UH9oydW cx=340.0 style='fill: magenta;' r=5 cy=246.7391304347826></circle><circle id=lUh6HQ2i cx=321.0 style='fill: magenta;' r=5 cy=226.08695652173913></circle><circle id=uXV0MS37 cx=332.0 style='fill: magenta;' r=5 cy=203.26086956521738></circle><circle id=K4nKwknY cx=251.0 style='fill: magenta;' r=5 cy=248.91304347826087></circle></g><g id=plot3 height=250 width=250><line id=ggz5GcsM y1=500 x2=250 style='fill: none;stroke: black;stroke-width: 4;' y2=500 x1=0></line><line id=jlRigVsi y1=250 x2=0 style='fill: none;stroke: black;stroke-width: 4;' y2=500 x1=0></line><line id=sLhoQ72z y1=250 x2=1 style='fill: none;stroke: lightblue;stroke-width: 1;opacity: 80%;' y2=500 x1=1></line><line id=pp2A3dqm y1=251 x2=250 style='fill: none;stroke: lightblue;stroke-width: 1;opacity: 80%;' y2=251 x1=0></line><line id=XCMX08Rx y1=250 x2=63 style='fill: none;stroke: lightblue;stroke-width: 1;opacity: 80%;' y2=500 x1=63></line><line id=LDeZd5ij y1=313 x2=250 style='fill: none;stroke: lightblue;stroke-width: 1;opacity: 80%;' y2=313 x1=0></line><line id=OeyK1SS7 y1=250 x2=125 style='fill: none;stroke: lightblue;stroke-width: 1;opacity: 80%;' y2=500 x1=125></line><line id=j5VtnUgK y1=375 x2=250 style='fill: none;stroke: lightblue;stroke-width: 1;opacity: 80%;' y2=375 x1=0></line><line id=Pw3bD01t y1=250 x2=187 style='fill: none;stroke: lightblue;stroke-width: 1;opacity: 80%;' y2=500 x1=187></line><line id=gVNkhffK y1=437 x2=250 style='fill: none;stroke: lightblue;stroke-width: 1;opacity: 80%;' y2=437 x1=0></line><line id=kAU5igKe y1=250 x2=249 style='fill: none;stroke: lightblue;stroke-width: 1;opacity: 80%;' y2=500 x1=249></line><line id=0xjsUoTC y1=499 x2=250 style='fill: none;stroke: lightblue;stroke-width: 1;opacity: 80%;' y2=499 x1=0></line><polyline id=newline style='fill: none;stroke: black;stroke-width: 4;' points=42&#32;477,50&#32;445,62&#32;400,250&#32;250,></polyline></g><g id=plot4 height=250 width=250><line id=yvmbfohQ y1=500 x2=500 style='fill: none;stroke: black;stroke-width: 4;' y2=500 x1=250></line><line id=0zLZEQJQ y1=250 x2=250 style='fill: none;stroke: black;stroke-width: 4;' y2=500 x1=250></line><line id=k9g7lFZs y1=250 x2=251 style='stroke: green;opacity: 50%;stroke-width: 1px;' y2=500 x1=251></line><line id=ccWVtouz y1=251 x2=500 style='stroke: green;opacity: 50%;stroke-width: 1px;' y2=251 x1=250></line><line id=KVLjggUL y1=250 x2=313 style='stroke: green;opacity: 50%;stroke-width: 1px;' y2=500 x1=313></line><line id=JBxkERHG y1=313 x2=500 style='stroke: green;opacity: 50%;stroke-width: 1px;' y2=313 x1=250></line><line id=LtjYjDp4 y1=250 x2=375 style='stroke: green;opacity: 50%;stroke-width: 1px;' y2=500 x1=375></line><line id=YyYdz6i6 y1=375 x2=500 style='stroke: green;opacity: 50%;stroke-width: 1px;' y2=375 x1=250></line><line id=39SfwaS6 y1=250 x2=437 style='stroke: green;opacity: 50%;stroke-width: 1px;' y2=500 x1=437></line><line id=VjsV2xCr y1=437 x2=500 style='stroke: green;opacity: 50%;stroke-width: 1px;' y2=437 x1=250></line><line id=wi1EZGor y1=250 x2=499 style='stroke: green;opacity: 50%;stroke-width: 1px;' y2=500 x1=499></line><line id=fFeoNCio y1=499 x2=500 style='stroke: green;opacity: 50%;stroke-width: 1px;' y2=499 x1=250></line><polyline id=newline style='stroke: red;stroke-width: 2px;fill: none;' points=275&#32;458,317&#32;333,333&#32;483,383&#32;250,458&#32;300,500&#32;375,></polyline></g></svg>\""
      ]
     },
     "metadata": {},
     "output_type": "display_data"
    },
    {
     "data": {
      "text/plain": []
     },
     "execution_count": 229,
     "metadata": {},
     "output_type": "execute_result"
    }
   ],
   "source": [
    "plt"
   ]
  },
  {
   "cell_type": "code",
   "execution_count": 234,
   "metadata": {},
   "outputs": [
    {
     "data": {
      "text/plain": [
       "17-element Vector{Union{Nothing, String}}:\n",
       " nothing\n",
       " nothing\n",
       " nothing\n",
       " nothing\n",
       " nothing\n",
       " nothing\n",
       " nothing\n",
       " nothing\n",
       " nothing\n",
       " nothing\n",
       " nothing\n",
       " nothing\n",
       " \"'fill: orange;stroke: lightblue;stroke-width: 0;fill: yellow;'\"\n",
       " \"'fill: orange;stroke: lightblue;stroke-width: 0;fill: yellow;'\"\n",
       " \"'fill: orange;stroke: lightblue;stroke-width: 0;fill: yellow;'\"\n",
       " \"'fill: orange;stroke: lightblue;stroke-width: 0;fill: yellow;'\"\n",
       " \"'fill: orange;stroke: lightblue;stroke-width: 0;fill: yellow;'\""
      ]
     },
     "execution_count": 234,
     "metadata": {},
     "output_type": "execute_result"
    }
   ],
   "source": [
    "[begin \n",
    "    if typeof(comp) == Component{:circle}\n",
    "        style!(comp, \"fill\" => \"yellow\")\n",
    "    end\n",
    "        end for comp in plt.window[:children][\"plot1\"][:children]]"
   ]
  },
  {
   "cell_type": "code",
   "execution_count": 236,
   "metadata": {},
   "outputs": [
    {
     "data": {
      "text/html": [
       "\"<svg id=window height=1000 width=1000><g id=plot1 height=250 width=250><line id=Vy0d2UMM y1=250 x2=250 style='fill: none;stroke: black;stroke-width: 4;' y2=250 x1=0></line><line id=NW5wek3L y1=0 x2=0 style='fill: none;stroke: black;stroke-width: 4;' y2=250 x1=0></line><line id=EYMYJevI y1=0 x2=1 style='fill: none;stroke: lightblue;stroke-width: 1;opacity: 80%;' y2=250 x1=1></line><line id=s5WaT3cZ y1=1 x2=250 style='fill: none;stroke: lightblue;stroke-width: 1;opacity: 80%;' y2=1 x1=0></line><line id=iQmVjDjF y1=0 x2=63 style='fill: none;stroke: lightblue;stroke-width: 1;opacity: 80%;' y2=250 x1=63></line><line id=nZ3cSVx1 y1=63 x2=250 style='fill: none;stroke: lightblue;stroke-width: 1;opacity: 80%;' y2=63 x1=0></line><line id=iMz9PBDR y1=0 x2=125 style='fill: none;stroke: lightblue;stroke-width: 1;opacity: 80%;' y2=250 x1=125></line><line id=tpGIamUi y1=125 x2=250 style='fill: none;stroke: lightblue;stroke-width: 1;opacity: 80%;' y2=125 x1=0></line><line id=0TjnWUie y1=0 x2=187 style='fill: none;stroke: lightblue;stroke-width: 1;opacity: 80%;' y2=250 x1=187></line><line id=pFgU27EE y1=187 x2=250 style='fill: none;stroke: lightblue;stroke-width: 1;opacity: 80%;' y2=187 x1=0></line><line id=69hmOsHj y1=0 x2=249 style='fill: none;stroke: lightblue;stroke-width: 1;opacity: 80%;' y2=250 x1=249></line><line id=q6tmag6Q y1=249 x2=250 style='fill: none;stroke: lightblue;stroke-width: 1;opacity: 80%;' y2=249 x1=0></line><circle id=U5EXFFpc cx=50.0 style='fill: orange;stroke: lightblue;stroke-width: 0;fill: yellow;' r=5 cy=200.0></circle><circle id=gET8dUKJ cx=100.0 style='fill: orange;stroke: lightblue;stroke-width: 0;fill: yellow;' r=5 cy=150.0></circle><circle id=U4tOPnxl cx=150.0 style='fill: orange;stroke: lightblue;stroke-width: 0;fill: yellow;' r=5 cy=100.0></circle><circle id=H1Y6rq62 cx=200.0 style='fill: orange;stroke: lightblue;stroke-width: 0;fill: yellow;' r=5 cy=50.0></circle><circle id=amBU7sWv cx=250.0 style='fill: orange;stroke: lightblue;stroke-width: 0;fill: yellow;' r=5 cy=0.0></circle></g><g id=plot2 height=250 width=250><line id=Rbe50Yga y1=250 x2=500 style='fill: none;stroke: black;stroke-width: 4;' y2=250 x1=250></line><line id=Bzqj0B8Z y1=0 x2=250 style='fill: none;stroke: black;stroke-width: 4;' y2=250 x1=250></line><line id=JAjmDQnS y1=0 x2=251 style='fill: none;stroke: lightblue;stroke-width: 1;opacity: 80%;' y2=250 x1=251></line><line id=IX2AnhKo y1=1 x2=500 style='fill: none;stroke: lightblue;stroke-width: 1;opacity: 80%;' y2=1 x1=250></line><line id=WaSF4qkd y1=0 x2=313 style='fill: none;stroke: lightblue;stroke-width: 1;opacity: 80%;' y2=250 x1=313></line><line id=3vL8tz2l y1=63 x2=500 style='fill: none;stroke: lightblue;stroke-width: 1;opacity: 80%;' y2=63 x1=250></line><line id=KqbwvqHJ y1=0 x2=375 style='fill: none;stroke: lightblue;stroke-width: 1;opacity: 80%;' y2=250 x1=375></line><line id=70TAt1vE y1=125 x2=500 style='fill: none;stroke: lightblue;stroke-width: 1;opacity: 80%;' y2=125 x1=250></line><line id=dmGGPW33 y1=0 x2=437 style='fill: none;stroke: lightblue;stroke-width: 1;opacity: 80%;' y2=250 x1=437></line><line id=Uv50rv4K y1=187 x2=500 style='fill: none;stroke: lightblue;stroke-width: 1;opacity: 80%;' y2=187 x1=250></line><line id=30JsAFkQ y1=0 x2=499 style='fill: none;stroke: lightblue;stroke-width: 1;opacity: 80%;' y2=250 x1=499></line><line id=AqOYU9cO y1=249 x2=500 style='fill: none;stroke: lightblue;stroke-width: 1;opacity: 80%;' y2=249 x1=250></line><circle id=WNPTDtMf cx=480.0 style='fill: magenta;' r=5 cy=0.0></circle><circle id=pnKrDnNG cx=500.0 style='fill: magenta;' r=5 cy=190.2173913043478></circle><circle id=6UH9oydW cx=340.0 style='fill: magenta;' r=5 cy=246.7391304347826></circle><circle id=lUh6HQ2i cx=321.0 style='fill: magenta;' r=5 cy=226.08695652173913></circle><circle id=uXV0MS37 cx=332.0 style='fill: magenta;' r=5 cy=203.26086956521738></circle><circle id=K4nKwknY cx=251.0 style='fill: magenta;' r=5 cy=248.91304347826087></circle></g><g id=plot3 height=250 width=250><line id=ggz5GcsM y1=500 x2=250 style='fill: none;stroke: black;stroke-width: 4;' y2=500 x1=0></line><line id=jlRigVsi y1=250 x2=0 style='fill: none;stroke: black;stroke-width: 4;' y2=500 x1=0></line><line id=sLhoQ72z y1=250 x2=1 style='fill: none;stroke: lightblue;stroke-width: 1;opacity: 80%;' y2=500 x1=1></line><line id=pp2A3dqm y1=251 x2=250 style='fill: none;stroke: lightblue;stroke-width: 1;opacity: 80%;' y2=251 x1=0></line><line id=XCMX08Rx y1=250 x2=63 style='fill: none;stroke: lightblue;stroke-width: 1;opacity: 80%;' y2=500 x1=63></line><line id=LDeZd5ij y1=313 x2=250 style='fill: none;stroke: lightblue;stroke-width: 1;opacity: 80%;' y2=313 x1=0></line><line id=OeyK1SS7 y1=250 x2=125 style='fill: none;stroke: lightblue;stroke-width: 1;opacity: 80%;' y2=500 x1=125></line><line id=j5VtnUgK y1=375 x2=250 style='fill: none;stroke: lightblue;stroke-width: 1;opacity: 80%;' y2=375 x1=0></line><line id=Pw3bD01t y1=250 x2=187 style='fill: none;stroke: lightblue;stroke-width: 1;opacity: 80%;' y2=500 x1=187></line><line id=gVNkhffK y1=437 x2=250 style='fill: none;stroke: lightblue;stroke-width: 1;opacity: 80%;' y2=437 x1=0></line><line id=kAU5igKe y1=250 x2=249 style='fill: none;stroke: lightblue;stroke-width: 1;opacity: 80%;' y2=500 x1=249></line><line id=0xjsUoTC y1=499 x2=250 style='fill: none;stroke: lightblue;stroke-width: 1;opacity: 80%;' y2=499 x1=0></line><polyline id=newline style='fill: none;stroke: black;stroke-width: 4;' points=42&#32;477,50&#32;445,62&#32;400,250&#32;250,></polyline></g><g id=plot4 height=250 width=250><line id=yvmbfohQ y1=500 x2=500 style='fill: none;stroke: black;stroke-width: 4;' y2=500 x1=250></line><line id=0zLZEQJQ y1=250 x2=250 style='fill: none;stroke: black;stroke-width: 4;' y2=500 x1=250></line><line id=k9g7lFZs y1=250 x2=251 style='stroke: green;opacity: 50%;stroke-width: 1px;' y2=500 x1=251></line><line id=ccWVtouz y1=251 x2=500 style='stroke: green;opacity: 50%;stroke-width: 1px;' y2=251 x1=250></line><line id=KVLjggUL y1=250 x2=313 style='stroke: green;opacity: 50%;stroke-width: 1px;' y2=500 x1=313></line><line id=JBxkERHG y1=313 x2=500 style='stroke: green;opacity: 50%;stroke-width: 1px;' y2=313 x1=250></line><line id=LtjYjDp4 y1=250 x2=375 style='stroke: green;opacity: 50%;stroke-width: 1px;' y2=500 x1=375></line><line id=YyYdz6i6 y1=375 x2=500 style='stroke: green;opacity: 50%;stroke-width: 1px;' y2=375 x1=250></line><line id=39SfwaS6 y1=250 x2=437 style='stroke: green;opacity: 50%;stroke-width: 1px;' y2=500 x1=437></line><line id=VjsV2xCr y1=437 x2=500 style='stroke: green;opacity: 50%;stroke-width: 1px;' y2=437 x1=250></line><line id=wi1EZGor y1=250 x2=499 style='stroke: green;opacity: 50%;stroke-width: 1px;' y2=500 x1=499></line><line id=fFeoNCio y1=499 x2=500 style='stroke: green;opacity: 50%;stroke-width: 1px;' y2=499 x1=250></line><polyline id=newline style='stroke: red;stroke-width: 2px;fill: none;' points=275&#32;458,317&#32;333,333&#32;483,383&#32;250,458&#32;300,500&#32;375,></polyline></g></svg>\""
      ]
     },
     "metadata": {},
     "output_type": "display_data"
    },
    {
     "data": {
      "text/plain": []
     },
     "execution_count": 236,
     "metadata": {},
     "output_type": "execute_result"
    }
   ],
   "source": [
    "plt"
   ]
  },
  {
   "cell_type": "code",
   "execution_count": 235,
   "metadata": {},
   "outputs": [],
   "source": [
    "using Plots"
   ]
  },
  {
   "cell_type": "code",
   "execution_count": 129,
   "metadata": {},
   "outputs": [
    {
     "data": {
      "text/html": [
       "\"<svg id=window height=500 width=500></svg>\""
      ]
     },
     "metadata": {},
     "output_type": "display_data"
    },
    {
     "data": {
      "text/plain": []
     },
     "execution_count": 129,
     "metadata": {},
     "output_type": "execute_result"
    }
   ],
   "source": [
    "plt = Context(500, 500)"
   ]
  },
  {
   "cell_type": "code",
   "execution_count": 113,
   "metadata": {},
   "outputs": [
    {
     "name": "stdout",
     "output_type": "stream",
     "text": [
      "  0.072826 seconds (78.64 k allocations: 4.379 MiB, 99.71% compilation time)\n"
     ]
    },
    {
     "data": {
      "text/plain": [
       "Dict{String, UnitRange{Int64}} with 1 entry:\n",
       "  \"plot\" => 1:1"
      ]
     },
     "execution_count": 113,
     "metadata": {},
     "output_type": "execute_result"
    }
   ],
   "source": [
    "@time group!(plt, \"plot\") do g::Group\n",
    "    axes!(g)\n",
    "    grid!(g, 4)\n",
    "    line!(g, [15, 10, 5], [15, 10, 15])\n",
    "end"
   ]
  },
  {
   "cell_type": "code",
   "execution_count": 55,
   "metadata": {},
   "outputs": [
    {
     "name": "stdout",
     "output_type": "stream",
     "text": [
      "  2.780681 seconds (4.28 M allocations: 243.385 MiB, 2.09% gc time, 99.85% compilation time)\n"
     ]
    },
    {
     "data": {
      "image/svg+xml": [
       "<?xml version=\"1.0\" encoding=\"utf-8\"?>\n",
       "<svg xmlns=\"http://www.w3.org/2000/svg\" xmlns:xlink=\"http://www.w3.org/1999/xlink\" width=\"600\" height=\"400\" viewBox=\"0 0 2400 1600\">\n",
       "<defs>\n",
       "  <clipPath id=\"clip550\">\n",
       "    <rect x=\"0\" y=\"0\" width=\"2400\" height=\"1600\"/>\n",
       "  </clipPath>\n",
       "</defs>\n",
       "<path clip-path=\"url(#clip550)\" d=\"\n",
       "M0 1600 L2400 1600 L2400 0 L0 0  Z\n",
       "  \" fill=\"#ffffff\" fill-rule=\"evenodd\" fill-opacity=\"1\"/>\n",
       "<defs>\n",
       "  <clipPath id=\"clip551\">\n",
       "    <rect x=\"480\" y=\"0\" width=\"1681\" height=\"1600\"/>\n",
       "  </clipPath>\n",
       "</defs>\n",
       "<path clip-path=\"url(#clip550)\" d=\"\n",
       "M139.446 1486.45 L2352.76 1486.45 L2352.76 47.2441 L139.446 47.2441  Z\n",
       "  \" fill=\"#ffffff\" fill-rule=\"evenodd\" fill-opacity=\"1\"/>\n",
       "<defs>\n",
       "  <clipPath id=\"clip552\">\n",
       "    <rect x=\"139\" y=\"47\" width=\"2214\" height=\"1440\"/>\n",
       "  </clipPath>\n",
       "</defs>\n",
       "<polyline clip-path=\"url(#clip552)\" style=\"stroke:#000000; stroke-linecap:round; stroke-linejoin:round; stroke-width:2; stroke-opacity:0.1; fill:none\" points=\"\n",
       "  410.889,1486.45 410.889,47.2441 \n",
       "  \"/>\n",
       "<polyline clip-path=\"url(#clip552)\" style=\"stroke:#000000; stroke-linecap:round; stroke-linejoin:round; stroke-width:2; stroke-opacity:0.1; fill:none\" points=\"\n",
       "  828.495,1486.45 828.495,47.2441 \n",
       "  \"/>\n",
       "<polyline clip-path=\"url(#clip552)\" style=\"stroke:#000000; stroke-linecap:round; stroke-linejoin:round; stroke-width:2; stroke-opacity:0.1; fill:none\" points=\"\n",
       "  1246.1,1486.45 1246.1,47.2441 \n",
       "  \"/>\n",
       "<polyline clip-path=\"url(#clip552)\" style=\"stroke:#000000; stroke-linecap:round; stroke-linejoin:round; stroke-width:2; stroke-opacity:0.1; fill:none\" points=\"\n",
       "  1663.71,1486.45 1663.71,47.2441 \n",
       "  \"/>\n",
       "<polyline clip-path=\"url(#clip552)\" style=\"stroke:#000000; stroke-linecap:round; stroke-linejoin:round; stroke-width:2; stroke-opacity:0.1; fill:none\" points=\"\n",
       "  2081.31,1486.45 2081.31,47.2441 \n",
       "  \"/>\n",
       "<polyline clip-path=\"url(#clip550)\" style=\"stroke:#000000; stroke-linecap:round; stroke-linejoin:round; stroke-width:4; stroke-opacity:1; fill:none\" points=\"\n",
       "  139.446,1486.45 2352.76,1486.45 \n",
       "  \"/>\n",
       "<polyline clip-path=\"url(#clip550)\" style=\"stroke:#000000; stroke-linecap:round; stroke-linejoin:round; stroke-width:4; stroke-opacity:1; fill:none\" points=\"\n",
       "  410.889,1486.45 410.889,1467.55 \n",
       "  \"/>\n",
       "<polyline clip-path=\"url(#clip550)\" style=\"stroke:#000000; stroke-linecap:round; stroke-linejoin:round; stroke-width:4; stroke-opacity:1; fill:none\" points=\"\n",
       "  828.495,1486.45 828.495,1467.55 \n",
       "  \"/>\n",
       "<polyline clip-path=\"url(#clip550)\" style=\"stroke:#000000; stroke-linecap:round; stroke-linejoin:round; stroke-width:4; stroke-opacity:1; fill:none\" points=\"\n",
       "  1246.1,1486.45 1246.1,1467.55 \n",
       "  \"/>\n",
       "<polyline clip-path=\"url(#clip550)\" style=\"stroke:#000000; stroke-linecap:round; stroke-linejoin:round; stroke-width:4; stroke-opacity:1; fill:none\" points=\"\n",
       "  1663.71,1486.45 1663.71,1467.55 \n",
       "  \"/>\n",
       "<polyline clip-path=\"url(#clip550)\" style=\"stroke:#000000; stroke-linecap:round; stroke-linejoin:round; stroke-width:4; stroke-opacity:1; fill:none\" points=\"\n",
       "  2081.31,1486.45 2081.31,1467.55 \n",
       "  \"/>\n",
       "<path clip-path=\"url(#clip550)\" d=\"M411.294 1529.7 Q408.146 1529.7 406.294 1531.86 Q404.466 1534.01 404.466 1537.76 Q404.466 1541.49 406.294 1543.66 Q408.146 1545.82 411.294 1545.82 Q414.442 1545.82 416.271 1543.66 Q418.123 1541.49 418.123 1537.76 Q418.123 1534.01 416.271 1531.86 Q414.442 1529.7 411.294 1529.7 M420.577 1515.05 L420.577 1519.31 Q418.817 1518.48 417.012 1518.04 Q415.23 1517.6 413.47 1517.6 Q408.841 1517.6 406.387 1520.72 Q403.956 1523.85 403.609 1530.17 Q404.975 1528.15 407.035 1527.09 Q409.095 1526 411.572 1526 Q416.78 1526 419.79 1529.17 Q422.822 1532.32 422.822 1537.76 Q422.822 1543.08 419.674 1546.3 Q416.526 1549.52 411.294 1549.52 Q405.299 1549.52 402.128 1544.94 Q398.956 1540.33 398.956 1531.6 Q398.956 1523.41 402.845 1518.55 Q406.734 1513.66 413.285 1513.66 Q415.044 1513.66 416.827 1514.01 Q418.632 1514.36 420.577 1515.05 Z\" fill=\"#000000\" fill-rule=\"evenodd\" fill-opacity=\"1\" /><path clip-path=\"url(#clip550)\" d=\"M828.495 1532.44 Q825.162 1532.44 823.24 1534.22 Q821.342 1536 821.342 1539.13 Q821.342 1542.25 823.24 1544.03 Q825.162 1545.82 828.495 1545.82 Q831.828 1545.82 833.75 1544.03 Q835.671 1542.23 835.671 1539.13 Q835.671 1536 833.75 1534.22 Q831.851 1532.44 828.495 1532.44 M823.819 1530.45 Q820.81 1529.7 819.12 1527.64 Q817.453 1525.58 817.453 1522.62 Q817.453 1518.48 820.393 1516.07 Q823.356 1513.66 828.495 1513.66 Q833.657 1513.66 836.597 1516.07 Q839.537 1518.48 839.537 1522.62 Q839.537 1525.58 837.847 1527.64 Q836.18 1529.7 833.194 1530.45 Q836.574 1531.23 838.449 1533.52 Q840.347 1535.82 840.347 1539.13 Q840.347 1544.15 837.268 1546.83 Q834.213 1549.52 828.495 1549.52 Q822.777 1549.52 819.699 1546.83 Q816.643 1544.15 816.643 1539.13 Q816.643 1535.82 818.541 1533.52 Q820.439 1531.23 823.819 1530.45 M822.106 1523.06 Q822.106 1525.75 823.773 1527.25 Q825.463 1528.76 828.495 1528.76 Q831.504 1528.76 833.194 1527.25 Q834.907 1525.75 834.907 1523.06 Q834.907 1520.38 833.194 1518.87 Q831.504 1517.37 828.495 1517.37 Q825.463 1517.37 823.773 1518.87 Q822.106 1520.38 822.106 1523.06 Z\" fill=\"#000000\" fill-rule=\"evenodd\" fill-opacity=\"1\" /><path clip-path=\"url(#clip550)\" d=\"M1220.79 1544.91 L1228.43 1544.91 L1228.43 1518.55 L1220.12 1520.21 L1220.12 1515.95 L1228.38 1514.29 L1233.06 1514.29 L1233.06 1544.91 L1240.7 1544.91 L1240.7 1548.85 L1220.79 1548.85 L1220.79 1544.91 Z\" fill=\"#000000\" fill-rule=\"evenodd\" fill-opacity=\"1\" /><path clip-path=\"url(#clip550)\" d=\"M1260.14 1517.37 Q1256.53 1517.37 1254.7 1520.93 Q1252.89 1524.47 1252.89 1531.6 Q1252.89 1538.71 1254.7 1542.27 Q1256.53 1545.82 1260.14 1545.82 Q1263.77 1545.82 1265.58 1542.27 Q1267.41 1538.71 1267.41 1531.6 Q1267.41 1524.47 1265.58 1520.93 Q1263.77 1517.37 1260.14 1517.37 M1260.14 1513.66 Q1265.95 1513.66 1269.01 1518.27 Q1272.08 1522.85 1272.08 1531.6 Q1272.08 1540.33 1269.01 1544.94 Q1265.95 1549.52 1260.14 1549.52 Q1254.33 1549.52 1251.25 1544.94 Q1248.2 1540.33 1248.2 1531.6 Q1248.2 1522.85 1251.25 1518.27 Q1254.33 1513.66 1260.14 1513.66 Z\" fill=\"#000000\" fill-rule=\"evenodd\" fill-opacity=\"1\" /><path clip-path=\"url(#clip550)\" d=\"M1639.19 1544.91 L1646.83 1544.91 L1646.83 1518.55 L1638.52 1520.21 L1638.52 1515.95 L1646.79 1514.29 L1651.46 1514.29 L1651.46 1544.91 L1659.1 1544.91 L1659.1 1548.85 L1639.19 1548.85 L1639.19 1544.91 Z\" fill=\"#000000\" fill-rule=\"evenodd\" fill-opacity=\"1\" /><path clip-path=\"url(#clip550)\" d=\"M1672.57 1544.91 L1688.89 1544.91 L1688.89 1548.85 L1666.95 1548.85 L1666.95 1544.91 Q1669.61 1542.16 1674.19 1537.53 Q1678.8 1532.88 1679.98 1531.53 Q1682.22 1529.01 1683.1 1527.27 Q1684.01 1525.51 1684.01 1523.82 Q1684.01 1521.07 1682.06 1519.33 Q1680.14 1517.6 1677.04 1517.6 Q1674.84 1517.6 1672.39 1518.36 Q1669.96 1519.13 1667.18 1520.68 L1667.18 1515.95 Q1670 1514.82 1672.46 1514.24 Q1674.91 1513.66 1676.95 1513.66 Q1682.32 1513.66 1685.51 1516.35 Q1688.71 1519.03 1688.71 1523.52 Q1688.71 1525.65 1687.9 1527.57 Q1687.11 1529.47 1685 1532.07 Q1684.42 1532.74 1681.32 1535.95 Q1678.22 1539.15 1672.57 1544.91 Z\" fill=\"#000000\" fill-rule=\"evenodd\" fill-opacity=\"1\" /><path clip-path=\"url(#clip550)\" d=\"M2055.76 1544.91 L2063.4 1544.91 L2063.4 1518.55 L2055.09 1520.21 L2055.09 1515.95 L2063.35 1514.29 L2068.03 1514.29 L2068.03 1544.91 L2075.66 1544.91 L2075.66 1548.85 L2055.76 1548.85 L2055.76 1544.91 Z\" fill=\"#000000\" fill-rule=\"evenodd\" fill-opacity=\"1\" /><path clip-path=\"url(#clip550)\" d=\"M2097.96 1518.36 L2086.15 1536.81 L2097.96 1536.81 L2097.96 1518.36 M2096.73 1514.29 L2102.61 1514.29 L2102.61 1536.81 L2107.54 1536.81 L2107.54 1540.7 L2102.61 1540.7 L2102.61 1548.85 L2097.96 1548.85 L2097.96 1540.7 L2082.35 1540.7 L2082.35 1536.19 L2096.73 1514.29 Z\" fill=\"#000000\" fill-rule=\"evenodd\" fill-opacity=\"1\" /><polyline clip-path=\"url(#clip552)\" style=\"stroke:#000000; stroke-linecap:round; stroke-linejoin:round; stroke-width:2; stroke-opacity:0.1; fill:none\" points=\"\n",
       "  139.446,1445.72 2352.76,1445.72 \n",
       "  \"/>\n",
       "<polyline clip-path=\"url(#clip552)\" style=\"stroke:#000000; stroke-linecap:round; stroke-linejoin:round; stroke-width:2; stroke-opacity:0.1; fill:none\" points=\"\n",
       "  139.446,1174.17 2352.76,1174.17 \n",
       "  \"/>\n",
       "<polyline clip-path=\"url(#clip552)\" style=\"stroke:#000000; stroke-linecap:round; stroke-linejoin:round; stroke-width:2; stroke-opacity:0.1; fill:none\" points=\"\n",
       "  139.446,902.62 2352.76,902.62 \n",
       "  \"/>\n",
       "<polyline clip-path=\"url(#clip552)\" style=\"stroke:#000000; stroke-linecap:round; stroke-linejoin:round; stroke-width:2; stroke-opacity:0.1; fill:none\" points=\"\n",
       "  139.446,631.072 2352.76,631.072 \n",
       "  \"/>\n",
       "<polyline clip-path=\"url(#clip552)\" style=\"stroke:#000000; stroke-linecap:round; stroke-linejoin:round; stroke-width:2; stroke-opacity:0.1; fill:none\" points=\"\n",
       "  139.446,359.524 2352.76,359.524 \n",
       "  \"/>\n",
       "<polyline clip-path=\"url(#clip552)\" style=\"stroke:#000000; stroke-linecap:round; stroke-linejoin:round; stroke-width:2; stroke-opacity:0.1; fill:none\" points=\"\n",
       "  139.446,87.9763 2352.76,87.9763 \n",
       "  \"/>\n",
       "<polyline clip-path=\"url(#clip550)\" style=\"stroke:#000000; stroke-linecap:round; stroke-linejoin:round; stroke-width:4; stroke-opacity:1; fill:none\" points=\"\n",
       "  139.446,1486.45 139.446,47.2441 \n",
       "  \"/>\n",
       "<polyline clip-path=\"url(#clip550)\" style=\"stroke:#000000; stroke-linecap:round; stroke-linejoin:round; stroke-width:4; stroke-opacity:1; fill:none\" points=\"\n",
       "  139.446,1445.72 158.343,1445.72 \n",
       "  \"/>\n",
       "<polyline clip-path=\"url(#clip550)\" style=\"stroke:#000000; stroke-linecap:round; stroke-linejoin:round; stroke-width:4; stroke-opacity:1; fill:none\" points=\"\n",
       "  139.446,1174.17 158.343,1174.17 \n",
       "  \"/>\n",
       "<polyline clip-path=\"url(#clip550)\" style=\"stroke:#000000; stroke-linecap:round; stroke-linejoin:round; stroke-width:4; stroke-opacity:1; fill:none\" points=\"\n",
       "  139.446,902.62 158.343,902.62 \n",
       "  \"/>\n",
       "<polyline clip-path=\"url(#clip550)\" style=\"stroke:#000000; stroke-linecap:round; stroke-linejoin:round; stroke-width:4; stroke-opacity:1; fill:none\" points=\"\n",
       "  139.446,631.072 158.343,631.072 \n",
       "  \"/>\n",
       "<polyline clip-path=\"url(#clip550)\" style=\"stroke:#000000; stroke-linecap:round; stroke-linejoin:round; stroke-width:4; stroke-opacity:1; fill:none\" points=\"\n",
       "  139.446,359.524 158.343,359.524 \n",
       "  \"/>\n",
       "<polyline clip-path=\"url(#clip550)\" style=\"stroke:#000000; stroke-linecap:round; stroke-linejoin:round; stroke-width:4; stroke-opacity:1; fill:none\" points=\"\n",
       "  139.446,87.9763 158.343,87.9763 \n",
       "  \"/>\n",
       "<path clip-path=\"url(#clip550)\" d=\"M52.1495 1459.06 L59.7884 1459.06 L59.7884 1432.69 L51.4782 1434.36 L51.4782 1430.1 L59.7421 1428.44 L64.418 1428.44 L64.418 1459.06 L72.0568 1459.06 L72.0568 1463 L52.1495 1463 L52.1495 1459.06 Z\" fill=\"#000000\" fill-rule=\"evenodd\" fill-opacity=\"1\" /><path clip-path=\"url(#clip550)\" d=\"M91.5012 1431.51 Q87.8901 1431.51 86.0614 1435.08 Q84.2558 1438.62 84.2558 1445.75 Q84.2558 1452.86 86.0614 1456.42 Q87.8901 1459.96 91.5012 1459.96 Q95.1354 1459.96 96.941 1456.42 Q98.7696 1452.86 98.7696 1445.75 Q98.7696 1438.62 96.941 1435.08 Q95.1354 1431.51 91.5012 1431.51 M91.5012 1427.81 Q97.3113 1427.81 100.367 1432.42 Q103.446 1437 103.446 1445.75 Q103.446 1454.48 100.367 1459.08 Q97.3113 1463.67 91.5012 1463.67 Q85.691 1463.67 82.6123 1459.08 Q79.5568 1454.48 79.5568 1445.75 Q79.5568 1437 82.6123 1432.42 Q85.691 1427.81 91.5012 1427.81 Z\" fill=\"#000000\" fill-rule=\"evenodd\" fill-opacity=\"1\" /><path clip-path=\"url(#clip550)\" d=\"M53.3764 1187.51 L61.0152 1187.51 L61.0152 1161.15 L52.7051 1162.81 L52.7051 1158.55 L60.9689 1156.89 L65.6448 1156.89 L65.6448 1187.51 L73.2837 1187.51 L73.2837 1191.45 L53.3764 1191.45 L53.3764 1187.51 Z\" fill=\"#000000\" fill-rule=\"evenodd\" fill-opacity=\"1\" /><path clip-path=\"url(#clip550)\" d=\"M83.5382 1187.51 L91.1771 1187.51 L91.1771 1161.15 L82.867 1162.81 L82.867 1158.55 L91.1308 1156.89 L95.8067 1156.89 L95.8067 1187.51 L103.446 1187.51 L103.446 1191.45 L83.5382 1191.45 L83.5382 1187.51 Z\" fill=\"#000000\" fill-rule=\"evenodd\" fill-opacity=\"1\" /><path clip-path=\"url(#clip550)\" d=\"M53.7467 915.965 L61.3856 915.965 L61.3856 889.599 L53.0754 891.266 L53.0754 887.007 L61.3393 885.34 L66.0152 885.34 L66.0152 915.965 L73.654 915.965 L73.654 919.9 L53.7467 919.9 L53.7467 915.965 Z\" fill=\"#000000\" fill-rule=\"evenodd\" fill-opacity=\"1\" /><path clip-path=\"url(#clip550)\" d=\"M87.1262 915.965 L103.446 915.965 L103.446 919.9 L81.5012 919.9 L81.5012 915.965 Q84.1632 913.21 88.7466 908.581 Q93.353 903.928 94.5336 902.585 Q96.7789 900.062 97.6585 898.326 Q98.5613 896.567 98.5613 894.877 Q98.5613 892.122 96.6169 890.386 Q94.6956 888.65 91.5938 888.65 Q89.3947 888.65 86.941 889.414 Q84.5105 890.178 81.7327 891.729 L81.7327 887.007 Q84.5568 885.872 87.0105 885.294 Q89.4641 884.715 91.5012 884.715 Q96.8715 884.715 100.066 887.4 Q103.26 890.085 103.26 894.576 Q103.26 896.706 102.45 898.627 Q101.663 900.525 99.5567 903.118 Q98.978 903.789 95.8761 907.006 Q92.7743 910.201 87.1262 915.965 Z\" fill=\"#000000\" fill-rule=\"evenodd\" fill-opacity=\"1\" /><path clip-path=\"url(#clip550)\" d=\"M52.7977 644.417 L60.4365 644.417 L60.4365 618.051 L52.1264 619.718 L52.1264 615.459 L60.3902 613.792 L65.0661 613.792 L65.0661 644.417 L72.705 644.417 L72.705 648.352 L52.7977 648.352 L52.7977 644.417 Z\" fill=\"#000000\" fill-rule=\"evenodd\" fill-opacity=\"1\" /><path clip-path=\"url(#clip550)\" d=\"M96.316 629.718 Q99.6724 630.435 101.547 632.704 Q103.446 634.972 103.446 638.306 Q103.446 643.422 99.927 646.222 Q96.4085 649.023 89.9271 649.023 Q87.7512 649.023 85.4364 648.584 Q83.1447 648.167 80.691 647.31 L80.691 642.797 Q82.6355 643.931 84.9503 644.509 Q87.2651 645.088 89.7882 645.088 Q94.1863 645.088 96.478 643.352 Q98.7928 641.616 98.7928 638.306 Q98.7928 635.25 96.64 633.537 Q94.5104 631.801 90.691 631.801 L86.6632 631.801 L86.6632 627.959 L90.8762 627.959 Q94.3252 627.959 96.1539 626.593 Q97.9826 625.204 97.9826 622.611 Q97.9826 619.949 96.0845 618.537 Q94.2095 617.102 90.691 617.102 Q88.7697 617.102 86.5706 617.519 Q84.3716 617.936 81.7327 618.815 L81.7327 614.649 Q84.3947 613.908 86.7095 613.537 Q89.0475 613.167 91.1077 613.167 Q96.4317 613.167 99.5335 615.598 Q102.635 618.005 102.635 622.125 Q102.635 624.996 100.992 626.986 Q99.3483 628.954 96.316 629.718 Z\" fill=\"#000000\" fill-rule=\"evenodd\" fill-opacity=\"1\" /><path clip-path=\"url(#clip550)\" d=\"M51.6634 372.869 L59.3023 372.869 L59.3023 346.503 L50.9921 348.17 L50.9921 343.911 L59.256 342.244 L63.9319 342.244 L63.9319 372.869 L71.5707 372.869 L71.5707 376.804 L51.6634 376.804 L51.6634 372.869 Z\" fill=\"#000000\" fill-rule=\"evenodd\" fill-opacity=\"1\" /><path clip-path=\"url(#clip550)\" d=\"M93.8623 346.318 L82.0568 364.767 L93.8623 364.767 L93.8623 346.318 M92.6354 342.244 L98.515 342.244 L98.515 364.767 L103.446 364.767 L103.446 368.656 L98.515 368.656 L98.515 376.804 L93.8623 376.804 L93.8623 368.656 L78.2605 368.656 L78.2605 364.142 L92.6354 342.244 Z\" fill=\"#000000\" fill-rule=\"evenodd\" fill-opacity=\"1\" /><path clip-path=\"url(#clip550)\" d=\"M53.1449 101.321 L60.7837 101.321 L60.7837 74.9555 L52.4736 76.6222 L52.4736 72.3629 L60.7374 70.6963 L65.4133 70.6963 L65.4133 101.321 L73.0522 101.321 L73.0522 105.256 L53.1449 105.256 L53.1449 101.321 Z\" fill=\"#000000\" fill-rule=\"evenodd\" fill-opacity=\"1\" /><path clip-path=\"url(#clip550)\" d=\"M82.5429 70.6963 L100.899 70.6963 L100.899 74.6314 L86.8253 74.6314 L86.8253 83.1036 Q87.8438 82.7564 88.8623 82.5944 Q89.8808 82.4092 90.8993 82.4092 Q96.6863 82.4092 100.066 85.5805 Q103.446 88.7517 103.446 94.1684 Q103.446 99.747 99.9733 102.849 Q96.5011 105.928 90.1817 105.928 Q88.0058 105.928 85.7373 105.557 Q83.492 105.187 81.0846 104.446 L81.0846 99.747 Q83.1679 100.881 85.3901 101.437 Q87.6123 101.992 90.0891 101.992 Q94.0937 101.992 96.4317 99.8859 Q98.7696 97.7795 98.7696 94.1684 Q98.7696 90.5573 96.4317 88.4508 Q94.0937 86.3443 90.0891 86.3443 Q88.2141 86.3443 86.3392 86.761 Q84.4873 87.1777 82.5429 88.0573 L82.5429 70.6963 Z\" fill=\"#000000\" fill-rule=\"evenodd\" fill-opacity=\"1\" /><polyline clip-path=\"url(#clip552)\" style=\"stroke:#009af9; stroke-linecap:round; stroke-linejoin:round; stroke-width:4; stroke-opacity:1; fill:none\" points=\"\n",
       "  2290.12,87.9763 1246.1,1445.72 202.086,87.9763 \n",
       "  \"/>\n",
       "<path clip-path=\"url(#clip550)\" d=\"\n",
       "M1980.63 198.898 L2278.98 198.898 L2278.98 95.2176 L1980.63 95.2176  Z\n",
       "  \" fill=\"#ffffff\" fill-rule=\"evenodd\" fill-opacity=\"1\"/>\n",
       "<polyline clip-path=\"url(#clip550)\" style=\"stroke:#000000; stroke-linecap:round; stroke-linejoin:round; stroke-width:4; stroke-opacity:1; fill:none\" points=\"\n",
       "  1980.63,198.898 2278.98,198.898 2278.98,95.2176 1980.63,95.2176 1980.63,198.898 \n",
       "  \"/>\n",
       "<polyline clip-path=\"url(#clip550)\" style=\"stroke:#009af9; stroke-linecap:round; stroke-linejoin:round; stroke-width:4; stroke-opacity:1; fill:none\" points=\"\n",
       "  2005.22,147.058 2152.77,147.058 \n",
       "  \"/>\n",
       "<path clip-path=\"url(#clip550)\" d=\"M2191.21 166.745 Q2189.4 171.375 2187.69 172.787 Q2185.98 174.199 2183.1 174.199 L2179.7 174.199 L2179.7 170.634 L2182.2 170.634 Q2183.96 170.634 2184.93 169.8 Q2185.91 168.967 2187.09 165.865 L2187.85 163.921 L2177.36 138.412 L2181.88 138.412 L2189.98 158.689 L2198.08 138.412 L2202.6 138.412 L2191.21 166.745 Z\" fill=\"#000000\" fill-rule=\"evenodd\" fill-opacity=\"1\" /><path clip-path=\"url(#clip550)\" d=\"M2209.89 160.402 L2217.53 160.402 L2217.53 134.037 L2209.22 135.703 L2209.22 131.444 L2217.48 129.778 L2222.16 129.778 L2222.16 160.402 L2229.79 160.402 L2229.79 164.338 L2209.89 164.338 L2209.89 160.402 Z\" fill=\"#000000\" fill-rule=\"evenodd\" fill-opacity=\"1\" /></svg>\n"
      ]
     },
     "execution_count": 55,
     "metadata": {},
     "output_type": "execute_result"
    }
   ],
   "source": [
    "@time plot([15, 10, 5], [15, 10, 15])"
   ]
  },
  {
   "cell_type": "code",
   "execution_count": 56,
   "metadata": {},
   "outputs": [
    {
     "ename": "LoadError",
     "evalue": "ArgumentError: Package RecipesBase not found in current path:\n- Run `import Pkg; Pkg.add(\"RecipesBase\")` to install the RecipesBase package.\n",
     "output_type": "error",
     "traceback": [
      "ArgumentError: Package RecipesBase not found in current path:\n- Run `import Pkg; Pkg.add(\"RecipesBase\")` to install the RecipesBase package.\n",
      "",
      "Stacktrace:",
      " [1] require(into::Module, mod::Symbol)",
      "   @ Base ./loading.jl:967",
      " [2] eval",
      "   @ ./boot.jl:373 [inlined]",
      " [3] include_string(mapexpr::typeof(REPL.softscope), mod::Module, code::String, filename::String)",
      "   @ Base ./loading.jl:1196"
     ]
    }
   ],
   "source": [
    "import RecipesBase: plot"
   ]
  },
  {
   "cell_type": "code",
   "execution_count": 57,
   "metadata": {},
   "outputs": [
    {
     "data": {
      "text/plain": [
       "scatter (generic function with 4 methods)"
      ]
     },
     "execution_count": 57,
     "metadata": {},
     "output_type": "execute_result"
    }
   ],
   "source": [
    "scatter(x::Vector{<:Number}, y::Vector{<:Number}, width::Int64 = 500,\n",
    "height::Int64 = 500, margin::Pair{Int64, Int64} = 0 => 0; divisions::Int64 = 4,\n",
    "    title = \"\", args ...) = begin\n",
    "    con::Context = Context(width, height, margin)\n",
    "    group!(con, \"plotbase\") do g::Group\n",
    "        axes!(con)\n",
    "        grid!(con, divisions)\n",
    "    end\n",
    "    group!(con, \"points\") do g::Group\n",
    "        points!(con, x, y)\n",
    "    end\n",
    "    con\n",
    "end"
   ]
  },
  {
   "cell_type": "code",
   "execution_count": 58,
   "metadata": {},
   "outputs": [
    {
     "data": {
      "text/plain": [
       "Context(Component{:svg}(\"window\", Toolips.var\"#f#80\"{String, String, Dict{Any, Any}, Vector{Servable}}(\"window\", \"svg\", Dict{Any, Any}(:children => Servable[Component{:line}(\"r9F0YEZi\", Toolips.var\"#f#80\"{String, String, Dict{Any, Any}, Vector{Servable}}(\"r9F0YEZi\", \"line\", Dict{Any, Any}(:children => Servable[], :y1 => 500, :x2 => 500, \"style\" => \"'fill: none;stroke: black;stroke-width: 4;'\", :y2 => 500, :x1 => 0), Servable[]), Dict{Any, Any}(:children => Servable[], :y1 => 500, :x2 => 500, \"style\" => \"'fill: none;stroke: black;stroke-width: 4;'\", :y2 => 500, :x1 => 0), Servable[], \"line\"), Component{:line}(\"bRBVqJss\", Toolips.var\"#f#80\"{String, String, Dict{Any, Any}, Vector{Servable}}(\"bRBVqJss\", \"line\", Dict{Any, Any}(:children => Servable[], :y1 => 0, :x2 => 0, \"style\" => \"'fill: none;stroke: black;stroke-width: 4;'\", :y2 => 500, :x1 => 0), Servable[]), Dict{Any, Any}(:children => Servable[], :y1 => 0, :x2 => 0, \"style\" => \"'fill: none;stroke: black;stroke-width: 4;'\", :y2 => 500, :x1 => 0), Servable[], \"line\"), Component{:line}(\"Z3Fk6g4Q\", Toolips.var\"#f#80\"{String, String, Dict{Any, Any}, Vector{Servable}}(\"Z3Fk6g4Q\", \"line\", Dict{Any, Any}(:children => Servable[], :y1 => 0, :x2 => 1, \"style\" => \"'fill: none;stroke: lightblue;stroke-width: 1;opacity: 80%;'\", :y2 => 500, :x1 => 1), Servable[]), Dict{Any, Any}(:children => Servable[], :y1 => 0, :x2 => 1, \"style\" => \"'fill: none;stroke: lightblue;stroke-width: 1;opacity: 80%;'\", :y2 => 500, :x1 => 1), Servable[], \"line\"), Component{:line}(\"8zHPY3ds\", Toolips.var\"#f#80\"{String, String, Dict{Any, Any}, Vector{Servable}}(\"8zHPY3ds\", \"line\", Dict{Any, Any}(:children => Servable[], :y1 => 1, :x2 => 500, \"style\" => \"'fill: none;stroke: lightblue;stroke-width: 1;opacity: 80%;'\", :y2 => 1, :x1 => 0), Servable[]), Dict{Any, Any}(:children => Servable[], :y1 => 1, :x2 => 500, \"style\" => \"'fill: none;stroke: lightblue;stroke-width: 1;opacity: 80%;'\", :y2 => 1, :x1 => 0), Servable[], \"line\"), Component{:line}(\"qbWcTD34\", Toolips.var\"#f#80\"{String, String, Dict{Any, Any}, Vector{Servable}}(\"qbWcTD34\", \"line\", Dict{Any, Any}(:children => Servable[], :y1 => 0, :x2 => 126, \"style\" => \"'fill: none;stroke: lightblue;stroke-width: 1;opacity: 80%;'\", :y2 => 500, :x1 => 126), Servable[]), Dict{Any, Any}(:children => Servable[], :y1 => 0, :x2 => 126, \"style\" => \"'fill: none;stroke: lightblue;stroke-width: 1;opacity: 80%;'\", :y2 => 500, :x1 => 126), Servable[], \"line\"), Component{:line}(\"R7reYAYH\", Toolips.var\"#f#80\"{String, String, Dict{Any, Any}, Vector{Servable}}(\"R7reYAYH\", \"line\", Dict{Any, Any}(:children => Servable[], :y1 => 126, :x2 => 500, \"style\" => \"'fill: none;stroke: lightblue;stroke-width: 1;opacity: 80%;'\", :y2 => 126, :x1 => 0), Servable[]), Dict{Any, Any}(:children => Servable[], :y1 => 126, :x2 => 500, \"style\" => \"'fill: none;stroke: lightblue;stroke-width: 1;opacity: 80%;'\", :y2 => 126, :x1 => 0), Servable[], \"line\"), Component{:line}(\"0cszb5of\", Toolips.var\"#f#80\"{String, String, Dict{Any, Any}, Vector{Servable}}(\"0cszb5of\", \"line\", Dict{Any, Any}(:children => Servable[], :y1 => 0, :x2 => 251, \"style\" => \"'fill: none;stroke: lightblue;stroke-width: 1;opacity: 80%;'\", :y2 => 500, :x1 => 251), Servable[]), Dict{Any, Any}(:children => Servable[], :y1 => 0, :x2 => 251, \"style\" => \"'fill: none;stroke: lightblue;stroke-width: 1;opacity: 80%;'\", :y2 => 500, :x1 => 251), Servable[], \"line\"), Component{:line}(\"p1MLzXRM\", Toolips.var\"#f#80\"{String, String, Dict{Any, Any}, Vector{Servable}}(\"p1MLzXRM\", \"line\", Dict{Any, Any}(:children => Servable[], :y1 => 251, :x2 => 500, \"style\" => \"'fill: none;stroke: lightblue;stroke-width: 1;opacity: 80%;'\", :y2 => 251, :x1 => 0), Servable[]), Dict{Any, Any}(:children => Servable[], :y1 => 251, :x2 => 500, \"style\" => \"'fill: none;stroke: lightblue;stroke-width: 1;opacity: 80%;'\", :y2 => 251, :x1 => 0), Servable[], \"line\"), Component{:line}(\"8Ju9dL8d\", Toolips.var\"#f#80\"{String, String, Dict{Any, Any}, Vector{Servable}}(\"8Ju9dL8d\", \"line\", Dict{Any, Any}(:children => Servable[], :y1 => 0, :x2 => 376, \"style\" => \"'fill: none;stroke: lightblue;stroke-width: 1;opacity: 80%;'\", :y2 => 500, :x1 => 376), Servable[]), Dict{Any, Any}(:children => Servable[], :y1 => 0, :x2 => 376, \"style\" => \"'fill: none;stroke: lightblue;stroke-width: 1;opacity: 80%;'\", :y2 => 500, :x1 => 376), Servable[], \"line\"), Component{:line}(\"t219T9ks\", Toolips.var\"#f#80\"{String, String, Dict{Any, Any}, Vector{Servable}}(\"t219T9ks\", \"line\", Dict{Any, Any}(:children => Servable[], :y1 => 376, :x2 => 500, \"style\" => \"'fill: none;stroke: lightblue;stroke-width: 1;opacity: 80%;'\", :y2 => 376, :x1 => 0), Servable[]), Dict{Any, Any}(:children => Servable[], :y1 => 376, :x2 => 500, \"style\" => \"'fill: none;stroke: lightblue;stroke-width: 1;opacity: 80%;'\", :y2 => 376, :x1 => 0), Servable[], \"line\"), Component{:g}(\"plotbase\", Toolips.var\"#f#80\"{String, String, Dict{Any, Any}, Vector{Servable}}(\"plotbase\", \"g\", Dict{Any, Any}(:children => Servable[], :height => 500, :width => 500), Servable[]), Dict{Any, Any}(:children => Servable[], :height => 500, :width => 500), Servable[], \"g\"), Component{:circle}(\"jiiuv0r9\", Toolips.var\"#f#80\"{String, String, Dict{Any, Any}, Vector{Servable}}(\"jiiuv0r9\", \"circle\", Dict{Any, Any}(:children => Servable[], :cx => \"166.66666666666666\", \"style\" => \"'fill: orange;stroke: lightblue;stroke-width: 0;'\", :r => \"5\", :cy => \"333.33333333333337\"), Servable[]), Dict{Any, Any}(:children => Servable[], :cx => \"166.66666666666666\", \"style\" => \"'fill: orange;stroke: lightblue;stroke-width: 0;'\", :r => \"5\", :cy => \"333.33333333333337\"), Servable[], \"circle\"), Component{:circle}(\"e7zdNSI4\", Toolips.var\"#f#80\"{String, String, Dict{Any, Any}, Vector{Servable}}(\"e7zdNSI4\", \"circle\", Dict{Any, Any}(:children => Servable[], :cx => \"333.3333333333333\", \"style\" => \"'fill: orange;stroke: lightblue;stroke-width: 0;'\", :r => \"5\", :cy => \"166.66666666666669\"), Servable[]), Dict{Any, Any}(:children => Servable[], :cx => \"333.3333333333333\", \"style\" => \"'fill: orange;stroke: lightblue;stroke-width: 0;'\", :r => \"5\", :cy => \"166.66666666666669\"), Servable[], \"circle\"), Component{:circle}(\"OolPMMdU\", Toolips.var\"#f#80\"{String, String, Dict{Any, Any}, Vector{Servable}}(\"OolPMMdU\", \"circle\", Dict{Any, Any}(:children => Servable[], :cx => \"500.0\", \"style\" => \"'fill: orange;stroke: lightblue;stroke-width: 0;'\", :r => \"5\", :cy => \"0.0\"), Servable[]), Dict{Any, Any}(:children => Servable[], :cx => \"500.0\", \"style\" => \"'fill: orange;stroke: lightblue;stroke-width: 0;'\", :r => \"5\", :cy => \"0.0\"), Servable[], \"circle\"), Component{:g}(\"points\", Toolips.var\"#f#80\"{String, String, Dict{Any, Any}, Vector{Servable}}(\"points\", \"g\", Dict{Any, Any}(:children => Servable[], :height => 500, :width => 500), Servable[]), Dict{Any, Any}(:children => Servable[], :height => 500, :width => 500), Servable[], \"g\")], :height => 500, :width => 500), Servable[]), Dict{Any, Any}(:children => Servable[Component{:line}(\"r9F0YEZi\", Toolips.var\"#f#80\"{String, String, Dict{Any, Any}, Vector{Servable}}(\"r9F0YEZi\", \"line\", Dict{Any, Any}(:children => Servable[], :y1 => 500, :x2 => 500, \"style\" => \"'fill: none;stroke: black;stroke-width: 4;'\", :y2 => 500, :x1 => 0), Servable[]), Dict{Any, Any}(:children => Servable[], :y1 => 500, :x2 => 500, \"style\" => \"'fill: none;stroke: black;stroke-width: 4;'\", :y2 => 500, :x1 => 0), Servable[], \"line\"), Component{:line}(\"bRBVqJss\", Toolips.var\"#f#80\"{String, String, Dict{Any, Any}, Vector{Servable}}(\"bRBVqJss\", \"line\", Dict{Any, Any}(:children => Servable[], :y1 => 0, :x2 => 0, \"style\" => \"'fill: none;stroke: black;stroke-width: 4;'\", :y2 => 500, :x1 => 0), Servable[]), Dict{Any, Any}(:children => Servable[], :y1 => 0, :x2 => 0, \"style\" => \"'fill: none;stroke: black;stroke-width: 4;'\", :y2 => 500, :x1 => 0), Servable[], \"line\"), Component{:line}(\"Z3Fk6g4Q\", Toolips.var\"#f#80\"{String, String, Dict{Any, Any}, Vector{Servable}}(\"Z3Fk6g4Q\", \"line\", Dict{Any, Any}(:children => Servable[], :y1 => 0, :x2 => 1, \"style\" => \"'fill: none;stroke: lightblue;stroke-width: 1;opacity: 80%;'\", :y2 => 500, :x1 => 1), Servable[]), Dict{Any, Any}(:children => Servable[], :y1 => 0, :x2 => 1, \"style\" => \"'fill: none;stroke: lightblue;stroke-width: 1;opacity: 80%;'\", :y2 => 500, :x1 => 1), Servable[], \"line\"), Component{:line}(\"8zHPY3ds\", Toolips.var\"#f#80\"{String, String, Dict{Any, Any}, Vector{Servable}}(\"8zHPY3ds\", \"line\", Dict{Any, Any}(:children => Servable[], :y1 => 1, :x2 => 500, \"style\" => \"'fill: none;stroke: lightblue;stroke-width: 1;opacity: 80%;'\", :y2 => 1, :x1 => 0), Servable[]), Dict{Any, Any}(:children => Servable[], :y1 => 1, :x2 => 500, \"style\" => \"'fill: none;stroke: lightblue;stroke-width: 1;opacity: 80%;'\", :y2 => 1, :x1 => 0), Servable[], \"line\"), Component{:line}(\"qbWcTD34\", Toolips.var\"#f#80\"{String, String, Dict{Any, Any}, Vector{Servable}}(\"qbWcTD34\", \"line\", Dict{Any, Any}(:children => Servable[], :y1 => 0, :x2 => 126, \"style\" => \"'fill: none;stroke: lightblue;stroke-width: 1;opacity: 80%;'\", :y2 => 500, :x1 => 126), Servable[]), Dict{Any, Any}(:children => Servable[], :y1 => 0, :x2 => 126, \"style\" => \"'fill: none;stroke: lightblue;stroke-width: 1;opacity: 80%;'\", :y2 => 500, :x1 => 126), Servable[], \"line\"), Component{:line}(\"R7reYAYH\", Toolips.var\"#f#80\"{String, String, Dict{Any, Any}, Vector{Servable}}(\"R7reYAYH\", \"line\", Dict{Any, Any}(:children => Servable[], :y1 => 126, :x2 => 500, \"style\" => \"'fill: none;stroke: lightblue;stroke-width: 1;opacity: 80%;'\", :y2 => 126, :x1 => 0), Servable[]), Dict{Any, Any}(:children => Servable[], :y1 => 126, :x2 => 500, \"style\" => \"'fill: none;stroke: lightblue;stroke-width: 1;opacity: 80%;'\", :y2 => 126, :x1 => 0), Servable[], \"line\"), Component{:line}(\"0cszb5of\", Toolips.var\"#f#80\"{String, String, Dict{Any, Any}, Vector{Servable}}(\"0cszb5of\", \"line\", Dict{Any, Any}(:children => Servable[], :y1 => 0, :x2 => 251, \"style\" => \"'fill: none;stroke: lightblue;stroke-width: 1;opacity: 80%;'\", :y2 => 500, :x1 => 251), Servable[]), Dict{Any, Any}(:children => Servable[], :y1 => 0, :x2 => 251, \"style\" => \"'fill: none;stroke: lightblue;stroke-width: 1;opacity: 80%;'\", :y2 => 500, :x1 => 251), Servable[], \"line\"), Component{:line}(\"p1MLzXRM\", Toolips.var\"#f#80\"{String, String, Dict{Any, Any}, Vector{Servable}}(\"p1MLzXRM\", \"line\", Dict{Any, Any}(:children => Servable[], :y1 => 251, :x2 => 500, \"style\" => \"'fill: none;stroke: lightblue;stroke-width: 1;opacity: 80%;'\", :y2 => 251, :x1 => 0), Servable[]), Dict{Any, Any}(:children => Servable[], :y1 => 251, :x2 => 500, \"style\" => \"'fill: none;stroke: lightblue;stroke-width: 1;opacity: 80%;'\", :y2 => 251, :x1 => 0), Servable[], \"line\"), Component{:line}(\"8Ju9dL8d\", Toolips.var\"#f#80\"{String, String, Dict{Any, Any}, Vector{Servable}}(\"8Ju9dL8d\", \"line\", Dict{Any, Any}(:children => Servable[], :y1 => 0, :x2 => 376, \"style\" => \"'fill: none;stroke: lightblue;stroke-width: 1;opacity: 80%;'\", :y2 => 500, :x1 => 376), Servable[]), Dict{Any, Any}(:children => Servable[], :y1 => 0, :x2 => 376, \"style\" => \"'fill: none;stroke: lightblue;stroke-width: 1;opacity: 80%;'\", :y2 => 500, :x1 => 376), Servable[], \"line\"), Component{:line}(\"t219T9ks\", Toolips.var\"#f#80\"{String, String, Dict{Any, Any}, Vector{Servable}}(\"t219T9ks\", \"line\", Dict{Any, Any}(:children => Servable[], :y1 => 376, :x2 => 500, \"style\" => \"'fill: none;stroke: lightblue;stroke-width: 1;opacity: 80%;'\", :y2 => 376, :x1 => 0), Servable[]), Dict{Any, Any}(:children => Servable[], :y1 => 376, :x2 => 500, \"style\" => \"'fill: none;stroke: lightblue;stroke-width: 1;opacity: 80%;'\", :y2 => 376, :x1 => 0), Servable[], \"line\"), Component{:g}(\"plotbase\", Toolips.var\"#f#80\"{String, String, Dict{Any, Any}, Vector{Servable}}(\"plotbase\", \"g\", Dict{Any, Any}(:children => Servable[], :height => 500, :width => 500), Servable[]), Dict{Any, Any}(:children => Servable[], :height => 500, :width => 500), Servable[], \"g\"), Component{:circle}(\"jiiuv0r9\", Toolips.var\"#f#80\"{String, String, Dict{Any, Any}, Vector{Servable}}(\"jiiuv0r9\", \"circle\", Dict{Any, Any}(:children => Servable[], :cx => \"166.66666666666666\", \"style\" => \"'fill: orange;stroke: lightblue;stroke-width: 0;'\", :r => \"5\", :cy => \"333.33333333333337\"), Servable[]), Dict{Any, Any}(:children => Servable[], :cx => \"166.66666666666666\", \"style\" => \"'fill: orange;stroke: lightblue;stroke-width: 0;'\", :r => \"5\", :cy => \"333.33333333333337\"), Servable[], \"circle\"), Component{:circle}(\"e7zdNSI4\", Toolips.var\"#f#80\"{String, String, Dict{Any, Any}, Vector{Servable}}(\"e7zdNSI4\", \"circle\", Dict{Any, Any}(:children => Servable[], :cx => \"333.3333333333333\", \"style\" => \"'fill: orange;stroke: lightblue;stroke-width: 0;'\", :r => \"5\", :cy => \"166.66666666666669\"), Servable[]), Dict{Any, Any}(:children => Servable[], :cx => \"333.3333333333333\", \"style\" => \"'fill: orange;stroke: lightblue;stroke-width: 0;'\", :r => \"5\", :cy => \"166.66666666666669\"), Servable[], \"circle\"), Component{:circle}(\"OolPMMdU\", Toolips.var\"#f#80\"{String, String, Dict{Any, Any}, Vector{Servable}}(\"OolPMMdU\", \"circle\", Dict{Any, Any}(:children => Servable[], :cx => \"500.0\", \"style\" => \"'fill: orange;stroke: lightblue;stroke-width: 0;'\", :r => \"5\", :cy => \"0.0\"), Servable[]), Dict{Any, Any}(:children => Servable[], :cx => \"500.0\", \"style\" => \"'fill: orange;stroke: lightblue;stroke-width: 0;'\", :r => \"5\", :cy => \"0.0\"), Servable[], \"circle\"), Component{:g}(\"points\", Toolips.var\"#f#80\"{String, String, Dict{Any, Any}, Vector{Servable}}(\"points\", \"g\", Dict{Any, Any}(:children => Servable[], :height => 500, :width => 500), Servable[]), Dict{Any, Any}(:children => Servable[], :height => 500, :width => 500), Servable[], \"g\")], :height => 500, :width => 500), Servable[], \"svg\"), \"XdrzeRas\", Dict{String, UnitRange{Int64}}(\"cJL4L8DC\" => 1:1, \"points\" => 15:15, \"AcnpBD2J\" => 3:3, \"eiagefAO\" => 6:6, \"5ccuVoah\" => 12:12, \"plotbase\" => 11:11, \"bU8EJfXv\" => 4:4, \"1f93PQL9\" => 8:8, \"uOplfvjA\" => 2:2, \"Wkfqqhoo\" => 5:5…), 500 => 500, 0 => 0)"
      ]
     },
     "execution_count": 58,
     "metadata": {},
     "output_type": "execute_result"
    }
   ],
   "source": [
    "d = scatter([5, 10, 15], [5, 10, 15])"
   ]
  },
  {
   "cell_type": "code",
   "execution_count": 59,
   "metadata": {},
   "outputs": [],
   "source": [
    "import Base: display, show"
   ]
  },
  {
   "cell_type": "code",
   "execution_count": 60,
   "metadata": {},
   "outputs": [
    {
     "data": {
      "text/plain": [
       "display (generic function with 36 methods)"
      ]
     },
     "execution_count": 60,
     "metadata": {},
     "output_type": "execute_result"
    }
   ],
   "source": [
    "function display(m::MIME{Symbol(\"text/html\")}, con::AbstractContext)\n",
    "    display(MIME\"text/html\", con.window)\n",
    "end"
   ]
  },
  {
   "cell_type": "code",
   "execution_count": 61,
   "metadata": {},
   "outputs": [
    {
     "data": {
      "text/plain": [
       "show (generic function with 400 methods)"
      ]
     },
     "execution_count": 61,
     "metadata": {},
     "output_type": "execute_result"
    }
   ],
   "source": [
    "function show(io::IO, con::AbstractContext)\n",
    "    display(MIME\"text/html\"(), con.window)\n",
    "end"
   ]
  },
  {
   "cell_type": "code",
   "execution_count": 62,
   "metadata": {},
   "outputs": [
    {
     "data": {
      "text/plain": [
       "Dict{String, UnitRange{Int64}} with 15 entries:\n",
       "  \"cJL4L8DC\" => 1:1\n",
       "  \"points\"   => 15:15\n",
       "  \"AcnpBD2J\" => 3:3\n",
       "  \"eiagefAO\" => 6:6\n",
       "  \"5ccuVoah\" => 12:12\n",
       "  \"plotbase\" => 11:11\n",
       "  \"bU8EJfXv\" => 4:4\n",
       "  \"1f93PQL9\" => 8:8\n",
       "  \"uOplfvjA\" => 2:2\n",
       "  \"Wkfqqhoo\" => 5:5\n",
       "  \"bCqJ1nle\" => 13:13\n",
       "  \"6JuCfCcw\" => 10:10\n",
       "  \"ptFNGgEe\" => 9:9\n",
       "  \"8QTo6Z96\" => 7:7\n",
       "  \"pS1dD5VM\" => 14:14"
      ]
     },
     "execution_count": 62,
     "metadata": {},
     "output_type": "execute_result"
    }
   ],
   "source": [
    "d.layers"
   ]
  },
  {
   "cell_type": "code",
   "execution_count": null,
   "metadata": {},
   "outputs": [],
   "source": []
  }
 ],
 "metadata": {
  "kernelspec": {
   "display_name": "Julia 1.7.2",
   "language": "julia",
   "name": "julia-1.7"
  },
  "language_info": {
   "file_extension": ".jl",
   "mimetype": "application/julia",
   "name": "julia",
   "version": "1.7.2"
  }
 },
 "nbformat": 4,
 "nbformat_minor": 4
}
