{
 "cells": [
  {
   "cell_type": "code",
   "execution_count": 9,
   "id": "0f517d39",
   "metadata": {},
   "outputs": [
    {
     "name": "stderr",
     "output_type": "stream",
     "text": [
      "\u001b[32m\u001b[1m  Activating\u001b[22m\u001b[39m project at `~/dev/packages/julia/toolips/testenv`\n",
      "\u001b[32m\u001b[1m   Resolving\u001b[22m\u001b[39m package versions...\n",
      "\u001b[32m\u001b[1m  No Changes\u001b[22m\u001b[39m to `~/dev/packages/julia/toolips/testenv/Project.toml`\n",
      "\u001b[32m\u001b[1m  No Changes\u001b[22m\u001b[39m to `~/dev/packages/julia/toolips/testenv/Manifest.toml`\n"
     ]
    }
   ],
   "source": [
    "using Pkg\n",
    "Pkg.activate(\"testenv\")\n",
    "Pkg.develop(path = \"./ToolipsSVG.jl\")"
   ]
  },
  {
   "cell_type": "code",
   "execution_count": 34,
   "id": "3a58dc91",
   "metadata": {},
   "outputs": [
    {
     "name": "stdout",
     "output_type": "stream",
     "text": [
      "\u001b[32m\u001b[1mStatus\u001b[22m\u001b[39m `~/dev/packages/julia/toolips/testenv/Project.toml`\n",
      "  \u001b[90m[8ae86ec9] \u001b[39mToolipsSVG v0.1.0 `../ToolipsSVG.jl`\n"
     ]
    }
   ],
   "source": [
    "Pkg.status()"
   ]
  },
  {
   "cell_type": "code",
   "execution_count": 35,
   "id": "c4cd69eb",
   "metadata": {},
   "outputs": [],
   "source": [
    "Pkg.instantiate()"
   ]
  },
  {
   "cell_type": "code",
   "execution_count": 36,
   "id": "7e129b00",
   "metadata": {},
   "outputs": [],
   "source": [
    "using Revise"
   ]
  },
  {
   "cell_type": "code",
   "execution_count": 78,
   "id": "758524f0",
   "metadata": {},
   "outputs": [],
   "source": [
    "using ToolipsSVG\n",
    "using ToolipsSVG.Toolips"
   ]
  },
  {
   "cell_type": "code",
   "execution_count": 134,
   "id": "770c064a",
   "metadata": {},
   "outputs": [
    {
     "data": {
      "text/plain": [
       "star (generic function with 1 method)"
      ]
     },
     "execution_count": 134,
     "metadata": {},
     "output_type": "execute_result"
    }
   ],
   "source": [
    "function star(name::String, p::Pair{String, <:Any} ...; x = 0, y = 0, points = 5, \n",
    "        outer_radius::Int64 = 100, inner_radius::Int64 = 200, \n",
    "        angle::Number = pi / points, args ...)\n",
    "    step = pi / points\n",
    "    points = join([begin\n",
    "        r = e%2 == 0 ? inner_radius : outer_radius\n",
    "        posx = x + r * cos(i)\n",
    "        posy = y + r * sin(i)\n",
    "        \"$posx $posy\"\n",
    "    end for (e, i) in enumerate(range(0, step * (points * 2), step = step))], \",\")\n",
    "    comp = Component(name, \"star\", \"points\" => \"'$points'\", p ..., args ...)\n",
    "    comp.tag = \"polygon\"\n",
    "    comp[:x], comp[:y] = x, y\n",
    "    comp[:r] = outer_radius\n",
    "    comp::Component{:star}\n",
    "end"
   ]
  },
  {
   "cell_type": "code",
   "execution_count": 135,
   "id": "be8f852b",
   "metadata": {},
   "outputs": [
    {
     "data": {
      "text/html": [
       "\"<polygon id=newstar points='160.0 150.0,154.04508497187473 152.93892626146237,153.0901699437495 159.51056516295154,148.45491502812527 154.75528258147577,141.90983005625054 155.87785252292474,145.0 150.0,141.9098300562505 144.12214747707526,148.45491502812527 145.24471741852423,153.09016994374946 140.48943483704846,154.04508497187473 147.06107373853763,160.0 150.0' y=150 r=10 x=150></polygon>\""
      ],
      "text/plain": [
       "Component{:star}(\"newstar\", Dict{Any, Any}(\"points\" => \"'160.0 150.0,154.04508497187473 152.93892626146237,153.0901699437495 159.51056516295154,148.45491502812527 154.75528258147577,141.90983005625054 155.87785252292474,145.0 150.0,141.9098300562505 144.12214747707526,148.45491502812527 145.24471741852423,153.09016994374946 140.48943483704846,154.04508497187473 147.06107373853763,160.0 150.0'\", :children => Servable[], :y => 150, :r => 10, :x => 150), Servable[], \"polygon\")"
      ]
     },
     "execution_count": 135,
     "metadata": {},
     "output_type": "execute_result"
    }
   ],
   "source": [
    "mystar = star(\"newstar\", x = 150, y = 150, inner_radius = 5, outer_radius = 10)"
   ]
  },
  {
   "cell_type": "code",
   "execution_count": 136,
   "id": "9cf39b62",
   "metadata": {},
   "outputs": [
    {
     "data": {
      "text/html": [
       "\"<svg id=mywindow height=200 width=200></svg>\""
      ],
      "text/plain": [
       "Component{:svg}(\"mywindow\", Dict{Any, Any}(:children => Servable[], :height => 200, :width => 200), Servable[], \"svg\")"
      ]
     },
     "execution_count": 136,
     "metadata": {},
     "output_type": "execute_result"
    }
   ],
   "source": [
    "newwindow = ToolipsSVG.svg(\"mywindow\", width = 200, height = 200)"
   ]
  },
  {
   "cell_type": "code",
   "execution_count": 137,
   "id": "0854ec35",
   "metadata": {},
   "outputs": [
    {
     "data": {
      "text/plain": [
       "1-element Vector{Vector{Servable}}:\n",
       " [Component{:star}(\"newstar\", Dict{Any, Any}(\"points\" => \"'160.0 150.0,154.04508497187473 152.93892626146237,153.0901699437495 159.51056516295154,148.45491502812527 154.75528258147577,141.90983005625054 155.87785252292474,145.0 150.0,141.9098300562505 144.12214747707526,148.45491502812527 145.24471741852423,153.09016994374946 140.48943483704846,154.04508497187473 147.06107373853763,160.0 150.0'\", :children => Servable[], :y => 150, :r => 10, :x => 150), Servable[], \"polygon\")]"
      ]
     },
     "execution_count": 137,
     "metadata": {},
     "output_type": "execute_result"
    }
   ],
   "source": [
    "push!(newwindow, mystar)"
   ]
  },
  {
   "cell_type": "code",
   "execution_count": 138,
   "id": "9cadf6a9",
   "metadata": {},
   "outputs": [
    {
     "data": {
      "text/html": [
       "\"<svg id=mywindow height=200 width=200><polygon id=newstar points='160.0 150.0,154.04508497187473 152.93892626146237,153.0901699437495 159.51056516295154,148.45491502812527 154.75528258147577,141.90983005625054 155.87785252292474,145.0 150.0,141.9098300562505 144.12214747707526,148.45491502812527 145.24471741852423,153.09016994374946 140.48943483704846,154.04508497187473 147.06107373853763,160.0 150.0' y=150 r=10 x=150></polygon></svg>\""
      ],
      "text/plain": [
       "Component{:svg}(\"mywindow\", Dict{Any, Any}(:children => Servable[Component{:star}(\"newstar\", Dict{Any, Any}(\"points\" => \"'160.0 150.0,154.04508497187473 152.93892626146237,153.0901699437495 159.51056516295154,148.45491502812527 154.75528258147577,141.90983005625054 155.87785252292474,145.0 150.0,141.9098300562505 144.12214747707526,148.45491502812527 145.24471741852423,153.09016994374946 140.48943483704846,154.04508497187473 147.06107373853763,160.0 150.0'\", :children => Servable[], :y => 150, :r => 10, :x => 150), Servable[], \"polygon\")], :height => 200, :width => 200), Servable[], \"svg\")"
      ]
     },
     "execution_count": 138,
     "metadata": {},
     "output_type": "execute_result"
    }
   ],
   "source": [
    "newwindow"
   ]
  },
  {
   "cell_type": "code",
   "execution_count": 139,
   "id": "bd8403de",
   "metadata": {},
   "outputs": [],
   "source": [
    "import ToolipsSVG: polygon"
   ]
  },
  {
   "cell_type": "code",
   "execution_count": 155,
   "id": "585be112",
   "metadata": {},
   "outputs": [
    {
     "data": {
      "text/plain": [
       "shape (generic function with 1 method)"
      ]
     },
     "execution_count": 155,
     "metadata": {},
     "output_type": "execute_result"
    }
   ],
   "source": [
    "function shape(name::String, p::Pair{String, <:Any} ...; x::Int64 = 0, y::Int64 = 0, \n",
    "        sides::Int64 = 3, r::Int64 = 100, angle = 2 * pi / sides, args ...)\n",
    "    points = join([begin\n",
    "        posx = r + r * sin(i * angle)\n",
    "        posy = y + r * cos(i * angle)\n",
    "        \"$posx $posy\"\n",
    "end for i in 1:sides], \",\")\n",
    "    comp = Component(name, \"shape\", \"points\" => \"'$points'\", p ..., args ...)\n",
    "    comp.tag = \"polygon\"\n",
    "    comp::Component{:shape}\n",
    "end"
   ]
  },
  {
   "cell_type": "code",
   "execution_count": 168,
   "id": "f776639f",
   "metadata": {},
   "outputs": [
    {
     "data": {
      "text/html": [
       "\"<polygon id=newshape points='9.330127018922193 27.5,9.330127018922195 22.5,5.000000000000001 20.0,0.6698729810778072 22.499999999999996,0.6698729810778046 27.499999999999996,4.999999999999999 30.0'></polygon>\""
      ],
      "text/plain": [
       "Component{:shape}(\"newshape\", Dict{Any, Any}(\"points\" => \"'9.330127018922193 27.5,9.330127018922195 22.5,5.000000000000001 20.0,0.6698729810778072 22.499999999999996,0.6698729810778046 27.499999999999996,4.999999999999999 30.0'\", :children => Servable[]), Servable[], \"polygon\")"
      ]
     },
     "execution_count": 168,
     "metadata": {},
     "output_type": "execute_result"
    }
   ],
   "source": [
    "newshape = shape(\"newshape\", x = 25, y = 25, sides = 6, r = 5)"
   ]
  },
  {
   "cell_type": "code",
   "execution_count": 169,
   "id": "cdc666c1",
   "metadata": {},
   "outputs": [
    {
     "data": {
      "text/plain": [
       "1-element Vector{Vector{Servable}}:\n",
       " [Component{:star}(\"newstar\", Dict{Any, Any}(\"points\" => \"'160.0 150.0,154.04508497187473 152.93892626146237,153.0901699437495 159.51056516295154,148.45491502812527 154.75528258147577,141.90983005625054 155.87785252292474,145.0 150.0,141.9098300562505 144.12214747707526,148.45491502812527 145.24471741852423,153.09016994374946 140.48943483704846,154.04508497187473 147.06107373853763,160.0 150.0'\", :children => Servable[], :y => 150, :r => 10, :x => 150), Servable[], \"polygon\"), Component{:shape}(\"newshape\", Dict{Any, Any}(\"points\" => \"'186.60254037844388 -24.99999999999998,13.397459621556152 -25.000000000000043,99.99999999999997 125.0'\", :children => Servable[]), Servable[], \"polygon\"), Component{:shape}(\"newshape\", Dict{Any, Any}(\"points\" => \"'189.3996663600558 -19.80736161291702,19.884736426616954 -34.846006905785806,82.39540535287887 123.43819506325049'\", :children => Servable[]), Servable[], \"polygon\"), Component{:shape}(\"newshape\", Dict{Any, Any}(\"points\" => \"'186.60254037844385 75.00000000000001,186.60254037844388 -24.99999999999998,100.00000000000001 -75.0,13.397459621556152 -25.000000000000043,13.397459621556095 74.99999999999994,99.99999999999997 125.0'\", :children => Servable[]), Servable[], \"polygon\"), Component{:shape}(\"newshape\", Dict{Any, Any}(\"points\" => \"'9.330127018922193 27.5,9.330127018922195 22.5,5.000000000000001 20.0,0.6698729810778072 22.499999999999996,0.6698729810778046 27.499999999999996,4.999999999999999 30.0'\", :children => Servable[]), Servable[], \"polygon\")]"
      ]
     },
     "execution_count": 169,
     "metadata": {},
     "output_type": "execute_result"
    }
   ],
   "source": [
    "push!(newwindow, newshape)"
   ]
  },
  {
   "cell_type": "code",
   "execution_count": 170,
   "id": "1f0bf17b",
   "metadata": {},
   "outputs": [
    {
     "data": {
      "text/html": [
       "\"<svg id=mywindow height=200 width=200><polygon id=newstar points='160.0 150.0,154.04508497187473 152.93892626146237,153.0901699437495 159.51056516295154,148.45491502812527 154.75528258147577,141.90983005625054 155.87785252292474,145.0 150.0,141.9098300562505 144.12214747707526,148.45491502812527 145.24471741852423,153.09016994374946 140.48943483704846,154.04508497187473 147.06107373853763,160.0 150.0' y=150 r=10 x=150></polygon><polygon id=newshape points='186.60254037844388 -24.99999999999998,13.397459621556152 -25.000000000000043,99.99999999999997 125.0'></polygon><polygon id=newshape points='189.3996663600558 -19.80736161291702,19.884736426616954 -34.846006905785806,82.39540535287887 123.43819506325049'></polygon><polygon id=newshape points='186.60254037844385 75.00000000000001,186.60254037844388 -24.99999999999998,100.00000000000001 -75.0,13.397459621556152 -25.000000000000043,13.397459621556095 74.99999999999994,99.99999999999997 125.0'></polygon><polygon id=newshape points='9.330127018922193 27.5,9.330127018922195 22.5,5.000000000000001 20.0,0.6698729810778072 22.499999999999996,0.6698729810778046 27.499999999999996,4.999999999999999 30.0'></polygon></svg>\""
      ],
      "text/plain": [
       "Component{:svg}(\"mywindow\", Dict{Any, Any}(:children => Servable[Component{:star}(\"newstar\", Dict{Any, Any}(\"points\" => \"'160.0 150.0,154.04508497187473 152.93892626146237,153.0901699437495 159.51056516295154,148.45491502812527 154.75528258147577,141.90983005625054 155.87785252292474,145.0 150.0,141.9098300562505 144.12214747707526,148.45491502812527 145.24471741852423,153.09016994374946 140.48943483704846,154.04508497187473 147.06107373853763,160.0 150.0'\", :children => Servable[], :y => 150, :r => 10, :x => 150), Servable[], \"polygon\"), Component{:shape}(\"newshape\", Dict{Any, Any}(\"points\" => \"'186.60254037844388 -24.99999999999998,13.397459621556152 -25.000000000000043,99.99999999999997 125.0'\", :children => Servable[]), Servable[], \"polygon\"), Component{:shape}(\"newshape\", Dict{Any, Any}(\"points\" => \"'189.3996663600558 -19.80736161291702,19.884736426616954 -34.846006905785806,82.39540535287887 123.43819506325049'\", :children => Servable[]), Servable[], \"polygon\"), Component{:shape}(\"newshape\", Dict{Any, Any}(\"points\" => \"'186.60254037844385 75.00000000000001,186.60254037844388 -24.99999999999998,100.00000000000001 -75.0,13.397459621556152 -25.000000000000043,13.397459621556095 74.99999999999994,99.99999999999997 125.0'\", :children => Servable[]), Servable[], \"polygon\"), Component{:shape}(\"newshape\", Dict{Any, Any}(\"points\" => \"'9.330127018922193 27.5,9.330127018922195 22.5,5.000000000000001 20.0,0.6698729810778072 22.499999999999996,0.6698729810778046 27.499999999999996,4.999999999999999 30.0'\", :children => Servable[]), Servable[], \"polygon\")], :height => 200, :width => 200), Servable[], \"svg\")"
      ]
     },
     "execution_count": 170,
     "metadata": {},
     "output_type": "execute_result"
    }
   ],
   "source": [
    "newwindow"
   ]
  },
  {
   "cell_type": "code",
   "execution_count": 171,
   "id": "cff3b31e",
   "metadata": {},
   "outputs": [],
   "source": [
    "import ToolipsSVG: size, position"
   ]
  },
  {
   "cell_type": "code",
   "execution_count": null,
   "id": "ba10208d",
   "metadata": {},
   "outputs": [],
   "source": [
    "size(comp)"
   ]
  },
  {
   "cell_type": "code",
   "execution_count": null,
   "id": "af44e78e",
   "metadata": {},
   "outputs": [],
   "source": []
  },
  {
   "cell_type": "code",
   "execution_count": null,
   "id": "3cc37954",
   "metadata": {},
   "outputs": [],
   "source": []
  }
 ],
 "metadata": {
  "kernelspec": {
   "display_name": "Julia 1.9.2",
   "language": "julia",
   "name": "julia-1.9"
  },
  "language_info": {
   "file_extension": ".jl",
   "mimetype": "application/julia",
   "name": "julia",
   "version": "1.9.2"
  }
 },
 "nbformat": 4,
 "nbformat_minor": 5
}
