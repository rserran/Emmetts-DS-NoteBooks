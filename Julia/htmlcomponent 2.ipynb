{
 "cells": [
  {
   "cell_type": "code",
   "execution_count": 1,
   "id": "6cd87dd4",
   "metadata": {},
   "outputs": [],
   "source": [
    "# that's it, we're writing a new htmlcomponent.\n",
    "using Toolips"
   ]
  },
  {
   "cell_type": "code",
   "execution_count": 2,
   "id": "7bf6ec97",
   "metadata": {},
   "outputs": [
    {
     "data": {
      "text/plain": [
       "\"<div id=\\\"hello\\\" name=\\\"two\\\">hello</div><button id=\\\"hi\\\" test=\\\"one\\\"></button>\""
      ]
     },
     "execution_count": 2,
     "metadata": {},
     "output_type": "execute_result"
    }
   ],
   "source": [
    "testhtml = \"\"\"<div id=\"hello\" name=\"two\">hello</div><button id=\"hi\" test=\"one\"></button>\"\"\""
   ]
  },
  {
   "cell_type": "code",
   "execution_count": 69,
   "id": "67e1d17e",
   "metadata": {},
   "outputs": [
    {
     "data": {
      "text/plain": [
       "htmlcomponent (generic function with 1 method)"
      ]
     },
     "execution_count": 69,
     "metadata": {},
     "output_type": "execute_result"
    }
   ],
   "source": [
    "function htmlcomponent(s::String)\n",
    "    splits::Vector{SubString} = split(s, \"><\")\n",
    "    filter(x -> ~(isnothing(x)), [begin\n",
    "        tagnd = findfirst(\" \", element)\n",
    "        if ~(isnothing(tagnd))\n",
    "            tagstart = 1\n",
    "            if contains(element, \"<\")\n",
    "                tagstart = 2\n",
    "            end\n",
    "            tag = element[tagstart:minimum(tagnd) - 1]\n",
    "            properties, name = html_properties(element[minimum(tagnd):length(element)])\n",
    "            Component(name, string(tag), properties)  \n",
    "        else\n",
    "            nothing\n",
    "        end\n",
    "    end for element in splits[1:(length(splits) - 1)]])\n",
    "end"
   ]
  },
  {
   "cell_type": "code",
   "execution_count": 74,
   "id": "6e2a1efd",
   "metadata": {},
   "outputs": [
    {
     "data": {
      "text/plain": [
       "html_properties (generic function with 1 method)"
      ]
     },
     "execution_count": 74,
     "metadata": {},
     "output_type": "execute_result"
    }
   ],
   "source": [
    "function html_properties(s::AbstractString)\n",
    "    propvec::Vector{SubString} = split(s, \" \")\n",
    "    fulltxt::String = \"\"\n",
    "    properties::Dict{Any, Any} = Dict{Any, Any}(begin\n",
    "    ppair::Vector{SubString} = split(segment, \"=\")\n",
    "    if length(ppair) < 2\n",
    "        string(ppair[1]) => string(ppair[1])\n",
    "    else\n",
    "        if e == length(propvec)\n",
    "            txtstart = findfirst(\">\", ppair[2])\n",
    "            if ~(isnothing(txtstart))\n",
    "                txtnd = findlast(\"<\", ppair[2])[1] - 1\n",
    "                fulltxt = ppair[2][txtstart[1] + 1:txtnd]\n",
    "                println(\"TEXT: $fulltxt\")\n",
    "                lastprop = ppair[2][1:txtstart[1] - 1]\n",
    "                println(\"PROPERTY: $lastprop\")\n",
    "                string(ppair[1]) => string(replace(lastprop, \"\\\"\" => \"\"))\n",
    "            else\n",
    "                string(ppair[1]) => string(replace(string(ppair[2]), \"\\\"\" => \"\"))\n",
    "            end\n",
    "        else\n",
    "            string(ppair[1]) => string(replace(string(ppair[2]), \"\\\"\" => \"\"))\n",
    "        end\n",
    "    end\n",
    "    end for (e, segment) in enumerate(propvec))\n",
    "    push!(properties, \"text\" => fulltxt)\n",
    "    name = \"\"\n",
    "    if \" id\" in keys(properties)\n",
    "        name = properties[\" id\"]\n",
    "    end\n",
    "    delete!(properties, \" id\")\n",
    "    properties, name\n",
    "end"
   ]
  },
  {
   "cell_type": "code",
   "execution_count": 75,
   "id": "86b28476",
   "metadata": {},
   "outputs": [
    {
     "name": "stdout",
     "output_type": "stream",
     "text": [
      "TEXT: hello\n",
      "PROPERTY: \"two\"\n"
     ]
    },
    {
     "data": {
      "text/plain": [
       "2-element Vector{Component}:\n",
       " Component{:div}(\"\", Dict{Any, Any}(\"name\" => \"two\", :children => Servable[], \"id\" => \"hello\", \"\" => \"\", \"text\" => \"hello\"), Servable[], \"div\")\n",
       " Component{:button}(\"\", Dict{Any, Any}(:children => Servable[], \"test\" => \"one\", \"id\" => \"hi\", \"\" => \"\", \"text\" => \"\"), Servable[], \"button\")"
      ]
     },
     "execution_count": 75,
     "metadata": {},
     "output_type": "execute_result"
    }
   ],
   "source": [
    "comps = htmlcomponent(testhtml)"
   ]
  },
  {
   "cell_type": "code",
   "execution_count": 76,
   "id": "2d3154e4",
   "metadata": {
    "scrolled": true
   },
   "outputs": [
    {
     "data": {
      "text/plain": [
       "Dict{Any, Any} with 5 entries:\n",
       "  \"name\"    => \"two\"\n",
       "  :children => Servable[]\n",
       "  \"id\"      => \"hello\"\n",
       "  \"\"        => \"\"\n",
       "  \"text\"    => \"hello\""
      ]
     },
     "execution_count": 76,
     "metadata": {},
     "output_type": "execute_result"
    }
   ],
   "source": [
    "comps[1].properties"
   ]
  },
  {
   "cell_type": "code",
   "execution_count": 77,
   "id": "5ad14d5c",
   "metadata": {},
   "outputs": [
    {
     "data": {
      "text/plain": [
       "\"<!doctype html><html itemscope=\\\"\\\" itemtype=\\\"http://schema.org/WebPage\\\" lang=\\\"en\\\"><head><meta content=\\\"Search the world's information, including webpages, images, videos and more. Google has many special features to help you find exactly what you're looking for.\\\" name=\\\"d\" ⋯ 18688 bytes ⋯ \"closest(\\\"[jsname]\\\"))?void 0:C.getAttribute(\\\"jsname\\\")}google.log(\\\"rcm\\\",\\\"&ei=\\\"+c+\\\"&ved=\\\"+f+\\\"&jsname=\\\"+(a||\\\"\\\"))}}else F=a,E=[c]}window.document.addEventListener(\\\"DOMContentLoaded\\\",function(){document.body.addEventListener(\\\"click\\\",G)});}).call(this);</script></body></html>\""
      ]
     },
     "execution_count": 77,
     "metadata": {},
     "output_type": "execute_result"
    }
   ],
   "source": [
    "secondtest = Toolips.get(\"https://google.com\")"
   ]
  },
  {
   "cell_type": "code",
   "execution_count": 68,
   "id": "0f52f179",
   "metadata": {},
   "outputs": [
    {
     "ename": "LoadError",
     "evalue": "MethodError: no method matching getindex(::Nothing, ::Int64)",
     "output_type": "error",
     "traceback": [
      "MethodError: no method matching getindex(::Nothing, ::Int64)",
      "",
      "Stacktrace:",
      "  [1] #29",
      "    @ ./In[64]:12 [inlined]",
      "  [2] (::var\"#29#30\"{Vector{SubString}})(::Tuple{Int64, SubString{String}})",
      "    @ Main ./none:0",
      "  [3] iterate",
      "    @ ./generator.jl:47 [inlined]",
      "  [4] Dict{Any, Any}(kv::Base.Generator{Base.Iterators.Enumerate{Vector{SubString}}, var\"#29#30\"{Vector{SubString}}})",
      "    @ Base ./dict.jl:85",
      "  [5] html_properties",
      "    @ ./In[64]:4 [inlined]",
      "  [6] #3",
      "    @ ./In[3]:11 [inlined]",
      "  [7] (::var\"#3#4\")(element::SubString{String})",
      "    @ Main ./none:0",
      "  [8] iterate",
      "    @ ./generator.jl:47 [inlined]",
      "  [9] collect_to!(dest::Vector{Union{Nothing, Component}}, itr::Base.Generator{Vector{SubString}, var\"#3#4\"}, offs::Int64, st::Int64)",
      "    @ Base ./array.jl:840",
      " [10] collect_to!(dest::Vector{Component}, itr::Base.Generator{Vector{SubString}, var\"#3#4\"}, offs::Int64, st::Int64)",
      "    @ Base ./array.jl:848",
      " [11] collect_to!(dest::Vector{Component{Symbol(\"!doctype\")}}, itr::Base.Generator{Vector{SubString}, var\"#3#4\"}, offs::Int64, st::Int64)",
      "    @ Base ./array.jl:848",
      " [12] collect_to_with_first!(dest::Vector{Component{Symbol(\"!doctype\")}}, v1::Component{Symbol(\"!doctype\")}, itr::Base.Generator{Vector{SubString}, var\"#3#4\"}, st::Int64)",
      "    @ Base ./array.jl:818",
      " [13] collect(itr::Base.Generator{Vector{SubString}, var\"#3#4\"})",
      "    @ Base ./array.jl:792",
      " [14] htmlcomponent(s::String)",
      "    @ Main ./In[3]:3",
      " [15] top-level scope",
      "    @ In[68]:1"
     ]
    }
   ],
   "source": [
    "htmlcomponent(secondtest)"
   ]
  },
  {
   "cell_type": "code",
   "execution_count": null,
   "id": "2a81f67e",
   "metadata": {},
   "outputs": [],
   "source": []
  },
  {
   "cell_type": "code",
   "execution_count": null,
   "id": "39ca9812",
   "metadata": {},
   "outputs": [],
   "source": []
  },
  {
   "cell_type": "code",
   "execution_count": null,
   "id": "0d351e2b",
   "metadata": {},
   "outputs": [],
   "source": []
  },
  {
   "cell_type": "code",
   "execution_count": null,
   "id": "7bca3f69",
   "metadata": {},
   "outputs": [],
   "source": []
  }
 ],
 "metadata": {
  "kernelspec": {
   "display_name": "Julia 1.9.2",
   "language": "julia",
   "name": "julia-1.9"
  },
  "language_info": {
   "file_extension": ".jl",
   "mimetype": "application/julia",
   "name": "julia",
   "version": "1.9.2"
  }
 },
 "nbformat": 4,
 "nbformat_minor": 5
}
