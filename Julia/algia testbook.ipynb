{
 "cells": [
  {
   "cell_type": "code",
   "execution_count": 1,
   "id": "a82a9ac8",
   "metadata": {},
   "outputs": [
    {
     "name": "stderr",
     "output_type": "stream",
     "text": [
      "\u001b[32m\u001b[1m  Activating\u001b[22m\u001b[39m project at `~/dev/packages/julia/algia/Algia`\n"
     ]
    }
   ],
   "source": [
    "using Pkg; Pkg.activate(\".\")"
   ]
  },
  {
   "cell_type": "code",
   "execution_count": 2,
   "id": "738a6d6c",
   "metadata": {},
   "outputs": [],
   "source": [
    "using Revise"
   ]
  },
  {
   "cell_type": "code",
   "execution_count": 15,
   "id": "58f66580",
   "metadata": {},
   "outputs": [],
   "source": [
    "using Algia"
   ]
  },
  {
   "cell_type": "code",
   "execution_count": 28,
   "id": "30f752fd",
   "metadata": {},
   "outputs": [
    {
     "data": {
      "text/plain": [
       "AlgebraVector{Int64}(Algia.AlgebraIndex[Algia.AlgebraIndex(Algia.var\"#75#85\"(), 1:10, 1:1)], 10)"
      ]
     },
     "execution_count": 28,
     "metadata": {},
     "output_type": "execute_result"
    }
   ],
   "source": [
    "alg = Int64:10"
   ]
  },
  {
   "cell_type": "code",
   "execution_count": 29,
   "id": "d38774d7",
   "metadata": {},
   "outputs": [
    {
     "data": {
      "text/plain": [
       "Algebra{String, 5}(Algia.AlgebraIndex[Algia.AlgebraIndex(Algia.var\"#81#91\"(), 1:5, 1:5)], 5)"
      ]
     },
     "execution_count": 29,
     "metadata": {},
     "output_type": "execute_result"
    }
   ],
   "source": [
    "multialg = String:(5, 5)"
   ]
  },
  {
   "cell_type": "code",
   "execution_count": 42,
   "id": "c1b717b6",
   "metadata": {},
   "outputs": [
    {
     "data": {
      "text/plain": [
       "10-element Vector{Int64}:\n",
       " 1\n",
       " 0\n",
       " 0\n",
       " 0\n",
       " 0\n",
       " 0\n",
       " 0\n",
       " 0\n",
       " 0\n",
       " 0"
      ]
     },
     "execution_count": 42,
     "metadata": {},
     "output_type": "execute_result"
    }
   ],
   "source": [
    "[alg]"
   ]
  },
  {
   "cell_type": "code",
   "execution_count": 41,
   "id": "642c7e60",
   "metadata": {},
   "outputs": [
    {
     "data": {
      "text/plain": [
       "5×5 Matrix{String}:\n",
       " \"nothing\"  \"nothing\"  \"nothing\"  \"nothing\"  \"nothing\"\n",
       " \"nothing\"  \"nothing\"  \"nothing\"  \"nothing\"  \"nothing\"\n",
       " \"nothing\"  \"nothing\"  \"nothing\"  \"nothing\"  \"nothing\"\n",
       " \"nothing\"  \"nothing\"  \"nothing\"  \"nothing\"  \"nothing\"\n",
       " \"nothing\"  \"nothing\"  \"nothing\"  \"nothing\"  \"nothing\""
      ]
     },
     "execution_count": 41,
     "metadata": {},
     "output_type": "execute_result"
    }
   ],
   "source": [
    "[multialg]"
   ]
  },
  {
   "cell_type": "code",
   "execution_count": 32,
   "id": "cafdd4ad",
   "metadata": {},
   "outputs": [
    {
     "data": {
      "text/plain": [
       "AlgebraVector{Int64}(Algia.AlgebraIndex[Algia.AlgebraIndex(Algia.var\"#82#92\"{Vector{Int64}}([1, 2, 3]), 1:3, 1:1)], 3)"
      ]
     },
     "execution_count": 32,
     "metadata": {},
     "output_type": "execute_result"
    }
   ],
   "source": [
    "myvec = [1, 2, 3]\n",
    "newalg = Algebra(myvec)"
   ]
  },
  {
   "cell_type": "code",
   "execution_count": 33,
   "id": "9860b4cd",
   "metadata": {},
   "outputs": [
    {
     "data": {
      "text/plain": [
       "2-element Vector{Algia.AlgebraIndex}:\n",
       " Algia.AlgebraIndex(Algia.var\"#75#85\"(), 1:10, 1:1)\n",
       " Algia.AlgebraIndex(var\"#5#6\"(), 1:10, 1:1)"
      ]
     },
     "execution_count": 33,
     "metadata": {},
     "output_type": "execute_result"
    }
   ],
   "source": [
    "alg:x -> x[1] += 1"
   ]
  },
  {
   "cell_type": "code",
   "execution_count": 40,
   "id": "6d1857ba",
   "metadata": {},
   "outputs": [
    {
     "data": {
      "text/plain": [
       "10-element Vector{Int64}:\n",
       " 1\n",
       " 0\n",
       " 0\n",
       " 0\n",
       " 0\n",
       " 0\n",
       " 0\n",
       " 0\n",
       " 0\n",
       " 0"
      ]
     },
     "execution_count": 40,
     "metadata": {},
     "output_type": "execute_result"
    }
   ],
   "source": [
    "[alg]"
   ]
  },
  {
   "cell_type": "code",
   "execution_count": 44,
   "id": "7d7ac980",
   "metadata": {},
   "outputs": [
    {
     "data": {
      "text/plain": [
       "3-element Vector{Algia.AlgebraIndex}:\n",
       " Algia.AlgebraIndex(Algia.var\"#75#85\"(), 1:10, 1:1)\n",
       " Algia.AlgebraIndex(var\"#5#6\"(), 1:10, 1:1)\n",
       " Algia.AlgebraIndex(var\"#7#9\"(), 1:10, 1:1)"
      ]
     },
     "execution_count": 44,
     "metadata": {},
     "output_type": "execute_result"
    }
   ],
   "source": [
    "alg:x -> filter!(y -> y == 1, x)"
   ]
  },
  {
   "cell_type": "code",
   "execution_count": 45,
   "id": "9a559ad8",
   "metadata": {},
   "outputs": [
    {
     "data": {
      "text/plain": [
       "1-element Vector{Int64}:\n",
       " 1"
      ]
     },
     "execution_count": 45,
     "metadata": {},
     "output_type": "execute_result"
    }
   ],
   "source": [
    "[alg]"
   ]
  },
  {
   "cell_type": "code",
   "execution_count": 43,
   "id": "c1484509",
   "metadata": {},
   "outputs": [
    {
     "data": {
      "text/plain": [
       "4-element Vector{Algia.AlgebraIndex}:\n",
       " Algia.AlgebraIndex(Algia.var\"#3#7\"(), 1:10, 1:1)\n",
       " Algia.AlgebraIndex(var\"#29#30\"(), 1:10, 1:1)\n",
       " Algia.AlgebraIndex(var\"#31#33\"(), 1:10, 1:1)\n",
       " Algia.AlgebraIndex(var\"#35#36\"(), 1:1, 1:1)"
      ]
     },
     "execution_count": 43,
     "metadata": {},
     "output_type": "execute_result"
    }
   ],
   "source": [
    "alg:x -> x[1] += 1"
   ]
  },
  {
   "cell_type": "code",
   "execution_count": 22,
   "id": "779a4064",
   "metadata": {},
   "outputs": [
    {
     "data": {
      "text/plain": [
       "3-element Vector{Algia.AlgebraIndex}:\n",
       " Algia.AlgebraIndex(Algia.var\"#3#7\"(), 1:10, 1:1)\n",
       " Algia.AlgebraIndex(var\"#11#12\"(), 1:10, 1:1)\n",
       " Algia.AlgebraIndex(var\"#13#14\"(), 5:6, 1:1)"
      ]
     },
     "execution_count": 22,
     "metadata": {},
     "output_type": "execute_result"
    }
   ],
   "source": [
    "alg:(5:6, 1:1):x->x[1] += 2"
   ]
  },
  {
   "cell_type": "code",
   "execution_count": 23,
   "id": "9f663dfb",
   "metadata": {},
   "outputs": [
    {
     "data": {
      "text/plain": [
       "10-element Vector{Int64}:\n",
       " 1\n",
       " 0\n",
       " 0\n",
       " 0\n",
       " 2\n",
       " 0\n",
       " 0\n",
       " 0\n",
       " 0\n",
       " 0"
      ]
     },
     "execution_count": 23,
     "metadata": {},
     "output_type": "execute_result"
    }
   ],
   "source": [
    "myvec = [alg]"
   ]
  },
  {
   "cell_type": "code",
   "execution_count": 28,
   "id": "747fcde9",
   "metadata": {},
   "outputs": [
    {
     "data": {
      "text/plain": [
       "6-element Vector{Algia.AlgebraIndex}:\n",
       " Algia.AlgebraIndex(Algia.var\"#3#7\"(), 1:10, 1:1)\n",
       " Algia.AlgebraIndex(var\"#11#12\"(), 1:10, 1:1)\n",
       " Algia.AlgebraIndex(var\"#13#14\"(), 5:6, 1:1)\n",
       " Algia.AlgebraIndex(var\"#15#16\"(), 1:10, 1:1)\n",
       " Algia.AlgebraIndex(var\"#17#18\"(), 1:10, 1:1)\n",
       " Algia.AlgebraIndex(var\"#19#20\"(), 1:10, 1:1)"
      ]
     },
     "execution_count": 28,
     "metadata": {},
     "output_type": "execute_result"
    }
   ],
   "source": [
    "alg:x -> deleteat!(myvec, 1)"
   ]
  },
  {
   "cell_type": "code",
   "execution_count": 29,
   "id": "8e68a978",
   "metadata": {},
   "outputs": [
    {
     "data": {
      "text/plain": [
       "15-element Vector{Int64}:\n",
       " 0\n",
       " 0\n",
       " 0\n",
       " 0\n",
       " 1\n",
       " 0\n",
       " 0\n",
       " 0\n",
       " 2\n",
       " 0\n",
       " 0\n",
       " 0\n",
       " 0\n",
       " 0\n",
       " 0"
      ]
     },
     "execution_count": 29,
     "metadata": {},
     "output_type": "execute_result"
    }
   ],
   "source": [
    "[alg]"
   ]
  },
  {
   "cell_type": "code",
   "execution_count": 11,
   "id": "22534468",
   "metadata": {},
   "outputs": [
    {
     "data": {
      "text/plain": [
       "AlgebraVector{Int64}(Algia.AlgebraIndex[Algia.AlgebraIndex(Algia.var\"#4#8\"{Vector{Int64}}([1, 0, 0, 0, 2, 0, 0, 0, 0, 0, 0, 0, 0]), 1:13, 1:1)], 13)"
      ]
     },
     "execution_count": 11,
     "metadata": {},
     "output_type": "execute_result"
    }
   ],
   "source": [
    "newalg = Algebra(myvec)"
   ]
  },
  {
   "cell_type": "code",
   "execution_count": 12,
   "id": "1c388cdb",
   "metadata": {},
   "outputs": [
    {
     "data": {
      "text/plain": [
       "13-element Vector{Int64}:\n",
       " 1\n",
       " 0\n",
       " 0\n",
       " 0\n",
       " 2\n",
       " 0\n",
       " 0\n",
       " 0\n",
       " 0\n",
       " 0\n",
       " 0\n",
       " 0\n",
       " 0"
      ]
     },
     "execution_count": 12,
     "metadata": {},
     "output_type": "execute_result"
    }
   ],
   "source": [
    "[newalg]"
   ]
  },
  {
   "cell_type": "code",
   "execution_count": 13,
   "id": "40110c5c",
   "metadata": {},
   "outputs": [
    {
     "data": {
      "text/plain": [
       "Algebra{Int64, 5}(Algia.AlgebraIndex[Algia.AlgebraIndex(Algia.var\"#3#7\"(), 1:5, 1:5)], 5)"
      ]
     },
     "execution_count": 13,
     "metadata": {},
     "output_type": "execute_result"
    }
   ],
   "source": [
    "algm = Int64:(5, 5)"
   ]
  },
  {
   "cell_type": "code",
   "execution_count": 14,
   "id": "4959a43a",
   "metadata": {},
   "outputs": [
    {
     "data": {
      "text/plain": [
       "5×5 Matrix{Int64}:\n",
       " 0  0  0  0  0\n",
       " 0  0  0  0  0\n",
       " 0  0  0  0  0\n",
       " 0  0  0  0  0\n",
       " 0  0  0  0  0"
      ]
     },
     "execution_count": 14,
     "metadata": {},
     "output_type": "execute_result"
    }
   ],
   "source": [
    "[algm]"
   ]
  },
  {
   "cell_type": "code",
   "execution_count": 15,
   "id": "7f5eb0a2",
   "metadata": {},
   "outputs": [
    {
     "data": {
      "text/plain": [
       "2-element Vector{Algia.AlgebraIndex}:\n",
       " Algia.AlgebraIndex(Algia.var\"#3#7\"(), 1:5, 1:5)\n",
       " Algia.AlgebraIndex(var\"#9#10\"(), 2:3, 2:3)"
      ]
     },
     "execution_count": 15,
     "metadata": {},
     "output_type": "execute_result"
    }
   ],
   "source": [
    "algm:(2:3, 2:3):x -> begin\n",
    "    x[1] += 5\n",
    "    x[2] += 5\n",
    "    x[3] += 5\n",
    "end"
   ]
  },
  {
   "cell_type": "code",
   "execution_count": 16,
   "id": "fb1d395b",
   "metadata": {},
   "outputs": [
    {
     "data": {
      "text/plain": [
       "5×5 Matrix{Int64}:\n",
       " 0  0  0  0  0\n",
       " 0  5  5  0  0\n",
       " 0  5  0  0  0\n",
       " 0  0  0  0  0\n",
       " 0  0  0  0  0"
      ]
     },
     "execution_count": 16,
     "metadata": {},
     "output_type": "execute_result"
    }
   ],
   "source": [
    "[algm]"
   ]
  },
  {
   "cell_type": "code",
   "execution_count": null,
   "id": "0d4ab888",
   "metadata": {},
   "outputs": [],
   "source": []
  },
  {
   "cell_type": "code",
   "execution_count": null,
   "id": "3be3fe36",
   "metadata": {},
   "outputs": [],
   "source": []
  }
 ],
 "metadata": {
  "kernelspec": {
   "display_name": "Julia 1.9.2",
   "language": "julia",
   "name": "julia-1.9"
  },
  "language_info": {
   "file_extension": ".jl",
   "mimetype": "application/julia",
   "name": "julia",
   "version": "1.9.2"
  }
 },
 "nbformat": 4,
 "nbformat_minor": 5
}
