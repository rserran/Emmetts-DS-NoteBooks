{
 "cells": [
  {
   "cell_type": "markdown",
   "metadata": {},
   "source": [
    "# Environment"
   ]
  },
  {
   "cell_type": "code",
   "execution_count": 1,
   "metadata": {},
   "outputs": [
    {
     "name": "stderr",
     "output_type": "stream",
     "text": [
      "\u001b[32m\u001b[1m  Activating\u001b[22m\u001b[39m project at `~/dev/nbs/closures-in-action`\n",
      "\u001b[32m\u001b[1m    Updating\u001b[22m\u001b[39m registry at `~/.julia/registries/General.toml`\n",
      "\u001b[32m\u001b[1m   Resolving\u001b[22m\u001b[39m package versions...\n",
      "\u001b[32m\u001b[1m  No Changes\u001b[22m\u001b[39m to `~/dev/nbs/closures-in-action/Project.toml`\n",
      "\u001b[32m\u001b[1m  No Changes\u001b[22m\u001b[39m to `~/dev/nbs/closures-in-action/Manifest.toml`\n",
      "\u001b[32m\u001b[1m   Resolving\u001b[22m\u001b[39m package versions...\n",
      "\u001b[32m\u001b[1m  No Changes\u001b[22m\u001b[39m to `~/dev/nbs/closures-in-action/Project.toml`\n",
      "\u001b[32m\u001b[1m  No Changes\u001b[22m\u001b[39m to `~/dev/nbs/closures-in-action/Manifest.toml`\n"
     ]
    }
   ],
   "source": [
    "using Pkg; Pkg.activate(\"closures-in-action\")\n",
    "Pkg.add(\"HTTP\")\n",
    "Pkg.add(\"Sockets\")"
   ]
  },
  {
   "cell_type": "code",
   "execution_count": 2,
   "metadata": {},
   "outputs": [],
   "source": [
    "using HTTP, Sockets"
   ]
  },
  {
   "cell_type": "markdown",
   "metadata": {},
   "source": [
    "## Quick memory jogger\n",
    "The following links could help if you are unfamiliar with these concepts:\n",
    "- https://medium.com/r/?url=https%3A%2F%2Ftowardsdatascience.com%2Fwhat-on-earth-are-closures-a4f9c7c652d2\n",
    "- https://medium.com/r/?url=https%3A%2F%2Ftowardsdatascience.com%2Fwhat-on-earth-is-an-anonymous-function-f8043eb845f3"
   ]
  },
  {
   "cell_type": "code",
   "execution_count": 3,
   "metadata": {},
   "outputs": [
    {
     "data": {
      "text/plain": [
       "hello (generic function with 1 method)"
      ]
     },
     "execution_count": 3,
     "metadata": {},
     "output_type": "execute_result"
    }
   ],
   "source": [
    "n = function hello(x, y)\n",
    "   println(\"hi\") \n",
    "end"
   ]
  },
  {
   "cell_type": "code",
   "execution_count": 4,
   "metadata": {},
   "outputs": [
    {
     "name": "stdout",
     "output_type": "stream",
     "text": [
      "hi\n"
     ]
    }
   ],
   "source": [
    "n(5, 1)"
   ]
  },
  {
   "cell_type": "markdown",
   "metadata": {},
   "source": [
    "# Closures In Action"
   ]
  },
  {
   "cell_type": "code",
   "execution_count": 5,
   "metadata": {},
   "outputs": [],
   "source": [
    "mutable struct Route\n",
    "    path::String\n",
    "    page::Any\n",
    "    function Route(path::String = \"\", page::Any = \"\")\n",
    "        new(path, page)\n",
    "    end\n",
    "end"
   ]
  },
  {
   "cell_type": "code",
   "execution_count": 6,
   "metadata": {},
   "outputs": [
    {
     "data": {
      "text/plain": [
       "funcdefs (generic function with 1 method)"
      ]
     },
     "execution_count": 6,
     "metadata": {},
     "output_type": "execute_result"
    }
   ],
   "source": [
    "function funcdefs(routes::AbstractVector, ip::String, port::Integer)\n",
    "    add(r::Route) = push!(routes, r)\n",
    "    remove(i::Int64) = deleteat!(routes, i)\n",
    "    start() = _start(routes, ip, port)\n",
    "    return(add, remove, start)\n",
    "end"
   ]
  },
  {
   "cell_type": "code",
   "execution_count": 7,
   "metadata": {},
   "outputs": [
    {
     "data": {
      "text/plain": [
       "stop! (generic function with 1 method)"
      ]
     },
     "execution_count": 7,
     "metadata": {},
     "output_type": "execute_result"
    }
   ],
   "source": [
    "function _start(routes::AbstractVector, ip::String, port::Integer)\n",
    "    server = Sockets.listen(Sockets.InetAddr(parse(IPAddr, ip), port))\n",
    "    println(\"Starting server on port \", string(port))\n",
    "    routefunc = generate_router(routes, server)\n",
    "    @async HTTP.listen(routefunc, ip, port; server = server)\n",
    "    println(\"Successfully started server on port \", port, \"\\n\")\n",
    "    println(\"You may visit it now at http://\" * string(ip) * \":\" * string(port))\n",
    "    return(server)\n",
    "end\n",
    "function generate_router(routes::AbstractVector, server)\n",
    "    route_paths = Dict([route.path => route.page for route in routes])\n",
    "    routeserver = function serve(http)\n",
    "     HTTP.setheader(http, \"Content-Type\" => \"text/html\")\n",
    "        fullpath = http.message.target\n",
    "    if contains(http.message.target, '?')\n",
    "         fullpath = split(http.message.target, '?')\n",
    "         args = \"\"\n",
    "    end\n",
    "     if length(fullpath) > 1\n",
    "         args = fullpath[2]\n",
    "     end\n",
    "     if fullpath in keys(route_paths)\n",
    "        write(http, route_paths[fullpath])\n",
    "     else\n",
    "         write(http, route_paths[\"404\"])\n",
    "     end\n",
    " end # serve()\n",
    "    return(routeserver)\n",
    "end\n",
    "function stop!(x::Any)\n",
    "    close(x)\n",
    "end"
   ]
  },
  {
   "cell_type": "code",
   "execution_count": 8,
   "metadata": {},
   "outputs": [],
   "source": [
    "mutable struct OurServer\n",
    "    ip::String\n",
    "    port::Integer\n",
    "    routes::AbstractVector\n",
    "    remove::Function\n",
    "    add::Function\n",
    "    start::Function\n",
    "    function OurServer(ip::String, port::Int64)\n",
    "        routes = []\n",
    "        add, remove, start = funcdefs(routes, ip, port)\n",
    "        new(ip, port, routes, remove, add, start)\n",
    "    end\n",
    "\n",
    "    function OurServer()\n",
    "        port = 8001\n",
    "        ip = \"127.0.0.1\"\n",
    "        OurServer(ip, port)\n",
    "    end\n",
    "end"
   ]
  },
  {
   "cell_type": "code",
   "execution_count": 9,
   "metadata": {},
   "outputs": [
    {
     "data": {
      "text/plain": [
       "Route(\"/\", \"<h1>HELLO WORLD</h1>\")"
      ]
     },
     "execution_count": 9,
     "metadata": {},
     "output_type": "execute_result"
    }
   ],
   "source": [
    "home = Route(\"/\", \"<h1>HELLO WORLD</h1>\")"
   ]
  },
  {
   "cell_type": "code",
   "execution_count": 10,
   "metadata": {},
   "outputs": [
    {
     "data": {
      "text/plain": [
       "Route(\"404\", \"<h1> Directory not found </h1>\")"
      ]
     },
     "execution_count": 10,
     "metadata": {},
     "output_type": "execute_result"
    }
   ],
   "source": [
    "four04 = Route(\"404\", \"<h1> Directory not found </h1>\")"
   ]
  },
  {
   "cell_type": "code",
   "execution_count": 11,
   "metadata": {},
   "outputs": [
    {
     "data": {
      "text/plain": [
       "OurServer(\"127.0.0.1\", 8001, Any[], var\"#remove#2\"{Vector{Any}}(Any[]), var\"#add#1\"{Vector{Any}}(Any[]), var\"#start#3\"{Vector{Any}, String, Int64}(Any[], \"127.0.0.1\", 8001))"
      ]
     },
     "execution_count": 11,
     "metadata": {},
     "output_type": "execute_result"
    }
   ],
   "source": [
    "server = OurServer()"
   ]
  },
  {
   "cell_type": "code",
   "execution_count": 12,
   "metadata": {},
   "outputs": [
    {
     "data": {
      "text/plain": [
       "1-element Vector{Any}:\n",
       " Route(\"/\", \"<h1>HELLO WORLD</h1>\")"
      ]
     },
     "execution_count": 12,
     "metadata": {},
     "output_type": "execute_result"
    }
   ],
   "source": [
    "server.add(home)"
   ]
  },
  {
   "cell_type": "code",
   "execution_count": 13,
   "metadata": {},
   "outputs": [
    {
     "data": {
      "text/plain": [
       "2-element Vector{Any}:\n",
       " Route(\"/\", \"<h1>HELLO WORLD</h1>\")\n",
       " Route(\"404\", \"<h1> Directory not found </h1>\")"
      ]
     },
     "execution_count": 13,
     "metadata": {},
     "output_type": "execute_result"
    }
   ],
   "source": [
    "server.add(four04)"
   ]
  },
  {
   "cell_type": "code",
   "execution_count": 19,
   "metadata": {},
   "outputs": [
    {
     "name": "stdout",
     "output_type": "stream",
     "text": [
      "Starting server on port 8001\n",
      "Successfully started server on port 8001\n",
      "\n",
      "You may visit it now at http://127.0.0.1:8001\n"
     ]
    },
    {
     "data": {
      "text/plain": [
       "Sockets.TCPServer(RawFD(45) active)"
      ]
     },
     "execution_count": 19,
     "metadata": {},
     "output_type": "execute_result"
    }
   ],
   "source": [
    "serving = server.start()"
   ]
  },
  {
   "cell_type": "code",
   "execution_count": 20,
   "metadata": {},
   "outputs": [],
   "source": [
    "stop!(serving)"
   ]
  },
  {
   "cell_type": "markdown",
   "metadata": {},
   "source": [
    "# Anonymous Functions"
   ]
  },
  {
   "cell_type": "code",
   "execution_count": 21,
   "metadata": {},
   "outputs": [
    {
     "data": {
      "text/plain": [
       "5-element Vector{Int64}:\n",
       "  5\n",
       " 10\n",
       " 15\n",
       " 20\n",
       " 25"
      ]
     },
     "execution_count": 21,
     "metadata": {},
     "output_type": "execute_result"
    }
   ],
   "source": [
    "x = [5, 10, 15, 20, 25]"
   ]
  },
  {
   "cell_type": "code",
   "execution_count": 23,
   "metadata": {},
   "outputs": [
    {
     "data": {
      "text/plain": [
       "#11 (generic function with 1 method)"
      ]
     },
     "execution_count": 23,
     "metadata": {},
     "output_type": "execute_result"
    }
   ],
   "source": [
    "x -> x > 15"
   ]
  },
  {
   "cell_type": "code",
   "execution_count": 24,
   "metadata": {},
   "outputs": [
    {
     "data": {
      "text/plain": [
       "2-element Vector{Int64}:\n",
       " 20\n",
       " 25"
      ]
     },
     "execution_count": 24,
     "metadata": {},
     "output_type": "execute_result"
    }
   ],
   "source": [
    "filter!(x -> x > 15, x)"
   ]
  },
  {
   "cell_type": "markdown",
   "metadata": {},
   "source": [
    "# Begin/end syntax"
   ]
  },
  {
   "cell_type": "code",
   "execution_count": 31,
   "metadata": {},
   "outputs": [
    {
     "data": {
      "text/plain": [
       "examp (generic function with 1 method)"
      ]
     },
     "execution_count": 31,
     "metadata": {},
     "output_type": "execute_result"
    }
   ],
   "source": [
    "function examp(f::Function, x::String)\n",
    "    f(x)\n",
    "end"
   ]
  },
  {
   "cell_type": "code",
   "execution_count": 32,
   "metadata": {},
   "outputs": [
    {
     "ename": "LoadError",
     "evalue": "MethodError: no method matching (::var\"#19#20\")(::String)\n\u001b[0mClosest candidates are:\n\u001b[0m  (::var\"#19#20\")() at In[32]:2",
     "output_type": "error",
     "traceback": [
      "MethodError: no method matching (::var\"#19#20\")(::String)\n\u001b[0mClosest candidates are:\n\u001b[0m  (::var\"#19#20\")() at In[32]:2",
      "",
      "Stacktrace:",
      " [1] examp(f::var\"#19#20\", x::String)",
      "   @ Main ./In[31]:2",
      " [2] top-level scope",
      "   @ In[32]:1",
      " [3] eval",
      "   @ ./boot.jl:373 [inlined]",
      " [4] include_string(mapexpr::typeof(REPL.softscope), mod::Module, code::String, filename::String)",
      "   @ Base ./loading.jl:1196"
     ]
    }
   ],
   "source": [
    "examp(\"hello\") do\n",
    "    println(\"Hello\")\n",
    "end"
   ]
  },
  {
   "cell_type": "code",
   "execution_count": null,
   "metadata": {},
   "outputs": [],
   "source": []
  }
 ],
 "metadata": {
  "kernelspec": {
   "display_name": "Julia 1.6.3",
   "language": "julia",
   "name": "julia-1.6"
  },
  "language_info": {
   "file_extension": ".jl",
   "mimetype": "application/julia",
   "name": "julia",
   "version": "1.7.1"
  }
 },
 "nbformat": 4,
 "nbformat_minor": 4
}
