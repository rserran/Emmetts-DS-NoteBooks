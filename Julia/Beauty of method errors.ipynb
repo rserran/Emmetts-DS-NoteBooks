{
 "cells": [
  {
   "cell_type": "code",
   "execution_count": 1,
   "metadata": {},
   "outputs": [
    {
     "ename": "LoadError",
     "evalue": "UndefVarError: hrthtrh not defined",
     "output_type": "error",
     "traceback": [
      "UndefVarError: hrthtrh not defined",
      "",
      "Stacktrace:",
      " [1] top-level scope",
      "   @ In[1]:1",
      " [2] eval",
      "   @ ./boot.jl:373 [inlined]",
      " [3] include_string(mapexpr::typeof(REPL.softscope), mod::Module, code::String, filename::String)",
      "   @ Base ./loading.jl:1196"
     ]
    }
   ],
   "source": [
    "hrthtrh()"
   ]
  },
  {
   "cell_type": "code",
   "execution_count": 2,
   "metadata": {},
   "outputs": [
    {
     "ename": "LoadError",
     "evalue": "MethodError: no method matching push!()\n\u001b[0mClosest candidates are:\n\u001b[0m  push!(\u001b[91m::AbstractChannel\u001b[39m, \u001b[91m::Any\u001b[39m) at /opt/julia-1.6.3/julia-1.6.3/share/julia/base/channels.jl:10\n\u001b[0m  push!(\u001b[91m::Set\u001b[39m, \u001b[91m::Any\u001b[39m) at /opt/julia-1.6.3/julia-1.6.3/share/julia/base/set.jl:59\n\u001b[0m  push!(\u001b[91m::Base.InvasiveLinkedListSynchronized{T}\u001b[39m, \u001b[91m::T\u001b[39m) where T at /opt/julia-1.6.3/julia-1.6.3/share/julia/base/task.jl:570\n\u001b[0m  ...",
     "output_type": "error",
     "traceback": [
      "MethodError: no method matching push!()\n\u001b[0mClosest candidates are:\n\u001b[0m  push!(\u001b[91m::AbstractChannel\u001b[39m, \u001b[91m::Any\u001b[39m) at /opt/julia-1.6.3/julia-1.6.3/share/julia/base/channels.jl:10\n\u001b[0m  push!(\u001b[91m::Set\u001b[39m, \u001b[91m::Any\u001b[39m) at /opt/julia-1.6.3/julia-1.6.3/share/julia/base/set.jl:59\n\u001b[0m  push!(\u001b[91m::Base.InvasiveLinkedListSynchronized{T}\u001b[39m, \u001b[91m::T\u001b[39m) where T at /opt/julia-1.6.3/julia-1.6.3/share/julia/base/task.jl:570\n\u001b[0m  ...",
      "",
      "Stacktrace:",
      " [1] top-level scope",
      "   @ In[2]:1",
      " [2] eval",
      "   @ ./boot.jl:373 [inlined]",
      " [3] include_string(mapexpr::typeof(REPL.softscope), mod::Module, code::String, filename::String)",
      "   @ Base ./loading.jl:1196"
     ]
    }
   ],
   "source": [
    "push!()"
   ]
  },
  {
   "cell_type": "code",
   "execution_count": 3,
   "metadata": {},
   "outputs": [
    {
     "data": {
      "text/plain": [
       "printthisthang (generic function with 1 method)"
      ]
     },
     "execution_count": 3,
     "metadata": {},
     "output_type": "execute_result"
    }
   ],
   "source": [
    "function printthisthang(x::Int64)\n",
    "    println(x)\n",
    "end"
   ]
  },
  {
   "cell_type": "code",
   "execution_count": 4,
   "metadata": {},
   "outputs": [
    {
     "ename": "LoadError",
     "evalue": "MethodError: no method matching printthisthang(::Float64)\n\u001b[0mClosest candidates are:\n\u001b[0m  printthisthang(\u001b[91m::Int64\u001b[39m) at In[3]:1",
     "output_type": "error",
     "traceback": [
      "MethodError: no method matching printthisthang(::Float64)\n\u001b[0mClosest candidates are:\n\u001b[0m  printthisthang(\u001b[91m::Int64\u001b[39m) at In[3]:1",
      "",
      "Stacktrace:",
      " [1] top-level scope",
      "   @ In[4]:1",
      " [2] eval",
      "   @ ./boot.jl:373 [inlined]",
      " [3] include_string(mapexpr::typeof(REPL.softscope), mod::Module, code::String, filename::String)",
      "   @ Base ./loading.jl:1196"
     ]
    }
   ],
   "source": [
    "printthisthang(5.5)"
   ]
  },
  {
   "cell_type": "code",
   "execution_count": 5,
   "metadata": {},
   "outputs": [],
   "source": [
    "mutable struct OurCollection\n",
    "    x\n",
    "    function OurCollection(x::Any ...)\n",
    "        new(x)\n",
    "    end\n",
    "end"
   ]
  },
  {
   "cell_type": "code",
   "execution_count": 6,
   "metadata": {},
   "outputs": [
    {
     "data": {
      "text/plain": [
       "OurCollection((5, 10, 15))"
      ]
     },
     "execution_count": 6,
     "metadata": {},
     "output_type": "execute_result"
    }
   ],
   "source": [
    "z = OurCollection(5, 10, 15)"
   ]
  },
  {
   "cell_type": "code",
   "execution_count": 7,
   "metadata": {},
   "outputs": [
    {
     "ename": "LoadError",
     "evalue": "MethodError: no method matching getindex(::OurCollection, ::Int64)",
     "output_type": "error",
     "traceback": [
      "MethodError: no method matching getindex(::OurCollection, ::Int64)",
      "",
      "Stacktrace:",
      " [1] top-level scope",
      "   @ In[7]:1",
      " [2] eval",
      "   @ ./boot.jl:373 [inlined]",
      " [3] include_string(mapexpr::typeof(REPL.softscope), mod::Module, code::String, filename::String)",
      "   @ Base ./loading.jl:1196"
     ]
    }
   ],
   "source": [
    "z[2]"
   ]
  },
  {
   "cell_type": "code",
   "execution_count": 8,
   "metadata": {},
   "outputs": [],
   "source": [
    "import Base: getindex"
   ]
  },
  {
   "cell_type": "code",
   "execution_count": 9,
   "metadata": {},
   "outputs": [
    {
     "data": {
      "text/plain": [
       "getindex (generic function with 220 methods)"
      ]
     },
     "execution_count": 9,
     "metadata": {},
     "output_type": "execute_result"
    }
   ],
   "source": [
    "getindex(x::OurCollection, i::Int64) = x.x[i]"
   ]
  },
  {
   "cell_type": "code",
   "execution_count": 10,
   "metadata": {},
   "outputs": [
    {
     "data": {
      "text/plain": [
       "10"
      ]
     },
     "execution_count": 10,
     "metadata": {},
     "output_type": "execute_result"
    }
   ],
   "source": [
    "z[2]"
   ]
  },
  {
   "cell_type": "code",
   "execution_count": null,
   "metadata": {},
   "outputs": [],
   "source": []
  },
  {
   "cell_type": "code",
   "execution_count": null,
   "metadata": {},
   "outputs": [],
   "source": []
  }
 ],
 "metadata": {
  "kernelspec": {
   "display_name": "Julia 1.6.3",
   "language": "julia",
   "name": "julia-1.6"
  },
  "language_info": {
   "file_extension": ".jl",
   "mimetype": "application/julia",
   "name": "julia",
   "version": "1.7.1"
  }
 },
 "nbformat": 4,
 "nbformat_minor": 4
}
