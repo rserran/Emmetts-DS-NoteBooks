{
 "cells": [
  {
   "cell_type": "markdown",
   "metadata": {},
   "source": [
    "# The push!() Method\n",
    "The Julia programming language has a rich and extended base that is capable of a surprising amount of things on its own. What sets Julia apart from many other programming languages is its robust type system. The method system of course accompanies this quite well, however the type system is what really tends to steal the show. There are also some great methods that work with types all across Julia. If you have been using Julia for some time, it is likely that you might have encountered the push!() method in the wild. The method is commonly used because it is a core feature of Julia. That being said, those who are interested in Julia might want to get some experience working with it.\n",
    "## The Basics"
   ]
  },
  {
   "cell_type": "code",
   "execution_count": 1,
   "metadata": {},
   "outputs": [
    {
     "data": {
      "text/plain": [
       "4-element Vector{Int64}:\n",
       "  9\n",
       "  7\n",
       "  4\n",
       " 28"
      ]
     },
     "execution_count": 1,
     "metadata": {},
     "output_type": "execute_result"
    }
   ],
   "source": [
    "example = [9, 7, 4, 28]"
   ]
  },
  {
   "cell_type": "code",
   "execution_count": 2,
   "metadata": {},
   "outputs": [
    {
     "name": "stdout",
     "output_type": "stream",
     "text": [
      "search: \u001b[0m\u001b[1mp\u001b[22m\u001b[0m\u001b[1mu\u001b[22m\u001b[0m\u001b[1ms\u001b[22m\u001b[0m\u001b[1mh\u001b[22m\u001b[0m\u001b[1m!\u001b[22m \u001b[0m\u001b[1mp\u001b[22m\u001b[0m\u001b[1mu\u001b[22m\u001b[0m\u001b[1ms\u001b[22m\u001b[0m\u001b[1mh\u001b[22mfirst\u001b[0m\u001b[1m!\u001b[22m \u001b[0m\u001b[1mp\u001b[22m\u001b[0m\u001b[1mu\u001b[22m\u001b[0m\u001b[1ms\u001b[22m\u001b[0m\u001b[1mh\u001b[22mdisplay\n",
      "\n"
     ]
    },
    {
     "data": {
      "text/latex": [
       "\\begin{verbatim}\n",
       "push!(collection, items...) -> collection\n",
       "\\end{verbatim}\n",
       "Insert one or more \\texttt{items} in \\texttt{collection}. If \\texttt{collection} is an ordered container, the items are inserted at the end (in the given order).\n",
       "\n",
       "\\section{Examples}\n",
       "\\begin{verbatim}\n",
       "julia> push!([1, 2, 3], 4, 5, 6)\n",
       "6-element Vector{Int64}:\n",
       " 1\n",
       " 2\n",
       " 3\n",
       " 4\n",
       " 5\n",
       " 6\n",
       "\\end{verbatim}\n",
       "If \\texttt{collection} is ordered, use \\href{@ref}{\\texttt{append!}} to add all the elements of another collection to it. The result of the preceding example is equivalent to \\texttt{append!([1, 2, 3], [4, 5, 6])}. For \\texttt{AbstractSet} objects, \\href{@ref}{\\texttt{union!}} can be used instead.\n",
       "\n",
       "See \\href{@ref}{\\texttt{sizehint!}} for notes about the performance model.\n",
       "\n",
       "See also \\href{@ref}{\\texttt{pushfirst!}}.\n",
       "\n"
      ],
      "text/markdown": [
       "```\n",
       "push!(collection, items...) -> collection\n",
       "```\n",
       "\n",
       "Insert one or more `items` in `collection`. If `collection` is an ordered container, the items are inserted at the end (in the given order).\n",
       "\n",
       "# Examples\n",
       "\n",
       "```jldoctest\n",
       "julia> push!([1, 2, 3], 4, 5, 6)\n",
       "6-element Vector{Int64}:\n",
       " 1\n",
       " 2\n",
       " 3\n",
       " 4\n",
       " 5\n",
       " 6\n",
       "```\n",
       "\n",
       "If `collection` is ordered, use [`append!`](@ref) to add all the elements of another collection to it. The result of the preceding example is equivalent to `append!([1, 2, 3], [4, 5, 6])`. For `AbstractSet` objects, [`union!`](@ref) can be used instead.\n",
       "\n",
       "See [`sizehint!`](@ref) for notes about the performance model.\n",
       "\n",
       "See also [`pushfirst!`](@ref).\n"
      ],
      "text/plain": [
       "\u001b[36m  push!(collection, items...) -> collection\u001b[39m\n",
       "\n",
       "  Insert one or more \u001b[36mitems\u001b[39m in \u001b[36mcollection\u001b[39m. If \u001b[36mcollection\u001b[39m is an ordered\n",
       "  container, the items are inserted at the end (in the given order).\n",
       "\n",
       "\u001b[1m  Examples\u001b[22m\n",
       "\u001b[1m  ≡≡≡≡≡≡≡≡≡≡\u001b[22m\n",
       "\n",
       "\u001b[36m  julia> push!([1, 2, 3], 4, 5, 6)\u001b[39m\n",
       "\u001b[36m  6-element Vector{Int64}:\u001b[39m\n",
       "\u001b[36m   1\u001b[39m\n",
       "\u001b[36m   2\u001b[39m\n",
       "\u001b[36m   3\u001b[39m\n",
       "\u001b[36m   4\u001b[39m\n",
       "\u001b[36m   5\u001b[39m\n",
       "\u001b[36m   6\u001b[39m\n",
       "\n",
       "  If \u001b[36mcollection\u001b[39m is ordered, use \u001b[36mappend!\u001b[39m to add all the elements of another\n",
       "  collection to it. The result of the preceding example is equivalent to\n",
       "  \u001b[36mappend!([1, 2, 3], [4, 5, 6])\u001b[39m. For \u001b[36mAbstractSet\u001b[39m objects, \u001b[36munion!\u001b[39m can be used\n",
       "  instead.\n",
       "\n",
       "  See \u001b[36msizehint!\u001b[39m for notes about the performance model.\n",
       "\n",
       "  See also \u001b[36mpushfirst!\u001b[39m."
      ]
     },
     "execution_count": 2,
     "metadata": {},
     "output_type": "execute_result"
    }
   ],
   "source": [
    "?(push!)"
   ]
  },
  {
   "cell_type": "code",
   "execution_count": 3,
   "metadata": {},
   "outputs": [
    {
     "data": {
      "text/plain": [
       "5-element Vector{Int64}:\n",
       "  9\n",
       "  7\n",
       "  4\n",
       " 28\n",
       "  5"
      ]
     },
     "execution_count": 3,
     "metadata": {},
     "output_type": "execute_result"
    }
   ],
   "source": [
    "push!(example, 5)"
   ]
  },
  {
   "cell_type": "code",
   "execution_count": 4,
   "metadata": {},
   "outputs": [
    {
     "data": {
      "text/plain": [
       "5"
      ]
     },
     "execution_count": 4,
     "metadata": {},
     "output_type": "execute_result"
    }
   ],
   "source": [
    "example[5]"
   ]
  },
  {
   "cell_type": "code",
   "execution_count": 5,
   "metadata": {},
   "outputs": [
    {
     "data": {
      "text/plain": [
       "6-element Vector{Any}:\n",
       "  9\n",
       "  7\n",
       "  4\n",
       " 28\n",
       "  5\n",
       "   1:5"
      ]
     },
     "execution_count": 5,
     "metadata": {},
     "output_type": "execute_result"
    }
   ],
   "source": [
    "push!(Array{Any}(example), 1:5)"
   ]
  },
  {
   "cell_type": "code",
   "execution_count": 27,
   "metadata": {},
   "outputs": [],
   "source": [
    "import Base: push!"
   ]
  },
  {
   "cell_type": "code",
   "execution_count": 39,
   "metadata": {},
   "outputs": [
    {
     "data": {
      "text/plain": [
       "Base.push!"
      ]
     },
     "execution_count": 39,
     "metadata": {},
     "output_type": "execute_result"
    }
   ],
   "source": [
    "\"\"\"## push!(collection::Vector{Int64}, range::UnitRange)\n",
    "This method can be used to unpack a range generator and return its elements pushed into the collection. \\\n",
    "```\n",
    "julia> push!([2, 3] 1:2)\n",
    "\n",
    "4-element Vector{Int64}\n",
    "2\n",
    "3\n",
    "1\n",
    "2\n",
    "```\n",
    "\n",
    "\"\"\"\n",
    "function push!(collection::Vector{Int64}, range::UnitRange)\n",
    "    [push!(collection, i) for i in range]\n",
    "end"
   ]
  },
  {
   "cell_type": "code",
   "execution_count": 40,
   "metadata": {},
   "outputs": [
    {
     "name": "stdout",
     "output_type": "stream",
     "text": [
      "search: \u001b[0m\u001b[1mp\u001b[22m\u001b[0m\u001b[1mu\u001b[22m\u001b[0m\u001b[1ms\u001b[22m\u001b[0m\u001b[1mh\u001b[22m\u001b[0m\u001b[1m!\u001b[22m \u001b[0m\u001b[1mp\u001b[22m\u001b[0m\u001b[1mu\u001b[22m\u001b[0m\u001b[1ms\u001b[22m\u001b[0m\u001b[1mh\u001b[22mfirst\u001b[0m\u001b[1m!\u001b[22m \u001b[0m\u001b[1mp\u001b[22m\u001b[0m\u001b[1mu\u001b[22m\u001b[0m\u001b[1ms\u001b[22m\u001b[0m\u001b[1mh\u001b[22m6 \u001b[0m\u001b[1mp\u001b[22m\u001b[0m\u001b[1mu\u001b[22m\u001b[0m\u001b[1ms\u001b[22m\u001b[0m\u001b[1mh\u001b[22mdisplay\n",
      "\n"
     ]
    },
    {
     "data": {
      "text/latex": [
       "\\begin{verbatim}\n",
       "push!(collection, items...) -> collection\n",
       "\\end{verbatim}\n",
       "Insert one or more \\texttt{items} in \\texttt{collection}. If \\texttt{collection} is an ordered container, the items are inserted at the end (in the given order).\n",
       "\n",
       "\\section{Examples}\n",
       "\\begin{verbatim}\n",
       "julia> push!([1, 2, 3], 4, 5, 6)\n",
       "6-element Vector{Int64}:\n",
       " 1\n",
       " 2\n",
       " 3\n",
       " 4\n",
       " 5\n",
       " 6\n",
       "\\end{verbatim}\n",
       "If \\texttt{collection} is ordered, use \\href{@ref}{\\texttt{append!}} to add all the elements of another collection to it. The result of the preceding example is equivalent to \\texttt{append!([1, 2, 3], [4, 5, 6])}. For \\texttt{AbstractSet} objects, \\href{@ref}{\\texttt{union!}} can be used instead.\n",
       "\n",
       "See \\href{@ref}{\\texttt{sizehint!}} for notes about the performance model.\n",
       "\n",
       "See also \\href{@ref}{\\texttt{pushfirst!}}.\n",
       "\n",
       "\\rule{\\textwidth}{1pt}\n",
       "\\subsection{push!(collection::Vector\\{Int64\\}, range::UnitRange)}\n",
       "This method can be used to unpack a range generator and return its elements pushed into the collection.\n",
       "\n",
       "\\begin{verbatim}\n",
       "julia> push!([2, 3] 1:2)\n",
       "\n",
       "4-element Vector{Int64}\n",
       "2\n",
       "3\n",
       "1\n",
       "2\n",
       "\\end{verbatim}\n"
      ],
      "text/markdown": [
       "```\n",
       "push!(collection, items...) -> collection\n",
       "```\n",
       "\n",
       "Insert one or more `items` in `collection`. If `collection` is an ordered container, the items are inserted at the end (in the given order).\n",
       "\n",
       "# Examples\n",
       "\n",
       "```jldoctest\n",
       "julia> push!([1, 2, 3], 4, 5, 6)\n",
       "6-element Vector{Int64}:\n",
       " 1\n",
       " 2\n",
       " 3\n",
       " 4\n",
       " 5\n",
       " 6\n",
       "```\n",
       "\n",
       "If `collection` is ordered, use [`append!`](@ref) to add all the elements of another collection to it. The result of the preceding example is equivalent to `append!([1, 2, 3], [4, 5, 6])`. For `AbstractSet` objects, [`union!`](@ref) can be used instead.\n",
       "\n",
       "See [`sizehint!`](@ref) for notes about the performance model.\n",
       "\n",
       "See also [`pushfirst!`](@ref).\n",
       "\n",
       "---\n",
       "\n",
       "## push!(collection::Vector{Int64}, range::UnitRange)\n",
       "\n",
       "This method can be used to unpack a range generator and return its elements pushed into the collection.\n",
       "\n",
       "```\n",
       "julia> push!([2, 3] 1:2)\n",
       "\n",
       "4-element Vector{Int64}\n",
       "2\n",
       "3\n",
       "1\n",
       "2\n",
       "```\n"
      ],
      "text/plain": [
       "\u001b[36m  push!(collection, items...) -> collection\u001b[39m\n",
       "\n",
       "  Insert one or more \u001b[36mitems\u001b[39m in \u001b[36mcollection\u001b[39m. If \u001b[36mcollection\u001b[39m is an ordered\n",
       "  container, the items are inserted at the end (in the given order).\n",
       "\n",
       "\u001b[1m  Examples\u001b[22m\n",
       "\u001b[1m  ≡≡≡≡≡≡≡≡≡≡\u001b[22m\n",
       "\n",
       "\u001b[36m  julia> push!([1, 2, 3], 4, 5, 6)\u001b[39m\n",
       "\u001b[36m  6-element Vector{Int64}:\u001b[39m\n",
       "\u001b[36m   1\u001b[39m\n",
       "\u001b[36m   2\u001b[39m\n",
       "\u001b[36m   3\u001b[39m\n",
       "\u001b[36m   4\u001b[39m\n",
       "\u001b[36m   5\u001b[39m\n",
       "\u001b[36m   6\u001b[39m\n",
       "\n",
       "  If \u001b[36mcollection\u001b[39m is ordered, use \u001b[36mappend!\u001b[39m to add all the elements of another\n",
       "  collection to it. The result of the preceding example is equivalent to\n",
       "  \u001b[36mappend!([1, 2, 3], [4, 5, 6])\u001b[39m. For \u001b[36mAbstractSet\u001b[39m objects, \u001b[36munion!\u001b[39m can be used\n",
       "  instead.\n",
       "\n",
       "  See \u001b[36msizehint!\u001b[39m for notes about the performance model.\n",
       "\n",
       "  See also \u001b[36mpushfirst!\u001b[39m.\n",
       "\n",
       "  ────────────────────────────────────────────────────────────────────────────\n",
       "\n",
       "\u001b[1m  push!(collection::Vector{Int64}, range::UnitRange)\u001b[22m\n",
       "\u001b[1m  ====================================================\u001b[22m\n",
       "\n",
       "  This method can be used to unpack a range generator and return its elements\n",
       "  pushed into the collection.\n",
       "\n",
       "\u001b[36m  julia> push!([2, 3] 1:2)\u001b[39m\n",
       "\u001b[36m  \u001b[39m\n",
       "\u001b[36m  4-element Vector{Int64}\u001b[39m\n",
       "\u001b[36m  2\u001b[39m\n",
       "\u001b[36m  3\u001b[39m\n",
       "\u001b[36m  1\u001b[39m\n",
       "\u001b[36m  2\u001b[39m"
      ]
     },
     "execution_count": 40,
     "metadata": {},
     "output_type": "execute_result"
    }
   ],
   "source": [
    "?(push!)"
   ]
  },
  {
   "cell_type": "code",
   "execution_count": 42,
   "metadata": {},
   "outputs": [
    {
     "data": {
      "text/latex": [
       "\\subsection{push!(collection::Vector\\{Int64\\}, range::UnitRange)}\n",
       "This method can be used to unpack a range generator and return its elements pushed into the collection.\n",
       "\n",
       "\\begin{verbatim}\n",
       "julia> push!([2, 3] 1:2)\n",
       "\n",
       "4-element Vector{Int64}\n",
       "2\n",
       "3\n",
       "1\n",
       "2\n",
       "\\end{verbatim}\n"
      ],
      "text/markdown": [
       "## push!(collection::Vector{Int64}, range::UnitRange)\n",
       "\n",
       "This method can be used to unpack a range generator and return its elements pushed into the collection.\n",
       "\n",
       "```\n",
       "julia> push!([2, 3] 1:2)\n",
       "\n",
       "4-element Vector{Int64}\n",
       "2\n",
       "3\n",
       "1\n",
       "2\n",
       "```\n"
      ],
      "text/plain": [
       "\u001b[1m  push!(collection::Vector{Int64}, range::UnitRange)\u001b[22m\n",
       "\u001b[1m  ====================================================\u001b[22m\n",
       "\n",
       "  This method can be used to unpack a range generator and return its elements\n",
       "  pushed into the collection.\n",
       "\n",
       "\u001b[36m  julia> push!([2, 3] 1:2)\u001b[39m\n",
       "\u001b[36m  \u001b[39m\n",
       "\u001b[36m  4-element Vector{Int64}\u001b[39m\n",
       "\u001b[36m  2\u001b[39m\n",
       "\u001b[36m  3\u001b[39m\n",
       "\u001b[36m  1\u001b[39m\n",
       "\u001b[36m  2\u001b[39m"
      ]
     },
     "execution_count": 42,
     "metadata": {},
     "output_type": "execute_result"
    }
   ],
   "source": [
    "?(push!(::Vector{Int64}, ::UnitRange))"
   ]
  },
  {
   "cell_type": "code",
   "execution_count": 41,
   "metadata": {},
   "outputs": [
    {
     "data": {
      "text/plain": [
       "5-element Vector{Int64}:\n",
       "  9\n",
       "  7\n",
       "  4\n",
       " 28\n",
       "  5"
      ]
     },
     "execution_count": 41,
     "metadata": {},
     "output_type": "execute_result"
    }
   ],
   "source": [
    "example = Vector{Int64}(example[1:5])"
   ]
  },
  {
   "cell_type": "code",
   "execution_count": 34,
   "metadata": {},
   "outputs": [
    {
     "data": {
      "text/plain": [
       "5-element Vector{Vector{Int64}}:\n",
       " [9, 7, 4, 28, 5, 1, 2, 3, 4, 5]\n",
       " [9, 7, 4, 28, 5, 1, 2, 3, 4, 5]\n",
       " [9, 7, 4, 28, 5, 1, 2, 3, 4, 5]\n",
       " [9, 7, 4, 28, 5, 1, 2, 3, 4, 5]\n",
       " [9, 7, 4, 28, 5, 1, 2, 3, 4, 5]"
      ]
     },
     "execution_count": 34,
     "metadata": {},
     "output_type": "execute_result"
    }
   ],
   "source": [
    "push!(example, 1:5)"
   ]
  },
  {
   "cell_type": "code",
   "execution_count": 35,
   "metadata": {},
   "outputs": [
    {
     "data": {
      "text/plain": [
       "10-element Vector{Int64}:\n",
       "  9\n",
       "  7\n",
       "  4\n",
       " 28\n",
       "  5\n",
       "  1\n",
       "  2\n",
       "  3\n",
       "  4\n",
       "  5"
      ]
     },
     "execution_count": 35,
     "metadata": {},
     "output_type": "execute_result"
    }
   ],
   "source": [
    "example"
   ]
  },
  {
   "cell_type": "code",
   "execution_count": 10,
   "metadata": {},
   "outputs": [
    {
     "data": {
      "text/plain": [
       "5-element Vector{Int64}:\n",
       " 1\n",
       " 2\n",
       " 3\n",
       " 4\n",
       " 5"
      ]
     },
     "execution_count": 10,
     "metadata": {},
     "output_type": "execute_result"
    }
   ],
   "source": [
    "Array(1:5)"
   ]
  },
  {
   "cell_type": "code",
   "execution_count": null,
   "metadata": {},
   "outputs": [],
   "source": []
  }
 ],
 "metadata": {
  "kernelspec": {
   "display_name": "Julia 1.6.3",
   "language": "julia",
   "name": "julia-1.6"
  },
  "language_info": {
   "file_extension": ".jl",
   "mimetype": "application/julia",
   "name": "julia",
   "version": "1.7.1"
  }
 },
 "nbformat": 4,
 "nbformat_minor": 4
}
