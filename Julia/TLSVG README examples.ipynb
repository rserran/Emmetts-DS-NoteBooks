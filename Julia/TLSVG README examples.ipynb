{
 "cells": [
  {
   "cell_type": "code",
   "execution_count": 2,
   "id": "e64aa3b9-8cf7-4dba-9473-6c430f0d4129",
   "metadata": {},
   "outputs": [
    {
     "name": "stderr",
     "output_type": "stream",
     "text": [
      "\u001b[32m\u001b[1m  Activating\u001b[22m\u001b[39m project at `~/dev/packages/toolips/ToolipsSVG.jl`\n"
     ]
    }
   ],
   "source": [
    "using Pkg; Pkg.activate(\".\")\n",
    "using Revise"
   ]
  },
  {
   "cell_type": "code",
   "execution_count": 3,
   "id": "e0b4d299-84e0-4999-8706-b467712d620b",
   "metadata": {},
   "outputs": [
    {
     "name": "stderr",
     "output_type": "stream",
     "text": [
      "\u001b[36m\u001b[1m[ \u001b[22m\u001b[39m\u001b[36m\u001b[1mInfo: \u001b[22m\u001b[39mPrecompiling ToolipsSVG [8ae86ec9-919d-4ece-9a6d-09b7d28dae11]\n"
     ]
    }
   ],
   "source": [
    "using ToolipsSVG"
   ]
  },
  {
   "cell_type": "code",
   "execution_count": 4,
   "id": "b50a84cf-a0ec-4874-b8d3-2805db4d36db",
   "metadata": {},
   "outputs": [
    {
     "data": {
      "text/html": [
       "\"<svg id='-' height=500 width=500><circle id='-' cx=250 r=20 cy=250 style='fill:blue;'></circle></svg>\""
      ]
     },
     "metadata": {},
     "output_type": "display_data"
    }
   ],
   "source": [
    "new_window::Component{:svg} = svg(width = 500, height = 500)\n",
    "newcircle::Component{:circle} = circle(cx = 250, cy = 250, r = 20)\n",
    "style!(newcircle, \"fill\" => \"blue\")\n",
    "push!(new_window, newcircle)\n",
    "\n",
    "display(\"text/html\", new_window)"
   ]
  },
  {
   "cell_type": "code",
   "execution_count": 5,
   "id": "54fa6228-3a9a-419e-9ab2-31a927d8213c",
   "metadata": {},
   "outputs": [
    {
     "data": {
      "text/html": [
       "\"<circle id='-' cx=80.0 r=10 cy=125.0 style='fill:#D5635C;'></circle><circle id='-' cx=160.0 r=10 cy=125.0 style='fill:#60AD51;'></circle><circle id='-' cx=240.0 r=10 cy=125.0 style='fill:#AA79C1;'></circle>\""
      ],
      "text/plain": [
       "3-element Vector{AbstractComponent}:\n",
       " Component{:circle}(\"-\", Dict{Symbol, Any}(:extras => AbstractComponent[], :children => AbstractComponent[], :cx => 80.0, :text => \"\", :r => 10, :cy => 125.0, :style => \"fill:#D5635C;\"), \"circle\")\n",
       " Component{:circle}(\"-\", Dict{Symbol, Any}(:extras => AbstractComponent[], :children => AbstractComponent[], :cx => 160.0, :text => \"\", :r => 10, :cy => 125.0, :style => \"fill:#60AD51;\"), \"circle\")\n",
       " Component{:circle}(\"-\", Dict{Symbol, Any}(:extras => AbstractComponent[], :children => AbstractComponent[], :cx => 240.0, :text => \"\", :r => 10, :cy => 125.0, :style => \"fill:#AA79C1;\"), \"circle\")"
      ]
     },
     "execution_count": 5,
     "metadata": {},
     "output_type": "execute_result"
    }
   ],
   "source": [
    "using ToolipsSVG\n",
    "w, h = 250, 250\n",
    "window = svg(\"julia_over\", width = w, height = h)\n",
    "each_w = (w - 10) / 3\n",
    "each_height = h / 2\n",
    "circs = [begin\n",
    "          circ = circle(cx = (each_w * e), cy = each_height, r = 10)\n",
    "          style!(circ, \"fill\" => \"#$color\")\n",
    "          circ\n",
    "     end for (e, color) in enumerate((\"D5635C\", \"60AD51\", \"AA79C1\"))]\n",
    "\n",
    "window[:children] = Vector{AbstractComponent}(circs)\n"
   ]
  },
  {
   "cell_type": "code",
   "execution_count": 6,
   "id": "b3045c7a-af17-4d8a-87ad-7bd52bfae2e1",
   "metadata": {},
   "outputs": [
    {
     "data": {
      "text/plain": [
       "80.0"
      ]
     },
     "execution_count": 6,
     "metadata": {},
     "output_type": "execute_result"
    }
   ],
   "source": [
    "window[:children][1][:cx]"
   ]
  },
  {
   "cell_type": "code",
   "execution_count": 7,
   "id": "442c5998-8768-4c86-b009-ccb25cc898ae",
   "metadata": {},
   "outputs": [
    {
     "data": {
      "text/html": [
       "\"<svg id='julia_over' height=250 width=250><circle id='-' cx=80.0 r=10 cy=125.0 style='fill:#D5635C;'></circle><circle id='-' cx=160.0 r=10 cy=125.0 style='fill:#60AD51;'></circle><circle id='-' cx=240.0 r=10 cy=125.0 style='fill:#AA79C1;'></circle></svg>\""
      ],
      "text/plain": [
       "svg(\"julia_over\", Dict{Symbol, Any}(:extras => AbstractComponent[], :children => AbstractComponent[Component{:circle}(\"-\", Dict{Symbol, Any}(:extras => AbstractComponent[], :children => AbstractComponent[], :cx => 80.0, :text => \"\", :r => 10, :cy => 125.0, :style => \"fill:#D5635C;\"), \"circle\"), Component{:circle}(\"-\", Dict{Symbol, Any}(:extras => AbstractComponent[], :children => AbstractComponent[], :cx => 160.0, :text => \"\", :r => 10, :cy => 125.0, :style => \"fill:#60AD51;\"), \"circle\"), Component{:circle}(\"-\", Dict{Symbol, Any}(:extras => AbstractComponent[], :children => AbstractComponent[], :cx => 240.0, :text => \"\", :r => 10, :cy => 125.0, :style => \"fill:#AA79C1;\"), \"circle\")], :height => 250, :text => \"\", :width => 250), \"svg\")"
      ]
     },
     "execution_count": 7,
     "metadata": {},
     "output_type": "execute_result"
    }
   ],
   "source": [
    "window"
   ]
  },
  {
   "cell_type": "code",
   "execution_count": 8,
   "id": "114ad991-591d-4110-a7db-a907a1107a0f",
   "metadata": {},
   "outputs": [
    {
     "data": {
      "text/html": [
       "\"<polygon id='newstar' np=5 ir=14 y=50 angle=0.6283185307179586 points='80.0 50.0,61.326237921249266 58.22899353209462,59.270509831248425 78.53169548885461,45.67376207875074 63.31479122813215,25.72949016875158 67.6335575687742,36.0 50.0,25.729490168751575 32.366442431225806,45.673762078750734 36.68520877186785,59.27050983124842 21.46830451114539,61.32623792124926 41.77100646790537,80.0 49.99999999999999' r=30 x=50></polygon>\""
      ],
      "text/plain": [
       "Component{:star}(\"newstar\", Dict{Symbol, Any}(:extras => AbstractComponent[], :np => 5, :ir => 14, :children => AbstractComponent[], :y => 50, :angle => 0.6283185307179586, :points => \"'80.0 50.0,61.326237921249266 58.22899353209462,59.270509831248425 78.53169548885461,45.67376207875074 63.31479122813215,25.72949016875158 67.6335575687742,36.0 50.0,25.729490168751575 32.366442431225806,45.673762078750734 36.68520877186785,59.27050983124842 21.46830451114539,61.32623792124926 41.77100646790537,80.0 49.99999999999999'\", :text => \"\", :r => 30, :x => 50…), \"polygon\")"
      ]
     },
     "execution_count": 8,
     "metadata": {},
     "output_type": "execute_result"
    }
   ],
   "source": [
    "newstar = star(\"newstar\", x = 50, y = 50, points = 5, inner_radius = 14, outer_radius = 30)"
   ]
  },
  {
   "cell_type": "code",
   "execution_count": 9,
   "id": "c6d206bb-b64e-4d43-bfbc-9ea756257cf8",
   "metadata": {},
   "outputs": [
    {
     "data": {
      "text/html": [
       "\"<circle id='-' cx=80.0 r=10 cy=125.0 style='fill:#D5635C;'></circle><circle id='-' cx=160.0 r=10 cy=125.0 style='fill:#60AD51;'></circle><circle id='-' cx=240.0 r=10 cy=125.0 style='fill:#AA79C1;'></circle><polygon id='newstar' np=5 ir=14 y=50 angle=0.6283185307179586 points='80.0 50.0,61.326237921249266 58.22899353209462,59.270509831248425 78.53169548885461,45.67376207875074 63.31479122813215,25.72949016875158 67.6335575687742,36.0 50.0,25.729490168751575 32.366442431225806,45.673762078750734 36.68520877186785,59.27050983124842 21.46830451114539,61.32623792124926 41.77100646790537,80.0 49.99999999999999' r=30 x=50></polygon>\""
      ],
      "text/plain": [
       "4-element Vector{AbstractComponent}:\n",
       " Component{:circle}(\"-\", Dict{Symbol, Any}(:extras => AbstractComponent[], :children => AbstractComponent[], :cx => 80.0, :text => \"\", :r => 10, :cy => 125.0, :style => \"fill:#D5635C;\"), \"circle\")\n",
       " Component{:circle}(\"-\", Dict{Symbol, Any}(:extras => AbstractComponent[], :children => AbstractComponent[], :cx => 160.0, :text => \"\", :r => 10, :cy => 125.0, :style => \"fill:#60AD51;\"), \"circle\")\n",
       " Component{:circle}(\"-\", Dict{Symbol, Any}(:extras => AbstractComponent[], :children => AbstractComponent[], :cx => 240.0, :text => \"\", :r => 10, :cy => 125.0, :style => \"fill:#AA79C1;\"), \"circle\")\n",
       " Component{:star}(\"newstar\", Dict{Symbol, Any}(:extras => AbstractComponent[], :np => 5, :ir => 14, :children => AbstractComponent[], :y => 50, :angle => 0.6283185307179586, :points => \"'80.0 50.0,61.326237921249266 58.22899353209462,59.270509831248425 78.53169548885461,45.67376207875074 63.31479122813215,25.72949016875158 67.6335575687742,36.0 50.0,25.729490168751575 32.366442431225806,45.673762078750734 36.68520877186785,59.27050983124842 21.46830451114539,61.32623792124926 41.77100646790537,80.0 49.99999999999999'\", :text => \"\", :r => 30, :x => 50…), \"polygon\")"
      ]
     },
     "execution_count": 9,
     "metadata": {},
     "output_type": "execute_result"
    }
   ],
   "source": [
    "push!(window, newstar)"
   ]
  },
  {
   "cell_type": "code",
   "execution_count": 10,
   "id": "d819ae09-4b5d-436e-a92f-c0b407924f91",
   "metadata": {},
   "outputs": [
    {
     "data": {
      "text/html": [
       "\"<svg id='julia_over' height=250 width=250><circle id='-' cx=80.0 r=10 cy=125.0 style='fill:#D5635C;'></circle><circle id='-' cx=160.0 r=10 cy=125.0 style='fill:#60AD51;'></circle><circle id='-' cx=240.0 r=10 cy=125.0 style='fill:#AA79C1;'></circle><polygon id='newstar' np=5 ir=14 y=50 angle=0.6283185307179586 points='80.0 50.0,61.326237921249266 58.22899353209462,59.270509831248425 78.53169548885461,45.67376207875074 63.31479122813215,25.72949016875158 67.6335575687742,36.0 50.0,25.729490168751575 32.366442431225806,45.673762078750734 36.68520877186785,59.27050983124842 21.46830451114539,61.32623792124926 41.77100646790537,80.0 49.99999999999999' r=30 x=50></polygon></svg>\""
      ],
      "text/plain": [
       "svg(\"julia_over\", Dict{Symbol, Any}(:extras => AbstractComponent[], :children => AbstractComponent[Component{:circle}(\"-\", Dict{Symbol, Any}(:extras => AbstractComponent[], :children => AbstractComponent[], :cx => 80.0, :text => \"\", :r => 10, :cy => 125.0, :style => \"fill:#D5635C;\"), \"circle\"), Component{:circle}(\"-\", Dict{Symbol, Any}(:extras => AbstractComponent[], :children => AbstractComponent[], :cx => 160.0, :text => \"\", :r => 10, :cy => 125.0, :style => \"fill:#60AD51;\"), \"circle\"), Component{:circle}(\"-\", Dict{Symbol, Any}(:extras => AbstractComponent[], :children => AbstractComponent[], :cx => 240.0, :text => \"\", :r => 10, :cy => 125.0, :style => \"fill:#AA79C1;\"), \"circle\"), Component{:star}(\"newstar\", Dict{Symbol, Any}(:extras => AbstractComponent[], :np => 5, :ir => 14, :children => AbstractComponent[], :y => 50, :angle => 0.6283185307179586, :points => \"'80.0 50.0,61.326237921249266 58.22899353209462,59.270509831248425 78.53169548885461,45.67376207875074 63.31479122813215,25.72949016875158 67.6335575687742,36.0 50.0,25.729490168751575 32.366442431225806,45.673762078750734 36.68520877186785,59.27050983124842 21.46830451114539,61.32623792124926 41.77100646790537,80.0 49.99999999999999'\", :text => \"\", :r => 30, :x => 50…), \"polygon\")], :height => 250, :text => \"\", :width => 250), \"svg\")"
      ]
     },
     "execution_count": 10,
     "metadata": {},
     "output_type": "execute_result"
    }
   ],
   "source": [
    "window"
   ]
  },
  {
   "cell_type": "code",
   "execution_count": 11,
   "id": "3c473659-4df3-4cb1-98b6-067bbbfc13ff",
   "metadata": {},
   "outputs": [
    {
     "data": {
      "text/html": [
       "\"<circle id='-' cx=80.0 r=10 cy=125.0 style='fill:#D5635C;'></circle><circle id='-' cx=160.0 r=10 cy=125.0 style='fill:#60AD51;'></circle><circle id='-' cx=240.0 r=10 cy=125.0 style='fill:#AA79C1;'></circle>\""
      ],
      "text/plain": [
       "3-element Vector{AbstractComponent}:\n",
       " Component{:circle}(\"-\", Dict{Symbol, Any}(:extras => AbstractComponent[], :children => AbstractComponent[], :cx => 80.0, :text => \"\", :r => 10, :cy => 125.0, :style => \"fill:#D5635C;\"), \"circle\")\n",
       " Component{:circle}(\"-\", Dict{Symbol, Any}(:extras => AbstractComponent[], :children => AbstractComponent[], :cx => 160.0, :text => \"\", :r => 10, :cy => 125.0, :style => \"fill:#60AD51;\"), \"circle\")\n",
       " Component{:circle}(\"-\", Dict{Symbol, Any}(:extras => AbstractComponent[], :children => AbstractComponent[], :cx => 240.0, :text => \"\", :r => 10, :cy => 125.0, :style => \"fill:#AA79C1;\"), \"circle\")"
      ]
     },
     "execution_count": 11,
     "metadata": {},
     "output_type": "execute_result"
    }
   ],
   "source": [
    "window[:children] = window[:children][1:3]"
   ]
  },
  {
   "cell_type": "code",
   "execution_count": 12,
   "id": "e94dc2c1-31c3-4b8c-a119-ed73bbe7363d",
   "metadata": {},
   "outputs": [
    {
     "data": {
      "text/html": [
       "\"<polygon id='-' np=5 ir=3 x=80.0 y=125.0 angle=0.6283185307179586 cx=80.0 points='85.0 125.0,82.42705098312484 126.76335575687742,81.54508497187474 129.75528258147577,79.07294901687516 127.85316954888546,75.95491502812527 127.93892626146237,77.0 125.0,75.95491502812526 122.06107373853763,79.07294901687516 122.14683045111454,81.54508497187473 120.24471741852423,82.42705098312484 123.23664424312258,85.0 125.0' r=10 cy=125.0 style='fill:#D5635C;'></polygon><polygon id='-' np=5 ir=3 x=160.0 y=125.0 angle=0.6283185307179586 cx=160.0 points='165.0 125.0,162.42705098312484 126.76335575687742,161.54508497187473 129.75528258147577,159.07294901687516 127.85316954888546,155.95491502812527 127.93892626146237,157.0 125.0,155.95491502812527 122.06107373853763,159.07294901687516 122.14683045111454,161.54508497187473 120.24471741852423,162.42705098312484 123.23664424312258,165.0 125.0' r=10 cy=125.0 style='fill:#60AD51;'></polygon><polygon id='-' np=5 ir=3 x=240.0 y=125.0 angle=0.6283185307179586 cx=240.0 points='245.0 125.0,242.42705098312484 126.76335575687742,241.54508497187473 129.75528258147577,239.07294901687516 127.85316954888546,235.95491502812527 127.93892626146237,237.0 125.0,235.95491502812527 122.06107373853763,239.07294901687516 122.14683045111454,241.54508497187473 120.24471741852423,242.42705098312484 123.23664424312258,245.0 125.0' r=10 cy=125.0 style='fill:#AA79C1;'></polygon>\""
      ],
      "text/plain": [
       "3-element Vector{Component{:star}}:\n",
       " Component{:star}(\"-\", Dict{Symbol, Any}(:extras => AbstractComponent[], :np => 5, :ir => 3, :angle => 0.6283185307179586, :cx => 80.0, :text => \"\", :r => 10, :cy => 125.0, :style => \"fill:#D5635C;\", :children => AbstractComponent[]…), \"polygon\")\n",
       " Component{:star}(\"-\", Dict{Symbol, Any}(:extras => AbstractComponent[], :np => 5, :ir => 3, :angle => 0.6283185307179586, :cx => 160.0, :text => \"\", :r => 10, :cy => 125.0, :style => \"fill:#60AD51;\", :children => AbstractComponent[]…), \"polygon\")\n",
       " Component{:star}(\"-\", Dict{Symbol, Any}(:extras => AbstractComponent[], :np => 5, :ir => 3, :angle => 0.6283185307179586, :cx => 240.0, :text => \"\", :r => 10, :cy => 125.0, :style => \"fill:#AA79C1;\", :children => AbstractComponent[]…), \"polygon\")"
      ]
     },
     "execution_count": 12,
     "metadata": {},
     "output_type": "execute_result"
    }
   ],
   "source": [
    "window[:children] = [set_shape(comp, :star) for comp in window[:children]]"
   ]
  },
  {
   "cell_type": "code",
   "execution_count": 13,
   "id": "8c72b254-190d-4a09-8bc8-7e97ffd553ab",
   "metadata": {},
   "outputs": [
    {
     "data": {
      "text/html": [
       "\"<svg id='julia_over' height=250 width=250><polygon id='-' np=5 ir=3 x=80.0 y=125.0 angle=0.6283185307179586 cx=80.0 points='85.0 125.0,82.42705098312484 126.76335575687742,81.54508497187474 129.75528258147577,79.07294901687516 127.85316954888546,75.95491502812527 127.93892626146237,77.0 125.0,75.95491502812526 122.06107373853763,79.07294901687516 122.14683045111454,81.54508497187473 120.24471741852423,82.42705098312484 123.23664424312258,85.0 125.0' r=10 cy=125.0 style='fill:#D5635C;'></polygon><polygon id='-' np=5 ir=3 x=160.0 y=125.0 angle=0.6283185307179586 cx=160.0 points='165.0 125.0,162.42705098312484 126.76335575687742,161.54508497187473 129.75528258147577,159.07294901687516 127.85316954888546,155.95491502812527 127.93892626146237,157.0 125.0,155.95491502812527 122.06107373853763,159.07294901687516 122.14683045111454,161.54508497187473 120.24471741852423,162.42705098312484 123.23664424312258,165.0 125.0' r=10 cy=125.0 style='fill:#60AD51;'></polygon><polygon id='-' np=5 ir=3 x=240.0 y=125.0 angle=0.6283185307179586 cx=240.0 points='245.0 125.0,242.42705098312484 126.76335575687742,241.54508497187473 129.75528258147577,239.07294901687516 127.85316954888546,235.95491502812527 127.93892626146237,237.0 125.0,235.95491502812527 122.06107373853763,239.07294901687516 122.14683045111454,241.54508497187473 120.24471741852423,242.42705098312484 123.23664424312258,245.0 125.0' r=10 cy=125.0 style='fill:#AA79C1;'></polygon></svg>\""
      ],
      "text/plain": [
       "svg(\"julia_over\", Dict{Symbol, Any}(:extras => AbstractComponent[], :children => Component{:star}[Component{:star}(\"-\", Dict{Symbol, Any}(:extras => AbstractComponent[], :np => 5, :ir => 3, :angle => 0.6283185307179586, :cx => 80.0, :text => \"\", :r => 10, :cy => 125.0, :style => \"fill:#D5635C;\", :children => AbstractComponent[]…), \"polygon\"), Component{:star}(\"-\", Dict{Symbol, Any}(:extras => AbstractComponent[], :np => 5, :ir => 3, :angle => 0.6283185307179586, :cx => 160.0, :text => \"\", :r => 10, :cy => 125.0, :style => \"fill:#60AD51;\", :children => AbstractComponent[]…), \"polygon\"), Component{:star}(\"-\", Dict{Symbol, Any}(:extras => AbstractComponent[], :np => 5, :ir => 3, :angle => 0.6283185307179586, :cx => 240.0, :text => \"\", :r => 10, :cy => 125.0, :style => \"fill:#AA79C1;\", :children => AbstractComponent[]…), \"polygon\")], :height => 250, :text => \"\", :width => 250), \"svg\")"
      ]
     },
     "execution_count": 13,
     "metadata": {},
     "output_type": "execute_result"
    }
   ],
   "source": [
    "window"
   ]
  },
  {
   "cell_type": "code",
   "execution_count": 14,
   "id": "f244c208-2304-48d6-ae9b-556da02cb76a",
   "metadata": {},
   "outputs": [
    {
     "data": {
      "text/plain": [
       "\"M50 50L100 50L100 100L50 100L50 50Z\""
      ]
     },
     "execution_count": 14,
     "metadata": {},
     "output_type": "execute_result"
    }
   ],
   "source": [
    "squarepath = path(\"new-square\")\n",
    "M!(squarepath, 50, 50)\n",
    "L!(squarepath, 100, 50)\n",
    "L!(squarepath, 100, 100)\n",
    "L!(squarepath, 50, 100)\n",
    "L!(squarepath, 50, 50)\n",
    "Z!(squarepath)"
   ]
  },
  {
   "cell_type": "code",
   "execution_count": 15,
   "id": "6a3fede9-83a0-4f11-8cce-9693df81c1b9",
   "metadata": {},
   "outputs": [
    {
     "data": {
      "text/html": [
       "\"<div id='holder' style='padding:10px;'><svg id='main' height=200 width=200><path id='new-square' d='M50 50L100 50L100 100L50 100L50 50Z'></path></svg></div>\""
      ],
      "text/plain": [
       "Component{:div}(\"holder\", Dict{Symbol, Any}(:extras => AbstractComponent[], :children => svg[svg(\"main\", Dict{Symbol, Any}(:extras => AbstractComponent[], :children => Component{:path}[Component{:path}(\"new-square\", Dict{Symbol, Any}(:extras => AbstractComponent[], :children => AbstractComponent[], :d => \"M50 50L100 50L100 100L50 100L50 50Z\", :text => \"\"), \"path\")], :height => 200, :text => \"\", :width => 200), \"svg\")], :text => \"\", :style => \"padding:10px;\"), \"div\")"
      ]
     },
     "execution_count": 15,
     "metadata": {},
     "output_type": "execute_result"
    }
   ],
   "source": [
    "window = svg(\"main\", width = 200, height = 200, children = [squarepath])\n",
    "cont = div(\"holder\", children = [window])\n",
    "style!(cont, \"padding\" => 10px)\n",
    "cont"
   ]
  },
  {
   "cell_type": "code",
   "execution_count": 16,
   "id": "2a96a801-a115-43eb-9a36-5c2d6f8bf7fa",
   "metadata": {},
   "outputs": [
    {
     "data": {
      "text/plain": [
       "\"M12 21.593c-5.63-5.539-11-10.297-11-14.402 0-3.791 3.068-5.191 5.281-5.191 1.312 0 4.151.501 5.719 4.457 1.59-3.968 4.464-4.447 5.726-4.447 2.54 0 5.274 1.621 5.274 5.181 0 4.069-5.136 8.625-11 14.402m5.726-20.583c-2.203 0-4.446 1.042-5.726 3.238-1.285-2.206-3.522-3.248-5.719-3.248-3.183 0-6.281 2.187-6.281 6.191 0 4.661 5.571 9.429 12 15.809 6.43-6.38 12-11.148 12-15.809 0-4.011-3.095-6.181-6.274-6.181\""
      ]
     },
     "execution_count": 16,
     "metadata": {},
     "output_type": "execute_result"
    }
   ],
   "source": [
    "cuteheart = path(\"heart\")\n",
    "M!(cuteheart, 12, \"21.593c-5.63-5.539-11-10.297-11-14.402\", \n",
    "\"0-3.791 3.068-5.191 5.281-5.191 1.312\", 0, \"4.151.501\", \n",
    "5.719, 4.457, \"1.59-3.968\", \"4.464-4.447\",\n",
    " \"5.726-4.447\", 2.54, 0, 5.274, 1.621, 5.274, 5.181, 0,\n",
    " \"4.069-5.136 8.625-11\", \"14.402m5.726-20.583c-2.203\", \"0-4.446 1.042-5.726 3.238-1.285-2.206-3.522-3.248-5.719-3.248-3.183\",\n",
    "  \"0-6.281\", \"2.187-6.281\", 6.191, 0, 4.661, 5.571, 9.429, 12, 15.809, \"6.43-6.38 12-11.148 12-15.809\",\n",
    "   \"0-4.011-3.095-6.181-6.274-6.181\")"
   ]
  },
  {
   "cell_type": "code",
   "execution_count": 23,
   "id": "1b8b0041-7828-4c91-8c9e-23d5a6393292",
   "metadata": {},
   "outputs": [
    {
     "data": {
      "text/html": [
       "\"<svg id='-' height=25 width=25><path id='heart' d='M12 21.593c-5.63-5.539-11-10.297-11-14.402 0-3.791 3.068-5.191 5.281-5.191 1.312 0 4.151.501 5.719 4.457 1.59-3.968 4.464-4.447 5.726-4.447 2.54 0 5.274 1.621 5.274 5.181 0 4.069-5.136 8.625-11 14.402m5.726-20.583c-2.203 0-4.446 1.042-5.726 3.238-1.285-2.206-3.522-3.248-5.719-3.248-3.183 0-6.281 2.187-6.281 6.191 0 4.661 5.571 9.429 12 15.809 6.43-6.38 12-11.148 12-15.809 0-4.011-3.095-6.181-6.274-6.181'></path></svg>\""
      ],
      "text/plain": [
       "svg(\"-\", Dict{Symbol, Any}(:extras => AbstractComponent[], :children => Component{:path}[Component{:path}(\"heart\", Dict{Symbol, Any}(:extras => AbstractComponent[], :children => AbstractComponent[], :d => \"M12 21.593c-5.63-5.539-11-10.297-11-14.402 0-3.791 3.068-5.191 5.281-5.191 1.312 0 4.151.501 5.719 4.457 1.59-3.968 4.464-4.447 5.726-4.447 2.54 0 5.274 1.621 5.274 5.181 0 4.069-5.136 8.625-11 14.402m5.726-20.583c-2.203 0-4.446 1.042-5.726 3.238-1.285-2.206-3.522-3.248-5.719-3.248-3.183 0-6.281 2.187-6.281 6.191 0 4.661 5.571 9.429 12 15.809 6.43-6.38 12-11.148 12-15.809 0-4.011-3.095-6.181-6.274-6.181\", :text => \"\"), \"path\")], :height => 25, :text => \"\", :width => 25), \"svg\")"
      ]
     },
     "execution_count": 23,
     "metadata": {},
     "output_type": "execute_result"
    }
   ],
   "source": [
    "neww = svg(width = 25, height = 25, children = [cuteheart])"
   ]
  },
  {
   "cell_type": "code",
   "execution_count": null,
   "id": "02785464-7019-47c5-85ca-0f15c936dbcf",
   "metadata": {},
   "outputs": [],
   "source": []
  },
  {
   "cell_type": "code",
   "execution_count": null,
   "id": "28b106d3-0a40-4405-a3e6-b8644a49627f",
   "metadata": {},
   "outputs": [],
   "source": []
  }
 ],
 "metadata": {
  "kernelspec": {
   "display_name": "Julia 1.9.2",
   "language": "julia",
   "name": "julia-1.9"
  },
  "language_info": {
   "file_extension": ".jl",
   "mimetype": "application/julia",
   "name": "julia",
   "version": "1.9.2"
  }
 },
 "nbformat": 4,
 "nbformat_minor": 5
}
