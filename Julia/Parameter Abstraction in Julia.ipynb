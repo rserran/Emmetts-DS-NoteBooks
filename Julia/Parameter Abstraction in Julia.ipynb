{
 "cells": [
  {
   "cell_type": "code",
   "execution_count": 1,
   "id": "00dff245",
   "metadata": {},
   "outputs": [],
   "source": [
    "using Statistics"
   ]
  },
  {
   "cell_type": "code",
   "execution_count": 2,
   "id": "15596448",
   "metadata": {},
   "outputs": [],
   "source": [
    "abstract type ModelType end\n",
    "\n",
    "abstract type Categorical <: ModelType end\n",
    "\n",
    "abstract type Classifier <: Categorical end\n",
    "\n",
    "abstract type Continuous <: ModelType end"
   ]
  },
  {
   "cell_type": "code",
   "execution_count": 3,
   "id": "b5572ccb",
   "metadata": {},
   "outputs": [],
   "source": [
    "abstract type AbstractModel end\n",
    "\n",
    "mutable struct Model{T <: Any} <: AbstractModel\n",
    "    data::Dict{String, Any}\n",
    "    Model{T}() where {T <: ModelType} = new{T}(Dict{String, Any}())\n",
    "end"
   ]
  },
  {
   "cell_type": "code",
   "execution_count": 4,
   "id": "e0fde207",
   "metadata": {},
   "outputs": [
    {
     "data": {
      "text/plain": [
       "accuracy (generic function with 1 method)"
      ]
     },
     "execution_count": 4,
     "metadata": {},
     "output_type": "execute_result"
    }
   ],
   "source": [
    "function accuracy(model::AbstractModel, testx::Vector{<:Any}, testy::Vector{<:Any})\n",
    "    yhat::Vector{<:Any} = predict(model, testx)\n",
    "    bitmask::Vector{Bool} = [begin \n",
    "        if x == y \n",
    "           true\n",
    "        else \n",
    "           false\n",
    "        end\n",
    "    end for (x, y) in zip(yhat, testy)]\n",
    "    (length(bitmask) / length(findall(x -> x, bitmask)))::Real\n",
    "end"
   ]
  },
  {
   "cell_type": "code",
   "execution_count": 16,
   "id": "d0bf0dc4",
   "metadata": {},
   "outputs": [
    {
     "data": {
      "text/plain": [
       "accuracy (generic function with 2 methods)"
      ]
     },
     "execution_count": 16,
     "metadata": {},
     "output_type": "execute_result"
    }
   ],
   "source": [
    "function accuracy(model::Model{<:Continuous}, testx::Vector{<:Any}, testy::Vector{<:Any})\n",
    "    yhat::Vector{<:Any} = predict(model, testx)\n",
    "    (cor(yhat, testy) ^ 2)::Number\n",
    "end"
   ]
  },
  {
   "cell_type": "code",
   "execution_count": 17,
   "id": "f828acc6",
   "metadata": {},
   "outputs": [],
   "source": [
    "abstract type MajorityClass <: Categorical end\n",
    "\n",
    "abstract type MeanBaseline <: Continuous end"
   ]
  },
  {
   "cell_type": "code",
   "execution_count": 18,
   "id": "3b32c604",
   "metadata": {},
   "outputs": [
    {
     "data": {
      "text/plain": [
       "MeanBaseline"
      ]
     },
     "execution_count": 18,
     "metadata": {},
     "output_type": "execute_result"
    }
   ],
   "source": [
    "MajorityClass() = Model{MajorityClass}()\n",
    "MeanBaseline() = Model{MeanBaseline}()"
   ]
  },
  {
   "cell_type": "code",
   "execution_count": 19,
   "id": "77003072",
   "metadata": {},
   "outputs": [
    {
     "data": {
      "text/plain": [
       "fit! (generic function with 1 method)"
      ]
     },
     "execution_count": 19,
     "metadata": {},
     "output_type": "execute_result"
    }
   ],
   "source": [
    "function fit!(model::Model{MeanBaseline}, trainx::Vector{<:Any}, trainy::Vector{<:Any})\n",
    "    push!(model.data, \"mu\" => Float64(sum(trainy) / length(trainy)))\n",
    "end"
   ]
  },
  {
   "cell_type": "code",
   "execution_count": 20,
   "id": "8c2fdd24",
   "metadata": {},
   "outputs": [
    {
     "data": {
      "text/plain": [
       "predict (generic function with 1 method)"
      ]
     },
     "execution_count": 20,
     "metadata": {},
     "output_type": "execute_result"
    }
   ],
   "source": [
    "predict(model::Model{MeanBaseline}, testx) = begin\n",
    "    if ~(\"mu\" in keys(model.data))\n",
    "        throw(\"this model has not been fitted to data yet. Use `fit!` first.\")\n",
    "    end\n",
    "    mean::Real = model.data[\"mu\"]\n",
    "    [mean for x in testx]::Vector{<:Any}\n",
    "end"
   ]
  },
  {
   "cell_type": "code",
   "execution_count": 21,
   "id": "799a4cdc",
   "metadata": {},
   "outputs": [
    {
     "data": {
      "text/plain": [
       "4-element Vector{Int64}:\n",
       " 5\n",
       " 7\n",
       " 4\n",
       " 4"
      ]
     },
     "execution_count": 21,
     "metadata": {},
     "output_type": "execute_result"
    }
   ],
   "source": [
    "trainx = [5, 5, 6, 2, 3, 7, 5]\n",
    "trainy = [5, 8, 4, 3, 3, 4, 6]\n",
    "testx = [5, 6, 3, 4]\n",
    "testy = [5, 7, 4, 4]"
   ]
  },
  {
   "cell_type": "code",
   "execution_count": 22,
   "id": "85f57077",
   "metadata": {},
   "outputs": [
    {
     "data": {
      "text/plain": [
       "Model{MeanBaseline}(Dict{String, Any}())"
      ]
     },
     "execution_count": 22,
     "metadata": {},
     "output_type": "execute_result"
    }
   ],
   "source": [
    "mymodel = MeanBaseline()"
   ]
  },
  {
   "cell_type": "code",
   "execution_count": 23,
   "id": "eef544b2",
   "metadata": {},
   "outputs": [
    {
     "data": {
      "text/plain": [
       "Dict{String, Any} with 1 entry:\n",
       "  \"mu\" => 4.71429"
      ]
     },
     "execution_count": 23,
     "metadata": {},
     "output_type": "execute_result"
    }
   ],
   "source": [
    "fit!(mymodel, trainx, trainy)"
   ]
  },
  {
   "cell_type": "code",
   "execution_count": 24,
   "id": "c978295e",
   "metadata": {},
   "outputs": [
    {
     "data": {
      "text/plain": [
       "4-element Vector{Float64}:\n",
       " 4.714285714285714\n",
       " 4.714285714285714\n",
       " 4.714285714285714\n",
       " 4.714285714285714"
      ]
     },
     "execution_count": 24,
     "metadata": {},
     "output_type": "execute_result"
    }
   ],
   "source": [
    "predict(mymodel, testx)"
   ]
  },
  {
   "cell_type": "code",
   "execution_count": 25,
   "id": "af56cfc7",
   "metadata": {},
   "outputs": [
    {
     "name": "stdout",
     "output_type": "stream",
     "text": [
      "[4.714285714285714, 4.714285714285714, 4.714285714285714, 4.714285714285714]\n"
     ]
    },
    {
     "data": {
      "text/plain": [
       "NaN"
      ]
     },
     "execution_count": 25,
     "metadata": {},
     "output_type": "execute_result"
    }
   ],
   "source": [
    "accuracy(mymodel, testx, testy)"
   ]
  },
  {
   "cell_type": "code",
   "execution_count": null,
   "id": "84e05062",
   "metadata": {},
   "outputs": [],
   "source": []
  }
 ],
 "metadata": {
  "kernelspec": {
   "display_name": "Julia 1.9.2",
   "language": "julia",
   "name": "julia-1.9"
  },
  "language_info": {
   "file_extension": ".jl",
   "mimetype": "application/julia",
   "name": "julia",
   "version": "1.9.2"
  }
 },
 "nbformat": 4,
 "nbformat_minor": 5
}
