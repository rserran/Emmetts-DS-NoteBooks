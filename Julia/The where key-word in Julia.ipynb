{
 "cells": [
  {
   "cell_type": "markdown",
   "metadata": {},
   "source": [
    "# Sub-typing"
   ]
  },
  {
   "cell_type": "code",
   "execution_count": 7,
   "metadata": {},
   "outputs": [
    {
     "data": {
      "text/plain": [
       "true"
      ]
     },
     "execution_count": 7,
     "metadata": {},
     "output_type": "execute_result"
    }
   ],
   "source": [
    "Int64 <: Number"
   ]
  },
  {
   "cell_type": "code",
   "execution_count": 8,
   "metadata": {},
   "outputs": [
    {
     "data": {
      "text/plain": [
       "true"
      ]
     },
     "execution_count": 8,
     "metadata": {},
     "output_type": "execute_result"
    }
   ],
   "source": [
    "Int64 <: Integer"
   ]
  },
  {
   "cell_type": "code",
   "execution_count": 9,
   "metadata": {},
   "outputs": [
    {
     "data": {
      "text/plain": [
       "supertypes (generic function with 1 method)"
      ]
     },
     "execution_count": 9,
     "metadata": {},
     "output_type": "execute_result"
    }
   ],
   "source": [
    "function supertypes(T::Type)\n",
    "    S = supertype(T)\n",
    "    return S === T ? (T,) : (T, supertypes(S)...)\n",
    "end"
   ]
  },
  {
   "cell_type": "code",
   "execution_count": 10,
   "metadata": {},
   "outputs": [
    {
     "data": {
      "text/plain": [
       "(Int64, Signed, Integer, Real, Number, Any)"
      ]
     },
     "execution_count": 10,
     "metadata": {},
     "output_type": "execute_result"
    }
   ],
   "source": [
    "supertypes(Int64)"
   ]
  },
  {
   "cell_type": "code",
   "execution_count": 21,
   "metadata": {},
   "outputs": [
    {
     "data": {
      "text/plain": [
       "6-element Vector{Base.MethodList}:\n",
       " # 15 methods for type constructor:\n",
       "[1] (::Type{T})(x::AbstractChar) where T<:Union{Int32, Int64} in Base at char.jl:51\n",
       "[2] (::Type{T})(x::AbstractChar) where T<:Union{AbstractChar, Number} in Base at char.jl:50\n",
       "[3] (::Type{T})(x::BigInt) where T<:Union{Int128, Int16, Int32, Int64, Int8} in Base.GMP at gmp.jl:357\n",
       "[4] (::Type{T})(x::Base.TwicePrecision) where T<:Number in Base at twiceprecision.jl:255\n",
       "[5] (::Type{T})(z::Complex) where T<:Real in Base at complex.jl:44\n",
       "[6] (::Type{T})(x::Rational) where T<:Integer in Base at rational.jl:110\n",
       "[7] (::Type{T})(x::Enum{T2}) where {T<:Integer, T2<:Integer} in Base.Enums at Enums.jl:19\n",
       "[8] (::Type{T})(x::BigFloat) where T<:Integer in Base.MPFR at mpfr.jl:325\n",
       "[9] (dt::Type{<:Integer})(ip::Sockets.IPAddr) in Sockets at /opt/julia-1.6.3/julia-1.6.3/share/julia/stdlib/v1.7/Sockets/src/IPAddr.jl:11\n",
       "[10] Int64(x::Union{Bool, Int32, Int64, UInt32, UInt64, UInt8, Int128, Int16, Int8, UInt128, UInt16}) in Core at boot.jl:762\n",
       "[11] Int64(x::Ptr) in Core at boot.jl:772\n",
       "[12] Int64(x::Float16) in Base at float.jl:808\n",
       "[13] Int64(x::Float32) in Base at float.jl:808\n",
       "[14] Int64(x::Float64) in Base at float.jl:808\n",
       "[15] (::Type{T})(x::T) where T<:Number in Core at boot.jl:770\n",
       " # 15 methods for type constructor:\n",
       "[1] (::Type{T})(x::AbstractChar) where T<:Union{AbstractChar, Number} in Base at char.jl:50\n",
       "[2] (::Type{T})(x::Base.TwicePrecision) where T<:Number in Base at twiceprecision.jl:255\n",
       "[3] (::Type{T})(z::Complex) where T<:Real in Base at complex.jl:44\n",
       "[4] (::Type{T})(x::Rational) where T<:Integer in Base at rational.jl:110\n",
       "[5] (::Type{T})(x::Enum{T2}) where {T<:Integer, T2<:Integer} in Base.Enums at Enums.jl:19\n",
       "[6] (::Type{T})(x::BigFloat) where T<:Integer in Base.MPFR at mpfr.jl:325\n",
       "[7] (dt::Type{<:Integer})(ip::Sockets.IPAddr) in Sockets at /opt/julia-1.6.3/julia-1.6.3/share/julia/stdlib/v1.7/Sockets/src/IPAddr.jl:11\n",
       "[8] Signed(x::Union{Bool, Float16, Float32, Float64}) in Core at boot.jl:792\n",
       "[9] Signed(x::UInt8) in Core at boot.jl:781\n",
       "[10] Signed(x::UInt16) in Core at boot.jl:783\n",
       "[11] Signed(x::UInt32) in Core at boot.jl:785\n",
       "[12] Signed(x::UInt64) in Core at boot.jl:787\n",
       "[13] Signed(x::UInt128) in Core at boot.jl:789\n",
       "[14] Signed(x::BigInt) in Base.GMP at gmp.jl:261\n",
       "[15] (::Type{T})(x::T) where T<:Number in Core at boot.jl:770\n",
       " # 10 methods for type constructor:\n",
       "[1] (::Type{T})(x::AbstractChar) where T<:Union{AbstractChar, Number} in Base at char.jl:50\n",
       "[2] (::Type{T})(x::Base.TwicePrecision) where T<:Number in Base at twiceprecision.jl:255\n",
       "[3] (::Type{T})(z::Complex) where T<:Real in Base at complex.jl:44\n",
       "[4] Integer(x::Integer) in Core at boot.jl:795\n",
       "[5] Integer(x::Union{Float16, Float32, Float64}) in Core at boot.jl:796\n",
       "[6] (::Type{T})(x::Rational) where T<:Integer in Base at rational.jl:110\n",
       "[7] (::Type{T})(x::Enum{T2}) where {T<:Integer, T2<:Integer} in Base.Enums at Enums.jl:19\n",
       "[8] (::Type{T})(x::BigFloat) where T<:Integer in Base.MPFR at mpfr.jl:325\n",
       "[9] (::Type{T})(x::T) where T<:Number in Core at boot.jl:770\n",
       "[10] (dt::Type{<:Integer})(ip::Sockets.IPAddr) in Sockets at /opt/julia-1.6.3/julia-1.6.3/share/julia/stdlib/v1.7/Sockets/src/IPAddr.jl:11\n",
       " # 4 methods for type constructor:\n",
       "[1] (::Type{T})(x::AbstractChar) where T<:Union{AbstractChar, Number} in Base at char.jl:50\n",
       "[2] (::Type{T})(x::Base.TwicePrecision) where T<:Number in Base at twiceprecision.jl:255\n",
       "[3] (::Type{T})(z::Complex) where T<:Real in Base at complex.jl:44\n",
       "[4] (::Type{T})(x::T) where T<:Number in Core at boot.jl:770\n",
       " # 3 methods for type constructor:\n",
       "[1] (::Type{T})(x::AbstractChar) where T<:Union{AbstractChar, Number} in Base at char.jl:50\n",
       "[2] (::Type{T})(x::T) where T<:Number in Core at boot.jl:770\n",
       "[3] (::Type{T})(x::Base.TwicePrecision) where T<:Number in Base at twiceprecision.jl:255\n",
       " # 0 methods for type constructor:"
      ]
     },
     "execution_count": 21,
     "metadata": {},
     "output_type": "execute_result"
    }
   ],
   "source": [
    "[methods(x) for x in supertypes(Int64)]"
   ]
  },
  {
   "cell_type": "code",
   "execution_count": 11,
   "metadata": {},
   "outputs": [
    {
     "data": {
      "text/plain": [
       "true"
      ]
     },
     "execution_count": 11,
     "metadata": {},
     "output_type": "execute_result"
    }
   ],
   "source": [
    "Int64 <: Signed <: Integer <: Real <: Number <: Any"
   ]
  },
  {
   "cell_type": "code",
   "execution_count": 14,
   "metadata": {},
   "outputs": [],
   "source": [
    "abstract type Pickle end"
   ]
  },
  {
   "cell_type": "code",
   "execution_count": 15,
   "metadata": {},
   "outputs": [],
   "source": [
    "struct DillPickle <: Pickle\n",
    "    count::Integer\n",
    "end\n",
    "\n",
    "struct BreadButterPickle <: Pickle\n",
    "    count::Integer\n",
    "end"
   ]
  },
  {
   "cell_type": "code",
   "execution_count": 16,
   "metadata": {},
   "outputs": [
    {
     "data": {
      "text/plain": [
       "n_pickles (generic function with 1 method)"
      ]
     },
     "execution_count": 16,
     "metadata": {},
     "output_type": "execute_result"
    }
   ],
   "source": [
    "n_pickles(x::Pickle) = println(x.count)"
   ]
  },
  {
   "cell_type": "code",
   "execution_count": 19,
   "metadata": {},
   "outputs": [
    {
     "data": {
      "text/plain": [
       "true"
      ]
     },
     "execution_count": 19,
     "metadata": {},
     "output_type": "execute_result"
    }
   ],
   "source": [
    "DillPickle <: Pickle"
   ]
  },
  {
   "cell_type": "code",
   "execution_count": 17,
   "metadata": {},
   "outputs": [
    {
     "name": "stdout",
     "output_type": "stream",
     "text": [
      "5\n"
     ]
    }
   ],
   "source": [
    "n_pickles(DillPickle(5))"
   ]
  },
  {
   "cell_type": "code",
   "execution_count": 22,
   "metadata": {},
   "outputs": [
    {
     "name": "stdout",
     "output_type": "stream",
     "text": [
      "5\n"
     ]
    }
   ],
   "source": [
    "n_pickles(BreadButterPickle(5))"
   ]
  },
  {
   "cell_type": "markdown",
   "metadata": {},
   "source": [
    "# Where"
   ]
  },
  {
   "cell_type": "code",
   "execution_count": 5,
   "metadata": {},
   "outputs": [
    {
     "data": {
      "text/plain": [
       "add (generic function with 1 method)"
      ]
     },
     "execution_count": 5,
     "metadata": {},
     "output_type": "execute_result"
    }
   ],
   "source": [
    "add(x::T) where {T<:Number} = x + 1"
   ]
  },
  {
   "cell_type": "code",
   "execution_count": 6,
   "metadata": {},
   "outputs": [
    {
     "data": {
      "text/plain": [
       "6"
      ]
     },
     "execution_count": 6,
     "metadata": {},
     "output_type": "execute_result"
    }
   ],
   "source": [
    "add(5)"
   ]
  },
  {
   "cell_type": "code",
   "execution_count": 24,
   "metadata": {},
   "outputs": [
    {
     "data": {
      "text/plain": [
       "add (generic function with 2 methods)"
      ]
     },
     "execution_count": 24,
     "metadata": {},
     "output_type": "execute_result"
    }
   ],
   "source": [
    "add(x::T) where {T<:AbstractString}  = x * \"d\""
   ]
  },
  {
   "cell_type": "code",
   "execution_count": 25,
   "metadata": {},
   "outputs": [
    {
     "data": {
      "text/plain": [
       "\"hellod\""
      ]
     },
     "execution_count": 25,
     "metadata": {},
     "output_type": "execute_result"
    }
   ],
   "source": [
    "add(\"hello\")"
   ]
  },
  {
   "cell_type": "code",
   "execution_count": 32,
   "metadata": {},
   "outputs": [
    {
     "data": {
      "text/plain": [
       "add (generic function with 4 methods)"
      ]
     },
     "execution_count": 32,
     "metadata": {},
     "output_type": "execute_result"
    }
   ],
   "source": [
    "add(x::T, y::P) where {T<:Number, P<:AbstractString} = println(\"Number first\")\n",
    "add(x::T, y::P) where {T<:AbstractString, P<:Number} = println(\"String first\")"
   ]
  },
  {
   "cell_type": "code",
   "execution_count": 33,
   "metadata": {},
   "outputs": [
    {
     "name": "stdout",
     "output_type": "stream",
     "text": [
      "Number first\n"
     ]
    }
   ],
   "source": [
    "add(5, \"hi\")"
   ]
  },
  {
   "cell_type": "code",
   "execution_count": 34,
   "metadata": {},
   "outputs": [
    {
     "name": "stdout",
     "output_type": "stream",
     "text": [
      "String first\n"
     ]
    }
   ],
   "source": [
    "add(\"hi\", 5)"
   ]
  },
  {
   "cell_type": "code",
   "execution_count": 41,
   "metadata": {},
   "outputs": [
    {
     "data": {
      "text/html": [
       "string(x::<b>T</b>)<i> where T<:Union{Float16, Float32, Float64}</i> in Base.Ryu at <a href=\"https://github.com/JuliaLang/julia/tree/bf534986350a991e4a1b29126de0342ffd76205e/base/ryu/Ryu.jl#L121\" target=\"_blank\">ryu/Ryu.jl:121</a>"
      ],
      "text/plain": [
       "string(x::T) where T<:Union{Float16, Float32, Float64} in Base.Ryu at ryu/Ryu.jl:121"
      ]
     },
     "execution_count": 41,
     "metadata": {},
     "output_type": "execute_result"
    }
   ],
   "source": [
    "methods(string)[2]"
   ]
  },
  {
   "cell_type": "code",
   "execution_count": null,
   "metadata": {},
   "outputs": [],
   "source": []
  }
 ],
 "metadata": {
  "kernelspec": {
   "display_name": "Julia 1.7.2",
   "language": "julia",
   "name": "julia-1.7"
  },
  "language_info": {
   "file_extension": ".jl",
   "mimetype": "application/julia",
   "name": "julia",
   "version": "1.7.2"
  }
 },
 "nbformat": 4,
 "nbformat_minor": 4
}
