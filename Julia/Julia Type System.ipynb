{
 "cells": [
  {
   "cell_type": "code",
   "execution_count": 1,
   "id": "170096f2-1c25-44a9-acb9-2c2303cf953d",
   "metadata": {},
   "outputs": [],
   "source": [
    "using PyCall"
   ]
  },
  {
   "cell_type": "code",
   "execution_count": 2,
   "id": "09b85fbb-21dc-4fa1-9b89-407684e9e8e8",
   "metadata": {},
   "outputs": [],
   "source": [
    "py\"\"\"\n",
    "class Main:\n",
    "    def method1(self):\n",
    "        return(5)\n",
    "    def method2(self):\n",
    "        return(10)\"\"\""
   ]
  },
  {
   "cell_type": "code",
   "execution_count": 3,
   "id": "1619a1ea-1fd0-40e6-97d0-ed6629daab14",
   "metadata": {},
   "outputs": [
    {
     "data": {
      "text/plain": [
       "method2 (generic function with 1 method)"
      ]
     },
     "execution_count": 3,
     "metadata": {},
     "output_type": "execute_result"
    }
   ],
   "source": [
    "struct Sample end\n",
    "\n",
    "method1(m::Sample) = 5\n",
    "method2(m::Sample) = 10"
   ]
  },
  {
   "cell_type": "code",
   "execution_count": 4,
   "id": "9c983898-77e1-4ea9-916b-38e99419d1ff",
   "metadata": {},
   "outputs": [
    {
     "data": {
      "text/html": [
       "# 1 method for generic function <b>method1</b> from \u001b[35mMain\u001b[39m:<ul><li> method1(m::<b>Sample</b>) in Main at In[3]:3</li> </ul>"
      ],
      "text/plain": [
       "# 1 method for generic function \"method1\" from \u001b[35mMain\u001b[39m:\n",
       " [1] method1(\u001b[90mm\u001b[39m::\u001b[1mSample\u001b[22m)\n",
       "\u001b[90m     @\u001b[39m \u001b[90m\u001b[4mIn[3]:3\u001b[24m\u001b[39m"
      ]
     },
     "execution_count": 4,
     "metadata": {},
     "output_type": "execute_result"
    }
   ],
   "source": [
    "methods(method1)"
   ]
  },
  {
   "cell_type": "code",
   "execution_count": 5,
   "id": "4102ce72-550a-4cd9-97c4-bce5dab4eb1c",
   "metadata": {},
   "outputs": [
    {
     "data": {
      "text/plain": [
       "example (generic function with 0 methods)"
      ]
     },
     "execution_count": 5,
     "metadata": {},
     "output_type": "execute_result"
    }
   ],
   "source": [
    "function example end"
   ]
  },
  {
   "cell_type": "code",
   "execution_count": 6,
   "id": "c9cf4244-93a5-4e8c-9a08-b8a411a50652",
   "metadata": {},
   "outputs": [
    {
     "data": {
      "text/html": [
       "# 236 methods for generic function <b>getindex</b> from \u001b[90mBase\u001b[39m:<ul><li> getindex(r::<b>Union{LinRange, StepRangeLen}</b>, i::<b>Integer</b>) in Base at <a href=\"https://github.com/JuliaLang/julia/tree/e4ee485e90961018b7e53ce14b8b99335953e176/base/range.jl#L937\" target=\"_blank\">range.jl:937</a></li> <li> getindex(v::<b>Union{LinearAlgebra.Adjoint{T, var\"#s971\"}, LinearAlgebra.Transpose{T, var\"#s971\"}} where var\"#s971\"<:(AbstractVector)</b>, i::<b>Int64</b>)<i> where T</i> in LinearAlgebra at <a href=\"file:///builddir/build/BUILD/julia-1.9.2/build/usr/share/julia/stdlib/v1.9/LinearAlgebra/src/adjtrans.jl\" target=\"_blank\">/usr/share/julia/stdlib/v1.9/LinearAlgebra/src/adjtrans.jl:302</a></li> <li> getindex(A::<b>Union{LinearAlgebra.Adjoint{T, var\"#s971\"}, LinearAlgebra.Transpose{T, var\"#s971\"}} where var\"#s971\"<:(AbstractMatrix)</b>, i::<b>Int64</b>, j::<b>Int64</b>)<i> where T</i> in LinearAlgebra at <a href=\"file:///builddir/build/BUILD/julia-1.9.2/build/usr/share/julia/stdlib/v1.9/LinearAlgebra/src/adjtrans.jl\" target=\"_blank\">/usr/share/julia/stdlib/v1.9/LinearAlgebra/src/adjtrans.jl:303</a></li> <li> getindex(v::<b>Union{LinearAlgebra.Adjoint{T, var\"#s971\"}, LinearAlgebra.Transpose{T, var\"#s971\"}} where {T, var\"#s971\"<:(AbstractVector)}</b>, ::<b>Colon</b>, is::<b>AbstractArray{Int64}</b>) in LinearAlgebra at <a href=\"file:///builddir/build/BUILD/julia-1.9.2/build/usr/share/julia/stdlib/v1.9/LinearAlgebra/src/adjtrans.jl\" target=\"_blank\">/usr/share/julia/stdlib/v1.9/LinearAlgebra/src/adjtrans.jl:307</a></li> <li> getindex(v::<b>Union{LinearAlgebra.Adjoint{T, var\"#s971\"}, LinearAlgebra.Transpose{T, var\"#s971\"}} where {T, var\"#s971\"<:(AbstractVector)}</b>, ::<b>Colon</b>, ::<b>Colon</b>) in LinearAlgebra at <a href=\"file:///builddir/build/BUILD/julia-1.9.2/build/usr/share/julia/stdlib/v1.9/LinearAlgebra/src/adjtrans.jl\" target=\"_blank\">/usr/share/julia/stdlib/v1.9/LinearAlgebra/src/adjtrans.jl:308</a></li> <li> getindex(V::<b>SubArray{var\"#s92\", 1, P, I, true} where {var\"#s92\", P, I<:Union{Tuple{Vararg{Real}}, Tuple{AbstractUnitRange, Vararg{Any}}}}</b>, i::<b>Int64</b>) in Base at <a href=\"https://github.com/JuliaLang/julia/tree/e4ee485e90961018b7e53ce14b8b99335953e176/base/subarray.jl#L316\" target=\"_blank\">subarray.jl:316</a></li> <li> getindex(V::<b>SubArray{var\"#s92\", 1, P, I, true} where {var\"#s92\", P, I}</b>, i::<b>Int64</b>) in Base at <a href=\"https://github.com/JuliaLang/julia/tree/e4ee485e90961018b7e53ce14b8b99335953e176/base/subarray.jl#L310\" target=\"_blank\">subarray.jl:310</a></li> <li> getindex(V::<b>SubArray{T, N, P, I, true} where {T, N, P, I<:Union{Tuple{Vararg{Real}}, Tuple{AbstractUnitRange, Vararg{Any}}}}</b>, i::<b>Int64</b>) in Base at <a href=\"https://github.com/JuliaLang/julia/tree/e4ee485e90961018b7e53ce14b8b99335953e176/base/subarray.jl#L302\" target=\"_blank\">subarray.jl:302</a></li> <li> getindex(V::<b>SubArray{T, N}</b>, I::<b>Vararg{Int64, N}</b>)<i> where {T, N}</i> in Base at <a href=\"https://github.com/JuliaLang/julia/tree/e4ee485e90961018b7e53ce14b8b99335953e176/base/subarray.jl#L283\" target=\"_blank\">subarray.jl:283</a></li> <li> getindex(V::<b>SubArray{T, N, P, I, true} where {T, N, P, I}</b>, i::<b>Int64</b>) in Base at <a href=\"https://github.com/JuliaLang/julia/tree/e4ee485e90961018b7e53ce14b8b99335953e176/base/subarray.jl#L292\" target=\"_blank\">subarray.jl:292</a></li> <li> getindex(p::<b>Base.BinaryPlatforms.AbstractPlatform</b>, k::<b>String</b>) in Base.BinaryPlatforms at <a href=\"https://github.com/JuliaLang/julia/tree/e4ee485e90961018b7e53ce14b8b99335953e176/base/binaryplatforms.jl#L151\" target=\"_blank\">binaryplatforms.jl:151</a></li> <li> getindex(v::<b>Base.OneTo{T}</b>, i::<b>Integer</b>)<i> where T</i> in Base at <a href=\"https://github.com/JuliaLang/julia/tree/e4ee485e90961018b7e53ce14b8b99335953e176/base/range.jl#L919\" target=\"_blank\">range.jl:919</a></li> <li> getindex(r::<b>Base.OneTo{T}</b>, s::<b>Base.OneTo</b>)<i> where T</i> in Base at <a href=\"https://github.com/JuliaLang/julia/tree/e4ee485e90961018b7e53ce14b8b99335953e176/base/range.jl#L986\" target=\"_blank\">range.jl:986</a></li> <li> getindex(S::<b>Base.OneTo</b>, I::<b>Base.IdentityUnitRange{<:AbstractUnitRange{<:Integer}}</b>) in Base at <a href=\"https://github.com/JuliaLang/julia/tree/e4ee485e90961018b7e53ce14b8b99335953e176/base/indices.jl#L426\" target=\"_blank\">indices.jl:426</a></li> <li> getindex(a::<b>PyVector</b>) in PyCall at <a href=\"file:///home/emmac/.julia/packages/PyCall/1gn3u/src/conversions.jl\" target=\"_blank\">/home/emmac/.julia/packages/PyCall/1gn3u/src/conversions.jl:274</a></li> <li> getindex(a::<b>PyVector{T}</b>, i::<b>Integer</b>)<i> where T</i> in PyCall at <a href=\"file:///home/emmac/.julia/packages/PyCall/1gn3u/src/conversions.jl\" target=\"_blank\">/home/emmac/.julia/packages/PyCall/1gn3u/src/conversions.jl:275</a></li> <li> getindex(index::<b>CartesianIndex</b>, i::<b>Integer</b>) in Base.IteratorsMD at <a href=\"https://github.com/JuliaLang/julia/tree/e4ee485e90961018b7e53ce14b8b99335953e176/base/multidimensional.jl#L90\" target=\"_blank\">multidimensional.jl:90</a></li> <li> getindex(iter::<b>CartesianIndices{N, R}</b>, I::<b>Vararg{Int64, N}</b>)<i> where {N, R}</i> in Base.IteratorsMD at <a href=\"https://github.com/JuliaLang/julia/tree/e4ee485e90961018b7e53ce14b8b99335953e176/base/multidimensional.jl#L343\" target=\"_blank\">multidimensional.jl:343</a></li> <li> getindex(iter::<b>CartesianIndices{N, R}</b>, I::<b>Vararg{Union{Colon, OrdinalRange{<:Integer, <:Integer}}, N}</b>)<i> where {N, R}</i> in Base.IteratorsMD at <a href=\"https://github.com/JuliaLang/julia/tree/e4ee485e90961018b7e53ce14b8b99335953e176/base/multidimensional.jl#L356\" target=\"_blank\">multidimensional.jl:356</a></li> <li> getindex(iter::<b>CartesianIndices{0, R} where R<:Tuple{}</b>, ::<b>CartesianIndices{0, R} where R<:Tuple{}</b>) in Base.IteratorsMD at <a href=\"https://github.com/JuliaLang/julia/tree/e4ee485e90961018b7e53ce14b8b99335953e176/base/multidimensional.jl#L368\" target=\"_blank\">multidimensional.jl:368</a></li> <li> getindex(iter::<b>CartesianIndices{0, R}</b>)<i> where R</i> in Base.IteratorsMD at <a href=\"https://github.com/JuliaLang/julia/tree/e4ee485e90961018b7e53ce14b8b99335953e176/base/multidimensional.jl#L340\" target=\"_blank\">multidimensional.jl:340</a></li> <li> getindex(iter::<b>CartesianIndices{N, R} where R<:Tuple{Vararg{OrdinalRange{Int64, Int64}, N}}</b>, C::<b>CartesianIndices{N, R} where R<:Tuple{Vararg{OrdinalRange{Int64, Int64}, N}}</b>)<i> where N</i> in Base.IteratorsMD at <a href=\"https://github.com/JuliaLang/julia/tree/e4ee485e90961018b7e53ce14b8b99335953e176/base/multidimensional.jl#L364\" target=\"_blank\">multidimensional.jl:364</a></li> <li> getindex(iter::<b>Base.SCartesianIndices2{K}</b>, i::<b>Int64</b>, j::<b>Int64</b>)<i> where K</i> in Base at <a href=\"https://github.com/JuliaLang/julia/tree/e4ee485e90961018b7e53ce14b8b99335953e176/base/reinterpretarray.jl#L262\" target=\"_blank\">reinterpretarray.jl:262</a></li> <li> getindex(a::<b>Test.GenericArray</b>, i::<b>Int64</b>) in Test at <a href=\"file:///builddir/build/BUILD/julia-1.9.2/build/usr/share/julia/stdlib/v1.9/Test/src/Test.jl\" target=\"_blank\">/usr/share/julia/stdlib/v1.9/Test/src/Test.jl:2055</a></li> <li> getindex(A::<b>LinearAlgebra.Hermitian</b>, i::<b>Integer</b>, j::<b>Integer</b>) in LinearAlgebra at <a href=\"file:///builddir/build/BUILD/julia-1.9.2/build/usr/share/julia/stdlib/v1.9/LinearAlgebra/src/symmetric.jl\" target=\"_blank\">/usr/share/julia/stdlib/v1.9/LinearAlgebra/src/symmetric.jl:215</a></li> <li> getindex(v::<b>Base.Sort.WithoutMissingVector</b>, i::<b>Integer</b>) in Base.Sort at <a href=\"https://github.com/JuliaLang/julia/tree/e4ee485e90961018b7e53ce14b8b99335953e176/base/sort.jl#L510\" target=\"_blank\">sort.jl:510</a></li> <li> getindex(v::<b>Base.Pairs</b>, key) in Base.Iterators at <a href=\"https://github.com/JuliaLang/julia/tree/e4ee485e90961018b7e53ce14b8b99335953e176/base/iterators.jl#L320\" target=\"_blank\">iterators.jl:320</a></li> <li> getindex(b::<b>Base.RefArray</b>) in Base at <a href=\"https://github.com/JuliaLang/julia/tree/e4ee485e90961018b7e53ce14b8b99335953e176/base/refpointer.jl#L183\" target=\"_blank\">refpointer.jl:183</a></li> <li> getindex(r::<b>AbstractRange</b>, ::<b>Colon</b>) in Base at <a href=\"https://github.com/JuliaLang/julia/tree/e4ee485e90961018b7e53ce14b8b99335953e176/base/range.jl#L969\" target=\"_blank\">range.jl:969</a></li> <li> getindex(io::<b>IJulia.IJuliaStdio</b>, key) in IJulia at <a href=\"file:///home/emmac/.julia/packages/IJulia/Vo51o/src/stdio.jl\" target=\"_blank\">/home/emmac/.julia/packages/IJulia/Vo51o/src/stdio.jl:20</a></li> <li> getindex(a::<b>Base.ReinterpretArray{T, 0, S, A, false} where A<:AbstractArray{S, 0}</b>)<i> where {T, S}</i> in Base at <a href=\"https://github.com/JuliaLang/julia/tree/e4ee485e90961018b7e53ce14b8b99335953e176/base/reinterpretarray.jl#L355\" target=\"_blank\">reinterpretarray.jl:355</a></li> <li> getindex(a::<b>Base.ReinterpretArray{T, N, S, A} where A<:(AbstractArray{S})</b>, inds::<b>Vararg{Int64, N}</b>)<i> where {T, N, S}</i> in Base at <a href=\"https://github.com/JuliaLang/julia/tree/e4ee485e90961018b7e53ce14b8b99335953e176/base/reinterpretarray.jl#L365\" target=\"_blank\">reinterpretarray.jl:365</a></li> <li> getindex(a::<b>Base.ReinterpretArray{T, N, S, A} where A<:(AbstractArray{S})</b>, i::<b>Int64</b>)<i> where {T, N, S}</i> in Base at <a href=\"https://github.com/JuliaLang/julia/tree/e4ee485e90961018b7e53ce14b8b99335953e176/base/reinterpretarray.jl#L370\" target=\"_blank\">reinterpretarray.jl:370</a></li> <li> getindex(a::<b>Base.ReinterpretArray{T, N, S, A, true} where A<:(AbstractArray{S})</b>, ind::<b>Base.SCartesianIndex2</b>)<i> where {T, N, S}</i> in Base at <a href=\"https://github.com/JuliaLang/julia/tree/e4ee485e90961018b7e53ce14b8b99335953e176/base/reinterpretarray.jl#L381\" target=\"_blank\">reinterpretarray.jl:381</a></li> <li> getindex(a::<b>Base.ReinterpretArray</b>) in Base at <a href=\"https://github.com/JuliaLang/julia/tree/e4ee485e90961018b7e53ce14b8b99335953e176/base/reinterpretarray.jl#L363\" target=\"_blank\">reinterpretarray.jl:363</a></li> <li> getindex(iter::<b>LinearIndices</b>, i::<b>Int64</b>) in Base at <a href=\"https://github.com/JuliaLang/julia/tree/e4ee485e90961018b7e53ce14b8b99335953e176/base/indices.jl#L507\" target=\"_blank\">indices.jl:507</a></li> <li> getindex(iter::<b>LinearIndices</b>, i::<b>AbstractRange{<:Integer}</b>) in Base at <a href=\"https://github.com/JuliaLang/julia/tree/e4ee485e90961018b7e53ce14b8b99335953e176/base/indices.jl#L512\" target=\"_blank\">indices.jl:512</a></li> <li> getindex(t::<b>NamedTuple</b>, i::<b>Int64</b>) in Base at <a href=\"https://github.com/JuliaLang/julia/tree/e4ee485e90961018b7e53ce14b8b99335953e176/base/namedtuple.jl#L136\" target=\"_blank\">namedtuple.jl:136</a></li> <li> getindex(t::<b>NamedTuple</b>, i::<b>Symbol</b>) in Base at <a href=\"https://github.com/JuliaLang/julia/tree/e4ee485e90961018b7e53ce14b8b99335953e176/base/namedtuple.jl#L137\" target=\"_blank\">namedtuple.jl:137</a></li> <li> getindex(t::<b>NamedTuple</b>, idxs::<b>Tuple{Vararg{Symbol}}</b>) in Base at <a href=\"https://github.com/JuliaLang/julia/tree/e4ee485e90961018b7e53ce14b8b99335953e176/base/namedtuple.jl#L138\" target=\"_blank\">namedtuple.jl:138</a></li> <li> getindex(t::<b>NamedTuple</b>, idxs::<b>AbstractVector{Symbol}</b>) in Base at <a href=\"https://github.com/JuliaLang/julia/tree/e4ee485e90961018b7e53ce14b8b99335953e176/base/namedtuple.jl#L139\" target=\"_blank\">namedtuple.jl:139</a></li> <li> getindex(S::<b>Base.IdentityUnitRange</b>, i::<b>Int64</b>) in Base at <a href=\"https://github.com/JuliaLang/julia/tree/e4ee485e90961018b7e53ce14b8b99335953e176/base/indices.jl#L418\" target=\"_blank\">indices.jl:418</a></li> <li> getindex(S::<b>Base.IdentityUnitRange</b>, i::<b>AbstractUnitRange{<:Integer}</b>) in Base at <a href=\"https://github.com/JuliaLang/julia/tree/e4ee485e90961018b7e53ce14b8b99335953e176/base/indices.jl#L419\" target=\"_blank\">indices.jl:419</a></li> <li> getindex(S::<b>Base.IdentityUnitRange</b>, i::<b>StepRange{<:Integer}</b>) in Base at <a href=\"https://github.com/JuliaLang/julia/tree/e4ee485e90961018b7e53ce14b8b99335953e176/base/indices.jl#L420\" target=\"_blank\">indices.jl:420</a></li> <li> getindex(a::<b>PyArray{<:Any, 1}</b>, i::<b>Integer</b>) in PyCall at <a href=\"file:///home/emmac/.julia/packages/PyCall/1gn3u/src/pyarray.jl\" target=\"_blank\">/home/emmac/.julia/packages/PyCall/1gn3u/src/pyarray.jl:184</a></li> <li> getindex(a::<b>PyArray</b>, i::<b>Integer</b>) in PyCall at <a href=\"file:///home/emmac/.julia/packages/PyCall/1gn3u/src/pyarray.jl\" target=\"_blank\">/home/emmac/.julia/packages/PyCall/1gn3u/src/pyarray.jl:187</a></li> <li> getindex(a::<b>PyArray</b>, i::<b>Integer...</b>) in PyCall at <a href=\"file:///home/emmac/.julia/packages/PyCall/1gn3u/src/pyarray.jl\" target=\"_blank\">/home/emmac/.julia/packages/PyCall/1gn3u/src/pyarray.jl:183</a></li> <li> getindex(a::<b>PyArray</b>, i::<b>CartesianIndex</b>) in PyCall at <a href=\"file:///home/emmac/.julia/packages/PyCall/1gn3u/src/pyarray.jl\" target=\"_blank\">/home/emmac/.julia/packages/PyCall/1gn3u/src/pyarray.jl:178</a></li> <li> getindex(::<b>Random.SamplerType{T}</b>)<i> where T</i> in Random at <a href=\"file:///builddir/build/BUILD/julia-1.9.2/build/usr/share/julia/stdlib/v1.9/Random/src/Random.jl\" target=\"_blank\">/usr/share/julia/stdlib/v1.9/Random/src/Random.jl:167</a></li> <li> getindex(x::<b>Number</b>) in Base at <a href=\"https://github.com/JuliaLang/julia/tree/e4ee485e90961018b7e53ce14b8b99335953e176/base/number.jl#L95\" target=\"_blank\">number.jl:95</a></li> <li> getindex(x::<b>Number</b>, i::<b>Integer</b>) in Base at <a href=\"https://github.com/JuliaLang/julia/tree/e4ee485e90961018b7e53ce14b8b99335953e176/base/number.jl#L96\" target=\"_blank\">number.jl:96</a></li> <li> getindex(x::<b>Number</b>, I::<b>Integer...</b>) in Base at <a href=\"https://github.com/JuliaLang/julia/tree/e4ee485e90961018b7e53ce14b8b99335953e176/base/number.jl#L101\" target=\"_blank\">number.jl:101</a></li> <li> getindex(v::<b>UnitRange{T}</b>, i::<b>Integer</b>)<i> where T<:Union{Bool, Int128, Int16, Int32, Int64, Int8, UInt128, UInt16, UInt32, UInt64, UInt8}</i> in Base at <a href=\"https://github.com/JuliaLang/julia/tree/e4ee485e90961018b7e53ce14b8b99335953e176/base/range.jl#L911\" target=\"_blank\">range.jl:911</a></li> <li> getindex(v::<b>UnitRange{T}</b>, i::<b>Integer</b>)<i> where T</i> in Base at <a href=\"https://github.com/JuliaLang/julia/tree/e4ee485e90961018b7e53ce14b8b99335953e176/base/range.jl#L900\" target=\"_blank\">range.jl:900</a></li> <li> getindex(wkh::<b>WeakKeyDict{K}</b>, key)<i> where K</i> in Base at <a href=\"https://github.com/JuliaLang/julia/tree/e4ee485e90961018b7e53ce14b8b99335953e176/base/weakkeydict.jl#L185\" target=\"_blank\">weakkeydict.jl:185</a></li> <li> getindex(bc::<b>Base.Broadcast.Broadcasted</b>) in Base.Broadcast at <a href=\"https://github.com/JuliaLang/julia/tree/e4ee485e90961018b7e53ce14b8b99335953e176/base/broadcast.jl#L619\" target=\"_blank\">broadcast.jl:619</a></li> <li> getindex(bc::<b>Base.Broadcast.Broadcasted</b>, I::<b>Union{Integer, CartesianIndex}</b>) in Base.Broadcast at <a href=\"https://github.com/JuliaLang/julia/tree/e4ee485e90961018b7e53ce14b8b99335953e176/base/broadcast.jl#L608\" target=\"_blank\">broadcast.jl:608</a></li> <li> getindex(bc::<b>Base.Broadcast.Broadcasted</b>, i1::<b>Union{Integer, CartesianIndex}</b>, i2::<b>Union{Integer, CartesianIndex}</b>, I::<b>Union{Integer, CartesianIndex}...</b>) in Base.Broadcast at <a href=\"https://github.com/JuliaLang/julia/tree/e4ee485e90961018b7e53ce14b8b99335953e176/base/broadcast.jl#L617\" target=\"_blank\">broadcast.jl:617</a></li> <li> getindex(B::<b>BitArray</b>, i::<b>Int64</b>) in Base at <a href=\"https://github.com/JuliaLang/julia/tree/e4ee485e90961018b7e53ce14b8b99335953e176/base/bitarray.jl#L680\" target=\"_blank\">bitarray.jl:680</a></li> <li> getindex(A::<b>Base.ReshapedArray{T, N}</b>, indices::<b>Vararg{Int64, N}</b>)<i> where {T, N}</i> in Base at <a href=\"https://github.com/JuliaLang/julia/tree/e4ee485e90961018b7e53ce14b8b99335953e176/base/reshapedarray.jl#L234\" target=\"_blank\">reshapedarray.jl:234</a></li> <li> getindex(A::<b>Base.ReshapedArray{T, N, P, Tuple{}} where {T, N, P<:AbstractArray}</b>, index::<b>Int64</b>) in Base at <a href=\"https://github.com/JuliaLang/julia/tree/e4ee485e90961018b7e53ce14b8b99335953e176/base/reshapedarray.jl#L229\" target=\"_blank\">reshapedarray.jl:229</a></li> <li> getindex(A::<b>Base.ReshapedArray</b>, index::<b>Base.ReshapedIndex</b>) in Base at <a href=\"https://github.com/JuliaLang/julia/tree/e4ee485e90961018b7e53ce14b8b99335953e176/base/reshapedarray.jl#L238\" target=\"_blank\">reshapedarray.jl:238</a></li> <li> getindex(b::<b>Base.RefValue</b>) in Base at <a href=\"https://github.com/JuliaLang/julia/tree/e4ee485e90961018b7e53ce14b8b99335953e176/base/refvalue.jl#L56\" target=\"_blank\">refvalue.jl:56</a></li> <li> getindex(d::<b>IdDict{K, V}</b>, key)<i> where {K, V}</i> in Base at <a href=\"https://github.com/JuliaLang/julia/tree/e4ee485e90961018b7e53ce14b8b99335953e176/base/iddict.jl#L106\" target=\"_blank\">iddict.jl:106</a></li> <li> getindex(Q::<b>LinearAlgebra.AbstractQ</b>, ::<b>Colon</b>, ::<b>Colon</b>) in LinearAlgebra at <a href=\"file:///builddir/build/BUILD/julia-1.9.2/build/usr/share/julia/stdlib/v1.9/LinearAlgebra/src/qr.jl\" target=\"_blank\">/usr/share/julia/stdlib/v1.9/LinearAlgebra/src/qr.jl:590</a></li> <li> getindex(Q::<b>LinearAlgebra.AbstractQ</b>, ::<b>Colon</b>, j::<b>Int64</b>) in LinearAlgebra at <a href=\"file:///builddir/build/BUILD/julia-1.9.2/build/usr/share/julia/stdlib/v1.9/LinearAlgebra/src/qr.jl\" target=\"_blank\">/usr/share/julia/stdlib/v1.9/LinearAlgebra/src/qr.jl:592</a></li> <li> getindex(Q::<b>LinearAlgebra.AbstractQ</b>, i::<b>Int64</b>, j::<b>Int64</b>) in LinearAlgebra at <a href=\"file:///builddir/build/BUILD/julia-1.9.2/build/usr/share/julia/stdlib/v1.9/LinearAlgebra/src/qr.jl\" target=\"_blank\">/usr/share/julia/stdlib/v1.9/LinearAlgebra/src/qr.jl:598</a></li> <li> getindex(Q::<b>LinearAlgebra.AbstractQ</b>, inds...) in LinearAlgebra at <a href=\"file:///builddir/build/BUILD/julia-1.9.2/build/usr/share/julia/stdlib/v1.9/LinearAlgebra/src/qr.jl\" target=\"_blank\">/usr/share/julia/stdlib/v1.9/LinearAlgebra/src/qr.jl:589</a></li> <li> getindex(H::<b>LinearAlgebra.UpperHessenberg{T, S} where S<:AbstractMatrix{T}</b>, i::<b>Integer</b>, j::<b>Integer</b>)<i> where T</i> in LinearAlgebra at <a href=\"file:///builddir/build/BUILD/julia-1.9.2/build/usr/share/julia/stdlib/v1.9/LinearAlgebra/src/hessenberg.jl\" target=\"_blank\">/usr/share/julia/stdlib/v1.9/LinearAlgebra/src/hessenberg.jl:78</a></li> <li> getindex(A::<b>LinearAlgebra.UpperTriangular</b>, i::<b>Integer</b>, j::<b>Integer</b>) in LinearAlgebra at <a href=\"file:///builddir/build/BUILD/julia-1.9.2/build/usr/share/julia/stdlib/v1.9/LinearAlgebra/src/triangular.jl\" target=\"_blank\">/usr/share/julia/stdlib/v1.9/LinearAlgebra/src/triangular.jl:232</a></li> <li> getindex(A::<b>Array</b>, i1::<b>Int64</b>) in Base at <a href=\"https://github.com/JuliaLang/julia/tree/e4ee485e90961018b7e53ce14b8b99335953e176/base/essentials.jl#L13\" target=\"_blank\">essentials.jl:13</a></li> <li> getindex(A::<b>Array</b>, i1::<b>Int64</b>, i2::<b>Int64</b>, I::<b>Int64...</b>) in Base at <a href=\"https://github.com/JuliaLang/julia/tree/e4ee485e90961018b7e53ce14b8b99335953e176/base/essentials.jl#L14\" target=\"_blank\">essentials.jl:14</a></li> <li> getindex(a::<b>Array</b>, r::<b>AbstractUnitRange{Bool}</b>) in Base at <a href=\"https://github.com/JuliaLang/julia/tree/e4ee485e90961018b7e53ce14b8b99335953e176/base/array.jl#L931\" target=\"_blank\">array.jl:931</a></li> <li> getindex(A::<b>Array</b>, I::<b>AbstractUnitRange{<:Integer}</b>) in Base at <a href=\"https://github.com/JuliaLang/julia/tree/e4ee485e90961018b7e53ce14b8b99335953e176/base/array.jl#L919\" target=\"_blank\">array.jl:919</a></li> <li> getindex(A::<b>Array</b>, c::<b>Colon</b>) in Base at <a href=\"https://github.com/JuliaLang/julia/tree/e4ee485e90961018b7e53ce14b8b99335953e176/base/array.jl#L933\" target=\"_blank\">array.jl:933</a></li> <li> getindex(A::<b>Array{S}</b>, I::<b>AbstractRange{Int64}</b>)<i> where S</i> in Base at <a href=\"https://github.com/JuliaLang/julia/tree/e4ee485e90961018b7e53ce14b8b99335953e176/base/array.jl#L943\" target=\"_blank\">array.jl:943</a></li> <li> getindex(A::<b>Array</b>, i1::<b>Integer</b>, I::<b>Integer...</b>) in Base at <a href=\"https://github.com/JuliaLang/julia/tree/e4ee485e90961018b7e53ce14b8b99335953e176/base/abstractarray.jl#L1297\" target=\"_blank\">abstractarray.jl:1297</a></li> <li> getindex(A::<b>Array</b>, i1::<b>Union{Integer, CartesianIndex}</b>, I::<b>Union{Integer, CartesianIndex}...</b>) in Base at <a href=\"https://github.com/JuliaLang/julia/tree/e4ee485e90961018b7e53ce14b8b99335953e176/base/multidimensional.jl#L668\" target=\"_blank\">multidimensional.jl:668</a></li> <li> getindex(sp::<b>Random.SamplerSimple</b>) in Random at <a href=\"file:///builddir/build/BUILD/julia-1.9.2/build/usr/share/julia/stdlib/v1.9/Random/src/Random.jl\" target=\"_blank\">/usr/share/julia/stdlib/v1.9/Random/src/Random.jl:204</a></li> <li> getindex(A::<b>LinearAlgebra.Tridiagonal{T, V} where V<:AbstractVector{T}</b>, i::<b>Integer</b>, j::<b>Integer</b>)<i> where T</i> in LinearAlgebra at <a href=\"file:///builddir/build/BUILD/julia-1.9.2/build/usr/share/julia/stdlib/v1.9/LinearAlgebra/src/tridiag.jl\" target=\"_blank\">/usr/share/julia/stdlib/v1.9/LinearAlgebra/src/tridiag.jl:652</a></li> <li> getindex(A::<b>LinearAlgebra.Symmetric</b>, i::<b>Integer</b>, j::<b>Integer</b>) in LinearAlgebra at <a href=\"file:///builddir/build/BUILD/julia-1.9.2/build/usr/share/julia/stdlib/v1.9/LinearAlgebra/src/symmetric.jl\" target=\"_blank\">/usr/share/julia/stdlib/v1.9/LinearAlgebra/src/symmetric.jl:205</a></li> <li> getindex(r::<b>StepRange</b>, s::<b>AbstractRange{T}</b>)<i> where T<:Integer</i> in Base at <a href=\"https://github.com/JuliaLang/julia/tree/e4ee485e90961018b7e53ce14b8b99335953e176/base/range.jl#L1008\" target=\"_blank\">range.jl:1008</a></li> <li> getindex(A::<b>LinearAlgebra.UnitLowerTriangular{T, S} where S<:AbstractMatrix{T}</b>, i::<b>Integer</b>, j::<b>Integer</b>)<i> where T</i> in LinearAlgebra at <a href=\"file:///builddir/build/BUILD/julia-1.9.2/build/usr/share/julia/stdlib/v1.9/LinearAlgebra/src/triangular.jl\" target=\"_blank\">/usr/share/julia/stdlib/v1.9/LinearAlgebra/src/triangular.jl:226</a></li> <li> getindex(itr::<b>Base.SkipMissing</b>, I...) in Base at <a href=\"https://github.com/JuliaLang/julia/tree/e4ee485e90961018b7e53ce14b8b99335953e176/base/missing.jl#L266\" target=\"_blank\">missing.jl:266</a></li> <li> getindex(r::<b>LinRange{T}</b>, s::<b>OrdinalRange{S}</b>)<i> where {T, S<:Integer}</i> in Base at <a href=\"https://github.com/JuliaLang/julia/tree/e4ee485e90961018b7e53ce14b8b99335953e176/base/range.jl#L1067\" target=\"_blank\">range.jl:1067</a></li> <li> getindex(b::<b>Ref</b>, ::<b>CartesianIndex{0}</b>) in Base at <a href=\"https://github.com/JuliaLang/julia/tree/e4ee485e90961018b7e53ce14b8b99335953e176/base/multidimensional.jl#L1882\" target=\"_blank\">multidimensional.jl:1882</a></li> <li> getindex(s::<b>Slices{P, SM, AX, S, N}</b>, I::<b>Vararg{Int64, N}</b>)<i> where {P, SM, AX, S, N}</i> in Base at <a href=\"https://github.com/JuliaLang/julia/tree/e4ee485e90961018b7e53ce14b8b99335953e176/base/slicearray.jl#L235\" target=\"_blank\">slicearray.jl:235</a></li> <li> getindex(io::<b>IOContext</b>, key) in Base at <a href=\"https://github.com/JuliaLang/julia/tree/e4ee485e90961018b7e53ce14b8b99335953e176/base/show.jl#L403\" target=\"_blank\">show.jl:403</a></li> <li> getindex(s::<b>Base.CodeUnits</b>, i::<b>Int64</b>) in Base at <a href=\"https://github.com/JuliaLang/julia/tree/e4ee485e90961018b7e53ce14b8b99335953e176/base/strings/basic.jl#L756\" target=\"_blank\">strings/basic.jl:756</a></li> <li> getindex(S::<b>Base.Slice</b>, i::<b>Int64</b>) in Base at <a href=\"https://github.com/JuliaLang/julia/tree/e4ee485e90961018b7e53ce14b8b99335953e176/base/indices.jl#L389\" target=\"_blank\">indices.jl:389</a></li> <li> getindex(v::<b>AbstractRange{T}</b>, i::<b>Integer</b>)<i> where T</i> in Base at <a href=\"https://github.com/JuliaLang/julia/tree/e4ee485e90961018b7e53ce14b8b99335953e176/base/range.jl#L926\" target=\"_blank\">range.jl:926</a></li> <li> getindex(S::<b>Base.Slice</b>, i::<b>AbstractUnitRange{<:Integer}</b>) in Base at <a href=\"https://github.com/JuliaLang/julia/tree/e4ee485e90961018b7e53ce14b8b99335953e176/base/indices.jl#L390\" target=\"_blank\">indices.jl:390</a></li> <li> getindex(S::<b>Base.Slice</b>, i::<b>StepRange{<:Integer}</b>) in Base at <a href=\"https://github.com/JuliaLang/julia/tree/e4ee485e90961018b7e53ce14b8b99335953e176/base/indices.jl#L391\" target=\"_blank\">indices.jl:391</a></li> <li> getindex(s::<b>AbstractString</b>, i::<b>Colon</b>) in Base at <a href=\"https://github.com/JuliaLang/julia/tree/e4ee485e90961018b7e53ce14b8b99335953e176/base/strings/basic.jl#L189\" target=\"_blank\">strings/basic.jl:189</a></li> <li> getindex(dict::<b>Base.ImmutableDict</b>, key) in Base at <a href=\"https://github.com/JuliaLang/julia/tree/e4ee485e90961018b7e53ce14b8b99335953e176/base/dict.jl#L801\" target=\"_blank\">dict.jl:801</a></li> <li> getindex(r::<b>StepRangeLen{T, <:Base.TwicePrecision, <:Base.TwicePrecision}</b>, s::<b>OrdinalRange{S}</b>)<i> where {T, S<:Integer}</i> in Base at <a href=\"https://github.com/JuliaLang/julia/tree/e4ee485e90961018b7e53ce14b8b99335953e176/base/twiceprecision.jl#L498\" target=\"_blank\">twiceprecision.jl:498</a></li> <li> getindex(r::<b>StepRangeLen{T}</b>, s::<b>OrdinalRange{S}</b>)<i> where {T, S<:Integer}</i> in Base at <a href=\"https://github.com/JuliaLang/julia/tree/e4ee485e90961018b7e53ce14b8b99335953e176/base/range.jl#L1037\" target=\"_blank\">range.jl:1037</a></li> <li> getindex(A::<b>SparseArrays.AbstractSparseMatrixCSC</b>, I::<b>Tuple{Integer, Integer}</b>) in SparseArrays at <a href=\"file:///builddir/build/BUILD/julia-1.9.2/build/usr/share/julia/stdlib/v1.9/SparseArrays/src/sparsematrix.jl\" target=\"_blank\">/usr/share/julia/stdlib/v1.9/SparseArrays/src/sparsematrix.jl:2496</a></li> <li> getindex(A::<b>SparseArrays.AbstractSparseMatrixCSC</b>, I::<b>Integer</b>, J::<b>AbstractVector{Bool}</b>) in SparseArrays at <a href=\"file:///builddir/build/BUILD/julia-1.9.2/build/usr/share/julia/stdlib/v1.9/SparseArrays/src/sparsematrix.jl\" target=\"_blank\">/usr/share/julia/stdlib/v1.9/SparseArrays/src/sparsematrix.jl:2935</a></li> <li> getindex(A::<b>SparseArrays.AbstractSparseMatrixCSC{T}</b>, i0::<b>Integer</b>, i1::<b>Integer</b>)<i> where T</i> in SparseArrays at <a href=\"file:///builddir/build/BUILD/julia-1.9.2/build/usr/share/julia/stdlib/v1.9/SparseArrays/src/sparsematrix.jl\" target=\"_blank\">/usr/share/julia/stdlib/v1.9/SparseArrays/src/sparsematrix.jl:2498</a></li> <li> getindex(A::<b>SparseArrays.AbstractSparseMatrixCSC</b>, i::<b>Integer</b>, ::<b>Colon</b>) in SparseArrays at <a href=\"file:///builddir/build/BUILD/julia-1.9.2/build/usr/share/julia/stdlib/v1.9/SparseArrays/src/sparsevector.jl\" target=\"_blank\">/usr/share/julia/stdlib/v1.9/SparseArrays/src/sparsevector.jl:645</a></li> <li> getindex(A::<b>SparseArrays.AbstractSparseMatrixCSC{Tv, Ti}</b>, i::<b>Integer</b>, J::<b>AbstractVector</b>)<i> where {Tv, Ti}</i> in SparseArrays at <a href=\"file:///builddir/build/BUILD/julia-1.9.2/build/usr/share/julia/stdlib/v1.9/SparseArrays/src/sparsevector.jl\" target=\"_blank\">/usr/share/julia/stdlib/v1.9/SparseArrays/src/sparsevector.jl:646</a></li> <li> getindex(A::<b>SparseArrays.AbstractSparseMatrixCSC{Tv}</b>, I::<b>AbstractUnitRange</b>)<i> where Tv</i> in SparseArrays at <a href=\"file:///builddir/build/BUILD/julia-1.9.2/build/usr/share/julia/stdlib/v1.9/SparseArrays/src/sparsevector.jl\" target=\"_blank\">/usr/share/julia/stdlib/v1.9/SparseArrays/src/sparsevector.jl:722</a></li> <li> getindex(A::<b>SparseArrays.AbstractSparseMatrixCSC</b>, I::<b>AbstractRange{Bool}</b>, J::<b>AbstractVector{Bool}</b>) in SparseArrays at <a href=\"file:///builddir/build/BUILD/julia-1.9.2/build/usr/share/julia/stdlib/v1.9/SparseArrays/src/sparsematrix.jl\" target=\"_blank\">/usr/share/julia/stdlib/v1.9/SparseArrays/src/sparsematrix.jl:2931</a></li> <li> getindex(A::<b>SparseArrays.AbstractSparseMatrixCSC</b>, I::<b>AbstractRange{<:Integer}</b>, J::<b>AbstractVector{Bool}</b>) in SparseArrays at <a href=\"file:///builddir/build/BUILD/julia-1.9.2/build/usr/share/julia/stdlib/v1.9/SparseArrays/src/sparsematrix.jl\" target=\"_blank\">/usr/share/julia/stdlib/v1.9/SparseArrays/src/sparsematrix.jl:2934</a></li> <li> getindex(A::<b>SparseArrays.AbstractSparseMatrixCSC</b>, I::<b>AbstractRange{Bool}</b>, J::<b>AbstractVector{<:Integer}</b>) in SparseArrays at <a href=\"file:///builddir/build/BUILD/julia-1.9.2/build/usr/share/julia/stdlib/v1.9/SparseArrays/src/sparsematrix.jl\" target=\"_blank\">/usr/share/julia/stdlib/v1.9/SparseArrays/src/sparsematrix.jl:2932</a></li> <li> getindex(A::<b>SparseArrays.AbstractSparseMatrixCSC{Tv, Ti}</b>, I::<b>AbstractRange</b>, J::<b>AbstractVector</b>)<i> where {Tv, Ti<:Integer}</i> in SparseArrays at <a href=\"file:///builddir/build/BUILD/julia-1.9.2/build/usr/share/julia/stdlib/v1.9/SparseArrays/src/sparsematrix.jl\" target=\"_blank\">/usr/share/julia/stdlib/v1.9/SparseArrays/src/sparsematrix.jl:2549</a></li> <li> getindex(x::<b>SparseArrays.AbstractSparseMatrixCSC</b>, I::<b>AbstractUnitRange</b>, j::<b>Integer</b>) in SparseArrays at <a href=\"file:///builddir/build/BUILD/julia-1.9.2/build/usr/share/julia/stdlib/v1.9/SparseArrays/src/sparsevector.jl\" target=\"_blank\">/usr/share/julia/stdlib/v1.9/SparseArrays/src/sparsevector.jl:627</a></li> <li> getindex(A::<b>SparseArrays.AbstractSparseMatrixCSC</b>, I::<b>AbstractVector{Bool}</b>) in SparseArrays at <a href=\"file:///builddir/build/BUILD/julia-1.9.2/build/usr/share/julia/stdlib/v1.9/SparseArrays/src/sparsevector.jl\" target=\"_blank\">/usr/share/julia/stdlib/v1.9/SparseArrays/src/sparsevector.jl:678</a></li> <li> getindex(A::<b>SparseArrays.AbstractSparseMatrixCSC</b>, I::<b>AbstractVector{Bool}</b>, J::<b>Integer</b>) in SparseArrays at <a href=\"file:///builddir/build/BUILD/julia-1.9.2/build/usr/share/julia/stdlib/v1.9/SparseArrays/src/sparsematrix.jl\" target=\"_blank\">/usr/share/julia/stdlib/v1.9/SparseArrays/src/sparsematrix.jl:2936</a></li> <li> getindex(A::<b>SparseArrays.AbstractSparseMatrixCSC</b>, I::<b>AbstractVector{Bool}</b>, J::<b>AbstractVector{Bool}</b>) in SparseArrays at <a href=\"file:///builddir/build/BUILD/julia-1.9.2/build/usr/share/julia/stdlib/v1.9/SparseArrays/src/sparsematrix.jl\" target=\"_blank\">/usr/share/julia/stdlib/v1.9/SparseArrays/src/sparsematrix.jl:2937</a></li> <li> getindex(A::<b>SparseArrays.AbstractSparseMatrixCSC</b>, I::<b>AbstractVector{<:Integer}</b>, J::<b>AbstractVector{Bool}</b>) in SparseArrays at <a href=\"file:///builddir/build/BUILD/julia-1.9.2/build/usr/share/julia/stdlib/v1.9/SparseArrays/src/sparsematrix.jl\" target=\"_blank\">/usr/share/julia/stdlib/v1.9/SparseArrays/src/sparsematrix.jl:2938</a></li> <li> getindex(A::<b>SparseArrays.AbstractSparseMatrixCSC</b>, I::<b>AbstractVector{Bool}</b>, J::<b>AbstractVector{<:Integer}</b>) in SparseArrays at <a href=\"file:///builddir/build/BUILD/julia-1.9.2/build/usr/share/julia/stdlib/v1.9/SparseArrays/src/sparsematrix.jl\" target=\"_blank\">/usr/share/julia/stdlib/v1.9/SparseArrays/src/sparsematrix.jl:2939</a></li> <li> getindex(A::<b>SparseArrays.AbstractSparseMatrixCSC</b>, I::<b>AbstractVector</b>, J::<b>Integer</b>) in SparseArrays at <a href=\"file:///builddir/build/BUILD/julia-1.9.2/build/usr/share/julia/stdlib/v1.9/SparseArrays/src/sparsevector.jl\" target=\"_blank\">/usr/share/julia/stdlib/v1.9/SparseArrays/src/sparsevector.jl:639</a></li> <li> getindex(A::<b>SparseArrays.AbstractSparseMatrixCSC</b>, I::<b>AbstractArray{Bool}</b>) in SparseArrays at <a href=\"file:///builddir/build/BUILD/julia-1.9.2/build/usr/share/julia/stdlib/v1.9/SparseArrays/src/sparsevector.jl\" target=\"_blank\">/usr/share/julia/stdlib/v1.9/SparseArrays/src/sparsevector.jl:679</a></li> <li> getindex(A::<b>SparseArrays.AbstractSparseMatrixCSC{Tv, Ti}</b>, I::<b>AbstractVector</b>)<i> where {Tv, Ti}</i> in SparseArrays at <a href=\"file:///builddir/build/BUILD/julia-1.9.2/build/usr/share/julia/stdlib/v1.9/SparseArrays/src/sparsevector.jl\" target=\"_blank\">/usr/share/julia/stdlib/v1.9/SparseArrays/src/sparsevector.jl:761</a></li> <li> getindex(A::<b>SparseArrays.AbstractSparseMatrixCSC{Tv, Ti}</b>, I::<b>AbstractVector</b>, J::<b>AbstractVector</b>)<i> where {Tv, Ti}</i> in SparseArrays at <a href=\"file:///builddir/build/BUILD/julia-1.9.2/build/usr/share/julia/stdlib/v1.9/SparseArrays/src/sparsematrix.jl\" target=\"_blank\">/usr/share/julia/stdlib/v1.9/SparseArrays/src/sparsematrix.jl:2862</a></li> <li> getindex(A::<b>SparseArrays.AbstractSparseMatrixCSC{Tv, Ti}</b>, I::<b>AbstractArray</b>)<i> where {Tv, Ti}</i> in SparseArrays at <a href=\"file:///builddir/build/BUILD/julia-1.9.2/build/usr/share/julia/stdlib/v1.9/SparseArrays/src/sparsematrix.jl\" target=\"_blank\">/usr/share/julia/stdlib/v1.9/SparseArrays/src/sparsematrix.jl:2887</a></li> <li> getindex(A::<b>SparseArrays.AbstractSparseMatrixCSC</b>, ::<b>Colon</b>) in SparseArrays at <a href=\"file:///builddir/build/BUILD/julia-1.9.2/build/usr/share/julia/stdlib/v1.9/SparseArrays/src/sparsevector.jl\" target=\"_blank\">/usr/share/julia/stdlib/v1.9/SparseArrays/src/sparsevector.jl:720</a></li> <li> getindex(A::<b>SparseArrays.AbstractSparseMatrixCSC</b>, ::<b>Colon</b>, ::<b>Colon</b>) in SparseArrays at <a href=\"file:///builddir/build/BUILD/julia-1.9.2/build/usr/share/julia/stdlib/v1.9/SparseArrays/src/sparsematrix.jl\" target=\"_blank\">/usr/share/julia/stdlib/v1.9/SparseArrays/src/sparsematrix.jl:2508</a></li> <li> getindex(A::<b>SparseArrays.AbstractSparseMatrixCSC</b>, i, ::<b>Colon</b>) in SparseArrays at <a href=\"file:///builddir/build/BUILD/julia-1.9.2/build/usr/share/julia/stdlib/v1.9/SparseArrays/src/sparsematrix.jl\" target=\"_blank\">/usr/share/julia/stdlib/v1.9/SparseArrays/src/sparsematrix.jl:2509</a></li> <li> getindex(x::<b>SparseArrays.AbstractSparseMatrixCSC</b>, ::<b>Colon</b>, j::<b>Integer</b>) in SparseArrays at <a href=\"file:///builddir/build/BUILD/julia-1.9.2/build/usr/share/julia/stdlib/v1.9/SparseArrays/src/sparsevector.jl\" target=\"_blank\">/usr/share/julia/stdlib/v1.9/SparseArrays/src/sparsevector.jl:620</a></li> <li> getindex(A::<b>SparseArrays.AbstractSparseMatrixCSC</b>, ::<b>Colon</b>, i) in SparseArrays at <a href=\"file:///builddir/build/BUILD/julia-1.9.2/build/usr/share/julia/stdlib/v1.9/SparseArrays/src/sparsematrix.jl\" target=\"_blank\">/usr/share/julia/stdlib/v1.9/SparseArrays/src/sparsematrix.jl:2510</a></li> <li> getindex(s::<b>SubString</b>, i::<b>Integer</b>) in Base at <a href=\"https://github.com/JuliaLang/julia/tree/e4ee485e90961018b7e53ce14b8b99335953e176/base/strings/substring.jl#L90\" target=\"_blank\">strings/substring.jl:90</a></li> <li> getindex(A::<b>LinearAlgebra.SymTridiagonal{T, V} where V<:AbstractVector{T}</b>, i::<b>Integer</b>, j::<b>Integer</b>)<i> where T</i> in LinearAlgebra at <a href=\"file:///builddir/build/BUILD/julia-1.9.2/build/usr/share/julia/stdlib/v1.9/LinearAlgebra/src/tridiag.jl\" target=\"_blank\">/usr/share/julia/stdlib/v1.9/LinearAlgebra/src/tridiag.jl:461</a></li> <li> getindex(t::<b>Tuple</b>, i::<b>Int64</b>) in Base at <a href=\"https://github.com/JuliaLang/julia/tree/e4ee485e90961018b7e53ce14b8b99335953e176/base/tuple.jl#L29\" target=\"_blank\">tuple.jl:29</a></li> <li> getindex(t::<b>Tuple</b>, i::<b>Integer</b>) in Base at <a href=\"https://github.com/JuliaLang/julia/tree/e4ee485e90961018b7e53ce14b8b99335953e176/base/tuple.jl#L30\" target=\"_blank\">tuple.jl:30</a></li> <li> getindex(t::<b>Tuple</b>, c::<b>Colon</b>) in Base at <a href=\"https://github.com/JuliaLang/julia/tree/e4ee485e90961018b7e53ce14b8b99335953e176/base/tuple.jl#L33\" target=\"_blank\">tuple.jl:33</a></li> <li> getindex(t::<b>Tuple</b>, r::<b>AbstractUnitRange</b>) in Base at <a href=\"https://github.com/JuliaLang/julia/tree/e4ee485e90961018b7e53ce14b8b99335953e176/base/range.jl#L415\" target=\"_blank\">range.jl:415</a></li> <li> getindex(t::<b>Tuple</b>, b::<b>AbstractVector{Bool}</b>) in Base at <a href=\"https://github.com/JuliaLang/julia/tree/e4ee485e90961018b7e53ce14b8b99335953e176/base/tuple.jl#L32\" target=\"_blank\">tuple.jl:32</a></li> <li> getindex(t::<b>Tuple</b>, r::<b>AbstractVector</b>) in Base at <a href=\"https://github.com/JuliaLang/julia/tree/e4ee485e90961018b7e53ce14b8b99335953e176/base/tuple.jl#L31\" target=\"_blank\">tuple.jl:31</a></li> <li> getindex(t::<b>Tuple</b>, i::<b>CartesianIndex{1}</b>) in Base at <a href=\"https://github.com/JuliaLang/julia/tree/e4ee485e90961018b7e53ce14b8b99335953e176/base/multidimensional.jl#L854\" target=\"_blank\">multidimensional.jl:854</a></li> <li> getindex(t::<b>Tuple</b>, i::<b>Real</b>) in Base at <a href=\"https://github.com/JuliaLang/julia/tree/e4ee485e90961018b7e53ce14b8b99335953e176/base/deprecated.jl#L103\" target=\"_blank\">deprecated.jl:103</a></li> <li> getindex(x::<b>SparseArrays.AbstractSparseVector{Tv, Ti}</b>, I::<b>AbstractUnitRange</b>)<i> where {Tv, Ti}</i> in SparseArrays at <a href=\"file:///builddir/build/BUILD/julia-1.9.2/build/usr/share/julia/stdlib/v1.9/SparseArrays/src/sparsevector.jl\" target=\"_blank\">/usr/share/julia/stdlib/v1.9/SparseArrays/src/sparsevector.jl:940</a></li> <li> getindex(x::<b>SparseArrays.AbstractSparseVector</b>, I::<b>AbstractVector{Bool}</b>) in SparseArrays at <a href=\"file:///builddir/build/BUILD/julia-1.9.2/build/usr/share/julia/stdlib/v1.9/SparseArrays/src/sparsevector.jl\" target=\"_blank\">/usr/share/julia/stdlib/v1.9/SparseArrays/src/sparsevector.jl:971</a></li> <li> getindex(x::<b>SparseArrays.AbstractSparseVector{Tv, Ti}</b>, I::<b>AbstractVector</b>)<i> where {Tv, Ti}</i> in SparseArrays at <a href=\"file:///builddir/build/BUILD/julia-1.9.2/build/usr/share/julia/stdlib/v1.9/SparseArrays/src/sparsevector.jl\" target=\"_blank\">/usr/share/julia/stdlib/v1.9/SparseArrays/src/sparsevector.jl:973</a></li> <li> getindex(x::<b>SparseArrays.AbstractSparseVector</b>, I::<b>AbstractArray{Bool}</b>) in SparseArrays at <a href=\"file:///builddir/build/BUILD/julia-1.9.2/build/usr/share/julia/stdlib/v1.9/SparseArrays/src/sparsevector.jl\" target=\"_blank\">/usr/share/julia/stdlib/v1.9/SparseArrays/src/sparsevector.jl:972</a></li> <li> getindex(x::<b>SparseArrays.AbstractSparseVector{Tv, Ti}</b>, I::<b>AbstractArray</b>)<i> where {Tv, Ti}</i> in SparseArrays at <a href=\"file:///builddir/build/BUILD/julia-1.9.2/build/usr/share/julia/stdlib/v1.9/SparseArrays/src/sparsevector.jl\" target=\"_blank\">/usr/share/julia/stdlib/v1.9/SparseArrays/src/sparsevector.jl:979</a></li> <li> getindex(x::<b>SparseArrays.AbstractSparseVector</b>, ::<b>Colon</b>) in SparseArrays at <a href=\"file:///builddir/build/BUILD/julia-1.9.2/build/usr/share/julia/stdlib/v1.9/SparseArrays/src/sparsevector.jl\" target=\"_blank\">/usr/share/julia/stdlib/v1.9/SparseArrays/src/sparsevector.jl:985</a></li> <li> getindex(A::<b>PermutedDimsArray{T, N, perm, iperm}</b>, I::<b>Vararg{Int64, N}</b>)<i> where {T, N, perm, iperm}</i> in Base.PermutedDimsArrays at <a href=\"https://github.com/JuliaLang/julia/tree/e4ee485e90961018b7e53ce14b8b99335953e176/base/permuteddimsarray.jl#L70\" target=\"_blank\">permuteddimsarray.jl:70</a></li> <li> getindex(S::<b>SharedArrays.SharedArray</b>, i::<b>Real</b>) in SharedArrays at <a href=\"file:///builddir/build/BUILD/julia-1.9.2/build/usr/share/julia/stdlib/v1.9/SharedArrays/src/SharedArrays.jl\" target=\"_blank\">/usr/share/julia/stdlib/v1.9/SharedArrays/src/SharedArrays.jl:510</a></li> <li> getindex(x::<b>SparseArrays.ReadOnly</b>, y...) in SparseArrays at <a href=\"file:///builddir/build/BUILD/julia-1.9.2/build/usr/share/julia/stdlib/v1.9/SparseArrays/src/readonly.jl\" target=\"_blank\">/usr/share/julia/stdlib/v1.9/SparseArrays/src/readonly.jl:20</a></li> <li> getindex(a::<b>Random.UnsafeView</b>, i::<b>Int64</b>) in Random at <a href=\"file:///builddir/build/BUILD/julia-1.9.2/build/usr/share/julia/stdlib/v1.9/Random/src/RNGs.jl\" target=\"_blank\">/usr/share/julia/stdlib/v1.9/Random/src/RNGs.jl:476</a></li> <li> getindex(sp::<b>Random.SamplerTrivial</b>) in Random at <a href=\"file:///builddir/build/BUILD/julia-1.9.2/build/usr/share/julia/stdlib/v1.9/Random/src/Random.jl\" target=\"_blank\">/usr/share/julia/stdlib/v1.9/Random/src/Random.jl:186</a></li> <li> getindex(A::<b>LinearAlgebra.Bidiagonal{T, V} where V<:AbstractVector{T}</b>, i::<b>Integer</b>, j::<b>Integer</b>)<i> where T</i> in LinearAlgebra at <a href=\"file:///builddir/build/BUILD/julia-1.9.2/build/usr/share/julia/stdlib/v1.9/LinearAlgebra/src/bidiag.jl\" target=\"_blank\">/usr/share/julia/stdlib/v1.9/LinearAlgebra/src/bidiag.jl:133</a></li> <li> getindex(r::<b>Distributed.RemoteChannel</b>) in Distributed at <a href=\"file:///builddir/build/BUILD/julia-1.9.2/build/usr/share/julia/stdlib/v1.9/Distributed/src/remotecall.jl\" target=\"_blank\">/usr/share/julia/stdlib/v1.9/Distributed/src/remotecall.jl:771</a></li> <li> getindex(r::<b>Distributed.RemoteChannel</b>, args...) in Distributed at <a href=\"file:///builddir/build/BUILD/julia-1.9.2/build/usr/share/julia/stdlib/v1.9/Distributed/src/remotecall.jl\" target=\"_blank\">/usr/share/julia/stdlib/v1.9/Distributed/src/remotecall.jl:775</a></li> <li> getindex(A::<b>LinearAlgebra.LowerTriangular</b>, i::<b>Integer</b>, j::<b>Integer</b>) in LinearAlgebra at <a href=\"file:///builddir/build/BUILD/julia-1.9.2/build/usr/share/julia/stdlib/v1.9/LinearAlgebra/src/triangular.jl\" target=\"_blank\">/usr/share/julia/stdlib/v1.9/LinearAlgebra/src/triangular.jl:228</a></li> <li> getindex(c::<b>AbstractChar</b>) in Base at <a href=\"https://github.com/JuliaLang/julia/tree/e4ee485e90961018b7e53ce14b8b99335953e176/base/char.jl#L202\" target=\"_blank\">char.jl:202</a></li> <li> getindex(x::<b>Union{AbstractChar, Number}</b>, ::<b>CartesianIndex{0}</b>) in Base at <a href=\"https://github.com/JuliaLang/julia/tree/e4ee485e90961018b7e53ce14b8b99335953e176/base/multidimensional.jl#L853\" target=\"_blank\">multidimensional.jl:853</a></li> <li> getindex(c::<b>AbstractChar</b>, i::<b>Integer</b>) in Base at <a href=\"https://github.com/JuliaLang/julia/tree/e4ee485e90961018b7e53ce14b8b99335953e176/base/char.jl#L203\" target=\"_blank\">char.jl:203</a></li> <li> getindex(c::<b>AbstractChar</b>, I::<b>Integer...</b>) in Base at <a href=\"https://github.com/JuliaLang/julia/tree/e4ee485e90961018b7e53ce14b8b99335953e176/base/char.jl#L204\" target=\"_blank\">char.jl:204</a></li> <li> getindex(h::<b>Dict{K, V}</b>, key)<i> where {K, V}</i> in Base at <a href=\"https://github.com/JuliaLang/julia/tree/e4ee485e90961018b7e53ce14b8b99335953e176/base/dict.jl#L482\" target=\"_blank\">dict.jl:482</a></li> <li> getindex(p::<b>Pair</b>, i::<b>Int64</b>) in Base at <a href=\"https://github.com/JuliaLang/julia/tree/e4ee485e90961018b7e53ce14b8b99335953e176/base/pair.jl#L51\" target=\"_blank\">pair.jl:51</a></li> <li> getindex(p::<b>Pair</b>, i::<b>Real</b>) in Base at <a href=\"https://github.com/JuliaLang/julia/tree/e4ee485e90961018b7e53ce14b8b99335953e176/base/pair.jl#L52\" target=\"_blank\">pair.jl:52</a></li> <li> getindex(J::<b>LinearAlgebra.UniformScaling</b>, i::<b>Integer</b>, j::<b>Integer</b>) in LinearAlgebra at <a href=\"file:///builddir/build/BUILD/julia-1.9.2/build/usr/share/julia/stdlib/v1.9/LinearAlgebra/src/uniformscaling.jl\" target=\"_blank\">/usr/share/julia/stdlib/v1.9/LinearAlgebra/src/uniformscaling.jl:89</a></li> <li> getindex(J::<b>LinearAlgebra.UniformScaling</b>, n::<b>Integer</b>, m::<b>AbstractVector{<:Integer}</b>) in LinearAlgebra at <a href=\"file:///builddir/build/BUILD/julia-1.9.2/build/usr/share/julia/stdlib/v1.9/LinearAlgebra/src/uniformscaling.jl\" target=\"_blank\">/usr/share/julia/stdlib/v1.9/LinearAlgebra/src/uniformscaling.jl:91</a></li> <li> getindex(J::<b>LinearAlgebra.UniformScaling{T}</b>, n::<b>AbstractVector{<:Integer}</b>, m::<b>Integer</b>)<i> where T</i> in LinearAlgebra at <a href=\"file:///builddir/build/BUILD/julia-1.9.2/build/usr/share/julia/stdlib/v1.9/LinearAlgebra/src/uniformscaling.jl\" target=\"_blank\">/usr/share/julia/stdlib/v1.9/LinearAlgebra/src/uniformscaling.jl:92</a></li> <li> getindex(J::<b>LinearAlgebra.UniformScaling{T}</b>, n::<b>AbstractVector{<:Integer}</b>, m::<b>AbstractVector{<:Integer}</b>)<i> where T</i> in LinearAlgebra at <a href=\"file:///builddir/build/BUILD/julia-1.9.2/build/usr/share/julia/stdlib/v1.9/LinearAlgebra/src/uniformscaling.jl\" target=\"_blank\">/usr/share/julia/stdlib/v1.9/LinearAlgebra/src/uniformscaling.jl:102</a></li> <li> getindex(r::<b>AbstractUnitRange</b>, s::<b>AbstractUnitRange{T}</b>)<i> where T<:Integer</i> in Base at <a href=\"https://github.com/JuliaLang/julia/tree/e4ee485e90961018b7e53ce14b8b99335953e176/base/range.jl#L971\" target=\"_blank\">range.jl:971</a></li> <li> getindex(r::<b>AbstractUnitRange</b>, s::<b>StepRange{T}</b>)<i> where T<:Integer</i> in Base at <a href=\"https://github.com/JuliaLang/julia/tree/e4ee485e90961018b7e53ce14b8b99335953e176/base/range.jl#L992\" target=\"_blank\">range.jl:992</a></li> <li> getindex(G::<b>LinearAlgebra.Givens</b>, i::<b>Integer</b>, j::<b>Integer</b>) in LinearAlgebra at <a href=\"file:///builddir/build/BUILD/julia-1.9.2/build/usr/share/julia/stdlib/v1.9/LinearAlgebra/src/givens.jl\" target=\"_blank\">/usr/share/julia/stdlib/v1.9/LinearAlgebra/src/givens.jl:336</a></li> <li> getindex(A::<b>SparseArrays.CHOLMOD.Dense{T}</b>, i::<b>Integer</b>)<i> where T<:Union{Float64, ComplexF64}</i> in SparseArrays.CHOLMOD at <a href=\"file:///builddir/build/BUILD/julia-1.9.2/build/usr/share/julia/stdlib/v1.9/SparseArrays/src/solvers/cholmod.jl\" target=\"_blank\">/usr/share/julia/stdlib/v1.9/SparseArrays/src/solvers/cholmod.jl:1027</a></li> <li> getindex(A::<b>LinearAlgebra.LQPackedQ</b>, i::<b>Integer</b>, j::<b>Integer</b>) in LinearAlgebra at <a href=\"file:///builddir/build/BUILD/julia-1.9.2/build/usr/share/julia/stdlib/v1.9/LinearAlgebra/src/lq.jl\" target=\"_blank\">/usr/share/julia/stdlib/v1.9/LinearAlgebra/src/lq.jl:156</a></li> <li> getindex(A::<b>Base.Experimental.Const</b>, i1::<b>Int64</b>) in Base.Experimental at <a href=\"https://github.com/JuliaLang/julia/tree/e4ee485e90961018b7e53ce14b8b99335953e176/base/experimental.jl#L31\" target=\"_blank\">experimental.jl:31</a></li> <li> getindex(A::<b>Base.Experimental.Const</b>, i1::<b>Int64</b>, i2::<b>Int64</b>, I::<b>Int64...</b>) in Base.Experimental at <a href=\"https://github.com/JuliaLang/julia/tree/e4ee485e90961018b7e53ce14b8b99335953e176/base/experimental.jl#L33\" target=\"_blank\">experimental.jl:33</a></li> <li> getindex(D::<b>LinearAlgebra.Diagonal</b>, i::<b>Int64</b>, j::<b>Int64</b>) in LinearAlgebra at <a href=\"file:///builddir/build/BUILD/julia-1.9.2/build/usr/share/julia/stdlib/v1.9/LinearAlgebra/src/diagonal.jl\" target=\"_blank\">/usr/share/julia/stdlib/v1.9/LinearAlgebra/src/diagonal.jl:112</a></li> <li> getindex(A::<b>LinearAlgebra.UnitUpperTriangular{T, S} where S<:AbstractMatrix{T}</b>, i::<b>Integer</b>, j::<b>Integer</b>)<i> where T</i> in LinearAlgebra at <a href=\"file:///builddir/build/BUILD/julia-1.9.2/build/usr/share/julia/stdlib/v1.9/LinearAlgebra/src/triangular.jl\" target=\"_blank\">/usr/share/julia/stdlib/v1.9/LinearAlgebra/src/triangular.jl:230</a></li> <li> getindex(A::<b>SparseArrays.CHOLMOD.Sparse{T}</b>, i0::<b>Integer</b>, i1::<b>Integer</b>)<i> where T</i> in SparseArrays.CHOLMOD at <a href=\"file:///builddir/build/BUILD/julia-1.9.2/build/usr/share/julia/stdlib/v1.9/SparseArrays/src/solvers/cholmod.jl\" target=\"_blank\">/usr/share/julia/stdlib/v1.9/SparseArrays/src/solvers/cholmod.jl:1034</a></li> <li> getindex(x::<b>SparseArrays.AbstractSparseVector</b>, i::<b>Integer</b>) in SparseArrays at <a href=\"file:///builddir/build/BUILD/julia-1.9.2/build/usr/share/julia/stdlib/v1.9/SparseArrays/src/sparsevector.jl\" target=\"_blank\">/usr/share/julia/stdlib/v1.9/SparseArrays/src/sparsevector.jl:935</a></li> <li> getindex(::<b>Type{Any}</b>) in Base at <a href=\"https://github.com/JuliaLang/julia/tree/e4ee485e90961018b7e53ce14b8b99335953e176/base/array.jl#L422\" target=\"_blank\">array.jl:422</a></li> <li> getindex(::<b>Type{Any}</b>, vals...) in Base at <a href=\"https://github.com/JuliaLang/julia/tree/e4ee485e90961018b7e53ce14b8b99335953e176/base/array.jl#L415\" target=\"_blank\">array.jl:415</a></li> <li> getindex(::<b>Type{T}</b>, vals...)<i> where T</i> in Base at <a href=\"https://github.com/JuliaLang/julia/tree/e4ee485e90961018b7e53ce14b8b99335953e176/base/array.jl#L399\" target=\"_blank\">array.jl:399</a></li> <li> getindex(node::<b>Core.Compiler.Instruction</b>, fld::<b>Symbol</b>) in Base.IRShow at <a href=\"https://github.com/JuliaLang/julia/tree/e4ee485e90961018b7e53ce14b8b99335953e176/base/show.jl#L2599\" target=\"_blank\">show.jl:2599</a></li> <li> getindex(diff::<b>LibGit2.GitDiff</b>, i::<b>Integer</b>) in LibGit2 at <a href=\"file:///builddir/build/BUILD/julia-1.9.2/build/usr/share/julia/stdlib/v1.9/LibGit2/src/diff.jl\" target=\"_blank\">/usr/share/julia/stdlib/v1.9/LibGit2/src/diff.jl:120</a></li> <li> getindex(m::<b>Pkg.Types.Manifest</b>, i_or_key) in Pkg.Types at <a href=\"file:///builddir/build/BUILD/julia-1.9.2/build/usr/share/julia/stdlib/v1.9/Pkg/src/Types.jl\" target=\"_blank\">/usr/share/julia/stdlib/v1.9/Pkg/src/Types.jl:299</a></li> <li> getindex(cache::<b>LibGit2.CachedCredentials</b>, cred_id) in LibGit2 at <a href=\"file:///builddir/build/BUILD/julia-1.9.2/build/usr/share/julia/stdlib/v1.9/LibGit2/src/types.jl\" target=\"_blank\">/usr/share/julia/stdlib/v1.9/LibGit2/src/types.jl:1310</a></li> <li> getindex(x::<b>Base.Threads.Atomic{Int64}</b>) in Base.Threads at <a href=\"https://github.com/JuliaLang/julia/tree/e4ee485e90961018b7e53ce14b8b99335953e176/base/atomics.jl#L358\" target=\"_blank\">atomics.jl:358</a></li> <li> getindex(is::<b>Core.Compiler.InstructionStream</b>, idx::<b>Int64</b>) in Base.IRShow at <a href=\"https://github.com/JuliaLang/julia/tree/e4ee485e90961018b7e53ce14b8b99335953e176/base/show.jl#L2598\" target=\"_blank\">show.jl:2598</a></li> <li> getindex(s::<b>String</b>, i::<b>Int64</b>) in Base at <a href=\"https://github.com/JuliaLang/julia/tree/e4ee485e90961018b7e53ce14b8b99335953e176/base/strings/string.jl#L237\" target=\"_blank\">strings/string.jl:237</a></li> <li> getindex(s::<b>AbstractString</b>, i::<b>Integer</b>) in Base at <a href=\"https://github.com/JuliaLang/julia/tree/e4ee485e90961018b7e53ce14b8b99335953e176/base/strings/basic.jl#L184\" target=\"_blank\">strings/basic.jl:184</a></li> <li> getindex(s::<b>String</b>, r::<b>UnitRange{Int64}</b>) in Base at <a href=\"https://github.com/JuliaLang/julia/tree/e4ee485e90961018b7e53ce14b8b99335953e176/base/strings/string.jl#L272\" target=\"_blank\">strings/string.jl:272</a></li> <li> getindex(s::<b>String</b>, r::<b>AbstractUnitRange{<:Integer}</b>) in Base at <a href=\"https://github.com/JuliaLang/julia/tree/e4ee485e90961018b7e53ce14b8b99335953e176/base/strings/string.jl#L270\" target=\"_blank\">strings/string.jl:270</a></li> <li> getindex(s::<b>AbstractString</b>, r::<b>AbstractUnitRange{<:Integer}</b>) in Base at <a href=\"https://github.com/JuliaLang/julia/tree/e4ee485e90961018b7e53ce14b8b99335953e176/base/strings/substring.jl#L281\" target=\"_blank\">strings/substring.jl:281</a></li> <li> getindex(s::<b>AbstractString</b>, v::<b>AbstractVector{Bool}</b>) in Base at <a href=\"https://github.com/JuliaLang/julia/tree/e4ee485e90961018b7e53ce14b8b99335953e176/base/strings/basic.jl#L194\" target=\"_blank\">strings/basic.jl:194</a></li> <li> getindex(s::<b>AbstractString</b>, v::<b>AbstractVector{<:Integer}</b>) in Base at <a href=\"https://github.com/JuliaLang/julia/tree/e4ee485e90961018b7e53ce14b8b99335953e176/base/strings/basic.jl#L192\" target=\"_blank\">strings/basic.jl:192</a></li> <li> getindex(v::<b>Core.SimpleVector</b>, I::<b>AbstractArray</b>) in Base at <a href=\"https://github.com/JuliaLang/julia/tree/e4ee485e90961018b7e53ce14b8b99335953e176/base/essentials.jl#L723\" target=\"_blank\">essentials.jl:723</a></li> <li> getindex(v::<b>Core.SimpleVector</b>, i::<b>Int64</b>) in Base at <a href=\"https://github.com/JuliaLang/julia/tree/e4ee485e90961018b7e53ce14b8b99335953e176/base/essentials.jl#L697\" target=\"_blank\">essentials.jl:697</a></li> <li> getindex(state::<b>JSON.Parser.MemoryParserState</b>, i::<b>Int64</b>) in JSON.Parser at <a href=\"file:///home/emmac/.julia/packages/JSON/93Ea8/src/Parser.jl\" target=\"_blank\">/home/emmac/.julia/packages/JSON/93Ea8/src/Parser.jl:27</a></li> <li> getindex(idx::<b>LibGit2.GitIndex</b>, i::<b>Integer</b>) in LibGit2 at <a href=\"file:///builddir/build/BUILD/julia-1.9.2/build/usr/share/julia/stdlib/v1.9/LibGit2/src/index.jl\" target=\"_blank\">/usr/share/julia/stdlib/v1.9/LibGit2/src/index.jl:179</a></li> <li> getindex(dtfd::<b>Base.DataTypeFieldDesc</b>, i::<b>Int64</b>) in Base at <a href=\"https://github.com/JuliaLang/julia/tree/e4ee485e90961018b7e53ce14b8b99335953e176/base/reflection.jl#L481\" target=\"_blank\">reflection.jl:481</a></li> <li> getindex(md::<b>Markdown.MD</b>, args...) in Markdown at <a href=\"file:///builddir/build/BUILD/julia-1.9.2/build/usr/share/julia/stdlib/v1.9/Markdown/src/parse/parse.jl\" target=\"_blank\">/usr/share/julia/stdlib/v1.9/Markdown/src/parse/parse.jl:24</a></li> <li> getindex(::<b>Base.EnvDict</b>, k::<b>AbstractString</b>) in Base at <a href=\"https://github.com/JuliaLang/julia/tree/e4ee485e90961018b7e53ce14b8b99335953e176/base/env.jl#L100\" target=\"_blank\">env.jl:100</a></li> <li> getindex(t::<b>AbstractDict</b>, key) in Base at <a href=\"https://github.com/JuliaLang/julia/tree/e4ee485e90961018b7e53ce14b8b99335953e176/base/abstractdict.jl#L539\" target=\"_blank\">abstractdict.jl:539</a></li> <li> getindex(t::<b>AbstractDict</b>, k1, k2, ks...) in Base at <a href=\"https://github.com/JuliaLang/julia/tree/e4ee485e90961018b7e53ce14b8b99335953e176/base/abstractdict.jl#L549\" target=\"_blank\">abstractdict.jl:549</a></li> <li> getindex(x::<b>Base.Threads.Atomic{UInt16}</b>) in Base.Threads at <a href=\"https://github.com/JuliaLang/julia/tree/e4ee485e90961018b7e53ce14b8b99335953e176/base/atomics.jl#L358\" target=\"_blank\">atomics.jl:358</a></li> <li> getindex(x::<b>Base.Threads.Atomic{Int32}</b>) in Base.Threads at <a href=\"https://github.com/JuliaLang/julia/tree/e4ee485e90961018b7e53ce14b8b99335953e176/base/atomics.jl#L358\" target=\"_blank\">atomics.jl:358</a></li> <li> getindex(tree::<b>LibGit2.GitTree</b>, i::<b>Integer</b>) in LibGit2 at <a href=\"file:///builddir/build/BUILD/julia-1.9.2/build/usr/share/julia/stdlib/v1.9/LibGit2/src/tree.jl\" target=\"_blank\">/usr/share/julia/stdlib/v1.9/LibGit2/src/tree.jl:107</a></li> <li> getindex(tree::<b>LibGit2.GitTree</b>, target::<b>AbstractString</b>) in LibGit2 at <a href=\"file:///builddir/build/BUILD/julia-1.9.2/build/usr/share/julia/stdlib/v1.9/LibGit2/src/tree.jl\" target=\"_blank\">/usr/share/julia/stdlib/v1.9/LibGit2/src/tree.jl:186</a></li> <li> getindex(x::<b>Base.Threads.Atomic{Bool}</b>) in Base.Threads at <a href=\"https://github.com/JuliaLang/julia/tree/e4ee485e90961018b7e53ce14b8b99335953e176/base/atomics.jl#L358\" target=\"_blank\">atomics.jl:358</a></li> <li> getindex(t::<b>REPL.Terminals.TTYTerminal</b>, key) in REPL.Terminals at <a href=\"file:///builddir/build/BUILD/julia-1.9.2/build/usr/share/julia/stdlib/v1.9/REPL/src/Terminals.jl\" target=\"_blank\">/usr/share/julia/stdlib/v1.9/REPL/src/Terminals.jl:160</a></li> <li> getindex(r::<b>Pkg.Registry.RegistryInstance</b>, uuid::<b>Base.UUID</b>) in Pkg.Registry at <a href=\"file:///builddir/build/BUILD/julia-1.9.2/build/usr/share/julia/stdlib/v1.9/Pkg/src/Registry/registry_instance.jl\" target=\"_blank\">/usr/share/julia/stdlib/v1.9/Pkg/src/Registry/registry_instance.jl:446</a></li> <li> getindex(rb::<b>LibGit2.GitRebase</b>, i::<b>Integer</b>) in LibGit2 at <a href=\"file:///builddir/build/BUILD/julia-1.9.2/build/usr/share/julia/stdlib/v1.9/LibGit2/src/rebase.jl\" target=\"_blank\">/usr/share/julia/stdlib/v1.9/LibGit2/src/rebase.jl:34</a></li> <li> getindex(p::<b>Pipe</b>, key::<b>Int64</b>) in Base at <a href=\"https://github.com/JuliaLang/julia/tree/e4ee485e90961018b7e53ce14b8b99335953e176/base/stream.jl#L1264\" target=\"_blank\">stream.jl:1264</a></li> <li> getindex(x::<b>Base.Threads.Atomic{UInt64}</b>) in Base.Threads at <a href=\"https://github.com/JuliaLang/julia/tree/e4ee485e90961018b7e53ce14b8b99335953e176/base/atomics.jl#L358\" target=\"_blank\">atomics.jl:358</a></li> <li> getindex(s::<b>Base.ExceptionStack</b>, i::<b>Int64</b>) in Base at <a href=\"https://github.com/JuliaLang/julia/tree/e4ee485e90961018b7e53ce14b8b99335953e176/base/errorshow.jl#L939\" target=\"_blank\">errorshow.jl:939</a></li> <li> getindex(o::<b>PyObject</b>, i::<b>Integer</b>) in PyCall at <a href=\"file:///usr/share/julia/base/deprecated.jl\" target=\"_blank\">deprecated.jl:103</a></li> <li> getindex(o::<b>PyObject</b>, i1::<b>Integer</b>, i2::<b>Integer</b>) in PyCall at <a href=\"file:///usr/share/julia/base/deprecated.jl\" target=\"_blank\">deprecated.jl:103</a></li> <li> getindex(o::<b>PyObject</b>, s::<b>T</b>)<i> where T<:Union{AbstractString, Symbol}</i> in PyCall at <a href=\"file:///home/emmac/.julia/packages/PyCall/1gn3u/src/PyCall.jl\" target=\"_blank\">/home/emmac/.julia/packages/PyCall/1gn3u/src/PyCall.jl:349</a></li> <li> getindex(o::<b>PyObject</b>, I::<b>Integer...</b>) in PyCall at <a href=\"file:///usr/share/julia/base/deprecated.jl\" target=\"_blank\">deprecated.jl:103</a></li> <li> getindex(r::<b>Core.Compiler.StmtRange</b>, ind::<b>Integer</b>) in Base.IRShow at <a href=\"https://github.com/JuliaLang/julia/tree/e4ee485e90961018b7e53ce14b8b99335953e176/base/show.jl#L2592\" target=\"_blank\">show.jl:2592</a></li> <li> getindex(x::<b>Base.Threads.Atomic{Float32}</b>) in Base.Threads at <a href=\"https://github.com/JuliaLang/julia/tree/e4ee485e90961018b7e53ce14b8b99335953e176/base/atomics.jl#L358\" target=\"_blank\">atomics.jl:358</a></li> <li> getindex(blame::<b>LibGit2.GitBlame</b>, i::<b>Integer</b>) in LibGit2 at <a href=\"file:///builddir/build/BUILD/julia-1.9.2/build/usr/share/julia/stdlib/v1.9/LibGit2/src/blame.jl\" target=\"_blank\">/usr/share/julia/stdlib/v1.9/LibGit2/src/blame.jl:33</a></li> <li> getindex(x::<b>Base.Threads.Atomic{Int8}</b>) in Base.Threads at <a href=\"https://github.com/JuliaLang/julia/tree/e4ee485e90961018b7e53ce14b8b99335953e176/base/atomics.jl#L358\" target=\"_blank\">atomics.jl:358</a></li> <li> getindex(buffer::<b>Base64.Buffer</b>, i::<b>Integer</b>) in Base64 at <a href=\"file:///builddir/build/BUILD/julia-1.9.2/build/usr/share/julia/stdlib/v1.9/Base64/src/buffer.jl\" target=\"_blank\">/usr/share/julia/stdlib/v1.9/Base64/src/buffer.jl:16</a></li> <li> getindex(::<b>Base.TTY</b>, key::<b>Symbol</b>) in Base at <a href=\"https://github.com/JuliaLang/julia/tree/e4ee485e90961018b7e53ce14b8b99335953e176/base/ttyhascolor.jl#L26\" target=\"_blank\">ttyhascolor.jl:26</a></li> <li> getindex(io::<b>IO</b>, key) in Base at <a href=\"https://github.com/JuliaLang/julia/tree/e4ee485e90961018b7e53ce14b8b99335953e176/base/show.jl#L404\" target=\"_blank\">show.jl:404</a></li> <li> getindex(x::<b>Base.Threads.Atomic{Int128}</b>) in Base.Threads at <a href=\"https://github.com/JuliaLang/julia/tree/e4ee485e90961018b7e53ce14b8b99335953e176/base/atomics.jl#L358\" target=\"_blank\">atomics.jl:358</a></li> <li> getindex(x::<b>Base.Threads.Atomic{Int16}</b>) in Base.Threads at <a href=\"https://github.com/JuliaLang/julia/tree/e4ee485e90961018b7e53ce14b8b99335953e176/base/atomics.jl#L358\" target=\"_blank\">atomics.jl:358</a></li> <li> getindex(m::<b>Base.MethodList</b>, i::<b>Integer</b>) in Base at <a href=\"https://github.com/JuliaLang/julia/tree/e4ee485e90961018b7e53ce14b8b99335953e176/base/reflection.jl#L964\" target=\"_blank\">reflection.jl:964</a></li> <li> getindex(a::<b>ZMQ.Message</b>, i::<b>Integer</b>) in ZMQ at <a href=\"file:///home/emmac/.julia/packages/ZMQ/lrABE/src/message.jl\" target=\"_blank\">/home/emmac/.julia/packages/ZMQ/lrABE/src/message.jl:188</a></li> <li> getindex(A::<b>AbstractArray</b>, I...) in Base at <a href=\"https://github.com/JuliaLang/julia/tree/e4ee485e90961018b7e53ce14b8b99335953e176/base/abstractarray.jl#L1291\" target=\"_blank\">abstractarray.jl:1291</a></li> <li> getindex(m::<b>RegexMatch</b>, idx::<b>Integer</b>) in Base at <a href=\"https://github.com/JuliaLang/julia/tree/e4ee485e90961018b7e53ce14b8b99335953e176/base/regex.jl#L238\" target=\"_blank\">regex.jl:238</a></li> <li> getindex(m::<b>RegexMatch</b>, name::<b>AbstractString</b>) in Base at <a href=\"https://github.com/JuliaLang/julia/tree/e4ee485e90961018b7e53ce14b8b99335953e176/base/regex.jl#L244\" target=\"_blank\">regex.jl:244</a></li> <li> getindex(m::<b>RegexMatch</b>, name::<b>Symbol</b>) in Base at <a href=\"https://github.com/JuliaLang/julia/tree/e4ee485e90961018b7e53ce14b8b99335953e176/base/regex.jl#L239\" target=\"_blank\">regex.jl:239</a></li> <li> getindex(x::<b>Base.Threads.Atomic{Float16}</b>) in Base.Threads at <a href=\"https://github.com/JuliaLang/julia/tree/e4ee485e90961018b7e53ce14b8b99335953e176/base/atomics.jl#L358\" target=\"_blank\">atomics.jl:358</a></li> <li> getindex(b::<b>Pkg.Versions.VersionBound</b>, i::<b>Int64</b>) in Pkg.Versions at <a href=\"file:///builddir/build/BUILD/julia-1.9.2/build/usr/share/julia/stdlib/v1.9/Pkg/src/Versions.jl\" target=\"_blank\">/usr/share/julia/stdlib/v1.9/Pkg/src/Versions.jl:25</a></li> <li> getindex(x::<b>Base.Threads.Atomic{UInt32}</b>) in Base.Threads at <a href=\"https://github.com/JuliaLang/julia/tree/e4ee485e90961018b7e53ce14b8b99335953e176/base/atomics.jl#L358\" target=\"_blank\">atomics.jl:358</a></li> <li> getindex(status::<b>LibGit2.GitStatus</b>, i::<b>Integer</b>) in LibGit2 at <a href=\"file:///builddir/build/BUILD/julia-1.9.2/build/usr/share/julia/stdlib/v1.9/LibGit2/src/status.jl\" target=\"_blank\">/usr/share/julia/stdlib/v1.9/LibGit2/src/status.jl:27</a></li> <li> getindex(match::<b>Core.MethodMatch</b>, field::<b>Int64</b>) in Base at <a href=\"https://github.com/JuliaLang/julia/tree/e4ee485e90961018b7e53ce14b8b99335953e176/base/deprecated.jl#L267\" target=\"_blank\">deprecated.jl:267</a></li> <li> getindex(x::<b>Base.Threads.Atomic{Float64}</b>) in Base.Threads at <a href=\"https://github.com/JuliaLang/julia/tree/e4ee485e90961018b7e53ce14b8b99335953e176/base/atomics.jl#L358\" target=\"_blank\">atomics.jl:358</a></li> <li> getindex(r::<b>Distributed.Future</b>) in Distributed at <a href=\"file:///builddir/build/BUILD/julia-1.9.2/build/usr/share/julia/stdlib/v1.9/Distributed/src/remotecall.jl\" target=\"_blank\">/usr/share/julia/stdlib/v1.9/Distributed/src/remotecall.jl:772</a></li> <li> getindex(r::<b>Distributed.Future</b>, args...) in Distributed at <a href=\"file:///builddir/build/BUILD/julia-1.9.2/build/usr/share/julia/stdlib/v1.9/Distributed/src/remotecall.jl\" target=\"_blank\">/usr/share/julia/stdlib/v1.9/Distributed/src/remotecall.jl:774</a></li> <li> getindex(x::<b>Base.Threads.Atomic{UInt8}</b>) in Base.Threads at <a href=\"https://github.com/JuliaLang/julia/tree/e4ee485e90961018b7e53ce14b8b99335953e176/base/atomics.jl#L358\" target=\"_blank\">atomics.jl:358</a></li> <li> getindex(cmd::<b>Cmd</b>, i) in Base at <a href=\"https://github.com/JuliaLang/julia/tree/e4ee485e90961018b7e53ce14b8b99335953e176/base/process.jl#L683\" target=\"_blank\">process.jl:683</a></li> <li> getindex(x::<b>Base.Threads.Atomic{UInt128}</b>) in Base.Threads at <a href=\"https://github.com/JuliaLang/julia/tree/e4ee485e90961018b7e53ce14b8b99335953e176/base/atomics.jl#L358\" target=\"_blank\">atomics.jl:358</a></li> </ul>"
      ],
      "text/plain": [
       "# 236 methods for generic function \"getindex\" from \u001b[90mBase\u001b[39m:\n",
       "   [1] getindex(\u001b[90mr\u001b[39m::\u001b[1mUnion\u001b[22m\u001b[0m{LinRange, StepRangeLen}, \u001b[90mi\u001b[39m::\u001b[1mInteger\u001b[22m)\n",
       "\u001b[90m     @\u001b[39m \u001b[90m\u001b[4mrange.jl:937\u001b[24m\u001b[39m\n",
       "   [2] getindex(\u001b[90mv\u001b[39m::\u001b[1mUnion\u001b[22m\u001b[0m{LinearAlgebra.Adjoint{T, var\"#s971\"}, LinearAlgebra.Transpose{T, var\"#s971\"}} where var\"#s971\"<:(AbstractVector), \u001b[90mi\u001b[39m::\u001b[1mInt64\u001b[22m) where T\n",
       "\u001b[90m     @\u001b[39m \u001b[36mLinearAlgebra\u001b[39m \u001b[90m/usr/share/julia/stdlib/v1.9/LinearAlgebra/src/\u001b[39m\u001b[90m\u001b[4madjtrans.jl:302\u001b[24m\u001b[39m\n",
       "   [3] getindex(\u001b[90mA\u001b[39m::\u001b[1mUnion\u001b[22m\u001b[0m{LinearAlgebra.Adjoint{T, var\"#s971\"}, LinearAlgebra.Transpose{T, var\"#s971\"}} where var\"#s971\"<:(AbstractMatrix), \u001b[90mi\u001b[39m::\u001b[1mInt64\u001b[22m, \u001b[90mj\u001b[39m::\u001b[1mInt64\u001b[22m) where T\n",
       "\u001b[90m     @\u001b[39m \u001b[36mLinearAlgebra\u001b[39m \u001b[90m/usr/share/julia/stdlib/v1.9/LinearAlgebra/src/\u001b[39m\u001b[90m\u001b[4madjtrans.jl:303\u001b[24m\u001b[39m\n",
       "   [4] getindex(\u001b[90mv\u001b[39m::\u001b[1mUnion\u001b[22m\u001b[0m{LinearAlgebra.Adjoint{T, var\"#s971\"}, LinearAlgebra.Transpose{T, var\"#s971\"}} where {T, var\"#s971\"<:(AbstractVector)}, ::\u001b[1mColon\u001b[22m, \u001b[90mis\u001b[39m::\u001b[1mAbstractArray\u001b[22m\u001b[0m{Int64})\n",
       "\u001b[90m     @\u001b[39m \u001b[36mLinearAlgebra\u001b[39m \u001b[90m/usr/share/julia/stdlib/v1.9/LinearAlgebra/src/\u001b[39m\u001b[90m\u001b[4madjtrans.jl:307\u001b[24m\u001b[39m\n",
       "   [5] getindex(\u001b[90mv\u001b[39m::\u001b[1mUnion\u001b[22m\u001b[0m{LinearAlgebra.Adjoint{T, var\"#s971\"}, LinearAlgebra.Transpose{T, var\"#s971\"}} where {T, var\"#s971\"<:(AbstractVector)}, ::\u001b[1mColon\u001b[22m, ::\u001b[1mColon\u001b[22m)\n",
       "\u001b[90m     @\u001b[39m \u001b[36mLinearAlgebra\u001b[39m \u001b[90m/usr/share/julia/stdlib/v1.9/LinearAlgebra/src/\u001b[39m\u001b[90m\u001b[4madjtrans.jl:308\u001b[24m\u001b[39m\n",
       "   [6] getindex(\u001b[90mV\u001b[39m::\u001b[1mSubArray\u001b[22m\u001b[0m{var\"#s92\", 1, P, I, true} where {var\"#s92\", P, I<:Union{Tuple{Vararg{Real}}, Tuple{AbstractUnitRange, Vararg{Any}}}}, \u001b[90mi\u001b[39m::\u001b[1mInt64\u001b[22m)\n",
       "\u001b[90m     @\u001b[39m \u001b[90m\u001b[4msubarray.jl:316\u001b[24m\u001b[39m\n",
       "   [7] getindex(\u001b[90mV\u001b[39m::\u001b[1mSubArray\u001b[22m\u001b[0m{var\"#s92\", 1, P, I, true} where {var\"#s92\", P, I}, \u001b[90mi\u001b[39m::\u001b[1mInt64\u001b[22m)\n",
       "\u001b[90m     @\u001b[39m \u001b[90m\u001b[4msubarray.jl:310\u001b[24m\u001b[39m\n",
       "   [8] getindex(\u001b[90mV\u001b[39m::\u001b[1mSubArray\u001b[22m\u001b[0m{T, N, P, I, true} where {T, N, P, I<:Union{Tuple{Vararg{Real}}, Tuple{AbstractUnitRange, Vararg{Any}}}}, \u001b[90mi\u001b[39m::\u001b[1mInt64\u001b[22m)\n",
       "\u001b[90m     @\u001b[39m \u001b[90m\u001b[4msubarray.jl:302\u001b[24m\u001b[39m\n",
       "   [9] getindex(\u001b[90mV\u001b[39m::\u001b[1mSubArray\u001b[22m\u001b[0m{T, N}, \u001b[90mI\u001b[39m::\u001b[1mVararg\u001b[22m\u001b[0m{Int64, N}) where {T, N}\n",
       "\u001b[90m     @\u001b[39m \u001b[90m\u001b[4msubarray.jl:283\u001b[24m\u001b[39m\n",
       "  [10] getindex(\u001b[90mV\u001b[39m::\u001b[1mSubArray\u001b[22m\u001b[0m{T, N, P, I, true} where {T, N, P, I}, \u001b[90mi\u001b[39m::\u001b[1mInt64\u001b[22m)\n",
       "\u001b[90m     @\u001b[39m \u001b[90m\u001b[4msubarray.jl:292\u001b[24m\u001b[39m\n",
       "  [11] getindex(\u001b[90mp\u001b[39m::\u001b[1mBase.BinaryPlatforms.AbstractPlatform\u001b[22m, \u001b[90mk\u001b[39m::\u001b[1mString\u001b[22m)\n",
       "\u001b[90m     @\u001b[39m \u001b[90mBase.BinaryPlatforms\u001b[39m \u001b[90m\u001b[4mbinaryplatforms.jl:151\u001b[24m\u001b[39m\n",
       "  [12] getindex(\u001b[90mv\u001b[39m::\u001b[1mBase.OneTo\u001b[22m\u001b[0m{T}, \u001b[90mi\u001b[39m::\u001b[1mInteger\u001b[22m) where T\n",
       "\u001b[90m     @\u001b[39m \u001b[90m\u001b[4mrange.jl:919\u001b[24m\u001b[39m\n",
       "  [13] getindex(\u001b[90mr\u001b[39m::\u001b[1mBase.OneTo\u001b[22m\u001b[0m{T}, \u001b[90ms\u001b[39m::\u001b[1mBase.OneTo\u001b[22m) where T\n",
       "\u001b[90m     @\u001b[39m \u001b[90m\u001b[4mrange.jl:986\u001b[24m\u001b[39m\n",
       "  [14] getindex(\u001b[90mS\u001b[39m::\u001b[1mBase.OneTo\u001b[22m, \u001b[90mI\u001b[39m::\u001b[1mBase.IdentityUnitRange\u001b[22m\u001b[0m{<:AbstractUnitRange{<:Integer}})\n",
       "\u001b[90m     @\u001b[39m \u001b[90m\u001b[4mindices.jl:426\u001b[24m\u001b[39m\n",
       "  [15] getindex(\u001b[90ma\u001b[39m::\u001b[1mPyVector\u001b[22m)\n",
       "\u001b[90m     @\u001b[39m \u001b[32mPyCall\u001b[39m \u001b[90m~/.julia/packages/PyCall/1gn3u/src/\u001b[39m\u001b[90m\u001b[4mconversions.jl:274\u001b[24m\u001b[39m\n",
       "  [16] getindex(\u001b[90ma\u001b[39m::\u001b[1mPyVector\u001b[22m\u001b[0m{T}, \u001b[90mi\u001b[39m::\u001b[1mInteger\u001b[22m) where T\n",
       "\u001b[90m     @\u001b[39m \u001b[32mPyCall\u001b[39m \u001b[90m~/.julia/packages/PyCall/1gn3u/src/\u001b[39m\u001b[90m\u001b[4mconversions.jl:275\u001b[24m\u001b[39m\n",
       "  [17] getindex(\u001b[90mindex\u001b[39m::\u001b[1mCartesianIndex\u001b[22m, \u001b[90mi\u001b[39m::\u001b[1mInteger\u001b[22m)\n",
       "\u001b[90m     @\u001b[39m \u001b[90mBase.IteratorsMD\u001b[39m \u001b[90m\u001b[4mmultidimensional.jl:90\u001b[24m\u001b[39m\n",
       "  [18] getindex(\u001b[90miter\u001b[39m::\u001b[1mCartesianIndices\u001b[22m\u001b[0m{N, R}, \u001b[90mI\u001b[39m::\u001b[1mVararg\u001b[22m\u001b[0m{Int64, N}) where {N, R}\n",
       "\u001b[90m     @\u001b[39m \u001b[90mBase.IteratorsMD\u001b[39m \u001b[90m\u001b[4mmultidimensional.jl:343\u001b[24m\u001b[39m\n",
       "  [19] getindex(\u001b[90miter\u001b[39m::\u001b[1mCartesianIndices\u001b[22m\u001b[0m{N, R}, \u001b[90mI\u001b[39m::\u001b[1mVararg\u001b[22m\u001b[0m{Union{Colon, OrdinalRange{<:Integer, <:Integer}}, N}) where {N, R}\n",
       "\u001b[90m     @\u001b[39m \u001b[90mBase.IteratorsMD\u001b[39m \u001b[90m\u001b[4mmultidimensional.jl:356\u001b[24m\u001b[39m\n",
       "  [20] getindex(\u001b[90miter\u001b[39m::\u001b[1mCartesianIndices\u001b[22m\u001b[0m{0, R} where R<:Tuple{}, ::\u001b[1mCartesianIndices\u001b[22m\u001b[0m{0, R} where R<:Tuple{})\n",
       "\u001b[90m     @\u001b[39m \u001b[90mBase.IteratorsMD\u001b[39m \u001b[90m\u001b[4mmultidimensional.jl:368\u001b[24m\u001b[39m\n",
       "  [21] getindex(\u001b[90miter\u001b[39m::\u001b[1mCartesianIndices\u001b[22m\u001b[0m{0, R}) where R\n",
       "\u001b[90m     @\u001b[39m \u001b[90mBase.IteratorsMD\u001b[39m \u001b[90m\u001b[4mmultidimensional.jl:340\u001b[24m\u001b[39m\n",
       "  [22] getindex(\u001b[90miter\u001b[39m::\u001b[1mCartesianIndices\u001b[22m\u001b[0m{N, R} where R<:Tuple{Vararg{OrdinalRange{Int64, Int64}, N}}, \u001b[90mC\u001b[39m::\u001b[1mCartesianIndices\u001b[22m\u001b[0m{N, R} where R<:Tuple{Vararg{OrdinalRange{Int64, Int64}, N}}) where N\n",
       "\u001b[90m     @\u001b[39m \u001b[90mBase.IteratorsMD\u001b[39m \u001b[90m\u001b[4mmultidimensional.jl:364\u001b[24m\u001b[39m\n",
       "  [23] getindex(\u001b[90miter\u001b[39m::\u001b[1mBase.SCartesianIndices2\u001b[22m\u001b[0m{K}, \u001b[90mi\u001b[39m::\u001b[1mInt64\u001b[22m, \u001b[90mj\u001b[39m::\u001b[1mInt64\u001b[22m) where K\n",
       "\u001b[90m     @\u001b[39m \u001b[90m\u001b[4mreinterpretarray.jl:262\u001b[24m\u001b[39m\n",
       "  [24] getindex(\u001b[90ma\u001b[39m::\u001b[1mTest.GenericArray\u001b[22m, \u001b[90mi\u001b[39m::\u001b[1mInt64\u001b[22m)\n",
       "\u001b[90m     @\u001b[39m \u001b[33mTest\u001b[39m \u001b[90m/usr/share/julia/stdlib/v1.9/Test/src/\u001b[39m\u001b[90m\u001b[4mTest.jl:2055\u001b[24m\u001b[39m\n",
       "  [25] getindex(\u001b[90mA\u001b[39m::\u001b[1mLinearAlgebra.Hermitian\u001b[22m, \u001b[90mi\u001b[39m::\u001b[1mInteger\u001b[22m, \u001b[90mj\u001b[39m::\u001b[1mInteger\u001b[22m)\n",
       "\u001b[90m     @\u001b[39m \u001b[36mLinearAlgebra\u001b[39m \u001b[90m/usr/share/julia/stdlib/v1.9/LinearAlgebra/src/\u001b[39m\u001b[90m\u001b[4msymmetric.jl:215\u001b[24m\u001b[39m\n",
       "  [26] getindex(\u001b[90mv\u001b[39m::\u001b[1mBase.Sort.WithoutMissingVector\u001b[22m, \u001b[90mi\u001b[39m::\u001b[1mInteger\u001b[22m)\n",
       "\u001b[90m     @\u001b[39m \u001b[90mBase.Sort\u001b[39m \u001b[90m\u001b[4msort.jl:510\u001b[24m\u001b[39m\n",
       "  [27] getindex(\u001b[90mv\u001b[39m::\u001b[1mBase.Pairs\u001b[22m, \u001b[90mkey\u001b[39m)\n",
       "\u001b[90m     @\u001b[39m \u001b[90mBase.Iterators\u001b[39m \u001b[90m\u001b[4miterators.jl:320\u001b[24m\u001b[39m\n",
       "  [28] getindex(\u001b[90mb\u001b[39m::\u001b[1mBase.RefArray\u001b[22m)\n",
       "\u001b[90m     @\u001b[39m \u001b[90m\u001b[4mrefpointer.jl:183\u001b[24m\u001b[39m\n",
       "  [29] getindex(\u001b[90mr\u001b[39m::\u001b[1mAbstractRange\u001b[22m, ::\u001b[1mColon\u001b[22m)\n",
       "\u001b[90m     @\u001b[39m \u001b[90m\u001b[4mrange.jl:969\u001b[24m\u001b[39m\n",
       "  [30] getindex(\u001b[90mio\u001b[39m::\u001b[1mIJulia.IJuliaStdio\u001b[22m, \u001b[90mkey\u001b[39m)\n",
       "\u001b[90m     @\u001b[39m \u001b[35mIJulia\u001b[39m \u001b[90m~/.julia/packages/IJulia/Vo51o/src/\u001b[39m\u001b[90m\u001b[4mstdio.jl:20\u001b[24m\u001b[39m\n",
       "  [31] getindex(\u001b[90ma\u001b[39m::\u001b[1mBase.ReinterpretArray\u001b[22m\u001b[0m{T, 0, S, A, false} where A<:AbstractArray{S, 0}) where {T, S}\n",
       "\u001b[90m     @\u001b[39m \u001b[90m\u001b[4mreinterpretarray.jl:355\u001b[24m\u001b[39m\n",
       "  [32] getindex(\u001b[90ma\u001b[39m::\u001b[1mBase.ReinterpretArray\u001b[22m\u001b[0m{T, N, S, A} where A<:(AbstractArray{S}), \u001b[90minds\u001b[39m::\u001b[1mVararg\u001b[22m\u001b[0m{Int64, N}) where {T, N, S}\n",
       "\u001b[90m     @\u001b[39m \u001b[90m\u001b[4mreinterpretarray.jl:365\u001b[24m\u001b[39m\n",
       "  [33] getindex(\u001b[90ma\u001b[39m::\u001b[1mBase.ReinterpretArray\u001b[22m\u001b[0m{T, N, S, A} where A<:(AbstractArray{S}), \u001b[90mi\u001b[39m::\u001b[1mInt64\u001b[22m) where {T, N, S}\n",
       "\u001b[90m     @\u001b[39m \u001b[90m\u001b[4mreinterpretarray.jl:370\u001b[24m\u001b[39m\n",
       "  [34] getindex(\u001b[90ma\u001b[39m::\u001b[1mBase.ReinterpretArray\u001b[22m\u001b[0m{T, N, S, A, true} where A<:(AbstractArray{S}), \u001b[90mind\u001b[39m::\u001b[1mBase.SCartesianIndex2\u001b[22m) where {T, N, S}\n",
       "\u001b[90m     @\u001b[39m \u001b[90m\u001b[4mreinterpretarray.jl:381\u001b[24m\u001b[39m\n",
       "  [35] getindex(\u001b[90ma\u001b[39m::\u001b[1mBase.ReinterpretArray\u001b[22m)\n",
       "\u001b[90m     @\u001b[39m \u001b[90m\u001b[4mreinterpretarray.jl:363\u001b[24m\u001b[39m\n",
       "  [36] getindex(\u001b[90miter\u001b[39m::\u001b[1mLinearIndices\u001b[22m, \u001b[90mi\u001b[39m::\u001b[1mInt64\u001b[22m)\n",
       "\u001b[90m     @\u001b[39m \u001b[90m\u001b[4mindices.jl:507\u001b[24m\u001b[39m\n",
       "  [37] getindex(\u001b[90miter\u001b[39m::\u001b[1mLinearIndices\u001b[22m, \u001b[90mi\u001b[39m::\u001b[1mAbstractRange\u001b[22m\u001b[0m{<:Integer})\n",
       "\u001b[90m     @\u001b[39m \u001b[90m\u001b[4mindices.jl:512\u001b[24m\u001b[39m\n",
       "  [38] getindex(\u001b[90mt\u001b[39m::\u001b[1mNamedTuple\u001b[22m, \u001b[90mi\u001b[39m::\u001b[1mInt64\u001b[22m)\n",
       "\u001b[90m     @\u001b[39m \u001b[90m\u001b[4mnamedtuple.jl:136\u001b[24m\u001b[39m\n",
       "  [39] getindex(\u001b[90mt\u001b[39m::\u001b[1mNamedTuple\u001b[22m, \u001b[90mi\u001b[39m::\u001b[1mSymbol\u001b[22m)\n",
       "\u001b[90m     @\u001b[39m \u001b[90m\u001b[4mnamedtuple.jl:137\u001b[24m\u001b[39m\n",
       "  [40] getindex(\u001b[90mt\u001b[39m::\u001b[1mNamedTuple\u001b[22m, \u001b[90midxs\u001b[39m::\u001b[1mTuple\u001b[22m\u001b[0m{Vararg{Symbol}})\n",
       "\u001b[90m     @\u001b[39m \u001b[90m\u001b[4mnamedtuple.jl:138\u001b[24m\u001b[39m\n",
       "  [41] getindex(\u001b[90mt\u001b[39m::\u001b[1mNamedTuple\u001b[22m, \u001b[90midxs\u001b[39m::\u001b[1mAbstractVector\u001b[22m\u001b[0m{Symbol})\n",
       "\u001b[90m     @\u001b[39m \u001b[90m\u001b[4mnamedtuple.jl:139\u001b[24m\u001b[39m\n",
       "  [42] getindex(\u001b[90mS\u001b[39m::\u001b[1mBase.IdentityUnitRange\u001b[22m, \u001b[90mi\u001b[39m::\u001b[1mInt64\u001b[22m)\n",
       "\u001b[90m     @\u001b[39m \u001b[90m\u001b[4mindices.jl:418\u001b[24m\u001b[39m\n",
       "  [43] getindex(\u001b[90mS\u001b[39m::\u001b[1mBase.IdentityUnitRange\u001b[22m, \u001b[90mi\u001b[39m::\u001b[1mAbstractUnitRange\u001b[22m\u001b[0m{<:Integer})\n",
       "\u001b[90m     @\u001b[39m \u001b[90m\u001b[4mindices.jl:419\u001b[24m\u001b[39m\n",
       "  [44] getindex(\u001b[90mS\u001b[39m::\u001b[1mBase.IdentityUnitRange\u001b[22m, \u001b[90mi\u001b[39m::\u001b[1mStepRange\u001b[22m\u001b[0m{<:Integer})\n",
       "\u001b[90m     @\u001b[39m \u001b[90m\u001b[4mindices.jl:420\u001b[24m\u001b[39m\n",
       "  [45] getindex(\u001b[90ma\u001b[39m::\u001b[1mPyArray\u001b[22m\u001b[0m{<:Any, 1}, \u001b[90mi\u001b[39m::\u001b[1mInteger\u001b[22m)\n",
       "\u001b[90m     @\u001b[39m \u001b[32mPyCall\u001b[39m \u001b[90m~/.julia/packages/PyCall/1gn3u/src/\u001b[39m\u001b[90m\u001b[4mpyarray.jl:184\u001b[24m\u001b[39m\n",
       "  [46] getindex(\u001b[90ma\u001b[39m::\u001b[1mPyArray\u001b[22m, \u001b[90mi\u001b[39m::\u001b[1mInteger\u001b[22m)\n",
       "\u001b[90m     @\u001b[39m \u001b[32mPyCall\u001b[39m \u001b[90m~/.julia/packages/PyCall/1gn3u/src/\u001b[39m\u001b[90m\u001b[4mpyarray.jl:187\u001b[24m\u001b[39m\n",
       "  [47] getindex(\u001b[90ma\u001b[39m::\u001b[1mPyArray\u001b[22m, \u001b[90mi\u001b[39m::\u001b[1mInteger...\u001b[22m)\n",
       "\u001b[90m     @\u001b[39m \u001b[32mPyCall\u001b[39m \u001b[90m~/.julia/packages/PyCall/1gn3u/src/\u001b[39m\u001b[90m\u001b[4mpyarray.jl:183\u001b[24m\u001b[39m\n",
       "  [48] getindex(\u001b[90ma\u001b[39m::\u001b[1mPyArray\u001b[22m, \u001b[90mi\u001b[39m::\u001b[1mCartesianIndex\u001b[22m)\n",
       "\u001b[90m     @\u001b[39m \u001b[32mPyCall\u001b[39m \u001b[90m~/.julia/packages/PyCall/1gn3u/src/\u001b[39m\u001b[90m\u001b[4mpyarray.jl:178\u001b[24m\u001b[39m\n",
       "  [49] getindex(::\u001b[1mRandom.SamplerType\u001b[22m\u001b[0m{T}) where T\n",
       "\u001b[90m     @\u001b[39m \u001b[36mRandom\u001b[39m \u001b[90m/usr/share/julia/stdlib/v1.9/Random/src/\u001b[39m\u001b[90m\u001b[4mRandom.jl:167\u001b[24m\u001b[39m\n",
       "  [50] getindex(\u001b[90mx\u001b[39m::\u001b[1mNumber\u001b[22m)\n",
       "\u001b[90m     @\u001b[39m \u001b[90m\u001b[4mnumber.jl:95\u001b[24m\u001b[39m\n",
       "  [51] getindex(\u001b[90mx\u001b[39m::\u001b[1mNumber\u001b[22m, \u001b[90mi\u001b[39m::\u001b[1mInteger\u001b[22m)\n",
       "\u001b[90m     @\u001b[39m \u001b[90m\u001b[4mnumber.jl:96\u001b[24m\u001b[39m\n",
       "  [52] getindex(\u001b[90mx\u001b[39m::\u001b[1mNumber\u001b[22m, \u001b[90mI\u001b[39m::\u001b[1mInteger...\u001b[22m)\n",
       "\u001b[90m     @\u001b[39m \u001b[90m\u001b[4mnumber.jl:101\u001b[24m\u001b[39m\n",
       "  [53] getindex(\u001b[90mv\u001b[39m::\u001b[1mUnitRange\u001b[22m\u001b[0m{T}, \u001b[90mi\u001b[39m::\u001b[1mInteger\u001b[22m) where T<:Union{Bool, Int128, Int16, Int32, Int64, Int8, UInt128, UInt16, UInt32, UInt64, UInt8}\n",
       "\u001b[90m     @\u001b[39m \u001b[90m\u001b[4mrange.jl:911\u001b[24m\u001b[39m\n",
       "  [54] getindex(\u001b[90mv\u001b[39m::\u001b[1mUnitRange\u001b[22m\u001b[0m{T}, \u001b[90mi\u001b[39m::\u001b[1mInteger\u001b[22m) where T\n",
       "\u001b[90m     @\u001b[39m \u001b[90m\u001b[4mrange.jl:900\u001b[24m\u001b[39m\n",
       "  [55] getindex(\u001b[90mwkh\u001b[39m::\u001b[1mWeakKeyDict\u001b[22m\u001b[0m{K}, \u001b[90mkey\u001b[39m) where K\n",
       "\u001b[90m     @\u001b[39m \u001b[90m\u001b[4mweakkeydict.jl:185\u001b[24m\u001b[39m\n",
       "  [56] getindex(\u001b[90mbc\u001b[39m::\u001b[1mBase.Broadcast.Broadcasted\u001b[22m)\n",
       "\u001b[90m     @\u001b[39m \u001b[90mBase.Broadcast\u001b[39m \u001b[90m\u001b[4mbroadcast.jl:619\u001b[24m\u001b[39m\n",
       "  [57] getindex(\u001b[90mbc\u001b[39m::\u001b[1mBase.Broadcast.Broadcasted\u001b[22m, \u001b[90mI\u001b[39m::\u001b[1mUnion\u001b[22m\u001b[0m{Integer, CartesianIndex})\n",
       "\u001b[90m     @\u001b[39m \u001b[90mBase.Broadcast\u001b[39m \u001b[90m\u001b[4mbroadcast.jl:608\u001b[24m\u001b[39m\n",
       "  [58] getindex(\u001b[90mbc\u001b[39m::\u001b[1mBase.Broadcast.Broadcasted\u001b[22m, \u001b[90mi1\u001b[39m::\u001b[1mUnion\u001b[22m\u001b[0m{Integer, CartesianIndex}, \u001b[90mi2\u001b[39m::\u001b[1mUnion\u001b[22m\u001b[0m{Integer, CartesianIndex}, \u001b[90mI\u001b[39m::\u001b[1mUnion\u001b[22m\u001b[0m{Integer, CartesianIndex}\u001b[1m...\u001b[22m)\n",
       "\u001b[90m     @\u001b[39m \u001b[90mBase.Broadcast\u001b[39m \u001b[90m\u001b[4mbroadcast.jl:617\u001b[24m\u001b[39m\n",
       "  [59] getindex(\u001b[90mB\u001b[39m::\u001b[1mBitArray\u001b[22m, \u001b[90mi\u001b[39m::\u001b[1mInt64\u001b[22m)\n",
       "\u001b[90m     @\u001b[39m \u001b[90m\u001b[4mbitarray.jl:680\u001b[24m\u001b[39m\n",
       "  [60] getindex(\u001b[90mA\u001b[39m::\u001b[1mBase.ReshapedArray\u001b[22m\u001b[0m{T, N}, \u001b[90mindices\u001b[39m::\u001b[1mVararg\u001b[22m\u001b[0m{Int64, N}) where {T, N}\n",
       "\u001b[90m     @\u001b[39m \u001b[90m\u001b[4mreshapedarray.jl:234\u001b[24m\u001b[39m\n",
       "  [61] getindex(\u001b[90mA\u001b[39m::\u001b[1mBase.ReshapedArray\u001b[22m\u001b[0m{T, N, P, Tuple{}} where {T, N, P<:AbstractArray}, \u001b[90mindex\u001b[39m::\u001b[1mInt64\u001b[22m)\n",
       "\u001b[90m     @\u001b[39m \u001b[90m\u001b[4mreshapedarray.jl:229\u001b[24m\u001b[39m\n",
       "  [62] getindex(\u001b[90mA\u001b[39m::\u001b[1mBase.ReshapedArray\u001b[22m, \u001b[90mindex\u001b[39m::\u001b[1mBase.ReshapedIndex\u001b[22m)\n",
       "\u001b[90m     @\u001b[39m \u001b[90m\u001b[4mreshapedarray.jl:238\u001b[24m\u001b[39m\n",
       "  [63] getindex(\u001b[90mb\u001b[39m::\u001b[1mBase.RefValue\u001b[22m)\n",
       "\u001b[90m     @\u001b[39m \u001b[90m\u001b[4mrefvalue.jl:56\u001b[24m\u001b[39m\n",
       "  [64] getindex(\u001b[90md\u001b[39m::\u001b[1mIdDict\u001b[22m\u001b[0m{K, V}, \u001b[90mkey\u001b[39m) where {K, V}\n",
       "\u001b[90m     @\u001b[39m \u001b[90m\u001b[4middict.jl:106\u001b[24m\u001b[39m\n",
       "  [65] getindex(\u001b[90mQ\u001b[39m::\u001b[1mLinearAlgebra.AbstractQ\u001b[22m, ::\u001b[1mColon\u001b[22m, ::\u001b[1mColon\u001b[22m)\n",
       "\u001b[90m     @\u001b[39m \u001b[36mLinearAlgebra\u001b[39m \u001b[90m/usr/share/julia/stdlib/v1.9/LinearAlgebra/src/\u001b[39m\u001b[90m\u001b[4mqr.jl:590\u001b[24m\u001b[39m\n",
       "  [66] getindex(\u001b[90mQ\u001b[39m::\u001b[1mLinearAlgebra.AbstractQ\u001b[22m, ::\u001b[1mColon\u001b[22m, \u001b[90mj\u001b[39m::\u001b[1mInt64\u001b[22m)\n",
       "\u001b[90m     @\u001b[39m \u001b[36mLinearAlgebra\u001b[39m \u001b[90m/usr/share/julia/stdlib/v1.9/LinearAlgebra/src/\u001b[39m\u001b[90m\u001b[4mqr.jl:592\u001b[24m\u001b[39m\n",
       "  [67] getindex(\u001b[90mQ\u001b[39m::\u001b[1mLinearAlgebra.AbstractQ\u001b[22m, \u001b[90mi\u001b[39m::\u001b[1mInt64\u001b[22m, \u001b[90mj\u001b[39m::\u001b[1mInt64\u001b[22m)\n",
       "\u001b[90m     @\u001b[39m \u001b[36mLinearAlgebra\u001b[39m \u001b[90m/usr/share/julia/stdlib/v1.9/LinearAlgebra/src/\u001b[39m\u001b[90m\u001b[4mqr.jl:598\u001b[24m\u001b[39m\n",
       "  [68] getindex(\u001b[90mQ\u001b[39m::\u001b[1mLinearAlgebra.AbstractQ\u001b[22m, \u001b[90minds...\u001b[39m)\n",
       "\u001b[90m     @\u001b[39m \u001b[36mLinearAlgebra\u001b[39m \u001b[90m/usr/share/julia/stdlib/v1.9/LinearAlgebra/src/\u001b[39m\u001b[90m\u001b[4mqr.jl:589\u001b[24m\u001b[39m\n",
       "  [69] getindex(\u001b[90mH\u001b[39m::\u001b[1mLinearAlgebra.UpperHessenberg\u001b[22m\u001b[0m{T, S} where S<:AbstractMatrix{T}, \u001b[90mi\u001b[39m::\u001b[1mInteger\u001b[22m, \u001b[90mj\u001b[39m::\u001b[1mInteger\u001b[22m) where T\n",
       "\u001b[90m     @\u001b[39m \u001b[36mLinearAlgebra\u001b[39m \u001b[90m/usr/share/julia/stdlib/v1.9/LinearAlgebra/src/\u001b[39m\u001b[90m\u001b[4mhessenberg.jl:78\u001b[24m\u001b[39m\n",
       "  [70] getindex(\u001b[90mA\u001b[39m::\u001b[1mLinearAlgebra.UpperTriangular\u001b[22m, \u001b[90mi\u001b[39m::\u001b[1mInteger\u001b[22m, \u001b[90mj\u001b[39m::\u001b[1mInteger\u001b[22m)\n",
       "\u001b[90m     @\u001b[39m \u001b[36mLinearAlgebra\u001b[39m \u001b[90m/usr/share/julia/stdlib/v1.9/LinearAlgebra/src/\u001b[39m\u001b[90m\u001b[4mtriangular.jl:232\u001b[24m\u001b[39m\n",
       "  [71] getindex(\u001b[90mA\u001b[39m::\u001b[1mArray\u001b[22m, \u001b[90mi1\u001b[39m::\u001b[1mInt64\u001b[22m)\n",
       "\u001b[90m     @\u001b[39m \u001b[90m\u001b[4messentials.jl:13\u001b[24m\u001b[39m\n",
       "  [72] getindex(\u001b[90mA\u001b[39m::\u001b[1mArray\u001b[22m, \u001b[90mi1\u001b[39m::\u001b[1mInt64\u001b[22m, \u001b[90mi2\u001b[39m::\u001b[1mInt64\u001b[22m, \u001b[90mI\u001b[39m::\u001b[1mInt64...\u001b[22m)\n",
       "\u001b[90m     @\u001b[39m \u001b[90m\u001b[4messentials.jl:14\u001b[24m\u001b[39m\n",
       "  [73] getindex(\u001b[90ma\u001b[39m::\u001b[1mArray\u001b[22m, \u001b[90mr\u001b[39m::\u001b[1mAbstractUnitRange\u001b[22m\u001b[0m{Bool})\n",
       "\u001b[90m     @\u001b[39m \u001b[90m\u001b[4marray.jl:931\u001b[24m\u001b[39m\n",
       "  [74] getindex(\u001b[90mA\u001b[39m::\u001b[1mArray\u001b[22m, \u001b[90mI\u001b[39m::\u001b[1mAbstractUnitRange\u001b[22m\u001b[0m{<:Integer})\n",
       "\u001b[90m     @\u001b[39m \u001b[90m\u001b[4marray.jl:919\u001b[24m\u001b[39m\n",
       "  [75] getindex(\u001b[90mA\u001b[39m::\u001b[1mArray\u001b[22m, \u001b[90mc\u001b[39m::\u001b[1mColon\u001b[22m)\n",
       "\u001b[90m     @\u001b[39m \u001b[90m\u001b[4marray.jl:933\u001b[24m\u001b[39m\n",
       "  [76] getindex(\u001b[90mA\u001b[39m::\u001b[1mArray\u001b[22m\u001b[0m{S}, \u001b[90mI\u001b[39m::\u001b[1mAbstractRange\u001b[22m\u001b[0m{Int64}) where S\n",
       "\u001b[90m     @\u001b[39m \u001b[90m\u001b[4marray.jl:943\u001b[24m\u001b[39m\n",
       "  [77] getindex(\u001b[90mA\u001b[39m::\u001b[1mArray\u001b[22m, \u001b[90mi1\u001b[39m::\u001b[1mInteger\u001b[22m, \u001b[90mI\u001b[39m::\u001b[1mInteger...\u001b[22m)\n",
       "\u001b[90m     @\u001b[39m \u001b[90m\u001b[4mabstractarray.jl:1297\u001b[24m\u001b[39m\n",
       "  [78] getindex(\u001b[90mA\u001b[39m::\u001b[1mArray\u001b[22m, \u001b[90mi1\u001b[39m::\u001b[1mUnion\u001b[22m\u001b[0m{Integer, CartesianIndex}, \u001b[90mI\u001b[39m::\u001b[1mUnion\u001b[22m\u001b[0m{Integer, CartesianIndex}\u001b[1m...\u001b[22m)\n",
       "\u001b[90m     @\u001b[39m \u001b[90m\u001b[4mmultidimensional.jl:668\u001b[24m\u001b[39m\n",
       "  [79] getindex(\u001b[90msp\u001b[39m::\u001b[1mRandom.SamplerSimple\u001b[22m)\n",
       "\u001b[90m     @\u001b[39m \u001b[36mRandom\u001b[39m \u001b[90m/usr/share/julia/stdlib/v1.9/Random/src/\u001b[39m\u001b[90m\u001b[4mRandom.jl:204\u001b[24m\u001b[39m\n",
       "  [80] getindex(\u001b[90mA\u001b[39m::\u001b[1mLinearAlgebra.Tridiagonal\u001b[22m\u001b[0m{T, V} where V<:AbstractVector{T}, \u001b[90mi\u001b[39m::\u001b[1mInteger\u001b[22m, \u001b[90mj\u001b[39m::\u001b[1mInteger\u001b[22m) where T\n",
       "\u001b[90m     @\u001b[39m \u001b[36mLinearAlgebra\u001b[39m \u001b[90m/usr/share/julia/stdlib/v1.9/LinearAlgebra/src/\u001b[39m\u001b[90m\u001b[4mtridiag.jl:652\u001b[24m\u001b[39m\n",
       "  [81] getindex(\u001b[90mA\u001b[39m::\u001b[1mLinearAlgebra.Symmetric\u001b[22m, \u001b[90mi\u001b[39m::\u001b[1mInteger\u001b[22m, \u001b[90mj\u001b[39m::\u001b[1mInteger\u001b[22m)\n",
       "\u001b[90m     @\u001b[39m \u001b[36mLinearAlgebra\u001b[39m \u001b[90m/usr/share/julia/stdlib/v1.9/LinearAlgebra/src/\u001b[39m\u001b[90m\u001b[4msymmetric.jl:205\u001b[24m\u001b[39m\n",
       "  [82] getindex(\u001b[90mr\u001b[39m::\u001b[1mStepRange\u001b[22m, \u001b[90ms\u001b[39m::\u001b[1mAbstractRange\u001b[22m\u001b[0m{T}) where T<:Integer\n",
       "\u001b[90m     @\u001b[39m \u001b[90m\u001b[4mrange.jl:1008\u001b[24m\u001b[39m\n",
       "  [83] getindex(\u001b[90mA\u001b[39m::\u001b[1mLinearAlgebra.UnitLowerTriangular\u001b[22m\u001b[0m{T, S} where S<:AbstractMatrix{T}, \u001b[90mi\u001b[39m::\u001b[1mInteger\u001b[22m, \u001b[90mj\u001b[39m::\u001b[1mInteger\u001b[22m) where T\n",
       "\u001b[90m     @\u001b[39m \u001b[36mLinearAlgebra\u001b[39m \u001b[90m/usr/share/julia/stdlib/v1.9/LinearAlgebra/src/\u001b[39m\u001b[90m\u001b[4mtriangular.jl:226\u001b[24m\u001b[39m\n",
       "  [84] getindex(\u001b[90mitr\u001b[39m::\u001b[1mBase.SkipMissing\u001b[22m, \u001b[90mI...\u001b[39m)\n",
       "\u001b[90m     @\u001b[39m \u001b[90m\u001b[4mmissing.jl:266\u001b[24m\u001b[39m\n",
       "  [85] getindex(\u001b[90mr\u001b[39m::\u001b[1mLinRange\u001b[22m\u001b[0m{T}, \u001b[90ms\u001b[39m::\u001b[1mOrdinalRange\u001b[22m\u001b[0m{S}) where {T, S<:Integer}\n",
       "\u001b[90m     @\u001b[39m \u001b[90m\u001b[4mrange.jl:1067\u001b[24m\u001b[39m\n",
       "  [86] getindex(\u001b[90mb\u001b[39m::\u001b[1mRef\u001b[22m, ::\u001b[1mCartesianIndex\u001b[22m\u001b[0m{0})\n",
       "\u001b[90m     @\u001b[39m \u001b[90m\u001b[4mmultidimensional.jl:1882\u001b[24m\u001b[39m\n",
       "  [87] getindex(\u001b[90ms\u001b[39m::\u001b[1mSlices\u001b[22m\u001b[0m{P, SM, AX, S, N}, \u001b[90mI\u001b[39m::\u001b[1mVararg\u001b[22m\u001b[0m{Int64, N}) where {P, SM, AX, S, N}\n",
       "\u001b[90m     @\u001b[39m \u001b[90m\u001b[4mslicearray.jl:235\u001b[24m\u001b[39m\n",
       "  [88] getindex(\u001b[90mio\u001b[39m::\u001b[1mIOContext\u001b[22m, \u001b[90mkey\u001b[39m)\n",
       "\u001b[90m     @\u001b[39m \u001b[90m\u001b[4mshow.jl:403\u001b[24m\u001b[39m\n",
       "  [89] getindex(\u001b[90ms\u001b[39m::\u001b[1mBase.CodeUnits\u001b[22m, \u001b[90mi\u001b[39m::\u001b[1mInt64\u001b[22m)\n",
       "\u001b[90m     @\u001b[39m \u001b[90mstrings/\u001b[39m\u001b[90m\u001b[4mbasic.jl:756\u001b[24m\u001b[39m\n",
       "  [90] getindex(\u001b[90mS\u001b[39m::\u001b[1mBase.Slice\u001b[22m, \u001b[90mi\u001b[39m::\u001b[1mInt64\u001b[22m)\n",
       "\u001b[90m     @\u001b[39m \u001b[90m\u001b[4mindices.jl:389\u001b[24m\u001b[39m\n",
       "  [91] getindex(\u001b[90mv\u001b[39m::\u001b[1mAbstractRange\u001b[22m\u001b[0m{T}, \u001b[90mi\u001b[39m::\u001b[1mInteger\u001b[22m) where T\n",
       "\u001b[90m     @\u001b[39m \u001b[90m\u001b[4mrange.jl:926\u001b[24m\u001b[39m\n",
       "  [92] getindex(\u001b[90mS\u001b[39m::\u001b[1mBase.Slice\u001b[22m, \u001b[90mi\u001b[39m::\u001b[1mAbstractUnitRange\u001b[22m\u001b[0m{<:Integer})\n",
       "\u001b[90m     @\u001b[39m \u001b[90m\u001b[4mindices.jl:390\u001b[24m\u001b[39m\n",
       "  [93] getindex(\u001b[90mS\u001b[39m::\u001b[1mBase.Slice\u001b[22m, \u001b[90mi\u001b[39m::\u001b[1mStepRange\u001b[22m\u001b[0m{<:Integer})\n",
       "\u001b[90m     @\u001b[39m \u001b[90m\u001b[4mindices.jl:391\u001b[24m\u001b[39m\n",
       "  [94] getindex(\u001b[90ms\u001b[39m::\u001b[1mAbstractString\u001b[22m, \u001b[90mi\u001b[39m::\u001b[1mColon\u001b[22m)\n",
       "\u001b[90m     @\u001b[39m \u001b[90mstrings/\u001b[39m\u001b[90m\u001b[4mbasic.jl:189\u001b[24m\u001b[39m\n",
       "  [95] getindex(\u001b[90mdict\u001b[39m::\u001b[1mBase.ImmutableDict\u001b[22m, \u001b[90mkey\u001b[39m)\n",
       "\u001b[90m     @\u001b[39m \u001b[90m\u001b[4mdict.jl:801\u001b[24m\u001b[39m\n",
       "  [96] getindex(\u001b[90mr\u001b[39m::\u001b[1mStepRangeLen\u001b[22m\u001b[0m{T, <:Base.TwicePrecision, <:Base.TwicePrecision}, \u001b[90ms\u001b[39m::\u001b[1mOrdinalRange\u001b[22m\u001b[0m{S}) where {T, S<:Integer}\n",
       "\u001b[90m     @\u001b[39m \u001b[90m\u001b[4mtwiceprecision.jl:498\u001b[24m\u001b[39m\n",
       "  [97] getindex(\u001b[90mr\u001b[39m::\u001b[1mStepRangeLen\u001b[22m\u001b[0m{T}, \u001b[90ms\u001b[39m::\u001b[1mOrdinalRange\u001b[22m\u001b[0m{S}) where {T, S<:Integer}\n",
       "\u001b[90m     @\u001b[39m \u001b[90m\u001b[4mrange.jl:1037\u001b[24m\u001b[39m\n",
       "  [98] getindex(\u001b[90mA\u001b[39m::\u001b[1mSparseArrays.AbstractSparseMatrixCSC\u001b[22m, \u001b[90mI\u001b[39m::\u001b[1mTuple\u001b[22m\u001b[0m{Integer, Integer})\n",
       "\u001b[90m     @\u001b[39m \u001b[32mSparseArrays\u001b[39m \u001b[90m/usr/share/julia/stdlib/v1.9/SparseArrays/src/\u001b[39m\u001b[90m\u001b[4msparsematrix.jl:2496\u001b[24m\u001b[39m\n",
       "  [99] getindex(\u001b[90mA\u001b[39m::\u001b[1mSparseArrays.AbstractSparseMatrixCSC\u001b[22m, \u001b[90mI\u001b[39m::\u001b[1mInteger\u001b[22m, \u001b[90mJ\u001b[39m::\u001b[1mAbstractVector\u001b[22m\u001b[0m{Bool})\n",
       "\u001b[90m     @\u001b[39m \u001b[32mSparseArrays\u001b[39m \u001b[90m/usr/share/julia/stdlib/v1.9/SparseArrays/src/\u001b[39m\u001b[90m\u001b[4msparsematrix.jl:2935\u001b[24m\u001b[39m\n",
       " [100] getindex(\u001b[90mA\u001b[39m::\u001b[1mSparseArrays.AbstractSparseMatrixCSC\u001b[22m\u001b[0m{T}, \u001b[90mi0\u001b[39m::\u001b[1mInteger\u001b[22m, \u001b[90mi1\u001b[39m::\u001b[1mInteger\u001b[22m) where T\n",
       "\u001b[90m     @\u001b[39m \u001b[32mSparseArrays\u001b[39m \u001b[90m/usr/share/julia/stdlib/v1.9/SparseArrays/src/\u001b[39m\u001b[90m\u001b[4msparsematrix.jl:2498\u001b[24m\u001b[39m\n",
       " [101] getindex(\u001b[90mA\u001b[39m::\u001b[1mSparseArrays.AbstractSparseMatrixCSC\u001b[22m, \u001b[90mi\u001b[39m::\u001b[1mInteger\u001b[22m, ::\u001b[1mColon\u001b[22m)\n",
       "\u001b[90m     @\u001b[39m \u001b[32mSparseArrays\u001b[39m \u001b[90m/usr/share/julia/stdlib/v1.9/SparseArrays/src/\u001b[39m\u001b[90m\u001b[4msparsevector.jl:645\u001b[24m\u001b[39m\n",
       " [102] getindex(\u001b[90mA\u001b[39m::\u001b[1mSparseArrays.AbstractSparseMatrixCSC\u001b[22m\u001b[0m{Tv, Ti}, \u001b[90mi\u001b[39m::\u001b[1mInteger\u001b[22m, \u001b[90mJ\u001b[39m::\u001b[1mAbstractVector\u001b[22m) where {Tv, Ti}\n",
       "\u001b[90m     @\u001b[39m \u001b[32mSparseArrays\u001b[39m \u001b[90m/usr/share/julia/stdlib/v1.9/SparseArrays/src/\u001b[39m\u001b[90m\u001b[4msparsevector.jl:646\u001b[24m\u001b[39m\n",
       " [103] getindex(\u001b[90mA\u001b[39m::\u001b[1mSparseArrays.AbstractSparseMatrixCSC\u001b[22m\u001b[0m{Tv}, \u001b[90mI\u001b[39m::\u001b[1mAbstractUnitRange\u001b[22m) where Tv\n",
       "\u001b[90m     @\u001b[39m \u001b[32mSparseArrays\u001b[39m \u001b[90m/usr/share/julia/stdlib/v1.9/SparseArrays/src/\u001b[39m\u001b[90m\u001b[4msparsevector.jl:722\u001b[24m\u001b[39m\n",
       " [104] getindex(\u001b[90mA\u001b[39m::\u001b[1mSparseArrays.AbstractSparseMatrixCSC\u001b[22m, \u001b[90mI\u001b[39m::\u001b[1mAbstractRange\u001b[22m\u001b[0m{Bool}, \u001b[90mJ\u001b[39m::\u001b[1mAbstractVector\u001b[22m\u001b[0m{Bool})\n",
       "\u001b[90m     @\u001b[39m \u001b[32mSparseArrays\u001b[39m \u001b[90m/usr/share/julia/stdlib/v1.9/SparseArrays/src/\u001b[39m\u001b[90m\u001b[4msparsematrix.jl:2931\u001b[24m\u001b[39m\n",
       " [105] getindex(\u001b[90mA\u001b[39m::\u001b[1mSparseArrays.AbstractSparseMatrixCSC\u001b[22m, \u001b[90mI\u001b[39m::\u001b[1mAbstractRange\u001b[22m\u001b[0m{<:Integer}, \u001b[90mJ\u001b[39m::\u001b[1mAbstractVector\u001b[22m\u001b[0m{Bool})\n",
       "\u001b[90m     @\u001b[39m \u001b[32mSparseArrays\u001b[39m \u001b[90m/usr/share/julia/stdlib/v1.9/SparseArrays/src/\u001b[39m\u001b[90m\u001b[4msparsematrix.jl:2934\u001b[24m\u001b[39m\n",
       " [106] getindex(\u001b[90mA\u001b[39m::\u001b[1mSparseArrays.AbstractSparseMatrixCSC\u001b[22m, \u001b[90mI\u001b[39m::\u001b[1mAbstractRange\u001b[22m\u001b[0m{Bool}, \u001b[90mJ\u001b[39m::\u001b[1mAbstractVector\u001b[22m\u001b[0m{<:Integer})\n",
       "\u001b[90m     @\u001b[39m \u001b[32mSparseArrays\u001b[39m \u001b[90m/usr/share/julia/stdlib/v1.9/SparseArrays/src/\u001b[39m\u001b[90m\u001b[4msparsematrix.jl:2932\u001b[24m\u001b[39m\n",
       " [107] getindex(\u001b[90mA\u001b[39m::\u001b[1mSparseArrays.AbstractSparseMatrixCSC\u001b[22m\u001b[0m{Tv, Ti}, \u001b[90mI\u001b[39m::\u001b[1mAbstractRange\u001b[22m, \u001b[90mJ\u001b[39m::\u001b[1mAbstractVector\u001b[22m) where {Tv, Ti<:Integer}\n",
       "\u001b[90m     @\u001b[39m \u001b[32mSparseArrays\u001b[39m \u001b[90m/usr/share/julia/stdlib/v1.9/SparseArrays/src/\u001b[39m\u001b[90m\u001b[4msparsematrix.jl:2549\u001b[24m\u001b[39m\n",
       " [108] getindex(\u001b[90mx\u001b[39m::\u001b[1mSparseArrays.AbstractSparseMatrixCSC\u001b[22m, \u001b[90mI\u001b[39m::\u001b[1mAbstractUnitRange\u001b[22m, \u001b[90mj\u001b[39m::\u001b[1mInteger\u001b[22m)\n",
       "\u001b[90m     @\u001b[39m \u001b[32mSparseArrays\u001b[39m \u001b[90m/usr/share/julia/stdlib/v1.9/SparseArrays/src/\u001b[39m\u001b[90m\u001b[4msparsevector.jl:627\u001b[24m\u001b[39m\n",
       " [109] getindex(\u001b[90mA\u001b[39m::\u001b[1mSparseArrays.AbstractSparseMatrixCSC\u001b[22m, \u001b[90mI\u001b[39m::\u001b[1mAbstractVector\u001b[22m\u001b[0m{Bool})\n",
       "\u001b[90m     @\u001b[39m \u001b[32mSparseArrays\u001b[39m \u001b[90m/usr/share/julia/stdlib/v1.9/SparseArrays/src/\u001b[39m\u001b[90m\u001b[4msparsevector.jl:678\u001b[24m\u001b[39m\n",
       " [110] getindex(\u001b[90mA\u001b[39m::\u001b[1mSparseArrays.AbstractSparseMatrixCSC\u001b[22m, \u001b[90mI\u001b[39m::\u001b[1mAbstractVector\u001b[22m\u001b[0m{Bool}, \u001b[90mJ\u001b[39m::\u001b[1mInteger\u001b[22m)\n",
       "\u001b[90m     @\u001b[39m \u001b[32mSparseArrays\u001b[39m \u001b[90m/usr/share/julia/stdlib/v1.9/SparseArrays/src/\u001b[39m\u001b[90m\u001b[4msparsematrix.jl:2936\u001b[24m\u001b[39m\n",
       " [111] getindex(\u001b[90mA\u001b[39m::\u001b[1mSparseArrays.AbstractSparseMatrixCSC\u001b[22m, \u001b[90mI\u001b[39m::\u001b[1mAbstractVector\u001b[22m\u001b[0m{Bool}, \u001b[90mJ\u001b[39m::\u001b[1mAbstractVector\u001b[22m\u001b[0m{Bool})\n",
       "\u001b[90m     @\u001b[39m \u001b[32mSparseArrays\u001b[39m \u001b[90m/usr/share/julia/stdlib/v1.9/SparseArrays/src/\u001b[39m\u001b[90m\u001b[4msparsematrix.jl:2937\u001b[24m\u001b[39m\n",
       " [112] getindex(\u001b[90mA\u001b[39m::\u001b[1mSparseArrays.AbstractSparseMatrixCSC\u001b[22m, \u001b[90mI\u001b[39m::\u001b[1mAbstractVector\u001b[22m\u001b[0m{<:Integer}, \u001b[90mJ\u001b[39m::\u001b[1mAbstractVector\u001b[22m\u001b[0m{Bool})\n",
       "\u001b[90m     @\u001b[39m \u001b[32mSparseArrays\u001b[39m \u001b[90m/usr/share/julia/stdlib/v1.9/SparseArrays/src/\u001b[39m\u001b[90m\u001b[4msparsematrix.jl:2938\u001b[24m\u001b[39m\n",
       " [113] getindex(\u001b[90mA\u001b[39m::\u001b[1mSparseArrays.AbstractSparseMatrixCSC\u001b[22m, \u001b[90mI\u001b[39m::\u001b[1mAbstractVector\u001b[22m\u001b[0m{Bool}, \u001b[90mJ\u001b[39m::\u001b[1mAbstractVector\u001b[22m\u001b[0m{<:Integer})\n",
       "\u001b[90m     @\u001b[39m \u001b[32mSparseArrays\u001b[39m \u001b[90m/usr/share/julia/stdlib/v1.9/SparseArrays/src/\u001b[39m\u001b[90m\u001b[4msparsematrix.jl:2939\u001b[24m\u001b[39m\n",
       " [114] getindex(\u001b[90mA\u001b[39m::\u001b[1mSparseArrays.AbstractSparseMatrixCSC\u001b[22m, \u001b[90mI\u001b[39m::\u001b[1mAbstractVector\u001b[22m, \u001b[90mJ\u001b[39m::\u001b[1mInteger\u001b[22m)\n",
       "\u001b[90m     @\u001b[39m \u001b[32mSparseArrays\u001b[39m \u001b[90m/usr/share/julia/stdlib/v1.9/SparseArrays/src/\u001b[39m\u001b[90m\u001b[4msparsevector.jl:639\u001b[24m\u001b[39m\n",
       " [115] getindex(\u001b[90mA\u001b[39m::\u001b[1mSparseArrays.AbstractSparseMatrixCSC\u001b[22m, \u001b[90mI\u001b[39m::\u001b[1mAbstractArray\u001b[22m\u001b[0m{Bool})\n",
       "\u001b[90m     @\u001b[39m \u001b[32mSparseArrays\u001b[39m \u001b[90m/usr/share/julia/stdlib/v1.9/SparseArrays/src/\u001b[39m\u001b[90m\u001b[4msparsevector.jl:679\u001b[24m\u001b[39m\n",
       " [116] getindex(\u001b[90mA\u001b[39m::\u001b[1mSparseArrays.AbstractSparseMatrixCSC\u001b[22m\u001b[0m{Tv, Ti}, \u001b[90mI\u001b[39m::\u001b[1mAbstractVector\u001b[22m) where {Tv, Ti}\n",
       "\u001b[90m     @\u001b[39m \u001b[32mSparseArrays\u001b[39m \u001b[90m/usr/share/julia/stdlib/v1.9/SparseArrays/src/\u001b[39m\u001b[90m\u001b[4msparsevector.jl:761\u001b[24m\u001b[39m\n",
       " [117] getindex(\u001b[90mA\u001b[39m::\u001b[1mSparseArrays.AbstractSparseMatrixCSC\u001b[22m\u001b[0m{Tv, Ti}, \u001b[90mI\u001b[39m::\u001b[1mAbstractVector\u001b[22m, \u001b[90mJ\u001b[39m::\u001b[1mAbstractVector\u001b[22m) where {Tv, Ti}\n",
       "\u001b[90m     @\u001b[39m \u001b[32mSparseArrays\u001b[39m \u001b[90m/usr/share/julia/stdlib/v1.9/SparseArrays/src/\u001b[39m\u001b[90m\u001b[4msparsematrix.jl:2862\u001b[24m\u001b[39m\n",
       " [118] getindex(\u001b[90mA\u001b[39m::\u001b[1mSparseArrays.AbstractSparseMatrixCSC\u001b[22m\u001b[0m{Tv, Ti}, \u001b[90mI\u001b[39m::\u001b[1mAbstractArray\u001b[22m) where {Tv, Ti}\n",
       "\u001b[90m     @\u001b[39m \u001b[32mSparseArrays\u001b[39m \u001b[90m/usr/share/julia/stdlib/v1.9/SparseArrays/src/\u001b[39m\u001b[90m\u001b[4msparsematrix.jl:2887\u001b[24m\u001b[39m\n",
       " [119] getindex(\u001b[90mA\u001b[39m::\u001b[1mSparseArrays.AbstractSparseMatrixCSC\u001b[22m, ::\u001b[1mColon\u001b[22m)\n",
       "\u001b[90m     @\u001b[39m \u001b[32mSparseArrays\u001b[39m \u001b[90m/usr/share/julia/stdlib/v1.9/SparseArrays/src/\u001b[39m\u001b[90m\u001b[4msparsevector.jl:720\u001b[24m\u001b[39m\n",
       " [120] getindex(\u001b[90mA\u001b[39m::\u001b[1mSparseArrays.AbstractSparseMatrixCSC\u001b[22m, ::\u001b[1mColon\u001b[22m, ::\u001b[1mColon\u001b[22m)\n",
       "\u001b[90m     @\u001b[39m \u001b[32mSparseArrays\u001b[39m \u001b[90m/usr/share/julia/stdlib/v1.9/SparseArrays/src/\u001b[39m\u001b[90m\u001b[4msparsematrix.jl:2508\u001b[24m\u001b[39m\n",
       " [121] getindex(\u001b[90mA\u001b[39m::\u001b[1mSparseArrays.AbstractSparseMatrixCSC\u001b[22m, \u001b[90mi\u001b[39m, ::\u001b[1mColon\u001b[22m)\n",
       "\u001b[90m     @\u001b[39m \u001b[32mSparseArrays\u001b[39m \u001b[90m/usr/share/julia/stdlib/v1.9/SparseArrays/src/\u001b[39m\u001b[90m\u001b[4msparsematrix.jl:2509\u001b[24m\u001b[39m\n",
       " [122] getindex(\u001b[90mx\u001b[39m::\u001b[1mSparseArrays.AbstractSparseMatrixCSC\u001b[22m, ::\u001b[1mColon\u001b[22m, \u001b[90mj\u001b[39m::\u001b[1mInteger\u001b[22m)\n",
       "\u001b[90m     @\u001b[39m \u001b[32mSparseArrays\u001b[39m \u001b[90m/usr/share/julia/stdlib/v1.9/SparseArrays/src/\u001b[39m\u001b[90m\u001b[4msparsevector.jl:620\u001b[24m\u001b[39m\n",
       " [123] getindex(\u001b[90mA\u001b[39m::\u001b[1mSparseArrays.AbstractSparseMatrixCSC\u001b[22m, ::\u001b[1mColon\u001b[22m, \u001b[90mi\u001b[39m)\n",
       "\u001b[90m     @\u001b[39m \u001b[32mSparseArrays\u001b[39m \u001b[90m/usr/share/julia/stdlib/v1.9/SparseArrays/src/\u001b[39m\u001b[90m\u001b[4msparsematrix.jl:2510\u001b[24m\u001b[39m\n",
       " [124] getindex(\u001b[90ms\u001b[39m::\u001b[1mSubString\u001b[22m, \u001b[90mi\u001b[39m::\u001b[1mInteger\u001b[22m)\n",
       "\u001b[90m     @\u001b[39m \u001b[90mstrings/\u001b[39m\u001b[90m\u001b[4msubstring.jl:90\u001b[24m\u001b[39m\n",
       " [125] getindex(\u001b[90mA\u001b[39m::\u001b[1mLinearAlgebra.SymTridiagonal\u001b[22m\u001b[0m{T, V} where V<:AbstractVector{T}, \u001b[90mi\u001b[39m::\u001b[1mInteger\u001b[22m, \u001b[90mj\u001b[39m::\u001b[1mInteger\u001b[22m) where T\n",
       "\u001b[90m     @\u001b[39m \u001b[36mLinearAlgebra\u001b[39m \u001b[90m/usr/share/julia/stdlib/v1.9/LinearAlgebra/src/\u001b[39m\u001b[90m\u001b[4mtridiag.jl:461\u001b[24m\u001b[39m\n",
       " [126] getindex(\u001b[90mt\u001b[39m::\u001b[1mTuple\u001b[22m, \u001b[90mi\u001b[39m::\u001b[1mInt64\u001b[22m)\n",
       "\u001b[90m     @\u001b[39m \u001b[90m\u001b[4mtuple.jl:29\u001b[24m\u001b[39m\n",
       " [127] getindex(\u001b[90mt\u001b[39m::\u001b[1mTuple\u001b[22m, \u001b[90mi\u001b[39m::\u001b[1mInteger\u001b[22m)\n",
       "\u001b[90m     @\u001b[39m \u001b[90m\u001b[4mtuple.jl:30\u001b[24m\u001b[39m\n",
       " [128] getindex(\u001b[90mt\u001b[39m::\u001b[1mTuple\u001b[22m, \u001b[90mc\u001b[39m::\u001b[1mColon\u001b[22m)\n",
       "\u001b[90m     @\u001b[39m \u001b[90m\u001b[4mtuple.jl:33\u001b[24m\u001b[39m\n",
       " [129] getindex(\u001b[90mt\u001b[39m::\u001b[1mTuple\u001b[22m, \u001b[90mr\u001b[39m::\u001b[1mAbstractUnitRange\u001b[22m)\n",
       "\u001b[90m     @\u001b[39m \u001b[90m\u001b[4mrange.jl:415\u001b[24m\u001b[39m\n",
       " [130] getindex(\u001b[90mt\u001b[39m::\u001b[1mTuple\u001b[22m, \u001b[90mb\u001b[39m::\u001b[1mAbstractVector\u001b[22m\u001b[0m{Bool})\n",
       "\u001b[90m     @\u001b[39m \u001b[90m\u001b[4mtuple.jl:32\u001b[24m\u001b[39m\n",
       " [131] getindex(\u001b[90mt\u001b[39m::\u001b[1mTuple\u001b[22m, \u001b[90mr\u001b[39m::\u001b[1mAbstractVector\u001b[22m)\n",
       "\u001b[90m     @\u001b[39m \u001b[90m\u001b[4mtuple.jl:31\u001b[24m\u001b[39m\n",
       " [132] getindex(\u001b[90mt\u001b[39m::\u001b[1mTuple\u001b[22m, \u001b[90mi\u001b[39m::\u001b[1mCartesianIndex\u001b[22m\u001b[0m{1})\n",
       "\u001b[90m     @\u001b[39m \u001b[90m\u001b[4mmultidimensional.jl:854\u001b[24m\u001b[39m\n",
       " [133] getindex(\u001b[90mt\u001b[39m::\u001b[1mTuple\u001b[22m, \u001b[90mi\u001b[39m::\u001b[1mReal\u001b[22m)\n",
       "\u001b[90m     @\u001b[39m \u001b[90m\u001b[4mdeprecated.jl:103\u001b[24m\u001b[39m\n",
       " [134] getindex(\u001b[90mx\u001b[39m::\u001b[1mSparseArrays.AbstractSparseVector\u001b[22m\u001b[0m{Tv, Ti}, \u001b[90mI\u001b[39m::\u001b[1mAbstractUnitRange\u001b[22m) where {Tv, Ti}\n",
       "\u001b[90m     @\u001b[39m \u001b[32mSparseArrays\u001b[39m \u001b[90m/usr/share/julia/stdlib/v1.9/SparseArrays/src/\u001b[39m\u001b[90m\u001b[4msparsevector.jl:940\u001b[24m\u001b[39m\n",
       " [135] getindex(\u001b[90mx\u001b[39m::\u001b[1mSparseArrays.AbstractSparseVector\u001b[22m, \u001b[90mI\u001b[39m::\u001b[1mAbstractVector\u001b[22m\u001b[0m{Bool})\n",
       "\u001b[90m     @\u001b[39m \u001b[32mSparseArrays\u001b[39m \u001b[90m/usr/share/julia/stdlib/v1.9/SparseArrays/src/\u001b[39m\u001b[90m\u001b[4msparsevector.jl:971\u001b[24m\u001b[39m\n",
       " [136] getindex(\u001b[90mx\u001b[39m::\u001b[1mSparseArrays.AbstractSparseVector\u001b[22m\u001b[0m{Tv, Ti}, \u001b[90mI\u001b[39m::\u001b[1mAbstractVector\u001b[22m) where {Tv, Ti}\n",
       "\u001b[90m     @\u001b[39m \u001b[32mSparseArrays\u001b[39m \u001b[90m/usr/share/julia/stdlib/v1.9/SparseArrays/src/\u001b[39m\u001b[90m\u001b[4msparsevector.jl:973\u001b[24m\u001b[39m\n",
       " [137] getindex(\u001b[90mx\u001b[39m::\u001b[1mSparseArrays.AbstractSparseVector\u001b[22m, \u001b[90mI\u001b[39m::\u001b[1mAbstractArray\u001b[22m\u001b[0m{Bool})\n",
       "\u001b[90m     @\u001b[39m \u001b[32mSparseArrays\u001b[39m \u001b[90m/usr/share/julia/stdlib/v1.9/SparseArrays/src/\u001b[39m\u001b[90m\u001b[4msparsevector.jl:972\u001b[24m\u001b[39m\n",
       " [138] getindex(\u001b[90mx\u001b[39m::\u001b[1mSparseArrays.AbstractSparseVector\u001b[22m\u001b[0m{Tv, Ti}, \u001b[90mI\u001b[39m::\u001b[1mAbstractArray\u001b[22m) where {Tv, Ti}\n",
       "\u001b[90m     @\u001b[39m \u001b[32mSparseArrays\u001b[39m \u001b[90m/usr/share/julia/stdlib/v1.9/SparseArrays/src/\u001b[39m\u001b[90m\u001b[4msparsevector.jl:979\u001b[24m\u001b[39m\n",
       " [139] getindex(\u001b[90mx\u001b[39m::\u001b[1mSparseArrays.AbstractSparseVector\u001b[22m, ::\u001b[1mColon\u001b[22m)\n",
       "\u001b[90m     @\u001b[39m \u001b[32mSparseArrays\u001b[39m \u001b[90m/usr/share/julia/stdlib/v1.9/SparseArrays/src/\u001b[39m\u001b[90m\u001b[4msparsevector.jl:985\u001b[24m\u001b[39m\n",
       " [140] getindex(\u001b[90mA\u001b[39m::\u001b[1mPermutedDimsArray\u001b[22m\u001b[0m{T, N, perm, iperm}, \u001b[90mI\u001b[39m::\u001b[1mVararg\u001b[22m\u001b[0m{Int64, N}) where {T, N, perm, iperm}\n",
       "\u001b[90m     @\u001b[39m \u001b[90mBase.PermutedDimsArrays\u001b[39m \u001b[90m\u001b[4mpermuteddimsarray.jl:70\u001b[24m\u001b[39m\n",
       " [141] getindex(\u001b[90mS\u001b[39m::\u001b[1mSharedArrays.SharedArray\u001b[22m, \u001b[90mi\u001b[39m::\u001b[1mReal\u001b[22m)\n",
       "\u001b[90m     @\u001b[39m \u001b[33mSharedArrays\u001b[39m \u001b[90m/usr/share/julia/stdlib/v1.9/SharedArrays/src/\u001b[39m\u001b[90m\u001b[4mSharedArrays.jl:510\u001b[24m\u001b[39m\n",
       " [142] getindex(\u001b[90mx\u001b[39m::\u001b[1mSparseArrays.ReadOnly\u001b[22m, \u001b[90my...\u001b[39m)\n",
       "\u001b[90m     @\u001b[39m \u001b[32mSparseArrays\u001b[39m \u001b[90m/usr/share/julia/stdlib/v1.9/SparseArrays/src/\u001b[39m\u001b[90m\u001b[4mreadonly.jl:20\u001b[24m\u001b[39m\n",
       " [143] getindex(\u001b[90ma\u001b[39m::\u001b[1mRandom.UnsafeView\u001b[22m, \u001b[90mi\u001b[39m::\u001b[1mInt64\u001b[22m)\n",
       "\u001b[90m     @\u001b[39m \u001b[36mRandom\u001b[39m \u001b[90m/usr/share/julia/stdlib/v1.9/Random/src/\u001b[39m\u001b[90m\u001b[4mRNGs.jl:476\u001b[24m\u001b[39m\n",
       " [144] getindex(\u001b[90msp\u001b[39m::\u001b[1mRandom.SamplerTrivial\u001b[22m)\n",
       "\u001b[90m     @\u001b[39m \u001b[36mRandom\u001b[39m \u001b[90m/usr/share/julia/stdlib/v1.9/Random/src/\u001b[39m\u001b[90m\u001b[4mRandom.jl:186\u001b[24m\u001b[39m\n",
       " [145] getindex(\u001b[90mA\u001b[39m::\u001b[1mLinearAlgebra.Bidiagonal\u001b[22m\u001b[0m{T, V} where V<:AbstractVector{T}, \u001b[90mi\u001b[39m::\u001b[1mInteger\u001b[22m, \u001b[90mj\u001b[39m::\u001b[1mInteger\u001b[22m) where T\n",
       "\u001b[90m     @\u001b[39m \u001b[36mLinearAlgebra\u001b[39m \u001b[90m/usr/share/julia/stdlib/v1.9/LinearAlgebra/src/\u001b[39m\u001b[90m\u001b[4mbidiag.jl:133\u001b[24m\u001b[39m\n",
       " [146] getindex(\u001b[90mr\u001b[39m::\u001b[1mDistributed.RemoteChannel\u001b[22m)\n",
       "\u001b[90m     @\u001b[39m \u001b[35mDistributed\u001b[39m \u001b[90m/usr/share/julia/stdlib/v1.9/Distributed/src/\u001b[39m\u001b[90m\u001b[4mremotecall.jl:771\u001b[24m\u001b[39m\n",
       " [147] getindex(\u001b[90mr\u001b[39m::\u001b[1mDistributed.RemoteChannel\u001b[22m, \u001b[90margs...\u001b[39m)\n",
       "\u001b[90m     @\u001b[39m \u001b[35mDistributed\u001b[39m \u001b[90m/usr/share/julia/stdlib/v1.9/Distributed/src/\u001b[39m\u001b[90m\u001b[4mremotecall.jl:775\u001b[24m\u001b[39m\n",
       " [148] getindex(\u001b[90mA\u001b[39m::\u001b[1mLinearAlgebra.LowerTriangular\u001b[22m, \u001b[90mi\u001b[39m::\u001b[1mInteger\u001b[22m, \u001b[90mj\u001b[39m::\u001b[1mInteger\u001b[22m)\n",
       "\u001b[90m     @\u001b[39m \u001b[36mLinearAlgebra\u001b[39m \u001b[90m/usr/share/julia/stdlib/v1.9/LinearAlgebra/src/\u001b[39m\u001b[90m\u001b[4mtriangular.jl:228\u001b[24m\u001b[39m\n",
       " [149] getindex(\u001b[90mc\u001b[39m::\u001b[1mAbstractChar\u001b[22m)\n",
       "\u001b[90m     @\u001b[39m \u001b[90m\u001b[4mchar.jl:202\u001b[24m\u001b[39m\n",
       " [150] getindex(\u001b[90mx\u001b[39m::\u001b[1mUnion\u001b[22m\u001b[0m{AbstractChar, Number}, ::\u001b[1mCartesianIndex\u001b[22m\u001b[0m{0})\n",
       "\u001b[90m     @\u001b[39m \u001b[90m\u001b[4mmultidimensional.jl:853\u001b[24m\u001b[39m\n",
       " [151] getindex(\u001b[90mc\u001b[39m::\u001b[1mAbstractChar\u001b[22m, \u001b[90mi\u001b[39m::\u001b[1mInteger\u001b[22m)\n",
       "\u001b[90m     @\u001b[39m \u001b[90m\u001b[4mchar.jl:203\u001b[24m\u001b[39m\n",
       " [152] getindex(\u001b[90mc\u001b[39m::\u001b[1mAbstractChar\u001b[22m, \u001b[90mI\u001b[39m::\u001b[1mInteger...\u001b[22m)\n",
       "\u001b[90m     @\u001b[39m \u001b[90m\u001b[4mchar.jl:204\u001b[24m\u001b[39m\n",
       " [153] getindex(\u001b[90mh\u001b[39m::\u001b[1mDict\u001b[22m\u001b[0m{K, V}, \u001b[90mkey\u001b[39m) where {K, V}\n",
       "\u001b[90m     @\u001b[39m \u001b[90m\u001b[4mdict.jl:482\u001b[24m\u001b[39m\n",
       " [154] getindex(\u001b[90mp\u001b[39m::\u001b[1mPair\u001b[22m, \u001b[90mi\u001b[39m::\u001b[1mInt64\u001b[22m)\n",
       "\u001b[90m     @\u001b[39m \u001b[90m\u001b[4mpair.jl:51\u001b[24m\u001b[39m\n",
       " [155] getindex(\u001b[90mp\u001b[39m::\u001b[1mPair\u001b[22m, \u001b[90mi\u001b[39m::\u001b[1mReal\u001b[22m)\n",
       "\u001b[90m     @\u001b[39m \u001b[90m\u001b[4mpair.jl:52\u001b[24m\u001b[39m\n",
       " [156] getindex(\u001b[90mJ\u001b[39m::\u001b[1mLinearAlgebra.UniformScaling\u001b[22m, \u001b[90mi\u001b[39m::\u001b[1mInteger\u001b[22m, \u001b[90mj\u001b[39m::\u001b[1mInteger\u001b[22m)\n",
       "\u001b[90m     @\u001b[39m \u001b[36mLinearAlgebra\u001b[39m \u001b[90m/usr/share/julia/stdlib/v1.9/LinearAlgebra/src/\u001b[39m\u001b[90m\u001b[4muniformscaling.jl:89\u001b[24m\u001b[39m\n",
       " [157] getindex(\u001b[90mJ\u001b[39m::\u001b[1mLinearAlgebra.UniformScaling\u001b[22m, \u001b[90mn\u001b[39m::\u001b[1mInteger\u001b[22m, \u001b[90mm\u001b[39m::\u001b[1mAbstractVector\u001b[22m\u001b[0m{<:Integer})\n",
       "\u001b[90m     @\u001b[39m \u001b[36mLinearAlgebra\u001b[39m \u001b[90m/usr/share/julia/stdlib/v1.9/LinearAlgebra/src/\u001b[39m\u001b[90m\u001b[4muniformscaling.jl:91\u001b[24m\u001b[39m\n",
       " [158] getindex(\u001b[90mJ\u001b[39m::\u001b[1mLinearAlgebra.UniformScaling\u001b[22m\u001b[0m{T}, \u001b[90mn\u001b[39m::\u001b[1mAbstractVector\u001b[22m\u001b[0m{<:Integer}, \u001b[90mm\u001b[39m::\u001b[1mInteger\u001b[22m) where T\n",
       "\u001b[90m     @\u001b[39m \u001b[36mLinearAlgebra\u001b[39m \u001b[90m/usr/share/julia/stdlib/v1.9/LinearAlgebra/src/\u001b[39m\u001b[90m\u001b[4muniformscaling.jl:92\u001b[24m\u001b[39m\n",
       " [159] getindex(\u001b[90mJ\u001b[39m::\u001b[1mLinearAlgebra.UniformScaling\u001b[22m\u001b[0m{T}, \u001b[90mn\u001b[39m::\u001b[1mAbstractVector\u001b[22m\u001b[0m{<:Integer}, \u001b[90mm\u001b[39m::\u001b[1mAbstractVector\u001b[22m\u001b[0m{<:Integer}) where T\n",
       "\u001b[90m     @\u001b[39m \u001b[36mLinearAlgebra\u001b[39m \u001b[90m/usr/share/julia/stdlib/v1.9/LinearAlgebra/src/\u001b[39m\u001b[90m\u001b[4muniformscaling.jl:102\u001b[24m\u001b[39m\n",
       " [160] getindex(\u001b[90mr\u001b[39m::\u001b[1mAbstractUnitRange\u001b[22m, \u001b[90ms\u001b[39m::\u001b[1mAbstractUnitRange\u001b[22m\u001b[0m{T}) where T<:Integer\n",
       "\u001b[90m     @\u001b[39m \u001b[90m\u001b[4mrange.jl:971\u001b[24m\u001b[39m\n",
       " [161] getindex(\u001b[90mr\u001b[39m::\u001b[1mAbstractUnitRange\u001b[22m, \u001b[90ms\u001b[39m::\u001b[1mStepRange\u001b[22m\u001b[0m{T}) where T<:Integer\n",
       "\u001b[90m     @\u001b[39m \u001b[90m\u001b[4mrange.jl:992\u001b[24m\u001b[39m\n",
       " [162] getindex(\u001b[90mG\u001b[39m::\u001b[1mLinearAlgebra.Givens\u001b[22m, \u001b[90mi\u001b[39m::\u001b[1mInteger\u001b[22m, \u001b[90mj\u001b[39m::\u001b[1mInteger\u001b[22m)\n",
       "\u001b[90m     @\u001b[39m \u001b[36mLinearAlgebra\u001b[39m \u001b[90m/usr/share/julia/stdlib/v1.9/LinearAlgebra/src/\u001b[39m\u001b[90m\u001b[4mgivens.jl:336\u001b[24m\u001b[39m\n",
       " [163] getindex(\u001b[90mA\u001b[39m::\u001b[1mSparseArrays.CHOLMOD.Dense\u001b[22m\u001b[0m{T}, \u001b[90mi\u001b[39m::\u001b[1mInteger\u001b[22m) where T<:Union{Float64, ComplexF64}\n",
       "\u001b[90m     @\u001b[39m \u001b[32mSparseArrays.CHOLMOD\u001b[39m \u001b[90m/usr/share/julia/stdlib/v1.9/SparseArrays/src/solvers/\u001b[39m\u001b[90m\u001b[4mcholmod.jl:1027\u001b[24m\u001b[39m\n",
       " [164] getindex(\u001b[90mA\u001b[39m::\u001b[1mLinearAlgebra.LQPackedQ\u001b[22m, \u001b[90mi\u001b[39m::\u001b[1mInteger\u001b[22m, \u001b[90mj\u001b[39m::\u001b[1mInteger\u001b[22m)\n",
       "\u001b[90m     @\u001b[39m \u001b[36mLinearAlgebra\u001b[39m \u001b[90m/usr/share/julia/stdlib/v1.9/LinearAlgebra/src/\u001b[39m\u001b[90m\u001b[4mlq.jl:156\u001b[24m\u001b[39m\n",
       " [165] getindex(\u001b[90mA\u001b[39m::\u001b[1mBase.Experimental.Const\u001b[22m, \u001b[90mi1\u001b[39m::\u001b[1mInt64\u001b[22m)\n",
       "\u001b[90m     @\u001b[39m \u001b[90mBase.Experimental\u001b[39m \u001b[90m\u001b[4mexperimental.jl:31\u001b[24m\u001b[39m\n",
       " [166] getindex(\u001b[90mA\u001b[39m::\u001b[1mBase.Experimental.Const\u001b[22m, \u001b[90mi1\u001b[39m::\u001b[1mInt64\u001b[22m, \u001b[90mi2\u001b[39m::\u001b[1mInt64\u001b[22m, \u001b[90mI\u001b[39m::\u001b[1mInt64...\u001b[22m)\n",
       "\u001b[90m     @\u001b[39m \u001b[90mBase.Experimental\u001b[39m \u001b[90m\u001b[4mexperimental.jl:33\u001b[24m\u001b[39m\n",
       " [167] getindex(\u001b[90mD\u001b[39m::\u001b[1mLinearAlgebra.Diagonal\u001b[22m, \u001b[90mi\u001b[39m::\u001b[1mInt64\u001b[22m, \u001b[90mj\u001b[39m::\u001b[1mInt64\u001b[22m)\n",
       "\u001b[90m     @\u001b[39m \u001b[36mLinearAlgebra\u001b[39m \u001b[90m/usr/share/julia/stdlib/v1.9/LinearAlgebra/src/\u001b[39m\u001b[90m\u001b[4mdiagonal.jl:112\u001b[24m\u001b[39m\n",
       " [168] getindex(\u001b[90mA\u001b[39m::\u001b[1mLinearAlgebra.UnitUpperTriangular\u001b[22m\u001b[0m{T, S} where S<:AbstractMatrix{T}, \u001b[90mi\u001b[39m::\u001b[1mInteger\u001b[22m, \u001b[90mj\u001b[39m::\u001b[1mInteger\u001b[22m) where T\n",
       "\u001b[90m     @\u001b[39m \u001b[36mLinearAlgebra\u001b[39m \u001b[90m/usr/share/julia/stdlib/v1.9/LinearAlgebra/src/\u001b[39m\u001b[90m\u001b[4mtriangular.jl:230\u001b[24m\u001b[39m\n",
       " [169] getindex(\u001b[90mA\u001b[39m::\u001b[1mSparseArrays.CHOLMOD.Sparse\u001b[22m\u001b[0m{T}, \u001b[90mi0\u001b[39m::\u001b[1mInteger\u001b[22m, \u001b[90mi1\u001b[39m::\u001b[1mInteger\u001b[22m) where T\n",
       "\u001b[90m     @\u001b[39m \u001b[32mSparseArrays.CHOLMOD\u001b[39m \u001b[90m/usr/share/julia/stdlib/v1.9/SparseArrays/src/solvers/\u001b[39m\u001b[90m\u001b[4mcholmod.jl:1034\u001b[24m\u001b[39m\n",
       " [170] getindex(\u001b[90mx\u001b[39m::\u001b[1mSparseArrays.AbstractSparseVector\u001b[22m, \u001b[90mi\u001b[39m::\u001b[1mInteger\u001b[22m)\n",
       "\u001b[90m     @\u001b[39m \u001b[32mSparseArrays\u001b[39m \u001b[90m/usr/share/julia/stdlib/v1.9/SparseArrays/src/\u001b[39m\u001b[90m\u001b[4msparsevector.jl:935\u001b[24m\u001b[39m\n",
       " [171] getindex(::\u001b[1mType\u001b[22m\u001b[0m{Any})\n",
       "\u001b[90m     @\u001b[39m \u001b[90m\u001b[4marray.jl:422\u001b[24m\u001b[39m\n",
       " [172] getindex(::\u001b[1mType\u001b[22m\u001b[0m{Any}, \u001b[90mvals...\u001b[39m)\n",
       "\u001b[90m     @\u001b[39m \u001b[90m\u001b[4marray.jl:415\u001b[24m\u001b[39m\n",
       " [173] getindex(::\u001b[1mType\u001b[22m\u001b[0m{T}, \u001b[90mvals...\u001b[39m) where T\n",
       "\u001b[90m     @\u001b[39m \u001b[90m\u001b[4marray.jl:399\u001b[24m\u001b[39m\n",
       " [174] getindex(\u001b[90mnode\u001b[39m::\u001b[1mCore.Compiler.Instruction\u001b[22m, \u001b[90mfld\u001b[39m::\u001b[1mSymbol\u001b[22m)\n",
       "\u001b[90m     @\u001b[39m \u001b[90mBase.IRShow\u001b[39m \u001b[90m\u001b[4mshow.jl:2599\u001b[24m\u001b[39m\n",
       " [175] getindex(\u001b[90mdiff\u001b[39m::\u001b[1mLibGit2.GitDiff\u001b[22m, \u001b[90mi\u001b[39m::\u001b[1mInteger\u001b[22m)\n",
       "\u001b[90m     @\u001b[39m \u001b[36mLibGit2\u001b[39m \u001b[90m/usr/share/julia/stdlib/v1.9/LibGit2/src/\u001b[39m\u001b[90m\u001b[4mdiff.jl:120\u001b[24m\u001b[39m\n",
       " [176] getindex(\u001b[90mm\u001b[39m::\u001b[1mPkg.Types.Manifest\u001b[22m, \u001b[90mi_or_key\u001b[39m)\n",
       "\u001b[90m     @\u001b[39m \u001b[32mPkg.Types\u001b[39m \u001b[90m/usr/share/julia/stdlib/v1.9/Pkg/src/\u001b[39m\u001b[90m\u001b[4mTypes.jl:299\u001b[24m\u001b[39m\n",
       " [177] getindex(\u001b[90mcache\u001b[39m::\u001b[1mLibGit2.CachedCredentials\u001b[22m, \u001b[90mcred_id\u001b[39m)\n",
       "\u001b[90m     @\u001b[39m \u001b[36mLibGit2\u001b[39m \u001b[90m/usr/share/julia/stdlib/v1.9/LibGit2/src/\u001b[39m\u001b[90m\u001b[4mtypes.jl:1310\u001b[24m\u001b[39m\n",
       " [178] getindex(\u001b[90mx\u001b[39m::\u001b[1mBase.Threads.Atomic\u001b[22m\u001b[0m{Int64})\n",
       "\u001b[90m     @\u001b[39m \u001b[90mBase.Threads\u001b[39m \u001b[90m\u001b[4matomics.jl:358\u001b[24m\u001b[39m\n",
       " [179] getindex(\u001b[90mis\u001b[39m::\u001b[1mCore.Compiler.InstructionStream\u001b[22m, \u001b[90midx\u001b[39m::\u001b[1mInt64\u001b[22m)\n",
       "\u001b[90m     @\u001b[39m \u001b[90mBase.IRShow\u001b[39m \u001b[90m\u001b[4mshow.jl:2598\u001b[24m\u001b[39m\n",
       " [180] getindex(\u001b[90ms\u001b[39m::\u001b[1mString\u001b[22m, \u001b[90mi\u001b[39m::\u001b[1mInt64\u001b[22m)\n",
       "\u001b[90m     @\u001b[39m \u001b[90mstrings/\u001b[39m\u001b[90m\u001b[4mstring.jl:237\u001b[24m\u001b[39m\n",
       " [181] getindex(\u001b[90ms\u001b[39m::\u001b[1mAbstractString\u001b[22m, \u001b[90mi\u001b[39m::\u001b[1mInteger\u001b[22m)\n",
       "\u001b[90m     @\u001b[39m \u001b[90mstrings/\u001b[39m\u001b[90m\u001b[4mbasic.jl:184\u001b[24m\u001b[39m\n",
       " [182] getindex(\u001b[90ms\u001b[39m::\u001b[1mString\u001b[22m, \u001b[90mr\u001b[39m::\u001b[1mUnitRange\u001b[22m\u001b[0m{Int64})\n",
       "\u001b[90m     @\u001b[39m \u001b[90mstrings/\u001b[39m\u001b[90m\u001b[4mstring.jl:272\u001b[24m\u001b[39m\n",
       " [183] getindex(\u001b[90ms\u001b[39m::\u001b[1mString\u001b[22m, \u001b[90mr\u001b[39m::\u001b[1mAbstractUnitRange\u001b[22m\u001b[0m{<:Integer})\n",
       "\u001b[90m     @\u001b[39m \u001b[90mstrings/\u001b[39m\u001b[90m\u001b[4mstring.jl:270\u001b[24m\u001b[39m\n",
       " [184] getindex(\u001b[90ms\u001b[39m::\u001b[1mAbstractString\u001b[22m, \u001b[90mr\u001b[39m::\u001b[1mAbstractUnitRange\u001b[22m\u001b[0m{<:Integer})\n",
       "\u001b[90m     @\u001b[39m \u001b[90mstrings/\u001b[39m\u001b[90m\u001b[4msubstring.jl:281\u001b[24m\u001b[39m\n",
       " [185] getindex(\u001b[90ms\u001b[39m::\u001b[1mAbstractString\u001b[22m, \u001b[90mv\u001b[39m::\u001b[1mAbstractVector\u001b[22m\u001b[0m{Bool})\n",
       "\u001b[90m     @\u001b[39m \u001b[90mstrings/\u001b[39m\u001b[90m\u001b[4mbasic.jl:194\u001b[24m\u001b[39m\n",
       " [186] getindex(\u001b[90ms\u001b[39m::\u001b[1mAbstractString\u001b[22m, \u001b[90mv\u001b[39m::\u001b[1mAbstractVector\u001b[22m\u001b[0m{<:Integer})\n",
       "\u001b[90m     @\u001b[39m \u001b[90mstrings/\u001b[39m\u001b[90m\u001b[4mbasic.jl:192\u001b[24m\u001b[39m\n",
       " [187] getindex(\u001b[90mv\u001b[39m::\u001b[1mCore.SimpleVector\u001b[22m, \u001b[90mI\u001b[39m::\u001b[1mAbstractArray\u001b[22m)\n",
       "\u001b[90m     @\u001b[39m \u001b[90m\u001b[4messentials.jl:723\u001b[24m\u001b[39m\n",
       " [188] getindex(\u001b[90mv\u001b[39m::\u001b[1mCore.SimpleVector\u001b[22m, \u001b[90mi\u001b[39m::\u001b[1mInt64\u001b[22m)\n",
       "\u001b[90m     @\u001b[39m \u001b[90m\u001b[4messentials.jl:697\u001b[24m\u001b[39m\n",
       " [189] getindex(\u001b[90mstate\u001b[39m::\u001b[1mJSON.Parser.MemoryParserState\u001b[22m, \u001b[90mi\u001b[39m::\u001b[1mInt64\u001b[22m)\n",
       "\u001b[90m     @\u001b[39m \u001b[33mJSON.Parser\u001b[39m \u001b[90m~/.julia/packages/JSON/93Ea8/src/\u001b[39m\u001b[90m\u001b[4mParser.jl:27\u001b[24m\u001b[39m\n",
       " [190] getindex(\u001b[90midx\u001b[39m::\u001b[1mLibGit2.GitIndex\u001b[22m, \u001b[90mi\u001b[39m::\u001b[1mInteger\u001b[22m)\n",
       "\u001b[90m     @\u001b[39m \u001b[36mLibGit2\u001b[39m \u001b[90m/usr/share/julia/stdlib/v1.9/LibGit2/src/\u001b[39m\u001b[90m\u001b[4mindex.jl:179\u001b[24m\u001b[39m\n",
       " [191] getindex(\u001b[90mdtfd\u001b[39m::\u001b[1mBase.DataTypeFieldDesc\u001b[22m, \u001b[90mi\u001b[39m::\u001b[1mInt64\u001b[22m)\n",
       "\u001b[90m     @\u001b[39m \u001b[90m\u001b[4mreflection.jl:481\u001b[24m\u001b[39m\n",
       " [192] getindex(\u001b[90mmd\u001b[39m::\u001b[1mMarkdown.MD\u001b[22m, \u001b[90margs...\u001b[39m)\n",
       "\u001b[90m     @\u001b[39m \u001b[35mMarkdown\u001b[39m \u001b[90m/usr/share/julia/stdlib/v1.9/Markdown/src/parse/\u001b[39m\u001b[90m\u001b[4mparse.jl:24\u001b[24m\u001b[39m\n",
       " [193] getindex(::\u001b[1mBase.EnvDict\u001b[22m, \u001b[90mk\u001b[39m::\u001b[1mAbstractString\u001b[22m)\n",
       "\u001b[90m     @\u001b[39m \u001b[90m\u001b[4menv.jl:100\u001b[24m\u001b[39m\n",
       " [194] getindex(\u001b[90mt\u001b[39m::\u001b[1mAbstractDict\u001b[22m, \u001b[90mkey\u001b[39m)\n",
       "\u001b[90m     @\u001b[39m \u001b[90m\u001b[4mabstractdict.jl:539\u001b[24m\u001b[39m\n",
       " [195] getindex(\u001b[90mt\u001b[39m::\u001b[1mAbstractDict\u001b[22m, \u001b[90mk1\u001b[39m, \u001b[90mk2\u001b[39m, \u001b[90mks...\u001b[39m)\n",
       "\u001b[90m     @\u001b[39m \u001b[90m\u001b[4mabstractdict.jl:549\u001b[24m\u001b[39m\n",
       " [196] getindex(\u001b[90mx\u001b[39m::\u001b[1mBase.Threads.Atomic\u001b[22m\u001b[0m{UInt16})\n",
       "\u001b[90m     @\u001b[39m \u001b[90mBase.Threads\u001b[39m \u001b[90m\u001b[4matomics.jl:358\u001b[24m\u001b[39m\n",
       " [197] getindex(\u001b[90mx\u001b[39m::\u001b[1mBase.Threads.Atomic\u001b[22m\u001b[0m{Int32})\n",
       "\u001b[90m     @\u001b[39m \u001b[90mBase.Threads\u001b[39m \u001b[90m\u001b[4matomics.jl:358\u001b[24m\u001b[39m\n",
       " [198] getindex(\u001b[90mtree\u001b[39m::\u001b[1mLibGit2.GitTree\u001b[22m, \u001b[90mi\u001b[39m::\u001b[1mInteger\u001b[22m)\n",
       "\u001b[90m     @\u001b[39m \u001b[36mLibGit2\u001b[39m \u001b[90m/usr/share/julia/stdlib/v1.9/LibGit2/src/\u001b[39m\u001b[90m\u001b[4mtree.jl:107\u001b[24m\u001b[39m\n",
       " [199] getindex(\u001b[90mtree\u001b[39m::\u001b[1mLibGit2.GitTree\u001b[22m, \u001b[90mtarget\u001b[39m::\u001b[1mAbstractString\u001b[22m)\n",
       "\u001b[90m     @\u001b[39m \u001b[36mLibGit2\u001b[39m \u001b[90m/usr/share/julia/stdlib/v1.9/LibGit2/src/\u001b[39m\u001b[90m\u001b[4mtree.jl:186\u001b[24m\u001b[39m\n",
       " [200] getindex(\u001b[90mx\u001b[39m::\u001b[1mBase.Threads.Atomic\u001b[22m\u001b[0m{Bool})\n",
       "\u001b[90m     @\u001b[39m \u001b[90mBase.Threads\u001b[39m \u001b[90m\u001b[4matomics.jl:358\u001b[24m\u001b[39m\n",
       " [201] getindex(\u001b[90mt\u001b[39m::\u001b[1mREPL.Terminals.TTYTerminal\u001b[22m, \u001b[90mkey\u001b[39m)\n",
       "\u001b[90m     @\u001b[39m \u001b[36mREPL.Terminals\u001b[39m \u001b[90m/usr/share/julia/stdlib/v1.9/REPL/src/\u001b[39m\u001b[90m\u001b[4mTerminals.jl:160\u001b[24m\u001b[39m\n",
       " [202] getindex(\u001b[90mr\u001b[39m::\u001b[1mPkg.Registry.RegistryInstance\u001b[22m, \u001b[90muuid\u001b[39m::\u001b[1mBase.UUID\u001b[22m)\n",
       "\u001b[90m     @\u001b[39m \u001b[32mPkg.Registry\u001b[39m \u001b[90m/usr/share/julia/stdlib/v1.9/Pkg/src/Registry/\u001b[39m\u001b[90m\u001b[4mregistry_instance.jl:446\u001b[24m\u001b[39m\n",
       " [203] getindex(\u001b[90mrb\u001b[39m::\u001b[1mLibGit2.GitRebase\u001b[22m, \u001b[90mi\u001b[39m::\u001b[1mInteger\u001b[22m)\n",
       "\u001b[90m     @\u001b[39m \u001b[36mLibGit2\u001b[39m \u001b[90m/usr/share/julia/stdlib/v1.9/LibGit2/src/\u001b[39m\u001b[90m\u001b[4mrebase.jl:34\u001b[24m\u001b[39m\n",
       " [204] getindex(\u001b[90mp\u001b[39m::\u001b[1mPipe\u001b[22m, \u001b[90mkey\u001b[39m::\u001b[1mInt64\u001b[22m)\n",
       "\u001b[90m     @\u001b[39m \u001b[90m\u001b[4mstream.jl:1264\u001b[24m\u001b[39m\n",
       " [205] getindex(\u001b[90mx\u001b[39m::\u001b[1mBase.Threads.Atomic\u001b[22m\u001b[0m{UInt64})\n",
       "\u001b[90m     @\u001b[39m \u001b[90mBase.Threads\u001b[39m \u001b[90m\u001b[4matomics.jl:358\u001b[24m\u001b[39m\n",
       " [206] getindex(\u001b[90ms\u001b[39m::\u001b[1mBase.ExceptionStack\u001b[22m, \u001b[90mi\u001b[39m::\u001b[1mInt64\u001b[22m)\n",
       "\u001b[90m     @\u001b[39m \u001b[90m\u001b[4merrorshow.jl:939\u001b[24m\u001b[39m\n",
       " [207] getindex(\u001b[90mo\u001b[39m::\u001b[1mPyObject\u001b[22m, \u001b[90mi\u001b[39m::\u001b[1mInteger\u001b[22m)\n",
       "\u001b[90m     @\u001b[39m \u001b[32mPyCall\u001b[39m \u001b[90m\u001b[4mdeprecated.jl:103\u001b[24m\u001b[39m\n",
       " [208] getindex(\u001b[90mo\u001b[39m::\u001b[1mPyObject\u001b[22m, \u001b[90mi1\u001b[39m::\u001b[1mInteger\u001b[22m, \u001b[90mi2\u001b[39m::\u001b[1mInteger\u001b[22m)\n",
       "\u001b[90m     @\u001b[39m \u001b[32mPyCall\u001b[39m \u001b[90m\u001b[4mdeprecated.jl:103\u001b[24m\u001b[39m\n",
       " [209] getindex(\u001b[90mo\u001b[39m::\u001b[1mPyObject\u001b[22m, \u001b[90ms\u001b[39m::\u001b[1mT\u001b[22m) where T<:Union{AbstractString, Symbol}\n",
       "\u001b[90m     @\u001b[39m \u001b[32mPyCall\u001b[39m \u001b[90m~/.julia/packages/PyCall/1gn3u/src/\u001b[39m\u001b[90m\u001b[4mPyCall.jl:349\u001b[24m\u001b[39m\n",
       " [210] getindex(\u001b[90mo\u001b[39m::\u001b[1mPyObject\u001b[22m, \u001b[90mI\u001b[39m::\u001b[1mInteger...\u001b[22m)\n",
       "\u001b[90m     @\u001b[39m \u001b[32mPyCall\u001b[39m \u001b[90m\u001b[4mdeprecated.jl:103\u001b[24m\u001b[39m\n",
       " [211] getindex(\u001b[90mr\u001b[39m::\u001b[1mCore.Compiler.StmtRange\u001b[22m, \u001b[90mind\u001b[39m::\u001b[1mInteger\u001b[22m)\n",
       "\u001b[90m     @\u001b[39m \u001b[90mBase.IRShow\u001b[39m \u001b[90m\u001b[4mshow.jl:2592\u001b[24m\u001b[39m\n",
       " [212] getindex(\u001b[90mx\u001b[39m::\u001b[1mBase.Threads.Atomic\u001b[22m\u001b[0m{Float32})\n",
       "\u001b[90m     @\u001b[39m \u001b[90mBase.Threads\u001b[39m \u001b[90m\u001b[4matomics.jl:358\u001b[24m\u001b[39m\n",
       " [213] getindex(\u001b[90mblame\u001b[39m::\u001b[1mLibGit2.GitBlame\u001b[22m, \u001b[90mi\u001b[39m::\u001b[1mInteger\u001b[22m)\n",
       "\u001b[90m     @\u001b[39m \u001b[36mLibGit2\u001b[39m \u001b[90m/usr/share/julia/stdlib/v1.9/LibGit2/src/\u001b[39m\u001b[90m\u001b[4mblame.jl:33\u001b[24m\u001b[39m\n",
       " [214] getindex(\u001b[90mx\u001b[39m::\u001b[1mBase.Threads.Atomic\u001b[22m\u001b[0m{Int8})\n",
       "\u001b[90m     @\u001b[39m \u001b[90mBase.Threads\u001b[39m \u001b[90m\u001b[4matomics.jl:358\u001b[24m\u001b[39m\n",
       " [215] getindex(\u001b[90mbuffer\u001b[39m::\u001b[1mBase64.Buffer\u001b[22m, \u001b[90mi\u001b[39m::\u001b[1mInteger\u001b[22m)\n",
       "\u001b[90m     @\u001b[39m \u001b[32mBase64\u001b[39m \u001b[90m/usr/share/julia/stdlib/v1.9/Base64/src/\u001b[39m\u001b[90m\u001b[4mbuffer.jl:16\u001b[24m\u001b[39m\n",
       " [216] getindex(::\u001b[1mBase.TTY\u001b[22m, \u001b[90mkey\u001b[39m::\u001b[1mSymbol\u001b[22m)\n",
       "\u001b[90m     @\u001b[39m \u001b[90m\u001b[4mttyhascolor.jl:26\u001b[24m\u001b[39m\n",
       " [217] getindex(\u001b[90mio\u001b[39m::\u001b[1mIO\u001b[22m, \u001b[90mkey\u001b[39m)\n",
       "\u001b[90m     @\u001b[39m \u001b[90m\u001b[4mshow.jl:404\u001b[24m\u001b[39m\n",
       " [218] getindex(\u001b[90mx\u001b[39m::\u001b[1mBase.Threads.Atomic\u001b[22m\u001b[0m{Int128})\n",
       "\u001b[90m     @\u001b[39m \u001b[90mBase.Threads\u001b[39m \u001b[90m\u001b[4matomics.jl:358\u001b[24m\u001b[39m\n",
       " [219] getindex(\u001b[90mx\u001b[39m::\u001b[1mBase.Threads.Atomic\u001b[22m\u001b[0m{Int16})\n",
       "\u001b[90m     @\u001b[39m \u001b[90mBase.Threads\u001b[39m \u001b[90m\u001b[4matomics.jl:358\u001b[24m\u001b[39m\n",
       " [220] getindex(\u001b[90mm\u001b[39m::\u001b[1mBase.MethodList\u001b[22m, \u001b[90mi\u001b[39m::\u001b[1mInteger\u001b[22m)\n",
       "\u001b[90m     @\u001b[39m \u001b[90m\u001b[4mreflection.jl:964\u001b[24m\u001b[39m\n",
       " [221] getindex(\u001b[90ma\u001b[39m::\u001b[1mZMQ.Message\u001b[22m, \u001b[90mi\u001b[39m::\u001b[1mInteger\u001b[22m)\n",
       "\u001b[90m     @\u001b[39m \u001b[33mZMQ\u001b[39m \u001b[90m~/.julia/packages/ZMQ/lrABE/src/\u001b[39m\u001b[90m\u001b[4mmessage.jl:188\u001b[24m\u001b[39m\n",
       " [222] getindex(\u001b[90mA\u001b[39m::\u001b[1mAbstractArray\u001b[22m, \u001b[90mI...\u001b[39m)\n",
       "\u001b[90m     @\u001b[39m \u001b[90m\u001b[4mabstractarray.jl:1291\u001b[24m\u001b[39m\n",
       " [223] getindex(\u001b[90mm\u001b[39m::\u001b[1mRegexMatch\u001b[22m, \u001b[90midx\u001b[39m::\u001b[1mInteger\u001b[22m)\n",
       "\u001b[90m     @\u001b[39m \u001b[90m\u001b[4mregex.jl:238\u001b[24m\u001b[39m\n",
       " [224] getindex(\u001b[90mm\u001b[39m::\u001b[1mRegexMatch\u001b[22m, \u001b[90mname\u001b[39m::\u001b[1mAbstractString\u001b[22m)\n",
       "\u001b[90m     @\u001b[39m \u001b[90m\u001b[4mregex.jl:244\u001b[24m\u001b[39m\n",
       " [225] getindex(\u001b[90mm\u001b[39m::\u001b[1mRegexMatch\u001b[22m, \u001b[90mname\u001b[39m::\u001b[1mSymbol\u001b[22m)\n",
       "\u001b[90m     @\u001b[39m \u001b[90m\u001b[4mregex.jl:239\u001b[24m\u001b[39m\n",
       " [226] getindex(\u001b[90mx\u001b[39m::\u001b[1mBase.Threads.Atomic\u001b[22m\u001b[0m{Float16})\n",
       "\u001b[90m     @\u001b[39m \u001b[90mBase.Threads\u001b[39m \u001b[90m\u001b[4matomics.jl:358\u001b[24m\u001b[39m\n",
       " [227] getindex(\u001b[90mb\u001b[39m::\u001b[1mPkg.Versions.VersionBound\u001b[22m, \u001b[90mi\u001b[39m::\u001b[1mInt64\u001b[22m)\n",
       "\u001b[90m     @\u001b[39m \u001b[32mPkg.Versions\u001b[39m \u001b[90m/usr/share/julia/stdlib/v1.9/Pkg/src/\u001b[39m\u001b[90m\u001b[4mVersions.jl:25\u001b[24m\u001b[39m\n",
       " [228] getindex(\u001b[90mx\u001b[39m::\u001b[1mBase.Threads.Atomic\u001b[22m\u001b[0m{UInt32})\n",
       "\u001b[90m     @\u001b[39m \u001b[90mBase.Threads\u001b[39m \u001b[90m\u001b[4matomics.jl:358\u001b[24m\u001b[39m\n",
       " [229] getindex(\u001b[90mstatus\u001b[39m::\u001b[1mLibGit2.GitStatus\u001b[22m, \u001b[90mi\u001b[39m::\u001b[1mInteger\u001b[22m)\n",
       "\u001b[90m     @\u001b[39m \u001b[36mLibGit2\u001b[39m \u001b[90m/usr/share/julia/stdlib/v1.9/LibGit2/src/\u001b[39m\u001b[90m\u001b[4mstatus.jl:27\u001b[24m\u001b[39m\n",
       " [230] getindex(\u001b[90mmatch\u001b[39m::\u001b[1mCore.MethodMatch\u001b[22m, \u001b[90mfield\u001b[39m::\u001b[1mInt64\u001b[22m)\n",
       "\u001b[90m     @\u001b[39m \u001b[90m\u001b[4mdeprecated.jl:267\u001b[24m\u001b[39m\n",
       " [231] getindex(\u001b[90mx\u001b[39m::\u001b[1mBase.Threads.Atomic\u001b[22m\u001b[0m{Float64})\n",
       "\u001b[90m     @\u001b[39m \u001b[90mBase.Threads\u001b[39m \u001b[90m\u001b[4matomics.jl:358\u001b[24m\u001b[39m\n",
       " [232] getindex(\u001b[90mr\u001b[39m::\u001b[1mDistributed.Future\u001b[22m)\n",
       "\u001b[90m     @\u001b[39m \u001b[35mDistributed\u001b[39m \u001b[90m/usr/share/julia/stdlib/v1.9/Distributed/src/\u001b[39m\u001b[90m\u001b[4mremotecall.jl:772\u001b[24m\u001b[39m\n",
       " [233] getindex(\u001b[90mr\u001b[39m::\u001b[1mDistributed.Future\u001b[22m, \u001b[90margs...\u001b[39m)\n",
       "\u001b[90m     @\u001b[39m \u001b[35mDistributed\u001b[39m \u001b[90m/usr/share/julia/stdlib/v1.9/Distributed/src/\u001b[39m\u001b[90m\u001b[4mremotecall.jl:774\u001b[24m\u001b[39m\n",
       " [234] getindex(\u001b[90mx\u001b[39m::\u001b[1mBase.Threads.Atomic\u001b[22m\u001b[0m{UInt8})\n",
       "\u001b[90m     @\u001b[39m \u001b[90mBase.Threads\u001b[39m \u001b[90m\u001b[4matomics.jl:358\u001b[24m\u001b[39m\n",
       " [235] getindex(\u001b[90mcmd\u001b[39m::\u001b[1mCmd\u001b[22m, \u001b[90mi\u001b[39m)\n",
       "\u001b[90m     @\u001b[39m \u001b[90m\u001b[4mprocess.jl:683\u001b[24m\u001b[39m\n",
       " [236] getindex(\u001b[90mx\u001b[39m::\u001b[1mBase.Threads.Atomic\u001b[22m\u001b[0m{UInt128})\n",
       "\u001b[90m     @\u001b[39m \u001b[90mBase.Threads\u001b[39m \u001b[90m\u001b[4matomics.jl:358\u001b[24m\u001b[39m"
      ]
     },
     "execution_count": 6,
     "metadata": {},
     "output_type": "execute_result"
    }
   ],
   "source": [
    "methods(getindex)"
   ]
  },
  {
   "cell_type": "code",
   "execution_count": 7,
   "id": "af315f00-8a07-4294-b8d1-efd05bf5c3c1",
   "metadata": {},
   "outputs": [],
   "source": [
    "struct Constructor\n",
    "  field1::Int64\n",
    "  field2::String\n",
    "end"
   ]
  },
  {
   "cell_type": "code",
   "execution_count": 8,
   "id": "18364749-de11-4248-91d0-ab8e65cfeabe",
   "metadata": {},
   "outputs": [
    {
     "data": {
      "text/plain": [
       "Constructor(5, \"emma\")"
      ]
     },
     "execution_count": 8,
     "metadata": {},
     "output_type": "execute_result"
    }
   ],
   "source": [
    "Constructor(5, \"emma\")"
   ]
  },
  {
   "cell_type": "code",
   "execution_count": 9,
   "id": "d5498e56-d9e4-4760-a251-848d63f42699",
   "metadata": {},
   "outputs": [],
   "source": [
    "abstract type AbstractArtPiece end"
   ]
  },
  {
   "cell_type": "code",
   "execution_count": 10,
   "id": "f5a903d3-ed1e-41f5-9c29-55a66d4272a9",
   "metadata": {},
   "outputs": [],
   "source": [
    "abstract type ArtType end\n",
    "\n",
    "abstract type Unknown <: ArtType end\n",
    "\n",
    "abstract type OutDoorArt <: ArtType end\n",
    "abstract type InDoorArt <: ArtType end\n",
    "\n",
    "abstract type Painting <: InDoorArt end\n",
    "abstract type Portrait <: Painting end\n",
    "abstract type Landscape <: Painting end\n",
    "\n",
    "abstract type Sculpture <: OutDoorArt end\n",
    "abstract type WoodSculpture <: Sculpture end\n",
    "abstract type MetalSculpture <: Sculpture end"
   ]
  },
  {
   "cell_type": "code",
   "execution_count": 11,
   "id": "7bfc712f-ef49-446b-b2cf-19fc02cc5e44",
   "metadata": {},
   "outputs": [],
   "source": [
    "mutable struct ArtPiece{T} <: AbstractArtPiece\n",
    "    uuid::Int64\n",
    "    name::String\n",
    "    artist::String\n",
    "    exhibit::String\n",
    "    wall::Bool\n",
    "    art_type::String\n",
    "    age::Int64\n",
    "    function ArtPiece(name::String, exhibit::String = \"central exhibit\"; art_type::String = \"painting\", \n",
    "        artist::String = \"unkown\")\n",
    "        sampler::String = \"190283\"\n",
    "        uuid::Int64 = (parse(Int64, join(sampler[rand(1:6)] for x in 1:5)))\n",
    "        wall::Bool = false\n",
    "        if art_type == \"painting\" || art_type == \"mosaic\"\n",
    "            wall = true\n",
    "        end\n",
    "        new{Symbol(art_type)}(uuid, name, artist, exhibit, wall, art_type, 1)::ArtPiece\n",
    "    end\n",
    "    ArtPiece(id::Int64, wall::Bool, name::String, exhibit::String = \"central exhibit\"; artist::String = \"unknown\", \n",
    "        art_type::String = \"unknown\") = begin\n",
    "        new{Symbol(art_type)}(id, name, artist, exhibit, wall, art_type, 0)\n",
    "    end\n",
    "end"
   ]
  },
  {
   "cell_type": "code",
   "execution_count": 12,
   "id": "12b4222f-6d70-48eb-a266-5ee88f18c22b",
   "metadata": {},
   "outputs": [
    {
     "data": {
      "text/plain": [
       "ArtPiece{:painting}(28281, \"Fall Leaves\", \"Georgia O'Brian\", \"local exhibit\", true, \"painting\", 1)"
      ]
     },
     "execution_count": 12,
     "metadata": {},
     "output_type": "execute_result"
    }
   ],
   "source": [
    "georgia_painting = ArtPiece(\"Fall Leaves\", \"local exhibit\", artist = \"Georgia O'Brian\")"
   ]
  },
  {
   "cell_type": "code",
   "execution_count": 13,
   "id": "05e35e25-6238-47a4-8700-d87c799d0c86",
   "metadata": {},
   "outputs": [
    {
     "data": {
      "text/plain": [
       "ArtPiece"
      ]
     },
     "execution_count": 13,
     "metadata": {},
     "output_type": "execute_result"
    }
   ],
   "source": [
    "ArtPiece(d::Dict) = begin\n",
    "    special_keys = (\"id\", \"name\", \"artist\", \"exhibit\", \"type\", \"artist\")\n",
    "    data_keys = keys(d)\n",
    "    newdct::Dict{String, String} = Dict(begin\n",
    "        if key in data_keys\n",
    "            key => d[key]\n",
    "        else\n",
    "           key => \"unknown\"\n",
    "        end\n",
    "    end for key in special_keys)\n",
    "    wall::Bool = false\n",
    "    if newdct[\"id\"] == \"unknown\"\n",
    "        ArtPiece(newdct[\"name\"], newdct[\"exhibit\"], art_type = newdct[\"type\"], \n",
    "            artist = newdct[\"artist\"])::ArtPiece\n",
    "    end\n",
    "    art_type::String = newdct[\"type\"]\n",
    "    if art_type == \"painting\" || art_type == \"mosaic\"\n",
    "        wall = true\n",
    "    end\n",
    "    ArtPiece(parse(Int64, newdct[\"id\"]), wall, newdct[\"name\"], newdct[\"exhibit\"], \n",
    "        artist = newdct[\"artist\"], art_type = newdct[\"type\"])\n",
    "end"
   ]
  },
  {
   "cell_type": "code",
   "execution_count": 14,
   "id": "4c7d9bbf-cd6d-4758-8a4a-2e4eaa398500",
   "metadata": {},
   "outputs": [
    {
     "data": {
      "text/plain": [
       "ArtPiece{:unknown}(104, \"world\", \"unknown\", \"unknown\", false, \"unknown\", 0)"
      ]
     },
     "execution_count": 14,
     "metadata": {},
     "output_type": "execute_result"
    }
   ],
   "source": [
    "ArtPiece(Dict(\"name\" => \"world\", \"id\" => \"104\"))"
   ]
  },
  {
   "cell_type": "code",
   "execution_count": 15,
   "id": "caf64519-5249-4e4d-89ac-64971f38e861",
   "metadata": {},
   "outputs": [
    {
     "data": {
      "text/plain": [
       "Vector{Int64}\u001b[90m (alias for \u001b[39m\u001b[90mArray{Int64, 1}\u001b[39m\u001b[90m)\u001b[39m"
      ]
     },
     "execution_count": 15,
     "metadata": {},
     "output_type": "execute_result"
    }
   ],
   "source": [
    "typeof([1, 2])"
   ]
  },
  {
   "cell_type": "code",
   "execution_count": 17,
   "id": "7125ff4f-6558-42c5-a87f-59d02ab7e979",
   "metadata": {},
   "outputs": [
    {
     "data": {
      "text/plain": [
       "what_type (generic function with 2 methods)"
      ]
     },
     "execution_count": 17,
     "metadata": {},
     "output_type": "execute_result"
    }
   ],
   "source": [
    "function what_type(ap::ArtPiece)\n",
    "    println(\"We don't know, it is just art\")\n",
    "end\n",
    "\n",
    "function what_type(ap::ArtPiece{:painting})\n",
    "    println(\"it's a pretty painting\")\n",
    "end"
   ]
  },
  {
   "cell_type": "code",
   "execution_count": 18,
   "id": "9f71d980-50dc-4e32-9505-2c3044875066",
   "metadata": {},
   "outputs": [
    {
     "name": "stdout",
     "output_type": "stream",
     "text": [
      "We don't know, it is just art\n"
     ]
    }
   ],
   "source": [
    "what_type(ArtPiece(Dict(\"name\" => \"world\", \"id\" => \"104\")))"
   ]
  },
  {
   "cell_type": "code",
   "execution_count": 19,
   "id": "7a60134a-cf05-4bd6-bece-459f3d16356b",
   "metadata": {},
   "outputs": [
    {
     "name": "stdout",
     "output_type": "stream",
     "text": [
      "it's a pretty painting\n"
     ]
    }
   ],
   "source": [
    "what_type(ArtPiece(Dict(\"name\" => \"world\", \"id\" => \"104\", \"type\" => \"painting\")))"
   ]
  },
  {
   "cell_type": "code",
   "execution_count": 20,
   "id": "9daadb27-36dc-483c-b2a3-7a0d1ee4e4aa",
   "metadata": {},
   "outputs": [],
   "source": [
    "mutable struct ArtPiece2{T <: ArtType} <: AbstractArtPiece\n",
    "    name::String\n",
    "    artist::String\n",
    "    indoor::Bool\n",
    "    art_type::Type{T}\n",
    "    ArtPiece2{T}(name::String, artist::String) where {T <: OutDoorArt} = begin\n",
    "        new{T}(name, artist, false, T)\n",
    "    end\n",
    "    ArtPiece2{T}(name::String, artist::String) where {T <: InDoorArt} = begin\n",
    "        new{T}(name, artist, true, T)\n",
    "    end\n",
    "end"
   ]
  },
  {
   "cell_type": "code",
   "execution_count": 21,
   "id": "1dfc6f93-8c60-4548-84fc-fb0abae0e1c7",
   "metadata": {},
   "outputs": [
    {
     "data": {
      "text/plain": [
       "sample_prnt (generic function with 1 method)"
      ]
     },
     "execution_count": 21,
     "metadata": {},
     "output_type": "execute_result"
    }
   ],
   "source": [
    "function sample_prnt(ps::Pair{String, String})\n",
    "    println(\"pair of strings\")\n",
    "end"
   ]
  },
  {
   "cell_type": "code",
   "execution_count": 22,
   "id": "86680fae-4620-451f-bda3-cab0737e934c",
   "metadata": {},
   "outputs": [
    {
     "data": {
      "text/plain": [
       "sample_prnt (generic function with 2 methods)"
      ]
     },
     "execution_count": 22,
     "metadata": {},
     "output_type": "execute_result"
    }
   ],
   "source": [
    "function sample_prnt(ps::Pair{<:Number, <:Number})\n",
    "    println(\"pair of numbers\")\n",
    "end"
   ]
  },
  {
   "cell_type": "code",
   "execution_count": 23,
   "id": "e7a7e979-c312-4530-a4ef-0db1f3a8d442",
   "metadata": {},
   "outputs": [
    {
     "data": {
      "text/plain": [
       "sample_prnt (generic function with 3 methods)"
      ]
     },
     "execution_count": 23,
     "metadata": {},
     "output_type": "execute_result"
    }
   ],
   "source": [
    "sample_prnt(ps::Pair{<:AbstractFloat, <:AbstractFloat}) = begin\n",
    "    println(\"those are decimal values\")\n",
    "end"
   ]
  },
  {
   "cell_type": "code",
   "execution_count": 24,
   "id": "7b9c17de-96f3-4a64-a98a-6930fbc48ab5",
   "metadata": {},
   "outputs": [
    {
     "name": "stdout",
     "output_type": "stream",
     "text": [
      "pair of strings\n",
      "pair of numbers\n",
      "those are decimal values\n"
     ]
    }
   ],
   "source": [
    "sample_prnt(\"s\" => \"b\")\n",
    "sample_prnt(56 => 57)\n",
    "sample_prnt(55.2 => 92.1)"
   ]
  },
  {
   "cell_type": "code",
   "execution_count": 31,
   "id": "94b9899f-4105-4f5e-821c-ac84808b402f",
   "metadata": {},
   "outputs": [
    {
     "data": {
      "text/plain": [
       "convert_to_ipairs (generic function with 2 methods)"
      ]
     },
     "execution_count": 31,
     "metadata": {},
     "output_type": "execute_result"
    }
   ],
   "source": [
    "convert_to_ipairs(s::String) = [e => s for (e, s) in enumerate(s)]"
   ]
  },
  {
   "cell_type": "code",
   "execution_count": 32,
   "id": "5a30ed74-f313-4218-8644-347e7f83f532",
   "metadata": {},
   "outputs": [
    {
     "data": {
      "text/plain": [
       "convert_to_ipairs (generic function with 2 methods)"
      ]
     },
     "execution_count": 32,
     "metadata": {},
     "output_type": "execute_result"
    }
   ],
   "source": [
    "convert_to_ipairs(s::Integer) = [e => s for (e, s) in enumerate(digits(s))]"
   ]
  },
  {
   "cell_type": "code",
   "execution_count": 34,
   "id": "ebb23057-b08b-4898-bd86-3b24a98b4ad2",
   "metadata": {},
   "outputs": [
    {
     "data": {
      "text/plain": [
       "2-element Vector{Pair{Int64, Char}}:\n",
       " 1 => 'h'\n",
       " 2 => 'i'"
      ]
     },
     "execution_count": 34,
     "metadata": {},
     "output_type": "execute_result"
    }
   ],
   "source": [
    "convert_to_ipairs(\"hi\")"
   ]
  },
  {
   "cell_type": "code",
   "execution_count": 33,
   "id": "b4d34313-8142-479e-9196-b335cd047757",
   "metadata": {},
   "outputs": [
    {
     "data": {
      "text/plain": [
       "6-element Vector{Pair{Int64, Int64}}:\n",
       " 1 => 4\n",
       " 2 => 2\n",
       " 3 => 4\n",
       " 4 => 3\n",
       " 5 => 2\n",
       " 6 => 5"
      ]
     },
     "execution_count": 33,
     "metadata": {},
     "output_type": "execute_result"
    }
   ],
   "source": [
    "convert_to_ipairs(523424)"
   ]
  },
  {
   "cell_type": "code",
   "execution_count": 35,
   "id": "cbe99c01-4048-4110-8e83-cfdb89e9e7d0",
   "metadata": {},
   "outputs": [
    {
     "data": {
      "text/plain": [
       "3-element Vector{String}:\n",
       " \"emmac\"\n",
       " \"john\"\n",
       " \"joey\""
      ]
     },
     "execution_count": 35,
     "metadata": {},
     "output_type": "execute_result"
    }
   ],
   "source": [
    "names = [\"emmac\", \"john\", \"joey\"]"
   ]
  },
  {
   "cell_type": "code",
   "execution_count": 36,
   "id": "6564112e-9b0f-4d6f-84b4-4ef31e3c74d7",
   "metadata": {},
   "outputs": [
    {
     "ename": "LoadError",
     "evalue": "ArgumentError: invalid index: \"emmac\" of type String",
     "output_type": "error",
     "traceback": [
      "ArgumentError: invalid index: \"emmac\" of type String",
      "",
      "Stacktrace:",
      " [1] to_index(i::String)",
      "   @ Base ./indices.jl:300",
      " [2] to_index(A::Vector{String}, i::String)",
      "   @ Base ./indices.jl:277",
      " [3] _to_indices1(A::Vector{String}, inds::Tuple{Base.OneTo{Int64}}, I1::String)",
      "   @ Base ./indices.jl:359",
      " [4] to_indices",
      "   @ ./indices.jl:354 [inlined]",
      " [5] to_indices",
      "   @ ./indices.jl:345 [inlined]",
      " [6] getindex(A::Vector{String}, I::String)",
      "   @ Base ./abstractarray.jl:1294",
      " [7] top-level scope",
      "   @ In[36]:1"
     ]
    }
   ],
   "source": [
    "names[\"emmac\"]"
   ]
  },
  {
   "cell_type": "code",
   "execution_count": 37,
   "id": "9f51cd3e-75f8-4c2d-abe4-cb53ae16d41c",
   "metadata": {},
   "outputs": [
    {
     "data": {
      "text/plain": [
       "getindex (generic function with 237 methods)"
      ]
     },
     "execution_count": 37,
     "metadata": {},
     "output_type": "execute_result"
    }
   ],
   "source": [
    "import Base: getindex\n",
    "function getindex(vs::Vector{String}, key::String)\n",
    "    pos = findfirst(label::String -> label == key, vs)\n",
    "    if isnothing(pos)\n",
    "        throw(\"$key is not here\")\n",
    "    end\n",
    "    vs[pos]::String\n",
    "end"
   ]
  },
  {
   "cell_type": "code",
   "execution_count": 38,
   "id": "42525f3f-aeda-4aee-b7a6-3f24efb9e17c",
   "metadata": {},
   "outputs": [
    {
     "data": {
      "text/plain": [
       "\"emmac\""
      ]
     },
     "execution_count": 38,
     "metadata": {},
     "output_type": "execute_result"
    }
   ],
   "source": [
    "names[\"emmac\"]"
   ]
  },
  {
   "cell_type": "code",
   "execution_count": null,
   "id": "8d422f0e-d53c-43f9-a797-b779f5c9b16d",
   "metadata": {},
   "outputs": [],
   "source": []
  }
 ],
 "metadata": {
  "kernelspec": {
   "display_name": "Julia 1.9.2",
   "language": "julia",
   "name": "julia-1.9"
  },
  "language_info": {
   "file_extension": ".jl",
   "mimetype": "application/julia",
   "name": "julia",
   "version": "1.9.2"
  }
 },
 "nbformat": 4,
 "nbformat_minor": 5
}
