{
 "cells": [
  {
   "cell_type": "code",
   "execution_count": 1,
   "metadata": {},
   "outputs": [],
   "source": [
    "using DataFrames"
   ]
  },
  {
   "cell_type": "code",
   "execution_count": 3,
   "metadata": {},
   "outputs": [
    {
     "data": {
      "text/html": [
       "<table class=\"data-frame\"><thead><tr><th></th><th>A</th><th>B</th></tr><tr><th></th><th>Int64</th><th>Int64</th></tr></thead><tbody><p>7 rows × 2 columns</p><tr><th>1</th><td>5</td><td>5</td></tr><tr><th>2</th><td>10</td><td>10</td></tr><tr><th>3</th><td>15</td><td>15</td></tr><tr><th>4</th><td>20</td><td>20</td></tr><tr><th>5</th><td>25</td><td>25</td></tr><tr><th>6</th><td>30</td><td>30</td></tr><tr><th>7</th><td>35</td><td>35</td></tr></tbody></table>"
      ],
      "text/latex": [
       "\\begin{tabular}{r|cc}\n",
       "\t& A & B\\\\\n",
       "\t\\hline\n",
       "\t& Int64 & Int64\\\\\n",
       "\t\\hline\n",
       "\t1 & 5 & 5 \\\\\n",
       "\t2 & 10 & 10 \\\\\n",
       "\t3 & 15 & 15 \\\\\n",
       "\t4 & 20 & 20 \\\\\n",
       "\t5 & 25 & 25 \\\\\n",
       "\t6 & 30 & 30 \\\\\n",
       "\t7 & 35 & 35 \\\\\n",
       "\\end{tabular}\n"
      ],
      "text/plain": [
       "\u001b[1m7×2 DataFrame\u001b[0m\n",
       "\u001b[1m Row \u001b[0m│\u001b[1m A     \u001b[0m\u001b[1m B     \u001b[0m\n",
       "\u001b[1m     \u001b[0m│\u001b[90m Int64 \u001b[0m\u001b[90m Int64 \u001b[0m\n",
       "─────┼──────────────\n",
       "   1 │     5      5\n",
       "   2 │    10     10\n",
       "   3 │    15     15\n",
       "   4 │    20     20\n",
       "   5 │    25     25\n",
       "   6 │    30     30\n",
       "   7 │    35     35"
      ]
     },
     "execution_count": 3,
     "metadata": {},
     "output_type": "execute_result"
    }
   ],
   "source": [
    "df = DataFrame(:A => [5, 10, 15, 20, 25, 30, 35], :B => [5, 10, 15, 20, 25, 30, 35])"
   ]
  },
  {
   "cell_type": "code",
   "execution_count": 4,
   "metadata": {},
   "outputs": [
    {
     "data": {
      "text/plain": [
       "shape (generic function with 1 method)"
      ]
     },
     "execution_count": 4,
     "metadata": {},
     "output_type": "execute_result"
    }
   ],
   "source": [
    "# the rebellion\n",
    "#     the savage betrayel of the Julia language\n",
    "shape(df::AbstractDataFrame) = size(df)"
   ]
  },
  {
   "cell_type": "code",
   "execution_count": 10,
   "metadata": {},
   "outputs": [
    {
     "data": {
      "text/html": [
       "<table class=\"data-frame\"><thead><tr><th></th></tr><tr><th></th></tr></thead><tbody><p>0 rows × 0 columns</p></tbody></table>"
      ],
      "text/latex": [
       "\\begin{tabular}{r|}\n",
       "\t& \\\\\n",
       "\t\\hline\n",
       "\t& \\\\\n",
       "\t\\hline\n",
       "\\end{tabular}\n"
      ],
      "text/plain": [
       "\u001b[1m0×0 DataFrame\u001b[0m"
      ]
     },
     "execution_count": 10,
     "metadata": {},
     "output_type": "execute_result"
    }
   ],
   "source": [
    "dfnoB = DataFrame()"
   ]
  },
  {
   "cell_type": "code",
   "execution_count": 11,
   "metadata": {},
   "outputs": [
    {
     "data": {
      "text/plain": [
       "checkshape (generic function with 2 methods)"
      ]
     },
     "execution_count": 11,
     "metadata": {},
     "output_type": "execute_result"
    }
   ],
   "source": [
    "function checkshape()\n",
    "   println(shape(df))\n",
    "    println(shape(dfnoB))\n",
    "end\n"
   ]
  },
  {
   "cell_type": "code",
   "execution_count": 12,
   "metadata": {},
   "outputs": [
    {
     "name": "stdout",
     "output_type": "stream",
     "text": [
      "(7, 2)\n",
      "(0, 0)\n"
     ]
    }
   ],
   "source": [
    "checkshape()"
   ]
  },
  {
   "cell_type": "code",
   "execution_count": 13,
   "metadata": {},
   "outputs": [
    {
     "data": {
      "text/html": [
       "<table class=\"data-frame\"><thead><tr><th></th><th>A</th></tr><tr><th></th><th>Int64</th></tr></thead><tbody><p>7 rows × 1 columns</p><tr><th>1</th><td>5</td></tr><tr><th>2</th><td>10</td></tr><tr><th>3</th><td>15</td></tr><tr><th>4</th><td>20</td></tr><tr><th>5</th><td>25</td></tr><tr><th>6</th><td>30</td></tr><tr><th>7</th><td>35</td></tr></tbody></table>"
      ],
      "text/latex": [
       "\\begin{tabular}{r|c}\n",
       "\t& A\\\\\n",
       "\t\\hline\n",
       "\t& Int64\\\\\n",
       "\t\\hline\n",
       "\t1 & 5 \\\\\n",
       "\t2 & 10 \\\\\n",
       "\t3 & 15 \\\\\n",
       "\t4 & 20 \\\\\n",
       "\t5 & 25 \\\\\n",
       "\t6 & 30 \\\\\n",
       "\t7 & 35 \\\\\n",
       "\\end{tabular}\n"
      ],
      "text/plain": [
       "\u001b[1m7×1 DataFrame\u001b[0m\n",
       "\u001b[1m Row \u001b[0m│\u001b[1m A     \u001b[0m\n",
       "\u001b[1m     \u001b[0m│\u001b[90m Int64 \u001b[0m\n",
       "─────┼───────\n",
       "   1 │     5\n",
       "   2 │    10\n",
       "   3 │    15\n",
       "   4 │    20\n",
       "   5 │    25\n",
       "   6 │    30\n",
       "   7 │    35"
      ]
     },
     "execution_count": 13,
     "metadata": {},
     "output_type": "execute_result"
    }
   ],
   "source": [
    "dfnoB = select(df, Not(:B))"
   ]
  },
  {
   "cell_type": "code",
   "execution_count": 14,
   "metadata": {},
   "outputs": [
    {
     "name": "stdout",
     "output_type": "stream",
     "text": [
      "(7, 2)\n",
      "(7, 1)\n"
     ]
    }
   ],
   "source": [
    "checkshape()"
   ]
  },
  {
   "cell_type": "code",
   "execution_count": 15,
   "metadata": {},
   "outputs": [
    {
     "data": {
      "text/html": [
       "<table class=\"data-frame\"><thead><tr><th></th><th>A</th></tr><tr><th></th><th>Int64</th></tr></thead><tbody><p>7 rows × 1 columns</p><tr><th>1</th><td>5</td></tr><tr><th>2</th><td>10</td></tr><tr><th>3</th><td>15</td></tr><tr><th>4</th><td>20</td></tr><tr><th>5</th><td>25</td></tr><tr><th>6</th><td>30</td></tr><tr><th>7</th><td>35</td></tr></tbody></table>"
      ],
      "text/latex": [
       "\\begin{tabular}{r|c}\n",
       "\t& A\\\\\n",
       "\t\\hline\n",
       "\t& Int64\\\\\n",
       "\t\\hline\n",
       "\t1 & 5 \\\\\n",
       "\t2 & 10 \\\\\n",
       "\t3 & 15 \\\\\n",
       "\t4 & 20 \\\\\n",
       "\t5 & 25 \\\\\n",
       "\t6 & 30 \\\\\n",
       "\t7 & 35 \\\\\n",
       "\\end{tabular}\n"
      ],
      "text/plain": [
       "\u001b[1m7×1 DataFrame\u001b[0m\n",
       "\u001b[1m Row \u001b[0m│\u001b[1m A     \u001b[0m\n",
       "\u001b[1m     \u001b[0m│\u001b[90m Int64 \u001b[0m\n",
       "─────┼───────\n",
       "   1 │     5\n",
       "   2 │    10\n",
       "   3 │    15\n",
       "   4 │    20\n",
       "   5 │    25\n",
       "   6 │    30\n",
       "   7 │    35"
      ]
     },
     "execution_count": 15,
     "metadata": {},
     "output_type": "execute_result"
    }
   ],
   "source": [
    "dfnoB = select!(df, Not(:B))"
   ]
  },
  {
   "cell_type": "code",
   "execution_count": 16,
   "metadata": {},
   "outputs": [
    {
     "name": "stdout",
     "output_type": "stream",
     "text": [
      "(7, 1)\n",
      "(7, 1)\n"
     ]
    }
   ],
   "source": [
    "checkshape()"
   ]
  },
  {
   "cell_type": "code",
   "execution_count": 18,
   "metadata": {},
   "outputs": [
    {
     "data": {
      "text/html": [
       "<table class=\"data-frame\"><thead><tr><th></th><th>A</th></tr><tr><th></th><th>Int64</th></tr></thead><tbody><p>7 rows × 1 columns</p><tr><th>1</th><td>5</td></tr><tr><th>2</th><td>10</td></tr><tr><th>3</th><td>15</td></tr><tr><th>4</th><td>20</td></tr><tr><th>5</th><td>25</td></tr><tr><th>6</th><td>30</td></tr><tr><th>7</th><td>35</td></tr></tbody></table>"
      ],
      "text/latex": [
       "\\begin{tabular}{r|c}\n",
       "\t& A\\\\\n",
       "\t\\hline\n",
       "\t& Int64\\\\\n",
       "\t\\hline\n",
       "\t1 & 5 \\\\\n",
       "\t2 & 10 \\\\\n",
       "\t3 & 15 \\\\\n",
       "\t4 & 20 \\\\\n",
       "\t5 & 25 \\\\\n",
       "\t6 & 30 \\\\\n",
       "\t7 & 35 \\\\\n",
       "\\end{tabular}\n"
      ],
      "text/plain": [
       "\u001b[1m7×1 DataFrame\u001b[0m\n",
       "\u001b[1m Row \u001b[0m│\u001b[1m A     \u001b[0m\n",
       "\u001b[1m     \u001b[0m│\u001b[90m Int64 \u001b[0m\n",
       "─────┼───────\n",
       "   1 │     5\n",
       "   2 │    10\n",
       "   3 │    15\n",
       "   4 │    20\n",
       "   5 │    25\n",
       "   6 │    30\n",
       "   7 │    35"
      ]
     },
     "execution_count": 18,
     "metadata": {},
     "output_type": "execute_result"
    }
   ],
   "source": [
    "df"
   ]
  },
  {
   "cell_type": "code",
   "execution_count": 20,
   "metadata": {},
   "outputs": [
    {
     "ename": "LoadError",
     "evalue": "error in method definition: function DataFrames.select must be explicitly imported to be extended",
     "output_type": "error",
     "traceback": [
      "error in method definition: function DataFrames.select must be explicitly imported to be extended",
      "",
      "Stacktrace:",
      " [1] top-level scope at none:0",
      " [2] top-level scope at In[20]:2",
      " [3] include_string(::Function, ::Module, ::String, ::String) at ./loading.jl:1091"
     ]
    }
   ],
   "source": [
    "# What this usually looks like in Julia:\n",
    "select(df::AbstractDataFrame, x::Array{Any}) = select!(copy(df), x::Array{Any})"
   ]
  },
  {
   "cell_type": "code",
   "execution_count": null,
   "metadata": {},
   "outputs": [],
   "source": []
  }
 ],
 "metadata": {
  "kernelspec": {
   "display_name": "Julia 1.5.3",
   "language": "julia",
   "name": "julia-1.5"
  },
  "language_info": {
   "file_extension": ".jl",
   "mimetype": "application/julia",
   "name": "julia",
   "version": "1.5.3"
  }
 },
 "nbformat": 4,
 "nbformat_minor": 4
}
