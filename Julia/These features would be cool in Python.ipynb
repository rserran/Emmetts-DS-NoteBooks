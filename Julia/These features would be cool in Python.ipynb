{
 "cells": [
  {
   "cell_type": "code",
   "execution_count": 1,
   "metadata": {},
   "outputs": [
    {
     "data": {
      "text/plain": [
       "double (generic function with 1 method)"
      ]
     },
     "execution_count": 1,
     "metadata": {},
     "output_type": "execute_result"
    }
   ],
   "source": [
    "function double(x::Int64)\n",
    "   x * 2 \n",
    "end"
   ]
  },
  {
   "cell_type": "code",
   "execution_count": 2,
   "metadata": {},
   "outputs": [
    {
     "data": {
      "text/plain": [
       "10"
      ]
     },
     "execution_count": 2,
     "metadata": {},
     "output_type": "execute_result"
    }
   ],
   "source": [
    "double(5)"
   ]
  },
  {
   "cell_type": "code",
   "execution_count": 3,
   "metadata": {},
   "outputs": [
    {
     "ename": "LoadError",
     "evalue": "MethodError: no method matching double(::String)\n\u001b[0mClosest candidates are:\n\u001b[0m  double(\u001b[91m::Int64\u001b[39m) at In[1]:1",
     "output_type": "error",
     "traceback": [
      "MethodError: no method matching double(::String)\n\u001b[0mClosest candidates are:\n\u001b[0m  double(\u001b[91m::Int64\u001b[39m) at In[1]:1",
      "",
      "Stacktrace:",
      " [1] top-level scope",
      "   @ In[3]:1",
      " [2] eval",
      "   @ ./boot.jl:360 [inlined]",
      " [3] include_string(mapexpr::typeof(REPL.softscope), mod::Module, code::String, filename::String)",
      "   @ Base ./loading.jl:1116"
     ]
    }
   ],
   "source": [
    "double(\"Hello\")"
   ]
  },
  {
   "cell_type": "code",
   "execution_count": 5,
   "metadata": {},
   "outputs": [
    {
     "ename": "LoadError",
     "evalue": "MethodError: no method matching insert!(::Int64)\n\u001b[0mClosest candidates are:\n\u001b[0m  insert!(\u001b[91m::Vector{T}\u001b[39m, \u001b[91m::Integer\u001b[39m, \u001b[91m::Any\u001b[39m) where T at array.jl:1317\n\u001b[0m  insert!(\u001b[91m::BitVector\u001b[39m, \u001b[91m::Integer\u001b[39m, \u001b[91m::Any\u001b[39m) at bitarray.jl:887",
     "output_type": "error",
     "traceback": [
      "MethodError: no method matching insert!(::Int64)\n\u001b[0mClosest candidates are:\n\u001b[0m  insert!(\u001b[91m::Vector{T}\u001b[39m, \u001b[91m::Integer\u001b[39m, \u001b[91m::Any\u001b[39m) where T at array.jl:1317\n\u001b[0m  insert!(\u001b[91m::BitVector\u001b[39m, \u001b[91m::Integer\u001b[39m, \u001b[91m::Any\u001b[39m) at bitarray.jl:887",
      "",
      "Stacktrace:",
      " [1] top-level scope",
      "   @ In[5]:1",
      " [2] eval",
      "   @ ./boot.jl:360 [inlined]",
      " [3] include_string(mapexpr::typeof(REPL.softscope), mod::Module, code::String, filename::String)",
      "   @ Base ./loading.jl:1116"
     ]
    }
   ],
   "source": [
    "insert!(5)"
   ]
  },
  {
   "cell_type": "code",
   "execution_count": null,
   "metadata": {},
   "outputs": [],
   "source": []
  }
 ],
 "metadata": {
  "kernelspec": {
   "display_name": "Julia 1.6.3",
   "language": "julia",
   "name": "julia-1.6"
  },
  "language_info": {
   "file_extension": ".jl",
   "mimetype": "application/julia",
   "name": "julia",
   "version": "1.6.3"
  }
 },
 "nbformat": 4,
 "nbformat_minor": 4
}
