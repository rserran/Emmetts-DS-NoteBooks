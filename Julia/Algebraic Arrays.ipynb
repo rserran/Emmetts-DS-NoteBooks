{
 "cells": [
  {
   "cell_type": "code",
   "execution_count": 1,
   "metadata": {},
   "outputs": [],
   "source": [
    "mutable struct AlgebraicArray\n",
    "    f::Function\n",
    "    n::Int64\n",
    "    calls::Vector{Pair{Function, Tuple}}\n",
    "    function AlgebraicArray(f::Function, n::Int64)\n",
    "        new(f, n, [])\n",
    "    end\n",
    "end"
   ]
  },
  {
   "cell_type": "code",
   "execution_count": 2,
   "metadata": {},
   "outputs": [
    {
     "data": {
      "text/plain": [
       "add_algebra (generic function with 1 method)"
      ]
     },
     "execution_count": 2,
     "metadata": {},
     "output_type": "execute_result"
    }
   ],
   "source": [
    "function add_algebra(aa::Symbol, args::Any)\n",
    "    aa = eval(aa)\n",
    "    if length(args) > 1\n",
    "        farguments = Tuple(eval(args[length(args)]))\n",
    "        push!(aa.calls, eval(args[1]) => farguments)\n",
    "    else\n",
    "        push!(aa.calls, eval(args[1]) => [])\n",
    "    end\n",
    "    \n",
    "end"
   ]
  },
  {
   "cell_type": "code",
   "execution_count": 3,
   "metadata": {},
   "outputs": [
    {
     "data": {
      "text/plain": [
       "generate (generic function with 1 method)"
      ]
     },
     "execution_count": 3,
     "metadata": {},
     "output_type": "execute_result"
    }
   ],
   "source": [
    "function generate(aa::AlgebraicArray)\n",
    "    [aa.f(n) for n in 1:aa.n]\n",
    "end"
   ]
  },
  {
   "cell_type": "code",
   "execution_count": 103,
   "metadata": {},
   "outputs": [
    {
     "data": {
      "text/plain": [
       "generate (generic function with 4 methods)"
      ]
     },
     "execution_count": 103,
     "metadata": {},
     "output_type": "execute_result"
    }
   ],
   "source": [
    "function generate(aa::AlgebraicArray, mask::BitArray)\n",
    "    if length(mask) != aa.n\n",
    "        throw(DimensionMismatch(\"Mask must be the same size as AlgebraicArray!\"))\n",
    "    end\n",
    "    vals = Array(1:aa.n)\n",
    "    filter!(vals, mask)\n",
    "    [aa.f(n) for n in vals]\n",
    "end"
   ]
  },
  {
   "cell_type": "code",
   "execution_count": 104,
   "metadata": {},
   "outputs": [
    {
     "data": {
      "text/plain": [
       "generate (generic function with 4 methods)"
      ]
     },
     "execution_count": 104,
     "metadata": {},
     "output_type": "execute_result"
    }
   ],
   "source": [
    "function generate(aa::AlgebraicArray, range::UnitRange)\n",
    "    if range[2] > aa.n\n",
    "        throw(BoundsError(string(\"Invalid algebraic index, \", string(range[2], \n",
    "                        \" on algebraic expression of length \", string(aa.n)))))\n",
    "    end\n",
    "    [aa.f(n) for n in range]\n",
    "end"
   ]
  },
  {
   "cell_type": "code",
   "execution_count": 105,
   "metadata": {},
   "outputs": [
    {
     "data": {
      "text/plain": [
       "generate (generic function with 4 methods)"
      ]
     },
     "execution_count": 105,
     "metadata": {},
     "output_type": "execute_result"
    }
   ],
   "source": [
    "function generate(aa::AlgebraicArray, index::Integer)\n",
    "    if index > aa.n\n",
    "        throw(BoundsError(string(\"Invalid algebraic index, \", string(range[2], \n",
    "                        \" on algebraic expression of length \", string(aa.n)))))\n",
    "    end\n",
    "    aa.f(index)[1]\n",
    "end"
   ]
  },
  {
   "cell_type": "code",
   "execution_count": 106,
   "metadata": {},
   "outputs": [
    {
     "data": {
      "text/plain": [
       "compute (generic function with 3 methods)"
      ]
     },
     "execution_count": 106,
     "metadata": {},
     "output_type": "execute_result"
    }
   ],
   "source": [
    "function compute(aa::AlgebraicArray, r::Any) # <- range, bitarray\n",
    "    gen = generate(aa, r)\n",
    "    for call in aa.calls\n",
    "        gen = [call[1](val, call[2]...) for val in gen]\n",
    "    end\n",
    "    return(gen)\n",
    "end"
   ]
  },
  {
   "cell_type": "code",
   "execution_count": 107,
   "metadata": {},
   "outputs": [
    {
     "ename": "LoadError",
     "evalue": "syntax: unexpected \"end\"",
     "output_type": "error",
     "traceback": [
      "syntax: unexpected \"end\"",
      "",
      "Stacktrace:",
      " [1] top-level scope",
      "   @ In[107]:5",
      " [2] eval",
      "   @ ./boot.jl:373 [inlined]",
      " [3] include_string(mapexpr::typeof(REPL.softscope), mod::Module, code::String, filename::String)",
      "   @ Base ./loading.jl:1196"
     ]
    }
   ],
   "source": [
    "function compute(aa::AlgebraicArray, r::Integer) # <- Index\n",
    "    gen = generate(aa, r)\n",
    "    for call in aa.calls\n",
    "        gen = [call[1](gen, call[2]...)\n",
    "    end\n",
    "    return(gen)\n",
    "end"
   ]
  },
  {
   "cell_type": "code",
   "execution_count": 108,
   "metadata": {},
   "outputs": [
    {
     "data": {
      "text/plain": [
       "compute (generic function with 3 methods)"
      ]
     },
     "execution_count": 108,
     "metadata": {},
     "output_type": "execute_result"
    }
   ],
   "source": [
    "function compute(aa::AlgebraicArray)\n",
    "    gen = generate(aa)\n",
    "    for call in aa.calls\n",
    "        gen = [call[1](val, call[2]...) for val in gen]\n",
    "    end\n",
    "    return(gen)\n",
    "end"
   ]
  },
  {
   "cell_type": "code",
   "execution_count": 109,
   "metadata": {},
   "outputs": [
    {
     "data": {
      "text/plain": [
       "@algebraic! (macro with 1 method)"
      ]
     },
     "execution_count": 109,
     "metadata": {},
     "output_type": "execute_result"
    }
   ],
   "source": [
    "macro algebraic!(exp::Expr)\n",
    "    args = copy(exp.args)\n",
    "    aa = exp.args[2]\n",
    "    deleteat!(args, 2)\n",
    "    add_algebra(aa, args)\n",
    "end"
   ]
  },
  {
   "cell_type": "code",
   "execution_count": 110,
   "metadata": {},
   "outputs": [
    {
     "data": {
      "text/plain": [
       "defineval (generic function with 1 method)"
      ]
     },
     "execution_count": 110,
     "metadata": {},
     "output_type": "execute_result"
    }
   ],
   "source": [
    "function defineval(n)\n",
    "    n + 1\n",
    "end"
   ]
  },
  {
   "cell_type": "code",
   "execution_count": 111,
   "metadata": {},
   "outputs": [
    {
     "data": {
      "text/plain": [
       "(5, 10, 15)"
      ]
     },
     "execution_count": 111,
     "metadata": {},
     "output_type": "execute_result"
    }
   ],
   "source": [
    "tuple(5, 10, 15)"
   ]
  },
  {
   "cell_type": "code",
   "execution_count": 112,
   "metadata": {},
   "outputs": [
    {
     "data": {
      "text/plain": [
       "AlgebraicArray(defineval, 20, Pair{Function, Tuple}[])"
      ]
     },
     "execution_count": 112,
     "metadata": {},
     "output_type": "execute_result"
    }
   ],
   "source": [
    "z = AlgebraicArray(defineval, 20)"
   ]
  },
  {
   "cell_type": "code",
   "execution_count": 113,
   "metadata": {},
   "outputs": [
    {
     "data": {
      "text/plain": [
       "20-element Vector{Int64}:\n",
       "  2\n",
       "  3\n",
       "  4\n",
       "  5\n",
       "  6\n",
       "  7\n",
       "  8\n",
       "  9\n",
       " 10\n",
       " 11\n",
       " 12\n",
       " 13\n",
       " 14\n",
       " 15\n",
       " 16\n",
       " 17\n",
       " 18\n",
       " 19\n",
       " 20\n",
       " 21"
      ]
     },
     "execution_count": 113,
     "metadata": {},
     "output_type": "execute_result"
    }
   ],
   "source": [
    "generate(z)"
   ]
  },
  {
   "cell_type": "code",
   "execution_count": 114,
   "metadata": {},
   "outputs": [
    {
     "data": {
      "text/plain": [
       "1-element Vector{Pair{Function, Tuple}}:\n",
       " (*) => (2,)"
      ]
     },
     "execution_count": 114,
     "metadata": {},
     "output_type": "execute_result"
    }
   ],
   "source": [
    "@algebraic! z * 2"
   ]
  },
  {
   "cell_type": "code",
   "execution_count": 115,
   "metadata": {},
   "outputs": [
    {
     "data": {
      "text/plain": [
       "20-element Vector{Int64}:\n",
       "  4\n",
       "  6\n",
       "  8\n",
       " 10\n",
       " 12\n",
       " 14\n",
       " 16\n",
       " 18\n",
       " 20\n",
       " 22\n",
       " 24\n",
       " 26\n",
       " 28\n",
       " 30\n",
       " 32\n",
       " 34\n",
       " 36\n",
       " 38\n",
       " 40\n",
       " 42"
      ]
     },
     "execution_count": 115,
     "metadata": {},
     "output_type": "execute_result"
    }
   ],
   "source": [
    "compute(z)"
   ]
  },
  {
   "cell_type": "code",
   "execution_count": 116,
   "metadata": {},
   "outputs": [],
   "source": [
    "import Base: getindex"
   ]
  },
  {
   "cell_type": "code",
   "execution_count": 117,
   "metadata": {},
   "outputs": [
    {
     "data": {
      "text/plain": [
       "getindex (generic function with 220 methods)"
      ]
     },
     "execution_count": 117,
     "metadata": {},
     "output_type": "execute_result"
    }
   ],
   "source": [
    "getindex(aa::AlgebraicArray, i::Any) = compute(aa, i)"
   ]
  },
  {
   "cell_type": "code",
   "execution_count": 118,
   "metadata": {},
   "outputs": [
    {
     "data": {
      "text/plain": [
       "12"
      ]
     },
     "execution_count": 118,
     "metadata": {},
     "output_type": "execute_result"
    }
   ],
   "source": [
    "z[5][1]"
   ]
  },
  {
   "cell_type": "code",
   "execution_count": 119,
   "metadata": {},
   "outputs": [
    {
     "data": {
      "text/plain": [
       "10-element Vector{Int64}:\n",
       "  4\n",
       "  6\n",
       "  8\n",
       " 10\n",
       " 12\n",
       " 14\n",
       " 16\n",
       " 18\n",
       " 20\n",
       " 22"
      ]
     },
     "execution_count": 119,
     "metadata": {},
     "output_type": "execute_result"
    }
   ],
   "source": [
    "z[1:10]"
   ]
  },
  {
   "cell_type": "code",
   "execution_count": 120,
   "metadata": {},
   "outputs": [
    {
     "data": {
      "text/plain": [
       "AlgebraicArray(defineval, 20, Pair{Function, Tuple}[(*) => (2,)])"
      ]
     },
     "execution_count": 120,
     "metadata": {},
     "output_type": "execute_result"
    }
   ],
   "source": [
    "z"
   ]
  },
  {
   "cell_type": "code",
   "execution_count": 121,
   "metadata": {},
   "outputs": [
    {
     "data": {
      "text/plain": [
       "compute (generic function with 3 methods)"
      ]
     },
     "execution_count": 121,
     "metadata": {},
     "output_type": "execute_result"
    }
   ],
   "source": [
    "function compute(f::Function, aa::AlgebraicArray) # compute(aa)\n",
    "    gen = generate(aa)\n",
    "    for call in aa.calls\n",
    "        gen = [call[1](gen, call[2]...)]\n",
    "    end\n",
    "    return(f(gen))\n",
    "end"
   ]
  },
  {
   "cell_type": "code",
   "execution_count": 122,
   "metadata": {},
   "outputs": [
    {
     "data": {
      "text/plain": [
       "20-element Vector{Bool}:\n",
       " 0\n",
       " 0\n",
       " 0\n",
       " 0\n",
       " 0\n",
       " 1\n",
       " 1\n",
       " 1\n",
       " 1\n",
       " 1\n",
       " 1\n",
       " 1\n",
       " 1\n",
       " 1\n",
       " 1\n",
       " 1\n",
       " 1\n",
       " 1\n",
       " 1\n",
       " 1"
      ]
     },
     "execution_count": 122,
     "metadata": {},
     "output_type": "execute_result"
    }
   ],
   "source": [
    "mask = compute(z) do aa\n",
    "    [if val > 12 true else false end for val in aa[1]]\n",
    "end"
   ]
  },
  {
   "cell_type": "code",
   "execution_count": 123,
   "metadata": {},
   "outputs": [
    {
     "ename": "LoadError",
     "evalue": "MethodError: objects of type Vector{Int64} are not callable\nUse square brackets [] for indexing an Array.",
     "output_type": "error",
     "traceback": [
      "MethodError: objects of type Vector{Int64} are not callable\nUse square brackets [] for indexing an Array.",
      "",
      "Stacktrace:",
      " [1] filter!",
      "   @ ./array.jl:2529 [inlined]",
      " [2] generate(aa::AlgebraicArray, mask::BitVector)",
      "   @ Main ./In[103]:6",
      " [3] compute(aa::AlgebraicArray, r::BitVector)",
      "   @ Main ./In[106]:2",
      " [4] top-level scope",
      "   @ In[123]:1",
      " [5] eval",
      "   @ ./boot.jl:373 [inlined]",
      " [6] include_string(mapexpr::typeof(REPL.softscope), mod::Module, code::String, filename::String)",
      "   @ Base ./loading.jl:1196"
     ]
    }
   ],
   "source": [
    "compute(z, BitArray(mask))"
   ]
  },
  {
   "cell_type": "code",
   "execution_count": 124,
   "metadata": {},
   "outputs": [
    {
     "data": {
      "text/latex": [
       "\\begin{tabular}\n",
       "{l | r | l}\n",
       "name & size & summary \\\\\n",
       "\\hline\n",
       "@algebraic! & 0 bytes & @algebraic! (macro with 1 method) \\\\\n",
       "AlgebraicArray & 160 bytes & DataType \\\\\n",
       "Base &  & Module \\\\\n",
       "Core &  & Module \\\\\n",
       "Main &  & Module \\\\\n",
       "add\\_algebra & 0 bytes & add\\_algebra (generic function with 1 method) \\\\\n",
       "compute & 0 bytes & compute (generic function with 3 methods) \\\\\n",
       "defineval & 0 bytes & defineval (generic function with 1 method) \\\\\n",
       "generate & 0 bytes & generate (generic function with 4 methods) \\\\\n",
       "mask & 60 bytes & 20-element Vector\\{Bool\\} \\\\\n",
       "z & 104 bytes & AlgebraicArray \\\\\n",
       "\\end{tabular}\n"
      ],
      "text/markdown": [
       "| name           |      size | summary                                      |\n",
       "|:-------------- | ---------:|:-------------------------------------------- |\n",
       "| @algebraic!    |   0 bytes | @algebraic! (macro with 1 method)            |\n",
       "| AlgebraicArray | 160 bytes | DataType                                     |\n",
       "| Base           |           | Module                                       |\n",
       "| Core           |           | Module                                       |\n",
       "| Main           |           | Module                                       |\n",
       "| add_algebra    |   0 bytes | add_algebra (generic function with 1 method) |\n",
       "| compute        |   0 bytes | compute (generic function with 3 methods)    |\n",
       "| defineval      |   0 bytes | defineval (generic function with 1 method)   |\n",
       "| generate       |   0 bytes | generate (generic function with 4 methods)   |\n",
       "| mask           |  60 bytes | 20-element Vector{Bool}                      |\n",
       "| z              | 104 bytes | AlgebraicArray                               |\n"
      ],
      "text/plain": [
       "  name                size summary                                     \n",
       "  –––––––––––––– ––––––––– ––––––––––––––––––––––––––––––––––––––––––––\n",
       "  @algebraic!      0 bytes @algebraic! (macro with 1 method)           \n",
       "  AlgebraicArray 160 bytes DataType                                    \n",
       "  Base                     Module                                      \n",
       "  Core                     Module                                      \n",
       "  Main                     Module                                      \n",
       "  add_algebra      0 bytes add_algebra (generic function with 1 method)\n",
       "  compute          0 bytes compute (generic function with 3 methods)   \n",
       "  defineval        0 bytes defineval (generic function with 1 method)  \n",
       "  generate         0 bytes generate (generic function with 4 methods)  \n",
       "  mask            60 bytes 20-element Vector{Bool}                     \n",
       "  z              104 bytes AlgebraicArray                              "
      ]
     },
     "execution_count": 124,
     "metadata": {},
     "output_type": "execute_result"
    }
   ],
   "source": [
    "varinfo()"
   ]
  },
  {
   "cell_type": "code",
   "execution_count": null,
   "metadata": {},
   "outputs": [],
   "source": []
  },
  {
   "cell_type": "code",
   "execution_count": null,
   "metadata": {},
   "outputs": [],
   "source": []
  },
  {
   "cell_type": "code",
   "execution_count": null,
   "metadata": {},
   "outputs": [],
   "source": []
  }
 ],
 "metadata": {
  "kernelspec": {
   "display_name": "Julia 1.6.3",
   "language": "julia",
   "name": "julia-1.6"
  },
  "language_info": {
   "file_extension": ".jl",
   "mimetype": "application/julia",
   "name": "julia",
   "version": "1.7.1"
  }
 },
 "nbformat": 4,
 "nbformat_minor": 4
}
