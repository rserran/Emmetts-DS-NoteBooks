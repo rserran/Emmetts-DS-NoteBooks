{
 "cells": [
  {
   "cell_type": "code",
   "execution_count": 1,
   "metadata": {},
   "outputs": [
    {
     "name": "stderr",
     "output_type": "stream",
     "text": [
      "┌ Info: Precompiling OddFrames [92848680-4a49-47bc-a2e8-b1e6b5e2fbf7]\n",
      "└ @ Base loading.jl:1278\n"
     ]
    }
   ],
   "source": [
    "using OddFrames"
   ]
  },
  {
   "cell_type": "code",
   "execution_count": 57,
   "metadata": {},
   "outputs": [
    {
     "data": {
      "text/plain": [
       "OddFrame{OddFrames.var\"#head#6\"{OddFrames.var\"#head#1#7\"{Dict{Symbol,Array{Int64,1}}}}}(Dict(:A => [1, 2, 3, 4],:B => [5, 10, 15, 20],:C => [5, 10, 15, 20]), OddFrames.var\"#head#6\"{OddFrames.var\"#head#1#7\"{Dict{Symbol,Array{Int64,1}}}}(OddFrames.var\"#head#1#7\"{Dict{Symbol,Array{Int64,1}}}(Dict(:A => [1, 2, 3, 4],:B => [5, 10, 15, 20],:C => [5, 10, 15, 20]), Core.Box(OddFrames.var\"#_head#8\"{OddFrames.var\"#_head#2#9\"}(OddFrames.var\"#_head#2#9\"())))))"
      ]
     },
     "execution_count": 57,
     "metadata": {},
     "output_type": "execute_result"
    }
   ],
   "source": [
    "d = OddFrame(Dict(:A => [1, 2, 3, 4], :B => [5, 10, 15, 20], :C => [5, 10, 15, 20]))"
   ]
  },
  {
   "cell_type": "code",
   "execution_count": 58,
   "metadata": {},
   "outputs": [
    {
     "data": {
      "text/html": [
       "\n",
       "<style>\n",
       "table.classic {\n",
       "  width: 100%;\n",
       "  height: 200px;\n",
       "  text-align: left;\n",
       "  border-collapse: collapse;\n",
       "}\n",
       "table.classic td, table.classic th {\n",
       "  padding: 5px 4px;\n",
       "}\n",
       "table.classic tbody td {\n",
       "  font-size: 13px;\n",
       "}\n",
       "table.classic tr:nth-child(even) {\n",
       "  background: #F9F9F9;\n",
       "}\n",
       "table.classic thead {\n",
       "  background: #CFCFCF;\n",
       "  background: -moz-linear-gradient(top, #dbdbdb 0%, #d3d3d3 66%, #CFCFCF 100%);\n",
       "  background: -webkit-linear-gradient(top, #dbdbdb 0%, #d3d3d3 66%, #CFCFCF 100%);\n",
       "  background: linear-gradient(to bottom, #dbdbdb 0%, #d3d3d3 66%, #CFCFCF 100%);\n",
       "  border-bottom: 3px solid #CDCDCD;\n",
       "}\n",
       "table.classic thead th {\n",
       "  font-size: 15px;\n",
       "  font-weight: bold;\n",
       "  color: #424242;\n",
       "  text-align: left;\n",
       "}\n",
       "table.jupyter {\n",
       "  width: 100%;\n",
       "  height: 200px;\n",
       "  text-align: left;\n",
       "  border-collapse: collapse;\n",
       "}\n",
       "table.jupyter td, table.jupyter th {\n",
       "  padding: 5px 4px;\n",
       "}\n",
       "table.jupyter tbody td {\n",
       "  font-size: 13px;\n",
       "}\n",
       "table.jupyter tr:nth-child(even) {\n",
       "  background: #F9E5D0;\n",
       "}\n",
       "table.jupyter thead {\n",
       "  background: #FC7A3D;\n",
       "  background: -moz-linear-gradient(top, #fd9b6d 0%, #fc8750 66%, #FC7A3D 100%);\n",
       "  background: -webkit-linear-gradient(top, #fd9b6d 0%, #fc8750 66%, #FC7A3D 100%);\n",
       "  background: linear-gradient(to bottom, #fd9b6d 0%, #fc8750 66%, #FC7A3D 100%);\n",
       "}\n",
       "table.jupyter thead th {\n",
       "  font-size: 15px;\n",
       "  font-weight: bold;\n",
       "  color: #FFFFFF;\n",
       "  text-align: left;\n",
       "}\n",
       "</style>\n",
       "<table class = \"classic\"><thead>\n",
       "<tr><th>A</th><th>B</th><th>C</th></thead><tbody><tr><td>1</td><td>5</td><td>5</td></tr><tr><td>2</td><td>10</td><td>10</td></tr><tr><td>3</td><td>15</td><td>15</td></tr><tr><td>4</td><td>20</td><td>20</td></tr></tbody></table>"
      ]
     },
     "metadata": {},
     "output_type": "display_data"
    }
   ],
   "source": [
    "d.head(5)"
   ]
  },
  {
   "cell_type": "code",
   "execution_count": 59,
   "metadata": {},
   "outputs": [
    {
     "data": {
      "text/html": [
       "\n",
       "<style>\n",
       "table.classic {\n",
       "  width: 100%;\n",
       "  height: 200px;\n",
       "  text-align: left;\n",
       "  border-collapse: collapse;\n",
       "}\n",
       "table.classic td, table.classic th {\n",
       "  padding: 5px 4px;\n",
       "}\n",
       "table.classic tbody td {\n",
       "  font-size: 13px;\n",
       "}\n",
       "table.classic tr:nth-child(even) {\n",
       "  background: #F9F9F9;\n",
       "}\n",
       "table.classic thead {\n",
       "  background: #CFCFCF;\n",
       "  background: -moz-linear-gradient(top, #dbdbdb 0%, #d3d3d3 66%, #CFCFCF 100%);\n",
       "  background: -webkit-linear-gradient(top, #dbdbdb 0%, #d3d3d3 66%, #CFCFCF 100%);\n",
       "  background: linear-gradient(to bottom, #dbdbdb 0%, #d3d3d3 66%, #CFCFCF 100%);\n",
       "  border-bottom: 3px solid #CDCDCD;\n",
       "}\n",
       "table.classic thead th {\n",
       "  font-size: 15px;\n",
       "  font-weight: bold;\n",
       "  color: #424242;\n",
       "  text-align: left;\n",
       "}\n",
       "table.jupyter {\n",
       "  width: 100%;\n",
       "  height: 200px;\n",
       "  text-align: left;\n",
       "  border-collapse: collapse;\n",
       "}\n",
       "table.jupyter td, table.jupyter th {\n",
       "  padding: 5px 4px;\n",
       "}\n",
       "table.jupyter tbody td {\n",
       "  font-size: 13px;\n",
       "}\n",
       "table.jupyter tr:nth-child(even) {\n",
       "  background: #F9E5D0;\n",
       "}\n",
       "table.jupyter thead {\n",
       "  background: #FC7A3D;\n",
       "  background: -moz-linear-gradient(top, #fd9b6d 0%, #fc8750 66%, #FC7A3D 100%);\n",
       "  background: -webkit-linear-gradient(top, #fd9b6d 0%, #fc8750 66%, #FC7A3D 100%);\n",
       "  background: linear-gradient(to bottom, #fd9b6d 0%, #fc8750 66%, #FC7A3D 100%);\n",
       "}\n",
       "table.jupyter thead th {\n",
       "  font-size: 15px;\n",
       "  font-weight: bold;\n",
       "  color: #FFFFFF;\n",
       "  text-align: left;\n",
       "}\n",
       "</style>\n",
       "<table class = \"jupyter\"><thead>\n",
       "<tr><th>A</th><th>B</th><th>C</th></thead><tbody><tr><td>1</td><td>5</td><td>5</td></tr><tr><td>2</td><td>10</td><td>10</td></tr><tr><td>3</td><td>15</td><td>15</td></tr><tr><td>4</td><td>20</td><td>20</td></tr></tbody></table>"
      ]
     },
     "metadata": {},
     "output_type": "display_data"
    }
   ],
   "source": [
    "d.head(5, style = \"jupyter\")"
   ]
  },
  {
   "cell_type": "code",
   "execution_count": 60,
   "metadata": {},
   "outputs": [],
   "source": [
    "import OddFrames: OddFrame\n",
    "import Base.getindex"
   ]
  },
  {
   "cell_type": "code",
   "execution_count": 61,
   "metadata": {},
   "outputs": [
    {
     "data": {
      "text/plain": [
       "drop (generic function with 1 method)"
      ]
     },
     "execution_count": 61,
     "metadata": {},
     "output_type": "execute_result"
    }
   ],
   "source": [
    "function drop(od::OddFrame, row::Int64)\n",
    "    vals = d.lookup\n",
    "    [splice!(val[2], row) for val in vals]\n",
    "    return(OddFrame(vals))\n",
    "end"
   ]
  },
  {
   "cell_type": "code",
   "execution_count": 62,
   "metadata": {},
   "outputs": [
    {
     "data": {
      "text/plain": [
       "getindex (generic function with 205 methods)"
      ]
     },
     "execution_count": 62,
     "metadata": {},
     "output_type": "execute_result"
    }
   ],
   "source": [
    "function getindex(od::OddFrame, mask::BitArray)\n",
    "    [if mask[i] == 0 drop(od, i) end for i in 1:length(mask)]\n",
    "end"
   ]
  },
  {
   "cell_type": "code",
   "execution_count": 63,
   "metadata": {},
   "outputs": [
    {
     "data": {
      "text/plain": [
       "4-element Array{Union{Nothing, OddFrame{OddFrames.var\"#head#6\"{OddFrames.var\"#head#1#7\"{Dict{Symbol,Array{Int64,1}}}}}},1}:\n",
       " OddFrame{OddFrames.var\"#head#6\"{OddFrames.var\"#head#1#7\"{Dict{Symbol,Array{Int64,1}}}}}(Dict(:A => [2, 4],:B => [10, 20],:C => [10, 20]), OddFrames.var\"#head#6\"{OddFrames.var\"#head#1#7\"{Dict{Symbol,Array{Int64,1}}}}(OddFrames.var\"#head#1#7\"{Dict{Symbol,Array{Int64,1}}}(Dict(:A => [2, 4],:B => [10, 20],:C => [10, 20]), Core.Box(OddFrames.var\"#_head#8\"{OddFrames.var\"#_head#2#9\"}(OddFrames.var\"#_head#2#9\"())))))\n",
       " OddFrame{OddFrames.var\"#head#6\"{OddFrames.var\"#head#1#7\"{Dict{Symbol,Array{Int64,1}}}}}(Dict(:A => [2, 4],:B => [10, 20],:C => [10, 20]), OddFrames.var\"#head#6\"{OddFrames.var\"#head#1#7\"{Dict{Symbol,Array{Int64,1}}}}(OddFrames.var\"#head#1#7\"{Dict{Symbol,Array{Int64,1}}}(Dict(:A => [2, 4],:B => [10, 20],:C => [10, 20]), Core.Box(OddFrames.var\"#_head#8\"{OddFrames.var\"#_head#2#9\"}(OddFrames.var\"#_head#2#9\"())))))\n",
       " nothing\n",
       " nothing"
      ]
     },
     "execution_count": 63,
     "metadata": {},
     "output_type": "execute_result"
    }
   ],
   "source": [
    "d[d[:A] .> 2]"
   ]
  },
  {
   "cell_type": "code",
   "execution_count": 64,
   "metadata": {},
   "outputs": [
    {
     "data": {
      "text/html": [
       "\n",
       "<style>\n",
       "table.classic {\n",
       "  width: 100%;\n",
       "  height: 200px;\n",
       "  text-align: left;\n",
       "  border-collapse: collapse;\n",
       "}\n",
       "table.classic td, table.classic th {\n",
       "  padding: 5px 4px;\n",
       "}\n",
       "table.classic tbody td {\n",
       "  font-size: 13px;\n",
       "}\n",
       "table.classic tr:nth-child(even) {\n",
       "  background: #F9F9F9;\n",
       "}\n",
       "table.classic thead {\n",
       "  background: #CFCFCF;\n",
       "  background: -moz-linear-gradient(top, #dbdbdb 0%, #d3d3d3 66%, #CFCFCF 100%);\n",
       "  background: -webkit-linear-gradient(top, #dbdbdb 0%, #d3d3d3 66%, #CFCFCF 100%);\n",
       "  background: linear-gradient(to bottom, #dbdbdb 0%, #d3d3d3 66%, #CFCFCF 100%);\n",
       "  border-bottom: 3px solid #CDCDCD;\n",
       "}\n",
       "table.classic thead th {\n",
       "  font-size: 15px;\n",
       "  font-weight: bold;\n",
       "  color: #424242;\n",
       "  text-align: left;\n",
       "}\n",
       "table.jupyter {\n",
       "  width: 100%;\n",
       "  height: 200px;\n",
       "  text-align: left;\n",
       "  border-collapse: collapse;\n",
       "}\n",
       "table.jupyter td, table.jupyter th {\n",
       "  padding: 5px 4px;\n",
       "}\n",
       "table.jupyter tbody td {\n",
       "  font-size: 13px;\n",
       "}\n",
       "table.jupyter tr:nth-child(even) {\n",
       "  background: #F9E5D0;\n",
       "}\n",
       "table.jupyter thead {\n",
       "  background: #FC7A3D;\n",
       "  background: -moz-linear-gradient(top, #fd9b6d 0%, #fc8750 66%, #FC7A3D 100%);\n",
       "  background: -webkit-linear-gradient(top, #fd9b6d 0%, #fc8750 66%, #FC7A3D 100%);\n",
       "  background: linear-gradient(to bottom, #fd9b6d 0%, #fc8750 66%, #FC7A3D 100%);\n",
       "}\n",
       "table.jupyter thead th {\n",
       "  font-size: 15px;\n",
       "  font-weight: bold;\n",
       "  color: #FFFFFF;\n",
       "  text-align: left;\n",
       "}\n",
       "</style>\n",
       "<table class = \"classic\"><thead>\n",
       "<tr><th>A</th><th>B</th><th>C</th></thead><tbody><tr><td>2</td><td>10</td><td>10</td></tr><tr><td>4</td><td>20</td><td>20</td></tr></tbody></table>"
      ]
     },
     "metadata": {},
     "output_type": "display_data"
    }
   ],
   "source": [
    "d.head(5)"
   ]
  },
  {
   "cell_type": "code",
   "execution_count": 65,
   "metadata": {},
   "outputs": [
    {
     "data": {
      "text/plain": [
       "Array{BitArray{1},1}"
      ]
     },
     "execution_count": 65,
     "metadata": {},
     "output_type": "execute_result"
    }
   ],
   "source": [
    "typeof(h)"
   ]
  },
  {
   "cell_type": "code",
   "execution_count": 49,
   "metadata": {},
   "outputs": [
    {
     "data": {
      "text/plain": [
       "1-element Array{Int64,1}:\n",
       " 1"
      ]
     },
     "execution_count": 49,
     "metadata": {},
     "output_type": "execute_result"
    }
   ],
   "source": [
    "d[:A]"
   ]
  },
  {
   "cell_type": "code",
   "execution_count": 22,
   "metadata": {},
   "outputs": [
    {
     "ename": "LoadError",
     "evalue": "syntax: extra token \"d\" after end of expression",
     "output_type": "error",
     "traceback": [
      "syntax: extra token \"d\" after end of expression",
      "",
      "Stacktrace:",
      " [1] top-level scope at In[22]:1",
      " [2] include_string(::Function, ::Module, ::String, ::String) at ./loading.jl:1091"
     ]
    }
   ],
   "source": [
    "del d[:A][1]"
   ]
  },
  {
   "cell_type": "code",
   "execution_count": 23,
   "metadata": {},
   "outputs": [
    {
     "data": {
      "text/plain": [
       "3-element Array{Int64,1}:\n",
       "  5\n",
       " 10\n",
       " 15"
      ]
     },
     "execution_count": 23,
     "metadata": {},
     "output_type": "execute_result"
    }
   ],
   "source": [
    "a = [5,10,15]"
   ]
  }
 ],
 "metadata": {
  "@webio": {
   "lastCommId": null,
   "lastKernelId": null
  },
  "kernelspec": {
   "display_name": "Julia 1.5.2",
   "language": "julia",
   "name": "julia-1.5"
  },
  "language_info": {
   "file_extension": ".jl",
   "mimetype": "application/julia",
   "name": "julia",
   "version": "1.5.2"
  }
 },
 "nbformat": 4,
 "nbformat_minor": 4
}
