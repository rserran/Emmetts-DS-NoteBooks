{
 "cells": [
  {
   "cell_type": "code",
   "execution_count": 19,
   "id": "e34fa063",
   "metadata": {},
   "outputs": [
    {
     "data": {
      "text/plain": [
       "getindex (generic function with 227 methods)"
      ]
     },
     "execution_count": 19,
     "metadata": {},
     "output_type": "execute_result"
    }
   ],
   "source": [
    "import Base: getindex\n",
    "\n",
    "function getindex(vec::Vector{String}, value::String)\n",
    "    pos = findfirst(x -> x == value, vec)\n",
    "    if isnothing(pos)\n",
    "        throw(BoundsError(vec, [value]))\n",
    "    end\n",
    "    vec[pos]::String\n",
    "end"
   ]
  },
  {
   "cell_type": "code",
   "execution_count": 4,
   "id": "0d199065",
   "metadata": {},
   "outputs": [
    {
     "name": "stdout",
     "output_type": "stream",
     "text": [
      "Vector{Int64}\n",
      "Matrix{Int64}\n"
     ]
    }
   ],
   "source": [
    "println(typeof([2, 3, 4, 5]), \"\\n\",\n",
    "typeof([5 6; 4 3]))"
   ]
  },
  {
   "cell_type": "code",
   "execution_count": 5,
   "id": "afebc997",
   "metadata": {},
   "outputs": [
    {
     "data": {
      "text/plain": [
       "Vector{Int64}\u001b[90m (alias for \u001b[39m\u001b[90mArray{Int64, 1}\u001b[39m\u001b[90m)\u001b[39m"
      ]
     },
     "execution_count": 5,
     "metadata": {},
     "output_type": "execute_result"
    }
   ],
   "source": [
    "typeof([5])"
   ]
  },
  {
   "cell_type": "code",
   "execution_count": 7,
   "id": "c3753755",
   "metadata": {},
   "outputs": [
    {
     "data": {
      "text/plain": [
       "Matrix{Int64}\u001b[90m (alias for \u001b[39m\u001b[90mArray{Int64, 2}\u001b[39m\u001b[90m)\u001b[39m"
      ]
     },
     "execution_count": 7,
     "metadata": {},
     "output_type": "execute_result"
    }
   ],
   "source": [
    "typeof([5 6; 8 3])"
   ]
  },
  {
   "cell_type": "code",
   "execution_count": 9,
   "id": "9cc0b841",
   "metadata": {},
   "outputs": [
    {
     "data": {
      "text/plain": [
       "3-element Vector{Int64}:\n",
       "  5\n",
       " 10\n",
       " 15"
      ]
     },
     "execution_count": 9,
     "metadata": {},
     "output_type": "execute_result"
    }
   ],
   "source": [
    "[5, 10, 15]\n",
    "Base.vect(5, 10, 15)"
   ]
  },
  {
   "cell_type": "code",
   "execution_count": 11,
   "id": "1fb424f5",
   "metadata": {},
   "outputs": [
    {
     "data": {
      "text/plain": [
       "vect (generic function with 4 methods)"
      ]
     },
     "execution_count": 11,
     "metadata": {},
     "output_type": "execute_result"
    }
   ],
   "source": [
    "import Base: vect\n",
    "\n",
    "vect(io::IOBuffer) = [string(splt) for splt in split(String(io.data), \"\\n\")]"
   ]
  },
  {
   "cell_type": "code",
   "execution_count": 12,
   "id": "21779e56",
   "metadata": {},
   "outputs": [
    {
     "data": {
      "text/plain": [
       "IOBuffer(data=UInt8[...], readable=true, writable=true, seekable=true, append=false, size=0, maxsize=Inf, ptr=1, mark=-1)"
      ]
     },
     "execution_count": 12,
     "metadata": {},
     "output_type": "execute_result"
    }
   ],
   "source": [
    "io = IOBuffer()"
   ]
  },
  {
   "cell_type": "code",
   "execution_count": 13,
   "id": "3603f890",
   "metadata": {},
   "outputs": [
    {
     "data": {
      "text/plain": [
       "40"
      ]
     },
     "execution_count": 13,
     "metadata": {},
     "output_type": "execute_result"
    }
   ],
   "source": [
    "write(io, \"hello world!\\n This is my sample element.\")"
   ]
  },
  {
   "cell_type": "code",
   "execution_count": 14,
   "id": "813f5f4c",
   "metadata": {},
   "outputs": [
    {
     "data": {
      "text/plain": [
       "2-element Vector{String}:\n",
       " \"hello world!\"\n",
       " \" This is my sample element.\""
      ]
     },
     "execution_count": 14,
     "metadata": {},
     "output_type": "execute_result"
    }
   ],
   "source": [
    "[io]"
   ]
  },
  {
   "cell_type": "code",
   "execution_count": 12,
   "id": "559218b1",
   "metadata": {},
   "outputs": [
    {
     "name": "stderr",
     "output_type": "stream",
     "text": [
      "\u001b[36m\u001b[1m[ \u001b[22m\u001b[39m\u001b[36m\u001b[1mInfo: \u001b[22m\u001b[39mafter setting index: [55, 2, 3, 5, 6, 7]\n",
      "\u001b[36m\u001b[1m[ \u001b[22m\u001b[39m\u001b[36m\u001b[1mInfo: \u001b[22m\u001b[39mafter deleting: [55, 2, 3, 5, 6]\n",
      "\u001b[36m\u001b[1m[ \u001b[22m\u001b[39m\u001b[36m\u001b[1mInfo: \u001b[22m\u001b[39mafter inserting '4': [55, 2, 3, 4, 5, 6]\n",
      "\u001b[36m\u001b[1m[ \u001b[22m\u001b[39m\u001b[36m\u001b[1mInfo: \u001b[22m\u001b[39mfinal vec: [55, 2, 3, 4, 5, 6, 8, 9, 10, 11, 12, 13]\n"
     ]
    }
   ],
   "source": [
    "vec = [1, 2, 3, 5, 6, 7]\n",
    "\n",
    "# setindex!\n",
    "vec[1] = 55\n",
    "@info \"after setting index: $vec\"\n",
    "deleteat!(vec, 6)\n",
    "@info \"after deleting: $vec\"\n",
    "insert!(vec, 4, 4)\n",
    "@info \"after inserting '4': $vec\"\n",
    "push!(vec, 8, 9, 10)\n",
    "append!(vec, [11, 12, 13])\n",
    "@info \"final vec: $vec\""
   ]
  },
  {
   "cell_type": "code",
   "execution_count": null,
   "id": "5f0c7d38",
   "metadata": {},
   "outputs": [],
   "source": []
  },
  {
   "cell_type": "code",
   "execution_count": 2,
   "id": "e4cf40d1",
   "metadata": {},
   "outputs": [
    {
     "name": "stdout",
     "output_type": "stream",
     "text": [
      "first element second element"
     ]
    }
   ],
   "source": [
    "vec = [\"first element\", \" second element\"]\n",
    "for x in vec\n",
    "   print(x)\n",
    "end"
   ]
  },
  {
   "cell_type": "code",
   "execution_count": 5,
   "id": "04cf4ed8",
   "metadata": {},
   "outputs": [
    {
     "data": {
      "text/plain": [
       "5-element Vector{Int64}:\n",
       " 1\n",
       " 2\n",
       " 3\n",
       " 4\n",
       " 5"
      ]
     },
     "execution_count": 5,
     "metadata": {},
     "output_type": "execute_result"
    }
   ],
   "source": [
    "vec = [1, 2, 3, 4, 5]"
   ]
  },
  {
   "cell_type": "code",
   "execution_count": 7,
   "id": "4812d672",
   "metadata": {},
   "outputs": [
    {
     "data": {
      "text/plain": [
       "5-element Vector{Int64}:\n",
       " 2\n",
       " 3\n",
       " 4\n",
       " 5\n",
       " 6"
      ]
     },
     "execution_count": 7,
     "metadata": {},
     "output_type": "execute_result"
    }
   ],
   "source": [
    "newvec = map(x -> x + 1, vec)"
   ]
  },
  {
   "cell_type": "code",
   "execution_count": 15,
   "id": "36b2324a",
   "metadata": {},
   "outputs": [
    {
     "data": {
      "text/plain": [
       "4"
      ]
     },
     "execution_count": 15,
     "metadata": {},
     "output_type": "execute_result"
    }
   ],
   "source": [
    "f = findfirst(x::Int64 -> x == 4, vec)"
   ]
  },
  {
   "cell_type": "code",
   "execution_count": 18,
   "id": "77686fc8",
   "metadata": {},
   "outputs": [
    {
     "name": "stdout",
     "output_type": "stream",
     "text": [
      "nothing\n",
      "1\n"
     ]
    }
   ],
   "source": [
    "println(findfirst(x::Int64 -> x == 1, vec))\n",
    "println(findfirst(x::Int64 -> x == 55, vec))"
   ]
  },
  {
   "cell_type": "code",
   "execution_count": 20,
   "id": "7b97d6f3",
   "metadata": {},
   "outputs": [
    {
     "data": {
      "text/plain": [
       "12-element Vector{Int64}:\n",
       " 55\n",
       "  2\n",
       "  3\n",
       "  4\n",
       "  5\n",
       "  6\n",
       "  8\n",
       "  9\n",
       " 10\n",
       " 11\n",
       " 12\n",
       " 13"
      ]
     },
     "execution_count": 20,
     "metadata": {},
     "output_type": "execute_result"
    }
   ],
   "source": [
    "vec"
   ]
  },
  {
   "cell_type": "code",
   "execution_count": 21,
   "id": "5fa6d6b6",
   "metadata": {},
   "outputs": [
    {
     "data": {
      "text/plain": [
       "6-element Vector{Int64}:\n",
       " 55\n",
       "  9\n",
       " 10\n",
       " 11\n",
       " 12\n",
       " 13"
      ]
     },
     "execution_count": 21,
     "metadata": {},
     "output_type": "execute_result"
    }
   ],
   "source": [
    "cop = filter(x -> x > 8, vec)"
   ]
  },
  {
   "cell_type": "code",
   "execution_count": 22,
   "id": "31b4f8ae",
   "metadata": {},
   "outputs": [
    {
     "data": {
      "text/plain": [
       "3-element Vector{Int64}:\n",
       " 2\n",
       " 3\n",
       " 4"
      ]
     },
     "execution_count": 22,
     "metadata": {},
     "output_type": "execute_result"
    }
   ],
   "source": [
    "filter!(x -> x < 5, vec)"
   ]
  },
  {
   "cell_type": "code",
   "execution_count": 23,
   "id": "66917450",
   "metadata": {},
   "outputs": [
    {
     "data": {
      "text/plain": [
       "3-element Vector{Int64}:\n",
       " 2\n",
       " 3\n",
       " 4"
      ]
     },
     "execution_count": 23,
     "metadata": {},
     "output_type": "execute_result"
    }
   ],
   "source": [
    "vec"
   ]
  },
  {
   "cell_type": "code",
   "execution_count": null,
   "id": "857121df",
   "metadata": {},
   "outputs": [],
   "source": []
  }
 ],
 "metadata": {
  "kernelspec": {
   "display_name": "Julia 1.9.2",
   "language": "julia",
   "name": "julia-1.9"
  },
  "language_info": {
   "file_extension": ".jl",
   "mimetype": "application/julia",
   "name": "julia",
   "version": "1.9.2"
  }
 },
 "nbformat": 4,
 "nbformat_minor": 5
}
