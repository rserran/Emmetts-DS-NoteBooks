{
 "cells": [
  {
   "cell_type": "code",
   "execution_count": 1,
   "metadata": {},
   "outputs": [
    {
     "name": "stderr",
     "output_type": "stream",
     "text": [
      "┌ Info: Precompiling Lathe [38d8eb38-e7b1-11e9-0012-376b6c802672]\n",
      "└ @ Base loading.jl:1278\n"
     ]
    }
   ],
   "source": [
    "using Lathe.models: Pipeline, LatheObject, LinearRegression"
   ]
  },
  {
   "cell_type": "code",
   "execution_count": 2,
   "metadata": {},
   "outputs": [],
   "source": [
    "import Base: +"
   ]
  },
  {
   "cell_type": "code",
   "execution_count": 3,
   "metadata": {},
   "outputs": [
    {
     "data": {
      "text/plain": [
       "true"
      ]
     },
     "execution_count": 3,
     "metadata": {},
     "output_type": "execute_result"
    }
   ],
   "source": [
    "Pipeline <: LatheObject"
   ]
  },
  {
   "cell_type": "code",
   "execution_count": 4,
   "metadata": {},
   "outputs": [
    {
     "data": {
      "text/plain": [
       "+ (generic function with 283 methods)"
      ]
     },
     "execution_count": 4,
     "metadata": {},
     "output_type": "execute_result"
    }
   ],
   "source": [
    "+(p::Pipeline, step::LatheObject) = push!(p.steps, step)"
   ]
  },
  {
   "cell_type": "code",
   "execution_count": 5,
   "metadata": {},
   "outputs": [],
   "source": [
    "using Lathe.preprocess: StandardScaler"
   ]
  },
  {
   "cell_type": "code",
   "execution_count": 6,
   "metadata": {},
   "outputs": [
    {
     "data": {
      "text/plain": [
       "([5, 10, 15, 20, 25, 30], [2, 4, 6, 8, 10, 12])"
      ]
     },
     "execution_count": 6,
     "metadata": {},
     "output_type": "execute_result"
    }
   ],
   "source": [
    "x, y = [5, 10, 15, 20, 25, 30], [2, 4, 6, 8, 10, 12]"
   ]
  },
  {
   "cell_type": "code",
   "execution_count": 7,
   "metadata": {},
   "outputs": [
    {
     "data": {
      "text/plain": [
       "LinearRegression{Lathe.models.var\"#predict#3\"{Float64,Float64}}(0.0, 0.4, Lathe.models.var\"#predict#3\"{Float64,Float64}(0.0, 0.4), Lathe.models.LinearModel[])"
      ]
     },
     "execution_count": 7,
     "metadata": {},
     "output_type": "execute_result"
    }
   ],
   "source": [
    "model = LinearRegression(x, y)"
   ]
  },
  {
   "cell_type": "code",
   "execution_count": 8,
   "metadata": {},
   "outputs": [
    {
     "data": {
      "text/plain": [
       "StandardScaler{Lathe.stats.NormalDist{Lathe.stats.var\"#cdf#7\"{Float64,Float64},Lathe.stats.var\"#apply#5\"{Float64,Float64}},Lathe.preprocess.var\"#predict#28\"{Lathe.stats.NormalDist{Lathe.stats.var\"#cdf#7\"{Float64,Float64},Lathe.stats.var\"#apply#5\"{Float64,Float64}}}}(Lathe.stats.NormalDist{Lathe.stats.var\"#cdf#7\"{Float64,Float64},Lathe.stats.var\"#apply#5\"{Float64,Float64}}(4.183300132670378, 17.5, 6, Lathe.stats.var\"#cdf#7\"{Float64,Float64}(4.183300132670378, 17.5), Lathe.stats.var\"#apply#5\"{Float64,Float64}(4.183300132670378, 17.5)), Lathe.preprocess.var\"#predict#28\"{Lathe.stats.NormalDist{Lathe.stats.var\"#cdf#7\"{Float64,Float64},Lathe.stats.var\"#apply#5\"{Float64,Float64}}}(Lathe.stats.NormalDist{Lathe.stats.var\"#cdf#7\"{Float64,Float64},Lathe.stats.var\"#apply#5\"{Float64,Float64}}(4.183300132670378, 17.5, 6, Lathe.stats.var\"#cdf#7\"{Float64,Float64}(4.183300132670378, 17.5), Lathe.stats.var\"#apply#5\"{Float64,Float64}(4.183300132670378, 17.5))))"
      ]
     },
     "execution_count": 8,
     "metadata": {},
     "output_type": "execute_result"
    }
   ],
   "source": [
    "scaler = StandardScaler(x)"
   ]
  },
  {
   "cell_type": "code",
   "execution_count": 9,
   "metadata": {},
   "outputs": [
    {
     "data": {
      "text/plain": [
       "Pipeline{Lathe.models.var\"#predict#50\"}(LatheObject[StandardScaler{Lathe.stats.NormalDist{Lathe.stats.var\"#cdf#7\"{Float64,Float64},Lathe.stats.var\"#apply#5\"{Float64,Float64}},Lathe.preprocess.var\"#predict#28\"{Lathe.stats.NormalDist{Lathe.stats.var\"#cdf#7\"{Float64,Float64},Lathe.stats.var\"#apply#5\"{Float64,Float64}}}}(Lathe.stats.NormalDist{Lathe.stats.var\"#cdf#7\"{Float64,Float64},Lathe.stats.var\"#apply#5\"{Float64,Float64}}(4.183300132670378, 17.5, 6, Lathe.stats.var\"#cdf#7\"{Float64,Float64}(4.183300132670378, 17.5), Lathe.stats.var\"#apply#5\"{Float64,Float64}(4.183300132670378, 17.5)), Lathe.preprocess.var\"#predict#28\"{Lathe.stats.NormalDist{Lathe.stats.var\"#cdf#7\"{Float64,Float64},Lathe.stats.var\"#apply#5\"{Float64,Float64}}}(Lathe.stats.NormalDist{Lathe.stats.var\"#cdf#7\"{Float64,Float64},Lathe.stats.var\"#apply#5\"{Float64,Float64}}(4.183300132670378, 17.5, 6, Lathe.stats.var\"#cdf#7\"{Float64,Float64}(4.183300132670378, 17.5), Lathe.stats.var\"#apply#5\"{Float64,Float64}(4.183300132670378, 17.5))))], Lathe.models.var\"#predict#50\"(Core.Box(StandardScaler{Lathe.stats.NormalDist{Lathe.stats.var\"#cdf#7\"{Float64,Float64},Lathe.stats.var\"#apply#5\"{Float64,Float64}},Lathe.preprocess.var\"#predict#28\"{Lathe.stats.NormalDist{Lathe.stats.var\"#cdf#7\"{Float64,Float64},Lathe.stats.var\"#apply#5\"{Float64,Float64}}}}[StandardScaler{Lathe.stats.NormalDist{Lathe.stats.var\"#cdf#7\"{Float64,Float64},Lathe.stats.var\"#apply#5\"{Float64,Float64}},Lathe.preprocess.var\"#predict#28\"{Lathe.stats.NormalDist{Lathe.stats.var\"#cdf#7\"{Float64,Float64},Lathe.stats.var\"#apply#5\"{Float64,Float64}}}}(Lathe.stats.NormalDist{Lathe.stats.var\"#cdf#7\"{Float64,Float64},Lathe.stats.var\"#apply#5\"{Float64,Float64}}(4.183300132670378, 17.5, 6, Lathe.stats.var\"#cdf#7\"{Float64,Float64}(4.183300132670378, 17.5), Lathe.stats.var\"#apply#5\"{Float64,Float64}(4.183300132670378, 17.5)), Lathe.preprocess.var\"#predict#28\"{Lathe.stats.NormalDist{Lathe.stats.var\"#cdf#7\"{Float64,Float64},Lathe.stats.var\"#apply#5\"{Float64,Float64}}}(Lathe.stats.NormalDist{Lathe.stats.var\"#cdf#7\"{Float64,Float64},Lathe.stats.var\"#apply#5\"{Float64,Float64}}(4.183300132670378, 17.5, 6, Lathe.stats.var\"#cdf#7\"{Float64,Float64}(4.183300132670378, 17.5), Lathe.stats.var\"#apply#5\"{Float64,Float64}(4.183300132670378, 17.5))))])))"
      ]
     },
     "execution_count": 9,
     "metadata": {},
     "output_type": "execute_result"
    }
   ],
   "source": [
    "pipe = Pipeline(scaler)"
   ]
  },
  {
   "cell_type": "code",
   "execution_count": 10,
   "metadata": {},
   "outputs": [
    {
     "data": {
      "text/plain": [
       "2-element Array{LatheObject,1}:\n",
       " StandardScaler{Lathe.stats.NormalDist{Lathe.stats.var\"#cdf#7\"{Float64,Float64},Lathe.stats.var\"#apply#5\"{Float64,Float64}},Lathe.preprocess.var\"#predict#28\"{Lathe.stats.NormalDist{Lathe.stats.var\"#cdf#7\"{Float64,Float64},Lathe.stats.var\"#apply#5\"{Float64,Float64}}}}(Lathe.stats.NormalDist{Lathe.stats.var\"#cdf#7\"{Float64,Float64},Lathe.stats.var\"#apply#5\"{Float64,Float64}}(4.183300132670378, 17.5, 6, Lathe.stats.var\"#cdf#7\"{Float64,Float64}(4.183300132670378, 17.5), Lathe.stats.var\"#apply#5\"{Float64,Float64}(4.183300132670378, 17.5)), Lathe.preprocess.var\"#predict#28\"{Lathe.stats.NormalDist{Lathe.stats.var\"#cdf#7\"{Float64,Float64},Lathe.stats.var\"#apply#5\"{Float64,Float64}}}(Lathe.stats.NormalDist{Lathe.stats.var\"#cdf#7\"{Float64,Float64},Lathe.stats.var\"#apply#5\"{Float64,Float64}}(4.183300132670378, 17.5, 6, Lathe.stats.var\"#cdf#7\"{Float64,Float64}(4.183300132670378, 17.5), Lathe.stats.var\"#apply#5\"{Float64,Float64}(4.183300132670378, 17.5))))\n",
       " LinearRegression{Lathe.models.var\"#predict#3\"{Float64,Float64}}(0.0, 0.4, Lathe.models.var\"#predict#3\"{Float64,Float64}(0.0, 0.4), Lathe.models.LinearModel[])"
      ]
     },
     "execution_count": 10,
     "metadata": {},
     "output_type": "execute_result"
    }
   ],
   "source": [
    "pipe + model"
   ]
  },
  {
   "cell_type": "code",
   "execution_count": 11,
   "metadata": {},
   "outputs": [
    {
     "data": {
      "text/plain": [
       "2-element Array{LatheObject,1}:\n",
       " StandardScaler{Lathe.stats.NormalDist{Lathe.stats.var\"#cdf#7\"{Float64,Float64},Lathe.stats.var\"#apply#5\"{Float64,Float64}},Lathe.preprocess.var\"#predict#28\"{Lathe.stats.NormalDist{Lathe.stats.var\"#cdf#7\"{Float64,Float64},Lathe.stats.var\"#apply#5\"{Float64,Float64}}}}(Lathe.stats.NormalDist{Lathe.stats.var\"#cdf#7\"{Float64,Float64},Lathe.stats.var\"#apply#5\"{Float64,Float64}}(4.183300132670378, 17.5, 6, Lathe.stats.var\"#cdf#7\"{Float64,Float64}(4.183300132670378, 17.5), Lathe.stats.var\"#apply#5\"{Float64,Float64}(4.183300132670378, 17.5)), Lathe.preprocess.var\"#predict#28\"{Lathe.stats.NormalDist{Lathe.stats.var\"#cdf#7\"{Float64,Float64},Lathe.stats.var\"#apply#5\"{Float64,Float64}}}(Lathe.stats.NormalDist{Lathe.stats.var\"#cdf#7\"{Float64,Float64},Lathe.stats.var\"#apply#5\"{Float64,Float64}}(4.183300132670378, 17.5, 6, Lathe.stats.var\"#cdf#7\"{Float64,Float64}(4.183300132670378, 17.5), Lathe.stats.var\"#apply#5\"{Float64,Float64}(4.183300132670378, 17.5))))\n",
       " LinearRegression{Lathe.models.var\"#predict#3\"{Float64,Float64}}(0.0, 0.4, Lathe.models.var\"#predict#3\"{Float64,Float64}(0.0, 0.4), Lathe.models.LinearModel[])"
      ]
     },
     "execution_count": 11,
     "metadata": {},
     "output_type": "execute_result"
    }
   ],
   "source": [
    "pipe.steps"
   ]
  },
  {
   "cell_type": "code",
   "execution_count": 12,
   "metadata": {},
   "outputs": [
    {
     "data": {
      "text/plain": [
       "1-element Array{Array{Real,1},1}:\n",
       " [-2.988071523335984, -1.7928429140015905, -0.5976143046671968, 0.5976143046671968, 1.7928429140015905, 2.988071523335984]"
      ]
     },
     "execution_count": 12,
     "metadata": {},
     "output_type": "execute_result"
    }
   ],
   "source": [
    "y_hat = pipe.predict(x)"
   ]
  },
  {
   "cell_type": "code",
   "execution_count": 14,
   "metadata": {},
   "outputs": [],
   "source": [
    "import Base: -"
   ]
  },
  {
   "cell_type": "code",
   "execution_count": 30,
   "metadata": {},
   "outputs": [
    {
     "data": {
      "text/plain": [
       "- (generic function with 252 methods)"
      ]
     },
     "execution_count": 30,
     "metadata": {},
     "output_type": "execute_result"
    }
   ],
   "source": [
    "-(p::Pipeline, n::Int64) = deleteat!(p.steps, n)"
   ]
  },
  {
   "cell_type": "code",
   "execution_count": 31,
   "metadata": {},
   "outputs": [
    {
     "data": {
      "text/plain": [
       "1-element Array{LatheObject,1}:\n",
       " StandardScaler{Lathe.stats.NormalDist{Lathe.stats.var\"#cdf#7\"{Float64,Float64},Lathe.stats.var\"#apply#5\"{Float64,Float64}},Lathe.preprocess.var\"#predict#28\"{Lathe.stats.NormalDist{Lathe.stats.var\"#cdf#7\"{Float64,Float64},Lathe.stats.var\"#apply#5\"{Float64,Float64}}}}(Lathe.stats.NormalDist{Lathe.stats.var\"#cdf#7\"{Float64,Float64},Lathe.stats.var\"#apply#5\"{Float64,Float64}}(4.183300132670378, 17.5, 6, Lathe.stats.var\"#cdf#7\"{Float64,Float64}(4.183300132670378, 17.5), Lathe.stats.var\"#apply#5\"{Float64,Float64}(4.183300132670378, 17.5)), Lathe.preprocess.var\"#predict#28\"{Lathe.stats.NormalDist{Lathe.stats.var\"#cdf#7\"{Float64,Float64},Lathe.stats.var\"#apply#5\"{Float64,Float64}}}(Lathe.stats.NormalDist{Lathe.stats.var\"#cdf#7\"{Float64,Float64},Lathe.stats.var\"#apply#5\"{Float64,Float64}}(4.183300132670378, 17.5, 6, Lathe.stats.var\"#cdf#7\"{Float64,Float64}(4.183300132670378, 17.5), Lathe.stats.var\"#apply#5\"{Float64,Float64}(4.183300132670378, 17.5))))"
      ]
     },
     "execution_count": 31,
     "metadata": {},
     "output_type": "execute_result"
    }
   ],
   "source": [
    "pipe - 2"
   ]
  },
  {
   "cell_type": "code",
   "execution_count": 34,
   "metadata": {},
   "outputs": [
    {
     "data": {
      "text/plain": [
       "1-element Array{LatheObject,1}:\n",
       " StandardScaler{Lathe.stats.NormalDist{Lathe.stats.var\"#cdf#7\"{Float64,Float64},Lathe.stats.var\"#apply#5\"{Float64,Float64}},Lathe.preprocess.var\"#predict#28\"{Lathe.stats.NormalDist{Lathe.stats.var\"#cdf#7\"{Float64,Float64},Lathe.stats.var\"#apply#5\"{Float64,Float64}}}}(Lathe.stats.NormalDist{Lathe.stats.var\"#cdf#7\"{Float64,Float64},Lathe.stats.var\"#apply#5\"{Float64,Float64}}(4.183300132670378, 17.5, 6, Lathe.stats.var\"#cdf#7\"{Float64,Float64}(4.183300132670378, 17.5), Lathe.stats.var\"#apply#5\"{Float64,Float64}(4.183300132670378, 17.5)), Lathe.preprocess.var\"#predict#28\"{Lathe.stats.NormalDist{Lathe.stats.var\"#cdf#7\"{Float64,Float64},Lathe.stats.var\"#apply#5\"{Float64,Float64}}}(Lathe.stats.NormalDist{Lathe.stats.var\"#cdf#7\"{Float64,Float64},Lathe.stats.var\"#apply#5\"{Float64,Float64}}(4.183300132670378, 17.5, 6, Lathe.stats.var\"#cdf#7\"{Float64,Float64}(4.183300132670378, 17.5), Lathe.stats.var\"#apply#5\"{Float64,Float64}(4.183300132670378, 17.5))))"
      ]
     },
     "execution_count": 34,
     "metadata": {},
     "output_type": "execute_result"
    }
   ],
   "source": [
    "pipe.steps"
   ]
  },
  {
   "cell_type": "code",
   "execution_count": null,
   "metadata": {},
   "outputs": [],
   "source": []
  }
 ],
 "metadata": {
  "kernelspec": {
   "display_name": "Julia 1.5.3",
   "language": "julia",
   "name": "julia-1.5"
  },
  "language_info": {
   "file_extension": ".jl",
   "mimetype": "application/julia",
   "name": "julia",
   "version": "1.5.3"
  }
 },
 "nbformat": 4,
 "nbformat_minor": 4
}
