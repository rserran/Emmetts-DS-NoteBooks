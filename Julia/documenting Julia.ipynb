{
 "cells": [
  {
   "cell_type": "code",
   "execution_count": 3,
   "metadata": {},
   "outputs": [],
   "source": [
    "using Base.Docs"
   ]
  },
  {
   "cell_type": "code",
   "execution_count": 44,
   "metadata": {},
   "outputs": [
    {
     "data": {
      "text/plain": [
       "examplefunction!"
      ]
     },
     "execution_count": 44,
     "metadata": {},
     "output_type": "execute_result"
    }
   ],
   "source": [
    "\"\"\"\n",
    "# examplefunction!(y::Array, x::Int64)\n",
    "\n",
    "\"\"\"\n",
    "function examplefunction!(y::Array, x::Int64)\n",
    "    x += 1\n",
    "    push!(y, x)\n",
    "end"
   ]
  },
  {
   "cell_type": "code",
   "execution_count": 45,
   "metadata": {},
   "outputs": [
    {
     "name": "stdout",
     "output_type": "stream",
     "text": [
      "search: \u001b[0m\u001b[1me\u001b[22m\u001b[0m\u001b[1mx\u001b[22m\u001b[0m\u001b[1ma\u001b[22m\u001b[0m\u001b[1mm\u001b[22m\u001b[0m\u001b[1mp\u001b[22m\u001b[0m\u001b[1ml\u001b[22m\u001b[0m\u001b[1me\u001b[22m\u001b[0m\u001b[1mf\u001b[22m\u001b[0m\u001b[1mu\u001b[22m\u001b[0m\u001b[1mn\u001b[22m\u001b[0m\u001b[1mc\u001b[22m\u001b[0m\u001b[1mt\u001b[22m\u001b[0m\u001b[1mi\u001b[22m\u001b[0m\u001b[1mo\u001b[22m\u001b[0m\u001b[1mn\u001b[22m\u001b[0m\u001b[1m!\u001b[22m \u001b[0m\u001b[1me\u001b[22m\u001b[0m\u001b[1mx\u001b[22m\u001b[0m\u001b[1ma\u001b[22m\u001b[0m\u001b[1mm\u001b[22m\u001b[0m\u001b[1mp\u001b[22m\u001b[0m\u001b[1ml\u001b[22m\u001b[0m\u001b[1me\u001b[22m\u001b[0m\u001b[1mf\u001b[22m\u001b[0m\u001b[1mu\u001b[22m\u001b[0m\u001b[1mn\u001b[22m\u001b[0m\u001b[1mc\u001b[22m\u001b[0m\u001b[1mt\u001b[22m\u001b[0m\u001b[1mi\u001b[22m\u001b[0m\u001b[1mo\u001b[22m\u001b[0m\u001b[1mn\u001b[22m\n",
      "\n"
     ]
    },
    {
     "data": {
      "text/latex": [
       "\\section{examplefunction!(y::Array, x::Int64)}\n",
       "\\rule{\\textwidth}{1pt}\n",
       "\\section{examplefunction!(y::Dict\\{Int64, Int64\\}, x::Int64) -> y}\n",
       "The example function will increment \\textbf{x} by one before pushing \\textbf{x} into \\textbf{y} with the next available key in the dictionary\n",
       "\n",
       "\\paragraph{Example}\n",
       "\\begin{verbatim}\n",
       "x = 5\n",
       "y = Dict(1 => 5, 2 => 6)\n",
       "\n",
       "examplefunction!(y, x)\n",
       "\n",
       "println(y)\n",
       "\n",
       "Dict{Int64, Int64} with 3 entries:\n",
       "  2 => 6\n",
       "  3 => 6\n",
       "  1 => 5\n",
       "\n",
       "\\end{verbatim}\n"
      ],
      "text/markdown": [
       "# examplefunction!(y::Array, x::Int64)\n",
       "\n",
       "---\n",
       "\n",
       "# examplefunction!(y::Dict{Int64, Int64}, x::Int64) -> y\n",
       "\n",
       "The example function will increment **x** by one before pushing **x** into **y** with the next available key in the dictionary\n",
       "\n",
       "#### Example\n",
       "\n",
       "```\n",
       "x = 5\n",
       "y = Dict(1 => 5, 2 => 6)\n",
       "\n",
       "examplefunction!(y, x)\n",
       "\n",
       "println(y)\n",
       "\n",
       "Dict{Int64, Int64} with 3 entries:\n",
       "  2 => 6\n",
       "  3 => 6\n",
       "  1 => 5\n",
       "\n",
       "```\n"
      ],
      "text/plain": [
       "\u001b[1m  examplefunction!(y::Array, x::Int64)\u001b[22m\n",
       "\u001b[1m  ≡≡≡≡≡≡≡≡≡≡≡≡≡≡≡≡≡≡≡≡≡≡≡≡≡≡≡≡≡≡≡≡≡≡≡≡≡≡\u001b[22m\n",
       "\n",
       "  ────────────────────────────────────────────────────────────────────────────\n",
       "\n",
       "\u001b[1m  examplefunction!(y::Dict{Int64, Int64}, x::Int64) -> y\u001b[22m\n",
       "\u001b[1m  ≡≡≡≡≡≡≡≡≡≡≡≡≡≡≡≡≡≡≡≡≡≡≡≡≡≡≡≡≡≡≡≡≡≡≡≡≡≡≡≡≡≡≡≡≡≡≡≡≡≡≡≡≡≡≡≡\u001b[22m\n",
       "\n",
       "  The example function will increment \u001b[1mx\u001b[22m by one before pushing \u001b[1mx\u001b[22m into \u001b[1my\u001b[22m with\n",
       "  the next available key in the dictionary\n",
       "\n",
       "\u001b[1m  Example\u001b[22m\n",
       "\u001b[1m  ---------\u001b[22m\n",
       "\n",
       "\u001b[36m  x = 5\u001b[39m\n",
       "\u001b[36m  y = Dict(1 => 5, 2 => 6)\u001b[39m\n",
       "\u001b[36m  \u001b[39m\n",
       "\u001b[36m  examplefunction!(y, x)\u001b[39m\n",
       "\u001b[36m  \u001b[39m\n",
       "\u001b[36m  println(y)\u001b[39m\n",
       "\u001b[36m  \u001b[39m\n",
       "\u001b[36m  Dict{Int64, Int64} with 3 entries:\u001b[39m\n",
       "\u001b[36m    2 => 6\u001b[39m\n",
       "\u001b[36m    3 => 6\u001b[39m\n",
       "\u001b[36m    1 => 5\u001b[39m\n",
       "\u001b[36m  \u001b[39m"
      ]
     },
     "execution_count": 45,
     "metadata": {},
     "output_type": "execute_result"
    }
   ],
   "source": [
    "?(examplefunction!)"
   ]
  },
  {
   "cell_type": "code",
   "execution_count": 53,
   "metadata": {},
   "outputs": [
    {
     "data": {
      "text/plain": [
       "examplefunction!"
      ]
     },
     "execution_count": 53,
     "metadata": {},
     "output_type": "execute_result"
    }
   ],
   "source": [
    "\"\"\"\n",
    "# examplefunction!(y::Array, x::Int64) -> y\n",
    "The example function will increment **x** by one before pushing **x** into the array **y**.\n",
    "#### Example\n",
    "```\n",
    "x = 5\n",
    "y = [1, 2, 3, 4, 5]\n",
    "\n",
    "examplefunction!(y, x)\n",
    "\n",
    "println(y)\n",
    "\n",
    "[1, 2, 3, 4, 5, 6]\n",
    "```\n",
    "\"\"\"\n",
    "function examplefunction!(y::Array, x::Int64)\n",
    "    x += 1\n",
    "    push!(y, x)\n",
    "end"
   ]
  },
  {
   "cell_type": "code",
   "execution_count": 54,
   "metadata": {},
   "outputs": [
    {
     "name": "stdout",
     "output_type": "stream",
     "text": [
      "search: \u001b[0m\u001b[1mp\u001b[22m\u001b[0m\u001b[1mu\u001b[22m\u001b[0m\u001b[1ms\u001b[22m\u001b[0m\u001b[1mh\u001b[22m\u001b[0m\u001b[1m!\u001b[22m \u001b[0m\u001b[1mp\u001b[22m\u001b[0m\u001b[1mu\u001b[22m\u001b[0m\u001b[1ms\u001b[22m\u001b[0m\u001b[1mh\u001b[22mfirst\u001b[0m\u001b[1m!\u001b[22m \u001b[0m\u001b[1mp\u001b[22m\u001b[0m\u001b[1mu\u001b[22m\u001b[0m\u001b[1ms\u001b[22m\u001b[0m\u001b[1mh\u001b[22mdisplay\n",
      "\n"
     ]
    },
    {
     "data": {
      "text/latex": [
       "\\begin{verbatim}\n",
       "push!(collection, items...) -> collection\n",
       "\\end{verbatim}\n",
       "Insert one or more \\texttt{items} in \\texttt{collection}. If \\texttt{collection} is an ordered container, the items are inserted at the end (in the given order).\n",
       "\n",
       "\\section{Examples}\n",
       "\\begin{verbatim}\n",
       "julia> push!([1, 2, 3], 4, 5, 6)\n",
       "6-element Vector{Int64}:\n",
       " 1\n",
       " 2\n",
       " 3\n",
       " 4\n",
       " 5\n",
       " 6\n",
       "\\end{verbatim}\n",
       "If \\texttt{collection} is ordered, use \\href{@ref}{\\texttt{append!}} to add all the elements of another collection to it. The result of the preceding example is equivalent to \\texttt{append!([1, 2, 3], [4, 5, 6])}. For \\texttt{AbstractSet} objects, \\href{@ref}{\\texttt{union!}} can be used instead.\n",
       "\n",
       "See \\href{@ref}{\\texttt{sizehint!}} for notes about the performance model.\n",
       "\n",
       "See also \\href{@ref}{\\texttt{pushfirst!}}.\n",
       "\n"
      ],
      "text/markdown": [
       "```\n",
       "push!(collection, items...) -> collection\n",
       "```\n",
       "\n",
       "Insert one or more `items` in `collection`. If `collection` is an ordered container, the items are inserted at the end (in the given order).\n",
       "\n",
       "# Examples\n",
       "\n",
       "```jldoctest\n",
       "julia> push!([1, 2, 3], 4, 5, 6)\n",
       "6-element Vector{Int64}:\n",
       " 1\n",
       " 2\n",
       " 3\n",
       " 4\n",
       " 5\n",
       " 6\n",
       "```\n",
       "\n",
       "If `collection` is ordered, use [`append!`](@ref) to add all the elements of another collection to it. The result of the preceding example is equivalent to `append!([1, 2, 3], [4, 5, 6])`. For `AbstractSet` objects, [`union!`](@ref) can be used instead.\n",
       "\n",
       "See [`sizehint!`](@ref) for notes about the performance model.\n",
       "\n",
       "See also [`pushfirst!`](@ref).\n"
      ],
      "text/plain": [
       "\u001b[36m  push!(collection, items...) -> collection\u001b[39m\n",
       "\n",
       "  Insert one or more \u001b[36mitems\u001b[39m in \u001b[36mcollection\u001b[39m. If \u001b[36mcollection\u001b[39m is an ordered\n",
       "  container, the items are inserted at the end (in the given order).\n",
       "\n",
       "\u001b[1m  Examples\u001b[22m\n",
       "\u001b[1m  ≡≡≡≡≡≡≡≡≡≡\u001b[22m\n",
       "\n",
       "\u001b[36m  julia> push!([1, 2, 3], 4, 5, 6)\u001b[39m\n",
       "\u001b[36m  6-element Vector{Int64}:\u001b[39m\n",
       "\u001b[36m   1\u001b[39m\n",
       "\u001b[36m   2\u001b[39m\n",
       "\u001b[36m   3\u001b[39m\n",
       "\u001b[36m   4\u001b[39m\n",
       "\u001b[36m   5\u001b[39m\n",
       "\u001b[36m   6\u001b[39m\n",
       "\n",
       "  If \u001b[36mcollection\u001b[39m is ordered, use \u001b[36mappend!\u001b[39m to add all the elements of another\n",
       "  collection to it. The result of the preceding example is equivalent to\n",
       "  \u001b[36mappend!([1, 2, 3], [4, 5, 6])\u001b[39m. For \u001b[36mAbstractSet\u001b[39m objects, \u001b[36munion!\u001b[39m can be used\n",
       "  instead.\n",
       "\n",
       "  See \u001b[36msizehint!\u001b[39m for notes about the performance model.\n",
       "\n",
       "  See also \u001b[36mpushfirst!\u001b[39m."
      ]
     },
     "execution_count": 54,
     "metadata": {},
     "output_type": "execute_result"
    }
   ],
   "source": [
    "?(push!)"
   ]
  },
  {
   "cell_type": "code",
   "execution_count": 55,
   "metadata": {},
   "outputs": [
    {
     "name": "stdout",
     "output_type": "stream",
     "text": [
      "search: \u001b[0m\u001b[1me\u001b[22m\u001b[0m\u001b[1mx\u001b[22m\u001b[0m\u001b[1ma\u001b[22m\u001b[0m\u001b[1mm\u001b[22m\u001b[0m\u001b[1mp\u001b[22m\u001b[0m\u001b[1ml\u001b[22m\u001b[0m\u001b[1me\u001b[22m\u001b[0m\u001b[1mf\u001b[22m\u001b[0m\u001b[1mu\u001b[22m\u001b[0m\u001b[1mn\u001b[22m\u001b[0m\u001b[1mc\u001b[22m\u001b[0m\u001b[1mt\u001b[22m\u001b[0m\u001b[1mi\u001b[22m\u001b[0m\u001b[1mo\u001b[22m\u001b[0m\u001b[1mn\u001b[22m\u001b[0m\u001b[1m!\u001b[22m \u001b[0m\u001b[1me\u001b[22m\u001b[0m\u001b[1mx\u001b[22m\u001b[0m\u001b[1ma\u001b[22m\u001b[0m\u001b[1mm\u001b[22m\u001b[0m\u001b[1mp\u001b[22m\u001b[0m\u001b[1ml\u001b[22m\u001b[0m\u001b[1me\u001b[22m\u001b[0m\u001b[1mf\u001b[22m\u001b[0m\u001b[1mu\u001b[22m\u001b[0m\u001b[1mn\u001b[22m\u001b[0m\u001b[1mc\u001b[22m\u001b[0m\u001b[1mt\u001b[22m\u001b[0m\u001b[1mi\u001b[22m\u001b[0m\u001b[1mo\u001b[22m\u001b[0m\u001b[1mn\u001b[22m\n",
      "\n"
     ]
    },
    {
     "data": {
      "text/latex": [
       "\\section{examplefunction!(y::Array, x::Int64) -> y}\n",
       "The example function will increment \\textbf{x} by one before pushing \\textbf{x} into the array \\textbf{y}.\n",
       "\n",
       "\\paragraph{Example}\n",
       "\\begin{verbatim}\n",
       "x = 5\n",
       "y = [1, 2, 3, 4, 5]\n",
       "\n",
       "examplefunction!(y, x)\n",
       "\n",
       "println(y)\n",
       "\n",
       "[1, 2, 3, 4, 5, 6]\n",
       "\\end{verbatim}\n",
       "\\rule{\\textwidth}{1pt}\n",
       "\\section{examplefunction!(y::Dict\\{Int64, Int64\\}, x::Int64) -> y}\n",
       "The example function will increment \\textbf{x} by one before pushing \\textbf{x} into \\textbf{y} with the next available key in the dictionary\n",
       "\n",
       "\\paragraph{Example}\n",
       "\\begin{verbatim}\n",
       "x = 5\n",
       "y = Dict(1 => 5, 2 => 6)\n",
       "\n",
       "examplefunction!(y, x)\n",
       "\n",
       "println(y)\n",
       "\n",
       "Dict{Int64, Int64} with 3 entries:\n",
       "  2 => 6\n",
       "  3 => 6\n",
       "  1 => 5\n",
       "\n",
       "\\end{verbatim}\n"
      ],
      "text/markdown": [
       "# examplefunction!(y::Array, x::Int64) -> y\n",
       "\n",
       "The example function will increment **x** by one before pushing **x** into the array **y**.\n",
       "\n",
       "#### Example\n",
       "\n",
       "```\n",
       "x = 5\n",
       "y = [1, 2, 3, 4, 5]\n",
       "\n",
       "examplefunction!(y, x)\n",
       "\n",
       "println(y)\n",
       "\n",
       "[1, 2, 3, 4, 5, 6]\n",
       "```\n",
       "\n",
       "---\n",
       "\n",
       "# examplefunction!(y::Dict{Int64, Int64}, x::Int64) -> y\n",
       "\n",
       "The example function will increment **x** by one before pushing **x** into **y** with the next available key in the dictionary\n",
       "\n",
       "#### Example\n",
       "\n",
       "```\n",
       "x = 5\n",
       "y = Dict(1 => 5, 2 => 6)\n",
       "\n",
       "examplefunction!(y, x)\n",
       "\n",
       "println(y)\n",
       "\n",
       "Dict{Int64, Int64} with 3 entries:\n",
       "  2 => 6\n",
       "  3 => 6\n",
       "  1 => 5\n",
       "\n",
       "```\n"
      ],
      "text/plain": [
       "\u001b[1m  examplefunction!(y::Array, x::Int64) -> y\u001b[22m\n",
       "\u001b[1m  ≡≡≡≡≡≡≡≡≡≡≡≡≡≡≡≡≡≡≡≡≡≡≡≡≡≡≡≡≡≡≡≡≡≡≡≡≡≡≡≡≡≡≡\u001b[22m\n",
       "\n",
       "  The example function will increment \u001b[1mx\u001b[22m by one before pushing \u001b[1mx\u001b[22m into the array\n",
       "  \u001b[1my\u001b[22m.\n",
       "\n",
       "\u001b[1m  Example\u001b[22m\n",
       "\u001b[1m  ---------\u001b[22m\n",
       "\n",
       "\u001b[36m  x = 5\u001b[39m\n",
       "\u001b[36m  y = [1, 2, 3, 4, 5]\u001b[39m\n",
       "\u001b[36m  \u001b[39m\n",
       "\u001b[36m  examplefunction!(y, x)\u001b[39m\n",
       "\u001b[36m  \u001b[39m\n",
       "\u001b[36m  println(y)\u001b[39m\n",
       "\u001b[36m  \u001b[39m\n",
       "\u001b[36m  [1, 2, 3, 4, 5, 6]\u001b[39m\n",
       "\n",
       "  ────────────────────────────────────────────────────────────────────────────\n",
       "\n",
       "\u001b[1m  examplefunction!(y::Dict{Int64, Int64}, x::Int64) -> y\u001b[22m\n",
       "\u001b[1m  ≡≡≡≡≡≡≡≡≡≡≡≡≡≡≡≡≡≡≡≡≡≡≡≡≡≡≡≡≡≡≡≡≡≡≡≡≡≡≡≡≡≡≡≡≡≡≡≡≡≡≡≡≡≡≡≡\u001b[22m\n",
       "\n",
       "  The example function will increment \u001b[1mx\u001b[22m by one before pushing \u001b[1mx\u001b[22m into \u001b[1my\u001b[22m with\n",
       "  the next available key in the dictionary\n",
       "\n",
       "\u001b[1m  Example\u001b[22m\n",
       "\u001b[1m  ---------\u001b[22m\n",
       "\n",
       "\u001b[36m  x = 5\u001b[39m\n",
       "\u001b[36m  y = Dict(1 => 5, 2 => 6)\u001b[39m\n",
       "\u001b[36m  \u001b[39m\n",
       "\u001b[36m  examplefunction!(y, x)\u001b[39m\n",
       "\u001b[36m  \u001b[39m\n",
       "\u001b[36m  println(y)\u001b[39m\n",
       "\u001b[36m  \u001b[39m\n",
       "\u001b[36m  Dict{Int64, Int64} with 3 entries:\u001b[39m\n",
       "\u001b[36m    2 => 6\u001b[39m\n",
       "\u001b[36m    3 => 6\u001b[39m\n",
       "\u001b[36m    1 => 5\u001b[39m\n",
       "\u001b[36m  \u001b[39m"
      ]
     },
     "execution_count": 55,
     "metadata": {},
     "output_type": "execute_result"
    }
   ],
   "source": [
    "?(examplefunction!)"
   ]
  },
  {
   "cell_type": "code",
   "execution_count": 56,
   "metadata": {},
   "outputs": [
    {
     "data": {
      "text/plain": [
       "examplefunction! (generic function with 3 methods)"
      ]
     },
     "execution_count": 56,
     "metadata": {},
     "output_type": "execute_result"
    }
   ],
   "source": [
    "function examplefunction!(y::Dict{Int64, Int64}, x::Int64)\n",
    "   x += 1\n",
    "    key = maximum(keys(y)) + 1\n",
    "    push!(y, key => x)\n",
    "end"
   ]
  },
  {
   "cell_type": "code",
   "execution_count": 57,
   "metadata": {},
   "outputs": [
    {
     "data": {
      "text/plain": [
       "Dict{Int64, Int64} with 3 entries:\n",
       "  2 => 6\n",
       "  3 => 6\n",
       "  1 => 5"
      ]
     },
     "execution_count": 57,
     "metadata": {},
     "output_type": "execute_result"
    }
   ],
   "source": [
    "examplefunction!(Dict(1 => 5, 2 => 6), 5)"
   ]
  },
  {
   "cell_type": "code",
   "execution_count": 58,
   "metadata": {},
   "outputs": [
    {
     "data": {
      "text/plain": [
       "examplefunction!"
      ]
     },
     "execution_count": 58,
     "metadata": {},
     "output_type": "execute_result"
    }
   ],
   "source": [
    "\"\"\"\n",
    "# examplefunction!(y::Dict{Int64, Int64}, x::Int64) -> y\n",
    "The example function will increment **x** by one before pushing **x** into **y**\n",
    "with the next available key in the dictionary\n",
    "#### Example\n",
    "```\n",
    "x = 5\n",
    "y = Dict(1 => 5, 2 => 6)\n",
    "\n",
    "examplefunction!(y, x)\n",
    "\n",
    "println(y)\n",
    "\n",
    "Dict{Int64, Int64} with 3 entries:\n",
    "  2 => 6\n",
    "  3 => 6\n",
    "  1 => 5\n",
    "\n",
    "```\n",
    "\"\"\"\n",
    "function examplefunction!(y::Dict{Int64, Int64}, x::Int64)\n",
    "   x += 1\n",
    "    key = maximum(keys(y)) + 1\n",
    "    push!(y, key => x)\n",
    "end"
   ]
  },
  {
   "cell_type": "code",
   "execution_count": 59,
   "metadata": {},
   "outputs": [
    {
     "name": "stdout",
     "output_type": "stream",
     "text": [
      "search: \u001b[0m\u001b[1me\u001b[22m\u001b[0m\u001b[1mx\u001b[22m\u001b[0m\u001b[1ma\u001b[22m\u001b[0m\u001b[1mm\u001b[22m\u001b[0m\u001b[1mp\u001b[22m\u001b[0m\u001b[1ml\u001b[22m\u001b[0m\u001b[1me\u001b[22m\u001b[0m\u001b[1mf\u001b[22m\u001b[0m\u001b[1mu\u001b[22m\u001b[0m\u001b[1mn\u001b[22m\u001b[0m\u001b[1mc\u001b[22m\u001b[0m\u001b[1mt\u001b[22m\u001b[0m\u001b[1mi\u001b[22m\u001b[0m\u001b[1mo\u001b[22m\u001b[0m\u001b[1mn\u001b[22m\u001b[0m\u001b[1m!\u001b[22m \u001b[0m\u001b[1me\u001b[22m\u001b[0m\u001b[1mx\u001b[22m\u001b[0m\u001b[1ma\u001b[22m\u001b[0m\u001b[1mm\u001b[22m\u001b[0m\u001b[1mp\u001b[22m\u001b[0m\u001b[1ml\u001b[22m\u001b[0m\u001b[1me\u001b[22m\u001b[0m\u001b[1mf\u001b[22m\u001b[0m\u001b[1mu\u001b[22m\u001b[0m\u001b[1mn\u001b[22m\u001b[0m\u001b[1mc\u001b[22m\u001b[0m\u001b[1mt\u001b[22m\u001b[0m\u001b[1mi\u001b[22m\u001b[0m\u001b[1mo\u001b[22m\u001b[0m\u001b[1mn\u001b[22m\n",
      "\n"
     ]
    },
    {
     "data": {
      "text/latex": [
       "\\section{examplefunction!(y::Array, x::Int64) -> y}\n",
       "The example function will increment \\textbf{x} by one before pushing \\textbf{x} into the array \\textbf{y}.\n",
       "\n",
       "\\paragraph{Example}\n",
       "\\begin{verbatim}\n",
       "x = 5\n",
       "y = [1, 2, 3, 4, 5]\n",
       "\n",
       "examplefunction!(y, x)\n",
       "\n",
       "println(y)\n",
       "\n",
       "[1, 2, 3, 4, 5, 6]\n",
       "\\end{verbatim}\n",
       "\\rule{\\textwidth}{1pt}\n",
       "\\section{examplefunction!(y::Dict\\{Int64, Int64\\}, x::Int64) -> y}\n",
       "The example function will increment \\textbf{x} by one before pushing \\textbf{x} into \\textbf{y} with the next available key in the dictionary\n",
       "\n",
       "\\paragraph{Example}\n",
       "\\begin{verbatim}\n",
       "x = 5\n",
       "y = Dict(1 => 5, 2 => 6)\n",
       "\n",
       "examplefunction!(y, x)\n",
       "\n",
       "println(y)\n",
       "\n",
       "Dict{Int64, Int64} with 3 entries:\n",
       "  2 => 6\n",
       "  3 => 6\n",
       "  1 => 5\n",
       "\n",
       "\\end{verbatim}\n"
      ],
      "text/markdown": [
       "# examplefunction!(y::Array, x::Int64) -> y\n",
       "\n",
       "The example function will increment **x** by one before pushing **x** into the array **y**.\n",
       "\n",
       "#### Example\n",
       "\n",
       "```\n",
       "x = 5\n",
       "y = [1, 2, 3, 4, 5]\n",
       "\n",
       "examplefunction!(y, x)\n",
       "\n",
       "println(y)\n",
       "\n",
       "[1, 2, 3, 4, 5, 6]\n",
       "```\n",
       "\n",
       "---\n",
       "\n",
       "# examplefunction!(y::Dict{Int64, Int64}, x::Int64) -> y\n",
       "\n",
       "The example function will increment **x** by one before pushing **x** into **y** with the next available key in the dictionary\n",
       "\n",
       "#### Example\n",
       "\n",
       "```\n",
       "x = 5\n",
       "y = Dict(1 => 5, 2 => 6)\n",
       "\n",
       "examplefunction!(y, x)\n",
       "\n",
       "println(y)\n",
       "\n",
       "Dict{Int64, Int64} with 3 entries:\n",
       "  2 => 6\n",
       "  3 => 6\n",
       "  1 => 5\n",
       "\n",
       "```\n"
      ],
      "text/plain": [
       "\u001b[1m  examplefunction!(y::Array, x::Int64) -> y\u001b[22m\n",
       "\u001b[1m  ≡≡≡≡≡≡≡≡≡≡≡≡≡≡≡≡≡≡≡≡≡≡≡≡≡≡≡≡≡≡≡≡≡≡≡≡≡≡≡≡≡≡≡\u001b[22m\n",
       "\n",
       "  The example function will increment \u001b[1mx\u001b[22m by one before pushing \u001b[1mx\u001b[22m into the array\n",
       "  \u001b[1my\u001b[22m.\n",
       "\n",
       "\u001b[1m  Example\u001b[22m\n",
       "\u001b[1m  ---------\u001b[22m\n",
       "\n",
       "\u001b[36m  x = 5\u001b[39m\n",
       "\u001b[36m  y = [1, 2, 3, 4, 5]\u001b[39m\n",
       "\u001b[36m  \u001b[39m\n",
       "\u001b[36m  examplefunction!(y, x)\u001b[39m\n",
       "\u001b[36m  \u001b[39m\n",
       "\u001b[36m  println(y)\u001b[39m\n",
       "\u001b[36m  \u001b[39m\n",
       "\u001b[36m  [1, 2, 3, 4, 5, 6]\u001b[39m\n",
       "\n",
       "  ────────────────────────────────────────────────────────────────────────────\n",
       "\n",
       "\u001b[1m  examplefunction!(y::Dict{Int64, Int64}, x::Int64) -> y\u001b[22m\n",
       "\u001b[1m  ≡≡≡≡≡≡≡≡≡≡≡≡≡≡≡≡≡≡≡≡≡≡≡≡≡≡≡≡≡≡≡≡≡≡≡≡≡≡≡≡≡≡≡≡≡≡≡≡≡≡≡≡≡≡≡≡\u001b[22m\n",
       "\n",
       "  The example function will increment \u001b[1mx\u001b[22m by one before pushing \u001b[1mx\u001b[22m into \u001b[1my\u001b[22m with\n",
       "  the next available key in the dictionary\n",
       "\n",
       "\u001b[1m  Example\u001b[22m\n",
       "\u001b[1m  ---------\u001b[22m\n",
       "\n",
       "\u001b[36m  x = 5\u001b[39m\n",
       "\u001b[36m  y = Dict(1 => 5, 2 => 6)\u001b[39m\n",
       "\u001b[36m  \u001b[39m\n",
       "\u001b[36m  examplefunction!(y, x)\u001b[39m\n",
       "\u001b[36m  \u001b[39m\n",
       "\u001b[36m  println(y)\u001b[39m\n",
       "\u001b[36m  \u001b[39m\n",
       "\u001b[36m  Dict{Int64, Int64} with 3 entries:\u001b[39m\n",
       "\u001b[36m    2 => 6\u001b[39m\n",
       "\u001b[36m    3 => 6\u001b[39m\n",
       "\u001b[36m    1 => 5\u001b[39m\n",
       "\u001b[36m  \u001b[39m"
      ]
     },
     "execution_count": 59,
     "metadata": {},
     "output_type": "execute_result"
    }
   ],
   "source": [
    "?(examplefunction!)"
   ]
  },
  {
   "cell_type": "code",
   "execution_count": 62,
   "metadata": {},
   "outputs": [],
   "source": [
    "using Base.Docs: @doc"
   ]
  },
  {
   "cell_type": "code",
   "execution_count": 63,
   "metadata": {},
   "outputs": [
    {
     "data": {
      "text/latex": [
       "\\section{Documentation}\n",
       "Functions, methods and types can be documented by placing a string before the definition:\n",
       "\n",
       "\\begin{verbatim}\n",
       "\"\"\"\n",
       "# The Foo Function\n",
       "`foo(x)`: Foo the living hell out of `x`.\n",
       "\"\"\"\n",
       "foo(x) = ...\n",
       "\\end{verbatim}\n",
       "The \\texttt{@doc} macro can be used directly to both set and retrieve documentation / metadata. The macro has special parsing so that the documented object may occur on the next line:\n",
       "\n",
       "\\begin{verbatim}\n",
       "@doc \"blah\"\n",
       "function foo() ...\n",
       "\\end{verbatim}\n",
       "By default, documentation is written as Markdown, but any object can be used as the first argument.\n",
       "\n",
       "\\subsection{Documenting objects after they are defined}\n",
       "You can document an object after its definition by\n",
       "\n",
       "\\begin{verbatim}\n",
       "@doc \"foo\" function_to_doc\n",
       "@doc \"bar\" TypeToDoc\n",
       "\\end{verbatim}\n",
       "For macros, the syntax is \\texttt{@doc \"macro doc\" :(@Module.macro)} or \\texttt{@doc \"macro doc\" :(string\\_macro\"\")} for string macros. Without the quote \\texttt{:()} the expansion of the macro will be documented.\n",
       "\n",
       "\\subsection{Retrieving Documentation}\n",
       "You can retrieve docs for functions, macros and other objects as follows:\n",
       "\n",
       "\\begin{verbatim}\n",
       "@doc foo\n",
       "@doc @time\n",
       "@doc md\"\"\n",
       "\\end{verbatim}\n",
       "\\subsection{Functions \\& Methods}\n",
       "Placing documentation before a method definition (e.g. \\texttt{function foo() ...} or \\texttt{foo() = ...}) will cause that specific method to be documented, as opposed to the whole function. Method docs are concatenated together in the order they were defined to provide docs for the function.\n",
       "\n"
      ],
      "text/markdown": [
       "# Documentation\n",
       "\n",
       "Functions, methods and types can be documented by placing a string before the definition:\n",
       "\n",
       "```\n",
       "\"\"\"\n",
       "# The Foo Function\n",
       "`foo(x)`: Foo the living hell out of `x`.\n",
       "\"\"\"\n",
       "foo(x) = ...\n",
       "```\n",
       "\n",
       "The `@doc` macro can be used directly to both set and retrieve documentation / metadata. The macro has special parsing so that the documented object may occur on the next line:\n",
       "\n",
       "```\n",
       "@doc \"blah\"\n",
       "function foo() ...\n",
       "```\n",
       "\n",
       "By default, documentation is written as Markdown, but any object can be used as the first argument.\n",
       "\n",
       "## Documenting objects after they are defined\n",
       "\n",
       "You can document an object after its definition by\n",
       "\n",
       "```\n",
       "@doc \"foo\" function_to_doc\n",
       "@doc \"bar\" TypeToDoc\n",
       "```\n",
       "\n",
       "For macros, the syntax is `@doc \"macro doc\" :(@Module.macro)` or `@doc \"macro doc\" :(string_macro\"\")` for string macros. Without the quote `:()` the expansion of the macro will be documented.\n",
       "\n",
       "## Retrieving Documentation\n",
       "\n",
       "You can retrieve docs for functions, macros and other objects as follows:\n",
       "\n",
       "```\n",
       "@doc foo\n",
       "@doc @time\n",
       "@doc md\"\"\n",
       "```\n",
       "\n",
       "## Functions & Methods\n",
       "\n",
       "Placing documentation before a method definition (e.g. `function foo() ...` or `foo() = ...`) will cause that specific method to be documented, as opposed to the whole function. Method docs are concatenated together in the order they were defined to provide docs for the function.\n"
      ],
      "text/plain": [
       "\u001b[1m  Documentation\u001b[22m\n",
       "\u001b[1m  ≡≡≡≡≡≡≡≡≡≡≡≡≡≡≡\u001b[22m\n",
       "\n",
       "  Functions, methods and types can be documented by placing a string before\n",
       "  the definition:\n",
       "\n",
       "\u001b[36m  \"\"\"\u001b[39m\n",
       "\u001b[36m  # The Foo Function\u001b[39m\n",
       "\u001b[36m  `foo(x)`: Foo the living hell out of `x`.\u001b[39m\n",
       "\u001b[36m  \"\"\"\u001b[39m\n",
       "\u001b[36m  foo(x) = ...\u001b[39m\n",
       "\n",
       "  The \u001b[36m@doc\u001b[39m macro can be used directly to both set and retrieve documentation /\n",
       "  metadata. The macro has special parsing so that the documented object may\n",
       "  occur on the next line:\n",
       "\n",
       "\u001b[36m  @doc \"blah\"\u001b[39m\n",
       "\u001b[36m  function foo() ...\u001b[39m\n",
       "\n",
       "  By default, documentation is written as Markdown, but any object can be used\n",
       "  as the first argument.\n",
       "\n",
       "\u001b[1m  Documenting objects after they are defined\u001b[22m\n",
       "\u001b[1m  ============================================\u001b[22m\n",
       "\n",
       "  You can document an object after its definition by\n",
       "\n",
       "\u001b[36m  @doc \"foo\" function_to_doc\u001b[39m\n",
       "\u001b[36m  @doc \"bar\" TypeToDoc\u001b[39m\n",
       "\n",
       "  For macros, the syntax is \u001b[36m@doc \"macro doc\" :(@Module.macro)\u001b[39m or \u001b[36m@doc \"macro\n",
       "  doc\" :(string_macro\"\")\u001b[39m for string macros. Without the quote \u001b[36m:()\u001b[39m the\n",
       "  expansion of the macro will be documented.\n",
       "\n",
       "\u001b[1m  Retrieving Documentation\u001b[22m\n",
       "\u001b[1m  ==========================\u001b[22m\n",
       "\n",
       "  You can retrieve docs for functions, macros and other objects as follows:\n",
       "\n",
       "\u001b[36m  @doc foo\u001b[39m\n",
       "\u001b[36m  @doc @time\u001b[39m\n",
       "\u001b[36m  @doc md\"\"\u001b[39m\n",
       "\n",
       "\u001b[1m  Functions & Methods\u001b[22m\n",
       "\u001b[1m  =====================\u001b[22m\n",
       "\n",
       "  Placing documentation before a method definition (e.g. \u001b[36mfunction foo() ...\u001b[39m or\n",
       "  \u001b[36mfoo() = ...\u001b[39m) will cause that specific method to be documented, as opposed to\n",
       "  the whole function. Method docs are concatenated together in the order they\n",
       "  were defined to provide docs for the function."
      ]
     },
     "execution_count": 63,
     "metadata": {},
     "output_type": "execute_result"
    }
   ],
   "source": [
    "?(@doc)"
   ]
  },
  {
   "cell_type": "code",
   "execution_count": 64,
   "metadata": {},
   "outputs": [
    {
     "name": "stdout",
     "output_type": "stream",
     "text": [
      "search:\n",
      "\n",
      "Couldn't find \u001b[36m(?)\u001b[39m\n",
      "Perhaps you meant (), (, ?, ), ?:, In, Out, ans, doc, !, !=, !==, %, &, ' or *\n"
     ]
    },
    {
     "data": {
      "text/latex": [
       "No documentation found.\n",
       "\n",
       "Binding \\texttt{(?)} does not exist.\n",
       "\n"
      ],
      "text/markdown": [
       "No documentation found.\n",
       "\n",
       "Binding `(?)` does not exist.\n"
      ],
      "text/plain": [
       "  No documentation found.\n",
       "\n",
       "  Binding \u001b[36m(?)\u001b[39m does not exist."
      ]
     },
     "execution_count": 64,
     "metadata": {},
     "output_type": "execute_result"
    }
   ],
   "source": [
    "?(?)"
   ]
  },
  {
   "cell_type": "code",
   "execution_count": 65,
   "metadata": {},
   "outputs": [
    {
     "data": {
      "text/plain": [
       "examplefunction!"
      ]
     },
     "execution_count": 65,
     "metadata": {},
     "output_type": "execute_result"
    }
   ],
   "source": [
    "@doc \"I'm not writing any more than this.\" examplefunction!(::Array, ::Int64)"
   ]
  },
  {
   "cell_type": "code",
   "execution_count": null,
   "metadata": {},
   "outputs": [],
   "source": []
  }
 ],
 "metadata": {
  "kernelspec": {
   "display_name": "Julia 1.6.3",
   "language": "julia",
   "name": "julia-1.6"
  },
  "language_info": {
   "file_extension": ".jl",
   "mimetype": "application/julia",
   "name": "julia",
   "version": "1.7.1"
  }
 },
 "nbformat": 4,
 "nbformat_minor": 4
}
