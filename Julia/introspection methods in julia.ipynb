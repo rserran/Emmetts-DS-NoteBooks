{
 "cells": [
  {
   "cell_type": "code",
   "execution_count": 6,
   "id": "a94d1f7a",
   "metadata": {},
   "outputs": [
    {
     "data": {
      "text/plain": [
       "Main"
      ]
     },
     "execution_count": 6,
     "metadata": {},
     "output_type": "execute_result"
    }
   ],
   "source": [
    "Main"
   ]
  },
  {
   "cell_type": "code",
   "execution_count": 7,
   "id": "c771a1f3",
   "metadata": {},
   "outputs": [
    {
     "data": {
      "text/plain": [
       "5"
      ]
     },
     "execution_count": 7,
     "metadata": {},
     "output_type": "execute_result"
    }
   ],
   "source": [
    "xz = 5"
   ]
  },
  {
   "cell_type": "code",
   "execution_count": 8,
   "id": "0cad07a6",
   "metadata": {},
   "outputs": [
    {
     "data": {
      "text/plain": [
       "5"
      ]
     },
     "execution_count": 8,
     "metadata": {},
     "output_type": "execute_result"
    }
   ],
   "source": [
    "Main.xz"
   ]
  },
  {
   "cell_type": "code",
   "execution_count": 1,
   "id": "195596db",
   "metadata": {},
   "outputs": [
    {
     "data": {
      "text/latex": [
       "\\begin{verbatim}\n",
       "readdir(dir::AbstractString=pwd();\n",
       "    join::Bool = false,\n",
       "    sort::Bool = true,\n",
       ") -> Vector{String}\n",
       "\\end{verbatim}\n",
       "Return the names in the directory \\texttt{dir} or the current working directory if not given. When \\texttt{join} is false, \\texttt{readdir} returns just the names in the directory as is; when \\texttt{join} is true, it returns \\texttt{joinpath(dir, name)} for each \\texttt{name} so that the returned strings are full paths. If you want to get absolute paths back, call \\texttt{readdir} with an absolute directory path and \\texttt{join} set to true.\n",
       "\n",
       "By default, \\texttt{readdir} sorts the list of names it returns. If you want to skip sorting the names and get them in the order that the file system lists them, you can use \\texttt{readdir(dir, sort=false)} to opt out of sorting.\n",
       "\n",
       "See also: \\href{@ref}{\\texttt{walkdir}}.\n",
       "\n",
       "\\begin{quote}\n",
       "\\textbf{compat}\n",
       "\n",
       "Julia 1.4\n",
       "\n",
       "The \\texttt{join} and \\texttt{sort} keyword arguments require at least Julia 1.4.\n",
       "\n",
       "\\end{quote}\n",
       "\\section{Examples}\n",
       "\\begin{verbatim}\n",
       "julia> cd(\"/home/JuliaUser/dev/julia\")\n",
       "\n",
       "julia> readdir()\n",
       "30-element Array{String,1}:\n",
       " \".appveyor.yml\"\n",
       " \".git\"\n",
       " \".gitattributes\"\n",
       " ⋮\n",
       " \"ui\"\n",
       " \"usr\"\n",
       " \"usr-staging\"\n",
       "\n",
       "julia> readdir(join=true)\n",
       "30-element Array{String,1}:\n",
       " \"/home/JuliaUser/dev/julia/.appveyor.yml\"\n",
       " \"/home/JuliaUser/dev/julia/.git\"\n",
       " \"/home/JuliaUser/dev/julia/.gitattributes\"\n",
       " ⋮\n",
       " \"/home/JuliaUser/dev/julia/ui\"\n",
       " \"/home/JuliaUser/dev/julia/usr\"\n",
       " \"/home/JuliaUser/dev/julia/usr-staging\"\n",
       "\n",
       "julia> readdir(\"base\")\n",
       "145-element Array{String,1}:\n",
       " \".gitignore\"\n",
       " \"Base.jl\"\n",
       " \"Enums.jl\"\n",
       " ⋮\n",
       " \"version_git.sh\"\n",
       " \"views.jl\"\n",
       " \"weakkeydict.jl\"\n",
       "\n",
       "julia> readdir(\"base\", join=true)\n",
       "145-element Array{String,1}:\n",
       " \"base/.gitignore\"\n",
       " \"base/Base.jl\"\n",
       " \"base/Enums.jl\"\n",
       " ⋮\n",
       " \"base/version_git.sh\"\n",
       " \"base/views.jl\"\n",
       " \"base/weakkeydict.jl\"```\n",
       "\n",
       "julia> readdir(abspath(\"base\"), join=true)\n",
       "145-element Array{String,1}:\n",
       " \"/home/JuliaUser/dev/julia/base/.gitignore\"\n",
       " \"/home/JuliaUser/dev/julia/base/Base.jl\"\n",
       " \"/home/JuliaUser/dev/julia/base/Enums.jl\"\n",
       " ⋮\n",
       " \"/home/JuliaUser/dev/julia/base/version_git.sh\"\n",
       " \"/home/JuliaUser/dev/julia/base/views.jl\"\n",
       " \"/home/JuliaUser/dev/julia/base/weakkeydict.jl\"\n",
       "\\end{verbatim}\n"
      ],
      "text/markdown": [
       "```\n",
       "readdir(dir::AbstractString=pwd();\n",
       "    join::Bool = false,\n",
       "    sort::Bool = true,\n",
       ") -> Vector{String}\n",
       "```\n",
       "\n",
       "Return the names in the directory `dir` or the current working directory if not given. When `join` is false, `readdir` returns just the names in the directory as is; when `join` is true, it returns `joinpath(dir, name)` for each `name` so that the returned strings are full paths. If you want to get absolute paths back, call `readdir` with an absolute directory path and `join` set to true.\n",
       "\n",
       "By default, `readdir` sorts the list of names it returns. If you want to skip sorting the names and get them in the order that the file system lists them, you can use `readdir(dir, sort=false)` to opt out of sorting.\n",
       "\n",
       "See also: [`walkdir`](@ref).\n",
       "\n",
       "!!! compat \"Julia 1.4\"\n",
       "    The `join` and `sort` keyword arguments require at least Julia 1.4.\n",
       "\n",
       "\n",
       "# Examples\n",
       "\n",
       "```julia-repl\n",
       "julia> cd(\"/home/JuliaUser/dev/julia\")\n",
       "\n",
       "julia> readdir()\n",
       "30-element Array{String,1}:\n",
       " \".appveyor.yml\"\n",
       " \".git\"\n",
       " \".gitattributes\"\n",
       " ⋮\n",
       " \"ui\"\n",
       " \"usr\"\n",
       " \"usr-staging\"\n",
       "\n",
       "julia> readdir(join=true)\n",
       "30-element Array{String,1}:\n",
       " \"/home/JuliaUser/dev/julia/.appveyor.yml\"\n",
       " \"/home/JuliaUser/dev/julia/.git\"\n",
       " \"/home/JuliaUser/dev/julia/.gitattributes\"\n",
       " ⋮\n",
       " \"/home/JuliaUser/dev/julia/ui\"\n",
       " \"/home/JuliaUser/dev/julia/usr\"\n",
       " \"/home/JuliaUser/dev/julia/usr-staging\"\n",
       "\n",
       "julia> readdir(\"base\")\n",
       "145-element Array{String,1}:\n",
       " \".gitignore\"\n",
       " \"Base.jl\"\n",
       " \"Enums.jl\"\n",
       " ⋮\n",
       " \"version_git.sh\"\n",
       " \"views.jl\"\n",
       " \"weakkeydict.jl\"\n",
       "\n",
       "julia> readdir(\"base\", join=true)\n",
       "145-element Array{String,1}:\n",
       " \"base/.gitignore\"\n",
       " \"base/Base.jl\"\n",
       " \"base/Enums.jl\"\n",
       " ⋮\n",
       " \"base/version_git.sh\"\n",
       " \"base/views.jl\"\n",
       " \"base/weakkeydict.jl\"```\n",
       "\n",
       "julia> readdir(abspath(\"base\"), join=true)\n",
       "145-element Array{String,1}:\n",
       " \"/home/JuliaUser/dev/julia/base/.gitignore\"\n",
       " \"/home/JuliaUser/dev/julia/base/Base.jl\"\n",
       " \"/home/JuliaUser/dev/julia/base/Enums.jl\"\n",
       " ⋮\n",
       " \"/home/JuliaUser/dev/julia/base/version_git.sh\"\n",
       " \"/home/JuliaUser/dev/julia/base/views.jl\"\n",
       " \"/home/JuliaUser/dev/julia/base/weakkeydict.jl\"\n",
       "```\n"
      ],
      "text/plain": [
       "\u001b[36m  readdir(dir::AbstractString=pwd();\u001b[39m\n",
       "\u001b[36m      join::Bool = false,\u001b[39m\n",
       "\u001b[36m      sort::Bool = true,\u001b[39m\n",
       "\u001b[36m  ) -> Vector{String}\u001b[39m\n",
       "\n",
       "  Return the names in the directory \u001b[36mdir\u001b[39m or the current working directory if\n",
       "  not given. When \u001b[36mjoin\u001b[39m is false, \u001b[36mreaddir\u001b[39m returns just the names in the\n",
       "  directory as is; when \u001b[36mjoin\u001b[39m is true, it returns \u001b[36mjoinpath(dir, name)\u001b[39m for each\n",
       "  \u001b[36mname\u001b[39m so that the returned strings are full paths. If you want to get\n",
       "  absolute paths back, call \u001b[36mreaddir\u001b[39m with an absolute directory path and \u001b[36mjoin\u001b[39m\n",
       "  set to true.\n",
       "\n",
       "  By default, \u001b[36mreaddir\u001b[39m sorts the list of names it returns. If you want to skip\n",
       "  sorting the names and get them in the order that the file system lists them,\n",
       "  you can use \u001b[36mreaddir(dir, sort=false)\u001b[39m to opt out of sorting.\n",
       "\n",
       "  See also: \u001b[36mwalkdir\u001b[39m.\n",
       "\n",
       "\u001b[39m\u001b[1m  │ \u001b[22m\u001b[39m\u001b[1mJulia 1.4\u001b[22m\n",
       "\u001b[39m\u001b[1m  │\u001b[22m\n",
       "\u001b[39m\u001b[1m  │\u001b[22m  The \u001b[36mjoin\u001b[39m and \u001b[36msort\u001b[39m keyword arguments require at least Julia 1.4.\n",
       "\n",
       "\u001b[1m  Examples\u001b[22m\n",
       "\u001b[1m  ≡≡≡≡≡≡≡≡≡≡\u001b[22m\n",
       "\n",
       "\u001b[36m  julia> cd(\"/home/JuliaUser/dev/julia\")\u001b[39m\n",
       "\u001b[36m  \u001b[39m\n",
       "\u001b[36m  julia> readdir()\u001b[39m\n",
       "\u001b[36m  30-element Array{String,1}:\u001b[39m\n",
       "\u001b[36m   \".appveyor.yml\"\u001b[39m\n",
       "\u001b[36m   \".git\"\u001b[39m\n",
       "\u001b[36m   \".gitattributes\"\u001b[39m\n",
       "\u001b[36m   ⋮\u001b[39m\n",
       "\u001b[36m   \"ui\"\u001b[39m\n",
       "\u001b[36m   \"usr\"\u001b[39m\n",
       "\u001b[36m   \"usr-staging\"\u001b[39m\n",
       "\u001b[36m  \u001b[39m\n",
       "\u001b[36m  julia> readdir(join=true)\u001b[39m\n",
       "\u001b[36m  30-element Array{String,1}:\u001b[39m\n",
       "\u001b[36m   \"/home/JuliaUser/dev/julia/.appveyor.yml\"\u001b[39m\n",
       "\u001b[36m   \"/home/JuliaUser/dev/julia/.git\"\u001b[39m\n",
       "\u001b[36m   \"/home/JuliaUser/dev/julia/.gitattributes\"\u001b[39m\n",
       "\u001b[36m   ⋮\u001b[39m\n",
       "\u001b[36m   \"/home/JuliaUser/dev/julia/ui\"\u001b[39m\n",
       "\u001b[36m   \"/home/JuliaUser/dev/julia/usr\"\u001b[39m\n",
       "\u001b[36m   \"/home/JuliaUser/dev/julia/usr-staging\"\u001b[39m\n",
       "\u001b[36m  \u001b[39m\n",
       "\u001b[36m  julia> readdir(\"base\")\u001b[39m\n",
       "\u001b[36m  145-element Array{String,1}:\u001b[39m\n",
       "\u001b[36m   \".gitignore\"\u001b[39m\n",
       "\u001b[36m   \"Base.jl\"\u001b[39m\n",
       "\u001b[36m   \"Enums.jl\"\u001b[39m\n",
       "\u001b[36m   ⋮\u001b[39m\n",
       "\u001b[36m   \"version_git.sh\"\u001b[39m\n",
       "\u001b[36m   \"views.jl\"\u001b[39m\n",
       "\u001b[36m   \"weakkeydict.jl\"\u001b[39m\n",
       "\u001b[36m  \u001b[39m\n",
       "\u001b[36m  julia> readdir(\"base\", join=true)\u001b[39m\n",
       "\u001b[36m  145-element Array{String,1}:\u001b[39m\n",
       "\u001b[36m   \"base/.gitignore\"\u001b[39m\n",
       "\u001b[36m   \"base/Base.jl\"\u001b[39m\n",
       "\u001b[36m   \"base/Enums.jl\"\u001b[39m\n",
       "\u001b[36m   ⋮\u001b[39m\n",
       "\u001b[36m   \"base/version_git.sh\"\u001b[39m\n",
       "\u001b[36m   \"base/views.jl\"\u001b[39m\n",
       "\u001b[36m   \"base/weakkeydict.jl\"```\u001b[39m\n",
       "\u001b[36m  \u001b[39m\n",
       "\u001b[36m  julia> readdir(abspath(\"base\"), join=true)\u001b[39m\n",
       "\u001b[36m  145-element Array{String,1}:\u001b[39m\n",
       "\u001b[36m   \"/home/JuliaUser/dev/julia/base/.gitignore\"\u001b[39m\n",
       "\u001b[36m   \"/home/JuliaUser/dev/julia/base/Base.jl\"\u001b[39m\n",
       "\u001b[36m   \"/home/JuliaUser/dev/julia/base/Enums.jl\"\u001b[39m\n",
       "\u001b[36m   ⋮\u001b[39m\n",
       "\u001b[36m   \"/home/JuliaUser/dev/julia/base/version_git.sh\"\u001b[39m\n",
       "\u001b[36m   \"/home/JuliaUser/dev/julia/base/views.jl\"\u001b[39m\n",
       "\u001b[36m   \"/home/JuliaUser/dev/julia/base/weakkeydict.jl\"\u001b[39m"
      ]
     },
     "execution_count": 1,
     "metadata": {},
     "output_type": "execute_result"
    }
   ],
   "source": [
    "@doc readdir"
   ]
  },
  {
   "cell_type": "code",
   "execution_count": 2,
   "id": "b9bd7220",
   "metadata": {},
   "outputs": [
    {
     "data": {
      "text/latex": [
       "\\begin{verbatim}\n",
       "readdir(dir::AbstractString=pwd();\n",
       "    join::Bool = false,\n",
       "    sort::Bool = true,\n",
       ") -> Vector{String}\n",
       "\\end{verbatim}\n",
       "Return the names in the directory \\texttt{dir} or the current working directory if not given. When \\texttt{join} is false, \\texttt{readdir} returns just the names in the directory as is; when \\texttt{join} is true, it returns \\texttt{joinpath(dir, name)} for each \\texttt{name} so that the returned strings are full paths. If you want to get absolute paths back, call \\texttt{readdir} with an absolute directory path and \\texttt{join} set to true.\n",
       "\n",
       "By default, \\texttt{readdir} sorts the list of names it returns. If you want to skip sorting the names and get them in the order that the file system lists them, you can use \\texttt{readdir(dir, sort=false)} to opt out of sorting.\n",
       "\n",
       "See also: \\href{@ref}{\\texttt{walkdir}}.\n",
       "\n",
       "\\begin{quote}\n",
       "\\textbf{compat}\n",
       "\n",
       "Julia 1.4\n",
       "\n",
       "The \\texttt{join} and \\texttt{sort} keyword arguments require at least Julia 1.4.\n",
       "\n",
       "\\end{quote}\n",
       "\\section{Examples}\n",
       "\\begin{verbatim}\n",
       "julia> cd(\"/home/JuliaUser/dev/julia\")\n",
       "\n",
       "julia> readdir()\n",
       "30-element Array{String,1}:\n",
       " \".appveyor.yml\"\n",
       " \".git\"\n",
       " \".gitattributes\"\n",
       " ⋮\n",
       " \"ui\"\n",
       " \"usr\"\n",
       " \"usr-staging\"\n",
       "\n",
       "julia> readdir(join=true)\n",
       "30-element Array{String,1}:\n",
       " \"/home/JuliaUser/dev/julia/.appveyor.yml\"\n",
       " \"/home/JuliaUser/dev/julia/.git\"\n",
       " \"/home/JuliaUser/dev/julia/.gitattributes\"\n",
       " ⋮\n",
       " \"/home/JuliaUser/dev/julia/ui\"\n",
       " \"/home/JuliaUser/dev/julia/usr\"\n",
       " \"/home/JuliaUser/dev/julia/usr-staging\"\n",
       "\n",
       "julia> readdir(\"base\")\n",
       "145-element Array{String,1}:\n",
       " \".gitignore\"\n",
       " \"Base.jl\"\n",
       " \"Enums.jl\"\n",
       " ⋮\n",
       " \"version_git.sh\"\n",
       " \"views.jl\"\n",
       " \"weakkeydict.jl\"\n",
       "\n",
       "julia> readdir(\"base\", join=true)\n",
       "145-element Array{String,1}:\n",
       " \"base/.gitignore\"\n",
       " \"base/Base.jl\"\n",
       " \"base/Enums.jl\"\n",
       " ⋮\n",
       " \"base/version_git.sh\"\n",
       " \"base/views.jl\"\n",
       " \"base/weakkeydict.jl\"```\n",
       "\n",
       "julia> readdir(abspath(\"base\"), join=true)\n",
       "145-element Array{String,1}:\n",
       " \"/home/JuliaUser/dev/julia/base/.gitignore\"\n",
       " \"/home/JuliaUser/dev/julia/base/Base.jl\"\n",
       " \"/home/JuliaUser/dev/julia/base/Enums.jl\"\n",
       " ⋮\n",
       " \"/home/JuliaUser/dev/julia/base/version_git.sh\"\n",
       " \"/home/JuliaUser/dev/julia/base/views.jl\"\n",
       " \"/home/JuliaUser/dev/julia/base/weakkeydict.jl\"\n",
       "\\end{verbatim}\n"
      ],
      "text/markdown": [
       "```\n",
       "readdir(dir::AbstractString=pwd();\n",
       "    join::Bool = false,\n",
       "    sort::Bool = true,\n",
       ") -> Vector{String}\n",
       "```\n",
       "\n",
       "Return the names in the directory `dir` or the current working directory if not given. When `join` is false, `readdir` returns just the names in the directory as is; when `join` is true, it returns `joinpath(dir, name)` for each `name` so that the returned strings are full paths. If you want to get absolute paths back, call `readdir` with an absolute directory path and `join` set to true.\n",
       "\n",
       "By default, `readdir` sorts the list of names it returns. If you want to skip sorting the names and get them in the order that the file system lists them, you can use `readdir(dir, sort=false)` to opt out of sorting.\n",
       "\n",
       "See also: [`walkdir`](@ref).\n",
       "\n",
       "!!! compat \"Julia 1.4\"\n",
       "    The `join` and `sort` keyword arguments require at least Julia 1.4.\n",
       "\n",
       "\n",
       "# Examples\n",
       "\n",
       "```julia-repl\n",
       "julia> cd(\"/home/JuliaUser/dev/julia\")\n",
       "\n",
       "julia> readdir()\n",
       "30-element Array{String,1}:\n",
       " \".appveyor.yml\"\n",
       " \".git\"\n",
       " \".gitattributes\"\n",
       " ⋮\n",
       " \"ui\"\n",
       " \"usr\"\n",
       " \"usr-staging\"\n",
       "\n",
       "julia> readdir(join=true)\n",
       "30-element Array{String,1}:\n",
       " \"/home/JuliaUser/dev/julia/.appveyor.yml\"\n",
       " \"/home/JuliaUser/dev/julia/.git\"\n",
       " \"/home/JuliaUser/dev/julia/.gitattributes\"\n",
       " ⋮\n",
       " \"/home/JuliaUser/dev/julia/ui\"\n",
       " \"/home/JuliaUser/dev/julia/usr\"\n",
       " \"/home/JuliaUser/dev/julia/usr-staging\"\n",
       "\n",
       "julia> readdir(\"base\")\n",
       "145-element Array{String,1}:\n",
       " \".gitignore\"\n",
       " \"Base.jl\"\n",
       " \"Enums.jl\"\n",
       " ⋮\n",
       " \"version_git.sh\"\n",
       " \"views.jl\"\n",
       " \"weakkeydict.jl\"\n",
       "\n",
       "julia> readdir(\"base\", join=true)\n",
       "145-element Array{String,1}:\n",
       " \"base/.gitignore\"\n",
       " \"base/Base.jl\"\n",
       " \"base/Enums.jl\"\n",
       " ⋮\n",
       " \"base/version_git.sh\"\n",
       " \"base/views.jl\"\n",
       " \"base/weakkeydict.jl\"```\n",
       "\n",
       "julia> readdir(abspath(\"base\"), join=true)\n",
       "145-element Array{String,1}:\n",
       " \"/home/JuliaUser/dev/julia/base/.gitignore\"\n",
       " \"/home/JuliaUser/dev/julia/base/Base.jl\"\n",
       " \"/home/JuliaUser/dev/julia/base/Enums.jl\"\n",
       " ⋮\n",
       " \"/home/JuliaUser/dev/julia/base/version_git.sh\"\n",
       " \"/home/JuliaUser/dev/julia/base/views.jl\"\n",
       " \"/home/JuliaUser/dev/julia/base/weakkeydict.jl\"\n",
       "```\n"
      ],
      "text/plain": [
       "\u001b[36m  readdir(dir::AbstractString=pwd();\u001b[39m\n",
       "\u001b[36m      join::Bool = false,\u001b[39m\n",
       "\u001b[36m      sort::Bool = true,\u001b[39m\n",
       "\u001b[36m  ) -> Vector{String}\u001b[39m\n",
       "\n",
       "  Return the names in the directory \u001b[36mdir\u001b[39m or the current working directory if\n",
       "  not given. When \u001b[36mjoin\u001b[39m is false, \u001b[36mreaddir\u001b[39m returns just the names in the\n",
       "  directory as is; when \u001b[36mjoin\u001b[39m is true, it returns \u001b[36mjoinpath(dir, name)\u001b[39m for each\n",
       "  \u001b[36mname\u001b[39m so that the returned strings are full paths. If you want to get\n",
       "  absolute paths back, call \u001b[36mreaddir\u001b[39m with an absolute directory path and \u001b[36mjoin\u001b[39m\n",
       "  set to true.\n",
       "\n",
       "  By default, \u001b[36mreaddir\u001b[39m sorts the list of names it returns. If you want to skip\n",
       "  sorting the names and get them in the order that the file system lists them,\n",
       "  you can use \u001b[36mreaddir(dir, sort=false)\u001b[39m to opt out of sorting.\n",
       "\n",
       "  See also: \u001b[36mwalkdir\u001b[39m.\n",
       "\n",
       "\u001b[39m\u001b[1m  │ \u001b[22m\u001b[39m\u001b[1mJulia 1.4\u001b[22m\n",
       "\u001b[39m\u001b[1m  │\u001b[22m\n",
       "\u001b[39m\u001b[1m  │\u001b[22m  The \u001b[36mjoin\u001b[39m and \u001b[36msort\u001b[39m keyword arguments require at least Julia 1.4.\n",
       "\n",
       "\u001b[1m  Examples\u001b[22m\n",
       "\u001b[1m  ≡≡≡≡≡≡≡≡≡≡\u001b[22m\n",
       "\n",
       "\u001b[36m  julia> cd(\"/home/JuliaUser/dev/julia\")\u001b[39m\n",
       "\u001b[36m  \u001b[39m\n",
       "\u001b[36m  julia> readdir()\u001b[39m\n",
       "\u001b[36m  30-element Array{String,1}:\u001b[39m\n",
       "\u001b[36m   \".appveyor.yml\"\u001b[39m\n",
       "\u001b[36m   \".git\"\u001b[39m\n",
       "\u001b[36m   \".gitattributes\"\u001b[39m\n",
       "\u001b[36m   ⋮\u001b[39m\n",
       "\u001b[36m   \"ui\"\u001b[39m\n",
       "\u001b[36m   \"usr\"\u001b[39m\n",
       "\u001b[36m   \"usr-staging\"\u001b[39m\n",
       "\u001b[36m  \u001b[39m\n",
       "\u001b[36m  julia> readdir(join=true)\u001b[39m\n",
       "\u001b[36m  30-element Array{String,1}:\u001b[39m\n",
       "\u001b[36m   \"/home/JuliaUser/dev/julia/.appveyor.yml\"\u001b[39m\n",
       "\u001b[36m   \"/home/JuliaUser/dev/julia/.git\"\u001b[39m\n",
       "\u001b[36m   \"/home/JuliaUser/dev/julia/.gitattributes\"\u001b[39m\n",
       "\u001b[36m   ⋮\u001b[39m\n",
       "\u001b[36m   \"/home/JuliaUser/dev/julia/ui\"\u001b[39m\n",
       "\u001b[36m   \"/home/JuliaUser/dev/julia/usr\"\u001b[39m\n",
       "\u001b[36m   \"/home/JuliaUser/dev/julia/usr-staging\"\u001b[39m\n",
       "\u001b[36m  \u001b[39m\n",
       "\u001b[36m  julia> readdir(\"base\")\u001b[39m\n",
       "\u001b[36m  145-element Array{String,1}:\u001b[39m\n",
       "\u001b[36m   \".gitignore\"\u001b[39m\n",
       "\u001b[36m   \"Base.jl\"\u001b[39m\n",
       "\u001b[36m   \"Enums.jl\"\u001b[39m\n",
       "\u001b[36m   ⋮\u001b[39m\n",
       "\u001b[36m   \"version_git.sh\"\u001b[39m\n",
       "\u001b[36m   \"views.jl\"\u001b[39m\n",
       "\u001b[36m   \"weakkeydict.jl\"\u001b[39m\n",
       "\u001b[36m  \u001b[39m\n",
       "\u001b[36m  julia> readdir(\"base\", join=true)\u001b[39m\n",
       "\u001b[36m  145-element Array{String,1}:\u001b[39m\n",
       "\u001b[36m   \"base/.gitignore\"\u001b[39m\n",
       "\u001b[36m   \"base/Base.jl\"\u001b[39m\n",
       "\u001b[36m   \"base/Enums.jl\"\u001b[39m\n",
       "\u001b[36m   ⋮\u001b[39m\n",
       "\u001b[36m   \"base/version_git.sh\"\u001b[39m\n",
       "\u001b[36m   \"base/views.jl\"\u001b[39m\n",
       "\u001b[36m   \"base/weakkeydict.jl\"```\u001b[39m\n",
       "\u001b[36m  \u001b[39m\n",
       "\u001b[36m  julia> readdir(abspath(\"base\"), join=true)\u001b[39m\n",
       "\u001b[36m  145-element Array{String,1}:\u001b[39m\n",
       "\u001b[36m   \"/home/JuliaUser/dev/julia/base/.gitignore\"\u001b[39m\n",
       "\u001b[36m   \"/home/JuliaUser/dev/julia/base/Base.jl\"\u001b[39m\n",
       "\u001b[36m   \"/home/JuliaUser/dev/julia/base/Enums.jl\"\u001b[39m\n",
       "\u001b[36m   ⋮\u001b[39m\n",
       "\u001b[36m   \"/home/JuliaUser/dev/julia/base/version_git.sh\"\u001b[39m\n",
       "\u001b[36m   \"/home/JuliaUser/dev/julia/base/views.jl\"\u001b[39m\n",
       "\u001b[36m   \"/home/JuliaUser/dev/julia/base/weakkeydict.jl\"\u001b[39m"
      ]
     },
     "execution_count": 2,
     "metadata": {},
     "output_type": "execute_result"
    }
   ],
   "source": [
    "readdoc = @doc readdir"
   ]
  },
  {
   "cell_type": "code",
   "execution_count": 5,
   "id": "6426808f",
   "metadata": {},
   "outputs": [
    {
     "name": "stdout",
     "output_type": "stream",
     "text": [
      "Markdown.MD"
     ]
    }
   ],
   "source": [
    "print(typeof(readdoc))"
   ]
  },
  {
   "cell_type": "code",
   "execution_count": 9,
   "id": "eace9199",
   "metadata": {},
   "outputs": [
    {
     "data": {
      "text/plain": [
       "\"```\\nreaddir(dir::AbstractString=pwd();\\n    join::Bool = false,\\n    sort::Bool = true,\\n) -> Vector{String}\\n```\\n\\nReturn the names in the directory `dir` or the current working directory if not given. When `join` is false, `readdir` returns just the names in the directory \" ⋯ 1464 bytes ⋯ \"JuliaUser/dev/julia/base/.gitignore\\\"\\n \\\"/home/JuliaUser/dev/julia/base/Base.jl\\\"\\n \\\"/home/JuliaUser/dev/julia/base/Enums.jl\\\"\\n ⋮\\n \\\"/home/JuliaUser/dev/julia/base/version_git.sh\\\"\\n \\\"/home/JuliaUser/dev/julia/base/views.jl\\\"\\n \\\"/home/JuliaUser/dev/julia/base/weakkeydict.jl\\\"\\n```\\n\""
      ]
     },
     "execution_count": 9,
     "metadata": {},
     "output_type": "execute_result"
    }
   ],
   "source": [
    "string(readdoc)"
   ]
  },
  {
   "cell_type": "code",
   "execution_count": 15,
   "id": "bb303f78",
   "metadata": {},
   "outputs": [],
   "source": [
    "struct Constructor\n",
    "    x::Int64\n",
    "    y::Float64\n",
    "end"
   ]
  },
  {
   "cell_type": "code",
   "execution_count": 16,
   "id": "3813196f",
   "metadata": {},
   "outputs": [
    {
     "data": {
      "text/plain": [
       "(:x, :y)"
      ]
     },
     "execution_count": 16,
     "metadata": {},
     "output_type": "execute_result"
    }
   ],
   "source": [
    "fieldnames(Constructor)"
   ]
  },
  {
   "cell_type": "code",
   "execution_count": 12,
   "id": "ef0fa3e4",
   "metadata": {},
   "outputs": [
    {
     "data": {
      "text/plain": [
       "roundit (generic function with 2 methods)"
      ]
     },
     "execution_count": 12,
     "metadata": {},
     "output_type": "execute_result"
    }
   ],
   "source": [
    "roundit(x::Int64) = x\n",
    "roundit(x::Float64) = Int64(round(x))"
   ]
  },
  {
   "cell_type": "code",
   "execution_count": 17,
   "id": "0e383693",
   "metadata": {},
   "outputs": [
    {
     "data": {
      "text/html": [
       "# 2 methods for generic function <b>roundit</b> from \u001b[35mMain\u001b[39m:<ul><li> roundit(x::<b>Int64</b>) in Main at In[12]:1</li> <li> roundit(x::<b>Float64</b>) in Main at In[12]:2</li> </ul>"
      ],
      "text/plain": [
       "# 2 methods for generic function \"roundit\" from \u001b[35mMain\u001b[39m:\n",
       " [1] roundit(\u001b[90mx\u001b[39m::\u001b[1mInt64\u001b[22m)\n",
       "\u001b[90m     @\u001b[39m \u001b[90m\u001b[4mIn[12]:1\u001b[24m\u001b[39m\n",
       " [2] roundit(\u001b[90mx\u001b[39m::\u001b[1mFloat64\u001b[22m)\n",
       "\u001b[90m     @\u001b[39m \u001b[90m\u001b[4mIn[12]:2\u001b[24m\u001b[39m"
      ]
     },
     "execution_count": 17,
     "metadata": {},
     "output_type": "execute_result"
    }
   ],
   "source": [
    "rit_methods = methods(roundit)"
   ]
  },
  {
   "cell_type": "code",
   "execution_count": 18,
   "id": "c7a139db",
   "metadata": {},
   "outputs": [
    {
     "data": {
      "text/plain": [
       "Tuple{typeof(roundit), Int64}"
      ]
     },
     "execution_count": 18,
     "metadata": {},
     "output_type": "execute_result"
    }
   ],
   "source": [
    "rit_methods[1].sig"
   ]
  },
  {
   "cell_type": "code",
   "execution_count": 19,
   "id": "b757eb73",
   "metadata": {},
   "outputs": [],
   "source": [
    "Base.delete_method(rit_methods[1])"
   ]
  },
  {
   "cell_type": "code",
   "execution_count": 21,
   "id": "a87d9e42",
   "metadata": {},
   "outputs": [
    {
     "data": {
      "text/html": [
       "# 1 method for generic function <b>roundit</b> from \u001b[35mMain\u001b[39m:<ul><li> roundit(x::<b>Float64</b>) in Main at In[12]:2</li> </ul>"
      ],
      "text/plain": [
       "# 1 method for generic function \"roundit\" from \u001b[35mMain\u001b[39m:\n",
       " [1] roundit(\u001b[90mx\u001b[39m::\u001b[1mFloat64\u001b[22m)\n",
       "\u001b[90m     @\u001b[39m \u001b[90m\u001b[4mIn[12]:2\u001b[24m\u001b[39m"
      ]
     },
     "execution_count": 21,
     "metadata": {},
     "output_type": "execute_result"
    }
   ],
   "source": [
    "methods(roundit)"
   ]
  },
  {
   "cell_type": "code",
   "execution_count": 22,
   "id": "b78d114f",
   "metadata": {},
   "outputs": [
    {
     "data": {
      "text/plain": [
       "8-element Vector{Symbol}:\n",
       " :Base\n",
       " :Constructor\n",
       " :Core\n",
       " :Main\n",
       " :readdoc\n",
       " :rit_methods\n",
       " :roundit\n",
       " :xz"
      ]
     },
     "execution_count": 22,
     "metadata": {},
     "output_type": "execute_result"
    }
   ],
   "source": [
    "names(Main)"
   ]
  },
  {
   "cell_type": "code",
   "execution_count": 23,
   "id": "b8682126",
   "metadata": {},
   "outputs": [
    {
     "data": {
      "text/plain": [
       "Dict{Symbol, String} with 2 entries:\n",
       "  :A => \"B\"\n",
       "  :C => \"D\""
      ]
     },
     "execution_count": 23,
     "metadata": {},
     "output_type": "execute_result"
    }
   ],
   "source": [
    "myd = Dict(:A => \"B\", :C => \"D\")"
   ]
  },
  {
   "cell_type": "code",
   "execution_count": 24,
   "id": "8d23109b",
   "metadata": {},
   "outputs": [
    {
     "data": {
      "text/plain": [
       "Dict{Symbol, String} with 1 entry:\n",
       "  :C => \"D\""
      ]
     },
     "execution_count": 24,
     "metadata": {},
     "output_type": "execute_result"
    }
   ],
   "source": [
    "delete!(myd, :A)"
   ]
  },
  {
   "cell_type": "code",
   "execution_count": 25,
   "id": "d4f3c77b",
   "metadata": {},
   "outputs": [
    {
     "data": {
      "text/plain": [
       "3-element Vector{Int64}:\n",
       " 1\n",
       " 2\n",
       " 3"
      ]
     },
     "execution_count": 25,
     "metadata": {},
     "output_type": "execute_result"
    }
   ],
   "source": [
    "x = [1, 2, 3]"
   ]
  },
  {
   "cell_type": "code",
   "execution_count": 26,
   "id": "c9e5f1b5",
   "metadata": {},
   "outputs": [
    {
     "data": {
      "text/plain": [
       "2-element Vector{Int64}:\n",
       " 1\n",
       " 3"
      ]
     },
     "execution_count": 26,
     "metadata": {},
     "output_type": "execute_result"
    }
   ],
   "source": [
    "deleteat!(x, 2)"
   ]
  },
  {
   "cell_type": "code",
   "execution_count": 27,
   "id": "d1fe01d4",
   "metadata": {},
   "outputs": [
    {
     "data": {
      "text/plain": [
       "Constructor(5, 5.5)"
      ]
     },
     "execution_count": 27,
     "metadata": {},
     "output_type": "execute_result"
    }
   ],
   "source": [
    "myt = Constructor(5, 5.5)"
   ]
  },
  {
   "cell_type": "code",
   "execution_count": 28,
   "id": "6cf7ee4b",
   "metadata": {},
   "outputs": [
    {
     "data": {
      "text/plain": [
       "Constructor"
      ]
     },
     "execution_count": 28,
     "metadata": {},
     "output_type": "execute_result"
    }
   ],
   "source": [
    "typeof(myt)"
   ]
  },
  {
   "cell_type": "code",
   "execution_count": 30,
   "id": "a88b7629",
   "metadata": {},
   "outputs": [
    {
     "name": "stdout",
     "output_type": "stream",
     "text": [
      "\u001b[90m;  @ In[12]:2 within `roundit`\u001b[39m\n",
      "\u001b[95mdefine\u001b[39m \u001b[36mi64\u001b[39m \u001b[93m@julia_roundit_2575\u001b[39m\u001b[33m(\u001b[39m\u001b[36mdouble\u001b[39m \u001b[0m%0\u001b[33m)\u001b[39m \u001b[0m#0 \u001b[33m{\u001b[39m\n",
      "\u001b[91mtop:\u001b[39m\n",
      "  \u001b[0m%gcframe10 \u001b[0m= \u001b[96m\u001b[1malloca\u001b[22m\u001b[39m \u001b[33m[\u001b[39m\u001b[33m6\u001b[39m \u001b[0mx \u001b[33m{\u001b[39m\u001b[33m}\u001b[39m\u001b[0m*\u001b[33m]\u001b[39m\u001b[0m, \u001b[95malign\u001b[39m \u001b[33m16\u001b[39m\n",
      "  \u001b[0m%gcframe10.sub \u001b[0m= \u001b[96m\u001b[1mgetelementptr\u001b[22m\u001b[39m \u001b[95minbounds\u001b[39m \u001b[33m[\u001b[39m\u001b[33m6\u001b[39m \u001b[0mx \u001b[33m{\u001b[39m\u001b[33m}\u001b[39m\u001b[0m*\u001b[33m]\u001b[39m\u001b[0m, \u001b[33m[\u001b[39m\u001b[33m6\u001b[39m \u001b[0mx \u001b[33m{\u001b[39m\u001b[33m}\u001b[39m\u001b[0m*\u001b[33m]\u001b[39m\u001b[0m* \u001b[0m%gcframe10\u001b[0m, \u001b[36mi64\u001b[39m \u001b[33m0\u001b[39m\u001b[0m, \u001b[36mi64\u001b[39m \u001b[33m0\u001b[39m\n",
      "  \u001b[0m%1 \u001b[0m= \u001b[96m\u001b[1mbitcast\u001b[22m\u001b[39m \u001b[33m[\u001b[39m\u001b[33m6\u001b[39m \u001b[0mx \u001b[33m{\u001b[39m\u001b[33m}\u001b[39m\u001b[0m*\u001b[33m]\u001b[39m\u001b[0m* \u001b[0m%gcframe10 \u001b[95mto\u001b[39m \u001b[36mi8\u001b[39m\u001b[0m*\n",
      "  \u001b[96m\u001b[1mcall\u001b[22m\u001b[39m \u001b[36mvoid\u001b[39m \u001b[93m@llvm.memset.p0i8.i32\u001b[39m\u001b[33m(\u001b[39m\u001b[36mi8\u001b[39m\u001b[0m* \u001b[95mnoundef\u001b[39m \u001b[95mnonnull\u001b[39m \u001b[95malign\u001b[39m \u001b[33m16\u001b[39m \u001b[95mdereferenceable\u001b[39m\u001b[33m(\u001b[39m\u001b[33m48\u001b[39m\u001b[33m)\u001b[39m \u001b[0m%1\u001b[0m, \u001b[36mi8\u001b[39m \u001b[33m0\u001b[39m\u001b[0m, \u001b[36mi32\u001b[39m \u001b[33m48\u001b[39m\u001b[0m, \u001b[36mi1\u001b[39m \u001b[95mfalse\u001b[39m\u001b[33m)\u001b[39m\n",
      "  \u001b[0m%2 \u001b[0m= \u001b[96m\u001b[1mgetelementptr\u001b[22m\u001b[39m \u001b[95minbounds\u001b[39m \u001b[33m[\u001b[39m\u001b[33m6\u001b[39m \u001b[0mx \u001b[33m{\u001b[39m\u001b[33m}\u001b[39m\u001b[0m*\u001b[33m]\u001b[39m\u001b[0m, \u001b[33m[\u001b[39m\u001b[33m6\u001b[39m \u001b[0mx \u001b[33m{\u001b[39m\u001b[33m}\u001b[39m\u001b[0m*\u001b[33m]\u001b[39m\u001b[0m* \u001b[0m%gcframe10\u001b[0m, \u001b[36mi64\u001b[39m \u001b[33m0\u001b[39m\u001b[0m, \u001b[36mi64\u001b[39m \u001b[33m2\u001b[39m\n",
      "  \u001b[0m%thread_ptr \u001b[0m= \u001b[95mcall\u001b[39m \u001b[36mi8\u001b[39m\u001b[0m* \u001b[95masm\u001b[39m \u001b[0m\"movq %fs:0, $0\"\u001b[0m, \u001b[0m\"=r\"\u001b[33m(\u001b[39m\u001b[33m)\u001b[39m \u001b[0m#6\n",
      "  \u001b[0m%ppgcstack_i8 \u001b[0m= \u001b[96m\u001b[1mgetelementptr\u001b[22m\u001b[39m \u001b[36mi8\u001b[39m\u001b[0m, \u001b[36mi8\u001b[39m\u001b[0m* \u001b[0m%thread_ptr\u001b[0m, \u001b[36mi64\u001b[39m \u001b[33m-8\u001b[39m\n",
      "  \u001b[0m%ppgcstack \u001b[0m= \u001b[96m\u001b[1mbitcast\u001b[22m\u001b[39m \u001b[36mi8\u001b[39m\u001b[0m* \u001b[0m%ppgcstack_i8 \u001b[95mto\u001b[39m \u001b[33m{\u001b[39m\u001b[33m}\u001b[39m\u001b[0m****\n",
      "  \u001b[0m%pgcstack \u001b[0m= \u001b[96m\u001b[1mload\u001b[22m\u001b[39m \u001b[33m{\u001b[39m\u001b[33m}\u001b[39m\u001b[0m***\u001b[0m, \u001b[33m{\u001b[39m\u001b[33m}\u001b[39m\u001b[0m**** \u001b[0m%ppgcstack\u001b[0m, \u001b[95malign\u001b[39m \u001b[33m8\u001b[39m\n",
      "\u001b[90m; ┌ @ floatfuncs.jl:128 within `round` @ float.jl:395\u001b[39m\n",
      "   \u001b[0m%3 \u001b[0m= \u001b[96m\u001b[1mbitcast\u001b[22m\u001b[39m \u001b[33m[\u001b[39m\u001b[33m6\u001b[39m \u001b[0mx \u001b[33m{\u001b[39m\u001b[33m}\u001b[39m\u001b[0m*\u001b[33m]\u001b[39m\u001b[0m* \u001b[0m%gcframe10 \u001b[95mto\u001b[39m \u001b[36mi64\u001b[39m\u001b[0m*\n",
      "   \u001b[96m\u001b[1mstore\u001b[22m\u001b[39m \u001b[36mi64\u001b[39m \u001b[33m16\u001b[39m\u001b[0m, \u001b[36mi64\u001b[39m\u001b[0m* \u001b[0m%3\u001b[0m, \u001b[95malign\u001b[39m \u001b[33m16\u001b[39m\n",
      "   \u001b[0m%4 \u001b[0m= \u001b[96m\u001b[1mgetelementptr\u001b[22m\u001b[39m \u001b[95minbounds\u001b[39m \u001b[33m[\u001b[39m\u001b[33m6\u001b[39m \u001b[0mx \u001b[33m{\u001b[39m\u001b[33m}\u001b[39m\u001b[0m*\u001b[33m]\u001b[39m\u001b[0m, \u001b[33m[\u001b[39m\u001b[33m6\u001b[39m \u001b[0mx \u001b[33m{\u001b[39m\u001b[33m}\u001b[39m\u001b[0m*\u001b[33m]\u001b[39m\u001b[0m* \u001b[0m%gcframe10\u001b[0m, \u001b[36mi64\u001b[39m \u001b[33m0\u001b[39m\u001b[0m, \u001b[36mi64\u001b[39m \u001b[33m1\u001b[39m\n",
      "   \u001b[0m%5 \u001b[0m= \u001b[96m\u001b[1mbitcast\u001b[22m\u001b[39m \u001b[33m{\u001b[39m\u001b[33m}\u001b[39m\u001b[0m** \u001b[0m%4 \u001b[95mto\u001b[39m \u001b[33m{\u001b[39m\u001b[33m}\u001b[39m\u001b[0m***\n",
      "   \u001b[0m%6 \u001b[0m= \u001b[96m\u001b[1mload\u001b[22m\u001b[39m \u001b[33m{\u001b[39m\u001b[33m}\u001b[39m\u001b[0m**\u001b[0m, \u001b[33m{\u001b[39m\u001b[33m}\u001b[39m\u001b[0m*** \u001b[0m%pgcstack\u001b[0m, \u001b[95malign\u001b[39m \u001b[33m8\u001b[39m\n",
      "   \u001b[96m\u001b[1mstore\u001b[22m\u001b[39m \u001b[33m{\u001b[39m\u001b[33m}\u001b[39m\u001b[0m** \u001b[0m%6\u001b[0m, \u001b[33m{\u001b[39m\u001b[33m}\u001b[39m\u001b[0m*** \u001b[0m%5\u001b[0m, \u001b[95malign\u001b[39m \u001b[33m8\u001b[39m\n",
      "   \u001b[0m%7 \u001b[0m= \u001b[96m\u001b[1mbitcast\u001b[22m\u001b[39m \u001b[33m{\u001b[39m\u001b[33m}\u001b[39m\u001b[0m*** \u001b[0m%pgcstack \u001b[95mto\u001b[39m \u001b[33m{\u001b[39m\u001b[33m}\u001b[39m\u001b[0m***\n",
      "   \u001b[96m\u001b[1mstore\u001b[22m\u001b[39m \u001b[33m{\u001b[39m\u001b[33m}\u001b[39m\u001b[0m** \u001b[0m%gcframe10.sub\u001b[0m, \u001b[33m{\u001b[39m\u001b[33m}\u001b[39m\u001b[0m*** \u001b[0m%7\u001b[0m, \u001b[95malign\u001b[39m \u001b[33m8\u001b[39m\n",
      "   \u001b[0m%8 \u001b[0m= \u001b[96m\u001b[1mcall\u001b[22m\u001b[39m \u001b[36mdouble\u001b[39m \u001b[93m@llvm.rint.f64\u001b[39m\u001b[33m(\u001b[39m\u001b[36mdouble\u001b[39m \u001b[0m%0\u001b[33m)\u001b[39m\n",
      "\u001b[90m; └\u001b[39m\n",
      "\u001b[90m; ┌ @ float.jl:897 within `Int64`\u001b[39m\n",
      "\u001b[90m; │┌ @ float.jl:536 within `<=`\u001b[39m\n",
      "    \u001b[0m%9 \u001b[0m= \u001b[96m\u001b[1mfcmp\u001b[22m\u001b[39m \u001b[96m\u001b[1mult\u001b[22m\u001b[39m \u001b[36mdouble\u001b[39m \u001b[0m%8\u001b[0m, \u001b[33m0xC3E0000000000000\u001b[39m\n",
      "\u001b[90m; │└\u001b[39m\n",
      "   \u001b[0m%10 \u001b[0m= \u001b[96m\u001b[1mfcmp\u001b[22m\u001b[39m \u001b[96m\u001b[1muge\u001b[22m\u001b[39m \u001b[36mdouble\u001b[39m \u001b[0m%8\u001b[0m, \u001b[33m0x43E0000000000000\u001b[39m\n",
      "   \u001b[0m%11 \u001b[0m= \u001b[96m\u001b[1mor\u001b[22m\u001b[39m \u001b[36mi1\u001b[39m \u001b[0m%9\u001b[0m, \u001b[0m%10\n",
      "   \u001b[0m%12 \u001b[0m= \u001b[96m\u001b[1mcall\u001b[22m\u001b[39m \u001b[36mdouble\u001b[39m \u001b[93m@llvm.trunc.f64\u001b[39m\u001b[33m(\u001b[39m\u001b[36mdouble\u001b[39m \u001b[0m%8\u001b[33m)\u001b[39m\n",
      "   \u001b[0m%13 \u001b[0m= \u001b[96m\u001b[1mfcmp\u001b[22m\u001b[39m \u001b[96m\u001b[1mune\u001b[22m\u001b[39m \u001b[36mdouble\u001b[39m \u001b[0m%12\u001b[0m, \u001b[0m%8\n",
      "   \u001b[0m%or.cond \u001b[0m= \u001b[96m\u001b[1mselect\u001b[22m\u001b[39m \u001b[36mi1\u001b[39m \u001b[0m%11\u001b[0m, \u001b[36mi1\u001b[39m \u001b[95mtrue\u001b[39m\u001b[0m, \u001b[36mi1\u001b[39m \u001b[0m%13\n",
      "   \u001b[96m\u001b[1mbr\u001b[22m\u001b[39m \u001b[36mi1\u001b[39m \u001b[0m%or.cond\u001b[0m, \u001b[36mlabel\u001b[39m \u001b[91m%L14\u001b[39m\u001b[0m, \u001b[36mlabel\u001b[39m \u001b[91m%L12\u001b[39m\n",
      "\n",
      "\u001b[91mL12:\u001b[39m                                              \u001b[90m; preds = %top\u001b[39m\n",
      "\u001b[90m; │ @ float.jl:898 within `Int64`\u001b[39m\n",
      "\u001b[90m; │┌ @ float.jl:335 within `unsafe_trunc`\u001b[39m\n",
      "    \u001b[0m%14 \u001b[0m= \u001b[96m\u001b[1mfptosi\u001b[22m\u001b[39m \u001b[36mdouble\u001b[39m \u001b[0m%8 \u001b[95mto\u001b[39m \u001b[36mi64\u001b[39m\n",
      "    \u001b[0m%15 \u001b[0m= \u001b[96m\u001b[1mfreeze\u001b[22m\u001b[39m \u001b[36mi64\u001b[39m \u001b[0m%14\n",
      "    \u001b[0m%16 \u001b[0m= \u001b[96m\u001b[1mload\u001b[22m\u001b[39m \u001b[33m{\u001b[39m\u001b[33m}\u001b[39m\u001b[0m*\u001b[0m, \u001b[33m{\u001b[39m\u001b[33m}\u001b[39m\u001b[0m** \u001b[0m%4\u001b[0m, \u001b[95malign\u001b[39m \u001b[33m8\u001b[39m\n",
      "    \u001b[0m%17 \u001b[0m= \u001b[96m\u001b[1mbitcast\u001b[22m\u001b[39m \u001b[33m{\u001b[39m\u001b[33m}\u001b[39m\u001b[0m*** \u001b[0m%pgcstack \u001b[95mto\u001b[39m \u001b[33m{\u001b[39m\u001b[33m}\u001b[39m\u001b[0m**\n",
      "    \u001b[96m\u001b[1mstore\u001b[22m\u001b[39m \u001b[33m{\u001b[39m\u001b[33m}\u001b[39m\u001b[0m* \u001b[0m%16\u001b[0m, \u001b[33m{\u001b[39m\u001b[33m}\u001b[39m\u001b[0m** \u001b[0m%17\u001b[0m, \u001b[95malign\u001b[39m \u001b[33m8\u001b[39m\n",
      "\u001b[90m; └└\u001b[39m\n",
      "  \u001b[96m\u001b[1mret\u001b[22m\u001b[39m \u001b[36mi64\u001b[39m \u001b[0m%15\n",
      "\n",
      "\u001b[91mL14:\u001b[39m                                              \u001b[90m; preds = %top\u001b[39m\n",
      "  \u001b[0m%18 \u001b[0m= \u001b[96m\u001b[1mbitcast\u001b[22m\u001b[39m \u001b[33m{\u001b[39m\u001b[33m}\u001b[39m\u001b[0m** \u001b[0m%2 \u001b[95mto\u001b[39m \u001b[33m[\u001b[39m\u001b[33m3\u001b[39m \u001b[0mx \u001b[33m{\u001b[39m\u001b[33m}\u001b[39m\u001b[0m*\u001b[33m]\u001b[39m\u001b[0m*\n",
      "\u001b[90m; ┌ @ float.jl:900 within `Int64`\u001b[39m\n",
      "   \u001b[0m%ptls_field11 \u001b[0m= \u001b[96m\u001b[1mgetelementptr\u001b[22m\u001b[39m \u001b[95minbounds\u001b[39m \u001b[33m{\u001b[39m\u001b[33m}\u001b[39m\u001b[0m**\u001b[0m, \u001b[33m{\u001b[39m\u001b[33m}\u001b[39m\u001b[0m*** \u001b[0m%pgcstack\u001b[0m, \u001b[36mi64\u001b[39m \u001b[33m2\u001b[39m\n",
      "   \u001b[0m%19 \u001b[0m= \u001b[96m\u001b[1mbitcast\u001b[22m\u001b[39m \u001b[33m{\u001b[39m\u001b[33m}\u001b[39m\u001b[0m*** \u001b[0m%ptls_field11 \u001b[95mto\u001b[39m \u001b[36mi8\u001b[39m\u001b[0m**\n",
      "   \u001b[0m%ptls_load1213 \u001b[0m= \u001b[96m\u001b[1mload\u001b[22m\u001b[39m \u001b[36mi8\u001b[39m\u001b[0m*\u001b[0m, \u001b[36mi8\u001b[39m\u001b[0m** \u001b[0m%19\u001b[0m, \u001b[95malign\u001b[39m \u001b[33m8\u001b[39m\n",
      "   \u001b[0m%20 \u001b[0m= \u001b[96m\u001b[1mcall\u001b[22m\u001b[39m \u001b[95mnoalias\u001b[39m \u001b[95mnonnull\u001b[39m \u001b[33m{\u001b[39m\u001b[33m}\u001b[39m\u001b[0m* \u001b[93m@ijl_gc_pool_alloc\u001b[39m\u001b[33m(\u001b[39m\u001b[36mi8\u001b[39m\u001b[0m* \u001b[0m%ptls_load1213\u001b[0m, \u001b[36mi32\u001b[39m \u001b[33m1392\u001b[39m\u001b[0m, \u001b[36mi32\u001b[39m \u001b[33m16\u001b[39m\u001b[33m)\u001b[39m \u001b[0m#7\n",
      "   \u001b[0m%21 \u001b[0m= \u001b[96m\u001b[1mbitcast\u001b[22m\u001b[39m \u001b[33m{\u001b[39m\u001b[33m}\u001b[39m\u001b[0m* \u001b[0m%20 \u001b[95mto\u001b[39m \u001b[36mi64\u001b[39m\u001b[0m*\n",
      "   \u001b[0m%22 \u001b[0m= \u001b[96m\u001b[1mgetelementptr\u001b[22m\u001b[39m \u001b[95minbounds\u001b[39m \u001b[36mi64\u001b[39m\u001b[0m, \u001b[36mi64\u001b[39m\u001b[0m* \u001b[0m%21\u001b[0m, \u001b[36mi64\u001b[39m \u001b[33m-1\u001b[39m\n",
      "   \u001b[96m\u001b[1mstore\u001b[22m\u001b[39m \u001b[95matomic\u001b[39m \u001b[36mi64\u001b[39m \u001b[33m140188884832336\u001b[39m\u001b[0m, \u001b[36mi64\u001b[39m\u001b[0m* \u001b[0m%22 \u001b[95munordered\u001b[39m\u001b[0m, \u001b[95malign\u001b[39m \u001b[33m8\u001b[39m\n",
      "   \u001b[0m%23 \u001b[0m= \u001b[96m\u001b[1mbitcast\u001b[22m\u001b[39m \u001b[33m{\u001b[39m\u001b[33m}\u001b[39m\u001b[0m* \u001b[0m%20 \u001b[95mto\u001b[39m \u001b[36mdouble\u001b[39m\u001b[0m*\n",
      "   \u001b[96m\u001b[1mstore\u001b[22m\u001b[39m \u001b[36mdouble\u001b[39m \u001b[0m%8\u001b[0m, \u001b[36mdouble\u001b[39m\u001b[0m* \u001b[0m%23\u001b[0m, \u001b[95malign\u001b[39m \u001b[33m8\u001b[39m\n",
      "   \u001b[0m%24 \u001b[0m= \u001b[96m\u001b[1mgetelementptr\u001b[22m\u001b[39m \u001b[95minbounds\u001b[39m \u001b[33m[\u001b[39m\u001b[33m6\u001b[39m \u001b[0mx \u001b[33m{\u001b[39m\u001b[33m}\u001b[39m\u001b[0m*\u001b[33m]\u001b[39m\u001b[0m, \u001b[33m[\u001b[39m\u001b[33m6\u001b[39m \u001b[0mx \u001b[33m{\u001b[39m\u001b[33m}\u001b[39m\u001b[0m*\u001b[33m]\u001b[39m\u001b[0m* \u001b[0m%gcframe10\u001b[0m, \u001b[36mi64\u001b[39m \u001b[33m0\u001b[39m\u001b[0m, \u001b[36mi64\u001b[39m \u001b[33m5\u001b[39m\n",
      "   \u001b[96m\u001b[1mstore\u001b[22m\u001b[39m \u001b[33m{\u001b[39m\u001b[33m}\u001b[39m\u001b[0m* \u001b[0m%20\u001b[0m, \u001b[33m{\u001b[39m\u001b[33m}\u001b[39m\u001b[0m** \u001b[0m%24\u001b[0m, \u001b[95malign\u001b[39m \u001b[33m8\u001b[39m\n",
      "   \u001b[96m\u001b[1mcall\u001b[22m\u001b[39m \u001b[36mvoid\u001b[39m \u001b[93m@j_InexactError_2577\u001b[39m\u001b[33m(\u001b[39m\u001b[33m[\u001b[39m\u001b[33m3\u001b[39m \u001b[0mx \u001b[33m{\u001b[39m\u001b[33m}\u001b[39m\u001b[0m*\u001b[33m]\u001b[39m\u001b[0m* \u001b[95mnoalias\u001b[39m \u001b[95mnocapture\u001b[39m \u001b[95mnoundef\u001b[39m \u001b[95mnonnull\u001b[39m \u001b[95msret\u001b[39m\u001b[33m(\u001b[39m\u001b[33m[\u001b[39m\u001b[33m3\u001b[39m \u001b[0mx \u001b[33m{\u001b[39m\u001b[33m}\u001b[39m\u001b[0m*\u001b[33m]\u001b[39m\u001b[33m)\u001b[39m \u001b[0m%18\u001b[0m, \u001b[33m{\u001b[39m\u001b[33m}\u001b[39m\u001b[0m* \u001b[95minttoptr\u001b[39m \u001b[33m(\u001b[39m\u001b[36mi64\u001b[39m \u001b[33m140189028749440\u001b[39m \u001b[95mto\u001b[39m \u001b[33m{\u001b[39m\u001b[33m}\u001b[39m\u001b[0m*\u001b[33m)\u001b[39m\u001b[0m, \u001b[33m{\u001b[39m\u001b[33m}\u001b[39m\u001b[0m* \u001b[95mreadonly\u001b[39m \u001b[95minttoptr\u001b[39m \u001b[33m(\u001b[39m\u001b[36mi64\u001b[39m \u001b[33m140188884834512\u001b[39m \u001b[95mto\u001b[39m \u001b[33m{\u001b[39m\u001b[33m}\u001b[39m\u001b[0m*\u001b[33m)\u001b[39m\u001b[0m, \u001b[33m{\u001b[39m\u001b[33m}\u001b[39m\u001b[0m* \u001b[95mnonnull\u001b[39m \u001b[95mreadonly\u001b[39m \u001b[0m%20\u001b[33m)\u001b[39m \u001b[0m#0\n",
      "   \u001b[0m%ptls_load81415 \u001b[0m= \u001b[96m\u001b[1mload\u001b[22m\u001b[39m \u001b[36mi8\u001b[39m\u001b[0m*\u001b[0m, \u001b[36mi8\u001b[39m\u001b[0m** \u001b[0m%19\u001b[0m, \u001b[95malign\u001b[39m \u001b[33m8\u001b[39m\n",
      "   \u001b[0m%25 \u001b[0m= \u001b[96m\u001b[1mcall\u001b[22m\u001b[39m \u001b[95mnoalias\u001b[39m \u001b[95mnonnull\u001b[39m \u001b[33m{\u001b[39m\u001b[33m}\u001b[39m\u001b[0m* \u001b[93m@ijl_gc_pool_alloc\u001b[39m\u001b[33m(\u001b[39m\u001b[36mi8\u001b[39m\u001b[0m* \u001b[0m%ptls_load81415\u001b[0m, \u001b[36mi32\u001b[39m \u001b[33m1440\u001b[39m\u001b[0m, \u001b[36mi32\u001b[39m \u001b[33m32\u001b[39m\u001b[33m)\u001b[39m \u001b[0m#7\n",
      "   \u001b[0m%26 \u001b[0m= \u001b[96m\u001b[1mbitcast\u001b[22m\u001b[39m \u001b[33m{\u001b[39m\u001b[33m}\u001b[39m\u001b[0m* \u001b[0m%25 \u001b[95mto\u001b[39m \u001b[36mi64\u001b[39m\u001b[0m*\n",
      "   \u001b[0m%27 \u001b[0m= \u001b[96m\u001b[1mgetelementptr\u001b[22m\u001b[39m \u001b[95minbounds\u001b[39m \u001b[36mi64\u001b[39m\u001b[0m, \u001b[36mi64\u001b[39m\u001b[0m* \u001b[0m%26\u001b[0m, \u001b[36mi64\u001b[39m \u001b[33m-1\u001b[39m\n",
      "   \u001b[96m\u001b[1mstore\u001b[22m\u001b[39m \u001b[95matomic\u001b[39m \u001b[36mi64\u001b[39m \u001b[33m140188799687040\u001b[39m\u001b[0m, \u001b[36mi64\u001b[39m\u001b[0m* \u001b[0m%27 \u001b[95munordered\u001b[39m\u001b[0m, \u001b[95malign\u001b[39m \u001b[33m8\u001b[39m\n",
      "   \u001b[0m%28 \u001b[0m= \u001b[96m\u001b[1mbitcast\u001b[22m\u001b[39m \u001b[33m{\u001b[39m\u001b[33m}\u001b[39m\u001b[0m* \u001b[0m%25 \u001b[95mto\u001b[39m \u001b[36mi8\u001b[39m\u001b[0m*\n",
      "   \u001b[0m%29 \u001b[0m= \u001b[96m\u001b[1mbitcast\u001b[22m\u001b[39m \u001b[33m{\u001b[39m\u001b[33m}\u001b[39m\u001b[0m** \u001b[0m%2 \u001b[95mto\u001b[39m \u001b[36mi8\u001b[39m\u001b[0m*\n",
      "   \u001b[96m\u001b[1mcall\u001b[22m\u001b[39m \u001b[36mvoid\u001b[39m \u001b[93m@llvm.memcpy.p0i8.p0i8.i64\u001b[39m\u001b[33m(\u001b[39m\u001b[36mi8\u001b[39m\u001b[0m* \u001b[95mnoundef\u001b[39m \u001b[95mnonnull\u001b[39m \u001b[95malign\u001b[39m \u001b[33m8\u001b[39m \u001b[95mdereferenceable\u001b[39m\u001b[33m(\u001b[39m\u001b[33m24\u001b[39m\u001b[33m)\u001b[39m \u001b[0m%28\u001b[0m, \u001b[36mi8\u001b[39m\u001b[0m* \u001b[95mnoundef\u001b[39m \u001b[95mnonnull\u001b[39m \u001b[95malign\u001b[39m \u001b[33m16\u001b[39m \u001b[95mdereferenceable\u001b[39m\u001b[33m(\u001b[39m\u001b[33m24\u001b[39m\u001b[33m)\u001b[39m \u001b[0m%29\u001b[0m, \u001b[36mi64\u001b[39m \u001b[33m24\u001b[39m\u001b[0m, \u001b[36mi1\u001b[39m \u001b[95mfalse\u001b[39m\u001b[33m)\u001b[39m\n",
      "   \u001b[96m\u001b[1mcall\u001b[22m\u001b[39m \u001b[36mvoid\u001b[39m \u001b[93m@ijl_throw\u001b[39m\u001b[33m(\u001b[39m\u001b[33m{\u001b[39m\u001b[33m}\u001b[39m\u001b[0m* \u001b[0m%25\u001b[33m)\u001b[39m\n",
      "   \u001b[96m\u001b[1munreachable\u001b[22m\u001b[39m\n",
      "\u001b[90m; └\u001b[39m\n",
      "\u001b[33m}\u001b[39m\n"
     ]
    }
   ],
   "source": [
    "@code_llvm roundit(5.5)"
   ]
  },
  {
   "cell_type": "code",
   "execution_count": null,
   "id": "85761cb8",
   "metadata": {},
   "outputs": [],
   "source": []
  }
 ],
 "metadata": {
  "kernelspec": {
   "display_name": "Julia 1.9.0",
   "language": "julia",
   "name": "julia-1.9"
  },
  "language_info": {
   "file_extension": ".jl",
   "mimetype": "application/julia",
   "name": "julia",
   "version": "1.9.0"
  }
 },
 "nbformat": 4,
 "nbformat_minor": 5
}
