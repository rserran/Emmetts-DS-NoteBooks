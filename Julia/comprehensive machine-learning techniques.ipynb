{
 "cells": [
  {
   "cell_type": "code",
   "execution_count": 5,
   "metadata": {},
   "outputs": [],
   "source": [
    "using DataFrames\n",
    "using Random"
   ]
  },
  {
   "cell_type": "markdown",
   "metadata": {},
   "source": [
    "# TrainTestSplit"
   ]
  },
  {
   "cell_type": "code",
   "execution_count": 6,
   "metadata": {},
   "outputs": [
    {
     "data": {
      "text/plain": [
       "tts (generic function with 1 method)"
      ]
     },
     "execution_count": 6,
     "metadata": {},
     "output_type": "execute_result"
    }
   ],
   "source": [
    "function tts(df::DataFrame; at = .75)\n",
    "    sample = randsubseq(1:size(df,1), at)\n",
    "    trainingset = df[sample, :]\n",
    "    notsample = [i for i in 1:size(df,1) if isempty(searchsorted(sample, i))]\n",
    "    testset = df[notsample, :]\n",
    "    return(trainingset,testset)\n",
    "end"
   ]
  },
  {
   "cell_type": "code",
   "execution_count": 7,
   "metadata": {},
   "outputs": [
    {
     "data": {
      "text/html": [
       "<div class=\"data-frame\"><p>20 rows × 2 columns</p><table class=\"data-frame\"><thead><tr><th></th><th>A</th><th>B</th></tr><tr><th></th><th title=\"Float64\">Float64</th><th title=\"Float64\">Float64</th></tr></thead><tbody><tr><th>1</th><td>-0.00013721</td><td>-0.608496</td></tr><tr><th>2</th><td>2.19545</td><td>0.057122</td></tr><tr><th>3</th><td>-1.07612</td><td>0.807587</td></tr><tr><th>4</th><td>0.00116801</td><td>-2.57121</td></tr><tr><th>5</th><td>0.376163</td><td>-1.11479</td></tr><tr><th>6</th><td>-0.431085</td><td>-0.173849</td></tr><tr><th>7</th><td>-1.3453</td><td>-0.64697</td></tr><tr><th>8</th><td>0.825617</td><td>-1.06371</td></tr><tr><th>9</th><td>-0.0559926</td><td>0.574496</td></tr><tr><th>10</th><td>2.65238</td><td>1.34499</td></tr><tr><th>11</th><td>-0.161914</td><td>1.32221</td></tr><tr><th>12</th><td>0.598919</td><td>0.188288</td></tr><tr><th>13</th><td>-1.76991</td><td>0.727884</td></tr><tr><th>14</th><td>-0.817312</td><td>0.592076</td></tr><tr><th>15</th><td>0.319003</td><td>-0.495463</td></tr><tr><th>16</th><td>-0.125543</td><td>-1.53332</td></tr><tr><th>17</th><td>1.5144</td><td>0.156553</td></tr><tr><th>18</th><td>0.394596</td><td>-0.763952</td></tr><tr><th>19</th><td>1.69617</td><td>-1.42877</td></tr><tr><th>20</th><td>-1.26985</td><td>0.224617</td></tr></tbody></table></div>"
      ],
      "text/latex": [
       "\\begin{tabular}{r|cc}\n",
       "\t& A & B\\\\\n",
       "\t\\hline\n",
       "\t& Float64 & Float64\\\\\n",
       "\t\\hline\n",
       "\t1 & -0.00013721 & -0.608496 \\\\\n",
       "\t2 & 2.19545 & 0.057122 \\\\\n",
       "\t3 & -1.07612 & 0.807587 \\\\\n",
       "\t4 & 0.00116801 & -2.57121 \\\\\n",
       "\t5 & 0.376163 & -1.11479 \\\\\n",
       "\t6 & -0.431085 & -0.173849 \\\\\n",
       "\t7 & -1.3453 & -0.64697 \\\\\n",
       "\t8 & 0.825617 & -1.06371 \\\\\n",
       "\t9 & -0.0559926 & 0.574496 \\\\\n",
       "\t10 & 2.65238 & 1.34499 \\\\\n",
       "\t11 & -0.161914 & 1.32221 \\\\\n",
       "\t12 & 0.598919 & 0.188288 \\\\\n",
       "\t13 & -1.76991 & 0.727884 \\\\\n",
       "\t14 & -0.817312 & 0.592076 \\\\\n",
       "\t15 & 0.319003 & -0.495463 \\\\\n",
       "\t16 & -0.125543 & -1.53332 \\\\\n",
       "\t17 & 1.5144 & 0.156553 \\\\\n",
       "\t18 & 0.394596 & -0.763952 \\\\\n",
       "\t19 & 1.69617 & -1.42877 \\\\\n",
       "\t20 & -1.26985 & 0.224617 \\\\\n",
       "\\end{tabular}\n"
      ],
      "text/plain": [
       "\u001b[1m20×2 DataFrame\u001b[0m\n",
       "\u001b[1m Row \u001b[0m│\u001b[1m A           \u001b[0m\u001b[1m B         \u001b[0m\n",
       "\u001b[1m     \u001b[0m│\u001b[90m Float64     \u001b[0m\u001b[90m Float64   \u001b[0m\n",
       "─────┼────────────────────────\n",
       "   1 │ -0.00013721  -0.608496\n",
       "   2 │  2.19545      0.057122\n",
       "   3 │ -1.07612      0.807587\n",
       "   4 │  0.00116801  -2.57121\n",
       "   5 │  0.376163    -1.11479\n",
       "   6 │ -0.431085    -0.173849\n",
       "   7 │ -1.3453      -0.64697\n",
       "   8 │  0.825617    -1.06371\n",
       "   9 │ -0.0559926    0.574496\n",
       "  10 │  2.65238      1.34499\n",
       "  11 │ -0.161914     1.32221\n",
       "  12 │  0.598919     0.188288\n",
       "  13 │ -1.76991      0.727884\n",
       "  14 │ -0.817312     0.592076\n",
       "  15 │  0.319003    -0.495463\n",
       "  16 │ -0.125543    -1.53332\n",
       "  17 │  1.5144       0.156553\n",
       "  18 │  0.394596    -0.763952\n",
       "  19 │  1.69617     -1.42877\n",
       "  20 │ -1.26985      0.224617"
      ]
     },
     "execution_count": 7,
     "metadata": {},
     "output_type": "execute_result"
    }
   ],
   "source": [
    "df = DataFrame(:A => randn(20), :B => randn(20))"
   ]
  },
  {
   "cell_type": "code",
   "execution_count": 9,
   "metadata": {},
   "outputs": [
    {
     "name": "stdout",
     "output_type": "stream",
     "text": [
      "\u001b[1m16×2 DataFrame\u001b[0m\n",
      "\u001b[1m Row \u001b[0m│\u001b[1m A           \u001b[0m\u001b[1m B         \u001b[0m\n",
      "\u001b[1m     \u001b[0m│\u001b[90m Float64     \u001b[0m\u001b[90m Float64   \u001b[0m\n",
      "─────┼────────────────────────\n",
      "   1 │ -0.00013721  -0.608496\n",
      "   2 │  2.19545      0.057122\n",
      "   3 │ -1.07612      0.807587\n",
      "   4 │  0.00116801  -2.57121\n",
      "   5 │ -0.431085    -0.173849\n",
      "   6 │  0.825617    -1.06371\n",
      "   7 │ -0.0559926    0.574496\n",
      "   8 │  2.65238      1.34499\n",
      "   9 │  0.598919     0.188288\n",
      "  10 │ -1.76991      0.727884\n",
      "  11 │ -0.817312     0.592076\n",
      "  12 │  0.319003    -0.495463\n",
      "  13 │ -0.125543    -1.53332\n",
      "  14 │  1.5144       0.156553\n",
      "  15 │  0.394596    -0.763952\n",
      "  16 │ -1.26985      0.224617\u001b[1m4×2 DataFrame\u001b[0m\n",
      "\u001b[1m Row \u001b[0m│\u001b[1m A         \u001b[0m\u001b[1m B        \u001b[0m\n",
      "\u001b[1m     \u001b[0m│\u001b[90m Float64   \u001b[0m\u001b[90m Float64  \u001b[0m\n",
      "─────┼─────────────────────\n",
      "   1 │  0.376163  -1.11479\n",
      "   2 │ -1.3453    -0.64697\n",
      "   3 │ -0.161914   1.32221\n",
      "   4 │  1.69617   -1.42877"
     ]
    }
   ],
   "source": [
    "train, test = tts(df); show(train); show(test)"
   ]
  },
  {
   "cell_type": "markdown",
   "metadata": {},
   "source": [
    "# Standard Scaler"
   ]
  },
  {
   "cell_type": "code",
   "execution_count": 13,
   "metadata": {},
   "outputs": [
    {
     "name": "stderr",
     "output_type": "stream",
     "text": [
      "┌ Info: Precompiling Lathe [38d8eb38-e7b1-11e9-0012-376b6c802672]\n",
      "└ @ Base loading.jl:1423\n",
      "WARNING: Method definition PowerLog(Float64, Float64) in module models at /home/emmac/.julia/packages/Lathe/ZRJQf/src/models/toolbox.jl:14 overwritten on the same line (check for duplicate calls to `include`).\n",
      "  ** incremental compilation may be fatally broken for this module **\n",
      "\n",
      "WARNING: Method definition PowerLog##kw(Any, typeof(Lathe.models.PowerLog), Float64, Float64) in module models at /home/emmac/.julia/packages/Lathe/ZRJQf/src/models/toolbox.jl:14 overwritten on the same line (check for duplicate calls to `include`).\n",
      "  ** incremental compilation may be fatally broken for this module **\n",
      "\n",
      "\u001b[33m\u001b[1m┌ \u001b[22m\u001b[39m\u001b[33m\u001b[1mWarning: \u001b[22m\u001b[39mReplacing docs for `Lathe.models.PowerLog :: Tuple{Float64, Float64}` in module `Lathe.models`\n",
      "\u001b[33m\u001b[1m└ \u001b[22m\u001b[39m\u001b[90m@ Base.Docs docs/Docs.jl:240\u001b[39m\n",
      "WARNING: Method definition MeanBaseline(Any) in module models at /home/emmac/.julia/packages/Lathe/ZRJQf/src/models/toolbox.jl:55 overwritten on the same line (check for duplicate calls to `include`).\n",
      "  ** incremental compilation may be fatally broken for this module **\n",
      "\n",
      "\u001b[33m\u001b[1m┌ \u001b[22m\u001b[39m\u001b[33m\u001b[1mWarning: \u001b[22m\u001b[39mReplacing docs for `Lathe.models.MeanBaseline :: Tuple{Any}` in module `Lathe.models`\n",
      "\u001b[33m\u001b[1m└ \u001b[22m\u001b[39m\u001b[90m@ Base.Docs docs/Docs.jl:240\u001b[39m\n",
      "WARNING: Method definition ClassBaseline(Any) in module models at /home/emmac/.julia/packages/Lathe/ZRJQf/src/models/toolbox.jl:78 overwritten on the same line (check for duplicate calls to `include`).\n",
      "  ** incremental compilation may be fatally broken for this module **\n",
      "\n",
      "\u001b[33m\u001b[1m┌ \u001b[22m\u001b[39m\u001b[33m\u001b[1mWarning: \u001b[22m\u001b[39mReplacing docs for `Lathe.models.ClassBaseline :: Tuple{Any}` in module `Lathe.models`\n",
      "\u001b[33m\u001b[1m└ \u001b[22m\u001b[39m\u001b[90m@ Base.Docs docs/Docs.jl:240\u001b[39m\n",
      "WARNING: Method definition Pipeline(Any) in module models at /home/emmac/.julia/packages/Lathe/ZRJQf/src/models/toolbox.jl:101 overwritten on the same line (check for duplicate calls to `include`).\n",
      "  ** incremental compilation may be fatally broken for this module **\n",
      "\n",
      "\u001b[33m\u001b[1m┌ \u001b[22m\u001b[39m\u001b[33m\u001b[1mWarning: \u001b[22m\u001b[39mReplacing docs for `Lathe.models.Pipeline :: Tuple{Any}` in module `Lathe.models`\n",
      "\u001b[33m\u001b[1m└ \u001b[22m\u001b[39m\u001b[90m@ Base.Docs docs/Docs.jl:240\u001b[39m\n",
      "WARNING: Method definition _compare_predCat(Any, DataFrames.DataFrame) in module models at /home/emmac/.julia/packages/Lathe/ZRJQf/src/models/toolbox.jl:106 overwritten on the same line (check for duplicate calls to `include`).\n",
      "  ** incremental compilation may be fatally broken for this module **\n",
      "\n",
      "WARNING: Method definition PowerLog(Float64, Float64) in module models at /home/emmac/.julia/packages/Lathe/ZRJQf/src/models/toolbox.jl:14 overwritten on the same line (check for duplicate calls to `include`).\n",
      "  ** incremental compilation may be fatally broken for this module **\n",
      "\n",
      "WARNING: Method definition PowerLog##kw(Any, typeof(Lathe.models.PowerLog), Float64, Float64) in module models at /home/emmac/.julia/packages/Lathe/ZRJQf/src/models/toolbox.jl:14 overwritten on the same line (check for duplicate calls to `include`).\n",
      "  ** incremental compilation may be fatally broken for this module **\n",
      "\n",
      "\u001b[33m\u001b[1m┌ \u001b[22m\u001b[39m\u001b[33m\u001b[1mWarning: \u001b[22m\u001b[39mReplacing docs for `Lathe.models.PowerLog :: Tuple{Float64, Float64}` in module `Lathe.models`\n",
      "\u001b[33m\u001b[1m└ \u001b[22m\u001b[39m\u001b[90m@ Base.Docs docs/Docs.jl:240\u001b[39m\n",
      "WARNING: Method definition MeanBaseline(Any) in module models at /home/emmac/.julia/packages/Lathe/ZRJQf/src/models/toolbox.jl:55 overwritten on the same line (check for duplicate calls to `include`).\n",
      "  ** incremental compilation may be fatally broken for this module **\n",
      "\n",
      "\u001b[33m\u001b[1m┌ \u001b[22m\u001b[39m\u001b[33m\u001b[1mWarning: \u001b[22m\u001b[39mReplacing docs for `Lathe.models.MeanBaseline :: Tuple{Any}` in module `Lathe.models`\n",
      "\u001b[33m\u001b[1m└ \u001b[22m\u001b[39m\u001b[90m@ Base.Docs docs/Docs.jl:240\u001b[39m\n",
      "WARNING: Method definition ClassBaseline(Any) in module models at /home/emmac/.julia/packages/Lathe/ZRJQf/src/models/toolbox.jl:78 overwritten on the same line (check for duplicate calls to `include`).\n",
      "  ** incremental compilation may be fatally broken for this module **\n",
      "\n",
      "\u001b[33m\u001b[1m┌ \u001b[22m\u001b[39m\u001b[33m\u001b[1mWarning: \u001b[22m\u001b[39mReplacing docs for `Lathe.models.ClassBaseline :: Tuple{Any}` in module `Lathe.models`\n",
      "\u001b[33m\u001b[1m└ \u001b[22m\u001b[39m\u001b[90m@ Base.Docs docs/Docs.jl:240\u001b[39m\n",
      "WARNING: Method definition Pipeline(Any) in module models at /home/emmac/.julia/packages/Lathe/ZRJQf/src/models/toolbox.jl:101 overwritten on the same line (check for duplicate calls to `include`).\n",
      "  ** incremental compilation may be fatally broken for this module **\n",
      "\n",
      "\u001b[33m\u001b[1m┌ \u001b[22m\u001b[39m\u001b[33m\u001b[1mWarning: \u001b[22m\u001b[39mReplacing docs for `Lathe.models.Pipeline :: Tuple{Any}` in module `Lathe.models`\n",
      "\u001b[33m\u001b[1m└ \u001b[22m\u001b[39m\u001b[90m@ Base.Docs docs/Docs.jl:240\u001b[39m\n",
      "WARNING: Method definition _compare_predCat(Any, DataFrames.DataFrame) in module models at /home/emmac/.julia/packages/Lathe/ZRJQf/src/models/toolbox.jl:106 overwritten on the same line (check for duplicate calls to `include`).\n",
      "  ** incremental compilation may be fatally broken for this module **\n",
      "\n",
      "WARNING: Method definition (::Type{Lathe.preprocess.OneHotEncoder{P} where P})() in module preprocess at /home/emmac/.julia/packages/Lathe/ZRJQf/src/preprocess/encoding.jl:20 overwritten at /home/emmac/.julia/packages/Lathe/ZRJQf/src/preprocess/encoding.jl:26.\n",
      "  ** incremental compilation may be fatally broken for this module **\n",
      "\n"
     ]
    }
   ],
   "source": [
    "using Lathe.stats: mean, std"
   ]
  },
  {
   "cell_type": "code",
   "execution_count": 24,
   "metadata": {},
   "outputs": [
    {
     "data": {
      "text/plain": [
       "standardscale (generic function with 1 method)"
      ]
     },
     "execution_count": 24,
     "metadata": {},
     "output_type": "execute_result"
    }
   ],
   "source": [
    "function standardscale(x::Vector{<:Real})\n",
    "    N::Int64 = length(x)\n",
    "    σ::Number = std(x)\n",
    "    μ::Number = mean(x)\n",
    "    Vector{Real}([i = (i-μ) / σ for i in x])\n",
    "end"
   ]
  },
  {
   "cell_type": "code",
   "execution_count": 25,
   "metadata": {},
   "outputs": [
    {
     "data": {
      "text/plain": [
       "10-element Vector{Int64}:\n",
       "  1\n",
       "  2\n",
       "  3\n",
       "  4\n",
       "  5\n",
       "  6\n",
       "  7\n",
       "  8\n",
       "  9\n",
       " 10"
      ]
     },
     "execution_count": 25,
     "metadata": {},
     "output_type": "execute_result"
    }
   ],
   "source": [
    "x = [1, 2, 3, 4, 5, 6, 7, 8, 9, 10]"
   ]
  },
  {
   "cell_type": "code",
   "execution_count": 26,
   "metadata": {},
   "outputs": [
    {
     "data": {
      "text/plain": [
       "10-element Vector{Real}:\n",
       " -1.9188064472004938\n",
       " -1.4924050144892729\n",
       " -1.066003581778052\n",
       " -0.6396021490668312\n",
       " -0.21320071635561041\n",
       "  0.21320071635561041\n",
       "  0.6396021490668312\n",
       "  1.066003581778052\n",
       "  1.4924050144892729\n",
       "  1.9188064472004938"
      ]
     },
     "execution_count": 26,
     "metadata": {},
     "output_type": "execute_result"
    }
   ],
   "source": [
    "standardscale(x)"
   ]
  },
  {
   "cell_type": "code",
   "execution_count": 27,
   "metadata": {},
   "outputs": [
    {
     "data": {
      "text/plain": [
       "10-element Vector{Int64}:\n",
       " 75\n",
       "  2\n",
       "  3\n",
       "  4\n",
       "  5\n",
       "  6\n",
       "  7\n",
       "  8\n",
       "  9\n",
       " 10"
      ]
     },
     "execution_count": 27,
     "metadata": {},
     "output_type": "execute_result"
    }
   ],
   "source": [
    "x = [75, 2, 3, 4, 5, 6, 7, 8, 9, 10]"
   ]
  },
  {
   "cell_type": "code",
   "execution_count": 28,
   "metadata": {},
   "outputs": [
    {
     "data": {
      "text/plain": [
       "10-element Vector{Real}:\n",
       " 17.290069740400327\n",
       " -3.0348109528238902\n",
       " -2.756387929629038\n",
       " -2.4779649064341855\n",
       " -2.199541883239333\n",
       " -1.9211188600444808\n",
       " -1.6426958368496287\n",
       " -1.3642728136547764\n",
       " -1.085849790459924\n",
       " -0.8074267672650718"
      ]
     },
     "execution_count": 28,
     "metadata": {},
     "output_type": "execute_result"
    }
   ],
   "source": [
    "standardscale(x)"
   ]
  },
  {
   "cell_type": "code",
   "execution_count": 42,
   "metadata": {},
   "outputs": [
    {
     "data": {
      "text/plain": [
       "onehot (generic function with 2 methods)"
      ]
     },
     "execution_count": 42,
     "metadata": {},
     "output_type": "execute_result"
    }
   ],
   "source": [
    "function onehot(df::DataFrame, symb::Symbol)\n",
    "    dfcopy = copy(df)\n",
    "    [dfcopy[!, Symbol(c)] = dfcopy[!,symb] .== c for c in unique(dfcopy[!,symb])]\n",
    "    dfcopy\n",
    "end"
   ]
  },
  {
   "cell_type": "code",
   "execution_count": 43,
   "metadata": {},
   "outputs": [
    {
     "data": {
      "text/html": [
       "<div class=\"data-frame\"><p>4 rows × 2 columns</p><table class=\"data-frame\"><thead><tr><th></th><th>A</th><th>B</th></tr><tr><th></th><th title=\"String\">String</th><th title=\"Int64\">Int64</th></tr></thead><tbody><tr><th>1</th><td>strawberry</td><td>1</td></tr><tr><th>2</th><td>vanilla</td><td>2</td></tr><tr><th>3</th><td>vanilla</td><td>3</td></tr><tr><th>4</th><td>mango</td><td>4</td></tr></tbody></table></div>"
      ],
      "text/latex": [
       "\\begin{tabular}{r|cc}\n",
       "\t& A & B\\\\\n",
       "\t\\hline\n",
       "\t& String & Int64\\\\\n",
       "\t\\hline\n",
       "\t1 & strawberry & 1 \\\\\n",
       "\t2 & vanilla & 2 \\\\\n",
       "\t3 & vanilla & 3 \\\\\n",
       "\t4 & mango & 4 \\\\\n",
       "\\end{tabular}\n"
      ],
      "text/plain": [
       "\u001b[1m4×2 DataFrame\u001b[0m\n",
       "\u001b[1m Row \u001b[0m│\u001b[1m A          \u001b[0m\u001b[1m B     \u001b[0m\n",
       "\u001b[1m     \u001b[0m│\u001b[90m String     \u001b[0m\u001b[90m Int64 \u001b[0m\n",
       "─────┼───────────────────\n",
       "   1 │ strawberry      1\n",
       "   2 │ vanilla         2\n",
       "   3 │ vanilla         3\n",
       "   4 │ mango           4"
      ]
     },
     "execution_count": 43,
     "metadata": {},
     "output_type": "execute_result"
    }
   ],
   "source": [
    "df = DataFrame(:A => [\"strawberry\", \"vanilla\", \"vanilla\", \"mango\"], \n",
    "               :B => [1, 2, 3, 4])"
   ]
  },
  {
   "cell_type": "code",
   "execution_count": 44,
   "metadata": {},
   "outputs": [
    {
     "data": {
      "text/html": [
       "<div class=\"data-frame\"><p>4 rows × 5 columns</p><table class=\"data-frame\"><thead><tr><th></th><th>A</th><th>B</th><th>strawberry</th><th>vanilla</th><th>mango</th></tr><tr><th></th><th title=\"String\">String</th><th title=\"Int64\">Int64</th><th title=\"Bool\">Bool</th><th title=\"Bool\">Bool</th><th title=\"Bool\">Bool</th></tr></thead><tbody><tr><th>1</th><td>strawberry</td><td>1</td><td>1</td><td>0</td><td>0</td></tr><tr><th>2</th><td>vanilla</td><td>2</td><td>0</td><td>1</td><td>0</td></tr><tr><th>3</th><td>vanilla</td><td>3</td><td>0</td><td>1</td><td>0</td></tr><tr><th>4</th><td>mango</td><td>4</td><td>0</td><td>0</td><td>1</td></tr></tbody></table></div>"
      ],
      "text/latex": [
       "\\begin{tabular}{r|ccccc}\n",
       "\t& A & B & strawberry & vanilla & mango\\\\\n",
       "\t\\hline\n",
       "\t& String & Int64 & Bool & Bool & Bool\\\\\n",
       "\t\\hline\n",
       "\t1 & strawberry & 1 & 1 & 0 & 0 \\\\\n",
       "\t2 & vanilla & 2 & 0 & 1 & 0 \\\\\n",
       "\t3 & vanilla & 3 & 0 & 1 & 0 \\\\\n",
       "\t4 & mango & 4 & 0 & 0 & 1 \\\\\n",
       "\\end{tabular}\n"
      ],
      "text/plain": [
       "\u001b[1m4×5 DataFrame\u001b[0m\n",
       "\u001b[1m Row \u001b[0m│\u001b[1m A          \u001b[0m\u001b[1m B     \u001b[0m\u001b[1m strawberry \u001b[0m\u001b[1m vanilla \u001b[0m\u001b[1m mango \u001b[0m\n",
       "\u001b[1m     \u001b[0m│\u001b[90m String     \u001b[0m\u001b[90m Int64 \u001b[0m\u001b[90m Bool       \u001b[0m\u001b[90m Bool    \u001b[0m\u001b[90m Bool  \u001b[0m\n",
       "─────┼───────────────────────────────────────────────\n",
       "   1 │ strawberry      1        true    false  false\n",
       "   2 │ vanilla         2       false     true  false\n",
       "   3 │ vanilla         3       false     true  false\n",
       "   4 │ mango           4       false    false   true"
      ]
     },
     "execution_count": 44,
     "metadata": {},
     "output_type": "execute_result"
    }
   ],
   "source": [
    "encoded_df = onehot(df, :A)"
   ]
  },
  {
   "cell_type": "code",
   "execution_count": 49,
   "metadata": {},
   "outputs": [
    {
     "data": {
      "text/plain": [
       "ordinal (generic function with 1 method)"
      ]
     },
     "execution_count": 49,
     "metadata": {},
     "output_type": "execute_result"
    }
   ],
   "source": [
    "function ordinal(df::DataFrame, symb::Symbol)\n",
    "    lookup = Dict(v => i for (i,v) in df[!, symb] |> unique |> enumerate)\n",
    "    map(x->lookup[x], df[!, symb])\n",
    "end"
   ]
  },
  {
   "cell_type": "code",
   "execution_count": 50,
   "metadata": {},
   "outputs": [
    {
     "data": {
      "text/plain": [
       "4-element Vector{Int64}:\n",
       " 1\n",
       " 2\n",
       " 2\n",
       " 3"
      ]
     },
     "execution_count": 50,
     "metadata": {},
     "output_type": "execute_result"
    }
   ],
   "source": [
    "ordinal(df, :A)"
   ]
  },
  {
   "cell_type": "code",
   "execution_count": 101,
   "metadata": {},
   "outputs": [
    {
     "data": {
      "text/plain": [
       "float_encode (generic function with 1 method)"
      ]
     },
     "execution_count": 101,
     "metadata": {},
     "output_type": "execute_result"
    }
   ],
   "source": [
    "function float_encode(df::DataFrame, symb::Symbol)\n",
    "    floatencoded = Vector{Float64}()\n",
    "    for observation in df[!, symb]\n",
    "        s = \"\"\n",
    "        [s = s * string(float(c)) for c in observation]\n",
    "        s = replace(s, \".\" => \"\")\n",
    "        push!(floatencoded, parse(Float64, s))\n",
    "    end\n",
    "    floatencoded\n",
    "end"
   ]
  },
  {
   "cell_type": "code",
   "execution_count": 102,
   "metadata": {},
   "outputs": [
    {
     "data": {
      "text/plain": [
       "4-element Vector{Float64}:\n",
       " 1.1501160114097013e37\n",
       " 1.1809701100105011e25\n",
       " 1.1809701100105011e25\n",
       " 1.090970110010301e18"
      ]
     },
     "execution_count": 102,
     "metadata": {},
     "output_type": "execute_result"
    }
   ],
   "source": [
    "float_encode(df, :A)"
   ]
  },
  {
   "cell_type": "code",
   "execution_count": 103,
   "metadata": {},
   "outputs": [
    {
     "data": {
      "text/html": [
       "<div class=\"data-frame\"><p>4 rows × 3 columns</p><table class=\"data-frame\"><thead><tr><th></th><th>A</th><th>B</th><th>A_encoded</th></tr><tr><th></th><th title=\"String\">String</th><th title=\"Int64\">Int64</th><th title=\"String\">String</th></tr></thead><tbody><tr><th>1</th><td>strawberry</td><td>1</td><td></td></tr><tr><th>2</th><td>vanilla</td><td>2</td><td></td></tr><tr><th>3</th><td>vanilla</td><td>3</td><td></td></tr><tr><th>4</th><td>mango</td><td>4</td><td></td></tr></tbody></table></div>"
      ],
      "text/latex": [
       "\\begin{tabular}{r|ccc}\n",
       "\t& A & B & A\\_encoded\\\\\n",
       "\t\\hline\n",
       "\t& String & Int64 & String\\\\\n",
       "\t\\hline\n",
       "\t1 & strawberry & 1 &  \\\\\n",
       "\t2 & vanilla & 2 &  \\\\\n",
       "\t3 & vanilla & 3 &  \\\\\n",
       "\t4 & mango & 4 &  \\\\\n",
       "\\end{tabular}\n"
      ],
      "text/plain": [
       "\u001b[1m4×3 DataFrame\u001b[0m\n",
       "\u001b[1m Row \u001b[0m│\u001b[1m A          \u001b[0m\u001b[1m B     \u001b[0m\u001b[1m A_encoded \u001b[0m\n",
       "\u001b[1m     \u001b[0m│\u001b[90m String     \u001b[0m\u001b[90m Int64 \u001b[0m\u001b[90m String    \u001b[0m\n",
       "─────┼──────────────────────────────\n",
       "   1 │ strawberry      1\n",
       "   2 │ vanilla         2\n",
       "   3 │ vanilla         3\n",
       "   4 │ mango           4"
      ]
     },
     "execution_count": 103,
     "metadata": {},
     "output_type": "execute_result"
    }
   ],
   "source": [
    "df"
   ]
  },
  {
   "cell_type": "code",
   "execution_count": 111,
   "metadata": {},
   "outputs": [
    {
     "data": {
      "text/plain": [
       "missing_mean (generic function with 1 method)"
      ]
     },
     "execution_count": 111,
     "metadata": {},
     "output_type": "execute_result"
    }
   ],
   "source": [
    "missing_mean(x::Vector) = begin\n",
    "    summation = 0\n",
    "    len = 0\n",
    "    for number in x\n",
    "        if ismissing(number)\n",
    "            continue\n",
    "        end\n",
    "        summation += number\n",
    "        len += 1\n",
    "    end\n",
    "    summation / len\n",
    "end"
   ]
  },
  {
   "cell_type": "code",
   "execution_count": 115,
   "metadata": {},
   "outputs": [
    {
     "data": {
      "text/plain": [
       "impute_mean (generic function with 2 methods)"
      ]
     },
     "execution_count": 115,
     "metadata": {},
     "output_type": "execute_result"
    }
   ],
   "source": [
    "function impute_mean(x::AbstractVector)\n",
    "    μ::Number = missing_mean(x)\n",
    "    [if ismissing(v) μ else v end for v in x]\n",
    "end"
   ]
  },
  {
   "cell_type": "code",
   "execution_count": 116,
   "metadata": {},
   "outputs": [
    {
     "data": {
      "text/plain": [
       "9-element Vector{Union{Missing, Int64}}:\n",
       "  5\n",
       " 10\n",
       "   missing\n",
       " 20\n",
       "   missing\n",
       " 82\n",
       "   missing\n",
       "   missing\n",
       " 40"
      ]
     },
     "execution_count": 116,
     "metadata": {},
     "output_type": "execute_result"
    }
   ],
   "source": [
    "x = [5, 10, missing, 20, missing, 82, missing, missing, 40]"
   ]
  },
  {
   "cell_type": "code",
   "execution_count": 117,
   "metadata": {},
   "outputs": [
    {
     "data": {
      "text/plain": [
       "9-element Vector{Real}:\n",
       "  5\n",
       " 10\n",
       " 31.4\n",
       " 20\n",
       " 31.4\n",
       " 82\n",
       " 31.4\n",
       " 31.4\n",
       " 40"
      ]
     },
     "execution_count": 117,
     "metadata": {},
     "output_type": "execute_result"
    }
   ],
   "source": [
    "impute_mean(x)"
   ]
  },
  {
   "cell_type": "code",
   "execution_count": null,
   "metadata": {},
   "outputs": [],
   "source": []
  },
  {
   "cell_type": "code",
   "execution_count": null,
   "metadata": {},
   "outputs": [],
   "source": []
  }
 ],
 "metadata": {
  "kernelspec": {
   "display_name": "Julia 1.7.2",
   "language": "julia",
   "name": "julia-1.7"
  },
  "language_info": {
   "file_extension": ".jl",
   "mimetype": "application/julia",
   "name": "julia",
   "version": "1.7.2"
  }
 },
 "nbformat": 4,
 "nbformat_minor": 4
}
