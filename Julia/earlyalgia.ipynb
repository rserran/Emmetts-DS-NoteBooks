{
 "cells": [
  {
   "cell_type": "code",
   "execution_count": 1,
   "id": "77528047",
   "metadata": {},
   "outputs": [
    {
     "name": "stderr",
     "output_type": "stream",
     "text": [
      "\u001b[32m\u001b[1m  Activating\u001b[22m\u001b[39m project at `~/dev/packages/julia/algia/Algia`\n"
     ]
    }
   ],
   "source": [
    "using Pkg\n",
    "Pkg.activate(\".\")"
   ]
  },
  {
   "cell_type": "code",
   "execution_count": 2,
   "id": "5c037d94",
   "metadata": {},
   "outputs": [],
   "source": [
    "using Revise"
   ]
  },
  {
   "cell_type": "code",
   "execution_count": 3,
   "id": "424f7c61",
   "metadata": {},
   "outputs": [
    {
     "name": "stderr",
     "output_type": "stream",
     "text": [
      "\u001b[36m\u001b[1m[ \u001b[22m\u001b[39m\u001b[36m\u001b[1mInfo: \u001b[22m\u001b[39mPrecompiling Algia [91245b94-7320-4a9d-ac3a-8d3b3e6674af]\n"
     ]
    }
   ],
   "source": [
    "using Algia"
   ]
  },
  {
   "cell_type": "code",
   "execution_count": 4,
   "id": "800a7a92",
   "metadata": {},
   "outputs": [
    {
     "data": {
      "text/plain": [
       "Int64 5x1\n"
      ]
     },
     "execution_count": 4,
     "metadata": {},
     "output_type": "execute_result"
    }
   ],
   "source": [
    "algebra = Int64:5"
   ]
  },
  {
   "cell_type": "code",
   "execution_count": 5,
   "id": "3b897dc9",
   "metadata": {},
   "outputs": [
    {
     "data": {
      "text/plain": [
       "String 5x5\n"
      ]
     },
     "execution_count": 5,
     "metadata": {},
     "output_type": "execute_result"
    }
   ],
   "source": [
    "myalgebra = String:(5, 5)"
   ]
  },
  {
   "cell_type": "code",
   "execution_count": 6,
   "id": "82603497",
   "metadata": {},
   "outputs": [
    {
     "data": {
      "text/plain": [
       "5×5 Matrix{String}:\n",
       " \"null\"  \"null\"  \"null\"  \"null\"  \"null\"\n",
       " \"null\"  \"null\"  \"null\"  \"null\"  \"null\"\n",
       " \"null\"  \"null\"  \"null\"  \"null\"  \"null\"\n",
       " \"null\"  \"null\"  \"null\"  \"null\"  \"null\"\n",
       " \"null\"  \"null\"  \"null\"  \"null\"  \"null\""
      ]
     },
     "execution_count": 6,
     "metadata": {},
     "output_type": "execute_result"
    }
   ],
   "source": [
    "[myalgebra]"
   ]
  },
  {
   "cell_type": "code",
   "execution_count": 7,
   "id": "1738acd8",
   "metadata": {},
   "outputs": [
    {
     "data": {
      "text/plain": [
       "String 5x5\n"
      ]
     },
     "execution_count": 7,
     "metadata": {},
     "output_type": "execute_result"
    }
   ],
   "source": [
    "myalgebra = String:(5, 5):e -> string(e)"
   ]
  },
  {
   "cell_type": "code",
   "execution_count": 8,
   "id": "f4e995d3",
   "metadata": {},
   "outputs": [
    {
     "data": {
      "text/plain": [
       "5×5 Matrix{String}:\n",
       " \"1\"  \"6\"   \"11\"  \"16\"  \"21\"\n",
       " \"2\"  \"7\"   \"12\"  \"17\"  \"22\"\n",
       " \"3\"  \"8\"   \"13\"  \"18\"  \"23\"\n",
       " \"4\"  \"9\"   \"14\"  \"19\"  \"24\"\n",
       " \"5\"  \"10\"  \"15\"  \"20\"  \"25\""
      ]
     },
     "execution_count": 8,
     "metadata": {},
     "output_type": "execute_result"
    }
   ],
   "source": [
    "[myalgebra]"
   ]
  },
  {
   "cell_type": "code",
   "execution_count": 9,
   "id": "3cd39ca7",
   "metadata": {},
   "outputs": [
    {
     "data": {
      "text/plain": [
       "String 3x1\n"
      ]
     },
     "execution_count": 9,
     "metadata": {},
     "output_type": "execute_result"
    }
   ],
   "source": [
    "just3 = myalgebra:(1:3, 1:1)"
   ]
  },
  {
   "cell_type": "code",
   "execution_count": 10,
   "id": "643315bf",
   "metadata": {},
   "outputs": [
    {
     "data": {
      "text/plain": [
       "Int64 3x1\n"
      ]
     },
     "execution_count": 10,
     "metadata": {},
     "output_type": "execute_result"
    }
   ],
   "source": [
    "newalg = Algebra([5, 10, 15])"
   ]
  },
  {
   "cell_type": "code",
   "execution_count": 11,
   "id": "edd4da43",
   "metadata": {},
   "outputs": [
    {
     "data": {
      "text/plain": [
       "2-element Vector{Function}:\n",
       " #3 (generic function with 1 method)\n",
       " #5 (generic function with 1 method)"
      ]
     },
     "execution_count": 11,
     "metadata": {},
     "output_type": "execute_result"
    }
   ],
   "source": [
    "myalgebra:vec -> begin\n",
    "    vec[1] = \"hello\"\n",
    "    vec[2], vec[3] = \"world\", \"!!!\"\n",
    "end"
   ]
  },
  {
   "cell_type": "code",
   "execution_count": 12,
   "id": "c94aed06",
   "metadata": {},
   "outputs": [
    {
     "ename": "LoadError",
     "evalue": "TypeError: in typeassert, expected AbstractArray, got a value of type Tuple{String, String}",
     "output_type": "error",
     "traceback": [
      "TypeError: in typeassert, expected AbstractArray, got a value of type Tuple{String, String}",
      "",
      "Stacktrace:",
      " [1] vect(alg::Algebra{String, 5})",
      "   @ Algia ~/dev/packages/julia/algia/Algia/src/algebra.jl:143",
      " [2] top-level scope",
      "   @ In[12]:1"
     ]
    }
   ],
   "source": [
    "[myalgebra]"
   ]
  },
  {
   "cell_type": "code",
   "execution_count": 13,
   "id": "fc3ad010",
   "metadata": {},
   "outputs": [
    {
     "data": {
      "text/plain": [
       "Float64 5x1\n"
      ]
     },
     "execution_count": 13,
     "metadata": {},
     "output_type": "execute_result"
    }
   ],
   "source": [
    "a = Float64:5"
   ]
  },
  {
   "cell_type": "code",
   "execution_count": 14,
   "id": "a00623ed",
   "metadata": {},
   "outputs": [
    {
     "data": {
      "text/plain": [
       "5-element Vector{Float64}:\n",
       " 0.0\n",
       " 0.0\n",
       " 0.0\n",
       " 0.0\n",
       " 0.0"
      ]
     },
     "execution_count": 14,
     "metadata": {},
     "output_type": "execute_result"
    }
   ],
   "source": [
    "[a]"
   ]
  },
  {
   "cell_type": "code",
   "execution_count": 15,
   "id": "54747806",
   "metadata": {},
   "outputs": [
    {
     "data": {
      "text/plain": [
       "3-element Vector{Float64}:\n",
       " 0.0\n",
       " 0.0\n",
       " 0.0"
      ]
     },
     "execution_count": 15,
     "metadata": {},
     "output_type": "execute_result"
    }
   ],
   "source": [
    "a[1:3]"
   ]
  },
  {
   "cell_type": "code",
   "execution_count": 16,
   "id": "f5c5b0f0",
   "metadata": {},
   "outputs": [
    {
     "ename": "LoadError",
     "evalue": "TypeError: in typeassert, expected AbstractArray, got a value of type Tuple{String, String}",
     "output_type": "error",
     "traceback": [
      "TypeError: in typeassert, expected AbstractArray, got a value of type Tuple{String, String}",
      "",
      "Stacktrace:",
      " [1] getindex(alg::Algebra{String, 5}, row::UnitRange{Int64}, col::UnitRange{Int64})",
      "   @ Algia ~/dev/packages/julia/algia/Algia/src/algebra.jl:193",
      " [2] top-level scope",
      "   @ In[16]:1"
     ]
    }
   ],
   "source": [
    "join(myalgebra[1:3, 1:1], \" \")"
   ]
  },
  {
   "cell_type": "code",
   "execution_count": 17,
   "id": "24e8351c",
   "metadata": {},
   "outputs": [
    {
     "data": {
      "text/plain": [
       "5000000-element Vector{Float64}:\n",
       " -2.8858148822327716\n",
       "  0.4396361136289676\n",
       "  0.4666095647952811\n",
       " -0.38668259874766064\n",
       " -0.9293273241966614\n",
       " -0.1514599199579874\n",
       "  0.4259016190229089\n",
       "  0.5216227961533645\n",
       " -0.28317314230331153\n",
       "  0.699746545413995\n",
       " -0.5314312742749318\n",
       " -1.0342488749192673\n",
       " -2.2403280679118684\n",
       "  ⋮\n",
       "  0.13173885229996787\n",
       " -0.6954805195394468\n",
       "  0.7437746467435781\n",
       "  0.5229027808061425\n",
       " -0.5897581969713869\n",
       " -0.3298667935304953\n",
       " -0.8184527414895072\n",
       "  1.2993560316576391\n",
       " -0.38252672573864444\n",
       " -0.418762213746338\n",
       "  1.0450763153584632\n",
       "  0.18857419893560917"
      ]
     },
     "execution_count": 17,
     "metadata": {},
     "output_type": "execute_result"
    }
   ],
   "source": [
    "x = randn(5000000)"
   ]
  },
  {
   "cell_type": "code",
   "execution_count": 18,
   "id": "b274079a",
   "metadata": {},
   "outputs": [
    {
     "data": {
      "text/plain": [
       "40000000"
      ]
     },
     "execution_count": 18,
     "metadata": {},
     "output_type": "execute_result"
    }
   ],
   "source": [
    "sizeof(x)"
   ]
  },
  {
   "cell_type": "code",
   "execution_count": 19,
   "id": "1e62e5d6",
   "metadata": {},
   "outputs": [
    {
     "data": {
      "text/latex": [
       "\\begin{tabular}\n",
       "{l | r | l}\n",
       "name & size & summary \\\\\n",
       "\\hline\n",
       "Base &  & Module \\\\\n",
       "Core &  & Module \\\\\n",
       "Main &  & Module \\\\\n",
       "a & 64 bytes & AlgebraVector\\{Float64\\} \\\\\n",
       "algebra & 64 bytes & AlgebraVector\\{Int64\\} \\\\\n",
       "just3 & 163 bytes & AlgebraVector\\{String\\} \\\\\n",
       "myalgebra & 72 bytes & Algebra\\{String, 5\\} \\\\\n",
       "newalg & 136 bytes & AlgebraVector\\{Int64\\} \\\\\n",
       "x & 38.147 MiB & 5000000-element Vector\\{Float64\\} \\\\\n",
       "\\end{tabular}\n"
      ],
      "text/markdown": [
       "| name      |       size | summary                         |\n",
       "|:--------- | ----------:|:------------------------------- |\n",
       "| Base      |            | Module                          |\n",
       "| Core      |            | Module                          |\n",
       "| Main      |            | Module                          |\n",
       "| a         |   64 bytes | AlgebraVector{Float64}          |\n",
       "| algebra   |   64 bytes | AlgebraVector{Int64}            |\n",
       "| just3     |  163 bytes | AlgebraVector{String}           |\n",
       "| myalgebra |   72 bytes | Algebra{String, 5}              |\n",
       "| newalg    |  136 bytes | AlgebraVector{Int64}            |\n",
       "| x         | 38.147 MiB | 5000000-element Vector{Float64} |\n"
      ],
      "text/plain": [
       "  name            size summary                        \n",
       "  ––––––––– –––––––––– –––––––––––––––––––––––––––––––\n",
       "  Base                 Module                         \n",
       "  Core                 Module                         \n",
       "  Main                 Module                         \n",
       "  a           64 bytes AlgebraVector{Float64}         \n",
       "  algebra     64 bytes AlgebraVector{Int64}           \n",
       "  just3      163 bytes AlgebraVector{String}          \n",
       "  myalgebra   72 bytes Algebra{String, 5}             \n",
       "  newalg     136 bytes AlgebraVector{Int64}           \n",
       "  x         38.147 MiB 5000000-element Vector{Float64}"
      ]
     },
     "execution_count": 19,
     "metadata": {},
     "output_type": "execute_result"
    }
   ],
   "source": [
    "varinfo()"
   ]
  },
  {
   "cell_type": "code",
   "execution_count": 20,
   "id": "98c9996f",
   "metadata": {},
   "outputs": [
    {
     "data": {
      "text/plain": [
       "40000000"
      ]
     },
     "execution_count": 20,
     "metadata": {},
     "output_type": "execute_result"
    }
   ],
   "source": [
    "sizeof(copy(x))"
   ]
  },
  {
   "cell_type": "code",
   "execution_count": 80,
   "id": "6aa4c018",
   "metadata": {},
   "outputs": [
    {
     "data": {
      "text/plain": [
       "Float64 5000000x1\n"
      ]
     },
     "execution_count": 80,
     "metadata": {},
     "output_type": "execute_result"
    }
   ],
   "source": [
    "algebra = Algebra(x)"
   ]
  },
  {
   "cell_type": "code",
   "execution_count": 81,
   "id": "605271a2",
   "metadata": {},
   "outputs": [
    {
     "data": {
      "text/plain": [
       "16"
      ]
     },
     "execution_count": 81,
     "metadata": {},
     "output_type": "execute_result"
    }
   ],
   "source": [
    "sizeof(algebra)"
   ]
  },
  {
   "cell_type": "code",
   "execution_count": 85,
   "id": "e396d33c",
   "metadata": {},
   "outputs": [],
   "source": [
    "using Statistics"
   ]
  },
  {
   "cell_type": "code",
   "execution_count": 86,
   "id": "3ac5bd6c",
   "metadata": {},
   "outputs": [
    {
     "data": {
      "text/plain": [
       "1.0007183385253176"
      ]
     },
     "execution_count": 86,
     "metadata": {},
     "output_type": "execute_result"
    }
   ],
   "source": [
    "mu = mean(x)\n",
    "sigma = std(x)"
   ]
  },
  {
   "cell_type": "code",
   "execution_count": 87,
   "id": "6b6afd7f",
   "metadata": {},
   "outputs": [
    {
     "data": {
      "text/plain": [
       "2-element Vector{Function}:\n",
       " #3 (generic function with 1 method)\n",
       " #99 (generic function with 1 method)"
      ]
     },
     "execution_count": 87,
     "metadata": {},
     "output_type": "execute_result"
    }
   ],
   "source": [
    "algebra:vec -> begin\n",
    "    [x = (x - mu) / sigma for x in vec]\n",
    "end"
   ]
  },
  {
   "cell_type": "code",
   "execution_count": 88,
   "id": "b5ee1d7e",
   "metadata": {},
   "outputs": [
    {
     "data": {
      "text/plain": [
       "5000000-element Vector{Float64}:\n",
       " -2.883696148806721\n",
       "  0.43936776222563073\n",
       "  0.4663218512313965\n",
       " -0.38635779966854944\n",
       " -0.9286130023149355\n",
       " -0.15130396910089644\n",
       "  0.42564312655412084\n",
       "  0.5212955928330066\n",
       " -0.28292264468090017\n",
       "  0.6992914807899695\n",
       " -0.5310025712838835\n",
       " -1.0334592379472523\n",
       " -2.2386726796934164\n",
       "  ⋮\n",
       "  0.13169151659719094\n",
       " -0.6949340582458012\n",
       "  0.7432879777408138\n",
       "  0.5225746586835077\n",
       " -0.5892876255803873\n",
       " -0.32958277813662623\n",
       " -0.8178180079206671\n",
       "  1.2984705536220342\n",
       " -0.38220490984028826\n",
       " -0.41841438718542323\n",
       "  1.0443733651225324\n",
       "  0.18848606552031272"
      ]
     },
     "execution_count": 88,
     "metadata": {},
     "output_type": "execute_result"
    }
   ],
   "source": [
    "[algebra]"
   ]
  },
  {
   "cell_type": "code",
   "execution_count": 89,
   "id": "1a6b0eb2",
   "metadata": {},
   "outputs": [
    {
     "data": {
      "text/plain": [
       "16"
      ]
     },
     "execution_count": 89,
     "metadata": {},
     "output_type": "execute_result"
    }
   ],
   "source": [
    "sizeof(algebra)"
   ]
  },
  {
   "cell_type": "code",
   "execution_count": 92,
   "id": "6d92e9a8",
   "metadata": {},
   "outputs": [
    {
     "data": {
      "text/plain": [
       "600000-element Vector{Int64}:\n",
       " 16\n",
       " 19\n",
       "  8\n",
       " 16\n",
       " 11\n",
       "  7\n",
       " 13\n",
       " 14\n",
       " 15\n",
       " 14\n",
       " 19\n",
       "  4\n",
       "  3\n",
       "  ⋮\n",
       " 14\n",
       " 19\n",
       " 14\n",
       " 20\n",
       "  2\n",
       " 20\n",
       " 11\n",
       "  8\n",
       "  7\n",
       " 15\n",
       "  7\n",
       " 13"
      ]
     },
     "execution_count": 92,
     "metadata": {},
     "output_type": "execute_result"
    }
   ],
   "source": [
    "values = [rand(1:20) for i in 1:600000]"
   ]
  },
  {
   "cell_type": "code",
   "execution_count": 93,
   "id": "9ee89302",
   "metadata": {},
   "outputs": [
    {
     "data": {
      "text/plain": [
       "600000-element Vector{String}:\n",
       " \"orange\"\n",
       " \"green\"\n",
       " \"orange\"\n",
       " \"green\"\n",
       " \"green\"\n",
       " \"red\"\n",
       " \"green\"\n",
       " \"green\"\n",
       " \"blue\"\n",
       " \"red\"\n",
       " \"red\"\n",
       " \"red\"\n",
       " \"green\"\n",
       " ⋮\n",
       " \"blue\"\n",
       " \"blue\"\n",
       " \"red\"\n",
       " \"orange\"\n",
       " \"red\"\n",
       " \"blue\"\n",
       " \"red\"\n",
       " \"red\"\n",
       " \"orange\"\n",
       " \"green\"\n",
       " \"blue\"\n",
       " \"green\""
      ]
     },
     "execution_count": 93,
     "metadata": {},
     "output_type": "execute_result"
    }
   ],
   "source": [
    "cats = [\"blue\", \"red\", \"orange\", \"green\"]\n",
    "svalues = [cats[rand(1:4)] for i in 1:600000]"
   ]
  },
  {
   "cell_type": "code",
   "execution_count": 94,
   "id": "979a6f60",
   "metadata": {},
   "outputs": [
    {
     "data": {
      "text/plain": [
       "600000-element Vector{Int64}:\n",
       " 7\n",
       " 6\n",
       " 7\n",
       " 6\n",
       " 6\n",
       " 4\n",
       " 6\n",
       " 6\n",
       " 5\n",
       " 4\n",
       " 4\n",
       " 4\n",
       " 6\n",
       " ⋮\n",
       " 5\n",
       " 5\n",
       " 4\n",
       " 7\n",
       " 4\n",
       " 5\n",
       " 4\n",
       " 4\n",
       " 7\n",
       " 6\n",
       " 5\n",
       " 6"
      ]
     },
     "execution_count": 94,
     "metadata": {},
     "output_type": "execute_result"
    }
   ],
   "source": [
    "touch(\"strs.txt\")\n",
    "open(\"strs.txt\", \"w\") do o::IO\n",
    "    [write(o, \"$val,\") for val in svalues]\n",
    "end"
   ]
  },
  {
   "cell_type": "code",
   "execution_count": 95,
   "id": "179a5cb2",
   "metadata": {},
   "outputs": [
    {
     "data": {
      "text/plain": [
       "600000-element Vector{Int64}:\n",
       " 3\n",
       " 3\n",
       " 2\n",
       " 3\n",
       " 3\n",
       " 2\n",
       " 3\n",
       " 3\n",
       " 3\n",
       " 3\n",
       " 3\n",
       " 2\n",
       " 2\n",
       " ⋮\n",
       " 3\n",
       " 3\n",
       " 3\n",
       " 3\n",
       " 2\n",
       " 3\n",
       " 3\n",
       " 2\n",
       " 2\n",
       " 3\n",
       " 2\n",
       " 3"
      ]
     },
     "execution_count": 95,
     "metadata": {},
     "output_type": "execute_result"
    }
   ],
   "source": [
    "touch(\"ints.txt\")\n",
    "open(\"ints.txt\", \"w\") do o::IO\n",
    "    [write(o, \"$val,\") for val in values]\n",
    "end"
   ]
  },
  {
   "cell_type": "code",
   "execution_count": null,
   "id": "04044676",
   "metadata": {},
   "outputs": [],
   "source": []
  }
 ],
 "metadata": {
  "kernelspec": {
   "display_name": "Julia 1.9.2",
   "language": "julia",
   "name": "julia-1.9"
  },
  "language_info": {
   "file_extension": ".jl",
   "mimetype": "application/julia",
   "name": "julia",
   "version": "1.9.2"
  }
 },
 "nbformat": 4,
 "nbformat_minor": 5
}
