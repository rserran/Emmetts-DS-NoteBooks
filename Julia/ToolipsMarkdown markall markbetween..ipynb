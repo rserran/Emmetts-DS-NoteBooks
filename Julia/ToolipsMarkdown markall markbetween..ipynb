{
 "cells": [
  {
   "cell_type": "code",
   "execution_count": 34,
   "id": "a6a091c8",
   "metadata": {},
   "outputs": [],
   "source": [
    "using Revise\n",
    "using Toolips"
   ]
  },
  {
   "cell_type": "code",
   "execution_count": 35,
   "id": "eed2f5ef",
   "metadata": {},
   "outputs": [
    {
     "name": "stderr",
     "output_type": "stream",
     "text": [
      "\u001b[32m\u001b[1m   Resolving\u001b[22m\u001b[39m package versions...\n",
      "\u001b[32m\u001b[1m  No Changes\u001b[22m\u001b[39m to `~/.julia/environments/v1.9/Project.toml`\n",
      "\u001b[32m\u001b[1m  No Changes\u001b[22m\u001b[39m to `~/.julia/environments/v1.9/Manifest.toml`\n"
     ]
    }
   ],
   "source": [
    "using Pkg; Pkg.develop(path = \"../packages/toolips/ToolipsMarkdown.jl\")"
   ]
  },
  {
   "cell_type": "code",
   "execution_count": 36,
   "id": "381064e1",
   "metadata": {},
   "outputs": [],
   "source": [
    "using ToolipsMarkdown"
   ]
  },
  {
   "cell_type": "code",
   "execution_count": 37,
   "id": "6efaccfa",
   "metadata": {},
   "outputs": [],
   "source": [
    "using ToolipsMarkdown: TextModifier"
   ]
  },
  {
   "cell_type": "code",
   "execution_count": 38,
   "id": "af893681",
   "metadata": {},
   "outputs": [
    {
     "data": {
      "text/plain": [
       "ToolipsMarkdown.TextStyleModifier(\"\\\"\\\"\\\"\\n# this is cool\\n\\\"\\\"\\\"\\nfunction example(x::Any)\\n    x = 22\\nend\", Int64[], Dict{UnitRange{Int64}, Symbol}(), Dict{Symbol, Vector{Pair{String, String}}}())"
      ]
     },
     "execution_count": 38,
     "metadata": {},
     "output_type": "execute_result"
    }
   ],
   "source": [
    "tm = ToolipsMarkdown.TextStyleModifier(\"\"\"\n",
    "\\\"\\\"\\\"\n",
    "# this is cool\n",
    "\\\"\\\"\\\"\n",
    "function example(x::Any)\n",
    "    x = 22\n",
    "end\"\"\")"
   ]
  },
  {
   "cell_type": "code",
   "execution_count": 39,
   "id": "734619e8",
   "metadata": {},
   "outputs": [
    {
     "name": "stdout",
     "output_type": "stream",
     "text": [
      "57:57 => :number\n",
      "hello\n",
      "58:58 => :number\n",
      "hello\n"
     ]
    },
    {
     "data": {
      "text/plain": [
       "Dict{Symbol, Vector{Pair{String, String}}} with 21 entries:\n",
       "  :begin       => [\"color\"=>\"#fc038c\"]\n",
       "  :default     => [\"color\"=>\"#3D3D3D\"]\n",
       "  :for         => [\"color\"=>\"#fc038c\"]\n",
       "  :exit        => [\"color\"=>\"teal\"]\n",
       "  :multistring => [\"color\"=>\"darkgreen\"]\n",
       "  :mutable     => [\"color\"=>\"teal\"]\n",
       "  :struct      => [\"color\"=>\"#fc038c\"]\n",
       "  :func        => [\"color\"=>\"#fc038c\"]\n",
       "  :module      => [\"color\"=>\"red\"]\n",
       "  :string      => [\"color\"=>\"green\"]\n",
       "  :in          => [\"color\"=>\"teal\"]\n",
       "  :abstract    => [\"color\"=>\"teal\"]\n",
       "  :char        => [\"color\"=>\"#8b0000\"]\n",
       "  :end         => [\"color\"=>\"#b81870\"]\n",
       "  :import      => [\"color\"=>\"#fc038c\"]\n",
       "  :op          => [\"color\"=>\"darkblue\"]\n",
       "  :type        => [\"color\"=>\"#D67229\"]\n",
       "  :funcn       => [\"color\"=>\"blue\"]\n",
       "  :number      => [\"color\"=>\"#8b0000\"]\n",
       "  :if          => [\"color\"=>\"#fc038c\"]\n",
       "  :using       => [\"color\"=>\"teal\"]"
      ]
     },
     "execution_count": 39,
     "metadata": {},
     "output_type": "execute_result"
    }
   ],
   "source": [
    "ToolipsMarkdown.julia_block!(tm)"
   ]
  },
  {
   "cell_type": "code",
   "execution_count": 53,
   "id": "754a160e",
   "metadata": {},
   "outputs": [
    {
     "data": {
      "text/plain": [
       "2-element Vector{Vector{Int64}}:\n",
       " [57]\n",
       " [58]"
      ]
     },
     "execution_count": 53,
     "metadata": {},
     "output_type": "execute_result"
    }
   ],
   "source": [
    "ToolipsMarkdown.mark_all!(tm, '2', :number)"
   ]
  },
  {
   "cell_type": "code",
   "execution_count": 54,
   "id": "e4105bd6",
   "metadata": {},
   "outputs": [
    {
     "data": {
      "text/plain": [
       "Dict{UnitRange{Int64}, Symbol} with 8 entries:\n",
       "  60:62 => :end\n",
       "  24:31 => :func\n",
       "  33:39 => :funcn\n",
       "  42:46 => :type\n",
       "  1:22  => :multistring\n",
       "  57:57 => :number\n",
       "  58:58 => :number\n",
       "  57:58 => :number"
      ]
     },
     "execution_count": 54,
     "metadata": {},
     "output_type": "execute_result"
    }
   ],
   "source": [
    "tm.marks"
   ]
  },
  {
   "cell_type": "code",
   "execution_count": 55,
   "id": "e580caa2",
   "metadata": {},
   "outputs": [
    {
     "data": {
      "text/html": [
       "<a id=modiftxt style='color: darkgreen;'>\"\"\"\n",
       "# this is cool\n",
       "\"\"\"</a><a id=modiftxt style='color: #3D3D3D;'><br></a><a id=modiftxt style='color: #fc038c;'>function</a><a id=modiftxt style='color: #3D3D3D;'>&nbsp;</a><a id=modiftxt style='color: blue;'>example</a><a id=modiftxt style='color: #3D3D3D;'>(x</a><a id=modiftxt style='color: #D67229;'>::Any</a><a id=modiftxt style='color: #3D3D3D;'>)<br>&nbsp;&nbsp;&nbsp;&nbsp;x&nbsp;=&nbsp;</a><a id=modiftxt style='color: #8b0000;'>22</a><a id=modiftxt style='color: #3D3D3D;'><br></a><a id=modiftxt style='color: #b81870;'>end</a>"
      ]
     },
     "metadata": {},
     "output_type": "display_data"
    }
   ],
   "source": [
    "display(\"text/html\", string(tm))"
   ]
  },
  {
   "cell_type": "code",
   "execution_count": 46,
   "id": "faa0e975",
   "metadata": {},
   "outputs": [
    {
     "data": {
      "text/plain": [
       "7-element Vector{Char}:\n",
       " '\\n': ASCII/Unicode U+000A (category Cc: Other, control)\n",
       " ' ': ASCII/Unicode U+0020 (category Zs: Separator, space)\n",
       " ',': ASCII/Unicode U+002C (category Po: Punctuation, other)\n",
       " '(': ASCII/Unicode U+0028 (category Ps: Punctuation, open)\n",
       " ')': ASCII/Unicode U+0029 (category Pe: Punctuation, close)\n",
       " ';': ASCII/Unicode U+003B (category Po: Punctuation, other)\n",
       " '\"': ASCII/Unicode U+0022 (category Po: Punctuation, other)"
      ]
     },
     "execution_count": 46,
     "metadata": {},
     "output_type": "execute_result"
    }
   ],
   "source": [
    "repeat_offenders = ['\\n', ' ', ',', '(', ')', ';', '\\\"']"
   ]
  },
  {
   "cell_type": "code",
   "execution_count": 11,
   "id": "42928db7",
   "metadata": {},
   "outputs": [
    {
     "data": {
      "text/plain": [
       "mark_all! (generic function with 1 method)"
      ]
     },
     "execution_count": 11,
     "metadata": {},
     "output_type": "execute_result"
    }
   ],
   "source": [
    "function mark_all!(tm::TextModifier, s::String, label::Symbol)::Nothing\n",
    "    [begin\n",
    "            if v[1] - 1 > 1 && ~(maximum(v) == length(tm.raw))\n",
    "                if tm.raw[v[1] - 1] in repeat_offenders && tm.raw[maximum(v) + 1] in repeat_offenders\n",
    "                    if ~(any(n -> n in v, tm.taken))\n",
    "                        push!(tm, v => label)\n",
    "                    end\n",
    "                end\n",
    "            elseif v[1] - 1 > 1\n",
    "                if tm.raw[v[1] - 1] in repeat_offenders\n",
    "                    if ~(any(n -> n in v, tm.taken))\n",
    "                        push!(tm, v => label)\n",
    "                    end\n",
    "                end\n",
    "            elseif ~(maximum(v) == length(tm.raw))\n",
    "                if tm.raw[maximum(v) + 1] in repeat_offenders\n",
    "                    if ~(any(n -> n in v, tm.taken))\n",
    "                        push!(tm, v => label)\n",
    "                    end\n",
    "                end\n",
    "            end  \n",
    "     end for v in findall(s, tm.raw)]\n",
    "    nothing\n",
    "end"
   ]
  },
  {
   "cell_type": "code",
   "execution_count": 12,
   "id": "754fe9e1",
   "metadata": {},
   "outputs": [
    {
     "data": {
      "text/plain": [
       "mark_between! (generic function with 1 method)"
      ]
     },
     "execution_count": 12,
     "metadata": {},
     "output_type": "execute_result"
    }
   ],
   "source": [
    "function mark_between!(tm::TextModifier, s::String, label::Symbol)\n",
    "    positions::Vector{UnitRange{Int64}} = findall(s, tm.raw)\n",
    "    uneven = length(positions) % 2 != 0\n",
    "    [begin\n",
    "        if ~(e % 2 == 0)\n",
    "            if uneven && e == length(positions)\n",
    "                if ~(any(n -> n in v[1]:length(tm.raw), tm.taken))\n",
    "                    atstart = v[1] - 1 < 1\n",
    "                    atend = maximum(v) == length(tm.raw)\n",
    "                    if atstart\n",
    "                        push!(tm, v[1]:length(tm.raw) => label)\n",
    "                    else\n",
    "                        if ~(tm.raw[maximum(mark1) + 1] == s[1])\n",
    "                            push!(tm, v[1]:length(tm.raw) => label)\n",
    "                        end\n",
    "                    end  \n",
    "                end\n",
    "        else\n",
    "            mark1 = minimum(v)\n",
    "            mark2 = maximum(positions[e + 1])\n",
    "            atstart = v[1] - 1 < 1\n",
    "            atend = maximum(v) == length(tm.raw)\n",
    "            if ~(atstart || atend)\n",
    "                if ~(tm.raw[mark1 - 1] == s[1] || tm.raw[maximum(mark2) + 1] == s[length(s)])\n",
    "                    push!(tm, mark1:mark2 => label)\n",
    "                end\n",
    "            elseif atstart\n",
    "                if ~(tm.raw[maximum(mark2) + 1] == s[1])\n",
    "                    push!(tm, mark1:mark2 => label)\n",
    "                end\n",
    "            elseif atend\n",
    "                if tm.raw[mark1 - 1] == s[1]\n",
    "                    push!(tm, mark1:mark2 => label)\n",
    "                end   \n",
    "            end  \n",
    "        end\n",
    "    end\n",
    "    end for (e, v) in enumerate(positions)]\n",
    "    nothing\n",
    "end\n"
   ]
  },
  {
   "cell_type": "code",
   "execution_count": 13,
   "id": "3510daec",
   "metadata": {},
   "outputs": [
    {
     "data": {
      "text/plain": [
       "Dict{UnitRange{Int64}, Symbol} with 5 entries:\n",
       "  60:62 => :end\n",
       "  24:31 => :func\n",
       "  33:39 => :funcn\n",
       "  42:46 => :type\n",
       "  1:22  => :multistring"
      ]
     },
     "execution_count": 13,
     "metadata": {},
     "output_type": "execute_result"
    }
   ],
   "source": [
    "tm.marks"
   ]
  },
  {
   "cell_type": "code",
   "execution_count": 14,
   "id": "81efce81",
   "metadata": {},
   "outputs": [
    {
     "data": {
      "text/plain": [
       "mark_julia! (generic function with 1 method)"
      ]
     },
     "execution_count": 14,
     "metadata": {},
     "output_type": "execute_result"
    }
   ],
   "source": [
    "function mark_julia!(tm::TextModifier)\n",
    "    mark_between!(tm, \"\\\"\\\"\\\"\", :multistring)\n",
    "    mark_between!(tm, \"\\\"\", :string)\n",
    "    mark_all!(tm, \"function\", :func)\n",
    "    mark_all!(tm, \"end\", :func)\n",
    "end"
   ]
  },
  {
   "cell_type": "code",
   "execution_count": 15,
   "id": "99c62e38",
   "metadata": {},
   "outputs": [
    {
     "data": {
      "text/plain": [
       "Dict{UnitRange{Int64}, Symbol}()"
      ]
     },
     "execution_count": 15,
     "metadata": {},
     "output_type": "execute_result"
    }
   ],
   "source": [
    "ToolipsMarkdown.clear!(tm)"
   ]
  },
  {
   "cell_type": "code",
   "execution_count": 16,
   "id": "5f5973cd",
   "metadata": {},
   "outputs": [
    {
     "data": {
      "text/plain": [
       "\"\\\"\\\"\\\"\\n# this is cool\\n\\\"\\\"\\\"\\nfunction\\n\\nend\\n\\n\\\"hello!\\\"\\n\\nfunction example(x::Any)\\n    x = 5\\nend\""
      ]
     },
     "execution_count": 16,
     "metadata": {},
     "output_type": "execute_result"
    }
   ],
   "source": [
    "tm.raw = \"\"\"\n",
    "\\\"\\\"\\\"\n",
    "# this is cool\n",
    "\\\"\\\"\\\"\n",
    "function\n",
    "\n",
    "end\n",
    "\n",
    "\"hello!\"\n",
    "\n",
    "function example(x::Any)\n",
    "    x = 5\n",
    "end\"\"\""
   ]
  },
  {
   "cell_type": "code",
   "execution_count": 17,
   "id": "5da02461",
   "metadata": {},
   "outputs": [],
   "source": [
    "mark_julia!(tm)"
   ]
  },
  {
   "cell_type": "code",
   "execution_count": 18,
   "id": "5b69471b",
   "metadata": {},
   "outputs": [
    {
     "data": {
      "text/plain": [
       "Dict{Symbol, Vector{Pair{String, String}}} with 21 entries:\n",
       "  :begin       => [\"color\"=>\"#fc038c\"]\n",
       "  :default     => [\"color\"=>\"#3D3D3D\"]\n",
       "  :for         => [\"color\"=>\"#fc038c\"]\n",
       "  :exit        => [\"color\"=>\"teal\"]\n",
       "  :multistring => [\"color\"=>\"darkgreen\"]\n",
       "  :mutable     => [\"color\"=>\"teal\"]\n",
       "  :struct      => [\"color\"=>\"#fc038c\"]\n",
       "  :func        => [\"color\"=>\"#fc038c\"]\n",
       "  :module      => [\"color\"=>\"red\"]\n",
       "  :string      => [\"color\"=>\"green\"]\n",
       "  :in          => [\"color\"=>\"teal\"]\n",
       "  :abstract    => [\"color\"=>\"teal\"]\n",
       "  :char        => [\"color\"=>\"#8b0000\"]\n",
       "  :end         => [\"color\"=>\"#b81870\"]\n",
       "  :import      => [\"color\"=>\"#fc038c\"]\n",
       "  :op          => [\"color\"=>\"darkblue\"]\n",
       "  :type        => [\"color\"=>\"#D67229\"]\n",
       "  :funcn       => [\"color\"=>\"blue\"]\n",
       "  :number      => [\"color\"=>\"#8b0000\"]\n",
       "  :if          => [\"color\"=>\"#fc038c\"]\n",
       "  :using       => [\"color\"=>\"teal\"]"
      ]
     },
     "execution_count": 18,
     "metadata": {},
     "output_type": "execute_result"
    }
   ],
   "source": [
    "ToolipsMarkdown.highlight_julia!(tm)"
   ]
  },
  {
   "cell_type": "code",
   "execution_count": 19,
   "id": "0e5cc03a",
   "metadata": {},
   "outputs": [
    {
     "data": {
      "text/html": [
       "<a id=modiftxt style='color: darkgreen;'>\"\"\"\n",
       "# this is cool\n",
       "\"\"\"</a><a id=modiftxt style='color: #3D3D3D;'><br></a><a id=modiftxt style='color: #fc038c;'>function</a><a id=modiftxt style='color: #3D3D3D;'><br><br></a><a id=modiftxt style='color: #fc038c;'>end</a><a id=modiftxt style='color: #3D3D3D;'><br><br></a><a id=modiftxt style='color: green;'>\"hello!\"</a><a id=modiftxt style='color: #3D3D3D;'><br><br></a><a id=modiftxt style='color: #fc038c;'>function</a><a id=modiftxt style='color: #3D3D3D;'>&nbsp;example(x::Any)<br>&nbsp;&nbsp;&nbsp;&nbsp;x&nbsp;=&nbsp;5<br></a><a id=modiftxt style='color: #fc038c;'>end</a>"
      ]
     },
     "metadata": {},
     "output_type": "display_data"
    }
   ],
   "source": [
    "display(\"text/html\", string(tm))"
   ]
  },
  {
   "cell_type": "code",
   "execution_count": null,
   "id": "f8894b74",
   "metadata": {},
   "outputs": [],
   "source": []
  },
  {
   "cell_type": "code",
   "execution_count": null,
   "id": "e9907c68",
   "metadata": {},
   "outputs": [],
   "source": []
  },
  {
   "cell_type": "code",
   "execution_count": null,
   "id": "955abf94",
   "metadata": {},
   "outputs": [],
   "source": []
  }
 ],
 "metadata": {
  "kernelspec": {
   "display_name": "Julia 1.9.2",
   "language": "julia",
   "name": "julia-1.9"
  },
  "language_info": {
   "file_extension": ".jl",
   "mimetype": "application/julia",
   "name": "julia",
   "version": "1.9.2"
  }
 },
 "nbformat": 4,
 "nbformat_minor": 5
}
