{
 "cells": [
  {
   "cell_type": "code",
   "execution_count": 1,
   "id": "485cd264",
   "metadata": {},
   "outputs": [
    {
     "name": "stderr",
     "output_type": "stream",
     "text": [
      "\u001b[32m\u001b[1m   Resolving\u001b[22m\u001b[39m package versions...\n",
      "\u001b[32m\u001b[1m  No Changes\u001b[22m\u001b[39m to `~/.julia/environments/v1.9/Project.toml`\n",
      "\u001b[32m\u001b[1m  No Changes\u001b[22m\u001b[39m to `~/.julia/environments/v1.9/Manifest.toml`\n",
      "\u001b[32m\u001b[1m   Resolving\u001b[22m\u001b[39m package versions...\n",
      "\u001b[32m\u001b[1m  No Changes\u001b[22m\u001b[39m to `~/.julia/environments/v1.9/Project.toml`\n",
      "\u001b[32m\u001b[1m  No Changes\u001b[22m\u001b[39m to `~/.julia/environments/v1.9/Manifest.toml`\n",
      "\u001b[32m\u001b[1m   Resolving\u001b[22m\u001b[39m package versions...\n",
      "\u001b[32m\u001b[1m  No Changes\u001b[22m\u001b[39m to `~/.julia/environments/v1.9/Project.toml`\n",
      "\u001b[32m\u001b[1m  No Changes\u001b[22m\u001b[39m to `~/.julia/environments/v1.9/Manifest.toml`\n"
     ]
    }
   ],
   "source": [
    "using Pkg; Pkg.develop(path = \"./Gattino.jl\")\n",
    "Pkg.develop(path = \"./GattinoInteractive\")\n",
    "Pkg.develop(path = \"../toolips/ToolipsSession.jl\")"
   ]
  },
  {
   "cell_type": "code",
   "execution_count": 2,
   "id": "1f6922f2",
   "metadata": {},
   "outputs": [],
   "source": [
    "using Revise"
   ]
  },
  {
   "cell_type": "code",
   "execution_count": 3,
   "id": "0a6faa47",
   "metadata": {},
   "outputs": [
    {
     "name": "stderr",
     "output_type": "stream",
     "text": [
      "\u001b[36m\u001b[1m[ \u001b[22m\u001b[39m\u001b[36m\u001b[1mInfo: \u001b[22m\u001b[39mPrecompiling ToolipsSession [2fe55384-55bc-4df3-9d59-c817d405cd05]\n",
      "\u001b[36m\u001b[1m[ \u001b[22m\u001b[39m\u001b[36m\u001b[1mInfo: \u001b[22m\u001b[39mPrecompiling Gattino [f0fb3ee5-f608-41f3-a42d-dac276373afc]\n",
      "\u001b[36m\u001b[1m[ \u001b[22m\u001b[39m\u001b[36m\u001b[1mInfo: \u001b[22m\u001b[39mPrecompiling GattinoInteractive [4120b9a3-2441-4f88-b64c-abd29fac8134]\n"
     ]
    }
   ],
   "source": [
    "using ToolipsSession\n",
    "using Gattino\n",
    "using GattinoInteractive"
   ]
  },
  {
   "cell_type": "code",
   "execution_count": 88,
   "id": "85379d9d",
   "metadata": {},
   "outputs": [
    {
     "data": {
      "text/html": [
       "\"<input id=mycomp type=text></input>\""
      ],
      "text/plain": [
       "Toolips.Component{:input}(\"mycomp\", Dict{Any, Any}(:children => Toolips.Servable[], :type => \"text\"), Toolips.Servable[], \"input\")"
      ]
     },
     "execution_count": 88,
     "metadata": {},
     "output_type": "execute_result"
    }
   ],
   "source": [
    "mycomp = Gattino.Toolips.input(\"mycomp\", type = \"text\")"
   ]
  },
  {
   "cell_type": "code",
   "execution_count": 89,
   "id": "a5b820b6",
   "metadata": {},
   "outputs": [
    {
     "data": {
      "text/html": [
       "\"<svg id=window height=100 width=100></svg>\""
      ]
     },
     "metadata": {},
     "output_type": "display_data"
    },
    {
     "data": {
      "text/html": [
       "\"<svg id=window height=100 width=100></svg>\""
      ],
      "text/plain": []
     },
     "execution_count": 89,
     "metadata": {},
     "output_type": "execute_result"
    }
   ],
   "source": [
    "mycon = context(100, 100) do con::Context\n",
    "    \n",
    "end"
   ]
  },
  {
   "cell_type": "code",
   "execution_count": 90,
   "id": "f1b50d61",
   "metadata": {},
   "outputs": [],
   "source": [
    "group!(mycon, \"green\") do g::Group\n",
    "    Gattino.points!(g, [1, 5, 3, 2, 5], [5, 6, 7, 3, 2], \"fill\" => \"green\")\n",
    "end\n",
    "group!(mycon, \"red\") do g::Group\n",
    "   Gattino.points!(g, [8, 3, 4, 2, 3], [9, 4, 3, 1, 2], \"fill\" => \"red\") \n",
    "end\n",
    "style!(mycon, \"red\", \"opacity\" => 0percent, \"transition\" => 2seconds)\n",
    "style!(mycon, \"green\", \"transition\" => 2seconds)\n"
   ]
  },
  {
   "cell_type": "code",
   "execution_count": 91,
   "id": "869d78c5",
   "metadata": {},
   "outputs": [
    {
     "data": {
      "text/html": [
       "\"<svg id=window height=100 width=100><g id=green height=100 width=100><circle id=ASY0mVZl cx=20.0 style='fill: green;transition: 2s;' r=5 cy=28.57142857142857></circle><circle id=TtkTI8VO cx=100.0 style='fill: green;transition: 2s;' r=5 cy=14.285714285714292></circle><circle id=Wo97UsXz cx=60.0 style='fill: green;transition: 2s;' r=5 cy=0.0></circle><circle id=OsChx5pH cx=40.0 style='fill: green;transition: 2s;' r=5 cy=57.142857142857146></circle><circle id=7ZJRms6l cx=100.0 style='fill: green;transition: 2s;' r=5 cy=71.42857142857143></circle></g><g id=red height=100 width=100><circle id=du3w6rRj cx=100.0 style='fill: red;opacity: 0%;transition: 2s;' r=5 cy=0.0></circle><circle id=p5x3dMmJ cx=37.5 style='fill: red;opacity: 0%;transition: 2s;' r=5 cy=55.55555555555556></circle><circle id=9R6tcGfL cx=50.0 style='fill: red;opacity: 0%;transition: 2s;' r=5 cy=66.66666666666667></circle><circle id=3G0RE1Wu cx=25.0 style='fill: red;opacity: 0%;transition: 2s;' r=5 cy=88.88888888888889></circle><circle id=PArxvIWS cx=37.5 style='fill: red;opacity: 0%;transition: 2s;' r=5 cy=77.77777777777777></circle></g></svg>\""
      ]
     },
     "metadata": {},
     "output_type": "display_data"
    },
    {
     "data": {
      "text/html": [
       "\"<svg id=window height=100 width=100><g id=green height=100 width=100><circle id=ASY0mVZl cx=20.0 style='fill: green;transition: 2s;' r=5 cy=28.57142857142857></circle><circle id=TtkTI8VO cx=100.0 style='fill: green;transition: 2s;' r=5 cy=14.285714285714292></circle><circle id=Wo97UsXz cx=60.0 style='fill: green;transition: 2s;' r=5 cy=0.0></circle><circle id=OsChx5pH cx=40.0 style='fill: green;transition: 2s;' r=5 cy=57.142857142857146></circle><circle id=7ZJRms6l cx=100.0 style='fill: green;transition: 2s;' r=5 cy=71.42857142857143></circle></g><g id=red height=100 width=100><circle id=du3w6rRj cx=100.0 style='fill: red;opacity: 0%;transition: 2s;' r=5 cy=0.0></circle><circle id=p5x3dMmJ cx=37.5 style='fill: red;opacity: 0%;transition: 2s;' r=5 cy=55.55555555555556></circle><circle id=9R6tcGfL cx=50.0 style='fill: red;opacity: 0%;transition: 2s;' r=5 cy=66.66666666666667></circle><circle id=3G0RE1Wu cx=25.0 style='fill: red;opacity: 0%;transition: 2s;' r=5 cy=88.88888888888889></circle><circle id=PArxvIWS cx=37.5 style='fill: red;opacity: 0%;transition: 2s;' r=5 cy=77.77777777777777></circle></g></svg>\""
      ],
      "text/plain": []
     },
     "execution_count": 91,
     "metadata": {},
     "output_type": "execute_result"
    }
   ],
   "source": [
    "mycon"
   ]
  },
  {
   "cell_type": "code",
   "execution_count": 92,
   "id": "39c1bbf3",
   "metadata": {},
   "outputs": [
    {
     "data": {
      "text/plain": [
       "1-element Vector{Toolips.Servable}:\n",
       " Toolips.Component{:script}(\"mycompinput\", Dict{Any, Any}(:children => Toolips.Servable[], :text => \"function mycompinput(event){var new_element = document.getElementById('ASY0mVZl');new_element.style['opacity'] = '0%';var new_element = document.getElementById('TtkTI8VO');new_element.style['opacity'] = '0%';var new_element = document.getElementById('Wo97UsXz');new_element.style['opacity'] = '0%';var new_element = document.getElementById('OsChx5pH');new_element.style['opacity'] = '0%';var new_element = document.getElementById('7ZJRms6l');new_element.style['opacity'] = '0%';var new_element = document.getElementById('du3w6rRj');new_element.style['opacity'] = '100%';var new_element = document.getElementById('p5x3dMmJ');new_element.style['opacity'] = '100%';var new_element = document.getElementById('9R6tcGfL');new_element.style['opacity'] = '100%';var new_element = document.getElementById('3G0RE1Wu');new_element.style['opacity'] = '100%';var new_element = document.getElementById('PArxvIWS');new_element.style['opacity'] = '100%';}\"), Toolips.Servable[], \"script\")"
      ]
     },
     "execution_count": 92,
     "metadata": {},
     "output_type": "execute_result"
    }
   ],
   "source": [
    "bind!(mycon, mycomp) do gm\n",
    "    change_layer!(gm, \"green\", \"red\")\n",
    "end"
   ]
  },
  {
   "cell_type": "code",
   "execution_count": 93,
   "id": "f781d5ee",
   "metadata": {},
   "outputs": [
    {
     "data": {
      "text/html": [
       "\"<input id=mycomp type=text oninput=mycompinput(event);></input><script id=mycompinput>function mycompinput(event){var new_element = document.getElementById('ASY0mVZl');new_element.style['opacity'] = '0%';var new_element = document.getElementById('TtkTI8VO');new_element.style['opacity'] = '0%';var new_element = document.getElementById('Wo97UsXz');new_element.style['opacity'] = '0%';var new_element = document.getElementById('OsChx5pH');new_element.style['opacity'] = '0%';var new_element = document.getElementById('7ZJRms6l');new_element.style['opacity'] = '0%';var new_element = document.getElementById('du3w6rRj');new_element.style['opacity'] = '100%';var new_element = document.getElementById('p5x3dMmJ');new_element.style['opacity'] = '100%';var new_element = document.getElementById('9R6tcGfL');new_element.style['opacity'] = '100%';var new_element = document.getElementById('3G0RE1Wu');new_element.style['opacity'] = '100%';var new_element = document.getElementById('PArxvIWS');new_element.style['opacity'] = '100%';}</script>\""
      ],
      "text/plain": [
       "Toolips.Component{:input}(\"mycomp\", Dict{Any, Any}(:children => Toolips.Servable[], :type => \"text\", \"oninput\" => \"mycompinput(event);\"), Toolips.Servable[Toolips.Component{:script}(\"mycompinput\", Dict{Any, Any}(:children => Toolips.Servable[], :text => \"function mycompinput(event){var new_element = document.getElementById('ASY0mVZl');new_element.style['opacity'] = '0%';var new_element = document.getElementById('TtkTI8VO');new_element.style['opacity'] = '0%';var new_element = document.getElementById('Wo97UsXz');new_element.style['opacity'] = '0%';var new_element = document.getElementById('OsChx5pH');new_element.style['opacity'] = '0%';var new_element = document.getElementById('7ZJRms6l');new_element.style['opacity'] = '0%';var new_element = document.getElementById('du3w6rRj');new_element.style['opacity'] = '100%';var new_element = document.getElementById('p5x3dMmJ');new_element.style['opacity'] = '100%';var new_element = document.getElementById('9R6tcGfL');new_element.style['opacity'] = '100%';var new_element = document.getElementById('3G0RE1Wu');new_element.style['opacity'] = '100%';var new_element = document.getElementById('PArxvIWS');new_element.style['opacity'] = '100%';}\"), Toolips.Servable[], \"script\")], \"input\")"
      ]
     },
     "execution_count": 93,
     "metadata": {},
     "output_type": "execute_result"
    }
   ],
   "source": [
    "mycomp"
   ]
  },
  {
   "cell_type": "code",
   "execution_count": null,
   "id": "a2227aba",
   "metadata": {},
   "outputs": [],
   "source": []
  },
  {
   "cell_type": "code",
   "execution_count": null,
   "id": "2e2bc53f",
   "metadata": {},
   "outputs": [],
   "source": []
  }
 ],
 "metadata": {
  "kernelspec": {
   "display_name": "Julia 1.9.2",
   "language": "julia",
   "name": "julia-1.9"
  },
  "language_info": {
   "file_extension": ".jl",
   "mimetype": "application/julia",
   "name": "julia",
   "version": "1.9.2"
  }
 },
 "nbformat": 4,
 "nbformat_minor": 5
}
