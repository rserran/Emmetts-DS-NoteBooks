{
 "cells": [
  {
   "cell_type": "code",
   "execution_count": 1,
   "id": "485cd264",
   "metadata": {},
   "outputs": [
    {
     "name": "stderr",
     "output_type": "stream",
     "text": [
      "\u001b[32m\u001b[1m   Resolving\u001b[22m\u001b[39m package versions...\n",
      "\u001b[32m\u001b[1m  No Changes\u001b[22m\u001b[39m to `~/.julia/environments/v1.9/Project.toml`\n",
      "\u001b[32m\u001b[1m  No Changes\u001b[22m\u001b[39m to `~/.julia/environments/v1.9/Manifest.toml`\n",
      "\u001b[32m\u001b[1m   Resolving\u001b[22m\u001b[39m package versions...\n",
      "\u001b[32m\u001b[1m  No Changes\u001b[22m\u001b[39m to `~/.julia/environments/v1.9/Project.toml`\n",
      "\u001b[32m\u001b[1m  No Changes\u001b[22m\u001b[39m to `~/.julia/environments/v1.9/Manifest.toml`\n",
      "\u001b[32m\u001b[1m   Resolving\u001b[22m\u001b[39m package versions...\n",
      "\u001b[32m\u001b[1m  No Changes\u001b[22m\u001b[39m to `~/.julia/environments/v1.9/Project.toml`\n",
      "\u001b[32m\u001b[1m  No Changes\u001b[22m\u001b[39m to `~/.julia/environments/v1.9/Manifest.toml`\n"
     ]
    }
   ],
   "source": [
    "using Pkg; Pkg.develop(path = \"./Gattino.jl\")\n",
    "Pkg.develop(path = \"./GattinoInteractive\")\n",
    "Pkg.develop(path = \"../toolips/ToolipsSession.jl\")"
   ]
  },
  {
   "cell_type": "code",
   "execution_count": 2,
   "id": "1f6922f2",
   "metadata": {},
   "outputs": [],
   "source": [
    "using Revise"
   ]
  },
  {
   "cell_type": "code",
   "execution_count": 39,
   "id": "0a6faa47",
   "metadata": {},
   "outputs": [],
   "source": [
    "using ToolipsSession\n",
    "using Gattino\n",
    "using GattinoInteractive"
   ]
  },
  {
   "cell_type": "code",
   "execution_count": 40,
   "id": "a5b820b6",
   "metadata": {},
   "outputs": [
    {
     "data": {
      "text/html": [
       "\"<svg id=window height=100 width=100></svg>\""
      ]
     },
     "metadata": {},
     "output_type": "display_data"
    },
    {
     "data": {
      "text/html": [
       "\"<svg id=window height=100 width=100></svg>\""
      ],
      "text/plain": []
     },
     "execution_count": 40,
     "metadata": {},
     "output_type": "execute_result"
    }
   ],
   "source": [
    "mycon = context(100, 100) do con::Context\n",
    "    \n",
    "end"
   ]
  },
  {
   "cell_type": "code",
   "execution_count": 41,
   "id": "f1b50d61",
   "metadata": {},
   "outputs": [],
   "source": [
    "group!(mycon, \"green\") do g::Group\n",
    "    Gattino.points!(g, [1, 5, 3, 2, 5], [5, 6, 7, 3, 2], \"fill\" => \"green\")\n",
    "end\n",
    "group!(mycon, \"red\") do g::Group\n",
    "   Gattino.points!(g, [8, 3, 4, 2, 3], [9, 4, 3, 1, 2], \"fill\" => \"red\") \n",
    "end\n",
    "style!(mycon, \"red\", \"opacity\" => 0percent, \"transition\" => 2seconds)\n",
    "style!(mycon, \"green\", \"transition\" => 2seconds)\n"
   ]
  },
  {
   "cell_type": "code",
   "execution_count": 58,
   "id": "39c1bbf3",
   "metadata": {
    "scrolled": true
   },
   "outputs": [],
   "source": [
    "ctrls = controls(100, 100) do ctrl::Controls\n",
    "    options = GattinoInteractive.options(\"green\", \"red\")\n",
    "    changefeaturebox = selection_box(\"featurecontroller\", options)\n",
    "    bind!(mycon, changefeaturebox) do gm\n",
    "        value_is!(gm, changefeaturebox, \"'red'\") do cl\n",
    "            change_layer!(cl, \"green\", \"red\")\n",
    "        end\n",
    "        value_is!(gm, changefeaturebox, \"'green'\") do cl\n",
    "            change_layer!(cl, \"red\", \"green\")\n",
    "        end\n",
    "    end\n",
    "    push!(ctrl, changefeaturebox)\n",
    "    mybutt = Gattino.button(\"changevals\", text = \"change values\")\n",
    "    bind!(mycon, mybutt) do gm\n",
    "        Gattino.points!(gm, \"green\", [5, 1, 4, 3, 4], [5, 3, 4, 2, 6], xmax = 20, ymax = 20)\n",
    "    end\n",
    "    push!(ctrl, mybutt)\n",
    "end\n",
    "nothing"
   ]
  },
  {
   "cell_type": "code",
   "execution_count": 59,
   "id": "a4d7f6b6",
   "metadata": {},
   "outputs": [
    {
     "data": {
      "text/html": [
       "\"<div id=changeable-features><svg id=window height=100 style='display: inline-block;display: inline-block;display: inline-block;display: inline-block;display: inline-block;display: inline-block;display: inline-block;display: inline-block;display: inline-block;' width=100><g id=green height=100 width=100><circle id=FnCyEkyD cx=20.0 style='fill: green;transition: 2s;' r=5 cy=28.57142857142857></circle><circle id=I9xJQBZL cx=100.0 style='fill: green;transition: 2s;' r=5 cy=14.285714285714292></circle><circle id=ipIn1KPy cx=60.0 style='fill: green;transition: 2s;' r=5 cy=0.0></circle><circle id=HUrCj46x cx=40.0 style='fill: green;transition: 2s;' r=5 cy=57.142857142857146></circle><circle id=EzsiKIzn cx=100.0 style='fill: green;transition: 2s;' r=5 cy=71.42857142857143></circle></g><g id=red height=100 width=100><circle id=rTdvoNyZ cx=100.0 style='fill: red;opacity: 0%;transition: 2s;' r=5 cy=0.0></circle><circle id=Dl0JpP8w cx=37.5 style='fill: red;opacity: 0%;transition: 2s;' r=5 cy=55.55555555555556></circle><circle id=nPgtG56c cx=50.0 style='fill: red;opacity: 0%;transition: 2s;' r=5 cy=66.66666666666667></circle><circle id=7FWHrJ7Z cx=25.0 style='fill: red;opacity: 0%;transition: 2s;' r=5 cy=88.88888888888889></circle><circle id=SRKGJuYp cx=37.5 style='fill: red;opacity: 0%;transition: 2s;' r=5 cy=77.77777777777777></circle></g></svg><div id=c9qZFZx8 style='width: 100;height: 100;margin-left: 0;margin-right: 0;padding: 0px;vertical-align: top;display: inline-block;' height=100 width=100><select id=featurecontroller oninput=featurecontrollerinput(event);><option id=green>green</option><option id=red>red</option></select><script id=featurecontrollerinput>function featurecontrollerinput(event){document.getElementById('featurecontroller').setAttribute('value',document.getElementById('featurecontroller').value);if (String(document.getElementById('featurecontroller').value) == 'red'){var new_element = document.getElementById('FnCyEkyD');new_element.style['opacity'] = '0%';var new_element = document.getElementById('I9xJQBZL');new_element.style['opacity'] = '0%';var new_element = document.getElementById('ipIn1KPy');new_element.style['opacity'] = '0%';var new_element = document.getElementById('HUrCj46x');new_element.style['opacity'] = '0%';var new_element = document.getElementById('EzsiKIzn');new_element.style['opacity'] = '0%';var new_element = document.getElementById('rTdvoNyZ');new_element.style['opacity'] = '100%';var new_element = document.getElementById('Dl0JpP8w');new_element.style['opacity'] = '100%';var new_element = document.getElementById('nPgtG56c');new_element.style['opacity'] = '100%';var new_element = document.getElementById('7FWHrJ7Z');new_element.style['opacity'] = '100%';var new_element = document.getElementById('SRKGJuYp');new_element.style['opacity'] = '100%';}if (String(document.getElementById('featurecontroller').value) == 'green'){var new_element = document.getElementById('rTdvoNyZ');new_element.style['opacity'] = '0%';var new_element = document.getElementById('Dl0JpP8w');new_element.style['opacity'] = '0%';var new_element = document.getElementById('nPgtG56c');new_element.style['opacity'] = '0%';var new_element = document.getElementById('7FWHrJ7Z');new_element.style['opacity'] = '0%';var new_element = document.getElementById('SRKGJuYp');new_element.style['opacity'] = '0%';var new_element = document.getElementById('FnCyEkyD');new_element.style['opacity'] = '100%';var new_element = document.getElementById('I9xJQBZL');new_element.style['opacity'] = '100%';var new_element = document.getElementById('ipIn1KPy');new_element.style['opacity'] = '100%';var new_element = document.getElementById('HUrCj46x');new_element.style['opacity'] = '100%';var new_element = document.getElementById('EzsiKIzn');new_element.style['opacity'] = '100%';}}</script><button id=changevals onclick=changevalsclick(event);>change values</button><script id=changevalsclick>function changevalsclick(event){document.getElementById('FnCyEkyD').setAttribute('cx','25.0');document.getElementById('I9xJQBZL').setAttribute('cx','5.0');document.getElementById('ipIn1KPy').setAttribute('cx','20.0');document.getElementById('HUrCj46x').setAttribute('cx','15.0');document.getElementById('EzsiKIzn').setAttribute('cx','20.0');document.getElementById('FnCyEkyD').setAttribute('cy','75.0');document.getElementById('I9xJQBZL').setAttribute('cy','85.0');document.getElementById('ipIn1KPy').setAttribute('cy','80.0');document.getElementById('HUrCj46x').setAttribute('cy','90.0');document.getElementById('EzsiKIzn').setAttribute('cy','70.0');}</script></div></div>\""
      ],
      "text/plain": [
       "Toolips.Component{:div}(\"changeable-features\", Dict{Any, Any}(:children => Toolips.Servable[Toolips.Component{:svg}(\"window\", Dict{Any, Any}(:children => Toolips.Servable[Toolips.Component{:g}(\"green\", Dict{Any, Any}(:children => Toolips.Servable[Toolips.Component{:circle}(\"FnCyEkyD\", Dict{Any, Any}(:children => Toolips.Servable[], :cx => \"20.0\", \"style\" => \"'fill: green;transition: 2s;'\", :r => \"5\", :cy => \"28.57142857142857\"), Toolips.Servable[], \"circle\"), Toolips.Component{:circle}(\"I9xJQBZL\", Dict{Any, Any}(:children => Toolips.Servable[], :cx => \"100.0\", \"style\" => \"'fill: green;transition: 2s;'\", :r => \"5\", :cy => \"14.285714285714292\"), Toolips.Servable[], \"circle\"), Toolips.Component{:circle}(\"ipIn1KPy\", Dict{Any, Any}(:children => Toolips.Servable[], :cx => \"60.0\", \"style\" => \"'fill: green;transition: 2s;'\", :r => \"5\", :cy => \"0.0\"), Toolips.Servable[], \"circle\"), Toolips.Component{:circle}(\"HUrCj46x\", Dict{Any, Any}(:children => Toolips.Servable[], :cx => \"40.0\", \"style\" => \"'fill: green;transition: 2s;'\", :r => \"5\", :cy => \"57.142857142857146\"), Toolips.Servable[], \"circle\"), Toolips.Component{:circle}(\"EzsiKIzn\", Dict{Any, Any}(:children => Toolips.Servable[], :cx => \"100.0\", \"style\" => \"'fill: green;transition: 2s;'\", :r => \"5\", :cy => \"71.42857142857143\"), Toolips.Servable[], \"circle\")], :height => 100, :width => 100), Toolips.Servable[], \"g\"), Toolips.Component{:g}(\"red\", Dict{Any, Any}(:children => Toolips.Servable[Toolips.Component{:circle}(\"rTdvoNyZ\", Dict{Any, Any}(:children => Toolips.Servable[], :cx => \"100.0\", \"style\" => \"'fill: red;opacity: 0%;transition: 2s;'\", :r => \"5\", :cy => \"0.0\"), Toolips.Servable[], \"circle\"), Toolips.Component{:circle}(\"Dl0JpP8w\", Dict{Any, Any}(:children => Toolips.Servable[], :cx => \"37.5\", \"style\" => \"'fill: red;opacity: 0%;transition: 2s;'\", :r => \"5\", :cy => \"55.55555555555556\"), Toolips.Servable[], \"circle\"), Toolips.Component{:circle}(\"nPgtG56c\", Dict{Any, Any}(:children => Toolips.Servable[], :cx => \"50.0\", \"style\" => \"'fill: red;opacity: 0%;transition: 2s;'\", :r => \"5\", :cy => \"66.66666666666667\"), Toolips.Servable[], \"circle\"), Toolips.Component{:circle}(\"7FWHrJ7Z\", Dict{Any, Any}(:children => Toolips.Servable[], :cx => \"25.0\", \"style\" => \"'fill: red;opacity: 0%;transition: 2s;'\", :r => \"5\", :cy => \"88.88888888888889\"), Toolips.Servable[], \"circle\"), Toolips.Component{:circle}(\"SRKGJuYp\", Dict{Any, Any}(:children => Toolips.Servable[], :cx => \"37.5\", \"style\" => \"'fill: red;opacity: 0%;transition: 2s;'\", :r => \"5\", :cy => \"77.77777777777777\"), Toolips.Servable[], \"circle\")], :height => 100, :width => 100), Toolips.Servable[], \"g\")], :height => 100, \"style\" => \"'display: inline-block;display: inline-block;display: inline-block;display: inline-block;display: inline-block;display: inline-block;display: inline-block;display: inline-block;display: inline-block;'\", :width => 100), Toolips.Servable[], \"svg\"), Toolips.Component{:div}(\"c9qZFZx8\", Dict{Any, Any}(:children => Toolips.Servable[Toolips.Component{:select}(\"featurecontroller\", Dict{Any, Any}(:children => Toolips.Servable[Toolips.Component{:option}(\"green\", Dict{Any, Any}(:children => Toolips.Servable[], :text => \"green\"), Toolips.Servable[], \"option\"), Toolips.Component{:option}(\"red\", Dict{Any, Any}(:children => Toolips.Servable[], :text => \"red\"), Toolips.Servable[], \"option\")], \"oninput\" => \"featurecontrollerinput(event);\"), Toolips.Servable[Toolips.Component{:script}(\"featurecontrollerinput\", Dict{Any, Any}(:children => Toolips.Servable[], :text => \"function featurecontrollerinput(event){document.getElementById('featurecontroller').setAttribute('value',document.getElementById('featurecontroller').value);if (String(document.getElementById('featurecontroller').value) == 'red'){var new_element = document.getElementById('FnCyEkyD');new_element.style['opacity'] = '0%';var new_element = document.getElementById('I9xJQBZL');new_element.style['opacity'] = '0%';var new_element = document.getElementById('ipIn1KPy');new_element.style['opacity'] = '0%';var new_element = document.getElementById('HUrCj46x');new_element.style['opacity'] = '0%';var new_element = document.getElementById('EzsiKIzn');new_element.style['opacity'] = '0%';var new_element = document.getElementById('rTdvoNyZ');new_element.style['opacity'] = '100%';var new_element = document.getElementById('Dl0JpP8w');new_element.style['opacity'] = '100%';var new_element = document.getElementById('nPgtG56c');new_element.style['opacity'] = '100%';var new_element = document.getElementById('7FWHrJ7Z');new_element.style['opacity'] = '100%';var new_element = document.getElementById('SRKGJuYp');new_element.style['opacity'] = '100%';}if (String(document.getElementById('featurecontroller').value) == 'green'){var new_element = document.getElementById('rTdvoNyZ');new_element.style['opacity'] = '0%';var new_element = document.getElementById('Dl0JpP8w');new_element.style['opacity'] = '0%';var new_element = document.getElementById('nPgtG56c');new_element.style['opacity'] = '0%';var new_element = document.getElementById('7FWHrJ7Z');new_element.style['opacity'] = '0%';var new_element = document.getElementById('SRKGJuYp');new_element.style['opacity'] = '0%';var new_element = document.getElementById('FnCyEkyD');new_element.style['opacity'] = '100%';var new_element = document.getElementById('I9xJQBZL');new_element.style['opacity'] = '100%';var new_element = document.getElementById('ipIn1KPy');new_element.style['opacity'] = '100%';var new_element = document.getElementById('HUrCj46x');new_element.style['opacity'] = '100%';var new_element = document.getElementById('EzsiKIzn');new_element.style['opacity'] = '100%';}}\"), Toolips.Servable[], \"script\")], \"select\"), Toolips.Component{:button}(\"changevals\", Dict{Any, Any}(\"onclick\" => \"changevalsclick(event);\", :children => Toolips.Servable[], :text => \"change values\"), Toolips.Servable[Toolips.Component{:script}(\"changevalsclick\", Dict{Any, Any}(:children => Toolips.Servable[], :text => \"function changevalsclick(event){document.getElementById('FnCyEkyD').setAttribute('cx','25.0');document.getElementById('I9xJQBZL').setAttribute('cx','5.0');document.getElementById('ipIn1KPy').setAttribute('cx','20.0');document.getElementById('HUrCj46x').setAttribute('cx','15.0');document.getElementById('EzsiKIzn').setAttribute('cx','20.0');document.getElementById('FnCyEkyD').setAttribute('cy','75.0');document.getElementById('I9xJQBZL').setAttribute('cy','85.0');document.getElementById('ipIn1KPy').setAttribute('cy','80.0');document.getElementById('HUrCj46x').setAttribute('cy','90.0');document.getElementById('EzsiKIzn').setAttribute('cy','70.0');}\"), Toolips.Servable[], \"script\")], \"button\")], \"style\" => \"'width: 100;height: 100;margin-left: 0;margin-right: 0;padding: 0px;vertical-align: top;display: inline-block;'\", :height => 100, :width => 100), Toolips.Servable[], \"div\")]), Toolips.Servable[], \"div\")"
      ]
     },
     "execution_count": 59,
     "metadata": {},
     "output_type": "execute_result"
    }
   ],
   "source": [
    "f = compose(\"changeable-features\", mycon, ctrls)"
   ]
  },
  {
   "cell_type": "code",
   "execution_count": 54,
   "id": "af3e6cda",
   "metadata": {},
   "outputs": [],
   "source": [
    "style!(ctrls, \"display\" => \"inline-block\", \"padding\" => 3px, \"vertical-align\" => \"top\")"
   ]
  },
  {
   "cell_type": "code",
   "execution_count": null,
   "id": "25864419",
   "metadata": {},
   "outputs": [],
   "source": []
  },
  {
   "cell_type": "code",
   "execution_count": null,
   "id": "fb34008f",
   "metadata": {},
   "outputs": [],
   "source": []
  }
 ],
 "metadata": {
  "kernelspec": {
   "display_name": "Julia 1.9.2",
   "language": "julia",
   "name": "julia-1.9"
  },
  "language_info": {
   "file_extension": ".jl",
   "mimetype": "application/julia",
   "name": "julia",
   "version": "1.9.2"
  }
 },
 "nbformat": 4,
 "nbformat_minor": 5
}
