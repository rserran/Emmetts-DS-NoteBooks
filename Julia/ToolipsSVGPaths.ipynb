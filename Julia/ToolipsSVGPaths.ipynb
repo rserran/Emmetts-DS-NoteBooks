{
 "cells": [
  {
   "cell_type": "code",
   "execution_count": 1,
   "id": "efbb80fd-6865-4cb5-832d-442696965dc5",
   "metadata": {},
   "outputs": [
    {
     "name": "stderr",
     "output_type": "stream",
     "text": [
      "\u001b[32m\u001b[1m   Resolving\u001b[22m\u001b[39m package versions...\n",
      "\u001b[32m\u001b[1m  No Changes\u001b[22m\u001b[39m to `~/dev/packages/toolips/ToolipsSVG.jl/Project.toml`\n",
      "\u001b[32m\u001b[1m  No Changes\u001b[22m\u001b[39m to `~/dev/packages/toolips/ToolipsSVG.jl/Manifest.toml`\n",
      "\u001b[32m\u001b[1mPrecompiling\u001b[22m\u001b[39m project...\n",
      "\u001b[32m  ✓ \u001b[39mToolipsServables\n",
      "\u001b[32m  ✓ \u001b[39mToolipsSVG\n",
      "  2 dependencies successfully precompiled in 3 seconds. 9 already precompiled.\n"
     ]
    }
   ],
   "source": [
    "using Pkg\n",
    "Pkg.add(\"Revise\")"
   ]
  },
  {
   "cell_type": "code",
   "execution_count": 18,
   "id": "e5fde6ea-b015-408d-8591-7dcbc77c41ec",
   "metadata": {},
   "outputs": [
    {
     "name": "stderr",
     "output_type": "stream",
     "text": [
      "\u001b[32m\u001b[1m  Activating\u001b[22m\u001b[39m project at `~/dev/packages/toolips/ToolipsSVG.jl`\n"
     ]
    }
   ],
   "source": [
    "Pkg.activate(\".\")"
   ]
  },
  {
   "cell_type": "code",
   "execution_count": 48,
   "id": "d0307073-2517-422e-a44c-ff18ec4e3c4d",
   "metadata": {},
   "outputs": [],
   "source": [
    "using Revise"
   ]
  },
  {
   "cell_type": "code",
   "execution_count": 49,
   "id": "bf1c30d2-054c-4f67-a35e-1308d126deea",
   "metadata": {},
   "outputs": [],
   "source": [
    "using ToolipsSVG"
   ]
  },
  {
   "cell_type": "code",
   "execution_count": 108,
   "id": "b0aa8ca7-1ad2-4474-8e1d-2c95843c850f",
   "metadata": {},
   "outputs": [
    {
     "data": {
      "text/plain": [
       "set_shape! (generic function with 4 methods)"
      ]
     },
     "execution_count": 108,
     "metadata": {},
     "output_type": "execute_result"
    }
   ],
   "source": [
    "ToolipsSVG.set_shape!"
   ]
  },
  {
   "cell_type": "code",
   "execution_count": 109,
   "id": "c0f886f0-da98-4db6-9a12-4d59224de1ac",
   "metadata": {},
   "outputs": [
    {
     "data": {
      "text/html": [
       "\"<svg id=\\\"main\\\" height=500 width=500></svg>\""
      ],
      "text/plain": [
       "svg(\"main\", Dict{Symbol, Any}(:extras => AbstractComponent[], :children => AbstractComponent[], :height => \"500\", :text => \"\", :width => \"500\"), \"svg\")"
      ]
     },
     "execution_count": 109,
     "metadata": {},
     "output_type": "execute_result"
    }
   ],
   "source": [
    "window = svg(\"main\", width = 500, height = 500)"
   ]
  },
  {
   "cell_type": "code",
   "execution_count": 110,
   "id": "5d9e549c-3bc3-47b9-89b2-3fdadc5e73d3",
   "metadata": {},
   "outputs": [
    {
     "data": {
      "text/plain": [
       "\"M50 50L100 50L100 100L50 100L50 50Z\""
      ]
     },
     "execution_count": 110,
     "metadata": {},
     "output_type": "execute_result"
    }
   ],
   "source": [
    "squarepath = path(\"new-square\")\n",
    "M!(squarepath, 50, 50)\n",
    "L!(squarepath, 100, 50)\n",
    "L!(squarepath, 100, 100)\n",
    "L!(squarepath, 50, 100)\n",
    "L!(squarepath, 50, 50)\n",
    "Z!(squarepath)"
   ]
  },
  {
   "cell_type": "code",
   "execution_count": 111,
   "id": "335ffe4c-b525-4020-8872-27e46d267a42",
   "metadata": {},
   "outputs": [
    {
     "data": {
      "text/html": [
       "\"<svg id=\\\"main\\\" height=500 width=500><path id=\\\"new-square\\\" d='M50 50L100 50L100 100L50 100L50 50Z'></path></svg>\""
      ]
     },
     "metadata": {},
     "output_type": "display_data"
    }
   ],
   "source": [
    "push!(window, squarepath)\n",
    "display(\"text/html\", window)"
   ]
  },
  {
   "cell_type": "code",
   "execution_count": 112,
   "id": "23add00b-7a00-436b-8c5d-364d4ac6740a",
   "metadata": {},
   "outputs": [
    {
     "data": {
      "text/plain": [
       "\"M12 21.593c-5.63-5.539-11-10.297-11-14.402 0-3.791 3.068-5.191 5.281-5.191 1.312 0 4.151.501 5.719 4.457 1.59-3.968 4.464-4.447 5.726-4.447 2.54 0 5.274 1.621 5.274 5.181 0 4.069-5.136 8.625-11 14.402m5.726-20.583c-2.203 0-4.446 1.042-5.726 3.238-1.285-2.206-3.522-3.248-5.719-3.248-3.183 0-6.281 2.187-6.281 6.191 0 4.661 5.571 9.429 12 15.809 6.43-6.38 12-11.148 12-15.809 0-4.011-3.095-6.181-6.274-6.181\""
      ]
     },
     "execution_count": 112,
     "metadata": {},
     "output_type": "execute_result"
    }
   ],
   "source": [
    "cuteheart = path(\"heart\")\n",
    "M!(cuteheart, 12, \"21.593c-5.63-5.539-11-10.297-11-14.402\", \n",
    "\"0-3.791 3.068-5.191 5.281-5.191 1.312\", 0, \"4.151.501\", \n",
    "5.719, 4.457, \"1.59-3.968\", \"4.464-4.447\",\n",
    " \"5.726-4.447\", 2.54, 0, 5.274, 1.621, 5.274, 5.181, 0,\n",
    " \"4.069-5.136 8.625-11\", \"14.402m5.726-20.583c-2.203\", \"0-4.446 1.042-5.726 3.238-1.285-2.206-3.522-3.248-5.719-3.248-3.183\",\n",
    "  \"0-6.281\", \"2.187-6.281\", 6.191, 0, 4.661, 5.571, 9.429, 12, 15.809, \"6.43-6.38 12-11.148 12-15.809\",\n",
    "   \"0-4.011-3.095-6.181-6.274-6.181\")"
   ]
  },
  {
   "cell_type": "code",
   "execution_count": 113,
   "id": "eae4a956-e3d0-4179-8da2-8e262af820c1",
   "metadata": {},
   "outputs": [
    {
     "data": {
      "text/plain": [
       "\"M12 21.593c-5.63-5.539-11-10.297-11-14.402 0-3.791 3.068-5.191 5.281-5.191 1.312 0 4.151.501 5.719 4.457 1.59-3.968 4.464-4.447 5.726-4.447 2.54 0 5.274 1.621 5.274 5.181 0 4.069-5.136 8.625-11 14.402m5.726-20.583c-2.203 0-4.446 1.042-5.726 3.238-1.285-2.206-3.522-3.248-5.719-3.248-3.183 0-6.281 2.187-6.281 6.191 0 4.661 5.571 9.429 12 15.809 6.43-6.38 12-11.148 12-15.809 0-4.011-3.095-6.181-6.274-6.181\""
      ]
     },
     "execution_count": 113,
     "metadata": {},
     "output_type": "execute_result"
    }
   ],
   "source": [
    "cuteheart[:d]"
   ]
  },
  {
   "cell_type": "code",
   "execution_count": 114,
   "id": "a357f011-02e8-46bb-9f84-90f32411007c",
   "metadata": {},
   "outputs": [
    {
     "data": {
      "text/html": [
       "\"<path id=\\\"new-square\\\" d='M50 50L100 50L100 100L50 100L50 50Z'></path><path id=\\\"heart\\\" d='M12 21.593c-5.63-5.539-11-10.297-11-14.402 0-3.791 3.068-5.191 5.281-5.191 1.312 0 4.151.501 5.719 4.457 1.59-3.968 4.464-4.447 5.726-4.447 2.54 0 5.274 1.621 5.274 5.181 0 4.069-5.136 8.625-11 14.402m5.726-20.583c-2.203 0-4.446 1.042-5.726 3.238-1.285-2.206-3.522-3.248-5.719-3.248-3.183 0-6.281 2.187-6.281 6.191 0 4.661 5.571 9.429 12 15.809 6.43-6.38 12-11.148 12-15.809 0-4.011-3.095-6.181-6.274-6.181'></path>\""
      ],
      "text/plain": [
       "2-element Vector{AbstractComponent}:\n",
       " Component{:path}(\"new-square\", Dict{Symbol, Any}(:extras => AbstractComponent[], :children => AbstractComponent[], :d => \"M50 50L100 50L100 100L50 100L50 50Z\", :text => \"\"), \"path\")\n",
       " Component{:path}(\"heart\", Dict{Symbol, Any}(:extras => AbstractComponent[], :children => AbstractComponent[], :d => \"M12 21.593c-5.63-5.539-11-10.297-11-14.402 0-3.791 3.068-5.191 5.281-5.191 1.312 0 4.151.501 5.719 4.457 1.59-3.968 4.464-4.447 5.726-4.447 2.54 0 5.274 1.621 5.274 5.181 0 4.069-5.136 8.625-11 14.402m5.726-20.583c-2.203 0-4.446 1.042-5.726 3.238-1.285-2.206-3.522-3.248-5.719-3.248-3.183 0-6.281 2.187-6.281 6.191 0 4.661 5.571 9.429 12 15.809 6.43-6.38 12-11.148 12-15.809 0-4.011-3.095-6.181-6.274-6.181\", :text => \"\"), \"path\")"
      ]
     },
     "execution_count": 114,
     "metadata": {},
     "output_type": "execute_result"
    }
   ],
   "source": [
    "push!(window, cuteheart)"
   ]
  },
  {
   "cell_type": "code",
   "execution_count": 115,
   "id": "f0f87fe0-cb58-4732-b711-e415fbc16055",
   "metadata": {},
   "outputs": [
    {
     "data": {
      "text/html": [
       "\"<path id=\\\"new-square\\\" d='M50 50L100 50L100 100L50 100L50 50Z'></path><path id=\\\"heart\\\" d='M12 21.593c-5.63-5.539-11-10.297-11-14.402 0-3.791 3.068-5.191 5.281-5.191 1.312 0 4.151.501 5.719 4.457 1.59-3.968 4.464-4.447 5.726-4.447 2.54 0 5.274 1.621 5.274 5.181 0 4.069-5.136 8.625-11 14.402m5.726-20.583c-2.203 0-4.446 1.042-5.726 3.238-1.285-2.206-3.522-3.248-5.719-3.248-3.183 0-6.281 2.187-6.281 6.191 0 4.661 5.571 9.429 12 15.809 6.43-6.38 12-11.148 12-15.809 0-4.011-3.095-6.181-6.274-6.181'></path>\""
      ],
      "text/plain": [
       "2-element Vector{AbstractComponent}:\n",
       " Component{:path}(\"new-square\", Dict{Symbol, Any}(:extras => AbstractComponent[], :children => AbstractComponent[], :d => \"M50 50L100 50L100 100L50 100L50 50Z\", :text => \"\"), \"path\")\n",
       " Component{:path}(\"heart\", Dict{Symbol, Any}(:extras => AbstractComponent[], :children => AbstractComponent[], :d => \"M12 21.593c-5.63-5.539-11-10.297-11-14.402 0-3.791 3.068-5.191 5.281-5.191 1.312 0 4.151.501 5.719 4.457 1.59-3.968 4.464-4.447 5.726-4.447 2.54 0 5.274 1.621 5.274 5.181 0 4.069-5.136 8.625-11 14.402m5.726-20.583c-2.203 0-4.446 1.042-5.726 3.238-1.285-2.206-3.522-3.248-5.719-3.248-3.183 0-6.281 2.187-6.281 6.191 0 4.661 5.571 9.429 12 15.809 6.43-6.38 12-11.148 12-15.809 0-4.011-3.095-6.181-6.274-6.181\", :text => \"\"), \"path\")"
      ]
     },
     "execution_count": 115,
     "metadata": {},
     "output_type": "execute_result"
    }
   ],
   "source": [
    "window[:children]"
   ]
  },
  {
   "cell_type": "code",
   "execution_count": 116,
   "id": "e14edc88-1d55-42a9-96ab-858bfc6c82d5",
   "metadata": {},
   "outputs": [
    {
     "data": {
      "text/html": [
       "\"<svg id=\\\"main\\\" height=500 width=500><path id=\\\"new-square\\\" d='M50 50L100 50L100 100L50 100L50 50Z'></path><path id=\\\"heart\\\" d='M12 21.593c-5.63-5.539-11-10.297-11-14.402 0-3.791 3.068-5.191 5.281-5.191 1.312 0 4.151.501 5.719 4.457 1.59-3.968 4.464-4.447 5.726-4.447 2.54 0 5.274 1.621 5.274 5.181 0 4.069-5.136 8.625-11 14.402m5.726-20.583c-2.203 0-4.446 1.042-5.726 3.238-1.285-2.206-3.522-3.248-5.719-3.248-3.183 0-6.281 2.187-6.281 6.191 0 4.661 5.571 9.429 12 15.809 6.43-6.38 12-11.148 12-15.809 0-4.011-3.095-6.181-6.274-6.181'></path></svg>\""
      ]
     },
     "metadata": {},
     "output_type": "display_data"
    }
   ],
   "source": [
    "display(\"text/html\", window)"
   ]
  },
  {
   "cell_type": "code",
   "execution_count": 117,
   "id": "32b86f9b-c3ea-4bad-9847-eb7a72b86e91",
   "metadata": {},
   "outputs": [
    {
     "data": {
      "text/html": [
       "\"<polygon id=\\\"sample\\\" np=5 ir=40 y=150 angle=20 points='115.0 150.0,132.3606797749979 173.51141009169893,104.63525491562422 164.2658477444273,87.63932022500211 188.04226065180615,87.86474508437578 158.8167787843871,60.0 150.0,87.86474508437578 141.18322121561292,87.6393202250021 111.95773934819385,104.6352549156242 135.7341522555727,132.3606797749979 126.48858990830107,115.0 150.0' r=15 x=100></polygon>\""
      ],
      "text/plain": [
       "Component{:star}(\"sample\", Dict{Symbol, Any}(:extras => AbstractComponent[], :np => 5, :ir => 40, :children => AbstractComponent[], :y => 150, :angle => 20, :points => \"'115.0 150.0,132.3606797749979 173.51141009169893,104.63525491562422 164.2658477444273,87.63932022500211 188.04226065180615,87.86474508437578 158.8167787843871,60.0 150.0,87.86474508437578 141.18322121561292,87.6393202250021 111.95773934819385,104.6352549156242 135.7341522555727,132.3606797749979 126.48858990830107,115.0 150.0'\", :text => \"\", :r => 15, :x => 100…), \"polygon\")"
      ]
     },
     "execution_count": 117,
     "metadata": {},
     "output_type": "execute_result"
    }
   ],
   "source": [
    "st = star(\"sample\", x= 100, y = 150, outer_radius = 15, inner_radius = 40, angle = 20)"
   ]
  },
  {
   "cell_type": "code",
   "execution_count": 118,
   "id": "ffad58c0-e26a-45ca-8730-4e4729a4962a",
   "metadata": {},
   "outputs": [],
   "source": [
    "style!(st, \"fill\" => \"orange\", \"stroke\" => \"green\")"
   ]
  },
  {
   "cell_type": "code",
   "execution_count": 119,
   "id": "ae0f3a22-ba18-48a2-b977-3ad15294386f",
   "metadata": {},
   "outputs": [
    {
     "data": {
      "text/html": [
       "\"<path id=\\\"new-square\\\" d='M50 50L100 50L100 100L50 100L50 50Z'></path><path id=\\\"heart\\\" d='M12 21.593c-5.63-5.539-11-10.297-11-14.402 0-3.791 3.068-5.191 5.281-5.191 1.312 0 4.151.501 5.719 4.457 1.59-3.968 4.464-4.447 5.726-4.447 2.54 0 5.274 1.621 5.274 5.181 0 4.069-5.136 8.625-11 14.402m5.726-20.583c-2.203 0-4.446 1.042-5.726 3.238-1.285-2.206-3.522-3.248-5.719-3.248-3.183 0-6.281 2.187-6.281 6.191 0 4.661 5.571 9.429 12 15.809 6.43-6.38 12-11.148 12-15.809 0-4.011-3.095-6.181-6.274-6.181'></path><polygon id=\\\"sample\\\" np=5 ir=40 style=fill:orange;stroke:green; y=150 angle=20 points='115.0 150.0,132.3606797749979 173.51141009169893,104.63525491562422 164.2658477444273,87.63932022500211 188.04226065180615,87.86474508437578 158.8167787843871,60.0 150.0,87.86474508437578 141.18322121561292,87.6393202250021 111.95773934819385,104.6352549156242 135.7341522555727,132.3606797749979 126.48858990830107,115.0 150.0' r=15 x=100></polygon>\""
      ],
      "text/plain": [
       "3-element Vector{AbstractComponent}:\n",
       " Component{:path}(\"new-square\", Dict{Symbol, Any}(:extras => AbstractComponent[], :children => AbstractComponent[], :d => \"M50 50L100 50L100 100L50 100L50 50Z\", :text => \"\"), \"path\")\n",
       " Component{:path}(\"heart\", Dict{Symbol, Any}(:extras => AbstractComponent[], :children => AbstractComponent[], :d => \"M12 21.593c-5.63-5.539-11-10.297-11-14.402 0-3.791 3.068-5.191 5.281-5.191 1.312 0 4.151.501 5.719 4.457 1.59-3.968 4.464-4.447 5.726-4.447 2.54 0 5.274 1.621 5.274 5.181 0 4.069-5.136 8.625-11 14.402m5.726-20.583c-2.203 0-4.446 1.042-5.726 3.238-1.285-2.206-3.522-3.248-5.719-3.248-3.183 0-6.281 2.187-6.281 6.191 0 4.661 5.571 9.429 12 15.809 6.43-6.38 12-11.148 12-15.809 0-4.011-3.095-6.181-6.274-6.181\", :text => \"\"), \"path\")\n",
       " Component{:star}(\"sample\", Dict{Symbol, Any}(:extras => AbstractComponent[], :text => \"\", :x => 100, :np => 5, :ir => 40, :angle => 20, :r => 15, :style => \"fill:orange;stroke:green;\", :children => AbstractComponent[], :y => 150…), \"polygon\")"
      ]
     },
     "execution_count": 119,
     "metadata": {},
     "output_type": "execute_result"
    }
   ],
   "source": [
    "push!(window, st)"
   ]
  },
  {
   "cell_type": "code",
   "execution_count": 120,
   "id": "c1d825e2-465a-4b1e-ae0a-393e718cbe85",
   "metadata": {},
   "outputs": [
    {
     "data": {
      "text/html": [
       "\"<svg id=\\\"main\\\" height=500 width=500><path id=\\\"new-square\\\" d='M50 50L100 50L100 100L50 100L50 50Z'></path><path id=\\\"heart\\\" d='M12 21.593c-5.63-5.539-11-10.297-11-14.402 0-3.791 3.068-5.191 5.281-5.191 1.312 0 4.151.501 5.719 4.457 1.59-3.968 4.464-4.447 5.726-4.447 2.54 0 5.274 1.621 5.274 5.181 0 4.069-5.136 8.625-11 14.402m5.726-20.583c-2.203 0-4.446 1.042-5.726 3.238-1.285-2.206-3.522-3.248-5.719-3.248-3.183 0-6.281 2.187-6.281 6.191 0 4.661 5.571 9.429 12 15.809 6.43-6.38 12-11.148 12-15.809 0-4.011-3.095-6.181-6.274-6.181'></path><polygon id=\\\"sample\\\" np=5 ir=40 style=fill:orange;stroke:green; y=150 angle=20 points='115.0 150.0,132.3606797749979 173.51141009169893,104.63525491562422 164.2658477444273,87.63932022500211 188.04226065180615,87.86474508437578 158.8167787843871,60.0 150.0,87.86474508437578 141.18322121561292,87.6393202250021 111.95773934819385,104.6352549156242 135.7341522555727,132.3606797749979 126.48858990830107,115.0 150.0' r=15 x=100></polygon></svg>\""
      ]
     },
     "metadata": {},
     "output_type": "display_data"
    }
   ],
   "source": [
    "display(\"text/html\", window)"
   ]
  },
  {
   "cell_type": "code",
   "execution_count": 125,
   "id": "35127510-4e18-48d8-a95d-a94fc2a049fb",
   "metadata": {},
   "outputs": [
    {
     "data": {
      "text/html": [
       "\"<polygon id=\\\"sample\\\" x=50 y=20 angle=1.0471975511965976 points='136.60254037844385 70.00000000000001,136.60254037844388 -29.99999999999998,50.000000000000014 -80.0,-36.60254037844385 -30.000000000000043,-36.602540378443905 69.99999999999994,49.99999999999998 120.0' r=100 sides=6></polygon>\""
      ],
      "text/plain": [
       "Component{:polyshape}(\"sample\", Dict{Symbol, Any}(:extras => AbstractComponent[], :sides => 6, :children => AbstractComponent[], :y => 20, :angle => 1.0471975511965976, :points => \"'136.60254037844385 70.00000000000001,136.60254037844388 -29.99999999999998,50.000000000000014 -80.0,-36.60254037844385 -30.000000000000043,-36.602540378443905 69.99999999999994,49.99999999999998 120.0'\", :text => \"\", :r => 100, :x => 50), \"polygon\")"
      ]
     },
     "execution_count": 125,
     "metadata": {},
     "output_type": "execute_result"
    }
   ],
   "source": [
    "shp = polyshape(\"sample\", x = 50, y = 20, sides = 6)"
   ]
  },
  {
   "cell_type": "code",
   "execution_count": 126,
   "id": "1167fe2d-cabf-48eb-9cfb-c188e5ae3159",
   "metadata": {},
   "outputs": [
    {
     "data": {
      "text/html": [
       "\"<path id=\\\"new-square\\\" d='M50 50L100 50L100 100L50 100L50 50Z'></path><path id=\\\"heart\\\" d='M12 21.593c-5.63-5.539-11-10.297-11-14.402 0-3.791 3.068-5.191 5.281-5.191 1.312 0 4.151.501 5.719 4.457 1.59-3.968 4.464-4.447 5.726-4.447 2.54 0 5.274 1.621 5.274 5.181 0 4.069-5.136 8.625-11 14.402m5.726-20.583c-2.203 0-4.446 1.042-5.726 3.238-1.285-2.206-3.522-3.248-5.719-3.248-3.183 0-6.281 2.187-6.281 6.191 0 4.661 5.571 9.429 12 15.809 6.43-6.38 12-11.148 12-15.809 0-4.011-3.095-6.181-6.274-6.181'></path><polygon id=\\\"sample\\\" np=5 ir=40 style=fill:orange;stroke:green; y=150 angle=20 points='115.0 150.0,132.3606797749979 173.51141009169893,104.63525491562422 164.2658477444273,87.63932022500211 188.04226065180615,87.86474508437578 158.8167787843871,60.0 150.0,87.86474508437578 141.18322121561292,87.6393202250021 111.95773934819385,104.6352549156242 135.7341522555727,132.3606797749979 126.48858990830107,115.0 150.0' r=15 x=100></polygon><polygon id=\\\"sample\\\" style=fill:lightblue; x=50 y=20 angle=3.141592653589793 points='50.000000000000014 -80.0,49.99999999999998 120.0' r=100 sides=2></polygon><polygon id=\\\"sample\\\" x=50 y=20 angle=1.0471975511965976 points='136.60254037844385 70.00000000000001,136.60254037844388 -29.99999999999998,50.000000000000014 -80.0,-36.60254037844385 -30.000000000000043,-36.602540378443905 69.99999999999994,49.99999999999998 120.0' r=100 sides=6></polygon>\""
      ],
      "text/plain": [
       "5-element Vector{AbstractComponent}:\n",
       " Component{:path}(\"new-square\", Dict{Symbol, Any}(:extras => AbstractComponent[], :children => AbstractComponent[], :d => \"M50 50L100 50L100 100L50 100L50 50Z\", :text => \"\"), \"path\")\n",
       " Component{:path}(\"heart\", Dict{Symbol, Any}(:extras => AbstractComponent[], :children => AbstractComponent[], :d => \"M12 21.593c-5.63-5.539-11-10.297-11-14.402 0-3.791 3.068-5.191 5.281-5.191 1.312 0 4.151.501 5.719 4.457 1.59-3.968 4.464-4.447 5.726-4.447 2.54 0 5.274 1.621 5.274 5.181 0 4.069-5.136 8.625-11 14.402m5.726-20.583c-2.203 0-4.446 1.042-5.726 3.238-1.285-2.206-3.522-3.248-5.719-3.248-3.183 0-6.281 2.187-6.281 6.191 0 4.661 5.571 9.429 12 15.809 6.43-6.38 12-11.148 12-15.809 0-4.011-3.095-6.181-6.274-6.181\", :text => \"\"), \"path\")\n",
       " Component{:star}(\"sample\", Dict{Symbol, Any}(:extras => AbstractComponent[], :text => \"\", :x => 100, :np => 5, :ir => 40, :angle => 20, :r => 15, :style => \"fill:orange;stroke:green;\", :children => AbstractComponent[], :y => 150…), \"polygon\")\n",
       " Component{:polyshape}(\"sample\", Dict{Symbol, Any}(:extras => AbstractComponent[], :sides => 2, :style => \"fill:lightblue;\", :children => AbstractComponent[], :y => 20, :angle => 3.141592653589793, :points => \"'50.000000000000014 -80.0,49.99999999999998 120.0'\", :text => \"\", :r => 100, :x => 50…), \"polygon\")\n",
       " Component{:polyshape}(\"sample\", Dict{Symbol, Any}(:extras => AbstractComponent[], :sides => 6, :children => AbstractComponent[], :y => 20, :angle => 1.0471975511965976, :points => \"'136.60254037844385 70.00000000000001,136.60254037844388 -29.99999999999998,50.000000000000014 -80.0,-36.60254037844385 -30.000000000000043,-36.602540378443905 69.99999999999994,49.99999999999998 120.0'\", :text => \"\", :r => 100, :x => 50), \"polygon\")"
      ]
     },
     "execution_count": 126,
     "metadata": {},
     "output_type": "execute_result"
    }
   ],
   "source": [
    "push!(window, shp)"
   ]
  },
  {
   "cell_type": "code",
   "execution_count": 127,
   "id": "91e7d0fc-3afb-4ea3-abb3-7fbde6a2de91",
   "metadata": {},
   "outputs": [],
   "source": [
    "style!(shp, \"fill\" => \"lightblue\")"
   ]
  },
  {
   "cell_type": "code",
   "execution_count": 128,
   "id": "a45d3ef4-bfcb-4a4a-bb07-b7e3a0156c3d",
   "metadata": {},
   "outputs": [
    {
     "data": {
      "text/html": [
       "\"<svg id=\\\"main\\\" height=500 width=500><path id=\\\"new-square\\\" d='M50 50L100 50L100 100L50 100L50 50Z'></path><path id=\\\"heart\\\" d='M12 21.593c-5.63-5.539-11-10.297-11-14.402 0-3.791 3.068-5.191 5.281-5.191 1.312 0 4.151.501 5.719 4.457 1.59-3.968 4.464-4.447 5.726-4.447 2.54 0 5.274 1.621 5.274 5.181 0 4.069-5.136 8.625-11 14.402m5.726-20.583c-2.203 0-4.446 1.042-5.726 3.238-1.285-2.206-3.522-3.248-5.719-3.248-3.183 0-6.281 2.187-6.281 6.191 0 4.661 5.571 9.429 12 15.809 6.43-6.38 12-11.148 12-15.809 0-4.011-3.095-6.181-6.274-6.181'></path><polygon id=\\\"sample\\\" np=5 ir=40 style=fill:orange;stroke:green; y=150 angle=20 points='115.0 150.0,132.3606797749979 173.51141009169893,104.63525491562422 164.2658477444273,87.63932022500211 188.04226065180615,87.86474508437578 158.8167787843871,60.0 150.0,87.86474508437578 141.18322121561292,87.6393202250021 111.95773934819385,104.6352549156242 135.7341522555727,132.3606797749979 126.48858990830107,115.0 150.0' r=15 x=100></polygon><polygon id=\\\"sample\\\" style=fill:lightblue; x=50 y=20 angle=3.141592653589793 points='50.000000000000014 -80.0,49.99999999999998 120.0' r=100 sides=2></polygon><polygon id=\\\"sample\\\" style=fill:lightblue; x=50 y=20 angle=1.0471975511965976 points='136.60254037844385 70.00000000000001,136.60254037844388 -29.99999999999998,50.000000000000014 -80.0,-36.60254037844385 -30.000000000000043,-36.602540378443905 69.99999999999994,49.99999999999998 120.0' r=100 sides=6></polygon></svg>\""
      ],
      "text/plain": [
       "svg(\"main\", Dict{Symbol, Any}(:extras => AbstractComponent[], :children => AbstractComponent[Component{:path}(\"new-square\", Dict{Symbol, Any}(:extras => AbstractComponent[], :children => AbstractComponent[], :d => \"M50 50L100 50L100 100L50 100L50 50Z\", :text => \"\"), \"path\"), Component{:path}(\"heart\", Dict{Symbol, Any}(:extras => AbstractComponent[], :children => AbstractComponent[], :d => \"M12 21.593c-5.63-5.539-11-10.297-11-14.402 0-3.791 3.068-5.191 5.281-5.191 1.312 0 4.151.501 5.719 4.457 1.59-3.968 4.464-4.447 5.726-4.447 2.54 0 5.274 1.621 5.274 5.181 0 4.069-5.136 8.625-11 14.402m5.726-20.583c-2.203 0-4.446 1.042-5.726 3.238-1.285-2.206-3.522-3.248-5.719-3.248-3.183 0-6.281 2.187-6.281 6.191 0 4.661 5.571 9.429 12 15.809 6.43-6.38 12-11.148 12-15.809 0-4.011-3.095-6.181-6.274-6.181\", :text => \"\"), \"path\"), Component{:star}(\"sample\", Dict{Symbol, Any}(:extras => AbstractComponent[], :text => \"\", :x => 100, :np => 5, :ir => 40, :angle => 20, :r => 15, :style => \"fill:orange;stroke:green;\", :children => AbstractComponent[], :y => 150…), \"polygon\"), Component{:polyshape}(\"sample\", Dict{Symbol, Any}(:extras => AbstractComponent[], :sides => 2, :style => \"fill:lightblue;\", :children => AbstractComponent[], :y => 20, :angle => 3.141592653589793, :points => \"'50.000000000000014 -80.0,49.99999999999998 120.0'\", :text => \"\", :r => 100, :x => 50…), \"polygon\"), Component{:polyshape}(\"sample\", Dict{Symbol, Any}(:extras => AbstractComponent[], :sides => 6, :style => \"fill:lightblue;\", :children => AbstractComponent[], :y => 20, :angle => 1.0471975511965976, :points => \"'136.60254037844385 70.00000000000001,136.60254037844388 -29.99999999999998,50.000000000000014 -80.0,-36.60254037844385 -30.000000000000043,-36.602540378443905 69.99999999999994,49.99999999999998 120.0'\", :text => \"\", :r => 100, :x => 50…), \"polygon\")], :height => \"500\", :text => \"\", :width => \"500\"), \"svg\")"
      ]
     },
     "execution_count": 128,
     "metadata": {},
     "output_type": "execute_result"
    }
   ],
   "source": [
    "window"
   ]
  },
  {
   "cell_type": "code",
   "execution_count": null,
   "id": "cce9ecbd-f43f-4285-b9db-a5a7430fe8de",
   "metadata": {},
   "outputs": [],
   "source": []
  },
  {
   "cell_type": "code",
   "execution_count": null,
   "id": "e1189b6a-eb4c-4faa-96df-8e67e69e57da",
   "metadata": {},
   "outputs": [],
   "source": []
  },
  {
   "cell_type": "code",
   "execution_count": null,
   "id": "98e1631b-a295-4069-98d6-9c5cb70023ae",
   "metadata": {},
   "outputs": [],
   "source": []
  }
 ],
 "metadata": {
  "kernelspec": {
   "display_name": "Julia 1.9.2",
   "language": "julia",
   "name": "julia-1.9"
  },
  "language_info": {
   "file_extension": ".jl",
   "mimetype": "application/julia",
   "name": "julia",
   "version": "1.9.2"
  }
 },
 "nbformat": 4,
 "nbformat_minor": 5
}
