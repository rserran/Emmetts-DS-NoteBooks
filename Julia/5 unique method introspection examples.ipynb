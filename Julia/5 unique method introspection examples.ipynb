{
 "cells": [
  {
   "cell_type": "code",
   "execution_count": 1,
   "id": "cc4a6e5c",
   "metadata": {},
   "outputs": [
    {
     "data": {
      "text/plain": [
       "example (generic function with 3 methods)"
      ]
     },
     "execution_count": 1,
     "metadata": {},
     "output_type": "execute_result"
    }
   ],
   "source": [
    "function example(x::Real)\n",
    "\n",
    "end\n",
    "\n",
    "function example(x::Int64)\n",
    "\n",
    "end\n",
    "\n",
    "function example(x::Float64)\n",
    "\n",
    "end"
   ]
  },
  {
   "cell_type": "code",
   "execution_count": 2,
   "id": "c8e3ef9a",
   "metadata": {},
   "outputs": [
    {
     "data": {
      "text/html": [
       "# 3 methods for generic function <b>example</b> from \u001b[35mMain\u001b[39m:<ul><li> example(x::<b>Int64</b>) in Main at In[1]:5</li> <li> example(x::<b>Float64</b>) in Main at In[1]:9</li> <li> example(x::<b>Real</b>) in Main at In[1]:1</li> </ul>"
      ],
      "text/plain": [
       "# 3 methods for generic function \"example\" from \u001b[35mMain\u001b[39m:\n",
       " [1] example(\u001b[90mx\u001b[39m::\u001b[1mInt64\u001b[22m)\n",
       "\u001b[90m     @\u001b[39m \u001b[90m\u001b[4mIn[1]:5\u001b[24m\u001b[39m\n",
       " [2] example(\u001b[90mx\u001b[39m::\u001b[1mFloat64\u001b[22m)\n",
       "\u001b[90m     @\u001b[39m \u001b[90m\u001b[4mIn[1]:9\u001b[24m\u001b[39m\n",
       " [3] example(\u001b[90mx\u001b[39m::\u001b[1mReal\u001b[22m)\n",
       "\u001b[90m     @\u001b[39m \u001b[90m\u001b[4mIn[1]:1\u001b[24m\u001b[39m"
      ]
     },
     "execution_count": 2,
     "metadata": {},
     "output_type": "execute_result"
    }
   ],
   "source": [
    "methods(example)"
   ]
  },
  {
   "cell_type": "code",
   "execution_count": 3,
   "id": "526e736c",
   "metadata": {},
   "outputs": [
    {
     "data": {
      "text/html": [
       "# 1 method for generic function <b>example</b> from \u001b[35mMain\u001b[39m:<ul><li> example(x::<b>Int64</b>) in Main at In[1]:5</li> </ul>"
      ],
      "text/plain": [
       "# 1 method for generic function \"example\" from \u001b[35mMain\u001b[39m:\n",
       " [1] example(\u001b[90mx\u001b[39m::\u001b[1mInt64\u001b[22m)\n",
       "\u001b[90m     @\u001b[39m \u001b[90m\u001b[4mIn[1]:5\u001b[24m\u001b[39m"
      ]
     },
     "execution_count": 3,
     "metadata": {},
     "output_type": "execute_result"
    }
   ],
   "source": [
    "methods(example, [Int64])"
   ]
  },
  {
   "cell_type": "code",
   "execution_count": 4,
   "id": "57654a46",
   "metadata": {},
   "outputs": [
    {
     "data": {
      "text/plain": [
       "parse_intorow (generic function with 2 methods)"
      ]
     },
     "execution_count": 4,
     "metadata": {},
     "output_type": "execute_result"
    }
   ],
   "source": [
    "function parse_intorow(d::Dict{Symbol, <:Any})\n",
    "    \n",
    "end\n",
    "\n",
    "function parse_intorow(vec::Vector{<:Any})\n",
    "    \n",
    "end"
   ]
  },
  {
   "cell_type": "code",
   "execution_count": 5,
   "id": "dec32497",
   "metadata": {},
   "outputs": [
    {
     "name": "stdout",
     "output_type": "stream",
     "text": [
      "do int64\n",
      "do other\n"
     ]
    }
   ],
   "source": [
    "function sample(f::Function)\n",
    "    sign = methods(f)[1].sig.parameters\n",
    "    if length(sign) > 1\n",
    "        T = sign[2]\n",
    "        if T == Int64\n",
    "            println(\"do int64\")\n",
    "        else\n",
    "            println(\"do other\")\n",
    "        end\n",
    "    end\n",
    "end\n",
    "\n",
    "sample() do x::Int64\n",
    "\n",
    "end\n",
    "sample() do x::String\n",
    "\n",
    "end"
   ]
  },
  {
   "cell_type": "code",
   "execution_count": 14,
   "id": "508dd925",
   "metadata": {},
   "outputs": [
    {
     "data": {
      "text/plain": [
       "explore (generic function with 2 methods)"
      ]
     },
     "execution_count": 14,
     "metadata": {},
     "output_type": "execute_result"
    }
   ],
   "source": [
    "function explore(t::Type, mod::Module = Main)\n",
    "    allfuncs = [getfield(mod, name) for name in names(Main)]\n",
    "    mods = filter(t -> typeof(t) == Module, allfuncs)\n",
    "    filter!(t -> typeof(t) <: Function, allfuncs)\n",
    "    methds = []\n",
    "    [begin\n",
    "        ms = methods(func)\n",
    "        found = filter(x -> ~(isnothing(x)), [begin\n",
    "                    if t in mtd.sig.parameters\n",
    "                        e\n",
    "                    else\n",
    "                        nothing\n",
    "                    end\n",
    "            end for (e, mtd) in enumerate(ms)])\n",
    "        push!(methds, [ms[i] for i in found] ...)\n",
    "    end for func in allfuncs]\n",
    "    return(methds)\n",
    "end"
   ]
  },
  {
   "cell_type": "code",
   "execution_count": 15,
   "id": "0616037d",
   "metadata": {},
   "outputs": [
    {
     "data": {
      "text/plain": [
       "1-element Vector{Any}:\n",
       " example(\u001b[90mx\u001b[39m::\u001b[1mInt64\u001b[22m)\u001b[90m @\u001b[39m \u001b[90mMain\u001b[39m \u001b[90m\u001b[4mIn[1]:5\u001b[24m\u001b[39m"
      ]
     },
     "execution_count": 15,
     "metadata": {},
     "output_type": "execute_result"
    }
   ],
   "source": [
    "explore(Int64, Main)"
   ]
  },
  {
   "cell_type": "code",
   "execution_count": 8,
   "id": "39fc140e",
   "metadata": {},
   "outputs": [],
   "source": [
    "mutable struct Row{T <: Any}\n",
    "    values::Vector{T}\n",
    "    Row(values ...) = begin \n",
    "        vals = [val for val in values]\n",
    "        new{typeof(vals).parameters[1]}(vals)\n",
    "    end\n",
    "end"
   ]
  },
  {
   "cell_type": "code",
   "execution_count": 9,
   "id": "5125cb70",
   "metadata": {},
   "outputs": [
    {
     "data": {
      "text/plain": [
       "false"
      ]
     },
     "execution_count": 9,
     "metadata": {},
     "output_type": "execute_result"
    }
   ],
   "source": [
    "isdefined(Base, :x)"
   ]
  },
  {
   "cell_type": "code",
   "execution_count": 10,
   "id": "dc36f88b",
   "metadata": {},
   "outputs": [
    {
     "data": {
      "text/plain": [
       "5"
      ]
     },
     "execution_count": 10,
     "metadata": {},
     "output_type": "execute_result"
    }
   ],
   "source": [
    "x = 5"
   ]
  },
  {
   "cell_type": "code",
   "execution_count": 23,
   "id": "3f041d2a",
   "metadata": {},
   "outputs": [],
   "source": [
    "mutable struct Phrase{T <: Any} end"
   ]
  },
  {
   "cell_type": "code",
   "execution_count": 24,
   "id": "fae53467",
   "metadata": {},
   "outputs": [
    {
     "data": {
      "text/plain": [
       "shout (generic function with 2 methods)"
      ]
     },
     "execution_count": 24,
     "metadata": {},
     "output_type": "execute_result"
    }
   ],
   "source": [
    "function shout(p::Phrase{:hello})\n",
    "    print(\"hello \")\n",
    "end"
   ]
  },
  {
   "cell_type": "code",
   "execution_count": 27,
   "id": "9b9aa91e",
   "metadata": {},
   "outputs": [
    {
     "data": {
      "text/plain": [
       "shout (generic function with 2 methods)"
      ]
     },
     "execution_count": 27,
     "metadata": {},
     "output_type": "execute_result"
    }
   ],
   "source": [
    "function shout(p::Phrase{:world})\n",
    "    print(\"world!\")\n",
    "end"
   ]
  },
  {
   "cell_type": "code",
   "execution_count": 28,
   "id": "f3451e19",
   "metadata": {},
   "outputs": [
    {
     "data": {
      "text/plain": [
       "shout_all (generic function with 1 method)"
      ]
     },
     "execution_count": 28,
     "metadata": {},
     "output_type": "execute_result"
    }
   ],
   "source": [
    "function shout_all()\n",
    "    [begin\n",
    "        T = m.sig.parameters[2]\n",
    "        shout(T())\n",
    "    end for m in methods(shout)]\n",
    "    nothing::Nothing\n",
    "end"
   ]
  },
  {
   "cell_type": "code",
   "execution_count": 29,
   "id": "d0fc051b",
   "metadata": {},
   "outputs": [
    {
     "name": "stdout",
     "output_type": "stream",
     "text": [
      "hello world!"
     ]
    }
   ],
   "source": [
    "shout_all()"
   ]
  },
  {
   "cell_type": "code",
   "execution_count": 30,
   "id": "c9dc7f4b",
   "metadata": {},
   "outputs": [
    {
     "data": {
      "text/plain": [
       "Main.Example"
      ]
     },
     "execution_count": 30,
     "metadata": {},
     "output_type": "execute_result"
    }
   ],
   "source": [
    "baremodule Example\n",
    "using Base\n",
    "import Base: println\n",
    "Base.delete_method(methods(println)[1])\n",
    "end"
   ]
  },
  {
   "cell_type": "code",
   "execution_count": null,
   "id": "62c7a3ab",
   "metadata": {},
   "outputs": [],
   "source": []
  }
 ],
 "metadata": {
  "kernelspec": {
   "display_name": "Julia 1.9.2",
   "language": "julia",
   "name": "julia-1.9"
  },
  "language_info": {
   "file_extension": ".jl",
   "mimetype": "application/julia",
   "name": "julia",
   "version": "1.9.2"
  }
 },
 "nbformat": 4,
 "nbformat_minor": 5
}
