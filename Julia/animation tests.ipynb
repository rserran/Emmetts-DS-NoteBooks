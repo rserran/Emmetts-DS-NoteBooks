{
 "cells": [
  {
   "cell_type": "code",
   "execution_count": 278,
   "metadata": {},
   "outputs": [],
   "source": [
    "mutable struct Animation\n",
    "    name::String\n",
    "    keyframes::Dict\n",
    "    f::Function\n",
    "    delay::Float64\n",
    "    length::Float64\n",
    "    function Animation(name::String = \"animation\"; delay::Float64 = 0.0,\n",
    "        length::Float64 = 5.2)\n",
    "        f(c) = begin\n",
    "            s::String = \"<style> @keyframes $name {\"\n",
    "            for anim in keys(keyframes)\n",
    "                vals = keyframes[anim]\n",
    "                s = s * \"$anim {\" * vals * \"}\"\n",
    "            end\n",
    "            s * \"}</style>\"\n",
    "        end\n",
    "        keyframes::Dict = Dict()\n",
    "        new(name, keyframes, f, delay, length)\n",
    "    end\n",
    "end\n"
   ]
  },
  {
   "cell_type": "markdown",
   "metadata": {},
   "source": [
    "@keyframes slidein {\n",
    "  from {\n",
    "  opacity: 0%;\n",
    "    transform: translateY(100%);\n",
    "  }\n",
    "  to {\n",
    "  opacity: 100%;\n",
    "    transform: translateY(0%);\n",
    "  }\n",
    "}"
   ]
  },
  {
   "cell_type": "code",
   "execution_count": 279,
   "metadata": {},
   "outputs": [
    {
     "data": {
      "text/plain": [
       "@keyframe! (macro with 1 method)"
      ]
     },
     "execution_count": 279,
     "metadata": {},
     "output_type": "execute_result"
    }
   ],
   "source": [
    "macro keyframe!(anim::Symbol, keyframes::Any ...)\n",
    "    anim::Animation = eval(anim)\n",
    "    kf = [string(frame) for frame in keyframes]\n",
    "    keyframe!(anim, kf)\n",
    "end"
   ]
  },
  {
   "cell_type": "code",
   "execution_count": 280,
   "metadata": {},
   "outputs": [
    {
     "name": "stdout",
     "output_type": "stream",
     "text": [
      "search: \u001b[0m\u001b[1mc\u001b[22m\u001b[0m\u001b[1mo\u001b[22m\u001b[0m\u001b[1mn\u001b[22m\u001b[0m\u001b[1mt\u001b[22m\u001b[0m\u001b[1ma\u001b[22m\u001b[0m\u001b[1mi\u001b[22m\u001b[0m\u001b[1mn\u001b[22m\u001b[0m\u001b[1ms\u001b[22m\n",
      "\n"
     ]
    },
    {
     "data": {
      "text/latex": [
       "\\begin{verbatim}\n",
       "contains(haystack::AbstractString, needle)\n",
       "\\end{verbatim}\n",
       "Return \\texttt{true} if \\texttt{haystack} contains \\texttt{needle}. This is the same as \\texttt{occursin(needle, haystack)}, but is provided for consistency with \\texttt{startswith(haystack, needle)} and \\texttt{endswith(haystack, needle)}.\n",
       "\n",
       "See also \\href{@ref}{\\texttt{occursin}}, \\href{@ref}{\\texttt{in}}, \\href{@ref}{\\texttt{issubset}}.\n",
       "\n",
       "\\section{Examples}\n",
       "\\begin{verbatim}\n",
       "julia> contains(\"JuliaLang is pretty cool!\", \"Julia\")\n",
       "true\n",
       "\n",
       "julia> contains(\"JuliaLang is pretty cool!\", 'a')\n",
       "true\n",
       "\n",
       "julia> contains(\"aba\", r\"a.a\")\n",
       "true\n",
       "\n",
       "julia> contains(\"abba\", r\"a.a\")\n",
       "false\n",
       "\\end{verbatim}\n",
       "\\begin{quote}\n",
       "\\textbf{compat}\n",
       "\n",
       "Julia 1.5\n",
       "\n",
       "The \\texttt{contains} function requires at least Julia 1.5.\n",
       "\n",
       "\\end{quote}\n",
       "\\rule{\\textwidth}{1pt}\n",
       "\\begin{verbatim}\n",
       "contains(needle)\n",
       "\\end{verbatim}\n",
       "Create a function that checks whether its argument contains \\texttt{needle}, i.e. a function equivalent to \\texttt{haystack -> contains(haystack, needle)}.\n",
       "\n",
       "The returned function is of type \\texttt{Base.Fix2\\{typeof(contains)\\}}, which can be used to implement specialized methods.\n",
       "\n"
      ],
      "text/markdown": [
       "```\n",
       "contains(haystack::AbstractString, needle)\n",
       "```\n",
       "\n",
       "Return `true` if `haystack` contains `needle`. This is the same as `occursin(needle, haystack)`, but is provided for consistency with `startswith(haystack, needle)` and `endswith(haystack, needle)`.\n",
       "\n",
       "See also [`occursin`](@ref), [`in`](@ref), [`issubset`](@ref).\n",
       "\n",
       "# Examples\n",
       "\n",
       "```jldoctest\n",
       "julia> contains(\"JuliaLang is pretty cool!\", \"Julia\")\n",
       "true\n",
       "\n",
       "julia> contains(\"JuliaLang is pretty cool!\", 'a')\n",
       "true\n",
       "\n",
       "julia> contains(\"aba\", r\"a.a\")\n",
       "true\n",
       "\n",
       "julia> contains(\"abba\", r\"a.a\")\n",
       "false\n",
       "```\n",
       "\n",
       "!!! compat \"Julia 1.5\"\n",
       "    The `contains` function requires at least Julia 1.5.\n",
       "\n",
       "\n",
       "---\n",
       "\n",
       "```\n",
       "contains(needle)\n",
       "```\n",
       "\n",
       "Create a function that checks whether its argument contains `needle`, i.e. a function equivalent to `haystack -> contains(haystack, needle)`.\n",
       "\n",
       "The returned function is of type `Base.Fix2{typeof(contains)}`, which can be used to implement specialized methods.\n"
      ],
      "text/plain": [
       "\u001b[36m  contains(haystack::AbstractString, needle)\u001b[39m\n",
       "\n",
       "  Return \u001b[36mtrue\u001b[39m if \u001b[36mhaystack\u001b[39m contains \u001b[36mneedle\u001b[39m. This is the same as\n",
       "  \u001b[36moccursin(needle, haystack)\u001b[39m, but is provided for consistency with\n",
       "  \u001b[36mstartswith(haystack, needle)\u001b[39m and \u001b[36mendswith(haystack, needle)\u001b[39m.\n",
       "\n",
       "  See also \u001b[36moccursin\u001b[39m, \u001b[36min\u001b[39m, \u001b[36missubset\u001b[39m.\n",
       "\n",
       "\u001b[1m  Examples\u001b[22m\n",
       "\u001b[1m  ≡≡≡≡≡≡≡≡≡≡\u001b[22m\n",
       "\n",
       "\u001b[36m  julia> contains(\"JuliaLang is pretty cool!\", \"Julia\")\u001b[39m\n",
       "\u001b[36m  true\u001b[39m\n",
       "\u001b[36m  \u001b[39m\n",
       "\u001b[36m  julia> contains(\"JuliaLang is pretty cool!\", 'a')\u001b[39m\n",
       "\u001b[36m  true\u001b[39m\n",
       "\u001b[36m  \u001b[39m\n",
       "\u001b[36m  julia> contains(\"aba\", r\"a.a\")\u001b[39m\n",
       "\u001b[36m  true\u001b[39m\n",
       "\u001b[36m  \u001b[39m\n",
       "\u001b[36m  julia> contains(\"abba\", r\"a.a\")\u001b[39m\n",
       "\u001b[36m  false\u001b[39m\n",
       "\n",
       "\u001b[39m\u001b[1m  │ \u001b[22m\u001b[39m\u001b[1mJulia 1.5\u001b[22m\n",
       "\u001b[39m\u001b[1m  │\u001b[22m\n",
       "\u001b[39m\u001b[1m  │\u001b[22m  The \u001b[36mcontains\u001b[39m function requires at least Julia 1.5.\n",
       "\n",
       "  ────────────────────────────────────────────────────────────────────────────\n",
       "\n",
       "\u001b[36m  contains(needle)\u001b[39m\n",
       "\n",
       "  Create a function that checks whether its argument contains \u001b[36mneedle\u001b[39m, i.e. a\n",
       "  function equivalent to \u001b[36mhaystack -> contains(haystack, needle)\u001b[39m.\n",
       "\n",
       "  The returned function is of type \u001b[36mBase.Fix2{typeof(contains)}\u001b[39m, which can be\n",
       "  used to implement specialized methods."
      ]
     },
     "execution_count": 280,
     "metadata": {},
     "output_type": "execute_result"
    }
   ],
   "source": [
    "?(contains)"
   ]
  },
  {
   "cell_type": "code",
   "execution_count": 281,
   "metadata": {},
   "outputs": [],
   "source": [
    "import Base: push!"
   ]
  },
  {
   "cell_type": "code",
   "execution_count": 282,
   "metadata": {},
   "outputs": [
    {
     "data": {
      "text/plain": [
       "push! (generic function with 26 methods)"
      ]
     },
     "execution_count": 282,
     "metadata": {},
     "output_type": "execute_result"
    }
   ],
   "source": [
    "push!(anim::Animation, p::Pair) = push!(anim.keyframes, [p[1]] => p[2])"
   ]
  },
  {
   "cell_type": "code",
   "execution_count": 283,
   "metadata": {},
   "outputs": [
    {
     "data": {
      "text/plain": [
       "keyframe! (generic function with 1 method)"
      ]
     },
     "execution_count": 283,
     "metadata": {},
     "output_type": "execute_result"
    }
   ],
   "source": [
    "function keyframe!(anim::Animation, frames::Vector{String})\n",
    "    prop = string(frames[2]) * \": \" \n",
    "    value = string(frames[3]) * \"; \"\n",
    "    if string(frames[1]) in keys(anim.keyframes)\n",
    "        anim.keyframes[frames[1]] = anim.keyframes[frames[1]] * \"$prop $value\"\n",
    "    else\n",
    "        push!(anim.keyframes, frames[1] => \"$prop $value\")\n",
    "    end\n",
    "end"
   ]
  },
  {
   "cell_type": "code",
   "execution_count": 284,
   "metadata": {},
   "outputs": [
    {
     "data": {
      "text/plain": [
       "Animation(\"hello\", Dict{Any, Any}(), var\"#f#44\"{String}(\"hello\", Core.Box(Dict{Any, Any}())), 0.0, 5.2)"
      ]
     },
     "execution_count": 284,
     "metadata": {},
     "output_type": "execute_result"
    }
   ],
   "source": [
    "anim = Animation(\"hello\")"
   ]
  },
  {
   "cell_type": "code",
   "execution_count": 285,
   "metadata": {},
   "outputs": [
    {
     "data": {
      "text/plain": [
       "Dict{Any, Any} with 1 entry:\n",
       "  \"from\" => \"height:  50px; \""
      ]
     },
     "execution_count": 285,
     "metadata": {},
     "output_type": "execute_result"
    }
   ],
   "source": [
    "@keyframe! anim from height \"50px\""
   ]
  },
  {
   "cell_type": "code",
   "execution_count": 286,
   "metadata": {},
   "outputs": [
    {
     "data": {
      "text/plain": [
       "Animation(\"hello\", Dict{Any, Any}(\"from\" => \"height:  50px; \"), var\"#f#44\"{String}(\"hello\", Core.Box(Dict{Any, Any}(\"from\" => \"height:  50px; \"))), 0.0, 5.2)"
      ]
     },
     "execution_count": 286,
     "metadata": {},
     "output_type": "execute_result"
    }
   ],
   "source": [
    "anim"
   ]
  },
  {
   "cell_type": "code",
   "execution_count": 287,
   "metadata": {},
   "outputs": [
    {
     "data": {
      "text/plain": [
       "\"height:  50px; width:  50px; \""
      ]
     },
     "execution_count": 287,
     "metadata": {},
     "output_type": "execute_result"
    }
   ],
   "source": [
    "@keyframe! anim from width \"50px\""
   ]
  },
  {
   "cell_type": "code",
   "execution_count": 288,
   "metadata": {},
   "outputs": [
    {
     "data": {
      "text/plain": [
       "Dict{Any, Any} with 1 entry:\n",
       "  \"from\" => \"height:  50px; width:  50px; \""
      ]
     },
     "execution_count": 288,
     "metadata": {},
     "output_type": "execute_result"
    }
   ],
   "source": [
    "anim.keyframes"
   ]
  },
  {
   "cell_type": "code",
   "execution_count": 289,
   "metadata": {},
   "outputs": [
    {
     "data": {
      "text/plain": [
       "\"<style> @keyframes hello {from {height:  50px; width:  50px; }}</style>\""
      ]
     },
     "execution_count": 289,
     "metadata": {},
     "output_type": "execute_result"
    }
   ],
   "source": [
    "anim.f(\"h\")"
   ]
  },
  {
   "cell_type": "code",
   "execution_count": 290,
   "metadata": {},
   "outputs": [
    {
     "data": {
      "text/plain": [
       "Animation(\"fadein\", Dict{Any, Any}(), var\"#f#44\"{String}(\"fadein\", Core.Box(Dict{Any, Any}())), 0.0, 5.2)"
      ]
     },
     "execution_count": 290,
     "metadata": {},
     "output_type": "execute_result"
    }
   ],
   "source": [
    "fadein = Animation(\"fadein\")"
   ]
  },
  {
   "cell_type": "code",
   "execution_count": 291,
   "metadata": {},
   "outputs": [
    {
     "data": {
      "text/plain": [
       "Dict{Any, Any} with 1 entry:\n",
       "  \"from\" => \"opacity:  0%; \""
      ]
     },
     "execution_count": 291,
     "metadata": {},
     "output_type": "execute_result"
    }
   ],
   "source": [
    "@keyframe! fadein from opacity \"0%\""
   ]
  },
  {
   "cell_type": "code",
   "execution_count": 292,
   "metadata": {},
   "outputs": [
    {
     "data": {
      "text/plain": [
       "Dict{Any, Any} with 2 entries:\n",
       "  \"to\"   => \"opacity:  100%; \"\n",
       "  \"from\" => \"opacity:  0%; \""
      ]
     },
     "execution_count": 292,
     "metadata": {},
     "output_type": "execute_result"
    }
   ],
   "source": [
    "@keyframe! fadein to opacity \"100%\""
   ]
  },
  {
   "cell_type": "code",
   "execution_count": 293,
   "metadata": {},
   "outputs": [
    {
     "data": {
      "text/plain": [
       "\"<style> @keyframes fadein {to {opacity:  100%; }from {opacity:  0%; }}</style>\""
      ]
     },
     "execution_count": 293,
     "metadata": {},
     "output_type": "execute_result"
    }
   ],
   "source": [
    "s = fadein.f(\"\")"
   ]
  },
  {
   "cell_type": "code",
   "execution_count": 294,
   "metadata": {},
   "outputs": [
    {
     "data": {
      "text/plain": [
       "\"<h1 style='animation: fadein 10s;'>Hello there, how are you?</h1>\""
      ]
     },
     "execution_count": 294,
     "metadata": {},
     "output_type": "execute_result"
    }
   ],
   "source": [
    "htm = \"<h1 style='animation: fadein 10s;'>Hello there, how are you?</h1>\""
   ]
  },
  {
   "cell_type": "code",
   "execution_count": 297,
   "metadata": {},
   "outputs": [
    {
     "data": {
      "text/html": [
       "<style> @keyframes fadein {to {opacity:  100%; }from {opacity:  0%; }}</style><h1 style='animation: fadein 10s;'>Hello there, how are you?</h1>"
      ]
     },
     "metadata": {},
     "output_type": "display_data"
    }
   ],
   "source": [
    "display(\"text/html\", s * htm)"
   ]
  },
  {
   "cell_type": "code",
   "execution_count": null,
   "metadata": {},
   "outputs": [],
   "source": []
  },
  {
   "cell_type": "code",
   "execution_count": null,
   "metadata": {},
   "outputs": [],
   "source": []
  }
 ],
 "metadata": {
  "kernelspec": {
   "display_name": "Julia 1.7.2",
   "language": "julia",
   "name": "julia-1.7"
  },
  "language_info": {
   "file_extension": ".jl",
   "mimetype": "application/julia",
   "name": "julia",
   "version": "1.7.2"
  }
 },
 "nbformat": 4,
 "nbformat_minor": 4
}
