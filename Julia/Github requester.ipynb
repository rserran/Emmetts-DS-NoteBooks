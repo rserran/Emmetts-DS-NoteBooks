{
 "cells": [
  {
   "cell_type": "code",
   "execution_count": 1,
   "metadata": {},
   "outputs": [],
   "source": [
    "using HTTP"
   ]
  },
  {
   "cell_type": "code",
   "execution_count": 57,
   "metadata": {},
   "outputs": [
    {
     "data": {
      "text/plain": [
       "HTTP.Messages.Response:\n",
       "\"\"\"\n",
       "HTTP/1.1 200 OK\r\n",
       "Server: GitHub.com\r\n",
       "Date: Mon, 18 Apr 2022 02:02:42 GMT\r\n",
       "Content-Type: application/json; charset=utf-8\r\n",
       "Cache-Control: public, max-age=60, s-maxage=60\r\n",
       "Vary: Accept, Accept-Encoding, Accept, X-Requested-With\r\n",
       "ETag: W/\"57d28b614bedac03ee397595cd79ebd4e1369696e87a01ea8b06d5e24d439f57\"\r\n",
       "X-GitHub-Media-Type: github.v3; format=json\r\n",
       "Access-Control-Expose-Headers: ETag, Link, Location, Retry-After, X-GitHub-OTP, X-RateLimit-Limit, X-RateLimit-Remaining, X-RateLimit-Used, X-RateLimit-Resource, X-RateLimit-Reset, X-OAuth-Scopes, X-Accepted-OAuth-Scopes, X-Poll-Interval, X-GitHub-Media-Type, X-GitHub-SSO, X-GitHub-Request-Id, Deprecation, Sunset\r\n",
       "Access-Control-Allow-Origin: *\r\n",
       "Strict-Transport-Security: max-age=31536000; includeSubdomains; preload\r\n",
       "X-Frame-Options: deny\r\n",
       "X-Content-Type-Options: nosniff\r\n",
       "X-XSS-Protection: 0\r\n",
       "Referrer-Policy: origin-when-cross-origin, strict-origin-when-cross-origin\r\n",
       "Content-Security-Policy: default-src 'none'\r\n",
       "X-RateLimit-Limit: 60\r\n",
       "X-RateLimit-Remaining: 36\r\n",
       "X-RateLimit-Reset: 1650249768\r\n",
       "X-RateLimit-Resource: core\r\n",
       "X-RateLimit-Used: 24\r\n",
       "Accept-Ranges: bytes\r\n",
       "Transfer-Encoding: chunked\r\n",
       "X-GitHub-Request-Id: 9E5E:7D6A:82E29B:1C5479C:625CC6C2\r\n",
       "\r\n",
       "[{\"id\":206924526,\"node_id\":\"MDEwOlJlcG9zaXRvcnkyMDY5MjQ1MjY=\",\"name\":\"Lathe.jl\",\"full_name\":\"ChifiSource/Lathe.jl\",\"private\":false,\"owner\":{\"login\":\"ChifiSource\",\"id\":77068968,\"node_id\":\"MDEyOk9yZ2FuaXphdGlvbjc3MDY4OTY4\",\"avatar_url\":\"https://avatars.githubusercontent.com/u/77068968?v=4\",\"gravatar_id\":\"\",\"url\":\"https://api.github.com/users/ChifiSource\",\"html_url\":\"https://github.com/ChifiSource\",\"followers_url\":\"https://api.github.com/users/ChifiSource/followers\",\"following_url\":\"https://api.github.com/users/ChifiSource/following{/other_user}\",\"gists_url\":\"https://api.github.com/users/ChifiSource/gists{/gist_id}\",\"starred_url\":\"https://api.github.com/users/ChifiSource/starred{/owner}{/repo}\",\"subscriptions_url\":\"https://api.github.com/users/ChifiSource/subscriptions\",\"organizations_url\":\"https://api.github.com/users/ChifiSource/orgs\",\"repos_url\":\"https://api.github.com/users/ChifiSource/repos\",\"events_url\":\"https://api.github.com/users/ChifiSource/events{/privacy}\",\"received_events_url\n",
       "⋮\n",
       "57729-byte body\n",
       "\"\"\""
      ]
     },
     "execution_count": 57,
     "metadata": {},
     "output_type": "execute_result"
    }
   ],
   "source": [
    "r = HTTP.request(\"GET\", \"https://api.github.com/orgs/ChifiSource/repos\")"
   ]
  },
  {
   "cell_type": "code",
   "execution_count": 58,
   "metadata": {},
   "outputs": [],
   "source": [
    "using JSON"
   ]
  },
  {
   "cell_type": "code",
   "execution_count": 59,
   "metadata": {},
   "outputs": [
    {
     "data": {
      "text/plain": [
       "11-element Vector{Any}:\n",
       " Dict{String, Any}(\"pulls_url\" => \"https://api.github.com/repos/ChifiSource/Lathe.jl/pulls{/number}\", \"mirror_url\" => nothing, \"keys_url\" => \"https://api.github.com/repos/ChifiSource/Lathe.jl/keys{/key_id}\", \"html_url\" => \"https://github.com/ChifiSource/Lathe.jl\", \"comments_url\" => \"https://api.github.com/repos/ChifiSource/Lathe.jl/comments{/number}\", \"tags_url\" => \"https://api.github.com/repos/ChifiSource/Lathe.jl/tags\", \"svn_url\" => \"https://github.com/ChifiSource/Lathe.jl\", \"statuses_url\" => \"https://api.github.com/repos/ChifiSource/Lathe.jl/statuses/{sha}\", \"archive_url\" => \"https://api.github.com/repos/ChifiSource/Lathe.jl/{archive_format}{/ref}\", \"fork\" => false…)\n",
       " Dict{String, Any}(\"pulls_url\" => \"https://api.github.com/repos/ChifiSource/TopLoader/pulls{/number}\", \"mirror_url\" => nothing, \"keys_url\" => \"https://api.github.com/repos/ChifiSource/TopLoader/keys{/key_id}\", \"html_url\" => \"https://github.com/ChifiSource/TopLoader\", \"comments_url\" => \"https://api.github.com/repos/ChifiSource/TopLoader/comments{/number}\", \"tags_url\" => \"https://api.github.com/repos/ChifiSource/TopLoader/tags\", \"svn_url\" => \"https://github.com/ChifiSource/TopLoader\", \"statuses_url\" => \"https://api.github.com/repos/ChifiSource/TopLoader/statuses/{sha}\", \"archive_url\" => \"https://api.github.com/repos/ChifiSource/TopLoader/{archive_format}{/ref}\", \"fork\" => false…)\n",
       " Dict{String, Any}(\"pulls_url\" => \"https://api.github.com/repos/ChifiSource/Hone.jl/pulls{/number}\", \"mirror_url\" => nothing, \"keys_url\" => \"https://api.github.com/repos/ChifiSource/Hone.jl/keys{/key_id}\", \"html_url\" => \"https://github.com/ChifiSource/Hone.jl\", \"comments_url\" => \"https://api.github.com/repos/ChifiSource/Hone.jl/comments{/number}\", \"tags_url\" => \"https://api.github.com/repos/ChifiSource/Hone.jl/tags\", \"svn_url\" => \"https://github.com/ChifiSource/Hone.jl\", \"statuses_url\" => \"https://api.github.com/repos/ChifiSource/Hone.jl/statuses/{sha}\", \"archive_url\" => \"https://api.github.com/repos/ChifiSource/Hone.jl/{archive_format}{/ref}\", \"fork\" => false…)\n",
       " Dict{String, Any}(\"pulls_url\" => \"https://api.github.com/repos/ChifiSource/ChEMBL.jl/pulls{/number}\", \"mirror_url\" => nothing, \"keys_url\" => \"https://api.github.com/repos/ChifiSource/ChEMBL.jl/keys{/key_id}\", \"html_url\" => \"https://github.com/ChifiSource/ChEMBL.jl\", \"comments_url\" => \"https://api.github.com/repos/ChifiSource/ChEMBL.jl/comments{/number}\", \"tags_url\" => \"https://api.github.com/repos/ChifiSource/ChEMBL.jl/tags\", \"svn_url\" => \"https://github.com/ChifiSource/ChEMBL.jl\", \"statuses_url\" => \"https://api.github.com/repos/ChifiSource/ChEMBL.jl/statuses/{sha}\", \"archive_url\" => \"https://api.github.com/repos/ChifiSource/ChEMBL.jl/{archive_format}{/ref}\", \"fork\" => false…)\n",
       " Dict{String, Any}(\"pulls_url\" => \"https://api.github.com/repos/ChifiSource/OddFrames.jl/pulls{/number}\", \"mirror_url\" => nothing, \"keys_url\" => \"https://api.github.com/repos/ChifiSource/OddFrames.jl/keys{/key_id}\", \"html_url\" => \"https://github.com/ChifiSource/OddFrames.jl\", \"comments_url\" => \"https://api.github.com/repos/ChifiSource/OddFrames.jl/comments{/number}\", \"tags_url\" => \"https://api.github.com/repos/ChifiSource/OddFrames.jl/tags\", \"svn_url\" => \"https://github.com/ChifiSource/OddFrames.jl\", \"statuses_url\" => \"https://api.github.com/repos/ChifiSource/OddFrames.jl/statuses/{sha}\", \"archive_url\" => \"https://api.github.com/repos/ChifiSource/OddFrames.jl/{archive_format}{/ref}\", \"fork\" => false…)\n",
       " Dict{String, Any}(\"pulls_url\" => \"https://api.github.com/repos/ChifiSource/Prrty.jl/pulls{/number}\", \"mirror_url\" => nothing, \"keys_url\" => \"https://api.github.com/repos/ChifiSource/Prrty.jl/keys{/key_id}\", \"html_url\" => \"https://github.com/ChifiSource/Prrty.jl\", \"comments_url\" => \"https://api.github.com/repos/ChifiSource/Prrty.jl/comments{/number}\", \"tags_url\" => \"https://api.github.com/repos/ChifiSource/Prrty.jl/tags\", \"svn_url\" => \"https://github.com/ChifiSource/Prrty.jl\", \"statuses_url\" => \"https://api.github.com/repos/ChifiSource/Prrty.jl/statuses/{sha}\", \"archive_url\" => \"https://api.github.com/repos/ChifiSource/Prrty.jl/{archive_format}{/ref}\", \"fork\" => false…)\n",
       " Dict{String, Any}(\"pulls_url\" => \"https://api.github.com/repos/ChifiSource/leya/pulls{/number}\", \"mirror_url\" => nothing, \"keys_url\" => \"https://api.github.com/repos/ChifiSource/leya/keys{/key_id}\", \"html_url\" => \"https://github.com/ChifiSource/leya\", \"comments_url\" => \"https://api.github.com/repos/ChifiSource/leya/comments{/number}\", \"tags_url\" => \"https://api.github.com/repos/ChifiSource/leya/tags\", \"svn_url\" => \"https://github.com/ChifiSource/leya\", \"statuses_url\" => \"https://api.github.com/repos/ChifiSource/leya/statuses/{sha}\", \"archive_url\" => \"https://api.github.com/repos/ChifiSource/leya/{archive_format}{/ref}\", \"fork\" => false…)\n",
       " Dict{String, Any}(\"pulls_url\" => \"https://api.github.com/repos/ChifiSource/Toolips.jl/pulls{/number}\", \"mirror_url\" => nothing, \"keys_url\" => \"https://api.github.com/repos/ChifiSource/Toolips.jl/keys{/key_id}\", \"html_url\" => \"https://github.com/ChifiSource/Toolips.jl\", \"comments_url\" => \"https://api.github.com/repos/ChifiSource/Toolips.jl/comments{/number}\", \"tags_url\" => \"https://api.github.com/repos/ChifiSource/Toolips.jl/tags\", \"svn_url\" => \"https://github.com/ChifiSource/Toolips.jl\", \"statuses_url\" => \"https://api.github.com/repos/ChifiSource/Toolips.jl/statuses/{sha}\", \"archive_url\" => \"https://api.github.com/repos/ChifiSource/Toolips.jl/{archive_format}{/ref}\", \"fork\" => false…)\n",
       " Dict{String, Any}(\"pulls_url\" => \"https://api.github.com/repos/ChifiSource/IpyJL.jl/pulls{/number}\", \"mirror_url\" => nothing, \"keys_url\" => \"https://api.github.com/repos/ChifiSource/IpyJL.jl/keys{/key_id}\", \"html_url\" => \"https://github.com/ChifiSource/IpyJL.jl\", \"comments_url\" => \"https://api.github.com/repos/ChifiSource/IpyJL.jl/comments{/number}\", \"tags_url\" => \"https://api.github.com/repos/ChifiSource/IpyJL.jl/tags\", \"svn_url\" => \"https://github.com/ChifiSource/IpyJL.jl\", \"statuses_url\" => \"https://api.github.com/repos/ChifiSource/IpyJL.jl/statuses/{sha}\", \"archive_url\" => \"https://api.github.com/repos/ChifiSource/IpyJL.jl/{archive_format}{/ref}\", \"fork\" => false…)\n",
       " Dict{String, Any}(\"pulls_url\" => \"https://api.github.com/repos/ChifiSource/Vulta/pulls{/number}\", \"mirror_url\" => nothing, \"keys_url\" => \"https://api.github.com/repos/ChifiSource/Vulta/keys{/key_id}\", \"html_url\" => \"https://github.com/ChifiSource/Vulta\", \"comments_url\" => \"https://api.github.com/repos/ChifiSource/Vulta/comments{/number}\", \"tags_url\" => \"https://api.github.com/repos/ChifiSource/Vulta/tags\", \"svn_url\" => \"https://github.com/ChifiSource/Vulta\", \"statuses_url\" => \"https://api.github.com/repos/ChifiSource/Vulta/statuses/{sha}\", \"archive_url\" => \"https://api.github.com/repos/ChifiSource/Vulta/{archive_format}{/ref}\", \"fork\" => false…)\n",
       " Dict{String, Any}(\"pulls_url\" => \"https://api.github.com/repos/ChifiSource/ODDataModels.jl/pulls{/number}\", \"mirror_url\" => nothing, \"keys_url\" => \"https://api.github.com/repos/ChifiSource/ODDataModels.jl/keys{/key_id}\", \"html_url\" => \"https://github.com/ChifiSource/ODDataModels.jl\", \"comments_url\" => \"https://api.github.com/repos/ChifiSource/ODDataModels.jl/comments{/number}\", \"tags_url\" => \"https://api.github.com/repos/ChifiSource/ODDataModels.jl/tags\", \"svn_url\" => \"https://github.com/ChifiSource/ODDataModels.jl\", \"statuses_url\" => \"https://api.github.com/repos/ChifiSource/ODDataModels.jl/statuses/{sha}\", \"archive_url\" => \"https://api.github.com/repos/ChifiSource/ODDataModels.jl/{archive_format}{/ref}\", \"fork\" => false…)"
      ]
     },
     "execution_count": 59,
     "metadata": {},
     "output_type": "execute_result"
    }
   ],
   "source": [
    "items = JSON.parse(String(r.body))"
   ]
  },
  {
   "cell_type": "code",
   "execution_count": 60,
   "metadata": {},
   "outputs": [
    {
     "name": "stdout",
     "output_type": "stream",
     "text": [
      "Dict{String, Any}(\"pulls_url\" => \"https://api.github.com/repos/ChifiSource/Lathe.jl/pulls{/number}\", \"mirror_url\" => nothing, \"keys_url\" => \"https://api.github.com/repos/ChifiSource/Lathe.jl/keys{/key_id}\", \"html_url\" => \"https://github.com/ChifiSource/Lathe.jl\", \"comments_url\" => \"https://api.github.com/repos/ChifiSource/Lathe.jl/comments{/number}\", \"tags_url\" => \"https://api.github.com/repos/ChifiSource/Lathe.jl/tags\", \"svn_url\" => \"https://github.com/ChifiSource/Lathe.jl\", \"statuses_url\" => \"https://api.github.com/repos/ChifiSource/Lathe.jl/statuses/{sha}\", \"archive_url\" => \"https://api.github.com/repos/ChifiSource/Lathe.jl/{archive_format}{/ref}\", \"fork\" => false, \"permissions\" => Dict{String, Any}(\"admin\" => false, \"maintain\" => false, \"pull\" => true, \"push\" => false, \"triage\" => false), \"watchers\" => 69, \"contents_url\" => \"https://api.github.com/repos/ChifiSource/Lathe.jl/contents/{+path}\", \"disabled\" => false, \"labels_url\" => \"https://api.github.com/repos/ChifiSource/Lathe.jl/labels{/name}\", \"open_issues\" => 0, \"forks_count\" => 11, \"issues_url\" => \"https://api.github.com/repos/ChifiSource/Lathe.jl/issues{/number}\", \"homepage\" => \"http://lathe.ai\", \"language\" => \"Julia\", \"has_downloads\" => true, \"collaborators_url\" => \"https://api.github.com/repos/ChifiSource/Lathe.jl/collaborators{/collaborator}\", \"name\" => \"Lathe.jl\", \"deployments_url\" => \"https://api.github.com/repos/ChifiSource/Lathe.jl/deployments\", \"owner\" => Dict{String, Any}(\"repos_url\" => \"https://api.github.com/users/ChifiSource/repos\", \"login\" => \"ChifiSource\", \"gists_url\" => \"https://api.github.com/users/ChifiSource/gists{/gist_id}\", \"site_admin\" => false, \"subscriptions_url\" => \"https://api.github.com/users/ChifiSource/subscriptions\", \"id\" => 77068968, \"html_url\" => \"https://github.com/ChifiSource\", \"node_id\" => \"MDEyOk9yZ2FuaXphdGlvbjc3MDY4OTY4\", \"events_url\" => \"https://api.github.com/users/ChifiSource/events{/privacy}\", \"followers_url\" => \"https://api.github.com/users/ChifiSource/followers\", \"organizations_url\" => \"https://api.github.com/users/ChifiSource/orgs\", \"starred_url\" => \"https://api.github.com/users/ChifiSource/starred{/owner}{/repo}\", \"avatar_url\" => \"https://avatars.githubusercontent.com/u/77068968?v=4\", \"url\" => \"https://api.github.com/users/ChifiSource\", \"received_events_url\" => \"https://api.github.com/users/ChifiSource/received_events\", \"type\" => \"Organization\", \"following_url\" => \"https://api.github.com/users/ChifiSource/following{/other_user}\", \"gravatar_id\" => \"\"), \"node_id\" => \"MDEwOlJlcG9zaXRvcnkyMDY5MjQ1MjY=\", \"stargazers_url\" => \"https://api.github.com/repos/ChifiSource/Lathe.jl/stargazers\", \"updated_at\" => \"2022-04-01T17:46:29Z\", \"branches_url\" => \"https://api.github.com/repos/ChifiSource/Lathe.jl/branches{/branch}\", \"subscribers_url\" => \"https://api.github.com/repos/ChifiSource/Lathe.jl/subscribers\", \"stargazers_count\" => 69, \"notifications_url\" => \"https://api.github.com/repos/ChifiSource/Lathe.jl/notifications{?since,all,participating}\", \"url\" => \"https://api.github.com/repos/ChifiSource/Lathe.jl\", \"license\" => Dict{String, Any}(\"key\" => \"mit\", \"name\" => \"MIT License\", \"spdx_id\" => \"MIT\", \"node_id\" => \"MDc6TGljZW5zZTEz\", \"url\" => \"https://api.github.com/licenses/mit\"), \"compare_url\" => \"https://api.github.com/repos/ChifiSource/Lathe.jl/compare/{base}...{head}\", \"contributors_url\" => \"https://api.github.com/repos/ChifiSource/Lathe.jl/contributors\", \"downloads_url\" => \"https://api.github.com/repos/ChifiSource/Lathe.jl/downloads\", \"visibility\" => \"public\", \"forks_url\" => \"https://api.github.com/repos/ChifiSource/Lathe.jl/forks\", \"open_issues_count\" => 0, \"forks\" => 11, \"hooks_url\" => \"https://api.github.com/repos/ChifiSource/Lathe.jl/hooks\", \"id\" => 206924526, \"git_tags_url\" => \"https://api.github.com/repos/ChifiSource/Lathe.jl/git/tags{/sha}\", \"events_url\" => \"https://api.github.com/repos/ChifiSource/Lathe.jl/events\", \"git_refs_url\" => \"https://api.github.com/repos/ChifiSource/Lathe.jl/git/refs{/sha}\", \"milestones_url\" => \"https://api.github.com/repos/ChifiSource/Lathe.jl/milestones{/number}\", \"full_name\" => \"ChifiSource/Lathe.jl\", \"default_branch\" => \"master\", \"has_issues\" => true, \"blobs_url\" => \"https://api.github.com/repos/ChifiSource/Lathe.jl/git/blobs{/sha}\", \"git_url\" => \"git://github.com/ChifiSource/Lathe.jl.git\", \"ssh_url\" => \"git@github.com:ChifiSource/Lathe.jl.git\", \"teams_url\" => \"https://api.github.com/repos/ChifiSource/Lathe.jl/teams\", \"is_template\" => false, \"has_projects\" => true, \"merges_url\" => \"https://api.github.com/repos/ChifiSource/Lathe.jl/merges\", \"trees_url\" => \"https://api.github.com/repos/ChifiSource/Lathe.jl/git/trees{/sha}\", \"created_at\" => \"2019-09-07T06:11:33Z\", \"assignees_url\" => \"https://api.github.com/repos/ChifiSource/Lathe.jl/assignees{/user}\", \"languages_url\" => \"https://api.github.com/repos/ChifiSource/Lathe.jl/languages\", \"allow_forking\" => true, \"subscription_url\" => \"https://api.github.com/repos/ChifiSource/Lathe.jl/subscription\", \"commits_url\" => \"https://api.github.com/repos/ChifiSource/Lathe.jl/commits{/sha}\", \"watchers_count\" => 69, \"archived\" => false, \"topics\" => Any[\"data\", \"julia\", \"julialang\", \"lathe\", \"machine-learning\", \"ml\", \"object-oriented\", \"pipelines\", \"science\", \"statitics\", \"stats\"], \"private\" => false, \"description\" => \"Lathe is an inclusive Predictive Learning module for Julia \", \"releases_url\" => \"https://api.github.com/repos/ChifiSource/Lathe.jl/releases{/id}\", \"size\" => 1176, \"git_commits_url\" => \"https://api.github.com/repos/ChifiSource/Lathe.jl/git/commits{/sha}\", \"has_pages\" => false, \"issue_events_url\" => \"https://api.github.com/repos/ChifiSource/Lathe.jl/issues/events{/number}\", \"issue_comment_url\" => \"https://api.github.com/repos/ChifiSource/Lathe.jl/issues/comments{/number}\", \"pushed_at\" => \"2022-01-12T03:50:22Z\", \"clone_url\" => \"https://github.com/ChifiSource/Lathe.jl.git\", \"has_wiki\" => true)\n"
     ]
    }
   ],
   "source": [
    "println(values(items)[1])"
   ]
  },
  {
   "cell_type": "code",
   "execution_count": 73,
   "metadata": {},
   "outputs": [
    {
     "data": {
      "text/plain": [
       "string_to_array (generic function with 1 method)"
      ]
     },
     "execution_count": 73,
     "metadata": {},
     "output_type": "execute_result"
    }
   ],
   "source": [
    "function string_to_array(s::String)\n",
    "    s = replace(s, \"[\" => \"\")\n",
    "    s = replace(s, \"]\" => \"\")\n",
    "    split(s, \",\")\n",
    "end"
   ]
  },
  {
   "cell_type": "code",
   "execution_count": 74,
   "metadata": {},
   "outputs": [],
   "source": [
    "mutable struct RepoData\n",
    "    name::Any\n",
    "    desc::Any\n",
    "    url::Any\n",
    "    language::Any\n",
    "    stars::Any\n",
    "    tags::Array\n",
    "    function RepoData(d::Dict)\n",
    "        tag_url = d[\"tags_url\"]\n",
    "        tagr = HTTP.request(\"GET\", tag_url)\n",
    "        tags = string_to_array(String(tagr.body))\n",
    "        new(d[\"name\"], d[\"description\"], d[\"html_url\"], d[\"language\"], d[\"stargazers_count\"], tags)\n",
    "    end\n",
    "end"
   ]
  },
  {
   "cell_type": "code",
   "execution_count": 75,
   "metadata": {},
   "outputs": [
    {
     "data": {
      "text/plain": [
       "11-element Vector{RepoData}:\n",
       " RepoData(\"Lathe.jl\", \"Lathe is an inclusive Predictive Learning module for Julia \", \"https://github.com/ChifiSource/Lathe.jl\", \"Julia\", 69, SubString{String}[\"\"])\n",
       " RepoData(\"TopLoader\", \"A Python Interface for Julia Pkg environments.\", \"https://github.com/ChifiSource/TopLoader\", \"Python\", 6, SubString{String}[\"\"])\n",
       " RepoData(\"Hone.jl\", \"Object-oriented graphing modular library for Julia\", \"https://github.com/ChifiSource/Hone.jl\", \"Julia\", 6, SubString{String}[\"\"])\n",
       " RepoData(\"ChEMBL.jl\", \"A Julian Implementation of the ChEMBL API. (https://www.ebi.ac.uk/chembl/api/)\", \"https://github.com/ChifiSource/ChEMBL.jl\", \"Julia\", 0, SubString{String}[\"\"])\n",
       " RepoData(\"OddFrames.jl\", \"The unique data management platform for Julia\", \"https://github.com/ChifiSource/OddFrames.jl\", \"Julia\", 12, SubString{String}[\"\"])\n",
       " RepoData(\"Prrty.jl\", \"Elegant Dashboards for Julia\", \"https://github.com/ChifiSource/Prrty.jl\", \"Julia\", 3, SubString{String}[\"\"])\n",
       " RepoData(\"leya\", \"🦩 The official programming language of flamingos. 🦩\", \"https://github.com/ChifiSource/leya\", \"Assembly\", 1, SubString{String}[\"\"])\n",
       " RepoData(\"Toolips.jl\", \"A weird web-development framework centered around functions.\", \"https://github.com/ChifiSource/Toolips.jl\", \"Julia\", 7, SubString{String}[\"\"])\n",
       " RepoData(\"IpyJL.jl\", \"A simple IPython notebook to Julia code parser.\", \"https://github.com/ChifiSource/IpyJL.jl\", \"Julia\", 0, SubString{String}[\"\"])\n",
       " RepoData(\"Vulta\", \"A high-level declarative graphics interface using Vulkan\", \"https://github.com/ChifiSource/Vulta\", \"C++\", 0, SubString{String}[\"\"])\n",
       " RepoData(\"ODDataModels.jl\", \"Data modeling for tabular data-sets\", \"https://github.com/ChifiSource/ODDataModels.jl\", nothing, 1, SubString{String}[\"\"])"
      ]
     },
     "execution_count": 75,
     "metadata": {},
     "output_type": "execute_result"
    }
   ],
   "source": [
    "rds = [RepoData(d) for d in items]"
   ]
  },
  {
   "cell_type": "code",
   "execution_count": null,
   "metadata": {},
   "outputs": [],
   "source": []
  },
  {
   "cell_type": "code",
   "execution_count": null,
   "metadata": {},
   "outputs": [],
   "source": []
  }
 ],
 "metadata": {
  "kernelspec": {
   "display_name": "Julia 1.7.2",
   "language": "julia",
   "name": "julia-1.7"
  },
  "language_info": {
   "file_extension": ".jl",
   "mimetype": "application/julia",
   "name": "julia",
   "version": "1.7.2"
  }
 },
 "nbformat": 4,
 "nbformat_minor": 4
}
