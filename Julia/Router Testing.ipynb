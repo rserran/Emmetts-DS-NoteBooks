{
 "cells": [
  {
   "cell_type": "code",
   "execution_count": 1,
   "metadata": {},
   "outputs": [],
   "source": [
    "using Lathe.models: Pipeline, LatheObject"
   ]
  },
  {
   "cell_type": "code",
   "execution_count": 2,
   "metadata": {},
   "outputs": [],
   "source": [
    "mutable struct Router{P} <: LatheObject\n",
    "    fn::Function\n",
    "    components::Array{LatheObject}\n",
    "    predict::P\n",
    "    function Router(components::LatheObject ...; fn::Function)\n",
    "        components = Array([comp for comp in components])\n",
    "        predict(xt) = router_load(xt, fn, components)\n",
    "        new{typeof(predict)}(fn, components, predict)\n",
    "    end\n",
    "    function router_load(data, fn, components)\n",
    "        returns = fn(data)\n",
    "        preds = []\n",
    "        count = 0\n",
    "        for cp in components\n",
    "            count += 1\n",
    "            res = cp.predict(returns[count])\n",
    "            push!(preds, res)\n",
    "        end\n",
    "        return([res for res in preds])\n",
    "    end\n",
    "end"
   ]
  },
  {
   "cell_type": "code",
   "execution_count": 3,
   "metadata": {},
   "outputs": [],
   "source": [
    "using Lathe.preprocess: OrdinalEncoder, FloatEncoder"
   ]
  },
  {
   "cell_type": "code",
   "execution_count": 4,
   "metadata": {},
   "outputs": [
    {
     "data": {
      "text/plain": [
       "2-element Vector{String}:\n",
       " \"Hi\"\n",
       " \"hello\""
      ]
     },
     "execution_count": 4,
     "metadata": {},
     "output_type": "execute_result"
    }
   ],
   "source": [
    "x = [\"Hi\", \"hello\"]"
   ]
  },
  {
   "cell_type": "code",
   "execution_count": 5,
   "metadata": {},
   "outputs": [
    {
     "data": {
      "text/plain": [
       "Pipeline{Lathe.models.var\"#predict#54\"{Vector{FloatEncoder{Lathe.preprocess.var\"#predict#12\"}}}, Lathe.models.var\"#show#53\"{Vector{FloatEncoder{Lathe.preprocess.var\"#predict#12\"}}}}(LatheObject[FloatEncoder{Lathe.preprocess.var\"#predict#12\"}(Lathe.preprocess.var\"#predict#12\"())], Lathe.models.var\"#predict#54\"{Vector{FloatEncoder{Lathe.preprocess.var\"#predict#12\"}}}(FloatEncoder{Lathe.preprocess.var\"#predict#12\"}[FloatEncoder{Lathe.preprocess.var\"#predict#12\"}(Lathe.preprocess.var\"#predict#12\"())], Core.Box(Lathe.models.var\"#pipe_predict#56\"())), Lathe.models.var\"#show#53\"{Vector{FloatEncoder{Lathe.preprocess.var\"#predict#12\"}}}(FloatEncoder{Lathe.preprocess.var\"#predict#12\"}[FloatEncoder{Lathe.preprocess.var\"#predict#12\"}(Lathe.preprocess.var\"#predict#12\"())], Core.Box(Lathe.models.var\"#_show#55\"())))"
      ]
     },
     "execution_count": 5,
     "metadata": {},
     "output_type": "execute_result"
    }
   ],
   "source": [
    "pipe1 = Pipeline(OrdinalEncoder(x))\n",
    "pipe2 = Pipeline(FloatEncoder())"
   ]
  },
  {
   "cell_type": "code",
   "execution_count": 6,
   "metadata": {},
   "outputs": [
    {
     "data": {
      "text/plain": [
       "take_x (generic function with 1 method)"
      ]
     },
     "execution_count": 6,
     "metadata": {},
     "output_type": "execute_result"
    }
   ],
   "source": [
    "function take_x(xdata)\n",
    "    return(xdata, xdata)\n",
    "end"
   ]
  },
  {
   "cell_type": "code",
   "execution_count": 7,
   "metadata": {},
   "outputs": [
    {
     "data": {
      "text/plain": [
       "Router{var\"#predict#3\"{typeof(take_x), Vector{Pipeline}}}(take_x, LatheObject[Pipeline{Lathe.models.var\"#predict#54\"{Vector{OrdinalEncoder{Lathe.preprocess.var\"#predict#9\"{Dict{String, Int64}}}}}, Lathe.models.var\"#show#53\"{Vector{OrdinalEncoder{Lathe.preprocess.var\"#predict#9\"{Dict{String, Int64}}}}}}(LatheObject[OrdinalEncoder{Lathe.preprocess.var\"#predict#9\"{Dict{String, Int64}}}(Lathe.preprocess.var\"#predict#9\"{Dict{String, Int64}}(Dict(\"Hi\" => 1, \"hello\" => 2)), Dict(\"Hi\" => 1, \"hello\" => 2))], Lathe.models.var\"#predict#54\"{Vector{OrdinalEncoder{Lathe.preprocess.var\"#predict#9\"{Dict{String, Int64}}}}}(OrdinalEncoder{Lathe.preprocess.var\"#predict#9\"{Dict{String, Int64}}}[OrdinalEncoder{Lathe.preprocess.var\"#predict#9\"{Dict{String, Int64}}}(Lathe.preprocess.var\"#predict#9\"{Dict{String, Int64}}(Dict(\"Hi\" => 1, \"hello\" => 2)), Dict(\"Hi\" => 1, \"hello\" => 2))], Core.Box(Lathe.models.var\"#pipe_predict#56\"())), Lathe.models.var\"#show#53\"{Vector{OrdinalEncoder{Lathe.preprocess.var\"#predict#9\"{Dict{String, Int64}}}}}(OrdinalEncoder{Lathe.preprocess.var\"#predict#9\"{Dict{String, Int64}}}[OrdinalEncoder{Lathe.preprocess.var\"#predict#9\"{Dict{String, Int64}}}(Lathe.preprocess.var\"#predict#9\"{Dict{String, Int64}}(Dict(\"Hi\" => 1, \"hello\" => 2)), Dict(\"Hi\" => 1, \"hello\" => 2))], Core.Box(Lathe.models.var\"#_show#55\"()))), Pipeline{Lathe.models.var\"#predict#54\"{Vector{FloatEncoder{Lathe.preprocess.var\"#predict#12\"}}}, Lathe.models.var\"#show#53\"{Vector{FloatEncoder{Lathe.preprocess.var\"#predict#12\"}}}}(LatheObject[FloatEncoder{Lathe.preprocess.var\"#predict#12\"}(Lathe.preprocess.var\"#predict#12\"())], Lathe.models.var\"#predict#54\"{Vector{FloatEncoder{Lathe.preprocess.var\"#predict#12\"}}}(FloatEncoder{Lathe.preprocess.var\"#predict#12\"}[FloatEncoder{Lathe.preprocess.var\"#predict#12\"}(Lathe.preprocess.var\"#predict#12\"())], Core.Box(Lathe.models.var\"#pipe_predict#56\"())), Lathe.models.var\"#show#53\"{Vector{FloatEncoder{Lathe.preprocess.var\"#predict#12\"}}}(FloatEncoder{Lathe.preprocess.var\"#predict#12\"}[FloatEncoder{Lathe.preprocess.var\"#predict#12\"}(Lathe.preprocess.var\"#predict#12\"())], Core.Box(Lathe.models.var\"#_show#55\"())))], var\"#predict#3\"{typeof(take_x), Vector{Pipeline}}(take_x, Pipeline[Pipeline{Lathe.models.var\"#predict#54\"{Vector{OrdinalEncoder{Lathe.preprocess.var\"#predict#9\"{Dict{String, Int64}}}}}, Lathe.models.var\"#show#53\"{Vector{OrdinalEncoder{Lathe.preprocess.var\"#predict#9\"{Dict{String, Int64}}}}}}(LatheObject[OrdinalEncoder{Lathe.preprocess.var\"#predict#9\"{Dict{String, Int64}}}(Lathe.preprocess.var\"#predict#9\"{Dict{String, Int64}}(Dict(\"Hi\" => 1, \"hello\" => 2)), Dict(\"Hi\" => 1, \"hello\" => 2))], Lathe.models.var\"#predict#54\"{Vector{OrdinalEncoder{Lathe.preprocess.var\"#predict#9\"{Dict{String, Int64}}}}}(OrdinalEncoder{Lathe.preprocess.var\"#predict#9\"{Dict{String, Int64}}}[OrdinalEncoder{Lathe.preprocess.var\"#predict#9\"{Dict{String, Int64}}}(Lathe.preprocess.var\"#predict#9\"{Dict{String, Int64}}(Dict(\"Hi\" => 1, \"hello\" => 2)), Dict(\"Hi\" => 1, \"hello\" => 2))], Core.Box(Lathe.models.var\"#pipe_predict#56\"())), Lathe.models.var\"#show#53\"{Vector{OrdinalEncoder{Lathe.preprocess.var\"#predict#9\"{Dict{String, Int64}}}}}(OrdinalEncoder{Lathe.preprocess.var\"#predict#9\"{Dict{String, Int64}}}[OrdinalEncoder{Lathe.preprocess.var\"#predict#9\"{Dict{String, Int64}}}(Lathe.preprocess.var\"#predict#9\"{Dict{String, Int64}}(Dict(\"Hi\" => 1, \"hello\" => 2)), Dict(\"Hi\" => 1, \"hello\" => 2))], Core.Box(Lathe.models.var\"#_show#55\"()))), Pipeline{Lathe.models.var\"#predict#54\"{Vector{FloatEncoder{Lathe.preprocess.var\"#predict#12\"}}}, Lathe.models.var\"#show#53\"{Vector{FloatEncoder{Lathe.preprocess.var\"#predict#12\"}}}}(LatheObject[FloatEncoder{Lathe.preprocess.var\"#predict#12\"}(Lathe.preprocess.var\"#predict#12\"())], Lathe.models.var\"#predict#54\"{Vector{FloatEncoder{Lathe.preprocess.var\"#predict#12\"}}}(FloatEncoder{Lathe.preprocess.var\"#predict#12\"}[FloatEncoder{Lathe.preprocess.var\"#predict#12\"}(Lathe.preprocess.var\"#predict#12\"())], Core.Box(Lathe.models.var\"#pipe_predict#56\"())), Lathe.models.var\"#show#53\"{Vector{FloatEncoder{Lathe.preprocess.var\"#predict#12\"}}}(FloatEncoder{Lathe.preprocess.var\"#predict#12\"}[FloatEncoder{Lathe.preprocess.var\"#predict#12\"}(Lathe.preprocess.var\"#predict#12\"())], Core.Box(Lathe.models.var\"#_show#55\"())))], Core.Box(var\"#router_load#4\"())))"
      ]
     },
     "execution_count": 7,
     "metadata": {},
     "output_type": "execute_result"
    }
   ],
   "source": [
    "router = Router(pipe1, pipe2, fn = take_x)"
   ]
  },
  {
   "cell_type": "code",
   "execution_count": 8,
   "metadata": {},
   "outputs": [
    {
     "data": {
      "text/plain": [
       "2-element Vector{Vector{T} where T}:\n",
       " [1, 2]\n",
       " Any[177.0, 532.0]"
      ]
     },
     "execution_count": 8,
     "metadata": {},
     "output_type": "execute_result"
    }
   ],
   "source": [
    "router.predict(x)"
   ]
  },
  {
   "cell_type": "code",
   "execution_count": 9,
   "metadata": {},
   "outputs": [],
   "source": [
    "using Lathe.stats: mean"
   ]
  },
  {
   "cell_type": "code",
   "execution_count": 10,
   "metadata": {},
   "outputs": [
    {
     "data": {
      "text/plain": [
       "missing"
      ]
     },
     "execution_count": 10,
     "metadata": {},
     "output_type": "execute_result"
    }
   ],
   "source": [
    "z = missing"
   ]
  },
  {
   "cell_type": "code",
   "execution_count": 11,
   "metadata": {},
   "outputs": [
    {
     "data": {
      "text/plain": [
       "Missing"
      ]
     },
     "execution_count": 11,
     "metadata": {},
     "output_type": "execute_result"
    }
   ],
   "source": [
    "typeof(z)"
   ]
  },
  {
   "cell_type": "code",
   "execution_count": 12,
   "metadata": {},
   "outputs": [
    {
     "data": {
      "text/plain": [
       "NaN"
      ]
     },
     "execution_count": 12,
     "metadata": {},
     "output_type": "execute_result"
    }
   ],
   "source": [
    "b = NaN"
   ]
  },
  {
   "cell_type": "code",
   "execution_count": 86,
   "metadata": {},
   "outputs": [
    {
     "ename": "LoadError",
     "evalue": "invalid redefinition of constant MeanFiller",
     "output_type": "error",
     "traceback": [
      "invalid redefinition of constant MeanFiller",
      "",
      "Stacktrace:",
      " [1] top-level scope",
      "   @ In[86]:2",
      " [2] eval",
      "   @ ./boot.jl:360 [inlined]",
      " [3] include_string(mapexpr::typeof(REPL.softscope), mod::Module, code::String, filename::String)",
      "   @ Base ./loading.jl:1094"
     ]
    }
   ],
   "source": [
    "abstract type Filler <: LatheObject end\n",
    "mutable struct MeanFiller{P} <: Filler\n",
    "    mu::Float64\n",
    "    predict::P\n",
    "    function MeanFiller(data::Array)\n",
    "        mu = mean_missings(data)\n",
    "        predict(xt::Array) = fill_null(xt, mu)\n",
    "        new{typeof(predict)}(mu, predict)\n",
    "    end\n",
    "    function fill_null(xt::Array, mu::Float64)\n",
    "        z = []\n",
    "        for i in xt\n",
    "            if ismissing(i)\n",
    "                newi = mu\n",
    "            elseif typeof(i) == String\n",
    "                newi = mu\n",
    "            elseif isnan(i)\n",
    "                newi = mu\n",
    "            else\n",
    "                newi = i\n",
    "            end\n",
    "            append!(z, newi)\n",
    "        end\n",
    "        return(z)\n",
    "    end\n",
    "    function mean_missings(x::Array)\n",
    "        total = 0\n",
    "        len = 0\n",
    "        for value in x\n",
    "            if ismissing(value)\n",
    "            elseif typeof(value) == String\n",
    "            elseif isnan(value)\n",
    "            else\n",
    "                total += value\n",
    "                len += 1\n",
    "            end\n",
    "        end\n",
    "        return(total / len)\n",
    "    end\n",
    "end"
   ]
  },
  {
   "cell_type": "code",
   "execution_count": 87,
   "metadata": {},
   "outputs": [
    {
     "data": {
      "text/plain": [
       "9-element Vector{Any}:\n",
       "   5\n",
       "  10\n",
       "  15\n",
       "    missing\n",
       "  25\n",
       " NaN\n",
       "  14\n",
       "  22\n",
       "    \"Hi\""
      ]
     },
     "execution_count": 87,
     "metadata": {},
     "output_type": "execute_result"
    }
   ],
   "source": [
    "sample_data = [5, 10, 15, missing, 25, NaN, 14, 22, \"Hi\"]"
   ]
  },
  {
   "cell_type": "code",
   "execution_count": 82,
   "metadata": {},
   "outputs": [
    {
     "name": "stdout",
     "output_type": "stream",
     "text": [
      "yes\n"
     ]
    }
   ],
   "source": [
    "if isnan(sample_data[6])\n",
    "    println(\"yes\")\n",
    "end"
   ]
  },
  {
   "cell_type": "code",
   "execution_count": 83,
   "metadata": {},
   "outputs": [
    {
     "data": {
      "text/plain": [
       "MeanFiller{var\"#predict#43\"{Float64}}(15.166666666666666, var\"#predict#43\"{Float64}(15.166666666666666, Core.Box(var\"#fill_null#44\"())))"
      ]
     },
     "execution_count": 83,
     "metadata": {},
     "output_type": "execute_result"
    }
   ],
   "source": [
    "mf = MeanFiller(sample_data)"
   ]
  },
  {
   "cell_type": "code",
   "execution_count": 84,
   "metadata": {},
   "outputs": [
    {
     "data": {
      "text/plain": [
       "15.166666666666666"
      ]
     },
     "execution_count": 84,
     "metadata": {},
     "output_type": "execute_result"
    }
   ],
   "source": [
    "mf.mu"
   ]
  },
  {
   "cell_type": "code",
   "execution_count": 85,
   "metadata": {},
   "outputs": [
    {
     "data": {
      "text/plain": [
       "9-element Vector{Any}:\n",
       "  5\n",
       " 10\n",
       " 15\n",
       " 15.166666666666666\n",
       " 25\n",
       " 15.166666666666666\n",
       " 14\n",
       " 22\n",
       " 15.166666666666666"
      ]
     },
     "execution_count": 85,
     "metadata": {},
     "output_type": "execute_result"
    }
   ],
   "source": [
    "new_data = mf.predict(sample_data)"
   ]
  },
  {
   "cell_type": "code",
   "execution_count": 89,
   "metadata": {},
   "outputs": [],
   "source": [
    "using Lathe.models: ClassBaseline\n",
    "mutable struct ClassFiller{P} <: Filler\n",
    "    m::LatheObject\n",
    "    predict::P\n",
    "    function ClassFiller(x::Array)\n",
    "        m = ClassBaseline(x)\n",
    "        predict(x::Array) = nan_pred(m, x)\n",
    "        new{typeof(predict)}(m, predict)\n",
    "    end\n",
    "    function nan_pred(m::LatheObject, x::Array)\n",
    "        newx = []\n",
    "        for dim in x\n",
    "            if ismissing(dim)\n",
    "                n = m.predict([value])[1] # The output comes in the form of\n",
    "            elseif isnan(dim)           #    an array, so we must call [1]\n",
    "                n = m.predict([value])[1]\n",
    "            else\n",
    "                n = n\n",
    "            end\n",
    "            append!(newx, n)\n",
    "        end\n",
    "        return(newx)\n",
    "    end\n",
    "end\n",
    "    "
   ]
  },
  {
   "cell_type": "code",
   "execution_count": 90,
   "metadata": {},
   "outputs": [
    {
     "data": {
      "text/plain": [
       "6-element Vector{Any}:\n",
       "    \"H\"\n",
       "    \"B\"\n",
       "    \"H\"\n",
       "    missing\n",
       "    \"H\"\n",
       " NaN"
      ]
     },
     "execution_count": 90,
     "metadata": {},
     "output_type": "execute_result"
    }
   ],
   "source": [
    "x = [\"H\", \"B\", \"H\", missing, \"H\", NaN]"
   ]
  },
  {
   "cell_type": "code",
   "execution_count": 91,
   "metadata": {},
   "outputs": [
    {
     "ename": "LoadError",
     "evalue": "TypeError: non-boolean (Missing) used in boolean context",
     "output_type": "error",
     "traceback": [
      "TypeError: non-boolean (Missing) used in boolean context",
      "",
      "Stacktrace:",
      "  [1] _simple_count(pred::Lathe.models.var\"#41#46\"{String}, itr::Vector{Any}, init::Int64)",
      "    @ Base ./reduce.jl:970",
      "  [2] _count(f::Function, A::Vector{Any}, dims::Colon, init::Int64)",
      "    @ Base ./reducedim.jl:395",
      "  [3] #count#676",
      "    @ ./reducedim.jl:393 [inlined]",
      "  [4] count",
      "    @ ./reducedim.jl:393 [inlined]",
      "  [5] #40",
      "    @ ./none:0 [inlined]",
      "  [6] iterate",
      "    @ ./generator.jl:47 [inlined]",
      "  [7] collect(itr::Base.Generator{Vector{Any}, Lathe.models.var\"#40#45\"{Vector{Any}}})",
      "    @ Base ./array.jl:678",
      "  [8] ClassBaseline(y::Vector{Any})",
      "    @ Lathe.models ~/.julia/packages/Lathe/6ZxTG/src/models/toolbox.jl:81",
      "  [9] ClassFiller(x::Vector{Any})",
      "    @ Main ./In[89]:6",
      " [10] top-level scope",
      "    @ In[91]:1",
      " [11] eval",
      "    @ ./boot.jl:360 [inlined]",
      " [12] include_string(mapexpr::typeof(REPL.softscope), mod::Module, code::String, filename::String)",
      "    @ Base ./loading.jl:1094"
     ]
    }
   ],
   "source": [
    "d = ClassFiller(x)"
   ]
  },
  {
   "cell_type": "code",
   "execution_count": null,
   "metadata": {},
   "outputs": [],
   "source": []
  }
 ],
 "metadata": {
  "kernelspec": {
   "display_name": "Julia 1.5.3",
   "language": "julia",
   "name": "julia-1.5"
  },
  "language_info": {
   "file_extension": ".jl",
   "mimetype": "application/julia",
   "name": "julia",
   "version": "1.6.0"
  }
 },
 "nbformat": 4,
 "nbformat_minor": 4
}
