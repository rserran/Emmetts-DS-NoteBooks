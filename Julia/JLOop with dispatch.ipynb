{
 "cells": [
  {
   "cell_type": "code",
   "execution_count": 1,
   "id": "83730098",
   "metadata": {},
   "outputs": [],
   "source": [
    "mutable struct OOPExample\n",
    "    x::Int64\n",
    "    show::Function\n",
    "    function OOPExample()\n",
    "        x = 5\n",
    "        show() = begin\n",
    "            println(x)\n",
    "        end\n",
    "        new(x, show)\n",
    "    end\n",
    "end"
   ]
  },
  {
   "cell_type": "code",
   "execution_count": 2,
   "id": "fdc0e8db",
   "metadata": {},
   "outputs": [
    {
     "data": {
      "text/plain": [
       "OOPExample(5, var\"#show#3\"{Int64}(5))"
      ]
     },
     "execution_count": 2,
     "metadata": {},
     "output_type": "execute_result"
    }
   ],
   "source": [
    "opex = OOPExample()"
   ]
  },
  {
   "cell_type": "code",
   "execution_count": 3,
   "id": "30542c79",
   "metadata": {},
   "outputs": [
    {
     "name": "stdout",
     "output_type": "stream",
     "text": [
      "5\n"
     ]
    }
   ],
   "source": [
    "opex.show()"
   ]
  },
  {
   "cell_type": "code",
   "execution_count": 4,
   "id": "f913d1f7",
   "metadata": {},
   "outputs": [
    {
     "data": {
      "text/plain": [
       "_show (generic function with 1 method)"
      ]
     },
     "execution_count": 4,
     "metadata": {},
     "output_type": "execute_result"
    }
   ],
   "source": [
    "function _show(x::Int64)\n",
    "    println(x)\n",
    "end"
   ]
  },
  {
   "cell_type": "code",
   "execution_count": 5,
   "id": "d96bd61d",
   "metadata": {},
   "outputs": [],
   "source": [
    "mutable struct IntHolder\n",
    "    x::Int64\n",
    "    show::Function\n",
    "    function IntHolder(x::Int64 = 5)\n",
    "        show(args::Any ...; kwargs ...) = _show(x, args ..., kwargs ...)\n",
    "        new(x, show)\n",
    "    end\n",
    "end"
   ]
  },
  {
   "cell_type": "code",
   "execution_count": 6,
   "id": "a1ae1abd",
   "metadata": {},
   "outputs": [
    {
     "data": {
      "text/plain": [
       "IntHolder(5, var\"#show#5\"{var\"#show#4#6\"{Int64}}(var\"#show#4#6\"{Int64}(5)))"
      ]
     },
     "execution_count": 6,
     "metadata": {},
     "output_type": "execute_result"
    }
   ],
   "source": [
    "ih = IntHolder(5)"
   ]
  },
  {
   "cell_type": "code",
   "execution_count": 7,
   "id": "6b89d031",
   "metadata": {},
   "outputs": [
    {
     "name": "stdout",
     "output_type": "stream",
     "text": [
      "5\n"
     ]
    }
   ],
   "source": [
    "ih.show()"
   ]
  },
  {
   "cell_type": "code",
   "execution_count": 9,
   "id": "dbc7458b",
   "metadata": {},
   "outputs": [
    {
     "data": {
      "text/plain": [
       "_show (generic function with 2 methods)"
      ]
     },
     "execution_count": 9,
     "metadata": {},
     "output_type": "execute_result"
    }
   ],
   "source": [
    "function _show(x::Int64, n::Int64)\n",
    "    [println(x) for i in 1:n]\n",
    "    return\n",
    "end"
   ]
  },
  {
   "cell_type": "code",
   "execution_count": 10,
   "id": "39a6c46d",
   "metadata": {},
   "outputs": [
    {
     "name": "stdout",
     "output_type": "stream",
     "text": [
      "5\n",
      "5\n",
      "5\n",
      "5\n",
      "5\n"
     ]
    }
   ],
   "source": [
    "ih.show(5)"
   ]
  },
  {
   "cell_type": "code",
   "execution_count": null,
   "id": "284bc273",
   "metadata": {},
   "outputs": [],
   "source": []
  }
 ],
 "metadata": {
  "kernelspec": {
   "display_name": "Julia 1.9.2",
   "language": "julia",
   "name": "julia-1.9"
  },
  "language_info": {
   "file_extension": ".jl",
   "mimetype": "application/julia",
   "name": "julia",
   "version": "1.9.2"
  }
 },
 "nbformat": 4,
 "nbformat_minor": 5
}
