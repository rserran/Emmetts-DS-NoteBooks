{
 "cells": [
  {
   "cell_type": "code",
   "execution_count": 1,
   "id": "d8b50bce",
   "metadata": {},
   "outputs": [
    {
     "data": {
      "text/plain": [
       "5-element Vector{Int64}:\n",
       " 1\n",
       " 2\n",
       " 3\n",
       " 4\n",
       " 5"
      ]
     },
     "execution_count": 1,
     "metadata": {},
     "output_type": "execute_result"
    }
   ],
   "source": [
    "intvec = [1, 2, 3, 4, 5]"
   ]
  },
  {
   "cell_type": "code",
   "execution_count": 2,
   "id": "74a35202",
   "metadata": {},
   "outputs": [
    {
     "data": {
      "text/plain": [
       "Int64"
      ]
     },
     "execution_count": 2,
     "metadata": {},
     "output_type": "execute_result"
    }
   ],
   "source": [
    "typeof(intvec).parameters[1]"
   ]
  },
  {
   "cell_type": "code",
   "execution_count": 3,
   "id": "310f3014",
   "metadata": {},
   "outputs": [
    {
     "data": {
      "text/plain": [
       "prt (generic function with 1 method)"
      ]
     },
     "execution_count": 3,
     "metadata": {},
     "output_type": "execute_result"
    }
   ],
   "source": [
    "prt(x::Vector{Int64}) = println(Int64)"
   ]
  },
  {
   "cell_type": "code",
   "execution_count": 4,
   "id": "5f59a24e",
   "metadata": {},
   "outputs": [
    {
     "data": {
      "text/plain": [
       "prt (generic function with 2 methods)"
      ]
     },
     "execution_count": 4,
     "metadata": {},
     "output_type": "execute_result"
    }
   ],
   "source": [
    "prt(x::Vector{<:Number}) = println(typeof(x).parameters[1])"
   ]
  },
  {
   "cell_type": "code",
   "execution_count": 5,
   "id": "1c1204dd",
   "metadata": {},
   "outputs": [
    {
     "name": "stdout",
     "output_type": "stream",
     "text": [
      "Int64\n"
     ]
    }
   ],
   "source": [
    "prt(intvec)"
   ]
  },
  {
   "cell_type": "code",
   "execution_count": 6,
   "id": "92c9add4",
   "metadata": {},
   "outputs": [
    {
     "name": "stdout",
     "output_type": "stream",
     "text": [
      "Float64\n"
     ]
    }
   ],
   "source": [
    "prt([5.5, 5.7])"
   ]
  },
  {
   "cell_type": "code",
   "execution_count": 13,
   "id": "33e132f4",
   "metadata": {},
   "outputs": [],
   "source": [
    "mutable struct ThisStruct{A <: Number}\n",
    "    x::A\n",
    "    ThisStruct(n::Number) = new{typeof(n)}(n)\n",
    "    ThisStruct{T}(n::Number) where {T <: Number} = begin\n",
    "        new{typeof(n)}(n)\n",
    "    end\n",
    "end"
   ]
  },
  {
   "cell_type": "code",
   "execution_count": 17,
   "id": "f2dc8e4c",
   "metadata": {},
   "outputs": [
    {
     "data": {
      "text/plain": [
       "ThisStruct{Int64}(5)"
      ]
     },
     "execution_count": 17,
     "metadata": {},
     "output_type": "execute_result"
    }
   ],
   "source": [
    "ThisStruct{Int64}(5)"
   ]
  },
  {
   "cell_type": "code",
   "execution_count": 15,
   "id": "036eff8f",
   "metadata": {},
   "outputs": [
    {
     "data": {
      "text/plain": [
       "ThisStruct{Int64}(5)"
      ]
     },
     "execution_count": 15,
     "metadata": {},
     "output_type": "execute_result"
    }
   ],
   "source": [
    "ThisStruct(5)"
   ]
  },
  {
   "cell_type": "code",
   "execution_count": 16,
   "id": "6377f313",
   "metadata": {},
   "outputs": [
    {
     "data": {
      "text/plain": [
       "ThisStruct{Int64}(6)"
      ]
     },
     "execution_count": 16,
     "metadata": {},
     "output_type": "execute_result"
    }
   ],
   "source": [
    "ThisStruct{Int64}(6)"
   ]
  },
  {
   "cell_type": "code",
   "execution_count": null,
   "id": "498e0b14",
   "metadata": {},
   "outputs": [],
   "source": []
  }
 ],
 "metadata": {
  "kernelspec": {
   "display_name": "Julia 1.9.2",
   "language": "julia",
   "name": "julia-1.9"
  },
  "language_info": {
   "file_extension": ".jl",
   "mimetype": "application/julia",
   "name": "julia",
   "version": "1.9.2"
  }
 },
 "nbformat": 4,
 "nbformat_minor": 5
}
