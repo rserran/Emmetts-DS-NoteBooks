{
 "cells": [
  {
   "cell_type": "code",
   "execution_count": 2,
   "metadata": {},
   "outputs": [],
   "source": [
    "mutable struct LazyArray\n",
    "    n::Int64\n",
    "    f::Function\n",
    "function LazyArray(is::AbstractArray)\n",
    "        f(x) = x * 1\n",
    "        new(length(is), f)\n",
    "    end\n",
    "    LazyArray(is::Any ...) = LazyArray([i for i in is])\n",
    "end"
   ]
  },
  {
   "cell_type": "code",
   "execution_count": 3,
   "metadata": {},
   "outputs": [],
   "source": [
    "import Base: getindex"
   ]
  },
  {
   "cell_type": "code",
   "execution_count": 4,
   "metadata": {},
   "outputs": [
    {
     "data": {
      "text/plain": [
       "getindex (generic function with 220 methods)"
      ]
     },
     "execution_count": 4,
     "metadata": {},
     "output_type": "execute_result"
    }
   ],
   "source": [
    "function getindex(a::LazyArray, i::Int64)\n",
    "    if i > a.n\n",
    "        throw(IndexError(\"Index outta bounds, yo\"))\n",
    "    end\n",
    "    a.f(i)\n",
    "end"
   ]
  },
  {
   "cell_type": "code",
   "execution_count": 12,
   "metadata": {},
   "outputs": [
    {
     "data": {
      "text/plain": [
       "getindex (generic function with 221 methods)"
      ]
     },
     "execution_count": 12,
     "metadata": {},
     "output_type": "execute_result"
    }
   ],
   "source": [
    "function getindex(a::LazyArray, i::UnitRange)\n",
    "    if i[2] > a.n\n",
    "        throw(IndexError(\"Index outta bounds, yo\"))\n",
    "    end\n",
    "    [a.f(val) for val in i]\n",
    "end"
   ]
  },
  {
   "cell_type": "code",
   "execution_count": 13,
   "metadata": {},
   "outputs": [
    {
     "data": {
      "text/plain": [
       "LazyArray(1000000, var\"#f#1\"())"
      ]
     },
     "execution_count": 13,
     "metadata": {},
     "output_type": "execute_result"
    }
   ],
   "source": [
    "x = Array(1:1000000)\n",
    "lazyx = LazyArray(x)"
   ]
  },
  {
   "cell_type": "code",
   "execution_count": 14,
   "metadata": {},
   "outputs": [
    {
     "data": {
      "text/latex": [
       "\\begin{tabular}\n",
       "{l | r | l}\n",
       "name & size & summary \\\\\n",
       "\\hline\n",
       "Base &  & Module \\\\\n",
       "Core &  & Module \\\\\n",
       "LazyArray & 152 bytes & DataType \\\\\n",
       "Main &  & Module \\\\\n",
       "lazyx & 16 bytes & LazyArray \\\\\n",
       "x & 7.629 MiB & 1000000-element Vector\\{Int64\\} \\\\\n",
       "\\end{tabular}\n"
      ],
      "text/markdown": [
       "| name      |      size | summary                       |\n",
       "|:--------- | ---------:|:----------------------------- |\n",
       "| Base      |           | Module                        |\n",
       "| Core      |           | Module                        |\n",
       "| LazyArray | 152 bytes | DataType                      |\n",
       "| Main      |           | Module                        |\n",
       "| lazyx     |  16 bytes | LazyArray                     |\n",
       "| x         | 7.629 MiB | 1000000-element Vector{Int64} |\n"
      ],
      "text/plain": [
       "  name           size summary                      \n",
       "  ––––––––– ––––––––– –––––––––––––––––––––––––––––\n",
       "  Base                Module                       \n",
       "  Core                Module                       \n",
       "  LazyArray 152 bytes DataType                     \n",
       "  Main                Module                       \n",
       "  lazyx      16 bytes LazyArray                    \n",
       "  x         7.629 MiB 1000000-element Vector{Int64}"
      ]
     },
     "execution_count": 14,
     "metadata": {},
     "output_type": "execute_result"
    }
   ],
   "source": [
    "varinfo()"
   ]
  },
  {
   "cell_type": "code",
   "execution_count": 15,
   "metadata": {},
   "outputs": [
    {
     "data": {
      "text/latex": [
       "\\begin{tabular}\n",
       "{l | r | l}\n",
       "name & size & summary \\\\\n",
       "\\hline\n",
       "Base &  & Module \\\\\n",
       "Core &  & Module \\\\\n",
       "LazyArray & 152 bytes & DataType \\\\\n",
       "Main &  & Module \\\\\n",
       "lazyx & 16 bytes & LazyArray \\\\\n",
       "x & 762.939 MiB & 100000000-element Vector\\{Int64\\} \\\\\n",
       "\\end{tabular}\n"
      ],
      "text/markdown": [
       "| name      |        size | summary                         |\n",
       "|:--------- | -----------:|:------------------------------- |\n",
       "| Base      |             | Module                          |\n",
       "| Core      |             | Module                          |\n",
       "| LazyArray |   152 bytes | DataType                        |\n",
       "| Main      |             | Module                          |\n",
       "| lazyx     |    16 bytes | LazyArray                       |\n",
       "| x         | 762.939 MiB | 100000000-element Vector{Int64} |\n"
      ],
      "text/plain": [
       "  name             size summary                        \n",
       "  ––––––––– ––––––––––– –––––––––––––––––––––––––––––––\n",
       "  Base                  Module                         \n",
       "  Core                  Module                         \n",
       "  LazyArray   152 bytes DataType                       \n",
       "  Main                  Module                         \n",
       "  lazyx        16 bytes LazyArray                      \n",
       "  x         762.939 MiB 100000000-element Vector{Int64}"
      ]
     },
     "execution_count": 15,
     "metadata": {},
     "output_type": "execute_result"
    }
   ],
   "source": [
    "x = Array(1:100000000)\n",
    "lazyx = LazyArray(x)\n",
    "varinfo()"
   ]
  },
  {
   "cell_type": "code",
   "execution_count": 16,
   "metadata": {},
   "outputs": [
    {
     "data": {
      "text/plain": [
       "500"
      ]
     },
     "execution_count": 16,
     "metadata": {},
     "output_type": "execute_result"
    }
   ],
   "source": [
    "x[500]"
   ]
  },
  {
   "cell_type": "code",
   "execution_count": 17,
   "metadata": {},
   "outputs": [
    {
     "data": {
      "text/plain": [
       "500"
      ]
     },
     "execution_count": 17,
     "metadata": {},
     "output_type": "execute_result"
    }
   ],
   "source": [
    "lazyx[500]"
   ]
  },
  {
   "cell_type": "code",
   "execution_count": 19,
   "metadata": {},
   "outputs": [
    {
     "data": {
      "text/plain": [
       "true"
      ]
     },
     "execution_count": 19,
     "metadata": {},
     "output_type": "execute_result"
    }
   ],
   "source": [
    "lazyx[1:1000] == x[1:1000]"
   ]
  },
  {
   "cell_type": "code",
   "execution_count": null,
   "metadata": {},
   "outputs": [],
   "source": []
  },
  {
   "cell_type": "code",
   "execution_count": null,
   "metadata": {},
   "outputs": [],
   "source": []
  }
 ],
 "metadata": {
  "kernelspec": {
   "display_name": "Julia 1.6.3",
   "language": "julia",
   "name": "julia-1.6"
  },
  "language_info": {
   "file_extension": ".jl",
   "mimetype": "application/julia",
   "name": "julia",
   "version": "1.7.1"
  }
 },
 "nbformat": 4,
 "nbformat_minor": 4
}
